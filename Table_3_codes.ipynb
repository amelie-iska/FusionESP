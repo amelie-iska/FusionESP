{
  "cells": [
    {
      "cell_type": "code",
      "execution_count": null,
      "metadata": {
        "colab": {
          "base_uri": "https://localhost:8080/"
        },
        "id": "fdArohyoUXvL",
        "outputId": "04382b77-2fa1-4830-f742-8a515c55251d"
      },
      "outputs": [
        {
          "output_type": "stream",
          "name": "stdout",
          "text": [
            "Using device: cuda\n",
            "Device name: Tesla T4\n",
            "Device memory: 14.74810791015625 GB\n"
          ]
        }
      ],
      "source": [
        "from sklearn.metrics import confusion_matrix\n",
        "from sklearn.metrics import roc_auc_score\n",
        "\n",
        "import numpy as np\n",
        "import pandas as pd\n",
        "\n",
        "from torch.utils.data import TensorDataset\n",
        "from torch.utils.data import DataLoader\n",
        "import torch\n",
        "import torch.nn as nn\n",
        "\n",
        "import warnings\n",
        "from tqdm import tqdm\n",
        "import os\n",
        "from pathlib import Path\n",
        "# Define the device\n",
        "device = \"cuda\" if torch.cuda.is_available() else \"mps\" if  torch.backends.mps.is_available() else \"cpu\" # torch.has_mps or\n",
        "print(\"Using device:\", device)\n",
        "if (device == 'cuda'):\n",
        "    print(f\"Device name: {torch.cuda.get_device_name(device.index)}\")\n",
        "    print(f\"Device memory: {torch.cuda.get_device_properties(device.index).total_memory / 1024 ** 3} GB\")\n",
        "elif (device == 'mps'):\n",
        "    print(f\"Device name: <mps>\")\n",
        "else:\n",
        "    print(\"NOTE: If you have a GPU, consider using it for training.\")\n",
        "    print(\"      On a Windows machine with NVidia GPU, check this video: https://www.youtube.com/watch?v=GMSjDTU8Zlc\")\n",
        "    print(\"      On a Mac machine, run: pip3 install --pre torch torchvision torchaudio torchtext --index-url https://download.pytorch.org/whl/nightly/cpu\")\n",
        "device = torch.device(device)"
      ]
    },
    {
      "cell_type": "code",
      "execution_count": null,
      "metadata": {
        "colab": {
          "base_uri": "https://localhost:8080/"
        },
        "id": "u6e3pRkmUZW-",
        "outputId": "e508958f-5f8e-488b-87be-fcdf1090c672"
      },
      "outputs": [
        {
          "output_type": "stream",
          "name": "stdout",
          "text": [
            "Mounted at /content/drive\n"
          ]
        }
      ],
      "source": [
        "from google.colab import drive\n",
        "drive.mount('/content/drive')\n"
      ]
    },
    {
      "cell_type": "code",
      "execution_count": null,
      "metadata": {
        "id": "G6RDonGvUauE"
      },
      "outputs": [],
      "source": [
        "def run_validation(model, val_loader,loss_fn, device):\n",
        "    model.eval()\n",
        "    loss_sum = 0\n",
        "    num_batch = len(val_loader)\n",
        "    total_y_true=[]\n",
        "    total_y_pred=[]\n",
        "    total_y_prob=[]\n",
        "    for ESP_val_df_enzy,ESP_val_df_smiles, y_val in val_loader:\n",
        "\n",
        "        ESP_val_df_enzy = ESP_val_df_enzy.to(device)\n",
        "        ESP_val_df_smiles = ESP_val_df_smiles.to(device)\n",
        "        y_val = y_val.squeeze(1).to(device)\n",
        "\n",
        "        refined_enzy_embed, refined_smiles_embed = model(ESP_val_df_enzy,ESP_val_df_smiles)\n",
        "        cos_sim = torch.nn.functional.cosine_similarity(refined_enzy_embed, refined_smiles_embed, dim=1)\n",
        "        loss = loss_fn(cos_sim, y_val).detach().cpu().numpy()\n",
        "        loss_sum = loss_sum + loss # count all the loss in the training process\n",
        "        y_pred = (cos_sim > 0.5).float().cpu().numpy() # if score > 0.5, assign label 1 otherwise 0, transfer to cpu as numpy\n",
        "        total_y_true.append(y_val.cpu().numpy())\n",
        "        total_y_pred.append(y_pred)\n",
        "        total_y_prob.append(cos_sim.detach().cpu().numpy())\n",
        "\n",
        "    loss_sum = loss_sum/num_batch # get the overall average loss (Notice: this method is not 100% accurate)\n",
        "\n",
        "    arrange_y_true = np.concatenate(total_y_true, axis=0)\n",
        "    arrange_y_pred = np.concatenate(total_y_pred, axis=0)\n",
        "    arrange_y_prob = np.concatenate(total_y_prob, axis=0)\n",
        "    tn,fp,fn,tp = confusion_matrix(arrange_y_true, arrange_y_pred).ravel()\n",
        "    acc = (tp+tn)/(tp+tn+fp+fn)\n",
        "    specificity = tn/(tn+fp)\n",
        "    sensitivity = tp/(tp+fn)\n",
        "    recall = tp/(tp+fn)\n",
        "    precision = tp/(tp+fp)\n",
        "    bacc = (sensitivity + specificity)/2\n",
        "    MCC = (tp*tn-fp*fn)/np.sqrt((tp+fp)*(tp+fn)*(tn+fp)*(tn+fn))\n",
        "    AUC = roc_auc_score(arrange_y_true, arrange_y_prob)\n",
        "    f1 = 2*precision*recall/(precision+recall)\n",
        "    print(\"loss_sum= \",loss_sum, \"ACC= \",acc, \"bacc= \",bacc, \"precision= \",precision,\"specificity= \",specificity, \"sensitivity= \",sensitivity, \"recall= \",recall, \"MCC= \",MCC, \"AUC= \",AUC, \"f1= \",f1)\n",
        "    return loss_sum, acc, bacc   # , precision, sensitivity, recall, MCC, AUC, f1\n"
      ]
    },
    {
      "cell_type": "markdown",
      "metadata": {
        "id": "vNL1AZVsDuoM"
      },
      "source": [
        "## esm 2560 dimension"
      ]
    },
    {
      "cell_type": "code",
      "execution_count": null,
      "metadata": {
        "id": "NAm6uJVbUF9J"
      },
      "outputs": [],
      "source": [
        "import os\n",
        "os.chdir('/content/drive/MyDrive/EC_number_kroll/esm2_2560_phylo')"
      ]
    },
    {
      "cell_type": "markdown",
      "metadata": {
        "id": "kqthfqyiHY2e"
      },
      "source": [
        "### pretrain"
      ]
    },
    {
      "cell_type": "code",
      "execution_count": null,
      "metadata": {
        "id": "LOFpFE8dHg2Q"
      },
      "outputs": [],
      "source": [
        "def get_ds():\n",
        "    # Load the saved embeddings_results\n",
        "    ESP_train_df_enzy = torch.load('ESP_train_df_enzy_phylo.pt')\n",
        "    ESP_val_df_enzy = torch.load('ESP_val_df_enzy.pt')\n",
        "    ESP_test_df_enzy = torch.load('ESP_test_df_enzy.pt')\n",
        "    print(ESP_train_df_enzy.shape, ESP_val_df_enzy.shape, ESP_test_df_enzy.shape)\n",
        "    # Load the saved embeddings_results\n",
        "    ESP_train_df_smiles = torch.load('ESP_train_df_smiles_phylo.pt')\n",
        "    ESP_val_df_smiles = torch.load('ESP_val_df_smiles.pt')\n",
        "    ESP_test_df_smiles = torch.load('ESP_test_df_smiles.pt')\n",
        "    print(ESP_train_df_smiles.shape, ESP_val_df_smiles.shape, ESP_test_df_smiles.shape)\n",
        "\n",
        "    y_train = torch.load('ESP_train_df_label_phylo.pt')\n",
        "    y_val = torch.load('ESP_val_df_label.pt')\n",
        "    y_test = torch.load('ESP_test_df_label.pt')\n",
        "    print(y_train.shape,y_val.shape, y_test.shape)\n",
        "\n",
        "\n",
        "    train_tensor_dataset = TensorDataset(ESP_train_df_enzy,ESP_train_df_smiles, y_train)\n",
        "    val_tensor_dataset = TensorDataset(ESP_val_df_enzy,ESP_val_df_smiles, y_val)\n",
        "    test_tensor_dataset = TensorDataset(ESP_test_df_enzy, ESP_test_df_smiles, y_test)\n",
        "\n",
        "    # Create TensorDataset and DataLoaders\n",
        "    batch_size = 512\n",
        "    train_loader = DataLoader(train_tensor_dataset, batch_size=batch_size, shuffle=True)\n",
        "    val_loader = DataLoader(val_tensor_dataset, batch_size=batch_size, shuffle=False)\n",
        "    test_loader = DataLoader(test_tensor_dataset, batch_size=batch_size, shuffle=False)\n",
        "    print(len(train_loader))\n",
        "    return train_loader,  val_loader, test_loader\n",
        "\n",
        "\n"
      ]
    },
    {
      "cell_type": "code",
      "execution_count": null,
      "metadata": {
        "id": "0vxwRA1eHg2Q"
      },
      "outputs": [],
      "source": [
        "def run_validation(model, val_loader,loss_fn, device):\n",
        "    model.eval()\n",
        "    loss_sum = 0\n",
        "    num_batch = len(val_loader)\n",
        "    total_y_true=[]\n",
        "    total_y_pred=[]\n",
        "    total_y_prob=[]\n",
        "    for ESP_val_df_enzy,ESP_val_df_smiles, y_val in val_loader:\n",
        "\n",
        "        ESP_val_df_enzy = ESP_val_df_enzy.to(device)\n",
        "        ESP_val_df_smiles = ESP_val_df_smiles.to(device)\n",
        "        y_val = y_val.squeeze(1).to(device)\n",
        "\n",
        "        refined_enzy_embed, refined_smiles_embed = model(ESP_val_df_enzy,ESP_val_df_smiles)\n",
        "        cos_sim = torch.nn.functional.cosine_similarity(refined_enzy_embed, refined_smiles_embed, dim=1)\n",
        "        loss = loss_fn(cos_sim, y_val).detach().cpu().numpy()\n",
        "        loss_sum = loss_sum + loss # count all the loss in the training process\n",
        "        y_pred = (cos_sim > 0.5).float().cpu().numpy() # if score > 0.5, assign label 1 otherwise 0, transfer to cpu as numpy\n",
        "        total_y_true.append(y_val.cpu().numpy())\n",
        "        total_y_pred.append(y_pred)\n",
        "        total_y_prob.append(cos_sim.detach().cpu().numpy())\n",
        "\n",
        "    loss_sum = loss_sum/num_batch # get the overall average loss (Notice: this method is not 100% accurate)\n",
        "\n",
        "    arrange_y_true = np.concatenate(total_y_true, axis=0)\n",
        "    arrange_y_pred = np.concatenate(total_y_pred, axis=0)\n",
        "    arrange_y_prob = np.concatenate(total_y_prob, axis=0)\n",
        "    tn,fp,fn,tp = confusion_matrix(arrange_y_true, arrange_y_pred).ravel()\n",
        "    acc = (tp+tn)/(tp+tn+fp+fn)\n",
        "    specificity = tn/(tn+fp)\n",
        "    sensitivity = tp/(tp+fn)\n",
        "    precision = tp/(tp+fp)\n",
        "    bacc = (sensitivity + specificity)/2\n",
        "    recall = tp/(tp+fn)\n",
        "    MCC = (tp*tn-fp*fn)/np.sqrt((tp+fp)*(tp+fn)*(tn+fp)*(tn+fn))\n",
        "    AUC = roc_auc_score(arrange_y_true, arrange_y_prob)\n",
        "    f1 = 2*precision*recall/(precision+recall)\n",
        "    print(loss_sum, acc, bacc, precision, sensitivity, recall, MCC, AUC, f1)\n",
        "    return loss_sum, acc, bacc   # , precision, sensitivity, recall, MCC, AUC, f1\n"
      ]
    },
    {
      "cell_type": "code",
      "execution_count": null,
      "metadata": {
        "id": "MOnpUngLHg2Q"
      },
      "outputs": [],
      "source": [
        "import torch\n",
        "import torch.nn as nn\n",
        "\n",
        "class Contrastive_learning_layer(nn.Module):\n",
        "    def __init__(self):\n",
        "        super().__init__()\n",
        "        self.enzy_refine_layer_1 = nn.Linear(2560, 2560) # W1 and b\n",
        "        self.smiles_refine_layer_1 = nn.Linear(768, 768) # W1 and b\n",
        "        self.enzy_refine_layer_2 = nn.Linear(2560, 128) # W1 and b\n",
        "        self.smiles_refine_layer_2 = nn.Linear(768, 128) # W1 and b\n",
        "\n",
        "        self.relu = nn.ReLU()\n",
        "        self.batch_norm_enzy = nn.BatchNorm1d(2560)\n",
        "        self.batch_norm_smiles = nn.BatchNorm1d(768)\n",
        "        self.batch_norm_shared = nn.BatchNorm1d(128)\n",
        "\n",
        "    def forward(self, enzy_embed, smiles_embed):\n",
        "        refined_enzy_embed = self.enzy_refine_layer_1(enzy_embed)\n",
        "        refined_smiles_embed = self.smiles_refine_layer_1(smiles_embed)\n",
        "\n",
        "        refined_enzy_embed = self.batch_norm_enzy(refined_enzy_embed)\n",
        "        refined_smiles_embed = self.batch_norm_smiles(refined_smiles_embed)\n",
        "\n",
        "        refined_enzy_embed = self.relu(refined_enzy_embed)\n",
        "        refined_smiles_embed = self.relu(refined_smiles_embed)\n",
        "\n",
        "        refined_enzy_embed = self.enzy_refine_layer_2(refined_enzy_embed)\n",
        "        refined_smiles_embed = self.smiles_refine_layer_2(refined_smiles_embed)\n",
        "\n",
        "        refined_enzy_embed = self.batch_norm_shared(refined_enzy_embed)\n",
        "        refined_smiles_embed = self.batch_norm_shared(refined_smiles_embed)\n",
        "        refined_enzy_embed = torch.nn.functional.normalize(refined_enzy_embed, dim=1)\n",
        "        refined_smiles_embed = torch.nn.functional.normalize(refined_smiles_embed, dim=1)\n",
        "\n",
        "        return refined_enzy_embed, refined_smiles_embed\n"
      ]
    },
    {
      "cell_type": "code",
      "execution_count": null,
      "metadata": {
        "colab": {
          "base_uri": "https://localhost:8080/"
        },
        "id": "emAon9ccDKbY",
        "outputId": "9fd94b53-d695-4259-9510-24a92b764128"
      },
      "outputs": [
        {
          "name": "stdout",
          "output_type": "stream",
          "text": [
            "torch.Size([764449, 2560]) torch.Size([5399, 2560]) torch.Size([13312, 2560])\n",
            "torch.Size([764449, 768]) torch.Size([5399, 768]) torch.Size([13312, 768])\n",
            "torch.Size([764449, 1]) torch.Size([5399, 1]) torch.Size([13312, 1])\n",
            "1494\n"
          ]
        }
      ],
      "source": [
        "# design the model, optimizer and loss function\n",
        "model = Contrastive_learning_layer().to(device)\n",
        "train_loader,  val_loader, test_loader = get_ds()\n",
        "optimizer = torch.optim.Adam(model.parameters(),lr= 1e-03)\n",
        "loss_fn = nn.MSELoss().to(device)"
      ]
    },
    {
      "cell_type": "code",
      "execution_count": null,
      "metadata": {
        "colab": {
          "base_uri": "https://localhost:8080/"
        },
        "id": "6MRwFIYeHg2Q",
        "outputId": "e0b699fb-9bd0-4f3c-b8a3-b71947f045d2"
      },
      "outputs": [
        {
          "name": "stderr",
          "output_type": "stream",
          "text": [
            "Epoch 0: 100%|██████████| 1494/1494 [00:26<00:00, 56.81batch/s, train_loss=tensor(0.0205, device='cuda:0', grad_fn=<MseLossBackward0>)]\n"
          ]
        },
        {
          "name": "stdout",
          "output_type": "stream",
          "text": [
            "0.07649002935398709 0.909798110761252 0.8550046353932138 0.901541095890411 0.7389473684210527 0.7389473684210527 0.7600504998538069 0.9432958970148067 0.8121866563825685\n",
            "Epoch: 0 / 500, ############## the best accuracy in val  50.0000 at Epoch: -1  ##############\n",
            "Performance in Val: Loss: (0.0765); Accuracy (90.98)\n"
          ]
        },
        {
          "name": "stderr",
          "output_type": "stream",
          "text": [
            "Epoch 1: 100%|██████████| 1494/1494 [00:25<00:00, 58.03batch/s, train_loss=tensor(0.0165, device='cuda:0', grad_fn=<MseLossBackward0>)]\n"
          ]
        },
        {
          "name": "stdout",
          "output_type": "stream",
          "text": [
            "0.06623296388848261 0.9229486942026301 0.8794667973406087 0.908502024291498 0.7873684210526316 0.7873684210526316 0.7964092616668204 0.9544565111823343 0.843609022556391\n",
            "Epoch: 1 / 500, ############## the best accuracy in val  90.9798 at Epoch: 0  ##############\n",
            "Performance in Val: Loss: (0.0662); Accuracy (92.29)\n"
          ]
        },
        {
          "name": "stderr",
          "output_type": "stream",
          "text": [
            "Epoch 2: 100%|██████████| 1494/1494 [00:25<00:00, 58.33batch/s, train_loss=tensor(0.0335, device='cuda:0', grad_fn=<MseLossBackward0>)]\n"
          ]
        },
        {
          "name": "stdout",
          "output_type": "stream",
          "text": [
            "0.06021575883708217 0.9305426930913132 0.8913771091039122 0.9186602870813397 0.8084210526315789 0.8084210526315789 0.8170257504625569 0.9603032871559877 0.8600223964165733\n",
            "Epoch: 2 / 500, ############## the best accuracy in val  92.2949 at Epoch: 1  ##############\n",
            "Performance in Val: Loss: (0.0602); Accuracy (93.05)\n"
          ]
        },
        {
          "name": "stderr",
          "output_type": "stream",
          "text": [
            "Epoch 3: 100%|██████████| 1494/1494 [00:25<00:00, 58.25batch/s, train_loss=tensor(0.0237, device='cuda:0', grad_fn=<MseLossBackward0>)]\n"
          ]
        },
        {
          "name": "stdout",
          "output_type": "stream",
          "text": [
            "0.05841716666790572 0.9342470827931099 0.8974944154548424 0.9225908372827805 0.8196491228070175 0.8196491228070175 0.8270520361967393 0.9585155263599361 0.8680787811222594\n",
            "Epoch: 3 / 500, ############## the best accuracy in val  93.0543 at Epoch: 2  ##############\n",
            "Performance in Val: Loss: (0.0584); Accuracy (93.42)\n"
          ]
        },
        {
          "name": "stderr",
          "output_type": "stream",
          "text": [
            "Epoch 4: 100%|██████████| 1494/1494 [00:25<00:00, 57.99batch/s, train_loss=tensor(0.0290, device='cuda:0', grad_fn=<MseLossBackward0>)]\n"
          ]
        },
        {
          "name": "stdout",
          "output_type": "stream",
          "text": [
            "0.05704830451445146 0.935173180218559 0.8969982076479572 0.929656274980016 0.8161403508771929 0.8161403508771929 0.8294531800818049 0.9596659868089954 0.8692077727952167\n",
            "Epoch: 4 / 500, ############## the best accuracy in val  93.4247 at Epoch: 3  ##############\n",
            "Performance in Val: Loss: (0.0570); Accuracy (93.52)\n"
          ]
        },
        {
          "name": "stderr",
          "output_type": "stream",
          "text": [
            "Epoch 5: 100%|██████████| 1494/1494 [00:25<00:00, 58.17batch/s, train_loss=tensor(0.0109, device='cuda:0', grad_fn=<MseLossBackward0>)]\n"
          ]
        },
        {
          "name": "stdout",
          "output_type": "stream",
          "text": [
            "0.054445759816603226 0.9379514724949065 0.9002358311480765 0.936698717948718 0.8203508771929825 0.8203508771929825 0.8369194599778531 0.9613635119504851 0.8746726524504302\n",
            "Epoch: 5 / 500, ############## the best accuracy in val  93.5173 at Epoch: 4  ##############\n",
            "Performance in Val: Loss: (0.0544); Accuracy (93.80)\n"
          ]
        },
        {
          "name": "stderr",
          "output_type": "stream",
          "text": [
            "Epoch 6: 100%|██████████| 1494/1494 [00:25<00:00, 57.78batch/s, train_loss=tensor(0.0135, device='cuda:0', grad_fn=<MseLossBackward0>)]\n"
          ]
        },
        {
          "name": "stdout",
          "output_type": "stream",
          "text": [
            "0.05400396646423773 0.9377662530098166 0.9001100133322739 0.9359487590072058 0.8203508771929825 0.8203508771929825 0.8364221246295728 0.9603608543250426 0.8743455497382199\n",
            "Epoch: 6 / 500, ############## the best accuracy in val  93.7951 at Epoch: 5  ##############\n",
            "Performance in Val: Loss: (0.0540); Accuracy (93.78)\n"
          ]
        },
        {
          "name": "stderr",
          "output_type": "stream",
          "text": [
            "Epoch 7: 100%|██████████| 1494/1494 [00:25<00:00, 57.83batch/s, train_loss=tensor(0.0069, device='cuda:0', grad_fn=<MseLossBackward0>)]\n"
          ]
        },
        {
          "name": "stdout",
          "output_type": "stream",
          "text": [
            "0.052760320800271904 0.9394332283756252 0.9043932049550146 0.9329652996845426 0.8301754385964912 0.8301754385964912 0.8409457585280653 0.9613746368941983 0.8785740809506126\n",
            "Epoch: 7 / 500, ############## the best accuracy in val  93.7951 at Epoch: 5  ##############\n",
            "Performance in Val: Loss: (0.0528); Accuracy (93.94)\n"
          ]
        },
        {
          "name": "stderr",
          "output_type": "stream",
          "text": [
            "Epoch 8: 100%|██████████| 1494/1494 [00:25<00:00, 58.10batch/s, train_loss=tensor(0.0205, device='cuda:0', grad_fn=<MseLossBackward0>)]\n"
          ]
        },
        {
          "name": "stdout",
          "output_type": "stream",
          "text": [
            "0.052298993126235226 0.9405445452861642 0.9053731712270107 0.9367088607594937 0.8308771929824561 0.8308771929824561 0.8439079297660266 0.9611231778490008 0.8806247675715879\n",
            "Epoch: 8 / 500, ############## the best accuracy in val  93.9433 at Epoch: 7  ##############\n",
            "Performance in Val: Loss: (0.0523); Accuracy (94.05)\n"
          ]
        },
        {
          "name": "stderr",
          "output_type": "stream",
          "text": [
            "Epoch 9: 100%|██████████| 1494/1494 [00:25<00:00, 58.44batch/s, train_loss=tensor(0.0157, device='cuda:0', grad_fn=<MseLossBackward0>)]\n"
          ]
        },
        {
          "name": "stdout",
          "output_type": "stream",
          "text": [
            "0.05099992352453145 0.9418410816817929 0.9082794303322473 0.9356862745098039 0.8371929824561404 0.8371929824561404 0.847411666369518 0.960919750306819 0.8837037037037038\n",
            "Epoch: 9 / 500, ############## the best accuracy in val  94.0545 at Epoch: 8  ##############\n",
            "Performance in Val: Loss: (0.0510); Accuracy (94.18)\n"
          ]
        },
        {
          "name": "stderr",
          "output_type": "stream",
          "text": [
            "Epoch 10: 100%|██████████| 1494/1494 [00:25<00:00, 58.54batch/s, train_loss=tensor(0.0159, device='cuda:0', grad_fn=<MseLossBackward0>)]\n"
          ]
        },
        {
          "name": "stdout",
          "output_type": "stream",
          "text": [
            "0.051219691607085144 0.9399888868308947 0.9054458365339619 0.9331235247836349 0.832280701754386 0.832280701754386 0.842445053646761 0.9614586920244749 0.8798219584569733\n",
            "Epoch: 10 / 500, ############## the best accuracy in val  94.1841 at Epoch: 9  ##############\n",
            "Performance in Val: Loss: (0.0512); Accuracy (94.00)\n"
          ]
        },
        {
          "name": "stderr",
          "output_type": "stream",
          "text": [
            "Epoch 11: 100%|██████████| 1494/1494 [00:25<00:00, 57.93batch/s, train_loss=tensor(0.0487, device='cuda:0', grad_fn=<MseLossBackward0>)]\n"
          ]
        },
        {
          "name": "stdout",
          "output_type": "stream",
          "text": [
            "0.0509248480878093 0.9409149842563438 0.9058498662357959 0.9375 0.8315789473684211 0.8315789473684211 0.8449003158599954 0.9582757220176763 0.8813685384901452\n",
            "Epoch: 11 / 500, ############## the best accuracy in val  94.1841 at Epoch: 9  ##############\n",
            "Performance in Val: Loss: (0.0509); Accuracy (94.09)\n"
          ]
        },
        {
          "name": "stderr",
          "output_type": "stream",
          "text": [
            "Epoch 12: 100%|██████████| 1494/1494 [00:25<00:00, 58.13batch/s, train_loss=tensor(0.0102, device='cuda:0', grad_fn=<MseLossBackward0>)]\n"
          ]
        },
        {
          "name": "stdout",
          "output_type": "stream",
          "text": [
            "0.05026796036823229 0.9422115206519726 0.908306006586673 0.937844217151849 0.8364912280701754 0.8364912280701754 0.8483879833709714 0.9607108485859843 0.884272997032641\n",
            "Epoch: 12 / 500, ############## the best accuracy in val  94.1841 at Epoch: 9  ##############\n",
            "Performance in Val: Loss: (0.0503); Accuracy (94.22)\n"
          ]
        },
        {
          "name": "stderr",
          "output_type": "stream",
          "text": [
            "Epoch 13: 100%|██████████| 1494/1494 [00:25<00:00, 58.05batch/s, train_loss=tensor(0.0253, device='cuda:0', grad_fn=<MseLossBackward0>)]\n"
          ]
        },
        {
          "name": "stdout",
          "output_type": "stream",
          "text": [
            "0.04929777912118218 0.9448045934432302 0.9120929904025288 0.9419607843137255 0.8428070175438597 0.8428070175438597 0.855326969110407 0.9602715016025216 0.8896296296296297\n",
            "Epoch: 13 / 500, ############## the best accuracy in val  94.2212 at Epoch: 12  ##############\n",
            "Performance in Val: Loss: (0.0493); Accuracy (94.48)\n"
          ]
        },
        {
          "name": "stderr",
          "output_type": "stream",
          "text": [
            "Epoch 14: 100%|██████████| 1494/1494 [00:25<00:00, 58.14batch/s, train_loss=tensor(0.0202, device='cuda:0', grad_fn=<MseLossBackward0>)]\n"
          ]
        },
        {
          "name": "stdout",
          "output_type": "stream",
          "text": [
            "0.04964779088781639 0.9438784960177811 0.9116889607006948 0.9375975039001561 0.8435087719298245 0.8435087719298245 0.8528764739246758 0.9626291067376544 0.8880679719246399\n",
            "Epoch: 14 / 500, ############## the best accuracy in val  94.4805 at Epoch: 13  ##############\n",
            "Performance in Val: Loss: (0.0496); Accuracy (94.39)\n"
          ]
        },
        {
          "name": "stderr",
          "output_type": "stream",
          "text": [
            "Epoch 15: 100%|██████████| 1494/1494 [00:25<00:00, 57.91batch/s, train_loss=tensor(0.0082, device='cuda:0', grad_fn=<MseLossBackward0>)]\n"
          ]
        },
        {
          "name": "stdout",
          "output_type": "stream",
          "text": [
            "0.04964182297275825 0.9420263011668828 0.9081801887708703 0.9371069182389937 0.8364912280701754 0.8364912280701754 0.8478958142549042 0.9611765069442606 0.8839451242120876\n",
            "Epoch: 15 / 500, ############## the best accuracy in val  94.4805 at Epoch: 13  ##############\n",
            "Performance in Val: Loss: (0.0496); Accuracy (94.20)\n"
          ]
        },
        {
          "name": "stderr",
          "output_type": "stream",
          "text": [
            "Epoch 16: 100%|██████████| 1494/1494 [00:26<00:00, 57.19batch/s, train_loss=tensor(0.0110, device='cuda:0', grad_fn=<MseLossBackward0>)]\n"
          ]
        },
        {
          "name": "stdout",
          "output_type": "stream",
          "text": [
            "0.0500501792200587 0.9433228375625116 0.9115365666304664 0.9347319347319347 0.8442105263157895 0.8442105263157895 0.8514202258229269 0.9583756699246859 0.8871681415929205\n",
            "Epoch: 16 / 500, ############## the best accuracy in val  94.4805 at Epoch: 13  ##############\n",
            "Performance in Val: Loss: (0.0501); Accuracy (94.33)\n"
          ]
        },
        {
          "name": "stderr",
          "output_type": "stream",
          "text": [
            "Epoch 17: 100%|██████████| 1494/1494 [00:25<00:00, 57.65batch/s, train_loss=tensor(0.0148, device='cuda:0', grad_fn=<MseLossBackward0>)]\n"
          ]
        },
        {
          "name": "stdout",
          "output_type": "stream",
          "text": [
            "0.049369212832640515 0.9440637155028709 0.9104644222534192 0.9424743892829 0.8392982456140351 0.8392982456140351 0.8533379146073331 0.9577911689137287 0.8878990348923533\n",
            "Epoch: 17 / 500, ############## the best accuracy in val  94.4805 at Epoch: 13  ##############\n",
            "Performance in Val: Loss: (0.0494); Accuracy (94.41)\n"
          ]
        },
        {
          "name": "stderr",
          "output_type": "stream",
          "text": [
            "Epoch 18: 100%|██████████| 1494/1494 [00:25<00:00, 57.60batch/s, train_loss=tensor(0.0226, device='cuda:0', grad_fn=<MseLossBackward0>)]\n"
          ]
        },
        {
          "name": "stdout",
          "output_type": "stream",
          "text": [
            "0.04896776776083491 0.9436932765326912 0.9106629053761732 0.9396078431372549 0.840701754385965 0.840701754385965 0.8523587305825736 0.9606635234286017 0.8874074074074075\n",
            "Epoch: 18 / 500, ############## the best accuracy in val  94.4805 at Epoch: 13  ##############\n",
            "Performance in Val: Loss: (0.0490); Accuracy (94.37)\n"
          ]
        },
        {
          "name": "stderr",
          "output_type": "stream",
          "text": [
            "Epoch 19: 100%|██████████| 1494/1494 [00:25<00:00, 57.85batch/s, train_loss=tensor(0.0175, device='cuda:0', grad_fn=<MseLossBackward0>)]\n"
          ]
        },
        {
          "name": "stdout",
          "output_type": "stream",
          "text": [
            "0.050148360431194305 0.9449898129283201 0.9128939863498706 0.940625 0.8449122807017544 0.8449122807017544 0.8558330149813796 0.9588886534403446 0.890203327171904\n",
            "Epoch: 19 / 500, ############## the best accuracy in val  94.4805 at Epoch: 13  ##############\n",
            "Performance in Val: Loss: (0.0501); Accuracy (94.50)\n"
          ]
        },
        {
          "name": "stderr",
          "output_type": "stream",
          "text": [
            "Epoch 20: 100%|██████████| 1494/1494 [00:25<00:00, 57.78batch/s, train_loss=tensor(0.0089, device='cuda:0', grad_fn=<MseLossBackward0>)]\n"
          ]
        },
        {
          "name": "stdout",
          "output_type": "stream",
          "text": [
            "0.04862812974236228 0.9442489349879607 0.9096900025605029 0.946031746031746 0.8364912280701754 0.8364912280701754 0.853834580195798 0.9629619721170062 0.8878957169459961\n",
            "Epoch: 20 / 500, ############## the best accuracy in val  94.4990 at Epoch: 19  ##############\n",
            "Performance in Val: Loss: (0.0486); Accuracy (94.42)\n"
          ]
        },
        {
          "name": "stderr",
          "output_type": "stream",
          "text": [
            "Epoch 21: 100%|██████████| 1494/1494 [00:25<00:00, 58.35batch/s, train_loss=tensor(0.0244, device='cuda:0', grad_fn=<MseLossBackward0>)]\n"
          ]
        },
        {
          "name": "stdout",
          "output_type": "stream",
          "text": [
            "0.048899314112283966 0.9453602518984997 0.9133706813586557 0.94140625 0.8456140350877193 0.8456140350877193 0.8568210926480025 0.9601886825771021 0.8909426987060999\n",
            "Epoch: 21 / 500, ############## the best accuracy in val  94.4990 at Epoch: 19  ##############\n",
            "Performance in Val: Loss: (0.0489); Accuracy (94.54)\n"
          ]
        },
        {
          "name": "stderr",
          "output_type": "stream",
          "text": [
            "Epoch 22: 100%|██████████| 1494/1494 [00:25<00:00, 58.16batch/s, train_loss=tensor(0.0154, device='cuda:0', grad_fn=<MseLossBackward0>)]\n"
          ]
        },
        {
          "name": "stdout",
          "output_type": "stream",
          "text": [
            "0.049291283315555615 0.9457306908686793 0.9124970201043625 0.9463722397476341 0.8421052631578947 0.8421052631578947 0.8577978443055643 0.9570680475723784 0.8911994058670628\n",
            "Epoch: 22 / 500, ############## the best accuracy in val  94.5360 at Epoch: 21  ##############\n",
            "Performance in Val: Loss: (0.0493); Accuracy (94.57)\n"
          ]
        },
        {
          "name": "stderr",
          "output_type": "stream",
          "text": [
            "Epoch 23: 100%|██████████| 1494/1494 [00:25<00:00, 58.17batch/s, train_loss=tensor(0.0263, device='cuda:0', grad_fn=<MseLossBackward0>)]\n"
          ]
        },
        {
          "name": "stdout",
          "output_type": "stream",
          "text": [
            "0.04901218769902533 0.9459159103537692 0.9132980160517046 0.9450117831893166 0.8442105263157895 0.8442105263157895 0.8582935841395255 0.9573422862642262 0.8917716827279466\n",
            "Epoch: 23 / 500, ############## the best accuracy in val  94.5731 at Epoch: 22  ##############\n",
            "Performance in Val: Loss: (0.0490); Accuracy (94.59)\n"
          ]
        },
        {
          "name": "stderr",
          "output_type": "stream",
          "text": [
            "Epoch 24: 100%|██████████| 1494/1494 [00:25<00:00, 57.93batch/s, train_loss=tensor(0.0079, device='cuda:0', grad_fn=<MseLossBackward0>)]\n"
          ]
        },
        {
          "name": "stdout",
          "output_type": "stream",
          "text": [
            "0.04797435098920356 0.9473976662344878 0.9161050335955642 0.9453551912568307 0.8498245614035088 0.8498245614035088 0.8622567298057096 0.9609315815961645 0.8950480413895049\n",
            "Epoch: 24 / 500, ############## the best accuracy in val  94.5916 at Epoch: 23  ##############\n",
            "Performance in Val: Loss: (0.0480); Accuracy (94.74)\n"
          ]
        },
        {
          "name": "stderr",
          "output_type": "stream",
          "text": [
            "Epoch 25: 100%|██████████| 1494/1494 [00:25<00:00, 57.90batch/s, train_loss=tensor(0.0099, device='cuda:0', grad_fn=<MseLossBackward0>)]\n"
          ]
        },
        {
          "name": "stdout",
          "output_type": "stream",
          "text": [
            "0.0483531872741878 0.9457306908686793 0.9133972576130815 0.9435736677115988 0.8449122807017544 0.8449122807017544 0.8578017855701728 0.9614406802108442 0.8915216586449463\n",
            "Epoch: 25 / 500, ############## the best accuracy in val  94.7398 at Epoch: 24  ##############\n",
            "Performance in Val: Loss: (0.0484); Accuracy (94.57)\n"
          ]
        },
        {
          "name": "stderr",
          "output_type": "stream",
          "text": [
            "Epoch 26: 100%|██████████| 1494/1494 [00:25<00:00, 57.77batch/s, train_loss=tensor(0.0094, device='cuda:0', grad_fn=<MseLossBackward0>)]\n"
          ]
        },
        {
          "name": "stdout",
          "output_type": "stream",
          "text": [
            "0.048280172303996303 0.9455454713835896 0.9130463804200991 0.9435294117647058 0.8442105263157895 0.8442105263157895 0.8573057947956292 0.960894145277638 0.8911111111111111\n",
            "Epoch: 26 / 500, ############## the best accuracy in val  94.7398 at Epoch: 24  ##############\n",
            "Performance in Val: Loss: (0.0483); Accuracy (94.55)\n"
          ]
        },
        {
          "name": "stderr",
          "output_type": "stream",
          "text": [
            "Epoch 27: 100%|██████████| 1494/1494 [00:25<00:00, 58.00batch/s, train_loss=tensor(0.0096, device='cuda:0', grad_fn=<MseLossBackward0>)]\n"
          ]
        },
        {
          "name": "stdout",
          "output_type": "stream",
          "text": [
            "0.04924470135434107 0.9438784960177811 0.9101135450604367 0.942429022082019 0.8385964912280702 0.8385964912280702 0.8528413484886528 0.957389964594425 0.8874860750092833\n",
            "Epoch: 27 / 500, ############## the best accuracy in val  94.7398 at Epoch: 24  ##############\n",
            "Performance in Val: Loss: (0.0492); Accuracy (94.39)\n"
          ]
        },
        {
          "name": "stderr",
          "output_type": "stream",
          "text": [
            "Epoch 28: 100%|██████████| 1494/1494 [00:25<00:00, 58.12batch/s, train_loss=tensor(0.0095, device='cuda:0', grad_fn=<MseLossBackward0>)]\n"
          ]
        },
        {
          "name": "stdout",
          "output_type": "stream",
          "text": [
            "0.048643661493604835 0.9431376180774217 0.9089350956656865 0.9415481832543444 0.8364912280701754 0.8364912280701754 0.8508562394659279 0.9584489532840658 0.8859160163507989\n",
            "Epoch: 28 / 500, ############## the best accuracy in val  94.7398 at Epoch: 24  ##############\n",
            "Performance in Val: Loss: (0.0486); Accuracy (94.31)\n"
          ]
        },
        {
          "name": "stderr",
          "output_type": "stream",
          "text": [
            "Epoch 29: 100%|██████████| 1494/1494 [00:25<00:00, 57.78batch/s, train_loss=tensor(0.0290, device='cuda:0', grad_fn=<MseLossBackward0>)]\n"
          ]
        },
        {
          "name": "stdout",
          "output_type": "stream",
          "text": [
            "0.04818552639335394 0.9455454713835896 0.9132714397972788 0.9428347689898199 0.8449122807017544 0.8449122807017544 0.8573088562406859 0.9603859295949991 0.8911917098445595\n",
            "Epoch: 29 / 500, ############## the best accuracy in val  94.7398 at Epoch: 24  ##############\n",
            "Performance in Val: Loss: (0.0482); Accuracy (94.55)\n"
          ]
        },
        {
          "name": "stderr",
          "output_type": "stream",
          "text": [
            "Epoch 30: 100%|██████████| 1494/1494 [00:25<00:00, 57.96batch/s, train_loss=tensor(0.0104, device='cuda:0', grad_fn=<MseLossBackward0>)]\n"
          ]
        },
        {
          "name": "stdout",
          "output_type": "stream",
          "text": [
            "0.048527257135984575 0.9442489349879607 0.9105902400692218 0.943217665615142 0.8392982456140351 0.8392982456140351 0.8538326476520351 0.9585192346745071 0.8882287411808393\n",
            "Epoch: 30 / 500, ############## the best accuracy in val  94.7398 at Epoch: 24  ##############\n",
            "Performance in Val: Loss: (0.0485); Accuracy (94.42)\n"
          ]
        },
        {
          "name": "stderr",
          "output_type": "stream",
          "text": [
            "Epoch 31: 100%|██████████| 1494/1494 [00:25<00:00, 57.97batch/s, train_loss=tensor(0.0089, device='cuda:0', grad_fn=<MseLossBackward0>)]\n"
          ]
        },
        {
          "name": "stdout",
          "output_type": "stream",
          "text": [
            "0.04835473390465433 0.9462863493239488 0.9135496516833099 0.946498819826908 0.8442105263157895 0.8442105263157895 0.8592833545320236 0.9572908996194562 0.892433234421365\n",
            "Epoch: 31 / 500, ############## the best accuracy in val  94.7398 at Epoch: 24  ##############\n",
            "Performance in Val: Loss: (0.0484); Accuracy (94.63)\n"
          ]
        },
        {
          "name": "stderr",
          "output_type": "stream",
          "text": [
            "Epoch 32: 100%|██████████| 1494/1494 [00:25<00:00, 57.60batch/s, train_loss=tensor(0.0089, device='cuda:0', grad_fn=<MseLossBackward0>)]\n"
          ]
        },
        {
          "name": "stdout",
          "output_type": "stream",
          "text": [
            "0.04830165393650532 0.9435080570476014 0.9098619094288313 0.9409448818897638 0.8385964912280702 0.8385964912280702 0.8518529197221789 0.9580337986385188 0.8868274582560297\n",
            "Epoch: 32 / 500, ############## the best accuracy in val  94.7398 at Epoch: 24  ##############\n",
            "Performance in Val: Loss: (0.0483); Accuracy (94.35)\n"
          ]
        },
        {
          "name": "stderr",
          "output_type": "stream",
          "text": [
            "Epoch 33: 100%|██████████| 1494/1494 [00:25<00:00, 58.04batch/s, train_loss=tensor(0.0159, device='cuda:0', grad_fn=<MseLossBackward0>)]\n"
          ]
        },
        {
          "name": "stdout",
          "output_type": "stream",
          "text": [
            "0.04859239083122124 0.9464715688090387 0.9141255882534721 0.945839874411303 0.8456140350877193 0.8456140350877193 0.8597788045119348 0.957091003805437 0.8929233049277511\n",
            "Epoch: 33 / 500, ############## the best accuracy in val  94.7398 at Epoch: 24  ##############\n",
            "Performance in Val: Loss: (0.0486); Accuracy (94.65)\n"
          ]
        },
        {
          "name": "stderr",
          "output_type": "stream",
          "text": [
            "Epoch 34: 100%|██████████| 1494/1494 [00:25<00:00, 57.64batch/s, train_loss=tensor(0.0056, device='cuda:0', grad_fn=<MseLossBackward0>)]\n"
          ]
        },
        {
          "name": "stdout",
          "output_type": "stream",
          "text": [
            "0.0479619274423881 0.9466567882941286 0.9138012873149154 0.9479905437352246 0.8442105263157895 0.8442105263157895 0.860275113834664 0.9587067694399561 0.8930957683741648\n",
            "Epoch: 34 / 500, ############## the best accuracy in val  94.7398 at Epoch: 24  ##############\n",
            "Performance in Val: Loss: (0.0480); Accuracy (94.67)\n"
          ]
        },
        {
          "name": "stderr",
          "output_type": "stream",
          "text": [
            "Epoch 35: 100%|██████████| 1494/1494 [00:25<00:00, 58.00batch/s, train_loss=tensor(0.0107, device='cuda:0', grad_fn=<MseLossBackward0>)]\n"
          ]
        },
        {
          "name": "stdout",
          "output_type": "stream",
          "text": [
            "0.04768322619863532 0.9473976662344878 0.9149797367096655 0.9488591660110149 0.8463157894736842 0.8463157894736842 0.8622548193941288 0.9574745494839263 0.8946587537091988\n",
            "Epoch: 35 / 500, ############## the best accuracy in val  94.7398 at Epoch: 24  ##############\n",
            "Performance in Val: Loss: (0.0477); Accuracy (94.74)\n"
          ]
        },
        {
          "name": "stderr",
          "output_type": "stream",
          "text": [
            "Epoch 36: 100%|██████████| 1494/1494 [00:25<00:00, 57.71batch/s, train_loss=tensor(0.0092, device='cuda:0', grad_fn=<MseLossBackward0>)]\n"
          ]
        },
        {
          "name": "stdout",
          "output_type": "stream",
          "text": [
            "0.04832104923711582 0.9462863493239488 0.9137747110604897 0.9457973291437549 0.8449122807017544 0.8449122807017544 0.8592835338894427 0.9575444777015514 0.8925129725722757\n",
            "Epoch: 36 / 500, ############## the best accuracy in val  94.7398 at Epoch: 24  ##############\n",
            "Performance in Val: Loss: (0.0483); Accuracy (94.63)\n"
          ]
        },
        {
          "name": "stderr",
          "output_type": "stream",
          "text": [
            "Epoch 37: 100%|██████████| 1494/1494 [00:25<00:00, 57.81batch/s, train_loss=tensor(0.0200, device='cuda:0', grad_fn=<MseLossBackward0>)]\n"
          ]
        },
        {
          "name": "stdout",
          "output_type": "stream",
          "text": [
            "0.04752269641242244 0.9466567882941286 0.9149265842008141 0.944487881157154 0.847719298245614 0.847719298245614 0.8602778474910067 0.95944384110755 0.8934911242603549\n",
            "Epoch: 37 / 500, ############## the best accuracy in val  94.7398 at Epoch: 24  ##############\n",
            "Performance in Val: Loss: (0.0475); Accuracy (94.67)\n"
          ]
        },
        {
          "name": "stderr",
          "output_type": "stream",
          "text": [
            "Epoch 38: 100%|██████████| 1494/1494 [00:25<00:00, 57.99batch/s, train_loss=tensor(0.0100, device='cuda:0', grad_fn=<MseLossBackward0>)]\n"
          ]
        },
        {
          "name": "stdout",
          "output_type": "stream",
          "text": [
            "0.04816733283752745 0.9466567882941286 0.9142514060692748 0.9465828750981933 0.8456140350877193 0.8456140350877193 0.8602734836393598 0.9574567142567036 0.893254262416605\n",
            "Epoch: 38 / 500, ############## the best accuracy in val  94.7398 at Epoch: 24  ##############\n",
            "Performance in Val: Loss: (0.0482); Accuracy (94.67)\n"
          ]
        },
        {
          "name": "stderr",
          "output_type": "stream",
          "text": [
            "Epoch 39: 100%|██████████| 1494/1494 [00:25<00:00, 57.69batch/s, train_loss=tensor(0.0082, device='cuda:0', grad_fn=<MseLossBackward0>)]\n"
          ]
        },
        {
          "name": "stdout",
          "output_type": "stream",
          "text": [
            "0.047885123301636086 0.9453602518984997 0.9117952657183976 0.9462875197472354 0.840701754385965 0.840701754385965 0.8568072902832251 0.9586617399058794 0.8903753251579338\n",
            "Epoch: 39 / 500, ############## the best accuracy in val  94.7398 at Epoch: 24  ##############\n",
            "Performance in Val: Loss: (0.0479); Accuracy (94.54)\n"
          ]
        },
        {
          "name": "stderr",
          "output_type": "stream",
          "text": [
            "Epoch 40: 100%|██████████| 1494/1494 [00:25<00:00, 57.77batch/s, train_loss=tensor(0.0295, device='cuda:0', grad_fn=<MseLossBackward0>)]\n"
          ]
        },
        {
          "name": "stdout",
          "output_type": "stream",
          "text": [
            "0.04813932932235978 0.9440637155028709 0.9093391253675205 0.9459888800635425 0.8357894736842105 0.8357894736842105 0.8533389731082336 0.9583629557032995 0.8874813710879286\n",
            "Epoch: 40 / 500, ############## the best accuracy in val  94.7398 at Epoch: 24  ##############\n",
            "Performance in Val: Loss: (0.0481); Accuracy (94.41)\n"
          ]
        },
        {
          "name": "stderr",
          "output_type": "stream",
          "text": [
            "Epoch 41: 100%|██████████| 1494/1494 [00:25<00:00, 57.74batch/s, train_loss=tensor(0.0093, device='cuda:0', grad_fn=<MseLossBackward0>)]\n"
          ]
        },
        {
          "name": "stdout",
          "output_type": "stream",
          "text": [
            "0.04817175348712639 0.9457306908686793 0.9124970201043625 0.9463722397476341 0.8421052631578947 0.8421052631578947 0.8577978443055643 0.9576979312902285 0.8911994058670628\n",
            "Epoch: 41 / 500, ############## the best accuracy in val  94.7398 at Epoch: 24  ##############\n",
            "Performance in Val: Loss: (0.0482); Accuracy (94.57)\n"
          ]
        },
        {
          "name": "stderr",
          "output_type": "stream",
          "text": [
            "Epoch 42: 100%|██████████| 1494/1494 [00:25<00:00, 57.86batch/s, train_loss=tensor(0.0114, device='cuda:0', grad_fn=<MseLossBackward0>)]\n"
          ]
        },
        {
          "name": "stdout",
          "output_type": "stream",
          "text": [
            "0.0480383688329973 0.9457306908686793 0.9106965450869247 0.952076677316294 0.8364912280701754 0.8364912280701754 0.8578339430484988 0.9574794939033542 0.8905491221516624\n",
            "Epoch: 42 / 500, ############## the best accuracy in val  94.7398 at Epoch: 24  ##############\n",
            "Performance in Val: Loss: (0.0480); Accuracy (94.57)\n"
          ]
        },
        {
          "name": "stderr",
          "output_type": "stream",
          "text": [
            "Epoch 43: 100%|██████████| 1494/1494 [00:25<00:00, 57.48batch/s, train_loss=tensor(0.0096, device='cuda:0', grad_fn=<MseLossBackward0>)]\n"
          ]
        },
        {
          "name": "stdout",
          "output_type": "stream",
          "text": [
            "0.048163541465659036 0.9451750324134099 0.9123446260341341 0.94344069128044 0.8428070175438597 0.8428070175438597 0.8563136846396912 0.9566419445695264 0.8902891030392884\n",
            "Epoch: 43 / 500, ############## the best accuracy in val  94.7398 at Epoch: 24  ##############\n",
            "Performance in Val: Loss: (0.0482); Accuracy (94.52)\n"
          ]
        },
        {
          "name": "stderr",
          "output_type": "stream",
          "text": [
            "Epoch 44: 100%|██████████| 1494/1494 [00:25<00:00, 57.88batch/s, train_loss=tensor(0.0110, device='cuda:0', grad_fn=<MseLossBackward0>)]\n"
          ]
        },
        {
          "name": "stdout",
          "output_type": "stream",
          "text": [
            "0.04728998150676489 0.9466567882941286 0.9153767029551736 0.9431021044427124 0.8491228070175438 0.8491228070175438 0.8602852619168099 0.9587118904457924 0.8936484490398818\n",
            "Epoch: 44 / 500, ############## the best accuracy in val  94.7398 at Epoch: 24  ##############\n",
            "Performance in Val: Loss: (0.0473); Accuracy (94.67)\n"
          ]
        },
        {
          "name": "stderr",
          "output_type": "stream",
          "text": [
            "Epoch 45: 100%|██████████| 1494/1494 [00:25<00:00, 57.87batch/s, train_loss=tensor(0.0138, device='cuda:0', grad_fn=<MseLossBackward0>)]\n"
          ]
        },
        {
          "name": "stdout",
          "output_type": "stream",
          "text": [
            "0.04814562349664894 0.9470272272643082 0.9133777448149816 0.9516256938937351 0.8421052631578947 0.8421052631578947 0.8612825819587986 0.9572177928464846 0.8935219657483245\n",
            "Epoch: 45 / 500, ############## the best accuracy in val  94.7398 at Epoch: 24  ##############\n",
            "Performance in Val: Loss: (0.0481); Accuracy (94.70)\n"
          ]
        },
        {
          "name": "stderr",
          "output_type": "stream",
          "text": [
            "Epoch 46: 100%|██████████| 1494/1494 [00:26<00:00, 57.29batch/s, train_loss=tensor(0.0105, device='cuda:0', grad_fn=<MseLossBackward0>)]\n"
          ]
        },
        {
          "name": "stdout",
          "output_type": "stream",
          "text": [
            "0.047828885980627754 0.9442489349879607 0.9094649431833232 0.9467408585055644 0.8357894736842105 0.8357894736842105 0.8538373499025339 0.9580127848559498 0.8878121505777116\n",
            "Epoch: 46 / 500, ############## the best accuracy in val  94.7398 at Epoch: 24  ##############\n",
            "Performance in Val: Loss: (0.0478); Accuracy (94.42)\n"
          ]
        },
        {
          "name": "stderr",
          "output_type": "stream",
          "text": [
            "Epoch 47: 100%|██████████| 1494/1494 [00:26<00:00, 56.94batch/s, train_loss=tensor(0.0367, device='cuda:0', grad_fn=<MseLossBackward0>)]\n"
          ]
        },
        {
          "name": "stdout",
          "output_type": "stream",
          "text": [
            "0.047488954426212746 0.9457306908686793 0.9127220794815423 0.9456692913385827 0.8428070175438597 0.8428070175438597 0.8577974687379661 0.9576790365445571 0.8912801484230055\n",
            "Epoch: 47 / 500, ############## the best accuracy in val  94.7398 at Epoch: 24  ##############\n",
            "Performance in Val: Loss: (0.0475); Accuracy (94.57)\n"
          ]
        },
        {
          "name": "stderr",
          "output_type": "stream",
          "text": [
            "Epoch 48: 100%|██████████| 1494/1494 [00:26<00:00, 56.87batch/s, train_loss=tensor(0.0104, device='cuda:0', grad_fn=<MseLossBackward0>)]\n"
          ]
        },
        {
          "name": "stdout",
          "output_type": "stream",
          "text": [
            "0.04757086043669419 0.9461011298388591 0.9129737151131477 0.9471608832807571 0.8428070175438597 0.8428070175438597 0.8587891434689465 0.9583659576722379 0.8919420720386186\n",
            "Epoch: 48 / 500, ############## the best accuracy in val  94.7398 at Epoch: 24  ##############\n",
            "Performance in Val: Loss: (0.0476); Accuracy (94.61)\n"
          ]
        },
        {
          "name": "stderr",
          "output_type": "stream",
          "text": [
            "Epoch 49: 100%|██████████| 1494/1494 [00:26<00:00, 56.71batch/s, train_loss=tensor(0.0088, device='cuda:0', grad_fn=<MseLossBackward0>)]\n"
          ]
        },
        {
          "name": "stdout",
          "output_type": "stream",
          "text": [
            "0.04769840506328778 0.9459159103537692 0.9121727191658058 0.948535233570863 0.840701754385965 0.840701754385965 0.8582991101585504 0.9581789526660134 0.8913690476190476\n",
            "Epoch: 49 / 500, ############## the best accuracy in val  94.7398 at Epoch: 24  ##############\n",
            "Performance in Val: Loss: (0.0477); Accuracy (94.59)\n"
          ]
        },
        {
          "name": "stderr",
          "output_type": "stream",
          "text": [
            "Epoch 50: 100%|██████████| 1494/1494 [00:26<00:00, 56.66batch/s, train_loss=tensor(0.0119, device='cuda:0', grad_fn=<MseLossBackward0>)]\n"
          ]
        },
        {
          "name": "stdout",
          "output_type": "stream",
          "text": [
            "0.04789098411459814 0.9444341544730506 0.9116162953937434 0.9411764705882353 0.8421052631578947 0.8421052631578947 0.8543375562677958 0.9592628400392023 0.8888888888888888\n",
            "Epoch: 50 / 500, ############## the best accuracy in val  94.7398 at Epoch: 24  ##############\n",
            "Performance in Val: Loss: (0.0479); Accuracy (94.44)\n"
          ]
        },
        {
          "name": "stderr",
          "output_type": "stream",
          "text": [
            "Epoch 51: 100%|██████████| 1494/1494 [00:26<00:00, 56.39batch/s, train_loss=tensor(0.0086, device='cuda:0', grad_fn=<MseLossBackward0>)]\n"
          ]
        },
        {
          "name": "stdout",
          "output_type": "stream",
          "text": [
            "0.04791457180611112 0.9459159103537692 0.9121727191658058 0.948535233570863 0.840701754385965 0.840701754385965 0.8582991101585504 0.9555338648584218 0.8913690476190476\n",
            "Epoch: 51 / 500, ############## the best accuracy in val  94.7398 at Epoch: 24  ##############\n",
            "Performance in Val: Loss: (0.0479); Accuracy (94.59)\n"
          ]
        },
        {
          "name": "stderr",
          "output_type": "stream",
          "text": [
            "Epoch 52: 100%|██████████| 1494/1494 [00:26<00:00, 56.15batch/s, train_loss=tensor(0.0217, device='cuda:0', grad_fn=<MseLossBackward0>)]\n"
          ]
        },
        {
          "name": "stdout",
          "output_type": "stream",
          "text": [
            "0.04820281207900156 0.9449898129283201 0.9106433925780733 0.9476190476190476 0.8378947368421052 0.8378947368421052 0.8558215395072957 0.9559553766146619 0.8893854748603351\n",
            "Epoch: 52 / 500, ############## the best accuracy in val  94.7398 at Epoch: 24  ##############\n",
            "Performance in Val: Loss: (0.0482); Accuracy (94.50)\n"
          ]
        },
        {
          "name": "stderr",
          "output_type": "stream",
          "text": [
            "Epoch 53: 100%|██████████| 1494/1494 [00:26<00:00, 55.91batch/s, train_loss=tensor(0.0181, device='cuda:0', grad_fn=<MseLossBackward0>)]\n"
          ]
        },
        {
          "name": "stdout",
          "output_type": "stream",
          "text": [
            "0.04776826416226951 0.9451750324134099 0.9127947447884937 0.9420516836335161 0.8442105263157895 0.8442105263157895 0.856319978681284 0.9571197873899646 0.8904515173945226\n",
            "Epoch: 53 / 500, ############## the best accuracy in val  94.7398 at Epoch: 24  ##############\n",
            "Performance in Val: Loss: (0.0478); Accuracy (94.52)\n"
          ]
        },
        {
          "name": "stderr",
          "output_type": "stream",
          "text": [
            "Epoch 54: 100%|██████████| 1494/1494 [00:26<00:00, 56.37batch/s, train_loss=tensor(0.0103, device='cuda:0', grad_fn=<MseLossBackward0>)]\n"
          ]
        },
        {
          "name": "stdout",
          "output_type": "stream",
          "text": [
            "0.04717452883381735 0.9462863493239488 0.9137747110604897 0.9457973291437549 0.8449122807017544 0.8449122807017544 0.8592835338894427 0.9587839377003151 0.8925129725722757\n",
            "Epoch: 54 / 500, ############## the best accuracy in val  94.7398 at Epoch: 24  ##############\n",
            "Performance in Val: Loss: (0.0472); Accuracy (94.63)\n"
          ]
        },
        {
          "name": "stderr",
          "output_type": "stream",
          "text": [
            "Epoch 55: 100%|██████████| 1494/1494 [00:26<00:00, 56.04batch/s, train_loss=tensor(0.0102, device='cuda:0', grad_fn=<MseLossBackward0>)]\n"
          ]
        },
        {
          "name": "stdout",
          "output_type": "stream",
          "text": [
            "0.047568690963089466 0.9472124467493981 0.9150789782710425 0.9474097331240189 0.8470175438596491 0.8470175438596491 0.8617581666976845 0.9584350029578224 0.8944053353093739\n",
            "Epoch: 55 / 500, ############## the best accuracy in val  94.7398 at Epoch: 24  ##############\n",
            "Performance in Val: Loss: (0.0476); Accuracy (94.72)\n"
          ]
        },
        {
          "name": "stderr",
          "output_type": "stream",
          "text": [
            "Epoch 56: 100%|██████████| 1494/1494 [00:26<00:00, 56.29batch/s, train_loss=tensor(0.0242, device='cuda:0', grad_fn=<MseLossBackward0>)]\n"
          ]
        },
        {
          "name": "stdout",
          "output_type": "stream",
          "text": [
            "0.04777189530432224 0.9455454713835896 0.9119210835342004 0.9470355731225296 0.840701754385965 0.840701754385965 0.8573040621228338 0.9573415799185937 0.8907063197026023\n",
            "Epoch: 56 / 500, ############## the best accuracy in val  94.7398 at Epoch: 24  ##############\n",
            "Performance in Val: Loss: (0.0478); Accuracy (94.55)\n"
          ]
        },
        {
          "name": "stderr",
          "output_type": "stream",
          "text": [
            "Epoch 57: 100%|██████████| 1494/1494 [00:26<00:00, 57.07batch/s, train_loss=tensor(0.0218, device='cuda:0', grad_fn=<MseLossBackward0>)]\n"
          ]
        },
        {
          "name": "stdout",
          "output_type": "stream",
          "text": [
            "0.04780957970598882 0.9455454713835896 0.9110208460254814 0.9498806682577565 0.8378947368421052 0.8378947368421052 0.8573191445597008 0.9559421326340511 0.8903803131991052\n",
            "Epoch: 57 / 500, ############## the best accuracy in val  94.7398 at Epoch: 24  ##############\n",
            "Performance in Val: Loss: (0.0478); Accuracy (94.55)\n"
          ]
        },
        {
          "name": "stderr",
          "output_type": "stream",
          "text": [
            "Epoch 58: 100%|██████████| 1494/1494 [00:26<00:00, 57.16batch/s, train_loss=tensor(0.0181, device='cuda:0', grad_fn=<MseLossBackward0>)]\n"
          ]
        },
        {
          "name": "stdout",
          "output_type": "stream",
          "text": [
            "0.04713704115287824 0.9466567882941286 0.914026346692095 0.9472856018882769 0.8449122807017544 0.8449122807017544 0.8602738428193921 0.9591348148932977 0.8931750741839762\n",
            "Epoch: 58 / 500, ############## the best accuracy in val  94.7398 at Epoch: 24  ##############\n",
            "Performance in Val: Loss: (0.0471); Accuracy (94.67)\n"
          ]
        },
        {
          "name": "stderr",
          "output_type": "stream",
          "text": [
            "Epoch 59: 100%|██████████| 1494/1494 [00:26<00:00, 57.13batch/s, train_loss=tensor(0.0044, device='cuda:0', grad_fn=<MseLossBackward0>)]\n"
          ]
        },
        {
          "name": "stdout",
          "output_type": "stream",
          "text": [
            "0.047039548993449316 0.9453602518984997 0.9117952657183976 0.9462875197472354 0.840701754385965 0.840701754385965 0.8568072902832251 0.9583147476138761 0.8903753251579338\n",
            "Epoch: 59 / 500, ############## the best accuracy in val  94.7398 at Epoch: 24  ##############\n",
            "Performance in Val: Loss: (0.0470); Accuracy (94.54)\n"
          ]
        },
        {
          "name": "stderr",
          "output_type": "stream",
          "text": [
            "Epoch 60: 100%|██████████| 1494/1494 [00:25<00:00, 57.57batch/s, train_loss=tensor(0.0083, device='cuda:0', grad_fn=<MseLossBackward0>)]\n"
          ]
        },
        {
          "name": "stdout",
          "output_type": "stream",
          "text": [
            "0.047235528134148226 0.9462863493239488 0.9133245923061302 0.9472025216706068 0.8435087719298245 0.8435087719298245 0.8592840853736168 0.9585455460493206 0.8923533778767632\n",
            "Epoch: 60 / 500, ############## the best accuracy in val  94.7398 at Epoch: 24  ##############\n",
            "Performance in Val: Loss: (0.0472); Accuracy (94.63)\n"
          ]
        },
        {
          "name": "stderr",
          "output_type": "stream",
          "text": [
            "Epoch 61: 100%|██████████| 1494/1494 [00:26<00:00, 57.17batch/s, train_loss=tensor(0.0115, device='cuda:0', grad_fn=<MseLossBackward0>)]\n"
          ]
        },
        {
          "name": "stdout",
          "output_type": "stream",
          "text": [
            "0.04754902045665817 0.9459159103537692 0.9121727191658058 0.948535233570863 0.840701754385965 0.840701754385965 0.8582991101585504 0.9570646924306236 0.8913690476190476\n",
            "Epoch: 61 / 500, ############## the best accuracy in val  94.7398 at Epoch: 24  ##############\n",
            "Performance in Val: Loss: (0.0475); Accuracy (94.59)\n"
          ]
        },
        {
          "name": "stderr",
          "output_type": "stream",
          "text": [
            "Epoch 62: 100%|██████████| 1494/1494 [00:26<00:00, 56.57batch/s, train_loss=tensor(0.0217, device='cuda:0', grad_fn=<MseLossBackward0>)]\n"
          ]
        },
        {
          "name": "stdout",
          "output_type": "stream",
          "text": [
            "0.047548642551357094 0.9455454713835896 0.9125962616657396 0.94492525570417 0.8428070175438597 0.8428070175438597 0.8573023779572869 0.9586718053311436 0.8909495548961425\n",
            "Epoch: 62 / 500, ############## the best accuracy in val  94.7398 at Epoch: 24  ##############\n",
            "Performance in Val: Loss: (0.0475); Accuracy (94.55)\n"
          ]
        },
        {
          "name": "stderr",
          "output_type": "stream",
          "text": [
            "Epoch 63: 100%|██████████| 1494/1494 [00:26<00:00, 57.32batch/s, train_loss=tensor(0.0094, device='cuda:0', grad_fn=<MseLossBackward0>)]\n"
          ]
        },
        {
          "name": "stdout",
          "output_type": "stream",
          "text": [
            "0.0471067333763296 0.9468420077792183 0.9130268676219991 0.9515873015873015 0.8414035087719298 0.8414035087719298 0.8607889377860395 0.960768062582223 0.8931098696461824\n",
            "Epoch: 63 / 500, ############## the best accuracy in val  94.7398 at Epoch: 24  ##############\n",
            "Performance in Val: Loss: (0.0471); Accuracy (94.68)\n"
          ]
        },
        {
          "name": "stderr",
          "output_type": "stream",
          "text": [
            "Epoch 64: 100%|██████████| 1494/1494 [00:26<00:00, 57.22batch/s, train_loss=tensor(0.0113, device='cuda:0', grad_fn=<MseLossBackward0>)]\n"
          ]
        },
        {
          "name": "stdout",
          "output_type": "stream",
          "text": [
            "0.04715332549742677 0.9470272272643082 0.9149531604552398 0.9466666666666667 0.8470175438596491 0.8470175438596491 0.8612634461660736 0.958762923917746 0.894074074074074\n",
            "Epoch: 64 / 500, ############## the best accuracy in val  94.7398 at Epoch: 24  ##############\n",
            "Performance in Val: Loss: (0.0472); Accuracy (94.70)\n"
          ]
        },
        {
          "name": "stderr",
          "output_type": "stream",
          "text": [
            "Epoch 65: 100%|██████████| 1494/1494 [00:26<00:00, 57.17batch/s, train_loss=tensor(0.0137, device='cuda:0', grad_fn=<MseLossBackward0>)]\n"
          ]
        },
        {
          "name": "stdout",
          "output_type": "stream",
          "text": [
            "0.047542542134496296 0.9457306908686793 0.912947138858722 0.9449685534591195 0.8435087719298245 0.8435087719298245 0.8577980023998572 0.9575879179579547 0.8913607712272895\n",
            "Epoch: 65 / 500, ############## the best accuracy in val  94.7398 at Epoch: 24  ##############\n",
            "Performance in Val: Loss: (0.0475); Accuracy (94.57)\n"
          ]
        },
        {
          "name": "stderr",
          "output_type": "stream",
          "text": [
            "Epoch 66: 100%|██████████| 1494/1494 [00:26<00:00, 57.15batch/s, train_loss=tensor(0.0252, device='cuda:0', grad_fn=<MseLossBackward0>)]\n"
          ]
        },
        {
          "name": "stdout",
          "output_type": "stream",
          "text": [
            "0.046813768250021065 0.9475828857195777 0.9146554357711087 0.9510268562401264 0.8449122807017544 0.8449122807017544 0.8627583411005223 0.9581490212698328 0.8948346339650688\n",
            "Epoch: 66 / 500, ############## the best accuracy in val  94.7398 at Epoch: 24  ##############\n",
            "Performance in Val: Loss: (0.0468); Accuracy (94.76)\n"
          ]
        },
        {
          "name": "stderr",
          "output_type": "stream",
          "text": [
            "Epoch 67: 100%|██████████| 1494/1494 [00:26<00:00, 56.94batch/s, train_loss=tensor(0.0082, device='cuda:0', grad_fn=<MseLossBackward0>)]\n"
          ]
        },
        {
          "name": "stdout",
          "output_type": "stream",
          "text": [
            "0.047249154738065874 0.9479533246897573 0.9153571901570736 0.9511041009463722 0.8463157894736842 0.8463157894736842 0.863745639285858 0.9588556317820216 0.8956554028963981\n",
            "Epoch: 67 / 500, ############## the best accuracy in val  94.7583 at Epoch: 66  ##############\n",
            "Performance in Val: Loss: (0.0472); Accuracy (94.80)\n"
          ]
        },
        {
          "name": "stderr",
          "output_type": "stream",
          "text": [
            "Epoch 68: 100%|██████████| 1494/1494 [00:25<00:00, 57.53batch/s, train_loss=tensor(0.0086, device='cuda:0', grad_fn=<MseLossBackward0>)]\n"
          ]
        },
        {
          "name": "stdout",
          "output_type": "stream",
          "text": [
            "0.04669165399602868 0.9470272272643082 0.9140529229465209 0.9494869771112865 0.8442105263157895 0.8442105263157895 0.8612688699517772 0.9602752099170928 0.8937592867756315\n",
            "Epoch: 68 / 500, ############## the best accuracy in val  94.7953 at Epoch: 67  ##############\n",
            "Performance in Val: Loss: (0.0467); Accuracy (94.70)\n"
          ]
        },
        {
          "name": "stderr",
          "output_type": "stream",
          "text": [
            "Epoch 69: 100%|██████████| 1494/1494 [00:26<00:00, 56.76batch/s, train_loss=tensor(0.0206, device='cuda:0', grad_fn=<MseLossBackward0>)]\n"
          ]
        },
        {
          "name": "stdout",
          "output_type": "stream",
          "text": [
            "0.04719196099110625 0.9473976662344878 0.9143045585781262 0.9509881422924901 0.8442105263157895 0.8442105263157895 0.8622646308307874 0.9596492111002216 0.8944237918215614\n",
            "Epoch: 69 / 500, ############## the best accuracy in val  94.7953 at Epoch: 67  ##############\n",
            "Performance in Val: Loss: (0.0472); Accuracy (94.74)\n"
          ]
        },
        {
          "name": "stderr",
          "output_type": "stream",
          "text": [
            "Epoch 70: 100%|██████████| 1494/1494 [00:26<00:00, 56.92batch/s, train_loss=tensor(0.0075, device='cuda:0', grad_fn=<MseLossBackward0>)]\n"
          ]
        },
        {
          "name": "stdout",
          "output_type": "stream",
          "text": [
            "0.04779361535541036 0.9470272272643082 0.9131526854378018 0.9523431294678316 0.8414035087719298 0.8414035087719298 0.8612890058136065 0.9577178855543489 0.8934426229508197\n",
            "Epoch: 70 / 500, ############## the best accuracy in val  94.7953 at Epoch: 67  ##############\n",
            "Performance in Val: Loss: (0.0478); Accuracy (94.70)\n"
          ]
        },
        {
          "name": "stderr",
          "output_type": "stream",
          "text": [
            "Epoch 71: 100%|██████████| 1494/1494 [00:25<00:00, 58.00batch/s, train_loss=tensor(0.0183, device='cuda:0', grad_fn=<MseLossBackward0>)]\n"
          ]
        },
        {
          "name": "stdout",
          "output_type": "stream",
          "text": [
            "0.04736438410525972 0.9464715688090387 0.9125501726132139 0.9507936507936507 0.840701754385965 0.840701754385965 0.8597954581302907 0.9590440494795115 0.892364990689013\n",
            "Epoch: 71 / 500, ############## the best accuracy in val  94.7953 at Epoch: 67  ##############\n",
            "Performance in Val: Loss: (0.0474); Accuracy (94.65)\n"
          ]
        },
        {
          "name": "stderr",
          "output_type": "stream",
          "text": [
            "Epoch 72: 100%|██████████| 1494/1494 [00:25<00:00, 57.64batch/s, train_loss=tensor(0.0166, device='cuda:0', grad_fn=<MseLossBackward0>)]\n"
          ]
        },
        {
          "name": "stdout",
          "output_type": "stream",
          "text": [
            "0.047293504657731814 0.9468420077792183 0.9137020457535383 0.9494470774091627 0.8435087719298245 0.8435087719298245 0.8607746574947566 0.9577572643233652 0.8933481976960238\n",
            "Epoch: 72 / 500, ############## the best accuracy in val  94.7953 at Epoch: 67  ##############\n",
            "Performance in Val: Loss: (0.0473); Accuracy (94.68)\n"
          ]
        },
        {
          "name": "stderr",
          "output_type": "stream",
          "text": [
            "Epoch 73: 100%|██████████| 1494/1494 [00:25<00:00, 57.79batch/s, train_loss=tensor(0.0130, device='cuda:0', grad_fn=<MseLossBackward0>)]\n"
          ]
        },
        {
          "name": "stdout",
          "output_type": "stream",
          "text": [
            "0.04699969617649913 0.9473976662344878 0.9140794992009464 0.9517022961203484 0.8435087719298245 0.8435087719298245 0.8622697456017249 0.9583804377577059 0.894345238095238\n",
            "Epoch: 73 / 500, ############## the best accuracy in val  94.7953 at Epoch: 67  ##############\n",
            "Performance in Val: Loss: (0.0470); Accuracy (94.74)\n"
          ]
        },
        {
          "name": "stderr",
          "output_type": "stream",
          "text": [
            "Epoch 74: 100%|██████████| 1494/1494 [00:26<00:00, 57.36batch/s, train_loss=tensor(0.0107, device='cuda:0', grad_fn=<MseLossBackward0>)]\n"
          ]
        },
        {
          "name": "stdout",
          "output_type": "stream",
          "text": [
            "0.047246481545946815 0.9464715688090387 0.9125501726132139 0.9507936507936507 0.840701754385965 0.840701754385965 0.8597954581302907 0.9585250620259759 0.892364990689013\n",
            "Epoch: 74 / 500, ############## the best accuracy in val  94.7953 at Epoch: 67  ##############\n",
            "Performance in Val: Loss: (0.0472); Accuracy (94.65)\n"
          ]
        },
        {
          "name": "stderr",
          "output_type": "stream",
          "text": [
            "Epoch 75: 100%|██████████| 1494/1494 [00:25<00:00, 57.71batch/s, train_loss=tensor(0.0193, device='cuda:0', grad_fn=<MseLossBackward0>)]\n"
          ]
        },
        {
          "name": "stdout",
          "output_type": "stream",
          "text": [
            "0.047404859638349575 0.9462863493239488 0.9130995329289504 0.9479084451460142 0.8428070175438597 0.8428070175438597 0.8592857293976356 0.9569149471565174 0.8922734026745914\n",
            "Epoch: 75 / 500, ############## the best accuracy in val  94.7953 at Epoch: 67  ##############\n",
            "Performance in Val: Loss: (0.0474); Accuracy (94.63)\n"
          ]
        },
        {
          "name": "stderr",
          "output_type": "stream",
          "text": [
            "Epoch 76: 100%|██████████| 1494/1494 [00:25<00:00, 57.94batch/s, train_loss=tensor(0.0169, device='cuda:0', grad_fn=<MseLossBackward0>)]\n"
          ]
        },
        {
          "name": "stdout",
          "output_type": "stream",
          "text": [
            "0.04692439116876234 0.9477681052046675 0.9152313723412708 0.950354609929078 0.8463157894736842 0.8463157894736842 0.8632481992178058 0.9612768080240863 0.8953229398663698\n",
            "Epoch: 76 / 500, ############## the best accuracy in val  94.7953 at Epoch: 67  ##############\n",
            "Performance in Val: Loss: (0.0469); Accuracy (94.78)\n"
          ]
        },
        {
          "name": "stderr",
          "output_type": "stream",
          "text": [
            "Epoch 77: 100%|██████████| 1494/1494 [00:26<00:00, 56.66batch/s, train_loss=tensor(0.0087, device='cuda:0', grad_fn=<MseLossBackward0>)]\n"
          ]
        },
        {
          "name": "stdout",
          "output_type": "stream",
          "text": [
            "0.0471577637151561 0.9461011298388591 0.9122985369816086 0.9492868462757528 0.840701754385965 0.840701754385965 0.8587973883555091 0.9580286776326827 0.8917007815407517\n",
            "Epoch: 77 / 500, ############## the best accuracy in val  94.7953 at Epoch: 67  ##############\n",
            "Performance in Val: Loss: (0.0472); Accuracy (94.61)\n"
          ]
        },
        {
          "name": "stderr",
          "output_type": "stream",
          "text": [
            "Epoch 78: 100%|██████████| 1494/1494 [00:26<00:00, 57.35batch/s, train_loss=tensor(0.0070, device='cuda:0', grad_fn=<MseLossBackward0>)]\n"
          ]
        },
        {
          "name": "stdout",
          "output_type": "stream",
          "text": [
            "0.04732154246250337 0.9461011298388591 0.9122985369816086 0.9492868462757528 0.840701754385965 0.840701754385965 0.8587973883555091 0.9579785270927696 0.8917007815407517\n",
            "Epoch: 78 / 500, ############## the best accuracy in val  94.7953 at Epoch: 67  ##############\n",
            "Performance in Val: Loss: (0.0473); Accuracy (94.61)\n"
          ]
        },
        {
          "name": "stderr",
          "output_type": "stream",
          "text": [
            "Epoch 79: 100%|██████████| 1494/1494 [00:25<00:00, 57.65batch/s, train_loss=tensor(0.0102, device='cuda:0', grad_fn=<MseLossBackward0>)]\n"
          ]
        },
        {
          "name": "stdout",
          "output_type": "stream",
          "text": [
            "0.047477362169460816 0.9464715688090387 0.9130002913675734 0.9493670886075949 0.8421052631578947 0.8421052631578947 0.8597861072695264 0.956600976522837 0.8925251022685012\n",
            "Epoch: 79 / 500, ############## the best accuracy in val  94.7953 at Epoch: 67  ##############\n",
            "Performance in Val: Loss: (0.0475); Accuracy (94.65)\n"
          ]
        },
        {
          "name": "stderr",
          "output_type": "stream",
          "text": [
            "Epoch 80: 100%|██████████| 1494/1494 [00:25<00:00, 57.55batch/s, train_loss=tensor(0.0147, device='cuda:0', grad_fn=<MseLossBackward0>)]\n"
          ]
        },
        {
          "name": "stdout",
          "output_type": "stream",
          "text": [
            "0.047212949361313476 0.9459159103537692 0.911947659788626 0.9492466296590008 0.84 0.84 0.8583029650360942 0.960259670313176 0.8912881608339538\n",
            "Epoch: 80 / 500, ############## the best accuracy in val  94.7953 at Epoch: 67  ##############\n",
            "Performance in Val: Loss: (0.0472); Accuracy (94.59)\n"
          ]
        },
        {
          "name": "stderr",
          "output_type": "stream",
          "text": [
            "Epoch 81: 100%|██████████| 1494/1494 [00:26<00:00, 57.46batch/s, train_loss=tensor(0.0112, device='cuda:0', grad_fn=<MseLossBackward0>)]\n"
          ]
        },
        {
          "name": "stdout",
          "output_type": "stream",
          "text": [
            "0.04744531734931198 0.9453602518984997 0.910669968832499 0.9498407643312102 0.8371929824561404 0.8371929824561404 0.8568247800100572 0.9595376084902745 0.8899664304364043\n",
            "Epoch: 81 / 500, ############## the best accuracy in val  94.7953 at Epoch: 67  ##############\n",
            "Performance in Val: Loss: (0.0474); Accuracy (94.54)\n"
          ]
        },
        {
          "name": "stderr",
          "output_type": "stream",
          "text": [
            "Epoch 82: 100%|██████████| 1494/1494 [00:26<00:00, 57.04batch/s, train_loss=tensor(0.0100, device='cuda:0', grad_fn=<MseLossBackward0>)]\n"
          ]
        },
        {
          "name": "stdout",
          "output_type": "stream",
          "text": [
            "0.04720985864035108 0.9470272272643082 0.9138278635693411 0.950197628458498 0.8435087719298245 0.8435087719298245 0.8612725170891967 0.9576048702531367 0.8936802973977694\n",
            "Epoch: 82 / 500, ############## the best accuracy in val  94.7953 at Epoch: 67  ##############\n",
            "Performance in Val: Loss: (0.0472); Accuracy (94.70)\n"
          ]
        },
        {
          "name": "stderr",
          "output_type": "stream",
          "text": [
            "Epoch 83: 100%|██████████| 1494/1494 [00:26<00:00, 56.47batch/s, train_loss=tensor(0.0107, device='cuda:0', grad_fn=<MseLossBackward0>)]\n"
          ]
        },
        {
          "name": "stdout",
          "output_type": "stream",
          "text": [
            "0.047084904995492914 0.9455454713835896 0.9112459054026611 0.949166004765687 0.8385964912280702 0.8385964912280702 0.8573139894609201 0.9604355503756876 0.8904619970193741\n",
            "Epoch: 83 / 500, ############## the best accuracy in val  94.7953 at Epoch: 67  ##############\n",
            "Performance in Val: Loss: (0.0471); Accuracy (94.55)\n"
          ]
        },
        {
          "name": "stderr",
          "output_type": "stream",
          "text": [
            "Epoch 84: 100%|██████████| 1494/1494 [00:26<00:00, 56.87batch/s, train_loss=tensor(0.0122, device='cuda:0', grad_fn=<MseLossBackward0>)]\n"
          ]
        },
        {
          "name": "stdout",
          "output_type": "stream",
          "text": [
            "0.04740037849511613 0.9485089831450269 0.9157346436044818 0.9533596837944665 0.8463157894736842 0.8463157894736842 0.8652409720555595 0.9572539930601542 0.8966542750929368\n",
            "Epoch: 84 / 500, ############## the best accuracy in val  94.7953 at Epoch: 67  ##############\n",
            "Performance in Val: Loss: (0.0474); Accuracy (94.85)\n"
          ]
        },
        {
          "name": "stderr",
          "output_type": "stream",
          "text": [
            "Epoch 85: 100%|██████████| 1494/1494 [00:26<00:00, 56.99batch/s, train_loss=tensor(0.0069, device='cuda:0', grad_fn=<MseLossBackward0>)]\n"
          ]
        },
        {
          "name": "stdout",
          "output_type": "stream",
          "text": [
            "0.04713597203689543 0.9457306908686793 0.9127220794815423 0.9456692913385827 0.8428070175438597 0.8428070175438597 0.8577974687379661 0.9592481833673262 0.8912801484230055\n",
            "Epoch: 85 / 500, ############## the best accuracy in val  94.8509 at Epoch: 84  ##############\n",
            "Performance in Val: Loss: (0.0471); Accuracy (94.57)\n"
          ]
        },
        {
          "name": "stderr",
          "output_type": "stream",
          "text": [
            "Epoch 86: 100%|██████████| 1494/1494 [00:26<00:00, 57.33batch/s, train_loss=tensor(0.0087, device='cuda:0', grad_fn=<MseLossBackward0>)]\n"
          ]
        },
        {
          "name": "stdout",
          "output_type": "stream",
          "text": [
            "0.046832753768698734 0.9477681052046675 0.9150063129640911 0.9510655090765588 0.8456140350877193 0.8456140350877193 0.8632520105059188 0.9568026382009377 0.8952451708766715\n",
            "Epoch: 86 / 500, ############## the best accuracy in val  94.8509 at Epoch: 84  ##############\n",
            "Performance in Val: Loss: (0.0468); Accuracy (94.78)\n"
          ]
        },
        {
          "name": "stderr",
          "output_type": "stream",
          "text": [
            "Epoch 87: 100%|██████████| 1494/1494 [00:26<00:00, 57.18batch/s, train_loss=tensor(0.0130, device='cuda:0', grad_fn=<MseLossBackward0>)]\n"
          ]
        },
        {
          "name": "stdout",
          "output_type": "stream",
          "text": [
            "0.04746210134842179 0.9459159103537692 0.9121727191658058 0.948535233570863 0.840701754385965 0.840701754385965 0.8582991101585504 0.9564703025808103 0.8913690476190476\n",
            "Epoch: 87 / 500, ############## the best accuracy in val  94.8509 at Epoch: 84  ##############\n",
            "Performance in Val: Loss: (0.0475); Accuracy (94.59)\n"
          ]
        },
        {
          "name": "stderr",
          "output_type": "stream",
          "text": [
            "Epoch 88: 100%|██████████| 1494/1494 [00:26<00:00, 56.75batch/s, train_loss=tensor(0.0050, device='cuda:0', grad_fn=<MseLossBackward0>)]\n"
          ]
        },
        {
          "name": "stdout",
          "output_type": "stream",
          "text": [
            "0.046878920529376374 0.9481385441748472 0.9150328892185169 0.953285827395091 0.8449122807017544 0.8449122807017544 0.8642550633233121 0.9596022391156551 0.8958333333333334\n",
            "Epoch: 88 / 500, ############## the best accuracy in val  94.8509 at Epoch: 84  ##############\n",
            "Performance in Val: Loss: (0.0469); Accuracy (94.81)\n"
          ]
        },
        {
          "name": "stderr",
          "output_type": "stream",
          "text": [
            "Epoch 89: 100%|██████████| 1494/1494 [00:25<00:00, 57.46batch/s, train_loss=tensor(0.0098, device='cuda:0', grad_fn=<MseLossBackward0>)]\n"
          ]
        },
        {
          "name": "stdout",
          "output_type": "stream",
          "text": [
            "0.047317722558297894 0.9457306908686793 0.9118218419728233 0.9484944532488114 0.84 0.84 0.8578044563126649 0.9580669968832499 0.8909564570152586\n",
            "Epoch: 89 / 500, ############## the best accuracy in val  94.8509 at Epoch: 84  ##############\n",
            "Performance in Val: Loss: (0.0473); Accuracy (94.57)\n"
          ]
        },
        {
          "name": "stderr",
          "output_type": "stream",
          "text": [
            "Epoch 90: 100%|██████████| 1494/1494 [00:26<00:00, 57.03batch/s, train_loss=tensor(0.0098, device='cuda:0', grad_fn=<MseLossBackward0>)]\n"
          ]
        },
        {
          "name": "stdout",
          "output_type": "stream",
          "text": [
            "0.04700803037055514 0.9473976662344878 0.9154298554640249 0.9474509803921569 0.847719298245614 0.847719298245614 0.8622528590086848 0.9591911459574957 0.8948148148148148\n",
            "Epoch: 90 / 500, ############## the best accuracy in val  94.8509 at Epoch: 84  ##############\n",
            "Performance in Val: Loss: (0.0470); Accuracy (94.74)\n"
          ]
        },
        {
          "name": "stderr",
          "output_type": "stream",
          "text": [
            "Epoch 91: 100%|██████████| 1494/1494 [00:26<00:00, 57.21batch/s, train_loss=tensor(0.0070, device='cuda:0', grad_fn=<MseLossBackward0>)]\n"
          ]
        },
        {
          "name": "stdout",
          "output_type": "stream",
          "text": [
            "0.04728959881785241 0.9461011298388591 0.9113982994728895 0.9521531100478469 0.8378947368421052 0.8378947368421052 0.8588213172084503 0.9575220512277169 0.891377379619261\n",
            "Epoch: 91 / 500, ############## the best accuracy in val  94.8509 at Epoch: 84  ##############\n",
            "Performance in Val: Loss: (0.0473); Accuracy (94.61)\n"
          ]
        },
        {
          "name": "stderr",
          "output_type": "stream",
          "text": [
            "Epoch 92: 100%|██████████| 1494/1494 [00:26<00:00, 56.98batch/s, train_loss=tensor(0.0104, device='cuda:0', grad_fn=<MseLossBackward0>)]\n"
          ]
        },
        {
          "name": "stdout",
          "output_type": "stream",
          "text": [
            "0.04731731379235333 0.9457306908686793 0.9127220794815423 0.9456692913385827 0.8428070175438597 0.8428070175438597 0.8577974687379661 0.9582162123981318 0.8912801484230055\n",
            "Epoch: 92 / 500, ############## the best accuracy in val  94.8509 at Epoch: 84  ##############\n",
            "Performance in Val: Loss: (0.0473); Accuracy (94.57)\n"
          ]
        },
        {
          "name": "stderr",
          "output_type": "stream",
          "text": [
            "Epoch 93: 100%|██████████| 1494/1494 [00:25<00:00, 57.53batch/s, train_loss=tensor(0.0057, device='cuda:0', grad_fn=<MseLossBackward0>)]\n"
          ]
        },
        {
          "name": "stdout",
          "output_type": "stream",
          "text": [
            "0.04713445131412961 0.9466567882941286 0.9129010498061965 0.950832672482157 0.8414035087719298 0.8414035087719298 0.860289376317897 0.9589047228034857 0.8927773641102009\n",
            "Epoch: 93 / 500, ############## the best accuracy in val  94.8509 at Epoch: 84  ##############\n",
            "Performance in Val: Loss: (0.0471); Accuracy (94.67)\n"
          ]
        },
        {
          "name": "stderr",
          "output_type": "stream",
          "text": [
            "Epoch 94: 100%|██████████| 1494/1494 [00:26<00:00, 56.89batch/s, train_loss=tensor(0.0072, device='cuda:0', grad_fn=<MseLossBackward0>)]\n"
          ]
        },
        {
          "name": "stdout",
          "output_type": "stream",
          "text": [
            "0.04688901809806174 0.9470272272643082 0.912927626060622 0.9530628480509149 0.840701754385965 0.840701754385965 0.8612963613952892 0.9587842908731314 0.8933631618195377\n",
            "Epoch: 94 / 500, ############## the best accuracy in val  94.8509 at Epoch: 84  ##############\n",
            "Performance in Val: Loss: (0.0469); Accuracy (94.70)\n"
          ]
        },
        {
          "name": "stderr",
          "output_type": "stream",
          "text": [
            "Epoch 95: 100%|██████████| 1494/1494 [00:26<00:00, 57.44batch/s, train_loss=tensor(0.0073, device='cuda:0', grad_fn=<MseLossBackward0>)]\n"
          ]
        },
        {
          "name": "stdout",
          "output_type": "stream",
          "text": [
            "0.047600108198821545 0.9459159103537692 0.9114975410342666 0.9506762132060461 0.8385964912280702 0.8385964912280702 0.8583134487685979 0.958271660530289 0.8911260253542134\n",
            "Epoch: 95 / 500, ############## the best accuracy in val  94.8509 at Epoch: 84  ##############\n",
            "Performance in Val: Loss: (0.0476); Accuracy (94.59)\n"
          ]
        },
        {
          "name": "stderr",
          "output_type": "stream",
          "text": [
            "Epoch 96: 100%|██████████| 1494/1494 [00:26<00:00, 57.08batch/s, train_loss=tensor(0.0119, device='cuda:0', grad_fn=<MseLossBackward0>)]\n"
          ]
        },
        {
          "name": "stdout",
          "output_type": "stream",
          "text": [
            "0.046809846365993675 0.9472124467493981 0.9139536813851438 0.9509493670886076 0.8435087719298245 0.8435087719298245 0.8617708794574639 0.9592121597400649 0.8940126441056155\n",
            "Epoch: 96 / 500, ############## the best accuracy in val  94.8509 at Epoch: 84  ##############\n",
            "Performance in Val: Loss: (0.0468); Accuracy (94.72)\n"
          ]
        },
        {
          "name": "stderr",
          "output_type": "stream",
          "text": [
            "Epoch 97: 100%|██████████| 1494/1494 [00:26<00:00, 56.97batch/s, train_loss=tensor(0.0190, device='cuda:0', grad_fn=<MseLossBackward0>)]\n"
          ]
        },
        {
          "name": "stdout",
          "output_type": "stream",
          "text": [
            "0.047350708903236824 0.9470272272643082 0.9142779823237006 0.9487785657998424 0.8449122807017544 0.8449122807017544 0.8612661422957113 0.9596006498379819 0.8938381588715665\n",
            "Epoch: 97 / 500, ############## the best accuracy in val  94.8509 at Epoch: 84  ##############\n",
            "Performance in Val: Loss: (0.0474); Accuracy (94.70)\n"
          ]
        },
        {
          "name": "stderr",
          "output_type": "stream",
          "text": [
            "Epoch 98: 100%|██████████| 1494/1494 [00:26<00:00, 56.28batch/s, train_loss=tensor(0.0150, device='cuda:0', grad_fn=<MseLossBackward0>)]\n"
          ]
        },
        {
          "name": "stdout",
          "output_type": "stream",
          "text": [
            "0.047151234593581066 0.9462863493239488 0.9130995329289504 0.9479084451460142 0.8428070175438597 0.8428070175438597 0.8592857293976356 0.959252951200346 0.8922734026745914\n",
            "Epoch: 98 / 500, ############## the best accuracy in val  94.8509 at Epoch: 84  ##############\n",
            "Performance in Val: Loss: (0.0472); Accuracy (94.63)\n"
          ]
        },
        {
          "name": "stderr",
          "output_type": "stream",
          "text": [
            "Epoch 99: 100%|██████████| 1494/1494 [00:26<00:00, 56.30batch/s, train_loss=tensor(0.0140, device='cuda:0', grad_fn=<MseLossBackward0>)]\n"
          ]
        },
        {
          "name": "stdout",
          "output_type": "stream",
          "text": [
            "0.047042954586107626 0.9481385441748472 0.9145827704641574 0.9547259729944401 0.8435087719298245 0.8435087719298245 0.8642702680781212 0.9587615112264809 0.8956780923994039\n",
            "Epoch: 99 / 500, ############## the best accuracy in val  94.8509 at Epoch: 84  ##############\n",
            "Performance in Val: Loss: (0.0470); Accuracy (94.81)\n"
          ]
        },
        {
          "name": "stderr",
          "output_type": "stream",
          "text": [
            "Epoch 100: 100%|██████████| 1494/1494 [00:26<00:00, 57.08batch/s, train_loss=tensor(0.0203, device='cuda:0', grad_fn=<MseLossBackward0>)]\n"
          ]
        },
        {
          "name": "stdout",
          "output_type": "stream",
          "text": [
            "0.046919201500713825 0.9462863493239488 0.9133245923061302 0.9472025216706068 0.8435087719298245 0.8435087719298245 0.8592840853736168 0.9589626431453571 0.8923533778767632\n",
            "Epoch: 100 / 500, ############## the best accuracy in val  94.8509 at Epoch: 84  ##############\n",
            "Performance in Val: Loss: (0.0469); Accuracy (94.63)\n"
          ]
        },
        {
          "name": "stderr",
          "output_type": "stream",
          "text": [
            "Epoch 101: 100%|██████████| 1494/1494 [00:26<00:00, 57.08batch/s, train_loss=tensor(0.0093, device='cuda:0', grad_fn=<MseLossBackward0>)]\n"
          ]
        },
        {
          "name": "stdout",
          "output_type": "stream",
          "text": [
            "0.04684449410574003 0.9466567882941286 0.9126759904290167 0.9515488482922955 0.840701754385965 0.840701754385965 0.8602952517254349 0.9585550817153604 0.8926974664679583\n",
            "Epoch: 101 / 500, ############## the best accuracy in val  94.8509 at Epoch: 84  ##############\n",
            "Performance in Val: Loss: (0.0468); Accuracy (94.67)\n"
          ]
        },
        {
          "name": "stderr",
          "output_type": "stream",
          "text": [
            "Epoch 102: 100%|██████████| 1494/1494 [00:26<00:00, 57.03batch/s, train_loss=tensor(0.0078, device='cuda:0', grad_fn=<MseLossBackward0>)]\n"
          ]
        },
        {
          "name": "stdout",
          "output_type": "stream",
          "text": [
            "0.04691701627929102 0.9475828857195777 0.9130800201308504 0.9560702875399361 0.84 0.84 0.8628123774170077 0.9582354603166193 0.8942846469929024\n",
            "Epoch: 102 / 500, ############## the best accuracy in val  94.8509 at Epoch: 84  ##############\n",
            "Performance in Val: Loss: (0.0469); Accuracy (94.76)\n"
          ]
        },
        {
          "name": "stderr",
          "output_type": "stream",
          "text": [
            "Epoch 103: 100%|██████████| 1494/1494 [00:26<00:00, 57.14batch/s, train_loss=tensor(0.0069, device='cuda:0', grad_fn=<MseLossBackward0>)]\n"
          ]
        },
        {
          "name": "stdout",
          "output_type": "stream",
          "text": [
            "0.046937115786766466 0.9475828857195777 0.9133050795080303 0.9553429027113237 0.840701754385965 0.840701754385965 0.8628018473747259 0.9579808227160755 0.8943635684957073\n",
            "Epoch: 103 / 500, ############## the best accuracy in val  94.8509 at Epoch: 84  ##############\n",
            "Performance in Val: Loss: (0.0469); Accuracy (94.76)\n"
          ]
        },
        {
          "name": "stderr",
          "output_type": "stream",
          "text": [
            "Epoch 104: 100%|██████████| 1494/1494 [00:26<00:00, 57.12batch/s, train_loss=tensor(0.0102, device='cuda:0', grad_fn=<MseLossBackward0>)]\n"
          ]
        },
        {
          "name": "stdout",
          "output_type": "stream",
          "text": [
            "0.047174139032987034 0.9464715688090387 0.913450410121933 0.9479495268138801 0.8435087719298245 0.8435087719298245 0.8597804426323289 0.957266000935908 0.8926847382101745\n",
            "Epoch: 104 / 500, ############## the best accuracy in val  94.8509 at Epoch: 84  ##############\n",
            "Performance in Val: Loss: (0.0472); Accuracy (94.65)\n"
          ]
        },
        {
          "name": "stderr",
          "output_type": "stream",
          "text": [
            "Epoch 105: 100%|██████████| 1494/1494 [00:26<00:00, 56.47batch/s, train_loss=tensor(0.0083, device='cuda:0', grad_fn=<MseLossBackward0>)]\n"
          ]
        },
        {
          "name": "stdout",
          "output_type": "stream",
          "text": [
            "0.047208337197926914 0.9468420077792183 0.9148273426394371 0.9459247648902821 0.8470175438596491 0.8470175438596491 0.8607692205652862 0.9572393363882782 0.8937430581266198\n",
            "Epoch: 105 / 500, ############## the best accuracy in val  94.8509 at Epoch: 84  ##############\n",
            "Performance in Val: Loss: (0.0472); Accuracy (94.68)\n"
          ]
        },
        {
          "name": "stderr",
          "output_type": "stream",
          "text": [
            "Epoch 106: 100%|██████████| 1494/1494 [00:26<00:00, 56.00batch/s, train_loss=tensor(0.0067, device='cuda:0', grad_fn=<MseLossBackward0>)]\n"
          ]
        },
        {
          "name": "stdout",
          "output_type": "stream",
          "text": [
            "0.04674734924496575 0.9470272272643082 0.9136028041921613 0.950910530482977 0.8428070175438597 0.8428070175438597 0.8612770867409313 0.9593445995461729 0.8936011904761905\n",
            "Epoch: 106 / 500, ############## the best accuracy in val  94.8509 at Epoch: 84  ##############\n",
            "Performance in Val: Loss: (0.0467); Accuracy (94.70)\n"
          ]
        },
        {
          "name": "stderr",
          "output_type": "stream",
          "text": [
            "Epoch 107: 100%|██████████| 1494/1494 [00:26<00:00, 56.38batch/s, train_loss=tensor(0.0133, device='cuda:0', grad_fn=<MseLossBackward0>)]\n"
          ]
        },
        {
          "name": "stdout",
          "output_type": "stream",
          "text": [
            "0.047175575301728466 0.9473976662344878 0.9125040835606884 0.9567654123298639 0.8385964912280702 0.8385964912280702 0.8623316850200284 0.9582261012369878 0.893792071802543\n",
            "Epoch: 107 / 500, ############## the best accuracy in val  94.8509 at Epoch: 84  ##############\n",
            "Performance in Val: Loss: (0.0472); Accuracy (94.74)\n"
          ]
        },
        {
          "name": "stderr",
          "output_type": "stream",
          "text": [
            "Epoch 108: 100%|██████████| 1494/1494 [00:26<00:00, 56.28batch/s, train_loss=tensor(0.0048, device='cuda:0', grad_fn=<MseLossBackward0>)]\n"
          ]
        },
        {
          "name": "stdout",
          "output_type": "stream",
          "text": [
            "0.04697202256118709 0.9459159103537692 0.9121727191658058 0.948535233570863 0.840701754385965 0.840701754385965 0.8582991101585504 0.957847853150743 0.8913690476190476\n",
            "Epoch: 108 / 500, ############## the best accuracy in val  94.8509 at Epoch: 84  ##############\n",
            "Performance in Val: Loss: (0.0470); Accuracy (94.59)\n"
          ]
        },
        {
          "name": "stderr",
          "output_type": "stream",
          "text": [
            "Epoch 109: 100%|██████████| 1494/1494 [00:26<00:00, 57.14batch/s, train_loss=tensor(0.0134, device='cuda:0', grad_fn=<MseLossBackward0>)]\n"
          ]
        },
        {
          "name": "stdout",
          "output_type": "stream",
          "text": [
            "0.04694700799882412 0.948323763659937 0.9149336476571399 0.9547619047619048 0.8442105263157895 0.8442105263157895 0.8647628564090345 0.9574448829673581 0.8960893854748604\n",
            "Epoch: 109 / 500, ############## the best accuracy in val  94.8509 at Epoch: 84  ##############\n",
            "Performance in Val: Loss: (0.0469); Accuracy (94.83)\n"
          ]
        },
        {
          "name": "stderr",
          "output_type": "stream",
          "text": [
            "Epoch 110: 100%|██████████| 1494/1494 [00:26<00:00, 56.42batch/s, train_loss=tensor(0.0127, device='cuda:0', grad_fn=<MseLossBackward0>)]\n"
          ]
        },
        {
          "name": "stdout",
          "output_type": "stream",
          "text": [
            "0.046795462258160114 0.9473976662344878 0.914529617955306 0.9502762430939227 0.8449122807017544 0.8449122807017544 0.8622604402288481 0.9584201696995382 0.8945022288261516\n",
            "Epoch: 110 / 500, ############## the best accuracy in val  94.8509 at Epoch: 84  ##############\n",
            "Performance in Val: Loss: (0.0468); Accuracy (94.74)\n"
          ]
        },
        {
          "name": "stderr",
          "output_type": "stream",
          "text": [
            "Epoch 111: 100%|██████████| 1494/1494 [00:26<00:00, 56.44batch/s, train_loss=tensor(0.0077, device='cuda:0', grad_fn=<MseLossBackward0>)]\n"
          ]
        },
        {
          "name": "stdout",
          "output_type": "stream",
          "text": [
            "0.04717598288235339 0.9468420077792183 0.9128018082448195 0.9523052464228935 0.840701754385965 0.840701754385965 0.8607955524752379 0.9584152252801103 0.8930301900857249\n",
            "Epoch: 111 / 500, ############## the best accuracy in val  94.8509 at Epoch: 84  ##############\n",
            "Performance in Val: Loss: (0.0472); Accuracy (94.68)\n"
          ]
        },
        {
          "name": "stderr",
          "output_type": "stream",
          "text": [
            "Epoch 112: 100%|██████████| 1494/1494 [00:26<00:00, 57.00batch/s, train_loss=tensor(0.0094, device='cuda:0', grad_fn=<MseLossBackward0>)]\n"
          ]
        },
        {
          "name": "stdout",
          "output_type": "stream",
          "text": [
            "0.046598469288173044 0.9479533246897573 0.9140068338939952 0.9554140127388535 0.8421052631578947 0.8421052631578947 0.8637868393015316 0.9605496251953487 0.8951883625512868\n",
            "Epoch: 112 / 500, ############## the best accuracy in val  94.8509 at Epoch: 84  ##############\n",
            "Performance in Val: Loss: (0.0466); Accuracy (94.80)\n"
          ]
        },
        {
          "name": "stderr",
          "output_type": "stream",
          "text": [
            "Epoch 113: 100%|██████████| 1494/1494 [00:26<00:00, 56.76batch/s, train_loss=tensor(0.0097, device='cuda:0', grad_fn=<MseLossBackward0>)]\n"
          ]
        },
        {
          "name": "stdout",
          "output_type": "stream",
          "text": [
            "0.04631930962204933 0.9473976662344878 0.9147546773324857 0.9495665878644602 0.8456140350877193 0.8456140350877193 0.8622571707567586 0.9594118789676759 0.8945805493689681\n",
            "Epoch: 113 / 500, ############## the best accuracy in val  94.8509 at Epoch: 84  ##############\n",
            "Performance in Val: Loss: (0.0463); Accuracy (94.74)\n"
          ]
        },
        {
          "name": "stderr",
          "output_type": "stream",
          "text": [
            "Epoch 114: 100%|██████████| 1494/1494 [00:26<00:00, 56.89batch/s, train_loss=tensor(0.0218, device='cuda:0', grad_fn=<MseLossBackward0>)]\n"
          ]
        },
        {
          "name": "stdout",
          "output_type": "stream",
          "text": [
            "0.04696472683413462 0.9468420077792183 0.9132519269991788 0.9508716323296355 0.8421052631578947 0.8421052631578947 0.8607832524411975 0.9579195472324495 0.8931894305917379\n",
            "Epoch: 114 / 500, ############## the best accuracy in val  94.8509 at Epoch: 84  ##############\n",
            "Performance in Val: Loss: (0.0470); Accuracy (94.68)\n"
          ]
        },
        {
          "name": "stderr",
          "output_type": "stream",
          "text": [
            "Epoch 115: 100%|██████████| 1494/1494 [00:26<00:00, 56.61batch/s, train_loss=tensor(0.0115, device='cuda:0', grad_fn=<MseLossBackward0>)]\n"
          ]
        },
        {
          "name": "stdout",
          "output_type": "stream",
          "text": [
            "0.04697885626757687 0.9468420077792183 0.9130268676219991 0.9515873015873015 0.8414035087719298 0.8414035087719298 0.8607889377860395 0.9578019406846255 0.8931098696461824\n",
            "Epoch: 115 / 500, ############## the best accuracy in val  94.8509 at Epoch: 84  ##############\n",
            "Performance in Val: Loss: (0.0470); Accuracy (94.68)\n"
          ]
        },
        {
          "name": "stderr",
          "output_type": "stream",
          "text": [
            "Epoch 116: 100%|██████████| 1494/1494 [00:26<00:00, 56.89batch/s, train_loss=tensor(0.0168, device='cuda:0', grad_fn=<MseLossBackward0>)]\n"
          ]
        },
        {
          "name": "stdout",
          "output_type": "stream",
          "text": [
            "0.04689814683727243 0.9486942026301167 0.9165356395518237 0.9519685039370078 0.848421052631579 0.848421052631579 0.8657235340923491 0.9597473931431497 0.8972170686456401\n",
            "Epoch: 116 / 500, ############## the best accuracy in val  94.8509 at Epoch: 84  ##############\n",
            "Performance in Val: Loss: (0.0469); Accuracy (94.87)\n"
          ]
        },
        {
          "name": "stderr",
          "output_type": "stream",
          "text": [
            "Epoch 117: 100%|██████████| 1494/1494 [00:26<00:00, 56.35batch/s, train_loss=tensor(0.0084, device='cuda:0', grad_fn=<MseLossBackward0>)]\n"
          ]
        },
        {
          "name": "stdout",
          "output_type": "stream",
          "text": [
            "0.04737728719853542 0.9442489349879607 0.9090148244289638 0.9481658692185008 0.8343859649122807 0.8343859649122807 0.8538456545006059 0.958368429881952 0.8876446435237029\n",
            "Epoch: 117 / 500, ############## the best accuracy in val  94.8694 at Epoch: 116  ##############\n",
            "Performance in Val: Loss: (0.0474); Accuracy (94.42)\n"
          ]
        },
        {
          "name": "stderr",
          "output_type": "stream",
          "text": [
            "Epoch 118: 100%|██████████| 1494/1494 [00:26<00:00, 56.66batch/s, train_loss=tensor(0.0133, device='cuda:0', grad_fn=<MseLossBackward0>)]\n"
          ]
        },
        {
          "name": "stdout",
          "output_type": "stream",
          "text": [
            "0.046674742448059 0.9472124467493981 0.9144038001395033 0.9495268138801262 0.8449122807017544 0.8449122807017544 0.8617630409590935 0.9574226330799318 0.8941700705532862\n",
            "Epoch: 118 / 500, ############## the best accuracy in val  94.8694 at Epoch: 116  ##############\n",
            "Performance in Val: Loss: (0.0467); Accuracy (94.72)\n"
          ]
        },
        {
          "name": "stderr",
          "output_type": "stream",
          "text": [
            "Epoch 119: 100%|██████████| 1494/1494 [00:26<00:00, 56.09batch/s, train_loss=tensor(0.0088, device='cuda:0', grad_fn=<MseLossBackward0>)]\n"
          ]
        },
        {
          "name": "stdout",
          "output_type": "stream",
          "text": [
            "0.047174179503186184 0.9481385441748472 0.9145827704641574 0.9547259729944401 0.8435087719298245 0.8435087719298245 0.8642702680781212 0.9571420372773908 0.8956780923994039\n",
            "Epoch: 119 / 500, ############## the best accuracy in val  94.8694 at Epoch: 116  ##############\n",
            "Performance in Val: Loss: (0.0472); Accuracy (94.81)\n"
          ]
        },
        {
          "name": "stderr",
          "output_type": "stream",
          "text": [
            "Epoch 120: 100%|██████████| 1494/1494 [00:26<00:00, 56.90batch/s, train_loss=tensor(0.0072, device='cuda:0', grad_fn=<MseLossBackward0>)]\n"
          ]
        },
        {
          "name": "stdout",
          "output_type": "stream",
          "text": [
            "0.0468735278330066 0.9462863493239488 0.9130995329289504 0.9479084451460142 0.8428070175438597 0.8428070175438597 0.8592857293976356 0.957282070299049 0.8922734026745914\n",
            "Epoch: 120 / 500, ############## the best accuracy in val  94.8694 at Epoch: 116  ##############\n",
            "Performance in Val: Loss: (0.0469); Accuracy (94.63)\n"
          ]
        },
        {
          "name": "stderr",
          "output_type": "stream",
          "text": [
            "Epoch 121: 100%|██████████| 1494/1494 [00:26<00:00, 57.21batch/s, train_loss=tensor(0.0126, device='cuda:0', grad_fn=<MseLossBackward0>)]\n"
          ]
        },
        {
          "name": "stdout",
          "output_type": "stream",
          "text": [
            "0.047091840343041855 0.9470272272643082 0.9136028041921613 0.950910530482977 0.8428070175438597 0.8428070175438597 0.8612770867409313 0.9576656159775381 0.8936011904761905\n",
            "Epoch: 121 / 500, ############## the best accuracy in val  94.8694 at Epoch: 116  ##############\n",
            "Performance in Val: Loss: (0.0471); Accuracy (94.70)\n"
          ]
        },
        {
          "name": "stderr",
          "output_type": "stream",
          "text": [
            "Epoch 122: 100%|██████████| 1494/1494 [00:26<00:00, 56.51batch/s, train_loss=tensor(0.0212, device='cuda:0', grad_fn=<MseLossBackward0>)]\n"
          ]
        },
        {
          "name": "stdout",
          "output_type": "stream",
          "text": [
            "0.04704894802787087 0.9479533246897573 0.9146820120255343 0.9532488114104596 0.8442105263157895 0.8442105263157895 0.8637620485697299 0.9566726706045435 0.8954224041682174\n",
            "Epoch: 122 / 500, ############## the best accuracy in val  94.8694 at Epoch: 116  ##############\n",
            "Performance in Val: Loss: (0.0470); Accuracy (94.80)\n"
          ]
        },
        {
          "name": "stderr",
          "output_type": "stream",
          "text": [
            "Epoch 123: 100%|██████████| 1494/1494 [00:26<00:00, 56.92batch/s, train_loss=tensor(0.0121, device='cuda:0', grad_fn=<MseLossBackward0>)]\n"
          ]
        },
        {
          "name": "stdout",
          "output_type": "stream",
          "text": [
            "0.0471567201258784 0.9473976662344878 0.9147546773324857 0.9495665878644602 0.8456140350877193 0.8456140350877193 0.8622571707567586 0.9560081759506971 0.8945805493689681\n",
            "Epoch: 123 / 500, ############## the best accuracy in val  94.8694 at Epoch: 116  ##############\n",
            "Performance in Val: Loss: (0.0472); Accuracy (94.74)\n"
          ]
        },
        {
          "name": "stderr",
          "output_type": "stream",
          "text": [
            "Epoch 124: 100%|██████████| 1494/1494 [00:26<00:00, 57.07batch/s, train_loss=tensor(0.0064, device='cuda:0', grad_fn=<MseLossBackward0>)]\n"
          ]
        },
        {
          "name": "stdout",
          "output_type": "stream",
          "text": [
            "0.04721751330759038 0.9468420077792183 0.9128018082448195 0.9523052464228935 0.840701754385965 0.840701754385965 0.8607955524752379 0.9571844180153454 0.8930301900857249\n",
            "Epoch: 124 / 500, ############## the best accuracy in val  94.8694 at Epoch: 116  ##############\n",
            "Performance in Val: Loss: (0.0472); Accuracy (94.68)\n"
          ]
        },
        {
          "name": "stderr",
          "output_type": "stream",
          "text": [
            "Epoch 125: 100%|██████████| 1494/1494 [00:26<00:00, 56.48batch/s, train_loss=tensor(0.0181, device='cuda:0', grad_fn=<MseLossBackward0>)]\n"
          ]
        },
        {
          "name": "stdout",
          "output_type": "stream",
          "text": [
            "0.046849966938184065 0.9473976662344878 0.9136293804465869 0.9531374106433678 0.8421052631578947 0.8421052631578947 0.862282759901778 0.9576498997872134 0.8941877794336811\n",
            "Epoch: 125 / 500, ############## the best accuracy in val  94.8694 at Epoch: 116  ##############\n",
            "Performance in Val: Loss: (0.0468); Accuracy (94.74)\n"
          ]
        },
        {
          "name": "stderr",
          "output_type": "stream",
          "text": [
            "Epoch 126: 100%|██████████| 1494/1494 [00:26<00:00, 56.37batch/s, train_loss=tensor(0.0113, device='cuda:0', grad_fn=<MseLossBackward0>)]\n"
          ]
        },
        {
          "name": "stdout",
          "output_type": "stream",
          "text": [
            "0.04643313421613791 0.9477681052046675 0.9150063129640911 0.9510655090765588 0.8456140350877193 0.8456140350877193 0.8632520105059188 0.9587389081662383 0.8952451708766715\n",
            "Epoch: 126 / 500, ############## the best accuracy in val  94.8694 at Epoch: 116  ##############\n",
            "Performance in Val: Loss: (0.0464); Accuracy (94.78)\n"
          ]
        },
        {
          "name": "stderr",
          "output_type": "stream",
          "text": [
            "Epoch 127: 100%|██████████| 1494/1494 [00:26<00:00, 56.67batch/s, train_loss=tensor(0.0067, device='cuda:0', grad_fn=<MseLossBackward0>)]\n"
          ]
        },
        {
          "name": "stdout",
          "output_type": "stream",
          "text": [
            "0.04642940833317963 0.9475828857195777 0.9146554357711087 0.9510268562401264 0.8449122807017544 0.8449122807017544 0.8627583411005223 0.9583740806470126 0.8948346339650688\n",
            "Epoch: 127 / 500, ############## the best accuracy in val  94.8694 at Epoch: 116  ##############\n",
            "Performance in Val: Loss: (0.0464); Accuracy (94.76)\n"
          ]
        },
        {
          "name": "stderr",
          "output_type": "stream",
          "text": [
            "Epoch 128: 100%|██████████| 1494/1494 [00:26<00:00, 56.79batch/s, train_loss=tensor(0.0115, device='cuda:0', grad_fn=<MseLossBackward0>)]\n"
          ]
        },
        {
          "name": "stdout",
          "output_type": "stream",
          "text": [
            "0.04706930822100152 0.9466567882941286 0.9129010498061965 0.950832672482157 0.8414035087719298 0.8414035087719298 0.860289376317897 0.9564605903283625 0.8927773641102009\n",
            "Epoch: 128 / 500, ############## the best accuracy in val  94.8694 at Epoch: 116  ##############\n",
            "Performance in Val: Loss: (0.0471); Accuracy (94.67)\n"
          ]
        },
        {
          "name": "stderr",
          "output_type": "stream",
          "text": [
            "Epoch 129: 100%|██████████| 1494/1494 [00:26<00:00, 56.82batch/s, train_loss=tensor(0.0117, device='cuda:0', grad_fn=<MseLossBackward0>)]\n"
          ]
        },
        {
          "name": "stdout",
          "output_type": "stream",
          "text": [
            "0.04661984123628248 0.9490646416002964 0.9161120970518899 0.9556259904912837 0.8463157894736842 0.8463157894736842 0.8667408446982625 0.9580311498423968 0.8976553777446967\n",
            "Epoch: 129 / 500, ############## the best accuracy in val  94.8694 at Epoch: 116  ##############\n",
            "Performance in Val: Loss: (0.0466); Accuracy (94.91)\n"
          ]
        },
        {
          "name": "stderr",
          "output_type": "stream",
          "text": [
            "Epoch 130: 100%|██████████| 1494/1494 [00:26<00:00, 56.27batch/s, train_loss=tensor(0.0133, device='cuda:0', grad_fn=<MseLossBackward0>)]\n"
          ]
        },
        {
          "name": "stdout",
          "output_type": "stream",
          "text": [
            "0.04730524575676431 0.9457306908686793 0.9111466638412842 0.9506369426751592 0.8378947368421052 0.8378947368421052 0.8578193599088393 0.9570539206597268 0.8907124207385303\n",
            "Epoch: 130 / 500, ############## the best accuracy in val  94.9065 at Epoch: 129  ##############\n",
            "Performance in Val: Loss: (0.0473); Accuracy (94.57)\n"
          ]
        },
        {
          "name": "stderr",
          "output_type": "stream",
          "text": [
            "Epoch 131: 100%|██████████| 1494/1494 [00:26<00:00, 56.59batch/s, train_loss=tensor(0.0133, device='cuda:0', grad_fn=<MseLossBackward0>)]\n"
          ]
        },
        {
          "name": "stdout",
          "output_type": "stream",
          "text": [
            "0.04728013954379342 0.9470272272643082 0.912927626060622 0.9530628480509149 0.840701754385965 0.840701754385965 0.8612963613952892 0.9567761502397161 0.8933631618195377\n",
            "Epoch: 131 / 500, ############## the best accuracy in val  94.9065 at Epoch: 129  ##############\n",
            "Performance in Val: Loss: (0.0473); Accuracy (94.70)\n"
          ]
        },
        {
          "name": "stderr",
          "output_type": "stream",
          "text": [
            "Epoch 132: 100%|██████████| 1494/1494 [00:26<00:00, 56.58batch/s, train_loss=tensor(0.0088, device='cuda:0', grad_fn=<MseLossBackward0>)]\n"
          ]
        },
        {
          "name": "stdout",
          "output_type": "stream",
          "text": [
            "0.047287449410015885 0.9473976662344878 0.9138544398237668 0.9524187153053132 0.8428070175438597 0.8428070175438597 0.8622757875997 0.9553117191569764 0.8942665673864483\n",
            "Epoch: 132 / 500, ############## the best accuracy in val  94.9065 at Epoch: 129  ##############\n",
            "Performance in Val: Loss: (0.0473); Accuracy (94.74)\n"
          ]
        },
        {
          "name": "stderr",
          "output_type": "stream",
          "text": [
            "Epoch 133: 100%|██████████| 1494/1494 [00:26<00:00, 57.13batch/s, train_loss=tensor(0.0101, device='cuda:0', grad_fn=<MseLossBackward0>)]\n"
          ]
        },
        {
          "name": "stdout",
          "output_type": "stream",
          "text": [
            "0.0470000087198886 0.9475828857195777 0.9130800201308504 0.9560702875399361 0.84 0.84 0.8628123774170077 0.9568547311913402 0.8942846469929024\n",
            "Epoch: 133 / 500, ############## the best accuracy in val  94.9065 at Epoch: 129  ##############\n",
            "Performance in Val: Loss: (0.0470); Accuracy (94.76)\n"
          ]
        },
        {
          "name": "stderr",
          "output_type": "stream",
          "text": [
            "Epoch 134: 100%|██████████| 1494/1494 [00:26<00:00, 57.06batch/s, train_loss=tensor(0.0095, device='cuda:0', grad_fn=<MseLossBackward0>)]\n"
          ]
        },
        {
          "name": "stdout",
          "output_type": "stream",
          "text": [
            "0.046551300593736494 0.948323763659937 0.9151587070343196 0.9540412044374009 0.8449122807017544 0.8449122807017544 0.8647549806125742 0.9601376491051483 0.8961667286937104\n",
            "Epoch: 134 / 500, ############## the best accuracy in val  94.9065 at Epoch: 129  ##############\n",
            "Performance in Val: Loss: (0.0466); Accuracy (94.83)\n"
          ]
        },
        {
          "name": "stderr",
          "output_type": "stream",
          "text": [
            "Epoch 135: 100%|██████████| 1494/1494 [00:26<00:00, 56.45batch/s, train_loss=tensor(0.0119, device='cuda:0', grad_fn=<MseLossBackward0>)]\n"
          ]
        },
        {
          "name": "stdout",
          "output_type": "stream",
          "text": [
            "0.04677216090600599 0.9490646416002964 0.9165622158062494 0.9541864139020537 0.847719298245614 0.847719298245614 0.8667257083120538 0.9588480385664716 0.8978075065031587\n",
            "Epoch: 135 / 500, ############## the best accuracy in val  94.9065 at Epoch: 129  ##############\n",
            "Performance in Val: Loss: (0.0468); Accuracy (94.91)\n"
          ]
        },
        {
          "name": "stderr",
          "output_type": "stream",
          "text": [
            "Epoch 136: 100%|██████████| 1494/1494 [00:26<00:00, 56.82batch/s, train_loss=tensor(0.0094, device='cuda:0', grad_fn=<MseLossBackward0>)]\n"
          ]
        },
        {
          "name": "stdout",
          "output_type": "stream",
          "text": [
            "0.04722898910668763 0.9470272272643082 0.9131526854378018 0.9523431294678316 0.8414035087719298 0.8414035087719298 0.8612890058136065 0.9566792043016449 0.8934426229508197\n",
            "Epoch: 136 / 500, ############## the best accuracy in val  94.9065 at Epoch: 129  ##############\n",
            "Performance in Val: Loss: (0.0472); Accuracy (94.70)\n"
          ]
        },
        {
          "name": "stderr",
          "output_type": "stream",
          "text": [
            "Epoch 137: 100%|██████████| 1494/1494 [00:26<00:00, 56.57batch/s, train_loss=tensor(0.0092, device='cuda:0', grad_fn=<MseLossBackward0>)]\n"
          ]
        },
        {
          "name": "stdout",
          "output_type": "stream",
          "text": [
            "0.04633851561018012 0.9481385441748472 0.9154830079728764 0.9518547750591949 0.8463157894736842 0.8463157894736842 0.8642435807829896 0.9589471035414403 0.8959881129271917\n",
            "Epoch: 137 / 500, ############## the best accuracy in val  94.9065 at Epoch: 129  ##############\n",
            "Performance in Val: Loss: (0.0463); Accuracy (94.81)\n"
          ]
        },
        {
          "name": "stderr",
          "output_type": "stream",
          "text": [
            "Epoch 138: 100%|██████████| 1494/1494 [00:26<00:00, 56.85batch/s, train_loss=tensor(0.0125, device='cuda:0', grad_fn=<MseLossBackward0>)]\n"
          ]
        },
        {
          "name": "stdout",
          "output_type": "stream",
          "text": [
            "0.04666874553500251 0.948323763659937 0.9144835289027804 0.9562101910828026 0.8428070175438597 0.8428070175438597 0.8647814192003136 0.958490804262796 0.8959343528534129\n",
            "Epoch: 138 / 500, ############## the best accuracy in val  94.9065 at Epoch: 129  ##############\n",
            "Performance in Val: Loss: (0.0467); Accuracy (94.83)\n"
          ]
        },
        {
          "name": "stderr",
          "output_type": "stream",
          "text": [
            "Epoch 139: 100%|██████████| 1494/1494 [00:26<00:00, 56.90batch/s, train_loss=tensor(0.0143, device='cuda:0', grad_fn=<MseLossBackward0>)]\n"
          ]
        },
        {
          "name": "stdout",
          "output_type": "stream",
          "text": [
            "0.046356813685799185 0.9485089831450269 0.9159597029816615 0.9526440410418311 0.8470175438596491 0.8470175438596491 0.8652351510600604 0.9590673588853866 0.8967310549777119\n",
            "Epoch: 139 / 500, ############## the best accuracy in val  94.9065 at Epoch: 129  ##############\n",
            "Performance in Val: Loss: (0.0464); Accuracy (94.85)\n"
          ]
        },
        {
          "name": "stderr",
          "output_type": "stream",
          "text": [
            "Epoch 140: 100%|██████████| 1494/1494 [00:26<00:00, 56.62batch/s, train_loss=tensor(0.0082, device='cuda:0', grad_fn=<MseLossBackward0>)]\n"
          ]
        },
        {
          "name": "stdout",
          "output_type": "stream",
          "text": [
            "0.04637056817723946 0.948323763659937 0.9162840039202182 0.9504716981132075 0.848421052631579 0.848421052631579 0.8647295341013241 0.9578819343275149 0.896551724137931\n",
            "Epoch: 140 / 500, ############## the best accuracy in val  94.9065 at Epoch: 129  ##############\n",
            "Performance in Val: Loss: (0.0464); Accuracy (94.83)\n"
          ]
        },
        {
          "name": "stderr",
          "output_type": "stream",
          "text": [
            "Epoch 141: 100%|██████████| 1494/1494 [00:26<00:00, 56.45batch/s, train_loss=tensor(0.0278, device='cuda:0', grad_fn=<MseLossBackward0>)]\n"
          ]
        },
        {
          "name": "stdout",
          "output_type": "stream",
          "text": [
            "0.046847100792960686 0.9477681052046675 0.9143311348325519 0.9532117367168914 0.8435087719298245 0.8435087719298245 0.8632689932406015 0.9566919185230313 0.8950111690245719\n",
            "Epoch: 141 / 500, ############## the best accuracy in val  94.9065 at Epoch: 129  ##############\n",
            "Performance in Val: Loss: (0.0468); Accuracy (94.78)\n"
          ]
        },
        {
          "name": "stderr",
          "output_type": "stream",
          "text": [
            "Epoch 142: 100%|██████████| 1494/1494 [00:26<00:00, 56.50batch/s, train_loss=tensor(0.0173, device='cuda:0', grad_fn=<MseLossBackward0>)]\n"
          ]
        },
        {
          "name": "stdout",
          "output_type": "stream",
          "text": [
            "0.04710421021181074 0.9479533246897573 0.9146820120255343 0.9532488114104596 0.8442105263157895 0.8442105263157895 0.8637620485697299 0.9572539930601542 0.8954224041682174\n",
            "Epoch: 142 / 500, ############## the best accuracy in val  94.9065 at Epoch: 129  ##############\n",
            "Performance in Val: Loss: (0.0471); Accuracy (94.80)\n"
          ]
        },
        {
          "name": "stderr",
          "output_type": "stream",
          "text": [
            "Epoch 143: 100%|██████████| 1494/1494 [00:26<00:00, 56.41batch/s, train_loss=tensor(0.0164, device='cuda:0', grad_fn=<MseLossBackward0>)]\n"
          ]
        },
        {
          "name": "stdout",
          "output_type": "stream",
          "text": [
            "0.046639500693841415 0.9468420077792183 0.9132519269991788 0.9508716323296355 0.8421052631578947 0.8421052631578947 0.8607832524411975 0.9584973379598971 0.8931894305917379\n",
            "Epoch: 143 / 500, ############## the best accuracy in val  94.9065 at Epoch: 129  ##############\n",
            "Performance in Val: Loss: (0.0466); Accuracy (94.68)\n"
          ]
        },
        {
          "name": "stderr",
          "output_type": "stream",
          "text": [
            "Epoch 144: 100%|██████████| 1494/1494 [00:26<00:00, 56.84batch/s, train_loss=tensor(0.0082, device='cuda:0', grad_fn=<MseLossBackward0>)]\n"
          ]
        },
        {
          "name": "stdout",
          "output_type": "stream",
          "text": [
            "0.046734544363888825 0.9477681052046675 0.9138810160781925 0.954653937947494 0.8421052631578947 0.8421052631578947 0.8632849698130834 0.9578462638730697 0.894854586129754\n",
            "Epoch: 144 / 500, ############## the best accuracy in val  94.9065 at Epoch: 129  ##############\n",
            "Performance in Val: Loss: (0.0467); Accuracy (94.78)\n"
          ]
        },
        {
          "name": "stderr",
          "output_type": "stream",
          "text": [
            "Epoch 145: 100%|██████████| 1494/1494 [00:26<00:00, 56.96batch/s, train_loss=tensor(0.0094, device='cuda:0', grad_fn=<MseLossBackward0>)]\n"
          ]
        },
        {
          "name": "stdout",
          "output_type": "stream",
          "text": [
            "0.047139686193655835 0.9477681052046675 0.9127557191922938 0.958299919807538 0.8385964912280702 0.8385964912280702 0.8633413849849579 0.9571095453782923 0.8944610778443114\n",
            "Epoch: 145 / 500, ############## the best accuracy in val  94.9065 at Epoch: 129  ##############\n",
            "Performance in Val: Loss: (0.0471); Accuracy (94.78)\n"
          ]
        },
        {
          "name": "stderr",
          "output_type": "stream",
          "text": [
            "Epoch 146: 100%|██████████| 1494/1494 [00:26<00:00, 56.59batch/s, train_loss=tensor(0.0153, device='cuda:0', grad_fn=<MseLossBackward0>)]\n"
          ]
        },
        {
          "name": "stdout",
          "output_type": "stream",
          "text": [
            "0.04672656661238183 0.9488794221152065 0.9157612198589075 0.9555908009516257 0.8456140350877193 0.8456140350877193 0.8662486101633059 0.9569643913507977 0.8972449739389426\n",
            "Epoch: 146 / 500, ############## the best accuracy in val  94.9065 at Epoch: 129  ##############\n",
            "Performance in Val: Loss: (0.0467); Accuracy (94.89)\n"
          ]
        },
        {
          "name": "stderr",
          "output_type": "stream",
          "text": [
            "Epoch 147: 100%|██████████| 1494/1494 [00:26<00:00, 55.97batch/s, train_loss=tensor(0.0125, device='cuda:0', grad_fn=<MseLossBackward0>)]\n"
          ]
        },
        {
          "name": "stdout",
          "output_type": "stream",
          "text": [
            "0.046602965078570625 0.9472124467493981 0.9128283844992451 0.9545454545454546 0.84 0.84 0.861806714833157 0.9577533794223858 0.8936170212765958\n",
            "Epoch: 147 / 500, ############## the best accuracy in val  94.9065 at Epoch: 129  ##############\n",
            "Performance in Val: Loss: (0.0466); Accuracy (94.72)\n"
          ]
        },
        {
          "name": "stderr",
          "output_type": "stream",
          "text": [
            "Epoch 148: 100%|██████████| 1494/1494 [00:26<00:00, 56.49batch/s, train_loss=tensor(0.0064, device='cuda:0', grad_fn=<MseLossBackward0>)]\n"
          ]
        },
        {
          "name": "stdout",
          "output_type": "stream",
          "text": [
            "0.046551205133172596 0.948323763659937 0.9158338851658587 0.9518927444794952 0.8470175438596491 0.8470175438596491 0.8647369384492404 0.9583578346974634 0.8963980690679539\n",
            "Epoch: 148 / 500, ############## the best accuracy in val  94.9065 at Epoch: 129  ##############\n",
            "Performance in Val: Loss: (0.0466); Accuracy (94.83)\n"
          ]
        },
        {
          "name": "stderr",
          "output_type": "stream",
          "text": [
            "Epoch 149: 100%|██████████| 1494/1494 [00:26<00:00, 55.80batch/s, train_loss=tensor(0.0056, device='cuda:0', grad_fn=<MseLossBackward0>)]\n"
          ]
        },
        {
          "name": "stdout",
          "output_type": "stream",
          "text": [
            "0.04664642029357227 0.9485089831450269 0.9157346436044818 0.9533596837944665 0.8463157894736842 0.8463157894736842 0.8652409720555595 0.9581856629495228 0.8966542750929368\n",
            "Epoch: 149 / 500, ############## the best accuracy in val  94.9065 at Epoch: 129  ##############\n",
            "Performance in Val: Loss: (0.0466); Accuracy (94.85)\n"
          ]
        },
        {
          "name": "stderr",
          "output_type": "stream",
          "text": [
            "Epoch 150: 100%|██████████| 1494/1494 [00:26<00:00, 56.20batch/s, train_loss=tensor(0.0090, device='cuda:0', grad_fn=<MseLossBackward0>)]\n"
          ]
        },
        {
          "name": "stdout",
          "output_type": "stream",
          "text": [
            "0.046679464422843674 0.9490646416002964 0.915211859543171 0.9585326953748007 0.8435087719298245 0.8435087719298245 0.8667823775410014 0.9582815493691451 0.8973497573721538\n",
            "Epoch: 150 / 500, ############## the best accuracy in val  94.9065 at Epoch: 129  ##############\n",
            "Performance in Val: Loss: (0.0467); Accuracy (94.91)\n"
          ]
        },
        {
          "name": "stderr",
          "output_type": "stream",
          "text": [
            "Epoch 151: 100%|██████████| 1494/1494 [00:26<00:00, 56.48batch/s, train_loss=tensor(0.0120, device='cuda:0', grad_fn=<MseLossBackward0>)]\n"
          ]
        },
        {
          "name": "stdout",
          "output_type": "stream",
          "text": [
            "0.04622019958597692 0.9492498610853862 0.9173632117535914 0.9527930763178599 0.8498245614035088 0.8498245614035088 0.8672072608309709 0.9614947156517363 0.8983679525222552\n",
            "Epoch: 151 / 500, ############## the best accuracy in val  94.9065 at Epoch: 129  ##############\n",
            "Performance in Val: Loss: (0.0462); Accuracy (94.92)\n"
          ]
        },
        {
          "name": "stderr",
          "output_type": "stream",
          "text": [
            "Epoch 152: 100%|██████████| 1494/1494 [00:26<00:00, 56.31batch/s, train_loss=tensor(0.0060, device='cuda:0', grad_fn=<MseLossBackward0>)]\n"
          ]
        },
        {
          "name": "stdout",
          "output_type": "stream",
          "text": [
            "0.04630994407290762 0.948323763659937 0.9156088257886791 0.95260663507109 0.8463157894736842 0.8463157894736842 0.864742024706288 0.9586974103603245 0.8963210702341138\n",
            "Epoch: 152 / 500, ############## the best accuracy in val  94.9250 at Epoch: 151  ##############\n",
            "Performance in Val: Loss: (0.0463); Accuracy (94.83)\n"
          ]
        },
        {
          "name": "stderr",
          "output_type": "stream",
          "text": [
            "Epoch 153: 100%|██████████| 1494/1494 [00:26<00:00, 56.25batch/s, train_loss=tensor(0.0214, device='cuda:0', grad_fn=<MseLossBackward0>)]\n"
          ]
        },
        {
          "name": "stdout",
          "output_type": "stream",
          "text": [
            "0.046733182558620516 0.9479533246897573 0.9151321307798939 0.9518167456556083 0.8456140350877193 0.8456140350877193 0.8637501829034052 0.9577290104980618 0.8955778520995913\n",
            "Epoch: 153 / 500, ############## the best accuracy in val  94.9250 at Epoch: 151  ##############\n",
            "Performance in Val: Loss: (0.0467); Accuracy (94.80)\n"
          ]
        },
        {
          "name": "stderr",
          "output_type": "stream",
          "text": [
            "Epoch 154: 100%|██████████| 1494/1494 [00:26<00:00, 56.53batch/s, train_loss=tensor(0.0132, device='cuda:0', grad_fn=<MseLossBackward0>)]\n"
          ]
        },
        {
          "name": "stdout",
          "output_type": "stream",
          "text": [
            "0.04655936830253764 0.9470272272643082 0.9133777448149816 0.9516256938937351 0.8421052631578947 0.8421052631578947 0.8612825819587986 0.9586793985466939 0.8935219657483245\n",
            "Epoch: 154 / 500, ############## the best accuracy in val  94.9250 at Epoch: 151  ##############\n",
            "Performance in Val: Loss: (0.0466); Accuracy (94.70)\n"
          ]
        },
        {
          "name": "stderr",
          "output_type": "stream",
          "text": [
            "Epoch 155: 100%|██████████| 1494/1494 [00:26<00:00, 56.74batch/s, train_loss=tensor(0.0118, device='cuda:0', grad_fn=<MseLossBackward0>)]\n"
          ]
        },
        {
          "name": "stdout",
          "output_type": "stream",
          "text": [
            "0.046922813762318 0.9479533246897573 0.9151321307798939 0.9518167456556083 0.8456140350877193 0.8456140350877193 0.8637501829034052 0.9570360854325042 0.8955778520995913\n",
            "Epoch: 155 / 500, ############## the best accuracy in val  94.9250 at Epoch: 151  ##############\n",
            "Performance in Val: Loss: (0.0469); Accuracy (94.80)\n"
          ]
        },
        {
          "name": "stderr",
          "output_type": "stream",
          "text": [
            "Epoch 156: 100%|██████████| 1494/1494 [00:26<00:00, 56.25batch/s, train_loss=tensor(0.0134, device='cuda:0', grad_fn=<MseLossBackward0>)]\n"
          ]
        },
        {
          "name": "stdout",
          "output_type": "stream",
          "text": [
            "0.04676008050922643 0.9477681052046675 0.9143311348325519 0.9532117367168914 0.8435087719298245 0.8435087719298245 0.8632689932406015 0.9586274821426994 0.8950111690245719\n",
            "Epoch: 156 / 500, ############## the best accuracy in val  94.9250 at Epoch: 151  ##############\n",
            "Performance in Val: Loss: (0.0468); Accuracy (94.78)\n"
          ]
        },
        {
          "name": "stderr",
          "output_type": "stream",
          "text": [
            "Epoch 157: 100%|██████████| 1494/1494 [00:26<00:00, 56.85batch/s, train_loss=tensor(0.0104, device='cuda:0', grad_fn=<MseLossBackward0>)]\n"
          ]
        },
        {
          "name": "stdout",
          "output_type": "stream",
          "text": [
            "0.046568323731083765 0.9477681052046675 0.9145561942097318 0.9524940617577197 0.8442105263157895 0.8442105263157895 0.8632624044625186 0.9577929347778101 0.8950892857142858\n",
            "Epoch: 157 / 500, ############## the best accuracy in val  94.9250 at Epoch: 151  ##############\n",
            "Performance in Val: Loss: (0.0466); Accuracy (94.78)\n"
          ]
        },
        {
          "name": "stderr",
          "output_type": "stream",
          "text": [
            "Epoch 158: 100%|██████████| 1494/1494 [00:26<00:00, 56.35batch/s, train_loss=tensor(0.0082, device='cuda:0', grad_fn=<MseLossBackward0>)]\n"
          ]
        },
        {
          "name": "stdout",
          "output_type": "stream",
          "text": [
            "0.047060501465404574 0.9461011298388591 0.91094818071853 0.9536 0.8364912280701754 0.8364912280701754 0.8588388810907814 0.9579063032518387 0.891214953271028\n",
            "Epoch: 158 / 500, ############## the best accuracy in val  94.9250 at Epoch: 151  ##############\n",
            "Performance in Val: Loss: (0.0471); Accuracy (94.61)\n"
          ]
        },
        {
          "name": "stderr",
          "output_type": "stream",
          "text": [
            "Epoch 159: 100%|██████████| 1494/1494 [00:26<00:00, 56.17batch/s, train_loss=tensor(0.0094, device='cuda:0', grad_fn=<MseLossBackward0>)]\n"
          ]
        },
        {
          "name": "stdout",
          "output_type": "stream",
          "text": [
            "0.04679070595143871 0.9479533246897573 0.9142318932711749 0.9546899841017488 0.8428070175438597 0.8428070175438597 0.863777639292111 0.9584800324918991 0.8952664927320164\n",
            "Epoch: 159 / 500, ############## the best accuracy in val  94.9250 at Epoch: 151  ##############\n",
            "Performance in Val: Loss: (0.0468); Accuracy (94.80)\n"
          ]
        },
        {
          "name": "stderr",
          "output_type": "stream",
          "text": [
            "Epoch 160: 100%|██████████| 1494/1494 [00:26<00:00, 56.00batch/s, train_loss=tensor(0.0128, device='cuda:0', grad_fn=<MseLossBackward0>)]\n"
          ]
        },
        {
          "name": "stdout",
          "output_type": "stream",
          "text": [
            "0.04616504018618302 0.9488794221152065 0.915311101104548 0.9570405727923628 0.8442105263157895 0.8442105263157895 0.8662678824397747 0.9600334631243432 0.8970917225950783\n",
            "Epoch: 160 / 500, ############## the best accuracy in val  94.9250 at Epoch: 151  ##############\n",
            "Performance in Val: Loss: (0.0462); Accuracy (94.89)\n"
          ]
        },
        {
          "name": "stderr",
          "output_type": "stream",
          "text": [
            "Epoch 161: 100%|██████████| 1494/1494 [00:26<00:00, 55.97batch/s, train_loss=tensor(0.0095, device='cuda:0', grad_fn=<MseLossBackward0>)]\n"
          ]
        },
        {
          "name": "stdout",
          "output_type": "stream",
          "text": [
            "0.0470152218318121 0.9472124467493981 0.9132785032536046 0.9531001589825119 0.8414035087719298 0.8414035087719298 0.8617895814141956 0.9565864964373693 0.8937756243011554\n",
            "Epoch: 161 / 500, ############## the best accuracy in val  94.9250 at Epoch: 151  ##############\n",
            "Performance in Val: Loss: (0.0470); Accuracy (94.72)\n"
          ]
        },
        {
          "name": "stderr",
          "output_type": "stream",
          "text": [
            "Epoch 162: 100%|██████████| 1494/1494 [00:26<00:00, 56.52batch/s, train_loss=tensor(0.0083, device='cuda:0', grad_fn=<MseLossBackward0>)]\n"
          ]
        },
        {
          "name": "stdout",
          "output_type": "stream",
          "text": [
            "0.046655402137813246 0.9466567882941286 0.913351168560556 0.9494071146245059 0.8428070175438597 0.8428070175438597 0.860280403347606 0.9594212380473075 0.8929368029739777\n",
            "Epoch: 162 / 500, ############## the best accuracy in val  94.9250 at Epoch: 151  ##############\n",
            "Performance in Val: Loss: (0.0467); Accuracy (94.67)\n"
          ]
        },
        {
          "name": "stderr",
          "output_type": "stream",
          "text": [
            "Epoch 163: 100%|██████████| 1494/1494 [00:26<00:00, 57.05batch/s, train_loss=tensor(0.0166, device='cuda:0', grad_fn=<MseLossBackward0>)]\n"
          ]
        },
        {
          "name": "stdout",
          "output_type": "stream",
          "text": [
            "0.04674393476241014 0.9475828857195777 0.9146554357711087 0.9510268562401264 0.8449122807017544 0.8449122807017544 0.8627583411005223 0.9582132104291934 0.8948346339650688\n",
            "Epoch: 163 / 500, ############## the best accuracy in val  94.9250 at Epoch: 151  ##############\n",
            "Performance in Val: Loss: (0.0467); Accuracy (94.76)\n"
          ]
        },
        {
          "name": "stderr",
          "output_type": "stream",
          "text": [
            "Epoch 164: 100%|██████████| 1494/1494 [00:26<00:00, 57.14batch/s, train_loss=tensor(0.0135, device='cuda:0', grad_fn=<MseLossBackward0>)]\n"
          ]
        },
        {
          "name": "stdout",
          "output_type": "stream",
          "text": [
            "0.04674999606372281 0.948323763659937 0.9144835289027804 0.9562101910828026 0.8428070175438597 0.8428070175438597 0.8647814192003136 0.9590618847067343 0.8959343528534129\n",
            "Epoch: 164 / 500, ############## the best accuracy in val  94.9250 at Epoch: 151  ##############\n",
            "Performance in Val: Loss: (0.0467); Accuracy (94.83)\n"
          ]
        },
        {
          "name": "stderr",
          "output_type": "stream",
          "text": [
            "Epoch 165: 100%|██████████| 1494/1494 [00:26<00:00, 57.24batch/s, train_loss=tensor(0.0140, device='cuda:0', grad_fn=<MseLossBackward0>)]\n"
          ]
        },
        {
          "name": "stdout",
          "output_type": "stream",
          "text": [
            "0.04648849249563434 0.9492498610853862 0.9160128554905129 0.9571088165210484 0.8456140350877193 0.8456140350877193 0.867251530342636 0.9581482266309962 0.8979135618479881\n",
            "Epoch: 165 / 500, ############## the best accuracy in val  94.9250 at Epoch: 151  ##############\n",
            "Performance in Val: Loss: (0.0465); Accuracy (94.92)\n"
          ]
        },
        {
          "name": "stderr",
          "output_type": "stream",
          "text": [
            "Epoch 166: 100%|██████████| 1494/1494 [00:26<00:00, 56.31batch/s, train_loss=tensor(0.0186, device='cuda:0', grad_fn=<MseLossBackward0>)]\n"
          ]
        },
        {
          "name": "stdout",
          "output_type": "stream",
          "text": [
            "0.04628607088869268 0.9479533246897573 0.9144569526483546 0.953968253968254 0.8435087719298245 0.8435087719298245 0.8637693767532858 0.9592289354488385 0.8953445065176908\n",
            "Epoch: 166 / 500, ############## the best accuracy in val  94.9250 at Epoch: 151  ##############\n",
            "Performance in Val: Loss: (0.0463); Accuracy (94.80)\n"
          ]
        },
        {
          "name": "stderr",
          "output_type": "stream",
          "text": [
            "Epoch 167: 100%|██████████| 1494/1494 [00:26<00:00, 56.18batch/s, train_loss=tensor(0.0146, device='cuda:0', grad_fn=<MseLossBackward0>)]\n"
          ]
        },
        {
          "name": "stdout",
          "output_type": "stream",
          "text": [
            "0.04623186533254656 0.9485089831450269 0.9150594654729426 0.9555202541699762 0.8442105263157895 0.8442105263157895 0.8652640221662928 0.9599170926813763 0.8964232488822654\n",
            "Epoch: 167 / 500, ############## the best accuracy in val  94.9250 at Epoch: 151  ##############\n",
            "Performance in Val: Loss: (0.0462); Accuracy (94.85)\n"
          ]
        },
        {
          "name": "stderr",
          "output_type": "stream",
          "text": [
            "Epoch 168: 100%|██████████| 1494/1494 [00:26<00:00, 56.13batch/s, train_loss=tensor(0.0129, device='cuda:0', grad_fn=<MseLossBackward0>)]\n"
          ]
        },
        {
          "name": "stdout",
          "output_type": "stream",
          "text": [
            "0.046802094925872305 0.9477681052046675 0.9143311348325519 0.9532117367168914 0.8435087719298245 0.8435087719298245 0.8632689932406015 0.9586202420999655 0.8950111690245719\n",
            "Epoch: 168 / 500, ############## the best accuracy in val  94.9250 at Epoch: 151  ##############\n",
            "Performance in Val: Loss: (0.0468); Accuracy (94.78)\n"
          ]
        },
        {
          "name": "stderr",
          "output_type": "stream",
          "text": [
            "Epoch 169: 100%|██████████| 1494/1494 [00:26<00:00, 56.81batch/s, train_loss=tensor(0.0066, device='cuda:0', grad_fn=<MseLossBackward0>)]\n"
          ]
        },
        {
          "name": "stdout",
          "output_type": "stream",
          "text": [
            "0.04650684640827504 0.9496203000555659 0.9173897880080171 0.9550118389897395 0.8491228070175438 0.8491228070175438 0.8682098618912728 0.9586571486592678 0.8989598811292719\n",
            "Epoch: 169 / 500, ############## the best accuracy in val  94.9250 at Epoch: 151  ##############\n",
            "Performance in Val: Loss: (0.0465); Accuracy (94.96)\n"
          ]
        },
        {
          "name": "stderr",
          "output_type": "stream",
          "text": [
            "Epoch 170: 100%|██████████| 1494/1494 [00:26<00:00, 56.23batch/s, train_loss=tensor(0.0083, device='cuda:0', grad_fn=<MseLossBackward0>)]\n"
          ]
        },
        {
          "name": "stdout",
          "output_type": "stream",
          "text": [
            "0.04623710169372233 0.948323763659937 0.9144835289027804 0.9562101910828026 0.8428070175438597 0.8428070175438597 0.8647814192003136 0.9602453668141162 0.8959343528534129\n",
            "Epoch: 170 / 500, ############## the best accuracy in val  94.9620 at Epoch: 169  ##############\n",
            "Performance in Val: Loss: (0.0462); Accuracy (94.83)\n"
          ]
        },
        {
          "name": "stderr",
          "output_type": "stream",
          "text": [
            "Epoch 171: 100%|██████████| 1494/1494 [00:26<00:00, 56.54batch/s, train_loss=tensor(0.0061, device='cuda:0', grad_fn=<MseLossBackward0>)]\n"
          ]
        },
        {
          "name": "stdout",
          "output_type": "stream",
          "text": [
            "0.046586389230056244 0.9473976662344878 0.9129542023150479 0.9553072625698324 0.84 0.84 0.8623092896915334 0.9583491819634642 0.89395070948469\n",
            "Epoch: 171 / 500, ############## the best accuracy in val  94.9620 at Epoch: 169  ##############\n",
            "Performance in Val: Loss: (0.0466); Accuracy (94.74)\n"
          ]
        },
        {
          "name": "stderr",
          "output_type": "stream",
          "text": [
            "Epoch 172: 100%|██████████| 1494/1494 [00:26<00:00, 56.25batch/s, train_loss=tensor(0.0121, device='cuda:0', grad_fn=<MseLossBackward0>)]\n"
          ]
        },
        {
          "name": "stdout",
          "output_type": "stream",
          "text": [
            "0.04662489103661342 0.9477681052046675 0.9150063129640911 0.9510655090765588 0.8456140350877193 0.8456140350877193 0.8632520105059188 0.9576815087542712 0.8952451708766715\n",
            "Epoch: 172 / 500, ############## the best accuracy in val  94.9620 at Epoch: 169  ##############\n",
            "Performance in Val: Loss: (0.0466); Accuracy (94.78)\n"
          ]
        },
        {
          "name": "stderr",
          "output_type": "stream",
          "text": [
            "Epoch 173: 100%|██████████| 1494/1494 [00:26<00:00, 56.58batch/s, train_loss=tensor(0.0113, device='cuda:0', grad_fn=<MseLossBackward0>)]\n"
          ]
        },
        {
          "name": "stdout",
          "output_type": "stream",
          "text": [
            "0.04629480390047485 0.9479533246897573 0.9135567151396358 0.9568690095846646 0.840701754385965 0.840701754385965 0.8638080642907094 0.9588987188656088 0.8950317519611506\n",
            "Epoch: 173 / 500, ############## the best accuracy in val  94.9620 at Epoch: 169  ##############\n",
            "Performance in Val: Loss: (0.0463); Accuracy (94.80)\n"
          ]
        },
        {
          "name": "stderr",
          "output_type": "stream",
          "text": [
            "Epoch 174: 100%|██████████| 1494/1494 [00:26<00:00, 55.76batch/s, train_loss=tensor(0.0171, device='cuda:0', grad_fn=<MseLossBackward0>)]\n"
          ]
        },
        {
          "name": "stdout",
          "output_type": "stream",
          "text": [
            "0.046878022607415915 0.948323763659937 0.9158338851658587 0.9518927444794952 0.8470175438596491 0.8470175438596491 0.8647369384492404 0.9577758058962202 0.8963980690679539\n",
            "Epoch: 174 / 500, ############## the best accuracy in val  94.9620 at Epoch: 169  ##############\n",
            "Performance in Val: Loss: (0.0469); Accuracy (94.83)\n"
          ]
        },
        {
          "name": "stderr",
          "output_type": "stream",
          "text": [
            "Epoch 175: 100%|██████████| 1494/1494 [00:26<00:00, 56.06batch/s, train_loss=tensor(0.0149, device='cuda:0', grad_fn=<MseLossBackward0>)]\n"
          ]
        },
        {
          "name": "stdout",
          "output_type": "stream",
          "text": [
            "0.046730466313998804 0.9475828857195777 0.9142053170167492 0.9524564183835182 0.8435087719298245 0.8435087719298245 0.8627691165268858 0.958534950864832 0.8946780796427243\n",
            "Epoch: 175 / 500, ############## the best accuracy in val  94.9620 at Epoch: 169  ##############\n",
            "Performance in Val: Loss: (0.0467); Accuracy (94.76)\n"
          ]
        },
        {
          "name": "stderr",
          "output_type": "stream",
          "text": [
            "Epoch 176: 100%|██████████| 1494/1494 [00:26<00:00, 56.73batch/s, train_loss=tensor(0.0130, device='cuda:0', grad_fn=<MseLossBackward0>)]\n"
          ]
        },
        {
          "name": "stdout",
          "output_type": "stream",
          "text": [
            "0.04661808531223373 0.9485089831450269 0.9141592279642237 0.9584332533972821 0.8414035087719298 0.8414035087719298 0.8653079083918075 0.9571522792890632 0.8961136023916293\n",
            "Epoch: 176 / 500, ############## the best accuracy in val  94.9620 at Epoch: 169  ##############\n",
            "Performance in Val: Loss: (0.0466); Accuracy (94.85)\n"
          ]
        },
        {
          "name": "stderr",
          "output_type": "stream",
          "text": [
            "Epoch 177: 100%|██████████| 1494/1494 [00:26<00:00, 56.79batch/s, train_loss=tensor(0.0119, device='cuda:0', grad_fn=<MseLossBackward0>)]\n"
          ]
        },
        {
          "name": "stdout",
          "output_type": "stream",
          "text": [
            "0.04658247970721938 0.9486942026301167 0.915410342665925 0.9555555555555556 0.8449122807017544 0.8449122807017544 0.8657563360647833 0.958664741874818 0.89683426443203\n",
            "Epoch: 177 / 500, ############## the best accuracy in val  94.9620 at Epoch: 169  ##############\n",
            "Performance in Val: Loss: (0.0466); Accuracy (94.87)\n"
          ]
        },
        {
          "name": "stderr",
          "output_type": "stream",
          "text": [
            "Epoch 178: 100%|██████████| 1494/1494 [00:26<00:00, 55.43batch/s, train_loss=tensor(0.0238, device='cuda:0', grad_fn=<MseLossBackward0>)]\n"
          ]
        },
        {
          "name": "stdout",
          "output_type": "stream",
          "text": [
            "0.04645608835430308 0.948323763659937 0.9140334101484209 0.957667731629393 0.8414035087719298 0.8414035087719298 0.8648037511644112 0.9595213625407252 0.8957788569293985\n",
            "Epoch: 178 / 500, ############## the best accuracy in val  94.9620 at Epoch: 169  ##############\n",
            "Performance in Val: Loss: (0.0465); Accuracy (94.83)\n"
          ]
        },
        {
          "name": "stderr",
          "output_type": "stream",
          "text": [
            "Epoch 179: 100%|██████████| 1494/1494 [00:26<00:00, 56.54batch/s, train_loss=tensor(0.0084, device='cuda:0', grad_fn=<MseLossBackward0>)]\n"
          ]
        },
        {
          "name": "stdout",
          "output_type": "stream",
          "text": [
            "0.04713857550681992 0.9462863493239488 0.9117491766658721 0.952191235059761 0.8385964912280702 0.8385964912280702 0.8593149397942295 0.9598674719006879 0.8917910447761195\n",
            "Epoch: 179 / 500, ############## the best accuracy in val  94.9620 at Epoch: 169  ##############\n",
            "Performance in Val: Loss: (0.0471); Accuracy (94.63)\n"
          ]
        },
        {
          "name": "stderr",
          "output_type": "stream",
          "text": [
            "Epoch 180: 100%|██████████| 1494/1494 [00:26<00:00, 56.21batch/s, train_loss=tensor(0.0066, device='cuda:0', grad_fn=<MseLossBackward0>)]\n"
          ]
        },
        {
          "name": "stdout",
          "output_type": "stream",
          "text": [
            "0.046687658071856604 0.9488794221152065 0.9146359229730088 0.9592326139088729 0.8421052631578947 0.8421052631578947 0.8663038730670853 0.9567478964144129 0.8968609865470852\n",
            "Epoch: 180 / 500, ############## the best accuracy in val  94.9620 at Epoch: 169  ##############\n",
            "Performance in Val: Loss: (0.0467); Accuracy (94.89)\n"
          ]
        },
        {
          "name": "stderr",
          "output_type": "stream",
          "text": [
            "Epoch 181: 100%|██████████| 1494/1494 [00:26<00:00, 56.62batch/s, train_loss=tensor(0.0124, device='cuda:0', grad_fn=<MseLossBackward0>)]\n"
          ]
        },
        {
          "name": "stdout",
          "output_type": "stream",
          "text": [
            "0.04651186458597129 0.948323763659937 0.9149336476571399 0.9547619047619048 0.8442105263157895 0.8442105263157895 0.8647628564090345 0.958902603766588 0.8960893854748604\n",
            "Epoch: 181 / 500, ############## the best accuracy in val  94.9620 at Epoch: 169  ##############\n",
            "Performance in Val: Loss: (0.0465); Accuracy (94.83)\n"
          ]
        },
        {
          "name": "stderr",
          "output_type": "stream",
          "text": [
            "Epoch 182: 100%|██████████| 1494/1494 [00:26<00:00, 56.17batch/s, train_loss=tensor(0.0050, device='cuda:0', grad_fn=<MseLossBackward0>)]\n"
          ]
        },
        {
          "name": "stdout",
          "output_type": "stream",
          "text": [
            "0.04679031136699698 0.948323763659937 0.9147085882799602 0.9554848966613673 0.8435087719298245 0.8435087719298245 0.8647716682310688 0.9571151961433528 0.8960119269474469\n",
            "Epoch: 182 / 500, ############## the best accuracy in val  94.9620 at Epoch: 169  ##############\n",
            "Performance in Val: Loss: (0.0468); Accuracy (94.83)\n"
          ]
        },
        {
          "name": "stderr",
          "output_type": "stream",
          "text": [
            "Epoch 183: 100%|██████████| 1494/1494 [00:26<00:00, 55.86batch/s, train_loss=tensor(0.0131, device='cuda:0', grad_fn=<MseLossBackward0>)]\n"
          ]
        },
        {
          "name": "stdout",
          "output_type": "stream",
          "text": [
            "0.04645500763912092 0.9481385441748472 0.9148078298413371 0.9540047581284695 0.8442105263157895 0.8442105263157895 0.8642621988815029 0.9576514890648866 0.8957557706626955\n",
            "Epoch: 183 / 500, ############## the best accuracy in val  94.9620 at Epoch: 169  ##############\n",
            "Performance in Val: Loss: (0.0465); Accuracy (94.81)\n"
          ]
        },
        {
          "name": "stderr",
          "output_type": "stream",
          "text": [
            "Epoch 184: 100%|██████████| 1494/1494 [00:26<00:00, 55.79batch/s, train_loss=tensor(0.0054, device='cuda:0', grad_fn=<MseLossBackward0>)]\n"
          ]
        },
        {
          "name": "stdout",
          "output_type": "stream",
          "text": [
            "0.046440964014354075 0.9481385441748472 0.9143577110869776 0.9554494828957836 0.8428070175438597 0.8428070175438597 0.8642792740219806 0.9601662561032678 0.895600298284862\n",
            "Epoch: 184 / 500, ############## the best accuracy in val  94.9620 at Epoch: 169  ##############\n",
            "Performance in Val: Loss: (0.0464); Accuracy (94.81)\n"
          ]
        },
        {
          "name": "stderr",
          "output_type": "stream",
          "text": [
            "Epoch 185: 100%|██████████| 1494/1494 [00:26<00:00, 56.66batch/s, train_loss=tensor(0.0107, device='cuda:0', grad_fn=<MseLossBackward0>)]\n"
          ]
        },
        {
          "name": "stdout",
          "output_type": "stream",
          "text": [
            "0.046414804475551304 0.9481385441748472 0.9159331267272357 0.950432730133753 0.847719298245614 0.847719298245614 0.8642357959688657 0.9581399270698135 0.8961424332344214\n",
            "Epoch: 185 / 500, ############## the best accuracy in val  94.9620 at Epoch: 169  ##############\n",
            "Performance in Val: Loss: (0.0464); Accuracy (94.81)\n"
          ]
        },
        {
          "name": "stderr",
          "output_type": "stream",
          "text": [
            "Epoch 186: 100%|██████████| 1494/1494 [00:26<00:00, 57.00batch/s, train_loss=tensor(0.0118, device='cuda:0', grad_fn=<MseLossBackward0>)]\n"
          ]
        },
        {
          "name": "stdout",
          "output_type": "stream",
          "text": [
            "0.04637124888937582 0.949435080570476 0.916588792060675 0.9564183835182251 0.8470175438596491 0.8470175438596491 0.8677337767411066 0.9581865458815636 0.8983997022701898\n",
            "Epoch: 186 / 500, ############## the best accuracy in val  94.9620 at Epoch: 169  ##############\n",
            "Performance in Val: Loss: (0.0464); Accuracy (94.94)\n"
          ]
        },
        {
          "name": "stderr",
          "output_type": "stream",
          "text": [
            "Epoch 187: 100%|██████████| 1494/1494 [00:26<00:00, 56.32batch/s, train_loss=tensor(0.0148, device='cuda:0', grad_fn=<MseLossBackward0>)]\n"
          ]
        },
        {
          "name": "stdout",
          "output_type": "stream",
          "text": [
            "0.04675792492079464 0.9485089831450269 0.9143842873414033 0.9577015163607342 0.8421052631578947 0.8421052631578947 0.8652955181797335 0.9577443735155705 0.8961911874533233\n",
            "Epoch: 187 / 500, ############## the best accuracy in val  94.9620 at Epoch: 169  ##############\n",
            "Performance in Val: Loss: (0.0468); Accuracy (94.85)\n"
          ]
        },
        {
          "name": "stderr",
          "output_type": "stream",
          "text": [
            "Epoch 188: 100%|██████████| 1494/1494 [00:26<00:00, 55.55batch/s, train_loss=tensor(0.0071, device='cuda:0', grad_fn=<MseLossBackward0>)]\n"
          ]
        },
        {
          "name": "stdout",
          "output_type": "stream",
          "text": [
            "0.04700447322631424 0.9473976662344878 0.9136293804465869 0.9531374106433678 0.8421052631578947 0.8421052631578947 0.862282759901778 0.955758306183173 0.8941877794336811\n",
            "Epoch: 188 / 500, ############## the best accuracy in val  94.9620 at Epoch: 169  ##############\n",
            "Performance in Val: Loss: (0.0470); Accuracy (94.74)\n"
          ]
        },
        {
          "name": "stderr",
          "output_type": "stream",
          "text": [
            "Epoch 189: 100%|██████████| 1494/1494 [00:26<00:00, 56.90batch/s, train_loss=tensor(0.0182, device='cuda:0', grad_fn=<MseLossBackward0>)]\n"
          ]
        },
        {
          "name": "stdout",
          "output_type": "stream",
          "text": [
            "0.04684971391477368 0.9481385441748472 0.9150328892185169 0.953285827395091 0.8449122807017544 0.8449122807017544 0.8642550633233121 0.9572269753397082 0.8958333333333334\n",
            "Epoch: 189 / 500, ############## the best accuracy in val  94.9620 at Epoch: 169  ##############\n",
            "Performance in Val: Loss: (0.0468); Accuracy (94.81)\n"
          ]
        },
        {
          "name": "stderr",
          "output_type": "stream",
          "text": [
            "Epoch 190: 100%|██████████| 1494/1494 [00:26<00:00, 56.14batch/s, train_loss=tensor(0.0165, device='cuda:0', grad_fn=<MseLossBackward0>)]\n"
          ]
        },
        {
          "name": "stdout",
          "output_type": "stream",
          "text": [
            "0.046441905327479945 0.9479533246897573 0.9140068338939952 0.9554140127388535 0.8421052631578947 0.8421052631578947 0.8637868393015316 0.9588026558595785 0.8951883625512868\n",
            "Epoch: 190 / 500, ############## the best accuracy in val  94.9620 at Epoch: 169  ##############\n",
            "Performance in Val: Loss: (0.0464); Accuracy (94.80)\n"
          ]
        },
        {
          "name": "stderr",
          "output_type": "stream",
          "text": [
            "Epoch 191: 100%|██████████| 1494/1494 [00:26<00:00, 56.57batch/s, train_loss=tensor(0.0172, device='cuda:0', grad_fn=<MseLossBackward0>)]\n"
          ]
        },
        {
          "name": "stdout",
          "output_type": "stream",
          "text": [
            "0.04660271472212943 0.9485089831450269 0.9157346436044818 0.9533596837944665 0.8463157894736842 0.8463157894736842 0.8652409720555595 0.9582222163360086 0.8966542750929368\n",
            "Epoch: 191 / 500, ############## the best accuracy in val  94.9620 at Epoch: 169  ##############\n",
            "Performance in Val: Loss: (0.0466); Accuracy (94.85)\n"
          ]
        },
        {
          "name": "stderr",
          "output_type": "stream",
          "text": [
            "Epoch 192: 100%|██████████| 1494/1494 [00:26<00:00, 55.82batch/s, train_loss=tensor(0.0077, device='cuda:0', grad_fn=<MseLossBackward0>)]\n"
          ]
        },
        {
          "name": "stdout",
          "output_type": "stream",
          "text": [
            "0.04656715966253118 0.9477681052046675 0.9152313723412708 0.950354609929078 0.8463157894736842 0.8463157894736842 0.8632481992178058 0.958763983436195 0.8953229398663698\n",
            "Epoch: 192 / 500, ############## the best accuracy in val  94.9620 at Epoch: 169  ##############\n",
            "Performance in Val: Loss: (0.0466); Accuracy (94.78)\n"
          ]
        },
        {
          "name": "stderr",
          "output_type": "stream",
          "text": [
            "Epoch 193: 100%|██████████| 1494/1494 [00:26<00:00, 55.85batch/s, train_loss=tensor(0.0047, device='cuda:0', grad_fn=<MseLossBackward0>)]\n"
          ]
        },
        {
          "name": "stdout",
          "output_type": "stream",
          "text": [
            "0.0470911663194949 0.9466567882941286 0.9131261091833761 0.9501187648456056 0.8421052631578947 0.8421052631578947 0.8602844278801377 0.9577334251582655 0.8928571428571428\n",
            "Epoch: 193 / 500, ############## the best accuracy in val  94.9620 at Epoch: 169  ##############\n",
            "Performance in Val: Loss: (0.0471); Accuracy (94.67)\n"
          ]
        },
        {
          "name": "stderr",
          "output_type": "stream",
          "text": [
            "Epoch 194: 100%|██████████| 1494/1494 [00:26<00:00, 55.35batch/s, train_loss=tensor(0.0129, device='cuda:0', grad_fn=<MseLossBackward0>)]\n"
          ]
        },
        {
          "name": "stdout",
          "output_type": "stream",
          "text": [
            "0.04661349511959336 0.9479533246897573 0.9151321307798939 0.9518167456556083 0.8456140350877193 0.8456140350877193 0.8637501829034052 0.9584740285540223 0.8955778520995913\n",
            "Epoch: 194 / 500, ############## the best accuracy in val  94.9620 at Epoch: 169  ##############\n",
            "Performance in Val: Loss: (0.0466); Accuracy (94.80)\n"
          ]
        },
        {
          "name": "stderr",
          "output_type": "stream",
          "text": [
            "Epoch 195: 100%|██████████| 1494/1494 [00:26<00:00, 55.41batch/s, train_loss=tensor(0.0097, device='cuda:0', grad_fn=<MseLossBackward0>)]\n"
          ]
        },
        {
          "name": "stdout",
          "output_type": "stream",
          "text": [
            "0.04678358404304494 0.948323763659937 0.9149336476571399 0.9547619047619048 0.8442105263157895 0.8442105263157895 0.8647628564090345 0.9565716631790852 0.8960893854748604\n",
            "Epoch: 195 / 500, ############## the best accuracy in val  94.9620 at Epoch: 169  ##############\n",
            "Performance in Val: Loss: (0.0468); Accuracy (94.83)\n"
          ]
        },
        {
          "name": "stderr",
          "output_type": "stream",
          "text": [
            "Epoch 196: 100%|██████████| 1494/1494 [00:26<00:00, 56.18batch/s, train_loss=tensor(0.0066, device='cuda:0', grad_fn=<MseLossBackward0>)]\n"
          ]
        },
        {
          "name": "stdout",
          "output_type": "stream",
          "text": [
            "0.04654795934700153 0.9479533246897573 0.9146820120255343 0.9532488114104596 0.8442105263157895 0.8442105263157895 0.8637620485697299 0.957776865414669 0.8954224041682174\n",
            "Epoch: 196 / 500, ############## the best accuracy in val  94.9620 at Epoch: 169  ##############\n",
            "Performance in Val: Loss: (0.0465); Accuracy (94.80)\n"
          ]
        },
        {
          "name": "stderr",
          "output_type": "stream",
          "text": [
            "Epoch 197: 100%|██████████| 1494/1494 [00:26<00:00, 55.61batch/s, train_loss=tensor(0.0088, device='cuda:0', grad_fn=<MseLossBackward0>)]\n"
          ]
        },
        {
          "name": "stdout",
          "output_type": "stream",
          "text": [
            "0.04645049690522931 0.9473976662344878 0.914529617955306 0.9502762430939227 0.8449122807017544 0.8449122807017544 0.8622604402288481 0.9593839783151891 0.8945022288261516\n",
            "Epoch: 197 / 500, ############## the best accuracy in val  94.9620 at Epoch: 169  ##############\n",
            "Performance in Val: Loss: (0.0465); Accuracy (94.74)\n"
          ]
        },
        {
          "name": "stderr",
          "output_type": "stream",
          "text": [
            "Epoch 198: 100%|██████████| 1494/1494 [00:26<00:00, 55.57batch/s, train_loss=tensor(0.0082, device='cuda:0', grad_fn=<MseLossBackward0>)]\n"
          ]
        },
        {
          "name": "stdout",
          "output_type": "stream",
          "text": [
            "0.046555201184343205 0.9486942026301167 0.9156354020431048 0.9548335974643423 0.8456140350877193 0.8456140350877193 0.8657479126554183 0.9590350435726962 0.8969110532192035\n",
            "Epoch: 198 / 500, ############## the best accuracy in val  94.9620 at Epoch: 169  ##############\n",
            "Performance in Val: Loss: (0.0466); Accuracy (94.87)\n"
          ]
        },
        {
          "name": "stderr",
          "output_type": "stream",
          "text": [
            "Epoch 199: 100%|██████████| 1494/1494 [00:26<00:00, 56.42batch/s, train_loss=tensor(0.0138, device='cuda:0', grad_fn=<MseLossBackward0>)]\n"
          ]
        },
        {
          "name": "stdout",
          "output_type": "stream",
          "text": [
            "0.04657078898427161 0.9481385441748472 0.9148078298413371 0.9540047581284695 0.8442105263157895 0.8442105263157895 0.8642621988815029 0.9562011848947987 0.8957557706626955\n",
            "Epoch: 199 / 500, ############## the best accuracy in val  94.9620 at Epoch: 169  ##############\n",
            "Performance in Val: Loss: (0.0466); Accuracy (94.81)\n"
          ]
        },
        {
          "name": "stderr",
          "output_type": "stream",
          "text": [
            "Epoch 200: 100%|██████████| 1494/1494 [00:26<00:00, 56.53batch/s, train_loss=tensor(0.0185, device='cuda:0', grad_fn=<MseLossBackward0>)]\n"
          ]
        },
        {
          "name": "stdout",
          "output_type": "stream",
          "text": [
            "0.04712800385261124 0.9468420077792183 0.9119015707361005 0.9552 0.8378947368421052 0.8378947368421052 0.8608313668939831 0.9579289063120812 0.8927102803738318\n",
            "Epoch: 200 / 500, ############## the best accuracy in val  94.9620 at Epoch: 169  ##############\n",
            "Performance in Val: Loss: (0.0471); Accuracy (94.68)\n"
          ]
        },
        {
          "name": "stderr",
          "output_type": "stream",
          "text": [
            "Epoch 201: 100%|██████████| 1494/1494 [00:26<00:00, 56.31batch/s, train_loss=tensor(0.0049, device='cuda:0', grad_fn=<MseLossBackward0>)]\n"
          ]
        },
        {
          "name": "stdout",
          "output_type": "stream",
          "text": [
            "0.04633690569211136 0.9475828857195777 0.91353013888521 0.9546178343949044 0.8414035087719298 0.8414035087719298 0.8627922594027495 0.9584611377462278 0.8944423722491608\n",
            "Epoch: 201 / 500, ############## the best accuracy in val  94.9620 at Epoch: 169  ##############\n",
            "Performance in Val: Loss: (0.0463); Accuracy (94.76)\n"
          ]
        },
        {
          "name": "stderr",
          "output_type": "stream",
          "text": [
            "Epoch 202: 100%|██████████| 1494/1494 [00:26<00:00, 55.90batch/s, train_loss=tensor(0.0192, device='cuda:0', grad_fn=<MseLossBackward0>)]\n"
          ]
        },
        {
          "name": "stdout",
          "output_type": "stream",
          "text": [
            "0.04652050514282151 0.9485089831450269 0.9152845248501222 0.9547977795400476 0.8449122807017544 0.8449122807017544 0.8652554045224045 0.9581806302368907 0.8965003723008192\n",
            "Epoch: 202 / 500, ############## the best accuracy in val  94.9620 at Epoch: 169  ##############\n",
            "Performance in Val: Loss: (0.0465); Accuracy (94.85)\n"
          ]
        },
        {
          "name": "stderr",
          "output_type": "stream",
          "text": [
            "Epoch 203: 100%|██████████| 1494/1494 [00:26<00:00, 56.41batch/s, train_loss=tensor(0.0079, device='cuda:0', grad_fn=<MseLossBackward0>)]\n"
          ]
        },
        {
          "name": "stdout",
          "output_type": "stream",
          "text": [
            "0.0462839988229627 0.9488794221152065 0.9155361604817277 0.9563145353455124 0.8449122807017544 0.8449122807017544 0.8662577762544644 0.9590034346056384 0.8971684053651267\n",
            "Epoch: 203 / 500, ############## the best accuracy in val  94.9620 at Epoch: 169  ##############\n",
            "Performance in Val: Loss: (0.0463); Accuracy (94.89)\n"
          ]
        },
        {
          "name": "stderr",
          "output_type": "stream",
          "text": [
            "Epoch 204: 100%|██████████| 1494/1494 [00:26<00:00, 56.51batch/s, train_loss=tensor(0.0190, device='cuda:0', grad_fn=<MseLossBackward0>)]\n"
          ]
        },
        {
          "name": "stdout",
          "output_type": "stream",
          "text": [
            "0.04637621495534073 0.9486942026301167 0.9149602239115655 0.9570063694267515 0.8435087719298245 0.8435087719298245 0.8657759990990956 0.9596027688748798 0.8966803431555389\n",
            "Epoch: 204 / 500, ############## the best accuracy in val  94.9620 at Epoch: 169  ##############\n",
            "Performance in Val: Loss: (0.0464); Accuracy (94.87)\n"
          ]
        },
        {
          "name": "stderr",
          "output_type": "stream",
          "text": [
            "Epoch 205: 100%|██████████| 1494/1494 [00:26<00:00, 55.62batch/s, train_loss=tensor(0.0084, device='cuda:0', grad_fn=<MseLossBackward0>)]\n"
          ]
        },
        {
          "name": "stdout",
          "output_type": "stream",
          "text": [
            "0.0465411750853739 0.9470272272643082 0.9127025666834423 0.9537848605577689 0.84 0.84 0.8613046518130435 0.9591138011107284 0.8932835820895522\n",
            "Epoch: 205 / 500, ############## the best accuracy in val  94.9620 at Epoch: 169  ##############\n",
            "Performance in Val: Loss: (0.0465); Accuracy (94.70)\n"
          ]
        },
        {
          "name": "stderr",
          "output_type": "stream",
          "text": [
            "Epoch 206: 100%|██████████| 1494/1494 [00:26<00:00, 56.07batch/s, train_loss=tensor(0.0086, device='cuda:0', grad_fn=<MseLossBackward0>)]\n"
          ]
        },
        {
          "name": "stdout",
          "output_type": "stream",
          "text": [
            "0.04652659679678353 0.9496203000555659 0.9167146098764778 0.957176843774782 0.8470175438596491 0.8470175438596491 0.8682350214451088 0.9580645246735358 0.8987341772151899\n",
            "Epoch: 206 / 500, ############## the best accuracy in val  94.9620 at Epoch: 169  ##############\n",
            "Performance in Val: Loss: (0.0465); Accuracy (94.96)\n"
          ]
        },
        {
          "name": "stderr",
          "output_type": "stream",
          "text": [
            "Epoch 207: 100%|██████████| 1494/1494 [00:26<00:00, 55.72batch/s, train_loss=tensor(0.0120, device='cuda:0', grad_fn=<MseLossBackward0>)]\n"
          ]
        },
        {
          "name": "stdout",
          "output_type": "stream",
          "text": [
            "0.04658114279366352 0.9488794221152065 0.9157612198589075 0.9555908009516257 0.8456140350877193 0.8456140350877193 0.8662486101633059 0.9574747260703345 0.8972449739389426\n",
            "Epoch: 207 / 500, ############## the best accuracy in val  94.9620 at Epoch: 169  ##############\n",
            "Performance in Val: Loss: (0.0466); Accuracy (94.89)\n"
          ]
        },
        {
          "name": "stderr",
          "output_type": "stream",
          "text": [
            "Epoch 208: 100%|██████████| 1494/1494 [00:26<00:00, 56.60batch/s, train_loss=tensor(0.0095, device='cuda:0', grad_fn=<MseLossBackward0>)]\n"
          ]
        },
        {
          "name": "stdout",
          "output_type": "stream",
          "text": [
            "0.04676323722709309 0.9477681052046675 0.9141060754553723 0.9539316918189039 0.8428070175438597 0.8428070175438597 0.8632765139899496 0.9574166291420549 0.8949329359165424\n",
            "Epoch: 208 / 500, ############## the best accuracy in val  94.9620 at Epoch: 169  ##############\n",
            "Performance in Val: Loss: (0.0468); Accuracy (94.78)\n"
          ]
        },
        {
          "name": "stderr",
          "output_type": "stream",
          "text": [
            "Epoch 209: 100%|██████████| 1494/1494 [00:26<00:00, 55.93batch/s, train_loss=tensor(0.0046, device='cuda:0', grad_fn=<MseLossBackward0>)]\n"
          ]
        },
        {
          "name": "stdout",
          "output_type": "stream",
          "text": [
            "0.04649284549734809 0.9481385441748472 0.9150328892185169 0.953285827395091 0.8449122807017544 0.8449122807017544 0.8642550633233121 0.958365957672238 0.8958333333333334\n",
            "Epoch: 209 / 500, ############## the best accuracy in val  94.9620 at Epoch: 169  ##############\n",
            "Performance in Val: Loss: (0.0465); Accuracy (94.81)\n"
          ]
        },
        {
          "name": "stderr",
          "output_type": "stream",
          "text": [
            "Epoch 210: 100%|██████████| 1494/1494 [00:26<00:00, 56.56batch/s, train_loss=tensor(0.0067, device='cuda:0', grad_fn=<MseLossBackward0>)]\n"
          ]
        },
        {
          "name": "stdout",
          "output_type": "stream",
          "text": [
            "0.04678231812166897 0.9473976662344878 0.9131792616922276 0.9545816733067729 0.840701754385965 0.840701754385965 0.8622995078224506 0.9578056489991965 0.8940298507462687\n",
            "Epoch: 210 / 500, ############## the best accuracy in val  94.9620 at Epoch: 169  ##############\n",
            "Performance in Val: Loss: (0.0468); Accuracy (94.74)\n"
          ]
        },
        {
          "name": "stderr",
          "output_type": "stream",
          "text": [
            "Epoch 211: 100%|██████████| 1494/1494 [00:26<00:00, 55.96batch/s, train_loss=tensor(0.0064, device='cuda:0', grad_fn=<MseLossBackward0>)]\n"
          ]
        },
        {
          "name": "stdout",
          "output_type": "stream",
          "text": [
            "0.04716447990557009 0.9473976662344878 0.9138544398237668 0.9524187153053132 0.8428070175438597 0.8428070175438597 0.8622757875997 0.9583151007866924 0.8942665673864483\n",
            "Epoch: 211 / 500, ############## the best accuracy in val  94.9620 at Epoch: 169  ##############\n",
            "Performance in Val: Loss: (0.0472); Accuracy (94.74)\n"
          ]
        },
        {
          "name": "stderr",
          "output_type": "stream",
          "text": [
            "Epoch 212: 100%|██████████| 1494/1494 [00:26<00:00, 55.77batch/s, train_loss=tensor(0.0108, device='cuda:0', grad_fn=<MseLossBackward0>)]\n"
          ]
        },
        {
          "name": "stdout",
          "output_type": "stream",
          "text": [
            "0.046613666101951494 0.948323763659937 0.9149336476571399 0.9547619047619048 0.8442105263157895 0.8442105263157895 0.8647628564090345 0.9579896520364828 0.8960893854748604\n",
            "Epoch: 212 / 500, ############## the best accuracy in val  94.9620 at Epoch: 169  ##############\n",
            "Performance in Val: Loss: (0.0466); Accuracy (94.83)\n"
          ]
        },
        {
          "name": "stderr",
          "output_type": "stream",
          "text": [
            "Epoch 213: 100%|██████████| 1494/1494 [00:26<00:00, 56.32batch/s, train_loss=tensor(0.0055, device='cuda:0', grad_fn=<MseLossBackward0>)]\n"
          ]
        },
        {
          "name": "stdout",
          "output_type": "stream",
          "text": [
            "0.046636520461602646 0.948323763659937 0.9142584695256006 0.9569377990430622 0.8421052631578947 0.8421052631578947 0.8647921124578637 0.9573009650447206 0.8958566629339304\n",
            "Epoch: 213 / 500, ############## the best accuracy in val  94.9620 at Epoch: 169  ##############\n",
            "Performance in Val: Loss: (0.0466); Accuracy (94.83)\n"
          ]
        },
        {
          "name": "stderr",
          "output_type": "stream",
          "text": [
            "Epoch 214: 100%|██████████| 1494/1494 [00:26<00:00, 55.62batch/s, train_loss=tensor(0.0199, device='cuda:0', grad_fn=<MseLossBackward0>)]\n"
          ]
        },
        {
          "name": "stdout",
          "output_type": "stream",
          "text": [
            "0.04643667921085249 0.9496203000555659 0.9167146098764778 0.957176843774782 0.8470175438596491 0.8470175438596491 0.8682350214451088 0.9581674745494839 0.8987341772151899\n",
            "Epoch: 214 / 500, ############## the best accuracy in val  94.9620 at Epoch: 169  ##############\n",
            "Performance in Val: Loss: (0.0464); Accuracy (94.96)\n"
          ]
        },
        {
          "name": "stderr",
          "output_type": "stream",
          "text": [
            "Epoch 215: 100%|██████████| 1494/1494 [00:27<00:00, 55.13batch/s, train_loss=tensor(0.0168, device='cuda:0', grad_fn=<MseLossBackward0>)]\n"
          ]
        },
        {
          "name": "stdout",
          "output_type": "stream",
          "text": [
            "0.047107433349910105 0.9485089831450269 0.9150594654729426 0.9555202541699762 0.8442105263157895 0.8442105263157895 0.8652640221662928 0.9578326667196426 0.8964232488822654\n",
            "Epoch: 215 / 500, ############## the best accuracy in val  94.9620 at Epoch: 169  ##############\n",
            "Performance in Val: Loss: (0.0471); Accuracy (94.85)\n"
          ]
        },
        {
          "name": "stderr",
          "output_type": "stream",
          "text": [
            "Epoch 216: 100%|██████████| 1494/1494 [00:27<00:00, 55.18batch/s, train_loss=tensor(0.0105, device='cuda:0', grad_fn=<MseLossBackward0>)]\n"
          ]
        },
        {
          "name": "stdout",
          "output_type": "stream",
          "text": [
            "0.04689736846326427 0.9498055195406557 0.9163903089379211 0.9593949044585988 0.8456140350877193 0.8456140350877193 0.8687597387954417 0.9576841575503935 0.8989183140619172\n",
            "Epoch: 216 / 500, ############## the best accuracy in val  94.9620 at Epoch: 169  ##############\n",
            "Performance in Val: Loss: (0.0469); Accuracy (94.98)\n"
          ]
        },
        {
          "name": "stderr",
          "output_type": "stream",
          "text": [
            "Epoch 217: 100%|██████████| 1494/1494 [00:26<00:00, 56.13batch/s, train_loss=tensor(0.0077, device='cuda:0', grad_fn=<MseLossBackward0>)]\n"
          ]
        },
        {
          "name": "stdout",
          "output_type": "stream",
          "text": [
            "0.04704886983910745 0.9477681052046675 0.9143311348325519 0.9532117367168914 0.8435087719298245 0.8435087719298245 0.8632689932406015 0.9585462523949532 0.8950111690245719\n",
            "Epoch: 217 / 500, ############## the best accuracy in val  94.9806 at Epoch: 216  ##############\n",
            "Performance in Val: Loss: (0.0470); Accuracy (94.78)\n"
          ]
        },
        {
          "name": "stderr",
          "output_type": "stream",
          "text": [
            "Epoch 218: 100%|██████████| 1494/1494 [00:26<00:00, 56.13batch/s, train_loss=tensor(0.0098, device='cuda:0', grad_fn=<MseLossBackward0>)]\n"
          ]
        },
        {
          "name": "stdout",
          "output_type": "stream",
          "text": [
            "0.04661137331277132 0.9472124467493981 0.9123782657448856 0.956 0.8385964912280702 0.8385964912280702 0.8618276097955839 0.9587586858439505 0.8934579439252337\n",
            "Epoch: 218 / 500, ############## the best accuracy in val  94.9806 at Epoch: 216  ##############\n",
            "Performance in Val: Loss: (0.0466); Accuracy (94.72)\n"
          ]
        },
        {
          "name": "stderr",
          "output_type": "stream",
          "text": [
            "Epoch 219: 100%|██████████| 1494/1494 [00:26<00:00, 55.61batch/s, train_loss=tensor(0.0054, device='cuda:0', grad_fn=<MseLossBackward0>)]\n"
          ]
        },
        {
          "name": "stdout",
          "output_type": "stream",
          "text": [
            "0.047089080241593445 0.9473976662344878 0.9129542023150479 0.9553072625698324 0.84 0.84 0.8623092896915334 0.9580094297141949 0.89395070948469\n",
            "Epoch: 219 / 500, ############## the best accuracy in val  94.9806 at Epoch: 216  ##############\n",
            "Performance in Val: Loss: (0.0471); Accuracy (94.74)\n"
          ]
        },
        {
          "name": "stderr",
          "output_type": "stream",
          "text": [
            "Epoch 220: 100%|██████████| 1494/1494 [00:26<00:00, 56.16batch/s, train_loss=tensor(0.0041, device='cuda:0', grad_fn=<MseLossBackward0>)]\n"
          ]
        },
        {
          "name": "stdout",
          "output_type": "stream",
          "text": [
            "0.04662779998034239 0.9485089831450269 0.9152845248501222 0.9547977795400476 0.8449122807017544 0.8449122807017544 0.8652554045224045 0.959251715095489 0.8965003723008192\n",
            "Epoch: 220 / 500, ############## the best accuracy in val  94.9806 at Epoch: 216  ##############\n",
            "Performance in Val: Loss: (0.0466); Accuracy (94.85)\n"
          ]
        },
        {
          "name": "stderr",
          "output_type": "stream",
          "text": [
            "Epoch 221: 100%|██████████| 1494/1494 [00:26<00:00, 55.42batch/s, train_loss=tensor(0.0169, device='cuda:0', grad_fn=<MseLossBackward0>)]\n"
          ]
        },
        {
          "name": "stdout",
          "output_type": "stream",
          "text": [
            "0.046618776734579696 0.9479533246897573 0.9142318932711749 0.9546899841017488 0.8428070175438597 0.8428070175438597 0.863777639292111 0.9590993210252607 0.8952664927320164\n",
            "Epoch: 221 / 500, ############## the best accuracy in val  94.9806 at Epoch: 216  ##############\n",
            "Performance in Val: Loss: (0.0466); Accuracy (94.80)\n"
          ]
        },
        {
          "name": "stderr",
          "output_type": "stream",
          "text": [
            "Epoch 222: 100%|██████████| 1494/1494 [00:26<00:00, 56.20batch/s, train_loss=tensor(0.0103, device='cuda:0', grad_fn=<MseLossBackward0>)]\n"
          ]
        },
        {
          "name": "stdout",
          "output_type": "stream",
          "text": [
            "0.046086894390596586 0.948323763659937 0.9156088257886791 0.95260663507109 0.8463157894736842 0.8463157894736842 0.864742024706288 0.9597887143626553 0.8963210702341138\n",
            "Epoch: 222 / 500, ############## the best accuracy in val  94.9806 at Epoch: 216  ##############\n",
            "Performance in Val: Loss: (0.0461); Accuracy (94.83)\n"
          ]
        },
        {
          "name": "stderr",
          "output_type": "stream",
          "text": [
            "Epoch 223: 100%|██████████| 1494/1494 [00:26<00:00, 55.43batch/s, train_loss=tensor(0.0153, device='cuda:0', grad_fn=<MseLossBackward0>)]\n"
          ]
        },
        {
          "name": "stdout",
          "output_type": "stream",
          "text": [
            "0.04649109452624212 0.9479533246897573 0.9140068338939952 0.9554140127388535 0.8421052631578947 0.8421052631578947 0.8637868393015316 0.9580986058503077 0.8951883625512868\n",
            "Epoch: 223 / 500, ############## the best accuracy in val  94.9806 at Epoch: 216  ##############\n",
            "Performance in Val: Loss: (0.0465); Accuracy (94.80)\n"
          ]
        },
        {
          "name": "stderr",
          "output_type": "stream",
          "text": [
            "Epoch 224: 100%|██████████| 1494/1494 [00:26<00:00, 56.09batch/s, train_loss=tensor(0.0142, device='cuda:0', grad_fn=<MseLossBackward0>)]\n"
          ]
        },
        {
          "name": "stdout",
          "output_type": "stream",
          "text": [
            "0.04649648552929813 0.949435080570476 0.9168138514378548 0.9556962025316456 0.847719298245614 0.847719298245614 0.8677251960212763 0.9593419507500508 0.898475269616958\n",
            "Epoch: 224 / 500, ############## the best accuracy in val  94.9806 at Epoch: 216  ##############\n",
            "Performance in Val: Loss: (0.0465); Accuracy (94.94)\n"
          ]
        },
        {
          "name": "stderr",
          "output_type": "stream",
          "text": [
            "Epoch 225: 100%|██████████| 1494/1494 [00:26<00:00, 56.17batch/s, train_loss=tensor(0.0128, device='cuda:0', grad_fn=<MseLossBackward0>)]\n"
          ]
        },
        {
          "name": "stdout",
          "output_type": "stream",
          "text": [
            "0.04673780132593079 0.9472124467493981 0.9130534438764248 0.9538216560509554 0.840701754385965 0.840701754385965 0.8617976795039675 0.9576857468280666 0.8936963819470347\n",
            "Epoch: 225 / 500, ############## the best accuracy in val  94.9806 at Epoch: 216  ##############\n",
            "Performance in Val: Loss: (0.0467); Accuracy (94.72)\n"
          ]
        },
        {
          "name": "stderr",
          "output_type": "stream",
          "text": [
            "Epoch 226: 100%|██████████| 1494/1494 [00:26<00:00, 56.28batch/s, train_loss=tensor(0.0056, device='cuda:0', grad_fn=<MseLossBackward0>)]\n"
          ]
        },
        {
          "name": "stdout",
          "output_type": "stream",
          "text": [
            "0.0465397121892734 0.9479533246897573 0.9144569526483546 0.953968253968254 0.8435087719298245 0.8435087719298245 0.8637693767532858 0.9579047139741654 0.8953445065176908\n",
            "Epoch: 226 / 500, ############## the best accuracy in val  94.9806 at Epoch: 216  ##############\n",
            "Performance in Val: Loss: (0.0465); Accuracy (94.80)\n"
          ]
        },
        {
          "name": "stderr",
          "output_type": "stream",
          "text": [
            "Epoch 227: 100%|██████████| 1494/1494 [00:26<00:00, 55.34batch/s, train_loss=tensor(0.0223, device='cuda:0', grad_fn=<MseLossBackward0>)]\n"
          ]
        },
        {
          "name": "stdout",
          "output_type": "stream",
          "text": [
            "0.04668670710684224 0.948323763659937 0.9149336476571399 0.9547619047619048 0.8442105263157895 0.8442105263157895 0.8647628564090345 0.9595474973291305 0.8960893854748604\n",
            "Epoch: 227 / 500, ############## the best accuracy in val  94.9806 at Epoch: 216  ##############\n",
            "Performance in Val: Loss: (0.0467); Accuracy (94.83)\n"
          ]
        },
        {
          "name": "stderr",
          "output_type": "stream",
          "text": [
            "Epoch 228: 100%|██████████| 1494/1494 [00:26<00:00, 55.81batch/s, train_loss=tensor(0.0094, device='cuda:0', grad_fn=<MseLossBackward0>)]\n"
          ]
        },
        {
          "name": "stdout",
          "output_type": "stream",
          "text": [
            "0.046243451366370376 0.9485089831450269 0.915509584227302 0.9540775930324624 0.8456140350877193 0.8456140350877193 0.8652477221841057 0.9581853097767066 0.8965773809523808\n",
            "Epoch: 228 / 500, ############## the best accuracy in val  94.9806 at Epoch: 216  ##############\n",
            "Performance in Val: Loss: (0.0462); Accuracy (94.85)\n"
          ]
        },
        {
          "name": "stderr",
          "output_type": "stream",
          "text": [
            "Epoch 229: 100%|██████████| 1494/1494 [00:26<00:00, 56.36batch/s, train_loss=tensor(0.0081, device='cuda:0', grad_fn=<MseLossBackward0>)]\n"
          ]
        },
        {
          "name": "stdout",
          "output_type": "stream",
          "text": [
            "0.046533286698501215 0.9481385441748472 0.9148078298413371 0.9540047581284695 0.8442105263157895 0.8442105263157895 0.8642621988815029 0.9587892352925595 0.8957557706626955\n",
            "Epoch: 229 / 500, ############## the best accuracy in val  94.9806 at Epoch: 216  ##############\n",
            "Performance in Val: Loss: (0.0465); Accuracy (94.81)\n"
          ]
        },
        {
          "name": "stderr",
          "output_type": "stream",
          "text": [
            "Epoch 230: 100%|██████████| 1494/1494 [00:26<00:00, 55.76batch/s, train_loss=tensor(0.0130, device='cuda:0', grad_fn=<MseLossBackward0>)]\n"
          ]
        },
        {
          "name": "stdout",
          "output_type": "stream",
          "text": [
            "0.046477375509725374 0.9490646416002964 0.9158870376747101 0.9563492063492064 0.8456140350877193 0.8456140350877193 0.8667498157205321 0.9584053364412541 0.8975791433891992\n",
            "Epoch: 230 / 500, ############## the best accuracy in val  94.9806 at Epoch: 216  ##############\n",
            "Performance in Val: Loss: (0.0465); Accuracy (94.91)\n"
          ]
        },
        {
          "name": "stderr",
          "output_type": "stream",
          "text": [
            "Epoch 231: 100%|██████████| 1494/1494 [00:26<00:00, 56.13batch/s, train_loss=tensor(0.0151, device='cuda:0', grad_fn=<MseLossBackward0>)]\n"
          ]
        },
        {
          "name": "stdout",
          "output_type": "stream",
          "text": [
            "0.046590747819705444 0.9490646416002964 0.9161120970518899 0.9556259904912837 0.8463157894736842 0.8463157894736842 0.8667408446982625 0.957608931740524 0.8976553777446967\n",
            "Epoch: 231 / 500, ############## the best accuracy in val  94.9806 at Epoch: 216  ##############\n",
            "Performance in Val: Loss: (0.0466); Accuracy (94.91)\n"
          ]
        },
        {
          "name": "stderr",
          "output_type": "stream",
          "text": [
            "Epoch 232: 100%|██████████| 1494/1494 [00:26<00:00, 56.12batch/s, train_loss=tensor(0.0112, device='cuda:0', grad_fn=<MseLossBackward0>)]\n"
          ]
        },
        {
          "name": "stdout",
          "output_type": "stream",
          "text": [
            "0.046341007998721165 0.9485089831450269 0.9159597029816615 0.9526440410418311 0.8470175438596491 0.8470175438596491 0.8652351510600604 0.9591443505593373 0.8967310549777119\n",
            "Epoch: 232 / 500, ############## the best accuracy in val  94.9806 at Epoch: 216  ##############\n",
            "Performance in Val: Loss: (0.0463); Accuracy (94.85)\n"
          ]
        },
        {
          "name": "stderr",
          "output_type": "stream",
          "text": [
            "Epoch 233: 100%|██████████| 1494/1494 [00:26<00:00, 56.27batch/s, train_loss=tensor(0.0109, device='cuda:0', grad_fn=<MseLossBackward0>)]\n"
          ]
        },
        {
          "name": "stdout",
          "output_type": "stream",
          "text": [
            "0.04645238384943117 0.9473976662344878 0.9134043210694073 0.9538583929992045 0.8414035087719298 0.8414035087719298 0.8622906656041863 0.9598136130462038 0.8941088739746459\n",
            "Epoch: 233 / 500, ############## the best accuracy in val  94.9806 at Epoch: 216  ##############\n",
            "Performance in Val: Loss: (0.0465); Accuracy (94.74)\n"
          ]
        },
        {
          "name": "stderr",
          "output_type": "stream",
          "text": [
            "Epoch 234: 100%|██████████| 1494/1494 [00:26<00:00, 55.51batch/s, train_loss=tensor(0.0182, device='cuda:0', grad_fn=<MseLossBackward0>)]\n"
          ]
        },
        {
          "name": "stdout",
          "output_type": "stream",
          "text": [
            "0.046357470395212826 0.9472124467493981 0.9128283844992451 0.9545454545454546 0.84 0.84 0.861806714833157 0.9592822645440982 0.8936170212765958\n",
            "Epoch: 234 / 500, ############## the best accuracy in val  94.9806 at Epoch: 216  ##############\n",
            "Performance in Val: Loss: (0.0464); Accuracy (94.72)\n"
          ]
        },
        {
          "name": "stderr",
          "output_type": "stream",
          "text": [
            "Epoch 235: 100%|██████████| 1494/1494 [00:26<00:00, 56.02batch/s, train_loss=tensor(0.0054, device='cuda:0', grad_fn=<MseLossBackward0>)]\n"
          ]
        },
        {
          "name": "stdout",
          "output_type": "stream",
          "text": [
            "0.046547888524153015 0.9486942026301167 0.9151852832887453 0.9562798092209857 0.8442105263157895 0.8442105263157895 0.8657656971700264 0.9583795548256651 0.8967573611628774\n",
            "Epoch: 235 / 500, ############## the best accuracy in val  94.9806 at Epoch: 216  ##############\n",
            "Performance in Val: Loss: (0.0465); Accuracy (94.87)\n"
          ]
        },
        {
          "name": "stderr",
          "output_type": "stream",
          "text": [
            "Epoch 236: 100%|██████████| 1494/1494 [00:26<00:00, 56.22batch/s, train_loss=tensor(0.0084, device='cuda:0', grad_fn=<MseLossBackward0>)]\n"
          ]
        },
        {
          "name": "stdout",
          "output_type": "stream",
          "text": [
            "0.046595116442238745 0.9492498610853862 0.9162379148676927 0.9563838223632039 0.8463157894736842 0.8463157894736842 0.8672418158042073 0.9575139282529423 0.8979895755770663\n",
            "Epoch: 236 / 500, ############## the best accuracy in val  94.9806 at Epoch: 216  ##############\n",
            "Performance in Val: Loss: (0.0466); Accuracy (94.92)\n"
          ]
        },
        {
          "name": "stderr",
          "output_type": "stream",
          "text": [
            "Epoch 237: 100%|██████████| 1494/1494 [00:26<00:00, 55.98batch/s, train_loss=tensor(0.0082, device='cuda:0', grad_fn=<MseLossBackward0>)]\n"
          ]
        },
        {
          "name": "stdout",
          "output_type": "stream",
          "text": [
            "0.04659087909385562 0.9485089831450269 0.9152845248501222 0.9547977795400476 0.8449122807017544 0.8449122807017544 0.8652554045224045 0.957834432583724 0.8965003723008192\n",
            "Epoch: 237 / 500, ############## the best accuracy in val  94.9806 at Epoch: 216  ##############\n",
            "Performance in Val: Loss: (0.0466); Accuracy (94.85)\n"
          ]
        },
        {
          "name": "stderr",
          "output_type": "stream",
          "text": [
            "Epoch 238: 100%|██████████| 1494/1494 [00:26<00:00, 56.11batch/s, train_loss=tensor(0.0058, device='cuda:0', grad_fn=<MseLossBackward0>)]\n"
          ]
        },
        {
          "name": "stdout",
          "output_type": "stream",
          "text": [
            "0.046536181926388635 0.9496203000555659 0.9167146098764778 0.957176843774782 0.8470175438596491 0.8470175438596491 0.8682350214451088 0.9580892467706761 0.8987341772151899\n",
            "Epoch: 238 / 500, ############## the best accuracy in val  94.9806 at Epoch: 216  ##############\n",
            "Performance in Val: Loss: (0.0465); Accuracy (94.96)\n"
          ]
        },
        {
          "name": "stderr",
          "output_type": "stream",
          "text": [
            "Epoch 239: 100%|██████████| 1494/1494 [00:26<00:00, 56.63batch/s, train_loss=tensor(0.0039, device='cuda:0', grad_fn=<MseLossBackward0>)]\n"
          ]
        },
        {
          "name": "stdout",
          "output_type": "stream",
          "text": [
            "0.046709864103997294 0.9481385441748472 0.9145827704641574 0.9547259729944401 0.8435087719298245 0.8435087719298245 0.8642702680781212 0.9586592676961654 0.8956780923994039\n",
            "Epoch: 239 / 500, ############## the best accuracy in val  94.9806 at Epoch: 216  ##############\n",
            "Performance in Val: Loss: (0.0467); Accuracy (94.81)\n"
          ]
        },
        {
          "name": "stderr",
          "output_type": "stream",
          "text": [
            "Epoch 240: 100%|██████████| 1494/1494 [00:26<00:00, 55.63batch/s, train_loss=tensor(0.0205, device='cuda:0', grad_fn=<MseLossBackward0>)]\n"
          ]
        },
        {
          "name": "stdout",
          "output_type": "stream",
          "text": [
            "0.04666449273513122 0.9488794221152065 0.9155361604817277 0.9563145353455124 0.8449122807017544 0.8449122807017544 0.8662577762544644 0.9581925498194404 0.8971684053651267\n",
            "Epoch: 240 / 500, ############## the best accuracy in val  94.9806 at Epoch: 216  ##############\n",
            "Performance in Val: Loss: (0.0467); Accuracy (94.89)\n"
          ]
        },
        {
          "name": "stderr",
          "output_type": "stream",
          "text": [
            "Epoch 241: 100%|██████████| 1494/1494 [00:26<00:00, 55.78batch/s, train_loss=tensor(0.0067, device='cuda:0', grad_fn=<MseLossBackward0>)]\n"
          ]
        },
        {
          "name": "stdout",
          "output_type": "stream",
          "text": [
            "0.04615697065706958 0.9485089831450269 0.9150594654729426 0.9555202541699762 0.8442105263157895 0.8442105263157895 0.8652640221662928 0.9602174661616296 0.8964232488822654\n",
            "Epoch: 241 / 500, ############## the best accuracy in val  94.9806 at Epoch: 216  ##############\n",
            "Performance in Val: Loss: (0.0462); Accuracy (94.85)\n"
          ]
        },
        {
          "name": "stderr",
          "output_type": "stream",
          "text": [
            "Epoch 242: 100%|██████████| 1494/1494 [00:26<00:00, 55.41batch/s, train_loss=tensor(0.0159, device='cuda:0', grad_fn=<MseLossBackward0>)]\n"
          ]
        },
        {
          "name": "stdout",
          "output_type": "stream",
          "text": [
            "0.04652165011926131 0.9485089831450269 0.9146093467185831 0.9569721115537848 0.8428070175438597 0.8428070175438597 0.8652840758506717 0.9595429060825188 0.8962686567164179\n",
            "Epoch: 242 / 500, ############## the best accuracy in val  94.9806 at Epoch: 216  ##############\n",
            "Performance in Val: Loss: (0.0465); Accuracy (94.85)\n"
          ]
        },
        {
          "name": "stderr",
          "output_type": "stream",
          "text": [
            "Epoch 243: 100%|██████████| 1494/1494 [00:26<00:00, 55.95batch/s, train_loss=tensor(0.0054, device='cuda:0', grad_fn=<MseLossBackward0>)]\n"
          ]
        },
        {
          "name": "stdout",
          "output_type": "stream",
          "text": [
            "0.04642729689790444 0.9473976662344878 0.9131792616922276 0.9545816733067729 0.840701754385965 0.840701754385965 0.8622995078224506 0.9585323020687098 0.8940298507462687\n",
            "Epoch: 243 / 500, ############## the best accuracy in val  94.9806 at Epoch: 216  ##############\n",
            "Performance in Val: Loss: (0.0464); Accuracy (94.74)\n"
          ]
        },
        {
          "name": "stderr",
          "output_type": "stream",
          "text": [
            "Epoch 244: 100%|██████████| 1494/1494 [00:26<00:00, 56.34batch/s, train_loss=tensor(0.0131, device='cuda:0', grad_fn=<MseLossBackward0>)]\n"
          ]
        },
        {
          "name": "stdout",
          "output_type": "stream",
          "text": [
            "0.04625850551846353 0.948323763659937 0.9144835289027804 0.9562101910828026 0.8428070175438597 0.8428070175438597 0.8647814192003136 0.9594646783037108 0.8959343528534129\n",
            "Epoch: 244 / 500, ############## the best accuracy in val  94.9806 at Epoch: 216  ##############\n",
            "Performance in Val: Loss: (0.0463); Accuracy (94.83)\n"
          ]
        },
        {
          "name": "stderr",
          "output_type": "stream",
          "text": [
            "Epoch 245: 100%|██████████| 1494/1494 [00:26<00:00, 55.59batch/s, train_loss=tensor(0.0128, device='cuda:0', grad_fn=<MseLossBackward0>)]\n"
          ]
        },
        {
          "name": "stdout",
          "output_type": "stream",
          "text": [
            "0.04681809242306785 0.9477681052046675 0.9136559567010127 0.9553784860557769 0.8414035087719298 0.8414035087719298 0.8632943638318576 0.956957327894472 0.8947761194029852\n",
            "Epoch: 245 / 500, ############## the best accuracy in val  94.9806 at Epoch: 216  ##############\n",
            "Performance in Val: Loss: (0.0468); Accuracy (94.78)\n"
          ]
        },
        {
          "name": "stderr",
          "output_type": "stream",
          "text": [
            "Epoch 246: 100%|██████████| 1494/1494 [00:26<00:00, 56.39batch/s, train_loss=tensor(0.0074, device='cuda:0', grad_fn=<MseLossBackward0>)]\n"
          ]
        },
        {
          "name": "stdout",
          "output_type": "stream",
          "text": [
            "0.046953705181791025 0.9477681052046675 0.9143311348325519 0.9532117367168914 0.8435087719298245 0.8435087719298245 0.8632689932406015 0.9570127760266293 0.8950111690245719\n",
            "Epoch: 246 / 500, ############## the best accuracy in val  94.9806 at Epoch: 216  ##############\n",
            "Performance in Val: Loss: (0.0470); Accuracy (94.78)\n"
          ]
        },
        {
          "name": "stderr",
          "output_type": "stream",
          "text": [
            "Epoch 247: 100%|██████████| 1494/1494 [00:26<00:00, 56.21batch/s, train_loss=tensor(0.0093, device='cuda:0', grad_fn=<MseLossBackward0>)]\n"
          ]
        },
        {
          "name": "stdout",
          "output_type": "stream",
          "text": [
            "0.04659386605701663 0.9499907390257455 0.9171913048852629 0.9579698651863601 0.847719298245614 0.847719298245614 0.8692282270860102 0.9571164322482099 0.8994787788533135\n",
            "Epoch: 247 / 500, ############## the best accuracy in val  94.9806 at Epoch: 216  ##############\n",
            "Performance in Val: Loss: (0.0466); Accuracy (95.00)\n"
          ]
        },
        {
          "name": "stderr",
          "output_type": "stream",
          "text": [
            "Epoch 248: 100%|██████████| 1494/1494 [00:26<00:00, 55.66batch/s, train_loss=tensor(0.0119, device='cuda:0', grad_fn=<MseLossBackward0>)]\n"
          ]
        },
        {
          "name": "stdout",
          "output_type": "stream",
          "text": [
            "0.046150505034760994 0.9499907390257455 0.9178664830168022 0.9558011049723757 0.8498245614035088 0.8498245614035088 0.8692014321683437 0.9587549775293795 0.899702823179792\n",
            "Epoch: 248 / 500, ############## the best accuracy in val  94.9991 at Epoch: 247  ##############\n",
            "Performance in Val: Loss: (0.0462); Accuracy (95.00)\n"
          ]
        },
        {
          "name": "stderr",
          "output_type": "stream",
          "text": [
            "Epoch 249: 100%|██████████| 1494/1494 [00:26<00:00, 55.98batch/s, train_loss=tensor(0.0116, device='cuda:0', grad_fn=<MseLossBackward0>)]\n"
          ]
        },
        {
          "name": "stdout",
          "output_type": "stream",
          "text": [
            "0.046134600077163086 0.9498055195406557 0.91729054644664 0.9564873417721519 0.848421052631579 0.848421052631579 0.8687175821152451 0.9581240342930805 0.8992190405355152\n",
            "Epoch: 249 / 500, ############## the best accuracy in val  94.9991 at Epoch: 247  ##############\n",
            "Performance in Val: Loss: (0.0461); Accuracy (94.98)\n"
          ]
        },
        {
          "name": "stderr",
          "output_type": "stream",
          "text": [
            "Epoch 250: 100%|██████████| 1494/1494 [00:26<00:00, 56.23batch/s, train_loss=tensor(0.0191, device='cuda:0', grad_fn=<MseLossBackward0>)]\n"
          ]
        },
        {
          "name": "stdout",
          "output_type": "stream",
          "text": [
            "0.046498149167746305 0.9496203000555659 0.916489550499298 0.9579030976965845 0.8463157894736842 0.8463157894736842 0.8682452844308076 0.9587097714088947 0.8986587183308494\n",
            "Epoch: 250 / 500, ############## the best accuracy in val  94.9991 at Epoch: 247  ##############\n",
            "Performance in Val: Loss: (0.0465); Accuracy (94.96)\n"
          ]
        },
        {
          "name": "stderr",
          "output_type": "stream",
          "text": [
            "Epoch 251: 100%|██████████| 1494/1494 [00:26<00:00, 55.61batch/s, train_loss=tensor(0.0075, device='cuda:0', grad_fn=<MseLossBackward0>)]\n"
          ]
        },
        {
          "name": "stdout",
          "output_type": "stream",
          "text": [
            "0.04672111291438341 0.9472124467493981 0.9130534438764248 0.9538216560509554 0.840701754385965 0.840701754385965 0.8617976795039675 0.9582451725690673 0.8936963819470347\n",
            "Epoch: 251 / 500, ############## the best accuracy in val  94.9991 at Epoch: 247  ##############\n",
            "Performance in Val: Loss: (0.0467); Accuracy (94.72)\n"
          ]
        },
        {
          "name": "stderr",
          "output_type": "stream",
          "text": [
            "Epoch 252: 100%|██████████| 1494/1494 [00:26<00:00, 56.22batch/s, train_loss=tensor(0.0094, device='cuda:0', grad_fn=<MseLossBackward0>)]\n"
          ]
        },
        {
          "name": "stdout",
          "output_type": "stream",
          "text": [
            "0.04627755610272288 0.9477681052046675 0.9132058379466532 0.9568345323741008 0.84 0.84 0.8633159790412518 0.9584256438781906 0.8946188340807174\n",
            "Epoch: 252 / 500, ############## the best accuracy in val  94.9991 at Epoch: 247  ##############\n",
            "Performance in Val: Loss: (0.0463); Accuracy (94.78)\n"
          ]
        },
        {
          "name": "stderr",
          "output_type": "stream",
          "text": [
            "Epoch 253: 100%|██████████| 1494/1494 [00:26<00:00, 55.68batch/s, train_loss=tensor(0.0161, device='cuda:0', grad_fn=<MseLossBackward0>)]\n"
          ]
        },
        {
          "name": "stdout",
          "output_type": "stream",
          "text": [
            "0.046589179557155476 0.9479533246897573 0.9142318932711749 0.9546899841017488 0.8428070175438597 0.8428070175438597 0.863777639292111 0.9591058547223621 0.8952664927320164\n",
            "Epoch: 253 / 500, ############## the best accuracy in val  94.9991 at Epoch: 247  ##############\n",
            "Performance in Val: Loss: (0.0466); Accuracy (94.80)\n"
          ]
        },
        {
          "name": "stderr",
          "output_type": "stream",
          "text": [
            "Epoch 254: 100%|██████████| 1494/1494 [00:26<00:00, 56.56batch/s, train_loss=tensor(0.0151, device='cuda:0', grad_fn=<MseLossBackward0>)]\n"
          ]
        },
        {
          "name": "stdout",
          "output_type": "stream",
          "text": [
            "0.046314043712548235 0.9490646416002964 0.9163371564290697 0.9549050632911392 0.8470175438596491 0.8470175438596491 0.8667328099273076 0.9579834715121978 0.8977314986984009\n",
            "Epoch: 254 / 500, ############## the best accuracy in val  94.9991 at Epoch: 247  ##############\n",
            "Performance in Val: Loss: (0.0463); Accuracy (94.91)\n"
          ]
        },
        {
          "name": "stderr",
          "output_type": "stream",
          "text": [
            "Epoch 255: 100%|██████████| 1494/1494 [00:26<00:00, 56.29batch/s, train_loss=tensor(0.0075, device='cuda:0', grad_fn=<MseLossBackward0>)]\n"
          ]
        },
        {
          "name": "stdout",
          "output_type": "stream",
          "text": [
            "0.046645403881980615 0.948323763659937 0.9156088257886791 0.95260663507109 0.8463157894736842 0.8463157894736842 0.864742024706288 0.9580938380172878 0.8963210702341138\n",
            "Epoch: 255 / 500, ############## the best accuracy in val  94.9991 at Epoch: 247  ##############\n",
            "Performance in Val: Loss: (0.0466); Accuracy (94.83)\n"
          ]
        },
        {
          "name": "stderr",
          "output_type": "stream",
          "text": [
            "Epoch 256: 100%|██████████| 1494/1494 [00:26<00:00, 56.24batch/s, train_loss=tensor(0.0117, device='cuda:0', grad_fn=<MseLossBackward0>)]\n"
          ]
        },
        {
          "name": "stdout",
          "output_type": "stream",
          "text": [
            "0.04675452161410993 0.9468420077792183 0.91235168949046 0.9537480063795853 0.8392982456140351 0.8392982456140351 0.860811582291588 0.9585379528337705 0.892870474057484\n",
            "Epoch: 256 / 500, ############## the best accuracy in val  94.9991 at Epoch: 247  ##############\n",
            "Performance in Val: Loss: (0.0468); Accuracy (94.68)\n"
          ]
        },
        {
          "name": "stderr",
          "output_type": "stream",
          "text": [
            "Epoch 257: 100%|██████████| 1494/1494 [00:26<00:00, 56.15batch/s, train_loss=tensor(0.0115, device='cuda:0', grad_fn=<MseLossBackward0>)]\n"
          ]
        },
        {
          "name": "stdout",
          "output_type": "stream",
          "text": [
            "0.04639348353851925 0.9479533246897573 0.9153571901570736 0.9511041009463722 0.8463157894736842 0.8463157894736842 0.863745639285858 0.9599264517610079 0.8956554028963981\n",
            "Epoch: 257 / 500, ############## the best accuracy in val  94.9991 at Epoch: 247  ##############\n",
            "Performance in Val: Loss: (0.0464); Accuracy (94.80)\n"
          ]
        },
        {
          "name": "stderr",
          "output_type": "stream",
          "text": [
            "Epoch 258: 100%|██████████| 1494/1494 [00:26<00:00, 56.40batch/s, train_loss=tensor(0.0040, device='cuda:0', grad_fn=<MseLossBackward0>)]\n"
          ]
        },
        {
          "name": "stdout",
          "output_type": "stream",
          "text": [
            "0.04643122877248309 0.9479533246897573 0.9140068338939952 0.9554140127388535 0.8421052631578947 0.8421052631578947 0.8637868393015316 0.9580901297027168 0.8951883625512868\n",
            "Epoch: 258 / 500, ############## the best accuracy in val  94.9991 at Epoch: 247  ##############\n",
            "Performance in Val: Loss: (0.0464); Accuracy (94.80)\n"
          ]
        },
        {
          "name": "stderr",
          "output_type": "stream",
          "text": [
            "Epoch 259: 100%|██████████| 1494/1494 [00:26<00:00, 55.73batch/s, train_loss=tensor(0.0272, device='cuda:0', grad_fn=<MseLossBackward0>)]\n"
          ]
        },
        {
          "name": "stdout",
          "output_type": "stream",
          "text": [
            "0.046506404114717785 0.948323763659937 0.9144835289027804 0.9562101910828026 0.8428070175438597 0.8428070175438597 0.8647814192003136 0.9586258928650262 0.8959343528534129\n",
            "Epoch: 259 / 500, ############## the best accuracy in val  94.9991 at Epoch: 247  ##############\n",
            "Performance in Val: Loss: (0.0465); Accuracy (94.83)\n"
          ]
        },
        {
          "name": "stderr",
          "output_type": "stream",
          "text": [
            "Epoch 260: 100%|██████████| 1494/1494 [00:26<00:00, 56.22batch/s, train_loss=tensor(0.0041, device='cuda:0', grad_fn=<MseLossBackward0>)]\n"
          ]
        },
        {
          "name": "stdout",
          "output_type": "stream",
          "text": [
            "0.04702723297205838 0.9485089831450269 0.9148344060957627 0.9562450278440732 0.8435087719298245 0.8435087719298245 0.8652735782308776 0.9586970571875083 0.8963460104399701\n",
            "Epoch: 260 / 500, ############## the best accuracy in val  94.9991 at Epoch: 247  ##############\n",
            "Performance in Val: Loss: (0.0470); Accuracy (94.85)\n"
          ]
        },
        {
          "name": "stderr",
          "output_type": "stream",
          "text": [
            "Epoch 261: 100%|██████████| 1494/1494 [00:26<00:00, 55.77batch/s, train_loss=tensor(0.0112, device='cuda:0', grad_fn=<MseLossBackward0>)]\n"
          ]
        },
        {
          "name": "stdout",
          "output_type": "stream",
          "text": [
            "0.046420172449540005 0.9486942026301167 0.9151852832887453 0.9562798092209857 0.8442105263157895 0.8442105263157895 0.8657656971700264 0.9585697383872362 0.8967573611628774\n",
            "Epoch: 261 / 500, ############## the best accuracy in val  94.9991 at Epoch: 247  ##############\n",
            "Performance in Val: Loss: (0.0464); Accuracy (94.87)\n"
          ]
        },
        {
          "name": "stderr",
          "output_type": "stream",
          "text": [
            "Epoch 262: 100%|██████████| 1494/1494 [00:26<00:00, 55.85batch/s, train_loss=tensor(0.0058, device='cuda:0', grad_fn=<MseLossBackward0>)]\n"
          ]
        },
        {
          "name": "stdout",
          "output_type": "stream",
          "text": [
            "0.04617311568422751 0.9488794221152065 0.9162113386132669 0.9541501976284585 0.8470175438596491 0.8470175438596491 0.8662330857971502 0.9591166264932588 0.8973977695167286\n",
            "Epoch: 262 / 500, ############## the best accuracy in val  94.9991 at Epoch: 247  ##############\n",
            "Performance in Val: Loss: (0.0462); Accuracy (94.89)\n"
          ]
        },
        {
          "name": "stderr",
          "output_type": "stream",
          "text": [
            "Epoch 263: 100%|██████████| 1494/1494 [00:26<00:00, 56.11batch/s, train_loss=tensor(0.0063, device='cuda:0', grad_fn=<MseLossBackward0>)]\n"
          ]
        },
        {
          "name": "stdout",
          "output_type": "stream",
          "text": [
            "0.046038814312355084 0.9492498610853862 0.9162379148676927 0.9563838223632039 0.8463157894736842 0.8463157894736842 0.8672418158042073 0.9585022823793252 0.8979895755770663\n",
            "Epoch: 263 / 500, ############## the best accuracy in val  94.9991 at Epoch: 247  ##############\n",
            "Performance in Val: Loss: (0.0460); Accuracy (94.92)\n"
          ]
        },
        {
          "name": "stderr",
          "output_type": "stream",
          "text": [
            "Epoch 264: 100%|██████████| 1494/1494 [00:26<00:00, 56.39batch/s, train_loss=tensor(0.0059, device='cuda:0', grad_fn=<MseLossBackward0>)]\n"
          ]
        },
        {
          "name": "stdout",
          "output_type": "stream",
          "text": [
            "0.0468058103102852 0.9488794221152065 0.9150860417273683 0.9577689243027888 0.8435087719298245 0.8435087719298245 0.8662789318600788 0.9572395129746865 0.8970149253731342\n",
            "Epoch: 264 / 500, ############## the best accuracy in val  94.9991 at Epoch: 247  ##############\n",
            "Performance in Val: Loss: (0.0468); Accuracy (94.89)\n"
          ]
        },
        {
          "name": "stderr",
          "output_type": "stream",
          "text": [
            "Epoch 265: 100%|██████████| 1494/1494 [00:26<00:00, 56.08batch/s, train_loss=tensor(0.0045, device='cuda:0', grad_fn=<MseLossBackward0>)]\n"
          ]
        },
        {
          "name": "stdout",
          "output_type": "stream",
          "text": [
            "0.04654409854926846 0.9503611779959251 0.9176679998940482 0.9587628865979382 0.848421052631579 0.848421052631579 0.8702214327269118 0.9587510926284004 0.9002233804914372\n",
            "Epoch: 265 / 500, ############## the best accuracy in val  94.9991 at Epoch: 247  ##############\n",
            "Performance in Val: Loss: (0.0465); Accuracy (95.04)\n"
          ]
        },
        {
          "name": "stderr",
          "output_type": "stream",
          "text": [
            "Epoch 266: 100%|██████████| 1494/1494 [00:26<00:00, 56.63batch/s, train_loss=tensor(0.0131, device='cuda:0', grad_fn=<MseLossBackward0>)]\n"
          ]
        },
        {
          "name": "stdout",
          "output_type": "stream",
          "text": [
            "0.04676246435635469 0.9492498610853862 0.9160128554905129 0.9571088165210484 0.8456140350877193 0.8456140350877193 0.867251530342636 0.9590581763921632 0.8979135618479881\n",
            "Epoch: 266 / 500, ############## the best accuracy in val  95.0361 at Epoch: 265  ##############\n",
            "Performance in Val: Loss: (0.0468); Accuracy (94.92)\n"
          ]
        },
        {
          "name": "stderr",
          "output_type": "stream",
          "text": [
            "Epoch 267: 100%|██████████| 1494/1494 [00:26<00:00, 55.90batch/s, train_loss=tensor(0.0106, device='cuda:0', grad_fn=<MseLossBackward0>)]\n"
          ]
        },
        {
          "name": "stdout",
          "output_type": "stream",
          "text": [
            "0.046457692345773634 0.9486942026301167 0.9149602239115655 0.9570063694267515 0.8435087719298245 0.8435087719298245 0.8657759990990956 0.9579190174732252 0.8966803431555389\n",
            "Epoch: 267 / 500, ############## the best accuracy in val  95.0361 at Epoch: 265  ##############\n",
            "Performance in Val: Loss: (0.0465); Accuracy (94.87)\n"
          ]
        },
        {
          "name": "stderr",
          "output_type": "stream",
          "text": [
            "Epoch 268: 100%|██████████| 1494/1494 [00:26<00:00, 56.19batch/s, train_loss=tensor(0.0050, device='cuda:0', grad_fn=<MseLossBackward0>)]\n"
          ]
        },
        {
          "name": "stdout",
          "output_type": "stream",
          "text": [
            "0.04679909695617177 0.948323763659937 0.9142584695256006 0.9569377990430622 0.8421052631578947 0.8421052631578947 0.8647921124578637 0.9578422023856824 0.8958566629339304\n",
            "Epoch: 268 / 500, ############## the best accuracy in val  95.0361 at Epoch: 265  ##############\n",
            "Performance in Val: Loss: (0.0468); Accuracy (94.83)\n"
          ]
        },
        {
          "name": "stderr",
          "output_type": "stream",
          "text": [
            "Epoch 269: 100%|██████████| 1494/1494 [00:26<00:00, 55.98batch/s, train_loss=tensor(0.0060, device='cuda:0', grad_fn=<MseLossBackward0>)]\n"
          ]
        },
        {
          "name": "stdout",
          "output_type": "stream",
          "text": [
            "0.046381401575424454 0.9481385441748472 0.9132324142010789 0.9591018444266239 0.8392982456140351 0.8392982456140351 0.8643384651221039 0.9601867401266124 0.8952095808383235\n",
            "Epoch: 269 / 500, ############## the best accuracy in val  95.0361 at Epoch: 265  ##############\n",
            "Performance in Val: Loss: (0.0464); Accuracy (94.81)\n"
          ]
        },
        {
          "name": "stderr",
          "output_type": "stream",
          "text": [
            "Epoch 270: 100%|██████████| 1494/1494 [00:26<00:00, 56.68batch/s, train_loss=tensor(0.0071, device='cuda:0', grad_fn=<MseLossBackward0>)]\n"
          ]
        },
        {
          "name": "stdout",
          "output_type": "stream",
          "text": [
            "0.04643232857977802 0.948323763659937 0.9156088257886791 0.95260663507109 0.8463157894736842 0.8463157894736842 0.864742024706288 0.9582631843826982 0.8963210702341138\n",
            "Epoch: 270 / 500, ############## the best accuracy in val  95.0361 at Epoch: 265  ##############\n",
            "Performance in Val: Loss: (0.0464); Accuracy (94.83)\n"
          ]
        },
        {
          "name": "stderr",
          "output_type": "stream",
          "text": [
            "Epoch 271: 100%|██████████| 1494/1494 [00:26<00:00, 56.00batch/s, train_loss=tensor(0.0085, device='cuda:0', grad_fn=<MseLossBackward0>)]\n"
          ]
        },
        {
          "name": "stdout",
          "output_type": "stream",
          "text": [
            "0.04641955002973026 0.9496203000555659 0.9169396692536576 0.9564528899445764 0.847719298245614 0.847719298245614 0.8682256987664866 0.9583262257304056 0.8988095238095237\n",
            "Epoch: 271 / 500, ############## the best accuracy in val  95.0361 at Epoch: 265  ##############\n",
            "Performance in Val: Loss: (0.0464); Accuracy (94.96)\n"
          ]
        },
        {
          "name": "stderr",
          "output_type": "stream",
          "text": [
            "Epoch 272: 100%|██████████| 1494/1494 [00:26<00:00, 55.72batch/s, train_loss=tensor(0.0180, device='cuda:0', grad_fn=<MseLossBackward0>)]\n"
          ]
        },
        {
          "name": "stdout",
          "output_type": "stream",
          "text": [
            "0.0470208123495633 0.9479533246897573 0.9151321307798939 0.9518167456556083 0.8456140350877193 0.8456140350877193 0.8637501829034052 0.9586078810513954 0.8955778520995913\n",
            "Epoch: 272 / 500, ############## the best accuracy in val  95.0361 at Epoch: 265  ##############\n",
            "Performance in Val: Loss: (0.0470); Accuracy (94.80)\n"
          ]
        },
        {
          "name": "stderr",
          "output_type": "stream",
          "text": [
            "Epoch 273: 100%|██████████| 1494/1494 [00:26<00:00, 56.37batch/s, train_loss=tensor(0.0100, device='cuda:0', grad_fn=<MseLossBackward0>)]\n"
          ]
        },
        {
          "name": "stdout",
          "output_type": "stream",
          "text": [
            "0.04671093635261059 0.9477681052046675 0.9129807785694735 0.9575660528422738 0.8392982456140351 0.8392982456140351 0.8633282065735075 0.9578863489877185 0.8945400149588631\n",
            "Epoch: 273 / 500, ############## the best accuracy in val  95.0361 at Epoch: 265  ##############\n",
            "Performance in Val: Loss: (0.0467); Accuracy (94.78)\n"
          ]
        },
        {
          "name": "stderr",
          "output_type": "stream",
          "text": [
            "Epoch 274: 100%|██████████| 1494/1494 [00:26<00:00, 56.67batch/s, train_loss=tensor(0.0108, device='cuda:0', grad_fn=<MseLossBackward0>)]\n"
          ]
        },
        {
          "name": "stdout",
          "output_type": "stream",
          "text": [
            "0.04665344161912799 0.948323763659937 0.9133582320168816 0.9598715890850722 0.8392982456140351 0.8392982456140351 0.8648443718818856 0.9600984469225402 0.8955447397978286\n",
            "Epoch: 274 / 500, ############## the best accuracy in val  95.0361 at Epoch: 265  ##############\n",
            "Performance in Val: Loss: (0.0467); Accuracy (94.83)\n"
          ]
        },
        {
          "name": "stderr",
          "output_type": "stream",
          "text": [
            "Epoch 275: 100%|██████████| 1494/1494 [00:26<00:00, 56.36batch/s, train_loss=tensor(0.0191, device='cuda:0', grad_fn=<MseLossBackward0>)]\n"
          ]
        },
        {
          "name": "stdout",
          "output_type": "stream",
          "text": [
            "0.046293877784840086 0.948323763659937 0.9147085882799602 0.9554848966613673 0.8435087719298245 0.8435087719298245 0.8647716682310688 0.9612476712667426 0.8960119269474469\n",
            "Epoch: 275 / 500, ############## the best accuracy in val  95.0361 at Epoch: 265  ##############\n",
            "Performance in Val: Loss: (0.0463); Accuracy (94.83)\n"
          ]
        },
        {
          "name": "stderr",
          "output_type": "stream",
          "text": [
            "Epoch 276: 100%|██████████| 1494/1494 [00:26<00:00, 56.12batch/s, train_loss=tensor(0.0159, device='cuda:0', grad_fn=<MseLossBackward0>)]\n"
          ]
        },
        {
          "name": "stdout",
          "output_type": "stream",
          "text": [
            "0.0464263661256568 0.9490646416002964 0.9158870376747101 0.9563492063492064 0.8456140350877193 0.8456140350877193 0.8667498157205321 0.9601210499827828 0.8975791433891992\n",
            "Epoch: 276 / 500, ############## the best accuracy in val  95.0361 at Epoch: 265  ##############\n",
            "Performance in Val: Loss: (0.0464); Accuracy (94.91)\n"
          ]
        },
        {
          "name": "stderr",
          "output_type": "stream",
          "text": [
            "Epoch 277: 100%|██████████| 1494/1494 [00:26<00:00, 55.78batch/s, train_loss=tensor(0.0102, device='cuda:0', grad_fn=<MseLossBackward0>)]\n"
          ]
        },
        {
          "name": "stdout",
          "output_type": "stream",
          "text": [
            "0.04638518943366679 0.949435080570476 0.9161386733063156 0.9578696343402225 0.8456140350877193 0.8456140350877193 0.8677537550479418 0.9588566913004707 0.8982482295937383\n",
            "Epoch: 277 / 500, ############## the best accuracy in val  95.0361 at Epoch: 265  ##############\n",
            "Performance in Val: Loss: (0.0464); Accuracy (94.94)\n"
          ]
        },
        {
          "name": "stderr",
          "output_type": "stream",
          "text": [
            "Epoch 278: 100%|██████████| 1494/1494 [00:26<00:00, 56.31batch/s, train_loss=tensor(0.0245, device='cuda:0', grad_fn=<MseLossBackward0>)]\n"
          ]
        },
        {
          "name": "stdout",
          "output_type": "stream",
          "text": [
            "0.04649148936468092 0.9486942026301167 0.9156354020431048 0.9548335974643423 0.8456140350877193 0.8456140350877193 0.8657479126554183 0.9577012864319833 0.8969110532192035\n",
            "Epoch: 278 / 500, ############## the best accuracy in val  95.0361 at Epoch: 265  ##############\n",
            "Performance in Val: Loss: (0.0465); Accuracy (94.87)\n"
          ]
        },
        {
          "name": "stderr",
          "output_type": "stream",
          "text": [
            "Epoch 279: 100%|██████████| 1494/1494 [00:26<00:00, 56.57batch/s, train_loss=tensor(0.0083, device='cuda:0', grad_fn=<MseLossBackward0>)]\n"
          ]
        },
        {
          "name": "stdout",
          "output_type": "stream",
          "text": [
            "0.04639946584674445 0.9488794221152065 0.9157612198589075 0.9555908009516257 0.8456140350877193 0.8456140350877193 0.8662486101633059 0.9582054406272349 0.8972449739389426\n",
            "Epoch: 279 / 500, ############## the best accuracy in val  95.0361 at Epoch: 265  ##############\n",
            "Performance in Val: Loss: (0.0464); Accuracy (94.89)\n"
          ]
        },
        {
          "name": "stderr",
          "output_type": "stream",
          "text": [
            "Epoch 280: 100%|██████████| 1494/1494 [00:26<00:00, 56.51batch/s, train_loss=tensor(0.0145, device='cuda:0', grad_fn=<MseLossBackward0>)]\n"
          ]
        },
        {
          "name": "stdout",
          "output_type": "stream",
          "text": [
            "0.046589770523661915 0.9481385441748472 0.9141326517097978 0.9561752988047809 0.8421052631578947 0.8421052631578947 0.8642892198412646 0.9577380164048772 0.8955223880597014\n",
            "Epoch: 280 / 500, ############## the best accuracy in val  95.0361 at Epoch: 265  ##############\n",
            "Performance in Val: Loss: (0.0466); Accuracy (94.81)\n"
          ]
        },
        {
          "name": "stderr",
          "output_type": "stream",
          "text": [
            "Epoch 281: 100%|██████████| 1494/1494 [00:26<00:00, 56.36batch/s, train_loss=tensor(0.0083, device='cuda:0', grad_fn=<MseLossBackward0>)]\n"
          ]
        },
        {
          "name": "stdout",
          "output_type": "stream",
          "text": [
            "0.046551919880915775 0.9468420077792183 0.9132519269991788 0.9508716323296355 0.8421052631578947 0.8421052631578947 0.8607832524411975 0.9586852258981626 0.8931894305917379\n",
            "Epoch: 281 / 500, ############## the best accuracy in val  95.0361 at Epoch: 265  ##############\n",
            "Performance in Val: Loss: (0.0466); Accuracy (94.68)\n"
          ]
        },
        {
          "name": "stderr",
          "output_type": "stream",
          "text": [
            "Epoch 282: 100%|██████████| 1494/1494 [00:26<00:00, 56.30batch/s, train_loss=tensor(0.0182, device='cuda:0', grad_fn=<MseLossBackward0>)]\n"
          ]
        },
        {
          "name": "stdout",
          "output_type": "stream",
          "text": [
            "0.04680045283484188 0.948323763659937 0.9149336476571399 0.9547619047619048 0.8442105263157895 0.8442105263157895 0.8647628564090345 0.9564337491943246 0.8960893854748604\n",
            "Epoch: 282 / 500, ############## the best accuracy in val  95.0361 at Epoch: 265  ##############\n",
            "Performance in Val: Loss: (0.0468); Accuracy (94.83)\n"
          ]
        },
        {
          "name": "stderr",
          "output_type": "stream",
          "text": [
            "Epoch 283: 100%|██████████| 1494/1494 [00:26<00:00, 56.50batch/s, train_loss=tensor(0.0087, device='cuda:0', grad_fn=<MseLossBackward0>)]\n"
          ]
        },
        {
          "name": "stdout",
          "output_type": "stream",
          "text": [
            "0.04645632190460509 0.9485089831450269 0.9159597029816615 0.9526440410418311 0.8470175438596491 0.8470175438596491 0.8652351510600604 0.9599924950776539 0.8967310549777119\n",
            "Epoch: 283 / 500, ############## the best accuracy in val  95.0361 at Epoch: 265  ##############\n",
            "Performance in Val: Loss: (0.0465); Accuracy (94.85)\n"
          ]
        },
        {
          "name": "stderr",
          "output_type": "stream",
          "text": [
            "Epoch 284: 100%|██████████| 1494/1494 [00:26<00:00, 55.71batch/s, train_loss=tensor(0.0137, device='cuda:0', grad_fn=<MseLossBackward0>)]\n"
          ]
        },
        {
          "name": "stdout",
          "output_type": "stream",
          "text": [
            "0.046577117702161726 0.9490646416002964 0.9154369189203507 0.9578025477707006 0.8442105263157895 0.8442105263157895 0.8667705789978777 0.9591780785632928 0.897426333457665\n",
            "Epoch: 284 / 500, ############## the best accuracy in val  95.0361 at Epoch: 265  ##############\n",
            "Performance in Val: Loss: (0.0466); Accuracy (94.91)\n"
          ]
        },
        {
          "name": "stderr",
          "output_type": "stream",
          "text": [
            "Epoch 285: 100%|██████████| 1494/1494 [00:26<00:00, 56.25batch/s, train_loss=tensor(0.0090, device='cuda:0', grad_fn=<MseLossBackward0>)]\n"
          ]
        },
        {
          "name": "stdout",
          "output_type": "stream",
          "text": [
            "0.04647049951282414 0.9479533246897573 0.9151321307798939 0.9518167456556083 0.8456140350877193 0.8456140350877193 0.8637501829034052 0.9580228502812138 0.8955778520995913\n",
            "Epoch: 285 / 500, ############## the best accuracy in val  95.0361 at Epoch: 265  ##############\n",
            "Performance in Val: Loss: (0.0465); Accuracy (94.80)\n"
          ]
        },
        {
          "name": "stderr",
          "output_type": "stream",
          "text": [
            "Epoch 286: 100%|██████████| 1494/1494 [00:26<00:00, 56.33batch/s, train_loss=tensor(0.0115, device='cuda:0', grad_fn=<MseLossBackward0>)]\n"
          ]
        },
        {
          "name": "stdout",
          "output_type": "stream",
          "text": [
            "0.04622425604611635 0.949435080570476 0.9168138514378548 0.9556962025316456 0.847719298245614 0.847719298245614 0.8677251960212763 0.9588513937082264 0.898475269616958\n",
            "Epoch: 286 / 500, ############## the best accuracy in val  95.0361 at Epoch: 265  ##############\n",
            "Performance in Val: Loss: (0.0462); Accuracy (94.94)\n"
          ]
        },
        {
          "name": "stderr",
          "output_type": "stream",
          "text": [
            "Epoch 287: 100%|██████████| 1494/1494 [00:26<00:00, 55.94batch/s, train_loss=tensor(0.0122, device='cuda:0', grad_fn=<MseLossBackward0>)]\n"
          ]
        },
        {
          "name": "stdout",
          "output_type": "stream",
          "text": [
            "0.046940003225410525 0.9468420077792183 0.9125767488676396 0.9530254777070064 0.84 0.84 0.8608030996051854 0.960121226569191 0.8929503916449086\n",
            "Epoch: 287 / 500, ############## the best accuracy in val  95.0361 at Epoch: 265  ##############\n",
            "Performance in Val: Loss: (0.0469); Accuracy (94.68)\n"
          ]
        },
        {
          "name": "stderr",
          "output_type": "stream",
          "text": [
            "Epoch 288: 100%|██████████| 1494/1494 [00:26<00:00, 55.39batch/s, train_loss=tensor(0.0149, device='cuda:0', grad_fn=<MseLossBackward0>)]\n"
          ]
        },
        {
          "name": "stdout",
          "output_type": "stream",
          "text": [
            "0.046010289722206915 0.9490646416002964 0.9154369189203507 0.9578025477707006 0.8442105263157895 0.8442105263157895 0.8667705789978777 0.9590101448891478 0.897426333457665\n",
            "Epoch: 288 / 500, ############## the best accuracy in val  95.0361 at Epoch: 265  ##############\n",
            "Performance in Val: Loss: (0.0460); Accuracy (94.91)\n"
          ]
        },
        {
          "name": "stderr",
          "output_type": "stream",
          "text": [
            "Epoch 289: 100%|██████████| 1494/1494 [00:26<00:00, 56.12batch/s, train_loss=tensor(0.0118, device='cuda:0', grad_fn=<MseLossBackward0>)]\n"
          ]
        },
        {
          "name": "stdout",
          "output_type": "stream",
          "text": [
            "0.04627045845104889 0.9485089831450269 0.9157346436044818 0.9533596837944665 0.8463157894736842 0.8463157894736842 0.8652409720555595 0.957712941134921 0.8966542750929368\n",
            "Epoch: 289 / 500, ############## the best accuracy in val  95.0361 at Epoch: 265  ##############\n",
            "Performance in Val: Loss: (0.0463); Accuracy (94.85)\n"
          ]
        },
        {
          "name": "stderr",
          "output_type": "stream",
          "text": [
            "Epoch 290: 100%|██████████| 1494/1494 [00:26<00:00, 55.39batch/s, train_loss=tensor(0.0164, device='cuda:0', grad_fn=<MseLossBackward0>)]\n"
          ]
        },
        {
          "name": "stdout",
          "output_type": "stream",
          "text": [
            "0.04651763472198085 0.9490646416002964 0.9158870376747101 0.9563492063492064 0.8456140350877193 0.8456140350877193 0.8667498157205321 0.957885819228494 0.8975791433891992\n",
            "Epoch: 290 / 500, ############## the best accuracy in val  95.0361 at Epoch: 265  ##############\n",
            "Performance in Val: Loss: (0.0465); Accuracy (94.91)\n"
          ]
        },
        {
          "name": "stderr",
          "output_type": "stream",
          "text": [
            "Epoch 291: 100%|██████████| 1494/1494 [00:26<00:00, 56.12batch/s, train_loss=tensor(0.0205, device='cuda:0', grad_fn=<MseLossBackward0>)]\n"
          ]
        },
        {
          "name": "stdout",
          "output_type": "stream",
          "text": [
            "0.046380022456022824 0.9496203000555659 0.9169396692536576 0.9564528899445764 0.847719298245614 0.847719298245614 0.8682256987664866 0.9585125243909977 0.8988095238095237\n",
            "Epoch: 291 / 500, ############## the best accuracy in val  95.0361 at Epoch: 265  ##############\n",
            "Performance in Val: Loss: (0.0464); Accuracy (94.96)\n"
          ]
        },
        {
          "name": "stderr",
          "output_type": "stream",
          "text": [
            "Epoch 292: 100%|██████████| 1494/1494 [00:26<00:00, 55.83batch/s, train_loss=tensor(0.0076, device='cuda:0', grad_fn=<MseLossBackward0>)]\n"
          ]
        },
        {
          "name": "stdout",
          "output_type": "stream",
          "text": [
            "0.046595562122423544 0.948323763659937 0.9147085882799602 0.9554848966613673 0.8435087719298245 0.8435087719298245 0.8647716682310688 0.9577192982456141 0.8960119269474469\n",
            "Epoch: 292 / 500, ############## the best accuracy in val  95.0361 at Epoch: 265  ##############\n",
            "Performance in Val: Loss: (0.0466); Accuracy (94.83)\n"
          ]
        },
        {
          "name": "stderr",
          "output_type": "stream",
          "text": [
            "Epoch 293: 100%|██████████| 1494/1494 [00:26<00:00, 56.05batch/s, train_loss=tensor(0.0093, device='cuda:0', grad_fn=<MseLossBackward0>)]\n"
          ]
        },
        {
          "name": "stdout",
          "output_type": "stream",
          "text": [
            "0.0466643313199959 0.9481385441748472 0.9154830079728764 0.9518547750591949 0.8463157894736842 0.8463157894736842 0.8642435807829896 0.9579389717373454 0.8959881129271917\n",
            "Epoch: 293 / 500, ############## the best accuracy in val  95.0361 at Epoch: 265  ##############\n",
            "Performance in Val: Loss: (0.0467); Accuracy (94.81)\n"
          ]
        },
        {
          "name": "stderr",
          "output_type": "stream",
          "text": [
            "Epoch 294: 100%|██████████| 1494/1494 [00:26<00:00, 56.50batch/s, train_loss=tensor(0.0200, device='cuda:0', grad_fn=<MseLossBackward0>)]\n"
          ]
        },
        {
          "name": "stdout",
          "output_type": "stream",
          "text": [
            "0.04650215965441682 0.9479533246897573 0.9149070714027141 0.9525316455696202 0.8449122807017544 0.8449122807017544 0.8637556516454014 0.9587533882517062 0.8955001859427296\n",
            "Epoch: 294 / 500, ############## the best accuracy in val  95.0361 at Epoch: 265  ##############\n",
            "Performance in Val: Loss: (0.0465); Accuracy (94.80)\n"
          ]
        },
        {
          "name": "stderr",
          "output_type": "stream",
          "text": [
            "Epoch 295: 100%|██████████| 1494/1494 [00:27<00:00, 55.06batch/s, train_loss=tensor(0.0130, device='cuda:0', grad_fn=<MseLossBackward0>)]\n"
          ]
        },
        {
          "name": "stdout",
          "output_type": "stream",
          "text": [
            "0.04650961294431578 0.9492498610853862 0.9164629742448724 0.9556611243072051 0.8470175438596491 0.8470175438596491 0.867233039905693 0.9577524964903451 0.8980654761904762\n",
            "Epoch: 295 / 500, ############## the best accuracy in val  95.0361 at Epoch: 265  ##############\n",
            "Performance in Val: Loss: (0.0465); Accuracy (94.92)\n"
          ]
        },
        {
          "name": "stderr",
          "output_type": "stream",
          "text": [
            "Epoch 296: 100%|██████████| 1494/1494 [00:26<00:00, 55.80batch/s, train_loss=tensor(0.0146, device='cuda:0', grad_fn=<MseLossBackward0>)]\n"
          ]
        },
        {
          "name": "stdout",
          "output_type": "stream",
          "text": [
            "0.046683898915282705 0.9490646416002964 0.9158870376747101 0.9563492063492064 0.8456140350877193 0.8456140350877193 0.8667498157205321 0.9583166900643657 0.8975791433891992\n",
            "Epoch: 296 / 500, ############## the best accuracy in val  95.0361 at Epoch: 265  ##############\n",
            "Performance in Val: Loss: (0.0467); Accuracy (94.91)\n"
          ]
        },
        {
          "name": "stderr",
          "output_type": "stream",
          "text": [
            "Epoch 297: 100%|██████████| 1494/1494 [00:26<00:00, 56.30batch/s, train_loss=tensor(0.0211, device='cuda:0', grad_fn=<MseLossBackward0>)]\n"
          ]
        },
        {
          "name": "stdout",
          "output_type": "stream",
          "text": [
            "0.04597484117204493 0.9498055195406557 0.9166153683151008 0.958664546899841 0.8463157894736842 0.8463157894736842 0.8687477839868996 0.9594166468006957 0.8989936638091689\n",
            "Epoch: 297 / 500, ############## the best accuracy in val  95.0361 at Epoch: 265  ##############\n",
            "Performance in Val: Loss: (0.0460); Accuracy (94.98)\n"
          ]
        },
        {
          "name": "stderr",
          "output_type": "stream",
          "text": [
            "Epoch 298: 100%|██████████| 1494/1494 [00:26<00:00, 56.27batch/s, train_loss=tensor(0.0101, device='cuda:0', grad_fn=<MseLossBackward0>)]\n"
          ]
        },
        {
          "name": "stdout",
          "output_type": "stream",
          "text": [
            "0.04670190739191391 0.9488794221152065 0.915311101104548 0.9570405727923628 0.8442105263157895 0.8442105263157895 0.8662678824397747 0.9575704359035486 0.8970917225950783\n",
            "Epoch: 298 / 500, ############## the best accuracy in val  95.0361 at Epoch: 265  ##############\n",
            "Performance in Val: Loss: (0.0467); Accuracy (94.89)\n"
          ]
        },
        {
          "name": "stderr",
          "output_type": "stream",
          "text": [
            "Epoch 299: 100%|██████████| 1494/1494 [00:26<00:00, 56.35batch/s, train_loss=tensor(0.0143, device='cuda:0', grad_fn=<MseLossBackward0>)]\n"
          ]
        },
        {
          "name": "stdout",
          "output_type": "stream",
          "text": [
            "0.04651970081877979 0.9479533246897573 0.9142318932711749 0.9546899841017488 0.8428070175438597 0.8428070175438597 0.863777639292111 0.9580064277452565 0.8952664927320164\n",
            "Epoch: 299 / 500, ############## the best accuracy in val  95.0361 at Epoch: 265  ##############\n",
            "Performance in Val: Loss: (0.0465); Accuracy (94.80)\n"
          ]
        },
        {
          "name": "stderr",
          "output_type": "stream",
          "text": [
            "Epoch 300: 100%|██████████| 1494/1494 [00:26<00:00, 55.56batch/s, train_loss=tensor(0.0139, device='cuda:0', grad_fn=<MseLossBackward0>)]\n"
          ]
        },
        {
          "name": "stdout",
          "output_type": "stream",
          "text": [
            "0.046455377331850206 0.9490646416002964 0.9158870376747101 0.9563492063492064 0.8456140350877193 0.8456140350877193 0.8667498157205321 0.9576587291076206 0.8975791433891992\n",
            "Epoch: 300 / 500, ############## the best accuracy in val  95.0361 at Epoch: 265  ##############\n",
            "Performance in Val: Loss: (0.0465); Accuracy (94.91)\n"
          ]
        },
        {
          "name": "stderr",
          "output_type": "stream",
          "text": [
            "Epoch 301: 100%|██████████| 1494/1494 [00:26<00:00, 55.70batch/s, train_loss=tensor(0.0088, device='cuda:0', grad_fn=<MseLossBackward0>)]\n"
          ]
        },
        {
          "name": "stdout",
          "output_type": "stream",
          "text": [
            "0.046667535111985424 0.9486942026301167 0.915410342665925 0.9555555555555556 0.8449122807017544 0.8449122807017544 0.8657563360647833 0.9577125879621047 0.89683426443203\n",
            "Epoch: 301 / 500, ############## the best accuracy in val  95.0361 at Epoch: 265  ##############\n",
            "Performance in Val: Loss: (0.0467); Accuracy (94.87)\n"
          ]
        },
        {
          "name": "stderr",
          "output_type": "stream",
          "text": [
            "Epoch 302: 100%|██████████| 1494/1494 [00:26<00:00, 56.25batch/s, train_loss=tensor(0.0046, device='cuda:0', grad_fn=<MseLossBackward0>)]\n"
          ]
        },
        {
          "name": "stdout",
          "output_type": "stream",
          "text": [
            "0.046737178271128374 0.9485089831450269 0.9150594654729426 0.9555202541699762 0.8442105263157895 0.8442105263157895 0.8652640221662928 0.9565494132916588 0.8964232488822654\n",
            "Epoch: 302 / 500, ############## the best accuracy in val  95.0361 at Epoch: 265  ##############\n",
            "Performance in Val: Loss: (0.0467); Accuracy (94.85)\n"
          ]
        },
        {
          "name": "stderr",
          "output_type": "stream",
          "text": [
            "Epoch 303: 100%|██████████| 1494/1494 [00:26<00:00, 56.02batch/s, train_loss=tensor(0.0101, device='cuda:0', grad_fn=<MseLossBackward0>)]\n"
          ]
        },
        {
          "name": "stdout",
          "output_type": "stream",
          "text": [
            "0.046279406937008556 0.9499907390257455 0.9178664830168022 0.9558011049723757 0.8498245614035088 0.8498245614035088 0.8692014321683437 0.9603951120882226 0.899702823179792\n",
            "Epoch: 303 / 500, ############## the best accuracy in val  95.0361 at Epoch: 265  ##############\n",
            "Performance in Val: Loss: (0.0463); Accuracy (95.00)\n"
          ]
        },
        {
          "name": "stderr",
          "output_type": "stream",
          "text": [
            "Epoch 304: 100%|██████████| 1494/1494 [00:26<00:00, 56.30batch/s, train_loss=tensor(0.0050, device='cuda:0', grad_fn=<MseLossBackward0>)]\n"
          ]
        },
        {
          "name": "stdout",
          "output_type": "stream",
          "text": [
            "0.046759261707351965 0.9492498610853862 0.9155627367361534 0.9585657370517928 0.8442105263157895 0.8442105263157895 0.8672737878694857 0.9566988053929489 0.8977611940298508\n",
            "Epoch: 304 / 500, ############## the best accuracy in val  95.0361 at Epoch: 265  ##############\n",
            "Performance in Val: Loss: (0.0468); Accuracy (94.92)\n"
          ]
        },
        {
          "name": "stderr",
          "output_type": "stream",
          "text": [
            "Epoch 305: 100%|██████████| 1494/1494 [00:26<00:00, 56.21batch/s, train_loss=tensor(0.0123, device='cuda:0', grad_fn=<MseLossBackward0>)]\n"
          ]
        },
        {
          "name": "stdout",
          "output_type": "stream",
          "text": [
            "0.04621825697408481 0.9486942026301167 0.9156354020431048 0.9548335974643423 0.8456140350877193 0.8456140350877193 0.8657479126554183 0.9613372005756717 0.8969110532192035\n",
            "Epoch: 305 / 500, ############## the best accuracy in val  95.0361 at Epoch: 265  ##############\n",
            "Performance in Val: Loss: (0.0462); Accuracy (94.87)\n"
          ]
        },
        {
          "name": "stderr",
          "output_type": "stream",
          "text": [
            "Epoch 306: 100%|██████████| 1494/1494 [00:26<00:00, 56.33batch/s, train_loss=tensor(0.0089, device='cuda:0', grad_fn=<MseLossBackward0>)]\n"
          ]
        },
        {
          "name": "stdout",
          "output_type": "stream",
          "text": [
            "0.046673312105915764 0.9488794221152065 0.9159862792360872 0.9548693586698337 0.8463157894736842 0.8463157894736842 0.8662403810448994 0.9564830168021967 0.8973214285714285\n",
            "Epoch: 306 / 500, ############## the best accuracy in val  95.0361 at Epoch: 265  ##############\n",
            "Performance in Val: Loss: (0.0467); Accuracy (94.89)\n"
          ]
        },
        {
          "name": "stderr",
          "output_type": "stream",
          "text": [
            "Epoch 307: 100%|██████████| 1494/1494 [00:26<00:00, 55.57batch/s, train_loss=tensor(0.0297, device='cuda:0', grad_fn=<MseLossBackward0>)]\n"
          ]
        },
        {
          "name": "stdout",
          "output_type": "stream",
          "text": [
            "0.047095404133539305 0.9475828857195777 0.9137551982623897 0.9538950715421304 0.8421052631578947 0.8421052631578947 0.8627836103531533 0.957119081044332 0.8945210585165859\n",
            "Epoch: 307 / 500, ############## the best accuracy in val  95.0361 at Epoch: 265  ##############\n",
            "Performance in Val: Loss: (0.0471); Accuracy (94.76)\n"
          ]
        },
        {
          "name": "stderr",
          "output_type": "stream",
          "text": [
            "Epoch 308: 100%|██████████| 1494/1494 [00:26<00:00, 56.19batch/s, train_loss=tensor(0.0088, device='cuda:0', grad_fn=<MseLossBackward0>)]\n"
          ]
        },
        {
          "name": "stdout",
          "output_type": "stream",
          "text": [
            "0.04636064921082421 0.9499907390257455 0.9162910673765441 0.9608938547486033 0.8449122807017544 0.8449122807017544 0.8692771561640003 0.9592045665245146 0.8991784914115012\n",
            "Epoch: 308 / 500, ############## the best accuracy in val  95.0361 at Epoch: 265  ##############\n",
            "Performance in Val: Loss: (0.0464); Accuracy (95.00)\n"
          ]
        },
        {
          "name": "stderr",
          "output_type": "stream",
          "text": [
            "Epoch 309: 100%|██████████| 1494/1494 [00:26<00:00, 56.16batch/s, train_loss=tensor(0.0289, device='cuda:0', grad_fn=<MseLossBackward0>)]\n"
          ]
        },
        {
          "name": "stdout",
          "output_type": "stream",
          "text": [
            "0.04636403973298994 0.950546397481015 0.9180188770870306 0.9587955625990491 0.8491228070175438 0.8491228070175438 0.8707125728696392 0.9579843544442384 0.9006326758466692\n",
            "Epoch: 309 / 500, ############## the best accuracy in val  95.0361 at Epoch: 265  ##############\n",
            "Performance in Val: Loss: (0.0464); Accuracy (95.05)\n"
          ]
        },
        {
          "name": "stderr",
          "output_type": "stream",
          "text": [
            "Epoch 310: 100%|██████████| 1494/1494 [00:26<00:00, 55.64batch/s, train_loss=tensor(0.0136, device='cuda:0', grad_fn=<MseLossBackward0>)]\n"
          ]
        },
        {
          "name": "stdout",
          "output_type": "stream",
          "text": [
            "0.04649083769287576 0.9490646416002964 0.9156619782975304 0.9570747217806042 0.8449122807017544 0.8449122807017544 0.8667597261089841 0.957571142249181 0.8975027953783079\n",
            "Epoch: 310 / 500, ############## the best accuracy in val  95.0546 at Epoch: 309  ##############\n",
            "Performance in Val: Loss: (0.0465); Accuracy (94.91)\n"
          ]
        },
        {
          "name": "stderr",
          "output_type": "stream",
          "text": [
            "Epoch 311: 100%|██████████| 1494/1494 [00:26<00:00, 55.44batch/s, train_loss=tensor(0.0129, device='cuda:0', grad_fn=<MseLossBackward0>)]\n"
          ]
        },
        {
          "name": "stdout",
          "output_type": "stream",
          "text": [
            "0.04637936413796111 0.948323763659937 0.9153837664114992 0.9533227848101266 0.8456140350877193 0.8456140350877193 0.8647480377393701 0.9583855587635419 0.8962439568612867\n",
            "Epoch: 311 / 500, ############## the best accuracy in val  95.0546 at Epoch: 309  ##############\n",
            "Performance in Val: Loss: (0.0464); Accuracy (94.83)\n"
          ]
        },
        {
          "name": "stderr",
          "output_type": "stream",
          "text": [
            "Epoch 312: 100%|██████████| 1494/1494 [00:26<00:00, 56.05batch/s, train_loss=tensor(0.0113, device='cuda:0', grad_fn=<MseLossBackward0>)]\n"
          ]
        },
        {
          "name": "stdout",
          "output_type": "stream",
          "text": [
            "0.046665319495580414 0.9473976662344878 0.9131792616922276 0.9545816733067729 0.840701754385965 0.840701754385965 0.8622995078224506 0.9581616471980151 0.8940298507462687\n",
            "Epoch: 312 / 500, ############## the best accuracy in val  95.0546 at Epoch: 309  ##############\n",
            "Performance in Val: Loss: (0.0467); Accuracy (94.74)\n"
          ]
        },
        {
          "name": "stderr",
          "output_type": "stream",
          "text": [
            "Epoch 313: 100%|██████████| 1494/1494 [00:26<00:00, 55.76batch/s, train_loss=tensor(0.0145, device='cuda:0', grad_fn=<MseLossBackward0>)]\n"
          ]
        },
        {
          "name": "stdout",
          "output_type": "stream",
          "text": [
            "0.0465350460938432 0.9488794221152065 0.915311101104548 0.9570405727923628 0.8442105263157895 0.8442105263157895 0.8662678824397747 0.9586356051174741 0.8970917225950783\n",
            "Epoch: 313 / 500, ############## the best accuracy in val  95.0546 at Epoch: 309  ##############\n",
            "Performance in Val: Loss: (0.0465); Accuracy (94.89)\n"
          ]
        },
        {
          "name": "stderr",
          "output_type": "stream",
          "text": [
            "Epoch 314: 100%|██████████| 1494/1494 [00:26<00:00, 56.06batch/s, train_loss=tensor(0.0193, device='cuda:0', grad_fn=<MseLossBackward0>)]\n"
          ]
        },
        {
          "name": "stdout",
          "output_type": "stream",
          "text": [
            "0.04651341087777506 0.9490646416002964 0.9154369189203507 0.9578025477707006 0.8442105263157895 0.8442105263157895 0.8667705789978777 0.9581561730193626 0.897426333457665\n",
            "Epoch: 314 / 500, ############## the best accuracy in val  95.0546 at Epoch: 309  ##############\n",
            "Performance in Val: Loss: (0.0465); Accuracy (94.91)\n"
          ]
        },
        {
          "name": "stderr",
          "output_type": "stream",
          "text": [
            "Epoch 315: 100%|██████████| 1494/1494 [00:26<00:00, 55.87batch/s, train_loss=tensor(0.0113, device='cuda:0', grad_fn=<MseLossBackward0>)]\n"
          ]
        },
        {
          "name": "stdout",
          "output_type": "stream",
          "text": [
            "0.0465902753428302 0.9490646416002964 0.9149868001659912 0.9592651757188498 0.8428070175438597 0.8428070175438597 0.8667951249118149 0.9570625733937259 0.8972730668658947\n",
            "Epoch: 315 / 500, ############## the best accuracy in val  95.0546 at Epoch: 309  ##############\n",
            "Performance in Val: Loss: (0.0466); Accuracy (94.91)\n"
          ]
        },
        {
          "name": "stderr",
          "output_type": "stream",
          "text": [
            "Epoch 316: 100%|██████████| 1494/1494 [00:26<00:00, 55.42batch/s, train_loss=tensor(0.0090, device='cuda:0', grad_fn=<MseLossBackward0>)]\n"
          ]
        },
        {
          "name": "stdout",
          "output_type": "stream",
          "text": [
            "0.04676395675844767 0.9490646416002964 0.9154369189203507 0.9578025477707006 0.8442105263157895 0.8442105263157895 0.8667705789978777 0.9561891770190449 0.897426333457665\n",
            "Epoch: 316 / 500, ############## the best accuracy in val  95.0546 at Epoch: 309  ##############\n",
            "Performance in Val: Loss: (0.0468); Accuracy (94.91)\n"
          ]
        },
        {
          "name": "stderr",
          "output_type": "stream",
          "text": [
            "Epoch 317: 100%|██████████| 1494/1494 [00:26<00:00, 56.19batch/s, train_loss=tensor(0.0104, device='cuda:0', grad_fn=<MseLossBackward0>)]\n"
          ]
        },
        {
          "name": "stdout",
          "output_type": "stream",
          "text": [
            "0.046279469462619585 0.9481385441748472 0.9139075923326181 0.9569034317637669 0.8414035087719298 0.8414035087719298 0.8643001086836668 0.9589322702831564 0.8954443614637789\n",
            "Epoch: 317 / 500, ############## the best accuracy in val  95.0546 at Epoch: 309  ##############\n",
            "Performance in Val: Loss: (0.0463); Accuracy (94.81)\n"
          ]
        },
        {
          "name": "stderr",
          "output_type": "stream",
          "text": [
            "Epoch 318: 100%|██████████| 1494/1494 [00:26<00:00, 55.57batch/s, train_loss=tensor(0.0135, device='cuda:0', grad_fn=<MseLossBackward0>)]\n"
          ]
        },
        {
          "name": "stdout",
          "output_type": "stream",
          "text": [
            "0.046607713045721706 0.9485089831450269 0.9157346436044818 0.9533596837944665 0.8463157894736842 0.8463157894736842 0.8652409720555595 0.9578017640982175 0.8966542750929368\n",
            "Epoch: 318 / 500, ############## the best accuracy in val  95.0546 at Epoch: 309  ##############\n",
            "Performance in Val: Loss: (0.0466); Accuracy (94.85)\n"
          ]
        },
        {
          "name": "stderr",
          "output_type": "stream",
          "text": [
            "Epoch 319: 100%|██████████| 1494/1494 [00:26<00:00, 55.85batch/s, train_loss=tensor(0.0060, device='cuda:0', grad_fn=<MseLossBackward0>)]\n"
          ]
        },
        {
          "name": "stdout",
          "output_type": "stream",
          "text": [
            "0.04594105545600707 0.9501759585108354 0.9184424195869644 0.9551181102362205 0.8512280701754386 0.8512280701754386 0.8696865667695406 0.9608941452776381 0.9001855287569573\n",
            "Epoch: 319 / 500, ############## the best accuracy in val  95.0546 at Epoch: 309  ##############\n",
            "Performance in Val: Loss: (0.0459); Accuracy (95.02)\n"
          ]
        },
        {
          "name": "stderr",
          "output_type": "stream",
          "text": [
            "Epoch 320: 100%|██████████| 1494/1494 [00:26<00:00, 55.88batch/s, train_loss=tensor(0.0087, device='cuda:0', grad_fn=<MseLossBackward0>)]\n"
          ]
        },
        {
          "name": "stdout",
          "output_type": "stream",
          "text": [
            "0.046680717009373686 0.9481385441748472 0.9145827704641574 0.9547259729944401 0.8435087719298245 0.8435087719298245 0.8642702680781212 0.9579995408753388 0.8956780923994039\n",
            "Epoch: 320 / 500, ############## the best accuracy in val  95.0546 at Epoch: 309  ##############\n",
            "Performance in Val: Loss: (0.0467); Accuracy (94.81)\n"
          ]
        },
        {
          "name": "stderr",
          "output_type": "stream",
          "text": [
            "Epoch 321: 100%|██████████| 1494/1494 [00:26<00:00, 55.94batch/s, train_loss=tensor(0.0076, device='cuda:0', grad_fn=<MseLossBackward0>)]\n"
          ]
        },
        {
          "name": "stdout",
          "output_type": "stream",
          "text": [
            "0.04630439487201246 0.9490646416002964 0.9154369189203507 0.9578025477707006 0.8442105263157895 0.8442105263157895 0.8667705789978777 0.9602225871674657 0.897426333457665\n",
            "Epoch: 321 / 500, ############## the best accuracy in val  95.0546 at Epoch: 309  ##############\n",
            "Performance in Val: Loss: (0.0463); Accuracy (94.91)\n"
          ]
        },
        {
          "name": "stderr",
          "output_type": "stream",
          "text": [
            "Epoch 322: 100%|██████████| 1494/1494 [00:26<00:00, 56.29batch/s, train_loss=tensor(0.0130, device='cuda:0', grad_fn=<MseLossBackward0>)]\n"
          ]
        },
        {
          "name": "stdout",
          "output_type": "stream",
          "text": [
            "0.04609079464254054 0.9485089831450269 0.915509584227302 0.9540775930324624 0.8456140350877193 0.8456140350877193 0.8652477221841057 0.9592827943033225 0.8965773809523808\n",
            "Epoch: 322 / 500, ############## the best accuracy in val  95.0546 at Epoch: 309  ##############\n",
            "Performance in Val: Loss: (0.0461); Accuracy (94.85)\n"
          ]
        },
        {
          "name": "stderr",
          "output_type": "stream",
          "text": [
            "Epoch 323: 100%|██████████| 1494/1494 [00:26<00:00, 55.99batch/s, train_loss=tensor(0.0066, device='cuda:0', grad_fn=<MseLossBackward0>)]\n"
          ]
        },
        {
          "name": "stdout",
          "output_type": "stream",
          "text": [
            "0.046341529454697265 0.9488794221152065 0.915311101104548 0.9570405727923628 0.8442105263157895 0.8442105263157895 0.8662678824397747 0.9598104344908572 0.8970917225950783\n",
            "Epoch: 323 / 500, ############## the best accuracy in val  95.0546 at Epoch: 309  ##############\n",
            "Performance in Val: Loss: (0.0463); Accuracy (94.89)\n"
          ]
        },
        {
          "name": "stderr",
          "output_type": "stream",
          "text": [
            "Epoch 324: 100%|██████████| 1494/1494 [00:26<00:00, 55.34batch/s, train_loss=tensor(0.0092, device='cuda:0', grad_fn=<MseLossBackward0>)]\n"
          ]
        },
        {
          "name": "stdout",
          "output_type": "stream",
          "text": [
            "0.046255728526210245 0.9479533246897573 0.9149070714027141 0.9525316455696202 0.8449122807017544 0.8449122807017544 0.8637556516454014 0.9599810169611244 0.8955001859427296\n",
            "Epoch: 324 / 500, ############## the best accuracy in val  95.0546 at Epoch: 309  ##############\n",
            "Performance in Val: Loss: (0.0463); Accuracy (94.80)\n"
          ]
        },
        {
          "name": "stderr",
          "output_type": "stream",
          "text": [
            "Epoch 325: 100%|██████████| 1494/1494 [00:26<00:00, 55.93batch/s, train_loss=tensor(0.0073, device='cuda:0', grad_fn=<MseLossBackward0>)]\n"
          ]
        },
        {
          "name": "stdout",
          "output_type": "stream",
          "text": [
            "0.04637189569290389 0.9486942026301167 0.915410342665925 0.9555555555555556 0.8449122807017544 0.8449122807017544 0.8657563360647833 0.9574632479538051 0.89683426443203\n",
            "Epoch: 325 / 500, ############## the best accuracy in val  95.0546 at Epoch: 309  ##############\n",
            "Performance in Val: Loss: (0.0464); Accuracy (94.87)\n"
          ]
        },
        {
          "name": "stderr",
          "output_type": "stream",
          "text": [
            "Epoch 326: 100%|██████████| 1494/1494 [00:26<00:00, 55.59batch/s, train_loss=tensor(0.0038, device='cuda:0', grad_fn=<MseLossBackward0>)]\n"
          ]
        },
        {
          "name": "stdout",
          "output_type": "stream",
          "text": [
            "0.046260457528247076 0.9496203000555659 0.9167146098764778 0.957176843774782 0.8470175438596491 0.8470175438596491 0.8682350214451088 0.9596589233526696 0.8987341772151899\n",
            "Epoch: 326 / 500, ############## the best accuracy in val  95.0546 at Epoch: 309  ##############\n",
            "Performance in Val: Loss: (0.0463); Accuracy (94.96)\n"
          ]
        },
        {
          "name": "stderr",
          "output_type": "stream",
          "text": [
            "Epoch 327: 100%|██████████| 1494/1494 [00:26<00:00, 55.55batch/s, train_loss=tensor(0.0036, device='cuda:0', grad_fn=<MseLossBackward0>)]\n"
          ]
        },
        {
          "name": "stdout",
          "output_type": "stream",
          "text": [
            "0.046446404081176625 0.9490646416002964 0.9149868001659912 0.9592651757188498 0.8428070175438597 0.8428070175438597 0.8667951249118149 0.9598526386424036 0.8972730668658947\n",
            "Epoch: 327 / 500, ############## the best accuracy in val  95.0546 at Epoch: 309  ##############\n",
            "Performance in Val: Loss: (0.0464); Accuracy (94.91)\n"
          ]
        },
        {
          "name": "stderr",
          "output_type": "stream",
          "text": [
            "Epoch 328: 100%|██████████| 1494/1494 [00:26<00:00, 56.26batch/s, train_loss=tensor(0.0087, device='cuda:0', grad_fn=<MseLossBackward0>)]\n"
          ]
        },
        {
          "name": "stdout",
          "output_type": "stream",
          "text": [
            "0.04619626184417443 0.9498055195406557 0.91729054644664 0.9564873417721519 0.848421052631579 0.848421052631579 0.8687175821152451 0.9603378980919838 0.8992190405355152\n",
            "Epoch: 328 / 500, ############## the best accuracy in val  95.0546 at Epoch: 309  ##############\n",
            "Performance in Val: Loss: (0.0462); Accuracy (94.98)\n"
          ]
        },
        {
          "name": "stderr",
          "output_type": "stream",
          "text": [
            "Epoch 329: 100%|██████████| 1494/1494 [00:27<00:00, 55.08batch/s, train_loss=tensor(0.0106, device='cuda:0', grad_fn=<MseLossBackward0>)]\n"
          ]
        },
        {
          "name": "stdout",
          "output_type": "stream",
          "text": [
            "0.04673568718135357 0.9486942026301167 0.915410342665925 0.9555555555555556 0.8449122807017544 0.8449122807017544 0.8657563360647833 0.9583212813109774 0.89683426443203\n",
            "Epoch: 329 / 500, ############## the best accuracy in val  95.0546 at Epoch: 309  ##############\n",
            "Performance in Val: Loss: (0.0467); Accuracy (94.87)\n"
          ]
        },
        {
          "name": "stderr",
          "output_type": "stream",
          "text": [
            "Epoch 330: 100%|██████████| 1494/1494 [00:26<00:00, 56.20batch/s, train_loss=tensor(0.0137, device='cuda:0', grad_fn=<MseLossBackward0>)]\n"
          ]
        },
        {
          "name": "stdout",
          "output_type": "stream",
          "text": [
            "0.04673737080090425 0.9488794221152065 0.914410863595829 0.9599679743795037 0.8414035087719298 0.8414035087719298 0.8663177712339447 0.958588986305724 0.8967838444278234\n",
            "Epoch: 330 / 500, ############## the best accuracy in val  95.0546 at Epoch: 309  ##############\n",
            "Performance in Val: Loss: (0.0467); Accuracy (94.89)\n"
          ]
        },
        {
          "name": "stderr",
          "output_type": "stream",
          "text": [
            "Epoch 331: 100%|██████████| 1494/1494 [00:26<00:00, 57.02batch/s, train_loss=tensor(0.0059, device='cuda:0', grad_fn=<MseLossBackward0>)]\n"
          ]
        },
        {
          "name": "stdout",
          "output_type": "stream",
          "text": [
            "0.0468397220088677 0.948323763659937 0.9147085882799602 0.9554848966613673 0.8435087719298245 0.8435087719298245 0.8647716682310688 0.9582820791283695 0.8960119269474469\n",
            "Epoch: 331 / 500, ############## the best accuracy in val  95.0546 at Epoch: 309  ##############\n",
            "Performance in Val: Loss: (0.0468); Accuracy (94.83)\n"
          ]
        },
        {
          "name": "stderr",
          "output_type": "stream",
          "text": [
            "Epoch 332: 100%|██████████| 1494/1494 [00:25<00:00, 57.84batch/s, train_loss=tensor(0.0123, device='cuda:0', grad_fn=<MseLossBackward0>)]\n"
          ]
        },
        {
          "name": "stdout",
          "output_type": "stream",
          "text": [
            "0.046284940813414076 0.9490646416002964 0.9158870376747101 0.9563492063492064 0.8456140350877193 0.8456140350877193 0.8667498157205321 0.959254010718795 0.8975791433891992\n",
            "Epoch: 332 / 500, ############## the best accuracy in val  95.0546 at Epoch: 309  ##############\n",
            "Performance in Val: Loss: (0.0463); Accuracy (94.91)\n"
          ]
        },
        {
          "name": "stderr",
          "output_type": "stream",
          "text": [
            "Epoch 333: 100%|██████████| 1494/1494 [00:25<00:00, 57.54batch/s, train_loss=tensor(0.0052, device='cuda:0', grad_fn=<MseLossBackward0>)]\n"
          ]
        },
        {
          "name": "stdout",
          "output_type": "stream",
          "text": [
            "0.046707038301974535 0.9486942026301167 0.915410342665925 0.9555555555555556 0.8449122807017544 0.8449122807017544 0.8657563360647833 0.9579718168092601 0.89683426443203\n",
            "Epoch: 333 / 500, ############## the best accuracy in val  95.0546 at Epoch: 309  ##############\n",
            "Performance in Val: Loss: (0.0467); Accuracy (94.87)\n"
          ]
        },
        {
          "name": "stderr",
          "output_type": "stream",
          "text": [
            "Epoch 334: 100%|██████████| 1494/1494 [00:26<00:00, 57.35batch/s, train_loss=tensor(0.0079, device='cuda:0', grad_fn=<MseLossBackward0>)]\n"
          ]
        },
        {
          "name": "stdout",
          "output_type": "stream",
          "text": [
            "0.046603361440991815 0.9485089831450269 0.9148344060957627 0.9562450278440732 0.8435087719298245 0.8435087719298245 0.8652735782308776 0.9573761908545899 0.8963460104399701\n",
            "Epoch: 334 / 500, ############## the best accuracy in val  95.0546 at Epoch: 309  ##############\n",
            "Performance in Val: Loss: (0.0466); Accuracy (94.85)\n"
          ]
        },
        {
          "name": "stderr",
          "output_type": "stream",
          "text": [
            "Epoch 335: 100%|██████████| 1494/1494 [00:26<00:00, 57.29batch/s, train_loss=tensor(0.0154, device='cuda:0', grad_fn=<MseLossBackward0>)]\n"
          ]
        },
        {
          "name": "stdout",
          "output_type": "stream",
          "text": [
            "0.046674286099997436 0.9481385441748472 0.9145827704641574 0.9547259729944401 0.8435087719298245 0.8435087719298245 0.8642702680781212 0.9583041524293876 0.8956780923994039\n",
            "Epoch: 335 / 500, ############## the best accuracy in val  95.0546 at Epoch: 309  ##############\n",
            "Performance in Val: Loss: (0.0467); Accuracy (94.81)\n"
          ]
        },
        {
          "name": "stderr",
          "output_type": "stream",
          "text": [
            "Epoch 336: 100%|██████████| 1494/1494 [00:25<00:00, 57.55batch/s, train_loss=tensor(0.0141, device='cuda:0', grad_fn=<MseLossBackward0>)]\n"
          ]
        },
        {
          "name": "stdout",
          "output_type": "stream",
          "text": [
            "0.04668911030008034 0.9477681052046675 0.9136559567010127 0.9553784860557769 0.8414035087719298 0.8414035087719298 0.8632943638318576 0.9579831183393814 0.8947761194029852\n",
            "Epoch: 336 / 500, ############## the best accuracy in val  95.0546 at Epoch: 309  ##############\n",
            "Performance in Val: Loss: (0.0467); Accuracy (94.78)\n"
          ]
        },
        {
          "name": "stderr",
          "output_type": "stream",
          "text": [
            "Epoch 337: 100%|██████████| 1494/1494 [00:25<00:00, 57.56batch/s, train_loss=tensor(0.0030, device='cuda:0', grad_fn=<MseLossBackward0>)]\n"
          ]
        },
        {
          "name": "stdout",
          "output_type": "stream",
          "text": [
            "0.04663735496896235 0.9477681052046675 0.9145561942097318 0.9524940617577197 0.8442105263157895 0.8442105263157895 0.8632624044625186 0.9573467009244299 0.8950892857142858\n",
            "Epoch: 337 / 500, ############## the best accuracy in val  95.0546 at Epoch: 309  ##############\n",
            "Performance in Val: Loss: (0.0466); Accuracy (94.78)\n"
          ]
        },
        {
          "name": "stderr",
          "output_type": "stream",
          "text": [
            "Epoch 338: 100%|██████████| 1494/1494 [00:25<00:00, 57.50batch/s, train_loss=tensor(0.0137, device='cuda:0', grad_fn=<MseLossBackward0>)]\n"
          ]
        },
        {
          "name": "stdout",
          "output_type": "stream",
          "text": [
            "0.046785231976007875 0.9479533246897573 0.9140068338939952 0.9554140127388535 0.8421052631578947 0.8421052631578947 0.8637868393015316 0.9568413106243213 0.8951883625512868\n",
            "Epoch: 338 / 500, ############## the best accuracy in val  95.0546 at Epoch: 309  ##############\n",
            "Performance in Val: Loss: (0.0468); Accuracy (94.80)\n"
          ]
        },
        {
          "name": "stderr",
          "output_type": "stream",
          "text": [
            "Epoch 339: 100%|██████████| 1494/1494 [00:26<00:00, 56.67batch/s, train_loss=tensor(0.0142, device='cuda:0', grad_fn=<MseLossBackward0>)]\n"
          ]
        },
        {
          "name": "stdout",
          "output_type": "stream",
          "text": [
            "0.046292187603698534 0.9492498610853862 0.917588271130771 0.9520816967792616 0.8505263157894737 0.8505263157894737 0.8672031318887801 0.9590316884309414 0.8984432913269089\n",
            "Epoch: 339 / 500, ############## the best accuracy in val  95.0546 at Epoch: 309  ##############\n",
            "Performance in Val: Loss: (0.0463); Accuracy (94.92)\n"
          ]
        },
        {
          "name": "stderr",
          "output_type": "stream",
          "text": [
            "Epoch 340: 100%|██████████| 1494/1494 [00:26<00:00, 56.49batch/s, train_loss=tensor(0.0100, device='cuda:0', grad_fn=<MseLossBackward0>)]\n"
          ]
        },
        {
          "name": "stdout",
          "output_type": "stream",
          "text": [
            "0.046905126380310816 0.9486942026301167 0.915410342665925 0.9555555555555556 0.8449122807017544 0.8449122807017544 0.8657563360647833 0.9577886967040148 0.89683426443203\n",
            "Epoch: 340 / 500, ############## the best accuracy in val  95.0546 at Epoch: 309  ##############\n",
            "Performance in Val: Loss: (0.0469); Accuracy (94.87)\n"
          ]
        },
        {
          "name": "stderr",
          "output_type": "stream",
          "text": [
            "Epoch 341: 100%|██████████| 1494/1494 [00:26<00:00, 56.17batch/s, train_loss=tensor(0.0100, device='cuda:0', grad_fn=<MseLossBackward0>)]\n"
          ]
        },
        {
          "name": "stdout",
          "output_type": "stream",
          "text": [
            "0.04689817998388952 0.948323763659937 0.9149336476571399 0.9547619047619048 0.8442105263157895 0.8442105263157895 0.8647628564090345 0.9576250011036651 0.8960893854748604\n",
            "Epoch: 341 / 500, ############## the best accuracy in val  95.0546 at Epoch: 309  ##############\n",
            "Performance in Val: Loss: (0.0469); Accuracy (94.83)\n"
          ]
        },
        {
          "name": "stderr",
          "output_type": "stream",
          "text": [
            "Epoch 342: 100%|██████████| 1494/1494 [00:27<00:00, 54.72batch/s, train_loss=tensor(0.0065, device='cuda:0', grad_fn=<MseLossBackward0>)]\n"
          ]
        },
        {
          "name": "stdout",
          "output_type": "stream",
          "text": [
            "0.04620000631125136 0.9498055195406557 0.9163903089379211 0.9593949044585988 0.8456140350877193 0.8456140350877193 0.8687597387954417 0.9592949787654843 0.8989183140619172\n",
            "Epoch: 342 / 500, ############## the best accuracy in val  95.0546 at Epoch: 309  ##############\n",
            "Performance in Val: Loss: (0.0462); Accuracy (94.98)\n"
          ]
        },
        {
          "name": "stderr",
          "output_type": "stream",
          "text": [
            "Epoch 343: 100%|██████████| 1494/1494 [00:26<00:00, 55.44batch/s, train_loss=tensor(0.0102, device='cuda:0', grad_fn=<MseLossBackward0>)]\n"
          ]
        },
        {
          "name": "stdout",
          "output_type": "stream",
          "text": [
            "0.04724001482298428 0.9492498610853862 0.9155627367361534 0.9585657370517928 0.8442105263157895 0.8442105263157895 0.8672737878694857 0.9560934671858307 0.8977611940298508\n",
            "Epoch: 343 / 500, ############## the best accuracy in val  95.0546 at Epoch: 309  ##############\n",
            "Performance in Val: Loss: (0.0472); Accuracy (94.92)\n"
          ]
        },
        {
          "name": "stderr",
          "output_type": "stream",
          "text": [
            "Epoch 344: 100%|██████████| 1494/1494 [00:26<00:00, 57.43batch/s, train_loss=tensor(0.0076, device='cuda:0', grad_fn=<MseLossBackward0>)]\n"
          ]
        },
        {
          "name": "stdout",
          "output_type": "stream",
          "text": [
            "0.046740552791478956 0.9477681052046675 0.9141060754553723 0.9539316918189039 0.8428070175438597 0.8428070175438597 0.8632765139899496 0.9587855269779885 0.8949329359165424\n",
            "Epoch: 344 / 500, ############## the best accuracy in val  95.0546 at Epoch: 309  ##############\n",
            "Performance in Val: Loss: (0.0467); Accuracy (94.78)\n"
          ]
        },
        {
          "name": "stderr",
          "output_type": "stream",
          "text": [
            "Epoch 345: 100%|██████████| 1494/1494 [00:26<00:00, 56.94batch/s, train_loss=tensor(0.0150, device='cuda:0', grad_fn=<MseLossBackward0>)]\n"
          ]
        },
        {
          "name": "stdout",
          "output_type": "stream",
          "text": [
            "0.04662544284523888 0.9479533246897573 0.9135567151396358 0.9568690095846646 0.840701754385965 0.840701754385965 0.8638080642907094 0.9585741530474399 0.8950317519611506\n",
            "Epoch: 345 / 500, ############## the best accuracy in val  95.0546 at Epoch: 309  ##############\n",
            "Performance in Val: Loss: (0.0466); Accuracy (94.80)\n"
          ]
        },
        {
          "name": "stderr",
          "output_type": "stream",
          "text": [
            "Epoch 346: 100%|██████████| 1494/1494 [00:26<00:00, 57.24batch/s, train_loss=tensor(0.0155, device='cuda:0', grad_fn=<MseLossBackward0>)]\n"
          ]
        },
        {
          "name": "stdout",
          "output_type": "stream",
          "text": [
            "0.04650563086298379 0.9481385441748472 0.9150328892185169 0.953285827395091 0.8449122807017544 0.8449122807017544 0.8642550633233121 0.9585213537114048 0.8958333333333334\n",
            "Epoch: 346 / 500, ############## the best accuracy in val  95.0546 at Epoch: 309  ##############\n",
            "Performance in Val: Loss: (0.0465); Accuracy (94.81)\n"
          ]
        },
        {
          "name": "stderr",
          "output_type": "stream",
          "text": [
            "Epoch 347: 100%|██████████| 1494/1494 [00:26<00:00, 57.03batch/s, train_loss=tensor(0.0152, device='cuda:0', grad_fn=<MseLossBackward0>)]\n"
          ]
        },
        {
          "name": "stdout",
          "output_type": "stream",
          "text": [
            "0.04662445196035234 0.9468420077792183 0.9134769863763585 0.9501582278481012 0.8428070175438597 0.8428070175438597 0.8607784933634952 0.9574279306721762 0.8932688731870584\n",
            "Epoch: 347 / 500, ############## the best accuracy in val  95.0546 at Epoch: 309  ##############\n",
            "Performance in Val: Loss: (0.0466); Accuracy (94.68)\n"
          ]
        },
        {
          "name": "stderr",
          "output_type": "stream",
          "text": [
            "Epoch 348: 100%|██████████| 1494/1494 [00:26<00:00, 57.15batch/s, train_loss=tensor(0.0136, device='cuda:0', grad_fn=<MseLossBackward0>)]\n"
          ]
        },
        {
          "name": "stdout",
          "output_type": "stream",
          "text": [
            "0.04672639922831546 0.9486942026301167 0.9149602239115655 0.9570063694267515 0.8435087719298245 0.8435087719298245 0.8657759990990956 0.9599389893959862 0.8966803431555389\n",
            "Epoch: 348 / 500, ############## the best accuracy in val  95.0546 at Epoch: 309  ##############\n",
            "Performance in Val: Loss: (0.0467); Accuracy (94.87)\n"
          ]
        },
        {
          "name": "stderr",
          "output_type": "stream",
          "text": [
            "Epoch 349: 100%|██████████| 1494/1494 [00:26<00:00, 57.45batch/s, train_loss=tensor(0.0071, device='cuda:0', grad_fn=<MseLossBackward0>)]\n"
          ]
        },
        {
          "name": "stdout",
          "output_type": "stream",
          "text": [
            "0.04629672509194775 0.9479533246897573 0.9140068338939952 0.9554140127388535 0.8421052631578947 0.8421052631578947 0.8637868393015316 0.9590382221280429 0.8951883625512868\n",
            "Epoch: 349 / 500, ############## the best accuracy in val  95.0546 at Epoch: 309  ##############\n",
            "Performance in Val: Loss: (0.0463); Accuracy (94.80)\n"
          ]
        },
        {
          "name": "stderr",
          "output_type": "stream",
          "text": [
            "Epoch 350: 100%|██████████| 1494/1494 [00:26<00:00, 56.62batch/s, train_loss=tensor(0.0100, device='cuda:0', grad_fn=<MseLossBackward0>)]\n"
          ]
        },
        {
          "name": "stdout",
          "output_type": "stream",
          "text": [
            "0.046666657806120136 0.9492498610853862 0.9155627367361534 0.9585657370517928 0.8442105263157895 0.8442105263157895 0.8672737878694857 0.9581459310076903 0.8977611940298508\n",
            "Epoch: 350 / 500, ############## the best accuracy in val  95.0546 at Epoch: 309  ##############\n",
            "Performance in Val: Loss: (0.0467); Accuracy (94.92)\n"
          ]
        },
        {
          "name": "stderr",
          "output_type": "stream",
          "text": [
            "Epoch 351: 100%|██████████| 1494/1494 [00:26<00:00, 57.08batch/s, train_loss=tensor(0.0231, device='cuda:0', grad_fn=<MseLossBackward0>)]\n"
          ]
        },
        {
          "name": "stdout",
          "output_type": "stream",
          "text": [
            "0.04679077266800133 0.9503611779959251 0.9178930592712279 0.9580364212193191 0.8491228070175438 0.8491228070175438 0.8702110164880739 0.9577433139971216 0.9002976190476191\n",
            "Epoch: 351 / 500, ############## the best accuracy in val  95.0546 at Epoch: 309  ##############\n",
            "Performance in Val: Loss: (0.0468); Accuracy (95.04)\n"
          ]
        },
        {
          "name": "stderr",
          "output_type": "stream",
          "text": [
            "Epoch 352: 100%|██████████| 1494/1494 [00:26<00:00, 56.32batch/s, train_loss=tensor(0.0158, device='cuda:0', grad_fn=<MseLossBackward0>)]\n"
          ]
        },
        {
          "name": "stdout",
          "output_type": "stream",
          "text": [
            "0.04637887887656689 0.9486942026301167 0.915410342665925 0.9555555555555556 0.8449122807017544 0.8449122807017544 0.8657563360647833 0.9576398343619492 0.89683426443203\n",
            "Epoch: 352 / 500, ############## the best accuracy in val  95.0546 at Epoch: 309  ##############\n",
            "Performance in Val: Loss: (0.0464); Accuracy (94.87)\n"
          ]
        },
        {
          "name": "stderr",
          "output_type": "stream",
          "text": [
            "Epoch 353: 100%|██████████| 1494/1494 [00:26<00:00, 56.70batch/s, train_loss=tensor(0.0115, device='cuda:0', grad_fn=<MseLossBackward0>)]\n"
          ]
        },
        {
          "name": "stdout",
          "output_type": "stream",
          "text": [
            "0.04648552115329287 0.9490646416002964 0.9154369189203507 0.9578025477707006 0.8442105263157895 0.8442105263157895 0.8667705789978777 0.9581220918425908 0.897426333457665\n",
            "Epoch: 353 / 500, ############## the best accuracy in val  95.0546 at Epoch: 309  ##############\n",
            "Performance in Val: Loss: (0.0465); Accuracy (94.91)\n"
          ]
        },
        {
          "name": "stderr",
          "output_type": "stream",
          "text": [
            "Epoch 354: 100%|██████████| 1494/1494 [00:26<00:00, 56.73batch/s, train_loss=tensor(0.0097, device='cuda:0', grad_fn=<MseLossBackward0>)]\n"
          ]
        },
        {
          "name": "stdout",
          "output_type": "stream",
          "text": [
            "0.04654552190649239 0.9498055195406557 0.91729054644664 0.9564873417721519 0.848421052631579 0.848421052631579 0.8687175821152451 0.9563396286387837 0.8992190405355152\n",
            "Epoch: 354 / 500, ############## the best accuracy in val  95.0546 at Epoch: 309  ##############\n",
            "Performance in Val: Loss: (0.0465); Accuracy (94.98)\n"
          ]
        },
        {
          "name": "stderr",
          "output_type": "stream",
          "text": [
            "Epoch 355: 100%|██████████| 1494/1494 [00:26<00:00, 56.88batch/s, train_loss=tensor(0.0105, device='cuda:0', grad_fn=<MseLossBackward0>)]\n"
          ]
        },
        {
          "name": "stdout",
          "output_type": "stream",
          "text": [
            "0.04625080563974651 0.949435080570476 0.9161386733063156 0.9578696343402225 0.8456140350877193 0.8456140350877193 0.8677537550479418 0.9574649255246823 0.8982482295937383\n",
            "Epoch: 355 / 500, ############## the best accuracy in val  95.0546 at Epoch: 309  ##############\n",
            "Performance in Val: Loss: (0.0463); Accuracy (94.94)\n"
          ]
        },
        {
          "name": "stderr",
          "output_type": "stream",
          "text": [
            "Epoch 356: 100%|██████████| 1494/1494 [00:26<00:00, 57.27batch/s, train_loss=tensor(0.0162, device='cuda:0', grad_fn=<MseLossBackward0>)]\n"
          ]
        },
        {
          "name": "stdout",
          "output_type": "stream",
          "text": [
            "0.04642475629225373 0.9481385441748472 0.9148078298413371 0.9540047581284695 0.8442105263157895 0.8442105263157895 0.8642621988815029 0.9574014427109546 0.8957557706626955\n",
            "Epoch: 356 / 500, ############## the best accuracy in val  95.0546 at Epoch: 309  ##############\n",
            "Performance in Val: Loss: (0.0464); Accuracy (94.81)\n"
          ]
        },
        {
          "name": "stderr",
          "output_type": "stream",
          "text": [
            "Epoch 357: 100%|██████████| 1494/1494 [00:26<00:00, 56.62batch/s, train_loss=tensor(0.0124, device='cuda:0', grad_fn=<MseLossBackward0>)]\n"
          ]
        },
        {
          "name": "stdout",
          "output_type": "stream",
          "text": [
            "0.046493235636841164 0.9499907390257455 0.9174163642624427 0.9572446555819477 0.848421052631579 0.848421052631579 0.8692183576272803 0.9589910735570684 0.8995535714285714\n",
            "Epoch: 357 / 500, ############## the best accuracy in val  95.0546 at Epoch: 309  ##############\n",
            "Performance in Val: Loss: (0.0465); Accuracy (95.00)\n"
          ]
        },
        {
          "name": "stderr",
          "output_type": "stream",
          "text": [
            "Epoch 358: 100%|██████████| 1494/1494 [00:27<00:00, 54.71batch/s, train_loss=tensor(0.0218, device='cuda:0', grad_fn=<MseLossBackward0>)]\n"
          ]
        },
        {
          "name": "stdout",
          "output_type": "stream",
          "text": [
            "0.046379498333077536 0.9490646416002964 0.9158870376747101 0.9563492063492064 0.8456140350877193 0.8456140350877193 0.8667498157205321 0.958024086386071 0.8975791433891992\n",
            "Epoch: 358 / 500, ############## the best accuracy in val  95.0546 at Epoch: 309  ##############\n",
            "Performance in Val: Loss: (0.0464); Accuracy (94.91)\n"
          ]
        },
        {
          "name": "stderr",
          "output_type": "stream",
          "text": [
            "Epoch 359: 100%|██████████| 1494/1494 [00:27<00:00, 54.35batch/s, train_loss=tensor(0.0091, device='cuda:0', grad_fn=<MseLossBackward0>)]\n"
          ]
        },
        {
          "name": "stdout",
          "output_type": "stream",
          "text": [
            "0.04607432716610757 0.9498055195406557 0.9166153683151008 0.958664546899841 0.8463157894736842 0.8463157894736842 0.8687477839868996 0.9592488897129587 0.8989936638091689\n",
            "Epoch: 359 / 500, ############## the best accuracy in val  95.0546 at Epoch: 309  ##############\n",
            "Performance in Val: Loss: (0.0461); Accuracy (94.98)\n"
          ]
        },
        {
          "name": "stderr",
          "output_type": "stream",
          "text": [
            "Epoch 360: 100%|██████████| 1494/1494 [00:27<00:00, 54.31batch/s, train_loss=tensor(0.0128, device='cuda:0', grad_fn=<MseLossBackward0>)]\n"
          ]
        },
        {
          "name": "stdout",
          "output_type": "stream",
          "text": [
            "0.04668946352533319 0.9486942026301167 0.9147351645343857 0.9577352472089314 0.8428070175438597 0.8428070175438597 0.8657872449994326 0.9566641061637486 0.8966032101530422\n",
            "Epoch: 360 / 500, ############## the best accuracy in val  95.0546 at Epoch: 309  ##############\n",
            "Performance in Val: Loss: (0.0467); Accuracy (94.87)\n"
          ]
        },
        {
          "name": "stderr",
          "output_type": "stream",
          "text": [
            "Epoch 361: 100%|██████████| 1494/1494 [00:26<00:00, 55.56batch/s, train_loss=tensor(0.0157, device='cuda:0', grad_fn=<MseLossBackward0>)]\n"
          ]
        },
        {
          "name": "stdout",
          "output_type": "stream",
          "text": [
            "0.04659081682224165 0.9470272272643082 0.9136028041921613 0.950910530482977 0.8428070175438597 0.8428070175438597 0.8612770867409313 0.9597519843897616 0.8936011904761905\n",
            "Epoch: 361 / 500, ############## the best accuracy in val  95.0546 at Epoch: 309  ##############\n",
            "Performance in Val: Loss: (0.0466); Accuracy (94.70)\n"
          ]
        },
        {
          "name": "stderr",
          "output_type": "stream",
          "text": [
            "Epoch 362: 100%|██████████| 1494/1494 [00:27<00:00, 53.65batch/s, train_loss=tensor(0.0091, device='cuda:0', grad_fn=<MseLossBackward0>)]\n"
          ]
        },
        {
          "name": "stdout",
          "output_type": "stream",
          "text": [
            "0.04659811110997742 0.9499907390257455 0.9169662455080833 0.9586973788721207 0.8470175438596491 0.8470175438596491 0.8692390385189792 0.9578950017217176 0.8994038748137109\n",
            "Epoch: 362 / 500, ############## the best accuracy in val  95.0546 at Epoch: 309  ##############\n",
            "Performance in Val: Loss: (0.0466); Accuracy (95.00)\n"
          ]
        },
        {
          "name": "stderr",
          "output_type": "stream",
          "text": [
            "Epoch 363: 100%|██████████| 1494/1494 [00:27<00:00, 54.97batch/s, train_loss=tensor(0.0074, device='cuda:0', grad_fn=<MseLossBackward0>)]\n"
          ]
        },
        {
          "name": "stdout",
          "output_type": "stream",
          "text": [
            "0.046474546871402046 0.948323763659937 0.9144835289027804 0.9562101910828026 0.8428070175438597 0.8428070175438597 0.8647814192003136 0.9583950944295818 0.8959343528534129\n",
            "Epoch: 363 / 500, ############## the best accuracy in val  95.0546 at Epoch: 309  ##############\n",
            "Performance in Val: Loss: (0.0465); Accuracy (94.83)\n"
          ]
        },
        {
          "name": "stderr",
          "output_type": "stream",
          "text": [
            "Epoch 364: 100%|██████████| 1494/1494 [00:27<00:00, 55.14batch/s, train_loss=tensor(0.0111, device='cuda:0', grad_fn=<MseLossBackward0>)]\n"
          ]
        },
        {
          "name": "stdout",
          "output_type": "stream",
          "text": [
            "0.046363875989548185 0.9485089831450269 0.9152845248501222 0.9547977795400476 0.8449122807017544 0.8449122807017544 0.8652554045224045 0.9577551452864672 0.8965003723008192\n",
            "Epoch: 364 / 500, ############## the best accuracy in val  95.0546 at Epoch: 309  ##############\n",
            "Performance in Val: Loss: (0.0464); Accuracy (94.85)\n"
          ]
        },
        {
          "name": "stderr",
          "output_type": "stream",
          "text": [
            "Epoch 365: 100%|██████████| 1494/1494 [00:27<00:00, 55.30batch/s, train_loss=tensor(0.0127, device='cuda:0', grad_fn=<MseLossBackward0>)]\n"
          ]
        },
        {
          "name": "stdout",
          "output_type": "stream",
          "text": [
            "0.046414203476160765 0.9492498610853862 0.9169130929992318 0.9542225730071034 0.848421052631579 0.848421052631579 0.867218291614202 0.9568919909234586 0.8982169390787519\n",
            "Epoch: 365 / 500, ############## the best accuracy in val  95.0546 at Epoch: 309  ##############\n",
            "Performance in Val: Loss: (0.0464); Accuracy (94.92)\n"
          ]
        },
        {
          "name": "stderr",
          "output_type": "stream",
          "text": [
            "Epoch 366: 100%|██████████| 1494/1494 [00:27<00:00, 55.06batch/s, train_loss=tensor(0.0099, device='cuda:0', grad_fn=<MseLossBackward0>)]\n"
          ]
        },
        {
          "name": "stdout",
          "output_type": "stream",
          "text": [
            "0.04657342450015924 0.9488794221152065 0.9150860417273683 0.9577689243027888 0.8435087719298245 0.8435087719298245 0.8662789318600788 0.9568132333854265 0.8970149253731342\n",
            "Epoch: 366 / 500, ############## the best accuracy in val  95.0546 at Epoch: 309  ##############\n",
            "Performance in Val: Loss: (0.0466); Accuracy (94.89)\n"
          ]
        },
        {
          "name": "stderr",
          "output_type": "stream",
          "text": [
            "Epoch 367: 100%|██████████| 1494/1494 [00:26<00:00, 55.48batch/s, train_loss=tensor(0.0030, device='cuda:0', grad_fn=<MseLossBackward0>)]\n"
          ]
        },
        {
          "name": "stdout",
          "output_type": "stream",
          "text": [
            "0.04653193911706859 0.9496203000555659 0.9162644911221183 0.958631662688942 0.8456140350877193 0.8456140350877193 0.868256490857569 0.9575695529715078 0.8985831469052945\n",
            "Epoch: 367 / 500, ############## the best accuracy in val  95.0546 at Epoch: 309  ##############\n",
            "Performance in Val: Loss: (0.0465); Accuracy (94.96)\n"
          ]
        },
        {
          "name": "stderr",
          "output_type": "stream",
          "text": [
            "Epoch 368: 100%|██████████| 1494/1494 [00:26<00:00, 56.20batch/s, train_loss=tensor(0.0084, device='cuda:0', grad_fn=<MseLossBackward0>)]\n"
          ]
        },
        {
          "name": "stdout",
          "output_type": "stream",
          "text": [
            "0.04626331723887812 0.9485089831450269 0.9150594654729426 0.9555202541699762 0.8442105263157895 0.8442105263157895 0.8652640221662928 0.9590477577940826 0.8964232488822654\n",
            "Epoch: 368 / 500, ############## the best accuracy in val  95.0546 at Epoch: 309  ##############\n",
            "Performance in Val: Loss: (0.0463); Accuracy (94.85)\n"
          ]
        },
        {
          "name": "stderr",
          "output_type": "stream",
          "text": [
            "Epoch 369: 100%|██████████| 1494/1494 [00:26<00:00, 57.21batch/s, train_loss=tensor(0.0087, device='cuda:0', grad_fn=<MseLossBackward0>)]\n"
          ]
        },
        {
          "name": "stdout",
          "output_type": "stream",
          "text": [
            "0.046587258408015426 0.9486942026301167 0.9151852832887453 0.9562798092209857 0.8442105263157895 0.8442105263157895 0.8657656971700264 0.9577637980204663 0.8967573611628774\n",
            "Epoch: 369 / 500, ############## the best accuracy in val  95.0546 at Epoch: 309  ##############\n",
            "Performance in Val: Loss: (0.0466); Accuracy (94.87)\n"
          ]
        },
        {
          "name": "stderr",
          "output_type": "stream",
          "text": [
            "Epoch 370: 100%|██████████| 1494/1494 [00:26<00:00, 57.38batch/s, train_loss=tensor(0.0127, device='cuda:0', grad_fn=<MseLossBackward0>)]\n"
          ]
        },
        {
          "name": "stdout",
          "output_type": "stream",
          "text": [
            "0.04652723119678823 0.9488794221152065 0.9146359229730088 0.9592326139088729 0.8421052631578947 0.8421052631578947 0.8663038730670853 0.9579882393452177 0.8968609865470852\n",
            "Epoch: 370 / 500, ############## the best accuracy in val  95.0546 at Epoch: 309  ##############\n",
            "Performance in Val: Loss: (0.0465); Accuracy (94.89)\n"
          ]
        },
        {
          "name": "stderr",
          "output_type": "stream",
          "text": [
            "Epoch 371: 100%|██████████| 1494/1494 [00:26<00:00, 56.70batch/s, train_loss=tensor(0.0139, device='cuda:0', grad_fn=<MseLossBackward0>)]\n"
          ]
        },
        {
          "name": "stdout",
          "output_type": "stream",
          "text": [
            "0.04622032036158172 0.9485089831450269 0.9152845248501222 0.9547977795400476 0.8449122807017544 0.8449122807017544 0.8652554045224045 0.959625195348714 0.8965003723008192\n",
            "Epoch: 371 / 500, ############## the best accuracy in val  95.0546 at Epoch: 309  ##############\n",
            "Performance in Val: Loss: (0.0462); Accuracy (94.85)\n"
          ]
        },
        {
          "name": "stderr",
          "output_type": "stream",
          "text": [
            "Epoch 372: 100%|██████████| 1494/1494 [00:25<00:00, 57.62batch/s, train_loss=tensor(0.0079, device='cuda:0', grad_fn=<MseLossBackward0>)]\n"
          ]
        },
        {
          "name": "stdout",
          "output_type": "stream",
          "text": [
            "0.04631127903915264 0.9498055195406557 0.9163903089379211 0.9593949044585988 0.8456140350877193 0.8456140350877193 0.8687597387954417 0.9589329766287888 0.8989183140619172\n",
            "Epoch: 372 / 500, ############## the best accuracy in val  95.0546 at Epoch: 309  ##############\n",
            "Performance in Val: Loss: (0.0463); Accuracy (94.98)\n"
          ]
        },
        {
          "name": "stderr",
          "output_type": "stream",
          "text": [
            "Epoch 373: 100%|██████████| 1494/1494 [00:26<00:00, 57.45batch/s, train_loss=tensor(0.0109, device='cuda:0', grad_fn=<MseLossBackward0>)]\n"
          ]
        },
        {
          "name": "stdout",
          "output_type": "stream",
          "text": [
            "0.04652984207496047 0.9492498610853862 0.9162379148676927 0.9563838223632039 0.8463157894736842 0.8463157894736842 0.8672418158042073 0.9588930681005483 0.8979895755770663\n",
            "Epoch: 373 / 500, ############## the best accuracy in val  95.0546 at Epoch: 309  ##############\n",
            "Performance in Val: Loss: (0.0465); Accuracy (94.92)\n"
          ]
        },
        {
          "name": "stderr",
          "output_type": "stream",
          "text": [
            "Epoch 374: 100%|██████████| 1494/1494 [00:25<00:00, 57.66batch/s, train_loss=tensor(0.0060, device='cuda:0', grad_fn=<MseLossBackward0>)]\n"
          ]
        },
        {
          "name": "stdout",
          "output_type": "stream",
          "text": [
            "0.0465049700896171 0.9486942026301167 0.9151852832887453 0.9562798092209857 0.8442105263157895 0.8442105263157895 0.8657656971700264 0.9582029684175208 0.8967573611628774\n",
            "Epoch: 374 / 500, ############## the best accuracy in val  95.0546 at Epoch: 309  ##############\n",
            "Performance in Val: Loss: (0.0465); Accuracy (94.87)\n"
          ]
        },
        {
          "name": "stderr",
          "output_type": "stream",
          "text": [
            "Epoch 375: 100%|██████████| 1494/1494 [00:26<00:00, 56.96batch/s, train_loss=tensor(0.0132, device='cuda:0', grad_fn=<MseLossBackward0>)]\n"
          ]
        },
        {
          "name": "stdout",
          "output_type": "stream",
          "text": [
            "0.04629197013987736 0.9498055195406557 0.9166153683151008 0.958664546899841 0.8463157894736842 0.8463157894736842 0.8687477839868996 0.9591763126992117 0.8989936638091689\n",
            "Epoch: 375 / 500, ############## the best accuracy in val  95.0546 at Epoch: 309  ##############\n",
            "Performance in Val: Loss: (0.0463); Accuracy (94.98)\n"
          ]
        },
        {
          "name": "stderr",
          "output_type": "stream",
          "text": [
            "Epoch 376: 100%|██████████| 1494/1494 [00:27<00:00, 53.54batch/s, train_loss=tensor(0.0120, device='cuda:0', grad_fn=<MseLossBackward0>)]\n"
          ]
        },
        {
          "name": "stdout",
          "output_type": "stream",
          "text": [
            "0.045961483297022904 0.9509168364511946 0.918270512718636 0.9603174603174603 0.8491228070175438 0.8491228070175438 0.8717172139992759 0.9605040659020475 0.9013035381750465\n",
            "Epoch: 376 / 500, ############## the best accuracy in val  95.0546 at Epoch: 309  ##############\n",
            "Performance in Val: Loss: (0.0460); Accuracy (95.09)\n"
          ]
        },
        {
          "name": "stderr",
          "output_type": "stream",
          "text": [
            "Epoch 377: 100%|██████████| 1494/1494 [00:30<00:00, 49.62batch/s, train_loss=tensor(0.0087, device='cuda:0', grad_fn=<MseLossBackward0>)]\n"
          ]
        },
        {
          "name": "stdout",
          "output_type": "stream",
          "text": [
            "0.04618696165694432 0.9496203000555659 0.9167146098764778 0.957176843774782 0.8470175438596491 0.8470175438596491 0.8682350214451088 0.9598851305415023 0.8987341772151899\n",
            "Epoch: 377 / 500, ############## the best accuracy in val  95.0917 at Epoch: 376  ##############\n",
            "Performance in Val: Loss: (0.0462); Accuracy (94.96)\n"
          ]
        },
        {
          "name": "stderr",
          "output_type": "stream",
          "text": [
            "Epoch 378: 100%|██████████| 1494/1494 [00:27<00:00, 55.28batch/s, train_loss=tensor(0.0153, device='cuda:0', grad_fn=<MseLossBackward0>)]\n"
          ]
        },
        {
          "name": "stdout",
          "output_type": "stream",
          "text": [
            "0.046402878424322065 0.948323763659937 0.9153837664114992 0.9533227848101266 0.8456140350877193 0.8456140350877193 0.8647480377393701 0.9592282291032059 0.8962439568612867\n",
            "Epoch: 378 / 500, ############## the best accuracy in val  95.0917 at Epoch: 376  ##############\n",
            "Performance in Val: Loss: (0.0464); Accuracy (94.83)\n"
          ]
        },
        {
          "name": "stderr",
          "output_type": "stream",
          "text": [
            "Epoch 379: 100%|██████████| 1494/1494 [00:26<00:00, 55.52batch/s, train_loss=tensor(0.0065, device='cuda:0', grad_fn=<MseLossBackward0>)]\n"
          ]
        },
        {
          "name": "stdout",
          "output_type": "stream",
          "text": [
            "0.04615968165241859 0.9488794221152065 0.915311101104548 0.9570405727923628 0.8442105263157895 0.8442105263157895 0.8662678824397747 0.9593490142063765 0.8970917225950783\n",
            "Epoch: 379 / 500, ############## the best accuracy in val  95.0917 at Epoch: 376  ##############\n",
            "Performance in Val: Loss: (0.0462); Accuracy (94.89)\n"
          ]
        },
        {
          "name": "stderr",
          "output_type": "stream",
          "text": [
            "Epoch 380: 100%|██████████| 1494/1494 [00:26<00:00, 55.60batch/s, train_loss=tensor(0.0074, device='cuda:0', grad_fn=<MseLossBackward0>)]\n"
          ]
        },
        {
          "name": "stdout",
          "output_type": "stream",
          "text": [
            "0.04645662759007378 0.948323763659937 0.9149336476571399 0.9547619047619048 0.8442105263157895 0.8442105263157895 0.8647628564090345 0.958797181680926 0.8960893854748604\n",
            "Epoch: 380 / 500, ############## the best accuracy in val  95.0917 at Epoch: 376  ##############\n",
            "Performance in Val: Loss: (0.0465); Accuracy (94.83)\n"
          ]
        },
        {
          "name": "stderr",
          "output_type": "stream",
          "text": [
            "Epoch 381: 100%|██████████| 1494/1494 [00:26<00:00, 55.79batch/s, train_loss=tensor(0.0091, device='cuda:0', grad_fn=<MseLossBackward0>)]\n"
          ]
        },
        {
          "name": "stdout",
          "output_type": "stream",
          "text": [
            "0.04624452056701888 0.9492498610853862 0.9164629742448724 0.9556611243072051 0.8470175438596491 0.8470175438596491 0.867233039905693 0.9601455072003108 0.8980654761904762\n",
            "Epoch: 381 / 500, ############## the best accuracy in val  95.0917 at Epoch: 376  ##############\n",
            "Performance in Val: Loss: (0.0462); Accuracy (94.92)\n"
          ]
        },
        {
          "name": "stderr",
          "output_type": "stream",
          "text": [
            "Epoch 382: 100%|██████████| 1494/1494 [00:26<00:00, 55.76batch/s, train_loss=tensor(0.0037, device='cuda:0', grad_fn=<MseLossBackward0>)]\n"
          ]
        },
        {
          "name": "stdout",
          "output_type": "stream",
          "text": [
            "0.04692987306043506 0.9475828857195777 0.9130800201308504 0.9560702875399361 0.84 0.84 0.8628123774170077 0.9571238488773519 0.8942846469929024\n",
            "Epoch: 382 / 500, ############## the best accuracy in val  95.0917 at Epoch: 376  ##############\n",
            "Performance in Val: Loss: (0.0469); Accuracy (94.76)\n"
          ]
        },
        {
          "name": "stderr",
          "output_type": "stream",
          "text": [
            "Epoch 383: 100%|██████████| 1494/1494 [00:26<00:00, 55.99batch/s, train_loss=tensor(0.0124, device='cuda:0', grad_fn=<MseLossBackward0>)]\n"
          ]
        },
        {
          "name": "stdout",
          "output_type": "stream",
          "text": [
            "0.0467125637118112 0.9485089831450269 0.9148344060957627 0.9562450278440732 0.8435087719298245 0.8435087719298245 0.8652735782308776 0.9572587608931741 0.8963460104399701\n",
            "Epoch: 383 / 500, ############## the best accuracy in val  95.0917 at Epoch: 376  ##############\n",
            "Performance in Val: Loss: (0.0467); Accuracy (94.85)\n"
          ]
        },
        {
          "name": "stderr",
          "output_type": "stream",
          "text": [
            "Epoch 384: 100%|██████████| 1494/1494 [00:26<00:00, 56.34batch/s, train_loss=tensor(0.0173, device='cuda:0', grad_fn=<MseLossBackward0>)]\n"
          ]
        },
        {
          "name": "stdout",
          "output_type": "stream",
          "text": [
            "0.04647182910279794 0.9490646416002964 0.915211859543171 0.9585326953748007 0.8435087719298245 0.8435087719298245 0.8667823775410014 0.9579492137490176 0.8973497573721538\n",
            "Epoch: 384 / 500, ############## the best accuracy in val  95.0917 at Epoch: 376  ##############\n",
            "Performance in Val: Loss: (0.0465); Accuracy (94.91)\n"
          ]
        },
        {
          "name": "stderr",
          "output_type": "stream",
          "text": [
            "Epoch 385: 100%|██████████| 1494/1494 [00:26<00:00, 55.90batch/s, train_loss=tensor(0.0142, device='cuda:0', grad_fn=<MseLossBackward0>)]\n"
          ]
        },
        {
          "name": "stdout",
          "output_type": "stream",
          "text": [
            "0.04670915786515583 0.9486942026301167 0.9151852832887453 0.9562798092209857 0.8442105263157895 0.8442105263157895 0.8657656971700264 0.9578824640867392 0.8967573611628774\n",
            "Epoch: 385 / 500, ############## the best accuracy in val  95.0917 at Epoch: 376  ##############\n",
            "Performance in Val: Loss: (0.0467); Accuracy (94.87)\n"
          ]
        },
        {
          "name": "stderr",
          "output_type": "stream",
          "text": [
            "Epoch 386: 100%|██████████| 1494/1494 [00:26<00:00, 56.08batch/s, train_loss=tensor(0.0083, device='cuda:0', grad_fn=<MseLossBackward0>)]\n"
          ]
        },
        {
          "name": "stdout",
          "output_type": "stream",
          "text": [
            "0.04665951578962532 0.9473976662344878 0.9143045585781262 0.9509881422924901 0.8442105263157895 0.8442105263157895 0.8622646308307874 0.9585496075367079 0.8944237918215614\n",
            "Epoch: 386 / 500, ############## the best accuracy in val  95.0917 at Epoch: 376  ##############\n",
            "Performance in Val: Loss: (0.0467); Accuracy (94.74)\n"
          ]
        },
        {
          "name": "stderr",
          "output_type": "stream",
          "text": [
            "Epoch 387: 100%|██████████| 1494/1494 [00:26<00:00, 56.26batch/s, train_loss=tensor(0.0050, device='cuda:0', grad_fn=<MseLossBackward0>)]\n"
          ]
        },
        {
          "name": "stdout",
          "output_type": "stream",
          "text": [
            "0.0469566589560021 0.9481385441748472 0.9145827704641574 0.9547259729944401 0.8435087719298245 0.8435087719298245 0.8642702680781212 0.9580652310191684 0.8956780923994039\n",
            "Epoch: 387 / 500, ############## the best accuracy in val  95.0917 at Epoch: 376  ##############\n",
            "Performance in Val: Loss: (0.0470); Accuracy (94.81)\n"
          ]
        },
        {
          "name": "stderr",
          "output_type": "stream",
          "text": [
            "Epoch 388: 100%|██████████| 1494/1494 [00:26<00:00, 55.59batch/s, train_loss=tensor(0.0099, device='cuda:0', grad_fn=<MseLossBackward0>)]\n"
          ]
        },
        {
          "name": "stdout",
          "output_type": "stream",
          "text": [
            "0.04638077835129066 0.9499907390257455 0.9167411861309035 0.9594272076372315 0.8463157894736842 0.8463157894736842 0.8692507950664661 0.9586004644222534 0.8993288590604027\n",
            "Epoch: 388 / 500, ############## the best accuracy in val  95.0917 at Epoch: 376  ##############\n",
            "Performance in Val: Loss: (0.0464); Accuracy (95.00)\n"
          ]
        },
        {
          "name": "stderr",
          "output_type": "stream",
          "text": [
            "Epoch 389: 100%|██████████| 1494/1494 [00:26<00:00, 55.44batch/s, train_loss=tensor(0.0101, device='cuda:0', grad_fn=<MseLossBackward0>)]\n"
          ]
        },
        {
          "name": "stdout",
          "output_type": "stream",
          "text": [
            "0.046585505955259905 0.9503611779959251 0.9174429405168684 0.9594916600476568 0.847719298245614 0.847719298245614 0.8702327926071508 0.9583015036332653 0.9001490312965722\n",
            "Epoch: 389 / 500, ############## the best accuracy in val  95.0917 at Epoch: 376  ##############\n",
            "Performance in Val: Loss: (0.0466); Accuracy (95.04)\n"
          ]
        },
        {
          "name": "stderr",
          "output_type": "stream",
          "text": [
            "Epoch 390: 100%|██████████| 1494/1494 [00:27<00:00, 54.23batch/s, train_loss=tensor(0.0130, device='cuda:0', grad_fn=<MseLossBackward0>)]\n"
          ]
        },
        {
          "name": "stdout",
          "output_type": "stream",
          "text": [
            "0.04675995774397796 0.9490646416002964 0.9156619782975304 0.9570747217806042 0.8449122807017544 0.8449122807017544 0.8667597261089841 0.957172939898816 0.8975027953783079\n",
            "Epoch: 390 / 500, ############## the best accuracy in val  95.0917 at Epoch: 376  ##############\n",
            "Performance in Val: Loss: (0.0468); Accuracy (94.91)\n"
          ]
        },
        {
          "name": "stderr",
          "output_type": "stream",
          "text": [
            "Epoch 391: 100%|██████████| 1494/1494 [00:27<00:00, 54.79batch/s, train_loss=tensor(0.0169, device='cuda:0', grad_fn=<MseLossBackward0>)]\n"
          ]
        },
        {
          "name": "stdout",
          "output_type": "stream",
          "text": [
            "0.046705185901373625 0.9498055195406557 0.9163903089379211 0.9593949044585988 0.8456140350877193 0.8456140350877193 0.8687597387954417 0.9567335929153533 0.8989183140619172\n",
            "Epoch: 391 / 500, ############## the best accuracy in val  95.0917 at Epoch: 376  ##############\n",
            "Performance in Val: Loss: (0.0467); Accuracy (94.98)\n"
          ]
        },
        {
          "name": "stderr",
          "output_type": "stream",
          "text": [
            "Epoch 392: 100%|██████████| 1494/1494 [00:27<00:00, 55.10batch/s, train_loss=tensor(0.0139, device='cuda:0', grad_fn=<MseLossBackward0>)]\n"
          ]
        },
        {
          "name": "stdout",
          "output_type": "stream",
          "text": [
            "0.04652384638955647 0.9501759585108354 0.9166419445695264 0.9609250398724083 0.8456140350877193 0.8456140350877193 0.8697677751657081 0.9569310165196585 0.8995893990294886\n",
            "Epoch: 392 / 500, ############## the best accuracy in val  95.0917 at Epoch: 376  ##############\n",
            "Performance in Val: Loss: (0.0465); Accuracy (95.02)\n"
          ]
        },
        {
          "name": "stderr",
          "output_type": "stream",
          "text": [
            "Epoch 393: 100%|██████████| 1494/1494 [00:27<00:00, 55.03batch/s, train_loss=tensor(0.0105, device='cuda:0', grad_fn=<MseLossBackward0>)]\n"
          ]
        },
        {
          "name": "stdout",
          "output_type": "stream",
          "text": [
            "0.04668954302641479 0.948323763659937 0.9138083507712411 0.9584 0.840701754385965 0.840701754385965 0.8648163385003865 0.9587795230401116 0.8957009345794392\n",
            "Epoch: 393 / 500, ############## the best accuracy in val  95.0917 at Epoch: 376  ##############\n",
            "Performance in Val: Loss: (0.0467); Accuracy (94.83)\n"
          ]
        },
        {
          "name": "stderr",
          "output_type": "stream",
          "text": [
            "Epoch 394: 100%|██████████| 1494/1494 [00:26<00:00, 55.61batch/s, train_loss=tensor(0.0092, device='cuda:0', grad_fn=<MseLossBackward0>)]\n"
          ]
        },
        {
          "name": "stdout",
          "output_type": "stream",
          "text": [
            "0.04664086313410239 0.9485089831450269 0.9148344060957627 0.9562450278440732 0.8435087719298245 0.8435087719298245 0.8652735782308776 0.9581817780485435 0.8963460104399701\n",
            "Epoch: 394 / 500, ############## the best accuracy in val  95.0917 at Epoch: 376  ##############\n",
            "Performance in Val: Loss: (0.0466); Accuracy (94.85)\n"
          ]
        },
        {
          "name": "stderr",
          "output_type": "stream",
          "text": [
            "Epoch 395: 100%|██████████| 1494/1494 [00:26<00:00, 55.91batch/s, train_loss=tensor(0.0065, device='cuda:0', grad_fn=<MseLossBackward0>)]\n"
          ]
        },
        {
          "name": "stdout",
          "output_type": "stream",
          "text": [
            "0.046331852208822966 0.9486942026301167 0.9149602239115655 0.9570063694267515 0.8435087719298245 0.8435087719298245 0.8657759990990956 0.9589911618502723 0.8966803431555389\n",
            "Epoch: 395 / 500, ############## the best accuracy in val  95.0917 at Epoch: 376  ##############\n",
            "Performance in Val: Loss: (0.0463); Accuracy (94.87)\n"
          ]
        },
        {
          "name": "stderr",
          "output_type": "stream",
          "text": [
            "Epoch 396: 100%|██████████| 1494/1494 [00:26<00:00, 56.04batch/s, train_loss=tensor(0.0143, device='cuda:0', grad_fn=<MseLossBackward0>)]\n"
          ]
        },
        {
          "name": "stdout",
          "output_type": "stream",
          "text": [
            "0.04653697723353451 0.950546397481015 0.9173436989554914 0.9609872611464968 0.8470175438596491 0.8470175438596491 0.8707488985930057 0.9572063147299552 0.9004102946661693\n",
            "Epoch: 396 / 500, ############## the best accuracy in val  95.0917 at Epoch: 376  ##############\n",
            "Performance in Val: Loss: (0.0465); Accuracy (95.05)\n"
          ]
        },
        {
          "name": "stderr",
          "output_type": "stream",
          "text": [
            "Epoch 397: 100%|██████████| 1494/1494 [00:26<00:00, 55.73batch/s, train_loss=tensor(0.0170, device='cuda:0', grad_fn=<MseLossBackward0>)]\n"
          ]
        },
        {
          "name": "stdout",
          "output_type": "stream",
          "text": [
            "0.04651729169894348 0.9490646416002964 0.9156619782975304 0.9570747217806042 0.8449122807017544 0.8449122807017544 0.8667597261089841 0.9589082545316486 0.8975027953783079\n",
            "Epoch: 397 / 500, ############## the best accuracy in val  95.0917 at Epoch: 376  ##############\n",
            "Performance in Val: Loss: (0.0465); Accuracy (94.91)\n"
          ]
        },
        {
          "name": "stderr",
          "output_type": "stream",
          "text": [
            "Epoch 398: 100%|██████████| 1494/1494 [00:27<00:00, 55.05batch/s, train_loss=tensor(0.0120, device='cuda:0', grad_fn=<MseLossBackward0>)]\n"
          ]
        },
        {
          "name": "stdout",
          "output_type": "stream",
          "text": [
            "0.046449157197705725 0.9486942026301167 0.9142850457800262 0.9592 0.8414035087719298 0.8414035087719298 0.8658125814019874 0.9575056286917596 0.8964485981308412\n",
            "Epoch: 398 / 500, ############## the best accuracy in val  95.0917 at Epoch: 376  ##############\n",
            "Performance in Val: Loss: (0.0464); Accuracy (94.87)\n"
          ]
        },
        {
          "name": "stderr",
          "output_type": "stream",
          "text": [
            "Epoch 399: 100%|██████████| 1494/1494 [00:27<00:00, 55.00batch/s, train_loss=tensor(0.0132, device='cuda:0', grad_fn=<MseLossBackward0>)]\n"
          ]
        },
        {
          "name": "stdout",
          "output_type": "stream",
          "text": [
            "0.04634319275448268 0.9486942026301167 0.9151852832887453 0.9562798092209857 0.8442105263157895 0.8442105263157895 0.8657656971700264 0.9589250302404224 0.8967573611628774\n",
            "Epoch: 399 / 500, ############## the best accuracy in val  95.0917 at Epoch: 376  ##############\n",
            "Performance in Val: Loss: (0.0463); Accuracy (94.87)\n"
          ]
        },
        {
          "name": "stderr",
          "output_type": "stream",
          "text": [
            "Epoch 400: 100%|██████████| 1494/1494 [00:27<00:00, 54.42batch/s, train_loss=tensor(0.0101, device='cuda:0', grad_fn=<MseLossBackward0>)]\n"
          ]
        },
        {
          "name": "stdout",
          "output_type": "stream",
          "text": [
            "0.0465801710432226 0.9468420077792183 0.91235168949046 0.9537480063795853 0.8392982456140351 0.8392982456140351 0.860811582291588 0.9586061151873142 0.892870474057484\n",
            "Epoch: 400 / 500, ############## the best accuracy in val  95.0917 at Epoch: 376  ##############\n",
            "Performance in Val: Loss: (0.0466); Accuracy (94.68)\n"
          ]
        },
        {
          "name": "stderr",
          "output_type": "stream",
          "text": [
            "Epoch 401: 100%|██████████| 1494/1494 [00:27<00:00, 54.71batch/s, train_loss=tensor(0.0147, device='cuda:0', grad_fn=<MseLossBackward0>)]\n"
          ]
        },
        {
          "name": "stdout",
          "output_type": "stream",
          "text": [
            "0.046755424700677395 0.9490646416002964 0.9154369189203507 0.9578025477707006 0.8442105263157895 0.8442105263157895 0.8667705789978777 0.9580844789376561 0.897426333457665\n",
            "Epoch: 401 / 500, ############## the best accuracy in val  95.0917 at Epoch: 376  ##############\n",
            "Performance in Val: Loss: (0.0468); Accuracy (94.91)\n"
          ]
        },
        {
          "name": "stderr",
          "output_type": "stream",
          "text": [
            "Epoch 402: 100%|██████████| 1494/1494 [00:27<00:00, 54.64batch/s, train_loss=tensor(0.0134, device='cuda:0', grad_fn=<MseLossBackward0>)]\n"
          ]
        },
        {
          "name": "stdout",
          "output_type": "stream",
          "text": [
            "0.04623306893997572 0.9486942026301167 0.9149602239115655 0.9570063694267515 0.8435087719298245 0.8435087719298245 0.8657759990990956 0.956926778445863 0.8966803431555389\n",
            "Epoch: 402 / 500, ############## the best accuracy in val  95.0917 at Epoch: 376  ##############\n",
            "Performance in Val: Loss: (0.0462); Accuracy (94.87)\n"
          ]
        },
        {
          "name": "stderr",
          "output_type": "stream",
          "text": [
            "Epoch 403: 100%|██████████| 1494/1494 [00:27<00:00, 54.26batch/s, train_loss=tensor(0.0061, device='cuda:0', grad_fn=<MseLossBackward0>)]\n"
          ]
        },
        {
          "name": "stdout",
          "output_type": "stream",
          "text": [
            "0.04658167004923929 0.9498055195406557 0.9157151308063818 0.9616 0.8435087719298245 0.8435087719298245 0.8688013101067898 0.9560698046071394 0.8986915887850466\n",
            "Epoch: 403 / 500, ############## the best accuracy in val  95.0917 at Epoch: 376  ##############\n",
            "Performance in Val: Loss: (0.0466); Accuracy (94.98)\n"
          ]
        },
        {
          "name": "stderr",
          "output_type": "stream",
          "text": [
            "Epoch 404: 100%|██████████| 1494/1494 [00:26<00:00, 55.39batch/s, train_loss=tensor(0.0139, device='cuda:0', grad_fn=<MseLossBackward0>)]\n"
          ]
        },
        {
          "name": "stdout",
          "output_type": "stream",
          "text": [
            "0.04643523058092052 0.9472124467493981 0.9128283844992451 0.9545454545454546 0.84 0.84 0.861806714833157 0.9579734060869334 0.8936170212765958\n",
            "Epoch: 404 / 500, ############## the best accuracy in val  95.0917 at Epoch: 376  ##############\n",
            "Performance in Val: Loss: (0.0464); Accuracy (94.72)\n"
          ]
        },
        {
          "name": "stderr",
          "output_type": "stream",
          "text": [
            "Epoch 405: 100%|██████████| 1494/1494 [00:26<00:00, 55.34batch/s, train_loss=tensor(0.0111, device='cuda:0', grad_fn=<MseLossBackward0>)]\n"
          ]
        },
        {
          "name": "stdout",
          "output_type": "stream",
          "text": [
            "0.04622100141238083 0.9481385441748472 0.9145827704641574 0.9547259729944401 0.8435087719298245 0.8435087719298245 0.8642702680781212 0.9595358426261931 0.8956780923994039\n",
            "Epoch: 405 / 500, ############## the best accuracy in val  95.0917 at Epoch: 376  ##############\n",
            "Performance in Val: Loss: (0.0462); Accuracy (94.81)\n"
          ]
        },
        {
          "name": "stderr",
          "output_type": "stream",
          "text": [
            "Epoch 406: 100%|██████████| 1494/1494 [00:27<00:00, 55.24batch/s, train_loss=tensor(0.0098, device='cuda:0', grad_fn=<MseLossBackward0>)]\n"
          ]
        },
        {
          "name": "stdout",
          "output_type": "stream",
          "text": [
            "0.04677528701722622 0.9490646416002964 0.9156619782975304 0.9570747217806042 0.8449122807017544 0.8449122807017544 0.8667597261089841 0.95633521397858 0.8975027953783079\n",
            "Epoch: 406 / 500, ############## the best accuracy in val  95.0917 at Epoch: 376  ##############\n",
            "Performance in Val: Loss: (0.0468); Accuracy (94.91)\n"
          ]
        },
        {
          "name": "stderr",
          "output_type": "stream",
          "text": [
            "Epoch 407: 100%|██████████| 1494/1494 [00:26<00:00, 55.46batch/s, train_loss=tensor(0.0180, device='cuda:0', grad_fn=<MseLossBackward0>)]\n"
          ]
        },
        {
          "name": "stdout",
          "output_type": "stream",
          "text": [
            "0.045978541993959385 0.9485089831450269 0.915509584227302 0.9540775930324624 0.8456140350877193 0.8456140350877193 0.8652477221841057 0.9593227028315632 0.8965773809523808\n",
            "Epoch: 407 / 500, ############## the best accuracy in val  95.0917 at Epoch: 376  ##############\n",
            "Performance in Val: Loss: (0.0460); Accuracy (94.85)\n"
          ]
        },
        {
          "name": "stderr",
          "output_type": "stream",
          "text": [
            "Epoch 408: 100%|██████████| 1494/1494 [00:26<00:00, 55.48batch/s, train_loss=tensor(0.0101, device='cuda:0', grad_fn=<MseLossBackward0>)]\n"
          ]
        },
        {
          "name": "stdout",
          "output_type": "stream",
          "text": [
            "0.04653624402867122 0.9486942026301167 0.9151852832887453 0.9562798092209857 0.8442105263157895 0.8442105263157895 0.8657656971700264 0.9574703114101308 0.8967573611628774\n",
            "Epoch: 408 / 500, ############## the best accuracy in val  95.0917 at Epoch: 376  ##############\n",
            "Performance in Val: Loss: (0.0465); Accuracy (94.87)\n"
          ]
        },
        {
          "name": "stderr",
          "output_type": "stream",
          "text": [
            "Epoch 409: 100%|██████████| 1494/1494 [00:26<00:00, 55.58batch/s, train_loss=tensor(0.0050, device='cuda:0', grad_fn=<MseLossBackward0>)]\n"
          ]
        },
        {
          "name": "stdout",
          "output_type": "stream",
          "text": [
            "0.04609772918576544 0.948323763659937 0.9151587070343196 0.9540412044374009 0.8449122807017544 0.8449122807017544 0.8647549806125742 0.9600786692448282 0.8961667286937104\n",
            "Epoch: 409 / 500, ############## the best accuracy in val  95.0917 at Epoch: 376  ##############\n",
            "Performance in Val: Loss: (0.0461); Accuracy (94.83)\n"
          ]
        },
        {
          "name": "stderr",
          "output_type": "stream",
          "text": [
            "Epoch 410: 100%|██████████| 1494/1494 [00:27<00:00, 55.21batch/s, train_loss=tensor(0.0066, device='cuda:0', grad_fn=<MseLossBackward0>)]\n"
          ]
        },
        {
          "name": "stdout",
          "output_type": "stream",
          "text": [
            "0.04612652178515087 0.9503611779959251 0.9183431780255873 0.9565903709550119 0.8505263157894737 0.8505263157894737 0.8701930024454144 0.9587240749079544 0.9004457652303121\n",
            "Epoch: 410 / 500, ############## the best accuracy in val  95.0917 at Epoch: 376  ##############\n",
            "Performance in Val: Loss: (0.0461); Accuracy (95.04)\n"
          ]
        },
        {
          "name": "stderr",
          "output_type": "stream",
          "text": [
            "Epoch 411: 100%|██████████| 1494/1494 [00:26<00:00, 55.66batch/s, train_loss=tensor(0.0123, device='cuda:0', grad_fn=<MseLossBackward0>)]\n"
          ]
        },
        {
          "name": "stdout",
          "output_type": "stream",
          "text": [
            "0.046674982983280315 0.9492498610853862 0.9155627367361534 0.9585657370517928 0.8442105263157895 0.8442105263157895 0.8672737878694857 0.9585575539250746 0.8977611940298508\n",
            "Epoch: 411 / 500, ############## the best accuracy in val  95.0917 at Epoch: 376  ##############\n",
            "Performance in Val: Loss: (0.0467); Accuracy (94.92)\n"
          ]
        },
        {
          "name": "stderr",
          "output_type": "stream",
          "text": [
            "Epoch 412: 100%|██████████| 1494/1494 [00:26<00:00, 55.58batch/s, train_loss=tensor(0.0083, device='cuda:0', grad_fn=<MseLossBackward0>)]\n"
          ]
        },
        {
          "name": "stdout",
          "output_type": "stream",
          "text": [
            "0.04659346825527874 0.9485089831450269 0.9146093467185831 0.9569721115537848 0.8428070175438597 0.8428070175438597 0.8652840758506717 0.9581326870270795 0.8962686567164179\n",
            "Epoch: 412 / 500, ############## the best accuracy in val  95.0917 at Epoch: 376  ##############\n",
            "Performance in Val: Loss: (0.0466); Accuracy (94.85)\n"
          ]
        },
        {
          "name": "stderr",
          "output_type": "stream",
          "text": [
            "Epoch 413: 100%|██████████| 1494/1494 [00:26<00:00, 55.76batch/s, train_loss=tensor(0.0114, device='cuda:0', grad_fn=<MseLossBackward0>)]\n"
          ]
        },
        {
          "name": "stdout",
          "output_type": "stream",
          "text": [
            "0.04665139431811192 0.9481385441748472 0.9143577110869776 0.9554494828957836 0.8428070175438597 0.8428070175438597 0.8642792740219806 0.9565185106702337 0.895600298284862\n",
            "Epoch: 413 / 500, ############## the best accuracy in val  95.0917 at Epoch: 376  ##############\n",
            "Performance in Val: Loss: (0.0467); Accuracy (94.81)\n"
          ]
        },
        {
          "name": "stderr",
          "output_type": "stream",
          "text": [
            "Epoch 414: 100%|██████████| 1494/1494 [00:27<00:00, 55.13batch/s, train_loss=tensor(0.0323, device='cuda:0', grad_fn=<MseLossBackward0>)]\n"
          ]
        },
        {
          "name": "stdout",
          "output_type": "stream",
          "text": [
            "0.04634332182732495 0.9477681052046675 0.9143311348325519 0.9532117367168914 0.8435087719298245 0.8435087719298245 0.8632689932406015 0.9579225492013879 0.8950111690245719\n",
            "Epoch: 414 / 500, ############## the best accuracy in val  95.0917 at Epoch: 376  ##############\n",
            "Performance in Val: Loss: (0.0463); Accuracy (94.78)\n"
          ]
        },
        {
          "name": "stderr",
          "output_type": "stream",
          "text": [
            "Epoch 415: 100%|██████████| 1494/1494 [00:26<00:00, 55.43batch/s, train_loss=tensor(0.0120, device='cuda:0', grad_fn=<MseLossBackward0>)]\n"
          ]
        },
        {
          "name": "stdout",
          "output_type": "stream",
          "text": [
            "0.046858775598759 0.948323763659937 0.9138083507712411 0.9584 0.840701754385965 0.840701754385965 0.8648163385003865 0.9558386529988787 0.8957009345794392\n",
            "Epoch: 415 / 500, ############## the best accuracy in val  95.0917 at Epoch: 376  ##############\n",
            "Performance in Val: Loss: (0.0469); Accuracy (94.83)\n"
          ]
        },
        {
          "name": "stderr",
          "output_type": "stream",
          "text": [
            "Epoch 416: 100%|██████████| 1494/1494 [00:27<00:00, 54.60batch/s, train_loss=tensor(0.0226, device='cuda:0', grad_fn=<MseLossBackward0>)]\n"
          ]
        },
        {
          "name": "stdout",
          "output_type": "stream",
          "text": [
            "0.046625490935350004 0.9485089831450269 0.915509584227302 0.9540775930324624 0.8456140350877193 0.8456140350877193 0.8652477221841057 0.9578192461526236 0.8965773809523808\n",
            "Epoch: 416 / 500, ############## the best accuracy in val  95.0917 at Epoch: 376  ##############\n",
            "Performance in Val: Loss: (0.0466); Accuracy (94.85)\n"
          ]
        },
        {
          "name": "stderr",
          "output_type": "stream",
          "text": [
            "Epoch 417: 100%|██████████| 1494/1494 [00:26<00:00, 55.44batch/s, train_loss=tensor(0.0217, device='cuda:0', grad_fn=<MseLossBackward0>)]\n"
          ]
        },
        {
          "name": "stdout",
          "output_type": "stream",
          "text": [
            "0.04647711706771092 0.9492498610853862 0.9155627367361534 0.9585657370517928 0.8442105263157895 0.8442105263157895 0.8672737878694857 0.9573253339690444 0.8977611940298508\n",
            "Epoch: 417 / 500, ############## the best accuracy in val  95.0917 at Epoch: 376  ##############\n",
            "Performance in Val: Loss: (0.0465); Accuracy (94.92)\n"
          ]
        },
        {
          "name": "stderr",
          "output_type": "stream",
          "text": [
            "Epoch 418: 100%|██████████| 1494/1494 [00:27<00:00, 55.27batch/s, train_loss=tensor(0.0076, device='cuda:0', grad_fn=<MseLossBackward0>)]\n"
          ]
        },
        {
          "name": "stdout",
          "output_type": "stream",
          "text": [
            "0.04676552535966039 0.9481385441748472 0.9139075923326181 0.9569034317637669 0.8414035087719298 0.8414035087719298 0.8643001086836668 0.9569605064498184 0.8954443614637789\n",
            "Epoch: 418 / 500, ############## the best accuracy in val  95.0917 at Epoch: 376  ##############\n",
            "Performance in Val: Loss: (0.0468); Accuracy (94.81)\n"
          ]
        },
        {
          "name": "stderr",
          "output_type": "stream",
          "text": [
            "Epoch 419: 100%|██████████| 1494/1494 [00:26<00:00, 55.34batch/s, train_loss=tensor(0.0091, device='cuda:0', grad_fn=<MseLossBackward0>)]\n"
          ]
        },
        {
          "name": "stdout",
          "output_type": "stream",
          "text": [
            "0.046244447881525215 0.9492498610853862 0.9155627367361534 0.9585657370517928 0.8442105263157895 0.8442105263157895 0.8672737878694857 0.9600225147670384 0.8977611940298508\n",
            "Epoch: 419 / 500, ############## the best accuracy in val  95.0917 at Epoch: 376  ##############\n",
            "Performance in Val: Loss: (0.0462); Accuracy (94.92)\n"
          ]
        },
        {
          "name": "stderr",
          "output_type": "stream",
          "text": [
            "Epoch 420: 100%|██████████| 1494/1494 [00:27<00:00, 54.56batch/s, train_loss=tensor(0.0106, device='cuda:0', grad_fn=<MseLossBackward0>)]\n"
          ]
        },
        {
          "name": "stdout",
          "output_type": "stream",
          "text": [
            "0.04611606730825522 0.9485089831450269 0.915509584227302 0.9540775930324624 0.8456140350877193 0.8456140350877193 0.8652477221841057 0.9583182793420391 0.8965773809523808\n",
            "Epoch: 420 / 500, ############## the best accuracy in val  95.0917 at Epoch: 376  ##############\n",
            "Performance in Val: Loss: (0.0461); Accuracy (94.85)\n"
          ]
        },
        {
          "name": "stderr",
          "output_type": "stream",
          "text": [
            "Epoch 421: 100%|██████████| 1494/1494 [00:27<00:00, 54.99batch/s, train_loss=tensor(0.0227, device='cuda:0', grad_fn=<MseLossBackward0>)]\n"
          ]
        },
        {
          "name": "stdout",
          "output_type": "stream",
          "text": [
            "0.046383292583579365 0.9477681052046675 0.9132058379466532 0.9568345323741008 0.84 0.84 0.8633159790412518 0.9577018161912078 0.8946188340807174\n",
            "Epoch: 421 / 500, ############## the best accuracy in val  95.0917 at Epoch: 376  ##############\n",
            "Performance in Val: Loss: (0.0464); Accuracy (94.78)\n"
          ]
        },
        {
          "name": "stderr",
          "output_type": "stream",
          "text": [
            "Epoch 422: 100%|██████████| 1494/1494 [00:27<00:00, 54.08batch/s, train_loss=tensor(0.0086, device='cuda:0', grad_fn=<MseLossBackward0>)]\n"
          ]
        },
        {
          "name": "stdout",
          "output_type": "stream",
          "text": [
            "0.046475069893693384 0.9485089831450269 0.9157346436044818 0.9533596837944665 0.8463157894736842 0.8463157894736842 0.8652409720555595 0.9582921445536337 0.8966542750929368\n",
            "Epoch: 422 / 500, ############## the best accuracy in val  95.0917 at Epoch: 376  ##############\n",
            "Performance in Val: Loss: (0.0465); Accuracy (94.85)\n"
          ]
        },
        {
          "name": "stderr",
          "output_type": "stream",
          "text": [
            "Epoch 423: 100%|██████████| 1494/1494 [00:27<00:00, 54.67batch/s, train_loss=tensor(0.0118, device='cuda:0', grad_fn=<MseLossBackward0>)]\n"
          ]
        },
        {
          "name": "stdout",
          "output_type": "stream",
          "text": [
            "0.04650896381248127 0.9492498610853862 0.9155627367361534 0.9585657370517928 0.8442105263157895 0.8442105263157895 0.8672737878694857 0.9589462206093997 0.8977611940298508\n",
            "Epoch: 423 / 500, ############## the best accuracy in val  95.0917 at Epoch: 376  ##############\n",
            "Performance in Val: Loss: (0.0465); Accuracy (94.92)\n"
          ]
        },
        {
          "name": "stderr",
          "output_type": "stream",
          "text": [
            "Epoch 424: 100%|██████████| 1494/1494 [00:27<00:00, 55.33batch/s, train_loss=tensor(0.0136, device='cuda:0', grad_fn=<MseLossBackward0>)]\n"
          ]
        },
        {
          "name": "stdout",
          "output_type": "stream",
          "text": [
            "0.046599769964814186 0.948323763659937 0.9138083507712411 0.9584 0.840701754385965 0.840701754385965 0.8648163385003865 0.9583747869926451 0.8957009345794392\n",
            "Epoch: 424 / 500, ############## the best accuracy in val  95.0917 at Epoch: 376  ##############\n",
            "Performance in Val: Loss: (0.0466); Accuracy (94.83)\n"
          ]
        },
        {
          "name": "stderr",
          "output_type": "stream",
          "text": [
            "Epoch 425: 100%|██████████| 1494/1494 [00:27<00:00, 55.31batch/s, train_loss=tensor(0.0067, device='cuda:0', grad_fn=<MseLossBackward0>)]\n"
          ]
        },
        {
          "name": "stdout",
          "output_type": "stream",
          "text": [
            "0.04622620517726649 0.9492498610853862 0.9153376773589736 0.9592976855546688 0.8435087719298245 0.8435087719298245 0.8672863371718669 0.9601185777730687 0.8976848394324122\n",
            "Epoch: 425 / 500, ############## the best accuracy in val  95.0917 at Epoch: 376  ##############\n",
            "Performance in Val: Loss: (0.0462); Accuracy (94.92)\n"
          ]
        },
        {
          "name": "stderr",
          "output_type": "stream",
          "text": [
            "Epoch 426: 100%|██████████| 1494/1494 [00:27<00:00, 54.65batch/s, train_loss=tensor(0.0082, device='cuda:0', grad_fn=<MseLossBackward0>)]\n"
          ]
        },
        {
          "name": "stdout",
          "output_type": "stream",
          "text": [
            "0.04674794427542524 0.9490646416002964 0.9156619782975304 0.9570747217806042 0.8449122807017544 0.8449122807017544 0.8667597261089841 0.9573007884583123 0.8975027953783079\n",
            "Epoch: 426 / 500, ############## the best accuracy in val  95.0917 at Epoch: 376  ##############\n",
            "Performance in Val: Loss: (0.0467); Accuracy (94.91)\n"
          ]
        },
        {
          "name": "stderr",
          "output_type": "stream",
          "text": [
            "Epoch 427: 100%|██████████| 1494/1494 [00:27<00:00, 54.46batch/s, train_loss=tensor(0.0078, device='cuda:0', grad_fn=<MseLossBackward0>)]\n"
          ]
        },
        {
          "name": "stdout",
          "output_type": "stream",
          "text": [
            "0.046811570498076355 0.9473976662344878 0.9136293804465869 0.9531374106433678 0.8421052631578947 0.8421052631578947 0.862282759901778 0.9570378512965856 0.8941877794336811\n",
            "Epoch: 427 / 500, ############## the best accuracy in val  95.0917 at Epoch: 376  ##############\n",
            "Performance in Val: Loss: (0.0468); Accuracy (94.74)\n"
          ]
        },
        {
          "name": "stderr",
          "output_type": "stream",
          "text": [
            "Epoch 428: 100%|██████████| 1494/1494 [00:27<00:00, 54.62batch/s, train_loss=tensor(0.0099, device='cuda:0', grad_fn=<MseLossBackward0>)]\n"
          ]
        },
        {
          "name": "stdout",
          "output_type": "stream",
          "text": [
            "0.046402350195090876 0.9479533246897573 0.9142318932711749 0.9546899841017488 0.8428070175438597 0.8428070175438597 0.863777639292111 0.9590308054989009 0.8952664927320164\n",
            "Epoch: 428 / 500, ############## the best accuracy in val  95.0917 at Epoch: 376  ##############\n",
            "Performance in Val: Loss: (0.0464); Accuracy (94.80)\n"
          ]
        },
        {
          "name": "stderr",
          "output_type": "stream",
          "text": [
            "Epoch 429: 100%|██████████| 1494/1494 [00:27<00:00, 54.73batch/s, train_loss=tensor(0.0066, device='cuda:0', grad_fn=<MseLossBackward0>)]\n"
          ]
        },
        {
          "name": "stdout",
          "output_type": "stream",
          "text": [
            "0.046655861152843994 0.9488794221152065 0.9164363979904466 0.9534333070244673 0.847719298245614 0.847719298245614 0.8662267213371312 0.9563661166000053 0.8974739970282317\n",
            "Epoch: 429 / 500, ############## the best accuracy in val  95.0917 at Epoch: 376  ##############\n",
            "Performance in Val: Loss: (0.0467); Accuracy (94.89)\n"
          ]
        },
        {
          "name": "stderr",
          "output_type": "stream",
          "text": [
            "Epoch 430: 100%|██████████| 1494/1494 [00:27<00:00, 54.74batch/s, train_loss=tensor(0.0146, device='cuda:0', grad_fn=<MseLossBackward0>)]\n"
          ]
        },
        {
          "name": "stdout",
          "output_type": "stream",
          "text": [
            "0.04632409145547585 0.9492498610853862 0.9164629742448724 0.9556611243072051 0.8470175438596491 0.8470175438596491 0.867233039905693 0.9592049196973309 0.8980654761904762\n",
            "Epoch: 430 / 500, ############## the best accuracy in val  95.0917 at Epoch: 376  ##############\n",
            "Performance in Val: Loss: (0.0463); Accuracy (94.92)\n"
          ]
        },
        {
          "name": "stderr",
          "output_type": "stream",
          "text": [
            "Epoch 431: 100%|██████████| 1494/1494 [00:27<00:00, 55.03batch/s, train_loss=tensor(0.0151, device='cuda:0', grad_fn=<MseLossBackward0>)]\n"
          ]
        },
        {
          "name": "stdout",
          "output_type": "stream",
          "text": [
            "0.04637546380135146 0.9477681052046675 0.9145561942097318 0.9524940617577197 0.8442105263157895 0.8442105263157895 0.8632624044625186 0.9591190987029728 0.8950892857142858\n",
            "Epoch: 431 / 500, ############## the best accuracy in val  95.0917 at Epoch: 376  ##############\n",
            "Performance in Val: Loss: (0.0464); Accuracy (94.78)\n"
          ]
        },
        {
          "name": "stderr",
          "output_type": "stream",
          "text": [
            "Epoch 432: 100%|██████████| 1494/1494 [00:27<00:00, 54.53batch/s, train_loss=tensor(0.0108, device='cuda:0', grad_fn=<MseLossBackward0>)]\n"
          ]
        },
        {
          "name": "stdout",
          "output_type": "stream",
          "text": [
            "0.04659563209861517 0.9481385441748472 0.9150328892185169 0.953285827395091 0.8449122807017544 0.8449122807017544 0.8642550633233121 0.958286493788573 0.8958333333333334\n",
            "Epoch: 432 / 500, ############## the best accuracy in val  95.0917 at Epoch: 376  ##############\n",
            "Performance in Val: Loss: (0.0466); Accuracy (94.81)\n"
          ]
        },
        {
          "name": "stderr",
          "output_type": "stream",
          "text": [
            "Epoch 433: 100%|██████████| 1494/1494 [00:27<00:00, 54.45batch/s, train_loss=tensor(0.0117, device='cuda:0', grad_fn=<MseLossBackward0>)]\n"
          ]
        },
        {
          "name": "stdout",
          "output_type": "stream",
          "text": [
            "0.04653596573255279 0.9499907390257455 0.9165161267537237 0.9601593625498008 0.8456140350877193 0.8456140350877193 0.8692634998882998 0.9581355124096098 0.8992537313432836\n",
            "Epoch: 433 / 500, ############## the best accuracy in val  95.0917 at Epoch: 376  ##############\n",
            "Performance in Val: Loss: (0.0465); Accuracy (95.00)\n"
          ]
        },
        {
          "name": "stderr",
          "output_type": "stream",
          "text": [
            "Epoch 434: 100%|██████████| 1494/1494 [00:27<00:00, 54.95batch/s, train_loss=tensor(0.0100, device='cuda:0', grad_fn=<MseLossBackward0>)]\n"
          ]
        },
        {
          "name": "stdout",
          "output_type": "stream",
          "text": [
            "0.04681456889110533 0.9488794221152065 0.9157612198589075 0.9555908009516257 0.8456140350877193 0.8456140350877193 0.8662486101633059 0.957894471962493 0.8972449739389426\n",
            "Epoch: 434 / 500, ############## the best accuracy in val  95.0917 at Epoch: 376  ##############\n",
            "Performance in Val: Loss: (0.0468); Accuracy (94.89)\n"
          ]
        },
        {
          "name": "stderr",
          "output_type": "stream",
          "text": [
            "Epoch 435: 100%|██████████| 1494/1494 [00:27<00:00, 55.14batch/s, train_loss=tensor(0.0080, device='cuda:0', grad_fn=<MseLossBackward0>)]\n"
          ]
        },
        {
          "name": "stdout",
          "output_type": "stream",
          "text": [
            "0.04632946154610677 0.9498055195406557 0.9159401901835615 0.9608626198083067 0.8442105263157895 0.8442105263157895 0.8687864986592184 0.9586061151873141 0.8987672768023908\n",
            "Epoch: 435 / 500, ############## the best accuracy in val  95.0917 at Epoch: 376  ##############\n",
            "Performance in Val: Loss: (0.0463); Accuracy (94.98)\n"
          ]
        },
        {
          "name": "stderr",
          "output_type": "stream",
          "text": [
            "Epoch 436: 100%|██████████| 1494/1494 [00:27<00:00, 55.13batch/s, train_loss=tensor(0.0073, device='cuda:0', grad_fn=<MseLossBackward0>)]\n"
          ]
        },
        {
          "name": "stdout",
          "output_type": "stream",
          "text": [
            "0.04642588628286665 0.9492498610853862 0.9162379148676927 0.9563838223632039 0.8463157894736842 0.8463157894736842 0.8672418158042073 0.9582446428098428 0.8979895755770663\n",
            "Epoch: 436 / 500, ############## the best accuracy in val  95.0917 at Epoch: 376  ##############\n",
            "Performance in Val: Loss: (0.0464); Accuracy (94.92)\n"
          ]
        },
        {
          "name": "stderr",
          "output_type": "stream",
          "text": [
            "Epoch 437: 100%|██████████| 1494/1494 [00:27<00:00, 54.93batch/s, train_loss=tensor(0.0131, device='cuda:0', grad_fn=<MseLossBackward0>)]\n"
          ]
        },
        {
          "name": "stdout",
          "output_type": "stream",
          "text": [
            "0.0461960087784312 0.9477681052046675 0.9138810160781925 0.954653937947494 0.8421052631578947 0.8421052631578947 0.8632849698130834 0.9579628109024448 0.894854586129754\n",
            "Epoch: 437 / 500, ############## the best accuracy in val  95.0917 at Epoch: 376  ##############\n",
            "Performance in Val: Loss: (0.0462); Accuracy (94.78)\n"
          ]
        },
        {
          "name": "stderr",
          "output_type": "stream",
          "text": [
            "Epoch 438: 100%|██████████| 1494/1494 [00:27<00:00, 54.53batch/s, train_loss=tensor(0.0381, device='cuda:0', grad_fn=<MseLossBackward0>)]\n"
          ]
        },
        {
          "name": "stdout",
          "output_type": "stream",
          "text": [
            "0.046737316022203726 0.9486942026301167 0.9142850457800262 0.9592 0.8414035087719298 0.8414035087719298 0.8658125814019874 0.9575752037365685 0.8964485981308412\n",
            "Epoch: 438 / 500, ############## the best accuracy in val  95.0917 at Epoch: 376  ##############\n",
            "Performance in Val: Loss: (0.0467); Accuracy (94.87)\n"
          ]
        },
        {
          "name": "stderr",
          "output_type": "stream",
          "text": [
            "Epoch 439: 100%|██████████| 1494/1494 [00:27<00:00, 54.99batch/s, train_loss=tensor(0.0060, device='cuda:0', grad_fn=<MseLossBackward0>)]\n"
          ]
        },
        {
          "name": "stdout",
          "output_type": "stream",
          "text": [
            "0.04651963372122158 0.9485089831450269 0.9152845248501222 0.9547977795400476 0.8449122807017544 0.8449122807017544 0.8652554045224045 0.9574165408488509 0.8965003723008192\n",
            "Epoch: 439 / 500, ############## the best accuracy in val  95.0917 at Epoch: 376  ##############\n",
            "Performance in Val: Loss: (0.0465); Accuracy (94.85)\n"
          ]
        },
        {
          "name": "stderr",
          "output_type": "stream",
          "text": [
            "Epoch 440: 100%|██████████| 1494/1494 [00:27<00:00, 54.88batch/s, train_loss=tensor(0.0052, device='cuda:0', grad_fn=<MseLossBackward0>)]\n"
          ]
        },
        {
          "name": "stdout",
          "output_type": "stream",
          "text": [
            "0.046484204940497875 0.9492498610853862 0.9157877961133332 0.9578361177406524 0.8449122807017544 0.8449122807017544 0.8672621866486718 0.957677623853292 0.8978374347501864\n",
            "Epoch: 440 / 500, ############## the best accuracy in val  95.0917 at Epoch: 376  ##############\n",
            "Performance in Val: Loss: (0.0465); Accuracy (94.92)\n"
          ]
        },
        {
          "name": "stderr",
          "output_type": "stream",
          "text": [
            "Epoch 441: 100%|██████████| 1494/1494 [00:27<00:00, 55.17batch/s, train_loss=tensor(0.0125, device='cuda:0', grad_fn=<MseLossBackward0>)]\n"
          ]
        },
        {
          "name": "stdout",
          "output_type": "stream",
          "text": [
            "0.04634576858105985 0.9481385441748472 0.9148078298413371 0.9540047581284695 0.8442105263157895 0.8442105263157895 0.8642621988815029 0.9575411225597965 0.8957557706626955\n",
            "Epoch: 441 / 500, ############## the best accuracy in val  95.0917 at Epoch: 376  ##############\n",
            "Performance in Val: Loss: (0.0463); Accuracy (94.81)\n"
          ]
        },
        {
          "name": "stderr",
          "output_type": "stream",
          "text": [
            "Epoch 442: 100%|██████████| 1494/1494 [00:27<00:00, 55.19batch/s, train_loss=tensor(0.0042, device='cuda:0', grad_fn=<MseLossBackward0>)]\n"
          ]
        },
        {
          "name": "stdout",
          "output_type": "stream",
          "text": [
            "0.04652948525141586 0.949435080570476 0.9163637326834954 0.9571428571428572 0.8463157894736842 0.8463157894736842 0.8677432953762808 0.9573394608816959 0.8983240223463687\n",
            "Epoch: 442 / 500, ############## the best accuracy in val  95.0917 at Epoch: 376  ##############\n",
            "Performance in Val: Loss: (0.0465); Accuracy (94.94)\n"
          ]
        },
        {
          "name": "stderr",
          "output_type": "stream",
          "text": [
            "Epoch 443: 100%|██████████| 1494/1494 [00:27<00:00, 54.98batch/s, train_loss=tensor(0.0088, device='cuda:0', grad_fn=<MseLossBackward0>)]\n"
          ]
        },
        {
          "name": "stdout",
          "output_type": "stream",
          "text": [
            "0.04656683175231923 0.9479533246897573 0.9144569526483546 0.953968253968254 0.8435087719298245 0.8435087719298245 0.8637693767532858 0.9584111637927228 0.8953445065176908\n",
            "Epoch: 443 / 500, ############## the best accuracy in val  95.0917 at Epoch: 376  ##############\n",
            "Performance in Val: Loss: (0.0466); Accuracy (94.80)\n"
          ]
        },
        {
          "name": "stderr",
          "output_type": "stream",
          "text": [
            "Epoch 444: 100%|██████████| 1494/1494 [00:27<00:00, 55.16batch/s, train_loss=tensor(0.0108, device='cuda:0', grad_fn=<MseLossBackward0>)]\n"
          ]
        },
        {
          "name": "stdout",
          "output_type": "stream",
          "text": [
            "0.04625495544380762 0.9490646416002964 0.9165622158062494 0.9541864139020537 0.847719298245614 0.847719298245614 0.8667257083120538 0.9588833558481005 0.8978075065031587\n",
            "Epoch: 444 / 500, ############## the best accuracy in val  95.0917 at Epoch: 376  ##############\n",
            "Performance in Val: Loss: (0.0463); Accuracy (94.91)\n"
          ]
        },
        {
          "name": "stderr",
          "output_type": "stream",
          "text": [
            "Epoch 445: 100%|██████████| 1494/1494 [00:27<00:00, 54.77batch/s, train_loss=tensor(0.0151, device='cuda:0', grad_fn=<MseLossBackward0>)]\n"
          ]
        },
        {
          "name": "stdout",
          "output_type": "stream",
          "text": [
            "0.04652294237166643 0.9498055195406557 0.9166153683151008 0.958664546899841 0.8463157894736842 0.8463157894736842 0.8687477839868996 0.9574511517848473 0.8989936638091689\n",
            "Epoch: 445 / 500, ############## the best accuracy in val  95.0917 at Epoch: 376  ##############\n",
            "Performance in Val: Loss: (0.0465); Accuracy (94.98)\n"
          ]
        },
        {
          "name": "stderr",
          "output_type": "stream",
          "text": [
            "Epoch 446: 100%|██████████| 1494/1494 [00:27<00:00, 55.01batch/s, train_loss=tensor(0.0060, device='cuda:0', grad_fn=<MseLossBackward0>)]\n"
          ]
        },
        {
          "name": "stdout",
          "output_type": "stream",
          "text": [
            "0.04658459097316319 0.9485089831450269 0.9148344060957627 0.9562450278440732 0.8435087719298245 0.8435087719298245 0.8652735782308776 0.957578382291915 0.8963460104399701\n",
            "Epoch: 446 / 500, ############## the best accuracy in val  95.0917 at Epoch: 376  ##############\n",
            "Performance in Val: Loss: (0.0466); Accuracy (94.85)\n"
          ]
        },
        {
          "name": "stderr",
          "output_type": "stream",
          "text": [
            "Epoch 447: 100%|██████████| 1494/1494 [00:27<00:00, 54.99batch/s, train_loss=tensor(0.0120, device='cuda:0', grad_fn=<MseLossBackward0>)]\n"
          ]
        },
        {
          "name": "stdout",
          "output_type": "stream",
          "text": [
            "0.0464260879565369 0.9488794221152065 0.9148609823501885 0.9584996009577015 0.8428070175438597 0.8428070175438597 0.8662909276758002 0.957148394388084 0.8969380134428678\n",
            "Epoch: 447 / 500, ############## the best accuracy in val  95.0917 at Epoch: 376  ##############\n",
            "Performance in Val: Loss: (0.0464); Accuracy (94.89)\n"
          ]
        },
        {
          "name": "stderr",
          "output_type": "stream",
          "text": [
            "Epoch 448: 100%|██████████| 1494/1494 [00:27<00:00, 55.08batch/s, train_loss=tensor(0.0070, device='cuda:0', grad_fn=<MseLossBackward0>)]\n"
          ]
        },
        {
          "name": "stdout",
          "output_type": "stream",
          "text": [
            "0.04645930154418403 0.9485089831450269 0.9150594654729426 0.9555202541699762 0.8442105263157895 0.8442105263157895 0.8652640221662928 0.9586884044535091 0.8964232488822654\n",
            "Epoch: 448 / 500, ############## the best accuracy in val  95.0917 at Epoch: 376  ##############\n",
            "Performance in Val: Loss: (0.0465); Accuracy (94.85)\n"
          ]
        },
        {
          "name": "stderr",
          "output_type": "stream",
          "text": [
            "Epoch 449: 100%|██████████| 1494/1494 [00:27<00:00, 55.12batch/s, train_loss=tensor(0.0129, device='cuda:0', grad_fn=<MseLossBackward0>)]\n"
          ]
        },
        {
          "name": "stdout",
          "output_type": "stream",
          "text": [
            "0.04667504106394269 0.949435080570476 0.9161386733063156 0.9578696343402225 0.8456140350877193 0.8456140350877193 0.8677537550479418 0.9580217907627651 0.8982482295937383\n",
            "Epoch: 449 / 500, ############## the best accuracy in val  95.0917 at Epoch: 376  ##############\n",
            "Performance in Val: Loss: (0.0467); Accuracy (94.94)\n"
          ]
        },
        {
          "name": "stderr",
          "output_type": "stream",
          "text": [
            "Epoch 450: 100%|██████████| 1494/1494 [00:27<00:00, 54.83batch/s, train_loss=tensor(0.0071, device='cuda:0', grad_fn=<MseLossBackward0>)]\n"
          ]
        },
        {
          "name": "stdout",
          "output_type": "stream",
          "text": [
            "0.04626236280257052 0.9492498610853862 0.9166880336220521 0.9549407114624506 0.847719298245614 0.847719298245614 0.8672251995387409 0.9595432592553351 0.8981412639405205\n",
            "Epoch: 450 / 500, ############## the best accuracy in val  95.0917 at Epoch: 376  ##############\n",
            "Performance in Val: Loss: (0.0463); Accuracy (94.92)\n"
          ]
        },
        {
          "name": "stderr",
          "output_type": "stream",
          "text": [
            "Epoch 451: 100%|██████████| 1494/1494 [00:27<00:00, 54.32batch/s, train_loss=tensor(0.0180, device='cuda:0', grad_fn=<MseLossBackward0>)]\n"
          ]
        },
        {
          "name": "stdout",
          "output_type": "stream",
          "text": [
            "0.04649053234606981 0.9472124467493981 0.9135035626307844 0.9523809523809523 0.8421052631578947 0.8421052631578947 0.8617824174417882 0.9597774128325343 0.8938547486033519\n",
            "Epoch: 451 / 500, ############## the best accuracy in val  95.0917 at Epoch: 376  ##############\n",
            "Performance in Val: Loss: (0.0465); Accuracy (94.72)\n"
          ]
        },
        {
          "name": "stderr",
          "output_type": "stream",
          "text": [
            "Epoch 452: 100%|██████████| 1494/1494 [00:27<00:00, 54.06batch/s, train_loss=tensor(0.0083, device='cuda:0', grad_fn=<MseLossBackward0>)]\n"
          ]
        },
        {
          "name": "stdout",
          "output_type": "stream",
          "text": [
            "0.0466378960673782 0.9488794221152065 0.915311101104548 0.9570405727923628 0.8442105263157895 0.8442105263157895 0.8662678824397747 0.9583087436759993 0.8970917225950783\n",
            "Epoch: 452 / 500, ############## the best accuracy in val  95.0917 at Epoch: 376  ##############\n",
            "Performance in Val: Loss: (0.0466); Accuracy (94.89)\n"
          ]
        },
        {
          "name": "stderr",
          "output_type": "stream",
          "text": [
            "Epoch 453: 100%|██████████| 1494/1494 [00:27<00:00, 54.17batch/s, train_loss=tensor(0.0059, device='cuda:0', grad_fn=<MseLossBackward0>)]\n"
          ]
        },
        {
          "name": "stdout",
          "output_type": "stream",
          "text": [
            "0.04677117391574112 0.9490646416002964 0.9163371564290697 0.9549050632911392 0.8470175438596491 0.8470175438596491 0.8667328099273076 0.956483193388605 0.8977314986984009\n",
            "Epoch: 453 / 500, ############## the best accuracy in val  95.0917 at Epoch: 376  ##############\n",
            "Performance in Val: Loss: (0.0468); Accuracy (94.91)\n"
          ]
        },
        {
          "name": "stderr",
          "output_type": "stream",
          "text": [
            "Epoch 454: 100%|██████████| 1494/1494 [00:26<00:00, 55.48batch/s, train_loss=tensor(0.0089, device='cuda:0', grad_fn=<MseLossBackward0>)]\n"
          ]
        },
        {
          "name": "stdout",
          "output_type": "stream",
          "text": [
            "0.04601549082012339 0.9499907390257455 0.9178664830168022 0.9558011049723757 0.8498245614035088 0.8498245614035088 0.8692014321683437 0.9590442260659198 0.899702823179792\n",
            "Epoch: 454 / 500, ############## the best accuracy in val  95.0917 at Epoch: 376  ##############\n",
            "Performance in Val: Loss: (0.0460); Accuracy (95.00)\n"
          ]
        },
        {
          "name": "stderr",
          "output_type": "stream",
          "text": [
            "Epoch 455: 100%|██████████| 1494/1494 [00:27<00:00, 55.19batch/s, train_loss=tensor(0.0175, device='cuda:0', grad_fn=<MseLossBackward0>)]\n"
          ]
        },
        {
          "name": "stdout",
          "output_type": "stream",
          "text": [
            "0.046594674910672686 0.9490646416002964 0.9158870376747101 0.9563492063492064 0.8456140350877193 0.8456140350877193 0.8667498157205321 0.9567074581269479 0.8975791433891992\n",
            "Epoch: 455 / 500, ############## the best accuracy in val  95.0917 at Epoch: 376  ##############\n",
            "Performance in Val: Loss: (0.0466); Accuracy (94.91)\n"
          ]
        },
        {
          "name": "stderr",
          "output_type": "stream",
          "text": [
            "Epoch 456: 100%|██████████| 1494/1494 [00:27<00:00, 54.76batch/s, train_loss=tensor(0.0066, device='cuda:0', grad_fn=<MseLossBackward0>)]\n"
          ]
        },
        {
          "name": "stdout",
          "output_type": "stream",
          "text": [
            "0.046258062505247916 0.9496203000555659 0.9167146098764778 0.957176843774782 0.8470175438596491 0.8470175438596491 0.8682350214451088 0.957936146354815 0.8987341772151899\n",
            "Epoch: 456 / 500, ############## the best accuracy in val  95.0917 at Epoch: 376  ##############\n",
            "Performance in Val: Loss: (0.0463); Accuracy (94.96)\n"
          ]
        },
        {
          "name": "stderr",
          "output_type": "stream",
          "text": [
            "Epoch 457: 100%|██████████| 1494/1494 [00:27<00:00, 55.06batch/s, train_loss=tensor(0.0072, device='cuda:0', grad_fn=<MseLossBackward0>)]\n"
          ]
        },
        {
          "name": "stdout",
          "output_type": "stream",
          "text": [
            "0.04637030744925141 0.948323763659937 0.9138083507712411 0.9584 0.840701754385965 0.840701754385965 0.8648163385003865 0.9593477781015195 0.8957009345794392\n",
            "Epoch: 457 / 500, ############## the best accuracy in val  95.0917 at Epoch: 376  ##############\n",
            "Performance in Val: Loss: (0.0464); Accuracy (94.83)\n"
          ]
        },
        {
          "name": "stderr",
          "output_type": "stream",
          "text": [
            "Epoch 458: 100%|██████████| 1494/1494 [00:27<00:00, 55.07batch/s, train_loss=tensor(0.0233, device='cuda:0', grad_fn=<MseLossBackward0>)]\n"
          ]
        },
        {
          "name": "stdout",
          "output_type": "stream",
          "text": [
            "0.04631495120173151 0.9507316169661049 0.9172444573941143 0.9624900239425379 0.8463157894736842 0.8463157894736842 0.8712679751561336 0.9592937426606275 0.90067214339059\n",
            "Epoch: 458 / 500, ############## the best accuracy in val  95.0917 at Epoch: 376  ##############\n",
            "Performance in Val: Loss: (0.0463); Accuracy (95.07)\n"
          ]
        },
        {
          "name": "stderr",
          "output_type": "stream",
          "text": [
            "Epoch 459: 100%|██████████| 1494/1494 [00:27<00:00, 55.22batch/s, train_loss=tensor(0.0095, device='cuda:0', grad_fn=<MseLossBackward0>)]\n"
          ]
        },
        {
          "name": "stdout",
          "output_type": "stream",
          "text": [
            "0.04657267647880045 0.9488794221152065 0.9155361604817277 0.9563145353455124 0.8449122807017544 0.8449122807017544 0.8662577762544644 0.9584996335832031 0.8971684053651267\n",
            "Epoch: 459 / 500, ############## the best accuracy in val  95.0917 at Epoch: 376  ##############\n",
            "Performance in Val: Loss: (0.0466); Accuracy (94.89)\n"
          ]
        },
        {
          "name": "stderr",
          "output_type": "stream",
          "text": [
            "Epoch 460: 100%|██████████| 1494/1494 [00:27<00:00, 55.24batch/s, train_loss=tensor(0.0034, device='cuda:0', grad_fn=<MseLossBackward0>)]\n"
          ]
        },
        {
          "name": "stdout",
          "output_type": "stream",
          "text": [
            "0.046438630162314934 0.9488794221152065 0.9148609823501885 0.9584996009577015 0.8428070175438597 0.8428070175438597 0.8662909276758002 0.9588400921781051 0.8969380134428678\n",
            "Epoch: 460 / 500, ############## the best accuracy in val  95.0917 at Epoch: 376  ##############\n",
            "Performance in Val: Loss: (0.0464); Accuracy (94.89)\n"
          ]
        },
        {
          "name": "stderr",
          "output_type": "stream",
          "text": [
            "Epoch 461: 100%|██████████| 1494/1494 [00:27<00:00, 55.01batch/s, train_loss=tensor(0.0108, device='cuda:0', grad_fn=<MseLossBackward0>)]\n"
          ]
        },
        {
          "name": "stdout",
          "output_type": "stream",
          "text": [
            "0.04641641697592356 0.9485089831450269 0.9146093467185831 0.9569721115537848 0.8428070175438597 0.8428070175438597 0.8652840758506717 0.9589854227920076 0.8962686567164179\n",
            "Epoch: 461 / 500, ############## the best accuracy in val  95.0917 at Epoch: 376  ##############\n",
            "Performance in Val: Loss: (0.0464); Accuracy (94.85)\n"
          ]
        },
        {
          "name": "stderr",
          "output_type": "stream",
          "text": [
            "Epoch 462: 100%|██████████| 1494/1494 [00:27<00:00, 55.05batch/s, train_loss=tensor(0.0160, device='cuda:0', grad_fn=<MseLossBackward0>)]\n"
          ]
        },
        {
          "name": "stdout",
          "output_type": "stream",
          "text": [
            "0.046566719697280365 0.9481385441748472 0.9139075923326181 0.9569034317637669 0.8414035087719298 0.8414035087719298 0.8643001086836668 0.9577922284321775 0.8954443614637789\n",
            "Epoch: 462 / 500, ############## the best accuracy in val  95.0917 at Epoch: 376  ##############\n",
            "Performance in Val: Loss: (0.0466); Accuracy (94.81)\n"
          ]
        },
        {
          "name": "stderr",
          "output_type": "stream",
          "text": [
            "Epoch 463: 100%|██████████| 1494/1494 [00:26<00:00, 55.50batch/s, train_loss=tensor(0.0122, device='cuda:0', grad_fn=<MseLossBackward0>)]\n"
          ]
        },
        {
          "name": "stdout",
          "output_type": "stream",
          "text": [
            "0.046283271671696144 0.9490646416002964 0.9158870376747101 0.9563492063492064 0.8456140350877193 0.8456140350877193 0.8667498157205321 0.9586633291835527 0.8975791433891992\n",
            "Epoch: 463 / 500, ############## the best accuracy in val  95.0917 at Epoch: 376  ##############\n",
            "Performance in Val: Loss: (0.0463); Accuracy (94.91)\n"
          ]
        },
        {
          "name": "stderr",
          "output_type": "stream",
          "text": [
            "Epoch 464: 100%|██████████| 1494/1494 [00:27<00:00, 55.28batch/s, train_loss=tensor(0.0060, device='cuda:0', grad_fn=<MseLossBackward0>)]\n"
          ]
        },
        {
          "name": "stdout",
          "output_type": "stream",
          "text": [
            "0.046271320347758854 0.9486942026301167 0.9147351645343857 0.9577352472089314 0.8428070175438597 0.8428070175438597 0.8657872449994326 0.9593112247150338 0.8966032101530422\n",
            "Epoch: 464 / 500, ############## the best accuracy in val  95.0917 at Epoch: 376  ##############\n",
            "Performance in Val: Loss: (0.0463); Accuracy (94.87)\n"
          ]
        },
        {
          "name": "stderr",
          "output_type": "stream",
          "text": [
            "Epoch 465: 100%|██████████| 1494/1494 [00:27<00:00, 55.25batch/s, train_loss=tensor(0.0046, device='cuda:0', grad_fn=<MseLossBackward0>)]\n"
          ]
        },
        {
          "name": "stdout",
          "output_type": "stream",
          "text": [
            "0.04630188770930876 0.9488794221152065 0.9155361604817277 0.9563145353455124 0.8449122807017544 0.8449122807017544 0.8662577762544644 0.9590472280348581 0.8971684053651267\n",
            "Epoch: 465 / 500, ############## the best accuracy in val  95.0917 at Epoch: 376  ##############\n",
            "Performance in Val: Loss: (0.0463); Accuracy (94.89)\n"
          ]
        },
        {
          "name": "stderr",
          "output_type": "stream",
          "text": [
            "Epoch 466: 100%|██████████| 1494/1494 [00:27<00:00, 54.84batch/s, train_loss=tensor(0.0094, device='cuda:0', grad_fn=<MseLossBackward0>)]\n"
          ]
        },
        {
          "name": "stdout",
          "output_type": "stream",
          "text": [
            "0.04667294651947238 0.9486942026301167 0.9147351645343857 0.9577352472089314 0.8428070175438597 0.8428070175438597 0.8657872449994326 0.9579057734926144 0.8966032101530422\n",
            "Epoch: 466 / 500, ############## the best accuracy in val  95.0917 at Epoch: 376  ##############\n",
            "Performance in Val: Loss: (0.0467); Accuracy (94.87)\n"
          ]
        },
        {
          "name": "stderr",
          "output_type": "stream",
          "text": [
            "Epoch 467: 100%|██████████| 1494/1494 [00:27<00:00, 55.03batch/s, train_loss=tensor(0.0079, device='cuda:0', grad_fn=<MseLossBackward0>)]\n"
          ]
        },
        {
          "name": "stdout",
          "output_type": "stream",
          "text": [
            "0.046386868904598734 0.9486942026301167 0.9149602239115655 0.9570063694267515 0.8435087719298245 0.8435087719298245 0.8657759990990956 0.9580149038928474 0.8966803431555389\n",
            "Epoch: 467 / 500, ############## the best accuracy in val  95.0917 at Epoch: 376  ##############\n",
            "Performance in Val: Loss: (0.0464); Accuracy (94.87)\n"
          ]
        },
        {
          "name": "stderr",
          "output_type": "stream",
          "text": [
            "Epoch 468: 100%|██████████| 1494/1494 [00:27<00:00, 54.99batch/s, train_loss=tensor(0.0092, device='cuda:0', grad_fn=<MseLossBackward0>)]\n"
          ]
        },
        {
          "name": "stdout",
          "output_type": "stream",
          "text": [
            "0.04663915153254162 0.9486942026301167 0.9140599864028466 0.9599358974358975 0.840701754385965 0.840701754385965 0.8658266782978232 0.9588955403102624 0.8963711185933408\n",
            "Epoch: 468 / 500, ############## the best accuracy in val  95.0917 at Epoch: 376  ##############\n",
            "Performance in Val: Loss: (0.0466); Accuracy (94.87)\n"
          ]
        },
        {
          "name": "stderr",
          "output_type": "stream",
          "text": [
            "Epoch 469: 100%|██████████| 1494/1494 [00:27<00:00, 55.15batch/s, train_loss=tensor(0.0106, device='cuda:0', grad_fn=<MseLossBackward0>)]\n"
          ]
        },
        {
          "name": "stdout",
          "output_type": "stream",
          "text": [
            "0.046125162138857624 0.9496203000555659 0.9162644911221183 0.958631662688942 0.8456140350877193 0.8456140350877193 0.868256490857569 0.9595648027971286 0.8985831469052945\n",
            "Epoch: 469 / 500, ############## the best accuracy in val  95.0917 at Epoch: 376  ##############\n",
            "Performance in Val: Loss: (0.0461); Accuracy (94.96)\n"
          ]
        },
        {
          "name": "stderr",
          "output_type": "stream",
          "text": [
            "Epoch 470: 100%|██████████| 1494/1494 [00:27<00:00, 54.97batch/s, train_loss=tensor(0.0150, device='cuda:0', grad_fn=<MseLossBackward0>)]\n"
          ]
        },
        {
          "name": "stdout",
          "output_type": "stream",
          "text": [
            "0.04628518071364273 0.9492498610853862 0.9153376773589736 0.9592976855546688 0.8435087719298245 0.8435087719298245 0.8672863371718669 0.958744382344891 0.8976848394324122\n",
            "Epoch: 470 / 500, ############## the best accuracy in val  95.0917 at Epoch: 376  ##############\n",
            "Performance in Val: Loss: (0.0463); Accuracy (94.92)\n"
          ]
        },
        {
          "name": "stderr",
          "output_type": "stream",
          "text": [
            "Epoch 471: 100%|██████████| 1494/1494 [00:27<00:00, 54.81batch/s, train_loss=tensor(0.0055, device='cuda:0', grad_fn=<MseLossBackward0>)]\n"
          ]
        },
        {
          "name": "stdout",
          "output_type": "stream",
          "text": [
            "0.04653773321346803 0.948323763659937 0.9151587070343196 0.9540412044374009 0.8449122807017544 0.8449122807017544 0.8647549806125742 0.959421767806532 0.8961667286937104\n",
            "Epoch: 471 / 500, ############## the best accuracy in val  95.0917 at Epoch: 376  ##############\n",
            "Performance in Val: Loss: (0.0465); Accuracy (94.83)\n"
          ]
        },
        {
          "name": "stderr",
          "output_type": "stream",
          "text": [
            "Epoch 472: 100%|██████████| 1494/1494 [00:27<00:00, 54.98batch/s, train_loss=tensor(0.0120, device='cuda:0', grad_fn=<MseLossBackward0>)]\n"
          ]
        },
        {
          "name": "stdout",
          "output_type": "stream",
          "text": [
            "0.04633891806853088 0.9503611779959251 0.9174429405168684 0.9594916600476568 0.847719298245614 0.847719298245614 0.8702327926071508 0.9587636302633786 0.9001490312965722\n",
            "Epoch: 472 / 500, ############## the best accuracy in val  95.0917 at Epoch: 376  ##############\n",
            "Performance in Val: Loss: (0.0463); Accuracy (95.04)\n"
          ]
        },
        {
          "name": "stderr",
          "output_type": "stream",
          "text": [
            "Epoch 473: 100%|██████████| 1494/1494 [00:27<00:00, 54.96batch/s, train_loss=tensor(0.0062, device='cuda:0', grad_fn=<MseLossBackward0>)]\n"
          ]
        },
        {
          "name": "stdout",
          "output_type": "stream",
          "text": [
            "0.04646653622727503 0.9477681052046675 0.913430897323833 0.9561053471667997 0.840701754385965 0.840701754385965 0.8633046991876001 0.9561874111549635 0.8946975354742346\n",
            "Epoch: 473 / 500, ############## the best accuracy in val  95.0917 at Epoch: 376  ##############\n",
            "Performance in Val: Loss: (0.0465); Accuracy (94.78)\n"
          ]
        },
        {
          "name": "stderr",
          "output_type": "stream",
          "text": [
            "Epoch 474: 100%|██████████| 1494/1494 [00:27<00:00, 54.66batch/s, train_loss=tensor(0.0083, device='cuda:0', grad_fn=<MseLossBackward0>)]\n"
          ]
        },
        {
          "name": "stdout",
          "output_type": "stream",
          "text": [
            "0.04654121424325488 0.9490646416002964 0.9147617407888115 0.96 0.8421052631578947 0.8421052631578947 0.8668088243035882 0.9581446949028333 0.8971962616822429\n",
            "Epoch: 474 / 500, ############## the best accuracy in val  95.0917 at Epoch: 376  ##############\n",
            "Performance in Val: Loss: (0.0465); Accuracy (94.91)\n"
          ]
        },
        {
          "name": "stderr",
          "output_type": "stream",
          "text": [
            "Epoch 475: 100%|██████████| 1494/1494 [00:27<00:00, 54.70batch/s, train_loss=tensor(0.0096, device='cuda:0', grad_fn=<MseLossBackward0>)]\n"
          ]
        },
        {
          "name": "stdout",
          "output_type": "stream",
          "text": [
            "0.04623179438269951 0.948323763659937 0.9135832913940614 0.9591346153846154 0.84 0.84 0.8648298776661001 0.9579338507315092 0.8956228956228957\n",
            "Epoch: 475 / 500, ############## the best accuracy in val  95.0917 at Epoch: 376  ##############\n",
            "Performance in Val: Loss: (0.0462); Accuracy (94.83)\n"
          ]
        },
        {
          "name": "stderr",
          "output_type": "stream",
          "text": [
            "Epoch 476: 100%|██████████| 1494/1494 [00:27<00:00, 54.58batch/s, train_loss=tensor(0.0101, device='cuda:0', grad_fn=<MseLossBackward0>)]\n"
          ]
        },
        {
          "name": "stdout",
          "output_type": "stream",
          "text": [
            "0.04669396160170436 0.9486942026301167 0.9160855207974642 0.9533965244865719 0.8470175438596491 0.8470175438596491 0.865733866509171 0.9582557677535561 0.8970642883686362\n",
            "Epoch: 476 / 500, ############## the best accuracy in val  95.0917 at Epoch: 376  ##############\n",
            "Performance in Val: Loss: (0.0467); Accuracy (94.87)\n"
          ]
        },
        {
          "name": "stderr",
          "output_type": "stream",
          "text": [
            "Epoch 477: 100%|██████████| 1494/1494 [00:27<00:00, 54.31batch/s, train_loss=tensor(0.0094, device='cuda:0', grad_fn=<MseLossBackward0>)]\n"
          ]
        },
        {
          "name": "stdout",
          "output_type": "stream",
          "text": [
            "0.0464820725927976 0.9479533246897573 0.9131065963852762 0.9583333333333334 0.8392982456140351 0.8392982456140351 0.863833077034377 0.9594586743658341 0.8948746726524505\n",
            "Epoch: 477 / 500, ############## the best accuracy in val  95.0917 at Epoch: 376  ##############\n",
            "Performance in Val: Loss: (0.0465); Accuracy (94.80)\n"
          ]
        },
        {
          "name": "stderr",
          "output_type": "stream",
          "text": [
            "Epoch 478: 100%|██████████| 1494/1494 [00:27<00:00, 54.41batch/s, train_loss=tensor(0.0134, device='cuda:0', grad_fn=<MseLossBackward0>)]\n"
          ]
        },
        {
          "name": "stdout",
          "output_type": "stream",
          "text": [
            "0.046653319912200626 0.9470272272643082 0.9124775073062626 0.9545091779728652 0.8392982456140351 0.8392982456140351 0.8613138801954667 0.9588136042168834 0.8932038834951456\n",
            "Epoch: 478 / 500, ############## the best accuracy in val  95.0917 at Epoch: 376  ##############\n",
            "Performance in Val: Loss: (0.0467); Accuracy (94.70)\n"
          ]
        },
        {
          "name": "stderr",
          "output_type": "stream",
          "text": [
            "Epoch 479: 100%|██████████| 1494/1494 [00:27<00:00, 54.13batch/s, train_loss=tensor(0.0143, device='cuda:0', grad_fn=<MseLossBackward0>)]\n"
          ]
        },
        {
          "name": "stdout",
          "output_type": "stream",
          "text": [
            "0.04622228579087691 0.9496203000555659 0.9162644911221183 0.958631662688942 0.8456140350877193 0.8456140350877193 0.868256490857569 0.9575891540628118 0.8985831469052945\n",
            "Epoch: 479 / 500, ############## the best accuracy in val  95.0917 at Epoch: 376  ##############\n",
            "Performance in Val: Loss: (0.0462); Accuracy (94.96)\n"
          ]
        },
        {
          "name": "stderr",
          "output_type": "stream",
          "text": [
            "Epoch 480: 100%|██████████| 1494/1494 [00:27<00:00, 53.47batch/s, train_loss=tensor(0.0076, device='cuda:0', grad_fn=<MseLossBackward0>)]\n"
          ]
        },
        {
          "name": "stdout",
          "output_type": "stream",
          "text": [
            "0.04668015918948434 0.9472124467493981 0.9121532063677058 0.9567307692307693 0.8378947368421052 0.8378947368421052 0.8618394757709308 0.9580046618811751 0.8933782267115601\n",
            "Epoch: 480 / 500, ############## the best accuracy in val  95.0917 at Epoch: 376  ##############\n",
            "Performance in Val: Loss: (0.0467); Accuracy (94.72)\n"
          ]
        },
        {
          "name": "stderr",
          "output_type": "stream",
          "text": [
            "Epoch 481: 100%|██████████| 1494/1494 [00:27<00:00, 54.16batch/s, train_loss=tensor(0.0089, device='cuda:0', grad_fn=<MseLossBackward0>)]\n"
          ]
        },
        {
          "name": "stdout",
          "output_type": "stream",
          "text": [
            "0.04596005905080925 0.948323763659937 0.9151587070343196 0.9540412044374009 0.8449122807017544 0.8449122807017544 0.8647549806125742 0.9592810284392411 0.8961667286937104\n",
            "Epoch: 481 / 500, ############## the best accuracy in val  95.0917 at Epoch: 376  ##############\n",
            "Performance in Val: Loss: (0.0460); Accuracy (94.83)\n"
          ]
        },
        {
          "name": "stderr",
          "output_type": "stream",
          "text": [
            "Epoch 482: 100%|██████████| 1494/1494 [00:27<00:00, 54.81batch/s, train_loss=tensor(0.0132, device='cuda:0', grad_fn=<MseLossBackward0>)]\n"
          ]
        },
        {
          "name": "stdout",
          "output_type": "stream",
          "text": [
            "0.046777754768051884 0.9488794221152065 0.9146359229730088 0.9592326139088729 0.8421052631578947 0.8421052631578947 0.8663038730670853 0.9574282838449925 0.8968609865470852\n",
            "Epoch: 482 / 500, ############## the best accuracy in val  95.0917 at Epoch: 376  ##############\n",
            "Performance in Val: Loss: (0.0468); Accuracy (94.89)\n"
          ]
        },
        {
          "name": "stderr",
          "output_type": "stream",
          "text": [
            "Epoch 483: 100%|██████████| 1494/1494 [00:27<00:00, 54.05batch/s, train_loss=tensor(0.0069, device='cuda:0', grad_fn=<MseLossBackward0>)]\n"
          ]
        },
        {
          "name": "stdout",
          "output_type": "stream",
          "text": [
            "0.04648120172152465 0.9486942026301167 0.9156354020431048 0.9548335974643423 0.8456140350877193 0.8456140350877193 0.8657479126554183 0.9579121306033074 0.8969110532192035\n",
            "Epoch: 483 / 500, ############## the best accuracy in val  95.0917 at Epoch: 376  ##############\n",
            "Performance in Val: Loss: (0.0465); Accuracy (94.87)\n"
          ]
        },
        {
          "name": "stderr",
          "output_type": "stream",
          "text": [
            "Epoch 484: 100%|██████████| 1494/1494 [00:27<00:00, 54.24batch/s, train_loss=tensor(0.0196, device='cuda:0', grad_fn=<MseLossBackward0>)]\n"
          ]
        },
        {
          "name": "stdout",
          "output_type": "stream",
          "text": [
            "0.04630273902280764 0.9479533246897573 0.9137817745168154 0.956140350877193 0.8414035087719298 0.8414035087719298 0.8637969799162948 0.9582803132642881 0.895110115714819\n",
            "Epoch: 484 / 500, ############## the best accuracy in val  95.0917 at Epoch: 376  ##############\n",
            "Performance in Val: Loss: (0.0463); Accuracy (94.80)\n"
          ]
        },
        {
          "name": "stderr",
          "output_type": "stream",
          "text": [
            "Epoch 485: 100%|██████████| 1494/1494 [00:27<00:00, 54.26batch/s, train_loss=tensor(0.0231, device='cuda:0', grad_fn=<MseLossBackward0>)]\n"
          ]
        },
        {
          "name": "stdout",
          "output_type": "stream",
          "text": [
            "0.04664372250607068 0.9492498610853862 0.9153376773589736 0.9592976855546688 0.8435087719298245 0.8435087719298245 0.8672863371718669 0.9574409980663788 0.8976848394324122\n",
            "Epoch: 485 / 500, ############## the best accuracy in val  95.0917 at Epoch: 376  ##############\n",
            "Performance in Val: Loss: (0.0466); Accuracy (94.92)\n"
          ]
        },
        {
          "name": "stderr",
          "output_type": "stream",
          "text": [
            "Epoch 486: 100%|██████████| 1494/1494 [00:27<00:00, 55.22batch/s, train_loss=tensor(0.0163, device='cuda:0', grad_fn=<MseLossBackward0>)]\n"
          ]
        },
        {
          "name": "stdout",
          "output_type": "stream",
          "text": [
            "0.04641762689094652 0.9481385441748472 0.9143577110869776 0.9554494828957836 0.8428070175438597 0.8428070175438597 0.8642792740219806 0.9596082430535322 0.895600298284862\n",
            "Epoch: 486 / 500, ############## the best accuracy in val  95.0917 at Epoch: 376  ##############\n",
            "Performance in Val: Loss: (0.0464); Accuracy (94.81)\n"
          ]
        },
        {
          "name": "stderr",
          "output_type": "stream",
          "text": [
            "Epoch 487: 100%|██████████| 1494/1494 [00:27<00:00, 55.10batch/s, train_loss=tensor(0.0188, device='cuda:0', grad_fn=<MseLossBackward0>)]\n"
          ]
        },
        {
          "name": "stdout",
          "output_type": "stream",
          "text": [
            "0.046662823678078974 0.948323763659937 0.9144835289027804 0.9562101910828026 0.8428070175438597 0.8428070175438597 0.8647814192003136 0.9586115893659665 0.8959343528534129\n",
            "Epoch: 487 / 500, ############## the best accuracy in val  95.0917 at Epoch: 376  ##############\n",
            "Performance in Val: Loss: (0.0467); Accuracy (94.83)\n"
          ]
        },
        {
          "name": "stderr",
          "output_type": "stream",
          "text": [
            "Epoch 488: 100%|██████████| 1494/1494 [00:27<00:00, 54.70batch/s, train_loss=tensor(0.0034, device='cuda:0', grad_fn=<MseLossBackward0>)]\n"
          ]
        },
        {
          "name": "stdout",
          "output_type": "stream",
          "text": [
            "0.04665146429430355 0.9486942026301167 0.9151852832887453 0.9562798092209857 0.8442105263157895 0.8442105263157895 0.8657656971700264 0.9586866385894277 0.8967573611628774\n",
            "Epoch: 488 / 500, ############## the best accuracy in val  95.0917 at Epoch: 376  ##############\n",
            "Performance in Val: Loss: (0.0467); Accuracy (94.87)\n"
          ]
        },
        {
          "name": "stderr",
          "output_type": "stream",
          "text": [
            "Epoch 489: 100%|██████████| 1494/1494 [00:27<00:00, 54.40batch/s, train_loss=tensor(0.0167, device='cuda:0', grad_fn=<MseLossBackward0>)]\n"
          ]
        },
        {
          "name": "stdout",
          "output_type": "stream",
          "text": [
            "0.046468899881636556 0.9486942026301167 0.9156354020431048 0.9548335974643423 0.8456140350877193 0.8456140350877193 0.8657479126554183 0.9588429175606354 0.8969110532192035\n",
            "Epoch: 489 / 500, ############## the best accuracy in val  95.0917 at Epoch: 376  ##############\n",
            "Performance in Val: Loss: (0.0465); Accuracy (94.87)\n"
          ]
        },
        {
          "name": "stderr",
          "output_type": "stream",
          "text": [
            "Epoch 490: 100%|██████████| 1494/1494 [00:27<00:00, 54.53batch/s, train_loss=tensor(0.0071, device='cuda:0', grad_fn=<MseLossBackward0>)]\n"
          ]
        },
        {
          "name": "stdout",
          "output_type": "stream",
          "text": [
            "0.04631520888175477 0.9503611779959251 0.9176679998940482 0.9587628865979382 0.848421052631579 0.848421052631579 0.8702214327269118 0.9588487449121041 0.9002233804914372\n",
            "Epoch: 490 / 500, ############## the best accuracy in val  95.0917 at Epoch: 376  ##############\n",
            "Performance in Val: Loss: (0.0463); Accuracy (95.04)\n"
          ]
        },
        {
          "name": "stderr",
          "output_type": "stream",
          "text": [
            "Epoch 491: 100%|██████████| 1494/1494 [00:27<00:00, 54.75batch/s, train_loss=tensor(0.0129, device='cuda:0', grad_fn=<MseLossBackward0>)]\n"
          ]
        },
        {
          "name": "stdout",
          "output_type": "stream",
          "text": [
            "0.0468024354936047 0.9485089831450269 0.9148344060957627 0.9562450278440732 0.8435087719298245 0.8435087719298245 0.8652735782308776 0.9572712985281522 0.8963460104399701\n",
            "Epoch: 491 / 500, ############## the best accuracy in val  95.0917 at Epoch: 376  ##############\n",
            "Performance in Val: Loss: (0.0468); Accuracy (94.85)\n"
          ]
        },
        {
          "name": "stderr",
          "output_type": "stream",
          "text": [
            "Epoch 492: 100%|██████████| 1494/1494 [00:27<00:00, 54.25batch/s, train_loss=tensor(0.0168, device='cuda:0', grad_fn=<MseLossBackward0>)]\n"
          ]
        },
        {
          "name": "stdout",
          "output_type": "stream",
          "text": [
            "0.04656410725279288 0.9479533246897573 0.9137817745168154 0.956140350877193 0.8414035087719298 0.8414035087719298 0.8637969799162948 0.9586223611368632 0.895110115714819\n",
            "Epoch: 492 / 500, ############## the best accuracy in val  95.0917 at Epoch: 376  ##############\n",
            "Performance in Val: Loss: (0.0466); Accuracy (94.80)\n"
          ]
        },
        {
          "name": "stderr",
          "output_type": "stream",
          "text": [
            "Epoch 493: 100%|██████████| 1494/1494 [00:27<00:00, 54.32batch/s, train_loss=tensor(0.0079, device='cuda:0', grad_fn=<MseLossBackward0>)]\n"
          ]
        },
        {
          "name": "stdout",
          "output_type": "stream",
          "text": [
            "0.04656514051285657 0.9488794221152065 0.9150860417273683 0.9577689243027888 0.8435087719298245 0.8435087719298245 0.8662789318600788 0.9596945938071146 0.8970149253731342\n",
            "Epoch: 493 / 500, ############## the best accuracy in val  95.0917 at Epoch: 376  ##############\n",
            "Performance in Val: Loss: (0.0466); Accuracy (94.89)\n"
          ]
        },
        {
          "name": "stderr",
          "output_type": "stream",
          "text": [
            "Epoch 494: 100%|██████████| 1494/1494 [00:27<00:00, 54.23batch/s, train_loss=tensor(0.0108, device='cuda:0', grad_fn=<MseLossBackward0>)]\n"
          ]
        },
        {
          "name": "stdout",
          "output_type": "stream",
          "text": [
            "0.04642462290146134 0.948323763659937 0.9149336476571399 0.9547619047619048 0.8442105263157895 0.8442105263157895 0.8647628564090345 0.9587570965662773 0.8960893854748604\n",
            "Epoch: 494 / 500, ############## the best accuracy in val  95.0917 at Epoch: 376  ##############\n",
            "Performance in Val: Loss: (0.0464); Accuracy (94.83)\n"
          ]
        },
        {
          "name": "stderr",
          "output_type": "stream",
          "text": [
            "Epoch 495: 100%|██████████| 1494/1494 [00:27<00:00, 54.50batch/s, train_loss=tensor(0.0102, device='cuda:0', grad_fn=<MseLossBackward0>)]\n"
          ]
        },
        {
          "name": "stdout",
          "output_type": "stream",
          "text": [
            "0.046350764322348616 0.9486942026301167 0.9160855207974642 0.9533965244865719 0.8470175438596491 0.8470175438596491 0.865733866509171 0.9589923096619253 0.8970642883686362\n",
            "Epoch: 495 / 500, ############## the best accuracy in val  95.0917 at Epoch: 376  ##############\n",
            "Performance in Val: Loss: (0.0464); Accuracy (94.87)\n"
          ]
        },
        {
          "name": "stderr",
          "output_type": "stream",
          "text": [
            "Epoch 496: 100%|██████████| 1494/1494 [00:27<00:00, 54.95batch/s, train_loss=tensor(0.0059, device='cuda:0', grad_fn=<MseLossBackward0>)]\n"
          ]
        },
        {
          "name": "stdout",
          "output_type": "stream",
          "text": [
            "0.04633191782473163 0.9488794221152065 0.9157612198589075 0.9555908009516257 0.8456140350877193 0.8456140350877193 0.8662486101633059 0.959169425829294 0.8972449739389426\n",
            "Epoch: 496 / 500, ############## the best accuracy in val  95.0917 at Epoch: 376  ##############\n",
            "Performance in Val: Loss: (0.0463); Accuracy (94.89)\n"
          ]
        },
        {
          "name": "stderr",
          "output_type": "stream",
          "text": [
            "Epoch 497: 100%|██████████| 1494/1494 [00:27<00:00, 54.41batch/s, train_loss=tensor(0.0060, device='cuda:0', grad_fn=<MseLossBackward0>)]\n"
          ]
        },
        {
          "name": "stdout",
          "output_type": "stream",
          "text": [
            "0.046382798389955 0.948323763659937 0.9138083507712411 0.9584 0.840701754385965 0.840701754385965 0.8648163385003865 0.9581076117571231 0.8957009345794392\n",
            "Epoch: 497 / 500, ############## the best accuracy in val  95.0917 at Epoch: 376  ##############\n",
            "Performance in Val: Loss: (0.0464); Accuracy (94.83)\n"
          ]
        },
        {
          "name": "stderr",
          "output_type": "stream",
          "text": [
            "Epoch 498: 100%|██████████| 1494/1494 [00:27<00:00, 54.32batch/s, train_loss=tensor(0.0100, device='cuda:0', grad_fn=<MseLossBackward0>)]\n"
          ]
        },
        {
          "name": "stdout",
          "output_type": "stream",
          "text": [
            "0.04670258408243006 0.9475828857195777 0.9142053170167492 0.9524564183835182 0.8435087719298245 0.8435087719298245 0.8627691165268858 0.9574508869052349 0.8946780796427243\n",
            "Epoch: 498 / 500, ############## the best accuracy in val  95.0917 at Epoch: 376  ##############\n",
            "Performance in Val: Loss: (0.0467); Accuracy (94.76)\n"
          ]
        },
        {
          "name": "stderr",
          "output_type": "stream",
          "text": [
            "Epoch 499: 100%|██████████| 1494/1494 [00:27<00:00, 54.01batch/s, train_loss=tensor(0.0107, device='cuda:0', grad_fn=<MseLossBackward0>)]\n"
          ]
        },
        {
          "name": "stdout",
          "output_type": "stream",
          "text": [
            "0.04630809848789464 0.9498055195406557 0.9168404276922806 0.957936507936508 0.8470175438596491 0.8470175438596491 0.8687367750320296 0.9576138761599519 0.8990689013035381\n",
            "Epoch: 499 / 500, ############## the best accuracy in val  95.0917 at Epoch: 376  ##############\n",
            "Performance in Val: Loss: (0.0463); Accuracy (94.98)\n"
          ]
        }
      ],
      "source": [
        "initial_epoch = 0\n",
        "best_epoch = -1\n",
        "best_accuracy = 0.5\n",
        "for epoch in range(initial_epoch, 500):\n",
        "    torch.cuda.empty_cache()\n",
        "    model.train()\n",
        "    with tqdm(train_loader, desc='Processing', unit=\"batch\") as tepoch:\n",
        "        for ESP_train_df_enzy,ESP_train_df_smiles, y_train in tepoch:\n",
        "            model.train()\n",
        "            tepoch.set_description(f\"Epoch {epoch}\")\n",
        "            ESP_train_df_enzy = ESP_train_df_enzy.to(device)\n",
        "            ESP_train_df_smiles = ESP_train_df_smiles.to(device)\n",
        "            y_train = y_train.squeeze(1).to(device)\n",
        "            refined_enzy_embed, refined_smiles_embed = model(ESP_train_df_enzy,ESP_train_df_smiles)\n",
        "            cosine_sim = torch.nn.functional.cosine_similarity(refined_enzy_embed, refined_smiles_embed, dim=1)\n",
        "            loss = loss_fn(cosine_sim, y_train)\n",
        "            loss.backward()\n",
        "            optimizer.step()\n",
        "            optimizer.zero_grad(set_to_none=True) #\n",
        "            tepoch.set_postfix(train_loss=loss)\n",
        "            # tepoch.set_postfix(val_loss=loss_sum_val, val_accuracy=100. * acc_val, balanced_val_accuracy=100. * bacc_val)\n",
        "        loss_sum_val,acc_val, bacc_val = run_validation(model,val_loader,loss_fn, device)\n",
        "        print('Epoch: %d / %d, ############## the best accuracy in val  %.4f at Epoch: %d  ##############'  % (epoch, 500,100 * best_accuracy,best_epoch))\n",
        "        # print('Performance in Train: Loss: (%.4f); Accuracy (%.2f)' % (loss_sum, 100 * acc))\n",
        "        print('Performance in Val: Loss: (%.4f); Accuracy (%.2f)' % (loss_sum_val, 100 * acc_val))\n",
        "        # checkpoint(model, f\"epoch-{epoch}.pth\")\n",
        "        if acc_val > best_accuracy: # compare the performance updates at the val set\n",
        "            best_accuracy = acc_val\n",
        "            best_epoch = epoch\n",
        "            torch.save(model, \"best_model.pt\")\n",
        "\n"
      ]
    },
    {
      "cell_type": "code",
      "execution_count": null,
      "metadata": {
        "colab": {
          "base_uri": "https://localhost:8080/"
        },
        "id": "xZxmFUy_Hg2Q",
        "outputId": "15e4d620-80ab-4bac-b22c-932e41b5485d"
      },
      "outputs": [
        {
          "name": "stdout",
          "output_type": "stream",
          "text": [
            "0.045961483297022904 0.9509168364511946 0.918270512718636 0.9603174603174603 0.8491228070175438 0.8491228070175438 0.8717172139992759 0.9605040659020475 0.9013035381750465\n"
          ]
        },
        {
          "data": {
            "text/plain": [
              "(0.045961483297022904, 0.9509168364511946, 0.918270512718636)"
            ]
          },
          "execution_count": 54,
          "metadata": {},
          "output_type": "execute_result"
        }
      ],
      "source": [
        "import torch\n",
        "# Specify the file path where the entire model is saved\n",
        "load_path = 'best_model.pt'\n",
        "\n",
        "# Load the entire model\n",
        "model_test = torch.load(load_path)\n",
        "# model_test.to('cuda')\n",
        "# rename the baseline model\n",
        "torch.save(model_test, 'best_model_esm2_2560_pretrain_phylo.pt')\n",
        "run_validation(model_test,val_loader,loss_fn, device)"
      ]
    },
    {
      "cell_type": "code",
      "execution_count": null,
      "metadata": {
        "colab": {
          "base_uri": "https://localhost:8080/"
        },
        "id": "8Xf-pSJHqggf",
        "outputId": "021cc7fa-f196-4426-97ab-cd0a425a3018"
      },
      "outputs": [
        {
          "name": "stdout",
          "output_type": "stream",
          "text": [
            "0.045961483297022904 0.9509168364511946 0.918270512718636 0.9603174603174603 0.8491228070175438 0.8491228070175438 0.8717172139992759 0.9605040659020475 0.9013035381750465\n",
            "0.05330231875324479 0.9398287259615384 0.9012593801718469 0.9448275862068966 0.8196581196581196 0.8196581196581196 0.8418809286602347 0.9567112589965068 0.8778032036613271\n"
          ]
        },
        {
          "data": {
            "text/plain": [
              "(0.05330231875324479, 0.9398287259615384, 0.9012593801718469)"
            ]
          },
          "execution_count": 55,
          "metadata": {},
          "output_type": "execute_result"
        }
      ],
      "source": [
        "run_validation(model_test,val_loader,loss_fn, device)\n",
        "run_validation(model_test,test_loader,loss_fn, device)"
      ]
    },
    {
      "cell_type": "markdown",
      "metadata": {
        "id": "s5HFKBfTC2JI"
      },
      "source": [
        "### fine tuning\n",
        "the optimizer state and model will be continue trainin on the smaller train dataset"
      ]
    },
    {
      "cell_type": "code",
      "execution_count": null,
      "metadata": {
        "id": "ilR9qooReoke"
      },
      "outputs": [],
      "source": [
        "def get_ds():\n",
        "    # Load the saved embeddings_results\n",
        "    ESP_train_df_enzy = torch.load('ESP_train_df_enzy.pt')\n",
        "    ESP_val_df_enzy = torch.load('ESP_val_df_enzy.pt')\n",
        "    ESP_test_df_enzy = torch.load('ESP_test_df_enzy.pt')\n",
        "    print(ESP_train_df_enzy.shape, ESP_val_df_enzy.shape, ESP_test_df_enzy.shape)\n",
        "    # Load the saved embeddings_results\n",
        "    ESP_train_df_smiles = torch.load('ESP_train_df_smiles.pt')\n",
        "    ESP_val_df_smiles = torch.load('ESP_val_df_smiles.pt')\n",
        "    ESP_test_df_smiles = torch.load('ESP_test_df_smiles.pt')\n",
        "    print(ESP_train_df_smiles.shape, ESP_val_df_smiles.shape, ESP_test_df_smiles.shape)\n",
        "\n",
        "    y_train = torch.load( 'ESP_train_df_label.pt')\n",
        "    y_val = torch.load('ESP_val_df_label.pt')\n",
        "    y_test = torch.load('ESP_test_df_label.pt')\n",
        "    print(y_train.shape,y_val.shape, y_test.shape)\n",
        "\n",
        "\n",
        "    train_tensor_dataset = TensorDataset(ESP_train_df_enzy,ESP_train_df_smiles, y_train)\n",
        "    val_tensor_dataset = TensorDataset(ESP_val_df_enzy,ESP_val_df_smiles, y_val)\n",
        "    test_tensor_dataset = TensorDataset(ESP_test_df_enzy, ESP_test_df_smiles, y_test)\n",
        "\n",
        "    # Create TensorDataset and DataLoaders\n",
        "    batch_size = 16\n",
        "    train_loader = DataLoader(train_tensor_dataset, batch_size=batch_size, shuffle=True)\n",
        "    val_loader = DataLoader(val_tensor_dataset, batch_size=batch_size, shuffle=False)\n",
        "    test_loader = DataLoader(test_tensor_dataset, batch_size=batch_size, shuffle=False)\n",
        "    print(len(train_loader))\n",
        "    return train_loader,  val_loader, test_loader"
      ]
    },
    {
      "cell_type": "code",
      "execution_count": null,
      "metadata": {
        "colab": {
          "base_uri": "https://localhost:8080/"
        },
        "id": "MOden5zoDVVe",
        "outputId": "19412da1-5b03-4ba6-8607-d162f5d818fe"
      },
      "outputs": [
        {
          "name": "stdout",
          "output_type": "stream",
          "text": [
            "torch.Size([49881, 2560]) torch.Size([5399, 2560]) torch.Size([13312, 2560])\n",
            "torch.Size([49881, 768]) torch.Size([5399, 768]) torch.Size([13312, 768])\n",
            "torch.Size([49881, 1]) torch.Size([5399, 1]) torch.Size([13312, 1])\n",
            "3118\n"
          ]
        }
      ],
      "source": [
        "# laod the smaller training dataset\n",
        "train_loader,  val_loader, test_loader = get_ds()\n"
      ]
    },
    {
      "cell_type": "code",
      "execution_count": null,
      "metadata": {
        "colab": {
          "base_uri": "https://localhost:8080/"
        },
        "id": "dUVQCKp2G8FK",
        "outputId": "d7ff8d37-498a-495d-f293-ceeedffb88e7"
      },
      "outputs": [
        {
          "name": "stderr",
          "output_type": "stream",
          "text": [
            "Epoch 0: 100%|██████████| 3118/3118 [00:28<00:00, 108.74batch/s, train_loss=tensor(0.0528, device='cuda:0', grad_fn=<MseLossBackward0>)]\n"
          ]
        },
        {
          "name": "stdout",
          "output_type": "stream",
          "text": [
            "0.04696152170640609 0.9492498610853862 0.9169130929992318 0.9542225730071034 0.848421052631579 0.848421052631579 0.867218291614202 0.9672009288445068 0.8982169390787519\n",
            "Epoch: 0 / 30, ############## the best accuracy in val  50.0000 at Epoch: -1  ##############\n",
            "Performance in Val: Loss: (0.0470); Accuracy (94.92)\n"
          ]
        },
        {
          "name": "stderr",
          "output_type": "stream",
          "text": [
            "Epoch 1: 100%|██████████| 3118/3118 [00:28<00:00, 109.32batch/s, train_loss=tensor(0.0414, device='cuda:0', grad_fn=<MseLossBackward0>)]\n"
          ]
        },
        {
          "name": "stdout",
          "output_type": "stream",
          "text": [
            "0.04704041896179902 0.9522133728468235 0.9218519499554119 0.9569303054032889 0.8575438596491228 0.8575438596491228 0.8751086523099209 0.9656173019362699 0.9045151739452257\n",
            "Epoch: 1 / 30, ############## the best accuracy in val  94.9250 at Epoch: 0  ##############\n",
            "Performance in Val: Loss: (0.0470); Accuracy (95.22)\n"
          ]
        },
        {
          "name": "stderr",
          "output_type": "stream",
          "text": [
            "Epoch 2: 100%|██████████| 3118/3118 [00:28<00:00, 109.43batch/s, train_loss=tensor(0.0718, device='cuda:0', grad_fn=<MseLossBackward0>)]\n"
          ]
        },
        {
          "name": "stdout",
          "output_type": "stream",
          "text": [
            "0.04680601374081545 0.9509168364511946 0.9198459283588942 0.9552590266875981 0.8540350877192983 0.8540350877192983 0.8716549776264326 0.9672226489727086 0.9018154872174879\n",
            "Epoch: 2 / 30, ############## the best accuracy in val  95.2213 at Epoch: 1  ##############\n",
            "Performance in Val: Loss: (0.0468); Accuracy (95.09)\n"
          ]
        },
        {
          "name": "stderr",
          "output_type": "stream",
          "text": [
            "Epoch 3: 100%|██████████| 3118/3118 [00:28<00:00, 110.14batch/s, train_loss=tensor(0.0450, device='cuda:0', grad_fn=<MseLossBackward0>)]\n"
          ]
        },
        {
          "name": "stdout",
          "output_type": "stream",
          "text": [
            "0.046743247913232505 0.9512872754213744 0.9216729796307579 0.9517884914463453 0.8589473684210527 0.8589473684210527 0.8726242805213545 0.9671491890269206 0.9029878273699743\n",
            "Epoch: 3 / 30, ############## the best accuracy in val  95.2213 at Epoch: 1  ##############\n",
            "Performance in Val: Loss: (0.0467); Accuracy (95.13)\n"
          ]
        },
        {
          "name": "stderr",
          "output_type": "stream",
          "text": [
            "Epoch 4: 100%|██████████| 3118/3118 [00:28<00:00, 108.87batch/s, train_loss=tensor(0.0256, device='cuda:0', grad_fn=<MseLossBackward0>)]\n"
          ]
        },
        {
          "name": "stdout",
          "output_type": "stream",
          "text": [
            "0.04615645631927358 0.9518429338766439 0.9222754924553458 0.953307392996109 0.8596491228070176 0.8596491228070176 0.8741048476594676 0.9659830123875366 0.9040590405904059\n",
            "Epoch: 4 / 30, ############## the best accuracy in val  95.2213 at Epoch: 1  ##############\n",
            "Performance in Val: Loss: (0.0462); Accuracy (95.18)\n"
          ]
        },
        {
          "name": "stderr",
          "output_type": "stream",
          "text": [
            "Epoch 5: 100%|██████████| 3118/3118 [00:28<00:00, 108.23batch/s, train_loss=tensor(0.0468, device='cuda:0', grad_fn=<MseLossBackward0>)]\n"
          ]
        },
        {
          "name": "stdout",
          "output_type": "stream",
          "text": [
            "0.046421556030579195 0.9525838118170031 0.9234539418500958 0.9541569541569541 0.8617543859649123 0.8617543859649123 0.8760758582100835 0.9651610026576255 0.9056047197640118\n",
            "Epoch: 5 / 30, ############## the best accuracy in val  95.2213 at Epoch: 1  ##############\n",
            "Performance in Val: Loss: (0.0464); Accuracy (95.26)\n"
          ]
        },
        {
          "name": "stderr",
          "output_type": "stream",
          "text": [
            "Epoch 6: 100%|██████████| 3118/3118 [00:28<00:00, 107.83batch/s, train_loss=tensor(0.0495, device='cuda:0', grad_fn=<MseLossBackward0>)]\n"
          ]
        },
        {
          "name": "stdout",
          "output_type": "stream",
          "text": [
            "0.04589609296464763 0.9507316169661049 0.921745644937709 0.9481825212683681 0.8603508771929824 0.8603508771929824 0.871150581602114 0.9669473507624118 0.9021339220014717\n",
            "Epoch: 6 / 30, ############## the best accuracy in val  95.2584 at Epoch: 5  ##############\n",
            "Performance in Val: Loss: (0.0459); Accuracy (95.07)\n"
          ]
        },
        {
          "name": "stderr",
          "output_type": "stream",
          "text": [
            "Epoch 7: 100%|██████████| 3118/3118 [00:28<00:00, 108.74batch/s, train_loss=tensor(0.0357, device='cuda:0', grad_fn=<MseLossBackward0>)]\n"
          ]
        },
        {
          "name": "stdout",
          "output_type": "stream",
          "text": [
            "0.0453049118517617 0.9544360066679015 0.9258374168940217 0.958041958041958 0.8652631578947368 0.8652631578947368 0.8810069846875148 0.9684024227655197 0.90929203539823\n",
            "Epoch: 7 / 30, ############## the best accuracy in val  95.2584 at Epoch: 5  ##############\n",
            "Performance in Val: Loss: (0.0453); Accuracy (95.44)\n"
          ]
        },
        {
          "name": "stderr",
          "output_type": "stream",
          "text": [
            "Epoch 8: 100%|██████████| 3118/3118 [00:28<00:00, 109.46batch/s, train_loss=tensor(0.0583, device='cuda:0', grad_fn=<MseLossBackward0>)]\n"
          ]
        },
        {
          "name": "stdout",
          "output_type": "stream",
          "text": [
            "0.04553772806232663 0.9525838118170031 0.923228882472916 0.954863813229572 0.8610526315789474 0.8610526315789474 0.8760783527549747 0.9679514210791196 0.9055350553505536\n",
            "Epoch: 8 / 30, ############## the best accuracy in val  95.4436 at Epoch: 7  ##############\n",
            "Performance in Val: Loss: (0.0455); Accuracy (95.26)\n"
          ]
        },
        {
          "name": "stderr",
          "output_type": "stream",
          "text": [
            "Epoch 9: 100%|██████████| 3118/3118 [00:28<00:00, 109.08batch/s, train_loss=tensor(0.0373, device='cuda:0', grad_fn=<MseLossBackward0>)]\n"
          ]
        },
        {
          "name": "stdout",
          "output_type": "stream",
          "text": [
            "0.04617579180103887 0.9525838118170031 0.923228882472916 0.954863813229572 0.8610526315789474 0.8610526315789474 0.8760783527549747 0.966910973962334 0.9055350553505536\n",
            "Epoch: 9 / 30, ############## the best accuracy in val  95.4436 at Epoch: 7  ##############\n",
            "Performance in Val: Loss: (0.0462); Accuracy (95.26)\n"
          ]
        },
        {
          "name": "stderr",
          "output_type": "stream",
          "text": [
            "Epoch 10: 100%|██████████| 3118/3118 [00:28<00:00, 109.38batch/s, train_loss=tensor(0.0554, device='cuda:0', grad_fn=<MseLossBackward0>)]\n"
          ]
        },
        {
          "name": "stdout",
          "output_type": "stream",
          "text": [
            "0.045380390943551556 0.951657714391554 0.9219246152623632 0.9532710280373832 0.8589473684210527 0.8589473684210527 0.8736124017621418 0.9690324830697781 0.9036544850498339\n",
            "Epoch: 10 / 30, ############## the best accuracy in val  95.4436 at Epoch: 7  ##############\n",
            "Performance in Val: Loss: (0.0454); Accuracy (95.17)\n"
          ]
        },
        {
          "name": "stderr",
          "output_type": "stream",
          "text": [
            "Epoch 11: 100%|██████████| 3118/3118 [00:28<00:00, 108.60batch/s, train_loss=tensor(0.0154, device='cuda:0', grad_fn=<MseLossBackward0>)]\n"
          ]
        },
        {
          "name": "stdout",
          "output_type": "stream",
          "text": [
            "0.04631666758975301 0.9520281533617336 0.9221762508939687 0.9547581903276131 0.8589473684210527 0.8589473684210527 0.8746024951078547 0.967847941443947 0.9043221278167715\n",
            "Epoch: 11 / 30, ############## the best accuracy in val  95.4436 at Epoch: 7  ##############\n",
            "Performance in Val: Loss: (0.0463); Accuracy (95.20)\n"
          ]
        },
        {
          "name": "stderr",
          "output_type": "stream",
          "text": [
            "Epoch 12: 100%|██████████| 3118/3118 [00:28<00:00, 109.96batch/s, train_loss=tensor(0.0673, device='cuda:0', grad_fn=<MseLossBackward0>)]\n"
          ]
        },
        {
          "name": "stdout",
          "output_type": "stream",
          "text": [
            "0.04620860818912655 0.9529542507871828 0.9237055774817012 0.9556420233463035 0.8617543859649123 0.8617543859649123 0.8770651053027282 0.9668274485912819 0.9062730627306272\n",
            "Epoch: 12 / 30, ############## the best accuracy in val  95.4436 at Epoch: 7  ##############\n",
            "Performance in Val: Loss: (0.0462); Accuracy (95.30)\n"
          ]
        },
        {
          "name": "stderr",
          "output_type": "stream",
          "text": [
            "Epoch 13: 100%|██████████| 3118/3118 [00:28<00:00, 108.33batch/s, train_loss=tensor(0.0389, device='cuda:0', grad_fn=<MseLossBackward0>)]\n"
          ]
        },
        {
          "name": "stdout",
          "output_type": "stream",
          "text": [
            "0.04565389347093913 0.9523985923319133 0.9226529459027539 0.9555382215288611 0.8596491228070176 0.8596491228070176 0.875590041525272 0.9666665783734626 0.9050609530845954\n",
            "Epoch: 13 / 30, ############## the best accuracy in val  95.4436 at Epoch: 7  ##############\n",
            "Performance in Val: Loss: (0.0457); Accuracy (95.24)\n"
          ]
        },
        {
          "name": "stderr",
          "output_type": "stream",
          "text": [
            "Epoch 14: 100%|██████████| 3118/3118 [00:28<00:00, 108.98batch/s, train_loss=tensor(0.0149, device='cuda:0', grad_fn=<MseLossBackward0>)]\n"
          ]
        },
        {
          "name": "stdout",
          "output_type": "stream",
          "text": [
            "0.045486073912060734 0.9536951287275421 0.9255592050079905 0.954369682907966 0.8659649122807017 0.8659649122807017 0.8790278059743797 0.9679436512771613 0.9080206033848419\n",
            "Epoch: 14 / 30, ############## the best accuracy in val  95.4436 at Epoch: 7  ##############\n",
            "Performance in Val: Loss: (0.0455); Accuracy (95.37)\n"
          ]
        },
        {
          "name": "stderr",
          "output_type": "stream",
          "text": [
            "Epoch 15: 100%|██████████| 3118/3118 [00:28<00:00, 108.16batch/s, train_loss=tensor(0.0292, device='cuda:0', grad_fn=<MseLossBackward0>)]\n"
          ]
        },
        {
          "name": "stdout",
          "output_type": "stream",
          "text": [
            "0.04582962865414947 0.953880348212632 0.9245597259378946 0.9586583463338534 0.8624561403508771 0.8624561403508771 0.8795402271949408 0.9677628267952216 0.9080162541558922\n",
            "Epoch: 15 / 30, ############## the best accuracy in val  95.4436 at Epoch: 7  ##############\n",
            "Performance in Val: Loss: (0.0458); Accuracy (95.39)\n"
          ]
        },
        {
          "name": "stderr",
          "output_type": "stream",
          "text": [
            "Epoch 16: 100%|██████████| 3118/3118 [00:28<00:00, 108.46batch/s, train_loss=tensor(0.0351, device='cuda:0', grad_fn=<MseLossBackward0>)]\n"
          ]
        },
        {
          "name": "stdout",
          "output_type": "stream",
          "text": [
            "0.04607177264030923 0.9523985923319133 0.9233281240342931 0.953416149068323 0.8617543859649123 0.8617543859649123 0.8755819727333581 0.9665161267537237 0.9052709178031699\n",
            "Epoch: 16 / 30, ############## the best accuracy in val  95.4436 at Epoch: 7  ##############\n",
            "Performance in Val: Loss: (0.0461); Accuracy (95.24)\n"
          ]
        },
        {
          "name": "stderr",
          "output_type": "stream",
          "text": [
            "Epoch 17: 100%|██████████| 3118/3118 [00:29<00:00, 107.36batch/s, train_loss=tensor(0.0857, device='cuda:0', grad_fn=<MseLossBackward0>)]\n"
          ]
        },
        {
          "name": "stdout",
          "output_type": "stream",
          "text": [
            "0.045979437908397425 0.9533246897573625 0.9241822724904865 0.9564202334630351 0.8624561403508771 0.8624561403508771 0.8780518578504818 0.9650329775117209 0.9070110701107011\n",
            "Epoch: 17 / 30, ############## the best accuracy in val  95.4436 at Epoch: 7  ##############\n",
            "Performance in Val: Loss: (0.0460); Accuracy (95.33)\n"
          ]
        },
        {
          "name": "stderr",
          "output_type": "stream",
          "text": [
            "Epoch 18: 100%|██████████| 3118/3118 [00:28<00:00, 108.58batch/s, train_loss=tensor(0.0290, device='cuda:0', grad_fn=<MseLossBackward0>)]\n"
          ]
        },
        {
          "name": "stdout",
          "output_type": "stream",
          "text": [
            "0.04620480582155232 0.9525838118170031 0.923228882472916 0.954863813229572 0.8610526315789474 0.8610526315789474 0.8760783527549747 0.9657075375908317 0.9055350553505536\n",
            "Epoch: 18 / 30, ############## the best accuracy in val  95.4436 at Epoch: 7  ##############\n",
            "Performance in Val: Loss: (0.0462); Accuracy (95.26)\n"
          ]
        },
        {
          "name": "stderr",
          "output_type": "stream",
          "text": [
            "Epoch 19: 100%|██████████| 3118/3118 [00:28<00:00, 108.72batch/s, train_loss=tensor(0.0250, device='cuda:0', grad_fn=<MseLossBackward0>)]\n"
          ]
        },
        {
          "name": "stdout",
          "output_type": "stream",
          "text": [
            "0.045488545475128116 0.9546212261529913 0.9264133534641839 0.9573643410852714 0.8666666666666667 0.8666666666666667 0.881493734871767 0.9677255670631031 0.9097605893186005\n",
            "Epoch: 19 / 30, ############## the best accuracy in val  95.4436 at Epoch: 7  ##############\n",
            "Performance in Val: Loss: (0.0455); Accuracy (95.46)\n"
          ]
        },
        {
          "name": "stderr",
          "output_type": "stream",
          "text": [
            "Epoch 20: 100%|██████████| 3118/3118 [00:28<00:00, 108.90batch/s, train_loss=tensor(0.0310, device='cuda:0', grad_fn=<MseLossBackward0>)]\n"
          ]
        },
        {
          "name": "stdout",
          "output_type": "stream",
          "text": [
            "0.04515804588063151 0.9536951287275421 0.9257842643851704 0.9536679536679536 0.8666666666666667 0.8666666666666667 0.8790273871250474 0.9682710424778604 0.9080882352941176\n",
            "Epoch: 20 / 30, ############## the best accuracy in val  95.4621 at Epoch: 19  ##############\n",
            "Performance in Val: Loss: (0.0452); Accuracy (95.37)\n"
          ]
        },
        {
          "name": "stderr",
          "output_type": "stream",
          "text": [
            "Epoch 21: 100%|██████████| 3118/3118 [00:28<00:00, 107.92batch/s, train_loss=tensor(0.0198, device='cuda:0', grad_fn=<MseLossBackward0>)]\n"
          ]
        },
        {
          "name": "stdout",
          "output_type": "stream",
          "text": [
            "0.04539905471373184 0.9520281533617336 0.9233015477798674 0.9512383900928792 0.8624561403508771 0.8624561403508771 0.8745962430062079 0.9695857282864938 0.9046742730953257\n",
            "Epoch: 21 / 30, ############## the best accuracy in val  95.4621 at Epoch: 19  ##############\n",
            "Performance in Val: Loss: (0.0454); Accuracy (95.20)\n"
          ]
        },
        {
          "name": "stderr",
          "output_type": "stream",
          "text": [
            "Epoch 22: 100%|██████████| 3118/3118 [00:28<00:00, 108.55batch/s, train_loss=tensor(0.0061, device='cuda:0', grad_fn=<MseLossBackward0>)]\n"
          ]
        },
        {
          "name": "stdout",
          "output_type": "stream",
          "text": [
            "0.04577477320859253 0.9535099092424523 0.9254333871921878 0.9536321483771252 0.8659649122807017 0.8659649122807017 0.8785352867896215 0.9659330384340318 0.907686649503494\n",
            "Epoch: 22 / 30, ############## the best accuracy in val  95.4621 at Epoch: 19  ##############\n",
            "Performance in Val: Loss: (0.0458); Accuracy (95.35)\n"
          ]
        },
        {
          "name": "stderr",
          "output_type": "stream",
          "text": [
            "Epoch 23: 100%|██████████| 3118/3118 [00:28<00:00, 108.95batch/s, train_loss=tensor(0.0566, device='cuda:0', grad_fn=<MseLossBackward0>)]\n"
          ]
        },
        {
          "name": "stdout",
          "output_type": "stream",
          "text": [
            "0.046363065593060346 0.9535099092424523 0.9254333871921878 0.9536321483771252 0.8659649122807017 0.8659649122807017 0.8785352867896215 0.9657649281734785 0.907686649503494\n",
            "Epoch: 23 / 30, ############## the best accuracy in val  95.4621 at Epoch: 19  ##############\n",
            "Performance in Val: Loss: (0.0464); Accuracy (95.35)\n"
          ]
        },
        {
          "name": "stderr",
          "output_type": "stream",
          "text": [
            "Epoch 24: 100%|██████████| 3118/3118 [00:28<00:00, 109.48batch/s, train_loss=tensor(0.0239, device='cuda:0', grad_fn=<MseLossBackward0>)]\n"
          ]
        },
        {
          "name": "stdout",
          "output_type": "stream",
          "text": [
            "0.045606452184343525 0.9522133728468235 0.9225271280869511 0.9547934528448948 0.8596491228070176 0.8596491228070176 0.875094482832533 0.9676727677270681 0.9047267355982274\n",
            "Epoch: 24 / 30, ############## the best accuracy in val  95.4621 at Epoch: 19  ##############\n",
            "Performance in Val: Loss: (0.0456); Accuracy (95.22)\n"
          ]
        },
        {
          "name": "stderr",
          "output_type": "stream",
          "text": [
            "Epoch 25: 100%|██████████| 3118/3118 [00:28<00:00, 109.37batch/s, train_loss=tensor(0.0241, device='cuda:0', grad_fn=<MseLossBackward0>)]\n"
          ]
        },
        {
          "name": "stdout",
          "output_type": "stream",
          "text": [
            "0.04571264461764361 0.9525838118170031 0.923228882472916 0.954863813229572 0.8610526315789474 0.8610526315789474 0.8760783527549747 0.9667799468474911 0.9055350553505536\n",
            "Epoch: 25 / 30, ############## the best accuracy in val  95.4621 at Epoch: 19  ##############\n",
            "Performance in Val: Loss: (0.0457); Accuracy (95.26)\n"
          ]
        },
        {
          "name": "stderr",
          "output_type": "stream",
          "text": [
            "Epoch 26: 100%|██████████| 3118/3118 [00:28<00:00, 108.90batch/s, train_loss=tensor(0.0230, device='cuda:0', grad_fn=<MseLossBackward0>)]\n"
          ]
        },
        {
          "name": "stdout",
          "output_type": "stream",
          "text": [
            "0.045989487547332356 0.9511020559362845 0.9217722211921349 0.9503491078355314 0.8596491228070176 0.8596491228070176 0.872131479126062 0.9678523561041505 0.9027266028002948\n",
            "Epoch: 26 / 30, ############## the best accuracy in val  95.4621 at Epoch: 19  ##############\n",
            "Performance in Val: Loss: (0.0460); Accuracy (95.11)\n"
          ]
        },
        {
          "name": "stderr",
          "output_type": "stream",
          "text": [
            "Epoch 27: 100%|██████████| 3118/3118 [00:28<00:00, 108.74batch/s, train_loss=tensor(0.0253, device='cuda:0', grad_fn=<MseLossBackward0>)]\n"
          ]
        },
        {
          "name": "stdout",
          "output_type": "stream",
          "text": [
            "0.045519232640756545 0.9509168364511946 0.9216464033763321 0.9496124031007752 0.8596491228070176 0.8596491228070176 0.871639360934482 0.969951085564944 0.9023941068139963\n",
            "Epoch: 27 / 30, ############## the best accuracy in val  95.4621 at Epoch: 19  ##############\n",
            "Performance in Val: Loss: (0.0455); Accuracy (95.09)\n"
          ]
        },
        {
          "name": "stderr",
          "output_type": "stream",
          "text": [
            "Epoch 28: 100%|██████████| 3118/3118 [00:28<00:00, 108.76batch/s, train_loss=tensor(0.0437, device='cuda:0', grad_fn=<MseLossBackward0>)]\n"
          ]
        },
        {
          "name": "stdout",
          "output_type": "stream",
          "text": [
            "0.0454034915027903 0.9514724949064641 0.9233742130868188 0.947652040030793 0.863859649122807 0.863859649122807 0.8731306982450284 0.9682321051748646 0.9038179148311307\n",
            "Epoch: 28 / 30, ############## the best accuracy in val  95.4621 at Epoch: 19  ##############\n",
            "Performance in Val: Loss: (0.0454); Accuracy (95.15)\n"
          ]
        },
        {
          "name": "stderr",
          "output_type": "stream",
          "text": [
            "Epoch 29: 100%|██████████| 3118/3118 [00:28<00:00, 108.72batch/s, train_loss=tensor(0.0293, device='cuda:0', grad_fn=<MseLossBackward0>)]\n"
          ]
        },
        {
          "name": "stdout",
          "output_type": "stream",
          "text": [
            "0.04616451809753129 0.9518429338766439 0.9227256112097052 0.951900698215671 0.8610526315789474 0.8610526315789474 0.8741028783895258 0.9671004511782728 0.9042004421518054\n",
            "Epoch: 29 / 30, ############## the best accuracy in val  95.4621 at Epoch: 19  ##############\n",
            "Performance in Val: Loss: (0.0462); Accuracy (95.18)\n"
          ]
        }
      ],
      "source": [
        "initial_epoch = 0\n",
        "best_epoch = -1\n",
        "best_accuracy = 0.5\n",
        "for epoch in range(initial_epoch, 30):\n",
        "    torch.cuda.empty_cache()\n",
        "    model.train()\n",
        "    with tqdm(train_loader, desc='Processing', unit=\"batch\") as tepoch:\n",
        "        for ESP_train_df_enzy,ESP_train_df_smiles, y_train in tepoch:\n",
        "            model.train()\n",
        "            tepoch.set_description(f\"Epoch {epoch}\")\n",
        "            ESP_train_df_enzy = ESP_train_df_enzy.to(device)\n",
        "            ESP_train_df_smiles = ESP_train_df_smiles.to(device)\n",
        "            y_train = y_train.squeeze(1).to(device)\n",
        "            refined_enzy_embed, refined_smiles_embed = model(ESP_train_df_enzy,ESP_train_df_smiles)\n",
        "            cosine_sim = torch.nn.functional.cosine_similarity(refined_enzy_embed, refined_smiles_embed, dim=1)\n",
        "            loss = loss_fn(cosine_sim, y_train)\n",
        "            loss.backward()\n",
        "            optimizer.step()\n",
        "            optimizer.zero_grad(set_to_none=True) #\n",
        "            tepoch.set_postfix(train_loss=loss)\n",
        "            # tepoch.set_postfix(val_loss=loss_sum_val, val_accuracy=100. * acc_val, balanced_val_accuracy=100. * bacc_val)\n",
        "        loss_sum_val,acc_val, bacc_val = run_validation(model,val_loader,loss_fn, device)\n",
        "        print('Epoch: %d / %d, ############## the best accuracy in val  %.4f at Epoch: %d  ##############'  % (epoch, 30,100 * best_accuracy,best_epoch))\n",
        "        # print('Performance in Train: Loss: (%.4f); Accuracy (%.2f)' % (loss_sum, 100 * acc))\n",
        "        print('Performance in Val: Loss: (%.4f); Accuracy (%.2f)' % (loss_sum_val, 100 * acc_val))\n",
        "        # checkpoint(model, f\"epoch-{epoch}.pth\")\n",
        "        if acc_val > best_accuracy: # compare the performance updates at the val set\n",
        "            best_accuracy = acc_val\n",
        "            best_epoch = epoch\n",
        "            torch.save(model, \"best_model.pt\")\n",
        "\n"
      ]
    },
    {
      "cell_type": "code",
      "execution_count": null,
      "metadata": {
        "colab": {
          "base_uri": "https://localhost:8080/"
        },
        "id": "20d-yM1XHtXg",
        "outputId": "2e34d605-47ce-46ff-c178-6f02a411755b"
      },
      "outputs": [
        {
          "name": "stdout",
          "output_type": "stream",
          "text": [
            "0.045488545475128116 0.9546212261529913 0.9264133534641839 0.9573643410852714 0.8666666666666667 0.8666666666666667 0.881493734871767 0.9677255670631031 0.9097605893186005\n"
          ]
        },
        {
          "data": {
            "text/plain": [
              "(0.045488545475128116, 0.9546212261529913, 0.9264133534641839)"
            ]
          },
          "execution_count": 59,
          "metadata": {},
          "output_type": "execute_result"
        }
      ],
      "source": [
        "import torch\n",
        "# Specify the file path where the entire model is saved\n",
        "load_path = 'best_model.pt'\n",
        "\n",
        "# Load the entire model\n",
        "model_test = torch.load(load_path)\n",
        "# model_test.to('cuda')\n",
        "# rename the baseline model\n",
        "torch.save(model_test, 'best_model_esm2_2560_fine_tuned.pt')\n",
        "run_validation(model_test,val_loader,loss_fn, device)"
      ]
    },
    {
      "cell_type": "code",
      "execution_count": null,
      "metadata": {
        "colab": {
          "base_uri": "https://localhost:8080/"
        },
        "id": "KsbPHa6xHrnU",
        "outputId": "9897531f-7c10-4e51-9511-ec5a37ede784"
      },
      "outputs": [
        {
          "name": "stdout",
          "output_type": "stream",
          "text": [
            "0.045488545475128116 0.9546212261529913 0.9264133534641839 0.9573643410852714 0.8666666666666667 0.8666666666666667 0.881493734871767 0.9677255670631031 0.9097605893186005\n",
            "0.05042431509977737 0.9469651442307693 0.9140606225486863 0.9487836107554417 0.8444444444444444 0.8444444444444444 0.8610033733613652 0.9655097279408644 0.8935785348206211\n"
          ]
        },
        {
          "data": {
            "text/plain": [
              "(0.05042431509977737, 0.9469651442307693, 0.9140606225486863)"
            ]
          },
          "execution_count": 60,
          "metadata": {},
          "output_type": "execute_result"
        }
      ],
      "source": [
        "run_validation(model_test,val_loader,loss_fn, device)\n",
        "run_validation(model_test,test_loader,loss_fn, device)"
      ]
    },
    {
      "cell_type": "markdown",
      "metadata": {
        "id": "W3wzb85TDrSx"
      },
      "source": [
        "## esm 1280 dimension"
      ]
    },
    {
      "cell_type": "code",
      "execution_count": null,
      "metadata": {
        "id": "o_eaxMvyDq_z"
      },
      "outputs": [],
      "source": [
        "import os\n",
        "os.chdir('/content/drive/MyDrive/EC_number_kroll/esm2_1280_phylo')"
      ]
    },
    {
      "cell_type": "markdown",
      "metadata": {
        "id": "Kb_LgmlRDpwy"
      },
      "source": [
        "### pretrain"
      ]
    },
    {
      "cell_type": "code",
      "execution_count": null,
      "metadata": {
        "id": "MAcWakOKDpwy"
      },
      "outputs": [],
      "source": [
        "def get_ds():\n",
        "    # Load the saved embeddings_results\n",
        "    ESP_train_df_enzy = torch.load('ESP_train_df_enzy_phylo.pt')\n",
        "    ESP_val_df_enzy = torch.load('ESP_val_df_enzy.pt')\n",
        "    ESP_test_df_enzy = torch.load('ESP_test_df_enzy.pt')\n",
        "    print(ESP_train_df_enzy.shape, ESP_val_df_enzy.shape, ESP_test_df_enzy.shape)\n",
        "    # Load the saved embeddings_results\n",
        "    ESP_train_df_smiles = torch.load('ESP_train_df_smiles_phylo.pt')\n",
        "    ESP_val_df_smiles = torch.load('ESP_val_df_smiles.pt')\n",
        "    ESP_test_df_smiles = torch.load('ESP_test_df_smiles.pt')\n",
        "    print(ESP_train_df_smiles.shape, ESP_val_df_smiles.shape, ESP_test_df_smiles.shape)\n",
        "\n",
        "    y_train = torch.load('ESP_train_df_label_phylo.pt')\n",
        "    y_val = torch.load('ESP_val_df_label.pt')\n",
        "    y_test = torch.load('ESP_test_df_label.pt')\n",
        "    print(y_train.shape,y_val.shape, y_test.shape)\n",
        "\n",
        "\n",
        "    train_tensor_dataset = TensorDataset(ESP_train_df_enzy,ESP_train_df_smiles, y_train)\n",
        "    val_tensor_dataset = TensorDataset(ESP_val_df_enzy,ESP_val_df_smiles, y_val)\n",
        "    test_tensor_dataset = TensorDataset(ESP_test_df_enzy, ESP_test_df_smiles, y_test)\n",
        "\n",
        "    # Create TensorDataset and DataLoaders\n",
        "    batch_size = 512\n",
        "    train_loader = DataLoader(train_tensor_dataset, batch_size=batch_size, shuffle=True)\n",
        "    val_loader = DataLoader(val_tensor_dataset, batch_size=batch_size, shuffle=False)\n",
        "    test_loader = DataLoader(test_tensor_dataset, batch_size=batch_size, shuffle=False)\n",
        "    print(len(train_loader))\n",
        "    return train_loader,  val_loader, test_loader"
      ]
    },
    {
      "cell_type": "code",
      "execution_count": null,
      "metadata": {
        "id": "BEWIN5NgDpwy"
      },
      "outputs": [],
      "source": [
        "import torch\n",
        "import torch.nn as nn\n",
        "\n",
        "class Contrastive_learning_layer(nn.Module):\n",
        "    def __init__(self):\n",
        "        super().__init__()\n",
        "        self.enzy_refine_layer_1 = nn.Linear(1280, 1280) # W1 and b\n",
        "        self.smiles_refine_layer_1 = nn.Linear(768, 768) # W1 and b\n",
        "        self.enzy_refine_layer_2 = nn.Linear(1280, 128) # W1 and b\n",
        "        self.smiles_refine_layer_2 = nn.Linear(768, 128) # W1 and b\n",
        "\n",
        "        self.relu = nn.ReLU()\n",
        "        self.batch_norm_enzy = nn.BatchNorm1d(1280)\n",
        "        self.batch_norm_smiles = nn.BatchNorm1d(768)\n",
        "        self.batch_norm_shared = nn.BatchNorm1d(128)\n",
        "\n",
        "    def forward(self, enzy_embed, smiles_embed):\n",
        "        refined_enzy_embed = self.enzy_refine_layer_1(enzy_embed)\n",
        "        refined_smiles_embed = self.smiles_refine_layer_1(smiles_embed)\n",
        "\n",
        "        refined_enzy_embed = self.batch_norm_enzy(refined_enzy_embed)\n",
        "        refined_smiles_embed = self.batch_norm_smiles(refined_smiles_embed)\n",
        "\n",
        "        refined_enzy_embed = self.relu(refined_enzy_embed)\n",
        "        refined_smiles_embed = self.relu(refined_smiles_embed)\n",
        "\n",
        "        refined_enzy_embed = self.enzy_refine_layer_2(refined_enzy_embed)\n",
        "        refined_smiles_embed = self.smiles_refine_layer_2(refined_smiles_embed)\n",
        "\n",
        "        refined_enzy_embed = self.batch_norm_shared(refined_enzy_embed)\n",
        "        refined_smiles_embed = self.batch_norm_shared(refined_smiles_embed)\n",
        "        refined_enzy_embed = torch.nn.functional.normalize(refined_enzy_embed, dim=1)\n",
        "        refined_smiles_embed = torch.nn.functional.normalize(refined_smiles_embed, dim=1)\n",
        "\n",
        "        return refined_enzy_embed, refined_smiles_embed\n"
      ]
    },
    {
      "cell_type": "code",
      "execution_count": null,
      "metadata": {
        "colab": {
          "base_uri": "https://localhost:8080/"
        },
        "id": "_PrqALXzDpwy",
        "outputId": "168efca7-c1ce-40db-de95-7e994e8c06d3"
      },
      "outputs": [
        {
          "name": "stdout",
          "output_type": "stream",
          "text": [
            "torch.Size([765592, 1280]) torch.Size([5422, 1280]) torch.Size([13336, 1280])\n",
            "torch.Size([765592, 768]) torch.Size([5422, 768]) torch.Size([13336, 768])\n",
            "torch.Size([765592, 1]) torch.Size([5422, 1]) torch.Size([13336, 1])\n",
            "1496\n"
          ]
        }
      ],
      "source": [
        "# design the model, optimizer and loss function\n",
        "model = Contrastive_learning_layer().to(device)\n",
        "train_loader,  val_loader, test_loader = get_ds()\n",
        "optimizer = torch.optim.Adam(model.parameters(),lr= 1e-03)\n",
        "loss_fn = nn.MSELoss().to(device)"
      ]
    },
    {
      "cell_type": "code",
      "execution_count": null,
      "metadata": {
        "colab": {
          "background_save": true,
          "base_uri": "https://localhost:8080/"
        },
        "id": "yM8WGKhcDpwy",
        "outputId": "8c785b85-ab5d-4f86-cd60-65618ba8e50d"
      },
      "outputs": [
        {
          "name": "stderr",
          "output_type": "stream",
          "text": [
            "Epoch 0: 100%|██████████| 1496/1496 [00:21<00:00, 70.45batch/s, train_loss=tensor(0.0316, device='cuda:0', grad_fn=<MseLossBackward0>)]\n"
          ]
        },
        {
          "name": "stdout",
          "output_type": "stream",
          "text": [
            "0.0837222444401546 0.900036886757654 0.8357238447583233 0.89937106918239 0.6995108315863033 0.6995108315863033 0.7327182947777764 0.937650681888897 0.7869496855345911\n",
            "Epoch: 0 / 500, ############## the best accuracy in val  50.0000 at Epoch: -1  ##############\n",
            "Performance in Val: Loss: (0.0837); Accuracy (90.00)\n"
          ]
        },
        {
          "name": "stderr",
          "output_type": "stream",
          "text": [
            "Epoch 1: 100%|██████████| 1496/1496 [00:21<00:00, 70.98batch/s, train_loss=tensor(0.0300, device='cuda:0', grad_fn=<MseLossBackward0>)]\n"
          ]
        },
        {
          "name": "stdout",
          "output_type": "stream",
          "text": [
            "0.07062629322436723 0.9192180007377352 0.8687002078926361 0.9182813816343723 0.7617051013277428 0.7617051013277428 0.7859808993933513 0.9518083227443439 0.8326967150496563\n",
            "Epoch: 1 / 500, ############## the best accuracy in val  90.0037 at Epoch: 0  ##############\n",
            "Performance in Val: Loss: (0.0706); Accuracy (91.92)\n"
          ]
        },
        {
          "name": "stderr",
          "output_type": "stream",
          "text": [
            "Epoch 2: 100%|██████████| 1496/1496 [00:21<00:00, 70.08batch/s, train_loss=tensor(0.0277, device='cuda:0', grad_fn=<MseLossBackward0>)]\n"
          ]
        },
        {
          "name": "stdout",
          "output_type": "stream",
          "text": [
            "0.06722111170264808 0.9241977130210255 0.8776859219056994 0.9214876033057852 0.7791754018169113 0.7791754018169113 0.7996217655042438 0.9561071285304585 0.8443771298750473\n",
            "Epoch: 2 / 500, ############## the best accuracy in val  91.9218 at Epoch: 1  ##############\n",
            "Performance in Val: Loss: (0.0672); Accuracy (92.42)\n"
          ]
        },
        {
          "name": "stderr",
          "output_type": "stream",
          "text": [
            "Epoch 3: 100%|██████████| 1496/1496 [00:21<00:00, 70.71batch/s, train_loss=tensor(0.0190, device='cuda:0', grad_fn=<MseLossBackward0>)]\n"
          ]
        },
        {
          "name": "stdout",
          "output_type": "stream",
          "text": [
            "0.06394630535082384 0.9273330874216157 0.8820569551932099 0.9274525968672712 0.7861635220125787 0.7861635220125787 0.8081629256597203 0.9542244858758903 0.8509833585476549\n",
            "Epoch: 3 / 500, ############## the best accuracy in val  92.4198 at Epoch: 2  ##############\n",
            "Performance in Val: Loss: (0.0639); Accuracy (92.73)\n"
          ]
        },
        {
          "name": "stderr",
          "output_type": "stream",
          "text": [
            "Epoch 4: 100%|██████████| 1496/1496 [00:21<00:00, 70.78batch/s, train_loss=tensor(0.0219, device='cuda:0', grad_fn=<MseLossBackward0>)]\n"
          ]
        },
        {
          "name": "stdout",
          "output_type": "stream",
          "text": [
            "0.06237692707641558 0.9260420509037256 0.8791628648736387 0.9284525790349417 0.779874213836478 0.779874213836478 0.8046518482310874 0.9555350867194025 0.8477022407899735\n",
            "Epoch: 4 / 500, ############## the best accuracy in val  92.7333 at Epoch: 3  ##############\n",
            "Performance in Val: Loss: (0.0624); Accuracy (92.60)\n"
          ]
        },
        {
          "name": "stderr",
          "output_type": "stream",
          "text": [
            "Epoch 5: 100%|██████████| 1496/1496 [00:20<00:00, 71.90batch/s, train_loss=tensor(0.0239, device='cuda:0', grad_fn=<MseLossBackward0>)]\n"
          ]
        },
        {
          "name": "stdout",
          "output_type": "stream",
          "text": [
            "0.059472705660895867 0.933788270011066 0.8915966760291019 0.9379084967320261 0.8022361984626135 0.8022361984626135 0.8256913732586695 0.9574392663016595 0.8647834274952919\n",
            "Epoch: 5 / 500, ############## the best accuracy in val  92.7333 at Epoch: 3  ##############\n",
            "Performance in Val: Loss: (0.0595); Accuracy (93.38)\n"
          ]
        },
        {
          "name": "stderr",
          "output_type": "stream",
          "text": [
            "Epoch 6: 100%|██████████| 1496/1496 [00:21<00:00, 70.02batch/s, train_loss=tensor(0.0175, device='cuda:0', grad_fn=<MseLossBackward0>)]\n"
          ]
        },
        {
          "name": "stdout",
          "output_type": "stream",
          "text": [
            "0.05749347856776281 0.9361859092585761 0.8954665817796541 0.9406986190089358 0.8092243186582809 0.8092243186582809 0.8321710622163752 0.9614995900104376 0.870022539444027\n",
            "Epoch: 6 / 500, ############## the best accuracy in val  93.3788 at Epoch: 5  ##############\n",
            "Performance in Val: Loss: (0.0575); Accuracy (93.62)\n"
          ]
        },
        {
          "name": "stderr",
          "output_type": "stream",
          "text": [
            "Epoch 7: 100%|██████████| 1496/1496 [00:21<00:00, 70.56batch/s, train_loss=tensor(0.0156, device='cuda:0', grad_fn=<MseLossBackward0>)]\n"
          ]
        },
        {
          "name": "stdout",
          "output_type": "stream",
          "text": [
            "0.05888736756010489 0.932681667281446 0.8921897294769277 0.92914653784219 0.806429070580014 0.806429070580014 0.822693287739539 0.9590174153200396 0.8634493078937523\n",
            "Epoch: 7 / 500, ############## the best accuracy in val  93.6186 at Epoch: 6  ##############\n",
            "Performance in Val: Loss: (0.0589); Accuracy (93.27)\n"
          ]
        },
        {
          "name": "stderr",
          "output_type": "stream",
          "text": [
            "Epoch 8: 100%|██████████| 1496/1496 [00:21<00:00, 70.33batch/s, train_loss=tensor(0.0183, device='cuda:0', grad_fn=<MseLossBackward0>)]\n"
          ]
        },
        {
          "name": "stdout",
          "output_type": "stream",
          "text": [
            "0.056100034239617264 0.9371080781999263 0.8967653635774833 0.9423701298701299 0.8113207547169812 0.8113207547169812 0.8346647327757467 0.9631871746369933 0.8719489297784454\n",
            "Epoch: 8 / 500, ############## the best accuracy in val  93.6186 at Epoch: 6  ##############\n",
            "Performance in Val: Loss: (0.0561); Accuracy (93.71)\n"
          ]
        },
        {
          "name": "stderr",
          "output_type": "stream",
          "text": [
            "Epoch 9: 100%|██████████| 1496/1496 [00:20<00:00, 71.63batch/s, train_loss=tensor(0.0181, device='cuda:0', grad_fn=<MseLossBackward0>)]\n"
          ]
        },
        {
          "name": "stdout",
          "output_type": "stream",
          "text": [
            "0.05634478869085962 0.9358170416820362 0.8961125145133504 0.9363416599516519 0.8120195667365478 0.8120195667365478 0.8311573798612699 0.9600266742728791 0.8697604790419161\n",
            "Epoch: 9 / 500, ############## the best accuracy in val  93.7108 at Epoch: 8  ##############\n",
            "Performance in Val: Loss: (0.0563); Accuracy (93.58)\n"
          ]
        },
        {
          "name": "stderr",
          "output_type": "stream",
          "text": [
            "Epoch 10: 100%|██████████| 1496/1496 [00:21<00:00, 69.75batch/s, train_loss=tensor(0.0120, device='cuda:0', grad_fn=<MseLossBackward0>)]\n"
          ]
        },
        {
          "name": "stdout",
          "output_type": "stream",
          "text": [
            "0.05527060936120423 0.9372925119881962 0.8998042590937927 0.933969769291965 0.8204053109713487 0.8204053109713487 0.8351470493380454 0.9606734824914408 0.8735119047619047\n",
            "Epoch: 10 / 500, ############## the best accuracy in val  93.7108 at Epoch: 8  ##############\n",
            "Performance in Val: Loss: (0.0553); Accuracy (93.73)\n"
          ]
        },
        {
          "name": "stderr",
          "output_type": "stream",
          "text": [
            "Epoch 11: 100%|██████████| 1496/1496 [00:21<00:00, 70.60batch/s, train_loss=tensor(0.0190, device='cuda:0', grad_fn=<MseLossBackward0>)]\n"
          ]
        },
        {
          "name": "stdout",
          "output_type": "stream",
          "text": [
            "0.055193294432352887 0.9369236444116562 0.8982089505720505 0.9366479550922213 0.8162124388539483 0.8162124388539483 0.834142457679053 0.961204901804742 0.8722927557879016\n",
            "Epoch: 11 / 500, ############## the best accuracy in val  93.7293 at Epoch: 10  ##############\n",
            "Performance in Val: Loss: (0.0552); Accuracy (93.69)\n"
          ]
        },
        {
          "name": "stderr",
          "output_type": "stream",
          "text": [
            "Epoch 12: 100%|██████████| 1496/1496 [00:21<00:00, 70.66batch/s, train_loss=tensor(0.0149, device='cuda:0', grad_fn=<MseLossBackward0>)]\n"
          ]
        },
        {
          "name": "stdout",
          "output_type": "stream",
          "text": [
            "0.05502738575027748 0.9395057174474364 0.9022041382068424 0.9401436552274541 0.8232005590496156 0.8232005590496156 0.8410963107074251 0.9612829950547361 0.8777943368107302\n",
            "Epoch: 12 / 500, ############## the best accuracy in val  93.7293 at Epoch: 10  ##############\n",
            "Performance in Val: Loss: (0.0550); Accuracy (93.95)\n"
          ]
        },
        {
          "name": "stderr",
          "output_type": "stream",
          "text": [
            "Epoch 13: 100%|██████████| 1496/1496 [00:21<00:00, 70.70batch/s, train_loss=tensor(0.0136, device='cuda:0', grad_fn=<MseLossBackward0>)]\n"
          ]
        },
        {
          "name": "stdout",
          "output_type": "stream",
          "text": [
            "0.05404982893643054 0.9393212836591663 0.9009582356948838 0.9429260450160771 0.8197064989517819 0.8197064989517819 0.8406116542259485 0.9639221441815014 0.8770093457943925\n",
            "Epoch: 13 / 500, ############## the best accuracy in val  93.9506 at Epoch: 12  ##############\n",
            "Performance in Val: Loss: (0.0540); Accuracy (93.93)\n"
          ]
        },
        {
          "name": "stderr",
          "output_type": "stream",
          "text": [
            "Epoch 14: 100%|██████████| 1496/1496 [00:21<00:00, 70.56batch/s, train_loss=tensor(0.0149, device='cuda:0', grad_fn=<MseLossBackward0>)]\n"
          ]
        },
        {
          "name": "stdout",
          "output_type": "stream",
          "text": [
            "0.05328830958090045 0.9406123201770564 0.902507581261192 0.9460981496379727 0.8218029350104822 0.8218029350104822 0.8440982333058806 0.9611266334577749 0.8795811518324608\n",
            "Epoch: 14 / 500, ############## the best accuracy in val  93.9506 at Epoch: 12  ##############\n",
            "Performance in Val: Loss: (0.0533); Accuracy (94.06)\n"
          ]
        },
        {
          "name": "stderr",
          "output_type": "stream",
          "text": [
            "Epoch 15: 100%|██████████| 1496/1496 [00:21<00:00, 71.11batch/s, train_loss=tensor(0.0097, device='cuda:0', grad_fn=<MseLossBackward0>)]\n"
          ]
        },
        {
          "name": "stdout",
          "output_type": "stream",
          "text": [
            "0.05309401630339297 0.9413500553301365 0.9041293294258693 0.9455564451561249 0.8252969951083159 0.8252969951083159 0.8460687123485244 0.9618368267805916 0.8813432835820896\n",
            "Epoch: 15 / 500, ############## the best accuracy in val  94.0612 at Epoch: 14  ##############\n",
            "Performance in Val: Loss: (0.0531); Accuracy (94.14)\n"
          ]
        },
        {
          "name": "stderr",
          "output_type": "stream",
          "text": [
            "Epoch 16: 100%|██████████| 1496/1496 [00:21<00:00, 70.78batch/s, train_loss=tensor(0.0136, device='cuda:0', grad_fn=<MseLossBackward0>)]\n"
          ]
        },
        {
          "name": "stdout",
          "output_type": "stream",
          "text": [
            "0.05301602633500641 0.9395057174474364 0.9033247588345615 0.936658749010293 0.8266946191474493 0.8266946191474493 0.841103468246228 0.9623992382581283 0.8782479584261321\n",
            "Epoch: 16 / 500, ############## the best accuracy in val  94.1350 at Epoch: 15  ##############\n",
            "Performance in Val: Loss: (0.0530); Accuracy (93.95)\n"
          ]
        },
        {
          "name": "stderr",
          "output_type": "stream",
          "text": [
            "Epoch 17: 100%|██████████| 1496/1496 [00:20<00:00, 71.40batch/s, train_loss=tensor(0.0251, device='cuda:0', grad_fn=<MseLossBackward0>)]\n"
          ]
        },
        {
          "name": "stdout",
          "output_type": "stream",
          "text": [
            "0.0533820680257949 0.9433788270011066 0.9073004231568549 0.9481658692185008 0.8308874912648497 0.8308874912648497 0.8515161991175231 0.960045759842945 0.8856610800744878\n",
            "Epoch: 17 / 500, ############## the best accuracy in val  94.1350 at Epoch: 15  ##############\n",
            "Performance in Val: Loss: (0.0534); Accuracy (94.34)\n"
          ]
        },
        {
          "name": "stderr",
          "output_type": "stream",
          "text": [
            "Epoch 18: 100%|██████████| 1496/1496 [00:21<00:00, 70.05batch/s, train_loss=tensor(0.0097, device='cuda:0', grad_fn=<MseLossBackward0>)]\n"
          ]
        },
        {
          "name": "stdout",
          "output_type": "stream",
          "text": [
            "0.053003108467568054 0.9393212836591663 0.9016306080715152 0.9408 0.8218029350104822 0.8218029350104822 0.8406018139106852 0.9600075887028132 0.8772845953002611\n",
            "Epoch: 18 / 500, ############## the best accuracy in val  94.3379 at Epoch: 17  ##############\n",
            "Performance in Val: Loss: (0.0530); Accuracy (93.93)\n"
          ]
        },
        {
          "name": "stderr",
          "output_type": "stream",
          "text": [
            "Epoch 19: 100%|██████████| 1496/1496 [00:21<00:00, 70.03batch/s, train_loss=tensor(0.0106, device='cuda:0', grad_fn=<MseLossBackward0>)]\n"
          ]
        },
        {
          "name": "stdout",
          "output_type": "stream",
          "text": [
            "0.05277225671505386 0.9402434526005164 0.9042741346226073 0.9382422802850356 0.8280922431865828 0.8280922431865828 0.8430833200914302 0.9607303890076921 0.8797327394209354\n",
            "Epoch: 19 / 500, ############## the best accuracy in val  94.3379 at Epoch: 17  ##############\n",
            "Performance in Val: Loss: (0.0528); Accuracy (94.02)\n"
          ]
        },
        {
          "name": "stderr",
          "output_type": "stream",
          "text": [
            "Epoch 20: 100%|██████████| 1496/1496 [00:21<00:00, 70.48batch/s, train_loss=tensor(0.0117, device='cuda:0', grad_fn=<MseLossBackward0>)]\n"
          ]
        },
        {
          "name": "stdout",
          "output_type": "stream",
          "text": [
            "0.052274131385440174 0.9404278863887864 0.9030546717535839 0.9432 0.8238993710691824 0.8238993710691824 0.8435823400215292 0.9599471802471004 0.8795225662066393\n",
            "Epoch: 20 / 500, ############## the best accuracy in val  94.3379 at Epoch: 17  ##############\n",
            "Performance in Val: Loss: (0.0523); Accuracy (94.04)\n"
          ]
        },
        {
          "name": "stderr",
          "output_type": "stream",
          "text": [
            "Epoch 21: 100%|██████████| 1496/1496 [00:21<00:00, 70.71batch/s, train_loss=tensor(0.0173, device='cuda:0', grad_fn=<MseLossBackward0>)]\n"
          ]
        },
        {
          "name": "stdout",
          "output_type": "stream",
          "text": [
            "0.05220970054241744 0.9419033566949465 0.9042810509530441 0.9485530546623794 0.8245981830887491 0.8245981830887491 0.8475779588985752 0.9598261882387013 0.8822429906542055\n",
            "Epoch: 21 / 500, ############## the best accuracy in val  94.3379 at Epoch: 17  ##############\n",
            "Performance in Val: Loss: (0.0522); Accuracy (94.19)\n"
          ]
        },
        {
          "name": "stderr",
          "output_type": "stream",
          "text": [
            "Epoch 22: 100%|██████████| 1496/1496 [00:21<00:00, 70.34batch/s, train_loss=tensor(0.0090, device='cuda:0', grad_fn=<MseLossBackward0>)]\n"
          ]
        },
        {
          "name": "stdout",
          "output_type": "stream",
          "text": [
            "0.051870520395988766 0.9415344891184065 0.9042546113101089 0.9463141025641025 0.8252969951083159 0.8252969951083159 0.8465685764502844 0.9620779353125245 0.88167226577081\n",
            "Epoch: 22 / 500, ############## the best accuracy in val  94.3379 at Epoch: 17  ##############\n",
            "Performance in Val: Loss: (0.0519); Accuracy (94.15)\n"
          ]
        },
        {
          "name": "stderr",
          "output_type": "stream",
          "text": [
            "Epoch 23: 100%|██████████| 1496/1496 [00:21<00:00, 70.61batch/s, train_loss=tensor(0.0138, device='cuda:0', grad_fn=<MseLossBackward0>)]\n"
          ]
        },
        {
          "name": "stdout",
          "output_type": "stream",
          "text": [
            "0.05173048165372827 0.9417189229066765 0.9055005138220675 0.94351630867144 0.8287910552061496 0.8287910552061496 0.8470458978880321 0.9617834222038021 0.8824404761904763\n",
            "Epoch: 23 / 500, ############## the best accuracy in val  94.3379 at Epoch: 17  ##############\n",
            "Performance in Val: Loss: (0.0517); Accuracy (94.17)\n"
          ]
        },
        {
          "name": "stderr",
          "output_type": "stream",
          "text": [
            "Epoch 24: 100%|██████████| 1496/1496 [00:21<00:00, 70.45batch/s, train_loss=tensor(0.0115, device='cuda:0', grad_fn=<MseLossBackward0>)]\n"
          ]
        },
        {
          "name": "stdout",
          "output_type": "stream",
          "text": [
            "0.05065898182378574 0.9441165621541866 0.9086980471959882 0.9483306836248012 0.8336827393431167 0.8336827393431167 0.8534882726513814 0.960719357898388 0.8873187058386016\n",
            "Epoch: 24 / 500, ############## the best accuracy in val  94.3379 at Epoch: 17  ##############\n",
            "Performance in Val: Loss: (0.0507); Accuracy (94.41)\n"
          ]
        },
        {
          "name": "stderr",
          "output_type": "stream",
          "text": [
            "Epoch 25: 100%|██████████| 1496/1496 [00:21<00:00, 70.89batch/s, train_loss=tensor(0.0138, device='cuda:0', grad_fn=<MseLossBackward0>)]\n"
          ]
        },
        {
          "name": "stdout",
          "output_type": "stream",
          "text": [
            "0.05224557373334061 0.9420877904832166 0.9044063328372836 0.9493161705551086 0.8245981830887491 0.8245981830887491 0.8480801032767363 0.9576057835230596 0.8825729244577413\n",
            "Epoch: 25 / 500, ############## the best accuracy in val  94.4117 at Epoch: 24  ##############\n",
            "Performance in Val: Loss: (0.0522); Accuracy (94.21)\n"
          ]
        },
        {
          "name": "stderr",
          "output_type": "stream",
          "text": [
            "Epoch 26: 100%|██████████| 1496/1496 [00:21<00:00, 70.26batch/s, train_loss=tensor(0.0127, device='cuda:0', grad_fn=<MseLossBackward0>)]\n"
          ]
        },
        {
          "name": "stdout",
          "output_type": "stream",
          "text": [
            "0.0518716224045916 0.9413500553301365 0.9048017018025007 0.9434262948207172 0.827393431167016 0.827393431167016 0.846056551731415 0.9595348268754943 0.8816083395383469\n",
            "Epoch: 26 / 500, ############## the best accuracy in val  94.4117 at Epoch: 24  ##############\n",
            "Performance in Val: Loss: (0.0519); Accuracy (94.14)\n"
          ]
        },
        {
          "name": "stderr",
          "output_type": "stream",
          "text": [
            "Epoch 27: 100%|██████████| 1496/1496 [00:21<00:00, 69.97batch/s, train_loss=tensor(0.0109, device='cuda:0', grad_fn=<MseLossBackward0>)]\n"
          ]
        },
        {
          "name": "stdout",
          "output_type": "stream",
          "text": [
            "0.05110543509098617 0.9431943932128366 0.9076233895237029 0.9459888800635425 0.8322851153039832 0.8322851153039832 0.8510081159355231 0.9612344931931928 0.8855018587360595\n",
            "Epoch: 27 / 500, ############## the best accuracy in val  94.4117 at Epoch: 24  ##############\n",
            "Performance in Val: Loss: (0.0511); Accuracy (94.32)\n"
          ]
        },
        {
          "name": "stderr",
          "output_type": "stream",
          "text": [
            "Epoch 28: 100%|██████████| 1496/1496 [00:21<00:00, 70.47batch/s, train_loss=tensor(0.0141, device='cuda:0', grad_fn=<MseLossBackward0>)]\n"
          ]
        },
        {
          "name": "stdout",
          "output_type": "stream",
          "text": [
            "0.05132014770060778 0.9433788270011066 0.9081969196590302 0.945324881141046 0.8336827393431167 0.8336827393431167 0.8514988324006788 0.9586498867735423 0.8860007426661715\n",
            "Epoch: 28 / 500, ############## the best accuracy in val  94.4117 at Epoch: 24  ##############\n",
            "Performance in Val: Loss: (0.0513); Accuracy (94.34)\n"
          ]
        },
        {
          "name": "stderr",
          "output_type": "stream",
          "text": [
            "Epoch 29: 100%|██████████| 1496/1496 [00:21<00:00, 70.69batch/s, train_loss=tensor(0.0126, device='cuda:0', grad_fn=<MseLossBackward0>)]\n"
          ]
        },
        {
          "name": "stdout",
          "output_type": "stream",
          "text": [
            "0.051197373900901184 0.9424566580597565 0.9075705102378324 0.941594317284925 0.8336827393431167 0.8336827393431167 0.8490232983374615 0.9600849815649151 0.8843587842846553\n",
            "Epoch: 29 / 500, ############## the best accuracy in val  94.4117 at Epoch: 24  ##############\n",
            "Performance in Val: Loss: (0.0512); Accuracy (94.25)\n"
          ]
        },
        {
          "name": "stderr",
          "output_type": "stream",
          "text": [
            "Epoch 30: 100%|██████████| 1496/1496 [00:21<00:00, 70.19batch/s, train_loss=tensor(0.0145, device='cuda:0', grad_fn=<MseLossBackward0>)]\n"
          ]
        },
        {
          "name": "stdout",
          "output_type": "stream",
          "text": [
            "0.05074708680198951 0.9428255256362966 0.9073728257552238 0.9444885011895321 0.8322851153039832 0.8322851153039832 0.8500144933380247 0.9631302681207419 0.8848439821693909\n",
            "Epoch: 30 / 500, ############## the best accuracy in val  94.4117 at Epoch: 24  ##############\n",
            "Performance in Val: Loss: (0.0507); Accuracy (94.28)\n"
          ]
        },
        {
          "name": "stderr",
          "output_type": "stream",
          "text": [
            "Epoch 31: 100%|██████████| 1496/1496 [00:21<00:00, 69.66batch/s, train_loss=tensor(0.0120, device='cuda:0', grad_fn=<MseLossBackward0>)]\n"
          ]
        },
        {
          "name": "stdout",
          "output_type": "stream",
          "text": [
            "0.0509782348844138 0.9420877904832166 0.9061993258416343 0.9436060365369341 0.8301886792452831 0.8301886792452831 0.8480350535887682 0.9595835038340109 0.883271375464684\n",
            "Epoch: 31 / 500, ############## the best accuracy in val  94.4117 at Epoch: 24  ##############\n",
            "Performance in Val: Loss: (0.0510); Accuracy (94.21)\n"
          ]
        },
        {
          "name": "stderr",
          "output_type": "stream",
          "text": [
            "Epoch 32: 100%|██████████| 1496/1496 [00:20<00:00, 71.28batch/s, train_loss=tensor(0.0102, device='cuda:0', grad_fn=<MseLossBackward0>)]\n"
          ]
        },
        {
          "name": "stdout",
          "output_type": "stream",
          "text": [
            "0.051528549414466725 0.9420877904832166 0.9061993258416343 0.9436060365369341 0.8301886792452831 0.8301886792452831 0.8480350535887682 0.9586400813430498 0.883271375464684\n",
            "Epoch: 32 / 500, ############## the best accuracy in val  94.4117 at Epoch: 24  ##############\n",
            "Performance in Val: Loss: (0.0515); Accuracy (94.21)\n"
          ]
        },
        {
          "name": "stderr",
          "output_type": "stream",
          "text": [
            "Epoch 33: 100%|██████████| 1496/1496 [00:21<00:00, 69.63batch/s, train_loss=tensor(0.0090, device='cuda:0', grad_fn=<MseLossBackward0>)]\n"
          ]
        },
        {
          "name": "stdout",
          "output_type": "stream",
          "text": [
            "0.0510644062676213 0.9443009959424566 0.9094957014568593 0.9469517022961204 0.8357791754018169 0.8357791754018169 0.8539725052400421 0.9593000218345925 0.8878990348923533\n",
            "Epoch: 33 / 500, ############## the best accuracy in val  94.4117 at Epoch: 24  ##############\n",
            "Performance in Val: Loss: (0.0511); Accuracy (94.43)\n"
          ]
        },
        {
          "name": "stderr",
          "output_type": "stream",
          "text": [
            "Epoch 34: 100%|██████████| 1496/1496 [00:21<00:00, 70.52batch/s, train_loss=tensor(0.0118, device='cuda:0', grad_fn=<MseLossBackward0>)]\n"
          ]
        },
        {
          "name": "stdout",
          "output_type": "stream",
          "text": [
            "0.05083779897540808 0.9413500553301365 0.9054740741791323 0.9413164155432197 0.8294898672257163 0.8294898672257163 0.8460526032538391 0.9614003100267006 0.8818722139673106\n",
            "Epoch: 34 / 500, ############## the best accuracy in val  94.4301 at Epoch: 33  ##############\n",
            "Performance in Val: Loss: (0.0508); Accuracy (94.14)\n"
          ]
        },
        {
          "name": "stderr",
          "output_type": "stream",
          "text": [
            "Epoch 35: 100%|██████████| 1496/1496 [00:21<00:00, 70.13batch/s, train_loss=tensor(0.0128, device='cuda:0', grad_fn=<MseLossBackward0>)]\n"
          ]
        },
        {
          "name": "stdout",
          "output_type": "stream",
          "text": [
            "0.05070484107868238 0.9424566580597565 0.905553393107938 0.9479583666933546 0.827393431167016 0.827393431167016 0.8490500741009661 0.9612626838058589 0.8835820895522387\n",
            "Epoch: 35 / 500, ############## the best accuracy in val  94.4301 at Epoch: 33  ##############\n",
            "Performance in Val: Loss: (0.0507); Accuracy (94.25)\n"
          ]
        },
        {
          "name": "stderr",
          "output_type": "stream",
          "text": [
            "Epoch 36: 100%|██████████| 1496/1496 [00:21<00:00, 69.57batch/s, train_loss=tensor(0.0170, device='cuda:0', grad_fn=<MseLossBackward0>)]\n"
          ]
        },
        {
          "name": "stdout",
          "output_type": "stream",
          "text": [
            "0.05108417841521176 0.9422722242714865 0.9063246077258738 0.9443561208267091 0.8301886792452831 0.8301886792452831 0.8485317949596266 0.9610725284930928 0.8835998512458163\n",
            "Epoch: 36 / 500, ############## the best accuracy in val  94.4301 at Epoch: 33  ##############\n",
            "Performance in Val: Loss: (0.0511); Accuracy (94.23)\n"
          ]
        },
        {
          "name": "stderr",
          "output_type": "stream",
          "text": [
            "Epoch 37: 100%|██████████| 1496/1496 [00:21<00:00, 69.68batch/s, train_loss=tensor(0.0093, device='cuda:0', grad_fn=<MseLossBackward0>)]\n"
          ]
        },
        {
          "name": "stdout",
          "output_type": "stream",
          "text": [
            "0.050438676537437874 0.9439321283659167 0.9096933859394679 0.9440504334121356 0.8371767994409504 0.8371767994409504 0.8529780444493205 0.9600618687644684 0.8874074074074073\n",
            "Epoch: 37 / 500, ############## the best accuracy in val  94.4301 at Epoch: 33  ##############\n",
            "Performance in Val: Loss: (0.0504); Accuracy (94.39)\n"
          ]
        },
        {
          "name": "stderr",
          "output_type": "stream",
          "text": [
            "Epoch 38: 100%|██████████| 1496/1496 [00:21<00:00, 70.18batch/s, train_loss=tensor(0.0080, device='cuda:0', grad_fn=<MseLossBackward0>)]\n"
          ]
        },
        {
          "name": "stdout",
          "output_type": "stream",
          "text": [
            "0.05032403843308037 0.9444854297307267 0.9098451074666427 0.946993670886076 0.8364779874213837 0.8364779874213837 0.8544657355760474 0.960719357898388 0.8883116883116884\n",
            "Epoch: 38 / 500, ############## the best accuracy in val  94.4301 at Epoch: 33  ##############\n",
            "Performance in Val: Loss: (0.0503); Accuracy (94.45)\n"
          ]
        },
        {
          "name": "stderr",
          "output_type": "stream",
          "text": [
            "Epoch 39: 100%|██████████| 1496/1496 [00:21<00:00, 69.48batch/s, train_loss=tensor(0.0073, device='cuda:0', grad_fn=<MseLossBackward0>)]\n"
          ]
        },
        {
          "name": "stdout",
          "output_type": "stream",
          "text": [
            "0.0502295269715515 0.9435632607893766 0.9085463256688135 0.9453681710213777 0.8343815513626834 0.8343815513626834 0.8519926533948399 0.9610555440867038 0.88641425389755\n",
            "Epoch: 39 / 500, ############## the best accuracy in val  94.4485 at Epoch: 38  ##############\n",
            "Performance in Val: Loss: (0.0502); Accuracy (94.36)\n"
          ]
        },
        {
          "name": "stderr",
          "output_type": "stream",
          "text": [
            "Epoch 40: 100%|██████████| 1496/1496 [00:21<00:00, 70.93batch/s, train_loss=tensor(0.0120, device='cuda:0', grad_fn=<MseLossBackward0>)]\n"
          ]
        },
        {
          "name": "stdout",
          "output_type": "stream",
          "text": [
            "0.049866986884312195 0.9431943932128366 0.9071751412726152 0.9474103585657371 0.8308874912648497 0.8308874912648497 0.8510171633219464 0.9603991055346228 0.885331347728965\n",
            "Epoch: 40 / 500, ############## the best accuracy in val  94.4485 at Epoch: 38  ##############\n",
            "Performance in Val: Loss: (0.0499); Accuracy (94.32)\n"
          ]
        },
        {
          "name": "stderr",
          "output_type": "stream",
          "text": [
            "Epoch 41: 100%|██████████| 1496/1496 [00:21<00:00, 69.04batch/s, train_loss=tensor(0.0095, device='cuda:0', grad_fn=<MseLossBackward0>)]\n"
          ]
        },
        {
          "name": "stdout",
          "output_type": "stream",
          "text": [
            "0.05057998712767254 0.9426410918480266 0.9074716679965282 0.9430379746835443 0.83298392732355 0.83298392732355 0.8495174693512476 0.9615549206539312 0.8846011131725416\n",
            "Epoch: 41 / 500, ############## the best accuracy in val  94.4485 at Epoch: 38  ##############\n",
            "Performance in Val: Loss: (0.0506); Accuracy (94.26)\n"
          ]
        },
        {
          "name": "stderr",
          "output_type": "stream",
          "text": [
            "Epoch 42: 100%|██████████| 1496/1496 [00:21<00:00, 69.88batch/s, train_loss=tensor(0.0103, device='cuda:0', grad_fn=<MseLossBackward0>)]\n"
          ]
        },
        {
          "name": "stdout",
          "output_type": "stream",
          "text": [
            "0.04991696393963965 0.9435632607893766 0.9087704497943574 0.9446640316205533 0.8350803633822502 0.8350803633822502 0.8519907787380568 0.9609662446304325 0.8864985163204748\n",
            "Epoch: 42 / 500, ############## the best accuracy in val  94.4485 at Epoch: 38  ##############\n",
            "Performance in Val: Loss: (0.0499); Accuracy (94.36)\n"
          ]
        },
        {
          "name": "stderr",
          "output_type": "stream",
          "text": [
            "Epoch 43: 100%|██████████| 1496/1496 [00:21<00:00, 69.68batch/s, train_loss=tensor(0.0107, device='cuda:0', grad_fn=<MseLossBackward0>)]\n"
          ]
        },
        {
          "name": "stdout",
          "output_type": "stream",
          "text": [
            "0.05044228244911541 0.9435632607893766 0.9074257050410943 0.9489225857940942 0.8308874912648497 0.8308874912648497 0.8520157423671336 0.960527451615891 0.8859910581222057\n",
            "Epoch: 43 / 500, ############## the best accuracy in val  94.4485 at Epoch: 38  ##############\n",
            "Performance in Val: Loss: (0.0504); Accuracy (94.36)\n"
          ]
        },
        {
          "name": "stderr",
          "output_type": "stream",
          "text": [
            "Epoch 44: 100%|██████████| 1496/1496 [00:21<00:00, 70.52batch/s, train_loss=tensor(0.0113, device='cuda:0', grad_fn=<MseLossBackward0>)]\n"
          ]
        },
        {
          "name": "stdout",
          "output_type": "stream",
          "text": [
            "0.05021023741838607 0.9444854297307267 0.909396859215555 0.9484126984126984 0.8350803633822502 0.8350803633822502 0.8544740392987025 0.9592135239298905 0.8881456707543663\n",
            "Epoch: 44 / 500, ############## the best accuracy in val  94.4485 at Epoch: 38  ##############\n",
            "Performance in Val: Loss: (0.0502); Accuracy (94.45)\n"
          ]
        },
        {
          "name": "stderr",
          "output_type": "stream",
          "text": [
            "Epoch 45: 100%|██████████| 1496/1496 [00:21<00:00, 69.93batch/s, train_loss=tensor(0.0094, device='cuda:0', grad_fn=<MseLossBackward0>)]\n"
          ]
        },
        {
          "name": "stdout",
          "output_type": "stream",
          "text": [
            "0.05020238806239583 0.9433788270011066 0.9075245472823987 0.947452229299363 0.8315863032844165 0.8315863032844165 0.8515104802683502 0.9601389114326242 0.8857461853368068\n",
            "Epoch: 45 / 500, ############## the best accuracy in val  94.4485 at Epoch: 38  ##############\n",
            "Performance in Val: Loss: (0.0502); Accuracy (94.34)\n"
          ]
        },
        {
          "name": "stderr",
          "output_type": "stream",
          "text": [
            "Epoch 46: 100%|██████████| 1496/1496 [00:21<00:00, 70.11batch/s, train_loss=tensor(0.0094, device='cuda:0', grad_fn=<MseLossBackward0>)]\n"
          ]
        },
        {
          "name": "stdout",
          "output_type": "stream",
          "text": [
            "0.05040168525143103 0.9428255256362966 0.9064763292530486 0.9473264166001596 0.8294898672257163 0.8294898672257163 0.8500303911562775 0.959473718031889 0.8845007451564828\n",
            "Epoch: 46 / 500, ############## the best accuracy in val  94.4485 at Epoch: 38  ##############\n",
            "Performance in Val: Loss: (0.0504); Accuracy (94.28)\n"
          ]
        },
        {
          "name": "stderr",
          "output_type": "stream",
          "text": [
            "Epoch 47: 100%|██████████| 1496/1496 [00:21<00:00, 69.76batch/s, train_loss=tensor(0.0092, device='cuda:0', grad_fn=<MseLossBackward0>)]\n"
          ]
        },
        {
          "name": "stdout",
          "output_type": "stream",
          "text": [
            "0.050677888857370075 0.9435632607893766 0.907873953292182 0.9474940334128878 0.8322851153039832 0.8322851153039832 0.8520037514505265 0.9590011313015431 0.8861607142857143\n",
            "Epoch: 47 / 500, ############## the best accuracy in val  94.4485 at Epoch: 38  ##############\n",
            "Performance in Val: Loss: (0.0507); Accuracy (94.36)\n"
          ]
        },
        {
          "name": "stderr",
          "output_type": "stream",
          "text": [
            "Epoch 48: 100%|██████████| 1496/1496 [00:21<00:00, 70.77batch/s, train_loss=tensor(0.0091, device='cuda:0', grad_fn=<MseLossBackward0>)]\n"
          ]
        },
        {
          "name": "stdout",
          "output_type": "stream",
          "text": [
            "0.05012032753703269 0.9426410918480266 0.9056786749921775 0.9487179487179487 0.827393431167016 0.827393431167016 0.8495507751200695 0.9598088536383662 0.8839119074281448\n",
            "Epoch: 48 / 500, ############## the best accuracy in val  94.4485 at Epoch: 38  ##############\n",
            "Performance in Val: Loss: (0.0501); Accuracy (94.26)\n"
          ]
        },
        {
          "name": "stderr",
          "output_type": "stream",
          "text": [
            "Epoch 49: 100%|██████████| 1496/1496 [00:21<00:00, 69.50batch/s, train_loss=tensor(0.0111, device='cuda:0', grad_fn=<MseLossBackward0>)]\n"
          ]
        },
        {
          "name": "stdout",
          "output_type": "stream",
          "text": [
            "0.05047088988463987 0.9448542973072667 0.9100956712351218 0.9484944532488114 0.8364779874213837 0.8364779874213837 0.8554596284581588 0.9589871235436966 0.8889714073523951\n",
            "Epoch: 49 / 500, ############## the best accuracy in val  94.4485 at Epoch: 38  ##############\n",
            "Performance in Val: Loss: (0.0505); Accuracy (94.49)\n"
          ]
        },
        {
          "name": "stderr",
          "output_type": "stream",
          "text": [
            "Epoch 50: 100%|██████████| 1496/1496 [00:21<00:00, 70.56batch/s, train_loss=tensor(0.0070, device='cuda:0', grad_fn=<MseLossBackward0>)]\n"
          ]
        },
        {
          "name": "stdout",
          "output_type": "stream",
          "text": [
            "0.04988887982273644 0.9428255256362966 0.9067004533785924 0.9466135458167331 0.8301886792452831 0.8301886792452831 0.8500250410038401 0.9592790101978227 0.8845867460908413\n",
            "Epoch: 50 / 500, ############## the best accuracy in val  94.4854 at Epoch: 49  ##############\n",
            "Performance in Val: Loss: (0.0499); Accuracy (94.28)\n"
          ]
        },
        {
          "name": "stderr",
          "output_type": "stream",
          "text": [
            "Epoch 51: 100%|██████████| 1496/1496 [00:21<00:00, 69.56batch/s, train_loss=tensor(0.0085, device='cuda:0', grad_fn=<MseLossBackward0>)]\n"
          ]
        },
        {
          "name": "stdout",
          "output_type": "stream",
          "text": [
            "0.050114448605613274 0.9422722242714865 0.9049798629726108 0.9486356340288925 0.8259958071278826 0.8259958071278826 0.8485644617618575 0.9594341461159727 0.8830780724691819\n",
            "Epoch: 51 / 500, ############## the best accuracy in val  94.4854 at Epoch: 49  ##############\n",
            "Performance in Val: Loss: (0.0501); Accuracy (94.23)\n"
          ]
        },
        {
          "name": "stderr",
          "output_type": "stream",
          "text": [
            "Epoch 52: 100%|██████████| 1496/1496 [00:21<00:00, 70.28batch/s, train_loss=tensor(0.0100, device='cuda:0', grad_fn=<MseLossBackward0>)]\n"
          ]
        },
        {
          "name": "stdout",
          "output_type": "stream",
          "text": [
            "0.050374456511979755 0.9413500553301365 0.903232832923694 0.9484286865431104 0.822501747030049 0.822501747030049 0.8460978449485442 0.9619460872917943 0.8809880239520957\n",
            "Epoch: 52 / 500, ############## the best accuracy in val  94.4854 at Epoch: 49  ##############\n",
            "Performance in Val: Loss: (0.0504); Accuracy (94.14)\n"
          ]
        },
        {
          "name": "stderr",
          "output_type": "stream",
          "text": [
            "Epoch 53: 100%|██████████| 1496/1496 [00:21<00:00, 68.47batch/s, train_loss=tensor(0.0114, device='cuda:0', grad_fn=<MseLossBackward0>)]\n"
          ]
        },
        {
          "name": "stdout",
          "output_type": "stream",
          "text": [
            "0.05019073831764134 0.9407967539653265 0.9044258561497821 0.9411764705882353 0.827393431167016 0.827393431167016 0.8445666128062227 0.9606563229880788 0.8806247675715879\n",
            "Epoch: 53 / 500, ############## the best accuracy in val  94.4854 at Epoch: 49  ##############\n",
            "Performance in Val: Loss: (0.0502); Accuracy (94.08)\n"
          ]
        },
        {
          "name": "stderr",
          "output_type": "stream",
          "text": [
            "Epoch 54: 100%|██████████| 1496/1496 [00:21<00:00, 70.08batch/s, train_loss=tensor(0.0135, device='cuda:0', grad_fn=<MseLossBackward0>)]\n"
          ]
        },
        {
          "name": "stdout",
          "output_type": "stream",
          "text": [
            "0.05028946867043322 0.9411656215418664 0.9051246681693489 0.9412698412698413 0.8287910552061496 0.8287910552061496 0.8455573213079923 0.9605878600716042 0.8814567075436641\n",
            "Epoch: 54 / 500, ############## the best accuracy in val  94.4854 at Epoch: 49  ##############\n",
            "Performance in Val: Loss: (0.0503); Accuracy (94.12)\n"
          ]
        },
        {
          "name": "stderr",
          "output_type": "stream",
          "text": [
            "Epoch 55: 100%|██████████| 1496/1496 [00:21<00:00, 69.31batch/s, train_loss=tensor(0.0077, device='cuda:0', grad_fn=<MseLossBackward0>)]\n"
          ]
        },
        {
          "name": "stdout",
          "output_type": "stream",
          "text": [
            "0.050503922372379086 0.9419033566949465 0.9047292992041317 0.9471153846153846 0.8259958071278826 0.8259958071278826 0.8475626426735461 0.9588353144680353 0.8824188129899216\n",
            "Epoch: 55 / 500, ############## the best accuracy in val  94.4854 at Epoch: 49  ##############\n",
            "Performance in Val: Loss: (0.0505); Accuracy (94.19)\n"
          ]
        },
        {
          "name": "stderr",
          "output_type": "stream",
          "text": [
            "Epoch 56: 100%|██████████| 1496/1496 [00:21<00:00, 70.69batch/s, train_loss=tensor(0.0103, device='cuda:0', grad_fn=<MseLossBackward0>)]\n"
          ]
        },
        {
          "name": "stdout",
          "output_type": "stream",
          "text": [
            "0.04986649819395759 0.9439321283659167 0.9085727653117488 0.9475774424146147 0.8336827393431167 0.8336827393431167 0.8529901575000263 0.9616728484653013 0.886988847583643\n",
            "Epoch: 56 / 500, ############## the best accuracy in val  94.4854 at Epoch: 49  ##############\n",
            "Performance in Val: Loss: (0.0499); Accuracy (94.39)\n"
          ]
        },
        {
          "name": "stderr",
          "output_type": "stream",
          "text": [
            "Epoch 57: 100%|██████████| 1496/1496 [00:21<00:00, 70.00batch/s, train_loss=tensor(0.0083, device='cuda:0', grad_fn=<MseLossBackward0>)]\n"
          ]
        },
        {
          "name": "stdout",
          "output_type": "stream",
          "text": [
            "0.050031763670796696 0.9424566580597565 0.9071222619867447 0.9429928741092637 0.8322851153039832 0.8322851153039832 0.8490228756270366 0.9602064988642335 0.8841870824053453\n",
            "Epoch: 57 / 500, ############## the best accuracy in val  94.4854 at Epoch: 49  ##############\n",
            "Performance in Val: Loss: (0.0500); Accuracy (94.25)\n"
          ]
        },
        {
          "name": "stderr",
          "output_type": "stream",
          "text": [
            "Epoch 58: 100%|██████████| 1496/1496 [00:21<00:00, 70.62batch/s, train_loss=tensor(0.0069, device='cuda:0', grad_fn=<MseLossBackward0>)]\n"
          ]
        },
        {
          "name": "stdout",
          "output_type": "stream",
          "text": [
            "0.049922052178193226 0.9444854297307267 0.9089486109644673 0.9498407643312102 0.8336827393431167 0.8336827393431167 0.854486019184809 0.9594255663642918 0.8879791589132862\n",
            "Epoch: 58 / 500, ############## the best accuracy in val  94.4854 at Epoch: 49  ##############\n",
            "Performance in Val: Loss: (0.0499); Accuracy (94.45)\n"
          ]
        },
        {
          "name": "stderr",
          "output_type": "stream",
          "text": [
            "Epoch 59: 100%|██████████| 1496/1496 [00:21<00:00, 70.15batch/s, train_loss=tensor(0.0088, device='cuda:0', grad_fn=<MseLossBackward0>)]\n"
          ]
        },
        {
          "name": "stdout",
          "output_type": "stream",
          "text": [
            "0.05040437846698544 0.9433788270011066 0.9077486714079425 0.9467408585055644 0.8322851153039832 0.8322851153039832 0.8515056815746794 0.9595915582947726 0.8858311640014875\n",
            "Epoch: 59 / 500, ############## the best accuracy in val  94.4854 at Epoch: 49  ##############\n",
            "Performance in Val: Loss: (0.0504); Accuracy (94.34)\n"
          ]
        },
        {
          "name": "stderr",
          "output_type": "stream",
          "text": [
            "Epoch 60: 100%|██████████| 1496/1496 [00:21<00:00, 70.58batch/s, train_loss=tensor(0.0086, device='cuda:0', grad_fn=<MseLossBackward0>)]\n"
          ]
        },
        {
          "name": "stdout",
          "output_type": "stream",
          "text": [
            "0.050574831749227916 0.9435632607893766 0.9076498291666382 0.9482071713147411 0.8315863032844165 0.8315863032844165 0.8520092856400527 0.9568269521867948 0.8860759493670887\n",
            "Epoch: 60 / 500, ############## the best accuracy in val  94.4854 at Epoch: 49  ##############\n",
            "Performance in Val: Loss: (0.0506); Accuracy (94.36)\n"
          ]
        },
        {
          "name": "stderr",
          "output_type": "stream",
          "text": [
            "Epoch 61: 100%|██████████| 1496/1496 [00:21<00:00, 70.42batch/s, train_loss=tensor(0.0068, device='cuda:0', grad_fn=<MseLossBackward0>)]\n"
          ]
        },
        {
          "name": "stdout",
          "output_type": "stream",
          "text": [
            "0.05028919790956107 0.9430099594245666 0.9063774870117443 0.9488 0.8287910552061496 0.8287910552061496 0.8505369009468319 0.9562395893905942 0.8847444983215219\n",
            "Epoch: 61 / 500, ############## the best accuracy in val  94.4854 at Epoch: 49  ##############\n",
            "Performance in Val: Loss: (0.0503); Accuracy (94.30)\n"
          ]
        },
        {
          "name": "stderr",
          "output_type": "stream",
          "text": [
            "Epoch 62: 100%|██████████| 1496/1496 [00:21<00:00, 70.51batch/s, train_loss=tensor(0.0107, device='cuda:0', grad_fn=<MseLossBackward0>)]\n"
          ]
        },
        {
          "name": "stdout",
          "output_type": "stream",
          "text": [
            "0.049481402574615044 0.9441165621541866 0.907801550693813 0.9512 0.8308874912648497 0.8308874912648497 0.8535174270576759 0.961256730508774 0.8869824692278999\n",
            "Epoch: 62 / 500, ############## the best accuracy in val  94.4854 at Epoch: 49  ##############\n",
            "Performance in Val: Loss: (0.0495); Accuracy (94.41)\n"
          ]
        },
        {
          "name": "stderr",
          "output_type": "stream",
          "text": [
            "Epoch 63: 100%|██████████| 1496/1496 [00:21<00:00, 69.67batch/s, train_loss=tensor(0.0121, device='cuda:0', grad_fn=<MseLossBackward0>)]\n"
          ]
        },
        {
          "name": "stdout",
          "output_type": "stream",
          "text": [
            "0.050324921242215416 0.9420877904832166 0.9053028293394589 0.9464428457234213 0.827393431167016 0.827393431167016 0.8480502024083679 0.9591801679565186 0.8829231916480238\n",
            "Epoch: 63 / 500, ############## the best accuracy in val  94.4854 at Epoch: 49  ##############\n",
            "Performance in Val: Loss: (0.0503); Accuracy (94.21)\n"
          ]
        },
        {
          "name": "stderr",
          "output_type": "stream",
          "text": [
            "Epoch 64: 100%|██████████| 1496/1496 [00:21<00:00, 71.03batch/s, train_loss=tensor(0.0089, device='cuda:0', grad_fn=<MseLossBackward0>)]\n"
          ]
        },
        {
          "name": "stdout",
          "output_type": "stream",
          "text": [
            "0.050458549267866394 0.9419033566949465 0.9067464163340262 0.9407582938388626 0.8322851153039832 0.8322851153039832 0.8475391907627127 0.9582574944568676 0.8832035595105673\n",
            "Epoch: 64 / 500, ############## the best accuracy in val  94.4854 at Epoch: 49  ##############\n",
            "Performance in Val: Loss: (0.0505); Accuracy (94.19)\n"
          ]
        },
        {
          "name": "stderr",
          "output_type": "stream",
          "text": [
            "Epoch 65: 100%|██████████| 1496/1496 [00:21<00:00, 69.97batch/s, train_loss=tensor(0.0102, device='cuda:0', grad_fn=<MseLossBackward0>)]\n"
          ]
        },
        {
          "name": "stdout",
          "output_type": "stream",
          "text": [
            "0.050540856678377495 0.9424566580597565 0.9051051448568503 0.9493975903614458 0.8259958071278826 0.8259958071278826 0.8490661398421749 0.9568738781755806 0.8834080717488789\n",
            "Epoch: 65 / 500, ############## the best accuracy in val  94.4854 at Epoch: 49  ##############\n",
            "Performance in Val: Loss: (0.0505); Accuracy (94.25)\n"
          ]
        },
        {
          "name": "stderr",
          "output_type": "stream",
          "text": [
            "Epoch 66: 100%|██████████| 1496/1496 [00:21<00:00, 70.27batch/s, train_loss=tensor(0.0092, device='cuda:0', grad_fn=<MseLossBackward0>)]\n"
          ]
        },
        {
          "name": "stdout",
          "output_type": "stream",
          "text": [
            "0.05014052165841514 0.9446698635189967 0.9081773963465316 0.9534883720930233 0.8308874912648497 0.8308874912648497 0.8550237157362134 0.9583618522528239 0.8879761015683346\n",
            "Epoch: 66 / 500, ############## the best accuracy in val  94.4854 at Epoch: 49  ##############\n",
            "Performance in Val: Loss: (0.0501); Accuracy (94.47)\n"
          ]
        },
        {
          "name": "stderr",
          "output_type": "stream",
          "text": [
            "Epoch 67: 100%|██████████| 1496/1496 [00:21<00:00, 69.10batch/s, train_loss=tensor(0.0070, device='cuda:0', grad_fn=<MseLossBackward0>)]\n"
          ]
        },
        {
          "name": "stdout",
          "output_type": "stream",
          "text": [
            "0.04939507244324142 0.9441165621541866 0.907801550693813 0.9512 0.8308874912648497 0.8308874912648497 0.8535174270576759 0.9612835203456553 0.8869824692278999\n",
            "Epoch: 67 / 500, ############## the best accuracy in val  94.4854 at Epoch: 49  ##############\n",
            "Performance in Val: Loss: (0.0494); Accuracy (94.41)\n"
          ]
        },
        {
          "name": "stderr",
          "output_type": "stream",
          "text": [
            "Epoch 68: 100%|██████████| 1496/1496 [00:21<00:00, 69.91batch/s, train_loss=tensor(0.0095, device='cuda:0', grad_fn=<MseLossBackward0>)]\n"
          ]
        },
        {
          "name": "stdout",
          "output_type": "stream",
          "text": [
            "0.049754402176900345 0.9430099594245666 0.9063774870117443 0.9488 0.8287910552061496 0.8287910552061496 0.8505369009468319 0.9603572573580563 0.8847444983215219\n",
            "Epoch: 68 / 500, ############## the best accuracy in val  94.4854 at Epoch: 49  ##############\n",
            "Performance in Val: Loss: (0.0498); Accuracy (94.30)\n"
          ]
        },
        {
          "name": "stderr",
          "output_type": "stream",
          "text": [
            "Epoch 69: 100%|██████████| 1496/1496 [00:22<00:00, 66.60batch/s, train_loss=tensor(0.0056, device='cuda:0', grad_fn=<MseLossBackward0>)]\n"
          ]
        },
        {
          "name": "stdout",
          "output_type": "stream",
          "text": [
            "0.05034702635285529 0.9428255256362966 0.9071487016296801 0.9451945988880064 0.8315863032844165 0.8315863032844165 0.8500170951532714 0.9580833605171384 0.8847583643122676\n",
            "Epoch: 69 / 500, ############## the best accuracy in val  94.4854 at Epoch: 49  ##############\n",
            "Performance in Val: Loss: (0.0503); Accuracy (94.28)\n"
          ]
        },
        {
          "name": "stderr",
          "output_type": "stream",
          "text": [
            "Epoch 70: 100%|██████████| 1496/1496 [00:22<00:00, 66.76batch/s, train_loss=tensor(0.0090, device='cuda:0', grad_fn=<MseLossBackward0>)]\n"
          ]
        },
        {
          "name": "stdout",
          "output_type": "stream",
          "text": [
            "0.05047234207053076 0.9441165621541866 0.9080256748193569 0.950479233226837 0.8315863032844165 0.8315863032844165 0.8535087469728486 0.9582886617180761 0.8870667163622811\n",
            "Epoch: 70 / 500, ############## the best accuracy in val  94.4854 at Epoch: 49  ##############\n",
            "Performance in Val: Loss: (0.0505); Accuracy (94.41)\n"
          ]
        },
        {
          "name": "stderr",
          "output_type": "stream",
          "text": [
            "Epoch 71: 100%|██████████| 1496/1496 [00:21<00:00, 68.89batch/s, train_loss=tensor(0.0076, device='cuda:0', grad_fn=<MseLossBackward0>)]\n"
          ]
        },
        {
          "name": "stdout",
          "output_type": "stream",
          "text": [
            "0.049486339346251705 0.9461453338251568 0.9111967685503424 0.9530628480509149 0.8371767994409504 0.8371767994409504 0.8589447464380188 0.9570206094390226 0.8913690476190478\n",
            "Epoch: 71 / 500, ############## the best accuracy in val  94.4854 at Epoch: 49  ##############\n",
            "Performance in Val: Loss: (0.0495); Accuracy (94.61)\n"
          ]
        },
        {
          "name": "stderr",
          "output_type": "stream",
          "text": [
            "Epoch 72: 100%|██████████| 1496/1496 [00:21<00:00, 69.66batch/s, train_loss=tensor(0.0093, device='cuda:0', grad_fn=<MseLossBackward0>)]\n"
          ]
        },
        {
          "name": "stdout",
          "output_type": "stream",
          "text": [
            "0.05004934746433388 0.9426410918480266 0.905006302615546 0.9508856682769726 0.8252969951083159 0.8252969951083159 0.8495785116515145 0.9586181942214146 0.8836513280957726\n",
            "Epoch: 72 / 500, ############## the best accuracy in val  94.6145 at Epoch: 71  ##############\n",
            "Performance in Val: Loss: (0.0500); Accuracy (94.26)\n"
          ]
        },
        {
          "name": "stderr",
          "output_type": "stream",
          "text": [
            "Epoch 73: 100%|██████████| 1496/1496 [00:21<00:00, 69.69batch/s, train_loss=tensor(0.0063, device='cuda:0', grad_fn=<MseLossBackward0>)]\n"
          ]
        },
        {
          "name": "stdout",
          "output_type": "stream",
          "text": [
            "0.0505466732958501 0.9437476945776466 0.9079992351764216 0.9482484076433121 0.8322851153039832 0.8322851153039832 0.8525023265738365 0.9583324359613462 0.8864905098622998\n",
            "Epoch: 73 / 500, ############## the best accuracy in val  94.6145 at Epoch: 71  ##############\n",
            "Performance in Val: Loss: (0.0505); Accuracy (94.37)\n"
          ]
        },
        {
          "name": "stderr",
          "output_type": "stream",
          "text": [
            "Epoch 74: 100%|██████████| 1496/1496 [00:21<00:00, 68.91batch/s, train_loss=tensor(0.0089, device='cuda:0', grad_fn=<MseLossBackward0>)]\n"
          ]
        },
        {
          "name": "stdout",
          "output_type": "stream",
          "text": [
            "0.05014557416804812 0.9431943932128366 0.9069510171470715 0.9481245011971269 0.8301886792452831 0.8301886792452831 0.8510230667617056 0.9595828034461185 0.8852459016393442\n",
            "Epoch: 74 / 500, ############## the best accuracy in val  94.6145 at Epoch: 71  ##############\n",
            "Performance in Val: Loss: (0.0501); Accuracy (94.32)\n"
          ]
        },
        {
          "name": "stderr",
          "output_type": "stream",
          "text": [
            "Epoch 75: 100%|██████████| 1496/1496 [00:21<00:00, 69.23batch/s, train_loss=tensor(0.0056, device='cuda:0', grad_fn=<MseLossBackward0>)]\n"
          ]
        },
        {
          "name": "stdout",
          "output_type": "stream",
          "text": [
            "0.04946117179298943 0.9435632607893766 0.9072015809155506 0.9496402877697842 0.8301886792452831 0.8301886792452831 0.8520231247317872 0.9608583848950144 0.8859060402684563\n",
            "Epoch: 75 / 500, ############## the best accuracy in val  94.6145 at Epoch: 71  ##############\n",
            "Performance in Val: Loss: (0.0495); Accuracy (94.36)\n"
          ]
        },
        {
          "name": "stderr",
          "output_type": "stream",
          "text": [
            "Epoch 76: 100%|██████████| 1496/1496 [00:21<00:00, 69.30batch/s, train_loss=tensor(0.0115, device='cuda:0', grad_fn=<MseLossBackward0>)]\n"
          ]
        },
        {
          "name": "stdout",
          "output_type": "stream",
          "text": [
            "0.0501072338189591 0.9431943932128366 0.9071751412726152 0.9474103585657371 0.8308874912648497 0.8308874912648497 0.8510171633219464 0.9586019102029182 0.885331347728965\n",
            "Epoch: 76 / 500, ############## the best accuracy in val  94.6145 at Epoch: 71  ##############\n",
            "Performance in Val: Loss: (0.0501); Accuracy (94.32)\n"
          ]
        },
        {
          "name": "stderr",
          "output_type": "stream",
          "text": [
            "Epoch 77: 100%|██████████| 1496/1496 [00:21<00:00, 69.55batch/s, train_loss=tensor(0.0058, device='cuda:0', grad_fn=<MseLossBackward0>)]\n"
          ]
        },
        {
          "name": "stdout",
          "output_type": "stream",
          "text": [
            "0.04935877482322129 0.9437476945776466 0.9077751110508778 0.94896331738437 0.8315863032844165 0.8315863032844165 0.8525085978686774 0.9602604287319425 0.8864059590316574\n",
            "Epoch: 77 / 500, ############## the best accuracy in val  94.6145 at Epoch: 71  ##############\n",
            "Performance in Val: Loss: (0.0494); Accuracy (94.37)\n"
          ]
        },
        {
          "name": "stderr",
          "output_type": "stream",
          "text": [
            "Epoch 78: 100%|██████████| 1496/1496 [00:21<00:00, 68.79batch/s, train_loss=tensor(0.0070, device='cuda:0', grad_fn=<MseLossBackward0>)]\n"
          ]
        },
        {
          "name": "stdout",
          "output_type": "stream",
          "text": [
            "0.04984272068197077 0.9433788270011066 0.9068521749057672 0.9496 0.8294898672257163 0.8294898672257163 0.8515304096504465 0.9595082121355859 0.8854904886236479\n",
            "Epoch: 78 / 500, ############## the best accuracy in val  94.6145 at Epoch: 71  ##############\n",
            "Performance in Val: Loss: (0.0498); Accuracy (94.34)\n"
          ]
        },
        {
          "name": "stderr",
          "output_type": "stream",
          "text": [
            "Epoch 79: 100%|██████████| 1496/1496 [00:21<00:00, 69.79batch/s, train_loss=tensor(0.0089, device='cuda:0', grad_fn=<MseLossBackward0>)]\n"
          ]
        },
        {
          "name": "stdout",
          "output_type": "stream",
          "text": [
            "0.049811595627530056 0.9448542973072667 0.9100956712351218 0.9484944532488114 0.8364779874213837 0.8364779874213837 0.8554596284581588 0.9580041291368192 0.8889714073523951\n",
            "Epoch: 79 / 500, ############## the best accuracy in val  94.6145 at Epoch: 71  ##############\n",
            "Performance in Val: Loss: (0.0498); Accuracy (94.49)\n"
          ]
        },
        {
          "name": "stderr",
          "output_type": "stream",
          "text": [
            "Epoch 80: 100%|██████████| 1496/1496 [00:21<00:00, 68.92batch/s, train_loss=tensor(0.0092, device='cuda:0', grad_fn=<MseLossBackward0>)]\n"
          ]
        },
        {
          "name": "stdout",
          "output_type": "stream",
          "text": [
            "0.04982900771905075 0.9439321283659167 0.9076762688095734 0.950439648281375 0.8308874912648497 0.8308874912648497 0.853016355312642 0.9581505102063149 0.8866517524235645\n",
            "Epoch: 80 / 500, ############## the best accuracy in val  94.6145 at Epoch: 71  ##############\n",
            "Performance in Val: Loss: (0.0498); Accuracy (94.39)\n"
          ]
        },
        {
          "name": "stderr",
          "output_type": "stream",
          "text": [
            "Epoch 81: 100%|██████████| 1496/1496 [00:21<00:00, 69.25batch/s, train_loss=tensor(0.0079, device='cuda:0', grad_fn=<MseLossBackward0>)]\n"
          ]
        },
        {
          "name": "stdout",
          "output_type": "stream",
          "text": [
            "0.04992182671346448 0.9441165621541866 0.9084739230704445 0.9490445859872612 0.83298392732355 0.83298392732355 0.8534941728793227 0.9590097110532241 0.8872348343877932\n",
            "Epoch: 81 / 500, ############## the best accuracy in val  94.6145 at Epoch: 71  ##############\n",
            "Performance in Val: Loss: (0.0499); Accuracy (94.41)\n"
          ]
        },
        {
          "name": "stderr",
          "output_type": "stream",
          "text": [
            "Epoch 82: 100%|██████████| 1496/1496 [00:21<00:00, 68.68batch/s, train_loss=tensor(0.0066, device='cuda:0', grad_fn=<MseLossBackward0>)]\n"
          ]
        },
        {
          "name": "stdout",
          "output_type": "stream",
          "text": [
            "0.04934770182113756 0.9430099594245666 0.9072739835139196 0.9459459459459459 0.8315863032844165 0.8315863032844165 0.8505143860363285 0.9608613615435568 0.8850873930829305\n",
            "Epoch: 82 / 500, ############## the best accuracy in val  94.6145 at Epoch: 71  ##############\n",
            "Performance in Val: Loss: (0.0493); Accuracy (94.30)\n"
          ]
        },
        {
          "name": "stderr",
          "output_type": "stream",
          "text": [
            "Epoch 83: 100%|██████████| 1496/1496 [00:21<00:00, 69.51batch/s, train_loss=tensor(0.0087, device='cuda:0', grad_fn=<MseLossBackward0>)]\n"
          ]
        },
        {
          "name": "stdout",
          "output_type": "stream",
          "text": [
            "0.04984950316561894 0.9431943932128366 0.9073992653981591 0.9466984884645983 0.8315863032844165 0.8315863032844165 0.8510121807380276 0.9578720184706295 0.8854166666666666\n",
            "Epoch: 83 / 500, ############## the best accuracy in val  94.6145 at Epoch: 71  ##############\n",
            "Performance in Val: Loss: (0.0498); Accuracy (94.32)\n"
          ]
        },
        {
          "name": "stderr",
          "output_type": "stream",
          "text": [
            "Epoch 84: 100%|██████████| 1496/1496 [00:21<00:00, 68.78batch/s, train_loss=tensor(0.0090, device='cuda:0', grad_fn=<MseLossBackward0>)]\n"
          ]
        },
        {
          "name": "stdout",
          "output_type": "stream",
          "text": [
            "0.050055684691125694 0.9433788270011066 0.9066280507802233 0.9503205128205128 0.8287910552061496 0.8287910552061496 0.8515389075665928 0.9568551427994609 0.8854050018663681\n",
            "Epoch: 84 / 500, ############## the best accuracy in val  94.6145 at Epoch: 71  ##############\n",
            "Performance in Val: Loss: (0.0501); Accuracy (94.34)\n"
          ]
        },
        {
          "name": "stderr",
          "output_type": "stream",
          "text": [
            "Epoch 85: 100%|██████████| 1496/1496 [00:21<00:00, 70.47batch/s, train_loss=tensor(0.0117, device='cuda:0', grad_fn=<MseLossBackward0>)]\n"
          ]
        },
        {
          "name": "stdout",
          "output_type": "stream",
          "text": [
            "0.04991050877354362 0.9428255256362966 0.9071487016296801 0.9451945988880064 0.8315863032844165 0.8315863032844165 0.8500170951532714 0.9584945757584195 0.8847583643122676\n",
            "Epoch: 85 / 500, ############## the best accuracy in val  94.6145 at Epoch: 71  ##############\n",
            "Performance in Val: Loss: (0.0499); Accuracy (94.28)\n"
          ]
        },
        {
          "name": "stderr",
          "output_type": "stream",
          "text": [
            "Epoch 86: 100%|██████████| 1496/1496 [00:21<00:00, 70.40batch/s, train_loss=tensor(0.0053, device='cuda:0', grad_fn=<MseLossBackward0>)]\n"
          ]
        },
        {
          "name": "stdout",
          "output_type": "stream",
          "text": [
            "0.049070775424214924 0.9443009959424566 0.9092715773313156 0.9476605868358445 0.8350803633822502 0.8350803633822502 0.8539763834222104 0.960740894826077 0.887815750371471\n",
            "Epoch: 86 / 500, ############## the best accuracy in val  94.6145 at Epoch: 71  ##############\n",
            "Performance in Val: Loss: (0.0491); Accuracy (94.43)\n"
          ]
        },
        {
          "name": "stderr",
          "output_type": "stream",
          "text": [
            "Epoch 87: 100%|██████████| 1496/1496 [00:21<00:00, 70.75batch/s, train_loss=tensor(0.0110, device='cuda:0', grad_fn=<MseLossBackward0>)]\n"
          ]
        },
        {
          "name": "stdout",
          "output_type": "stream",
          "text": [
            "0.04904892312532121 0.9428255256362966 0.9067004533785924 0.9466135458167331 0.8301886792452831 0.8301886792452831 0.8500250410038401 0.961545990708304 0.8845867460908413\n",
            "Epoch: 87 / 500, ############## the best accuracy in val  94.6145 at Epoch: 71  ##############\n",
            "Performance in Val: Loss: (0.0490); Accuracy (94.28)\n"
          ]
        },
        {
          "name": "stderr",
          "output_type": "stream",
          "text": [
            "Epoch 88: 100%|██████████| 1496/1496 [00:21<00:00, 69.24batch/s, train_loss=tensor(0.0085, device='cuda:0', grad_fn=<MseLossBackward0>)]\n"
          ]
        },
        {
          "name": "stdout",
          "output_type": "stream",
          "text": [
            "0.04969804132865234 0.9426410918480266 0.9059027991177213 0.948 0.8280922431865828 0.8280922431865828 0.8495433922432172 0.9587423379753292 0.8839985080193957\n",
            "Epoch: 88 / 500, ############## the best accuracy in val  94.6145 at Epoch: 71  ##############\n",
            "Performance in Val: Loss: (0.0497); Accuracy (94.26)\n"
          ]
        },
        {
          "name": "stderr",
          "output_type": "stream",
          "text": [
            "Epoch 89: 100%|██████████| 1496/1496 [00:21<00:00, 69.89batch/s, train_loss=tensor(0.0083, device='cuda:0', grad_fn=<MseLossBackward0>)]\n"
          ]
        },
        {
          "name": "stdout",
          "output_type": "stream",
          "text": [
            "0.04945140856910835 0.9437476945776466 0.907550986925334 0.9496805111821086 0.8308874912648497 0.8308874912648497 0.8525157940911212 0.9596017139192112 0.8863212821468506\n",
            "Epoch: 89 / 500, ############## the best accuracy in val  94.6145 at Epoch: 71  ##############\n",
            "Performance in Val: Loss: (0.0495); Accuracy (94.37)\n"
          ]
        },
        {
          "name": "stderr",
          "output_type": "stream",
          "text": [
            "Epoch 90: 100%|██████████| 1496/1496 [00:21<00:00, 68.44batch/s, train_loss=tensor(0.0084, device='cuda:0', grad_fn=<MseLossBackward0>)]\n"
          ]
        },
        {
          "name": "stdout",
          "output_type": "stream",
          "text": [
            "0.05036414778706702 0.9417189229066765 0.9043798931943483 0.9470729751403368 0.8252969951083159 0.8252969951083159 0.847068950762057 0.9559449887333853 0.882001493651979\n",
            "Epoch: 90 / 500, ############## the best accuracy in val  94.6145 at Epoch: 71  ##############\n",
            "Performance in Val: Loss: (0.0504); Accuracy (94.17)\n"
          ]
        },
        {
          "name": "stderr",
          "output_type": "stream",
          "text": [
            "Epoch 91: 100%|██████████| 1496/1496 [00:21<00:00, 68.83batch/s, train_loss=tensor(0.0072, device='cuda:0', grad_fn=<MseLossBackward0>)]\n"
          ]
        },
        {
          "name": "stdout",
          "output_type": "stream",
          "text": [
            "0.04917340006001971 0.9444854297307267 0.9087244868389236 0.9505582137161085 0.83298392732355 0.83298392732355 0.8544933953709861 0.958683680489347 0.8878957169459963\n",
            "Epoch: 91 / 500, ############## the best accuracy in val  94.6145 at Epoch: 71  ##############\n",
            "Performance in Val: Loss: (0.0492); Accuracy (94.45)\n"
          ]
        },
        {
          "name": "stderr",
          "output_type": "stream",
          "text": [
            "Epoch 92: 100%|██████████| 1496/1496 [00:21<00:00, 69.07batch/s, train_loss=tensor(0.0111, device='cuda:0', grad_fn=<MseLossBackward0>)]\n"
          ]
        },
        {
          "name": "stdout",
          "output_type": "stream",
          "text": [
            "0.0489546995271336 0.9431943932128366 0.9067268930215276 0.9488409272581935 0.8294898672257163 0.8294898672257163 0.8510298941509324 0.9582848095846681 0.8851603281133482\n",
            "Epoch: 92 / 500, ############## the best accuracy in val  94.6145 at Epoch: 71  ##############\n",
            "Performance in Val: Loss: (0.0490); Accuracy (94.32)\n"
          ]
        },
        {
          "name": "stderr",
          "output_type": "stream",
          "text": [
            "Epoch 93: 100%|██████████| 1496/1496 [00:21<00:00, 69.66batch/s, train_loss=tensor(0.0096, device='cuda:0', grad_fn=<MseLossBackward0>)]\n"
          ]
        },
        {
          "name": "stdout",
          "output_type": "stream",
          "text": [
            "0.049221864393488926 0.9443009959424566 0.9092715773313156 0.9476605868358445 0.8350803633822502 0.8350803633822502 0.8539763834222104 0.9596573947566511 0.887815750371471\n",
            "Epoch: 93 / 500, ############## the best accuracy in val  94.6145 at Epoch: 71  ##############\n",
            "Performance in Val: Loss: (0.0492); Accuracy (94.43)\n"
          ]
        },
        {
          "name": "stderr",
          "output_type": "stream",
          "text": [
            "Epoch 94: 100%|██████████| 1496/1496 [00:21<00:00, 69.08batch/s, train_loss=tensor(0.0056, device='cuda:0', grad_fn=<MseLossBackward0>)]\n"
          ]
        },
        {
          "name": "stdout",
          "output_type": "stream",
          "text": [
            "0.049312944608655845 0.9430099594245666 0.9054809905095689 0.9516908212560387 0.8259958071278826 0.8259958071278826 0.8505742606852914 0.9605327045250838 0.8843995510662177\n",
            "Epoch: 94 / 500, ############## the best accuracy in val  94.6145 at Epoch: 71  ##############\n",
            "Performance in Val: Loss: (0.0493); Accuracy (94.30)\n"
          ]
        },
        {
          "name": "stderr",
          "output_type": "stream",
          "text": [
            "Epoch 95: 100%|██████████| 1496/1496 [00:21<00:00, 69.58batch/s, train_loss=tensor(0.0086, device='cuda:0', grad_fn=<MseLossBackward0>)]\n"
          ]
        },
        {
          "name": "stdout",
          "output_type": "stream",
          "text": [
            "0.04947125784714113 0.9437476945776466 0.9064303662976148 0.9533011272141707 0.827393431167016 0.827393431167016 0.8525657587528451 0.9576761725062384 0.8858959970071081\n",
            "Epoch: 95 / 500, ############## the best accuracy in val  94.6145 at Epoch: 71  ##############\n",
            "Performance in Val: Loss: (0.0495); Accuracy (94.37)\n"
          ]
        },
        {
          "name": "stderr",
          "output_type": "stream",
          "text": [
            "Epoch 96: 100%|██████████| 1496/1496 [00:21<00:00, 68.39batch/s, train_loss=tensor(0.0174, device='cuda:0', grad_fn=<MseLossBackward0>)]\n"
          ]
        },
        {
          "name": "stdout",
          "output_type": "stream",
          "text": [
            "0.049661739814010536 0.9424566580597565 0.905553393107938 0.9479583666933546 0.827393431167016 0.827393431167016 0.8490500741009661 0.9588596529472935 0.8835820895522387\n",
            "Epoch: 96 / 500, ############## the best accuracy in val  94.6145 at Epoch: 71  ##############\n",
            "Performance in Val: Loss: (0.0497); Accuracy (94.25)\n"
          ]
        },
        {
          "name": "stderr",
          "output_type": "stream",
          "text": [
            "Epoch 97: 100%|██████████| 1496/1496 [00:21<00:00, 70.00batch/s, train_loss=tensor(0.0074, device='cuda:0', grad_fn=<MseLossBackward0>)]\n"
          ]
        },
        {
          "name": "stdout",
          "output_type": "stream",
          "text": [
            "0.049388312226669354 0.9417189229066765 0.9046040173198922 0.9463570856685348 0.8259958071278826 0.8259958071278826 0.8470624995993383 0.9593963251697872 0.882089552238806\n",
            "Epoch: 97 / 500, ############## the best accuracy in val  94.6145 at Epoch: 71  ##############\n",
            "Performance in Val: Loss: (0.0494); Accuracy (94.17)\n"
          ]
        },
        {
          "name": "stderr",
          "output_type": "stream",
          "text": [
            "Epoch 98: 100%|██████████| 1496/1496 [00:21<00:00, 68.10batch/s, train_loss=tensor(0.0084, device='cuda:0', grad_fn=<MseLossBackward0>)]\n"
          ]
        },
        {
          "name": "stdout",
          "output_type": "stream",
          "text": [
            "0.04925675961104306 0.9428255256362966 0.9071487016296801 0.9451945988880064 0.8315863032844165 0.8315863032844165 0.8500170951532714 0.96044725720222 0.8847583643122676\n",
            "Epoch: 98 / 500, ############## the best accuracy in val  94.6145 at Epoch: 71  ##############\n",
            "Performance in Val: Loss: (0.0493); Accuracy (94.28)\n"
          ]
        },
        {
          "name": "stderr",
          "output_type": "stream",
          "text": [
            "Epoch 99: 100%|██████████| 1496/1496 [00:21<00:00, 68.95batch/s, train_loss=tensor(0.0066, device='cuda:0', grad_fn=<MseLossBackward0>)]\n"
          ]
        },
        {
          "name": "stdout",
          "output_type": "stream",
          "text": [
            "0.049561964771287007 0.9443009959424566 0.9074785843269648 0.9534136546184739 0.8294898672257163 0.8294898672257163 0.8540406683432911 0.9574366398470635 0.8871449925261584\n",
            "Epoch: 99 / 500, ############## the best accuracy in val  94.6145 at Epoch: 71  ##############\n",
            "Performance in Val: Loss: (0.0496); Accuracy (94.43)\n"
          ]
        },
        {
          "name": "stderr",
          "output_type": "stream",
          "text": [
            "Epoch 100: 100%|██████████| 1496/1496 [00:22<00:00, 67.58batch/s, train_loss=tensor(0.0087, device='cuda:0', grad_fn=<MseLossBackward0>)]\n"
          ]
        },
        {
          "name": "stdout",
          "output_type": "stream",
          "text": [
            "0.04896983690559864 0.9433788270011066 0.9081969196590302 0.945324881141046 0.8336827393431167 0.8336827393431167 0.8514988324006788 0.958685606556051 0.8860007426661715\n",
            "Epoch: 100 / 500, ############## the best accuracy in val  94.6145 at Epoch: 71  ##############\n",
            "Performance in Val: Loss: (0.0490); Accuracy (94.34)\n"
          ]
        },
        {
          "name": "stderr",
          "output_type": "stream",
          "text": [
            "Epoch 101: 100%|██████████| 1496/1496 [00:22<00:00, 65.71batch/s, train_loss=tensor(0.0072, device='cuda:0', grad_fn=<MseLossBackward0>)]\n"
          ]
        },
        {
          "name": "stdout",
          "output_type": "stream",
          "text": [
            "0.048917461271313106 0.9435632607893766 0.9085463256688135 0.9453681710213777 0.8343815513626834 0.8343815513626834 0.8519926533948399 0.9586052370454067 0.88641425389755\n",
            "Epoch: 101 / 500, ############## the best accuracy in val  94.6145 at Epoch: 71  ##############\n",
            "Performance in Val: Loss: (0.0489); Accuracy (94.36)\n"
          ]
        },
        {
          "name": "stderr",
          "output_type": "stream",
          "text": [
            "Epoch 102: 100%|██████████| 1496/1496 [00:22<00:00, 65.44batch/s, train_loss=tensor(0.0110, device='cuda:0', grad_fn=<MseLossBackward0>)]\n"
          ]
        },
        {
          "name": "stdout",
          "output_type": "stream",
          "text": [
            "0.049295810643922196 0.9443009959424566 0.9079268325780525 0.9519615692554043 0.8308874912648497 0.8308874912648497 0.8540190103550355 0.9594943794747126 0.8873134328358209\n",
            "Epoch: 102 / 500, ############## the best accuracy in val  94.6145 at Epoch: 71  ##############\n",
            "Performance in Val: Loss: (0.0493); Accuracy (94.43)\n"
          ]
        },
        {
          "name": "stderr",
          "output_type": "stream",
          "text": [
            "Epoch 103: 100%|██████████| 1496/1496 [00:23<00:00, 64.35batch/s, train_loss=tensor(0.0092, device='cuda:0', grad_fn=<MseLossBackward0>)]\n"
          ]
        },
        {
          "name": "stdout",
          "output_type": "stream",
          "text": [
            "0.04888623986731876 0.9450387310955367 0.9088762083660984 0.9535628502802241 0.8322851153039832 0.8322851153039832 0.8560065848566633 0.9593833679937791 0.8888059701492538\n",
            "Epoch: 103 / 500, ############## the best accuracy in val  94.6145 at Epoch: 71  ##############\n",
            "Performance in Val: Loss: (0.0489); Accuracy (94.50)\n"
          ]
        },
        {
          "name": "stderr",
          "output_type": "stream",
          "text": [
            "Epoch 104: 100%|██████████| 1496/1496 [00:22<00:00, 66.47batch/s, train_loss=tensor(0.0060, device='cuda:0', grad_fn=<MseLossBackward0>)]\n"
          ]
        },
        {
          "name": "stdout",
          "output_type": "stream",
          "text": [
            "0.04929352687163786 0.9441165621541866 0.9084739230704445 0.9490445859872612 0.83298392732355 0.83298392732355 0.8534941728793227 0.9587209761446134 0.8872348343877932\n",
            "Epoch: 104 / 500, ############## the best accuracy in val  94.6145 at Epoch: 71  ##############\n",
            "Performance in Val: Loss: (0.0493); Accuracy (94.41)\n"
          ]
        },
        {
          "name": "stderr",
          "output_type": "stream",
          "text": [
            "Epoch 105: 100%|██████████| 1496/1496 [00:21<00:00, 68.27batch/s, train_loss=tensor(0.0084, device='cuda:0', grad_fn=<MseLossBackward0>)]\n"
          ]
        },
        {
          "name": "stdout",
          "output_type": "stream",
          "text": [
            "0.04979890212416649 0.9446698635189967 0.909073892848707 0.950597609561753 0.8336827393431167 0.8336827393431167 0.8549856525943716 0.9557937049486431 0.8883097542814594\n",
            "Epoch: 105 / 500, ############## the best accuracy in val  94.6145 at Epoch: 71  ##############\n",
            "Performance in Val: Loss: (0.0498); Accuracy (94.47)\n"
          ]
        },
        {
          "name": "stderr",
          "output_type": "stream",
          "text": [
            "Epoch 106: 100%|██████████| 1496/1496 [00:22<00:00, 67.87batch/s, train_loss=tensor(0.0131, device='cuda:0', grad_fn=<MseLossBackward0>)]\n"
          ]
        },
        {
          "name": "stdout",
          "output_type": "stream",
          "text": [
            "0.04920580712231723 0.9448542973072667 0.9094232988584903 0.9506369426751592 0.8343815513626834 0.8343815513626834 0.8554778654902954 0.959113018267342 0.8887234834387793\n",
            "Epoch: 106 / 500, ############## the best accuracy in val  94.6145 at Epoch: 71  ##############\n",
            "Performance in Val: Loss: (0.0492); Accuracy (94.49)\n"
          ]
        },
        {
          "name": "stderr",
          "output_type": "stream",
          "text": [
            "Epoch 107: 100%|██████████| 1496/1496 [00:21<00:00, 68.68batch/s, train_loss=tensor(0.0126, device='cuda:0', grad_fn=<MseLossBackward0>)]\n"
          ]
        },
        {
          "name": "stdout",
          "output_type": "stream",
          "text": [
            "0.04943030319091948 0.9420877904832166 0.9053028293394589 0.9464428457234213 0.827393431167016 0.827393431167016 0.8480502024083679 0.9586449840582961 0.8829231916480238\n",
            "Epoch: 107 / 500, ############## the best accuracy in val  94.6145 at Epoch: 71  ##############\n",
            "Performance in Val: Loss: (0.0494); Accuracy (94.21)\n"
          ]
        },
        {
          "name": "stderr",
          "output_type": "stream",
          "text": [
            "Epoch 108: 100%|██████████| 1496/1496 [00:21<00:00, 68.94batch/s, train_loss=tensor(0.0095, device='cuda:0', grad_fn=<MseLossBackward0>)]\n"
          ]
        },
        {
          "name": "stdout",
          "output_type": "stream",
          "text": [
            "0.049276076087897476 0.9437476945776466 0.9082233593019654 0.9475357710651828 0.83298392732355 0.83298392732355 0.8524969771130304 0.9584490505454183 0.8865749349200447\n",
            "Epoch: 108 / 500, ############## the best accuracy in val  94.6145 at Epoch: 71  ##############\n",
            "Performance in Val: Loss: (0.0493); Accuracy (94.37)\n"
          ]
        },
        {
          "name": "stderr",
          "output_type": "stream",
          "text": [
            "Epoch 109: 100%|██████████| 1496/1496 [00:21<00:00, 69.41batch/s, train_loss=tensor(0.0072, device='cuda:0', grad_fn=<MseLossBackward0>)]\n"
          ]
        },
        {
          "name": "stdout",
          "output_type": "stream",
          "text": [
            "0.04886310657655651 0.9437476945776466 0.9084474834275091 0.9468253968253968 0.8336827393431167 0.8336827393431167 0.852492546411878 0.960945933381555 0.8866592344853214\n",
            "Epoch: 109 / 500, ############## the best accuracy in val  94.6145 at Epoch: 71  ##############\n",
            "Performance in Val: Loss: (0.0489); Accuracy (94.37)\n"
          ]
        },
        {
          "name": "stderr",
          "output_type": "stream",
          "text": [
            "Epoch 110: 100%|██████████| 1496/1496 [00:21<00:00, 69.12batch/s, train_loss=tensor(0.0073, device='cuda:0', grad_fn=<MseLossBackward0>)]\n"
          ]
        },
        {
          "name": "stdout",
          "output_type": "stream",
          "text": [
            "0.049207910810681904 0.9450387310955367 0.909324456617186 0.9521149241819633 0.8336827393431167 0.8336827393431167 0.8559864447888458 0.9571908036968575 0.8889716840536512\n",
            "Epoch: 110 / 500, ############## the best accuracy in val  94.6145 at Epoch: 71  ##############\n",
            "Performance in Val: Loss: (0.0492); Accuracy (94.50)\n"
          ]
        },
        {
          "name": "stderr",
          "output_type": "stream",
          "text": [
            "Epoch 111: 100%|██████████| 1496/1496 [00:21<00:00, 70.36batch/s, train_loss=tensor(0.0106, device='cuda:0', grad_fn=<MseLossBackward0>)]\n"
          ]
        },
        {
          "name": "stdout",
          "output_type": "stream",
          "text": [
            "0.04958390977910974 0.9431943932128366 0.9073992653981591 0.9466984884645983 0.8315863032844165 0.8315863032844165 0.8510121807380276 0.9579479230084601 0.8854166666666666\n",
            "Epoch: 111 / 500, ############## the best accuracy in val  94.6145 at Epoch: 71  ##############\n",
            "Performance in Val: Loss: (0.0496); Accuracy (94.32)\n"
          ]
        },
        {
          "name": "stderr",
          "output_type": "stream",
          "text": [
            "Epoch 112: 100%|██████████| 1496/1496 [00:21<00:00, 69.58batch/s, train_loss=tensor(0.0058, device='cuda:0', grad_fn=<MseLossBackward0>)]\n"
          ]
        },
        {
          "name": "stdout",
          "output_type": "stream",
          "text": [
            "0.049049277366562324 0.9446698635189967 0.9084015204720755 0.9527622097678142 0.8315863032844165 0.8315863032844165 0.8550127976058494 0.9596087177981345 0.8880597014925373\n",
            "Epoch: 112 / 500, ############## the best accuracy in val  94.6145 at Epoch: 71  ##############\n",
            "Performance in Val: Loss: (0.0490); Accuracy (94.47)\n"
          ]
        },
        {
          "name": "stderr",
          "output_type": "stream",
          "text": [
            "Epoch 113: 100%|██████████| 1496/1496 [00:21<00:00, 69.83batch/s, train_loss=tensor(0.0049, device='cuda:0', grad_fn=<MseLossBackward0>)]\n"
          ]
        },
        {
          "name": "stdout",
          "output_type": "stream",
          "text": [
            "0.04915836055509069 0.9426410918480266 0.9067992956198967 0.9451510333863276 0.8308874912648497 0.8308874912648497 0.8495230904979776 0.9598978029006915 0.8843436221643733\n",
            "Epoch: 113 / 500, ############## the best accuracy in val  94.6145 at Epoch: 71  ##############\n",
            "Performance in Val: Loss: (0.0492); Accuracy (94.26)\n"
          ]
        },
        {
          "name": "stderr",
          "output_type": "stream",
          "text": [
            "Epoch 114: 100%|██████████| 1496/1496 [00:21<00:00, 69.79batch/s, train_loss=tensor(0.0095, device='cuda:0', grad_fn=<MseLossBackward0>)]\n"
          ]
        },
        {
          "name": "stdout",
          "output_type": "stream",
          "text": [
            "0.04920845919034698 0.9446698635189967 0.9084015204720755 0.9527622097678142 0.8315863032844165 0.8315863032844165 0.8550127976058494 0.958502630219181 0.8880597014925373\n",
            "Epoch: 114 / 500, ############## the best accuracy in val  94.6145 at Epoch: 71  ##############\n",
            "Performance in Val: Loss: (0.0492); Accuracy (94.47)\n"
          ]
        },
        {
          "name": "stderr",
          "output_type": "stream",
          "text": [
            "Epoch 115: 100%|██████████| 1496/1496 [00:21<00:00, 69.85batch/s, train_loss=tensor(0.0076, device='cuda:0', grad_fn=<MseLossBackward0>)]\n"
          ]
        },
        {
          "name": "stdout",
          "output_type": "stream",
          "text": [
            "0.04972353323616765 0.9430099594245666 0.9074981076394635 0.9452380952380952 0.8322851153039832 0.8322851153039832 0.8505110535250535 0.9562809998247279 0.8851727982162765\n",
            "Epoch: 115 / 500, ############## the best accuracy in val  94.6145 at Epoch: 71  ##############\n",
            "Performance in Val: Loss: (0.0497); Accuracy (94.30)\n"
          ]
        },
        {
          "name": "stderr",
          "output_type": "stream",
          "text": [
            "Epoch 116: 100%|██████████| 1496/1496 [00:21<00:00, 69.90batch/s, train_loss=tensor(0.0057, device='cuda:0', grad_fn=<MseLossBackward0>)]\n"
          ]
        },
        {
          "name": "stdout",
          "output_type": "stream",
          "text": [
            "0.04972599370574409 0.9424566580597565 0.9051051448568503 0.9493975903614458 0.8259958071278826 0.8259958071278826 0.8490661398421749 0.9558273235674747 0.8834080717488789\n",
            "Epoch: 116 / 500, ############## the best accuracy in val  94.6145 at Epoch: 71  ##############\n",
            "Performance in Val: Loss: (0.0497); Accuracy (94.25)\n"
          ]
        },
        {
          "name": "stderr",
          "output_type": "stream",
          "text": [
            "Epoch 117: 100%|██████████| 1496/1496 [00:21<00:00, 68.12batch/s, train_loss=tensor(0.0070, device='cuda:0', grad_fn=<MseLossBackward0>)]\n"
          ]
        },
        {
          "name": "stdout",
          "output_type": "stream",
          "text": [
            "0.04940585944462906 0.9422722242714865 0.9052039870981546 0.9479166666666666 0.8266946191474493 0.8266946191474493 0.8485567088968078 0.9582751792511487 0.8831653602090331\n",
            "Epoch: 117 / 500, ############## the best accuracy in val  94.6145 at Epoch: 71  ##############\n",
            "Performance in Val: Loss: (0.0494); Accuracy (94.23)\n"
          ]
        },
        {
          "name": "stderr",
          "output_type": "stream",
          "text": [
            "Epoch 118: 100%|██████████| 1496/1496 [00:21<00:00, 69.01batch/s, train_loss=tensor(0.0048, device='cuda:0', grad_fn=<MseLossBackward0>)]\n"
          ]
        },
        {
          "name": "stdout",
          "output_type": "stream",
          "text": [
            "0.04899931140244007 0.9433788270011066 0.9066280507802233 0.9503205128205128 0.8287910552061496 0.8287910552061496 0.8515389075665928 0.960695544710049 0.8854050018663681\n",
            "Epoch: 118 / 500, ############## the best accuracy in val  94.6145 at Epoch: 71  ##############\n",
            "Performance in Val: Loss: (0.0490); Accuracy (94.34)\n"
          ]
        },
        {
          "name": "stderr",
          "output_type": "stream",
          "text": [
            "Epoch 119: 100%|██████████| 1496/1496 [00:22<00:00, 67.24batch/s, train_loss=tensor(0.0084, device='cuda:0', grad_fn=<MseLossBackward0>)]\n"
          ]
        },
        {
          "name": "stdout",
          "output_type": "stream",
          "text": [
            "0.048993370834399357 0.9433788270011066 0.908421043784574 0.944620253164557 0.8343815513626834 0.8343815513626834 0.8514967758411675 0.9606515953698058 0.8860853432282004\n",
            "Epoch: 119 / 500, ############## the best accuracy in val  94.6145 at Epoch: 71  ##############\n",
            "Performance in Val: Loss: (0.0490); Accuracy (94.34)\n"
          ]
        },
        {
          "name": "stderr",
          "output_type": "stream",
          "text": [
            "Epoch 120: 100%|██████████| 1496/1496 [00:21<00:00, 69.71batch/s, train_loss=tensor(0.0082, device='cuda:0', grad_fn=<MseLossBackward0>)]\n"
          ]
        },
        {
          "name": "stdout",
          "output_type": "stream",
          "text": [
            "0.04932628758251667 0.9437476945776466 0.9064303662976148 0.9533011272141707 0.827393431167016 0.827393431167016 0.8525657587528451 0.957766697641321 0.8858959970071081\n",
            "Epoch: 120 / 500, ############## the best accuracy in val  94.6145 at Epoch: 71  ##############\n",
            "Performance in Val: Loss: (0.0493); Accuracy (94.37)\n"
          ]
        },
        {
          "name": "stderr",
          "output_type": "stream",
          "text": [
            "Epoch 121: 100%|██████████| 1496/1496 [00:21<00:00, 68.11batch/s, train_loss=tensor(0.0078, device='cuda:0', grad_fn=<MseLossBackward0>)]\n"
          ]
        },
        {
          "name": "stdout",
          "output_type": "stream",
          "text": [
            "0.04876317701895128 0.9446698635189967 0.9092980169742508 0.9498806682577565 0.8343815513626834 0.8343815513626834 0.8549784635880232 0.9585343227713088 0.8883928571428571\n",
            "Epoch: 121 / 500, ############## the best accuracy in val  94.6145 at Epoch: 71  ##############\n",
            "Performance in Val: Loss: (0.0488); Accuracy (94.47)\n"
          ]
        },
        {
          "name": "stderr",
          "output_type": "stream",
          "text": [
            "Epoch 122: 100%|██████████| 1496/1496 [00:21<00:00, 68.66batch/s, train_loss=tensor(0.0097, device='cuda:0', grad_fn=<MseLossBackward0>)]\n"
          ]
        },
        {
          "name": "stdout",
          "output_type": "stream",
          "text": [
            "0.04897870114919814 0.9428255256362966 0.9064763292530486 0.9473264166001596 0.8294898672257163 0.8294898672257163 0.8500303911562775 0.9593698855268518 0.8845007451564828\n",
            "Epoch: 122 / 500, ############## the best accuracy in val  94.6145 at Epoch: 71  ##############\n",
            "Performance in Val: Loss: (0.0490); Accuracy (94.28)\n"
          ]
        },
        {
          "name": "stderr",
          "output_type": "stream",
          "text": [
            "Epoch 123: 100%|██████████| 1496/1496 [00:22<00:00, 67.82batch/s, train_loss=tensor(0.0062, device='cuda:0', grad_fn=<MseLossBackward0>)]\n"
          ]
        },
        {
          "name": "stdout",
          "output_type": "stream",
          "text": [
            "0.049041977829553864 0.9437476945776466 0.9071027386742463 0.9511217948717948 0.8294898672257163 0.8294898672257163 0.8525329737898545 0.9592431153183412 0.8861515490854798\n",
            "Epoch: 123 / 500, ############## the best accuracy in val  94.6145 at Epoch: 71  ##############\n",
            "Performance in Val: Loss: (0.0490); Accuracy (94.37)\n"
          ]
        },
        {
          "name": "stderr",
          "output_type": "stream",
          "text": [
            "Epoch 124: 100%|██████████| 1496/1496 [00:22<00:00, 67.36batch/s, train_loss=tensor(0.0061, device='cuda:0', grad_fn=<MseLossBackward0>)]\n"
          ]
        },
        {
          "name": "stdout",
          "output_type": "stream",
          "text": [
            "0.04894417685202577 0.9450387310955367 0.909324456617186 0.9521149241819633 0.8336827393431167 0.8336827393431167 0.8559864447888458 0.9590037577561392 0.8889716840536512\n",
            "Epoch: 124 / 500, ############## the best accuracy in val  94.6145 at Epoch: 71  ##############\n",
            "Performance in Val: Loss: (0.0489); Accuracy (94.50)\n"
          ]
        },
        {
          "name": "stderr",
          "output_type": "stream",
          "text": [
            "Epoch 125: 100%|██████████| 1496/1496 [00:21<00:00, 68.65batch/s, train_loss=tensor(0.0090, device='cuda:0', grad_fn=<MseLossBackward0>)]\n"
          ]
        },
        {
          "name": "stdout",
          "output_type": "stream",
          "text": [
            "0.04971572121774608 0.9430099594245666 0.9066016111372881 0.9480830670926518 0.8294898672257163 0.8294898672257163 0.8505298883276663 0.9567751234827628 0.8848304137159895\n",
            "Epoch: 125 / 500, ############## the best accuracy in val  94.6145 at Epoch: 71  ##############\n",
            "Performance in Val: Loss: (0.0497); Accuracy (94.30)\n"
          ]
        },
        {
          "name": "stderr",
          "output_type": "stream",
          "text": [
            "Epoch 126: 100%|██████████| 1496/1496 [00:22<00:00, 67.88batch/s, train_loss=tensor(0.0059, device='cuda:0', grad_fn=<MseLossBackward0>)]\n"
          ]
        },
        {
          "name": "stdout",
          "output_type": "stream",
          "text": [
            "0.04889506364071911 0.9441165621541866 0.9082497989449007 0.9497607655502392 0.8322851153039832 0.8322851153039832 0.8535009966198318 0.9590144386714972 0.8871508379888268\n",
            "Epoch: 126 / 500, ############## the best accuracy in val  94.6145 at Epoch: 71  ##############\n",
            "Performance in Val: Loss: (0.0489); Accuracy (94.41)\n"
          ]
        },
        {
          "name": "stderr",
          "output_type": "stream",
          "text": [
            "Epoch 127: 100%|██████████| 1496/1496 [00:21<00:00, 68.07batch/s, train_loss=tensor(0.0071, device='cuda:0', grad_fn=<MseLossBackward0>)]\n"
          ]
        },
        {
          "name": "stdout",
          "output_type": "stream",
          "text": [
            "0.04899268995293162 0.9455920324603467 0.9097003022699046 0.9544 0.8336827393431167 0.8336827393431167 0.8574914618721344 0.9565770888062082 0.8899664304364042\n",
            "Epoch: 127 / 500, ############## the best accuracy in val  94.6145 at Epoch: 71  ##############\n",
            "Performance in Val: Loss: (0.0490); Accuracy (94.56)\n"
          ]
        },
        {
          "name": "stderr",
          "output_type": "stream",
          "text": [
            "Epoch 128: 100%|██████████| 1496/1496 [00:22<00:00, 67.60batch/s, train_loss=tensor(0.0078, device='cuda:0', grad_fn=<MseLossBackward0>)]\n"
          ]
        },
        {
          "name": "stdout",
          "output_type": "stream",
          "text": [
            "0.04958169323138215 0.9420877904832166 0.9057510775905466 0.9450199203187251 0.8287910552061496 0.8287910552061496 0.8480407963676275 0.9565061745321102 0.8830975428145942\n",
            "Epoch: 128 / 500, ############## the best accuracy in val  94.6145 at Epoch: 71  ##############\n",
            "Performance in Val: Loss: (0.0496); Accuracy (94.21)\n"
          ]
        },
        {
          "name": "stderr",
          "output_type": "stream",
          "text": [
            "Epoch 129: 100%|██████████| 1496/1496 [00:22<00:00, 66.75batch/s, train_loss=tensor(0.0109, device='cuda:0', grad_fn=<MseLossBackward0>)]\n"
          ]
        },
        {
          "name": "stdout",
          "output_type": "stream",
          "text": [
            "0.04886539873074402 0.9446698635189967 0.9084015204720755 0.9527622097678142 0.8315863032844165 0.8315863032844165 0.8550127976058494 0.9580158606340157 0.8880597014925373\n",
            "Epoch: 129 / 500, ############## the best accuracy in val  94.6145 at Epoch: 71  ##############\n",
            "Performance in Val: Loss: (0.0489); Accuracy (94.47)\n"
          ]
        },
        {
          "name": "stderr",
          "output_type": "stream",
          "text": [
            "Epoch 130: 100%|██████████| 1496/1496 [00:22<00:00, 67.59batch/s, train_loss=tensor(0.0072, device='cuda:0', grad_fn=<MseLossBackward0>)]\n"
          ]
        },
        {
          "name": "stdout",
          "output_type": "stream",
          "text": [
            "0.049063183197920975 0.9448542973072667 0.9083026782307712 0.9542536115569823 0.8308874912648497 0.8308874912648497 0.8555268398919168 0.9589048279663485 0.8883078072469182\n",
            "Epoch: 130 / 500, ############## the best accuracy in val  94.6145 at Epoch: 71  ##############\n",
            "Performance in Val: Loss: (0.0491); Accuracy (94.49)\n"
          ]
        },
        {
          "name": "stderr",
          "output_type": "stream",
          "text": [
            "Epoch 131: 100%|██████████| 1496/1496 [00:22<00:00, 66.76batch/s, train_loss=tensor(0.0047, device='cuda:0', grad_fn=<MseLossBackward0>)]\n"
          ]
        },
        {
          "name": "stdout",
          "output_type": "stream",
          "text": [
            "0.04925481644882397 0.9437476945776466 0.9071027386742463 0.9511217948717948 0.8294898672257163 0.8294898672257163 0.8525329737898545 0.9578815612556624 0.8861515490854798\n",
            "Epoch: 131 / 500, ############## the best accuracy in val  94.6145 at Epoch: 71  ##############\n",
            "Performance in Val: Loss: (0.0493); Accuracy (94.37)\n"
          ]
        },
        {
          "name": "stderr",
          "output_type": "stream",
          "text": [
            "Epoch 132: 100%|██████████| 1496/1496 [00:22<00:00, 66.86batch/s, train_loss=tensor(0.0080, device='cuda:0', grad_fn=<MseLossBackward0>)]\n"
          ]
        },
        {
          "name": "stdout",
          "output_type": "stream",
          "text": [
            "0.04919240632179109 0.9444854297307267 0.9078279903367483 0.9534510433386838 0.8301886792452831 0.8301886792452831 0.8545322144447655 0.9577118922887469 0.8875607022786701\n",
            "Epoch: 132 / 500, ############## the best accuracy in val  94.6145 at Epoch: 71  ##############\n",
            "Performance in Val: Loss: (0.0492); Accuracy (94.45)\n"
          ]
        },
        {
          "name": "stderr",
          "output_type": "stream",
          "text": [
            "Epoch 133: 100%|██████████| 1496/1496 [00:22<00:00, 67.37batch/s, train_loss=tensor(0.0098, device='cuda:0', grad_fn=<MseLossBackward0>)]\n"
          ]
        },
        {
          "name": "stdout",
          "output_type": "stream",
          "text": [
            "0.049043948338790375 0.9439321283659167 0.9076762688095734 0.950439648281375 0.8308874912648497 0.8308874912648497 0.853016355312642 0.9572893832927021 0.8866517524235645\n",
            "Epoch: 133 / 500, ############## the best accuracy in val  94.6145 at Epoch: 71  ##############\n",
            "Performance in Val: Loss: (0.0490); Accuracy (94.39)\n"
          ]
        },
        {
          "name": "stderr",
          "output_type": "stream",
          "text": [
            "Epoch 134: 100%|██████████| 1496/1496 [00:21<00:00, 68.72batch/s, train_loss=tensor(0.0060, device='cuda:0', grad_fn=<MseLossBackward0>)]\n"
          ]
        },
        {
          "name": "stdout",
          "output_type": "stream",
          "text": [
            "0.050071464851498604 0.9435632607893766 0.9058568361622876 0.9539951573849879 0.8259958071278826 0.8259958071278826 0.8520870333688241 0.9539091362273712 0.8853932584269664\n",
            "Epoch: 134 / 500, ############## the best accuracy in val  94.6145 at Epoch: 71  ##############\n",
            "Performance in Val: Loss: (0.0501); Accuracy (94.36)\n"
          ]
        },
        {
          "name": "stderr",
          "output_type": "stream",
          "text": [
            "Epoch 135: 100%|██████████| 1496/1496 [00:21<00:00, 68.02batch/s, train_loss=tensor(0.0089, device='cuda:0', grad_fn=<MseLossBackward0>)]\n"
          ]
        },
        {
          "name": "stdout",
          "output_type": "stream",
          "text": [
            "0.04914081062782894 0.9430099594245666 0.9061533628862004 0.9495192307692307 0.8280922431865828 0.8280922431865828 0.8505448413433311 0.9592119480571327 0.8846584546472563\n",
            "Epoch: 135 / 500, ############## the best accuracy in val  94.6145 at Epoch: 71  ##############\n",
            "Performance in Val: Loss: (0.0491); Accuracy (94.30)\n"
          ]
        },
        {
          "name": "stderr",
          "output_type": "stream",
          "text": [
            "Epoch 136: 100%|██████████| 1496/1496 [00:21<00:00, 68.74batch/s, train_loss=tensor(0.0059, device='cuda:0', grad_fn=<MseLossBackward0>)]\n"
          ]
        },
        {
          "name": "stdout",
          "output_type": "stream",
          "text": [
            "0.048476040617308834 0.9454075986720767 0.9104715168878404 0.9507545671167593 0.8364779874213837 0.8364779874213837 0.8569542406290327 0.9595786011187647 0.8899628252788104\n",
            "Epoch: 136 / 500, ############## the best accuracy in val  94.6145 at Epoch: 71  ##############\n",
            "Performance in Val: Loss: (0.0485); Accuracy (94.54)\n"
          ]
        },
        {
          "name": "stderr",
          "output_type": "stream",
          "text": [
            "Epoch 137: 100%|██████████| 1496/1496 [00:21<00:00, 68.59batch/s, train_loss=tensor(0.0057, device='cuda:0', grad_fn=<MseLossBackward0>)]\n"
          ]
        },
        {
          "name": "stdout",
          "output_type": "stream",
          "text": [
            "0.04936364496296102 0.9431943932128366 0.9065027688959839 0.9495596477181746 0.8287910552061496 0.8287910552061496 0.8510376486025939 0.9584928247886887 0.8850746268656717\n",
            "Epoch: 137 / 500, ############## the best accuracy in val  94.6145 at Epoch: 71  ##############\n",
            "Performance in Val: Loss: (0.0494); Accuracy (94.32)\n"
          ]
        },
        {
          "name": "stderr",
          "output_type": "stream",
          "text": [
            "Epoch 138: 100%|██████████| 1496/1496 [00:21<00:00, 69.26batch/s, train_loss=tensor(0.0102, device='cuda:0', grad_fn=<MseLossBackward0>)]\n"
          ]
        },
        {
          "name": "stdout",
          "output_type": "stream",
          "text": [
            "0.04859408846294338 0.9443009959424566 0.9083750808291402 0.9505187549880287 0.8322851153039832 0.8322851153039832 0.8540010935779897 0.9588878435599596 0.8874813710879285\n",
            "Epoch: 138 / 500, ############## the best accuracy in val  94.6145 at Epoch: 71  ##############\n",
            "Performance in Val: Loss: (0.0486); Accuracy (94.43)\n"
          ]
        },
        {
          "name": "stderr",
          "output_type": "stream",
          "text": [
            "Epoch 139: 100%|██████████| 1496/1496 [00:22<00:00, 67.87batch/s, train_loss=tensor(0.0068, device='cuda:0', grad_fn=<MseLossBackward0>)]\n"
          ]
        },
        {
          "name": "stdout",
          "output_type": "stream",
          "text": [
            "0.049260522577572956 0.9430099594245666 0.9061533628862004 0.9495192307692307 0.8280922431865828 0.8280922431865828 0.8505448413433311 0.9578234290605996 0.8846584546472563\n",
            "Epoch: 139 / 500, ############## the best accuracy in val  94.6145 at Epoch: 71  ##############\n",
            "Performance in Val: Loss: (0.0493); Accuracy (94.30)\n"
          ]
        },
        {
          "name": "stderr",
          "output_type": "stream",
          "text": [
            "Epoch 140: 100%|██████████| 1496/1496 [00:21<00:00, 68.39batch/s, train_loss=tensor(0.0063, device='cuda:0', grad_fn=<MseLossBackward0>)]\n"
          ]
        },
        {
          "name": "stdout",
          "output_type": "stream",
          "text": [
            "0.048986698924140495 0.9433788270011066 0.9061798025291357 0.9517684887459807 0.827393431167016 0.827393431167016 0.8515587044257904 0.957889440619451 0.8852336448598132\n",
            "Epoch: 140 / 500, ############## the best accuracy in val  94.6145 at Epoch: 71  ##############\n",
            "Performance in Val: Loss: (0.0490); Accuracy (94.34)\n"
          ]
        },
        {
          "name": "stderr",
          "output_type": "stream",
          "text": [
            "Epoch 141: 100%|██████████| 1496/1496 [00:22<00:00, 67.25batch/s, train_loss=tensor(0.0084, device='cuda:0', grad_fn=<MseLossBackward0>)]\n"
          ]
        },
        {
          "name": "stdout",
          "output_type": "stream",
          "text": [
            "0.04953494557941502 0.9430099594245666 0.9052568663840251 0.9524193548387097 0.8252969951083159 0.8252969951083159 0.850585943778513 0.957921658462498 0.8843129913889929\n",
            "Epoch: 141 / 500, ############## the best accuracy in val  94.6145 at Epoch: 71  ##############\n",
            "Performance in Val: Loss: (0.0495); Accuracy (94.30)\n"
          ]
        },
        {
          "name": "stderr",
          "output_type": "stream",
          "text": [
            "Epoch 142: 100%|██████████| 1496/1496 [00:21<00:00, 68.67batch/s, train_loss=tensor(0.0077, device='cuda:0', grad_fn=<MseLossBackward0>)]\n"
          ]
        },
        {
          "name": "stdout",
          "output_type": "stream",
          "text": [
            "0.04949616378342563 0.9439321283659167 0.9074521446840296 0.9511609287429944 0.8301886792452831 0.8301886792452831 0.8530252231042216 0.9568640727450881 0.8865671641791044\n",
            "Epoch: 142 / 500, ############## the best accuracy in val  94.6145 at Epoch: 71  ##############\n",
            "Performance in Val: Loss: (0.0495); Accuracy (94.39)\n"
          ]
        },
        {
          "name": "stderr",
          "output_type": "stream",
          "text": [
            "Epoch 143: 100%|██████████| 1496/1496 [00:21<00:00, 68.27batch/s, train_loss=tensor(0.0098, device='cuda:0', grad_fn=<MseLossBackward0>)]\n"
          ]
        },
        {
          "name": "stdout",
          "output_type": "stream",
          "text": [
            "0.04909980254755779 0.9435632607893766 0.9069774567900067 0.9503602882305845 0.8294898672257163 0.8294898672257163 0.8520314358534078 0.9568071662288365 0.885820895522388\n",
            "Epoch: 143 / 500, ############## the best accuracy in val  94.6145 at Epoch: 71  ##############\n",
            "Performance in Val: Loss: (0.0491); Accuracy (94.36)\n"
          ]
        },
        {
          "name": "stderr",
          "output_type": "stream",
          "text": [
            "Epoch 144: 100%|██████████| 1496/1496 [00:21<00:00, 69.04batch/s, train_loss=tensor(0.0100, device='cuda:0', grad_fn=<MseLossBackward0>)]\n"
          ]
        },
        {
          "name": "stdout",
          "output_type": "stream",
          "text": [
            "0.049058941192924976 0.9420877904832166 0.9055269534650028 0.945730247406225 0.8280922431865828 0.8280922431865828 0.8480450399454215 0.9577786042354907 0.8830104321907601\n",
            "Epoch: 144 / 500, ############## the best accuracy in val  94.6145 at Epoch: 71  ##############\n",
            "Performance in Val: Loss: (0.0491); Accuracy (94.21)\n"
          ]
        },
        {
          "name": "stderr",
          "output_type": "stream",
          "text": [
            "Epoch 145: 100%|██████████| 1496/1496 [00:21<00:00, 68.19batch/s, train_loss=tensor(0.0056, device='cuda:0', grad_fn=<MseLossBackward0>)]\n"
          ]
        },
        {
          "name": "stdout",
          "output_type": "stream",
          "text": [
            "0.0488436407494274 0.9431943932128366 0.9067268930215276 0.9488409272581935 0.8294898672257163 0.8294898672257163 0.8510298941509324 0.959462686922585 0.8851603281133482\n",
            "Epoch: 145 / 500, ############## the best accuracy in val  94.6145 at Epoch: 71  ##############\n",
            "Performance in Val: Loss: (0.0488); Accuracy (94.32)\n"
          ]
        },
        {
          "name": "stderr",
          "output_type": "stream",
          "text": [
            "Epoch 146: 100%|██████████| 1496/1496 [00:21<00:00, 69.19batch/s, train_loss=tensor(0.0125, device='cuda:0', grad_fn=<MseLossBackward0>)]\n"
          ]
        },
        {
          "name": "stdout",
          "output_type": "stream",
          "text": [
            "0.04902958192608573 0.9439321283659167 0.907003896432942 0.9526104417670683 0.8287910552061496 0.8287910552061496 0.8530457626430679 0.956751835585343 0.8863976083707027\n",
            "Epoch: 146 / 500, ############## the best accuracy in val  94.6145 at Epoch: 71  ##############\n",
            "Performance in Val: Loss: (0.0490); Accuracy (94.39)\n"
          ]
        },
        {
          "name": "stderr",
          "output_type": "stream",
          "text": [
            "Epoch 147: 100%|██████████| 1496/1496 [00:22<00:00, 68.00batch/s, train_loss=tensor(0.0087, device='cuda:0', grad_fn=<MseLossBackward0>)]\n"
          ]
        },
        {
          "name": "stdout",
          "output_type": "stream",
          "text": [
            "0.049036676487462086 0.9430099594245666 0.9070498593883758 0.946656050955414 0.8308874912648497 0.8308874912648497 0.8505186339628639 0.9590925319214916 0.8850018608113137\n",
            "Epoch: 147 / 500, ############## the best accuracy in val  94.6145 at Epoch: 71  ##############\n",
            "Performance in Val: Loss: (0.0490); Accuracy (94.30)\n"
          ]
        },
        {
          "name": "stderr",
          "output_type": "stream",
          "text": [
            "Epoch 148: 100%|██████████| 1496/1496 [00:21<00:00, 68.42batch/s, train_loss=tensor(0.0085, device='cuda:0', grad_fn=<MseLossBackward0>)]\n"
          ]
        },
        {
          "name": "stdout",
          "output_type": "stream",
          "text": [
            "0.048504524271596565 0.9455920324603467 0.9101485505209923 0.9529505582137161 0.8350803633822502 0.8350803633822502 0.857470591624449 0.9614664966825252 0.8901303538175047\n",
            "Epoch: 148 / 500, ############## the best accuracy in val  94.6145 at Epoch: 71  ##############\n",
            "Performance in Val: Loss: (0.0485); Accuracy (94.56)\n"
          ]
        },
        {
          "name": "stderr",
          "output_type": "stream",
          "text": [
            "Epoch 149: 100%|██████████| 1496/1496 [00:21<00:00, 68.66batch/s, train_loss=tensor(0.0082, device='cuda:0', grad_fn=<MseLossBackward0>)]\n"
          ]
        },
        {
          "name": "stdout",
          "output_type": "stream",
          "text": [
            "0.048551352440633556 0.9454075986720767 0.9100232686367528 0.952191235059761 0.8350803633822502 0.8350803633822502 0.8569698972305841 0.9588659564383244 0.8897989575577067\n",
            "Epoch: 149 / 500, ############## the best accuracy in val  94.6145 at Epoch: 71  ##############\n",
            "Performance in Val: Loss: (0.0486); Accuracy (94.54)\n"
          ]
        },
        {
          "name": "stderr",
          "output_type": "stream",
          "text": [
            "Epoch 150: 100%|██████████| 1496/1496 [00:21<00:00, 68.81batch/s, train_loss=tensor(0.0062, device='cuda:0', grad_fn=<MseLossBackward0>)]\n"
          ]
        },
        {
          "name": "stdout",
          "output_type": "stream",
          "text": [
            "0.04920375220138918 0.9452231648838068 0.9101221108780571 0.9507154213036566 0.8357791754018169 0.8357791754018169 0.8564621592664342 0.9576828261912153 0.889550018594273\n",
            "Epoch: 150 / 500, ############## the best accuracy in val  94.6145 at Epoch: 71  ##############\n",
            "Performance in Val: Loss: (0.0492); Accuracy (94.52)\n"
          ]
        },
        {
          "name": "stderr",
          "output_type": "stream",
          "text": [
            "Epoch 151: 100%|██████████| 1496/1496 [00:21<00:00, 68.10batch/s, train_loss=tensor(0.0065, device='cuda:0', grad_fn=<MseLossBackward0>)]\n"
          ]
        },
        {
          "name": "stdout",
          "output_type": "stream",
          "text": [
            "0.04916881075636907 0.9435632607893766 0.9067533326644629 0.9510825982357658 0.8287910552061496 0.8287910552061496 0.8520406788709047 0.9554485888147003 0.8857356235997011\n",
            "Epoch: 151 / 500, ############## the best accuracy in val  94.6145 at Epoch: 71  ##############\n",
            "Performance in Val: Loss: (0.0492); Accuracy (94.36)\n"
          ]
        },
        {
          "name": "stderr",
          "output_type": "stream",
          "text": [
            "Epoch 152: 100%|██████████| 1496/1496 [00:21<00:00, 68.96batch/s, train_loss=tensor(0.0063, device='cuda:0', grad_fn=<MseLossBackward0>)]\n"
          ]
        },
        {
          "name": "stdout",
          "output_type": "stream",
          "text": [
            "0.04871866267851808 0.9443009959424566 0.9077027084525087 0.9526864474739375 0.8301886792452831 0.8301886792452831 0.8540293701144438 0.9586101397606529 0.8872292755787902\n",
            "Epoch: 152 / 500, ############## the best accuracy in val  94.6145 at Epoch: 71  ##############\n",
            "Performance in Val: Loss: (0.0487); Accuracy (94.43)\n"
          ]
        },
        {
          "name": "stderr",
          "output_type": "stream",
          "text": [
            "Epoch 153: 100%|██████████| 1496/1496 [00:22<00:00, 67.49batch/s, train_loss=tensor(0.0083, device='cuda:0', grad_fn=<MseLossBackward0>)]\n"
          ]
        },
        {
          "name": "stdout",
          "output_type": "stream",
          "text": [
            "0.04897021290592172 0.9439321283659167 0.9074521446840296 0.9511609287429944 0.8301886792452831 0.8301886792452831 0.8530252231042216 0.9592986210588078 0.8865671641791044\n",
            "Epoch: 153 / 500, ############## the best accuracy in val  94.6145 at Epoch: 71  ##############\n",
            "Performance in Val: Loss: (0.0490); Accuracy (94.39)\n"
          ]
        },
        {
          "name": "stderr",
          "output_type": "stream",
          "text": [
            "Epoch 154: 100%|██████████| 1496/1496 [00:21<00:00, 68.04batch/s, train_loss=tensor(0.0067, device='cuda:0', grad_fn=<MseLossBackward0>)]\n"
          ]
        },
        {
          "name": "stdout",
          "output_type": "stream",
          "text": [
            "0.04862811153923923 0.9439321283659167 0.9081245170606611 0.949003984063745 0.8322851153039832 0.8322851153039832 0.853001407958159 0.9611360886943212 0.8868205510052122\n",
            "Epoch: 154 / 500, ############## the best accuracy in val  94.6145 at Epoch: 71  ##############\n",
            "Performance in Val: Loss: (0.0486); Accuracy (94.39)\n"
          ]
        },
        {
          "name": "stderr",
          "output_type": "stream",
          "text": [
            "Epoch 155: 100%|██████████| 1496/1496 [00:21<00:00, 68.81batch/s, train_loss=tensor(0.0110, device='cuda:0', grad_fn=<MseLossBackward0>)]\n"
          ]
        },
        {
          "name": "stdout",
          "output_type": "stream",
          "text": [
            "0.04849381643262776 0.9446698635189967 0.909073892848707 0.950597609561753 0.8336827393431167 0.8336827393431167 0.8549856525943716 0.9604628408328242 0.8883097542814594\n",
            "Epoch: 155 / 500, ############## the best accuracy in val  94.6145 at Epoch: 71  ##############\n",
            "Performance in Val: Loss: (0.0485); Accuracy (94.47)\n"
          ]
        },
        {
          "name": "stderr",
          "output_type": "stream",
          "text": [
            "Epoch 156: 100%|██████████| 1496/1496 [00:21<00:00, 68.52batch/s, train_loss=tensor(0.0089, device='cuda:0', grad_fn=<MseLossBackward0>)]\n"
          ]
        },
        {
          "name": "stdout",
          "output_type": "stream",
          "text": [
            "0.048469682732089 0.9454075986720767 0.9102473927622965 0.9514717581543357 0.8357791754018169 0.8357791754018169 0.856961605013021 0.9584597314607762 0.8898809523809523\n",
            "Epoch: 156 / 500, ############## the best accuracy in val  94.6145 at Epoch: 71  ##############\n",
            "Performance in Val: Loss: (0.0485); Accuracy (94.54)\n"
          ]
        },
        {
          "name": "stderr",
          "output_type": "stream",
          "text": [
            "Epoch 157: 100%|██████████| 1496/1496 [00:21<00:00, 68.30batch/s, train_loss=tensor(0.0089, device='cuda:0', grad_fn=<MseLossBackward0>)]\n"
          ]
        },
        {
          "name": "stdout",
          "output_type": "stream",
          "text": [
            "0.049075875685296276 0.9457764662486168 0.9098255841541442 0.9551641313050441 0.8336827393431167 0.8336827393431167 0.857994159358291 0.9563118168919902 0.8902985074626866\n",
            "Epoch: 157 / 500, ############## the best accuracy in val  94.6145 at Epoch: 71  ##############\n",
            "Performance in Val: Loss: (0.0491); Accuracy (94.58)\n"
          ]
        },
        {
          "name": "stderr",
          "output_type": "stream",
          "text": [
            "Epoch 158: 100%|██████████| 1496/1496 [00:21<00:00, 69.85batch/s, train_loss=tensor(0.0049, device='cuda:0', grad_fn=<MseLossBackward0>)]\n"
          ]
        },
        {
          "name": "stdout",
          "output_type": "stream",
          "text": [
            "0.04866959112273021 0.9444854297307267 0.9085003627133796 0.9512779552715654 0.8322851153039832 0.8322851153039832 0.8545016998545761 0.9593157805621698 0.8878121505777116\n",
            "Epoch: 158 / 500, ############## the best accuracy in val  94.6145 at Epoch: 71  ##############\n",
            "Performance in Val: Loss: (0.0487); Accuracy (94.45)\n"
          ]
        },
        {
          "name": "stderr",
          "output_type": "stream",
          "text": [
            "Epoch 159: 100%|██████████| 1496/1496 [00:21<00:00, 68.60batch/s, train_loss=tensor(0.0076, device='cuda:0', grad_fn=<MseLossBackward0>)]\n"
          ]
        },
        {
          "name": "stdout",
          "output_type": "stream",
          "text": [
            "0.04874975818463347 0.9446698635189967 0.9086256445976193 0.9520383693045563 0.8322851153039832 0.8322851153039832 0.8550028164743516 0.9581825529523889 0.8881431767337807\n",
            "Epoch: 159 / 500, ############## the best accuracy in val  94.6145 at Epoch: 71  ##############\n",
            "Performance in Val: Loss: (0.0487); Accuracy (94.47)\n"
          ]
        },
        {
          "name": "stderr",
          "output_type": "stream",
          "text": [
            "Epoch 160: 100%|██████████| 1496/1496 [00:23<00:00, 63.95batch/s, train_loss=tensor(0.0057, device='cuda:0', grad_fn=<MseLossBackward0>)]\n"
          ]
        },
        {
          "name": "stdout",
          "output_type": "stream",
          "text": [
            "0.04921469185501337 0.9431943932128366 0.9056062723938085 0.9524576954069299 0.8259958071278826 0.8259958071278826 0.8510779999776357 0.9582168719591126 0.8847305389221557\n",
            "Epoch: 160 / 500, ############## the best accuracy in val  94.6145 at Epoch: 71  ##############\n",
            "Performance in Val: Loss: (0.0492); Accuracy (94.32)\n"
          ]
        },
        {
          "name": "stderr",
          "output_type": "stream",
          "text": [
            "Epoch 161: 100%|██████████| 1496/1496 [00:23<00:00, 63.75batch/s, train_loss=tensor(0.0094, device='cuda:0', grad_fn=<MseLossBackward0>)]\n"
          ]
        },
        {
          "name": "stdout",
          "output_type": "stream",
          "text": [
            "0.04823135186664083 0.9454075986720767 0.9102473927622965 0.9514717581543357 0.8357791754018169 0.8357791754018169 0.856961605013021 0.9598443983239017 0.8898809523809523\n",
            "Epoch: 161 / 500, ############## the best accuracy in val  94.6145 at Epoch: 71  ##############\n",
            "Performance in Val: Loss: (0.0482); Accuracy (94.54)\n"
          ]
        },
        {
          "name": "stderr",
          "output_type": "stream",
          "text": [
            "Epoch 162: 100%|██████████| 1496/1496 [00:23<00:00, 64.81batch/s, train_loss=tensor(0.0049, device='cuda:0', grad_fn=<MseLossBackward0>)]\n"
          ]
        },
        {
          "name": "stdout",
          "output_type": "stream",
          "text": [
            "0.04949499243362383 0.9439321283659167 0.907003896432942 0.9526104417670683 0.8287910552061496 0.8287910552061496 0.8530457626430679 0.9564380618095816 0.8863976083707027\n",
            "Epoch: 162 / 500, ############## the best accuracy in val  94.6145 at Epoch: 71  ##############\n",
            "Performance in Val: Loss: (0.0495); Accuracy (94.39)\n"
          ]
        },
        {
          "name": "stderr",
          "output_type": "stream",
          "text": [
            "Epoch 163: 100%|██████████| 1496/1496 [00:21<00:00, 68.46batch/s, train_loss=tensor(0.0074, device='cuda:0', grad_fn=<MseLossBackward0>)]\n"
          ]
        },
        {
          "name": "stdout",
          "output_type": "stream",
          "text": [
            "0.048519641160964966 0.9439321283659167 0.9074521446840296 0.9511609287429944 0.8301886792452831 0.8301886792452831 0.8530252231042216 0.959993931138913 0.8865671641791044\n",
            "Epoch: 163 / 500, ############## the best accuracy in val  94.6145 at Epoch: 71  ##############\n",
            "Performance in Val: Loss: (0.0485); Accuracy (94.39)\n"
          ]
        },
        {
          "name": "stderr",
          "output_type": "stream",
          "text": [
            "Epoch 164: 100%|██████████| 1496/1496 [00:22<00:00, 67.41batch/s, train_loss=tensor(0.0091, device='cuda:0', grad_fn=<MseLossBackward0>)]\n"
          ]
        },
        {
          "name": "stdout",
          "output_type": "stream",
          "text": [
            "0.04921009721742435 0.9450387310955367 0.9088762083660984 0.9535628502802241 0.8322851153039832 0.8322851153039832 0.8560065848566633 0.955974580121836 0.8888059701492538\n",
            "Epoch: 164 / 500, ############## the best accuracy in val  94.6145 at Epoch: 71  ##############\n",
            "Performance in Val: Loss: (0.0492); Accuracy (94.50)\n"
          ]
        },
        {
          "name": "stderr",
          "output_type": "stream",
          "text": [
            "Epoch 165: 100%|██████████| 1496/1496 [00:21<00:00, 68.86batch/s, train_loss=tensor(0.0120, device='cuda:0', grad_fn=<MseLossBackward0>)]\n"
          ]
        },
        {
          "name": "stdout",
          "output_type": "stream",
          "text": [
            "0.04946359179236672 0.9430099594245666 0.9057051146351127 0.9509646302250804 0.8266946191474493 0.8266946191474493 0.8505635180439866 0.9582009381345624 0.8844859813084113\n",
            "Epoch: 165 / 500, ############## the best accuracy in val  94.6145 at Epoch: 71  ##############\n",
            "Performance in Val: Loss: (0.0495); Accuracy (94.30)\n"
          ]
        },
        {
          "name": "stderr",
          "output_type": "stream",
          "text": [
            "Epoch 166: 100%|██████████| 1496/1496 [00:22<00:00, 67.03batch/s, train_loss=tensor(0.0067, device='cuda:0', grad_fn=<MseLossBackward0>)]\n"
          ]
        },
        {
          "name": "stdout",
          "output_type": "stream",
          "text": [
            "0.04922931717539376 0.9433788270011066 0.9061798025291357 0.9517684887459807 0.827393431167016 0.827393431167016 0.8515587044257904 0.9580616484924764 0.8852336448598132\n",
            "Epoch: 166 / 500, ############## the best accuracy in val  94.6145 at Epoch: 71  ##############\n",
            "Performance in Val: Loss: (0.0492); Accuracy (94.34)\n"
          ]
        },
        {
          "name": "stderr",
          "output_type": "stream",
          "text": [
            "Epoch 167: 100%|██████████| 1496/1496 [00:22<00:00, 67.89batch/s, train_loss=tensor(0.0059, device='cuda:0', grad_fn=<MseLossBackward0>)]\n"
          ]
        },
        {
          "name": "stdout",
          "output_type": "stream",
          "text": [
            "0.0493971278721636 0.9439321283659167 0.9074521446840296 0.9511609287429944 0.8301886792452831 0.8301886792452831 0.8530252231042216 0.9580069306883885 0.8865671641791044\n",
            "Epoch: 167 / 500, ############## the best accuracy in val  94.6145 at Epoch: 71  ##############\n",
            "Performance in Val: Loss: (0.0494); Accuracy (94.39)\n"
          ]
        },
        {
          "name": "stderr",
          "output_type": "stream",
          "text": [
            "Epoch 168: 100%|██████████| 1496/1496 [00:22<00:00, 67.66batch/s, train_loss=tensor(0.0109, device='cuda:0', grad_fn=<MseLossBackward0>)]\n"
          ]
        },
        {
          "name": "stdout",
          "output_type": "stream",
          "text": [
            "0.049137128347700294 0.9435632607893766 0.907873953292182 0.9474940334128878 0.8322851153039832 0.8322851153039832 0.8520037514505265 0.9586267739730956 0.8861607142857143\n",
            "Epoch: 168 / 500, ############## the best accuracy in val  94.6145 at Epoch: 71  ##############\n",
            "Performance in Val: Loss: (0.0491); Accuracy (94.36)\n"
          ]
        },
        {
          "name": "stderr",
          "output_type": "stream",
          "text": [
            "Epoch 169: 100%|██████████| 1496/1496 [00:21<00:00, 68.17batch/s, train_loss=tensor(0.0078, device='cuda:0', grad_fn=<MseLossBackward0>)]\n"
          ]
        },
        {
          "name": "stdout",
          "output_type": "stream",
          "text": [
            "0.04891409606418826 0.9446698635189967 0.9084015204720755 0.9527622097678142 0.8315863032844165 0.8315863032844165 0.8550127976058494 0.9589195361120872 0.8880597014925373\n",
            "Epoch: 169 / 500, ############## the best accuracy in val  94.6145 at Epoch: 71  ##############\n",
            "Performance in Val: Loss: (0.0489); Accuracy (94.47)\n"
          ]
        },
        {
          "name": "stderr",
          "output_type": "stream",
          "text": [
            "Epoch 170: 100%|██████████| 1496/1496 [00:22<00:00, 67.39batch/s, train_loss=tensor(0.0079, device='cuda:0', grad_fn=<MseLossBackward0>)]\n"
          ]
        },
        {
          "name": "stdout",
          "output_type": "stream",
          "text": [
            "0.04889964998107065 0.9441165621541866 0.9075774265682692 0.9519230769230769 0.8301886792452831 0.8301886792452831 0.8535270400131162 0.9587404119086252 0.8868980963045913\n",
            "Epoch: 170 / 500, ############## the best accuracy in val  94.6145 at Epoch: 71  ##############\n",
            "Performance in Val: Loss: (0.0489); Accuracy (94.41)\n"
          ]
        },
        {
          "name": "stderr",
          "output_type": "stream",
          "text": [
            "Epoch 171: 100%|██████████| 1496/1496 [00:22<00:00, 66.94batch/s, train_loss=tensor(0.0105, device='cuda:0', grad_fn=<MseLossBackward0>)]\n"
          ]
        },
        {
          "name": "stdout",
          "output_type": "stream",
          "text": [
            "0.048454459248618645 0.9441165621541866 0.9071291783171815 0.9533762057877814 0.8287910552061496 0.8287910552061496 0.853549077189398 0.9612385204235735 0.8867289719626168\n",
            "Epoch: 171 / 500, ############## the best accuracy in val  94.6145 at Epoch: 71  ##############\n",
            "Performance in Val: Loss: (0.0485); Accuracy (94.41)\n"
          ]
        },
        {
          "name": "stderr",
          "output_type": "stream",
          "text": [
            "Epoch 172: 100%|██████████| 1496/1496 [00:21<00:00, 68.22batch/s, train_loss=tensor(0.0095, device='cuda:0', grad_fn=<MseLossBackward0>)]\n"
          ]
        },
        {
          "name": "stdout",
          "output_type": "stream",
          "text": [
            "0.04929144206372174 0.9428255256362966 0.9062522051275048 0.9480415667466027 0.8287910552061496 0.8287910552061496 0.8500366635700776 0.9568183724351138 0.8844146159582401\n",
            "Epoch: 172 / 500, ############## the best accuracy in val  94.6145 at Epoch: 71  ##############\n",
            "Performance in Val: Loss: (0.0493); Accuracy (94.28)\n"
          ]
        },
        {
          "name": "stderr",
          "output_type": "stream",
          "text": [
            "Epoch 173: 100%|██████████| 1496/1496 [00:21<00:00, 68.08batch/s, train_loss=tensor(0.0069, device='cuda:0', grad_fn=<MseLossBackward0>)]\n"
          ]
        },
        {
          "name": "stdout",
          "output_type": "stream",
          "text": [
            "0.048836440440605984 0.9441165621541866 0.9086980471959882 0.9483306836248012 0.8336827393431167 0.8336827393431167 0.8534882726513814 0.9597836396742427 0.8873187058386016\n",
            "Epoch: 173 / 500, ############## the best accuracy in val  94.6145 at Epoch: 71  ##############\n",
            "Performance in Val: Loss: (0.0488); Accuracy (94.41)\n"
          ]
        },
        {
          "name": "stderr",
          "output_type": "stream",
          "text": [
            "Epoch 174: 100%|██████████| 1496/1496 [00:22<00:00, 67.85batch/s, train_loss=tensor(0.0072, device='cuda:0', grad_fn=<MseLossBackward0>)]\n"
          ]
        },
        {
          "name": "stdout",
          "output_type": "stream",
          "text": [
            "0.048888802105052906 0.9443009959424566 0.9079268325780525 0.9519615692554043 0.8308874912648497 0.8308874912648497 0.8540190103550355 0.9592501191972643 0.8873134328358209\n",
            "Epoch: 174 / 500, ############## the best accuracy in val  94.6145 at Epoch: 71  ##############\n",
            "Performance in Val: Loss: (0.0489); Accuracy (94.43)\n"
          ]
        },
        {
          "name": "stderr",
          "output_type": "stream",
          "text": [
            "Epoch 175: 100%|██████████| 1496/1496 [00:21<00:00, 68.19batch/s, train_loss=tensor(0.0066, device='cuda:0', grad_fn=<MseLossBackward0>)]\n"
          ]
        },
        {
          "name": "stdout",
          "output_type": "stream",
          "text": [
            "0.04838330645791509 0.9446698635189967 0.9088497687231631 0.951316839584996 0.83298392732355 0.83298392732355 0.8549937691834177 0.9601410125963011 0.8882265275707898\n",
            "Epoch: 175 / 500, ############## the best accuracy in val  94.6145 at Epoch: 71  ##############\n",
            "Performance in Val: Loss: (0.0484); Accuracy (94.47)\n"
          ]
        },
        {
          "name": "stderr",
          "output_type": "stream",
          "text": [
            "Epoch 176: 100%|██████████| 1496/1496 [00:21<00:00, 68.25batch/s, train_loss=tensor(0.0074, device='cuda:0', grad_fn=<MseLossBackward0>)]\n"
          ]
        },
        {
          "name": "stdout",
          "output_type": "stream",
          "text": [
            "0.04869454337114638 0.9435632607893766 0.9067533326644629 0.9510825982357658 0.8287910552061496 0.8287910552061496 0.8520406788709047 0.9604279965351812 0.8857356235997011\n",
            "Epoch: 176 / 500, ############## the best accuracy in val  94.6145 at Epoch: 71  ##############\n",
            "Performance in Val: Loss: (0.0487); Accuracy (94.36)\n"
          ]
        },
        {
          "name": "stderr",
          "output_type": "stream",
          "text": [
            "Epoch 177: 100%|██████████| 1496/1496 [00:21<00:00, 69.07batch/s, train_loss=tensor(0.0089, device='cuda:0', grad_fn=<MseLossBackward0>)]\n"
          ]
        },
        {
          "name": "stdout",
          "output_type": "stream",
          "text": [
            "0.048990272070196544 0.9437476945776466 0.9071027386742463 0.9511217948717948 0.8294898672257163 0.8294898672257163 0.8525329737898545 0.9578864639709087 0.8861515490854798\n",
            "Epoch: 177 / 500, ############## the best accuracy in val  94.6145 at Epoch: 71  ##############\n",
            "Performance in Val: Loss: (0.0490); Accuracy (94.37)\n"
          ]
        },
        {
          "name": "stderr",
          "output_type": "stream",
          "text": [
            "Epoch 178: 100%|██████████| 1496/1496 [00:22<00:00, 67.13batch/s, train_loss=tensor(0.0066, device='cuda:0', grad_fn=<MseLossBackward0>)]\n"
          ]
        },
        {
          "name": "stdout",
          "output_type": "stream",
          "text": [
            "0.0491674906489524 0.9428255256362966 0.9046833362486979 0.9531123686337915 0.8238993710691824 0.8238993710691824 0.850106657201598 0.9569292088190742 0.883808095952024\n",
            "Epoch: 178 / 500, ############## the best accuracy in val  94.6145 at Epoch: 71  ##############\n",
            "Performance in Val: Loss: (0.0492); Accuracy (94.28)\n"
          ]
        },
        {
          "name": "stderr",
          "output_type": "stream",
          "text": [
            "Epoch 179: 100%|██████████| 1496/1496 [00:21<00:00, 68.56batch/s, train_loss=tensor(0.0053, device='cuda:0', grad_fn=<MseLossBackward0>)]\n"
          ]
        },
        {
          "name": "stdout",
          "output_type": "stream",
          "text": [
            "0.04869250521402468 0.9441165621541866 0.9075774265682692 0.9519230769230769 0.8301886792452831 0.8301886792452831 0.8535270400131162 0.9601861876153561 0.8868980963045913\n",
            "Epoch: 179 / 500, ############## the best accuracy in val  94.6145 at Epoch: 71  ##############\n",
            "Performance in Val: Loss: (0.0487); Accuracy (94.41)\n"
          ]
        },
        {
          "name": "stderr",
          "output_type": "stream",
          "text": [
            "Epoch 180: 100%|██████████| 1496/1496 [00:22<00:00, 67.11batch/s, train_loss=tensor(0.0069, device='cuda:0', grad_fn=<MseLossBackward0>)]\n"
          ]
        },
        {
          "name": "stdout",
          "output_type": "stream",
          "text": [
            "0.049463681283999576 0.9433788270011066 0.9055074301525042 0.9539579967689822 0.8252969951083159 0.8252969951083159 0.8515954500582982 0.9570465237910386 0.8849756463094793\n",
            "Epoch: 180 / 500, ############## the best accuracy in val  94.6145 at Epoch: 71  ##############\n",
            "Performance in Val: Loss: (0.0495); Accuracy (94.34)\n"
          ]
        },
        {
          "name": "stderr",
          "output_type": "stream",
          "text": [
            "Epoch 181: 100%|██████████| 1496/1496 [00:21<00:00, 68.25batch/s, train_loss=tensor(0.0082, device='cuda:0', grad_fn=<MseLossBackward0>)]\n"
          ]
        },
        {
          "name": "stdout",
          "output_type": "stream",
          "text": [
            "0.048678667792542415 0.9452231648838068 0.9085532419992502 0.9557877813504824 0.8308874912648497 0.8308874912648497 0.8565346363348094 0.9592362865363909 0.8889719626168224\n",
            "Epoch: 181 / 500, ############## the best accuracy in val  94.6145 at Epoch: 71  ##############\n",
            "Performance in Val: Loss: (0.0487); Accuracy (94.52)\n"
          ]
        },
        {
          "name": "stderr",
          "output_type": "stream",
          "text": [
            "Epoch 182: 100%|██████████| 1496/1496 [00:22<00:00, 67.73batch/s, train_loss=tensor(0.0058, device='cuda:0', grad_fn=<MseLossBackward0>)]\n"
          ]
        },
        {
          "name": "stdout",
          "output_type": "stream",
          "text": [
            "0.04868297939273444 0.9439321283659167 0.9076762688095734 0.950439648281375 0.8308874912648497 0.8308874912648497 0.853016355312642 0.9583259573733424 0.8866517524235645\n",
            "Epoch: 182 / 500, ############## the best accuracy in val  94.6145 at Epoch: 71  ##############\n",
            "Performance in Val: Loss: (0.0487); Accuracy (94.39)\n"
          ]
        },
        {
          "name": "stderr",
          "output_type": "stream",
          "text": [
            "Epoch 183: 100%|██████████| 1496/1496 [00:21<00:00, 68.78batch/s, train_loss=tensor(0.0049, device='cuda:0', grad_fn=<MseLossBackward0>)]\n"
          ]
        },
        {
          "name": "stdout",
          "output_type": "stream",
          "text": [
            "0.049511689438738606 0.9424566580597565 0.9051051448568503 0.9493975903614458 0.8259958071278826 0.8259958071278826 0.8490661398421749 0.9583863658290552 0.8834080717488789\n",
            "Epoch: 183 / 500, ############## the best accuracy in val  94.6145 at Epoch: 71  ##############\n",
            "Performance in Val: Loss: (0.0495); Accuracy (94.25)\n"
          ]
        },
        {
          "name": "stderr",
          "output_type": "stream",
          "text": [
            "Epoch 184: 100%|██████████| 1496/1496 [00:22<00:00, 67.87batch/s, train_loss=tensor(0.0100, device='cuda:0', grad_fn=<MseLossBackward0>)]\n"
          ]
        },
        {
          "name": "stdout",
          "output_type": "stream",
          "text": [
            "0.048916300335391 0.9433788270011066 0.9064039266546795 0.9510433386837881 0.8280922431865828 0.8280922431865828 0.8515483381033115 0.958718349690017 0.885319387373926\n",
            "Epoch: 184 / 500, ############## the best accuracy in val  94.6145 at Epoch: 71  ##############\n",
            "Performance in Val: Loss: (0.0489); Accuracy (94.34)\n"
          ]
        },
        {
          "name": "stderr",
          "output_type": "stream",
          "text": [
            "Epoch 185: 100%|██████████| 1496/1496 [00:21<00:00, 68.30batch/s, train_loss=tensor(0.0079, device='cuda:0', grad_fn=<MseLossBackward0>)]\n"
          ]
        },
        {
          "name": "stdout",
          "output_type": "stream",
          "text": [
            "0.048522999764166096 0.9444854297307267 0.9080521144622921 0.9527243589743589 0.8308874912648497 0.8308874912648497 0.8545211062363778 0.9593641073267402 0.8876446435237029\n",
            "Epoch: 185 / 500, ############## the best accuracy in val  94.6145 at Epoch: 71  ##############\n",
            "Performance in Val: Loss: (0.0485); Accuracy (94.45)\n"
          ]
        },
        {
          "name": "stderr",
          "output_type": "stream",
          "text": [
            "Epoch 186: 100%|██████████| 1496/1496 [00:21<00:00, 68.47batch/s, train_loss=tensor(0.0105, device='cuda:0', grad_fn=<MseLossBackward0>)]\n"
          ]
        },
        {
          "name": "stdout",
          "output_type": "stream",
          "text": [
            "0.04883455205708742 0.9441165621541866 0.9075774265682692 0.9519230769230769 0.8301886792452831 0.8301886792452831 0.8535270400131162 0.9595050603900704 0.8868980963045913\n",
            "Epoch: 186 / 500, ############## the best accuracy in val  94.6145 at Epoch: 71  ##############\n",
            "Performance in Val: Loss: (0.0488); Accuracy (94.41)\n"
          ]
        },
        {
          "name": "stderr",
          "output_type": "stream",
          "text": [
            "Epoch 187: 100%|██████████| 1496/1496 [00:21<00:00, 68.98batch/s, train_loss=tensor(0.0095, device='cuda:0', grad_fn=<MseLossBackward0>)]\n"
          ]
        },
        {
          "name": "stdout",
          "output_type": "stream",
          "text": [
            "0.04879631610079245 0.9463297676134268 0.9108738021834943 0.9552715654952076 0.8357791754018169 0.8357791754018169 0.8594664642632134 0.9575208614911154 0.8915393216548639\n",
            "Epoch: 187 / 500, ############## the best accuracy in val  94.6145 at Epoch: 71  ##############\n",
            "Performance in Val: Loss: (0.0488); Accuracy (94.63)\n"
          ]
        },
        {
          "name": "stderr",
          "output_type": "stream",
          "text": [
            "Epoch 188: 100%|██████████| 1496/1496 [00:21<00:00, 68.12batch/s, train_loss=tensor(0.0084, device='cuda:0', grad_fn=<MseLossBackward0>)]\n"
          ]
        },
        {
          "name": "stdout",
          "output_type": "stream",
          "text": [
            "0.048962538469244136 0.9448542973072667 0.9083026782307712 0.9542536115569823 0.8308874912648497 0.8308874912648497 0.8555268398919168 0.9577516393016363 0.8883078072469182\n",
            "Epoch: 188 / 500, ############## the best accuracy in val  94.6330 at Epoch: 187  ##############\n",
            "Performance in Val: Loss: (0.0490); Accuracy (94.49)\n"
          ]
        },
        {
          "name": "stderr",
          "output_type": "stream",
          "text": [
            "Epoch 189: 100%|██████████| 1496/1496 [00:21<00:00, 68.93batch/s, train_loss=tensor(0.0068, device='cuda:0', grad_fn=<MseLossBackward0>)]\n"
          ]
        },
        {
          "name": "stdout",
          "output_type": "stream",
          "text": [
            "0.04887213227762417 0.9437476945776466 0.9066544904231586 0.952572347266881 0.8280922431865828 0.8280922431865828 0.8525538908075943 0.9593957998788679 0.885981308411215\n",
            "Epoch: 189 / 500, ############## the best accuracy in val  94.6330 at Epoch: 187  ##############\n",
            "Performance in Val: Loss: (0.0489); Accuracy (94.37)\n"
          ]
        },
        {
          "name": "stderr",
          "output_type": "stream",
          "text": [
            "Epoch 190: 100%|██████████| 1496/1496 [00:22<00:00, 67.82batch/s, train_loss=tensor(0.0058, device='cuda:0', grad_fn=<MseLossBackward0>)]\n"
          ]
        },
        {
          "name": "stdout",
          "output_type": "stream",
          "text": [
            "0.048781198280101475 0.9441165621541866 0.9066809300660938 0.9548387096774194 0.827393431167016 0.827393431167016 0.8535748840075116 0.9590228433262052 0.8865593410707601\n",
            "Epoch: 190 / 500, ############## the best accuracy in val  94.6330 at Epoch: 187  ##############\n",
            "Performance in Val: Loss: (0.0488); Accuracy (94.41)\n"
          ]
        },
        {
          "name": "stderr",
          "output_type": "stream",
          "text": [
            "Epoch 191: 100%|██████████| 1496/1496 [00:21<00:00, 68.49batch/s, train_loss=tensor(0.0058, device='cuda:0', grad_fn=<MseLossBackward0>)]\n"
          ]
        },
        {
          "name": "stdout",
          "output_type": "stream",
          "text": [
            "0.049176736565476116 0.9450387310955367 0.9077555877383792 0.9572235673930589 0.8287910552061496 0.8287910552061496 0.8560734183534282 0.9562680426487199 0.8883895131086144\n",
            "Epoch: 191 / 500, ############## the best accuracy in val  94.6330 at Epoch: 187  ##############\n",
            "Performance in Val: Loss: (0.0492); Accuracy (94.50)\n"
          ]
        },
        {
          "name": "stderr",
          "output_type": "stream",
          "text": [
            "Epoch 192: 100%|██████████| 1496/1496 [00:22<00:00, 67.73batch/s, train_loss=tensor(0.0079, device='cuda:0', grad_fn=<MseLossBackward0>)]\n"
          ]
        },
        {
          "name": "stdout",
          "output_type": "stream",
          "text": [
            "0.04890899910506877 0.9454075986720767 0.9086785238834898 0.9565567176186646 0.8308874912648497 0.8308874912648497 0.8570393107111617 0.9565214079687683 0.8893044128646224\n",
            "Epoch: 192 / 500, ############## the best accuracy in val  94.6330 at Epoch: 187  ##############\n",
            "Performance in Val: Loss: (0.0489); Accuracy (94.54)\n"
          ]
        },
        {
          "name": "stderr",
          "output_type": "stream",
          "text": [
            "Epoch 193: 100%|██████████| 1496/1496 [00:21<00:00, 68.14batch/s, train_loss=tensor(0.0106, device='cuda:0', grad_fn=<MseLossBackward0>)]\n"
          ]
        },
        {
          "name": "stdout",
          "output_type": "stream",
          "text": [
            "0.04862210112200542 0.9448542973072667 0.9087509264818587 0.9528 0.8322851153039832 0.8322851153039832 0.8555044444649051 0.9601026663591964 0.8884744498321522\n",
            "Epoch: 193 / 500, ############## the best accuracy in val  94.6330 at Epoch: 187  ##############\n",
            "Performance in Val: Loss: (0.0486); Accuracy (94.49)\n"
          ]
        },
        {
          "name": "stderr",
          "output_type": "stream",
          "text": [
            "Epoch 194: 100%|██████████| 1496/1496 [00:21<00:00, 68.11batch/s, train_loss=tensor(0.0062, device='cuda:0', grad_fn=<MseLossBackward0>)]\n"
          ]
        },
        {
          "name": "stdout",
          "output_type": "stream",
          "text": [
            "0.04832966837354682 0.9448542973072667 0.9089750506074026 0.952076677316294 0.83298392732355 0.83298392732355 0.8554946527363035 0.959642161319993 0.8885575847931421\n",
            "Epoch: 194 / 500, ############## the best accuracy in val  94.6330 at Epoch: 187  ##############\n",
            "Performance in Val: Loss: (0.0483); Accuracy (94.49)\n"
          ]
        },
        {
          "name": "stderr",
          "output_type": "stream",
          "text": [
            "Epoch 195: 100%|██████████| 1496/1496 [00:21<00:00, 68.80batch/s, train_loss=tensor(0.0083, device='cuda:0', grad_fn=<MseLossBackward0>)]\n"
          ]
        },
        {
          "name": "stdout",
          "output_type": "stream",
          "text": [
            "0.0494159764864228 0.9433788270011066 0.9068521749057672 0.9496 0.8294898672257163 0.8294898672257163 0.8515304096504465 0.9571655897327338 0.8854904886236479\n",
            "Epoch: 195 / 500, ############## the best accuracy in val  94.6330 at Epoch: 187  ##############\n",
            "Performance in Val: Loss: (0.0494); Accuracy (94.34)\n"
          ]
        },
        {
          "name": "stderr",
          "output_type": "stream",
          "text": [
            "Epoch 196: 100%|██████████| 1496/1496 [00:22<00:00, 67.65batch/s, train_loss=tensor(0.0081, device='cuda:0', grad_fn=<MseLossBackward0>)]\n"
          ]
        },
        {
          "name": "stdout",
          "output_type": "stream",
          "text": [
            "0.04911747380075129 0.9450387310955367 0.9091003324916422 0.9528377298161471 0.83298392732355 0.83298392732355 0.8559960470552065 0.9586999645078436 0.8888888888888888\n",
            "Epoch: 196 / 500, ############## the best accuracy in val  94.6330 at Epoch: 187  ##############\n",
            "Performance in Val: Loss: (0.0491); Accuracy (94.50)\n"
          ]
        },
        {
          "name": "stderr",
          "output_type": "stream",
          "text": [
            "Epoch 197: 100%|██████████| 1496/1496 [00:21<00:00, 70.21batch/s, train_loss=tensor(0.0066, device='cuda:0', grad_fn=<MseLossBackward0>)]\n"
          ]
        },
        {
          "name": "stdout",
          "output_type": "stream",
          "text": [
            "0.04900454416532408 0.9461453338251568 0.9103002720481671 0.955964771817454 0.8343815513626834 0.8343815513626834 0.8589879466091049 0.9569081971823046 0.8910447761194031\n",
            "Epoch: 197 / 500, ############## the best accuracy in val  94.6330 at Epoch: 187  ##############\n",
            "Performance in Val: Loss: (0.0490); Accuracy (94.61)\n"
          ]
        },
        {
          "name": "stderr",
          "output_type": "stream",
          "text": [
            "Epoch 198: 100%|██████████| 1496/1496 [00:21<00:00, 69.56batch/s, train_loss=tensor(0.0055, device='cuda:0', grad_fn=<MseLossBackward0>)]\n"
          ]
        },
        {
          "name": "stdout",
          "output_type": "stream",
          "text": [
            "0.04907395004887472 0.9441165621541866 0.90645680594055 0.9555735056542811 0.8266946191474493 0.8266946191474493 0.8535892090905094 0.9577388572226013 0.8864743349569126\n",
            "Epoch: 198 / 500, ############## the best accuracy in val  94.6330 at Epoch: 187  ##############\n",
            "Performance in Val: Loss: (0.0491); Accuracy (94.41)\n"
          ]
        },
        {
          "name": "stderr",
          "output_type": "stream",
          "text": [
            "Epoch 199: 100%|██████████| 1496/1496 [00:21<00:00, 70.16batch/s, train_loss=tensor(0.0111, device='cuda:0', grad_fn=<MseLossBackward0>)]\n"
          ]
        },
        {
          "name": "stdout",
          "output_type": "stream",
          "text": [
            "0.048950177363374016 0.9457764662486168 0.9104979565307756 0.9529880478087649 0.8357791754018169 0.8357791754018169 0.8579620195486904 0.9577166199070201 0.8905435591958302\n",
            "Epoch: 199 / 500, ############## the best accuracy in val  94.6330 at Epoch: 187  ##############\n",
            "Performance in Val: Loss: (0.0490); Accuracy (94.58)\n"
          ]
        },
        {
          "name": "stderr",
          "output_type": "stream",
          "text": [
            "Epoch 200: 100%|██████████| 1496/1496 [00:21<00:00, 69.09batch/s, train_loss=tensor(0.0064, device='cuda:0', grad_fn=<MseLossBackward0>)]\n"
          ]
        },
        {
          "name": "stdout",
          "output_type": "stream",
          "text": [
            "0.048410480418665844 0.9443009959424566 0.9081509567035964 0.9512390087929656 0.8315863032844165 0.8315863032844165 0.8540095858934968 0.9604132883894423 0.8873974645786726\n",
            "Epoch: 200 / 500, ############## the best accuracy in val  94.6330 at Epoch: 187  ##############\n",
            "Performance in Val: Loss: (0.0484); Accuracy (94.43)\n"
          ]
        },
        {
          "name": "stderr",
          "output_type": "stream",
          "text": [
            "Epoch 201: 100%|██████████| 1496/1496 [00:21<00:00, 69.38batch/s, train_loss=tensor(0.0087, device='cuda:0', grad_fn=<MseLossBackward0>)]\n"
          ]
        },
        {
          "name": "stdout",
          "output_type": "stream",
          "text": [
            "0.04895390383899212 0.9439321283659167 0.907003896432942 0.9526104417670683 0.8287910552061496 0.8287910552061496 0.8530457626430679 0.9597316358732375 0.8863976083707027\n",
            "Epoch: 201 / 500, ############## the best accuracy in val  94.6330 at Epoch: 187  ##############\n",
            "Performance in Val: Loss: (0.0490); Accuracy (94.39)\n"
          ]
        },
        {
          "name": "stderr",
          "output_type": "stream",
          "text": [
            "Epoch 202: 100%|██████████| 1496/1496 [00:21<00:00, 69.17batch/s, train_loss=tensor(0.0068, device='cuda:0', grad_fn=<MseLossBackward0>)]\n"
          ]
        },
        {
          "name": "stdout",
          "output_type": "stream",
          "text": [
            "0.048956276679580864 0.9444854297307267 0.9078279903367483 0.9534510433386838 0.8301886792452831 0.8301886792452831 0.8545322144447655 0.9593229595380662 0.8875607022786701\n",
            "Epoch: 202 / 500, ############## the best accuracy in val  94.6330 at Epoch: 187  ##############\n",
            "Performance in Val: Loss: (0.0490); Accuracy (94.45)\n"
          ]
        },
        {
          "name": "stderr",
          "output_type": "stream",
          "text": [
            "Epoch 203: 100%|██████████| 1496/1496 [00:21<00:00, 70.22batch/s, train_loss=tensor(0.0076, device='cuda:0', grad_fn=<MseLossBackward0>)]\n"
          ]
        },
        {
          "name": "stdout",
          "output_type": "stream",
          "text": [
            "0.04868847055530006 0.9441165621541866 0.9075774265682692 0.9519230769230769 0.8301886792452831 0.8301886792452831 0.8535270400131162 0.9581946346435315 0.8868980963045913\n",
            "Epoch: 203 / 500, ############## the best accuracy in val  94.6330 at Epoch: 187  ##############\n",
            "Performance in Val: Loss: (0.0487); Accuracy (94.41)\n"
          ]
        },
        {
          "name": "stderr",
          "output_type": "stream",
          "text": [
            "Epoch 204: 100%|██████████| 1496/1496 [00:21<00:00, 69.79batch/s, train_loss=tensor(0.0059, device='cuda:0', grad_fn=<MseLossBackward0>)]\n"
          ]
        },
        {
          "name": "stdout",
          "output_type": "stream",
          "text": [
            "0.04880013553933664 0.9461453338251568 0.910524396173711 0.9552358113509193 0.8350803633822502 0.8350803633822502 0.8589757387977709 0.9574231573801361 0.8911260253542134\n",
            "Epoch: 204 / 500, ############## the best accuracy in val  94.6330 at Epoch: 187  ##############\n",
            "Performance in Val: Loss: (0.0488); Accuracy (94.61)\n"
          ]
        },
        {
          "name": "stderr",
          "output_type": "stream",
          "text": [
            "Epoch 205: 100%|██████████| 1496/1496 [00:21<00:00, 69.00batch/s, train_loss=tensor(0.0040, device='cuda:0', grad_fn=<MseLossBackward0>)]\n"
          ]
        },
        {
          "name": "stdout",
          "output_type": "stream",
          "text": [
            "0.04883840468458154 0.9433788270011066 0.9064039266546795 0.9510433386837881 0.8280922431865828 0.8280922431865828 0.8515483381033115 0.9593374925868319 0.885319387373926\n",
            "Epoch: 205 / 500, ############## the best accuracy in val  94.6330 at Epoch: 187  ##############\n",
            "Performance in Val: Loss: (0.0488); Accuracy (94.34)\n"
          ]
        },
        {
          "name": "stderr",
          "output_type": "stream",
          "text": [
            "Epoch 206: 100%|██████████| 1496/1496 [00:21<00:00, 68.29batch/s, train_loss=tensor(0.0073, device='cuda:0', grad_fn=<MseLossBackward0>)]\n"
          ]
        },
        {
          "name": "stdout",
          "output_type": "stream",
          "text": [
            "0.049041517756202004 0.9439321283659167 0.9081245170606611 0.949003984063745 0.8322851153039832 0.8322851153039832 0.853001407958159 0.9573168735174759 0.8868205510052122\n",
            "Epoch: 206 / 500, ############## the best accuracy in val  94.6330 at Epoch: 187  ##############\n",
            "Performance in Val: Loss: (0.0490); Accuracy (94.39)\n"
          ]
        },
        {
          "name": "stderr",
          "output_type": "stream",
          "text": [
            "Epoch 207: 100%|██████████| 1496/1496 [00:22<00:00, 65.78batch/s, train_loss=tensor(0.0067, device='cuda:0', grad_fn=<MseLossBackward0>)]\n"
          ]
        },
        {
          "name": "stdout",
          "output_type": "stream",
          "text": [
            "0.04869779834354466 0.9433788270011066 0.9059556784035918 0.9524959742351047 0.8266946191474493 0.8266946191474493 0.8515700097190683 0.957608760171602 0.885147774036663\n",
            "Epoch: 207 / 500, ############## the best accuracy in val  94.6330 at Epoch: 187  ##############\n",
            "Performance in Val: Loss: (0.0487); Accuracy (94.34)\n"
          ]
        },
        {
          "name": "stderr",
          "output_type": "stream",
          "text": [
            "Epoch 208: 100%|██████████| 1496/1496 [00:22<00:00, 67.46batch/s, train_loss=tensor(0.0052, device='cuda:0', grad_fn=<MseLossBackward0>)]\n"
          ]
        },
        {
          "name": "stdout",
          "output_type": "stream",
          "text": [
            "0.048927247608927166 0.9450387310955367 0.9084279601150107 0.9550200803212852 0.8308874912648497 0.8308874912648497 0.8560304797437376 0.9584546536485569 0.8886397608370703\n",
            "Epoch: 208 / 500, ############## the best accuracy in val  94.6330 at Epoch: 187  ##############\n",
            "Performance in Val: Loss: (0.0489); Accuracy (94.50)\n"
          ]
        },
        {
          "name": "stderr",
          "output_type": "stream",
          "text": [
            "Epoch 209: 100%|██████████| 1496/1496 [00:22<00:00, 67.38batch/s, train_loss=tensor(0.0065, device='cuda:0', grad_fn=<MseLossBackward0>)]\n"
          ]
        },
        {
          "name": "stdout",
          "output_type": "stream",
          "text": [
            "0.04960700234567577 0.9435632607893766 0.906529208538919 0.9518072289156626 0.8280922431865828 0.8280922431865828 0.8520508569428447 0.956235824805673 0.8856502242152465\n",
            "Epoch: 209 / 500, ############## the best accuracy in val  94.6330 at Epoch: 187  ##############\n",
            "Performance in Val: Loss: (0.0496); Accuracy (94.36)\n"
          ]
        },
        {
          "name": "stderr",
          "output_type": "stream",
          "text": [
            "Epoch 210: 100%|██████████| 1496/1496 [00:23<00:00, 64.97batch/s, train_loss=tensor(0.0073, device='cuda:0', grad_fn=<MseLossBackward0>)]\n"
          ]
        },
        {
          "name": "stdout",
          "output_type": "stream",
          "text": [
            "0.049022940156812016 0.9441165621541866 0.9066809300660938 0.9548387096774194 0.827393431167016 0.827393431167016 0.8535748840075116 0.9576952580763042 0.8865593410707601\n",
            "Epoch: 210 / 500, ############## the best accuracy in val  94.6330 at Epoch: 187  ##############\n",
            "Performance in Val: Loss: (0.0490); Accuracy (94.41)\n"
          ]
        },
        {
          "name": "stderr",
          "output_type": "stream",
          "text": [
            "Epoch 211: 100%|██████████| 1496/1496 [00:22<00:00, 66.33batch/s, train_loss=tensor(0.0061, device='cuda:0', grad_fn=<MseLossBackward0>)]\n"
          ]
        },
        {
          "name": "stdout",
          "output_type": "stream",
          "text": [
            "0.04850875848734921 0.9452231648838068 0.9101221108780571 0.9507154213036566 0.8357791754018169 0.8357791754018169 0.8564621592664342 0.9593619186145766 0.889550018594273\n",
            "Epoch: 211 / 500, ############## the best accuracy in val  94.6330 at Epoch: 187  ##############\n",
            "Performance in Val: Loss: (0.0485); Accuracy (94.52)\n"
          ]
        },
        {
          "name": "stderr",
          "output_type": "stream",
          "text": [
            "Epoch 212: 100%|██████████| 1496/1496 [00:22<00:00, 66.58batch/s, train_loss=tensor(0.0077, device='cuda:0', grad_fn=<MseLossBackward0>)]\n"
          ]
        },
        {
          "name": "stdout",
          "output_type": "stream",
          "text": [
            "0.04892211263491349 0.9450387310955367 0.907979711863923 0.9564867042707494 0.8294898672257163 0.8294898672257163 0.8560581550067271 0.9571655897327338 0.8884730538922155\n",
            "Epoch: 212 / 500, ############## the best accuracy in val  94.6330 at Epoch: 187  ##############\n",
            "Performance in Val: Loss: (0.0489); Accuracy (94.50)\n"
          ]
        },
        {
          "name": "stderr",
          "output_type": "stream",
          "text": [
            "Epoch 213: 100%|██████████| 1496/1496 [00:21<00:00, 69.09batch/s, train_loss=tensor(0.0064, device='cuda:0', grad_fn=<MseLossBackward0>)]\n"
          ]
        },
        {
          "name": "stdout",
          "output_type": "stream",
          "text": [
            "0.04839124149558219 0.9444854297307267 0.9085003627133796 0.9512779552715654 0.8322851153039832 0.8322851153039832 0.8545016998545761 0.958169945970327 0.8878121505777116\n",
            "Epoch: 213 / 500, ############## the best accuracy in val  94.6330 at Epoch: 187  ##############\n",
            "Performance in Val: Loss: (0.0484); Accuracy (94.45)\n"
          ]
        },
        {
          "name": "stderr",
          "output_type": "stream",
          "text": [
            "Epoch 214: 100%|██████████| 1496/1496 [00:21<00:00, 68.80batch/s, train_loss=tensor(0.0076, device='cuda:0', grad_fn=<MseLossBackward0>)]\n"
          ]
        },
        {
          "name": "stdout",
          "output_type": "stream",
          "text": [
            "0.04887598642910069 0.9439321283659167 0.9067797723073981 0.9533386967015286 0.8280922431865828 0.8280922431865828 0.853057440740306 0.9597113246243602 0.8863126402393418\n",
            "Epoch: 214 / 500, ############## the best accuracy in val  94.6330 at Epoch: 187  ##############\n",
            "Performance in Val: Loss: (0.0489); Accuracy (94.39)\n"
          ]
        },
        {
          "name": "stderr",
          "output_type": "stream",
          "text": [
            "Epoch 215: 100%|██████████| 1496/1496 [00:21<00:00, 68.12batch/s, train_loss=tensor(0.0104, device='cuda:0', grad_fn=<MseLossBackward0>)]\n"
          ]
        },
        {
          "name": "stdout",
          "output_type": "stream",
          "text": [
            "0.04815599914978851 0.9435632607893766 0.9063050844133752 0.9525341914722446 0.827393431167016 0.827393431167016 0.852061973247592 0.9608491047554412 0.8855646970830217\n",
            "Epoch: 215 / 500, ############## the best accuracy in val  94.6330 at Epoch: 187  ##############\n",
            "Performance in Val: Loss: (0.0482); Accuracy (94.36)\n"
          ]
        },
        {
          "name": "stderr",
          "output_type": "stream",
          "text": [
            "Epoch 216: 100%|██████████| 1496/1496 [00:21<00:00, 69.49batch/s, train_loss=tensor(0.0157, device='cuda:0', grad_fn=<MseLossBackward0>)]\n"
          ]
        },
        {
          "name": "stdout",
          "output_type": "stream",
          "text": [
            "0.048950991593301296 0.9431943932128366 0.9053821482682647 0.9531880548829701 0.8252969951083159 0.8252969951083159 0.851090437122673 0.9562459804301118 0.8846441947565542\n",
            "Epoch: 216 / 500, ############## the best accuracy in val  94.6330 at Epoch: 187  ##############\n",
            "Performance in Val: Loss: (0.0490); Accuracy (94.32)\n"
          ]
        },
        {
          "name": "stderr",
          "output_type": "stream",
          "text": [
            "Epoch 217: 100%|██████████| 1496/1496 [00:21<00:00, 68.73batch/s, train_loss=tensor(0.0082, device='cuda:0', grad_fn=<MseLossBackward0>)]\n"
          ]
        },
        {
          "name": "stdout",
          "output_type": "stream",
          "text": [
            "0.0485411879860542 0.9441165621541866 0.9082497989449007 0.9497607655502392 0.8322851153039832 0.8322851153039832 0.8535009966198318 0.9575002000482917 0.8871508379888268\n",
            "Epoch: 217 / 500, ############## the best accuracy in val  94.6330 at Epoch: 187  ##############\n",
            "Performance in Val: Loss: (0.0485); Accuracy (94.41)\n"
          ]
        },
        {
          "name": "stderr",
          "output_type": "stream",
          "text": [
            "Epoch 218: 100%|██████████| 1496/1496 [00:21<00:00, 68.36batch/s, train_loss=tensor(0.0064, device='cuda:0', grad_fn=<MseLossBackward0>)]\n"
          ]
        },
        {
          "name": "stdout",
          "output_type": "stream",
          "text": [
            "0.04843992452052506 0.9435632607893766 0.9067533326644629 0.9510825982357658 0.8287910552061496 0.8287910552061496 0.8520406788709047 0.9596318305985814 0.8857356235997011\n",
            "Epoch: 218 / 500, ############## the best accuracy in val  94.6330 at Epoch: 187  ##############\n",
            "Performance in Val: Loss: (0.0484); Accuracy (94.36)\n"
          ]
        },
        {
          "name": "stderr",
          "output_type": "stream",
          "text": [
            "Epoch 219: 100%|██████████| 1496/1496 [00:21<00:00, 68.53batch/s, train_loss=tensor(0.0066, device='cuda:0', grad_fn=<MseLossBackward0>)]\n"
          ]
        },
        {
          "name": "stdout",
          "output_type": "stream",
          "text": [
            "0.0486316006122665 0.9437476945776466 0.9077751110508778 0.94896331738437 0.8315863032844165 0.8315863032844165 0.8525085978686774 0.9597431922734607 0.8864059590316574\n",
            "Epoch: 219 / 500, ############## the best accuracy in val  94.6330 at Epoch: 187  ##############\n",
            "Performance in Val: Loss: (0.0486); Accuracy (94.37)\n"
          ]
        },
        {
          "name": "stderr",
          "output_type": "stream",
          "text": [
            "Epoch 220: 100%|██████████| 1496/1496 [00:21<00:00, 68.78batch/s, train_loss=tensor(0.0065, device='cuda:0', grad_fn=<MseLossBackward0>)]\n"
          ]
        },
        {
          "name": "stdout",
          "output_type": "stream",
          "text": [
            "0.04873683625324206 0.9430099594245666 0.9066016111372881 0.9480830670926518 0.8294898672257163 0.8294898672257163 0.8505298883276663 0.9561790933863946 0.8848304137159895\n",
            "Epoch: 220 / 500, ############## the best accuracy in val  94.6330 at Epoch: 187  ##############\n",
            "Performance in Val: Loss: (0.0487); Accuracy (94.30)\n"
          ]
        },
        {
          "name": "stderr",
          "output_type": "stream",
          "text": [
            "Epoch 221: 100%|██████████| 1496/1496 [00:21<00:00, 68.77batch/s, train_loss=tensor(0.0088, device='cuda:0', grad_fn=<MseLossBackward0>)]\n"
          ]
        },
        {
          "name": "stdout",
          "output_type": "stream",
          "text": [
            "0.048821121284907516 0.9454075986720767 0.9091267721345775 0.9550922213311949 0.8322851153039832 0.8322851153039832 0.8570124069797525 0.9558099889671396 0.8894697535474234\n",
            "Epoch: 221 / 500, ############## the best accuracy in val  94.6330 at Epoch: 187  ##############\n",
            "Performance in Val: Loss: (0.0488); Accuracy (94.54)\n"
          ]
        },
        {
          "name": "stderr",
          "output_type": "stream",
          "text": [
            "Epoch 222: 100%|██████████| 1496/1496 [00:21<00:00, 69.88batch/s, train_loss=tensor(0.0118, device='cuda:0', grad_fn=<MseLossBackward0>)]\n"
          ]
        },
        {
          "name": "stdout",
          "output_type": "stream",
          "text": [
            "0.04881202023137699 0.9433788270011066 0.9064039266546795 0.9510433386837881 0.8280922431865828 0.8280922431865828 0.8515483381033115 0.9570846949311702 0.885319387373926\n",
            "Epoch: 222 / 500, ############## the best accuracy in val  94.6330 at Epoch: 187  ##############\n",
            "Performance in Val: Loss: (0.0488); Accuracy (94.34)\n"
          ]
        },
        {
          "name": "stderr",
          "output_type": "stream",
          "text": [
            "Epoch 223: 100%|██████████| 1496/1496 [00:21<00:00, 69.14batch/s, train_loss=tensor(0.0063, device='cuda:0', grad_fn=<MseLossBackward0>)]\n"
          ]
        },
        {
          "name": "stdout",
          "output_type": "stream",
          "text": [
            "0.04876938563856212 0.9441165621541866 0.9069050541916377 0.9541062801932367 0.8280922431865828 0.8280922431865828 0.853561507786622 0.9583537977920622 0.8866442199775533\n",
            "Epoch: 223 / 500, ############## the best accuracy in val  94.6330 at Epoch: 187  ##############\n",
            "Performance in Val: Loss: (0.0488); Accuracy (94.41)\n"
          ]
        },
        {
          "name": "stderr",
          "output_type": "stream",
          "text": [
            "Epoch 224: 100%|██████████| 1496/1496 [00:21<00:00, 68.67batch/s, train_loss=tensor(0.0096, device='cuda:0', grad_fn=<MseLossBackward0>)]\n"
          ]
        },
        {
          "name": "stdout",
          "output_type": "stream",
          "text": [
            "0.04863199261440472 0.9457764662486168 0.908704963526425 0.9588377723970944 0.8301886792452831 0.8301886792452831 0.8580666108457303 0.9600282501456369 0.8898876404494381\n",
            "Epoch: 224 / 500, ############## the best accuracy in val  94.6330 at Epoch: 187  ##############\n",
            "Performance in Val: Loss: (0.0486); Accuracy (94.58)\n"
          ]
        },
        {
          "name": "stderr",
          "output_type": "stream",
          "text": [
            "Epoch 225: 100%|██████████| 1496/1496 [00:21<00:00, 68.54batch/s, train_loss=tensor(0.0091, device='cuda:0', grad_fn=<MseLossBackward0>)]\n"
          ]
        },
        {
          "name": "stdout",
          "output_type": "stream",
          "text": [
            "0.049206956374374305 0.9433788270011066 0.9064039266546795 0.9510433386837881 0.8280922431865828 0.8280922431865828 0.8515483381033115 0.9580902768475752 0.885319387373926\n",
            "Epoch: 225 / 500, ############## the best accuracy in val  94.6330 at Epoch: 187  ##############\n",
            "Performance in Val: Loss: (0.0492); Accuracy (94.34)\n"
          ]
        },
        {
          "name": "stderr",
          "output_type": "stream",
          "text": [
            "Epoch 226: 100%|██████████| 1496/1496 [00:21<00:00, 69.38batch/s, train_loss=tensor(0.0075, device='cuda:0', grad_fn=<MseLossBackward0>)]\n"
          ]
        },
        {
          "name": "stdout",
          "output_type": "stream",
          "text": [
            "0.04902724295177243 0.9448542973072667 0.9078544299796836 0.9557165861513688 0.8294898672257163 0.8294898672257163 0.8555530058541758 0.9588291860739775 0.8881406659184437\n",
            "Epoch: 226 / 500, ############## the best accuracy in val  94.6330 at Epoch: 187  ##############\n",
            "Performance in Val: Loss: (0.0490); Accuracy (94.49)\n"
          ]
        },
        {
          "name": "stderr",
          "output_type": "stream",
          "text": [
            "Epoch 227: 100%|██████████| 1496/1496 [00:22<00:00, 67.90batch/s, train_loss=tensor(0.0058, device='cuda:0', grad_fn=<MseLossBackward0>)]\n"
          ]
        },
        {
          "name": "stdout",
          "output_type": "stream",
          "text": [
            "0.049381544813513756 0.9446698635189967 0.9086256445976193 0.9520383693045563 0.8322851153039832 0.8322851153039832 0.8550028164743516 0.9550280058853593 0.8881431767337807\n",
            "Epoch: 227 / 500, ############## the best accuracy in val  94.6330 at Epoch: 187  ##############\n",
            "Performance in Val: Loss: (0.0494); Accuracy (94.47)\n"
          ]
        },
        {
          "name": "stderr",
          "output_type": "stream",
          "text": [
            "Epoch 228: 100%|██████████| 1496/1496 [00:21<00:00, 69.33batch/s, train_loss=tensor(0.0086, device='cuda:0', grad_fn=<MseLossBackward0>)]\n"
          ]
        },
        {
          "name": "stdout",
          "output_type": "stream",
          "text": [
            "0.048218096352436325 0.9441165621541866 0.907801550693813 0.9512 0.8308874912648497 0.8308874912648497 0.8535174270576759 0.9620388886875273 0.8869824692278999\n",
            "Epoch: 228 / 500, ############## the best accuracy in val  94.6330 at Epoch: 187  ##############\n",
            "Performance in Val: Loss: (0.0482); Accuracy (94.41)\n"
          ]
        },
        {
          "name": "stderr",
          "output_type": "stream",
          "text": [
            "Epoch 229: 100%|██████████| 1496/1496 [00:21<00:00, 68.20batch/s, train_loss=tensor(0.0094, device='cuda:0', grad_fn=<MseLossBackward0>)]\n"
          ]
        },
        {
          "name": "stdout",
          "output_type": "stream",
          "text": [
            "0.048735660246827385 0.9441165621541866 0.907801550693813 0.9512 0.8308874912648497 0.8308874912648497 0.8535174270576759 0.9586043615605413 0.8869824692278999\n",
            "Epoch: 229 / 500, ############## the best accuracy in val  94.6330 at Epoch: 187  ##############\n",
            "Performance in Val: Loss: (0.0487); Accuracy (94.41)\n"
          ]
        },
        {
          "name": "stderr",
          "output_type": "stream",
          "text": [
            "Epoch 230: 100%|██████████| 1496/1496 [00:21<00:00, 68.71batch/s, train_loss=tensor(0.0081, device='cuda:0', grad_fn=<MseLossBackward0>)]\n"
          ]
        },
        {
          "name": "stdout",
          "output_type": "stream",
          "text": [
            "0.04879109197380868 0.9446698635189967 0.9088497687231631 0.951316839584996 0.83298392732355 0.83298392732355 0.8549937691834177 0.9575973788683518 0.8882265275707898\n",
            "Epoch: 230 / 500, ############## the best accuracy in val  94.6330 at Epoch: 187  ##############\n",
            "Performance in Val: Loss: (0.0488); Accuracy (94.47)\n"
          ]
        },
        {
          "name": "stderr",
          "output_type": "stream",
          "text": [
            "Epoch 231: 100%|██████████| 1496/1496 [00:21<00:00, 68.03batch/s, train_loss=tensor(0.0093, device='cuda:0', grad_fn=<MseLossBackward0>)]\n"
          ]
        },
        {
          "name": "stdout",
          "output_type": "stream",
          "text": [
            "0.04854006294838407 0.9443009959424566 0.9081509567035964 0.9512390087929656 0.8315863032844165 0.8315863032844165 0.8540095858934968 0.9591247497645383 0.8873974645786726\n",
            "Epoch: 231 / 500, ############## the best accuracy in val  94.6330 at Epoch: 187  ##############\n",
            "Performance in Val: Loss: (0.0485); Accuracy (94.43)\n"
          ]
        },
        {
          "name": "stderr",
          "output_type": "stream",
          "text": [
            "Epoch 232: 100%|██████████| 1496/1496 [00:21<00:00, 68.47batch/s, train_loss=tensor(0.0062, device='cuda:0', grad_fn=<MseLossBackward0>)]\n"
          ]
        },
        {
          "name": "stdout",
          "output_type": "stream",
          "text": [
            "0.049046000381085 0.9431943932128366 0.9060545206448961 0.951004016064257 0.827393431167016 0.827393431167016 0.8510559512426213 0.9572151421761157 0.8849028400597908\n",
            "Epoch: 232 / 500, ############## the best accuracy in val  94.6330 at Epoch: 187  ##############\n",
            "Performance in Val: Loss: (0.0490); Accuracy (94.32)\n"
          ]
        },
        {
          "name": "stderr",
          "output_type": "stream",
          "text": [
            "Epoch 233: 100%|██████████| 1496/1496 [00:22<00:00, 67.00batch/s, train_loss=tensor(0.0070, device='cuda:0', grad_fn=<MseLossBackward0>)]\n"
          ]
        },
        {
          "name": "stdout",
          "output_type": "stream",
          "text": [
            "0.04923852744766257 0.9441165621541866 0.9082497989449007 0.9497607655502392 0.8322851153039832 0.8322851153039832 0.8535009966198318 0.9565996763157355 0.8871508379888268\n",
            "Epoch: 233 / 500, ############## the best accuracy in val  94.6330 at Epoch: 187  ##############\n",
            "Performance in Val: Loss: (0.0492); Accuracy (94.41)\n"
          ]
        },
        {
          "name": "stderr",
          "output_type": "stream",
          "text": [
            "Epoch 234: 100%|██████████| 1496/1496 [00:21<00:00, 68.15batch/s, train_loss=tensor(0.0085, device='cuda:0', grad_fn=<MseLossBackward0>)]\n"
          ]
        },
        {
          "name": "stdout",
          "output_type": "stream",
          "text": [
            "0.0490217042917555 0.9448542973072667 0.9083026782307712 0.9542536115569823 0.8308874912648497 0.8308874912648497 0.8555268398919168 0.9564706298465748 0.8883078072469182\n",
            "Epoch: 234 / 500, ############## the best accuracy in val  94.6330 at Epoch: 187  ##############\n",
            "Performance in Val: Loss: (0.0490); Accuracy (94.49)\n"
          ]
        },
        {
          "name": "stderr",
          "output_type": "stream",
          "text": [
            "Epoch 235: 100%|██████████| 1496/1496 [00:22<00:00, 67.15batch/s, train_loss=tensor(0.0090, device='cuda:0', grad_fn=<MseLossBackward0>)]\n"
          ]
        },
        {
          "name": "stdout",
          "output_type": "stream",
          "text": [
            "0.048714109950444916 0.9455920324603467 0.9094761781443608 0.9551282051282052 0.83298392732355 0.83298392732355 0.8575033049061629 0.9575367953156657 0.8898842851810377\n",
            "Epoch: 235 / 500, ############## the best accuracy in val  94.6330 at Epoch: 187  ##############\n",
            "Performance in Val: Loss: (0.0487); Accuracy (94.56)\n"
          ]
        },
        {
          "name": "stderr",
          "output_type": "stream",
          "text": [
            "Epoch 236: 100%|██████████| 1496/1496 [00:21<00:00, 68.50batch/s, train_loss=tensor(0.0051, device='cuda:0', grad_fn=<MseLossBackward0>)]\n"
          ]
        },
        {
          "name": "stdout",
          "output_type": "stream",
          "text": [
            "0.04826267385347323 0.9452231648838068 0.9085532419992502 0.9557877813504824 0.8308874912648497 0.8308874912648497 0.8565346363348094 0.9609919838854754 0.8889719626168224\n",
            "Epoch: 236 / 500, ############## the best accuracy in val  94.6330 at Epoch: 187  ##############\n",
            "Performance in Val: Loss: (0.0483); Accuracy (94.52)\n"
          ]
        },
        {
          "name": "stderr",
          "output_type": "stream",
          "text": [
            "Epoch 237: 100%|██████████| 1496/1496 [00:22<00:00, 65.14batch/s, train_loss=tensor(0.0071, device='cuda:0', grad_fn=<MseLossBackward0>)]\n"
          ]
        },
        {
          "name": "stdout",
          "output_type": "stream",
          "text": [
            "0.04918802749704231 0.9446698635189967 0.9084015204720755 0.9527622097678142 0.8315863032844165 0.8315863032844165 0.8550127976058494 0.956820823792737 0.8880597014925373\n",
            "Epoch: 237 / 500, ############## the best accuracy in val  94.6330 at Epoch: 187  ##############\n",
            "Performance in Val: Loss: (0.0492); Accuracy (94.47)\n"
          ]
        },
        {
          "name": "stderr",
          "output_type": "stream",
          "text": [
            "Epoch 238: 100%|██████████| 1496/1496 [00:21<00:00, 68.78batch/s, train_loss=tensor(0.0058, device='cuda:0', grad_fn=<MseLossBackward0>)]\n"
          ]
        },
        {
          "name": "stdout",
          "output_type": "stream",
          "text": [
            "0.04892099250785329 0.9433788270011066 0.9064039266546795 0.9510433386837881 0.8280922431865828 0.8280922431865828 0.8515483381033115 0.9578974950802128 0.885319387373926\n",
            "Epoch: 238 / 500, ############## the best accuracy in val  94.6330 at Epoch: 187  ##############\n",
            "Performance in Val: Loss: (0.0489); Accuracy (94.34)\n"
          ]
        },
        {
          "name": "stderr",
          "output_type": "stream",
          "text": [
            "Epoch 239: 100%|██████████| 1496/1496 [00:21<00:00, 68.16batch/s, train_loss=tensor(0.0088, device='cuda:0', grad_fn=<MseLossBackward0>)]\n"
          ]
        },
        {
          "name": "stdout",
          "output_type": "stream",
          "text": [
            "0.04866683770987121 0.9435632607893766 0.9067533326644629 0.9510825982357658 0.8287910552061496 0.8287910552061496 0.8520406788709047 0.9573440135483035 0.8857356235997011\n",
            "Epoch: 239 / 500, ############## the best accuracy in val  94.6330 at Epoch: 187  ##############\n",
            "Performance in Val: Loss: (0.0487); Accuracy (94.36)\n"
          ]
        },
        {
          "name": "stderr",
          "output_type": "stream",
          "text": [
            "Epoch 240: 100%|██████████| 1496/1496 [00:21<00:00, 69.02batch/s, train_loss=tensor(0.0107, device='cuda:0', grad_fn=<MseLossBackward0>)]\n"
          ]
        },
        {
          "name": "stdout",
          "output_type": "stream",
          "text": [
            "0.04885514969514175 0.9439321283659167 0.9065556481818543 0.9540692989524577 0.827393431167016 0.827393431167016 0.8530700619892723 0.9585833499237716 0.8862275449101797\n",
            "Epoch: 240 / 500, ############## the best accuracy in val  94.6330 at Epoch: 187  ##############\n",
            "Performance in Val: Loss: (0.0489); Accuracy (94.39)\n"
          ]
        },
        {
          "name": "stderr",
          "output_type": "stream",
          "text": [
            "Epoch 241: 100%|██████████| 1496/1496 [00:22<00:00, 67.88batch/s, train_loss=tensor(0.0045, device='cuda:0', grad_fn=<MseLossBackward0>)]\n"
          ]
        },
        {
          "name": "stdout",
          "output_type": "stream",
          "text": [
            "0.04862574420192025 0.9450387310955367 0.9086520842405545 0.9542902967121091 0.8315863032844165 0.8315863032844165 0.856018061357983 0.9572321265825046 0.8887229275578791\n",
            "Epoch: 241 / 500, ############## the best accuracy in val  94.6330 at Epoch: 187  ##############\n",
            "Performance in Val: Loss: (0.0486); Accuracy (94.50)\n"
          ]
        },
        {
          "name": "stderr",
          "output_type": "stream",
          "text": [
            "Epoch 242: 100%|██████████| 1496/1496 [00:21<00:00, 68.72batch/s, train_loss=tensor(0.0076, device='cuda:0', grad_fn=<MseLossBackward0>)]\n"
          ]
        },
        {
          "name": "stdout",
          "output_type": "stream",
          "text": [
            "0.04890444739298387 0.9428255256362966 0.9046833362486979 0.9531123686337915 0.8238993710691824 0.8238993710691824 0.850106657201598 0.9584690116003497 0.883808095952024\n",
            "Epoch: 242 / 500, ############## the best accuracy in val  94.6330 at Epoch: 187  ##############\n",
            "Performance in Val: Loss: (0.0489); Accuracy (94.28)\n"
          ]
        },
        {
          "name": "stderr",
          "output_type": "stream",
          "text": [
            "Epoch 243: 100%|██████████| 1496/1496 [00:21<00:00, 68.59batch/s, train_loss=tensor(0.0080, device='cuda:0', grad_fn=<MseLossBackward0>)]\n"
          ]
        },
        {
          "name": "stdout",
          "output_type": "stream",
          "text": [
            "0.04893837437372316 0.9433788270011066 0.9052833060269604 0.9546925566343042 0.8245981830887491 0.8245981830887491 0.8516095915748865 0.9575024763089417 0.8848893888263967\n",
            "Epoch: 243 / 500, ############## the best accuracy in val  94.6330 at Epoch: 187  ##############\n",
            "Performance in Val: Loss: (0.0489); Accuracy (94.34)\n"
          ]
        },
        {
          "name": "stderr",
          "output_type": "stream",
          "text": [
            "Epoch 244: 100%|██████████| 1496/1496 [00:21<00:00, 69.09batch/s, train_loss=tensor(0.0052, device='cuda:0', grad_fn=<MseLossBackward0>)]\n"
          ]
        },
        {
          "name": "stdout",
          "output_type": "stream",
          "text": [
            "0.048604017462242737 0.9439321283659167 0.9061073999307667 0.9555375909458367 0.8259958071278826 0.8259958071278826 0.8530981468626935 0.9578775340252815 0.8860569715142428\n",
            "Epoch: 244 / 500, ############## the best accuracy in val  94.6330 at Epoch: 187  ##############\n",
            "Performance in Val: Loss: (0.0486); Accuracy (94.39)\n"
          ]
        },
        {
          "name": "stderr",
          "output_type": "stream",
          "text": [
            "Epoch 245: 100%|██████████| 1496/1496 [00:22<00:00, 67.32batch/s, train_loss=tensor(0.0097, device='cuda:0', grad_fn=<MseLossBackward0>)]\n"
          ]
        },
        {
          "name": "stdout",
          "output_type": "stream",
          "text": [
            "0.048529320819811386 0.9457764662486168 0.9096014600286004 0.9558941459502807 0.83298392732355 0.83298392732355 0.858006752601522 0.9591566174136392 0.890216579536968\n",
            "Epoch: 245 / 500, ############## the best accuracy in val  94.6330 at Epoch: 187  ##############\n",
            "Performance in Val: Loss: (0.0485); Accuracy (94.58)\n"
          ]
        },
        {
          "name": "stderr",
          "output_type": "stream",
          "text": [
            "Epoch 246: 100%|██████████| 1496/1496 [00:21<00:00, 68.60batch/s, train_loss=tensor(0.0093, device='cuda:0', grad_fn=<MseLossBackward0>)]\n"
          ]
        },
        {
          "name": "stdout",
          "output_type": "stream",
          "text": [
            "0.04850029860707847 0.9437476945776466 0.9071027386742463 0.9511217948717948 0.8294898672257163 0.8294898672257163 0.8525329737898545 0.9604794750452669 0.8861515490854798\n",
            "Epoch: 246 / 500, ############## the best accuracy in val  94.6330 at Epoch: 187  ##############\n",
            "Performance in Val: Loss: (0.0485); Accuracy (94.37)\n"
          ]
        },
        {
          "name": "stderr",
          "output_type": "stream",
          "text": [
            "Epoch 247: 100%|██████████| 1496/1496 [00:21<00:00, 68.52batch/s, train_loss=tensor(0.0066, device='cuda:0', grad_fn=<MseLossBackward0>)]\n"
          ]
        },
        {
          "name": "stdout",
          "output_type": "stream",
          "text": [
            "0.04828977313908664 0.9454075986720767 0.9086785238834898 0.9565567176186646 0.8308874912648497 0.8308874912648497 0.8570393107111617 0.9608501553372797 0.8893044128646224\n",
            "Epoch: 247 / 500, ############## the best accuracy in val  94.6330 at Epoch: 187  ##############\n",
            "Performance in Val: Loss: (0.0483); Accuracy (94.54)\n"
          ]
        },
        {
          "name": "stderr",
          "output_type": "stream",
          "text": [
            "Epoch 248: 100%|██████████| 1496/1496 [00:21<00:00, 68.55batch/s, train_loss=tensor(0.0091, device='cuda:0', grad_fn=<MseLossBackward0>)]\n"
          ]
        },
        {
          "name": "stdout",
          "output_type": "stream",
          "text": [
            "0.048844699409197674 0.9446698635189967 0.9068326515932686 0.9578947368421052 0.8266946191474493 0.8266946191474493 0.8551090808684302 0.9584704123761343 0.8874718679669917\n",
            "Epoch: 248 / 500, ############## the best accuracy in val  94.6330 at Epoch: 187  ##############\n",
            "Performance in Val: Loss: (0.0488); Accuracy (94.47)\n"
          ]
        },
        {
          "name": "stderr",
          "output_type": "stream",
          "text": [
            "Epoch 249: 100%|██████████| 1496/1496 [00:22<00:00, 67.69batch/s, train_loss=tensor(0.0074, device='cuda:0', grad_fn=<MseLossBackward0>)]\n"
          ]
        },
        {
          "name": "stdout",
          "output_type": "stream",
          "text": [
            "0.04819826138290492 0.9446698635189967 0.9072808998443562 0.9564164648910412 0.8280922431865828 0.8280922431865828 0.8550768221072772 0.9589282909607413 0.8876404494382023\n",
            "Epoch: 249 / 500, ############## the best accuracy in val  94.6330 at Epoch: 187  ##############\n",
            "Performance in Val: Loss: (0.0482); Accuracy (94.47)\n"
          ]
        },
        {
          "name": "stderr",
          "output_type": "stream",
          "text": [
            "Epoch 250: 100%|██████████| 1496/1496 [00:21<00:00, 68.07batch/s, train_loss=tensor(0.0073, device='cuda:0', grad_fn=<MseLossBackward0>)]\n"
          ]
        },
        {
          "name": "stdout",
          "output_type": "stream",
          "text": [
            "0.048937739465724335 0.9426410918480266 0.9045580543644585 0.9523424878836834 0.8238993710691824 0.8238993710691824 0.8496016910260868 0.9580591095863666 0.8834769576620456\n",
            "Epoch: 250 / 500, ############## the best accuracy in val  94.6330 at Epoch: 187  ##############\n",
            "Performance in Val: Loss: (0.0489); Accuracy (94.26)\n"
          ]
        },
        {
          "name": "stderr",
          "output_type": "stream",
          "text": [
            "Epoch 251: 100%|██████████| 1496/1496 [00:21<00:00, 68.33batch/s, train_loss=tensor(0.0083, device='cuda:0', grad_fn=<MseLossBackward0>)]\n"
          ]
        },
        {
          "name": "stdout",
          "output_type": "stream",
          "text": [
            "0.04914017461917617 0.9431943932128366 0.9058303965193524 0.9517296862429606 0.8266946191474493 0.8266946191474493 0.8510665057548781 0.9560495216263147 0.8848167539267016\n",
            "Epoch: 251 / 500, ############## the best accuracy in val  94.6330 at Epoch: 187  ##############\n",
            "Performance in Val: Loss: (0.0491); Accuracy (94.32)\n"
          ]
        },
        {
          "name": "stderr",
          "output_type": "stream",
          "text": [
            "Epoch 252: 100%|██████████| 1496/1496 [00:21<00:00, 68.58batch/s, train_loss=tensor(0.0075, device='cuda:0', grad_fn=<MseLossBackward0>)]\n"
          ]
        },
        {
          "name": "stdout",
          "output_type": "stream",
          "text": [
            "0.04878749258138917 0.9444854297307267 0.9080521144622921 0.9527243589743589 0.8308874912648497 0.8308874912648497 0.8545211062363778 0.9578563472915387 0.8876446435237029\n",
            "Epoch: 252 / 500, ############## the best accuracy in val  94.6330 at Epoch: 187  ##############\n",
            "Performance in Val: Loss: (0.0488); Accuracy (94.45)\n"
          ]
        },
        {
          "name": "stderr",
          "output_type": "stream",
          "text": [
            "Epoch 253: 100%|██████████| 1496/1496 [00:22<00:00, 67.98batch/s, train_loss=tensor(0.0084, device='cuda:0', grad_fn=<MseLossBackward0>)]\n"
          ]
        },
        {
          "name": "stdout",
          "output_type": "stream",
          "text": [
            "0.04860919942571358 0.9437476945776466 0.9057579939209833 0.9555016181229773 0.8252969951083159 0.8252969951083159 0.8526070389346538 0.958970664428227 0.885639295088114\n",
            "Epoch: 253 / 500, ############## the best accuracy in val  94.6330 at Epoch: 187  ##############\n",
            "Performance in Val: Loss: (0.0486); Accuracy (94.37)\n"
          ]
        },
        {
          "name": "stderr",
          "output_type": "stream",
          "text": [
            "Epoch 254: 100%|██████████| 1496/1496 [00:21<00:00, 68.76batch/s, train_loss=tensor(0.0078, device='cuda:0', grad_fn=<MseLossBackward0>)]\n"
          ]
        },
        {
          "name": "stdout",
          "output_type": "stream",
          "text": [
            "0.04871248318390413 0.9431943932128366 0.9053821482682647 0.9531880548829701 0.8252969951083159 0.8252969951083159 0.851090437122673 0.9587011901866551 0.8846441947565542\n",
            "Epoch: 254 / 500, ############## the best accuracy in val  94.6330 at Epoch: 187  ##############\n",
            "Performance in Val: Loss: (0.0487); Accuracy (94.32)\n"
          ]
        },
        {
          "name": "stderr",
          "output_type": "stream",
          "text": [
            "Epoch 255: 100%|██████████| 1496/1496 [00:21<00:00, 68.27batch/s, train_loss=tensor(0.0091, device='cuda:0', grad_fn=<MseLossBackward0>)]\n"
          ]
        },
        {
          "name": "stdout",
          "output_type": "stream",
          "text": [
            "0.048226813870397484 0.9428255256362966 0.9049074603742417 0.9523809523809523 0.8245981830887491 0.8245981830887491 0.850093840876522 0.959039652635621 0.8838951310861423\n",
            "Epoch: 255 / 500, ############## the best accuracy in val  94.6330 at Epoch: 187  ##############\n",
            "Performance in Val: Loss: (0.0482); Accuracy (94.28)\n"
          ]
        },
        {
          "name": "stderr",
          "output_type": "stream",
          "text": [
            "Epoch 256: 100%|██████████| 1496/1496 [00:22<00:00, 67.95batch/s, train_loss=tensor(0.0082, device='cuda:0', grad_fn=<MseLossBackward0>)]\n"
          ]
        },
        {
          "name": "stdout",
          "output_type": "stream",
          "text": [
            "0.04859080326489427 0.9439321283659167 0.9072280205584857 0.9518845228548516 0.8294898672257163 0.8294898672257163 0.8530350244926743 0.9583385643554041 0.8864824495892457\n",
            "Epoch: 256 / 500, ############## the best accuracy in val  94.6330 at Epoch: 187  ##############\n",
            "Performance in Val: Loss: (0.0486); Accuracy (94.39)\n"
          ]
        },
        {
          "name": "stderr",
          "output_type": "stream",
          "text": [
            "Epoch 257: 100%|██████████| 1496/1496 [00:21<00:00, 68.33batch/s, train_loss=tensor(0.0049, device='cuda:0', grad_fn=<MseLossBackward0>)]\n"
          ]
        },
        {
          "name": "stdout",
          "output_type": "stream",
          "text": [
            "0.04840710615231232 0.9446698635189967 0.9079532722209878 0.9542168674698795 0.8301886792452831 0.8301886792452831 0.8550355740435143 0.9578686040796544 0.8878923766816144\n",
            "Epoch: 257 / 500, ############## the best accuracy in val  94.6330 at Epoch: 187  ##############\n",
            "Performance in Val: Loss: (0.0484); Accuracy (94.47)\n"
          ]
        },
        {
          "name": "stderr",
          "output_type": "stream",
          "text": [
            "Epoch 258: 100%|██████████| 1496/1496 [00:21<00:00, 68.07batch/s, train_loss=tensor(0.0125, device='cuda:0', grad_fn=<MseLossBackward0>)]\n"
          ]
        },
        {
          "name": "stdout",
          "output_type": "stream",
          "text": [
            "0.04881463640115478 0.9439321283659167 0.9072280205584857 0.9518845228548516 0.8294898672257163 0.8294898672257163 0.8530350244926743 0.9576460558268682 0.8864824495892457\n",
            "Epoch: 258 / 500, ############## the best accuracy in val  94.6330 at Epoch: 187  ##############\n",
            "Performance in Val: Loss: (0.0488); Accuracy (94.39)\n"
          ]
        },
        {
          "name": "stderr",
          "output_type": "stream",
          "text": [
            "Epoch 259: 100%|██████████| 1496/1496 [00:21<00:00, 68.94batch/s, train_loss=tensor(0.0067, device='cuda:0', grad_fn=<MseLossBackward0>)]\n"
          ]
        },
        {
          "name": "stdout",
          "output_type": "stream",
          "text": [
            "0.04825765106149695 0.9443009959424566 0.9077027084525087 0.9526864474739375 0.8301886792452831 0.8301886792452831 0.8540293701144438 0.9590172402230666 0.8872292755787902\n",
            "Epoch: 259 / 500, ############## the best accuracy in val  94.6330 at Epoch: 187  ##############\n",
            "Performance in Val: Loss: (0.0483); Accuracy (94.43)\n"
          ]
        },
        {
          "name": "stderr",
          "output_type": "stream",
          "text": [
            "Epoch 260: 100%|██████████| 1496/1496 [00:22<00:00, 67.95batch/s, train_loss=tensor(0.0052, device='cuda:0', grad_fn=<MseLossBackward0>)]\n"
          ]
        },
        {
          "name": "stdout",
          "output_type": "stream",
          "text": [
            "0.04817230999469757 0.9446698635189967 0.9079532722209878 0.9542168674698795 0.8301886792452831 0.8301886792452831 0.8550355740435143 0.9596521418474587 0.8878923766816144\n",
            "Epoch: 260 / 500, ############## the best accuracy in val  94.6330 at Epoch: 187  ##############\n",
            "Performance in Val: Loss: (0.0482); Accuracy (94.47)\n"
          ]
        },
        {
          "name": "stderr",
          "output_type": "stream",
          "text": [
            "Epoch 261: 100%|██████████| 1496/1496 [00:21<00:00, 69.13batch/s, train_loss=tensor(0.0112, device='cuda:0', grad_fn=<MseLossBackward0>)]\n"
          ]
        },
        {
          "name": "stdout",
          "output_type": "stream",
          "text": [
            "0.048087640326808796 0.9446698635189967 0.9079532722209878 0.9542168674698795 0.8301886792452831 0.8301886792452831 0.8550355740435143 0.9605841830351696 0.8878923766816144\n",
            "Epoch: 261 / 500, ############## the best accuracy in val  94.6330 at Epoch: 187  ##############\n",
            "Performance in Val: Loss: (0.0481); Accuracy (94.47)\n"
          ]
        },
        {
          "name": "stderr",
          "output_type": "stream",
          "text": [
            "Epoch 262: 100%|██████████| 1496/1496 [00:21<00:00, 68.67batch/s, train_loss=tensor(0.0058, device='cuda:0', grad_fn=<MseLossBackward0>)]\n"
          ]
        },
        {
          "name": "stdout",
          "output_type": "stream",
          "text": [
            "0.04871641285717487 0.9437476945776466 0.9068786145487024 0.9518459069020867 0.8287910552061496 0.8287910552061496 0.8525429635504629 0.9588074740493154 0.886066492342174\n",
            "Epoch: 262 / 500, ############## the best accuracy in val  94.6330 at Epoch: 187  ##############\n",
            "Performance in Val: Loss: (0.0487); Accuracy (94.37)\n"
          ]
        },
        {
          "name": "stderr",
          "output_type": "stream",
          "text": [
            "Epoch 263: 100%|██████████| 1496/1496 [00:21<00:00, 68.72batch/s, train_loss=tensor(0.0056, device='cuda:0', grad_fn=<MseLossBackward0>)]\n"
          ]
        },
        {
          "name": "stdout",
          "output_type": "stream",
          "text": [
            "0.04935385744002732 0.9437476945776466 0.9064303662976148 0.9533011272141707 0.827393431167016 0.827393431167016 0.8525657587528451 0.9572948112988676 0.8858959970071081\n",
            "Epoch: 263 / 500, ############## the best accuracy in val  94.6330 at Epoch: 187  ##############\n",
            "Performance in Val: Loss: (0.0494); Accuracy (94.37)\n"
          ]
        },
        {
          "name": "stderr",
          "output_type": "stream",
          "text": [
            "Epoch 264: 100%|██████████| 1496/1496 [00:21<00:00, 68.33batch/s, train_loss=tensor(0.0065, device='cuda:0', grad_fn=<MseLossBackward0>)]\n"
          ]
        },
        {
          "name": "stdout",
          "output_type": "stream",
          "text": [
            "0.04912025786258958 0.9437476945776466 0.9068786145487024 0.9518459069020867 0.8287910552061496 0.8287910552061496 0.8525429635504629 0.956900843109435 0.886066492342174\n",
            "Epoch: 264 / 500, ############## the best accuracy in val  94.6330 at Epoch: 187  ##############\n",
            "Performance in Val: Loss: (0.0491); Accuracy (94.37)\n"
          ]
        },
        {
          "name": "stderr",
          "output_type": "stream",
          "text": [
            "Epoch 265: 100%|██████████| 1496/1496 [00:21<00:00, 68.05batch/s, train_loss=tensor(0.0066, device='cuda:0', grad_fn=<MseLossBackward0>)]\n"
          ]
        },
        {
          "name": "stdout",
          "output_type": "stream",
          "text": [
            "0.04870277524671771 0.9443009959424566 0.9079268325780525 0.9519615692554043 0.8308874912648497 0.8308874912648497 0.8540190103550355 0.9587439138480869 0.8873134328358209\n",
            "Epoch: 265 / 500, ############## the best accuracy in val  94.6330 at Epoch: 187  ##############\n",
            "Performance in Val: Loss: (0.0487); Accuracy (94.43)\n"
          ]
        },
        {
          "name": "stderr",
          "output_type": "stream",
          "text": [
            "Epoch 266: 100%|██████████| 1496/1496 [00:22<00:00, 67.95batch/s, train_loss=tensor(0.0072, device='cuda:0', grad_fn=<MseLossBackward0>)]\n"
          ]
        },
        {
          "name": "stdout",
          "output_type": "stream",
          "text": [
            "0.04864920023828745 0.9450387310955367 0.9075314636128353 0.957962813257882 0.8280922431865828 0.8280922431865828 0.8560896365237891 0.9580825725807596 0.8883058470764618\n",
            "Epoch: 266 / 500, ############## the best accuracy in val  94.6330 at Epoch: 187  ##############\n",
            "Performance in Val: Loss: (0.0486); Accuracy (94.50)\n"
          ]
        },
        {
          "name": "stderr",
          "output_type": "stream",
          "text": [
            "Epoch 267: 100%|██████████| 1496/1496 [00:21<00:00, 68.24batch/s, train_loss=tensor(0.0095, device='cuda:0', grad_fn=<MseLossBackward0>)]\n"
          ]
        },
        {
          "name": "stdout",
          "output_type": "stream",
          "text": [
            "0.04860490746796131 0.9452231648838068 0.9085532419992502 0.9557877813504824 0.8308874912648497 0.8308874912648497 0.8565346363348094 0.9580328450404045 0.8889719626168224\n",
            "Epoch: 267 / 500, ############## the best accuracy in val  94.6330 at Epoch: 187  ##############\n",
            "Performance in Val: Loss: (0.0486); Accuracy (94.52)\n"
          ]
        },
        {
          "name": "stderr",
          "output_type": "stream",
          "text": [
            "Epoch 268: 100%|██████████| 1496/1496 [00:22<00:00, 67.92batch/s, train_loss=tensor(0.0085, device='cuda:0', grad_fn=<MseLossBackward0>)]\n"
          ]
        },
        {
          "name": "stdout",
          "output_type": "stream",
          "text": [
            "0.048911905847489834 0.9441165621541866 0.9071291783171815 0.9533762057877814 0.8287910552061496 0.8287910552061496 0.853549077189398 0.9600809543345344 0.8867289719626168\n",
            "Epoch: 268 / 500, ############## the best accuracy in val  94.6330 at Epoch: 187  ##############\n",
            "Performance in Val: Loss: (0.0489); Accuracy (94.41)\n"
          ]
        },
        {
          "name": "stderr",
          "output_type": "stream",
          "text": [
            "Epoch 269: 100%|██████████| 1496/1496 [00:22<00:00, 67.40batch/s, train_loss=tensor(0.0068, device='cuda:0', grad_fn=<MseLossBackward0>)]\n"
          ]
        },
        {
          "name": "stdout",
          "output_type": "stream",
          "text": [
            "0.048920400102030144 0.9461453338251568 0.9096278996715356 0.9581657280772325 0.8322851153039832 0.8322851153039832 0.8590302456965895 0.9578672033038698 0.8908002991772626\n",
            "Epoch: 269 / 500, ############## the best accuracy in val  94.6330 at Epoch: 187  ##############\n",
            "Performance in Val: Loss: (0.0489); Accuracy (94.61)\n"
          ]
        },
        {
          "name": "stderr",
          "output_type": "stream",
          "text": [
            "Epoch 270: 100%|██████████| 1496/1496 [00:21<00:00, 68.18batch/s, train_loss=tensor(0.0100, device='cuda:0', grad_fn=<MseLossBackward0>)]\n"
          ]
        },
        {
          "name": "stdout",
          "output_type": "stream",
          "text": [
            "0.049000992863015694 0.9446698635189967 0.9072808998443562 0.9564164648910412 0.8280922431865828 0.8280922431865828 0.8550768221072772 0.9578759581525237 0.8876404494382023\n",
            "Epoch: 270 / 500, ############## the best accuracy in val  94.6330 at Epoch: 187  ##############\n",
            "Performance in Val: Loss: (0.0490); Accuracy (94.47)\n"
          ]
        },
        {
          "name": "stderr",
          "output_type": "stream",
          "text": [
            "Epoch 271: 100%|██████████| 1496/1496 [00:22<00:00, 67.86batch/s, train_loss=tensor(0.0073, device='cuda:0', grad_fn=<MseLossBackward0>)]\n"
          ]
        },
        {
          "name": "stdout",
          "output_type": "stream",
          "text": [
            "0.04862443222240968 0.9433788270011066 0.9059556784035918 0.9524959742351047 0.8266946191474493 0.8266946191474493 0.8515700097190683 0.9584663851457533 0.885147774036663\n",
            "Epoch: 271 / 500, ############## the best accuracy in val  94.6330 at Epoch: 187  ##############\n",
            "Performance in Val: Loss: (0.0486); Accuracy (94.34)\n"
          ]
        },
        {
          "name": "stderr",
          "output_type": "stream",
          "text": [
            "Epoch 272: 100%|██████████| 1496/1496 [00:21<00:00, 68.55batch/s, train_loss=tensor(0.0101, device='cuda:0', grad_fn=<MseLossBackward0>)]\n"
          ]
        },
        {
          "name": "stdout",
          "output_type": "stream",
          "text": [
            "0.048869879746978935 0.9430099594245666 0.9054809905095689 0.9516908212560387 0.8259958071278826 0.8259958071278826 0.8505742606852914 0.9582380586928556 0.8843995510662177\n",
            "Epoch: 272 / 500, ############## the best accuracy in val  94.6330 at Epoch: 187  ##############\n",
            "Performance in Val: Loss: (0.0489); Accuracy (94.30)\n"
          ]
        },
        {
          "name": "stderr",
          "output_type": "stream",
          "text": [
            "Epoch 273: 100%|██████████| 1496/1496 [00:21<00:00, 68.98batch/s, train_loss=tensor(0.0073, device='cuda:0', grad_fn=<MseLossBackward0>)]\n"
          ]
        },
        {
          "name": "stdout",
          "output_type": "stream",
          "text": [
            "0.048610193824226204 0.9448542973072667 0.9078544299796836 0.9557165861513688 0.8294898672257163 0.8294898672257163 0.8555530058541758 0.959160994837966 0.8881406659184437\n",
            "Epoch: 273 / 500, ############## the best accuracy in val  94.6330 at Epoch: 187  ##############\n",
            "Performance in Val: Loss: (0.0486); Accuracy (94.49)\n"
          ]
        },
        {
          "name": "stderr",
          "output_type": "stream",
          "text": [
            "Epoch 274: 100%|██████████| 1496/1496 [00:21<00:00, 69.17batch/s, train_loss=tensor(0.0056, device='cuda:0', grad_fn=<MseLossBackward0>)]\n"
          ]
        },
        {
          "name": "stdout",
          "output_type": "stream",
          "text": [
            "0.04919405400075696 0.9444854297307267 0.9076038662112045 0.9541800643086816 0.8294898672257163 0.8294898672257163 0.8545442635712018 0.9565149293807642 0.8874766355140187\n",
            "Epoch: 274 / 500, ############## the best accuracy in val  94.6330 at Epoch: 187  ##############\n",
            "Performance in Val: Loss: (0.0492); Accuracy (94.45)\n"
          ]
        },
        {
          "name": "stderr",
          "output_type": "stream",
          "text": [
            "Epoch 275: 100%|██████████| 1496/1496 [00:21<00:00, 69.45batch/s, train_loss=tensor(0.0083, device='cuda:0', grad_fn=<MseLossBackward0>)]\n"
          ]
        },
        {
          "name": "stdout",
          "output_type": "stream",
          "text": [
            "0.048138164322484626 0.9446698635189967 0.9079532722209878 0.9542168674698795 0.8301886792452831 0.8301886792452831 0.8550355740435143 0.9578232539636264 0.8878923766816144\n",
            "Epoch: 275 / 500, ############## the best accuracy in val  94.6330 at Epoch: 187  ##############\n",
            "Performance in Val: Loss: (0.0481); Accuracy (94.47)\n"
          ]
        },
        {
          "name": "stderr",
          "output_type": "stream",
          "text": [
            "Epoch 276: 100%|██████████| 1496/1496 [00:22<00:00, 67.89batch/s, train_loss=tensor(0.0069, device='cuda:0', grad_fn=<MseLossBackward0>)]\n"
          ]
        },
        {
          "name": "stdout",
          "output_type": "stream",
          "text": [
            "0.048502905971624634 0.9446698635189967 0.9079532722209878 0.9542168674698795 0.8301886792452831 0.8301886792452831 0.8550355740435143 0.9574809393812529 0.8878923766816144\n",
            "Epoch: 276 / 500, ############## the best accuracy in val  94.6330 at Epoch: 187  ##############\n",
            "Performance in Val: Loss: (0.0485); Accuracy (94.47)\n"
          ]
        },
        {
          "name": "stderr",
          "output_type": "stream",
          "text": [
            "Epoch 277: 100%|██████████| 1496/1496 [00:21<00:00, 68.78batch/s, train_loss=tensor(0.0051, device='cuda:0', grad_fn=<MseLossBackward0>)]\n"
          ]
        },
        {
          "name": "stdout",
          "output_type": "stream",
          "text": [
            "0.048182370395145634 0.9444854297307267 0.9076038662112045 0.9541800643086816 0.8294898672257163 0.8294898672257163 0.8545442635712018 0.9587059178049284 0.8874766355140187\n",
            "Epoch: 277 / 500, ############## the best accuracy in val  94.6330 at Epoch: 187  ##############\n",
            "Performance in Val: Loss: (0.0482); Accuracy (94.45)\n"
          ]
        },
        {
          "name": "stderr",
          "output_type": "stream",
          "text": [
            "Epoch 278: 100%|██████████| 1496/1496 [00:21<00:00, 68.72batch/s, train_loss=tensor(0.0070, device='cuda:0', grad_fn=<MseLossBackward0>)]\n"
          ]
        },
        {
          "name": "stdout",
          "output_type": "stream",
          "text": [
            "0.048693503845821724 0.9437476945776466 0.9064303662976148 0.9533011272141707 0.827393431167016 0.827393431167016 0.8525657587528451 0.957798740387395 0.8858959970071081\n",
            "Epoch: 278 / 500, ############## the best accuracy in val  94.6330 at Epoch: 187  ##############\n",
            "Performance in Val: Loss: (0.0487); Accuracy (94.37)\n"
          ]
        },
        {
          "name": "stderr",
          "output_type": "stream",
          "text": [
            "Epoch 279: 100%|██████████| 1496/1496 [00:21<00:00, 69.60batch/s, train_loss=tensor(0.0077, device='cuda:0', grad_fn=<MseLossBackward0>)]\n"
          ]
        },
        {
          "name": "stdout",
          "output_type": "stream",
          "text": [
            "0.048303434286605225 0.9441165621541866 0.90645680594055 0.9555735056542811 0.8266946191474493 0.8266946191474493 0.8535892090905094 0.9593935236182178 0.8864743349569126\n",
            "Epoch: 279 / 500, ############## the best accuracy in val  94.6330 at Epoch: 187  ##############\n",
            "Performance in Val: Loss: (0.0483); Accuracy (94.41)\n"
          ]
        },
        {
          "name": "stderr",
          "output_type": "stream",
          "text": [
            "Epoch 280: 100%|██████████| 1496/1496 [00:21<00:00, 68.02batch/s, train_loss=tensor(0.0118, device='cuda:0', grad_fn=<MseLossBackward0>)]\n"
          ]
        },
        {
          "name": "stdout",
          "output_type": "stream",
          "text": [
            "0.0491329776969823 0.9435632607893766 0.9058568361622876 0.9539951573849879 0.8259958071278826 0.8259958071278826 0.8520870333688241 0.9562652410971506 0.8853932584269664\n",
            "Epoch: 280 / 500, ############## the best accuracy in val  94.6330 at Epoch: 187  ##############\n",
            "Performance in Val: Loss: (0.0491); Accuracy (94.36)\n"
          ]
        },
        {
          "name": "stderr",
          "output_type": "stream",
          "text": [
            "Epoch 281: 100%|██████████| 1496/1496 [00:21<00:00, 69.30batch/s, train_loss=tensor(0.0089, device='cuda:0', grad_fn=<MseLossBackward0>)]\n"
          ]
        },
        {
          "name": "stdout",
          "output_type": "stream",
          "text": [
            "0.049090909686955536 0.9426410918480266 0.9043339302389146 0.9530744336569579 0.8232005590496156 0.8232005590496156 0.8496146968553517 0.958649361482623 0.8833895763029621\n",
            "Epoch: 281 / 500, ############## the best accuracy in val  94.6330 at Epoch: 187  ##############\n",
            "Performance in Val: Loss: (0.0491); Accuracy (94.26)\n"
          ]
        },
        {
          "name": "stderr",
          "output_type": "stream",
          "text": [
            "Epoch 282: 100%|██████████| 1496/1496 [00:21<00:00, 68.81batch/s, train_loss=tensor(0.0061, device='cuda:0', grad_fn=<MseLossBackward0>)]\n"
          ]
        },
        {
          "name": "stdout",
          "output_type": "stream",
          "text": [
            "0.04852088659324429 0.9437476945776466 0.9068786145487024 0.9518459069020867 0.8287910552061496 0.8287910552061496 0.8525429635504629 0.9564065443544272 0.886066492342174\n",
            "Epoch: 282 / 500, ############## the best accuracy in val  94.6330 at Epoch: 187  ##############\n",
            "Performance in Val: Loss: (0.0485); Accuracy (94.37)\n"
          ]
        },
        {
          "name": "stderr",
          "output_type": "stream",
          "text": [
            "Epoch 283: 100%|██████████| 1496/1496 [00:21<00:00, 68.34batch/s, train_loss=tensor(0.0071, device='cuda:0', grad_fn=<MseLossBackward0>)]\n"
          ]
        },
        {
          "name": "stdout",
          "output_type": "stream",
          "text": [
            "0.04832411218773235 0.9437476945776466 0.9064303662976148 0.9533011272141707 0.827393431167016 0.827393431167016 0.8525657587528451 0.9590468316115172 0.8858959970071081\n",
            "Epoch: 283 / 500, ############## the best accuracy in val  94.6330 at Epoch: 187  ##############\n",
            "Performance in Val: Loss: (0.0483); Accuracy (94.37)\n"
          ]
        },
        {
          "name": "stderr",
          "output_type": "stream",
          "text": [
            "Epoch 284: 100%|██████████| 1496/1496 [00:21<00:00, 68.58batch/s, train_loss=tensor(0.0065, device='cuda:0', grad_fn=<MseLossBackward0>)]\n"
          ]
        },
        {
          "name": "stdout",
          "output_type": "stream",
          "text": [
            "0.04882800384339961 0.9444854297307267 0.9078279903367483 0.9534510433386838 0.8301886792452831 0.8301886792452831 0.8545322144447655 0.95748986932688 0.8875607022786701\n",
            "Epoch: 284 / 500, ############## the best accuracy in val  94.6330 at Epoch: 187  ##############\n",
            "Performance in Val: Loss: (0.0488); Accuracy (94.45)\n"
          ]
        },
        {
          "name": "stderr",
          "output_type": "stream",
          "text": [
            "Epoch 285: 100%|██████████| 1496/1496 [00:21<00:00, 69.11batch/s, train_loss=tensor(0.0085, device='cuda:0', grad_fn=<MseLossBackward0>)]\n"
          ]
        },
        {
          "name": "stdout",
          "output_type": "stream",
          "text": [
            "0.04866294037889351 0.9433788270011066 0.9064039266546795 0.9510433386837881 0.8280922431865828 0.8280922431865828 0.8515483381033115 0.9581344012847917 0.885319387373926\n",
            "Epoch: 285 / 500, ############## the best accuracy in val  94.6330 at Epoch: 187  ##############\n",
            "Performance in Val: Loss: (0.0487); Accuracy (94.34)\n"
          ]
        },
        {
          "name": "stderr",
          "output_type": "stream",
          "text": [
            "Epoch 286: 100%|██████████| 1496/1496 [00:21<00:00, 69.06batch/s, train_loss=tensor(0.0091, device='cuda:0', grad_fn=<MseLossBackward0>)]\n"
          ]
        },
        {
          "name": "stdout",
          "output_type": "stream",
          "text": [
            "0.04847464321011847 0.9450387310955367 0.909324456617186 0.9521149241819633 0.8336827393431167 0.8336827393431167 0.8559864447888458 0.9576956082702502 0.8889716840536512\n",
            "Epoch: 286 / 500, ############## the best accuracy in val  94.6330 at Epoch: 187  ##############\n",
            "Performance in Val: Loss: (0.0485); Accuracy (94.50)\n"
          ]
        },
        {
          "name": "stderr",
          "output_type": "stream",
          "text": [
            "Epoch 287: 100%|██████████| 1496/1496 [00:21<00:00, 69.06batch/s, train_loss=tensor(0.0076, device='cuda:0', grad_fn=<MseLossBackward0>)]\n"
          ]
        },
        {
          "name": "stdout",
          "output_type": "stream",
          "text": [
            "0.04850596020167524 0.9435632607893766 0.9058568361622876 0.9539951573849879 0.8259958071278826 0.8259958071278826 0.8520870333688241 0.9581147904238064 0.8853932584269664\n",
            "Epoch: 287 / 500, ############## the best accuracy in val  94.6330 at Epoch: 187  ##############\n",
            "Performance in Val: Loss: (0.0485); Accuracy (94.36)\n"
          ]
        },
        {
          "name": "stderr",
          "output_type": "stream",
          "text": [
            "Epoch 288: 100%|██████████| 1496/1496 [00:21<00:00, 69.11batch/s, train_loss=tensor(0.0067, device='cuda:0', grad_fn=<MseLossBackward0>)]\n"
          ]
        },
        {
          "name": "stdout",
          "output_type": "stream",
          "text": [
            "0.04899853679605506 0.9411656215418664 0.902435178662823 0.9498381877022654 0.8204053109713487 0.8204053109713487 0.8456249074162822 0.9576133126929022 0.880389951256093\n",
            "Epoch: 288 / 500, ############## the best accuracy in val  94.6330 at Epoch: 187  ##############\n",
            "Performance in Val: Loss: (0.0490); Accuracy (94.12)\n"
          ]
        },
        {
          "name": "stderr",
          "output_type": "stream",
          "text": [
            "Epoch 289: 100%|██████████| 1496/1496 [00:21<00:00, 68.96batch/s, train_loss=tensor(0.0062, device='cuda:0', grad_fn=<MseLossBackward0>)]\n"
          ]
        },
        {
          "name": "stdout",
          "output_type": "stream",
          "text": [
            "0.04894223749976267 0.9430099594245666 0.9057051146351127 0.9509646302250804 0.8266946191474493 0.8266946191474493 0.8505635180439866 0.9578883900376127 0.8844859813084113\n",
            "Epoch: 289 / 500, ############## the best accuracy in val  94.6330 at Epoch: 187  ##############\n",
            "Performance in Val: Loss: (0.0489); Accuracy (94.30)\n"
          ]
        },
        {
          "name": "stderr",
          "output_type": "stream",
          "text": [
            "Epoch 290: 100%|██████████| 1496/1496 [00:21<00:00, 68.66batch/s, train_loss=tensor(0.0059, device='cuda:0', grad_fn=<MseLossBackward0>)]\n"
          ]
        },
        {
          "name": "stdout",
          "output_type": "stream",
          "text": [
            "0.048902273940091785 0.9428255256362966 0.9058039568764171 0.9494787489975942 0.827393431167016 0.827393431167016 0.8500519876273657 0.9587561706362027 0.8842419716206122\n",
            "Epoch: 290 / 500, ############## the best accuracy in val  94.6330 at Epoch: 187  ##############\n",
            "Performance in Val: Loss: (0.0489); Accuracy (94.28)\n"
          ]
        },
        {
          "name": "stderr",
          "output_type": "stream",
          "text": [
            "Epoch 291: 100%|██████████| 1496/1496 [00:21<00:00, 69.07batch/s, train_loss=tensor(0.0088, device='cuda:0', grad_fn=<MseLossBackward0>)]\n"
          ]
        },
        {
          "name": "stdout",
          "output_type": "stream",
          "text": [
            "0.04886850926347754 0.9439321283659167 0.9065556481818543 0.9540692989524577 0.827393431167016 0.827393431167016 0.8530700619892723 0.9561048522698082 0.8862275449101797\n",
            "Epoch: 291 / 500, ############## the best accuracy in val  94.6330 at Epoch: 187  ##############\n",
            "Performance in Val: Loss: (0.0489); Accuracy (94.39)\n"
          ]
        },
        {
          "name": "stderr",
          "output_type": "stream",
          "text": [
            "Epoch 292: 100%|██████████| 1496/1496 [00:21<00:00, 69.17batch/s, train_loss=tensor(0.0070, device='cuda:0', grad_fn=<MseLossBackward0>)]\n"
          ]
        },
        {
          "name": "stdout",
          "output_type": "stream",
          "text": [
            "0.048198178156533024 0.9452231648838068 0.9092256143758817 0.9536 0.83298392732355 0.83298392732355 0.8564979531685198 0.9601385612386781 0.8892204401342783\n",
            "Epoch: 292 / 500, ############## the best accuracy in val  94.6330 at Epoch: 187  ##############\n",
            "Performance in Val: Loss: (0.0482); Accuracy (94.52)\n"
          ]
        },
        {
          "name": "stderr",
          "output_type": "stream",
          "text": [
            "Epoch 293: 100%|██████████| 1496/1496 [00:21<00:00, 68.10batch/s, train_loss=tensor(0.0071, device='cuda:0', grad_fn=<MseLossBackward0>)]\n"
          ]
        },
        {
          "name": "stdout",
          "output_type": "stream",
          "text": [
            "0.04855658088556745 0.9443009959424566 0.9077027084525087 0.9526864474739375 0.8301886792452831 0.8301886792452831 0.8540293701144438 0.957815899890757 0.8872292755787902\n",
            "Epoch: 293 / 500, ############## the best accuracy in val  94.6330 at Epoch: 187  ##############\n",
            "Performance in Val: Loss: (0.0486); Accuracy (94.43)\n"
          ]
        },
        {
          "name": "stderr",
          "output_type": "stream",
          "text": [
            "Epoch 294: 100%|██████████| 1496/1496 [00:21<00:00, 69.07batch/s, train_loss=tensor(0.0061, device='cuda:0', grad_fn=<MseLossBackward0>)]\n"
          ]
        },
        {
          "name": "stdout",
          "output_type": "stream",
          "text": [
            "0.048591140572997654 0.9443009959424566 0.9083750808291402 0.9505187549880287 0.8322851153039832 0.8322851153039832 0.8540010935779897 0.9578136236301069 0.8874813710879285\n",
            "Epoch: 294 / 500, ############## the best accuracy in val  94.6330 at Epoch: 187  ##############\n",
            "Performance in Val: Loss: (0.0486); Accuracy (94.43)\n"
          ]
        },
        {
          "name": "stderr",
          "output_type": "stream",
          "text": [
            "Epoch 295: 100%|██████████| 1496/1496 [00:21<00:00, 68.65batch/s, train_loss=tensor(0.0087, device='cuda:0', grad_fn=<MseLossBackward0>)]\n"
          ]
        },
        {
          "name": "stdout",
          "output_type": "stream",
          "text": [
            "0.0488120350478725 0.9444854297307267 0.9078279903367483 0.9534510433386838 0.8301886792452831 0.8301886792452831 0.8545322144447655 0.9581083118358025 0.8875607022786701\n",
            "Epoch: 295 / 500, ############## the best accuracy in val  94.6330 at Epoch: 187  ##############\n",
            "Performance in Val: Loss: (0.0488); Accuracy (94.45)\n"
          ]
        },
        {
          "name": "stderr",
          "output_type": "stream",
          "text": [
            "Epoch 296: 100%|██████████| 1496/1496 [00:21<00:00, 69.62batch/s, train_loss=tensor(0.0109, device='cuda:0', grad_fn=<MseLossBackward0>)]\n"
          ]
        },
        {
          "name": "stdout",
          "output_type": "stream",
          "text": [
            "0.04909996027973565 0.9444854297307267 0.9067073697090291 0.9571197411003236 0.8266946191474493 0.8266946191474493 0.8546019336541887 0.9575339937640964 0.8871391076115486\n",
            "Epoch: 296 / 500, ############## the best accuracy in val  94.6330 at Epoch: 187  ##############\n",
            "Performance in Val: Loss: (0.0491); Accuracy (94.45)\n"
          ]
        },
        {
          "name": "stderr",
          "output_type": "stream",
          "text": [
            "Epoch 297: 100%|██████████| 1496/1496 [00:21<00:00, 68.64batch/s, train_loss=tensor(0.0107, device='cuda:0', grad_fn=<MseLossBackward0>)]\n"
          ]
        },
        {
          "name": "stdout",
          "output_type": "stream",
          "text": [
            "0.04860724788159132 0.9448542973072667 0.9080785541052274 0.954983922829582 0.8301886792452831 0.8301886792452831 0.8555394499530056 0.9574758615690334 0.8882242990654207\n",
            "Epoch: 297 / 500, ############## the best accuracy in val  94.6330 at Epoch: 187  ##############\n",
            "Performance in Val: Loss: (0.0486); Accuracy (94.49)\n"
          ]
        },
        {
          "name": "stderr",
          "output_type": "stream",
          "text": [
            "Epoch 298: 100%|██████████| 1496/1496 [00:21<00:00, 69.37batch/s, train_loss=tensor(0.0050, device='cuda:0', grad_fn=<MseLossBackward0>)]\n"
          ]
        },
        {
          "name": "stdout",
          "output_type": "stream",
          "text": [
            "0.04878438712859696 0.9422722242714865 0.9049798629726108 0.9486356340288925 0.8259958071278826 0.8259958071278826 0.8485644617618575 0.957742534259036 0.8830780724691819\n",
            "Epoch: 298 / 500, ############## the best accuracy in val  94.6330 at Epoch: 187  ##############\n",
            "Performance in Val: Loss: (0.0488); Accuracy (94.23)\n"
          ]
        },
        {
          "name": "stderr",
          "output_type": "stream",
          "text": [
            "Epoch 299: 100%|██████████| 1496/1496 [00:21<00:00, 68.39batch/s, train_loss=tensor(0.0080, device='cuda:0', grad_fn=<MseLossBackward0>)]\n"
          ]
        },
        {
          "name": "stdout",
          "output_type": "stream",
          "text": [
            "0.048960036428814586 0.9443009959424566 0.9070303360758772 0.9548751007252216 0.8280922431865828 0.8280922431865828 0.8540660929950906 0.9575693633526586 0.8869760479041916\n",
            "Epoch: 299 / 500, ############## the best accuracy in val  94.6330 at Epoch: 187  ##############\n",
            "Performance in Val: Loss: (0.0490); Accuracy (94.43)\n"
          ]
        },
        {
          "name": "stderr",
          "output_type": "stream",
          "text": [
            "Epoch 300: 100%|██████████| 1496/1496 [00:21<00:00, 68.54batch/s, train_loss=tensor(0.0091, device='cuda:0', grad_fn=<MseLossBackward0>)]\n"
          ]
        },
        {
          "name": "stdout",
          "output_type": "stream",
          "text": [
            "0.04824005964804779 0.9455920324603467 0.9092520540188169 0.9558587479935795 0.8322851153039832 0.8322851153039832 0.8575160907862195 0.9566471275954406 0.8898020171834142\n",
            "Epoch: 300 / 500, ############## the best accuracy in val  94.6330 at Epoch: 187  ##############\n",
            "Performance in Val: Loss: (0.0482); Accuracy (94.56)\n"
          ]
        },
        {
          "name": "stderr",
          "output_type": "stream",
          "text": [
            "Epoch 301: 100%|██████████| 1496/1496 [00:21<00:00, 68.70batch/s, train_loss=tensor(0.0058, device='cuda:0', grad_fn=<MseLossBackward0>)]\n"
          ]
        },
        {
          "name": "stdout",
          "output_type": "stream",
          "text": [
            "0.04911223900589076 0.9431943932128366 0.9053821482682647 0.9531880548829701 0.8252969951083159 0.8252969951083159 0.851090437122673 0.9579256856928788 0.8846441947565542\n",
            "Epoch: 301 / 500, ############## the best accuracy in val  94.6330 at Epoch: 187  ##############\n",
            "Performance in Val: Loss: (0.0491); Accuracy (94.32)\n"
          ]
        },
        {
          "name": "stderr",
          "output_type": "stream",
          "text": [
            "Epoch 302: 100%|██████████| 1496/1496 [00:21<00:00, 68.85batch/s, train_loss=tensor(0.0065, device='cuda:0', grad_fn=<MseLossBackward0>)]\n"
          ]
        },
        {
          "name": "stdout",
          "output_type": "stream",
          "text": [
            "0.048980733887715774 0.9424566580597565 0.904208648354675 0.952303961196443 0.8232005590496156 0.8232005590496156 0.8491094939812328 0.9565849681699967 0.8830584707646176\n",
            "Epoch: 302 / 500, ############## the best accuracy in val  94.6330 at Epoch: 187  ##############\n",
            "Performance in Val: Loss: (0.0490); Accuracy (94.25)\n"
          ]
        },
        {
          "name": "stderr",
          "output_type": "stream",
          "text": [
            "Epoch 303: 100%|██████████| 1496/1496 [00:22<00:00, 66.82batch/s, train_loss=tensor(0.0068, device='cuda:0', grad_fn=<MseLossBackward0>)]\n"
          ]
        },
        {
          "name": "stdout",
          "output_type": "stream",
          "text": [
            "0.04897986208512024 0.9444854297307267 0.9069314938345729 0.9563812600969306 0.827393431167016 0.827393431167016 0.854586088606615 0.9574585269686984 0.8872236792806294\n",
            "Epoch: 303 / 500, ############## the best accuracy in val  94.6330 at Epoch: 187  ##############\n",
            "Performance in Val: Loss: (0.0490); Accuracy (94.45)\n"
          ]
        },
        {
          "name": "stderr",
          "output_type": "stream",
          "text": [
            "Epoch 304: 100%|██████████| 1496/1496 [00:22<00:00, 65.94batch/s, train_loss=tensor(0.0060, device='cuda:0', grad_fn=<MseLossBackward0>)]\n"
          ]
        },
        {
          "name": "stdout",
          "output_type": "stream",
          "text": [
            "0.04843639633194967 0.9437476945776466 0.9077751110508778 0.94896331738437 0.8315863032844165 0.8315863032844165 0.8525085978686774 0.9589153337847334 0.8864059590316574\n",
            "Epoch: 304 / 500, ############## the best accuracy in val  94.6330 at Epoch: 187  ##############\n",
            "Performance in Val: Loss: (0.0484); Accuracy (94.37)\n"
          ]
        },
        {
          "name": "stderr",
          "output_type": "stream",
          "text": [
            "Epoch 305: 100%|██████████| 1496/1496 [00:23<00:00, 64.80batch/s, train_loss=tensor(0.0075, device='cuda:0', grad_fn=<MseLossBackward0>)]\n"
          ]
        },
        {
          "name": "stdout",
          "output_type": "stream",
          "text": [
            "0.049243410625918346 0.9415344891184065 0.9035822389334773 0.9484702093397746 0.8232005590496156 0.8232005590496156 0.846591264550184 0.9561316421066897 0.881406659184437\n",
            "Epoch: 305 / 500, ############## the best accuracy in val  94.6330 at Epoch: 187  ##############\n",
            "Performance in Val: Loss: (0.0492); Accuracy (94.15)\n"
          ]
        },
        {
          "name": "stderr",
          "output_type": "stream",
          "text": [
            "Epoch 306: 100%|██████████| 1496/1496 [00:22<00:00, 66.10batch/s, train_loss=tensor(0.0058, device='cuda:0', grad_fn=<MseLossBackward0>)]\n"
          ]
        },
        {
          "name": "stdout",
          "output_type": "stream",
          "text": [
            "0.04825531437315724 0.9433788270011066 0.9055074301525042 0.9539579967689822 0.8252969951083159 0.8252969951083159 0.8515954500582982 0.9590713451877486 0.8849756463094793\n",
            "Epoch: 306 / 500, ############## the best accuracy in val  94.6330 at Epoch: 187  ##############\n",
            "Performance in Val: Loss: (0.0483); Accuracy (94.34)\n"
          ]
        },
        {
          "name": "stderr",
          "output_type": "stream",
          "text": [
            "Epoch 307: 100%|██████████| 1496/1496 [00:22<00:00, 65.21batch/s, train_loss=tensor(0.0081, device='cuda:0', grad_fn=<MseLossBackward0>)]\n"
          ]
        },
        {
          "name": "stdout",
          "output_type": "stream",
          "text": [
            "0.048451567915352906 0.9430099594245666 0.9061533628862004 0.9495192307692307 0.8280922431865828 0.8280922431865828 0.8505448413433311 0.958545003686667 0.8846584546472563\n",
            "Epoch: 307 / 500, ############## the best accuracy in val  94.6330 at Epoch: 187  ##############\n",
            "Performance in Val: Loss: (0.0485); Accuracy (94.30)\n"
          ]
        },
        {
          "name": "stderr",
          "output_type": "stream",
          "text": [
            "Epoch 308: 100%|██████████| 1496/1496 [00:22<00:00, 66.44batch/s, train_loss=tensor(0.0101, device='cuda:0', grad_fn=<MseLossBackward0>)]\n"
          ]
        },
        {
          "name": "stdout",
          "output_type": "stream",
          "text": [
            "0.04868508629839529 0.9424566580597565 0.9060016413590257 0.9465283320031923 0.8287910552061496 0.8287910552061496 0.8490377155508495 0.9573468150998727 0.8837555886736215\n",
            "Epoch: 308 / 500, ############## the best accuracy in val  94.6330 at Epoch: 187  ##############\n",
            "Performance in Val: Loss: (0.0487); Accuracy (94.25)\n"
          ]
        },
        {
          "name": "stderr",
          "output_type": "stream",
          "text": [
            "Epoch 309: 100%|██████████| 1496/1496 [00:23<00:00, 64.58batch/s, train_loss=tensor(0.0123, device='cuda:0', grad_fn=<MseLossBackward0>)]\n"
          ]
        },
        {
          "name": "stdout",
          "output_type": "stream",
          "text": [
            "0.04814394571903077 0.9444854297307267 0.9087244868389236 0.9505582137161085 0.83298392732355 0.83298392732355 0.8544933953709861 0.9586005094271335 0.8878957169459963\n",
            "Epoch: 309 / 500, ############## the best accuracy in val  94.6330 at Epoch: 187  ##############\n",
            "Performance in Val: Loss: (0.0481); Accuracy (94.45)\n"
          ]
        },
        {
          "name": "stderr",
          "output_type": "stream",
          "text": [
            "Epoch 310: 100%|██████████| 1496/1496 [00:22<00:00, 66.22batch/s, train_loss=tensor(0.0052, device='cuda:0', grad_fn=<MseLossBackward0>)]\n"
          ]
        },
        {
          "name": "stdout",
          "output_type": "stream",
          "text": [
            "0.04886194902726195 0.9431943932128366 0.9067268930215276 0.9488409272581935 0.8294898672257163 0.8294898672257163 0.8510298941509324 0.9574937214602878 0.8851603281133482\n",
            "Epoch: 310 / 500, ############## the best accuracy in val  94.6330 at Epoch: 187  ##############\n",
            "Performance in Val: Loss: (0.0489); Accuracy (94.32)\n"
          ]
        },
        {
          "name": "stderr",
          "output_type": "stream",
          "text": [
            "Epoch 311: 100%|██████████| 1496/1496 [00:22<00:00, 65.81batch/s, train_loss=tensor(0.0061, device='cuda:0', grad_fn=<MseLossBackward0>)]\n"
          ]
        },
        {
          "name": "stdout",
          "output_type": "stream",
          "text": [
            "0.04867809062654322 0.9437476945776466 0.9066544904231586 0.952572347266881 0.8280922431865828 0.8280922431865828 0.8525538908075943 0.957580744655909 0.885981308411215\n",
            "Epoch: 311 / 500, ############## the best accuracy in val  94.6330 at Epoch: 187  ##############\n",
            "Performance in Val: Loss: (0.0487); Accuracy (94.37)\n"
          ]
        },
        {
          "name": "stderr",
          "output_type": "stream",
          "text": [
            "Epoch 312: 100%|██████████| 1496/1496 [00:22<00:00, 65.33batch/s, train_loss=tensor(0.0086, device='cuda:0', grad_fn=<MseLossBackward0>)]\n"
          ]
        },
        {
          "name": "stdout",
          "output_type": "stream",
          "text": [
            "0.04863184893673116 0.9435632607893766 0.9069774567900067 0.9503602882305845 0.8294898672257163 0.8294898672257163 0.8520314358534078 0.9574986241755341 0.885820895522388\n",
            "Epoch: 312 / 500, ############## the best accuracy in val  94.6330 at Epoch: 187  ##############\n",
            "Performance in Val: Loss: (0.0486); Accuracy (94.36)\n"
          ]
        },
        {
          "name": "stderr",
          "output_type": "stream",
          "text": [
            "Epoch 313: 100%|██████████| 1496/1496 [00:22<00:00, 65.26batch/s, train_loss=tensor(0.0115, device='cuda:0', grad_fn=<MseLossBackward0>)]\n"
          ]
        },
        {
          "name": "stdout",
          "output_type": "stream",
          "text": [
            "0.048852340910922394 0.9435632607893766 0.906529208538919 0.9518072289156626 0.8280922431865828 0.8280922431865828 0.8520508569428447 0.956550999357219 0.8856502242152465\n",
            "Epoch: 313 / 500, ############## the best accuracy in val  94.6330 at Epoch: 187  ##############\n",
            "Performance in Val: Loss: (0.0489); Accuracy (94.36)\n"
          ]
        },
        {
          "name": "stderr",
          "output_type": "stream",
          "text": [
            "Epoch 314: 100%|██████████| 1496/1496 [00:22<00:00, 66.18batch/s, train_loss=tensor(0.0084, device='cuda:0', grad_fn=<MseLossBackward0>)]\n"
          ]
        },
        {
          "name": "stdout",
          "output_type": "stream",
          "text": [
            "0.04868670942431146 0.9452231648838068 0.9083291178737064 0.9565217391304348 0.8301886792452831 0.8301886792452831 0.8565487548879527 0.9571281189804944 0.888888888888889\n",
            "Epoch: 314 / 500, ############## the best accuracy in val  94.6330 at Epoch: 187  ##############\n",
            "Performance in Val: Loss: (0.0487); Accuracy (94.52)\n"
          ]
        },
        {
          "name": "stderr",
          "output_type": "stream",
          "text": [
            "Epoch 315: 100%|██████████| 1496/1496 [00:23<00:00, 63.91batch/s, train_loss=tensor(0.0067, device='cuda:0', grad_fn=<MseLossBackward0>)]\n"
          ]
        },
        {
          "name": "stdout",
          "output_type": "stream",
          "text": [
            "0.048327230933037674 0.9443009959424566 0.9077027084525087 0.9526864474739375 0.8301886792452831 0.8301886792452831 0.8540293701144438 0.9578978452741589 0.8872292755787902\n",
            "Epoch: 315 / 500, ############## the best accuracy in val  94.6330 at Epoch: 187  ##############\n",
            "Performance in Val: Loss: (0.0483); Accuracy (94.43)\n"
          ]
        },
        {
          "name": "stderr",
          "output_type": "stream",
          "text": [
            "Epoch 316: 100%|██████████| 1496/1496 [00:23<00:00, 64.80batch/s, train_loss=tensor(0.0062, device='cuda:0', grad_fn=<MseLossBackward0>)]\n"
          ]
        },
        {
          "name": "stdout",
          "output_type": "stream",
          "text": [
            "0.04845022266222672 0.9448542973072667 0.908526802356315 0.9535256410256411 0.8315863032844165 0.8315863032844165 0.8555151724596395 0.9577341296043281 0.8883911907428145\n",
            "Epoch: 316 / 500, ############## the best accuracy in val  94.6330 at Epoch: 187  ##############\n",
            "Performance in Val: Loss: (0.0485); Accuracy (94.49)\n"
          ]
        },
        {
          "name": "stderr",
          "output_type": "stream",
          "text": [
            "Epoch 317: 100%|██████████| 1496/1496 [00:23<00:00, 63.83batch/s, train_loss=tensor(0.0106, device='cuda:0', grad_fn=<MseLossBackward0>)]\n"
          ]
        },
        {
          "name": "stdout",
          "output_type": "stream",
          "text": [
            "0.04854937820610675 0.9441165621541866 0.9075774265682692 0.9519230769230769 0.8301886792452831 0.8301886792452831 0.8535270400131162 0.9586810540347508 0.8868980963045913\n",
            "Epoch: 317 / 500, ############## the best accuracy in val  94.6330 at Epoch: 187  ##############\n",
            "Performance in Val: Loss: (0.0485); Accuracy (94.41)\n"
          ]
        },
        {
          "name": "stderr",
          "output_type": "stream",
          "text": [
            "Epoch 318: 100%|██████████| 1496/1496 [00:22<00:00, 65.09batch/s, train_loss=tensor(0.0092, device='cuda:0', grad_fn=<MseLossBackward0>)]\n"
          ]
        },
        {
          "name": "stdout",
          "output_type": "stream",
          "text": [
            "0.0488589278168299 0.9431943932128366 0.9056062723938085 0.9524576954069299 0.8259958071278826 0.8259958071278826 0.8510779999776357 0.958776306788107 0.8847305389221557\n",
            "Epoch: 318 / 500, ############## the best accuracy in val  94.6330 at Epoch: 187  ##############\n",
            "Performance in Val: Loss: (0.0489); Accuracy (94.32)\n"
          ]
        },
        {
          "name": "stderr",
          "output_type": "stream",
          "text": [
            "Epoch 319: 100%|██████████| 1496/1496 [00:23<00:00, 64.09batch/s, train_loss=tensor(0.0049, device='cuda:0', grad_fn=<MseLossBackward0>)]\n"
          ]
        },
        {
          "name": "stdout",
          "output_type": "stream",
          "text": [
            "0.04849831091070717 0.9448542973072667 0.9080785541052274 0.954983922829582 0.8301886792452831 0.8301886792452831 0.8555394499530056 0.9591688742017547 0.8882242990654207\n",
            "Epoch: 319 / 500, ############## the best accuracy in val  94.6330 at Epoch: 187  ##############\n",
            "Performance in Val: Loss: (0.0485); Accuracy (94.49)\n"
          ]
        },
        {
          "name": "stderr",
          "output_type": "stream",
          "text": [
            "Epoch 320: 100%|██████████| 1496/1496 [00:23<00:00, 64.83batch/s, train_loss=tensor(0.0052, device='cuda:0', grad_fn=<MseLossBackward0>)]\n"
          ]
        },
        {
          "name": "stdout",
          "output_type": "stream",
          "text": [
            "0.0490027524700219 0.9435632607893766 0.9058568361622876 0.9539951573849879 0.8259958071278826 0.8259958071278826 0.8520870333688241 0.9572815914773999 0.8853932584269664\n",
            "Epoch: 320 / 500, ############## the best accuracy in val  94.6330 at Epoch: 187  ##############\n",
            "Performance in Val: Loss: (0.0490); Accuracy (94.36)\n"
          ]
        },
        {
          "name": "stderr",
          "output_type": "stream",
          "text": [
            "Epoch 321: 100%|██████████| 1496/1496 [00:23<00:00, 64.71batch/s, train_loss=tensor(0.0084, device='cuda:0', grad_fn=<MseLossBackward0>)]\n"
          ]
        },
        {
          "name": "stdout",
          "output_type": "stream",
          "text": [
            "0.04892019106244499 0.9428255256362966 0.9062522051275048 0.9480415667466027 0.8287910552061496 0.8287910552061496 0.8500366635700776 0.9573734298397809 0.8844146159582401\n",
            "Epoch: 321 / 500, ############## the best accuracy in val  94.6330 at Epoch: 187  ##############\n",
            "Performance in Val: Loss: (0.0489); Accuracy (94.28)\n"
          ]
        },
        {
          "name": "stderr",
          "output_type": "stream",
          "text": [
            "Epoch 322: 100%|██████████| 1496/1496 [00:22<00:00, 65.42batch/s, train_loss=tensor(0.0077, device='cuda:0', grad_fn=<MseLossBackward0>)]\n"
          ]
        },
        {
          "name": "stdout",
          "output_type": "stream",
          "text": [
            "0.048892556435682556 0.9437476945776466 0.9064303662976148 0.9533011272141707 0.827393431167016 0.827393431167016 0.8525657587528451 0.957822378478761 0.8858959970071081\n",
            "Epoch: 322 / 500, ############## the best accuracy in val  94.6330 at Epoch: 187  ##############\n",
            "Performance in Val: Loss: (0.0489); Accuracy (94.37)\n"
          ]
        },
        {
          "name": "stderr",
          "output_type": "stream",
          "text": [
            "Epoch 323: 100%|██████████| 1496/1496 [00:22<00:00, 65.50batch/s, train_loss=tensor(0.0059, device='cuda:0', grad_fn=<MseLossBackward0>)]\n"
          ]
        },
        {
          "name": "stdout",
          "output_type": "stream",
          "text": [
            "0.04846142139285803 0.9433788270011066 0.9064039266546795 0.9510433386837881 0.8280922431865828 0.8280922431865828 0.8515483381033115 0.9568973411699735 0.885319387373926\n",
            "Epoch: 323 / 500, ############## the best accuracy in val  94.6330 at Epoch: 187  ##############\n",
            "Performance in Val: Loss: (0.0485); Accuracy (94.34)\n"
          ]
        },
        {
          "name": "stderr",
          "output_type": "stream",
          "text": [
            "Epoch 324: 100%|██████████| 1496/1496 [00:22<00:00, 66.13batch/s, train_loss=tensor(0.0055, device='cuda:0', grad_fn=<MseLossBackward0>)]\n"
          ]
        },
        {
          "name": "stdout",
          "output_type": "stream",
          "text": [
            "0.04868237471038645 0.9437476945776466 0.9057579939209833 0.9555016181229773 0.8252969951083159 0.8252969951083159 0.8526070389346538 0.9563323032378407 0.885639295088114\n",
            "Epoch: 324 / 500, ############## the best accuracy in val  94.6330 at Epoch: 187  ##############\n",
            "Performance in Val: Loss: (0.0487); Accuracy (94.37)\n"
          ]
        },
        {
          "name": "stderr",
          "output_type": "stream",
          "text": [
            "Epoch 325: 100%|██████████| 1496/1496 [00:22<00:00, 65.53batch/s, train_loss=tensor(0.0137, device='cuda:0', grad_fn=<MseLossBackward0>)]\n"
          ]
        },
        {
          "name": "stdout",
          "output_type": "stream",
          "text": [
            "0.048942312682894146 0.9454075986720767 0.9091267721345775 0.9550922213311949 0.8322851153039832 0.8322851153039832 0.8570124069797525 0.9567052597905035 0.8894697535474234\n",
            "Epoch: 325 / 500, ############## the best accuracy in val  94.6330 at Epoch: 187  ##############\n",
            "Performance in Val: Loss: (0.0489); Accuracy (94.54)\n"
          ]
        },
        {
          "name": "stderr",
          "output_type": "stream",
          "text": [
            "Epoch 326: 100%|██████████| 1496/1496 [00:22<00:00, 65.60batch/s, train_loss=tensor(0.0073, device='cuda:0', grad_fn=<MseLossBackward0>)]\n"
          ]
        },
        {
          "name": "stdout",
          "output_type": "stream",
          "text": [
            "0.04840556388212876 0.9437476945776466 0.9068786145487024 0.9518459069020867 0.8287910552061496 0.8287910552061496 0.8525429635504629 0.957807320139076 0.886066492342174\n",
            "Epoch: 326 / 500, ############## the best accuracy in val  94.6330 at Epoch: 187  ##############\n",
            "Performance in Val: Loss: (0.0484); Accuracy (94.37)\n"
          ]
        },
        {
          "name": "stderr",
          "output_type": "stream",
          "text": [
            "Epoch 327: 100%|██████████| 1496/1496 [00:23<00:00, 64.62batch/s, train_loss=tensor(0.0072, device='cuda:0', grad_fn=<MseLossBackward0>)]\n"
          ]
        },
        {
          "name": "stdout",
          "output_type": "stream",
          "text": [
            "0.0485219680280848 0.9439321283659167 0.9076762688095734 0.950439648281375 0.8308874912648497 0.8308874912648497 0.853016355312642 0.9580650628834515 0.8866517524235645\n",
            "Epoch: 327 / 500, ############## the best accuracy in val  94.6330 at Epoch: 187  ##############\n",
            "Performance in Val: Loss: (0.0485); Accuracy (94.39)\n"
          ]
        },
        {
          "name": "stderr",
          "output_type": "stream",
          "text": [
            "Epoch 328: 100%|██████████| 1496/1496 [00:22<00:00, 66.41batch/s, train_loss=tensor(0.0094, device='cuda:0', grad_fn=<MseLossBackward0>)]\n"
          ]
        },
        {
          "name": "stdout",
          "output_type": "stream",
          "text": [
            "0.048280857503414154 0.9443009959424566 0.9072544602014211 0.9541432019308126 0.8287910552061496 0.8287910552061496 0.8540529082330198 0.9583072219972226 0.887060583395662\n",
            "Epoch: 328 / 500, ############## the best accuracy in val  94.6330 at Epoch: 187  ##############\n",
            "Performance in Val: Loss: (0.0483); Accuracy (94.43)\n"
          ]
        },
        {
          "name": "stderr",
          "output_type": "stream",
          "text": [
            "Epoch 329: 100%|██████████| 1496/1496 [00:23<00:00, 64.71batch/s, train_loss=tensor(0.0059, device='cuda:0', grad_fn=<MseLossBackward0>)]\n"
          ]
        },
        {
          "name": "stdout",
          "output_type": "stream",
          "text": [
            "0.048329799182035706 0.9457764662486168 0.910049708279688 0.9544364508393285 0.8343815513626834 0.8343815513626834 0.857982508216916 0.9602507983984228 0.8903803131991052\n",
            "Epoch: 329 / 500, ############## the best accuracy in val  94.6330 at Epoch: 187  ##############\n",
            "Performance in Val: Loss: (0.0483); Accuracy (94.58)\n"
          ]
        },
        {
          "name": "stderr",
          "output_type": "stream",
          "text": [
            "Epoch 330: 100%|██████████| 1496/1496 [00:22<00:00, 65.44batch/s, train_loss=tensor(0.0068, device='cuda:0', grad_fn=<MseLossBackward0>)]\n"
          ]
        },
        {
          "name": "stdout",
          "output_type": "stream",
          "text": [
            "0.04821366842158816 0.9448542973072667 0.9089750506074026 0.952076677316294 0.83298392732355 0.83298392732355 0.8554946527363035 0.9589995554287853 0.8885575847931421\n",
            "Epoch: 330 / 500, ############## the best accuracy in val  94.6330 at Epoch: 187  ##############\n",
            "Performance in Val: Loss: (0.0482); Accuracy (94.49)\n"
          ]
        },
        {
          "name": "stderr",
          "output_type": "stream",
          "text": [
            "Epoch 331: 100%|██████████| 1496/1496 [00:23<00:00, 64.33batch/s, train_loss=tensor(0.0090, device='cuda:0', grad_fn=<MseLossBackward0>)]\n"
          ]
        },
        {
          "name": "stdout",
          "output_type": "stream",
          "text": [
            "0.04898606808009473 0.9446698635189967 0.9068326515932686 0.9578947368421052 0.8266946191474493 0.8266946191474493 0.8551090808684302 0.9563715249598108 0.8874718679669917\n",
            "Epoch: 331 / 500, ############## the best accuracy in val  94.6330 at Epoch: 187  ##############\n",
            "Performance in Val: Loss: (0.0490); Accuracy (94.47)\n"
          ]
        },
        {
          "name": "stderr",
          "output_type": "stream",
          "text": [
            "Epoch 332: 100%|██████████| 1496/1496 [00:22<00:00, 65.33batch/s, train_loss=tensor(0.0044, device='cuda:0', grad_fn=<MseLossBackward0>)]\n"
          ]
        },
        {
          "name": "stdout",
          "output_type": "stream",
          "text": [
            "0.048314875245771625 0.9437476945776466 0.9064303662976148 0.9533011272141707 0.827393431167016 0.827393431167016 0.8525657587528451 0.9611084233725744 0.8858959970071081\n",
            "Epoch: 332 / 500, ############## the best accuracy in val  94.6330 at Epoch: 187  ##############\n",
            "Performance in Val: Loss: (0.0483); Accuracy (94.37)\n"
          ]
        },
        {
          "name": "stderr",
          "output_type": "stream",
          "text": [
            "Epoch 333: 100%|██████████| 1496/1496 [00:23<00:00, 64.54batch/s, train_loss=tensor(0.0057, device='cuda:0', grad_fn=<MseLossBackward0>)]\n"
          ]
        },
        {
          "name": "stdout",
          "output_type": "stream",
          "text": [
            "0.04830547125840729 0.9446698635189967 0.9081773963465316 0.9534883720930233 0.8308874912648497 0.8308874912648497 0.8550237157362134 0.9589735535282827 0.8879761015683346\n",
            "Epoch: 333 / 500, ############## the best accuracy in val  94.6330 at Epoch: 187  ##############\n",
            "Performance in Val: Loss: (0.0483); Accuracy (94.47)\n"
          ]
        },
        {
          "name": "stderr",
          "output_type": "stream",
          "text": [
            "Epoch 334: 100%|██████████| 1496/1496 [00:23<00:00, 64.64batch/s, train_loss=tensor(0.0049, device='cuda:0', grad_fn=<MseLossBackward0>)]\n"
          ]
        },
        {
          "name": "stdout",
          "output_type": "stream",
          "text": [
            "0.04821412849494002 0.9457764662486168 0.9102738324052319 0.9537110933758979 0.8350803633822502 0.8350803633822502 0.857971795999702 0.95896401074325 0.8904619970193741\n",
            "Epoch: 334 / 500, ############## the best accuracy in val  94.6330 at Epoch: 187  ##############\n",
            "Performance in Val: Loss: (0.0482); Accuracy (94.58)\n"
          ]
        },
        {
          "name": "stderr",
          "output_type": "stream",
          "text": [
            "Epoch 335: 100%|██████████| 1496/1496 [00:23<00:00, 65.02batch/s, train_loss=tensor(0.0058, device='cuda:0', grad_fn=<MseLossBackward0>)]\n"
          ]
        },
        {
          "name": "stdout",
          "output_type": "stream",
          "text": [
            "0.048522877168249 0.9450387310955367 0.9075314636128353 0.957962813257882 0.8280922431865828 0.8280922431865828 0.8560896365237891 0.9577353552831396 0.8883058470764618\n",
            "Epoch: 335 / 500, ############## the best accuracy in val  94.6330 at Epoch: 187  ##############\n",
            "Performance in Val: Loss: (0.0485); Accuracy (94.50)\n"
          ]
        },
        {
          "name": "stderr",
          "output_type": "stream",
          "text": [
            "Epoch 336: 100%|██████████| 1496/1496 [00:22<00:00, 66.36batch/s, train_loss=tensor(0.0061, device='cuda:0', grad_fn=<MseLossBackward0>)]\n"
          ]
        },
        {
          "name": "stdout",
          "output_type": "stream",
          "text": [
            "0.04846125341613184 0.9439321283659167 0.9063315240563106 0.9548022598870056 0.8266946191474493 0.8266946191474493 0.8530836296149751 0.9580335454282968 0.8861423220973783\n",
            "Epoch: 336 / 500, ############## the best accuracy in val  94.6330 at Epoch: 187  ##############\n",
            "Performance in Val: Loss: (0.0485); Accuracy (94.39)\n"
          ]
        },
        {
          "name": "stderr",
          "output_type": "stream",
          "text": [
            "Epoch 337: 100%|██████████| 1496/1496 [00:22<00:00, 67.88batch/s, train_loss=tensor(0.0050, device='cuda:0', grad_fn=<MseLossBackward0>)]\n"
          ]
        },
        {
          "name": "stdout",
          "output_type": "stream",
          "text": [
            "0.04883969405835325 0.9443009959424566 0.9072544602014211 0.9541432019308126 0.8287910552061496 0.8287910552061496 0.8540529082330198 0.95665448166831 0.887060583395662\n",
            "Epoch: 337 / 500, ############## the best accuracy in val  94.6330 at Epoch: 187  ##############\n",
            "Performance in Val: Loss: (0.0488); Accuracy (94.43)\n"
          ]
        },
        {
          "name": "stderr",
          "output_type": "stream",
          "text": [
            "Epoch 338: 100%|██████████| 1496/1496 [00:22<00:00, 67.37batch/s, train_loss=tensor(0.0119, device='cuda:0', grad_fn=<MseLossBackward0>)]\n"
          ]
        },
        {
          "name": "stdout",
          "output_type": "stream",
          "text": [
            "0.04876519807360389 0.9444854297307267 0.9073797420856606 0.9549114331723028 0.8287910552061496 0.8287910552061496 0.8545572568203988 0.9593861695453485 0.8873924429479986\n",
            "Epoch: 338 / 500, ############## the best accuracy in val  94.6330 at Epoch: 187  ##############\n",
            "Performance in Val: Loss: (0.0488); Accuracy (94.45)\n"
          ]
        },
        {
          "name": "stderr",
          "output_type": "stream",
          "text": [
            "Epoch 339: 100%|██████████| 1496/1496 [00:22<00:00, 66.88batch/s, train_loss=tensor(0.0103, device='cuda:0', grad_fn=<MseLossBackward0>)]\n"
          ]
        },
        {
          "name": "stdout",
          "output_type": "stream",
          "text": [
            "0.048475449566136704 0.9444854297307267 0.9076038662112045 0.9541800643086816 0.8294898672257163 0.8294898672257163 0.8545442635712018 0.9585870269602063 0.8874766355140187\n",
            "Epoch: 339 / 500, ############## the best accuracy in val  94.6330 at Epoch: 187  ##############\n",
            "Performance in Val: Loss: (0.0485); Accuracy (94.45)\n"
          ]
        },
        {
          "name": "stderr",
          "output_type": "stream",
          "text": [
            "Epoch 340: 100%|██████████| 1496/1496 [00:23<00:00, 63.11batch/s, train_loss=tensor(0.0074, device='cuda:0', grad_fn=<MseLossBackward0>)]\n"
          ]
        },
        {
          "name": "stdout",
          "output_type": "stream",
          "text": [
            "0.04890721883963455 0.9446698635189967 0.9077291480954439 0.9549477071600966 0.8294898672257163 0.8294898672257163 0.8550483757257338 0.95714037576861 0.8878085265519821\n",
            "Epoch: 340 / 500, ############## the best accuracy in val  94.6330 at Epoch: 187  ##############\n",
            "Performance in Val: Loss: (0.0489); Accuracy (94.47)\n"
          ]
        },
        {
          "name": "stderr",
          "output_type": "stream",
          "text": [
            "Epoch 341: 100%|██████████| 1496/1496 [00:23<00:00, 63.21batch/s, train_loss=tensor(0.0083, device='cuda:0', grad_fn=<MseLossBackward0>)]\n"
          ]
        },
        {
          "name": "stdout",
          "output_type": "stream",
          "text": [
            "0.04890606366097927 0.9430099594245666 0.9052568663840251 0.9524193548387097 0.8252969951083159 0.8252969951083159 0.850585943778513 0.9562289960237229 0.8843129913889929\n",
            "Epoch: 341 / 500, ############## the best accuracy in val  94.6330 at Epoch: 187  ##############\n",
            "Performance in Val: Loss: (0.0489); Accuracy (94.30)\n"
          ]
        },
        {
          "name": "stderr",
          "output_type": "stream",
          "text": [
            "Epoch 342: 100%|██████████| 1496/1496 [00:22<00:00, 67.35batch/s, train_loss=tensor(0.0042, device='cuda:0', grad_fn=<MseLossBackward0>)]\n"
          ]
        },
        {
          "name": "stdout",
          "output_type": "stream",
          "text": [
            "0.04887306233021346 0.9433788270011066 0.9052833060269604 0.9546925566343042 0.8245981830887491 0.8245981830887491 0.8516095915748865 0.9573895387613045 0.8848893888263967\n",
            "Epoch: 342 / 500, ############## the best accuracy in val  94.6330 at Epoch: 187  ##############\n",
            "Performance in Val: Loss: (0.0489); Accuracy (94.34)\n"
          ]
        },
        {
          "name": "stderr",
          "output_type": "stream",
          "text": [
            "Epoch 343: 100%|██████████| 1496/1496 [00:22<00:00, 66.93batch/s, train_loss=tensor(0.0062, device='cuda:0', grad_fn=<MseLossBackward0>)]\n"
          ]
        },
        {
          "name": "stdout",
          "output_type": "stream",
          "text": [
            "0.048417210917581215 0.9443009959424566 0.9072544602014211 0.9541432019308126 0.8287910552061496 0.8287910552061496 0.8540529082330198 0.9581837786312004 0.887060583395662\n",
            "Epoch: 343 / 500, ############## the best accuracy in val  94.6330 at Epoch: 187  ##############\n",
            "Performance in Val: Loss: (0.0484); Accuracy (94.43)\n"
          ]
        },
        {
          "name": "stderr",
          "output_type": "stream",
          "text": [
            "Epoch 344: 100%|██████████| 1496/1496 [00:22<00:00, 66.39batch/s, train_loss=tensor(0.0051, device='cuda:0', grad_fn=<MseLossBackward0>)]\n"
          ]
        },
        {
          "name": "stdout",
          "output_type": "stream",
          "text": [
            "0.048847140998325565 0.9441165621541866 0.9066809300660938 0.9548387096774194 0.827393431167016 0.827393431167016 0.8535748840075116 0.9559610976549087 0.8865593410707601\n",
            "Epoch: 344 / 500, ############## the best accuracy in val  94.6330 at Epoch: 187  ##############\n",
            "Performance in Val: Loss: (0.0488); Accuracy (94.41)\n"
          ]
        },
        {
          "name": "stderr",
          "output_type": "stream",
          "text": [
            "Epoch 345: 100%|██████████| 1496/1496 [00:22<00:00, 67.26batch/s, train_loss=tensor(0.0061, device='cuda:0', grad_fn=<MseLossBackward0>)]\n"
          ]
        },
        {
          "name": "stdout",
          "output_type": "stream",
          "text": [
            "0.04825668257068504 0.9457764662486168 0.908704963526425 0.9588377723970944 0.8301886792452831 0.8301886792452831 0.8580666108457303 0.9576388768509719 0.8898876404494381\n",
            "Epoch: 345 / 500, ############## the best accuracy in val  94.6330 at Epoch: 187  ##############\n",
            "Performance in Val: Loss: (0.0483); Accuracy (94.58)\n"
          ]
        },
        {
          "name": "stderr",
          "output_type": "stream",
          "text": [
            "Epoch 346: 100%|██████████| 1496/1496 [00:22<00:00, 66.16batch/s, train_loss=tensor(0.0078, device='cuda:0', grad_fn=<MseLossBackward0>)]\n"
          ]
        },
        {
          "name": "stdout",
          "output_type": "stream",
          "text": [
            "0.04947727927091447 0.9426410918480266 0.9052304267410899 0.9501607717041801 0.8259958071278826 0.8259958071278826 0.8495683316621828 0.9563575172019643 0.8837383177570094\n",
            "Epoch: 346 / 500, ############## the best accuracy in val  94.6330 at Epoch: 187  ##############\n",
            "Performance in Val: Loss: (0.0495); Accuracy (94.26)\n"
          ]
        },
        {
          "name": "stderr",
          "output_type": "stream",
          "text": [
            "Epoch 347: 100%|██████████| 1496/1496 [00:23<00:00, 64.84batch/s, train_loss=tensor(0.0048, device='cuda:0', grad_fn=<MseLossBackward0>)]\n"
          ]
        },
        {
          "name": "stdout",
          "output_type": "stream",
          "text": [
            "0.04879182280803269 0.9441165621541866 0.90645680594055 0.9555735056542811 0.8266946191474493 0.8266946191474493 0.8535892090905094 0.9572356285219662 0.8864743349569126\n",
            "Epoch: 347 / 500, ############## the best accuracy in val  94.6330 at Epoch: 187  ##############\n",
            "Performance in Val: Loss: (0.0488); Accuracy (94.41)\n"
          ]
        },
        {
          "name": "stderr",
          "output_type": "stream",
          "text": [
            "Epoch 348: 100%|██████████| 1496/1496 [00:22<00:00, 65.46batch/s, train_loss=tensor(0.0045, device='cuda:0', grad_fn=<MseLossBackward0>)]\n"
          ]
        },
        {
          "name": "stdout",
          "output_type": "stream",
          "text": [
            "0.048084617338397286 0.9448542973072667 0.9069579334775082 0.9586709886547812 0.8266946191474493 0.8266946191474493 0.8556167527932905 0.9598400208995748 0.8878048780487806\n",
            "Epoch: 348 / 500, ############## the best accuracy in val  94.6330 at Epoch: 187  ##############\n",
            "Performance in Val: Loss: (0.0481); Accuracy (94.49)\n"
          ]
        },
        {
          "name": "stderr",
          "output_type": "stream",
          "text": [
            "Epoch 349: 100%|██████████| 1496/1496 [00:22<00:00, 66.53batch/s, train_loss=tensor(0.0086, device='cuda:0', grad_fn=<MseLossBackward0>)]\n"
          ]
        },
        {
          "name": "stdout",
          "output_type": "stream",
          "text": [
            "0.04836147083816203 0.9441165621541866 0.907801550693813 0.9512 0.8308874912648497 0.8308874912648497 0.8535174270576759 0.9599114604645917 0.8869824692278999\n",
            "Epoch: 349 / 500, ############## the best accuracy in val  94.6330 at Epoch: 187  ##############\n",
            "Performance in Val: Loss: (0.0484); Accuracy (94.41)\n"
          ]
        },
        {
          "name": "stderr",
          "output_type": "stream",
          "text": [
            "Epoch 350: 100%|██████████| 1496/1496 [00:22<00:00, 66.01batch/s, train_loss=tensor(0.0062, device='cuda:0', grad_fn=<MseLossBackward0>)]\n"
          ]
        },
        {
          "name": "stdout",
          "output_type": "stream",
          "text": [
            "0.04836395857009021 0.9444854297307267 0.9078279903367483 0.9534510433386838 0.8301886792452831 0.8301886792452831 0.8545322144447655 0.9598808184943026 0.8875607022786701\n",
            "Epoch: 350 / 500, ############## the best accuracy in val  94.6330 at Epoch: 187  ##############\n",
            "Performance in Val: Loss: (0.0484); Accuracy (94.45)\n"
          ]
        },
        {
          "name": "stderr",
          "output_type": "stream",
          "text": [
            "Epoch 351: 100%|██████████| 1496/1496 [00:22<00:00, 67.02batch/s, train_loss=tensor(0.0081, device='cuda:0', grad_fn=<MseLossBackward0>)]\n"
          ]
        },
        {
          "name": "stdout",
          "output_type": "stream",
          "text": [
            "0.04871683991090818 0.9443009959424566 0.9074785843269648 0.9534136546184739 0.8294898672257163 0.8294898672257163 0.8540406683432911 0.956162284076979 0.8871449925261584\n",
            "Epoch: 351 / 500, ############## the best accuracy in val  94.6330 at Epoch: 187  ##############\n",
            "Performance in Val: Loss: (0.0487); Accuracy (94.43)\n"
          ]
        },
        {
          "name": "stderr",
          "output_type": "stream",
          "text": [
            "Epoch 352: 100%|██████████| 1496/1496 [00:22<00:00, 65.65batch/s, train_loss=tensor(0.0064, device='cuda:0', grad_fn=<MseLossBackward0>)]\n"
          ]
        },
        {
          "name": "stdout",
          "output_type": "stream",
          "text": [
            "0.048453183844685555 0.9426410918480266 0.9061269232432652 0.9472843450479234 0.8287910552061496 0.8287910552061496 0.8495369354459388 0.9566504544379291 0.884084979500559\n",
            "Epoch: 352 / 500, ############## the best accuracy in val  94.6330 at Epoch: 187  ##############\n",
            "Performance in Val: Loss: (0.0485); Accuracy (94.26)\n"
          ]
        },
        {
          "name": "stderr",
          "output_type": "stream",
          "text": [
            "Epoch 353: 100%|██████████| 1496/1496 [00:22<00:00, 65.52batch/s, train_loss=tensor(0.0075, device='cuda:0', grad_fn=<MseLossBackward0>)]\n"
          ]
        },
        {
          "name": "stdout",
          "output_type": "stream",
          "text": [
            "0.04864455573260784 0.9443009959424566 0.9077027084525087 0.9526864474739375 0.8301886792452831 0.8301886792452831 0.8540293701144438 0.9583515215314122 0.8872292755787902\n",
            "Epoch: 353 / 500, ############## the best accuracy in val  94.6330 at Epoch: 187  ##############\n",
            "Performance in Val: Loss: (0.0486); Accuracy (94.43)\n"
          ]
        },
        {
          "name": "stderr",
          "output_type": "stream",
          "text": [
            "Epoch 354: 100%|██████████| 1496/1496 [00:22<00:00, 65.62batch/s, train_loss=tensor(0.0051, device='cuda:0', grad_fn=<MseLossBackward0>)]\n"
          ]
        },
        {
          "name": "stdout",
          "output_type": "stream",
          "text": [
            "0.04857162030583078 0.9454075986720767 0.9106956410133842 0.9500396510705789 0.8371767994409504 0.8371767994409504 0.8569478009853496 0.9581830782433081 0.8900445765230312\n",
            "Epoch: 354 / 500, ############## the best accuracy in val  94.6330 at Epoch: 187  ##############\n",
            "Performance in Val: Loss: (0.0486); Accuracy (94.54)\n"
          ]
        },
        {
          "name": "stderr",
          "output_type": "stream",
          "text": [
            "Epoch 355: 100%|██████████| 1496/1496 [00:22<00:00, 66.07batch/s, train_loss=tensor(0.0048, device='cuda:0', grad_fn=<MseLossBackward0>)]\n"
          ]
        },
        {
          "name": "stdout",
          "output_type": "stream",
          "text": [
            "0.0488596772775054 0.9433788270011066 0.9068521749057672 0.9496 0.8294898672257163 0.8294898672257163 0.8515304096504465 0.9572400059462932 0.8854904886236479\n",
            "Epoch: 355 / 500, ############## the best accuracy in val  94.6330 at Epoch: 187  ##############\n",
            "Performance in Val: Loss: (0.0489); Accuracy (94.34)\n"
          ]
        },
        {
          "name": "stderr",
          "output_type": "stream",
          "text": [
            "Epoch 356: 100%|██████████| 1496/1496 [00:22<00:00, 65.77batch/s, train_loss=tensor(0.0084, device='cuda:0', grad_fn=<MseLossBackward0>)]\n"
          ]
        },
        {
          "name": "stdout",
          "output_type": "stream",
          "text": [
            "0.048498018983412876 0.9450387310955367 0.9082038359894669 0.9557522123893806 0.8301886792452831 0.8301886792452831 0.8560438432184477 0.9576861530337037 0.8885564697083023\n",
            "Epoch: 356 / 500, ############## the best accuracy in val  94.6330 at Epoch: 187  ##############\n",
            "Performance in Val: Loss: (0.0485); Accuracy (94.50)\n"
          ]
        },
        {
          "name": "stderr",
          "output_type": "stream",
          "text": [
            "Epoch 357: 100%|██████████| 1496/1496 [00:22<00:00, 66.18batch/s, train_loss=tensor(0.0065, device='cuda:0', grad_fn=<MseLossBackward0>)]\n"
          ]
        },
        {
          "name": "stdout",
          "output_type": "stream",
          "text": [
            "0.049038587138056755 0.9452231648838068 0.9081049937481626 0.957258064516129 0.8294898672257163 0.8294898672257163 0.8565638242365102 0.9554622463786007 0.8888056907525271\n",
            "Epoch: 357 / 500, ############## the best accuracy in val  94.6330 at Epoch: 187  ##############\n",
            "Performance in Val: Loss: (0.0490); Accuracy (94.52)\n"
          ]
        },
        {
          "name": "stderr",
          "output_type": "stream",
          "text": [
            "Epoch 358: 100%|██████████| 1496/1496 [00:22<00:00, 66.58batch/s, train_loss=tensor(0.0085, device='cuda:0', grad_fn=<MseLossBackward0>)]\n"
          ]
        },
        {
          "name": "stdout",
          "output_type": "stream",
          "text": [
            "0.04874279189177535 0.9441165621541866 0.9075774265682692 0.9519230769230769 0.8301886792452831 0.8301886792452831 0.8535270400131162 0.9576879040034346 0.8868980963045913\n",
            "Epoch: 358 / 500, ############## the best accuracy in val  94.6330 at Epoch: 187  ##############\n",
            "Performance in Val: Loss: (0.0487); Accuracy (94.41)\n"
          ]
        },
        {
          "name": "stderr",
          "output_type": "stream",
          "text": [
            "Epoch 359: 100%|██████████| 1496/1496 [00:22<00:00, 67.78batch/s, train_loss=tensor(0.0097, device='cuda:0', grad_fn=<MseLossBackward0>)]\n"
          ]
        },
        {
          "name": "stdout",
          "output_type": "stream",
          "text": [
            "0.04836184582249685 0.9444854297307267 0.9080521144622921 0.9527243589743589 0.8308874912648497 0.8308874912648497 0.8545211062363778 0.9573145972568258 0.8876446435237029\n",
            "Epoch: 359 / 500, ############## the best accuracy in val  94.6330 at Epoch: 187  ##############\n",
            "Performance in Val: Loss: (0.0484); Accuracy (94.45)\n"
          ]
        },
        {
          "name": "stderr",
          "output_type": "stream",
          "text": [
            "Epoch 360: 100%|██████████| 1496/1496 [00:22<00:00, 66.54batch/s, train_loss=tensor(0.0093, device='cuda:0', grad_fn=<MseLossBackward0>)]\n"
          ]
        },
        {
          "name": "stdout",
          "output_type": "stream",
          "text": [
            "0.04860106347636743 0.9452231648838068 0.9087773661247941 0.9550561797752809 0.8315863032844165 0.8315863032844165 0.8565214653390681 0.9570164071116686 0.8890549122151663\n",
            "Epoch: 360 / 500, ############## the best accuracy in val  94.6330 at Epoch: 187  ##############\n",
            "Performance in Val: Loss: (0.0486); Accuracy (94.52)\n"
          ]
        },
        {
          "name": "stderr",
          "output_type": "stream",
          "text": [
            "Epoch 361: 100%|██████████| 1496/1496 [00:22<00:00, 67.01batch/s, train_loss=tensor(0.0091, device='cuda:0', grad_fn=<MseLossBackward0>)]\n"
          ]
        },
        {
          "name": "stdout",
          "output_type": "stream",
          "text": [
            "0.04878243795511397 0.9441165621541866 0.9075774265682692 0.9519230769230769 0.8301886792452831 0.8301886792452831 0.8535270400131162 0.9559637241095049 0.8868980963045913\n",
            "Epoch: 361 / 500, ############## the best accuracy in val  94.6330 at Epoch: 187  ##############\n",
            "Performance in Val: Loss: (0.0488); Accuracy (94.41)\n"
          ]
        },
        {
          "name": "stderr",
          "output_type": "stream",
          "text": [
            "Epoch 362: 100%|██████████| 1496/1496 [00:22<00:00, 65.94batch/s, train_loss=tensor(0.0092, device='cuda:0', grad_fn=<MseLossBackward0>)]\n"
          ]
        },
        {
          "name": "stdout",
          "output_type": "stream",
          "text": [
            "0.04904204386879097 0.9444854297307267 0.9073797420856606 0.9549114331723028 0.8287910552061496 0.8287910552061496 0.8545572568203988 0.9580962301446598 0.8873924429479986\n",
            "Epoch: 362 / 500, ############## the best accuracy in val  94.6330 at Epoch: 187  ##############\n",
            "Performance in Val: Loss: (0.0490); Accuracy (94.45)\n"
          ]
        },
        {
          "name": "stderr",
          "output_type": "stream",
          "text": [
            "Epoch 363: 100%|██████████| 1496/1496 [00:22<00:00, 67.86batch/s, train_loss=tensor(0.0051, device='cuda:0', grad_fn=<MseLossBackward0>)]\n"
          ]
        },
        {
          "name": "stdout",
          "output_type": "stream",
          "text": [
            "0.04843847927722064 0.9448542973072667 0.9083026782307712 0.9542536115569823 0.8308874912648497 0.8308874912648497 0.8555268398919168 0.9567935086649363 0.8883078072469182\n",
            "Epoch: 363 / 500, ############## the best accuracy in val  94.6330 at Epoch: 187  ##############\n",
            "Performance in Val: Loss: (0.0484); Accuracy (94.49)\n"
          ]
        },
        {
          "name": "stderr",
          "output_type": "stream",
          "text": [
            "Epoch 364: 100%|██████████| 1496/1496 [00:22<00:00, 66.62batch/s, train_loss=tensor(0.0081, device='cuda:0', grad_fn=<MseLossBackward0>)]\n"
          ]
        },
        {
          "name": "stdout",
          "output_type": "stream",
          "text": [
            "0.048640904778783974 0.9433788270011066 0.9064039266546795 0.9510433386837881 0.8280922431865828 0.8280922431865828 0.8515483381033115 0.9569153761582008 0.885319387373926\n",
            "Epoch: 364 / 500, ############## the best accuracy in val  94.6330 at Epoch: 187  ##############\n",
            "Performance in Val: Loss: (0.0486); Accuracy (94.34)\n"
          ]
        },
        {
          "name": "stderr",
          "output_type": "stream",
          "text": [
            "Epoch 365: 100%|██████████| 1496/1496 [00:21<00:00, 68.14batch/s, train_loss=tensor(0.0063, device='cuda:0', grad_fn=<MseLossBackward0>)]\n"
          ]
        },
        {
          "name": "stdout",
          "output_type": "stream",
          "text": [
            "0.04848905407230963 0.9444854297307267 0.9071556179601168 0.9556451612903226 0.8280922431865828 0.8280922431865828 0.8545711974171778 0.9572167180488734 0.8873081242980158\n",
            "Epoch: 365 / 500, ############## the best accuracy in val  94.6330 at Epoch: 187  ##############\n",
            "Performance in Val: Loss: (0.0485); Accuracy (94.45)\n"
          ]
        },
        {
          "name": "stderr",
          "output_type": "stream",
          "text": [
            "Epoch 366: 100%|██████████| 1496/1496 [00:22<00:00, 67.18batch/s, train_loss=tensor(0.0042, device='cuda:0', grad_fn=<MseLossBackward0>)]\n"
          ]
        },
        {
          "name": "stdout",
          "output_type": "stream",
          "text": [
            "0.04825986388393424 0.9452231648838068 0.9090014902503378 0.9543269230769231 0.8322851153039832 0.8322851153039832 0.8565092386829012 0.9599683669808431 0.8891377379619261\n",
            "Epoch: 366 / 500, ############## the best accuracy in val  94.6330 at Epoch: 187  ##############\n",
            "Performance in Val: Loss: (0.0483); Accuracy (94.52)\n"
          ]
        },
        {
          "name": "stderr",
          "output_type": "stream",
          "text": [
            "Epoch 367: 100%|██████████| 1496/1496 [00:21<00:00, 68.08batch/s, train_loss=tensor(0.0063, device='cuda:0', grad_fn=<MseLossBackward0>)]\n"
          ]
        },
        {
          "name": "stdout",
          "output_type": "stream",
          "text": [
            "0.04867584478448738 0.9433788270011066 0.9073004231568549 0.9481658692185008 0.8308874912648497 0.8308874912648497 0.8515161991175231 0.9551208072810924 0.8856610800744878\n",
            "Epoch: 367 / 500, ############## the best accuracy in val  94.6330 at Epoch: 187  ##############\n",
            "Performance in Val: Loss: (0.0487); Accuracy (94.34)\n"
          ]
        },
        {
          "name": "stderr",
          "output_type": "stream",
          "text": [
            "Epoch 368: 100%|██████████| 1496/1496 [00:22<00:00, 67.23batch/s, train_loss=tensor(0.0055, device='cuda:0', grad_fn=<MseLossBackward0>)]\n"
          ]
        },
        {
          "name": "stdout",
          "output_type": "stream",
          "text": [
            "0.048645277676934544 0.9433788270011066 0.9066280507802233 0.9503205128205128 0.8287910552061496 0.8287910552061496 0.8515389075665928 0.9572879825169174 0.8854050018663681\n",
            "Epoch: 368 / 500, ############## the best accuracy in val  94.6330 at Epoch: 187  ##############\n",
            "Performance in Val: Loss: (0.0486); Accuracy (94.34)\n"
          ]
        },
        {
          "name": "stderr",
          "output_type": "stream",
          "text": [
            "Epoch 369: 100%|██████████| 1496/1496 [00:22<00:00, 67.52batch/s, train_loss=tensor(0.0068, device='cuda:0', grad_fn=<MseLossBackward0>)]\n"
          ]
        },
        {
          "name": "stdout",
          "output_type": "stream",
          "text": [
            "0.049030658026987854 0.9428255256362966 0.9049074603742417 0.9523809523809523 0.8245981830887491 0.8245981830887491 0.850093840876522 0.9566865244143836 0.8838951310861423\n",
            "Epoch: 369 / 500, ############## the best accuracy in val  94.6330 at Epoch: 187  ##############\n",
            "Performance in Val: Loss: (0.0490); Accuracy (94.28)\n"
          ]
        },
        {
          "name": "stderr",
          "output_type": "stream",
          "text": [
            "Epoch 370: 100%|██████████| 1496/1496 [00:22<00:00, 66.88batch/s, train_loss=tensor(0.0058, device='cuda:0', grad_fn=<MseLossBackward0>)]\n"
          ]
        },
        {
          "name": "stdout",
          "output_type": "stream",
          "text": [
            "0.04898981521414085 0.9439321283659167 0.9076762688095734 0.950439648281375 0.8308874912648497 0.8308874912648497 0.853016355312642 0.9563366806621678 0.8866517524235645\n",
            "Epoch: 370 / 500, ############## the best accuracy in val  94.6330 at Epoch: 187  ##############\n",
            "Performance in Val: Loss: (0.0490); Accuracy (94.39)\n"
          ]
        },
        {
          "name": "stderr",
          "output_type": "stream",
          "text": [
            "Epoch 371: 100%|██████████| 1496/1496 [00:21<00:00, 68.17batch/s, train_loss=tensor(0.0103, device='cuda:0', grad_fn=<MseLossBackward0>)]\n"
          ]
        },
        {
          "name": "stdout",
          "output_type": "stream",
          "text": [
            "0.04869152114472606 0.9443009959424566 0.9065820878247896 0.9563459983831851 0.8266946191474493 0.8266946191474493 0.8540953100830587 0.9588377658256585 0.8868065967016492\n",
            "Epoch: 371 / 500, ############## the best accuracy in val  94.6330 at Epoch: 187  ##############\n",
            "Performance in Val: Loss: (0.0487); Accuracy (94.43)\n"
          ]
        },
        {
          "name": "stderr",
          "output_type": "stream",
          "text": [
            "Epoch 372: 100%|██████████| 1496/1496 [00:22<00:00, 67.34batch/s, train_loss=tensor(0.0109, device='cuda:0', grad_fn=<MseLossBackward0>)]\n"
          ]
        },
        {
          "name": "stdout",
          "output_type": "stream",
          "text": [
            "0.04862961181524125 0.9444854297307267 0.9078279903367483 0.9534510433386838 0.8301886792452831 0.8301886792452831 0.8545322144447655 0.9565606296907385 0.8875607022786701\n",
            "Epoch: 372 / 500, ############## the best accuracy in val  94.6330 at Epoch: 187  ##############\n",
            "Performance in Val: Loss: (0.0486); Accuracy (94.45)\n"
          ]
        },
        {
          "name": "stderr",
          "output_type": "stream",
          "text": [
            "Epoch 373: 100%|██████████| 1496/1496 [00:22<00:00, 67.06batch/s, train_loss=tensor(0.0058, device='cuda:0', grad_fn=<MseLossBackward0>)]\n"
          ]
        },
        {
          "name": "stdout",
          "output_type": "stream",
          "text": [
            "0.048172108151695946 0.9448542973072667 0.9089750506074026 0.952076677316294 0.83298392732355 0.83298392732355 0.8554946527363035 0.9588048475947192 0.8885575847931421\n",
            "Epoch: 373 / 500, ############## the best accuracy in val  94.6330 at Epoch: 187  ##############\n",
            "Performance in Val: Loss: (0.0482); Accuracy (94.49)\n"
          ]
        },
        {
          "name": "stderr",
          "output_type": "stream",
          "text": [
            "Epoch 374: 100%|██████████| 1496/1496 [00:22<00:00, 67.71batch/s, train_loss=tensor(0.0057, device='cuda:0', grad_fn=<MseLossBackward0>)]\n"
          ]
        },
        {
          "name": "stdout",
          "output_type": "stream",
          "text": [
            "0.04885488511486487 0.9420877904832166 0.9048545810883712 0.9478748997594226 0.8259958071278826 0.8259958071278826 0.8480632963838266 0.9578500438005076 0.8827483196415234\n",
            "Epoch: 374 / 500, ############## the best accuracy in val  94.6330 at Epoch: 187  ##############\n",
            "Performance in Val: Loss: (0.0489); Accuracy (94.21)\n"
          ]
        },
        {
          "name": "stderr",
          "output_type": "stream",
          "text": [
            "Epoch 375: 100%|██████████| 1496/1496 [00:22<00:00, 67.13batch/s, train_loss=tensor(0.0061, device='cuda:0', grad_fn=<MseLossBackward0>)]\n"
          ]
        },
        {
          "name": "stdout",
          "output_type": "stream",
          "text": [
            "0.048557174392044544 0.9450387310955367 0.9088762083660984 0.9535628502802241 0.8322851153039832 0.8322851153039832 0.8560065848566633 0.9563783537417611 0.8888059701492538\n",
            "Epoch: 375 / 500, ############## the best accuracy in val  94.6330 at Epoch: 187  ##############\n",
            "Performance in Val: Loss: (0.0486); Accuracy (94.50)\n"
          ]
        },
        {
          "name": "stderr",
          "output_type": "stream",
          "text": [
            "Epoch 376: 100%|██████████| 1496/1496 [00:22<00:00, 67.06batch/s, train_loss=tensor(0.0058, device='cuda:0', grad_fn=<MseLossBackward0>)]\n"
          ]
        },
        {
          "name": "stdout",
          "output_type": "stream",
          "text": [
            "0.04913195730610327 0.9448542973072667 0.908526802356315 0.9535256410256411 0.8315863032844165 0.8315863032844165 0.8555151724596395 0.9556112539026926 0.8883911907428145\n",
            "Epoch: 376 / 500, ############## the best accuracy in val  94.6330 at Epoch: 187  ##############\n",
            "Performance in Val: Loss: (0.0491); Accuracy (94.49)\n"
          ]
        },
        {
          "name": "stderr",
          "output_type": "stream",
          "text": [
            "Epoch 377: 100%|██████████| 1496/1496 [00:22<00:00, 67.96batch/s, train_loss=tensor(0.0049, device='cuda:0', grad_fn=<MseLossBackward0>)]\n"
          ]
        },
        {
          "name": "stdout",
          "output_type": "stream",
          "text": [
            "0.048613526011732494 0.9452231648838068 0.9094497385014255 0.9528753993610224 0.8336827393431167 0.8336827393431167 0.8564876056180311 0.9571717181267916 0.8893030190085724\n",
            "Epoch: 377 / 500, ############## the best accuracy in val  94.6330 at Epoch: 187  ##############\n",
            "Performance in Val: Loss: (0.0486); Accuracy (94.52)\n"
          ]
        },
        {
          "name": "stderr",
          "output_type": "stream",
          "text": [
            "Epoch 378: 100%|██████████| 1496/1496 [00:22<00:00, 66.94batch/s, train_loss=tensor(0.0069, device='cuda:0', grad_fn=<MseLossBackward0>)]\n"
          ]
        },
        {
          "name": "stdout",
          "output_type": "stream",
          "text": [
            "0.0487026617100293 0.9433788270011066 0.9077486714079425 0.9467408585055644 0.8322851153039832 0.8322851153039832 0.8515056815746794 0.9581104129994795 0.8858311640014875\n",
            "Epoch: 378 / 500, ############## the best accuracy in val  94.6330 at Epoch: 187  ##############\n",
            "Performance in Val: Loss: (0.0487); Accuracy (94.34)\n"
          ]
        },
        {
          "name": "stderr",
          "output_type": "stream",
          "text": [
            "Epoch 379: 100%|██████████| 1496/1496 [00:22<00:00, 67.64batch/s, train_loss=tensor(0.0122, device='cuda:0', grad_fn=<MseLossBackward0>)]\n"
          ]
        },
        {
          "name": "stdout",
          "output_type": "stream",
          "text": [
            "0.04853412525897676 0.9444854297307267 0.9082762385878359 0.952 0.8315863032844165 0.8315863032844165 0.8545109357612904 0.9572228464429313 0.8877284595300261\n",
            "Epoch: 379 / 500, ############## the best accuracy in val  94.6330 at Epoch: 187  ##############\n",
            "Performance in Val: Loss: (0.0485); Accuracy (94.45)\n"
          ]
        },
        {
          "name": "stderr",
          "output_type": "stream",
          "text": [
            "Epoch 380: 100%|██████████| 1496/1496 [00:22<00:00, 67.69batch/s, train_loss=tensor(0.0052, device='cuda:0', grad_fn=<MseLossBackward0>)]\n"
          ]
        },
        {
          "name": "stdout",
          "output_type": "stream",
          "text": [
            "0.04866909845308824 0.9443009959424566 0.9068062119503334 0.9556093623890234 0.827393431167016 0.827393431167016 0.8540802258611261 0.9565916218549739 0.8868913857677904\n",
            "Epoch: 380 / 500, ############## the best accuracy in val  94.6330 at Epoch: 187  ##############\n",
            "Performance in Val: Loss: (0.0487); Accuracy (94.43)\n"
          ]
        },
        {
          "name": "stderr",
          "output_type": "stream",
          "text": [
            "Epoch 381: 100%|██████████| 1496/1496 [00:22<00:00, 67.89batch/s, train_loss=tensor(0.0080, device='cuda:0', grad_fn=<MseLossBackward0>)]\n"
          ]
        },
        {
          "name": "stdout",
          "output_type": "stream",
          "text": [
            "0.04848178213631565 0.9439321283659167 0.9072280205584857 0.9518845228548516 0.8294898672257163 0.8294898672257163 0.8530350244926743 0.9598508769119058 0.8864824495892457\n",
            "Epoch: 381 / 500, ############## the best accuracy in val  94.6330 at Epoch: 187  ##############\n",
            "Performance in Val: Loss: (0.0485); Accuracy (94.39)\n"
          ]
        },
        {
          "name": "stderr",
          "output_type": "stream",
          "text": [
            "Epoch 382: 100%|██████████| 1496/1496 [00:22<00:00, 67.45batch/s, train_loss=tensor(0.0108, device='cuda:0', grad_fn=<MseLossBackward0>)]\n"
          ]
        },
        {
          "name": "stdout",
          "output_type": "stream",
          "text": [
            "0.048758747818117794 0.9426410918480266 0.9056786749921775 0.9487179487179487 0.827393431167016 0.827393431167016 0.8495507751200695 0.9576077095897636 0.8839119074281448\n",
            "Epoch: 382 / 500, ############## the best accuracy in val  94.6330 at Epoch: 187  ##############\n",
            "Performance in Val: Loss: (0.0488); Accuracy (94.26)\n"
          ]
        },
        {
          "name": "stderr",
          "output_type": "stream",
          "text": [
            "Epoch 383: 100%|██████████| 1496/1496 [00:21<00:00, 68.48batch/s, train_loss=tensor(0.0077, device='cuda:0', grad_fn=<MseLossBackward0>)]\n"
          ]
        },
        {
          "name": "stdout",
          "output_type": "stream",
          "text": [
            "0.04859835637564009 0.9430099594245666 0.9070498593883758 0.946656050955414 0.8308874912648497 0.8308874912648497 0.8505186339628639 0.9577111919008545 0.8850018608113137\n",
            "Epoch: 383 / 500, ############## the best accuracy in val  94.6330 at Epoch: 187  ##############\n",
            "Performance in Val: Loss: (0.0486); Accuracy (94.30)\n"
          ]
        },
        {
          "name": "stderr",
          "output_type": "stream",
          "text": [
            "Epoch 384: 100%|██████████| 1496/1496 [00:22<00:00, 67.38batch/s, train_loss=tensor(0.0079, device='cuda:0', grad_fn=<MseLossBackward0>)]\n"
          ]
        },
        {
          "name": "stdout",
          "output_type": "stream",
          "text": [
            "0.04799154451624914 0.9433788270011066 0.9066280507802233 0.9503205128205128 0.8287910552061496 0.8287910552061496 0.8515389075665928 0.959665624314386 0.8854050018663681\n",
            "Epoch: 384 / 500, ############## the best accuracy in val  94.6330 at Epoch: 187  ##############\n",
            "Performance in Val: Loss: (0.0480); Accuracy (94.34)\n"
          ]
        },
        {
          "name": "stderr",
          "output_type": "stream",
          "text": [
            "Epoch 385: 100%|██████████| 1496/1496 [00:21<00:00, 68.21batch/s, train_loss=tensor(0.0051, device='cuda:0', grad_fn=<MseLossBackward0>)]\n"
          ]
        },
        {
          "name": "stdout",
          "output_type": "stream",
          "text": [
            "0.048163720914586025 0.9461453338251568 0.9107485202992547 0.9545091779728652 0.8357791754018169 0.8357791754018169 0.85896447160513 0.9590923568245184 0.8912071535022356\n",
            "Epoch: 385 / 500, ############## the best accuracy in val  94.6330 at Epoch: 187  ##############\n",
            "Performance in Val: Loss: (0.0482); Accuracy (94.61)\n"
          ]
        },
        {
          "name": "stderr",
          "output_type": "stream",
          "text": [
            "Epoch 386: 100%|██████████| 1496/1496 [00:21<00:00, 68.16batch/s, train_loss=tensor(0.0084, device='cuda:0', grad_fn=<MseLossBackward0>)]\n"
          ]
        },
        {
          "name": "stdout",
          "output_type": "stream",
          "text": [
            "0.048551707189868794 0.9444854297307267 0.9073797420856606 0.9549114331723028 0.8287910552061496 0.8287910552061496 0.8545572568203988 0.9594789709410815 0.8873924429479986\n",
            "Epoch: 386 / 500, ############## the best accuracy in val  94.6330 at Epoch: 187  ##############\n",
            "Performance in Val: Loss: (0.0486); Accuracy (94.45)\n"
          ]
        },
        {
          "name": "stderr",
          "output_type": "stream",
          "text": [
            "Epoch 387: 100%|██████████| 1496/1496 [00:22<00:00, 67.82batch/s, train_loss=tensor(0.0061, device='cuda:0', grad_fn=<MseLossBackward0>)]\n"
          ]
        },
        {
          "name": "stdout",
          "output_type": "stream",
          "text": [
            "0.048191987316716804 0.9430099594245666 0.9063774870117443 0.9488 0.8287910552061496 0.8287910552061496 0.8505369009468319 0.9585231165650316 0.8847444983215219\n",
            "Epoch: 387 / 500, ############## the best accuracy in val  94.6330 at Epoch: 187  ##############\n",
            "Performance in Val: Loss: (0.0482); Accuracy (94.30)\n"
          ]
        },
        {
          "name": "stderr",
          "output_type": "stream",
          "text": [
            "Epoch 388: 100%|██████████| 1496/1496 [00:22<00:00, 66.84batch/s, train_loss=tensor(0.0058, device='cuda:0', grad_fn=<MseLossBackward0>)]\n"
          ]
        },
        {
          "name": "stdout",
          "output_type": "stream",
          "text": [
            "0.04859056374566122 0.9435632607893766 0.9060809602878315 0.9532634971796938 0.8266946191474493 0.8266946191474493 0.852074030983454 0.9574390912046864 0.8854790419161677\n",
            "Epoch: 388 / 500, ############## the best accuracy in val  94.6330 at Epoch: 187  ##############\n",
            "Performance in Val: Loss: (0.0486); Accuracy (94.36)\n"
          ]
        },
        {
          "name": "stderr",
          "output_type": "stream",
          "text": [
            "Epoch 389: 100%|██████████| 1496/1496 [00:22<00:00, 67.86batch/s, train_loss=tensor(0.0057, device='cuda:0', grad_fn=<MseLossBackward0>)]\n"
          ]
        },
        {
          "name": "stdout",
          "output_type": "stream",
          "text": [
            "0.04845041696998206 0.9443009959424566 0.9074785843269648 0.9534136546184739 0.8294898672257163 0.8294898672257163 0.8540406683432911 0.9583961712595477 0.8871449925261584\n",
            "Epoch: 389 / 500, ############## the best accuracy in val  94.6330 at Epoch: 187  ##############\n",
            "Performance in Val: Loss: (0.0485); Accuracy (94.43)\n"
          ]
        },
        {
          "name": "stderr",
          "output_type": "stream",
          "text": [
            "Epoch 390: 100%|██████████| 1496/1496 [00:22<00:00, 67.26batch/s, train_loss=tensor(0.0083, device='cuda:0', grad_fn=<MseLossBackward0>)]\n"
          ]
        },
        {
          "name": "stdout",
          "output_type": "stream",
          "text": [
            "0.04812477308918129 0.9439321283659167 0.9076762688095734 0.950439648281375 0.8308874912648497 0.8308874912648497 0.853016355312642 0.9590298472051284 0.8866517524235645\n",
            "Epoch: 390 / 500, ############## the best accuracy in val  94.6330 at Epoch: 187  ##############\n",
            "Performance in Val: Loss: (0.0481); Accuracy (94.39)\n"
          ]
        },
        {
          "name": "stderr",
          "output_type": "stream",
          "text": [
            "Epoch 391: 100%|██████████| 1496/1496 [00:22<00:00, 67.32batch/s, train_loss=tensor(0.0107, device='cuda:0', grad_fn=<MseLossBackward0>)]\n"
          ]
        },
        {
          "name": "stdout",
          "output_type": "stream",
          "text": [
            "0.04829319439489733 0.9441165621541866 0.9075774265682692 0.9519230769230769 0.8301886792452831 0.8301886792452831 0.8535270400131162 0.9571423018353139 0.8868980963045913\n",
            "Epoch: 391 / 500, ############## the best accuracy in val  94.6330 at Epoch: 187  ##############\n",
            "Performance in Val: Loss: (0.0483); Accuracy (94.41)\n"
          ]
        },
        {
          "name": "stderr",
          "output_type": "stream",
          "text": [
            "Epoch 392: 100%|██████████| 1496/1496 [00:21<00:00, 68.20batch/s, train_loss=tensor(0.0072, device='cuda:0', grad_fn=<MseLossBackward0>)]\n"
          ]
        },
        {
          "name": "stdout",
          "output_type": "stream",
          "text": [
            "0.04870842820541425 0.9455920324603467 0.9083555575166417 0.9588045234248789 0.8294898672257163 0.8294898672257163 0.8575767271549318 0.9559355334968389 0.8894717122517797\n",
            "Epoch: 392 / 500, ############## the best accuracy in val  94.6330 at Epoch: 187  ##############\n",
            "Performance in Val: Loss: (0.0487); Accuracy (94.56)\n"
          ]
        },
        {
          "name": "stderr",
          "output_type": "stream",
          "text": [
            "Epoch 393: 100%|██████████| 1496/1496 [00:22<00:00, 67.80batch/s, train_loss=tensor(0.0107, device='cuda:0', grad_fn=<MseLossBackward0>)]\n"
          ]
        },
        {
          "name": "stdout",
          "output_type": "stream",
          "text": [
            "0.048419037156484344 0.9444854297307267 0.9096209833410989 0.9477020602218701 0.8357791754018169 0.8357791754018169 0.8544694294437888 0.957064733876239 0.8882287411808393\n",
            "Epoch: 393 / 500, ############## the best accuracy in val  94.6330 at Epoch: 187  ##############\n",
            "Performance in Val: Loss: (0.0484); Accuracy (94.45)\n"
          ]
        },
        {
          "name": "stderr",
          "output_type": "stream",
          "text": [
            "Epoch 394: 100%|██████████| 1496/1496 [00:22<00:00, 67.95batch/s, train_loss=tensor(0.0073, device='cuda:0', grad_fn=<MseLossBackward0>)]\n"
          ]
        },
        {
          "name": "stdout",
          "output_type": "stream",
          "text": [
            "0.04875568241219629 0.9443009959424566 0.9079268325780525 0.9519615692554043 0.8308874912648497 0.8308874912648497 0.8540190103550355 0.9567758238706553 0.8873134328358209\n",
            "Epoch: 394 / 500, ############## the best accuracy in val  94.6330 at Epoch: 187  ##############\n",
            "Performance in Val: Loss: (0.0488); Accuracy (94.43)\n"
          ]
        },
        {
          "name": "stderr",
          "output_type": "stream",
          "text": [
            "Epoch 395: 100%|██████████| 1496/1496 [00:22<00:00, 67.25batch/s, train_loss=tensor(0.0045, device='cuda:0', grad_fn=<MseLossBackward0>)]\n"
          ]
        },
        {
          "name": "stdout",
          "output_type": "stream",
          "text": [
            "0.04800768179649657 0.9433788270011066 0.905731554278048 0.9532258064516129 0.8259958071278826 0.8259958071278826 0.8515822571881793 0.9588449448015547 0.8850617746162486\n",
            "Epoch: 395 / 500, ############## the best accuracy in val  94.6330 at Epoch: 187  ##############\n",
            "Performance in Val: Loss: (0.0480); Accuracy (94.34)\n"
          ]
        },
        {
          "name": "stderr",
          "output_type": "stream",
          "text": [
            "Epoch 396: 100%|██████████| 1496/1496 [00:21<00:00, 68.04batch/s, train_loss=tensor(0.0070, device='cuda:0', grad_fn=<MseLossBackward0>)]\n"
          ]
        },
        {
          "name": "stdout",
          "output_type": "stream",
          "text": [
            "0.0488149593160911 0.9441165621541866 0.9075774265682692 0.9519230769230769 0.8301886792452831 0.8301886792452831 0.8535270400131162 0.9568190728230062 0.8868980963045913\n",
            "Epoch: 396 / 500, ############## the best accuracy in val  94.6330 at Epoch: 187  ##############\n",
            "Performance in Val: Loss: (0.0488); Accuracy (94.41)\n"
          ]
        },
        {
          "name": "stderr",
          "output_type": "stream",
          "text": [
            "Epoch 397: 100%|██████████| 1496/1496 [00:22<00:00, 67.75batch/s, train_loss=tensor(0.0077, device='cuda:0', grad_fn=<MseLossBackward0>)]\n"
          ]
        },
        {
          "name": "stdout",
          "output_type": "stream",
          "text": [
            "0.04828454782678322 0.9454075986720767 0.9093508962601213 0.9543634907926342 0.83298392732355 0.83298392732355 0.8570003721074771 0.957526464594254 0.8895522388059701\n",
            "Epoch: 397 / 500, ############## the best accuracy in val  94.6330 at Epoch: 187  ##############\n",
            "Performance in Val: Loss: (0.0483); Accuracy (94.54)\n"
          ]
        },
        {
          "name": "stderr",
          "output_type": "stream",
          "text": [
            "Epoch 398: 100%|██████████| 1496/1496 [00:22<00:00, 67.77batch/s, train_loss=tensor(0.0044, device='cuda:0', grad_fn=<MseLossBackward0>)]\n"
          ]
        },
        {
          "name": "stdout",
          "output_type": "stream",
          "text": [
            "0.048527272418141365 0.9446698635189967 0.9084015204720755 0.9527622097678142 0.8315863032844165 0.8315863032844165 0.8550127976058494 0.9578901410073434 0.8880597014925373\n",
            "Epoch: 398 / 500, ############## the best accuracy in val  94.6330 at Epoch: 187  ##############\n",
            "Performance in Val: Loss: (0.0485); Accuracy (94.47)\n"
          ]
        },
        {
          "name": "stderr",
          "output_type": "stream",
          "text": [
            "Epoch 399: 100%|██████████| 1496/1496 [00:22<00:00, 67.07batch/s, train_loss=tensor(0.0076, device='cuda:0', grad_fn=<MseLossBackward0>)]\n"
          ]
        },
        {
          "name": "stdout",
          "output_type": "stream",
          "text": [
            "0.048694041642275726 0.9435632607893766 0.9063050844133752 0.9525341914722446 0.827393431167016 0.827393431167016 0.852061973247592 0.9558921094475148 0.8855646970830217\n",
            "Epoch: 399 / 500, ############## the best accuracy in val  94.6330 at Epoch: 187  ##############\n",
            "Performance in Val: Loss: (0.0487); Accuracy (94.36)\n"
          ]
        },
        {
          "name": "stderr",
          "output_type": "stream",
          "text": [
            "Epoch 400: 100%|██████████| 1496/1496 [00:22<00:00, 67.97batch/s, train_loss=tensor(0.0094, device='cuda:0', grad_fn=<MseLossBackward0>)]\n"
          ]
        },
        {
          "name": "stdout",
          "output_type": "stream",
          "text": [
            "0.048327731815251435 0.9426410918480266 0.9054545508666337 0.949438202247191 0.8266946191474493 0.8266946191474493 0.8495590872090089 0.957746911683363 0.8838251774374299\n",
            "Epoch: 400 / 500, ############## the best accuracy in val  94.6330 at Epoch: 187  ##############\n",
            "Performance in Val: Loss: (0.0483); Accuracy (94.26)\n"
          ]
        },
        {
          "name": "stderr",
          "output_type": "stream",
          "text": [
            "Epoch 401: 100%|██████████| 1496/1496 [00:22<00:00, 67.11batch/s, train_loss=tensor(0.0065, device='cuda:0', grad_fn=<MseLossBackward0>)]\n"
          ]
        },
        {
          "name": "stdout",
          "output_type": "stream",
          "text": [
            "0.04813786579126662 0.9448542973072667 0.9091991747329464 0.9513556618819776 0.8336827393431167 0.8336827393431167 0.8554857941221404 0.9572238970247697 0.8886405959031657\n",
            "Epoch: 401 / 500, ############## the best accuracy in val  94.6330 at Epoch: 187  ##############\n",
            "Performance in Val: Loss: (0.0481); Accuracy (94.49)\n"
          ]
        },
        {
          "name": "stderr",
          "output_type": "stream",
          "text": [
            "Epoch 402: 100%|██████████| 1496/1496 [00:22<00:00, 67.53batch/s, train_loss=tensor(0.0051, device='cuda:0', grad_fn=<MseLossBackward0>)]\n"
          ]
        },
        {
          "name": "stdout",
          "output_type": "stream",
          "text": [
            "0.04793086453256282 0.9444854297307267 0.9085003627133796 0.9512779552715654 0.8322851153039832 0.8322851153039832 0.8545016998545761 0.9605920623989581 0.8878121505777116\n",
            "Epoch: 402 / 500, ############## the best accuracy in val  94.6330 at Epoch: 187  ##############\n",
            "Performance in Val: Loss: (0.0479); Accuracy (94.45)\n"
          ]
        },
        {
          "name": "stderr",
          "output_type": "stream",
          "text": [
            "Epoch 403: 100%|██████████| 1496/1496 [00:22<00:00, 66.83batch/s, train_loss=tensor(0.0057, device='cuda:0', grad_fn=<MseLossBackward0>)]\n"
          ]
        },
        {
          "name": "stdout",
          "output_type": "stream",
          "text": [
            "0.04848122029480609 0.9426410918480266 0.9059027991177213 0.948 0.8280922431865828 0.8280922431865828 0.8495433922432172 0.9571859009816113 0.8839985080193957\n",
            "Epoch: 403 / 500, ############## the best accuracy in val  94.6330 at Epoch: 187  ##############\n",
            "Performance in Val: Loss: (0.0485); Accuracy (94.26)\n"
          ]
        },
        {
          "name": "stderr",
          "output_type": "stream",
          "text": [
            "Epoch 404: 100%|██████████| 1496/1496 [00:22<00:00, 67.23batch/s, train_loss=tensor(0.0074, device='cuda:0', grad_fn=<MseLossBackward0>)]\n"
          ]
        },
        {
          "name": "stdout",
          "output_type": "stream",
          "text": [
            "0.04849915172566067 0.9444854297307267 0.9076038662112045 0.9541800643086816 0.8294898672257163 0.8294898672257163 0.8545442635712018 0.9590848276546758 0.8874766355140187\n",
            "Epoch: 404 / 500, ############## the best accuracy in val  94.6330 at Epoch: 187  ##############\n",
            "Performance in Val: Loss: (0.0485); Accuracy (94.45)\n"
          ]
        },
        {
          "name": "stderr",
          "output_type": "stream",
          "text": [
            "Epoch 405: 100%|██████████| 1496/1496 [00:22<00:00, 67.61batch/s, train_loss=tensor(0.0045, device='cuda:0', grad_fn=<MseLossBackward0>)]\n"
          ]
        },
        {
          "name": "stdout",
          "output_type": "stream",
          "text": [
            "0.04832112306559628 0.9443009959424566 0.9079268325780525 0.9519615692554043 0.8308874912648497 0.8308874912648497 0.8540190103550355 0.9588234078738658 0.8873134328358209\n",
            "Epoch: 405 / 500, ############## the best accuracy in val  94.6330 at Epoch: 187  ##############\n",
            "Performance in Val: Loss: (0.0483); Accuracy (94.43)\n"
          ]
        },
        {
          "name": "stderr",
          "output_type": "stream",
          "text": [
            "Epoch 406: 100%|██████████| 1496/1496 [00:22<00:00, 67.47batch/s, train_loss=tensor(0.0075, device='cuda:0', grad_fn=<MseLossBackward0>)]\n"
          ]
        },
        {
          "name": "stdout",
          "output_type": "stream",
          "text": [
            "0.04859786971726201 0.9430099594245666 0.9054809905095689 0.9516908212560387 0.8259958071278826 0.8259958071278826 0.8505742606852914 0.9584812683884651 0.8843995510662177\n",
            "Epoch: 406 / 500, ############## the best accuracy in val  94.6330 at Epoch: 187  ##############\n",
            "Performance in Val: Loss: (0.0486); Accuracy (94.30)\n"
          ]
        },
        {
          "name": "stderr",
          "output_type": "stream",
          "text": [
            "Epoch 407: 100%|██████████| 1496/1496 [00:22<00:00, 66.46batch/s, train_loss=tensor(0.0036, device='cuda:0', grad_fn=<MseLossBackward0>)]\n"
          ]
        },
        {
          "name": "stdout",
          "output_type": "stream",
          "text": [
            "0.04883608442138542 0.9448542973072667 0.9091991747329464 0.9513556618819776 0.8336827393431167 0.8336827393431167 0.8554857941221404 0.9571883523392343 0.8886405959031657\n",
            "Epoch: 407 / 500, ############## the best accuracy in val  94.6330 at Epoch: 187  ##############\n",
            "Performance in Val: Loss: (0.0488); Accuracy (94.49)\n"
          ]
        },
        {
          "name": "stderr",
          "output_type": "stream",
          "text": [
            "Epoch 408: 100%|██████████| 1496/1496 [00:22<00:00, 67.34batch/s, train_loss=tensor(0.0048, device='cuda:0', grad_fn=<MseLossBackward0>)]\n"
          ]
        },
        {
          "name": "stdout",
          "output_type": "stream",
          "text": [
            "0.04831803801723502 0.9457764662486168 0.9096014600286004 0.9558941459502807 0.83298392732355 0.83298392732355 0.858006752601522 0.959460935952854 0.890216579536968\n",
            "Epoch: 408 / 500, ############## the best accuracy in val  94.6330 at Epoch: 187  ##############\n",
            "Performance in Val: Loss: (0.0483); Accuracy (94.58)\n"
          ]
        },
        {
          "name": "stderr",
          "output_type": "stream",
          "text": [
            "Epoch 409: 100%|██████████| 1496/1496 [00:23<00:00, 65.02batch/s, train_loss=tensor(0.0074, device='cuda:0', grad_fn=<MseLossBackward0>)]\n"
          ]
        },
        {
          "name": "stdout",
          "output_type": "stream",
          "text": [
            "0.04884266463870352 0.9431943932128366 0.9060545206448961 0.951004016064257 0.827393431167016 0.827393431167016 0.8510559512426213 0.9570526521850964 0.8849028400597908\n",
            "Epoch: 409 / 500, ############## the best accuracy in val  94.6330 at Epoch: 187  ##############\n",
            "Performance in Val: Loss: (0.0488); Accuracy (94.32)\n"
          ]
        },
        {
          "name": "stderr",
          "output_type": "stream",
          "text": [
            "Epoch 410: 100%|██████████| 1496/1496 [00:23<00:00, 64.90batch/s, train_loss=tensor(0.0053, device='cuda:0', grad_fn=<MseLossBackward0>)]\n"
          ]
        },
        {
          "name": "stdout",
          "output_type": "stream",
          "text": [
            "0.04835949872027744 0.9448542973072667 0.908526802356315 0.9535256410256411 0.8315863032844165 0.8315863032844165 0.8555151724596395 0.9579288374383943 0.8883911907428145\n",
            "Epoch: 410 / 500, ############## the best accuracy in val  94.6330 at Epoch: 187  ##############\n",
            "Performance in Val: Loss: (0.0484); Accuracy (94.49)\n"
          ]
        },
        {
          "name": "stderr",
          "output_type": "stream",
          "text": [
            "Epoch 411: 100%|██████████| 1496/1496 [00:23<00:00, 64.73batch/s, train_loss=tensor(0.0114, device='cuda:0', grad_fn=<MseLossBackward0>)]\n"
          ]
        },
        {
          "name": "stdout",
          "output_type": "stream",
          "text": [
            "0.04856582832607356 0.9446698635189967 0.9079532722209878 0.9542168674698795 0.8301886792452831 0.8301886792452831 0.8550355740435143 0.9560194049469447 0.8878923766816144\n",
            "Epoch: 411 / 500, ############## the best accuracy in val  94.6330 at Epoch: 187  ##############\n",
            "Performance in Val: Loss: (0.0486); Accuracy (94.47)\n"
          ]
        },
        {
          "name": "stderr",
          "output_type": "stream",
          "text": [
            "Epoch 412: 100%|██████████| 1496/1496 [00:22<00:00, 65.68batch/s, train_loss=tensor(0.0049, device='cuda:0', grad_fn=<MseLossBackward0>)]\n"
          ]
        },
        {
          "name": "stdout",
          "output_type": "stream",
          "text": [
            "0.04898808625611392 0.9430099594245666 0.9063774870117443 0.9488 0.8287910552061496 0.8287910552061496 0.8505369009468319 0.9561936264351604 0.8847444983215219\n",
            "Epoch: 412 / 500, ############## the best accuracy in val  94.6330 at Epoch: 187  ##############\n",
            "Performance in Val: Loss: (0.0490); Accuracy (94.30)\n"
          ]
        },
        {
          "name": "stderr",
          "output_type": "stream",
          "text": [
            "Epoch 413: 100%|██████████| 1496/1496 [00:23<00:00, 64.88batch/s, train_loss=tensor(0.0062, device='cuda:0', grad_fn=<MseLossBackward0>)]\n"
          ]
        },
        {
          "name": "stdout",
          "output_type": "stream",
          "text": [
            "0.048701629296622494 0.9435632607893766 0.9072015809155506 0.9496402877697842 0.8301886792452831 0.8301886792452831 0.8520231247317872 0.956652380504633 0.8859060402684563\n",
            "Epoch: 413 / 500, ############## the best accuracy in val  94.6330 at Epoch: 187  ##############\n",
            "Performance in Val: Loss: (0.0487); Accuracy (94.36)\n"
          ]
        },
        {
          "name": "stderr",
          "output_type": "stream",
          "text": [
            "Epoch 414: 100%|██████████| 1496/1496 [00:22<00:00, 65.50batch/s, train_loss=tensor(0.0089, device='cuda:0', grad_fn=<MseLossBackward0>)]\n"
          ]
        },
        {
          "name": "stdout",
          "output_type": "stream",
          "text": [
            "0.0485133912244981 0.9463297676134268 0.9104255539324067 0.9567307692307693 0.8343815513626834 0.8343815513626834 0.8594914373526862 0.9557045805893449 0.891377379619261\n",
            "Epoch: 414 / 500, ############## the best accuracy in val  94.6330 at Epoch: 187  ##############\n",
            "Performance in Val: Loss: (0.0485); Accuracy (94.63)\n"
          ]
        },
        {
          "name": "stderr",
          "output_type": "stream",
          "text": [
            "Epoch 415: 100%|██████████| 1496/1496 [00:23<00:00, 63.98batch/s, train_loss=tensor(0.0059, device='cuda:0', grad_fn=<MseLossBackward0>)]\n"
          ]
        },
        {
          "name": "stdout",
          "output_type": "stream",
          "text": [
            "0.048736066557466984 0.9444854297307267 0.9080521144622921 0.9527243589743589 0.8308874912648497 0.8308874912648497 0.8545211062363778 0.9563461358987141 0.8876446435237029\n",
            "Epoch: 415 / 500, ############## the best accuracy in val  94.6330 at Epoch: 187  ##############\n",
            "Performance in Val: Loss: (0.0487); Accuracy (94.45)\n"
          ]
        },
        {
          "name": "stderr",
          "output_type": "stream",
          "text": [
            "Epoch 416: 100%|██████████| 1496/1496 [00:22<00:00, 65.74batch/s, train_loss=tensor(0.0070, device='cuda:0', grad_fn=<MseLossBackward0>)]\n"
          ]
        },
        {
          "name": "stdout",
          "output_type": "stream",
          "text": [
            "0.04832310254939578 0.9441165621541866 0.9073533024427254 0.9526484751203852 0.8294898672257163 0.8294898672257163 0.8535375889976142 0.9582251015168475 0.8868135973104221\n",
            "Epoch: 416 / 500, ############## the best accuracy in val  94.6330 at Epoch: 187  ##############\n",
            "Performance in Val: Loss: (0.0483); Accuracy (94.41)\n"
          ]
        },
        {
          "name": "stderr",
          "output_type": "stream",
          "text": [
            "Epoch 417: 100%|██████████| 1496/1496 [00:23<00:00, 64.54batch/s, train_loss=tensor(0.0063, device='cuda:0', grad_fn=<MseLossBackward0>)]\n"
          ]
        },
        {
          "name": "stdout",
          "output_type": "stream",
          "text": [
            "0.04845674793151292 0.9446698635189967 0.9081773963465316 0.9534883720930233 0.8308874912648497 0.8308874912648497 0.8550237157362134 0.9563993653785308 0.8879761015683346\n",
            "Epoch: 417 / 500, ############## the best accuracy in val  94.6330 at Epoch: 187  ##############\n",
            "Performance in Val: Loss: (0.0485); Accuracy (94.47)\n"
          ]
        },
        {
          "name": "stderr",
          "output_type": "stream",
          "text": [
            "Epoch 418: 100%|██████████| 1496/1496 [00:22<00:00, 65.79batch/s, train_loss=tensor(0.0063, device='cuda:0', grad_fn=<MseLossBackward0>)]\n"
          ]
        },
        {
          "name": "stdout",
          "output_type": "stream",
          "text": [
            "0.0483476941219785 0.9435632607893766 0.9069774567900067 0.9503602882305845 0.8294898672257163 0.8294898672257163 0.8520314358534078 0.9571214652955174 0.885820895522388\n",
            "Epoch: 418 / 500, ############## the best accuracy in val  94.6330 at Epoch: 187  ##############\n",
            "Performance in Val: Loss: (0.0483); Accuracy (94.36)\n"
          ]
        },
        {
          "name": "stderr",
          "output_type": "stream",
          "text": [
            "Epoch 419: 100%|██████████| 1496/1496 [00:22<00:00, 65.09batch/s, train_loss=tensor(0.0081, device='cuda:0', grad_fn=<MseLossBackward0>)]\n"
          ]
        },
        {
          "name": "stdout",
          "output_type": "stream",
          "text": [
            "0.04868416725234552 0.9452231648838068 0.9098979867525132 0.9514331210191083 0.8350803633822502 0.8350803633822502 0.8564697117957816 0.95572419145033 0.8894678079642726\n",
            "Epoch: 419 / 500, ############## the best accuracy in val  94.6330 at Epoch: 187  ##############\n",
            "Performance in Val: Loss: (0.0487); Accuracy (94.52)\n"
          ]
        },
        {
          "name": "stderr",
          "output_type": "stream",
          "text": [
            "Epoch 420: 100%|██████████| 1496/1496 [00:22<00:00, 65.97batch/s, train_loss=tensor(0.0033, device='cuda:0', grad_fn=<MseLossBackward0>)]\n"
          ]
        },
        {
          "name": "stdout",
          "output_type": "stream",
          "text": [
            "0.048151404512199486 0.9444854297307267 0.9085003627133796 0.9512779552715654 0.8322851153039832 0.8322851153039832 0.8545016998545761 0.958260646202383 0.8878121505777116\n",
            "Epoch: 420 / 500, ############## the best accuracy in val  94.6330 at Epoch: 187  ##############\n",
            "Performance in Val: Loss: (0.0482); Accuracy (94.45)\n"
          ]
        },
        {
          "name": "stderr",
          "output_type": "stream",
          "text": [
            "Epoch 421: 100%|██████████| 1496/1496 [00:22<00:00, 65.21batch/s, train_loss=tensor(0.0060, device='cuda:0', grad_fn=<MseLossBackward0>)]\n"
          ]
        },
        {
          "name": "stdout",
          "output_type": "stream",
          "text": [
            "0.04846652199260213 0.9446698635189967 0.9084015204720755 0.9527622097678142 0.8315863032844165 0.8315863032844165 0.8550127976058494 0.9575768925225012 0.8880597014925373\n",
            "Epoch: 421 / 500, ############## the best accuracy in val  94.6330 at Epoch: 187  ##############\n",
            "Performance in Val: Loss: (0.0485); Accuracy (94.47)\n"
          ]
        },
        {
          "name": "stderr",
          "output_type": "stream",
          "text": [
            "Epoch 422: 100%|██████████| 1496/1496 [00:22<00:00, 65.56batch/s, train_loss=tensor(0.0083, device='cuda:0', grad_fn=<MseLossBackward0>)]\n"
          ]
        },
        {
          "name": "stdout",
          "output_type": "stream",
          "text": [
            "0.04869307560676878 0.9444854297307267 0.9073797420856606 0.9549114331723028 0.8287910552061496 0.8287910552061496 0.8545572568203988 0.9566926528084416 0.8873924429479986\n",
            "Epoch: 422 / 500, ############## the best accuracy in val  94.6330 at Epoch: 187  ##############\n",
            "Performance in Val: Loss: (0.0487); Accuracy (94.45)\n"
          ]
        },
        {
          "name": "stderr",
          "output_type": "stream",
          "text": [
            "Epoch 423: 100%|██████████| 1496/1496 [00:23<00:00, 64.84batch/s, train_loss=tensor(0.0059, device='cuda:0', grad_fn=<MseLossBackward0>)]\n"
          ]
        },
        {
          "name": "stdout",
          "output_type": "stream",
          "text": [
            "0.04807580922814933 0.9441165621541866 0.9071291783171815 0.9533762057877814 0.8287910552061496 0.8287910552061496 0.853549077189398 0.9573706282882117 0.8867289719626168\n",
            "Epoch: 423 / 500, ############## the best accuracy in val  94.6330 at Epoch: 187  ##############\n",
            "Performance in Val: Loss: (0.0481); Accuracy (94.41)\n"
          ]
        },
        {
          "name": "stderr",
          "output_type": "stream",
          "text": [
            "Epoch 424: 100%|██████████| 1496/1496 [00:23<00:00, 64.77batch/s, train_loss=tensor(0.0065, device='cuda:0', grad_fn=<MseLossBackward0>)]\n"
          ]
        },
        {
          "name": "stdout",
          "output_type": "stream",
          "text": [
            "0.04830470359460874 0.9444854297307267 0.9071556179601168 0.9556451612903226 0.8280922431865828 0.8280922431865828 0.8545711974171778 0.9573240524933722 0.8873081242980158\n",
            "Epoch: 424 / 500, ############## the best accuracy in val  94.6330 at Epoch: 187  ##############\n",
            "Performance in Val: Loss: (0.0483); Accuracy (94.45)\n"
          ]
        },
        {
          "name": "stderr",
          "output_type": "stream",
          "text": [
            "Epoch 425: 100%|██████████| 1496/1496 [00:23<00:00, 64.76batch/s, train_loss=tensor(0.0078, device='cuda:0', grad_fn=<MseLossBackward0>)]\n"
          ]
        },
        {
          "name": "stdout",
          "output_type": "stream",
          "text": [
            "0.04817918679592284 0.9448542973072667 0.908526802356315 0.9535256410256411 0.8315863032844165 0.8315863032844165 0.8555151724596395 0.956866173908765 0.8883911907428145\n",
            "Epoch: 425 / 500, ############## the best accuracy in val  94.6330 at Epoch: 187  ##############\n",
            "Performance in Val: Loss: (0.0482); Accuracy (94.49)\n"
          ]
        },
        {
          "name": "stderr",
          "output_type": "stream",
          "text": [
            "Epoch 426: 100%|██████████| 1496/1496 [00:22<00:00, 65.64batch/s, train_loss=tensor(0.0082, device='cuda:0', grad_fn=<MseLossBackward0>)]\n"
          ]
        },
        {
          "name": "stdout",
          "output_type": "stream",
          "text": [
            "0.04884714573960413 0.9433788270011066 0.9077486714079425 0.9467408585055644 0.8322851153039832 0.8322851153039832 0.8515056815746794 0.9567726721251397 0.8858311640014875\n",
            "Epoch: 426 / 500, ############## the best accuracy in val  94.6330 at Epoch: 187  ##############\n",
            "Performance in Val: Loss: (0.0488); Accuracy (94.34)\n"
          ]
        },
        {
          "name": "stderr",
          "output_type": "stream",
          "text": [
            "Epoch 427: 100%|██████████| 1496/1496 [00:23<00:00, 64.48batch/s, train_loss=tensor(0.0075, device='cuda:0', grad_fn=<MseLossBackward0>)]\n"
          ]
        },
        {
          "name": "stdout",
          "output_type": "stream",
          "text": [
            "0.04848424861715599 0.9422722242714865 0.9043074905959794 0.9508064516129032 0.8238993710691824 0.8238993710691824 0.8485933169591806 0.9577917365084718 0.8828154249344816\n",
            "Epoch: 427 / 500, ############## the best accuracy in val  94.6330 at Epoch: 187  ##############\n",
            "Performance in Val: Loss: (0.0485); Accuracy (94.23)\n"
          ]
        },
        {
          "name": "stderr",
          "output_type": "stream",
          "text": [
            "Epoch 428: 100%|██████████| 1496/1496 [00:22<00:00, 65.33batch/s, train_loss=tensor(0.0063, device='cuda:0', grad_fn=<MseLossBackward0>)]\n"
          ]
        },
        {
          "name": "stdout",
          "output_type": "stream",
          "text": [
            "0.047848569229245186 0.9448542973072667 0.9091991747329464 0.9513556618819776 0.8336827393431167 0.8336827393431167 0.8554857941221404 0.9596039901798614 0.8886405959031657\n",
            "Epoch: 428 / 500, ############## the best accuracy in val  94.6330 at Epoch: 187  ##############\n",
            "Performance in Val: Loss: (0.0478); Accuracy (94.49)\n"
          ]
        },
        {
          "name": "stderr",
          "output_type": "stream",
          "text": [
            "Epoch 429: 100%|██████████| 1496/1496 [00:23<00:00, 64.43batch/s, train_loss=tensor(0.0055, device='cuda:0', grad_fn=<MseLossBackward0>)]\n"
          ]
        },
        {
          "name": "stdout",
          "output_type": "stream",
          "text": [
            "0.04853665388443253 0.9437476945776466 0.9064303662976148 0.9533011272141707 0.827393431167016 0.827393431167016 0.8525657587528451 0.9568421856234529 0.8858959970071081\n",
            "Epoch: 429 / 500, ############## the best accuracy in val  94.6330 at Epoch: 187  ##############\n",
            "Performance in Val: Loss: (0.0485); Accuracy (94.37)\n"
          ]
        },
        {
          "name": "stderr",
          "output_type": "stream",
          "text": [
            "Epoch 430: 100%|██████████| 1496/1496 [00:22<00:00, 65.26batch/s, train_loss=tensor(0.0066, device='cuda:0', grad_fn=<MseLossBackward0>)]\n"
          ]
        },
        {
          "name": "stdout",
          "output_type": "stream",
          "text": [
            "0.04882165704938499 0.9448542973072667 0.9087509264818587 0.9528 0.8322851153039832 0.8322851153039832 0.8555044444649051 0.9570076522630144 0.8884744498321522\n",
            "Epoch: 430 / 500, ############## the best accuracy in val  94.6330 at Epoch: 187  ##############\n",
            "Performance in Val: Loss: (0.0488); Accuracy (94.49)\n"
          ]
        },
        {
          "name": "stderr",
          "output_type": "stream",
          "text": [
            "Epoch 431: 100%|██████████| 1496/1496 [00:23<00:00, 64.85batch/s, train_loss=tensor(0.0075, device='cuda:0', grad_fn=<MseLossBackward0>)]\n"
          ]
        },
        {
          "name": "stdout",
          "output_type": "stream",
          "text": [
            "0.048665873960337856 0.9431943932128366 0.9065027688959839 0.9495596477181746 0.8287910552061496 0.8287910552061496 0.8510376486025939 0.9577353552831398 0.8850746268656717\n",
            "Epoch: 431 / 500, ############## the best accuracy in val  94.6330 at Epoch: 187  ##############\n",
            "Performance in Val: Loss: (0.0487); Accuracy (94.32)\n"
          ]
        },
        {
          "name": "stderr",
          "output_type": "stream",
          "text": [
            "Epoch 432: 100%|██████████| 1496/1496 [00:22<00:00, 65.23batch/s, train_loss=tensor(0.0046, device='cuda:0', grad_fn=<MseLossBackward0>)]\n"
          ]
        },
        {
          "name": "stdout",
          "output_type": "stream",
          "text": [
            "0.04875105018304153 0.9444854297307267 0.9082762385878359 0.952 0.8315863032844165 0.8315863032844165 0.8545109357612904 0.9558956113869763 0.8877284595300261\n",
            "Epoch: 432 / 500, ############## the best accuracy in val  94.6330 at Epoch: 187  ##############\n",
            "Performance in Val: Loss: (0.0488); Accuracy (94.45)\n"
          ]
        },
        {
          "name": "stderr",
          "output_type": "stream",
          "text": [
            "Epoch 433: 100%|██████████| 1496/1496 [00:23<00:00, 64.90batch/s, train_loss=tensor(0.0070, device='cuda:0', grad_fn=<MseLossBackward0>)]\n"
          ]
        },
        {
          "name": "stdout",
          "output_type": "stream",
          "text": [
            "0.04883825084702535 0.9431943932128366 0.9073992653981591 0.9466984884645983 0.8315863032844165 0.8315863032844165 0.8510121807380276 0.9569080220853314 0.8854166666666666\n",
            "Epoch: 433 / 500, ############## the best accuracy in val  94.6330 at Epoch: 187  ##############\n",
            "Performance in Val: Loss: (0.0488); Accuracy (94.32)\n"
          ]
        },
        {
          "name": "stderr",
          "output_type": "stream",
          "text": [
            "Epoch 434: 100%|██████████| 1496/1496 [00:22<00:00, 65.59batch/s, train_loss=tensor(0.0090, device='cuda:0', grad_fn=<MseLossBackward0>)]\n"
          ]
        },
        {
          "name": "stdout",
          "output_type": "stream",
          "text": [
            "0.04795580238781192 0.9459609000368867 0.9103991142894714 0.9544728434504792 0.8350803633822502 0.8350803633822502 0.858473511381486 0.9584520271939607 0.8907938874394336\n",
            "Epoch: 434 / 500, ############## the best accuracy in val  94.6330 at Epoch: 187  ##############\n",
            "Performance in Val: Loss: (0.0480); Accuracy (94.60)\n"
          ]
        },
        {
          "name": "stderr",
          "output_type": "stream",
          "text": [
            "Epoch 435: 100%|██████████| 1496/1496 [00:22<00:00, 65.14batch/s, train_loss=tensor(0.0057, device='cuda:0', grad_fn=<MseLossBackward0>)]\n"
          ]
        },
        {
          "name": "stdout",
          "output_type": "stream",
          "text": [
            "0.04906658591194586 0.9437476945776466 0.9073268627997901 0.9504 0.8301886792452831 0.8301886792452831 0.8525239183540612 0.9563210970315635 0.8862364789257741\n",
            "Epoch: 435 / 500, ############## the best accuracy in val  94.6330 at Epoch: 187  ##############\n",
            "Performance in Val: Loss: (0.0491); Accuracy (94.37)\n"
          ]
        },
        {
          "name": "stderr",
          "output_type": "stream",
          "text": [
            "Epoch 436: 100%|██████████| 1496/1496 [00:22<00:00, 65.43batch/s, train_loss=tensor(0.0113, device='cuda:0', grad_fn=<MseLossBackward0>)]\n"
          ]
        },
        {
          "name": "stdout",
          "output_type": "stream",
          "text": [
            "0.04841389591720971 0.9444854297307267 0.9085003627133796 0.9512779552715654 0.8322851153039832 0.8322851153039832 0.8545016998545761 0.9567458822882584 0.8878121505777116\n",
            "Epoch: 436 / 500, ############## the best accuracy in val  94.6330 at Epoch: 187  ##############\n",
            "Performance in Val: Loss: (0.0484); Accuracy (94.45)\n"
          ]
        },
        {
          "name": "stderr",
          "output_type": "stream",
          "text": [
            "Epoch 437: 100%|██████████| 1496/1496 [00:23<00:00, 64.54batch/s, train_loss=tensor(0.0073, device='cuda:0', grad_fn=<MseLossBackward0>)]\n"
          ]
        },
        {
          "name": "stdout",
          "output_type": "stream",
          "text": [
            "0.04859892185777426 0.9441165621541866 0.9073533024427254 0.9526484751203852 0.8294898672257163 0.8294898672257163 0.8535375889976142 0.9567805514889284 0.8868135973104221\n",
            "Epoch: 437 / 500, ############## the best accuracy in val  94.6330 at Epoch: 187  ##############\n",
            "Performance in Val: Loss: (0.0486); Accuracy (94.41)\n"
          ]
        },
        {
          "name": "stderr",
          "output_type": "stream",
          "text": [
            "Epoch 438: 100%|██████████| 1496/1496 [00:22<00:00, 65.42batch/s, train_loss=tensor(0.0047, device='cuda:0', grad_fn=<MseLossBackward0>)]\n"
          ]
        },
        {
          "name": "stdout",
          "output_type": "stream",
          "text": [
            "0.04866172771223567 0.9441165621541866 0.9080256748193569 0.950479233226837 0.8315863032844165 0.8315863032844165 0.8535087469728486 0.9570442475303885 0.8870667163622811\n",
            "Epoch: 438 / 500, ############## the best accuracy in val  94.6330 at Epoch: 187  ##############\n",
            "Performance in Val: Loss: (0.0487); Accuracy (94.41)\n"
          ]
        },
        {
          "name": "stderr",
          "output_type": "stream",
          "text": [
            "Epoch 439: 100%|██████████| 1496/1496 [00:23<00:00, 64.64batch/s, train_loss=tensor(0.0082, device='cuda:0', grad_fn=<MseLossBackward0>)]\n"
          ]
        },
        {
          "name": "stdout",
          "output_type": "stream",
          "text": [
            "0.04897675697099079 0.9428255256362966 0.9062522051275048 0.9480415667466027 0.8287910552061496 0.8287910552061496 0.8500366635700776 0.9568782555999077 0.8844146159582401\n",
            "Epoch: 439 / 500, ############## the best accuracy in val  94.6330 at Epoch: 187  ##############\n",
            "Performance in Val: Loss: (0.0490); Accuracy (94.28)\n"
          ]
        },
        {
          "name": "stderr",
          "output_type": "stream",
          "text": [
            "Epoch 440: 100%|██████████| 1496/1496 [00:22<00:00, 65.06batch/s, train_loss=tensor(0.0060, device='cuda:0', grad_fn=<MseLossBackward0>)]\n"
          ]
        },
        {
          "name": "stdout",
          "output_type": "stream",
          "text": [
            "0.04827223735099489 0.9452231648838068 0.9094497385014255 0.9528753993610224 0.8336827393431167 0.8336827393431167 0.8564876056180311 0.9561512529676748 0.8893030190085724\n",
            "Epoch: 440 / 500, ############## the best accuracy in val  94.6330 at Epoch: 187  ##############\n",
            "Performance in Val: Loss: (0.0483); Accuracy (94.52)\n"
          ]
        },
        {
          "name": "stderr",
          "output_type": "stream",
          "text": [
            "Epoch 441: 100%|██████████| 1496/1496 [00:23<00:00, 64.52batch/s, train_loss=tensor(0.0062, device='cuda:0', grad_fn=<MseLossBackward0>)]\n"
          ]
        },
        {
          "name": "stdout",
          "output_type": "stream",
          "text": [
            "0.0483687673272057 0.9457764662486168 0.9098255841541442 0.9551641313050441 0.8336827393431167 0.8336827393431167 0.857994159358291 0.9554470129419425 0.8902985074626866\n",
            "Epoch: 441 / 500, ############## the best accuracy in val  94.6330 at Epoch: 187  ##############\n",
            "Performance in Val: Loss: (0.0484); Accuracy (94.58)\n"
          ]
        },
        {
          "name": "stderr",
          "output_type": "stream",
          "text": [
            "Epoch 442: 100%|██████████| 1496/1496 [00:22<00:00, 65.08batch/s, train_loss=tensor(0.0065, device='cuda:0', grad_fn=<MseLossBackward0>)]\n"
          ]
        },
        {
          "name": "stdout",
          "output_type": "stream",
          "text": [
            "0.047937381165948784 0.9443009959424566 0.9088233290802279 0.949085123309467 0.8336827393431167 0.8336827393431167 0.8539868928755243 0.9584126303750174 0.8876488095238094\n",
            "Epoch: 442 / 500, ############## the best accuracy in val  94.6330 at Epoch: 187  ##############\n",
            "Performance in Val: Loss: (0.0479); Accuracy (94.43)\n"
          ]
        },
        {
          "name": "stderr",
          "output_type": "stream",
          "text": [
            "Epoch 443: 100%|██████████| 1496/1496 [00:23<00:00, 64.52batch/s, train_loss=tensor(0.0094, device='cuda:0', grad_fn=<MseLossBackward0>)]\n"
          ]
        },
        {
          "name": "stdout",
          "output_type": "stream",
          "text": [
            "0.04834206266836687 0.9448542973072667 0.9089750506074026 0.952076677316294 0.83298392732355 0.83298392732355 0.8554946527363035 0.9577369311558974 0.8885575847931421\n",
            "Epoch: 443 / 500, ############## the best accuracy in val  94.6330 at Epoch: 187  ##############\n",
            "Performance in Val: Loss: (0.0483); Accuracy (94.49)\n"
          ]
        },
        {
          "name": "stderr",
          "output_type": "stream",
          "text": [
            "Epoch 444: 100%|██████████| 1496/1496 [00:22<00:00, 65.21batch/s, train_loss=tensor(0.0138, device='cuda:0', grad_fn=<MseLossBackward0>)]\n"
          ]
        },
        {
          "name": "stdout",
          "output_type": "stream",
          "text": [
            "0.04809461728754369 0.9444854297307267 0.9082762385878359 0.952 0.8315863032844165 0.8315863032844165 0.8545109357612904 0.956607205485578 0.8877284595300261\n",
            "Epoch: 444 / 500, ############## the best accuracy in val  94.6330 at Epoch: 187  ##############\n",
            "Performance in Val: Loss: (0.0481); Accuracy (94.45)\n"
          ]
        },
        {
          "name": "stderr",
          "output_type": "stream",
          "text": [
            "Epoch 445: 100%|██████████| 1496/1496 [00:22<00:00, 65.06batch/s, train_loss=tensor(0.0065, device='cuda:0', grad_fn=<MseLossBackward0>)]\n"
          ]
        },
        {
          "name": "stdout",
          "output_type": "stream",
          "text": [
            "0.048447657376527786 0.9443009959424566 0.9074785843269648 0.9534136546184739 0.8294898672257163 0.8294898672257163 0.8540406683432911 0.9560533737597224 0.8871449925261584\n",
            "Epoch: 445 / 500, ############## the best accuracy in val  94.6330 at Epoch: 187  ##############\n",
            "Performance in Val: Loss: (0.0484); Accuracy (94.43)\n"
          ]
        },
        {
          "name": "stderr",
          "output_type": "stream",
          "text": [
            "Epoch 446: 100%|██████████| 1496/1496 [00:22<00:00, 67.36batch/s, train_loss=tensor(0.0047, device='cuda:0', grad_fn=<MseLossBackward0>)]\n"
          ]
        },
        {
          "name": "stdout",
          "output_type": "stream",
          "text": [
            "0.0478532916273583 0.9450387310955367 0.9088762083660984 0.9535628502802241 0.8322851153039832 0.8322851153039832 0.8560065848566633 0.9583375137735657 0.8888059701492538\n",
            "Epoch: 446 / 500, ############## the best accuracy in val  94.6330 at Epoch: 187  ##############\n",
            "Performance in Val: Loss: (0.0479); Accuracy (94.50)\n"
          ]
        },
        {
          "name": "stderr",
          "output_type": "stream",
          "text": [
            "Epoch 447: 100%|██████████| 1496/1496 [00:22<00:00, 67.32batch/s, train_loss=tensor(0.0056, device='cuda:0', grad_fn=<MseLossBackward0>)]\n"
          ]
        },
        {
          "name": "stdout",
          "output_type": "stream",
          "text": [
            "0.04853688519109379 0.9459609000368867 0.9103991142894714 0.9544728434504792 0.8350803633822502 0.8350803633822502 0.858473511381486 0.9560563504082648 0.8907938874394336\n",
            "Epoch: 447 / 500, ############## the best accuracy in val  94.6330 at Epoch: 187  ##############\n",
            "Performance in Val: Loss: (0.0485); Accuracy (94.60)\n"
          ]
        },
        {
          "name": "stderr",
          "output_type": "stream",
          "text": [
            "Epoch 448: 100%|██████████| 1496/1496 [00:22<00:00, 67.97batch/s, train_loss=tensor(0.0113, device='cuda:0', grad_fn=<MseLossBackward0>)]\n"
          ]
        },
        {
          "name": "stdout",
          "output_type": "stream",
          "text": [
            "0.04861878916959871 0.9444854297307267 0.9078279903367483 0.9534510433386838 0.8301886792452831 0.8301886792452831 0.8545322144447655 0.9564867387680982 0.8875607022786701\n",
            "Epoch: 448 / 500, ############## the best accuracy in val  94.6330 at Epoch: 187  ##############\n",
            "Performance in Val: Loss: (0.0486); Accuracy (94.45)\n"
          ]
        },
        {
          "name": "stderr",
          "output_type": "stream",
          "text": [
            "Epoch 449: 100%|██████████| 1496/1496 [00:22<00:00, 67.12batch/s, train_loss=tensor(0.0051, device='cuda:0', grad_fn=<MseLossBackward0>)]\n"
          ]
        },
        {
          "name": "stdout",
          "output_type": "stream",
          "text": [
            "0.04907627793198282 0.9446698635189967 0.9084015204720755 0.9527622097678142 0.8315863032844165 0.8315863032844165 0.8550127976058494 0.954135886807511 0.8880597014925373\n",
            "Epoch: 449 / 500, ############## the best accuracy in val  94.6330 at Epoch: 187  ##############\n",
            "Performance in Val: Loss: (0.0491); Accuracy (94.47)\n"
          ]
        },
        {
          "name": "stderr",
          "output_type": "stream",
          "text": [
            "Epoch 450: 100%|██████████| 1496/1496 [00:22<00:00, 67.82batch/s, train_loss=tensor(0.0083, device='cuda:0', grad_fn=<MseLossBackward0>)]\n"
          ]
        },
        {
          "name": "stdout",
          "output_type": "stream",
          "text": [
            "0.04882345026866956 0.9450387310955367 0.9084279601150107 0.9550200803212852 0.8308874912648497 0.8308874912648497 0.8560304797437376 0.9545268783484013 0.8886397608370703\n",
            "Epoch: 450 / 500, ############## the best accuracy in val  94.6330 at Epoch: 187  ##############\n",
            "Performance in Val: Loss: (0.0488); Accuracy (94.50)\n"
          ]
        },
        {
          "name": "stderr",
          "output_type": "stream",
          "text": [
            "Epoch 451: 100%|██████████| 1496/1496 [00:22<00:00, 67.61batch/s, train_loss=tensor(0.0085, device='cuda:0', grad_fn=<MseLossBackward0>)]\n"
          ]
        },
        {
          "name": "stdout",
          "output_type": "stream",
          "text": [
            "0.04909021187235008 0.9441165621541866 0.907801550693813 0.9512 0.8308874912648497 0.8308874912648497 0.8535174270576759 0.9561488016100517 0.8869824692278999\n",
            "Epoch: 451 / 500, ############## the best accuracy in val  94.6330 at Epoch: 187  ##############\n",
            "Performance in Val: Loss: (0.0491); Accuracy (94.41)\n"
          ]
        },
        {
          "name": "stderr",
          "output_type": "stream",
          "text": [
            "Epoch 452: 100%|██████████| 1496/1496 [00:21<00:00, 68.19batch/s, train_loss=tensor(0.0058, device='cuda:0', grad_fn=<MseLossBackward0>)]\n"
          ]
        },
        {
          "name": "stdout",
          "output_type": "stream",
          "text": [
            "0.048918172124434604 0.9435632607893766 0.9067533326644629 0.9510825982357658 0.8287910552061496 0.8287910552061496 0.8520406788709047 0.9564506687916436 0.8857356235997011\n",
            "Epoch: 452 / 500, ############## the best accuracy in val  94.6330 at Epoch: 187  ##############\n",
            "Performance in Val: Loss: (0.0489); Accuracy (94.36)\n"
          ]
        },
        {
          "name": "stderr",
          "output_type": "stream",
          "text": [
            "Epoch 453: 100%|██████████| 1496/1496 [00:22<00:00, 67.08batch/s, train_loss=tensor(0.0105, device='cuda:0', grad_fn=<MseLossBackward0>)]\n"
          ]
        },
        {
          "name": "stdout",
          "output_type": "stream",
          "text": [
            "0.04843014275485819 0.9435632607893766 0.9076498291666382 0.9482071713147411 0.8315863032844165 0.8315863032844165 0.8520092856400527 0.9570234109905918 0.8860759493670887\n",
            "Epoch: 453 / 500, ############## the best accuracy in val  94.6330 at Epoch: 187  ##############\n",
            "Performance in Val: Loss: (0.0484); Accuracy (94.36)\n"
          ]
        },
        {
          "name": "stderr",
          "output_type": "stream",
          "text": [
            "Epoch 454: 100%|██████████| 1496/1496 [00:22<00:00, 67.30batch/s, train_loss=tensor(0.0090, device='cuda:0', grad_fn=<MseLossBackward0>)]\n"
          ]
        },
        {
          "name": "stdout",
          "output_type": "stream",
          "text": [
            "0.047957929951900784 0.9452231648838068 0.9090014902503378 0.9543269230769231 0.8322851153039832 0.8322851153039832 0.8565092386829012 0.9566452015287367 0.8891377379619261\n",
            "Epoch: 454 / 500, ############## the best accuracy in val  94.6330 at Epoch: 187  ##############\n",
            "Performance in Val: Loss: (0.0480); Accuracy (94.52)\n"
          ]
        },
        {
          "name": "stderr",
          "output_type": "stream",
          "text": [
            "Epoch 455: 100%|██████████| 1496/1496 [00:22<00:00, 67.63batch/s, train_loss=tensor(0.0068, device='cuda:0', grad_fn=<MseLossBackward0>)]\n"
          ]
        },
        {
          "name": "stdout",
          "output_type": "stream",
          "text": [
            "0.04861026968468319 0.9443009959424566 0.9070303360758772 0.9548751007252216 0.8280922431865828 0.8280922431865828 0.8540660929950906 0.9570223604087533 0.8869760479041916\n",
            "Epoch: 455 / 500, ############## the best accuracy in val  94.6330 at Epoch: 187  ##############\n",
            "Performance in Val: Loss: (0.0486); Accuracy (94.43)\n"
          ]
        },
        {
          "name": "stderr",
          "output_type": "stream",
          "text": [
            "Epoch 456: 100%|██████████| 1496/1496 [00:22<00:00, 67.93batch/s, train_loss=tensor(0.0089, device='cuda:0', grad_fn=<MseLossBackward0>)]\n"
          ]
        },
        {
          "name": "stdout",
          "output_type": "stream",
          "text": [
            "0.04821341349319978 0.9459609000368867 0.9112956107916467 0.9515873015873015 0.8378756114605171 0.8378756114605171 0.8584370250723513 0.9568188977260332 0.8911185432924564\n",
            "Epoch: 456 / 500, ############## the best accuracy in val  94.6330 at Epoch: 187  ##############\n",
            "Performance in Val: Loss: (0.0482); Accuracy (94.60)\n"
          ]
        },
        {
          "name": "stderr",
          "output_type": "stream",
          "text": [
            "Epoch 457: 100%|██████████| 1496/1496 [00:22<00:00, 67.53batch/s, train_loss=tensor(0.0081, device='cuda:0', grad_fn=<MseLossBackward0>)]\n"
          ]
        },
        {
          "name": "stdout",
          "output_type": "stream",
          "text": [
            "0.04853620905090462 0.9446698635189967 0.9079532722209878 0.9542168674698795 0.8301886792452831 0.8301886792452831 0.8550355740435143 0.9550406128674214 0.8878923766816144\n",
            "Epoch: 457 / 500, ############## the best accuracy in val  94.6330 at Epoch: 187  ##############\n",
            "Performance in Val: Loss: (0.0485); Accuracy (94.47)\n"
          ]
        },
        {
          "name": "stderr",
          "output_type": "stream",
          "text": [
            "Epoch 458: 100%|██████████| 1496/1496 [00:21<00:00, 68.20batch/s, train_loss=tensor(0.0069, device='cuda:0', grad_fn=<MseLossBackward0>)]\n"
          ]
        },
        {
          "name": "stdout",
          "output_type": "stream",
          "text": [
            "0.04812934461303733 0.9441165621541866 0.9075774265682692 0.9519230769230769 0.8301886792452831 0.8301886792452831 0.8535270400131162 0.9583861907320821 0.8868980963045913\n",
            "Epoch: 458 / 500, ############## the best accuracy in val  94.6330 at Epoch: 187  ##############\n",
            "Performance in Val: Loss: (0.0481); Accuracy (94.41)\n"
          ]
        },
        {
          "name": "stderr",
          "output_type": "stream",
          "text": [
            "Epoch 459: 100%|██████████| 1496/1496 [00:22<00:00, 67.30batch/s, train_loss=tensor(0.0048, device='cuda:0', grad_fn=<MseLossBackward0>)]\n"
          ]
        },
        {
          "name": "stdout",
          "output_type": "stream",
          "text": [
            "0.04850648021833463 0.9437476945776466 0.9068786145487024 0.9518459069020867 0.8287910552061496 0.8287910552061496 0.8525429635504629 0.9572737996620979 0.886066492342174\n",
            "Epoch: 459 / 500, ############## the best accuracy in val  94.6330 at Epoch: 187  ##############\n",
            "Performance in Val: Loss: (0.0485); Accuracy (94.37)\n"
          ]
        },
        {
          "name": "stderr",
          "output_type": "stream",
          "text": [
            "Epoch 460: 100%|██████████| 1496/1496 [00:21<00:00, 68.14batch/s, train_loss=tensor(0.0054, device='cuda:0', grad_fn=<MseLossBackward0>)]\n"
          ]
        },
        {
          "name": "stdout",
          "output_type": "stream",
          "text": [
            "0.04857961223884062 0.9443009959424566 0.9083750808291402 0.9505187549880287 0.8322851153039832 0.8322851153039832 0.8540010935779897 0.955419872911115 0.8874813710879285\n",
            "Epoch: 460 / 500, ############## the best accuracy in val  94.6330 at Epoch: 187  ##############\n",
            "Performance in Val: Loss: (0.0486); Accuracy (94.43)\n"
          ]
        },
        {
          "name": "stderr",
          "output_type": "stream",
          "text": [
            "Epoch 461: 100%|██████████| 1496/1496 [00:22<00:00, 67.45batch/s, train_loss=tensor(0.0067, device='cuda:0', grad_fn=<MseLossBackward0>)]\n"
          ]
        },
        {
          "name": "stdout",
          "output_type": "stream",
          "text": [
            "0.04863514988259836 0.9446698635189967 0.9077291480954439 0.9549477071600966 0.8294898672257163 0.8294898672257163 0.8550483757257338 0.9570297144816227 0.8878085265519821\n",
            "Epoch: 461 / 500, ############## the best accuracy in val  94.6330 at Epoch: 187  ##############\n",
            "Performance in Val: Loss: (0.0486); Accuracy (94.47)\n"
          ]
        },
        {
          "name": "stderr",
          "output_type": "stream",
          "text": [
            "Epoch 462: 100%|██████████| 1496/1496 [00:21<00:00, 68.01batch/s, train_loss=tensor(0.0098, device='cuda:0', grad_fn=<MseLossBackward0>)]\n"
          ]
        },
        {
          "name": "stdout",
          "output_type": "stream",
          "text": [
            "0.04820404244078831 0.9435632607893766 0.9063050844133752 0.9525341914722446 0.827393431167016 0.827393431167016 0.852061973247592 0.9572809786379941 0.8855646970830217\n",
            "Epoch: 462 / 500, ############## the best accuracy in val  94.6330 at Epoch: 187  ##############\n",
            "Performance in Val: Loss: (0.0482); Accuracy (94.36)\n"
          ]
        },
        {
          "name": "stderr",
          "output_type": "stream",
          "text": [
            "Epoch 463: 100%|██████████| 1496/1496 [00:22<00:00, 67.83batch/s, train_loss=tensor(0.0031, device='cuda:0', grad_fn=<MseLossBackward0>)]\n"
          ]
        },
        {
          "name": "stdout",
          "output_type": "stream",
          "text": [
            "0.048717628571797504 0.9428255256362966 0.9055798327508733 0.9502008032128514 0.8266946191474493 0.8266946191474493 0.8500610455423981 0.956708586632992 0.8841554559043349\n",
            "Epoch: 463 / 500, ############## the best accuracy in val  94.6330 at Epoch: 187  ##############\n",
            "Performance in Val: Loss: (0.0487); Accuracy (94.28)\n"
          ]
        },
        {
          "name": "stderr",
          "output_type": "stream",
          "text": [
            "Epoch 464: 100%|██████████| 1496/1496 [00:22<00:00, 67.46batch/s, train_loss=tensor(0.0051, device='cuda:0', grad_fn=<MseLossBackward0>)]\n"
          ]
        },
        {
          "name": "stdout",
          "output_type": "stream",
          "text": [
            "0.0483630962500518 0.9450387310955367 0.909324456617186 0.9521149241819633 0.8336827393431167 0.8336827393431167 0.8559864447888458 0.9574781378296835 0.8889716840536512\n",
            "Epoch: 464 / 500, ############## the best accuracy in val  94.6330 at Epoch: 187  ##############\n",
            "Performance in Val: Loss: (0.0484); Accuracy (94.50)\n"
          ]
        },
        {
          "name": "stderr",
          "output_type": "stream",
          "text": [
            "Epoch 465: 100%|██████████| 1496/1496 [00:22<00:00, 67.57batch/s, train_loss=tensor(0.0078, device='cuda:0', grad_fn=<MseLossBackward0>)]\n"
          ]
        },
        {
          "name": "stdout",
          "output_type": "stream",
          "text": [
            "0.04845849915661595 0.9443009959424566 0.9079268325780525 0.9519615692554043 0.8308874912648497 0.8308874912648497 0.8540190103550355 0.9590216176473936 0.8873134328358209\n",
            "Epoch: 465 / 500, ############## the best accuracy in val  94.6330 at Epoch: 187  ##############\n",
            "Performance in Val: Loss: (0.0485); Accuracy (94.43)\n"
          ]
        },
        {
          "name": "stderr",
          "output_type": "stream",
          "text": [
            "Epoch 466: 100%|██████████| 1496/1496 [00:22<00:00, 67.03batch/s, train_loss=tensor(0.0096, device='cuda:0', grad_fn=<MseLossBackward0>)]\n"
          ]
        },
        {
          "name": "stdout",
          "output_type": "stream",
          "text": [
            "0.04871734384108673 0.9443009959424566 0.908599204954684 0.949800796812749 0.83298392732355 0.83298392732355 0.8539935302762653 0.9561025760091583 0.8875651526433359\n",
            "Epoch: 466 / 500, ############## the best accuracy in val  94.6330 at Epoch: 187  ##############\n",
            "Performance in Val: Loss: (0.0487); Accuracy (94.43)\n"
          ]
        },
        {
          "name": "stderr",
          "output_type": "stream",
          "text": [
            "Epoch 467: 100%|██████████| 1496/1496 [00:21<00:00, 68.48batch/s, train_loss=tensor(0.0078, device='cuda:0', grad_fn=<MseLossBackward0>)]\n"
          ]
        },
        {
          "name": "stdout",
          "output_type": "stream",
          "text": [
            "0.04889396027746526 0.9444854297307267 0.9071556179601168 0.9556451612903226 0.8280922431865828 0.8280922431865828 0.8545711974171778 0.9556504756246628 0.8873081242980158\n",
            "Epoch: 467 / 500, ############## the best accuracy in val  94.6330 at Epoch: 187  ##############\n",
            "Performance in Val: Loss: (0.0489); Accuracy (94.45)\n"
          ]
        },
        {
          "name": "stderr",
          "output_type": "stream",
          "text": [
            "Epoch 468: 100%|██████████| 1496/1496 [00:22<00:00, 67.49batch/s, train_loss=tensor(0.0080, device='cuda:0', grad_fn=<MseLossBackward0>)]\n"
          ]
        },
        {
          "name": "stdout",
          "output_type": "stream",
          "text": [
            "0.04838063838807019 0.9435632607893766 0.9072015809155506 0.9496402877697842 0.8301886792452831 0.8301886792452831 0.8520231247317872 0.956395513245123 0.8859060402684563\n",
            "Epoch: 468 / 500, ############## the best accuracy in val  94.6330 at Epoch: 187  ##############\n",
            "Performance in Val: Loss: (0.0484); Accuracy (94.36)\n"
          ]
        },
        {
          "name": "stderr",
          "output_type": "stream",
          "text": [
            "Epoch 469: 100%|██████████| 1496/1496 [00:21<00:00, 68.16batch/s, train_loss=tensor(0.0069, device='cuda:0', grad_fn=<MseLossBackward0>)]\n"
          ]
        },
        {
          "name": "stdout",
          "output_type": "stream",
          "text": [
            "0.04895444832403551 0.9426410918480266 0.9056786749921775 0.9487179487179487 0.827393431167016 0.827393431167016 0.8495507751200695 0.9552417992894914 0.8839119074281448\n",
            "Epoch: 469 / 500, ############## the best accuracy in val  94.6330 at Epoch: 187  ##############\n",
            "Performance in Val: Loss: (0.0490); Accuracy (94.26)\n"
          ]
        },
        {
          "name": "stderr",
          "output_type": "stream",
          "text": [
            "Epoch 470: 100%|██████████| 1496/1496 [00:22<00:00, 67.34batch/s, train_loss=tensor(0.0055, device='cuda:0', grad_fn=<MseLossBackward0>)]\n"
          ]
        },
        {
          "name": "stdout",
          "output_type": "stream",
          "text": [
            "0.04853446764702147 0.9454075986720767 0.9089026480090336 0.9558232931726908 0.8315863032844165 0.8315863032844165 0.8570253854439608 0.9562808247277549 0.8893871449925261\n",
            "Epoch: 470 / 500, ############## the best accuracy in val  94.6330 at Epoch: 187  ##############\n",
            "Performance in Val: Loss: (0.0485); Accuracy (94.54)\n"
          ]
        },
        {
          "name": "stderr",
          "output_type": "stream",
          "text": [
            "Epoch 471: 100%|██████████| 1496/1496 [00:22<00:00, 67.83batch/s, train_loss=tensor(0.0081, device='cuda:0', grad_fn=<MseLossBackward0>)]\n"
          ]
        },
        {
          "name": "stdout",
          "output_type": "stream",
          "text": [
            "0.04861127475107258 0.9437476945776466 0.9073268627997901 0.9504 0.8301886792452831 0.8301886792452831 0.8525239183540612 0.9560668562266497 0.8862364789257741\n",
            "Epoch: 471 / 500, ############## the best accuracy in val  94.6330 at Epoch: 187  ##############\n",
            "Performance in Val: Loss: (0.0486); Accuracy (94.37)\n"
          ]
        },
        {
          "name": "stderr",
          "output_type": "stream",
          "text": [
            "Epoch 472: 100%|██████████| 1496/1496 [00:22<00:00, 67.09batch/s, train_loss=tensor(0.0082, device='cuda:0', grad_fn=<MseLossBackward0>)]\n"
          ]
        },
        {
          "name": "stdout",
          "output_type": "stream",
          "text": [
            "0.048798706297847355 0.9444854297307267 0.9087244868389236 0.9505582137161085 0.83298392732355 0.83298392732355 0.8544933953709861 0.9546074229560186 0.8878957169459963\n",
            "Epoch: 472 / 500, ############## the best accuracy in val  94.6330 at Epoch: 187  ##############\n",
            "Performance in Val: Loss: (0.0488); Accuracy (94.45)\n"
          ]
        },
        {
          "name": "stderr",
          "output_type": "stream",
          "text": [
            "Epoch 473: 100%|██████████| 1496/1496 [00:22<00:00, 67.93batch/s, train_loss=tensor(0.0107, device='cuda:0', grad_fn=<MseLossBackward0>)]\n"
          ]
        },
        {
          "name": "stdout",
          "output_type": "stream",
          "text": [
            "0.04854918745431033 0.9428255256362966 0.906028081001961 0.9487590072057646 0.8280922431865828 0.8280922431865828 0.85004386135178 0.9568313296111219 0.8843283582089552\n",
            "Epoch: 473 / 500, ############## the best accuracy in val  94.6330 at Epoch: 187  ##############\n",
            "Performance in Val: Loss: (0.0485); Accuracy (94.28)\n"
          ]
        },
        {
          "name": "stderr",
          "output_type": "stream",
          "text": [
            "Epoch 474: 100%|██████████| 1496/1496 [00:21<00:00, 68.26batch/s, train_loss=tensor(0.0040, device='cuda:0', grad_fn=<MseLossBackward0>)]\n"
          ]
        },
        {
          "name": "stdout",
          "output_type": "stream",
          "text": [
            "0.04865848704833876 0.9439321283659167 0.9072280205584857 0.9518845228548516 0.8294898672257163 0.8294898672257163 0.8530350244926743 0.9560481208505299 0.8864824495892457\n",
            "Epoch: 474 / 500, ############## the best accuracy in val  94.6330 at Epoch: 187  ##############\n",
            "Performance in Val: Loss: (0.0487); Accuracy (94.39)\n"
          ]
        },
        {
          "name": "stderr",
          "output_type": "stream",
          "text": [
            "Epoch 475: 100%|██████████| 1496/1496 [00:21<00:00, 68.78batch/s, train_loss=tensor(0.0067, device='cuda:0', grad_fn=<MseLossBackward0>)]\n"
          ]
        },
        {
          "name": "stdout",
          "output_type": "stream",
          "text": [
            "0.04841883201152086 0.9446698635189967 0.9079532722209878 0.9542168674698795 0.8301886792452831 0.8301886792452831 0.8550355740435143 0.9573806088156773 0.8878923766816144\n",
            "Epoch: 475 / 500, ############## the best accuracy in val  94.6330 at Epoch: 187  ##############\n",
            "Performance in Val: Loss: (0.0484); Accuracy (94.47)\n"
          ]
        },
        {
          "name": "stderr",
          "output_type": "stream",
          "text": [
            "Epoch 476: 100%|██████████| 1496/1496 [00:21<00:00, 68.19batch/s, train_loss=tensor(0.0077, device='cuda:0', grad_fn=<MseLossBackward0>)]\n"
          ]
        },
        {
          "name": "stdout",
          "output_type": "stream",
          "text": [
            "0.04885281249880791 0.9430099594245666 0.9063774870117443 0.9488 0.8287910552061496 0.8287910552061496 0.8505369009468319 0.9561141324093816 0.8847444983215219\n",
            "Epoch: 476 / 500, ############## the best accuracy in val  94.6330 at Epoch: 187  ##############\n",
            "Performance in Val: Loss: (0.0489); Accuracy (94.30)\n"
          ]
        },
        {
          "name": "stderr",
          "output_type": "stream",
          "text": [
            "Epoch 477: 100%|██████████| 1496/1496 [00:21<00:00, 68.95batch/s, train_loss=tensor(0.0094, device='cuda:0', grad_fn=<MseLossBackward0>)]\n"
          ]
        },
        {
          "name": "stdout",
          "output_type": "stream",
          "text": [
            "0.048534293489700016 0.9437476945776466 0.9062062421720709 0.9540322580645161 0.8266946191474493 0.8266946191474493 0.8525785705978454 0.9561207860943587 0.8858105578435043\n",
            "Epoch: 477 / 500, ############## the best accuracy in val  94.6330 at Epoch: 187  ##############\n",
            "Performance in Val: Loss: (0.0485); Accuracy (94.37)\n"
          ]
        },
        {
          "name": "stderr",
          "output_type": "stream",
          "text": [
            "Epoch 478: 100%|██████████| 1496/1496 [00:22<00:00, 67.96batch/s, train_loss=tensor(0.0049, device='cuda:0', grad_fn=<MseLossBackward0>)]\n"
          ]
        },
        {
          "name": "stdout",
          "output_type": "stream",
          "text": [
            "0.048780346966602585 0.9435632607893766 0.906529208538919 0.9518072289156626 0.8280922431865828 0.8280922431865828 0.8520508569428447 0.9568267770898218 0.8856502242152465\n",
            "Epoch: 478 / 500, ############## the best accuracy in val  94.6330 at Epoch: 187  ##############\n",
            "Performance in Val: Loss: (0.0488); Accuracy (94.36)\n"
          ]
        },
        {
          "name": "stderr",
          "output_type": "stream",
          "text": [
            "Epoch 479: 100%|██████████| 1496/1496 [00:22<00:00, 65.93batch/s, train_loss=tensor(0.0055, device='cuda:0', grad_fn=<MseLossBackward0>)]\n"
          ]
        },
        {
          "name": "stdout",
          "output_type": "stream",
          "text": [
            "0.04854217967526479 0.9437476945776466 0.9068786145487024 0.9518459069020867 0.8287910552061496 0.8287910552061496 0.8525429635504629 0.9545116449117432 0.886066492342174\n",
            "Epoch: 479 / 500, ############## the best accuracy in val  94.6330 at Epoch: 187  ##############\n",
            "Performance in Val: Loss: (0.0485); Accuracy (94.37)\n"
          ]
        },
        {
          "name": "stderr",
          "output_type": "stream",
          "text": [
            "Epoch 480: 100%|██████████| 1496/1496 [00:23<00:00, 64.57batch/s, train_loss=tensor(0.0080, device='cuda:0', grad_fn=<MseLossBackward0>)]\n"
          ]
        },
        {
          "name": "stdout",
          "output_type": "stream",
          "text": [
            "0.04889442830939184 0.9441165621541866 0.9073533024427254 0.9526484751203852 0.8294898672257163 0.8294898672257163 0.8535375889976142 0.9571643640539222 0.8868135973104221\n",
            "Epoch: 480 / 500, ############## the best accuracy in val  94.6330 at Epoch: 187  ##############\n",
            "Performance in Val: Loss: (0.0489); Accuracy (94.41)\n"
          ]
        },
        {
          "name": "stderr",
          "output_type": "stream",
          "text": [
            "Epoch 481: 100%|██████████| 1496/1496 [00:23<00:00, 63.98batch/s, train_loss=tensor(0.0053, device='cuda:0', grad_fn=<MseLossBackward0>)]\n"
          ]
        },
        {
          "name": "stdout",
          "output_type": "stream",
          "text": [
            "0.04942290975966237 0.9428255256362966 0.9055798327508733 0.9502008032128514 0.8266946191474493 0.8266946191474493 0.8500610455423981 0.9563195211588058 0.8841554559043349\n",
            "Epoch: 481 / 500, ############## the best accuracy in val  94.6330 at Epoch: 187  ##############\n",
            "Performance in Val: Loss: (0.0494); Accuracy (94.28)\n"
          ]
        },
        {
          "name": "stderr",
          "output_type": "stream",
          "text": [
            "Epoch 482: 100%|██████████| 1496/1496 [00:23<00:00, 65.00batch/s, train_loss=tensor(0.0116, device='cuda:0', grad_fn=<MseLossBackward0>)]\n"
          ]
        },
        {
          "name": "stdout",
          "output_type": "stream",
          "text": [
            "0.04845055014911023 0.9461453338251568 0.9114208926758862 0.9523431294678316 0.8378756114605171 0.8378756114605171 0.8589362821935359 0.9566586839956639 0.8914498141263941\n",
            "Epoch: 482 / 500, ############## the best accuracy in val  94.6330 at Epoch: 187  ##############\n",
            "Performance in Val: Loss: (0.0485); Accuracy (94.61)\n"
          ]
        },
        {
          "name": "stderr",
          "output_type": "stream",
          "text": [
            "Epoch 483: 100%|██████████| 1496/1496 [00:24<00:00, 62.29batch/s, train_loss=tensor(0.0104, device='cuda:0', grad_fn=<MseLossBackward0>)]\n"
          ]
        },
        {
          "name": "stdout",
          "output_type": "stream",
          "text": [
            "0.04849187140776352 0.9439321283659167 0.9074521446840296 0.9511609287429944 0.8301886792452831 0.8301886792452831 0.8530252231042216 0.9551423442087814 0.8865671641791044\n",
            "Epoch: 483 / 500, ############## the best accuracy in val  94.6330 at Epoch: 187  ##############\n",
            "Performance in Val: Loss: (0.0485); Accuracy (94.39)\n"
          ]
        },
        {
          "name": "stderr",
          "output_type": "stream",
          "text": [
            "Epoch 484: 100%|██████████| 1496/1496 [00:24<00:00, 61.34batch/s, train_loss=tensor(0.0061, device='cuda:0', grad_fn=<MseLossBackward0>)]\n"
          ]
        },
        {
          "name": "stdout",
          "output_type": "stream",
          "text": [
            "0.04864728196778081 0.9431943932128366 0.9058303965193524 0.9517296862429606 0.8266946191474493 0.8266946191474493 0.8510665057548781 0.9558812534351837 0.8848167539267016\n",
            "Epoch: 484 / 500, ############## the best accuracy in val  94.6330 at Epoch: 187  ##############\n",
            "Performance in Val: Loss: (0.0486); Accuracy (94.32)\n"
          ]
        },
        {
          "name": "stderr",
          "output_type": "stream",
          "text": [
            "Epoch 485: 100%|██████████| 1496/1496 [00:23<00:00, 63.15batch/s, train_loss=tensor(0.0066, device='cuda:0', grad_fn=<MseLossBackward0>)]\n"
          ]
        },
        {
          "name": "stdout",
          "output_type": "stream",
          "text": [
            "0.04876705775545402 0.9443009959424566 0.9072544602014211 0.9541432019308126 0.8287910552061496 0.8287910552061496 0.8540529082330198 0.956514228992872 0.887060583395662\n",
            "Epoch: 485 / 500, ############## the best accuracy in val  94.6330 at Epoch: 187  ##############\n",
            "Performance in Val: Loss: (0.0488); Accuracy (94.43)\n"
          ]
        },
        {
          "name": "stderr",
          "output_type": "stream",
          "text": [
            "Epoch 486: 100%|██████████| 1496/1496 [00:23<00:00, 62.41batch/s, train_loss=tensor(0.0099, device='cuda:0', grad_fn=<MseLossBackward0>)]\n"
          ]
        },
        {
          "name": "stdout",
          "output_type": "stream",
          "text": [
            "0.04901228116994554 0.9444854297307267 0.9078279903367483 0.9534510433386838 0.8301886792452831 0.8301886792452831 0.8545322144447655 0.9566607851593408 0.8875607022786701\n",
            "Epoch: 486 / 500, ############## the best accuracy in val  94.6330 at Epoch: 187  ##############\n",
            "Performance in Val: Loss: (0.0490); Accuracy (94.45)\n"
          ]
        },
        {
          "name": "stderr",
          "output_type": "stream",
          "text": [
            "Epoch 487: 100%|██████████| 1496/1496 [00:23<00:00, 63.12batch/s, train_loss=tensor(0.0077, device='cuda:0', grad_fn=<MseLossBackward0>)]\n"
          ]
        },
        {
          "name": "stdout",
          "output_type": "stream",
          "text": [
            "0.04889311378991062 0.9430099594245666 0.906825735262832 0.9473684210526315 0.8301886792452831 0.8301886792452831 0.8505238003663688 0.9555671294654762 0.8849162011173184\n",
            "Epoch: 487 / 500, ############## the best accuracy in val  94.6330 at Epoch: 187  ##############\n",
            "Performance in Val: Loss: (0.0489); Accuracy (94.30)\n"
          ]
        },
        {
          "name": "stderr",
          "output_type": "stream",
          "text": [
            "Epoch 488: 100%|██████████| 1496/1496 [00:23<00:00, 63.01batch/s, train_loss=tensor(0.0091, device='cuda:0', grad_fn=<MseLossBackward0>)]\n"
          ]
        },
        {
          "name": "stdout",
          "output_type": "stream",
          "text": [
            "0.04826643707400018 0.9452231648838068 0.9096738626269694 0.9521531100478469 0.8343815513626834 0.8343815513626834 0.8564781928732947 0.9556487246549321 0.8893854748603351\n",
            "Epoch: 488 / 500, ############## the best accuracy in val  94.6330 at Epoch: 187  ##############\n",
            "Performance in Val: Loss: (0.0483); Accuracy (94.52)\n"
          ]
        },
        {
          "name": "stderr",
          "output_type": "stream",
          "text": [
            "Epoch 489: 100%|██████████| 1496/1496 [00:22<00:00, 65.59batch/s, train_loss=tensor(0.0072, device='cuda:0', grad_fn=<MseLossBackward0>)]\n"
          ]
        },
        {
          "name": "stdout",
          "output_type": "stream",
          "text": [
            "0.048267641020092095 0.9450387310955367 0.9088762083660984 0.9535628502802241 0.8322851153039832 0.8322851153039832 0.8560065848566633 0.9558877320231878 0.8888059701492538\n",
            "Epoch: 489 / 500, ############## the best accuracy in val  94.6330 at Epoch: 187  ##############\n",
            "Performance in Val: Loss: (0.0483); Accuracy (94.50)\n"
          ]
        },
        {
          "name": "stderr",
          "output_type": "stream",
          "text": [
            "Epoch 490: 100%|██████████| 1496/1496 [00:22<00:00, 66.32batch/s, train_loss=tensor(0.0069, device='cuda:0', grad_fn=<MseLossBackward0>)]\n"
          ]
        },
        {
          "name": "stdout",
          "output_type": "stream",
          "text": [
            "0.048540071160955864 0.9446698635189967 0.9084015204720755 0.9527622097678142 0.8315863032844165 0.8315863032844165 0.8550127976058494 0.9562955328734937 0.8880597014925373\n",
            "Epoch: 490 / 500, ############## the best accuracy in val  94.6330 at Epoch: 187  ##############\n",
            "Performance in Val: Loss: (0.0485); Accuracy (94.47)\n"
          ]
        },
        {
          "name": "stderr",
          "output_type": "stream",
          "text": [
            "Epoch 491: 100%|██████████| 1496/1496 [00:22<00:00, 67.25batch/s, train_loss=tensor(0.0079, device='cuda:0', grad_fn=<MseLossBackward0>)]\n"
          ]
        },
        {
          "name": "stdout",
          "output_type": "stream",
          "text": [
            "0.04853333228013732 0.9452231648838068 0.9087773661247941 0.9550561797752809 0.8315863032844165 0.8315863032844165 0.8565214653390681 0.957891716880101 0.8890549122151663\n",
            "Epoch: 491 / 500, ############## the best accuracy in val  94.6330 at Epoch: 187  ##############\n",
            "Performance in Val: Loss: (0.0485); Accuracy (94.52)\n"
          ]
        },
        {
          "name": "stderr",
          "output_type": "stream",
          "text": [
            "Epoch 492: 100%|██████████| 1496/1496 [00:22<00:00, 67.35batch/s, train_loss=tensor(0.0107, device='cuda:0', grad_fn=<MseLossBackward0>)]\n"
          ]
        },
        {
          "name": "stdout",
          "output_type": "stream",
          "text": [
            "0.04861742647534067 0.9450387310955367 0.909324456617186 0.9521149241819633 0.8336827393431167 0.8336827393431167 0.8559864447888458 0.956026583922841 0.8889716840536512\n",
            "Epoch: 492 / 500, ############## the best accuracy in val  94.6330 at Epoch: 187  ##############\n",
            "Performance in Val: Loss: (0.0486); Accuracy (94.50)\n"
          ]
        },
        {
          "name": "stderr",
          "output_type": "stream",
          "text": [
            "Epoch 493: 100%|██████████| 1496/1496 [00:22<00:00, 67.10batch/s, train_loss=tensor(0.0055, device='cuda:0', grad_fn=<MseLossBackward0>)]\n"
          ]
        },
        {
          "name": "stdout",
          "output_type": "stream",
          "text": [
            "0.04828946283933791 0.9444854297307267 0.9089486109644673 0.9498407643312102 0.8336827393431167 0.8336827393431167 0.854486019184809 0.9576278457416679 0.8879791589132862\n",
            "Epoch: 493 / 500, ############## the best accuracy in val  94.6330 at Epoch: 187  ##############\n",
            "Performance in Val: Loss: (0.0483); Accuracy (94.45)\n"
          ]
        },
        {
          "name": "stderr",
          "output_type": "stream",
          "text": [
            "Epoch 494: 100%|██████████| 1496/1496 [00:22<00:00, 66.97batch/s, train_loss=tensor(0.0090, device='cuda:0', grad_fn=<MseLossBackward0>)]\n"
          ]
        },
        {
          "name": "stdout",
          "output_type": "stream",
          "text": [
            "0.048972162333401764 0.9437476945776466 0.907550986925334 0.9496805111821086 0.8308874912648497 0.8308874912648497 0.8525157940911212 0.954992286102851 0.8863212821468506\n",
            "Epoch: 494 / 500, ############## the best accuracy in val  94.6330 at Epoch: 187  ##############\n",
            "Performance in Val: Loss: (0.0490); Accuracy (94.37)\n"
          ]
        },
        {
          "name": "stderr",
          "output_type": "stream",
          "text": [
            "Epoch 495: 100%|██████████| 1496/1496 [00:22<00:00, 67.42batch/s, train_loss=tensor(0.0082, device='cuda:0', grad_fn=<MseLossBackward0>)]\n"
          ]
        },
        {
          "name": "stdout",
          "output_type": "stream",
          "text": [
            "0.04835809724913402 0.9446698635189967 0.909073892848707 0.950597609561753 0.8336827393431167 0.8336827393431167 0.8549856525943716 0.9566396859740847 0.8883097542814594\n",
            "Epoch: 495 / 500, ############## the best accuracy in val  94.6330 at Epoch: 187  ##############\n",
            "Performance in Val: Loss: (0.0484); Accuracy (94.47)\n"
          ]
        },
        {
          "name": "stderr",
          "output_type": "stream",
          "text": [
            "Epoch 496: 100%|██████████| 1496/1496 [00:22<00:00, 66.54batch/s, train_loss=tensor(0.0075, device='cuda:0', grad_fn=<MseLossBackward0>)]\n"
          ]
        },
        {
          "name": "stdout",
          "output_type": "stream",
          "text": [
            "0.04857385175471956 0.9444854297307267 0.9085003627133796 0.9512779552715654 0.8322851153039832 0.8322851153039832 0.8545016998545761 0.9566765438869183 0.8878121505777116\n",
            "Epoch: 496 / 500, ############## the best accuracy in val  94.6330 at Epoch: 187  ##############\n",
            "Performance in Val: Loss: (0.0486); Accuracy (94.45)\n"
          ]
        },
        {
          "name": "stderr",
          "output_type": "stream",
          "text": [
            "Epoch 497: 100%|██████████| 1496/1496 [00:22<00:00, 67.23batch/s, train_loss=tensor(0.0065, device='cuda:0', grad_fn=<MseLossBackward0>)]\n"
          ]
        },
        {
          "name": "stdout",
          "output_type": "stream",
          "text": [
            "0.04882517059079625 0.9444854297307267 0.9087244868389236 0.9505582137161085 0.83298392732355 0.83298392732355 0.8544933953709861 0.9560215061106218 0.8878957169459963\n",
            "Epoch: 497 / 500, ############## the best accuracy in val  94.6330 at Epoch: 187  ##############\n",
            "Performance in Val: Loss: (0.0488); Accuracy (94.45)\n"
          ]
        },
        {
          "name": "stderr",
          "output_type": "stream",
          "text": [
            "Epoch 498: 100%|██████████| 1496/1496 [00:22<00:00, 66.36batch/s, train_loss=tensor(0.0055, device='cuda:0', grad_fn=<MseLossBackward0>)]\n"
          ]
        },
        {
          "name": "stdout",
          "output_type": "stream",
          "text": [
            "0.04809494274245067 0.9459609000368867 0.9101749901639276 0.9552 0.8343815513626834 0.8343815513626834 0.8584849705757491 0.9572147919821695 0.8907124207385303\n",
            "Epoch: 498 / 500, ############## the best accuracy in val  94.6330 at Epoch: 187  ##############\n",
            "Performance in Val: Loss: (0.0481); Accuracy (94.60)\n"
          ]
        },
        {
          "name": "stderr",
          "output_type": "stream",
          "text": [
            "Epoch 499: 100%|██████████| 1496/1496 [00:22<00:00, 66.58batch/s, train_loss=tensor(0.0065, device='cuda:0', grad_fn=<MseLossBackward0>)]\n"
          ]
        },
        {
          "name": "stdout",
          "output_type": "stream",
          "text": [
            "0.04845934310419993 0.9446698635189967 0.9086256445976193 0.9520383693045563 0.8322851153039832 0.8322851153039832 0.8550028164743516 0.9575145580000844 0.8881431767337807\n",
            "Epoch: 499 / 500, ############## the best accuracy in val  94.6330 at Epoch: 187  ##############\n",
            "Performance in Val: Loss: (0.0485); Accuracy (94.47)\n"
          ]
        }
      ],
      "source": [
        "initial_epoch = 0\n",
        "best_epoch = -1\n",
        "best_accuracy = 0.5\n",
        "for epoch in range(initial_epoch, 500):\n",
        "    torch.cuda.empty_cache()\n",
        "    model.train()\n",
        "    with tqdm(train_loader, desc='Processing', unit=\"batch\") as tepoch:\n",
        "        for ESP_train_df_enzy,ESP_train_df_smiles, y_train in tepoch:\n",
        "            model.train()\n",
        "            tepoch.set_description(f\"Epoch {epoch}\")\n",
        "            ESP_train_df_enzy = ESP_train_df_enzy.to(device)\n",
        "            ESP_train_df_smiles = ESP_train_df_smiles.to(device)\n",
        "            y_train = y_train.squeeze(1).to(device)\n",
        "            refined_enzy_embed, refined_smiles_embed = model(ESP_train_df_enzy,ESP_train_df_smiles)\n",
        "            cosine_sim = torch.nn.functional.cosine_similarity(refined_enzy_embed, refined_smiles_embed, dim=1)\n",
        "            loss = loss_fn(cosine_sim, y_train)\n",
        "            loss.backward()\n",
        "            optimizer.step()\n",
        "            optimizer.zero_grad(set_to_none=True) #\n",
        "            tepoch.set_postfix(train_loss=loss)\n",
        "            # tepoch.set_postfix(val_loss=loss_sum_val, val_accuracy=100. * acc_val, balanced_val_accuracy=100. * bacc_val)\n",
        "        loss_sum_val,acc_val, bacc_val = run_validation(model,val_loader,loss_fn, device)\n",
        "        print('Epoch: %d / %d, ############## the best accuracy in val  %.4f at Epoch: %d  ##############'  % (epoch, 500,100 * best_accuracy,best_epoch))\n",
        "        # print('Performance in Train: Loss: (%.4f); Accuracy (%.2f)' % (loss_sum, 100 * acc))\n",
        "        print('Performance in Val: Loss: (%.4f); Accuracy (%.2f)' % (loss_sum_val, 100 * acc_val))\n",
        "        # checkpoint(model, f\"epoch-{epoch}.pth\")\n",
        "        if acc_val > best_accuracy: # compare the performance updates at the val set\n",
        "            best_accuracy = acc_val\n",
        "            best_epoch = epoch\n",
        "            torch.save(model, \"best_model.pt\")\n",
        "\n"
      ]
    },
    {
      "cell_type": "code",
      "execution_count": null,
      "metadata": {
        "colab": {
          "background_save": true
        },
        "id": "-5_Z6venDpwy",
        "outputId": "a4cc526f-4a88-480a-97bd-3d232cc348c2"
      },
      "outputs": [
        {
          "name": "stdout",
          "output_type": "stream",
          "text": [
            "0.04879631610079245 0.9463297676134268 0.9108738021834943 0.9552715654952076 0.8357791754018169 0.8357791754018169 0.8594664642632134 0.9575208614911154 0.8915393216548639\n"
          ]
        },
        {
          "data": {
            "text/plain": [
              "(0.04879631610079245, 0.9463297676134268, 0.9108738021834943)"
            ]
          },
          "execution_count": 66,
          "metadata": {},
          "output_type": "execute_result"
        }
      ],
      "source": [
        "import torch\n",
        "# Specify the file path where the entire model is saved\n",
        "load_path = 'best_model.pt'\n",
        "\n",
        "# Load the entire model\n",
        "model_test = torch.load(load_path)\n",
        "# model_test.to('cuda')\n",
        "# rename the baseline model\n",
        "torch.save(model_test, 'best_model_esm2_1280_pretrain_phylo.pt')\n",
        "run_validation(model_test,val_loader,loss_fn, device)"
      ]
    },
    {
      "cell_type": "code",
      "execution_count": null,
      "metadata": {
        "colab": {
          "background_save": true
        },
        "id": "MHda9ISjDpwy",
        "outputId": "22a50f88-4feb-4bc4-c6e1-1cb932c1519d"
      },
      "outputs": [
        {
          "name": "stdout",
          "output_type": "stream",
          "text": [
            "0.04879631610079245 0.9463297676134268 0.9108738021834943 0.9552715654952076 0.8357791754018169 0.8357791754018169 0.8594664642632134 0.9575208614911154 0.8915393216548639\n",
            "0.053451908855802484 0.9392621475704859 0.8997839379594939 0.9459459459459459 0.8162684869169511 0.8162684869169511 0.8403630591132002 0.9533958088598179 0.8763358778625955\n"
          ]
        },
        {
          "data": {
            "text/plain": [
              "(0.053451908855802484, 0.9392621475704859, 0.8997839379594939)"
            ]
          },
          "execution_count": 67,
          "metadata": {},
          "output_type": "execute_result"
        }
      ],
      "source": [
        "run_validation(model_test,val_loader,loss_fn, device)\n",
        "run_validation(model_test,test_loader,loss_fn, device)"
      ]
    },
    {
      "cell_type": "markdown",
      "metadata": {
        "id": "N1hUdIn1DmEw"
      },
      "source": [
        "### fine tuning\n",
        "the optimizer state and model will be continue trainin on the smaller train dataset"
      ]
    },
    {
      "cell_type": "code",
      "execution_count": null,
      "metadata": {
        "colab": {
          "background_save": true
        },
        "id": "LtkIIgLoDmEw"
      },
      "outputs": [],
      "source": [
        "def get_ds():\n",
        "    # Load the saved embeddings_results\n",
        "    ESP_train_df_enzy = torch.load('ESP_train_df_enzy.pt')\n",
        "    ESP_val_df_enzy = torch.load('ESP_val_df_enzy.pt')\n",
        "    ESP_test_df_enzy = torch.load('ESP_test_df_enzy.pt')\n",
        "    print(ESP_train_df_enzy.shape, ESP_val_df_enzy.shape, ESP_test_df_enzy.shape)\n",
        "    # Load the saved embeddings_results\n",
        "    ESP_train_df_smiles = torch.load('ESP_train_df_smiles.pt')\n",
        "    ESP_val_df_smiles = torch.load('ESP_val_df_smiles.pt')\n",
        "    ESP_test_df_smiles = torch.load('ESP_test_df_smiles.pt')\n",
        "    print(ESP_train_df_smiles.shape, ESP_val_df_smiles.shape, ESP_test_df_smiles.shape)\n",
        "\n",
        "    y_train = torch.load( 'ESP_train_df_label.pt')\n",
        "    y_val = torch.load('ESP_val_df_label.pt')\n",
        "    y_test = torch.load('ESP_test_df_label.pt')\n",
        "    print(y_train.shape,y_val.shape, y_test.shape)\n",
        "\n",
        "\n",
        "    train_tensor_dataset = TensorDataset(ESP_train_df_enzy,ESP_train_df_smiles, y_train)\n",
        "    val_tensor_dataset = TensorDataset(ESP_val_df_enzy,ESP_val_df_smiles, y_val)\n",
        "    test_tensor_dataset = TensorDataset(ESP_test_df_enzy, ESP_test_df_smiles, y_test)\n",
        "\n",
        "    # Create TensorDataset and DataLoaders\n",
        "    batch_size = 16\n",
        "    train_loader = DataLoader(train_tensor_dataset, batch_size=batch_size, shuffle=True)\n",
        "    val_loader = DataLoader(val_tensor_dataset, batch_size=batch_size, shuffle=False)\n",
        "    test_loader = DataLoader(test_tensor_dataset, batch_size=batch_size, shuffle=False)\n",
        "    print(len(train_loader))\n",
        "    return train_loader,  val_loader, test_loader"
      ]
    },
    {
      "cell_type": "code",
      "execution_count": null,
      "metadata": {
        "colab": {
          "background_save": true
        },
        "id": "VdF3AvOLDmEw",
        "outputId": "26e3d2ab-6301-4395-f2c0-4df140c2b10b"
      },
      "outputs": [
        {
          "name": "stdout",
          "output_type": "stream",
          "text": [
            "torch.Size([50077, 1280]) torch.Size([5422, 1280]) torch.Size([13336, 1280])\n",
            "torch.Size([50077, 768]) torch.Size([5422, 768]) torch.Size([13336, 768])\n",
            "torch.Size([50077, 1]) torch.Size([5422, 1]) torch.Size([13336, 1])\n",
            "3130\n"
          ]
        }
      ],
      "source": [
        "# laod the smaller training dataset\n",
        "train_loader,  val_loader, test_loader = get_ds()\n"
      ]
    },
    {
      "cell_type": "code",
      "execution_count": null,
      "metadata": {
        "colab": {
          "background_save": true
        },
        "id": "qlD0YVWPDmEw",
        "outputId": "f2284138-166b-4fd5-e6dd-fdf1a1ad578c"
      },
      "outputs": [
        {
          "name": "stderr",
          "output_type": "stream",
          "text": [
            "Epoch 0: 100%|██████████| 3130/3130 [00:23<00:00, 135.24batch/s, train_loss=tensor(0.1215, device='cuda:0', grad_fn=<MseLossBackward0>)]\n"
          ]
        },
        {
          "name": "stdout",
          "output_type": "stream",
          "text": [
            "0.048960982040285095 0.9472519365547768 0.9141897011112179 0.950432730133753 0.8441649196366178 0.8441649196366178 0.8618681470996554 0.9651142919227241 0.8941524796447076\n",
            "Epoch: 0 / 30, ############## the best accuracy in val  50.0000 at Epoch: -1  ##############\n",
            "Performance in Val: Loss: (0.0490); Accuracy (94.73)\n"
          ]
        },
        {
          "name": "stderr",
          "output_type": "stream",
          "text": [
            "Epoch 1: 100%|██████████| 3130/3130 [00:23<00:00, 134.67batch/s, train_loss=tensor(0.0532, device='cuda:0', grad_fn=<MseLossBackward0>)]\n"
          ]
        },
        {
          "name": "stdout",
          "output_type": "stream",
          "text": [
            "0.04785917406238253 0.9490962744374769 0.9158907682047011 0.9565217391304348 0.8455625436757512 0.8455625436757512 0.8668314934480938 0.966115846608748 0.897626112759644\n",
            "Epoch: 1 / 30, ############## the best accuracy in val  94.7252 at Epoch: 0  ##############\n",
            "Performance in Val: Loss: (0.0479); Accuracy (94.91)\n"
          ]
        },
        {
          "name": "stderr",
          "output_type": "stream",
          "text": [
            "Epoch 2: 100%|██████████| 3130/3130 [00:23<00:00, 133.68batch/s, train_loss=tensor(0.0326, device='cuda:0', grad_fn=<MseLossBackward0>)]\n"
          ]
        },
        {
          "name": "stdout",
          "output_type": "stream",
          "text": [
            "0.04888245446475602 0.9496495758022869 0.9173872344851388 0.9551886792452831 0.8490566037735849 0.8490566037735849 0.8682848726092476 0.9625055221207885 0.8990011098779135\n",
            "Epoch: 2 / 30, ############## the best accuracy in val  94.9096 at Epoch: 1  ##############\n",
            "Performance in Val: Loss: (0.0489); Accuracy (94.96)\n"
          ]
        },
        {
          "name": "stderr",
          "output_type": "stream",
          "text": [
            "Epoch 3: 100%|██████████| 3130/3130 [00:23<00:00, 135.45batch/s, train_loss=tensor(0.0227, device='cuda:0', grad_fn=<MseLossBackward0>)]\n"
          ]
        },
        {
          "name": "stdout",
          "output_type": "stream",
          "text": [
            "0.04819325880582958 0.949834009590557 0.9188572611226413 0.9516757599376462 0.8532494758909853 0.8532494758909853 0.8687517323807651 0.9650629885096114 0.8997789240972733\n",
            "Epoch: 3 / 30, ############## the best accuracy in val  94.9650 at Epoch: 2  ##############\n",
            "Performance in Val: Loss: (0.0482); Accuracy (94.98)\n"
          ]
        },
        {
          "name": "stderr",
          "output_type": "stream",
          "text": [
            "Epoch 4: 100%|██████████| 3130/3130 [00:23<00:00, 135.24batch/s, train_loss=tensor(0.1409, device='cuda:0', grad_fn=<MseLossBackward0>)]\n"
          ]
        },
        {
          "name": "stdout",
          "output_type": "stream",
          "text": [
            "0.04762994260685161 0.9507561785319071 0.9197077946693828 0.9546875 0.8539482879105521 0.8539482879105521 0.871219684096544 0.966726935044801 0.9015123570638142\n",
            "Epoch: 4 / 30, ############## the best accuracy in val  94.9834 at Epoch: 3  ##############\n",
            "Performance in Val: Loss: (0.0476); Accuracy (95.08)\n"
          ]
        },
        {
          "name": "stderr",
          "output_type": "stream",
          "text": [
            "Epoch 5: 100%|██████████| 3130/3130 [00:23<00:00, 134.33batch/s, train_loss=tensor(0.0064, device='cuda:0', grad_fn=<MseLossBackward0>)]\n"
          ]
        },
        {
          "name": "stdout",
          "output_type": "stream",
          "text": [
            "0.047808112683403785 0.950571744743637 0.9200307610362308 0.9525291828793774 0.8553459119496856 0.8553459119496856 0.8707178532687819 0.9658941738408274 0.9013254786450663\n",
            "Epoch: 5 / 30, ############## the best accuracy in val  95.0756 at Epoch: 4  ##############\n",
            "Performance in Val: Loss: (0.0478); Accuracy (95.06)\n"
          ]
        },
        {
          "name": "stderr",
          "output_type": "stream",
          "text": [
            "Epoch 6: 100%|██████████| 3130/3130 [00:22<00:00, 136.21batch/s, train_loss=tensor(0.0294, device='cuda:0', grad_fn=<MseLossBackward0>)]\n"
          ]
        },
        {
          "name": "stdout",
          "output_type": "stream",
          "text": [
            "0.048807206807642965 0.950571744743637 0.9200307610362308 0.9525291828793774 0.8553459119496856 0.8553459119496856 0.8707178532687819 0.9626881482637122 0.9013254786450663\n",
            "Epoch: 6 / 30, ############## the best accuracy in val  95.0756 at Epoch: 4  ##############\n",
            "Performance in Val: Loss: (0.0488); Accuracy (95.06)\n"
          ]
        },
        {
          "name": "stderr",
          "output_type": "stream",
          "text": [
            "Epoch 7: 100%|██████████| 3130/3130 [00:23<00:00, 135.00batch/s, train_loss=tensor(0.0419, device='cuda:0', grad_fn=<MseLossBackward0>)]\n"
          ]
        },
        {
          "name": "stdout",
          "output_type": "stream",
          "text": [
            "0.04779864847247975 0.950571744743637 0.9202548851617747 0.9518259518259519 0.8560447239692522 0.8560447239692522 0.870715782573513 0.9673068562196458 0.9013980868285504\n",
            "Epoch: 7 / 30, ############## the best accuracy in val  95.0756 at Epoch: 4  ##############\n",
            "Performance in Val: Loss: (0.0478); Accuracy (95.06)\n"
          ]
        },
        {
          "name": "stderr",
          "output_type": "stream",
          "text": [
            "Epoch 8: 100%|██████████| 3130/3130 [00:23<00:00, 133.87batch/s, train_loss=tensor(0.0919, device='cuda:0', grad_fn=<MseLossBackward0>)]\n"
          ]
        },
        {
          "name": "stdout",
          "output_type": "stream",
          "text": [
            "0.04816267381190078 0.949834009590557 0.9188572611226413 0.9516757599376462 0.8532494758909853 0.8532494758909853 0.8687517323807651 0.9659099325684047 0.8997789240972733\n",
            "Epoch: 8 / 30, ############## the best accuracy in val  95.0756 at Epoch: 4  ##############\n",
            "Performance in Val: Loss: (0.0482); Accuracy (94.98)\n"
          ]
        },
        {
          "name": "stderr",
          "output_type": "stream",
          "text": [
            "Epoch 9: 100%|██████████| 3130/3130 [00:23<00:00, 134.79batch/s, train_loss=tensor(0.0221, device='cuda:0', grad_fn=<MseLossBackward0>)]\n"
          ]
        },
        {
          "name": "stdout",
          "output_type": "stream",
          "text": [
            "0.047820159825455164 0.950571744743637 0.919806636910687 0.9532346063912704 0.8546470999301188 0.8546470999301188 0.8707208324468224 0.9654699138750518 0.901252763448784\n",
            "Epoch: 9 / 30, ############## the best accuracy in val  95.0756 at Epoch: 4  ##############\n",
            "Performance in Val: Loss: (0.0478); Accuracy (95.06)\n"
          ]
        },
        {
          "name": "stderr",
          "output_type": "stream",
          "text": [
            "Epoch 10: 100%|██████████| 3130/3130 [00:23<00:00, 132.26batch/s, train_loss=tensor(0.0284, device='cuda:0', grad_fn=<MseLossBackward0>)]\n"
          ]
        },
        {
          "name": "stdout",
          "output_type": "stream",
          "text": [
            "0.04778530112306991 0.9511250461084471 0.9213031031911249 0.951937984496124 0.8581411600279525 0.8581411600279525 0.8721884332792033 0.9654144081345852 0.902609334803381\n",
            "Epoch: 10 / 30, ############## the best accuracy in val  95.0756 at Epoch: 4  ##############\n",
            "Performance in Val: Loss: (0.0478); Accuracy (95.11)\n"
          ]
        },
        {
          "name": "stderr",
          "output_type": "stream",
          "text": [
            "Epoch 11: 100%|██████████| 3130/3130 [00:23<00:00, 135.14batch/s, train_loss=tensor(0.0413, device='cuda:0', grad_fn=<MseLossBackward0>)]\n"
          ]
        },
        {
          "name": "stdout",
          "output_type": "stream",
          "text": [
            "0.04855621095944559 0.950387310955367 0.9192331067753599 0.95390625 0.8532494758909853 0.8532494758909853 0.870234338000218 0.9641705192378169 0.900774621910734\n",
            "Epoch: 11 / 30, ############## the best accuracy in val  95.1125 at Epoch: 10  ##############\n",
            "Performance in Val: Loss: (0.0486); Accuracy (95.04)\n"
          ]
        },
        {
          "name": "stderr",
          "output_type": "stream",
          "text": [
            "Epoch 12: 100%|██████████| 3130/3130 [00:23<00:00, 132.16batch/s, train_loss=tensor(0.0327, device='cuda:0', grad_fn=<MseLossBackward0>)]\n"
          ]
        },
        {
          "name": "stdout",
          "output_type": "stream",
          "text": [
            "0.04789699705463221 0.9502028771670971 0.9206766937699271 0.9482625482625483 0.8581411600279525 0.8581411600279525 0.869735125016007 0.9658141545241293 0.900953778429934\n",
            "Epoch: 12 / 30, ############## the best accuracy in val  95.1125 at Epoch: 10  ##############\n",
            "Performance in Val: Loss: (0.0479); Accuracy (95.02)\n"
          ]
        },
        {
          "name": "stderr",
          "output_type": "stream",
          "text": [
            "Epoch 13: 100%|██████████| 3130/3130 [00:23<00:00, 133.69batch/s, train_loss=tensor(0.0544, device='cuda:0', grad_fn=<MseLossBackward0>)]\n"
          ]
        },
        {
          "name": "stdout",
          "output_type": "stream",
          "text": [
            "0.047529655449287445 0.948911840649207 0.9168861069481806 0.9521943573667712 0.8490566037735849 0.8490566037735849 0.8662995973309715 0.9651211207046744 0.8976727004063538\n",
            "Epoch: 13 / 30, ############## the best accuracy in val  95.1125 at Epoch: 10  ##############\n",
            "Performance in Val: Loss: (0.0475); Accuracy (94.89)\n"
          ]
        },
        {
          "name": "stderr",
          "output_type": "stream",
          "text": [
            "Epoch 14: 100%|██████████| 3130/3130 [00:23<00:00, 134.65batch/s, train_loss=tensor(0.0162, device='cuda:0', grad_fn=<MseLossBackward0>)]\n"
          ]
        },
        {
          "name": "stdout",
          "output_type": "stream",
          "text": [
            "0.0469340168088702 0.9496495758022869 0.9187319792384017 0.9509345794392523 0.8532494758909853 0.8532494758909853 0.8682585154204355 0.9646900319569485 0.8994475138121547\n",
            "Epoch: 14 / 30, ############## the best accuracy in val  95.1125 at Epoch: 10  ##############\n",
            "Performance in Val: Loss: (0.0469); Accuracy (94.96)\n"
          ]
        },
        {
          "name": "stderr",
          "output_type": "stream",
          "text": [
            "Epoch 15: 100%|██████████| 3130/3130 [00:23<00:00, 134.16batch/s, train_loss=tensor(0.0284, device='cuda:0', grad_fn=<MseLossBackward0>)]\n"
          ]
        },
        {
          "name": "stdout",
          "output_type": "stream",
          "text": [
            "0.047705144236471424 0.948911840649207 0.9184549758269874 0.9472868217054263 0.8539482879105521 0.8539482879105521 0.8662921943844716 0.9652956923868361 0.8981991914737228\n",
            "Epoch: 15 / 30, ############## the best accuracy in val  95.1125 at Epoch: 10  ##############\n",
            "Performance in Val: Loss: (0.0477); Accuracy (94.89)\n"
          ]
        },
        {
          "name": "stderr",
          "output_type": "stream",
          "text": [
            "Epoch 16: 100%|██████████| 3130/3130 [00:23<00:00, 133.37batch/s, train_loss=tensor(0.0492, device='cuda:0', grad_fn=<MseLossBackward0>)]\n"
          ]
        },
        {
          "name": "stdout",
          "output_type": "stream",
          "text": [
            "0.046451995406124005 0.9513094798967171 0.9216525092009082 0.9519752130131681 0.8588399720475192 0.8588399720475192 0.8726792443722489 0.9682133332492868 0.9030124908155768\n",
            "Epoch: 16 / 30, ############## the best accuracy in val  95.1125 at Epoch: 10  ##############\n",
            "Performance in Val: Loss: (0.0465); Accuracy (95.13)\n"
          ]
        },
        {
          "name": "stderr",
          "output_type": "stream",
          "text": [
            "Epoch 17: 100%|██████████| 3130/3130 [00:23<00:00, 133.94batch/s, train_loss=tensor(0.0706, device='cuda:0', grad_fn=<MseLossBackward0>)]\n"
          ]
        },
        {
          "name": "stdout",
          "output_type": "stream",
          "text": [
            "0.0475659516473798 0.9502028771670971 0.919556073142208 0.9517509727626459 0.8546470999301188 0.8546470999301188 0.8697338319484467 0.9658281622819758 0.9005891016200295\n",
            "Epoch: 17 / 30, ############## the best accuracy in val  95.1309 at Epoch: 16  ##############\n",
            "Performance in Val: Loss: (0.0476); Accuracy (95.02)\n"
          ]
        },
        {
          "name": "stderr",
          "output_type": "stream",
          "text": [
            "Epoch 18: 100%|██████████| 3130/3130 [00:23<00:00, 134.00batch/s, train_loss=tensor(0.0300, device='cuda:0', grad_fn=<MseLossBackward0>)]\n"
          ]
        },
        {
          "name": "stdout",
          "output_type": "stream",
          "text": [
            "0.04757877736720517 0.949465142014017 0.9190549456052498 0.9487975174553918 0.8546470999301188 0.8546470999301188 0.8677657114640043 0.9673695409360088 0.8992647058823529\n",
            "Epoch: 18 / 30, ############## the best accuracy in val  95.1309 at Epoch: 16  ##############\n",
            "Performance in Val: Loss: (0.0476); Accuracy (94.95)\n"
          ]
        },
        {
          "name": "stderr",
          "output_type": "stream",
          "text": [
            "Epoch 19: 100%|██████████| 3130/3130 [00:23<00:00, 133.23batch/s, train_loss=tensor(0.0126, device='cuda:0', grad_fn=<MseLossBackward0>)]\n"
          ]
        },
        {
          "name": "stdout",
          "output_type": "stream",
          "text": [
            "0.04667010524957153 0.950940612320177 0.9202813248047099 0.9540140296180826 0.8553459119496856 0.8553459119496856 0.8717053824798511 0.9671603000531769 0.9019896831245394\n",
            "Epoch: 19 / 30, ############## the best accuracy in val  95.1309 at Epoch: 16  ##############\n",
            "Performance in Val: Loss: (0.0467); Accuracy (95.09)\n"
          ]
        },
        {
          "name": "stderr",
          "output_type": "stream",
          "text": [
            "Epoch 20: 100%|██████████| 3130/3130 [00:23<00:00, 133.63batch/s, train_loss=tensor(0.0301, device='cuda:0', grad_fn=<MseLossBackward0>)]\n"
          ]
        },
        {
          "name": "stdout",
          "output_type": "stream",
          "text": [
            "0.04684893478526786 0.9513094798967171 0.9225490057030835 0.9491916859122402 0.8616352201257862 0.8616352201257862 0.8726830033776122 0.9668433745319001 0.9032967032967033\n",
            "Epoch: 20 / 30, ############## the best accuracy in val  95.1309 at Epoch: 16  ##############\n",
            "Performance in Val: Loss: (0.0468); Accuracy (95.13)\n"
          ]
        },
        {
          "name": "stderr",
          "output_type": "stream",
          "text": [
            "Epoch 21: 100%|██████████| 3130/3130 [00:23<00:00, 134.23batch/s, train_loss=tensor(0.0240, device='cuda:0', grad_fn=<MseLossBackward0>)]\n"
          ]
        },
        {
          "name": "stdout",
          "output_type": "stream",
          "text": [
            "0.04717485781121658 0.950571744743637 0.9200307610362308 0.9525291828793774 0.8553459119496856 0.8553459119496856 0.8707178532687819 0.9662781615027944 0.9013254786450663\n",
            "Epoch: 21 / 30, ############## the best accuracy in val  95.1309 at Epoch: 16  ##############\n",
            "Performance in Val: Loss: (0.0472); Accuracy (95.06)\n"
          ]
        },
        {
          "name": "stderr",
          "output_type": "stream",
          "text": [
            "Epoch 22: 100%|██████████| 3130/3130 [00:23<00:00, 131.91batch/s, train_loss=tensor(0.0414, device='cuda:0', grad_fn=<MseLossBackward0>)]\n"
          ]
        },
        {
          "name": "stdout",
          "output_type": "stream",
          "text": [
            "0.04713756468742509 0.9507561785319071 0.9203801670460142 0.9525660964230172 0.8560447239692522 0.8560447239692522 0.8712085833239706 0.9637937105517463 0.9017298490982701\n",
            "Epoch: 22 / 30, ############## the best accuracy in val  95.1309 at Epoch: 16  ##############\n",
            "Performance in Val: Loss: (0.0471); Accuracy (95.08)\n"
          ]
        },
        {
          "name": "stderr",
          "output_type": "stream",
          "text": [
            "Epoch 23: 100%|██████████| 3130/3130 [00:23<00:00, 133.23batch/s, train_loss=tensor(0.0198, device='cuda:0', grad_fn=<MseLossBackward0>)]\n"
          ]
        },
        {
          "name": "stdout",
          "output_type": "stream",
          "text": [
            "0.0468038842183329 0.9524160826263371 0.9228524487574331 0.9550038789759504 0.8602375960866527 0.8602375960866527 0.8756294607388913 0.9663028501759987 0.9051470588235294\n",
            "Epoch: 23 / 30, ############## the best accuracy in val  95.1309 at Epoch: 16  ##############\n",
            "Performance in Val: Loss: (0.0468); Accuracy (95.24)\n"
          ]
        },
        {
          "name": "stderr",
          "output_type": "stream",
          "text": [
            "Epoch 24: 100%|██████████| 3130/3130 [00:23<00:00, 132.74batch/s, train_loss=tensor(0.0198, device='cuda:0', grad_fn=<MseLossBackward0>)]\n"
          ]
        },
        {
          "name": "stdout",
          "output_type": "stream",
          "text": [
            "0.047219381102939086 0.9518627812615271 0.9220283548536268 0.9541925465838509 0.8588399720475192 0.8588399720475192 0.8741563963021218 0.9650179885875294 0.9040088267745494\n",
            "Epoch: 24 / 30, ############## the best accuracy in val  95.2416 at Epoch: 23  ##############\n",
            "Performance in Val: Loss: (0.0472); Accuracy (95.19)\n"
          ]
        },
        {
          "name": "stderr",
          "output_type": "stream",
          "text": [
            "Epoch 25: 100%|██████████| 3130/3130 [00:24<00:00, 130.18batch/s, train_loss=tensor(0.0307, device='cuda:0', grad_fn=<MseLossBackward0>)]\n"
          ]
        },
        {
          "name": "stdout",
          "output_type": "stream",
          "text": [
            "0.04734113702727729 0.9481741054961269 0.9163849794112224 0.94921875 0.8490566037735849 0.8490566037735849 0.8643222614222617 0.966422091214667 0.8963482109922537\n",
            "Epoch: 25 / 30, ############## the best accuracy in val  95.2416 at Epoch: 23  ##############\n",
            "Performance in Val: Loss: (0.0473); Accuracy (94.82)\n"
          ]
        },
        {
          "name": "stderr",
          "output_type": "stream",
          "text": [
            "Epoch 26: 100%|██████████| 3130/3130 [00:23<00:00, 133.24batch/s, train_loss=tensor(0.0254, device='cuda:0', grad_fn=<MseLossBackward0>)]\n"
          ]
        },
        {
          "name": "stdout",
          "output_type": "stream",
          "text": [
            "0.04746498860615226 0.950387310955367 0.9194572309009037 0.953198127925117 0.8539482879105521 0.8539482879105521 0.8702302561402004 0.966057364219739 0.900847769996314\n",
            "Epoch: 26 / 30, ############## the best accuracy in val  95.2416 at Epoch: 23  ##############\n",
            "Performance in Val: Loss: (0.0475); Accuracy (95.04)\n"
          ]
        },
        {
          "name": "stderr",
          "output_type": "stream",
          "text": [
            "Epoch 27: 100%|██████████| 3130/3130 [00:23<00:00, 132.14batch/s, train_loss=tensor(0.0170, device='cuda:0', grad_fn=<MseLossBackward0>)]\n"
          ]
        },
        {
          "name": "stdout",
          "output_type": "stream",
          "text": [
            "0.047697950316459806 0.9513094798967171 0.9216525092009082 0.9519752130131681 0.8588399720475192 0.8588399720475192 0.8726792443722489 0.9663301653037994 0.9030124908155768\n",
            "Epoch: 27 / 30, ############## the best accuracy in val  95.2416 at Epoch: 23  ##############\n",
            "Performance in Val: Loss: (0.0477); Accuracy (95.13)\n"
          ]
        },
        {
          "name": "stderr",
          "output_type": "stream",
          "text": [
            "Epoch 28: 100%|██████████| 3130/3130 [00:23<00:00, 130.86batch/s, train_loss=tensor(0.0424, device='cuda:0', grad_fn=<MseLossBackward0>)]\n"
          ]
        },
        {
          "name": "stdout",
          "output_type": "stream",
          "text": [
            "0.04644727348528561 0.951493913684987 0.9215536669596038 0.953416149068323 0.8581411600279525 0.8581411600279525 0.8731731650712458 0.9690732344840882 0.9032732622287606\n",
            "Epoch: 28 / 30, ############## the best accuracy in val  95.2416 at Epoch: 23  ##############\n",
            "Performance in Val: Loss: (0.0464); Accuracy (95.15)\n"
          ]
        },
        {
          "name": "stderr",
          "output_type": "stream",
          "text": [
            "Epoch 29: 100%|██████████| 3130/3130 [00:23<00:00, 132.51batch/s, train_loss=tensor(0.0192, device='cuda:0', grad_fn=<MseLossBackward0>)]\n"
          ]
        },
        {
          "name": "stdout",
          "output_type": "stream",
          "text": [
            "0.04712645924007273 0.950387310955367 0.9210260997797104 0.9483024691358025 0.8588399720475192 0.8588399720475192 0.8702270582377633 0.9668934522662014 0.9013568023469014\n",
            "Epoch: 29 / 30, ############## the best accuracy in val  95.2416 at Epoch: 23  ##############\n",
            "Performance in Val: Loss: (0.0471); Accuracy (95.04)\n"
          ]
        }
      ],
      "source": [
        "initial_epoch = 0\n",
        "best_epoch = -1\n",
        "best_accuracy = 0.5\n",
        "for epoch in range(initial_epoch, 30):\n",
        "    torch.cuda.empty_cache()\n",
        "    model.train()\n",
        "    with tqdm(train_loader, desc='Processing', unit=\"batch\") as tepoch:\n",
        "        for ESP_train_df_enzy,ESP_train_df_smiles, y_train in tepoch:\n",
        "            model.train()\n",
        "            tepoch.set_description(f\"Epoch {epoch}\")\n",
        "            ESP_train_df_enzy = ESP_train_df_enzy.to(device)\n",
        "            ESP_train_df_smiles = ESP_train_df_smiles.to(device)\n",
        "            y_train = y_train.squeeze(1).to(device)\n",
        "            refined_enzy_embed, refined_smiles_embed = model(ESP_train_df_enzy,ESP_train_df_smiles)\n",
        "            cosine_sim = torch.nn.functional.cosine_similarity(refined_enzy_embed, refined_smiles_embed, dim=1)\n",
        "            loss = loss_fn(cosine_sim, y_train)\n",
        "            loss.backward()\n",
        "            optimizer.step()\n",
        "            optimizer.zero_grad(set_to_none=True) #\n",
        "            tepoch.set_postfix(train_loss=loss)\n",
        "            # tepoch.set_postfix(val_loss=loss_sum_val, val_accuracy=100. * acc_val, balanced_val_accuracy=100. * bacc_val)\n",
        "        loss_sum_val,acc_val, bacc_val = run_validation(model,val_loader,loss_fn, device)\n",
        "        print('Epoch: %d / %d, ############## the best accuracy in val  %.4f at Epoch: %d  ##############'  % (epoch, 30,100 * best_accuracy,best_epoch))\n",
        "        # print('Performance in Train: Loss: (%.4f); Accuracy (%.2f)' % (loss_sum, 100 * acc))\n",
        "        print('Performance in Val: Loss: (%.4f); Accuracy (%.2f)' % (loss_sum_val, 100 * acc_val))\n",
        "        # checkpoint(model, f\"epoch-{epoch}.pth\")\n",
        "        if acc_val > best_accuracy: # compare the performance updates at the val set\n",
        "            best_accuracy = acc_val\n",
        "            best_epoch = epoch\n",
        "            torch.save(model, \"best_model.pt\")\n",
        "\n"
      ]
    },
    {
      "cell_type": "code",
      "execution_count": null,
      "metadata": {
        "colab": {
          "background_save": true
        },
        "id": "bxwJfHLbDmEw",
        "outputId": "1f37c6ef-3064-4291-a299-cd58ed79f661"
      },
      "outputs": [
        {
          "name": "stdout",
          "output_type": "stream",
          "text": [
            "0.0468038842183329 0.9524160826263371 0.9228524487574331 0.9550038789759504 0.8602375960866527 0.8602375960866527 0.8756294607388913 0.9663028501759987 0.9051470588235294\n"
          ]
        },
        {
          "data": {
            "text/plain": [
              "(0.0468038842183329, 0.9524160826263371, 0.9228524487574331)"
            ]
          },
          "execution_count": 71,
          "metadata": {},
          "output_type": "execute_result"
        }
      ],
      "source": [
        "import torch\n",
        "# Specify the file path where the entire model is saved\n",
        "load_path = 'best_model.pt'\n",
        "\n",
        "# Load the entire model\n",
        "model_test = torch.load(load_path)\n",
        "# model_test.to('cuda')\n",
        "# rename the baseline model\n",
        "torch.save(model_test, 'best_model_esm2_1280_fine_tuned.pt')\n",
        "run_validation(model_test,val_loader,loss_fn, device)"
      ]
    },
    {
      "cell_type": "code",
      "execution_count": null,
      "metadata": {
        "colab": {
          "background_save": true
        },
        "id": "qNu5Ip7SDmEw",
        "outputId": "100fee29-b948-47db-8324-d94355c18726"
      },
      "outputs": [
        {
          "name": "stdout",
          "output_type": "stream",
          "text": [
            "0.0468038842183329 0.9524160826263371 0.9228524487574331 0.9550038789759504 0.8602375960866527 0.8602375960866527 0.8756294607388913 0.9663028501759987 0.9051470588235294\n",
            "0.05134982314188038 0.9455608878224355 0.9132812699118837 0.9425761421319797 0.8449943117178612 0.8449943117178612 0.8572423068955304 0.9634896423449162 0.891121775644871\n"
          ]
        },
        {
          "data": {
            "text/plain": [
              "(0.05134982314188038, 0.9455608878224355, 0.9132812699118837)"
            ]
          },
          "execution_count": 72,
          "metadata": {},
          "output_type": "execute_result"
        }
      ],
      "source": [
        "run_validation(model_test,val_loader,loss_fn, device)\n",
        "run_validation(model_test,test_loader,loss_fn, device)"
      ]
    },
    {
      "cell_type": "code",
      "execution_count": null,
      "metadata": {
        "colab": {
          "background_save": true
        },
        "id": "E-5xoHfiDmEw"
      },
      "outputs": [],
      "source": []
    }
  ],
  "metadata": {
    "accelerator": "GPU",
    "colab": {
      "gpuType": "T4",
      "machine_shape": "hm",
      "provenance": [],
      "collapsed_sections": [
        "vNL1AZVsDuoM",
        "kqthfqyiHY2e",
        "s5HFKBfTC2JI",
        "W3wzb85TDrSx",
        "Kb_LgmlRDpwy"
      ]
    },
    "kernelspec": {
      "display_name": "Python 3",
      "name": "python3"
    },
    "language_info": {
      "name": "python"
    }
  },
  "nbformat": 4,
  "nbformat_minor": 0
}