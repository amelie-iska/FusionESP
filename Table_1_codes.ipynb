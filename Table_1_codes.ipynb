{
  "cells": [
    {
      "cell_type": "code",
      "execution_count": 1,
      "metadata": {
        "colab": {
          "base_uri": "https://localhost:8080/"
        },
        "id": "Pd7UjUAM_GUl",
        "outputId": "98207353-1e21-41e1-d4a4-6569fb727e69"
      },
      "outputs": [
        {
          "output_type": "stream",
          "name": "stdout",
          "text": [
            "Using device: cpu\n",
            "NOTE: If you have a GPU, consider using it for training.\n",
            "      On a Windows machine with NVidia GPU, check this video: https://www.youtube.com/watch?v=GMSjDTU8Zlc\n",
            "      On a Mac machine, run: pip3 install --pre torch torchvision torchaudio torchtext --index-url https://download.pytorch.org/whl/nightly/cpu\n"
          ]
        }
      ],
      "source": [
        "from sklearn.metrics import confusion_matrix\n",
        "from sklearn.metrics import roc_auc_score\n",
        "\n",
        "import numpy as np\n",
        "import pandas as pd\n",
        "\n",
        "from torch.utils.data import TensorDataset\n",
        "from torch.utils.data import DataLoader\n",
        "import torch\n",
        "import torch.nn as nn\n",
        "\n",
        "import warnings\n",
        "from tqdm import tqdm\n",
        "import os\n",
        "from pathlib import Path\n",
        "# Define the device\n",
        "device = \"cuda\" if torch.cuda.is_available() else \"mps\" if  torch.backends.mps.is_available() else \"cpu\" # torch.has_mps or\n",
        "print(\"Using device:\", device)\n",
        "if (device == 'cuda'):\n",
        "    print(f\"Device name: {torch.cuda.get_device_name(device.index)}\")\n",
        "    print(f\"Device memory: {torch.cuda.get_device_properties(device.index).total_memory / 1024 ** 3} GB\")\n",
        "elif (device == 'mps'):\n",
        "    print(f\"Device name: <mps>\")\n",
        "else:\n",
        "    print(\"NOTE: If you have a GPU, consider using it for training.\")\n",
        "    print(\"      On a Windows machine with NVidia GPU, check this video: https://www.youtube.com/watch?v=GMSjDTU8Zlc\")\n",
        "    print(\"      On a Mac machine, run: pip3 install --pre torch torchvision torchaudio torchtext --index-url https://download.pytorch.org/whl/nightly/cpu\")\n",
        "device = torch.device(device)"
      ]
    },
    {
      "cell_type": "code",
      "execution_count": 2,
      "metadata": {
        "colab": {
          "base_uri": "https://localhost:8080/"
        },
        "id": "nO2xJYE0-UXe",
        "outputId": "39478ea2-53d7-424e-ae6a-98f1cf97b688"
      },
      "outputs": [
        {
          "output_type": "stream",
          "name": "stdout",
          "text": [
            "Mounted at /content/drive\n"
          ]
        }
      ],
      "source": [
        "from google.colab import drive\n",
        "drive.mount('/content/drive')\n"
      ]
    },
    {
      "cell_type": "code",
      "execution_count": 3,
      "metadata": {
        "id": "3Hw_h2EJBRaS"
      },
      "outputs": [],
      "source": [
        "def run_validation(model, val_loader,loss_fn, device):\n",
        "    model.eval()\n",
        "    loss_sum = 0\n",
        "    num_batch = len(val_loader)\n",
        "    total_y_true=[]\n",
        "    total_y_pred=[]\n",
        "    total_y_prob=[]\n",
        "    for ESP_val_df_enzy,ESP_val_df_smiles, y_val in val_loader:\n",
        "\n",
        "        ESP_val_df_enzy = ESP_val_df_enzy.to(device)\n",
        "        ESP_val_df_smiles = ESP_val_df_smiles.to(device)\n",
        "        y_val = y_val.squeeze(1).to(device)\n",
        "\n",
        "        refined_enzy_embed, refined_smiles_embed = model(ESP_val_df_enzy,ESP_val_df_smiles)\n",
        "        cos_sim = torch.nn.functional.cosine_similarity(refined_enzy_embed, refined_smiles_embed, dim=1)\n",
        "        loss = loss_fn(cos_sim, y_val).detach().cpu().numpy()\n",
        "        loss_sum = loss_sum + loss # count all the loss in the training process\n",
        "        y_pred = (cos_sim > 0.5).float().cpu().numpy() # if score > 0.5, assign label 1 otherwise 0, transfer to cpu as numpy\n",
        "        total_y_true.append(y_val.cpu().numpy())\n",
        "        total_y_pred.append(y_pred)\n",
        "        total_y_prob.append(cos_sim.detach().cpu().numpy())\n",
        "\n",
        "    loss_sum = loss_sum/num_batch # get the overall average loss (Notice: this method is not 100% accurate)\n",
        "\n",
        "    arrange_y_true = np.concatenate(total_y_true, axis=0)\n",
        "    arrange_y_pred = np.concatenate(total_y_pred, axis=0)\n",
        "    arrange_y_prob = np.concatenate(total_y_prob, axis=0)\n",
        "    tn,fp,fn,tp = confusion_matrix(arrange_y_true, arrange_y_pred).ravel()\n",
        "    acc = (tp+tn)/(tp+tn+fp+fn)\n",
        "    specificity = tn/(tn+fp)\n",
        "    sensitivity = tp/(tp+fn)\n",
        "    recall = tp/(tp+fn)\n",
        "    precision = tp/(tp+fp)\n",
        "    bacc = (sensitivity + specificity)/2\n",
        "    MCC = (tp*tn-fp*fn)/np.sqrt((tp+fp)*(tp+fn)*(tn+fp)*(tn+fn))\n",
        "    AUC = roc_auc_score(arrange_y_true, arrange_y_prob)\n",
        "    f1 = 2*precision*recall/(precision+recall)\n",
        "    print(\"loss_sum= \",loss_sum, \"ACC= \",acc, \"bacc= \",bacc, \"precision= \",precision,\"specificity= \",specificity, \"sensitivity= \",sensitivity, \"recall= \",recall, \"MCC= \",MCC, \"AUC= \",AUC, \"f1= \",f1)\n",
        "    return loss_sum, acc, bacc   # , precision, sensitivity, recall, MCC, AUC, f1\n"
      ]
    },
    {
      "cell_type": "markdown",
      "metadata": {
        "id": "1Zhqa08VoxmS"
      },
      "source": [
        "### esm2 480 + MolFormer\n"
      ]
    },
    {
      "cell_type": "code",
      "execution_count": null,
      "metadata": {
        "id": "yhc1dtuwoxmS"
      },
      "outputs": [],
      "source": [
        "import os\n",
        "os.chdir('/content/drive/MyDrive/EC_number_kroll/esm2_480')"
      ]
    },
    {
      "cell_type": "code",
      "execution_count": null,
      "metadata": {
        "id": "KL3IdZaFoxmT"
      },
      "outputs": [],
      "source": [
        "import torch\n",
        "import torch.nn as nn\n",
        "\n",
        "class Contrastive_learning_layer(nn.Module):\n",
        "    def __init__(self):\n",
        "        super().__init__()\n",
        "        self.enzy_refine_layer_1 = nn.Linear(480, 480) # W1 and b\n",
        "        self.smiles_refine_layer_1 = nn.Linear(768, 768) # W1 and b\n",
        "        self.enzy_refine_layer_2 = nn.Linear(480, 128) # W1 and b\n",
        "        self.smiles_refine_layer_2 = nn.Linear(768, 128) # W1 and b\n",
        "\n",
        "        self.relu = nn.ReLU()\n",
        "        self.batch_norm_enzy = nn.BatchNorm1d(480)\n",
        "        self.batch_norm_smiles = nn.BatchNorm1d(768)\n",
        "        self.batch_norm_shared = nn.BatchNorm1d(128)\n",
        "\n",
        "    def forward(self, enzy_embed, smiles_embed):\n",
        "        refined_enzy_embed = self.enzy_refine_layer_1(enzy_embed)\n",
        "        refined_smiles_embed = self.smiles_refine_layer_1(smiles_embed)\n",
        "\n",
        "        refined_enzy_embed = self.batch_norm_enzy(refined_enzy_embed)\n",
        "        refined_smiles_embed = self.batch_norm_smiles(refined_smiles_embed)\n",
        "\n",
        "        refined_enzy_embed = self.relu(refined_enzy_embed)\n",
        "        refined_smiles_embed = self.relu(refined_smiles_embed)\n",
        "\n",
        "        refined_enzy_embed = self.enzy_refine_layer_2(refined_enzy_embed)\n",
        "        refined_smiles_embed = self.smiles_refine_layer_2(refined_smiles_embed)\n",
        "\n",
        "        refined_enzy_embed = self.batch_norm_shared(refined_enzy_embed)\n",
        "        refined_smiles_embed = self.batch_norm_shared(refined_smiles_embed)\n",
        "        refined_enzy_embed = torch.nn.functional.normalize(refined_enzy_embed, dim=1)\n",
        "        refined_smiles_embed = torch.nn.functional.normalize(refined_smiles_embed, dim=1)\n",
        "\n",
        "        return refined_enzy_embed, refined_smiles_embed\n"
      ]
    },
    {
      "cell_type": "code",
      "execution_count": null,
      "metadata": {
        "id": "cS1keeDtrrO_"
      },
      "outputs": [],
      "source": [
        "def get_ds():\n",
        "    # Load the saved embeddings_results\n",
        "    ESP_train_df_enzy = torch.load('ESP_train_df_enzy_esm2_480_MolFormer.pt')\n",
        "    ESP_val_df_enzy = torch.load('ESP_val_df_enzy_esm2_480_MolFormer.pt')\n",
        "    ESP_test_df_enzy = torch.load('ESP_test_df_enzy_esm2_480_MolFormer.pt')\n",
        "    print(ESP_train_df_enzy.shape, ESP_val_df_enzy.shape, ESP_test_df_enzy.shape)\n",
        "    # Load the saved embeddings_results\n",
        "    ESP_train_df_smiles = torch.load('ESP_train_df_smiles_esm2_480_MolFormer.pt')\n",
        "    ESP_val_df_smiles = torch.load('ESP_val_df_smiles_esm2_480_MolFormer.pt')\n",
        "    ESP_test_df_smiles = torch.load('ESP_test_df_smiles_esm2_480_MolFormer.pt')\n",
        "    print(ESP_train_df_smiles.shape, ESP_val_df_smiles.shape, ESP_test_df_smiles.shape)\n",
        "\n",
        "    y_train = torch.load( 'ESP_train_df_label_esm2_480_MolFormer.pt')\n",
        "    y_val = torch.load('ESP_val_df_label_esm2_480_MolFormer.pt')\n",
        "    y_test = torch.load('ESP_test_df_label_esm2_480_MolFormer.pt')\n",
        "    print(y_train.shape,y_val.shape, y_test.shape)\n",
        "\n",
        "\n",
        "    train_tensor_dataset = TensorDataset(ESP_train_df_enzy,ESP_train_df_smiles, y_train)\n",
        "    val_tensor_dataset = TensorDataset(ESP_val_df_enzy,ESP_val_df_smiles, y_val)\n",
        "    test_tensor_dataset = TensorDataset(ESP_test_df_enzy, ESP_test_df_smiles, y_test)\n",
        "\n",
        "    # Create TensorDataset and DataLoaders\n",
        "    batch_size = 16\n",
        "    train_loader = DataLoader(train_tensor_dataset, batch_size=batch_size, shuffle=True)\n",
        "    val_loader = DataLoader(val_tensor_dataset, batch_size=batch_size, shuffle=False)\n",
        "    test_loader = DataLoader(test_tensor_dataset, batch_size=batch_size, shuffle=False)\n",
        "    print(len(train_loader))\n",
        "    return train_loader,  val_loader, test_loader"
      ]
    },
    {
      "cell_type": "code",
      "execution_count": null,
      "metadata": {
        "colab": {
          "base_uri": "https://localhost:8080/"
        },
        "id": "oXCbaec-oxmT",
        "outputId": "d1aa15a3-e41a-49d6-ebad-934cb1a0cd7f"
      },
      "outputs": [
        {
          "output_type": "stream",
          "name": "stdout",
          "text": [
            "torch.Size([50077, 480]) torch.Size([5422, 480]) torch.Size([13336, 480])\n",
            "torch.Size([50077, 768]) torch.Size([5422, 768]) torch.Size([13336, 768])\n",
            "torch.Size([50077, 1]) torch.Size([5422, 1]) torch.Size([13336, 1])\n",
            "3130\n"
          ]
        }
      ],
      "source": [
        "# design the model, optimizer and loss function\n",
        "model = Contrastive_learning_layer().to(device)\n",
        "train_loader,  val_loader, test_loader = get_ds()\n",
        "optimizer = torch.optim.Adam(model.parameters(),lr= 1e-03)\n",
        "loss_fn = nn.MSELoss().to(device)"
      ]
    },
    {
      "cell_type": "code",
      "execution_count": null,
      "metadata": {
        "colab": {
          "base_uri": "https://localhost:8080/"
        },
        "id": "H-57PHLPoxmT",
        "outputId": "dcd0c6b2-d8ff-4734-f104-35723c3fee14"
      },
      "outputs": [
        {
          "metadata": {
            "tags": null
          },
          "name": "stderr",
          "output_type": "stream",
          "text": [
            "Epoch 0: 100%|██████████| 3130/3130 [00:24<00:00, 127.15batch/s, train_loss=tensor(0.2326, device='cuda:0', grad_fn=<MseLossBackward0>)]\n"
          ]
        },
        {
          "metadata": {
            "tags": null
          },
          "name": "stdout",
          "output_type": "stream",
          "text": [
            "loss_sum=  0.1473784355671972 ACC=  0.799151604573958 bacc=  0.6504259846709604 precision=  0.7766990291262136 specificity=  0.9654221999498872 sensitivity=  0.33542976939203356 recall=  0.33542976939203356 MCC=  0.41727061558130796 AUC=  0.8252109349460464 f1=  0.4685212298682284\n",
            "Epoch: 0 / 500, ############## the best accuracy in val  50.0000 at Epoch: -1  ##############\n",
            "Performance in Val: Loss: (0.1474); Accuracy (79.92)\n"
          ]
        },
        {
          "metadata": {
            "tags": null
          },
          "name": "stderr",
          "output_type": "stream",
          "text": [
            "Epoch 1: 100%|██████████| 3130/3130 [00:23<00:00, 131.55batch/s, train_loss=tensor(0.2078, device='cuda:0', grad_fn=<MseLossBackward0>)]\n"
          ]
        },
        {
          "metadata": {
            "tags": null
          },
          "name": "stdout",
          "output_type": "stream",
          "text": [
            "loss_sum=  0.13942457492680324 ACC=  0.816857248247879 bacc=  0.6770211137183051 precision=  0.8358895705521472 specificity=  0.9731896767727387 sensitivity=  0.3808525506638714 recall=  0.3808525506638714 MCC=  0.47976963516558246 AUC=  0.8538853405487296 f1=  0.5232837253960634\n",
            "Epoch: 1 / 500, ############## the best accuracy in val  79.9152 at Epoch: 0  ##############\n",
            "Performance in Val: Loss: (0.1394); Accuracy (81.69)\n"
          ]
        },
        {
          "metadata": {
            "tags": null
          },
          "name": "stderr",
          "output_type": "stream",
          "text": [
            "Epoch 2: 100%|██████████| 3130/3130 [00:24<00:00, 126.99batch/s, train_loss=tensor(0.1807, device='cuda:0', grad_fn=<MseLossBackward0>)]\n"
          ]
        },
        {
          "metadata": {
            "tags": null
          },
          "name": "stdout",
          "output_type": "stream",
          "text": [
            "loss_sum=  0.12269547519035044 ACC=  0.8384360014754703 bacc=  0.7322455608977642 precision=  0.8093645484949833 specificity=  0.9571535955900776 sensitivity=  0.5073375262054507 recall=  0.5073375262054507 MCC=  0.5509758770094789 AUC=  0.877579462946066 f1=  0.6237113402061855\n",
            "Epoch: 2 / 500, ############## the best accuracy in val  81.6857 at Epoch: 1  ##############\n",
            "Performance in Val: Loss: (0.1227); Accuracy (83.84)\n"
          ]
        },
        {
          "metadata": {
            "tags": null
          },
          "name": "stderr",
          "output_type": "stream",
          "text": [
            "Epoch 3: 100%|██████████| 3130/3130 [00:24<00:00, 125.42batch/s, train_loss=tensor(0.1257, device='cuda:0', grad_fn=<MseLossBackward0>)]\n"
          ]
        },
        {
          "metadata": {
            "tags": null
          },
          "name": "stdout",
          "output_type": "stream",
          "text": [
            "loss_sum=  0.11459334216913027 ACC=  0.8535595721136112 bacc=  0.7595521089467374 precision=  0.8293691830403309 specificity=  0.9586569782009522 sensitivity=  0.5604472396925227 recall=  0.5604472396925227 MCC=  0.5976929692904216 AUC=  0.8994354173199972 f1=  0.6688907422852377\n",
            "Epoch: 3 / 500, ############## the best accuracy in val  83.8436 at Epoch: 2  ##############\n",
            "Performance in Val: Loss: (0.1146); Accuracy (85.36)\n"
          ]
        },
        {
          "metadata": {
            "tags": null
          },
          "name": "stderr",
          "output_type": "stream",
          "text": [
            "Epoch 4: 100%|██████████| 3130/3130 [00:24<00:00, 126.83batch/s, train_loss=tensor(0.1064, device='cuda:0', grad_fn=<MseLossBackward0>)]\n"
          ]
        },
        {
          "metadata": {
            "tags": null
          },
          "name": "stdout",
          "output_type": "stream",
          "text": [
            "loss_sum=  0.10815682087730957 ACC=  0.8624123939505718 bacc=  0.7805819558016718 precision=  0.8252611585944919 specificity=  0.9538962665998496 sensitivity=  0.6072676450034941 recall=  0.6072676450034941 MCC=  0.6252377717272865 AUC=  0.915777743108577 f1=  0.6996779388083736\n",
            "Epoch: 4 / 500, ############## the best accuracy in val  85.3560 at Epoch: 3  ##############\n",
            "Performance in Val: Loss: (0.1082); Accuracy (86.24)\n"
          ]
        },
        {
          "metadata": {
            "tags": null
          },
          "name": "stderr",
          "output_type": "stream",
          "text": [
            "Epoch 5: 100%|██████████| 3130/3130 [00:24<00:00, 128.21batch/s, train_loss=tensor(0.0712, device='cuda:0', grad_fn=<MseLossBackward0>)]\n"
          ]
        },
        {
          "metadata": {
            "tags": null
          },
          "name": "stdout",
          "output_type": "stream",
          "text": [
            "loss_sum=  0.10611297148568309 ACC=  0.8679454075986721 bacc=  0.7865816535842963 precision=  0.8427612655800575 specificity=  0.9589075419694312 sensitivity=  0.6142557651991615 recall=  0.6142557651991615 MCC=  0.640928278916666 AUC=  0.912926288901951 f1=  0.7105901374292644\n",
            "Epoch: 5 / 500, ############## the best accuracy in val  86.2412 at Epoch: 4  ##############\n",
            "Performance in Val: Loss: (0.1061); Accuracy (86.79)\n"
          ]
        },
        {
          "metadata": {
            "tags": null
          },
          "name": "stderr",
          "output_type": "stream",
          "text": [
            "Epoch 6: 100%|██████████| 3130/3130 [00:24<00:00, 128.16batch/s, train_loss=tensor(0.0897, device='cuda:0', grad_fn=<MseLossBackward0>)]\n"
          ]
        },
        {
          "metadata": {
            "tags": null
          },
          "name": "stdout",
          "output_type": "stream",
          "text": [
            "loss_sum=  0.10294639962865451 ACC=  0.8762449280708225 bacc=  0.8081321512886874 precision=  0.8333333333333334 specificity=  0.9523928839889751 sensitivity=  0.6638714185883997 recall=  0.6638714185883997 MCC=  0.6665794725676828 AUC=  0.9154384051747458 f1=  0.7390120575651498\n",
            "Epoch: 6 / 500, ############## the best accuracy in val  86.7945 at Epoch: 5  ##############\n",
            "Performance in Val: Loss: (0.1029); Accuracy (87.62)\n"
          ]
        },
        {
          "metadata": {
            "tags": null
          },
          "name": "stderr",
          "output_type": "stream",
          "text": [
            "Epoch 7: 100%|██████████| 3130/3130 [00:24<00:00, 127.87batch/s, train_loss=tensor(0.1820, device='cuda:0', grad_fn=<MseLossBackward0>)]\n"
          ]
        },
        {
          "metadata": {
            "tags": null
          },
          "name": "stdout",
          "output_type": "stream",
          "text": [
            "loss_sum=  0.09798203671081843 ACC=  0.8815935079306529 bacc=  0.815799560191423 precision=  0.8439407149084568 specificity=  0.9551490854422451 sensitivity=  0.676450034940601 recall=  0.676450034940601 MCC=  0.6816358580360294 AUC=  0.9230838394073598 f1=  0.7509697439875872\n",
            "Epoch: 7 / 500, ############## the best accuracy in val  87.6245 at Epoch: 6  ##############\n",
            "Performance in Val: Loss: (0.0980); Accuracy (88.16)\n"
          ]
        },
        {
          "metadata": {
            "tags": null
          },
          "name": "stderr",
          "output_type": "stream",
          "text": [
            "Epoch 8: 100%|██████████| 3130/3130 [00:25<00:00, 124.63batch/s, train_loss=tensor(0.0725, device='cuda:0', grad_fn=<MseLossBackward0>)]\n"
          ]
        },
        {
          "metadata": {
            "tags": null
          },
          "name": "stdout",
          "output_type": "stream",
          "text": [
            "loss_sum=  0.09569543030574522 ACC=  0.8839911471781631 bacc=  0.8322204169724298 precision=  0.8167456556082149 specificity=  0.9418692057128539 sensitivity=  0.7225716282320056 recall=  0.7225716282320056 MCC=  0.6922490575170422 AUC=  0.9251028826039582 f1=  0.7667779013718947\n",
            "Epoch: 8 / 500, ############## the best accuracy in val  88.1594 at Epoch: 7  ##############\n",
            "Performance in Val: Loss: (0.0957); Accuracy (88.40)\n"
          ]
        },
        {
          "metadata": {
            "tags": null
          },
          "name": "stderr",
          "output_type": "stream",
          "text": [
            "Epoch 9: 100%|██████████| 3130/3130 [00:24<00:00, 126.43batch/s, train_loss=tensor(0.0525, device='cuda:0', grad_fn=<MseLossBackward0>)]\n"
          ]
        },
        {
          "metadata": {
            "tags": null
          },
          "name": "stdout",
          "output_type": "stream",
          "text": [
            "loss_sum=  0.09109311006622592 ACC=  0.8924751014385836 bacc=  0.8397763766517992 precision=  0.843042071197411 specificity=  0.9513906289150589 sensitivity=  0.7281621243885394 recall=  0.7281621243885394 MCC=  0.7139618559269866 AUC=  0.9340695985954421 f1=  0.7814023247094114\n",
            "Epoch: 9 / 500, ############## the best accuracy in val  88.3991 at Epoch: 8  ##############\n",
            "Performance in Val: Loss: (0.0911); Accuracy (89.25)\n"
          ]
        },
        {
          "metadata": {
            "tags": null
          },
          "name": "stderr",
          "output_type": "stream",
          "text": [
            "Epoch 10: 100%|██████████| 3130/3130 [00:24<00:00, 128.76batch/s, train_loss=tensor(0.0388, device='cuda:0', grad_fn=<MseLossBackward0>)]\n"
          ]
        },
        {
          "metadata": {
            "tags": null
          },
          "name": "stdout",
          "output_type": "stream",
          "text": [
            "loss_sum=  0.09252684491832128 ACC=  0.8921062338620436 bacc=  0.8417670541387584 precision=  0.8362480127186009 specificity=  0.94838386369331 sensitivity=  0.7351502445842069 recall=  0.7351502445842069 MCC=  0.7137156017438961 AUC=  0.9333040746291315 f1=  0.7824470063220529\n",
            "Epoch: 10 / 500, ############## the best accuracy in val  89.2475 at Epoch: 9  ##############\n",
            "Performance in Val: Loss: (0.0925); Accuracy (89.21)\n"
          ]
        },
        {
          "metadata": {
            "tags": null
          },
          "name": "stderr",
          "output_type": "stream",
          "text": [
            "Epoch 11: 100%|██████████| 3130/3130 [00:24<00:00, 129.53batch/s, train_loss=tensor(0.0548, device='cuda:0', grad_fn=<MseLossBackward0>)]\n"
          ]
        },
        {
          "metadata": {
            "tags": null
          },
          "name": "stdout",
          "output_type": "stream",
          "text": [
            "loss_sum=  0.09007877719129785 ACC=  0.8956104758391737 bacc=  0.8457162788181165 precision=  0.8451715881883479 specificity=  0.9513906289150589 sensitivity=  0.740041928721174 recall=  0.740041928721174 MCC=  0.722967913661487 AUC=  0.9331316041106466 f1=  0.7891207153502237\n",
            "Epoch: 11 / 500, ############## the best accuracy in val  89.2475 at Epoch: 9  ##############\n",
            "Performance in Val: Loss: (0.0901); Accuracy (89.56)\n"
          ]
        },
        {
          "metadata": {
            "tags": null
          },
          "name": "stderr",
          "output_type": "stream",
          "text": [
            "Epoch 12: 100%|██████████| 3130/3130 [00:24<00:00, 128.85batch/s, train_loss=tensor(0.0667, device='cuda:0', grad_fn=<MseLossBackward0>)]\n"
          ]
        },
        {
          "metadata": {
            "tags": null
          },
          "name": "stdout",
          "output_type": "stream",
          "text": [
            "loss_sum=  0.08776905095468449 ACC=  0.898930284028034 bacc=  0.8542468282496554 precision=  0.8419829589465531 specificity=  0.9488849912302681 sensitivity=  0.7596086652690426 recall=  0.7596086652690426 MCC=  0.733172097052255 AUC=  0.9374524721153694 f1=  0.798677443056576\n",
            "Epoch: 12 / 500, ############## the best accuracy in val  89.5610 at Epoch: 11  ##############\n",
            "Performance in Val: Loss: (0.0878); Accuracy (89.89)\n"
          ]
        },
        {
          "metadata": {
            "tags": null
          },
          "name": "stderr",
          "output_type": "stream",
          "text": [
            "Epoch 13: 100%|██████████| 3130/3130 [00:24<00:00, 130.14batch/s, train_loss=tensor(0.0308, device='cuda:0', grad_fn=<MseLossBackward0>)]\n"
          ]
        },
        {
          "metadata": {
            "tags": null
          },
          "name": "stdout",
          "output_type": "stream",
          "text": [
            "loss_sum=  0.08637640807794127 ACC=  0.9028033935817041 bacc=  0.8573259960697734 precision=  0.8547880690737834 specificity=  0.9536457028313706 sensitivity=  0.7610062893081762 recall=  0.7610062893081762 MCC=  0.7429356550997184 AUC=  0.9398878959139545 f1=  0.8051756007393716\n",
            "Epoch: 13 / 500, ############## the best accuracy in val  89.8930 at Epoch: 12  ##############\n",
            "Performance in Val: Loss: (0.0864); Accuracy (90.28)\n"
          ]
        },
        {
          "metadata": {
            "tags": null
          },
          "name": "stderr",
          "output_type": "stream",
          "text": [
            "Epoch 14: 100%|██████████| 3130/3130 [00:24<00:00, 129.21batch/s, train_loss=tensor(0.1046, device='cuda:0', grad_fn=<MseLossBackward0>)]\n"
          ]
        },
        {
          "metadata": {
            "tags": null
          },
          "name": "stdout",
          "output_type": "stream",
          "text": [
            "loss_sum=  0.08785446181448292 ACC=  0.8969015123570638 bacc=  0.8492827415143192 precision=  0.8433070866141732 specificity=  0.9501378100726635 sensitivity=  0.7484276729559748 recall=  0.7484276729559748 MCC=  0.7270047873073662 AUC=  0.9366341564116747 f1=  0.7930396149574231\n",
            "Epoch: 14 / 500, ############## the best accuracy in val  90.2803 at Epoch: 13  ##############\n",
            "Performance in Val: Loss: (0.0879); Accuracy (89.69)\n"
          ]
        },
        {
          "metadata": {
            "tags": null
          },
          "name": "stderr",
          "output_type": "stream",
          "text": [
            "Epoch 15: 100%|██████████| 3130/3130 [00:24<00:00, 127.73batch/s, train_loss=tensor(0.0727, device='cuda:0', grad_fn=<MseLossBackward0>)]\n"
          ]
        },
        {
          "metadata": {
            "tags": null
          },
          "name": "stdout",
          "output_type": "stream",
          "text": [
            "loss_sum=  0.08467182534222098 ACC=  0.9026189597934342 bacc=  0.8560800935578147 precision=  0.8569169960474309 specificity=  0.9546479579052869 sensitivity=  0.7575122292103424 recall=  0.7575122292103424 MCC=  0.7421694898837828 AUC=  0.9422047790617638 f1=  0.8041543026706233\n",
            "Epoch: 15 / 500, ############## the best accuracy in val  90.2803 at Epoch: 13  ##############\n",
            "Performance in Val: Loss: (0.0847); Accuracy (90.26)\n"
          ]
        },
        {
          "metadata": {
            "tags": null
          },
          "name": "stderr",
          "output_type": "stream",
          "text": [
            "Epoch 16: 100%|██████████| 3130/3130 [00:25<00:00, 125.07batch/s, train_loss=tensor(0.0942, device='cuda:0', grad_fn=<MseLossBackward0>)]\n"
          ]
        },
        {
          "metadata": {
            "tags": null
          },
          "name": "stdout",
          "output_type": "stream",
          "text": [
            "loss_sum=  0.08457571380444773 ACC=  0.9024345260051642 bacc=  0.8629026595654339 precision=  0.8396084337349398 specificity=  0.9466299173139564 sensitivity=  0.7791754018169113 recall=  0.7791754018169113 MCC=  0.7438885443064667 AUC=  0.9431672871227907 f1=  0.8082638637187387\n",
            "Epoch: 16 / 500, ############## the best accuracy in val  90.2803 at Epoch: 13  ##############\n",
            "Performance in Val: Loss: (0.0846); Accuracy (90.24)\n"
          ]
        },
        {
          "metadata": {
            "tags": null
          },
          "name": "stderr",
          "output_type": "stream",
          "text": [
            "Epoch 17: 100%|██████████| 3130/3130 [00:24<00:00, 129.54batch/s, train_loss=tensor(0.0882, device='cuda:0', grad_fn=<MseLossBackward0>)]\n"
          ]
        },
        {
          "metadata": {
            "tags": null
          },
          "name": "stdout",
          "output_type": "stream",
          "text": [
            "loss_sum=  0.084050376770419 ACC=  0.9070453707119144 bacc=  0.8640175895415279 precision=  0.8607003891050584 specificity=  0.9551490854422451 sensitivity=  0.7728860936408106 recall=  0.7728860936408106 MCC=  0.7546033374692187 AUC=  0.9388854657430652 f1=  0.8144329896907216\n",
            "Epoch: 17 / 500, ############## the best accuracy in val  90.2803 at Epoch: 13  ##############\n",
            "Performance in Val: Loss: (0.0841); Accuracy (90.70)\n"
          ]
        },
        {
          "metadata": {
            "tags": null
          },
          "name": "stderr",
          "output_type": "stream",
          "text": [
            "Epoch 18: 100%|██████████| 3130/3130 [00:24<00:00, 129.30batch/s, train_loss=tensor(0.0465, device='cuda:0', grad_fn=<MseLossBackward0>)]\n"
          ]
        },
        {
          "metadata": {
            "tags": null
          },
          "name": "stdout",
          "output_type": "stream",
          "text": [
            "loss_sum=  0.08337764011745431 ACC=  0.9037255625230542 bacc=  0.8610901432485847 precision=  0.8504240555127217 specificity=  0.9513906289150589 sensitivity=  0.7707896575821104 recall=  0.7707896575821104 MCC=  0.7461469112394582 AUC=  0.9422522303414688 f1=  0.8086510263929618\n",
            "Epoch: 18 / 500, ############## the best accuracy in val  90.7045 at Epoch: 17  ##############\n",
            "Performance in Val: Loss: (0.0834); Accuracy (90.37)\n"
          ]
        },
        {
          "metadata": {
            "tags": null
          },
          "name": "stderr",
          "output_type": "stream",
          "text": [
            "Epoch 19: 100%|██████████| 3130/3130 [00:24<00:00, 129.02batch/s, train_loss=tensor(0.0835, device='cuda:0', grad_fn=<MseLossBackward0>)]\n"
          ]
        },
        {
          "metadata": {
            "tags": null
          },
          "name": "stdout",
          "output_type": "stream",
          "text": [
            "loss_sum=  0.08183995307942407 ACC=  0.9063076355588344 bacc=  0.8691195651431654 precision=  0.8446601941747572 specificity=  0.9478827361563518 sensitivity=  0.790356394129979 recall=  0.790356394129979 MCC=  0.7545321744396606 AUC=  0.9436768193144567 f1=  0.8166064981949459\n",
            "Epoch: 19 / 500, ############## the best accuracy in val  90.7045 at Epoch: 17  ##############\n",
            "Performance in Val: Loss: (0.0818); Accuracy (90.63)\n"
          ]
        },
        {
          "metadata": {
            "tags": null
          },
          "name": "stderr",
          "output_type": "stream",
          "text": [
            "Epoch 20: 100%|██████████| 3130/3130 [00:24<00:00, 128.35batch/s, train_loss=tensor(0.0646, device='cuda:0', grad_fn=<MseLossBackward0>)]\n"
          ]
        },
        {
          "metadata": {
            "tags": null
          },
          "name": "stdout",
          "output_type": "stream",
          "text": [
            "loss_sum=  0.08254321567868061 ACC=  0.9101807451125046 bacc=  0.8706298640844765 precision=  0.8608562691131498 specificity=  0.9543973941368078 sensitivity=  0.7868623340321453 recall=  0.7868623340321453 MCC=  0.7636512572761237 AUC=  0.9430191550835642 f1=  0.8221978824388463\n",
            "Epoch: 20 / 500, ############## the best accuracy in val  90.7045 at Epoch: 17  ##############\n",
            "Performance in Val: Loss: (0.0825); Accuracy (91.02)\n"
          ]
        },
        {
          "metadata": {
            "tags": null
          },
          "name": "stderr",
          "output_type": "stream",
          "text": [
            "Epoch 21: 100%|██████████| 3130/3130 [00:24<00:00, 127.99batch/s, train_loss=tensor(0.0288, device='cuda:0', grad_fn=<MseLossBackward0>)]\n"
          ]
        },
        {
          "metadata": {
            "tags": null
          },
          "name": "stdout",
          "output_type": "stream",
          "text": [
            "loss_sum=  0.08129674944598063 ACC=  0.9070453707119144 bacc=  0.8664829549225099 precision=  0.854628921193573 specificity=  0.9523928839889751 sensitivity=  0.7805730258560447 recall=  0.7805730258560447 MCC=  0.7553039281032938 AUC=  0.9436531812230909 f1=  0.8159240321402483\n",
            "Epoch: 21 / 500, ############## the best accuracy in val  91.0181 at Epoch: 20  ##############\n",
            "Performance in Val: Loss: (0.0813); Accuracy (90.70)\n"
          ]
        },
        {
          "metadata": {
            "tags": null
          },
          "name": "stderr",
          "output_type": "stream",
          "text": [
            "Epoch 22: 100%|██████████| 3130/3130 [00:24<00:00, 127.89batch/s, train_loss=tensor(0.0604, device='cuda:0', grad_fn=<MseLossBackward0>)]\n"
          ]
        },
        {
          "metadata": {
            "tags": null
          },
          "name": "stdout",
          "output_type": "stream",
          "text": [
            "loss_sum=  0.08032724820901599 ACC=  0.9114717816303947 bacc=  0.8710585890230658 precision=  0.866615265998458 specificity=  0.9566524680531195 sensitivity=  0.7854647099930119 recall=  0.7854647099930119 MCC=  0.7667454381268748 AUC=  0.9426083775847159 f1=  0.8240469208211143\n",
            "Epoch: 22 / 500, ############## the best accuracy in val  91.0181 at Epoch: 20  ##############\n",
            "Performance in Val: Loss: (0.0803); Accuracy (91.15)\n"
          ]
        },
        {
          "metadata": {
            "tags": null
          },
          "name": "stderr",
          "output_type": "stream",
          "text": [
            "Epoch 23: 100%|██████████| 3130/3130 [00:24<00:00, 129.53batch/s, train_loss=tensor(0.0158, device='cuda:0', grad_fn=<MseLossBackward0>)]\n"
          ]
        },
        {
          "metadata": {
            "tags": null
          },
          "name": "stdout",
          "output_type": "stream",
          "text": [
            "loss_sum=  0.08137416597428267 ACC=  0.9079675396532645 bacc=  0.8671093643437077 precision=  0.857910906298003 specificity=  0.9536457028313706 sensitivity=  0.7805730258560447 recall=  0.7805730258560447 MCC=  0.7575861720960637 AUC=  0.941976452608866 f1=  0.8174167581412368\n",
            "Epoch: 23 / 500, ############## the best accuracy in val  91.1472 at Epoch: 22  ##############\n",
            "Performance in Val: Loss: (0.0814); Accuracy (90.80)\n"
          ]
        },
        {
          "metadata": {
            "tags": null
          },
          "name": "stderr",
          "output_type": "stream",
          "text": [
            "Epoch 24: 100%|██████████| 3130/3130 [00:24<00:00, 125.37batch/s, train_loss=tensor(0.0553, device='cuda:0', grad_fn=<MseLossBackward0>)]\n"
          ]
        },
        {
          "metadata": {
            "tags": null
          },
          "name": "stdout",
          "output_type": "stream",
          "text": [
            "loss_sum=  0.07751347658095283 ACC=  0.9118406492069348 bacc=  0.874895138800246 precision=  0.8590806330067822 specificity=  0.9531445752944124 sensitivity=  0.7966457023060797 recall=  0.7966457023060797 MCC=  0.7686667069391389 AUC=  0.9479913838281485 f1=  0.8266860043509789\n",
            "Epoch: 24 / 500, ############## the best accuracy in val  91.1472 at Epoch: 22  ##############\n",
            "Performance in Val: Loss: (0.0775); Accuracy (91.18)\n"
          ]
        },
        {
          "metadata": {
            "tags": null
          },
          "name": "stderr",
          "output_type": "stream",
          "text": [
            "Epoch 25: 100%|██████████| 3130/3130 [00:25<00:00, 124.52batch/s, train_loss=tensor(0.0255, device='cuda:0', grad_fn=<MseLossBackward0>)]\n"
          ]
        },
        {
          "metadata": {
            "tags": null
          },
          "name": "stdout",
          "output_type": "stream",
          "text": [
            "loss_sum=  0.07910880280636624 ACC=  0.9122095167834747 bacc=  0.8731285854388307 precision=  0.8653404743687835 specificity=  0.9559007767476823 sensitivity=  0.790356394129979 recall=  0.790356394129979 MCC=  0.7690002563125048 AUC=  0.9463929235608912 f1=  0.8261504747991234\n",
            "Epoch: 25 / 500, ############## the best accuracy in val  91.1841 at Epoch: 24  ##############\n",
            "Performance in Val: Loss: (0.0791); Accuracy (91.22)\n"
          ]
        },
        {
          "metadata": {
            "tags": null
          },
          "name": "stderr",
          "output_type": "stream",
          "text": [
            "Epoch 26: 100%|██████████| 3130/3130 [00:24<00:00, 127.27batch/s, train_loss=tensor(0.0756, device='cuda:0', grad_fn=<MseLossBackward0>)]\n"
          ]
        },
        {
          "metadata": {
            "tags": null
          },
          "name": "stdout",
          "output_type": "stream",
          "text": [
            "loss_sum=  0.07885900495716736 ACC=  0.9129472519365548 bacc=  0.8700437269670875 precision=  0.8772619984264359 specificity=  0.9609120521172638 sensitivity=  0.7791754018169113 recall=  0.7791754018169113 MCC=  0.7700068361220213 AUC=  0.9461061147189842 f1=  0.8253145817912657\n",
            "Epoch: 26 / 500, ############## the best accuracy in val  91.2210 at Epoch: 25  ##############\n",
            "Performance in Val: Loss: (0.0789); Accuracy (91.29)\n"
          ]
        },
        {
          "metadata": {
            "tags": null
          },
          "name": "stderr",
          "output_type": "stream",
          "text": [
            "Epoch 27: 100%|██████████| 3130/3130 [00:24<00:00, 126.40batch/s, train_loss=tensor(0.0426, device='cuda:0', grad_fn=<MseLossBackward0>)]\n"
          ]
        },
        {
          "metadata": {
            "tags": null
          },
          "name": "stdout",
          "output_type": "stream",
          "text": [
            "loss_sum=  0.0778519952048858 ACC=  0.9140538546661748 bacc=  0.8748296525323137 precision=  0.8708685626441199 specificity=  0.9579052868955149 sensitivity=  0.7917540181691125 recall=  0.7917540181691125 MCC=  0.7737214930893661 AUC=  0.9455335476170089 f1=  0.8294289897510981\n",
            "Epoch: 27 / 500, ############## the best accuracy in val  91.2947 at Epoch: 26  ##############\n",
            "Performance in Val: Loss: (0.0779); Accuracy (91.41)\n"
          ]
        },
        {
          "metadata": {
            "tags": null
          },
          "name": "stderr",
          "output_type": "stream",
          "text": [
            "Epoch 28: 100%|██████████| 3130/3130 [00:24<00:00, 126.85batch/s, train_loss=tensor(0.0772, device='cuda:0', grad_fn=<MseLossBackward0>)]\n"
          ]
        },
        {
          "metadata": {
            "tags": null
          },
          "name": "stdout",
          "output_type": "stream",
          "text": [
            "loss_sum=  0.07639065917696705 ACC=  0.9147915898192549 bacc=  0.8822786279611305 precision=  0.8565121412803532 specificity=  0.9511400651465798 sensitivity=  0.8134171907756813 recall=  0.8134171907756813 MCC=  0.777566524997299 AUC=  0.950476710264062 f1=  0.8344086021505377\n",
            "Epoch: 28 / 500, ############## the best accuracy in val  91.4054 at Epoch: 27  ##############\n",
            "Performance in Val: Loss: (0.0764); Accuracy (91.48)\n"
          ]
        },
        {
          "metadata": {
            "tags": null
          },
          "name": "stderr",
          "output_type": "stream",
          "text": [
            "Epoch 29: 100%|██████████| 3130/3130 [00:24<00:00, 127.64batch/s, train_loss=tensor(0.1090, device='cuda:0', grad_fn=<MseLossBackward0>)]\n"
          ]
        },
        {
          "metadata": {
            "tags": null
          },
          "name": "stdout",
          "output_type": "stream",
          "text": [
            "loss_sum=  0.07797370316284903 ACC=  0.9131316857248248 bacc=  0.8728584983578531 precision=  0.8709428129829985 specificity=  0.958155850663994 sensitivity=  0.7875611460517121 recall=  0.7875611460517121 MCC=  0.7710769842498376 AUC=  0.9451800268283582 f1=  0.8271559633027523\n",
            "Epoch: 29 / 500, ############## the best accuracy in val  91.4792 at Epoch: 28  ##############\n",
            "Performance in Val: Loss: (0.0780); Accuracy (91.31)\n"
          ]
        },
        {
          "metadata": {
            "tags": null
          },
          "name": "stderr",
          "output_type": "stream",
          "text": [
            "Epoch 30: 100%|██████████| 3130/3130 [00:24<00:00, 125.70batch/s, train_loss=tensor(0.0501, device='cuda:0', grad_fn=<MseLossBackward0>)]\n"
          ]
        },
        {
          "metadata": {
            "tags": null
          },
          "name": "stdout",
          "output_type": "stream",
          "text": [
            "loss_sum=  0.07774782861558209 ACC=  0.9142382884544449 bacc=  0.8771961756719915 precision=  0.865909090909091 specificity=  0.9556502129792032 sensitivity=  0.7987421383647799 recall=  0.7987421383647799 MCC=  0.7747706559383489 AUC=  0.9456566407890851 f1=  0.8309705561613959\n",
            "Epoch: 30 / 500, ############## the best accuracy in val  91.4792 at Epoch: 28  ##############\n",
            "Performance in Val: Loss: (0.0777); Accuracy (91.42)\n"
          ]
        },
        {
          "metadata": {
            "tags": null
          },
          "name": "stderr",
          "output_type": "stream",
          "text": [
            "Epoch 31: 100%|██████████| 3130/3130 [00:24<00:00, 128.86batch/s, train_loss=tensor(0.0791, device='cuda:0', grad_fn=<MseLossBackward0>)]\n"
          ]
        },
        {
          "metadata": {
            "tags": null
          },
          "name": "stdout",
          "output_type": "stream",
          "text": [
            "loss_sum=  0.07809033602748099 ACC=  0.9133161195130948 bacc=  0.8765697662507939 precision=  0.8626415094339622 specificity=  0.9543973941368078 sensitivity=  0.7987421383647799 recall=  0.7987421383647799 MCC=  0.7724941586147162 AUC=  0.9428328519042061 f1=  0.8294629898403484\n",
            "Epoch: 31 / 500, ############## the best accuracy in val  91.4792 at Epoch: 28  ##############\n",
            "Performance in Val: Loss: (0.0781); Accuracy (91.33)\n"
          ]
        },
        {
          "metadata": {
            "tags": null
          },
          "name": "stderr",
          "output_type": "stream",
          "text": [
            "Epoch 32: 100%|██████████| 3130/3130 [00:24<00:00, 127.42batch/s, train_loss=tensor(0.0945, device='cuda:0', grad_fn=<MseLossBackward0>)]\n"
          ]
        },
        {
          "metadata": {
            "tags": null
          },
          "name": "stdout",
          "output_type": "stream",
          "text": [
            "loss_sum=  0.07542257191706724 ACC=  0.914976023607525 bacc=  0.8797144203388442 precision=  0.863568215892054 specificity=  0.9543973941368078 sensitivity=  0.8050314465408805 recall=  0.8050314465408805 MCC=  0.7771671025502406 AUC=  0.9489069659003897 f1=  0.8332730560578663\n",
            "Epoch: 32 / 500, ############## the best accuracy in val  91.4792 at Epoch: 28  ##############\n",
            "Performance in Val: Loss: (0.0754); Accuracy (91.50)\n"
          ]
        },
        {
          "metadata": {
            "tags": null
          },
          "name": "stderr",
          "output_type": "stream",
          "text": [
            "Epoch 33: 100%|██████████| 3130/3130 [00:24<00:00, 130.24batch/s, train_loss=tensor(0.0748, device='cuda:0', grad_fn=<MseLossBackward0>)]\n"
          ]
        },
        {
          "metadata": {
            "tags": null
          },
          "name": "stdout",
          "output_type": "stream",
          "text": [
            "loss_sum=  0.07556354978250938 ACC=  0.9122095167834747 bacc=  0.8733527095643745 precision=  0.8647822765469825 specificity=  0.9556502129792032 sensitivity=  0.7910552061495457 recall=  0.7910552061495457 MCC=  0.7690610311690115 AUC=  0.9501543567366195 f1=  0.8262773722627738\n",
            "Epoch: 33 / 500, ############## the best accuracy in val  91.4976 at Epoch: 32  ##############\n",
            "Performance in Val: Loss: (0.0756); Accuracy (91.22)\n"
          ]
        },
        {
          "metadata": {
            "tags": null
          },
          "name": "stderr",
          "output_type": "stream",
          "text": [
            "Epoch 34: 100%|██████████| 3130/3130 [00:25<00:00, 125.09batch/s, train_loss=tensor(0.1149, device='cuda:0', grad_fn=<MseLossBackward0>)]\n"
          ]
        },
        {
          "metadata": {
            "tags": null
          },
          "name": "stdout",
          "output_type": "stream",
          "text": [
            "loss_sum=  0.07650998813460051 ACC=  0.9131316857248248 bacc=  0.876668608492098 precision=  0.8614457831325302 specificity=  0.9538962665998496 sensitivity=  0.7994409503843466 recall=  0.7994409503843466 MCC=  0.7721063912638739 AUC=  0.9461686243383742 f1=  0.829285973178688\n",
            "Epoch: 34 / 500, ############## the best accuracy in val  91.4976 at Epoch: 32  ##############\n",
            "Performance in Val: Loss: (0.0765); Accuracy (91.31)\n"
          ]
        },
        {
          "metadata": {
            "tags": null
          },
          "name": "stderr",
          "output_type": "stream",
          "text": [
            "Epoch 35: 100%|██████████| 3130/3130 [00:24<00:00, 127.57batch/s, train_loss=tensor(0.0673, device='cuda:0', grad_fn=<MseLossBackward0>)]\n"
          ]
        },
        {
          "metadata": {
            "tags": null
          },
          "name": "stdout",
          "output_type": "stream",
          "text": [
            "loss_sum=  0.07629689758308342 ACC=  0.9153448911840649 bacc=  0.8790684876051479 precision=  0.8670694864048338 specificity=  0.9559007767476823 sensitivity=  0.8022361984626135 recall=  0.8022361984626135 MCC=  0.7778187166849966 AUC=  0.9478280183522638 f1=  0.833393829401089\n",
            "Epoch: 35 / 500, ############## the best accuracy in val  91.4976 at Epoch: 32  ##############\n",
            "Performance in Val: Loss: (0.0763); Accuracy (91.53)\n"
          ]
        },
        {
          "metadata": {
            "tags": null
          },
          "name": "stderr",
          "output_type": "stream",
          "text": [
            "Epoch 36: 100%|██████████| 3130/3130 [00:24<00:00, 129.03batch/s, train_loss=tensor(0.0563, device='cuda:0', grad_fn=<MseLossBackward0>)]\n"
          ]
        },
        {
          "metadata": {
            "tags": null
          },
          "name": "stdout",
          "output_type": "stream",
          "text": [
            "loss_sum=  0.07634233636094757 ACC=  0.916451493913685 bacc=  0.8798201789105851 precision=  0.8710166919575114 specificity=  0.9574041593585567 sensitivity=  0.8022361984626135 recall=  0.8022361984626135 MCC=  0.7805618643172983 AUC=  0.9461549667744739 f1=  0.8352128046562386\n",
            "Epoch: 36 / 500, ############## the best accuracy in val  91.5345 at Epoch: 35  ##############\n",
            "Performance in Val: Loss: (0.0763); Accuracy (91.65)\n"
          ]
        },
        {
          "metadata": {
            "tags": null
          },
          "name": "stderr",
          "output_type": "stream",
          "text": [
            "Epoch 37: 100%|██████████| 3130/3130 [00:24<00:00, 128.56batch/s, train_loss=tensor(0.0544, device='cuda:0', grad_fn=<MseLossBackward0>)]\n"
          ]
        },
        {
          "metadata": {
            "tags": null
          },
          "name": "stdout",
          "output_type": "stream",
          "text": [
            "loss_sum=  0.07559567317503964 ACC=  0.916820361490225 bacc=  0.8818637356834149 precision=  0.8678678678678678 specificity=  0.9559007767476823 sensitivity=  0.8078266946191475 recall=  0.8078266946191475 MCC=  0.7819614204713471 AUC=  0.9474329995809928 f1=  0.8367716250452407\n",
            "Epoch: 37 / 500, ############## the best accuracy in val  91.6451 at Epoch: 36  ##############\n",
            "Performance in Val: Loss: (0.0756); Accuracy (91.68)\n"
          ]
        },
        {
          "metadata": {
            "tags": null
          },
          "name": "stderr",
          "output_type": "stream",
          "text": [
            "Epoch 38: 100%|██████████| 3130/3130 [00:24<00:00, 127.42batch/s, train_loss=tensor(0.0302, device='cuda:0', grad_fn=<MseLossBackward0>)]\n"
          ]
        },
        {
          "metadata": {
            "tags": null
          },
          "name": "stdout",
          "output_type": "stream",
          "text": [
            "loss_sum=  0.07493507503160993 ACC=  0.9208779048321653 bacc=  0.8848440612622286 precision=  0.881859756097561 specificity=  0.9611626158857429 sensitivity=  0.8085255066387141 recall=  0.8085255066387141 MCC=  0.7921139050029212 AUC=  0.947591900084064 f1=  0.8436018957345972\n",
            "Epoch: 38 / 500, ############## the best accuracy in val  91.6820 at Epoch: 37  ##############\n",
            "Performance in Val: Loss: (0.0749); Accuracy (92.09)\n"
          ]
        },
        {
          "metadata": {
            "tags": null
          },
          "name": "stderr",
          "output_type": "stream",
          "text": [
            "Epoch 39: 100%|██████████| 3130/3130 [00:24<00:00, 127.49batch/s, train_loss=tensor(0.0659, device='cuda:0', grad_fn=<MseLossBackward0>)]\n"
          ]
        },
        {
          "metadata": {
            "tags": null
          },
          "name": "stdout",
          "output_type": "stream",
          "text": [
            "loss_sum=  0.07494593178029213 ACC=  0.917742530431575 bacc=  0.8824901451046125 precision=  0.8711379050489827 specificity=  0.9571535955900776 sensitivity=  0.8078266946191475 recall=  0.8078266946191475 MCC=  0.7842391374162118 AUC=  0.9483342237014414 f1=  0.8382886149383612\n",
            "Epoch: 39 / 500, ############## the best accuracy in val  92.0878 at Epoch: 38  ##############\n",
            "Performance in Val: Loss: (0.0749); Accuracy (91.77)\n"
          ]
        },
        {
          "metadata": {
            "tags": null
          },
          "name": "stderr",
          "output_type": "stream",
          "text": [
            "Epoch 40: 100%|██████████| 3130/3130 [00:24<00:00, 125.69batch/s, train_loss=tensor(0.0781, device='cuda:0', grad_fn=<MseLossBackward0>)]\n"
          ]
        },
        {
          "metadata": {
            "tags": null
          },
          "name": "stdout",
          "output_type": "stream",
          "text": [
            "loss_sum=  0.07406434048500164 ACC=  0.9186646993729252 bacc=  0.8813235615214596 precision=  0.8790199081163859 specificity=  0.9604109245803056 sensitivity=  0.8022361984626135 recall=  0.8022361984626135 MCC=  0.7860950210393113 AUC=  0.9498057386632152 f1=  0.8388746803069054\n",
            "Epoch: 40 / 500, ############## the best accuracy in val  92.0878 at Epoch: 38  ##############\n",
            "Performance in Val: Loss: (0.0741); Accuracy (91.87)\n"
          ]
        },
        {
          "metadata": {
            "tags": null
          },
          "name": "stderr",
          "output_type": "stream",
          "text": [
            "Epoch 41: 100%|██████████| 3130/3130 [00:24<00:00, 126.99batch/s, train_loss=tensor(0.0282, device='cuda:0', grad_fn=<MseLossBackward0>)]\n"
          ]
        },
        {
          "metadata": {
            "tags": null
          },
          "name": "stdout",
          "output_type": "stream",
          "text": [
            "loss_sum=  0.0733524638696527 ACC=  0.917004795278495 bacc=  0.882437265818742 precision=  0.8674157303370786 specificity=  0.9556502129792032 sensitivity=  0.8092243186582809 recall=  0.8092243186582809 MCC=  0.7825424925726628 AUC=  0.9495240076335276 f1=  0.8373101952277657\n",
            "Epoch: 41 / 500, ############## the best accuracy in val  92.0878 at Epoch: 38  ##############\n",
            "Performance in Val: Loss: (0.0734); Accuracy (91.70)\n"
          ]
        },
        {
          "metadata": {
            "tags": null
          },
          "name": "stderr",
          "output_type": "stream",
          "text": [
            "Epoch 42: 100%|██████████| 3130/3130 [00:25<00:00, 124.82batch/s, train_loss=tensor(0.0527, device='cuda:0', grad_fn=<MseLossBackward0>)]\n"
          ]
        },
        {
          "metadata": {
            "tags": null
          },
          "name": "stdout",
          "output_type": "stream",
          "text": [
            "loss_sum=  0.07597843233212982 ACC=  0.9195868683142752 bacc=  0.8806052261893944 precision=  0.8859581070597362 specificity=  0.9631671260335756 sensitivity=  0.7980433263452131 recall=  0.7980433263452131 MCC=  0.7881452500557732 AUC=  0.9469437786382042 f1=  0.8397058823529412\n",
            "Epoch: 42 / 500, ############## the best accuracy in val  92.0878 at Epoch: 38  ##############\n",
            "Performance in Val: Loss: (0.0760); Accuracy (91.96)\n"
          ]
        },
        {
          "metadata": {
            "tags": null
          },
          "name": "stderr",
          "output_type": "stream",
          "text": [
            "Epoch 43: 100%|██████████| 3130/3130 [00:24<00:00, 126.09batch/s, train_loss=tensor(0.0391, device='cuda:0', grad_fn=<MseLossBackward0>)]\n"
          ]
        },
        {
          "metadata": {
            "tags": null
          },
          "name": "stdout",
          "output_type": "stream",
          "text": [
            "loss_sum=  0.07453967613967515 ACC=  0.9186646993729252 bacc=  0.8824441821491787 precision=  0.8761398176291794 specificity=  0.9591581057379103 sensitivity=  0.8057302585604472 recall=  0.8057302585604472 MCC=  0.7863598261257745 AUC=  0.9461434103742505 f1=  0.8394612304331999\n",
            "Epoch: 43 / 500, ############## the best accuracy in val  92.0878 at Epoch: 38  ##############\n",
            "Performance in Val: Loss: (0.0745); Accuracy (91.87)\n"
          ]
        },
        {
          "metadata": {
            "tags": null
          },
          "name": "stderr",
          "output_type": "stream",
          "text": [
            "Epoch 44: 100%|██████████| 3130/3130 [00:24<00:00, 125.41batch/s, train_loss=tensor(0.1006, device='cuda:0', grad_fn=<MseLossBackward0>)]\n"
          ]
        },
        {
          "metadata": {
            "tags": null
          },
          "name": "stdout",
          "output_type": "stream",
          "text": [
            "loss_sum=  0.07309773425052388 ACC=  0.9182958317963851 bacc=  0.8826418666317873 precision=  0.8736762481089259 specificity=  0.958155850663994 sensitivity=  0.8071278825995807 recall=  0.8071278825995807 MCC=  0.7855530279669458 AUC=  0.9522672519107895 f1=  0.8390846349436979\n",
            "Epoch: 44 / 500, ############## the best accuracy in val  92.0878 at Epoch: 38  ##############\n",
            "Performance in Val: Loss: (0.0731); Accuracy (91.83)\n"
          ]
        },
        {
          "metadata": {
            "tags": null
          },
          "name": "stderr",
          "output_type": "stream",
          "text": [
            "Epoch 45: 100%|██████████| 3130/3130 [00:24<00:00, 126.48batch/s, train_loss=tensor(0.0431, device='cuda:0', grad_fn=<MseLossBackward0>)]\n"
          ]
        },
        {
          "metadata": {
            "tags": null
          },
          "name": "stdout",
          "output_type": "stream",
          "text": [
            "loss_sum=  0.07287757368181395 ACC=  0.9188491331611951 bacc=  0.8870519465442949 precision=  0.8656826568265683 specificity=  0.9543973941368078 sensitivity=  0.8197064989517819 recall=  0.8197064989517819 MCC=  0.7880489569763289 AUC=  0.9529011029533432 f1=  0.842067480258435\n",
            "Epoch: 45 / 500, ############## the best accuracy in val  92.0878 at Epoch: 38  ##############\n",
            "Performance in Val: Loss: (0.0729); Accuracy (91.88)\n"
          ]
        },
        {
          "metadata": {
            "tags": null
          },
          "name": "stderr",
          "output_type": "stream",
          "text": [
            "Epoch 46: 100%|██████████| 3130/3130 [00:24<00:00, 127.44batch/s, train_loss=tensor(0.0683, device='cuda:0', grad_fn=<MseLossBackward0>)]\n"
          ]
        },
        {
          "metadata": {
            "tags": null
          },
          "name": "stdout",
          "output_type": "stream",
          "text": [
            "loss_sum=  0.0738254308612649 ACC=  0.9157137587606049 bacc=  0.8799914237502584 precision=  0.8667168674698795 specificity=  0.9556502129792032 sensitivity=  0.8043326345213138 recall=  0.8043326345213138 MCC=  0.7789175957018687 AUC=  0.9497777231475221 f1=  0.8343602754621239\n",
            "Epoch: 46 / 500, ############## the best accuracy in val  92.0878 at Epoch: 38  ##############\n",
            "Performance in Val: Loss: (0.0738); Accuracy (91.57)\n"
          ]
        },
        {
          "metadata": {
            "tags": null
          },
          "name": "stderr",
          "output_type": "stream",
          "text": [
            "Epoch 47: 100%|██████████| 3130/3130 [00:24<00:00, 126.80batch/s, train_loss=tensor(0.0843, device='cuda:0', grad_fn=<MseLossBackward0>)]\n"
          ]
        },
        {
          "metadata": {
            "tags": null
          },
          "name": "stdout",
          "output_type": "stream",
          "text": [
            "loss_sum=  0.07432197506338974 ACC=  0.9201401696790852 bacc=  0.8847911819763581 precision=  0.878030303030303 specificity=  0.9596592332748685 sensitivity=  0.8099231306778477 recall=  0.8099231306778477 MCC=  0.7903709944248319 AUC=  0.9480260530288186 f1=  0.8426026899309342\n",
            "Epoch: 47 / 500, ############## the best accuracy in val  92.0878 at Epoch: 38  ##############\n",
            "Performance in Val: Loss: (0.0743); Accuracy (92.01)\n"
          ]
        },
        {
          "metadata": {
            "tags": null
          },
          "name": "stderr",
          "output_type": "stream",
          "text": [
            "Epoch 48: 100%|██████████| 3130/3130 [00:24<00:00, 127.69batch/s, train_loss=tensor(0.0138, device='cuda:0', grad_fn=<MseLossBackward0>)]\n"
          ]
        },
        {
          "metadata": {
            "tags": null
          },
          "name": "stdout",
          "output_type": "stream",
          "text": [
            "loss_sum=  0.07416747396009642 ACC=  0.9216156399852453 bacc=  0.8871381818035373 precision=  0.8799093655589124 specificity=  0.9601603608118267 sensitivity=  0.8141160027952481 recall=  0.8141160027952481 MCC=  0.7943770943678434 AUC=  0.9490291835876005 f1=  0.8457350272232306\n",
            "Epoch: 48 / 500, ############## the best accuracy in val  92.0878 at Epoch: 38  ##############\n",
            "Performance in Val: Loss: (0.0742); Accuracy (92.16)\n"
          ]
        },
        {
          "metadata": {
            "tags": null
          },
          "name": "stderr",
          "output_type": "stream",
          "text": [
            "Epoch 49: 100%|██████████| 3130/3130 [00:24<00:00, 127.62batch/s, train_loss=tensor(0.0191, device='cuda:0', grad_fn=<MseLossBackward0>)]\n"
          ]
        },
        {
          "metadata": {
            "tags": null
          },
          "name": "stdout",
          "output_type": "stream",
          "text": [
            "loss_sum=  0.0740919810387369 ACC=  0.9184802655846551 bacc=  0.8829912726415707 precision=  0.873771730914588 specificity=  0.958155850663994 sensitivity=  0.8078266946191475 recall=  0.8078266946191475 MCC=  0.7860690061325353 AUC=  0.9481659555103105 f1=  0.8395061728395062\n",
            "Epoch: 49 / 500, ############## the best accuracy in val  92.1616 at Epoch: 48  ##############\n",
            "Performance in Val: Loss: (0.0741); Accuracy (91.85)\n"
          ]
        },
        {
          "metadata": {
            "tags": null
          },
          "name": "stderr",
          "output_type": "stream",
          "text": [
            "Epoch 50: 100%|██████████| 3130/3130 [00:24<00:00, 126.77batch/s, train_loss=tensor(0.0809, device='cuda:0', grad_fn=<MseLossBackward0>)]\n"
          ]
        },
        {
          "metadata": {
            "tags": null
          },
          "name": "stdout",
          "output_type": "stream",
          "text": [
            "loss_sum=  0.07374465867882501 ACC=  0.9199557358908153 bacc=  0.886683017222013 precision=  0.8722927557879014 specificity=  0.9571535955900776 sensitivity=  0.8162124388539483 recall=  0.8162124388539483 MCC=  0.7904343344418802 AUC=  0.9482403717238699 f1=  0.8433212996389892\n",
            "Epoch: 50 / 500, ############## the best accuracy in val  92.1616 at Epoch: 48  ##############\n",
            "Performance in Val: Loss: (0.0737); Accuracy (92.00)\n"
          ]
        },
        {
          "metadata": {
            "tags": null
          },
          "name": "stderr",
          "output_type": "stream",
          "text": [
            "Epoch 51: 100%|██████████| 3130/3130 [00:25<00:00, 124.78batch/s, train_loss=tensor(0.0405, device='cuda:0', grad_fn=<MseLossBackward0>)]\n"
          ]
        },
        {
          "metadata": {
            "tags": null
          },
          "name": "stdout",
          "output_type": "stream",
          "text": [
            "loss_sum=  0.07235215873125073 ACC=  0.9214312061969753 bacc=  0.885444031040491 precision=  0.8832951945080092 specificity=  0.9616637434227011 sensitivity=  0.8092243186582809 recall=  0.8092243186582809 MCC=  0.7935547888290286 AUC=  0.9510350945112178 f1=  0.8446389496717723\n",
            "Epoch: 51 / 500, ############## the best accuracy in val  92.1616 at Epoch: 48  ##############\n",
            "Performance in Val: Loss: (0.0724); Accuracy (92.14)\n"
          ]
        },
        {
          "metadata": {
            "tags": null
          },
          "name": "stderr",
          "output_type": "stream",
          "text": [
            "Epoch 52: 100%|██████████| 3130/3130 [00:24<00:00, 126.08batch/s, train_loss=tensor(0.0648, device='cuda:0', grad_fn=<MseLossBackward0>)]\n"
          ]
        },
        {
          "metadata": {
            "tags": null
          },
          "name": "stdout",
          "output_type": "stream",
          "text": [
            "loss_sum=  0.07314825756750055 ACC=  0.9199557358908153 bacc=  0.8848900242176623 precision=  0.8767951625094482 specificity=  0.9591581057379103 sensitivity=  0.8106219426974144 recall=  0.8106219426974144 MCC=  0.7899660917084453 AUC=  0.9489165962339092 f1=  0.8424110384894697\n",
            "Epoch: 52 / 500, ############## the best accuracy in val  92.1616 at Epoch: 48  ##############\n",
            "Performance in Val: Loss: (0.0731); Accuracy (92.00)\n"
          ]
        },
        {
          "metadata": {
            "tags": null
          },
          "name": "stderr",
          "output_type": "stream",
          "text": [
            "Epoch 53: 100%|██████████| 3130/3130 [00:24<00:00, 128.17batch/s, train_loss=tensor(0.0433, device='cuda:0', grad_fn=<MseLossBackward0>)]\n"
          ]
        },
        {
          "metadata": {
            "tags": null
          },
          "name": "stdout",
          "output_type": "stream",
          "text": [
            "loss_sum=  0.07255675605220781 ACC=  0.9190335669494651 bacc=  0.8831429941687454 precision=  0.8763277693474962 specificity=  0.9591581057379103 sensitivity=  0.8071278825995807 recall=  0.8071278825995807 MCC=  0.7873905243430265 AUC=  0.9518577000907528 f1=  0.8403055656602401\n",
            "Epoch: 53 / 500, ############## the best accuracy in val  92.1616 at Epoch: 48  ##############\n",
            "Performance in Val: Loss: (0.0726); Accuracy (91.90)\n"
          ]
        },
        {
          "metadata": {
            "tags": null
          },
          "name": "stderr",
          "output_type": "stream",
          "text": [
            "Epoch 54: 100%|██████████| 3130/3130 [00:24<00:00, 127.52batch/s, train_loss=tensor(0.0293, device='cuda:0', grad_fn=<MseLossBackward0>)]\n"
          ]
        },
        {
          "metadata": {
            "tags": null
          },
          "name": "stdout",
          "output_type": "stream",
          "text": [
            "loss_sum=  0.07306877648935908 ACC=  0.9205090372556253 bacc=  0.8821281321127674 precision=  0.8869969040247678 specificity=  0.9634176898020547 sensitivity=  0.80083857442348 recall=  0.80083857442348 MCC=  0.7906666216046653 AUC=  0.9480577455809465 f1=  0.8417186926184355\n",
            "Epoch: 54 / 500, ############## the best accuracy in val  92.1616 at Epoch: 48  ##############\n",
            "Performance in Val: Loss: (0.0731); Accuracy (92.05)\n"
          ]
        },
        {
          "metadata": {
            "tags": null
          },
          "name": "stderr",
          "output_type": "stream",
          "text": [
            "Epoch 55: 100%|██████████| 3130/3130 [00:24<00:00, 128.92batch/s, train_loss=tensor(0.0475, device='cuda:0', grad_fn=<MseLossBackward0>)]\n"
          ]
        },
        {
          "metadata": {
            "tags": null
          },
          "name": "stdout",
          "output_type": "stream",
          "text": [
            "loss_sum=  0.07164924420075694 ACC=  0.9234599778679454 bacc=  0.8863738835160383 precision=  0.8919753086419753 specificity=  0.9649210724129291 sensitivity=  0.8078266946191475 recall=  0.8078266946191475 MCC=  0.7986037165106539 AUC=  0.9500205826491858 f1=  0.8478181151448478\n",
            "Epoch: 55 / 500, ############## the best accuracy in val  92.1616 at Epoch: 48  ##############\n",
            "Performance in Val: Loss: (0.0716); Accuracy (92.35)\n"
          ]
        },
        {
          "metadata": {
            "tags": null
          },
          "name": "stderr",
          "output_type": "stream",
          "text": [
            "Epoch 56: 100%|██████████| 3130/3130 [00:24<00:00, 128.75batch/s, train_loss=tensor(0.0137, device='cuda:0', grad_fn=<MseLossBackward0>)]\n"
          ]
        },
        {
          "metadata": {
            "tags": null
          },
          "name": "stdout",
          "output_type": "stream",
          "text": [
            "loss_sum=  0.07141559233251618 ACC=  0.9199557358908153 bacc=  0.8857865207198377 precision=  0.8745304282494365 specificity=  0.958155850663994 sensitivity=  0.8134171907756813 recall=  0.8134171907756813 MCC=  0.7901944196798281 AUC=  0.9518617273211336 f1=  0.8428674873280232\n",
            "Epoch: 56 / 500, ############## the best accuracy in val  92.3460 at Epoch: 55  ##############\n",
            "Performance in Val: Loss: (0.0714); Accuracy (92.00)\n"
          ]
        },
        {
          "metadata": {
            "tags": null
          },
          "name": "stderr",
          "output_type": "stream",
          "text": [
            "Epoch 57: 100%|██████████| 3130/3130 [00:24<00:00, 127.78batch/s, train_loss=tensor(0.0483, device='cuda:0', grad_fn=<MseLossBackward0>)]\n"
          ]
        },
        {
          "metadata": {
            "tags": null
          },
          "name": "stdout",
          "output_type": "stream",
          "text": [
            "loss_sum=  0.07095702031179493 ACC=  0.9205090372556253 bacc=  0.8866106146236439 precision=  0.8753753753753754 specificity=  0.9584064144324731 sensitivity=  0.8148148148148148 recall=  0.8148148148148148 MCC=  0.7916818412708345 AUC=  0.9536664518226806 f1=  0.844010133912414\n",
            "Epoch: 57 / 500, ############## the best accuracy in val  92.3460 at Epoch: 55  ##############\n",
            "Performance in Val: Loss: (0.0710); Accuracy (92.05)\n"
          ]
        },
        {
          "metadata": {
            "tags": null
          },
          "name": "stderr",
          "output_type": "stream",
          "text": [
            "Epoch 58: 100%|██████████| 3130/3130 [00:24<00:00, 129.43batch/s, train_loss=tensor(0.0278, device='cuda:0', grad_fn=<MseLossBackward0>)]\n"
          ]
        },
        {
          "metadata": {
            "tags": null
          },
          "name": "stdout",
          "output_type": "stream",
          "text": [
            "loss_sum=  0.07207939609374224 ACC=  0.9205090372556253 bacc=  0.8886277317535384 precision=  0.8703703703703703 specificity=  0.9561513405161614 sensitivity=  0.8211041229909154 recall=  0.8211041229909154 MCC=  0.7922343984482636 AUC=  0.9511571371014552 f1=  0.845019777058612\n",
            "Epoch: 58 / 500, ############## the best accuracy in val  92.3460 at Epoch: 55  ##############\n",
            "Performance in Val: Loss: (0.0721); Accuracy (92.05)\n"
          ]
        },
        {
          "metadata": {
            "tags": null
          },
          "name": "stderr",
          "output_type": "stream",
          "text": [
            "Epoch 59: 100%|██████████| 3130/3130 [00:24<00:00, 126.57batch/s, train_loss=tensor(0.0368, device='cuda:0', grad_fn=<MseLossBackward0>)]\n"
          ]
        },
        {
          "metadata": {
            "tags": null
          },
          "name": "stdout",
          "output_type": "stream",
          "text": [
            "loss_sum=  0.07129000619213181 ACC=  0.9205090372556253 bacc=  0.8854899939959249 precision=  0.8782148260211801 specificity=  0.9596592332748685 sensitivity=  0.8113207547169812 recall=  0.8113207547169812 MCC=  0.7914001536216162 AUC=  0.9529387488025556 f1=  0.8434435161641846\n",
            "Epoch: 59 / 500, ############## the best accuracy in val  92.3460 at Epoch: 55  ##############\n",
            "Performance in Val: Loss: (0.0713); Accuracy (92.05)\n"
          ]
        },
        {
          "metadata": {
            "tags": null
          },
          "name": "stderr",
          "output_type": "stream",
          "text": [
            "Epoch 60: 100%|██████████| 3130/3130 [00:24<00:00, 129.15batch/s, train_loss=tensor(0.0319, device='cuda:0', grad_fn=<MseLossBackward0>)]\n"
          ]
        },
        {
          "metadata": {
            "tags": null
          },
          "name": "stdout",
          "output_type": "stream",
          "text": [
            "loss_sum=  0.07151605334863682 ACC=  0.9216156399852453 bacc=  0.8891552989334318 precision=  0.8748137108792846 specificity=  0.9579052868955149 sensitivity=  0.8204053109713487 recall=  0.8204053109713487 MCC=  0.7948904611121149 AUC=  0.9526941383311612 f1=  0.8467363865849261\n",
            "Epoch: 60 / 500, ############## the best accuracy in val  92.3460 at Epoch: 55  ##############\n",
            "Performance in Val: Loss: (0.0715); Accuracy (92.16)\n"
          ]
        },
        {
          "metadata": {
            "tags": null
          },
          "name": "stderr",
          "output_type": "stream",
          "text": [
            "Epoch 61: 100%|██████████| 3130/3130 [00:23<00:00, 130.44batch/s, train_loss=tensor(0.0568, device='cuda:0', grad_fn=<MseLossBackward0>)]\n"
          ]
        },
        {
          "metadata": {
            "tags": null
          },
          "name": "stdout",
          "output_type": "stream",
          "text": [
            "loss_sum=  0.0714951177405133 ACC=  0.9216156399852453 bacc=  0.887586430054625 precision=  0.8787650602409639 specificity=  0.9596592332748685 sensitivity=  0.8155136268343816 recall=  0.8155136268343816 MCC=  0.7944860629887142 AUC=  0.9510207365594251 f1=  0.8459586806814063\n",
            "Epoch: 61 / 500, ############## the best accuracy in val  92.3460 at Epoch: 55  ##############\n",
            "Performance in Val: Loss: (0.0715); Accuracy (92.16)\n"
          ]
        },
        {
          "metadata": {
            "tags": null
          },
          "name": "stderr",
          "output_type": "stream",
          "text": [
            "Epoch 62: 100%|██████████| 3130/3130 [00:24<00:00, 128.74batch/s, train_loss=tensor(0.0193, device='cuda:0', grad_fn=<MseLossBackward0>)]\n"
          ]
        },
        {
          "metadata": {
            "tags": null
          },
          "name": "stdout",
          "output_type": "stream",
          "text": [
            "loss_sum=  0.0705564300636802 ACC=  0.9227222427148654 bacc=  0.8896828661133251 precision=  0.8793103448275862 specificity=  0.9596592332748685 sensitivity=  0.8197064989517819 recall=  0.8197064989517819 MCC=  0.7975696674898848 AUC=  0.9523241584270408 f1=  0.8484629294755877\n",
            "Epoch: 62 / 500, ############## the best accuracy in val  92.3460 at Epoch: 55  ##############\n",
            "Performance in Val: Loss: (0.0706); Accuracy (92.27)\n"
          ]
        },
        {
          "metadata": {
            "tags": null
          },
          "name": "stderr",
          "output_type": "stream",
          "text": [
            "Epoch 63: 100%|██████████| 3130/3130 [00:24<00:00, 129.53batch/s, train_loss=tensor(0.0427, device='cuda:0', grad_fn=<MseLossBackward0>)]\n"
          ]
        },
        {
          "metadata": {
            "tags": null
          },
          "name": "stdout",
          "output_type": "stream",
          "text": [
            "loss_sum=  0.07155557263060129 ACC=  0.9201401696790852 bacc=  0.886135926729621 precision=  0.8746246246246246 specificity=  0.958155850663994 sensitivity=  0.8141160027952481 recall=  0.8141160027952481 MCC=  0.7907097991908858 AUC=  0.9516624669657674 f1=  0.8432862830256967\n",
            "Epoch: 63 / 500, ############## the best accuracy in val  92.3460 at Epoch: 55  ##############\n",
            "Performance in Val: Loss: (0.0716); Accuracy (92.01)\n"
          ]
        },
        {
          "metadata": {
            "tags": null
          },
          "name": "stderr",
          "output_type": "stream",
          "text": [
            "Epoch 64: 100%|██████████| 3130/3130 [00:23<00:00, 130.74batch/s, train_loss=tensor(0.0351, device='cuda:0', grad_fn=<MseLossBackward0>)]\n"
          ]
        },
        {
          "metadata": {
            "tags": null
          },
          "name": "stdout",
          "output_type": "stream",
          "text": [
            "loss_sum=  0.07087985049537589 ACC=  0.9223533751383254 bacc=  0.889432302344846 precision=  0.8779940119760479 specificity=  0.9591581057379103 sensitivity=  0.8197064989517819 recall=  0.8197064989517819 MCC=  0.7966549123450999 AUC=  0.9505884221328877 f1=  0.8478496566678713\n",
            "Epoch: 64 / 500, ############## the best accuracy in val  92.3460 at Epoch: 55  ##############\n",
            "Performance in Val: Loss: (0.0709); Accuracy (92.24)\n"
          ]
        },
        {
          "metadata": {
            "tags": null
          },
          "name": "stderr",
          "output_type": "stream",
          "text": [
            "Epoch 65: 100%|██████████| 3130/3130 [00:23<00:00, 130.58batch/s, train_loss=tensor(0.0389, device='cuda:0', grad_fn=<MseLossBackward0>)]\n"
          ]
        },
        {
          "metadata": {
            "tags": null
          },
          "name": "stdout",
          "output_type": "stream",
          "text": [
            "loss_sum=  0.07164704872454601 ACC=  0.9195868683142752 bacc=  0.8853118328258147 precision=  0.873779113448535 specificity=  0.9579052868955149 sensitivity=  0.8127183787561146 recall=  0.8127183787561146 MCC=  0.7892221313680265 AUC=  0.9518897428368267 f1=  0.8421433743664011\n",
            "Epoch: 65 / 500, ############## the best accuracy in val  92.3460 at Epoch: 55  ##############\n",
            "Performance in Val: Loss: (0.0716); Accuracy (91.96)\n"
          ]
        },
        {
          "metadata": {
            "tags": null
          },
          "name": "stderr",
          "output_type": "stream",
          "text": [
            "Epoch 66: 100%|██████████| 3130/3130 [00:23<00:00, 130.57batch/s, train_loss=tensor(0.0258, device='cuda:0', grad_fn=<MseLossBackward0>)]\n"
          ]
        },
        {
          "metadata": {
            "tags": null
          },
          "name": "stdout",
          "output_type": "stream",
          "text": [
            "loss_sum=  0.07202259543458972 ACC=  0.9182958317963851 bacc=  0.8810729977529805 precision=  0.8776758409785933 specificity=  0.9599097970433476 sensitivity=  0.8022361984626135 recall=  0.8022361984626135 MCC=  0.7851684444449321 AUC=  0.9509997249226553 f1=  0.8382621394669587\n",
            "Epoch: 66 / 500, ############## the best accuracy in val  92.3460 at Epoch: 55  ##############\n",
            "Performance in Val: Loss: (0.0720); Accuracy (91.83)\n"
          ]
        },
        {
          "metadata": {
            "tags": null
          },
          "name": "stderr",
          "output_type": "stream",
          "text": [
            "Epoch 67: 100%|██████████| 3130/3130 [00:24<00:00, 127.59batch/s, train_loss=tensor(0.0341, device='cuda:0', grad_fn=<MseLossBackward0>)]\n"
          ]
        },
        {
          "metadata": {
            "tags": null
          },
          "name": "stdout",
          "output_type": "stream",
          "text": [
            "loss_sum=  0.07216650629443581 ACC=  0.9216156399852453 bacc=  0.883552195794836 precision=  0.8893188854489165 specificity=  0.9641693811074918 sensitivity=  0.8029350104821803 recall=  0.8029350104821803 MCC=  0.7936131715334177 AUC=  0.949787090835582 f1=  0.8439221446933529\n",
            "Epoch: 67 / 500, ############## the best accuracy in val  92.3460 at Epoch: 55  ##############\n",
            "Performance in Val: Loss: (0.0722); Accuracy (92.16)\n"
          ]
        },
        {
          "metadata": {
            "tags": null
          },
          "name": "stderr",
          "output_type": "stream",
          "text": [
            "Epoch 68: 100%|██████████| 3130/3130 [00:24<00:00, 130.27batch/s, train_loss=tensor(0.0399, device='cuda:0', grad_fn=<MseLossBackward0>)]\n"
          ]
        },
        {
          "metadata": {
            "tags": null
          },
          "name": "stdout",
          "output_type": "stream",
          "text": [
            "loss_sum=  0.07127480753999654 ACC=  0.9247510143858355 bacc=  0.8897162220866972 precision=  0.8901601830663616 specificity=  0.9639188173390127 sensitivity=  0.8155136268343816 recall=  0.8155136268343816 MCC=  0.8023504047693187 AUC=  0.950951748352031 f1=  0.8512035010940919\n",
            "Epoch: 68 / 500, ############## the best accuracy in val  92.3460 at Epoch: 55  ##############\n",
            "Performance in Val: Loss: (0.0713); Accuracy (92.48)\n"
          ]
        },
        {
          "metadata": {
            "tags": null
          },
          "name": "stderr",
          "output_type": "stream",
          "text": [
            "Epoch 69: 100%|██████████| 3130/3130 [00:24<00:00, 127.92batch/s, train_loss=tensor(0.0327, device='cuda:0', grad_fn=<MseLossBackward0>)]\n"
          ]
        },
        {
          "metadata": {
            "tags": null
          },
          "name": "stdout",
          "output_type": "stream",
          "text": [
            "loss_sum=  0.07045632707790243 ACC=  0.9240132792327554 bacc=  0.8883185980475636 precision=  0.8898240244835501 specificity=  0.9639188173390127 sensitivity=  0.8127183787561146 recall=  0.8127183787561146 MCC=  0.8003061493621297 AUC=  0.9514495490465008 f1=  0.8495252008765523\n",
            "Epoch: 69 / 500, ############## the best accuracy in val  92.4751 at Epoch: 68  ##############\n",
            "Performance in Val: Loss: (0.0705); Accuracy (92.40)\n"
          ]
        },
        {
          "metadata": {
            "tags": null
          },
          "name": "stderr",
          "output_type": "stream",
          "text": [
            "Epoch 70: 100%|██████████| 3130/3130 [00:24<00:00, 129.02batch/s, train_loss=tensor(0.0546, device='cuda:0', grad_fn=<MseLossBackward0>)]\n"
          ]
        },
        {
          "metadata": {
            "tags": null
          },
          "name": "stdout",
          "output_type": "stream",
          "text": [
            "loss_sum=  0.07091075990068833 ACC=  0.9238288454444854 bacc=  0.8908828056698501 precision=  0.8821321321321322 specificity=  0.9606614883487847 sensitivity=  0.8211041229909154 recall=  0.8211041229909154 MCC=  0.8004302199903732 AUC=  0.9506470796188697 f1=  0.8505247918928701\n",
            "Epoch: 70 / 500, ############## the best accuracy in val  92.4751 at Epoch: 68  ##############\n",
            "Performance in Val: Loss: (0.0709); Accuracy (92.38)\n"
          ]
        },
        {
          "metadata": {
            "tags": null
          },
          "name": "stderr",
          "output_type": "stream",
          "text": [
            "Epoch 71: 100%|██████████| 3130/3130 [00:24<00:00, 129.59batch/s, train_loss=tensor(0.0389, device='cuda:0', grad_fn=<MseLossBackward0>)]\n"
          ]
        },
        {
          "metadata": {
            "tags": null
          },
          "name": "stdout",
          "output_type": "stream",
          "text": [
            "loss_sum=  0.06973837100513346 ACC=  0.9241977130210255 bacc=  0.8888921281828909 precision=  0.8893129770992366 specificity=  0.9636682535705337 sensitivity=  0.8141160027952481 recall=  0.8141160027952481 MCC=  0.8008618905507795 AUC=  0.9523203062936332 f1=  0.8500547245530828\n",
            "Epoch: 71 / 500, ############## the best accuracy in val  92.4751 at Epoch: 68  ##############\n",
            "Performance in Val: Loss: (0.0697); Accuracy (92.42)\n"
          ]
        },
        {
          "metadata": {
            "tags": null
          },
          "name": "stderr",
          "output_type": "stream",
          "text": [
            "Epoch 72: 100%|██████████| 3130/3130 [00:24<00:00, 129.39batch/s, train_loss=tensor(0.0180, device='cuda:0', grad_fn=<MseLossBackward0>)]\n"
          ]
        },
        {
          "metadata": {
            "tags": null
          },
          "name": "stdout",
          "output_type": "stream",
          "text": [
            "loss_sum=  0.0704646578325085 ACC=  0.9214312061969753 bacc=  0.8872370240448416 precision=  0.8786737000753579 specificity=  0.9596592332748685 sensitivity=  0.8148148148148148 recall=  0.8148148148148148 MCC=  0.7939719064643822 AUC=  0.9511084601429386 f1=  0.845540246555475\n",
            "Epoch: 72 / 500, ############## the best accuracy in val  92.4751 at Epoch: 68  ##############\n",
            "Performance in Val: Loss: (0.0705); Accuracy (92.14)\n"
          ]
        },
        {
          "metadata": {
            "tags": null
          },
          "name": "stderr",
          "output_type": "stream",
          "text": [
            "Epoch 73: 100%|██████████| 3130/3130 [00:24<00:00, 129.13batch/s, train_loss=tensor(0.0363, device='cuda:0', grad_fn=<MseLossBackward0>)]\n"
          ]
        },
        {
          "metadata": {
            "tags": null
          },
          "name": "stdout",
          "output_type": "stream",
          "text": [
            "loss_sum=  0.07153333565714744 ACC=  0.9221689413500553 bacc=  0.887514027456256 precision=  0.8819076457229371 specificity=  0.9609120521172638 sensitivity=  0.8141160027952481 recall=  0.8141160027952481 MCC=  0.795759461339496 AUC=  0.9507785774456537 f1=  0.846656976744186\n",
            "Epoch: 73 / 500, ############## the best accuracy in val  92.4751 at Epoch: 68  ##############\n",
            "Performance in Val: Loss: (0.0715); Accuracy (92.22)\n"
          ]
        },
        {
          "metadata": {
            "tags": null
          },
          "name": "stderr",
          "output_type": "stream",
          "text": [
            "Epoch 74: 100%|██████████| 3130/3130 [00:24<00:00, 128.90batch/s, train_loss=tensor(0.0448, device='cuda:0', grad_fn=<MseLossBackward0>)]\n"
          ]
        },
        {
          "metadata": {
            "tags": null
          },
          "name": "stdout",
          "output_type": "stream",
          "text": [
            "loss_sum=  0.07144886023120454 ACC=  0.9195868683142752 bacc=  0.8846394604491833 precision=  0.8754716981132076 specificity=  0.9586569782009522 sensitivity=  0.8106219426974144 recall=  0.8106219426974144 MCC=  0.7890483065807832 AUC=  0.9505019242281858 f1=  0.841799709724238\n",
            "Epoch: 74 / 500, ############## the best accuracy in val  92.4751 at Epoch: 68  ##############\n",
            "Performance in Val: Loss: (0.0714); Accuracy (91.96)\n"
          ]
        },
        {
          "metadata": {
            "tags": null
          },
          "name": "stderr",
          "output_type": "stream",
          "text": [
            "Epoch 75: 100%|██████████| 3130/3130 [00:24<00:00, 128.50batch/s, train_loss=tensor(0.0272, device='cuda:0', grad_fn=<MseLossBackward0>)]\n"
          ]
        },
        {
          "metadata": {
            "tags": null
          },
          "name": "stdout",
          "output_type": "stream",
          "text": [
            "loss_sum=  0.07103288263923167 ACC=  0.9219845075617853 bacc=  0.885371628442122 precision=  0.8865030674846626 specificity=  0.9629165622650965 sensitivity=  0.8078266946191475 recall=  0.8078266946191475 MCC=  0.7948559833472036 AUC=  0.952469138720752 f1=  0.8453382084095064\n",
            "Epoch: 75 / 500, ############## the best accuracy in val  92.4751 at Epoch: 68  ##############\n",
            "Performance in Val: Loss: (0.0710); Accuracy (92.20)\n"
          ]
        },
        {
          "metadata": {
            "tags": null
          },
          "name": "stderr",
          "output_type": "stream",
          "text": [
            "Epoch 76: 100%|██████████| 3130/3130 [00:24<00:00, 125.41batch/s, train_loss=tensor(0.0626, device='cuda:0', grad_fn=<MseLossBackward0>)]\n"
          ]
        },
        {
          "metadata": {
            "tags": null
          },
          "name": "stdout",
          "output_type": "stream",
          "text": [
            "loss_sum=  0.07097400994394469 ACC=  0.9227222427148654 bacc=  0.8901311143644128 precision=  0.8781763826606876 specificity=  0.9591581057379103 sensitivity=  0.8211041229909154 recall=  0.8211041229909154 MCC=  0.797683008581736 AUC=  0.9498348047607467 f1=  0.8486818345973275\n",
            "Epoch: 76 / 500, ############## the best accuracy in val  92.4751 at Epoch: 68  ##############\n",
            "Performance in Val: Loss: (0.0710); Accuracy (92.27)\n"
          ]
        },
        {
          "metadata": {
            "tags": null
          },
          "name": "stderr",
          "output_type": "stream",
          "text": [
            "Epoch 77: 100%|██████████| 3130/3130 [00:24<00:00, 130.28batch/s, train_loss=tensor(0.0250, device='cuda:0', grad_fn=<MseLossBackward0>)]\n"
          ]
        },
        {
          "metadata": {
            "tags": null
          },
          "name": "stdout",
          "output_type": "stream",
          "text": [
            "loss_sum=  0.07051959513909126 ACC=  0.9247510143858355 bacc=  0.8912850909655039 precision=  0.8860377358490567 specificity=  0.9621648709596592 sensitivity=  0.8204053109713487 recall=  0.8204053109713487 MCC=  0.8026811343175442 AUC=  0.9511953082415869 f1=  0.8519593613933237\n",
            "Epoch: 77 / 500, ############## the best accuracy in val  92.4751 at Epoch: 68  ##############\n",
            "Performance in Val: Loss: (0.0705); Accuracy (92.48)\n"
          ]
        },
        {
          "metadata": {
            "tags": null
          },
          "name": "stderr",
          "output_type": "stream",
          "text": [
            "Epoch 78: 100%|██████████| 3130/3130 [00:24<00:00, 130.09batch/s, train_loss=tensor(0.0128, device='cuda:0', grad_fn=<MseLossBackward0>)]\n"
          ]
        },
        {
          "metadata": {
            "tags": null
          },
          "name": "stdout",
          "output_type": "stream",
          "text": [
            "loss_sum=  0.07061538430326413 ACC=  0.9238288454444854 bacc=  0.8913310539209378 precision=  0.8809880239520959 specificity=  0.9601603608118267 sensitivity=  0.822501747030049 recall=  0.822501747030049 MCC=  0.8005391555404087 AUC=  0.9517018637847106 f1=  0.8507408745934225\n",
            "Epoch: 78 / 500, ############## the best accuracy in val  92.4751 at Epoch: 68  ##############\n",
            "Performance in Val: Loss: (0.0706); Accuracy (92.38)\n"
          ]
        },
        {
          "metadata": {
            "tags": null
          },
          "name": "stderr",
          "output_type": "stream",
          "text": [
            "Epoch 79: 100%|██████████| 3130/3130 [00:24<00:00, 129.02batch/s, train_loss=tensor(0.0408, device='cuda:0', grad_fn=<MseLossBackward0>)]\n"
          ]
        },
        {
          "metadata": {
            "tags": null
          },
          "name": "stdout",
          "output_type": "stream",
          "text": [
            "loss_sum=  0.07088009844833551 ACC=  0.9229066765031354 bacc=  0.8889116514953894 precision=  0.8822641509433963 specificity=  0.9609120521172638 sensitivity=  0.816911250873515 recall=  0.816911250873515 MCC=  0.7978122672687009 AUC=  0.9517521166159848 f1=  0.8483309143686503\n",
            "Epoch: 79 / 500, ############## the best accuracy in val  92.4751 at Epoch: 68  ##############\n",
            "Performance in Val: Loss: (0.0709); Accuracy (92.29)\n"
          ]
        },
        {
          "metadata": {
            "tags": null
          },
          "name": "stderr",
          "output_type": "stream",
          "text": [
            "Epoch 80: 100%|██████████| 3130/3130 [00:24<00:00, 129.55batch/s, train_loss=tensor(0.0852, device='cuda:0', grad_fn=<MseLossBackward0>)]\n"
          ]
        },
        {
          "metadata": {
            "tags": null
          },
          "name": "stdout",
          "output_type": "stream",
          "text": [
            "loss_sum=  0.07062479893465397 ACC=  0.9264109184802656 bacc=  0.8942056209280105 precision=  0.8873873873873874 specificity=  0.9624154347281383 sensitivity=  0.8259958071278826 recall=  0.8259958071278826 MCC=  0.8072345145500145 AUC=  0.9503100179456888 f1=  0.8555917480998915\n",
            "Epoch: 80 / 500, ############## the best accuracy in val  92.4751 at Epoch: 68  ##############\n",
            "Performance in Val: Loss: (0.0706); Accuracy (92.64)\n"
          ]
        },
        {
          "metadata": {
            "tags": null
          },
          "name": "stderr",
          "output_type": "stream",
          "text": [
            "Epoch 81: 100%|██████████| 3130/3130 [00:24<00:00, 126.88batch/s, train_loss=tensor(0.0169, device='cuda:0', grad_fn=<MseLossBackward0>)]\n"
          ]
        },
        {
          "metadata": {
            "tags": null
          },
          "name": "stdout",
          "output_type": "stream",
          "text": [
            "loss_sum=  0.06994013034169917 ACC=  0.9212467724087052 bacc=  0.8866634939095144 precision=  0.879154078549849 specificity=  0.9599097970433476 sensitivity=  0.8134171907756813 recall=  0.8134171907756813 MCC=  0.7934030721512054 AUC=  0.9544955359902199 f1=  0.8450090744101633\n",
            "Epoch: 81 / 500, ############## the best accuracy in val  92.6411 at Epoch: 80  ##############\n",
            "Performance in Val: Loss: (0.0699); Accuracy (92.12)\n"
          ]
        },
        {
          "metadata": {
            "tags": null
          },
          "name": "stderr",
          "output_type": "stream",
          "text": [
            "Epoch 82: 100%|██████████| 3130/3130 [00:24<00:00, 127.39batch/s, train_loss=tensor(0.0312, device='cuda:0', grad_fn=<MseLossBackward0>)]\n"
          ]
        },
        {
          "metadata": {
            "tags": null
          },
          "name": "stdout",
          "output_type": "stream",
          "text": [
            "loss_sum=  0.06976338119347715 ACC=  0.9247510143858355 bacc=  0.8924057115932231 precision=  0.8831460674157303 specificity=  0.9609120521172638 sensitivity=  0.8238993710691824 recall=  0.8238993710691824 MCC=  0.8029399096150047 AUC=  0.9538564320384737 f1=  0.8524945770065075\n",
            "Epoch: 82 / 500, ############## the best accuracy in val  92.6411 at Epoch: 80  ##############\n",
            "Performance in Val: Loss: (0.0698); Accuracy (92.48)\n"
          ]
        },
        {
          "metadata": {
            "tags": null
          },
          "name": "stderr",
          "output_type": "stream",
          "text": [
            "Epoch 83: 100%|██████████| 3130/3130 [00:24<00:00, 129.63batch/s, train_loss=tensor(0.0234, device='cuda:0', grad_fn=<MseLossBackward0>)]\n"
          ]
        },
        {
          "metadata": {
            "tags": null
          },
          "name": "stdout",
          "output_type": "stream",
          "text": [
            "loss_sum=  0.06992172463563516 ACC=  0.9232755440796754 bacc=  0.8891622152638685 precision=  0.8835978835978836 specificity=  0.961413179654222 sensitivity=  0.816911250873515 recall=  0.816911250873515 MCC=  0.7987345342542432 AUC=  0.9524976795273642 f1=  0.8489469862018881\n",
            "Epoch: 83 / 500, ############## the best accuracy in val  92.6411 at Epoch: 80  ##############\n",
            "Performance in Val: Loss: (0.0699); Accuracy (92.33)\n"
          ]
        },
        {
          "metadata": {
            "tags": null
          },
          "name": "stderr",
          "output_type": "stream",
          "text": [
            "Epoch 84: 100%|██████████| 3130/3130 [00:23<00:00, 130.69batch/s, train_loss=tensor(0.0340, device='cuda:0', grad_fn=<MseLossBackward0>)]\n"
          ]
        },
        {
          "metadata": {
            "tags": null
          },
          "name": "stdout",
          "output_type": "stream",
          "text": [
            "loss_sum=  0.06945709123174525 ACC=  0.9225378089265953 bacc=  0.8893334601035419 precision=  0.8792198049512379 specificity=  0.9596592332748685 sensitivity=  0.8190076869322153 recall=  0.8190076869322153 MCC=  0.7970558908904952 AUC=  0.9538207122559652 f1=  0.8480463096960926\n",
            "Epoch: 84 / 500, ############## the best accuracy in val  92.6411 at Epoch: 80  ##############\n",
            "Performance in Val: Loss: (0.0695); Accuracy (92.25)\n"
          ]
        },
        {
          "metadata": {
            "tags": null
          },
          "name": "stderr",
          "output_type": "stream",
          "text": [
            "Epoch 85: 100%|██████████| 3130/3130 [00:24<00:00, 130.06batch/s, train_loss=tensor(0.0501, device='cuda:0', grad_fn=<MseLossBackward0>)]\n"
          ]
        },
        {
          "metadata": {
            "tags": null
          },
          "name": "stdout",
          "output_type": "stream",
          "text": [
            "loss_sum=  0.06980591004022059 ACC=  0.9236444116562155 bacc=  0.8925505167899612 precision=  0.876945885841364 specificity=  0.9584064144324731 sensitivity=  0.8266946191474493 recall=  0.8266946191474493 MCC=  0.8004294331404155 AUC=  0.9538371713714346 f1=  0.8510791366906475\n",
            "Epoch: 85 / 500, ############## the best accuracy in val  92.6411 at Epoch: 80  ##############\n",
            "Performance in Val: Loss: (0.0698); Accuracy (92.36)\n"
          ]
        },
        {
          "metadata": {
            "tags": null
          },
          "name": "stderr",
          "output_type": "stream",
          "text": [
            "Epoch 86: 100%|██████████| 3130/3130 [00:24<00:00, 126.62batch/s, train_loss=tensor(0.0572, device='cuda:0', grad_fn=<MseLossBackward0>)]\n"
          ]
        },
        {
          "metadata": {
            "tags": null
          },
          "name": "stdout",
          "output_type": "stream",
          "text": [
            "loss_sum=  0.06963636944960572 ACC=  0.9240132792327554 bacc=  0.8894392186752829 precision=  0.8868640850417616 specificity=  0.9626659984966174 sensitivity=  0.8162124388539483 recall=  0.8162124388539483 MCC=  0.8005360490321366 AUC=  0.9531845849527614 f1=  0.8500727802037846\n",
            "Epoch: 86 / 500, ############## the best accuracy in val  92.6411 at Epoch: 80  ##############\n",
            "Performance in Val: Loss: (0.0696); Accuracy (92.40)\n"
          ]
        },
        {
          "metadata": {
            "tags": null
          },
          "name": "stderr",
          "output_type": "stream",
          "text": [
            "Epoch 87: 100%|██████████| 3130/3130 [00:24<00:00, 129.41batch/s, train_loss=tensor(0.0295, device='cuda:0', grad_fn=<MseLossBackward0>)]\n"
          ]
        },
        {
          "metadata": {
            "tags": null
          },
          "name": "stdout",
          "output_type": "stream",
          "text": [
            "loss_sum=  0.07002241767333013 ACC=  0.9223533751383254 bacc=  0.889432302344846 precision=  0.8779940119760479 specificity=  0.9591581057379103 sensitivity=  0.8197064989517819 recall=  0.8197064989517819 MCC=  0.7966549123450999 AUC=  0.951041923293168 f1=  0.8478496566678713\n",
            "Epoch: 87 / 500, ############## the best accuracy in val  92.6411 at Epoch: 80  ##############\n",
            "Performance in Val: Loss: (0.0700); Accuracy (92.24)\n"
          ]
        },
        {
          "metadata": {
            "tags": null
          },
          "name": "stderr",
          "output_type": "stream",
          "text": [
            "Epoch 88: 100%|██████████| 3130/3130 [00:24<00:00, 130.07batch/s, train_loss=tensor(0.0347, device='cuda:0', grad_fn=<MseLossBackward0>)]\n"
          ]
        },
        {
          "metadata": {
            "tags": null
          },
          "name": "stdout",
          "output_type": "stream",
          "text": [
            "loss_sum=  0.06958239546710498 ACC=  0.9249354481741054 bacc=  0.8936516141051818 precision=  0.8809523809523809 specificity=  0.9599097970433476 sensitivity=  0.827393431167016 recall=  0.827393431167016 MCC=  0.8036731661212089 AUC=  0.9517780309680008 f1=  0.8533333333333333\n",
            "Epoch: 88 / 500, ############## the best accuracy in val  92.6411 at Epoch: 80  ##############\n",
            "Performance in Val: Loss: (0.0696); Accuracy (92.49)\n"
          ]
        },
        {
          "metadata": {
            "tags": null
          },
          "name": "stderr",
          "output_type": "stream",
          "text": [
            "Epoch 89: 100%|██████████| 3130/3130 [00:24<00:00, 130.05batch/s, train_loss=tensor(0.0216, device='cuda:0', grad_fn=<MseLossBackward0>)]\n"
          ]
        },
        {
          "metadata": {
            "tags": null
          },
          "name": "stdout",
          "output_type": "stream",
          "text": [
            "loss_sum=  0.06952884998502193 ACC=  0.9262264846919955 bacc=  0.8931838425415957 precision=  0.8890566037735849 specificity=  0.9631671260335756 sensitivity=  0.8232005590496156 recall=  0.8232005590496156 MCC=  0.8065762279566188 AUC=  0.9531721530676727 f1=  0.8548621190130624\n",
            "Epoch: 89 / 500, ############## the best accuracy in val  92.6411 at Epoch: 80  ##############\n",
            "Performance in Val: Loss: (0.0695); Accuracy (92.62)\n"
          ]
        },
        {
          "metadata": {
            "tags": null
          },
          "name": "stderr",
          "output_type": "stream",
          "text": [
            "Epoch 90: 100%|██████████| 3130/3130 [00:24<00:00, 129.79batch/s, train_loss=tensor(0.0321, device='cuda:0', grad_fn=<MseLossBackward0>)]\n"
          ]
        },
        {
          "metadata": {
            "tags": null
          },
          "name": "stdout",
          "output_type": "stream",
          "text": [
            "loss_sum=  0.06998245821850907 ACC=  0.9251198819623755 bacc=  0.8904150341062639 precision=  0.8903274942878904 specificity=  0.9639188173390127 sensitivity=  0.816911250873515 recall=  0.816911250873515 MCC=  0.8033721567556275 AUC=  0.9502732475813416 f1=  0.8520408163265306\n",
            "Epoch: 90 / 500, ############## the best accuracy in val  92.6411 at Epoch: 80  ##############\n",
            "Performance in Val: Loss: (0.0700); Accuracy (92.51)\n"
          ]
        },
        {
          "metadata": {
            "tags": null
          },
          "name": "stderr",
          "output_type": "stream",
          "text": [
            "Epoch 91: 100%|██████████| 3130/3130 [00:24<00:00, 128.09batch/s, train_loss=tensor(0.0294, device='cuda:0', grad_fn=<MseLossBackward0>)]\n"
          ]
        },
        {
          "metadata": {
            "tags": null
          },
          "name": "stdout",
          "output_type": "stream",
          "text": [
            "loss_sum=  0.06973701656746588 ACC=  0.9249354481741054 bacc=  0.8916344969752873 precision=  0.8861236802413273 specificity=  0.9621648709596592 sensitivity=  0.8211041229909154 recall=  0.8211041229909154 MCC=  0.8031929353626651 AUC=  0.9517797819377316 f1=  0.8523757707653247\n",
            "Epoch: 91 / 500, ############## the best accuracy in val  92.6411 at Epoch: 80  ##############\n",
            "Performance in Val: Loss: (0.0697); Accuracy (92.49)\n"
          ]
        },
        {
          "metadata": {
            "tags": null
          },
          "name": "stderr",
          "output_type": "stream",
          "text": [
            "Epoch 92: 100%|██████████| 3130/3130 [00:24<00:00, 127.46batch/s, train_loss=tensor(0.0178, device='cuda:0', grad_fn=<MseLossBackward0>)]\n"
          ]
        },
        {
          "metadata": {
            "tags": null
          },
          "name": "stdout",
          "output_type": "stream",
          "text": [
            "loss_sum=  0.06885473734553585 ACC=  0.9241977130210255 bacc=  0.8913574935638731 precision=  0.8828828828828829 specificity=  0.9609120521172638 sensitivity=  0.8218029350104822 recall=  0.8218029350104822 MCC=  0.801402262070322 AUC=  0.9538312180743498 f1=  0.8512486427795873\n",
            "Epoch: 92 / 500, ############## the best accuracy in val  92.6411 at Epoch: 80  ##############\n",
            "Performance in Val: Loss: (0.0689); Accuracy (92.42)\n"
          ]
        },
        {
          "metadata": {
            "tags": null
          },
          "name": "stderr",
          "output_type": "stream",
          "text": [
            "Epoch 93: 100%|██████████| 3130/3130 [00:24<00:00, 129.54batch/s, train_loss=tensor(0.0372, device='cuda:0', grad_fn=<MseLossBackward0>)]\n"
          ]
        },
        {
          "metadata": {
            "tags": null
          },
          "name": "stdout",
          "output_type": "stream",
          "text": [
            "loss_sum=  0.07023806986055586 ACC=  0.9230911102914053 bacc=  0.8888128092540852 precision=  0.8835098335854765 specificity=  0.961413179654222 sensitivity=  0.8162124388539483 recall=  0.8162124388539483 MCC=  0.7982218002187317 AUC=  0.9520203651787451 f1=  0.8485288775880857\n",
            "Epoch: 93 / 500, ############## the best accuracy in val  92.6411 at Epoch: 80  ##############\n",
            "Performance in Val: Loss: (0.0702); Accuracy (92.31)\n"
          ]
        },
        {
          "metadata": {
            "tags": null
          },
          "name": "stderr",
          "output_type": "stream",
          "text": [
            "Epoch 94: 100%|██████████| 3130/3130 [00:24<00:00, 127.10batch/s, train_loss=tensor(0.0964, device='cuda:0', grad_fn=<MseLossBackward0>)]\n"
          ]
        },
        {
          "metadata": {
            "tags": null
          },
          "name": "stdout",
          "output_type": "stream",
          "text": [
            "loss_sum=  0.06982543084984727 ACC=  0.9253043157506455 bacc=  0.8921091848693102 precision=  0.8868778280542986 specificity=  0.9624154347281383 sensitivity=  0.8218029350104822 recall=  0.8218029350104822 MCC=  0.8041664603353782 AUC=  0.9525102865094259 f1=  0.85310119695321\n",
            "Epoch: 94 / 500, ############## the best accuracy in val  92.6411 at Epoch: 80  ##############\n",
            "Performance in Val: Loss: (0.0698); Accuracy (92.53)\n"
          ]
        },
        {
          "metadata": {
            "tags": null
          },
          "name": "stderr",
          "output_type": "stream",
          "text": [
            "Epoch 95: 100%|██████████| 3130/3130 [00:24<00:00, 128.32batch/s, train_loss=tensor(0.0252, device='cuda:0', grad_fn=<MseLossBackward0>)]\n"
          ]
        },
        {
          "metadata": {
            "tags": null
          },
          "name": "stdout",
          "output_type": "stream",
          "text": [
            "loss_sum=  0.06908454885843669 ACC=  0.9247510143858355 bacc=  0.8901644703377849 precision=  0.8889733840304183 specificity=  0.9634176898020547 sensitivity=  0.816911250873515 recall=  0.816911250873515 MCC=  0.8024411047717274 AUC=  0.9518268830234905 f1=  0.8514202476329206\n",
            "Epoch: 95 / 500, ############## the best accuracy in val  92.6411 at Epoch: 80  ##############\n",
            "Performance in Val: Loss: (0.0691); Accuracy (92.48)\n"
          ]
        },
        {
          "metadata": {
            "tags": null
          },
          "name": "stderr",
          "output_type": "stream",
          "text": [
            "Epoch 96: 100%|██████████| 3130/3130 [00:24<00:00, 127.86batch/s, train_loss=tensor(0.0461, device='cuda:0', grad_fn=<MseLossBackward0>)]\n"
          ]
        },
        {
          "metadata": {
            "tags": null
          },
          "name": "stdout",
          "output_type": "stream",
          "text": [
            "loss_sum=  0.06873127708010991 ACC=  0.9245665805975655 bacc=  0.8889185678258261 precision=  0.891271056661562 specificity=  0.9644199448759709 sensitivity=  0.8134171907756813 recall=  0.8134171907756813 MCC=  0.8017520568039075 AUC=  0.9530238459314729 f1=  0.8505663134819145\n",
            "Epoch: 96 / 500, ############## the best accuracy in val  92.6411 at Epoch: 80  ##############\n",
            "Performance in Val: Loss: (0.0687); Accuracy (92.46)\n"
          ]
        },
        {
          "metadata": {
            "tags": null
          },
          "name": "stderr",
          "output_type": "stream",
          "text": [
            "Epoch 97: 100%|██████████| 3130/3130 [00:24<00:00, 128.83batch/s, train_loss=tensor(0.0369, device='cuda:0', grad_fn=<MseLossBackward0>)]\n"
          ]
        },
        {
          "metadata": {
            "tags": null
          },
          "name": "stdout",
          "output_type": "stream",
          "text": [
            "loss_sum=  0.06913788884378157 ACC=  0.9280708225746956 bacc=  0.895781406137254 precision=  0.8922381311228335 specificity=  0.9641693811074918 sensitivity=  0.827393431167016 recall=  0.827393431167016 MCC=  0.8114908907510892 AUC=  0.9534004795205704 f1=  0.8585931834662799\n",
            "Epoch: 97 / 500, ############## the best accuracy in val  92.6411 at Epoch: 80  ##############\n",
            "Performance in Val: Loss: (0.0691); Accuracy (92.81)\n"
          ]
        },
        {
          "metadata": {
            "tags": null
          },
          "name": "stderr",
          "output_type": "stream",
          "text": [
            "Epoch 98: 100%|██████████| 3130/3130 [00:24<00:00, 126.89batch/s, train_loss=tensor(0.0134, device='cuda:0', grad_fn=<MseLossBackward0>)]\n"
          ]
        },
        {
          "metadata": {
            "tags": null
          },
          "name": "stdout",
          "output_type": "stream",
          "text": [
            "loss_sum=  0.06958541707589036 ACC=  0.9234599778679454 bacc=  0.8910804901524587 precision=  0.8796711509715994 specificity=  0.9596592332748685 sensitivity=  0.822501747030049 recall=  0.822501747030049 MCC=  0.7996241532559228 AUC=  0.9533055769611606 f1=  0.850126399422174\n",
            "Epoch: 98 / 500, ############## the best accuracy in val  92.8071 at Epoch: 97  ##############\n",
            "Performance in Val: Loss: (0.0696); Accuracy (92.35)\n"
          ]
        },
        {
          "metadata": {
            "tags": null
          },
          "name": "stderr",
          "output_type": "stream",
          "text": [
            "Epoch 99: 100%|██████████| 3130/3130 [00:25<00:00, 124.87batch/s, train_loss=tensor(0.0627, device='cuda:0', grad_fn=<MseLossBackward0>)]\n"
          ]
        },
        {
          "metadata": {
            "tags": null
          },
          "name": "stdout",
          "output_type": "stream",
          "text": [
            "loss_sum=  0.06852897095073641 ACC=  0.9251198819623755 bacc=  0.8910874064828954 precision=  0.88855193328279 specificity=  0.9631671260335756 sensitivity=  0.8190076869322153 recall=  0.8190076869322153 MCC=  0.8035101210300633 AUC=  0.9545130456875279 f1=  0.8523636363636363\n",
            "Epoch: 99 / 500, ############## the best accuracy in val  92.8071 at Epoch: 97  ##############\n",
            "Performance in Val: Loss: (0.0685); Accuracy (92.51)\n"
          ]
        },
        {
          "metadata": {
            "tags": null
          },
          "name": "stderr",
          "output_type": "stream",
          "text": [
            "Epoch 100: 100%|██████████| 3130/3130 [00:24<00:00, 128.97batch/s, train_loss=tensor(0.0146, device='cuda:0', grad_fn=<MseLossBackward0>)]\n"
          ]
        },
        {
          "metadata": {
            "tags": null
          },
          "name": "stdout",
          "output_type": "stream",
          "text": [
            "loss_sum=  0.06995130078468724 ACC=  0.9241977130210255 bacc=  0.8913574935638731 precision=  0.8828828828828829 specificity=  0.9609120521172638 sensitivity=  0.8218029350104822 recall=  0.8218029350104822 MCC=  0.801402262070322 AUC=  0.9512805804674773 f1=  0.8512486427795873\n",
            "Epoch: 100 / 500, ############## the best accuracy in val  92.8071 at Epoch: 97  ##############\n",
            "Performance in Val: Loss: (0.0700); Accuracy (92.42)\n"
          ]
        },
        {
          "metadata": {
            "tags": null
          },
          "name": "stderr",
          "output_type": "stream",
          "text": [
            "Epoch 101: 100%|██████████| 3130/3130 [00:24<00:00, 128.36batch/s, train_loss=tensor(0.0522, device='cuda:0', grad_fn=<MseLossBackward0>)]\n"
          ]
        },
        {
          "metadata": {
            "tags": null
          },
          "name": "stdout",
          "output_type": "stream",
          "text": [
            "loss_sum=  0.06942459181154416 ACC=  0.9267797860568056 bacc=  0.8942320605709457 precision=  0.8893072289156626 specificity=  0.9631671260335756 sensitivity=  0.8252969951083159 recall=  0.8252969951083159 MCC=  0.8081084718647038 AUC=  0.9522711040441973 f1=  0.8561072852482784\n",
            "Epoch: 101 / 500, ############## the best accuracy in val  92.8071 at Epoch: 97  ##############\n",
            "Performance in Val: Loss: (0.0694); Accuracy (92.68)\n"
          ]
        },
        {
          "metadata": {
            "tags": null
          },
          "name": "stderr",
          "output_type": "stream",
          "text": [
            "Epoch 102: 100%|██████████| 3130/3130 [00:24<00:00, 127.22batch/s, train_loss=tensor(0.0458, device='cuda:0', grad_fn=<MseLossBackward0>)]\n"
          ]
        },
        {
          "metadata": {
            "tags": null
          },
          "name": "stdout",
          "output_type": "stream",
          "text": [
            "loss_sum=  0.06903985482407048 ACC=  0.9291774253043158 bacc=  0.898101966321498 precision=  0.8921348314606742 specificity=  0.9639188173390127 sensitivity=  0.8322851153039832 recall=  0.8322851153039832 MCC=  0.814595576496343 AUC=  0.9535538644689895 f1=  0.8611713665943601\n",
            "Epoch: 102 / 500, ############## the best accuracy in val  92.8071 at Epoch: 97  ##############\n",
            "Performance in Val: Loss: (0.0690); Accuracy (92.92)\n"
          ]
        },
        {
          "metadata": {
            "tags": null
          },
          "name": "stderr",
          "output_type": "stream",
          "text": [
            "Epoch 103: 100%|██████████| 3130/3130 [00:24<00:00, 128.37batch/s, train_loss=tensor(0.0589, device='cuda:0', grad_fn=<MseLossBackward0>)]\n"
          ]
        },
        {
          "metadata": {
            "tags": null
          },
          "name": "stdout",
          "output_type": "stream",
          "text": [
            "loss_sum=  0.06890823996411555 ACC=  0.9269642198450756 bacc=  0.8930125977019223 precision=  0.8935361216730038 specificity=  0.9649210724129291 sensitivity=  0.8211041229909154 recall=  0.8211041229909154 MCC=  0.8082987741454415 AUC=  0.9542262368456209 f1=  0.8557902403495994\n",
            "Epoch: 103 / 500, ############## the best accuracy in val  92.9177 at Epoch: 102  ##############\n",
            "Performance in Val: Loss: (0.0689); Accuracy (92.70)\n"
          ]
        },
        {
          "metadata": {
            "tags": null
          },
          "name": "stderr",
          "output_type": "stream",
          "text": [
            "Epoch 104: 100%|██████████| 3130/3130 [00:24<00:00, 129.75batch/s, train_loss=tensor(0.0354, device='cuda:0', grad_fn=<MseLossBackward0>)]\n"
          ]
        },
        {
          "metadata": {
            "tags": null
          },
          "name": "stdout",
          "output_type": "stream",
          "text": [
            "loss_sum=  0.06878196434214008 ACC=  0.9258576171154556 bacc=  0.8938297752752918 precision=  0.8853932584269663 specificity=  0.9616637434227011 sensitivity=  0.8259958071278826 recall=  0.8259958071278826 MCC=  0.8058538263353393 AUC=  0.9518242565688942 f1=  0.8546637744034707\n",
            "Epoch: 104 / 500, ############## the best accuracy in val  92.9177 at Epoch: 102  ##############\n",
            "Performance in Val: Loss: (0.0688); Accuracy (92.59)\n"
          ]
        },
        {
          "metadata": {
            "tags": null
          },
          "name": "stderr",
          "output_type": "stream",
          "text": [
            "Epoch 105: 100%|██████████| 3130/3130 [00:24<00:00, 128.78batch/s, train_loss=tensor(0.0354, device='cuda:0', grad_fn=<MseLossBackward0>)]\n"
          ]
        },
        {
          "metadata": {
            "tags": null
          },
          "name": "stdout",
          "output_type": "stream",
          "text": [
            "loss_sum=  0.06918518303805594 ACC=  0.9243821468092954 bacc=  0.8914827754481125 precision=  0.8835462058602555 specificity=  0.9611626158857429 sensitivity=  0.8218029350104822 recall=  0.8218029350104822 MCC=  0.8018618794214463 AUC=  0.9523075242145981 f1=  0.8515568428674872\n",
            "Epoch: 105 / 500, ############## the best accuracy in val  92.9177 at Epoch: 102  ##############\n",
            "Performance in Val: Loss: (0.0692); Accuracy (92.44)\n"
          ]
        },
        {
          "metadata": {
            "tags": null
          },
          "name": "stderr",
          "output_type": "stream",
          "text": [
            "Epoch 106: 100%|██████████| 3130/3130 [00:24<00:00, 128.53batch/s, train_loss=tensor(0.0675, device='cuda:0', grad_fn=<MseLossBackward0>)]\n"
          ]
        },
        {
          "metadata": {
            "tags": null
          },
          "name": "stdout",
          "output_type": "stream",
          "text": [
            "loss_sum=  0.06969260115239627 ACC=  0.9223533751383254 bacc=  0.8916735436002845 precision=  0.8724188790560472 specificity=  0.9566524680531195 sensitivity=  0.8266946191474493 recall=  0.8266946191474493 MCC=  0.7972625819100794 AUC=  0.9522175243704344 f1=  0.8489415141729458\n",
            "Epoch: 106 / 500, ############## the best accuracy in val  92.9177 at Epoch: 102  ##############\n",
            "Performance in Val: Loss: (0.0697); Accuracy (92.24)\n"
          ]
        },
        {
          "metadata": {
            "tags": null
          },
          "name": "stderr",
          "output_type": "stream",
          "text": [
            "Epoch 107: 100%|██████████| 3130/3130 [00:24<00:00, 127.92batch/s, train_loss=tensor(0.0411, device='cuda:0', grad_fn=<MseLossBackward0>)]\n"
          ]
        },
        {
          "metadata": {
            "tags": null
          },
          "name": "stdout",
          "output_type": "stream",
          "text": [
            "loss_sum=  0.06939640083929914 ACC=  0.9241977130210255 bacc=  0.8877715075551718 precision=  0.8923076923076924 specificity=  0.9649210724129291 sensitivity=  0.8106219426974144 recall=  0.8106219426974144 MCC=  0.8006466698994595 AUC=  0.9533209854947916 f1=  0.8495056755767117\n",
            "Epoch: 107 / 500, ############## the best accuracy in val  92.9177 at Epoch: 102  ##############\n",
            "Performance in Val: Loss: (0.0694); Accuracy (92.42)\n"
          ]
        },
        {
          "metadata": {
            "tags": null
          },
          "name": "stderr",
          "output_type": "stream",
          "text": [
            "Epoch 108: 100%|██████████| 3130/3130 [00:23<00:00, 130.97batch/s, train_loss=tensor(0.0332, device='cuda:0', grad_fn=<MseLossBackward0>)]\n"
          ]
        },
        {
          "metadata": {
            "tags": null
          },
          "name": "stdout",
          "output_type": "stream",
          "text": [
            "loss_sum=  0.06865160362753786 ACC=  0.9247510143858355 bacc=  0.8917333392165916 precision=  0.8848758465011287 specificity=  0.9616637434227011 sensitivity=  0.8218029350104822 recall=  0.8218029350104822 MCC=  0.8027824104815247 AUC=  0.9537510236606788 f1=  0.8521739130434783\n",
            "Epoch: 108 / 500, ############## the best accuracy in val  92.9177 at Epoch: 102  ##############\n",
            "Performance in Val: Loss: (0.0687); Accuracy (92.48)\n"
          ]
        },
        {
          "metadata": {
            "tags": null
          },
          "name": "stderr",
          "output_type": "stream",
          "text": [
            "Epoch 109: 100%|██████████| 3130/3130 [00:24<00:00, 129.33batch/s, train_loss=tensor(0.0756, device='cuda:0', grad_fn=<MseLossBackward0>)]\n"
          ]
        },
        {
          "metadata": {
            "tags": null
          },
          "name": "stdout",
          "output_type": "stream",
          "text": [
            "loss_sum=  0.06830984569679407 ACC=  0.9253043157506455 bacc=  0.893678053748117 precision=  0.8828358208955224 specificity=  0.9606614883487847 sensitivity=  0.8266946191474493 recall=  0.8266946191474493 MCC=  0.8045313689333318 AUC=  0.9549817802844661 f1=  0.8538433778419343\n",
            "Epoch: 109 / 500, ############## the best accuracy in val  92.9177 at Epoch: 102  ##############\n",
            "Performance in Val: Loss: (0.0683); Accuracy (92.53)\n"
          ]
        },
        {
          "metadata": {
            "tags": null
          },
          "name": "stderr",
          "output_type": "stream",
          "text": [
            "Epoch 110: 100%|██████████| 3130/3130 [00:24<00:00, 126.44batch/s, train_loss=tensor(0.0281, device='cuda:0', grad_fn=<MseLossBackward0>)]\n"
          ]
        },
        {
          "metadata": {
            "tags": null
          },
          "name": "stdout",
          "output_type": "stream",
          "text": [
            "loss_sum=  0.06922211483598942 ACC=  0.9264109184802656 bacc=  0.893533248551379 precision=  0.8891402714932126 specificity=  0.9631671260335756 sensitivity=  0.8238993710691824 recall=  0.8238993710691824 MCC=  0.8070870352535175 AUC=  0.9512170202662491 f1=  0.8552774755168662\n",
            "Epoch: 110 / 500, ############## the best accuracy in val  92.9177 at Epoch: 102  ##############\n",
            "Performance in Val: Loss: (0.0692); Accuracy (92.64)\n"
          ]
        },
        {
          "metadata": {
            "tags": null
          },
          "name": "stderr",
          "output_type": "stream",
          "text": [
            "Epoch 111: 100%|██████████| 3130/3130 [00:25<00:00, 123.22batch/s, train_loss=tensor(0.0324, device='cuda:0', grad_fn=<MseLossBackward0>)]\n"
          ]
        },
        {
          "metadata": {
            "tags": null
          },
          "name": "stdout",
          "output_type": "stream",
          "text": [
            "loss_sum=  0.06836934979444584 ACC=  0.9262264846919955 bacc=  0.8918390977883326 precision=  0.8926123381568926 specificity=  0.96467050864445 sensitivity=  0.8190076869322153 recall=  0.8190076869322153 MCC=  0.8063025078222554 AUC=  0.954517423111855 f1=  0.8542274052478134\n",
            "Epoch: 111 / 500, ############## the best accuracy in val  92.9177 at Epoch: 102  ##############\n",
            "Performance in Val: Loss: (0.0684); Accuracy (92.62)\n"
          ]
        },
        {
          "metadata": {
            "tags": null
          },
          "name": "stderr",
          "output_type": "stream",
          "text": [
            "Epoch 112: 100%|██████████| 3130/3130 [00:24<00:00, 125.83batch/s, train_loss=tensor(0.0513, device='cuda:0', grad_fn=<MseLossBackward0>)]\n"
          ]
        },
        {
          "metadata": {
            "tags": null
          },
          "name": "stdout",
          "output_type": "stream",
          "text": [
            "loss_sum=  0.0689452958655898 ACC=  0.9241977130210255 bacc=  0.8909092453127854 precision=  0.8840361445783133 specificity=  0.961413179654222 sensitivity=  0.8204053109713487 recall=  0.8204053109713487 MCC=  0.801297267426709 AUC=  0.955359814649348 f1=  0.8510329829648422\n",
            "Epoch: 112 / 500, ############## the best accuracy in val  92.9177 at Epoch: 102  ##############\n",
            "Performance in Val: Loss: (0.0689); Accuracy (92.42)\n"
          ]
        },
        {
          "metadata": {
            "tags": null
          },
          "name": "stderr",
          "output_type": "stream",
          "text": [
            "Epoch 113: 100%|██████████| 3130/3130 [00:24<00:00, 128.95batch/s, train_loss=tensor(0.0767, device='cuda:0', grad_fn=<MseLossBackward0>)]\n"
          ]
        },
        {
          "metadata": {
            "tags": null
          },
          "name": "stdout",
          "output_type": "stream",
          "text": [
            "loss_sum=  0.06954537129859305 ACC=  0.9256731833271855 bacc=  0.8928079968888769 precision=  0.8870481927710844 specificity=  0.9624154347281383 sensitivity=  0.8232005590496156 recall=  0.8232005590496156 MCC=  0.8051893842484203 AUC=  0.9517762799982701 f1=  0.853932584269663\n",
            "Epoch: 113 / 500, ############## the best accuracy in val  92.9177 at Epoch: 102  ##############\n",
            "Performance in Val: Loss: (0.0695); Accuracy (92.57)\n"
          ]
        },
        {
          "metadata": {
            "tags": null
          },
          "name": "stderr",
          "output_type": "stream",
          "text": [
            "Epoch 114: 100%|██████████| 3130/3130 [00:24<00:00, 127.68batch/s, train_loss=tensor(0.0197, device='cuda:0', grad_fn=<MseLossBackward0>)]\n"
          ]
        },
        {
          "metadata": {
            "tags": null
          },
          "name": "stdout",
          "output_type": "stream",
          "text": [
            "loss_sum=  0.06827345790868972 ACC=  0.9260420509037256 bacc=  0.8939550571595314 precision=  0.8860569715142429 specificity=  0.9619143071911802 sensitivity=  0.8259958071278826 recall=  0.8259958071278826 MCC=  0.8063136238925894 AUC=  0.9532763357666559 f1=  0.8549728752260398\n",
            "Epoch: 114 / 500, ############## the best accuracy in val  92.9177 at Epoch: 102  ##############\n",
            "Performance in Val: Loss: (0.0683); Accuracy (92.60)\n"
          ]
        },
        {
          "metadata": {
            "tags": null
          },
          "name": "stderr",
          "output_type": "stream",
          "text": [
            "Epoch 115: 100%|██████████| 3130/3130 [00:24<00:00, 126.02batch/s, train_loss=tensor(0.0516, device='cuda:0', grad_fn=<MseLossBackward0>)]\n"
          ]
        },
        {
          "metadata": {
            "tags": null
          },
          "name": "stdout",
          "output_type": "stream",
          "text": [
            "loss_sum=  0.06837014777717733 ACC=  0.9254887495389156 bacc=  0.88932085312148 precision=  0.8953040800615858 specificity=  0.9659233274868454 sensitivity=  0.8127183787561146 recall=  0.8127183787561146 MCC=  0.8040574863364496 AUC=  0.9548949321858178 f1=  0.852014652014652\n",
            "Epoch: 115 / 500, ############## the best accuracy in val  92.9177 at Epoch: 102  ##############\n",
            "Performance in Val: Loss: (0.0684); Accuracy (92.55)\n"
          ]
        },
        {
          "metadata": {
            "tags": null
          },
          "name": "stderr",
          "output_type": "stream",
          "text": [
            "Epoch 116: 100%|██████████| 3130/3130 [00:24<00:00, 129.36batch/s, train_loss=tensor(0.0371, device='cuda:0', grad_fn=<MseLossBackward0>)]\n"
          ]
        },
        {
          "metadata": {
            "tags": null
          },
          "name": "stdout",
          "output_type": "stream",
          "text": [
            "loss_sum=  0.06847716404048171 ACC=  0.9267797860568056 bacc=  0.8935596881943142 precision=  0.8910741301059002 specificity=  0.9639188173390127 sensitivity=  0.8232005590496156 recall=  0.8232005590496156 MCC=  0.8079670096431822 AUC=  0.9539311984459794 f1=  0.8557936796222303\n",
            "Epoch: 116 / 500, ############## the best accuracy in val  92.9177 at Epoch: 102  ##############\n",
            "Performance in Val: Loss: (0.0685); Accuracy (92.68)\n"
          ]
        },
        {
          "metadata": {
            "tags": null
          },
          "name": "stderr",
          "output_type": "stream",
          "text": [
            "Epoch 117: 100%|██████████| 3130/3130 [00:24<00:00, 128.81batch/s, train_loss=tensor(0.0490, device='cuda:0', grad_fn=<MseLossBackward0>)]\n"
          ]
        },
        {
          "metadata": {
            "tags": null
          },
          "name": "stdout",
          "output_type": "stream",
          "text": [
            "loss_sum=  0.06885153910826484 ACC=  0.9269642198450756 bacc=  0.8921161011997469 precision=  0.8959449120122418 specificity=  0.9659233274868454 sensitivity=  0.8183088749126485 recall=  0.8183088749126485 MCC=  0.808132622624536 AUC=  0.9532994485671027 f1=  0.8553688823959094\n",
            "Epoch: 117 / 500, ############## the best accuracy in val  92.9177 at Epoch: 102  ##############\n",
            "Performance in Val: Loss: (0.0689); Accuracy (92.70)\n"
          ]
        },
        {
          "metadata": {
            "tags": null
          },
          "name": "stderr",
          "output_type": "stream",
          "text": [
            "Epoch 118: 100%|██████████| 3130/3130 [00:24<00:00, 128.91batch/s, train_loss=tensor(0.0764, device='cuda:0', grad_fn=<MseLossBackward0>)]\n"
          ]
        },
        {
          "metadata": {
            "tags": null
          },
          "name": "stdout",
          "output_type": "stream",
          "text": [
            "loss_sum=  0.06879093159116519 ACC=  0.9258576171154556 bacc=  0.8942780235263794 precision=  0.8842419716206124 specificity=  0.9611626158857429 sensitivity=  0.827393431167016 recall=  0.827393431167016 MCC=  0.8059595928212183 AUC=  0.9533061022520798 f1=  0.8548736462093862\n",
            "Epoch: 118 / 500, ############## the best accuracy in val  92.9177 at Epoch: 102  ##############\n",
            "Performance in Val: Loss: (0.0688); Accuracy (92.59)\n"
          ]
        },
        {
          "metadata": {
            "tags": null
          },
          "name": "stderr",
          "output_type": "stream",
          "text": [
            "Epoch 119: 100%|██████████| 3130/3130 [00:24<00:00, 125.83batch/s, train_loss=tensor(0.0244, device='cuda:0', grad_fn=<MseLossBackward0>)]\n"
          ]
        },
        {
          "metadata": {
            "tags": null
          },
          "name": "stdout",
          "output_type": "stream",
          "text": [
            "loss_sum=  0.06891501669642848 ACC=  0.9254887495389156 bacc=  0.8904414737491992 precision=  0.8922841864018335 specificity=  0.96467050864445 sensitivity=  0.8162124388539483 recall=  0.8162124388539483 MCC=  0.8042618004917242 AUC=  0.9542962756348535 f1=  0.8525547445255475\n",
            "Epoch: 119 / 500, ############## the best accuracy in val  92.9177 at Epoch: 102  ##############\n",
            "Performance in Val: Loss: (0.0689); Accuracy (92.55)\n"
          ]
        },
        {
          "metadata": {
            "tags": null
          },
          "name": "stderr",
          "output_type": "stream",
          "text": [
            "Epoch 120: 100%|██████████| 3130/3130 [00:24<00:00, 127.65batch/s, train_loss=tensor(0.0450, device='cuda:0', grad_fn=<MseLossBackward0>)]\n"
          ]
        },
        {
          "metadata": {
            "tags": null
          },
          "name": "stdout",
          "output_type": "stream",
          "text": [
            "loss_sum=  0.06855961053349231 ACC=  0.9253043157506455 bacc=  0.8932298054970293 precision=  0.8839820359281437 specificity=  0.9611626158857429 sensitivity=  0.8252969951083159 recall=  0.8252969951083159 MCC=  0.8044233987357174 AUC=  0.9525365510553883 f1=  0.8536320925189735\n",
            "Epoch: 120 / 500, ############## the best accuracy in val  92.9177 at Epoch: 102  ##############\n",
            "Performance in Val: Loss: (0.0686); Accuracy (92.53)\n"
          ]
        },
        {
          "metadata": {
            "tags": null
          },
          "name": "stderr",
          "output_type": "stream",
          "text": [
            "Epoch 121: 100%|██████████| 3130/3130 [00:24<00:00, 127.43batch/s, train_loss=tensor(0.0698, device='cuda:0', grad_fn=<MseLossBackward0>)]\n"
          ]
        },
        {
          "metadata": {
            "tags": null
          },
          "name": "stdout",
          "output_type": "stream",
          "text": [
            "loss_sum=  0.06785990767095755 ACC=  0.9258576171154556 bacc=  0.8940538994008357 precision=  0.8848167539267016 specificity=  0.961413179654222 sensitivity=  0.8266946191474493 recall=  0.8266946191474493 MCC=  0.8059063390613697 AUC=  0.9556140554542619 f1=  0.8547687861271677\n",
            "Epoch: 121 / 500, ############## the best accuracy in val  92.9177 at Epoch: 102  ##############\n",
            "Performance in Val: Loss: (0.0679); Accuracy (92.59)\n"
          ]
        },
        {
          "metadata": {
            "tags": null
          },
          "name": "stderr",
          "output_type": "stream",
          "text": [
            "Epoch 122: 100%|██████████| 3130/3130 [00:24<00:00, 128.63batch/s, train_loss=tensor(0.0167, device='cuda:0', grad_fn=<MseLossBackward0>)]\n"
          ]
        },
        {
          "metadata": {
            "tags": null
          },
          "name": "stdout",
          "output_type": "stream",
          "text": [
            "loss_sum=  0.0688299118530192 ACC=  0.9240132792327554 bacc=  0.8898874669263706 precision=  0.8856926570779712 specificity=  0.9621648709596592 sensitivity=  0.8176100628930818 recall=  0.8176100628930818 MCC=  0.8006333156529981 AUC=  0.9542073263725283 f1=  0.8502906976744187\n",
            "Epoch: 122 / 500, ############## the best accuracy in val  92.9177 at Epoch: 102  ##############\n",
            "Performance in Val: Loss: (0.0688); Accuracy (92.40)\n"
          ]
        },
        {
          "metadata": {
            "tags": null
          },
          "name": "stderr",
          "output_type": "stream",
          "text": [
            "Epoch 123: 100%|██████████| 3130/3130 [00:24<00:00, 128.14batch/s, train_loss=tensor(0.0372, device='cuda:0', grad_fn=<MseLossBackward0>)]\n"
          ]
        },
        {
          "metadata": {
            "tags": null
          },
          "name": "stdout",
          "output_type": "stream",
          "text": [
            "loss_sum=  0.06950205706944552 ACC=  0.9238288454444854 bacc=  0.8888656885399556 precision=  0.8873668188736682 specificity=  0.9629165622650965 sensitivity=  0.8148148148148148 recall=  0.8148148148148148 MCC=  0.7999768167116564 AUC=  0.9524381465565166 f1=  0.8495446265938069\n",
            "Epoch: 123 / 500, ############## the best accuracy in val  92.9177 at Epoch: 102  ##############\n",
            "Performance in Val: Loss: (0.0695); Accuracy (92.38)\n"
          ]
        },
        {
          "metadata": {
            "tags": null
          },
          "name": "stderr",
          "output_type": "stream",
          "text": [
            "Epoch 124: 100%|██████████| 3130/3130 [00:24<00:00, 128.71batch/s, train_loss=tensor(0.0274, device='cuda:0', grad_fn=<MseLossBackward0>)]\n"
          ]
        },
        {
          "metadata": {
            "tags": null
          },
          "name": "stdout",
          "output_type": "stream",
          "text": [
            "loss_sum=  0.06819986120954288 ACC=  0.9241977130210255 bacc=  0.8909092453127854 precision=  0.8840361445783133 specificity=  0.961413179654222 sensitivity=  0.8204053109713487 recall=  0.8204053109713487 MCC=  0.801297267426709 AUC=  0.9541493692744384 f1=  0.8510329829648422\n",
            "Epoch: 124 / 500, ############## the best accuracy in val  92.9177 at Epoch: 102  ##############\n",
            "Performance in Val: Loss: (0.0682); Accuracy (92.42)\n"
          ]
        },
        {
          "metadata": {
            "tags": null
          },
          "name": "stderr",
          "output_type": "stream",
          "text": [
            "Epoch 125: 100%|██████████| 3130/3130 [00:24<00:00, 129.54batch/s, train_loss=tensor(0.0323, device='cuda:0', grad_fn=<MseLossBackward0>)]\n"
          ]
        },
        {
          "metadata": {
            "tags": null
          },
          "name": "stdout",
          "output_type": "stream",
          "text": [
            "loss_sum=  0.06785386122603816 ACC=  0.9286241239395057 bacc=  0.8970537482921479 precision=  0.8918918918918919 specificity=  0.9639188173390127 sensitivity=  0.8301886792452831 recall=  0.8301886792452831 MCC=  0.8130667670297069 AUC=  0.9543052055804805 f1=  0.8599348534201955\n",
            "Epoch: 125 / 500, ############## the best accuracy in val  92.9177 at Epoch: 102  ##############\n",
            "Performance in Val: Loss: (0.0679); Accuracy (92.86)\n"
          ]
        },
        {
          "metadata": {
            "tags": null
          },
          "name": "stderr",
          "output_type": "stream",
          "text": [
            "Epoch 126: 100%|██████████| 3130/3130 [00:24<00:00, 129.12batch/s, train_loss=tensor(0.0653, device='cuda:0', grad_fn=<MseLossBackward0>)]\n"
          ]
        },
        {
          "metadata": {
            "tags": null
          },
          "name": "stdout",
          "output_type": "stream",
          "text": [
            "loss_sum=  0.06916311464016944 ACC=  0.9260420509037256 bacc=  0.8905931952763739 precision=  0.8949386503067485 specificity=  0.9656727637183663 sensitivity=  0.8155136268343816 recall=  0.8155136268343816 MCC=  0.8056258307732599 AUC=  0.9517323306580268 f1=  0.8533820840950639\n",
            "Epoch: 126 / 500, ############## the best accuracy in val  92.9177 at Epoch: 102  ##############\n",
            "Performance in Val: Loss: (0.0692); Accuracy (92.60)\n"
          ]
        },
        {
          "metadata": {
            "tags": null
          },
          "name": "stderr",
          "output_type": "stream",
          "text": [
            "Epoch 127: 100%|██████████| 3130/3130 [00:24<00:00, 126.50batch/s, train_loss=tensor(0.0504, device='cuda:0', grad_fn=<MseLossBackward0>)]\n"
          ]
        },
        {
          "metadata": {
            "tags": null
          },
          "name": "stdout",
          "output_type": "stream",
          "text": [
            "loss_sum=  0.06890731843897199 ACC=  0.9243821468092954 bacc=  0.8917068995736563 precision=  0.8829707426856714 specificity=  0.9609120521172638 sensitivity=  0.822501747030049 recall=  0.822501747030049 MCC=  0.8019148719573259 AUC=  0.9536906152049659 f1=  0.8516642547033286\n",
            "Epoch: 127 / 500, ############## the best accuracy in val  92.9177 at Epoch: 102  ##############\n",
            "Performance in Val: Loss: (0.0689); Accuracy (92.44)\n"
          ]
        },
        {
          "metadata": {
            "tags": null
          },
          "name": "stderr",
          "output_type": "stream",
          "text": [
            "Epoch 128: 100%|██████████| 3130/3130 [00:24<00:00, 129.89batch/s, train_loss=tensor(0.0267, device='cuda:0', grad_fn=<MseLossBackward0>)]\n"
          ]
        },
        {
          "metadata": {
            "tags": null
          },
          "name": "stdout",
          "output_type": "stream",
          "text": [
            "loss_sum=  0.06827989300839317 ACC=  0.9273330874216157 bacc=  0.8937114097214891 precision=  0.8936977980258163 specificity=  0.9649210724129291 sensitivity=  0.822501747030049 recall=  0.822501747030049 MCC=  0.8093180175058665 AUC=  0.9527412394169201 f1=  0.8566229985443959\n",
            "Epoch: 128 / 500, ############## the best accuracy in val  92.9177 at Epoch: 102  ##############\n",
            "Performance in Val: Loss: (0.0683); Accuracy (92.73)\n"
          ]
        },
        {
          "metadata": {
            "tags": null
          },
          "name": "stderr",
          "output_type": "stream",
          "text": [
            "Epoch 129: 100%|██████████| 3130/3130 [00:23<00:00, 131.05batch/s, train_loss=tensor(0.0684, device='cuda:0', grad_fn=<MseLossBackward0>)]\n"
          ]
        },
        {
          "metadata": {
            "tags": null
          },
          "name": "stdout",
          "output_type": "stream",
          "text": [
            "loss_sum=  0.06859382148145267 ACC=  0.9262264846919955 bacc=  0.8929597184160518 precision=  0.889644746787604 specificity=  0.9634176898020547 sensitivity=  0.822501747030049 recall=  0.822501747030049 MCC=  0.8065287054060635 AUC=  0.9516524864383018 f1=  0.8547567175018156\n",
            "Epoch: 129 / 500, ############## the best accuracy in val  92.9177 at Epoch: 102  ##############\n",
            "Performance in Val: Loss: (0.0686); Accuracy (92.62)\n"
          ]
        },
        {
          "metadata": {
            "tags": null
          },
          "name": "stderr",
          "output_type": "stream",
          "text": [
            "Epoch 130: 100%|██████████| 3130/3130 [00:24<00:00, 129.41batch/s, train_loss=tensor(0.0519, device='cuda:0', grad_fn=<MseLossBackward0>)]\n"
          ]
        },
        {
          "metadata": {
            "tags": null
          },
          "name": "stdout",
          "output_type": "stream",
          "text": [
            "loss_sum=  0.06806756534880154 ACC=  0.9282552563629657 bacc=  0.8970273086492127 precision=  0.8899700598802395 specificity=  0.9631671260335756 sensitivity=  0.8308874912648497 recall=  0.8308874912648497 MCC=  0.812191885126335 AUC=  0.95325042141464 f1=  0.8594145283700758\n",
            "Epoch: 130 / 500, ############## the best accuracy in val  92.9177 at Epoch: 102  ##############\n",
            "Performance in Val: Loss: (0.0681); Accuracy (92.83)\n"
          ]
        },
        {
          "metadata": {
            "tags": null
          },
          "name": "stderr",
          "output_type": "stream",
          "text": [
            "Epoch 131: 100%|██████████| 3130/3130 [00:24<00:00, 126.42batch/s, train_loss=tensor(0.0273, device='cuda:0', grad_fn=<MseLossBackward0>)]\n"
          ]
        },
        {
          "metadata": {
            "tags": null
          },
          "name": "stdout",
          "output_type": "stream",
          "text": [
            "loss_sum=  0.06903579971508554 ACC=  0.9251198819623755 bacc=  0.8928803994872461 precision=  0.8838951310861424 specificity=  0.9611626158857429 sensitivity=  0.8245981830887491 recall=  0.8245981830887491 MCC=  0.8039112151884495 AUC=  0.9522998199477826 f1=  0.8532176428054953\n",
            "Epoch: 131 / 500, ############## the best accuracy in val  92.9177 at Epoch: 102  ##############\n",
            "Performance in Val: Loss: (0.0690); Accuracy (92.51)\n"
          ]
        },
        {
          "metadata": {
            "tags": null
          },
          "name": "stderr",
          "output_type": "stream",
          "text": [
            "Epoch 132: 100%|██████████| 3130/3130 [00:26<00:00, 119.89batch/s, train_loss=tensor(0.0340, device='cuda:0', grad_fn=<MseLossBackward0>)]\n"
          ]
        },
        {
          "metadata": {
            "tags": null
          },
          "name": "stdout",
          "output_type": "stream",
          "text": [
            "loss_sum=  0.06899678836381584 ACC=  0.9278863887864257 bacc=  0.8965526207551897 precision=  0.8892215568862275 specificity=  0.9629165622650965 sensitivity=  0.8301886792452831 recall=  0.8301886792452831 MCC=  0.8112208243275078 AUC=  0.9516321751894242 f1=  0.8586917238886881\n",
            "Epoch: 132 / 500, ############## the best accuracy in val  92.9177 at Epoch: 102  ##############\n",
            "Performance in Val: Loss: (0.0690); Accuracy (92.79)\n"
          ]
        },
        {
          "metadata": {
            "tags": null
          },
          "name": "stderr",
          "output_type": "stream",
          "text": [
            "Epoch 133: 100%|██████████| 3130/3130 [00:24<00:00, 126.22batch/s, train_loss=tensor(0.0328, device='cuda:0', grad_fn=<MseLossBackward0>)]\n"
          ]
        },
        {
          "metadata": {
            "tags": null
          },
          "name": "stdout",
          "output_type": "stream",
          "text": [
            "loss_sum=  0.06830449192716045 ACC=  0.9251198819623755 bacc=  0.8924321512361584 precision=  0.8850488354620586 specificity=  0.9616637434227011 sensitivity=  0.8232005590496156 recall=  0.8232005590496156 MCC=  0.8038064560450493 AUC=  0.9528526010917997 f1=  0.8530050687907312\n",
            "Epoch: 133 / 500, ############## the best accuracy in val  92.9177 at Epoch: 102  ##############\n",
            "Performance in Val: Loss: (0.0683); Accuracy (92.51)\n"
          ]
        },
        {
          "metadata": {
            "tags": null
          },
          "name": "stderr",
          "output_type": "stream",
          "text": [
            "Epoch 134: 100%|██████████| 3130/3130 [00:24<00:00, 128.87batch/s, train_loss=tensor(0.0623, device='cuda:0', grad_fn=<MseLossBackward0>)]\n"
          ]
        },
        {
          "metadata": {
            "tags": null
          },
          "name": "stdout",
          "output_type": "stream",
          "text": [
            "loss_sum=  0.06972260442686028 ACC=  0.9249354481741054 bacc=  0.8902897522220243 precision=  0.8896499238964992 specificity=  0.9636682535705337 sensitivity=  0.816911250873515 recall=  0.816911250873515 MCC=  0.8029064090227018 AUC=  0.9494310311408216 f1=  0.8517304189435336\n",
            "Epoch: 134 / 500, ############## the best accuracy in val  92.9177 at Epoch: 102  ##############\n",
            "Performance in Val: Loss: (0.0697); Accuracy (92.49)\n"
          ]
        },
        {
          "metadata": {
            "tags": null
          },
          "name": "stderr",
          "output_type": "stream",
          "text": [
            "Epoch 135: 100%|██████████| 3130/3130 [00:24<00:00, 125.26batch/s, train_loss=tensor(0.0215, device='cuda:0', grad_fn=<MseLossBackward0>)]\n"
          ]
        },
        {
          "metadata": {
            "tags": null
          },
          "name": "stdout",
          "output_type": "stream",
          "text": [
            "loss_sum=  0.0687587414868176 ACC=  0.9254887495389156 bacc=  0.8904414737491992 precision=  0.8922841864018335 specificity=  0.96467050864445 sensitivity=  0.8162124388539483 recall=  0.8162124388539483 MCC=  0.8042618004917242 AUC=  0.9512068646418104 f1=  0.8525547445255475\n",
            "Epoch: 135 / 500, ############## the best accuracy in val  92.9177 at Epoch: 102  ##############\n",
            "Performance in Val: Loss: (0.0688); Accuracy (92.55)\n"
          ]
        },
        {
          "metadata": {
            "tags": null
          },
          "name": "stderr",
          "output_type": "stream",
          "text": [
            "Epoch 136: 100%|██████████| 3130/3130 [00:24<00:00, 126.23batch/s, train_loss=tensor(0.0318, device='cuda:0', grad_fn=<MseLossBackward0>)]\n"
          ]
        },
        {
          "metadata": {
            "tags": null
          },
          "name": "stdout",
          "output_type": "stream",
          "text": [
            "loss_sum=  0.06861231710959588 ACC=  0.9260420509037256 bacc=  0.8926103124062684 precision=  0.8895612708018155 specificity=  0.9634176898020547 sensitivity=  0.8218029350104822 recall=  0.8218029350104822 MCC=  0.8060179677582922 AUC=  0.95225534531662 f1=  0.8543407192154014\n",
            "Epoch: 136 / 500, ############## the best accuracy in val  92.9177 at Epoch: 102  ##############\n",
            "Performance in Val: Loss: (0.0686); Accuracy (92.60)\n"
          ]
        },
        {
          "metadata": {
            "tags": null
          },
          "name": "stderr",
          "output_type": "stream",
          "text": [
            "Epoch 137: 100%|██████████| 3130/3130 [00:24<00:00, 126.40batch/s, train_loss=tensor(0.0470, device='cuda:0', grad_fn=<MseLossBackward0>)]\n"
          ]
        },
        {
          "metadata": {
            "tags": null
          },
          "name": "stdout",
          "output_type": "stream",
          "text": [
            "loss_sum=  0.06849939835046288 ACC=  0.9236444116562155 bacc=  0.891429896162242 precision=  0.8797610156833457 specificity=  0.9596592332748685 sensitivity=  0.8232005590496156 recall=  0.8232005590496156 MCC=  0.8001376209289666 AUC=  0.9529958304157801 f1=  0.8505415162454872\n",
            "Epoch: 137 / 500, ############## the best accuracy in val  92.9177 at Epoch: 102  ##############\n",
            "Performance in Val: Loss: (0.0685); Accuracy (92.36)\n"
          ]
        },
        {
          "metadata": {
            "tags": null
          },
          "name": "stderr",
          "output_type": "stream",
          "text": [
            "Epoch 138: 100%|██████████| 3130/3130 [00:24<00:00, 126.72batch/s, train_loss=tensor(0.0160, device='cuda:0', grad_fn=<MseLossBackward0>)]\n"
          ]
        },
        {
          "metadata": {
            "tags": null
          },
          "name": "stdout",
          "output_type": "stream",
          "text": [
            "loss_sum=  0.06862399447846686 ACC=  0.9253043157506455 bacc=  0.8914368124926788 precision=  0.8886363636363637 specificity=  0.9631671260335756 sensitivity=  0.8197064989517819 recall=  0.8197064989517819 MCC=  0.8040212906005044 AUC=  0.9529779705245258 f1=  0.8527808069792803\n",
            "Epoch: 138 / 500, ############## the best accuracy in val  92.9177 at Epoch: 102  ##############\n",
            "Performance in Val: Loss: (0.0686); Accuracy (92.53)\n"
          ]
        },
        {
          "metadata": {
            "tags": null
          },
          "name": "stderr",
          "output_type": "stream",
          "text": [
            "Epoch 139: 100%|██████████| 3130/3130 [00:25<00:00, 122.08batch/s, train_loss=tensor(0.0282, device='cuda:0', grad_fn=<MseLossBackward0>)]\n"
          ]
        },
        {
          "metadata": {
            "tags": null
          },
          "name": "stdout",
          "output_type": "stream",
          "text": [
            "loss_sum=  0.06768269266227156 ACC=  0.9269642198450756 bacc=  0.8952538389573605 precision=  0.8876404494382022 specificity=  0.9624154347281383 sensitivity=  0.8280922431865828 recall=  0.8280922431865828 MCC=  0.8087677430556739 AUC=  0.9525978349959666 f1=  0.8568329718004338\n",
            "Epoch: 139 / 500, ############## the best accuracy in val  92.9177 at Epoch: 102  ##############\n",
            "Performance in Val: Loss: (0.0677); Accuracy (92.70)\n"
          ]
        },
        {
          "metadata": {
            "tags": null
          },
          "name": "stderr",
          "output_type": "stream",
          "text": [
            "Epoch 140: 100%|██████████| 3130/3130 [00:25<00:00, 120.46batch/s, train_loss=tensor(0.0382, device='cuda:0', grad_fn=<MseLossBackward0>)]\n"
          ]
        },
        {
          "metadata": {
            "tags": null
          },
          "name": "stdout",
          "output_type": "stream",
          "text": [
            "loss_sum=  0.0695698331178861 ACC=  0.9243821468092954 bacc=  0.8890174100671304 precision=  0.8899923605805958 specificity=  0.9639188173390127 sensitivity=  0.8141160027952481 recall=  0.8141160027952481 MCC=  0.8013284030481649 AUC=  0.950036516473736 f1=  0.8503649635036497\n",
            "Epoch: 140 / 500, ############## the best accuracy in val  92.9177 at Epoch: 102  ##############\n",
            "Performance in Val: Loss: (0.0696); Accuracy (92.44)\n"
          ]
        },
        {
          "metadata": {
            "tags": null
          },
          "name": "stderr",
          "output_type": "stream",
          "text": [
            "Epoch 141: 100%|██████████| 3130/3130 [00:26<00:00, 118.90batch/s, train_loss=tensor(0.0286, device='cuda:0', grad_fn=<MseLossBackward0>)]\n"
          ]
        },
        {
          "metadata": {
            "tags": null
          },
          "name": "stdout",
          "output_type": "stream",
          "text": [
            "loss_sum=  0.06841458933315292 ACC=  0.9297307266691258 bacc=  0.896684818969866 precision=  0.898936170212766 specificity=  0.9666750187922827 sensitivity=  0.8266946191474493 recall=  0.8266946191474493 MCC=  0.8156406080461747 AUC=  0.9518435172359333 f1=  0.8613032398980708\n",
            "Epoch: 141 / 500, ############## the best accuracy in val  92.9177 at Epoch: 102  ##############\n",
            "Performance in Val: Loss: (0.0684); Accuracy (92.97)\n"
          ]
        },
        {
          "metadata": {
            "tags": null
          },
          "name": "stderr",
          "output_type": "stream",
          "text": [
            "Epoch 142: 100%|██████████| 3130/3130 [00:25<00:00, 124.71batch/s, train_loss=tensor(0.0352, device='cuda:0', grad_fn=<MseLossBackward0>)]\n"
          ]
        },
        {
          "metadata": {
            "tags": null
          },
          "name": "stdout",
          "output_type": "stream",
          "text": [
            "loss_sum=  0.06818363608677039 ACC=  0.9277019549981557 bacc=  0.8932896011133367 precision=  0.8968678380443086 specificity=  0.9661738912553245 sensitivity=  0.8204053109713487 recall=  0.8204053109713487 MCC=  0.8101285953788431 AUC=  0.9528158307274527 f1=  0.8569343065693431\n",
            "Epoch: 142 / 500, ############## the best accuracy in val  92.9731 at Epoch: 141  ##############\n",
            "Performance in Val: Loss: (0.0682); Accuracy (92.77)\n"
          ]
        },
        {
          "metadata": {
            "tags": null
          },
          "name": "stderr",
          "output_type": "stream",
          "text": [
            "Epoch 143: 100%|██████████| 3130/3130 [00:25<00:00, 123.35batch/s, train_loss=tensor(0.0235, device='cuda:0', grad_fn=<MseLossBackward0>)]\n"
          ]
        },
        {
          "metadata": {
            "tags": null
          },
          "name": "stdout",
          "output_type": "stream",
          "text": [
            "loss_sum=  0.06778599929949132 ACC=  0.9238288454444854 bacc=  0.8920034262975692 precision=  0.879284649776453 specificity=  0.9594086695063894 sensitivity=  0.8245981830887491 recall=  0.8245981830887491 MCC=  0.8007080595875568 AUC=  0.9541101475524683 f1=  0.8510638297872339\n",
            "Epoch: 143 / 500, ############## the best accuracy in val  92.9731 at Epoch: 141  ##############\n",
            "Performance in Val: Loss: (0.0678); Accuracy (92.38)\n"
          ]
        },
        {
          "metadata": {
            "tags": null
          },
          "name": "stderr",
          "output_type": "stream",
          "text": [
            "Epoch 144: 100%|██████████| 3130/3130 [00:25<00:00, 123.00batch/s, train_loss=tensor(0.0456, device='cuda:0', grad_fn=<MseLossBackward0>)]\n"
          ]
        },
        {
          "metadata": {
            "tags": null
          },
          "name": "stdout",
          "output_type": "stream",
          "text": [
            "loss_sum=  0.06818604521772063 ACC=  0.9288085577277757 bacc=  0.896506657799756 precision=  0.8943396226415095 specificity=  0.9649210724129291 sensitivity=  0.8280922431865828 recall=  0.8280922431865828 MCC=  0.8133926418249993 AUC=  0.9531261025637523 f1=  0.8599419448476053\n",
            "Epoch: 144 / 500, ############## the best accuracy in val  92.9731 at Epoch: 141  ##############\n",
            "Performance in Val: Loss: (0.0682); Accuracy (92.88)\n"
          ]
        },
        {
          "metadata": {
            "tags": null
          },
          "name": "stderr",
          "output_type": "stream",
          "text": [
            "Epoch 145: 100%|██████████| 3130/3130 [00:25<00:00, 125.20batch/s, train_loss=tensor(0.0172, device='cuda:0', grad_fn=<MseLossBackward0>)]\n"
          ]
        },
        {
          "metadata": {
            "tags": null
          },
          "name": "stdout",
          "output_type": "stream",
          "text": [
            "loss_sum=  0.06849469063572783 ACC=  0.9264109184802656 bacc=  0.8928608761747474 precision=  0.8909090909090909 specificity=  0.9639188173390127 sensitivity=  0.8218029350104822 recall=  0.8218029350104822 MCC=  0.80694635406672 AUC=  0.9520322717729145 f1=  0.8549618320610688\n",
            "Epoch: 145 / 500, ############## the best accuracy in val  92.9731 at Epoch: 141  ##############\n",
            "Performance in Val: Loss: (0.0685); Accuracy (92.64)\n"
          ]
        },
        {
          "metadata": {
            "tags": null
          },
          "name": "stderr",
          "output_type": "stream",
          "text": [
            "Epoch 146: 100%|██████████| 3130/3130 [00:24<00:00, 125.85batch/s, train_loss=tensor(0.0711, device='cuda:0', grad_fn=<MseLossBackward0>)]\n"
          ]
        },
        {
          "metadata": {
            "tags": null
          },
          "name": "stdout",
          "output_type": "stream",
          "text": [
            "loss_sum=  0.06826061512423257 ACC=  0.9273330874216157 bacc=  0.8948320303492081 precision=  0.8907309721175584 specificity=  0.9636682535705337 sensitivity=  0.8259958071278826 recall=  0.8259958071278826 MCC=  0.8095443369414551 AUC=  0.9514112028093957 f1=  0.857142857142857\n",
            "Epoch: 146 / 500, ############## the best accuracy in val  92.9731 at Epoch: 141  ##############\n",
            "Performance in Val: Loss: (0.0683); Accuracy (92.73)\n"
          ]
        },
        {
          "metadata": {
            "tags": null
          },
          "name": "stderr",
          "output_type": "stream",
          "text": [
            "Epoch 147: 100%|██████████| 3130/3130 [00:24<00:00, 126.20batch/s, train_loss=tensor(0.0175, device='cuda:0', grad_fn=<MseLossBackward0>)]\n"
          ]
        },
        {
          "metadata": {
            "tags": null
          },
          "name": "stdout",
          "output_type": "stream",
          "text": [
            "loss_sum=  0.06933981068789476 ACC=  0.9240132792327554 bacc=  0.890559839303002 precision=  0.8839487565938207 specificity=  0.961413179654222 sensitivity=  0.8197064989517819 recall=  0.8197064989517819 MCC=  0.8007848447981016 AUC=  0.9503210490549929 f1=  0.8506163886874546\n",
            "Epoch: 147 / 500, ############## the best accuracy in val  92.9731 at Epoch: 141  ##############\n",
            "Performance in Val: Loss: (0.0693); Accuracy (92.40)\n"
          ]
        },
        {
          "metadata": {
            "tags": null
          },
          "name": "stderr",
          "output_type": "stream",
          "text": [
            "Epoch 148: 100%|██████████| 3130/3130 [00:25<00:00, 124.95batch/s, train_loss=tensor(0.0235, device='cuda:0', grad_fn=<MseLossBackward0>)]\n"
          ]
        },
        {
          "metadata": {
            "tags": null
          },
          "name": "stdout",
          "output_type": "stream",
          "text": [
            "loss_sum=  0.06841037256758561 ACC=  0.9277019549981557 bacc=  0.8964273388709503 precision=  0.8885564697083022 specificity=  0.9626659984966174 sensitivity=  0.8301886792452831 recall=  0.8301886792452831 MCC=  0.8107604209959786 AUC=  0.953608669821564 f1=  0.8583815028901735\n",
            "Epoch: 148 / 500, ############## the best accuracy in val  92.9731 at Epoch: 141  ##############\n",
            "Performance in Val: Loss: (0.0684); Accuracy (92.77)\n"
          ]
        },
        {
          "metadata": {
            "tags": null
          },
          "name": "stderr",
          "output_type": "stream",
          "text": [
            "Epoch 149: 100%|██████████| 3130/3130 [00:24<00:00, 125.55batch/s, train_loss=tensor(0.0289, device='cuda:0', grad_fn=<MseLossBackward0>)]\n"
          ]
        },
        {
          "metadata": {
            "tags": null
          },
          "name": "stdout",
          "output_type": "stream",
          "text": [
            "loss_sum=  0.06815663669368247 ACC=  0.9275175212098856 bacc=  0.8938366916057285 precision=  0.8943768996960486 specificity=  0.9651716361814082 sensitivity=  0.822501747030049 recall=  0.822501747030049 MCC=  0.8097844516620947 AUC=  0.9522397616860158 f1=  0.8569348380050965\n",
            "Epoch: 149 / 500, ############## the best accuracy in val  92.9731 at Epoch: 141  ##############\n",
            "Performance in Val: Loss: (0.0682); Accuracy (92.75)\n"
          ]
        },
        {
          "metadata": {
            "tags": null
          },
          "name": "stderr",
          "output_type": "stream",
          "text": [
            "Epoch 150: 100%|██████████| 3130/3130 [00:24<00:00, 125.49batch/s, train_loss=tensor(0.0284, device='cuda:0', grad_fn=<MseLossBackward0>)]\n"
          ]
        },
        {
          "metadata": {
            "tags": null
          },
          "name": "stdout",
          "output_type": "stream",
          "text": [
            "loss_sum=  0.06850729653457932 ACC=  0.9271486536333456 bacc=  0.8962756173437754 precision=  0.8859910581222057 specificity=  0.9616637434227011 sensitivity=  0.8308874912648497 recall=  0.8308874912648497 MCC=  0.8094344573007195 AUC=  0.9505117296586781 f1=  0.8575549945906961\n",
            "Epoch: 150 / 500, ############## the best accuracy in val  92.9731 at Epoch: 141  ##############\n",
            "Performance in Val: Loss: (0.0685); Accuracy (92.71)\n"
          ]
        },
        {
          "metadata": {
            "tags": null
          },
          "name": "stderr",
          "output_type": "stream",
          "text": [
            "Epoch 151: 100%|██████████| 3130/3130 [00:25<00:00, 125.07batch/s, train_loss=tensor(0.0344, device='cuda:0', grad_fn=<MseLossBackward0>)]\n"
          ]
        },
        {
          "metadata": {
            "tags": null
          },
          "name": "stdout",
          "output_type": "stream",
          "text": [
            "loss_sum=  0.06739574738786416 ACC=  0.9278863887864257 bacc=  0.894983751876383 precision=  0.8933434190620272 specificity=  0.96467050864445 sensitivity=  0.8252969951083159 recall=  0.8252969951083159 MCC=  0.8108905724705174 AUC=  0.9519084782129462 f1=  0.8579731202324736\n",
            "Epoch: 151 / 500, ############## the best accuracy in val  92.9731 at Epoch: 141  ##############\n",
            "Performance in Val: Loss: (0.0674); Accuracy (92.79)\n"
          ]
        },
        {
          "metadata": {
            "tags": null
          },
          "name": "stderr",
          "output_type": "stream",
          "text": [
            "Epoch 152: 100%|██████████| 3130/3130 [00:24<00:00, 125.28batch/s, train_loss=tensor(0.0687, device='cuda:0', grad_fn=<MseLossBackward0>)]\n"
          ]
        },
        {
          "metadata": {
            "tags": null
          },
          "name": "stdout",
          "output_type": "stream",
          "text": [
            "loss_sum=  0.06722990325844372 ACC=  0.9277019549981557 bacc=  0.8948584699921434 precision=  0.8926681783824642 specificity=  0.9644199448759709 sensitivity=  0.8252969951083159 recall=  0.8252969951083159 MCC=  0.8104257909819735 AUC=  0.9536547203254844 f1=  0.8576615831517793\n",
            "Epoch: 152 / 500, ############## the best accuracy in val  92.9731 at Epoch: 141  ##############\n",
            "Performance in Val: Loss: (0.0672); Accuracy (92.77)\n"
          ]
        },
        {
          "metadata": {
            "tags": null
          },
          "name": "stderr",
          "output_type": "stream",
          "text": [
            "Epoch 153: 100%|██████████| 3130/3130 [00:25<00:00, 122.79batch/s, train_loss=tensor(0.0354, device='cuda:0', grad_fn=<MseLossBackward0>)]\n"
          ]
        },
        {
          "metadata": {
            "tags": null
          },
          "name": "stdout",
          "output_type": "stream",
          "text": [
            "loss_sum=  0.06821173823446827 ACC=  0.9249354481741054 bacc=  0.8905138763475682 precision=  0.8890577507598785 specificity=  0.9634176898020547 sensitivity=  0.8176100628930818 recall=  0.8176100628930818 MCC=  0.8029522692140013 AUC=  0.9537289614420706 f1=  0.85183836912996\n",
            "Epoch: 153 / 500, ############## the best accuracy in val  92.9731 at Epoch: 141  ##############\n",
            "Performance in Val: Loss: (0.0682); Accuracy (92.49)\n"
          ]
        },
        {
          "metadata": {
            "tags": null
          },
          "name": "stderr",
          "output_type": "stream",
          "text": [
            "Epoch 154: 100%|██████████| 3130/3130 [00:25<00:00, 123.24batch/s, train_loss=tensor(0.0208, device='cuda:0', grad_fn=<MseLossBackward0>)]\n"
          ]
        },
        {
          "metadata": {
            "tags": null
          },
          "name": "stdout",
          "output_type": "stream",
          "text": [
            "loss_sum=  0.06831274524462962 ACC=  0.9295462928808558 bacc=  0.8974560335878017 precision=  0.8958490566037736 specificity=  0.9654221999498872 sensitivity=  0.8294898672257163 recall=  0.8294898672257163 MCC=  0.8153401886445365 AUC=  0.9522514931832121 f1=  0.8613933236574746\n",
            "Epoch: 154 / 500, ############## the best accuracy in val  92.9731 at Epoch: 141  ##############\n",
            "Performance in Val: Loss: (0.0683); Accuracy (92.95)\n"
          ]
        },
        {
          "metadata": {
            "tags": null
          },
          "name": "stderr",
          "output_type": "stream",
          "text": [
            "Epoch 155: 100%|██████████| 3130/3130 [00:25<00:00, 122.70batch/s, train_loss=tensor(0.0326, device='cuda:0', grad_fn=<MseLossBackward0>)]\n"
          ]
        },
        {
          "metadata": {
            "tags": null
          },
          "name": "stdout",
          "output_type": "stream",
          "text": [
            "loss_sum=  0.0682098646428447 ACC=  0.9258576171154556 bacc=  0.8958468924051863 precision=  0.8802660753880266 specificity=  0.9594086695063894 sensitivity=  0.8322851153039832 recall=  0.8322851153039832 MCC=  0.8063529387488183 AUC=  0.9527374748319989 f1=  0.8556034482758621\n",
            "Epoch: 155 / 500, ############## the best accuracy in val  92.9731 at Epoch: 141  ##############\n",
            "Performance in Val: Loss: (0.0682); Accuracy (92.59)\n"
          ]
        },
        {
          "metadata": {
            "tags": null
          },
          "name": "stderr",
          "output_type": "stream",
          "text": [
            "Epoch 156: 100%|██████████| 3130/3130 [00:25<00:00, 121.82batch/s, train_loss=tensor(0.0318, device='cuda:0', grad_fn=<MseLossBackward0>)]\n"
          ]
        },
        {
          "metadata": {
            "tags": null
          },
          "name": "stdout",
          "output_type": "stream",
          "text": [
            "loss_sum=  0.0687104987885781 ACC=  0.9260420509037256 bacc=  0.893058560657356 precision=  0.8883861236802413 specificity=  0.9629165622650965 sensitivity=  0.8232005590496156 recall=  0.8232005590496156 MCC=  0.8061135102808045 AUC=  0.9522930787143189 f1=  0.8545520493289808\n",
            "Epoch: 156 / 500, ############## the best accuracy in val  92.9731 at Epoch: 141  ##############\n",
            "Performance in Val: Loss: (0.0687); Accuracy (92.60)\n"
          ]
        },
        {
          "metadata": {
            "tags": null
          },
          "name": "stderr",
          "output_type": "stream",
          "text": [
            "Epoch 157: 100%|██████████| 3130/3130 [00:24<00:00, 126.28batch/s, train_loss=tensor(0.0187, device='cuda:0', grad_fn=<MseLossBackward0>)]\n"
          ]
        },
        {
          "metadata": {
            "tags": null
          },
          "name": "stdout",
          "output_type": "stream",
          "text": [
            "loss_sum=  0.0687060130576007 ACC=  0.9282552563629657 bacc=  0.8950101915193182 precision=  0.8952959028831563 specificity=  0.9654221999498872 sensitivity=  0.8245981830887491 recall=  0.8245981830887491 MCC=  0.811778595863484 AUC=  0.95244742669609 f1=  0.8584939978173881\n",
            "Epoch: 157 / 500, ############## the best accuracy in val  92.9731 at Epoch: 141  ##############\n",
            "Performance in Val: Loss: (0.0687); Accuracy (92.83)\n"
          ]
        },
        {
          "metadata": {
            "tags": null
          },
          "name": "stderr",
          "output_type": "stream",
          "text": [
            "Epoch 158: 100%|██████████| 3130/3130 [00:25<00:00, 124.26batch/s, train_loss=tensor(0.0468, device='cuda:0', grad_fn=<MseLossBackward0>)]\n"
          ]
        },
        {
          "metadata": {
            "tags": null
          },
          "name": "stdout",
          "output_type": "stream",
          "text": [
            "loss_sum=  0.06915320262277175 ACC=  0.9280708225746956 bacc=  0.8964537785138855 precision=  0.8904726181545386 specificity=  0.9634176898020547 sensitivity=  0.8294898672257163 recall=  0.8294898672257163 MCC=  0.8116328340909874 AUC=  0.9499006412226252 f1=  0.8589001447178002\n",
            "Epoch: 158 / 500, ############## the best accuracy in val  92.9731 at Epoch: 141  ##############\n",
            "Performance in Val: Loss: (0.0692); Accuracy (92.81)\n"
          ]
        },
        {
          "metadata": {
            "tags": null
          },
          "name": "stderr",
          "output_type": "stream",
          "text": [
            "Epoch 159: 100%|██████████| 3130/3130 [00:25<00:00, 124.90batch/s, train_loss=tensor(0.0123, device='cuda:0', grad_fn=<MseLossBackward0>)]\n"
          ]
        },
        {
          "metadata": {
            "tags": null
          },
          "name": "stdout",
          "output_type": "stream",
          "text": [
            "loss_sum=  0.06808949284912101 ACC=  0.9262264846919955 bacc=  0.8925114701649641 precision=  0.8908263836239575 specificity=  0.9639188173390127 sensitivity=  0.8211041229909154 recall=  0.8211041229909154 MCC=  0.8064359364937315 AUC=  0.9528364921702761 f1=  0.8545454545454545\n",
            "Epoch: 159 / 500, ############## the best accuracy in val  92.9731 at Epoch: 141  ##############\n",
            "Performance in Val: Loss: (0.0681); Accuracy (92.62)\n"
          ]
        },
        {
          "metadata": {
            "tags": null
          },
          "name": "stderr",
          "output_type": "stream",
          "text": [
            "Epoch 160: 100%|██████████| 3130/3130 [00:25<00:00, 124.36batch/s, train_loss=tensor(0.0417, device='cuda:0', grad_fn=<MseLossBackward0>)]\n"
          ]
        },
        {
          "metadata": {
            "tags": null
          },
          "name": "stdout",
          "output_type": "stream",
          "text": [
            "loss_sum=  0.06804691677072407 ACC=  0.9260420509037256 bacc=  0.8937309330339875 precision=  0.8866366366366366 specificity=  0.9621648709596592 sensitivity=  0.8252969951083159 recall=  0.8252969951083159 MCC=  0.8062624724700657 AUC=  0.953518144686481 f1=  0.8548678972131741\n",
            "Epoch: 160 / 500, ############## the best accuracy in val  92.9731 at Epoch: 141  ##############\n",
            "Performance in Val: Loss: (0.0680); Accuracy (92.60)\n"
          ]
        },
        {
          "metadata": {
            "tags": null
          },
          "name": "stderr",
          "output_type": "stream",
          "text": [
            "Epoch 161: 100%|██████████| 3130/3130 [00:26<00:00, 119.81batch/s, train_loss=tensor(0.0140, device='cuda:0', grad_fn=<MseLossBackward0>)]\n"
          ]
        },
        {
          "metadata": {
            "tags": null
          },
          "name": "stdout",
          "output_type": "stream",
          "text": [
            "loss_sum=  0.06829025171103731 ACC=  0.9284396901512357 bacc=  0.8969284664079084 precision=  0.8912228057014253 specificity=  0.9636682535705337 sensitivity=  0.8301886792452831 recall=  0.8301886792452831 MCC=  0.8126046303043535 AUC=  0.9534248179998288 f1=  0.8596237337192475\n",
            "Epoch: 161 / 500, ############## the best accuracy in val  92.9731 at Epoch: 141  ##############\n",
            "Performance in Val: Loss: (0.0683); Accuracy (92.84)\n"
          ]
        },
        {
          "metadata": {
            "tags": null
          },
          "name": "stderr",
          "output_type": "stream",
          "text": [
            "Epoch 162: 100%|██████████| 3130/3130 [00:25<00:00, 123.31batch/s, train_loss=tensor(0.0531, device='cuda:0', grad_fn=<MseLossBackward0>)]\n"
          ]
        },
        {
          "metadata": {
            "tags": null
          },
          "name": "stdout",
          "output_type": "stream",
          "text": [
            "loss_sum=  0.06798568078671145 ACC=  0.9265953522685356 bacc=  0.8927620339334432 precision=  0.8921791951404707 specificity=  0.9644199448759709 sensitivity=  0.8211041229909154 recall=  0.8211041229909154 MCC=  0.8073664689561488 AUC=  0.9543137853321614 f1=  0.8551673944687044\n",
            "Epoch: 162 / 500, ############## the best accuracy in val  92.9731 at Epoch: 141  ##############\n",
            "Performance in Val: Loss: (0.0680); Accuracy (92.66)\n"
          ]
        },
        {
          "metadata": {
            "tags": null
          },
          "name": "stderr",
          "output_type": "stream",
          "text": [
            "Epoch 163: 100%|██████████| 3130/3130 [00:25<00:00, 120.89batch/s, train_loss=tensor(0.0392, device='cuda:0', grad_fn=<MseLossBackward0>)]\n"
          ]
        },
        {
          "metadata": {
            "tags": null
          },
          "name": "stdout",
          "output_type": "stream",
          "text": [
            "loss_sum=  0.06851440914535681 ACC=  0.9265953522685356 bacc=  0.8934344063100746 precision=  0.890400604686319 specificity=  0.9636682535705337 sensitivity=  0.8232005590496156 recall=  0.8232005590496156 MCC=  0.807502976800041 AUC=  0.9528669590435923 f1=  0.8554829339143064\n",
            "Epoch: 163 / 500, ############## the best accuracy in val  92.9731 at Epoch: 141  ##############\n",
            "Performance in Val: Loss: (0.0685); Accuracy (92.66)\n"
          ]
        },
        {
          "metadata": {
            "tags": null
          },
          "name": "stderr",
          "output_type": "stream",
          "text": [
            "Epoch 164: 100%|██████████| 3130/3130 [00:25<00:00, 121.03batch/s, train_loss=tensor(0.0487, device='cuda:0', grad_fn=<MseLossBackward0>)]\n"
          ]
        },
        {
          "metadata": {
            "tags": null
          },
          "name": "stdout",
          "output_type": "stream",
          "text": [
            "loss_sum=  0.06754070013668113 ACC=  0.9273330874216157 bacc=  0.8941596579725767 precision=  0.8925056775170326 specificity=  0.9644199448759709 sensitivity=  0.8238993710691824 recall=  0.8238993710691824 MCC=  0.8094062534173019 AUC=  0.9546704578663278 f1=  0.8568313953488372\n",
            "Epoch: 164 / 500, ############## the best accuracy in val  92.9731 at Epoch: 141  ##############\n",
            "Performance in Val: Loss: (0.0675); Accuracy (92.73)\n"
          ]
        },
        {
          "metadata": {
            "tags": null
          },
          "name": "stderr",
          "output_type": "stream",
          "text": [
            "Epoch 165: 100%|██████████| 3130/3130 [00:25<00:00, 122.66batch/s, train_loss=tensor(0.0656, device='cuda:0', grad_fn=<MseLossBackward0>)]\n"
          ]
        },
        {
          "metadata": {
            "tags": null
          },
          "name": "stdout",
          "output_type": "stream",
          "text": [
            "loss_sum=  0.06790188537322667 ACC=  0.9295462928808558 bacc=  0.8967836612111703 precision=  0.8976497346474602 specificity=  0.9661738912553245 sensitivity=  0.827393431167016 recall=  0.827393431167016 MCC=  0.8152133828847362 AUC=  0.9533050516702413 f1=  0.8610909090909091\n",
            "Epoch: 165 / 500, ############## the best accuracy in val  92.9731 at Epoch: 141  ##############\n",
            "Performance in Val: Loss: (0.0679); Accuracy (92.95)\n"
          ]
        },
        {
          "metadata": {
            "tags": null
          },
          "name": "stderr",
          "output_type": "stream",
          "text": [
            "Epoch 166: 100%|██████████| 3130/3130 [00:25<00:00, 124.37batch/s, train_loss=tensor(0.0155, device='cuda:0', grad_fn=<MseLossBackward0>)]\n"
          ]
        },
        {
          "metadata": {
            "tags": null
          },
          "name": "stdout",
          "output_type": "stream",
          "text": [
            "loss_sum=  0.06782564418088194 ACC=  0.9251198819623755 bacc=  0.8922080271106145 precision=  0.8856282919488337 specificity=  0.9619143071911802 sensitivity=  0.822501747030049 recall=  0.822501747030049 MCC=  0.8037551923554193 AUC=  0.9540963148915949 f1=  0.8528985507246377\n",
            "Epoch: 166 / 500, ############## the best accuracy in val  92.9731 at Epoch: 141  ##############\n",
            "Performance in Val: Loss: (0.0678); Accuracy (92.51)\n"
          ]
        },
        {
          "metadata": {
            "tags": null
          },
          "name": "stderr",
          "output_type": "stream",
          "text": [
            "Epoch 167: 100%|██████████| 3130/3130 [00:24<00:00, 126.08batch/s, train_loss=tensor(0.0224, device='cuda:0', grad_fn=<MseLossBackward0>)]\n"
          ]
        },
        {
          "metadata": {
            "tags": null
          },
          "name": "stdout",
          "output_type": "stream",
          "text": [
            "loss_sum=  0.06849099712646882 ACC=  0.9273330874216157 bacc=  0.8932631614704013 precision=  0.8948971820258949 specificity=  0.9654221999498872 sensitivity=  0.8211041229909154 recall=  0.8211041229909154 MCC=  0.8092328588888835 AUC=  0.951810599004994 f1=  0.8564139941690961\n",
            "Epoch: 167 / 500, ############## the best accuracy in val  92.9731 at Epoch: 141  ##############\n",
            "Performance in Val: Loss: (0.0685); Accuracy (92.73)\n"
          ]
        },
        {
          "metadata": {
            "tags": null
          },
          "name": "stderr",
          "output_type": "stream",
          "text": [
            "Epoch 168: 100%|██████████| 3130/3130 [00:25<00:00, 123.48batch/s, train_loss=tensor(0.0459, device='cuda:0', grad_fn=<MseLossBackward0>)]\n"
          ]
        },
        {
          "metadata": {
            "tags": null
          },
          "name": "stdout",
          "output_type": "stream",
          "text": [
            "loss_sum=  0.06806975096096024 ACC=  0.9253043157506455 bacc=  0.8921091848693102 precision=  0.8868778280542986 specificity=  0.9624154347281383 sensitivity=  0.8218029350104822 recall=  0.8218029350104822 MCC=  0.8041664603353782 AUC=  0.952609741590136 f1=  0.85310119695321\n",
            "Epoch: 168 / 500, ############## the best accuracy in val  92.9731 at Epoch: 141  ##############\n",
            "Performance in Val: Loss: (0.0681); Accuracy (92.53)\n"
          ]
        },
        {
          "metadata": {
            "tags": null
          },
          "name": "stderr",
          "output_type": "stream",
          "text": [
            "Epoch 169: 100%|██████████| 3130/3130 [00:25<00:00, 122.85batch/s, train_loss=tensor(0.0267, device='cuda:0', grad_fn=<MseLossBackward0>)]\n"
          ]
        },
        {
          "metadata": {
            "tags": null
          },
          "name": "stdout",
          "output_type": "stream",
          "text": [
            "loss_sum=  0.06823260072278062 ACC=  0.9251198819623755 bacc=  0.8922080271106145 precision=  0.8856282919488337 specificity=  0.9619143071911802 sensitivity=  0.822501747030049 recall=  0.822501747030049 MCC=  0.8037551923554193 AUC=  0.9528837683530081 f1=  0.8528985507246377\n",
            "Epoch: 169 / 500, ############## the best accuracy in val  92.9731 at Epoch: 141  ##############\n",
            "Performance in Val: Loss: (0.0682); Accuracy (92.51)\n"
          ]
        },
        {
          "metadata": {
            "tags": null
          },
          "name": "stderr",
          "output_type": "stream",
          "text": [
            "Epoch 170: 100%|██████████| 3130/3130 [00:25<00:00, 124.18batch/s, train_loss=tensor(0.0256, device='cuda:0', grad_fn=<MseLossBackward0>)]\n"
          ]
        },
        {
          "metadata": {
            "tags": null
          },
          "name": "stdout",
          "output_type": "stream",
          "text": [
            "loss_sum=  0.06823033818859706 ACC=  0.9262264846919955 bacc=  0.8936320907926832 precision=  0.8878856282919488 specificity=  0.9626659984966174 sensitivity=  0.8245981830887491 recall=  0.8245981830887491 MCC=  0.8066735379771031 AUC=  0.9525734965167083 f1=  0.8550724637681159\n",
            "Epoch: 170 / 500, ############## the best accuracy in val  92.9731 at Epoch: 141  ##############\n",
            "Performance in Val: Loss: (0.0682); Accuracy (92.62)\n"
          ]
        },
        {
          "metadata": {
            "tags": null
          },
          "name": "stderr",
          "output_type": "stream",
          "text": [
            "Epoch 171: 100%|██████████| 3130/3130 [00:25<00:00, 122.91batch/s, train_loss=tensor(0.0487, device='cuda:0', grad_fn=<MseLossBackward0>)]\n"
          ]
        },
        {
          "metadata": {
            "tags": null
          },
          "name": "stdout",
          "output_type": "stream",
          "text": [
            "loss_sum=  0.0675388184323863 ACC=  0.9275175212098856 bacc=  0.8942849398568162 precision=  0.8931818181818182 specificity=  0.96467050864445 sensitivity=  0.8238993710691824 recall=  0.8238993710691824 MCC=  0.8098714175329356 AUC=  0.9541602252867695 f1=  0.8571428571428572\n",
            "Epoch: 171 / 500, ############## the best accuracy in val  92.9731 at Epoch: 141  ##############\n",
            "Performance in Val: Loss: (0.0675); Accuracy (92.75)\n"
          ]
        },
        {
          "metadata": {
            "tags": null
          },
          "name": "stderr",
          "output_type": "stream",
          "text": [
            "Epoch 172: 100%|██████████| 3130/3130 [00:24<00:00, 125.37batch/s, train_loss=tensor(0.0357, device='cuda:0', grad_fn=<MseLossBackward0>)]\n"
          ]
        },
        {
          "metadata": {
            "tags": null
          },
          "name": "stdout",
          "output_type": "stream",
          "text": [
            "loss_sum=  0.06879823364366867 ACC=  0.9258576171154556 bacc=  0.8927091546475727 precision=  0.8883018867924528 specificity=  0.9629165622650965 sensitivity=  0.822501747030049 recall=  0.822501747030049 MCC=  0.8056024545468501 AUC=  0.9516298989287743 f1=  0.8541364296081276\n",
            "Epoch: 172 / 500, ############## the best accuracy in val  92.9731 at Epoch: 141  ##############\n",
            "Performance in Val: Loss: (0.0688); Accuracy (92.59)\n"
          ]
        },
        {
          "metadata": {
            "tags": null
          },
          "name": "stderr",
          "output_type": "stream",
          "text": [
            "Epoch 173: 100%|██████████| 3130/3130 [00:24<00:00, 126.52batch/s, train_loss=tensor(0.0461, device='cuda:0', grad_fn=<MseLossBackward0>)]\n"
          ]
        },
        {
          "metadata": {
            "tags": null
          },
          "name": "stdout",
          "output_type": "stream",
          "text": [
            "loss_sum=  0.06909851879939151 ACC=  0.9260420509037256 bacc=  0.8917138159040932 precision=  0.8919330289193302 specificity=  0.9644199448759709 sensitivity=  0.8190076869322153 recall=  0.8190076869322153 MCC=  0.8058360013337472 AUC=  0.9499904659698158 f1=  0.8539162112932605\n",
            "Epoch: 173 / 500, ############## the best accuracy in val  92.9731 at Epoch: 141  ##############\n",
            "Performance in Val: Loss: (0.0691); Accuracy (92.60)\n"
          ]
        },
        {
          "metadata": {
            "tags": null
          },
          "name": "stderr",
          "output_type": "stream",
          "text": [
            "Epoch 174: 100%|██████████| 3130/3130 [00:25<00:00, 124.07batch/s, train_loss=tensor(0.0599, device='cuda:0', grad_fn=<MseLossBackward0>)]\n"
          ]
        },
        {
          "metadata": {
            "tags": null
          },
          "name": "stdout",
          "output_type": "stream",
          "text": [
            "loss_sum=  0.06818415963909641 ACC=  0.9262264846919955 bacc=  0.8931838425415957 precision=  0.8890566037735849 specificity=  0.9631671260335756 sensitivity=  0.8232005590496156 recall=  0.8232005590496156 MCC=  0.8065762279566188 AUC=  0.9521352287930863 f1=  0.8548621190130624\n",
            "Epoch: 174 / 500, ############## the best accuracy in val  92.9731 at Epoch: 141  ##############\n",
            "Performance in Val: Loss: (0.0682); Accuracy (92.62)\n"
          ]
        },
        {
          "metadata": {
            "tags": null
          },
          "name": "stderr",
          "output_type": "stream",
          "text": [
            "Epoch 175: 100%|██████████| 3130/3130 [00:25<00:00, 123.54batch/s, train_loss=tensor(0.0199, device='cuda:0', grad_fn=<MseLossBackward0>)]\n"
          ]
        },
        {
          "metadata": {
            "tags": null
          },
          "name": "stdout",
          "output_type": "stream",
          "text": [
            "loss_sum=  0.06886499067136584 ACC=  0.9238288454444854 bacc=  0.8893139367910433 precision=  0.8861911987860395 specificity=  0.9624154347281383 sensitivity=  0.8162124388539483 recall=  0.8162124388539483 MCC=  0.8000723215336644 AUC=  0.9515595099455956 f1=  0.8497635503819572\n",
            "Epoch: 175 / 500, ############## the best accuracy in val  92.9731 at Epoch: 141  ##############\n",
            "Performance in Val: Loss: (0.0689); Accuracy (92.38)\n"
          ]
        },
        {
          "metadata": {
            "tags": null
          },
          "name": "stderr",
          "output_type": "stream",
          "text": [
            "Epoch 176: 100%|██████████| 3130/3130 [00:25<00:00, 125.04batch/s, train_loss=tensor(0.0308, device='cuda:0', grad_fn=<MseLossBackward0>)]\n"
          ]
        },
        {
          "metadata": {
            "tags": null
          },
          "name": "stdout",
          "output_type": "stream",
          "text": [
            "loss_sum=  0.06884943023131704 ACC=  0.9258576171154556 bacc=  0.8933815270242041 precision=  0.8865514650638617 specificity=  0.9621648709596592 sensitivity=  0.8245981830887491 recall=  0.8245981830887491 MCC=  0.8057510326686523 AUC=  0.9511557363256705 f1=  0.8544532947139752\n",
            "Epoch: 176 / 500, ############## the best accuracy in val  92.9731 at Epoch: 141  ##############\n",
            "Performance in Val: Loss: (0.0688); Accuracy (92.59)\n"
          ]
        },
        {
          "metadata": {
            "tags": null
          },
          "name": "stderr",
          "output_type": "stream",
          "text": [
            "Epoch 177: 100%|██████████| 3130/3130 [00:25<00:00, 124.30batch/s, train_loss=tensor(0.0289, device='cuda:0', grad_fn=<MseLossBackward0>)]\n"
          ]
        },
        {
          "metadata": {
            "tags": null
          },
          "name": "stdout",
          "output_type": "stream",
          "text": [
            "loss_sum=  0.06852233342024165 ACC=  0.9267797860568056 bacc=  0.8935596881943142 precision=  0.8910741301059002 specificity=  0.9639188173390127 sensitivity=  0.8232005590496156 recall=  0.8232005590496156 MCC=  0.8079670096431822 AUC=  0.950919530508984 f1=  0.8557936796222303\n",
            "Epoch: 177 / 500, ############## the best accuracy in val  92.9731 at Epoch: 141  ##############\n",
            "Performance in Val: Loss: (0.0685); Accuracy (92.68)\n"
          ]
        },
        {
          "metadata": {
            "tags": null
          },
          "name": "stderr",
          "output_type": "stream",
          "text": [
            "Epoch 178: 100%|██████████| 3130/3130 [00:24<00:00, 126.10batch/s, train_loss=tensor(0.0116, device='cuda:0', grad_fn=<MseLossBackward0>)]\n"
          ]
        },
        {
          "metadata": {
            "tags": null
          },
          "name": "stdout",
          "output_type": "stream",
          "text": [
            "loss_sum=  0.06822035788794688 ACC=  0.9254887495389156 bacc=  0.8926827150046375 precision=  0.8863807373965388 specificity=  0.9621648709596592 sensitivity=  0.8232005590496156 recall=  0.8232005590496156 MCC=  0.8047279742293139 AUC=  0.9529928537672376 f1=  0.8536231884057972\n",
            "Epoch: 178 / 500, ############## the best accuracy in val  92.9731 at Epoch: 141  ##############\n",
            "Performance in Val: Loss: (0.0682); Accuracy (92.55)\n"
          ]
        },
        {
          "metadata": {
            "tags": null
          },
          "name": "stderr",
          "output_type": "stream",
          "text": [
            "Epoch 179: 100%|██████████| 3130/3130 [00:24<00:00, 126.83batch/s, train_loss=tensor(0.0214, device='cuda:0', grad_fn=<MseLossBackward0>)]\n"
          ]
        },
        {
          "metadata": {
            "tags": null
          },
          "name": "stdout",
          "output_type": "stream",
          "text": [
            "loss_sum=  0.06709533817530404 ACC=  0.9269642198450756 bacc=  0.8939090942040976 precision=  0.891156462585034 specificity=  0.9639188173390127 sensitivity=  0.8238993710691824 recall=  0.8238993710691824 MCC=  0.8084772481940186 AUC=  0.9531313554729448 f1=  0.8562091503267975\n",
            "Epoch: 179 / 500, ############## the best accuracy in val  92.9731 at Epoch: 141  ##############\n",
            "Performance in Val: Loss: (0.0671); Accuracy (92.70)\n"
          ]
        },
        {
          "metadata": {
            "tags": null
          },
          "name": "stderr",
          "output_type": "stream",
          "text": [
            "Epoch 180: 100%|██████████| 3130/3130 [00:25<00:00, 124.34batch/s, train_loss=tensor(0.0429, device='cuda:0', grad_fn=<MseLossBackward0>)]\n"
          ]
        },
        {
          "metadata": {
            "tags": null
          },
          "name": "stdout",
          "output_type": "stream",
          "text": [
            "loss_sum=  0.06811560351115852 ACC=  0.9271486536333456 bacc=  0.8926896313350741 precision=  0.8954198473282443 specificity=  0.9656727637183663 sensitivity=  0.8197064989517819 recall=  0.8197064989517819 MCC=  0.8086822482629309 AUC=  0.9527699553205053 f1=  0.85589201021525\n",
            "Epoch: 180 / 500, ############## the best accuracy in val  92.9731 at Epoch: 141  ##############\n",
            "Performance in Val: Loss: (0.0681); Accuracy (92.71)\n"
          ]
        },
        {
          "metadata": {
            "tags": null
          },
          "name": "stderr",
          "output_type": "stream",
          "text": [
            "Epoch 181: 100%|██████████| 3130/3130 [00:25<00:00, 122.64batch/s, train_loss=tensor(0.0232, device='cuda:0', grad_fn=<MseLossBackward0>)]\n"
          ]
        },
        {
          "metadata": {
            "tags": null
          },
          "name": "stdout",
          "output_type": "stream",
          "text": [
            "loss_sum=  0.06794041469500875 ACC=  0.9289929915160458 bacc=  0.8959595673073639 precision=  0.8968133535660091 specificity=  0.9659233274868454 sensitivity=  0.8259958071278826 recall=  0.8259958071278826 MCC=  0.8137296415851206 AUC=  0.9515952297281042 f1=  0.85994907238996\n",
            "Epoch: 181 / 500, ############## the best accuracy in val  92.9731 at Epoch: 141  ##############\n",
            "Performance in Val: Loss: (0.0679); Accuracy (92.90)\n"
          ]
        },
        {
          "metadata": {
            "tags": null
          },
          "name": "stderr",
          "output_type": "stream",
          "text": [
            "Epoch 182: 100%|██████████| 3130/3130 [00:25<00:00, 123.31batch/s, train_loss=tensor(0.0336, device='cuda:0', grad_fn=<MseLossBackward0>)]\n"
          ]
        },
        {
          "metadata": {
            "tags": null
          },
          "name": "stdout",
          "output_type": "stream",
          "text": [
            "loss_sum=  0.06836493994084607 ACC=  0.9245665805975655 bacc=  0.8904874367046329 precision=  0.8871212121212121 specificity=  0.9626659984966174 sensitivity=  0.8183088749126485 recall=  0.8183088749126485 MCC=  0.8020712482896941 AUC=  0.9528784278953292 f1=  0.8513267902580879\n",
            "Epoch: 182 / 500, ############## the best accuracy in val  92.9731 at Epoch: 141  ##############\n",
            "Performance in Val: Loss: (0.0684); Accuracy (92.46)\n"
          ]
        },
        {
          "metadata": {
            "tags": null
          },
          "name": "stderr",
          "output_type": "stream",
          "text": [
            "Epoch 183: 100%|██████████| 3130/3130 [00:25<00:00, 121.68batch/s, train_loss=tensor(0.0432, device='cuda:0', grad_fn=<MseLossBackward0>)]\n"
          ]
        },
        {
          "metadata": {
            "tags": null
          },
          "name": "stdout",
          "output_type": "stream",
          "text": [
            "loss_sum=  0.06781468427036738 ACC=  0.9273330874216157 bacc=  0.8937114097214891 precision=  0.8936977980258163 specificity=  0.9649210724129291 sensitivity=  0.822501747030049 recall=  0.822501747030049 MCC=  0.8093180175058665 AUC=  0.952160092563264 f1=  0.8566229985443959\n",
            "Epoch: 183 / 500, ############## the best accuracy in val  92.9731 at Epoch: 141  ##############\n",
            "Performance in Val: Loss: (0.0678); Accuracy (92.73)\n"
          ]
        },
        {
          "metadata": {
            "tags": null
          },
          "name": "stderr",
          "output_type": "stream",
          "text": [
            "Epoch 184: 100%|██████████| 3130/3130 [00:25<00:00, 122.30batch/s, train_loss=tensor(0.0238, device='cuda:0', grad_fn=<MseLossBackward0>)]\n"
          ]
        },
        {
          "metadata": {
            "tags": null
          },
          "name": "stdout",
          "output_type": "stream",
          "text": [
            "loss_sum=  0.06790515358194402 ACC=  0.9267797860568056 bacc=  0.8944561846964896 precision=  0.8887218045112782 specificity=  0.9629165622650965 sensitivity=  0.8259958071278826 recall=  0.8259958071278826 MCC=  0.8081571380750974 AUC=  0.9523185553239024 f1=  0.8562115175660991\n",
            "Epoch: 184 / 500, ############## the best accuracy in val  92.9731 at Epoch: 141  ##############\n",
            "Performance in Val: Loss: (0.0679); Accuracy (92.68)\n"
          ]
        },
        {
          "metadata": {
            "tags": null
          },
          "name": "stderr",
          "output_type": "stream",
          "text": [
            "Epoch 185: 100%|██████████| 3130/3130 [00:25<00:00, 122.59batch/s, train_loss=tensor(0.0270, device='cuda:0', grad_fn=<MseLossBackward0>)]\n"
          ]
        },
        {
          "metadata": {
            "tags": null
          },
          "name": "stdout",
          "output_type": "stream",
          "text": [
            "loss_sum=  0.06778528697096405 ACC=  0.9275175212098856 bacc=  0.8936125674801847 precision=  0.8949771689497716 specificity=  0.9654221999498872 sensitivity=  0.8218029350104822 recall=  0.8218029350104822 MCC=  0.809742124415141 AUC=  0.951383187293703 f1=  0.8568306010928962\n",
            "Epoch: 185 / 500, ############## the best accuracy in val  92.9731 at Epoch: 141  ##############\n",
            "Performance in Val: Loss: (0.0678); Accuracy (92.75)\n"
          ]
        },
        {
          "metadata": {
            "tags": null
          },
          "name": "stderr",
          "output_type": "stream",
          "text": [
            "Epoch 186: 100%|██████████| 3130/3130 [00:25<00:00, 124.66batch/s, train_loss=tensor(0.0340, device='cuda:0', grad_fn=<MseLossBackward0>)]\n"
          ]
        },
        {
          "metadata": {
            "tags": null
          },
          "name": "stdout",
          "output_type": "stream",
          "text": [
            "loss_sum=  0.06704731012906077 ACC=  0.9260420509037256 bacc=  0.8926103124062684 precision=  0.8895612708018155 specificity=  0.9634176898020547 sensitivity=  0.8218029350104822 recall=  0.8218029350104822 MCC=  0.8060179677582922 AUC=  0.9547250881219291 f1=  0.8543407192154014\n",
            "Epoch: 186 / 500, ############## the best accuracy in val  92.9731 at Epoch: 141  ##############\n",
            "Performance in Val: Loss: (0.0670); Accuracy (92.60)\n"
          ]
        },
        {
          "metadata": {
            "tags": null
          },
          "name": "stderr",
          "output_type": "stream",
          "text": [
            "Epoch 187: 100%|██████████| 3130/3130 [00:25<00:00, 123.71batch/s, train_loss=tensor(0.0349, device='cuda:0', grad_fn=<MseLossBackward0>)]\n"
          ]
        },
        {
          "metadata": {
            "tags": null
          },
          "name": "stdout",
          "output_type": "stream",
          "text": [
            "loss_sum=  0.06768163663244485 ACC=  0.9240132792327554 bacc=  0.8936975770606156 precision=  0.8760147601476015 specificity=  0.9579052868955149 sensitivity=  0.8294898672257163 recall=  0.8294898672257163 MCC=  0.8015796529038257 AUC=  0.9526792550884492 f1=  0.8521177315147165\n",
            "Epoch: 187 / 500, ############## the best accuracy in val  92.9731 at Epoch: 141  ##############\n",
            "Performance in Val: Loss: (0.0677); Accuracy (92.40)\n"
          ]
        },
        {
          "metadata": {
            "tags": null
          },
          "name": "stderr",
          "output_type": "stream",
          "text": [
            "Epoch 188: 100%|██████████| 3130/3130 [00:24<00:00, 125.61batch/s, train_loss=tensor(0.0322, device='cuda:0', grad_fn=<MseLossBackward0>)]\n"
          ]
        },
        {
          "metadata": {
            "tags": null
          },
          "name": "stdout",
          "output_type": "stream",
          "text": [
            "loss_sum=  0.06653109999170258 ACC=  0.9291774253043158 bacc=  0.8956366009405159 precision=  0.8987052551408987 specificity=  0.9666750187922827 sensitivity=  0.8245981830887491 recall=  0.8245981830887491 MCC=  0.8141167773332635 AUC=  0.9539987858775886 f1=  0.8600583090379009\n",
            "Epoch: 188 / 500, ############## the best accuracy in val  92.9731 at Epoch: 141  ##############\n",
            "Performance in Val: Loss: (0.0665); Accuracy (92.92)\n"
          ]
        },
        {
          "metadata": {
            "tags": null
          },
          "name": "stderr",
          "output_type": "stream",
          "text": [
            "Epoch 189: 100%|██████████| 3130/3130 [00:25<00:00, 123.21batch/s, train_loss=tensor(0.0307, device='cuda:0', grad_fn=<MseLossBackward0>)]\n"
          ]
        },
        {
          "metadata": {
            "tags": null
          },
          "name": "stdout",
          "output_type": "stream",
          "text": [
            "loss_sum=  0.06830463049504741 ACC=  0.9264109184802656 bacc=  0.8926367520492036 precision=  0.8915022761760243 specificity=  0.9641693811074918 sensitivity=  0.8211041229909154 recall=  0.8211041229909154 MCC=  0.8069009815593925 AUC=  0.9529615114090563 f1=  0.8548563113859586\n",
            "Epoch: 189 / 500, ############## the best accuracy in val  92.9731 at Epoch: 141  ##############\n",
            "Performance in Val: Loss: (0.0683); Accuracy (92.64)\n"
          ]
        },
        {
          "metadata": {
            "tags": null
          },
          "name": "stderr",
          "output_type": "stream",
          "text": [
            "Epoch 190: 100%|██████████| 3130/3130 [00:25<00:00, 123.32batch/s, train_loss=tensor(0.0547, device='cuda:0', grad_fn=<MseLossBackward0>)]\n"
          ]
        },
        {
          "metadata": {
            "tags": null
          },
          "name": "stdout",
          "output_type": "stream",
          "text": [
            "loss_sum=  0.06775246917305838 ACC=  0.9273330874216157 bacc=  0.8932631614704013 precision=  0.8948971820258949 specificity=  0.9654221999498872 sensitivity=  0.8211041229909154 recall=  0.8211041229909154 MCC=  0.8092328588888835 AUC=  0.9525214927157033 f1=  0.8564139941690961\n",
            "Epoch: 190 / 500, ############## the best accuracy in val  92.9731 at Epoch: 141  ##############\n",
            "Performance in Val: Loss: (0.0678); Accuracy (92.73)\n"
          ]
        },
        {
          "metadata": {
            "tags": null
          },
          "name": "stderr",
          "output_type": "stream",
          "text": [
            "Epoch 191: 100%|██████████| 3130/3130 [00:25<00:00, 122.79batch/s, train_loss=tensor(0.0303, device='cuda:0', grad_fn=<MseLossBackward0>)]\n"
          ]
        },
        {
          "metadata": {
            "tags": null
          },
          "name": "stdout",
          "output_type": "stream",
          "text": [
            "loss_sum=  0.06563260994857084 ACC=  0.9277019549981557 bacc=  0.895306718243231 precision=  0.8914845516201959 specificity=  0.9639188173390127 sensitivity=  0.8266946191474493 recall=  0.8266946191474493 MCC=  0.8105176138462722 AUC=  0.9558404558404558 f1=  0.8578680203045684\n",
            "Epoch: 191 / 500, ############## the best accuracy in val  92.9731 at Epoch: 141  ##############\n",
            "Performance in Val: Loss: (0.0656); Accuracy (92.77)\n"
          ]
        },
        {
          "metadata": {
            "tags": null
          },
          "name": "stderr",
          "output_type": "stream",
          "text": [
            "Epoch 192: 100%|██████████| 3130/3130 [00:25<00:00, 124.83batch/s, train_loss=tensor(0.0454, device='cuda:0', grad_fn=<MseLossBackward0>)]\n"
          ]
        },
        {
          "metadata": {
            "tags": null
          },
          "name": "stdout",
          "output_type": "stream",
          "text": [
            "loss_sum=  0.06820490970454868 ACC=  0.9267797860568056 bacc=  0.8922149434410512 precision=  0.8946564885496183 specificity=  0.9654221999498872 sensitivity=  0.8190076869322153 recall=  0.8190076869322153 MCC=  0.807704703548912 AUC=  0.9525745470985469 f1=  0.855162349507479\n",
            "Epoch: 192 / 500, ############## the best accuracy in val  92.9731 at Epoch: 141  ##############\n",
            "Performance in Val: Loss: (0.0682); Accuracy (92.68)\n"
          ]
        },
        {
          "metadata": {
            "tags": null
          },
          "name": "stderr",
          "output_type": "stream",
          "text": [
            "Epoch 193: 100%|██████████| 3130/3130 [00:24<00:00, 125.90batch/s, train_loss=tensor(0.0205, device='cuda:0', grad_fn=<MseLossBackward0>)]\n"
          ]
        },
        {
          "metadata": {
            "tags": null
          },
          "name": "stdout",
          "output_type": "stream",
          "text": [
            "loss_sum=  0.06728637773834806 ACC=  0.9256731833271855 bacc=  0.8916873762611578 precision=  0.8899848254931715 specificity=  0.9636682535705337 sensitivity=  0.8197064989517819 recall=  0.8197064989517819 MCC=  0.8049499358377559 AUC=  0.9554088418018108 f1=  0.8534012368133866\n",
            "Epoch: 193 / 500, ############## the best accuracy in val  92.9731 at Epoch: 141  ##############\n",
            "Performance in Val: Loss: (0.0673); Accuracy (92.57)\n"
          ]
        },
        {
          "metadata": {
            "tags": null
          },
          "name": "stderr",
          "output_type": "stream",
          "text": [
            "Epoch 194: 100%|██████████| 3130/3130 [00:24<00:00, 126.02batch/s, train_loss=tensor(0.0257, device='cuda:0', grad_fn=<MseLossBackward0>)]\n"
          ]
        },
        {
          "metadata": {
            "tags": null
          },
          "name": "stdout",
          "output_type": "stream",
          "text": [
            "loss_sum=  0.06836649864928517 ACC=  0.9258576171154556 bacc=  0.8911402857687659 precision=  0.8924485125858124 specificity=  0.96467050864445 sensitivity=  0.8176100628930818 recall=  0.8176100628930818 MCC=  0.8052822767494154 AUC=  0.9526263758025789 f1=  0.8533916849015317\n",
            "Epoch: 194 / 500, ############## the best accuracy in val  92.9731 at Epoch: 141  ##############\n",
            "Performance in Val: Loss: (0.0684); Accuracy (92.59)\n"
          ]
        },
        {
          "metadata": {
            "tags": null
          },
          "name": "stderr",
          "output_type": "stream",
          "text": [
            "Epoch 195: 100%|██████████| 3130/3130 [00:25<00:00, 124.72batch/s, train_loss=tensor(0.0514, device='cuda:0', grad_fn=<MseLossBackward0>)]\n"
          ]
        },
        {
          "metadata": {
            "tags": null
          },
          "name": "stdout",
          "output_type": "stream",
          "text": [
            "loss_sum=  0.06749338489492866 ACC=  0.9265953522685356 bacc=  0.8923137856823555 precision=  0.8933739527798934 specificity=  0.9649210724129291 sensitivity=  0.8197064989517819 recall=  0.8197064989517819 MCC=  0.8072792915111314 AUC=  0.9536780957713906 f1=  0.8549562682215743\n",
            "Epoch: 195 / 500, ############## the best accuracy in val  92.9731 at Epoch: 141  ##############\n",
            "Performance in Val: Loss: (0.0675); Accuracy (92.66)\n"
          ]
        },
        {
          "metadata": {
            "tags": null
          },
          "name": "stderr",
          "output_type": "stream",
          "text": [
            "Epoch 196: 100%|██████████| 3130/3130 [00:25<00:00, 122.75batch/s, train_loss=tensor(0.0239, device='cuda:0', grad_fn=<MseLossBackward0>)]\n"
          ]
        },
        {
          "metadata": {
            "tags": null
          },
          "name": "stdout",
          "output_type": "stream",
          "text": [
            "loss_sum=  0.06799607193591979 ACC=  0.9254887495389156 bacc=  0.8922344667535498 precision=  0.8875471698113208 specificity=  0.9626659984966174 sensitivity=  0.8218029350104822 recall=  0.8218029350104822 MCC=  0.8046286811370814 AUC=  0.953084254387186 f1=  0.8534107402031931\n",
            "Epoch: 196 / 500, ############## the best accuracy in val  92.9731 at Epoch: 141  ##############\n",
            "Performance in Val: Loss: (0.0680); Accuracy (92.55)\n"
          ]
        },
        {
          "metadata": {
            "tags": null
          },
          "name": "stderr",
          "output_type": "stream",
          "text": [
            "Epoch 197: 100%|██████████| 3130/3130 [00:24<00:00, 125.91batch/s, train_loss=tensor(0.0293, device='cuda:0', grad_fn=<MseLossBackward0>)]\n"
          ]
        },
        {
          "metadata": {
            "tags": null
          },
          "name": "stdout",
          "output_type": "stream",
          "text": [
            "loss_sum=  0.06737147610302147 ACC=  0.9258576171154556 bacc=  0.8920367822709412 precision=  0.890068233510235 specificity=  0.9636682535705337 sensitivity=  0.8204053109713487 recall=  0.8204053109713487 MCC=  0.8054606646725088 AUC=  0.9519338672740429 f1=  0.8538181818181818\n",
            "Epoch: 197 / 500, ############## the best accuracy in val  92.9731 at Epoch: 141  ##############\n",
            "Performance in Val: Loss: (0.0674); Accuracy (92.59)\n"
          ]
        },
        {
          "metadata": {
            "tags": null
          },
          "name": "stderr",
          "output_type": "stream",
          "text": [
            "Epoch 198: 100%|██████████| 3130/3130 [00:25<00:00, 123.14batch/s, train_loss=tensor(0.0296, device='cuda:0', grad_fn=<MseLossBackward0>)]\n"
          ]
        },
        {
          "metadata": {
            "tags": null
          },
          "name": "stdout",
          "output_type": "stream",
          "text": [
            "loss_sum=  0.06770396862690033 ACC=  0.9265953522685356 bacc=  0.8947791510633376 precision=  0.8868913857677903 specificity=  0.9621648709596592 sensitivity=  0.827393431167016 recall=  0.827393431167016 MCC=  0.807796437482229 AUC=  0.9534573860368218 f1=  0.8561099060014462\n",
            "Epoch: 198 / 500, ############## the best accuracy in val  92.9731 at Epoch: 141  ##############\n",
            "Performance in Val: Loss: (0.0677); Accuracy (92.66)\n"
          ]
        },
        {
          "metadata": {
            "tags": null
          },
          "name": "stderr",
          "output_type": "stream",
          "text": [
            "Epoch 199: 100%|██████████| 3130/3130 [00:24<00:00, 126.37batch/s, train_loss=tensor(0.0176, device='cuda:0', grad_fn=<MseLossBackward0>)]\n"
          ]
        },
        {
          "metadata": {
            "tags": null
          },
          "name": "stdout",
          "output_type": "stream",
          "text": [
            "loss_sum=  0.06790500733957441 ACC=  0.9253043157506455 bacc=  0.8943504261247486 precision=  0.8811292719167905 specificity=  0.9599097970433476 sensitivity=  0.8287910552061496 recall=  0.8287910552061496 MCC=  0.8046988362881333 AUC=  0.9532892929426638 f1=  0.8541591645660784\n",
            "Epoch: 199 / 500, ############## the best accuracy in val  92.9731 at Epoch: 141  ##############\n",
            "Performance in Val: Loss: (0.0679); Accuracy (92.53)\n"
          ]
        },
        {
          "metadata": {
            "tags": null
          },
          "name": "stderr",
          "output_type": "stream",
          "text": [
            "Epoch 200: 100%|██████████| 3130/3130 [00:24<00:00, 125.23batch/s, train_loss=tensor(0.0175, device='cuda:0', grad_fn=<MseLossBackward0>)]\n"
          ]
        },
        {
          "metadata": {
            "tags": null
          },
          "name": "stdout",
          "output_type": "stream",
          "text": [
            "loss_sum=  0.06782584571469147 ACC=  0.9260420509037256 bacc=  0.8926103124062684 precision=  0.8895612708018155 specificity=  0.9634176898020547 sensitivity=  0.8218029350104822 recall=  0.8218029350104822 MCC=  0.8060179677582922 AUC=  0.9514099771305844 f1=  0.8543407192154014\n",
            "Epoch: 200 / 500, ############## the best accuracy in val  92.9731 at Epoch: 141  ##############\n",
            "Performance in Val: Loss: (0.0678); Accuracy (92.60)\n"
          ]
        },
        {
          "metadata": {
            "tags": null
          },
          "name": "stderr",
          "output_type": "stream",
          "text": [
            "Epoch 201: 100%|██████████| 3130/3130 [00:24<00:00, 125.30batch/s, train_loss=tensor(0.0466, device='cuda:0', grad_fn=<MseLossBackward0>)]\n"
          ]
        },
        {
          "metadata": {
            "tags": null
          },
          "name": "stdout",
          "output_type": "stream",
          "text": [
            "loss_sum=  0.06693559313868791 ACC=  0.9297307266691258 bacc=  0.8957883224676907 precision=  0.9013761467889908 specificity=  0.967677273866199 sensitivity=  0.8238993710691824 recall=  0.8238993710691824 MCC=  0.8154881172737074 AUC=  0.9536323079129299 f1=  0.8608981380065718\n",
            "Epoch: 201 / 500, ############## the best accuracy in val  92.9731 at Epoch: 141  ##############\n",
            "Performance in Val: Loss: (0.0669); Accuracy (92.97)\n"
          ]
        },
        {
          "metadata": {
            "tags": null
          },
          "name": "stderr",
          "output_type": "stream",
          "text": [
            "Epoch 202: 100%|██████████| 3130/3130 [00:25<00:00, 123.69batch/s, train_loss=tensor(0.0524, device='cuda:0', grad_fn=<MseLossBackward0>)]\n"
          ]
        },
        {
          "metadata": {
            "tags": null
          },
          "name": "stdout",
          "output_type": "stream",
          "text": [
            "loss_sum=  0.066218785933359 ACC=  0.9282552563629657 bacc=  0.8959066880214934 precision=  0.8929110105580694 specificity=  0.9644199448759709 sensitivity=  0.827393431167016 recall=  0.827393431167016 MCC=  0.8119546601170832 AUC=  0.9545568199307981 f1=  0.8589046064562931\n",
            "Epoch: 202 / 500, ############## the best accuracy in val  92.9731 at Epoch: 141  ##############\n",
            "Performance in Val: Loss: (0.0662); Accuracy (92.83)\n"
          ]
        },
        {
          "metadata": {
            "tags": null
          },
          "name": "stderr",
          "output_type": "stream",
          "text": [
            "Epoch 203: 100%|██████████| 3130/3130 [00:25<00:00, 124.05batch/s, train_loss=tensor(0.0077, device='cuda:0', grad_fn=<MseLossBackward0>)]\n"
          ]
        },
        {
          "metadata": {
            "tags": null
          },
          "name": "stdout",
          "output_type": "stream",
          "text": [
            "loss_sum=  0.06697302757677208 ACC=  0.9286241239395057 bacc=  0.8966055000410602 precision=  0.8930722891566265 specificity=  0.9644199448759709 sensitivity=  0.8287910552061496 recall=  0.8287910552061496 MCC=  0.8129736178918431 AUC=  0.9523609287913879 f1=  0.8597317868793042\n",
            "Epoch: 203 / 500, ############## the best accuracy in val  92.9731 at Epoch: 141  ##############\n",
            "Performance in Val: Loss: (0.0670); Accuracy (92.86)\n"
          ]
        },
        {
          "metadata": {
            "tags": null
          },
          "name": "stderr",
          "output_type": "stream",
          "text": [
            "Epoch 204: 100%|██████████| 3130/3130 [00:25<00:00, 121.45batch/s, train_loss=tensor(0.0175, device='cuda:0', grad_fn=<MseLossBackward0>)]\n"
          ]
        },
        {
          "metadata": {
            "tags": null
          },
          "name": "stdout",
          "output_type": "stream",
          "text": [
            "loss_sum=  0.06678900380885355 ACC=  0.9284396901512357 bacc=  0.8955837216546454 precision=  0.894776684330053 specificity=  0.9651716361814082 sensitivity=  0.8259958071278826 recall=  0.8259958071278826 MCC=  0.8123305660054032 AUC=  0.9539082607425057 f1=  0.8590116279069767\n",
            "Epoch: 204 / 500, ############## the best accuracy in val  92.9731 at Epoch: 141  ##############\n",
            "Performance in Val: Loss: (0.0668); Accuracy (92.84)\n"
          ]
        },
        {
          "metadata": {
            "tags": null
          },
          "name": "stderr",
          "output_type": "stream",
          "text": [
            "Epoch 205: 100%|██████████| 3130/3130 [00:25<00:00, 123.77batch/s, train_loss=tensor(0.0136, device='cuda:0', grad_fn=<MseLossBackward0>)]\n"
          ]
        },
        {
          "metadata": {
            "tags": null
          },
          "name": "stdout",
          "output_type": "stream",
          "text": [
            "loss_sum=  0.06731534696728057 ACC=  0.9275175212098856 bacc=  0.8936125674801847 precision=  0.8949771689497716 specificity=  0.9654221999498872 sensitivity=  0.8218029350104822 recall=  0.8218029350104822 MCC=  0.809742124415141 AUC=  0.9512546661154614 f1=  0.8568306010928962\n",
            "Epoch: 205 / 500, ############## the best accuracy in val  92.9731 at Epoch: 141  ##############\n",
            "Performance in Val: Loss: (0.0673); Accuracy (92.75)\n"
          ]
        },
        {
          "metadata": {
            "tags": null
          },
          "name": "stderr",
          "output_type": "stream",
          "text": [
            "Epoch 206: 100%|██████████| 3130/3130 [00:24<00:00, 125.39batch/s, train_loss=tensor(0.0293, device='cuda:0', grad_fn=<MseLossBackward0>)]\n"
          ]
        },
        {
          "metadata": {
            "tags": null
          },
          "name": "stdout",
          "output_type": "stream",
          "text": [
            "loss_sum=  0.06737439234598175 ACC=  0.9284396901512357 bacc=  0.89468722515247 precision=  0.8971820258948972 specificity=  0.9661738912553245 sensitivity=  0.8232005590496156 recall=  0.8232005590496156 MCC=  0.8121632099555115 AUC=  0.9514041989304727 f1=  0.858600583090379\n",
            "Epoch: 206 / 500, ############## the best accuracy in val  92.9731 at Epoch: 141  ##############\n",
            "Performance in Val: Loss: (0.0674); Accuracy (92.84)\n"
          ]
        },
        {
          "metadata": {
            "tags": null
          },
          "name": "stderr",
          "output_type": "stream",
          "text": [
            "Epoch 207: 100%|██████████| 3130/3130 [00:24<00:00, 126.37batch/s, train_loss=tensor(0.0441, device='cuda:0', grad_fn=<MseLossBackward0>)]\n"
          ]
        },
        {
          "metadata": {
            "tags": null
          },
          "name": "stdout",
          "output_type": "stream",
          "text": [
            "loss_sum=  0.06710072870608035 ACC=  0.9295462928808558 bacc=  0.8965595370856265 precision=  0.8982536066818527 specificity=  0.9664244550238036 sensitivity=  0.8266946191474493 recall=  0.8266946191474493 MCC=  0.8151726631550199 AUC=  0.9523835163009153 f1=  0.8609898107714702\n",
            "Epoch: 207 / 500, ############## the best accuracy in val  92.9731 at Epoch: 141  ##############\n",
            "Performance in Val: Loss: (0.0671); Accuracy (92.95)\n"
          ]
        },
        {
          "metadata": {
            "tags": null
          },
          "name": "stderr",
          "output_type": "stream",
          "text": [
            "Epoch 208: 100%|██████████| 3130/3130 [00:24<00:00, 126.44batch/s, train_loss=tensor(0.0373, device='cuda:0', grad_fn=<MseLossBackward0>)]\n"
          ]
        },
        {
          "metadata": {
            "tags": null
          },
          "name": "stdout",
          "output_type": "stream",
          "text": [
            "loss_sum=  0.06707460294233135 ACC=  0.9258576171154556 bacc=  0.8918126581453973 precision=  0.8906605922551253 specificity=  0.9639188173390127 sensitivity=  0.8197064989517819 recall=  0.8197064989517819 MCC=  0.805414920406431 AUC=  0.9530649937201471 f1=  0.8537117903930131\n",
            "Epoch: 208 / 500, ############## the best accuracy in val  92.9731 at Epoch: 141  ##############\n",
            "Performance in Val: Loss: (0.0671); Accuracy (92.59)\n"
          ]
        },
        {
          "metadata": {
            "tags": null
          },
          "name": "stderr",
          "output_type": "stream",
          "text": [
            "Epoch 209: 100%|██████████| 3130/3130 [00:25<00:00, 124.67batch/s, train_loss=tensor(0.0100, device='cuda:0', grad_fn=<MseLossBackward0>)]\n"
          ]
        },
        {
          "metadata": {
            "tags": null
          },
          "name": "stdout",
          "output_type": "stream",
          "text": [
            "loss_sum=  0.06742936300091819 ACC=  0.9260420509037256 bacc=  0.8912655676530055 precision=  0.8931297709923665 specificity=  0.9649210724129291 sensitivity=  0.8176100628930818 recall=  0.8176100628930818 MCC=  0.8057496141208742 AUC=  0.9523369405060758 f1=  0.8537030280919373\n",
            "Epoch: 209 / 500, ############## the best accuracy in val  92.9731 at Epoch: 141  ##############\n",
            "Performance in Val: Loss: (0.0674); Accuracy (92.60)\n"
          ]
        },
        {
          "metadata": {
            "tags": null
          },
          "name": "stderr",
          "output_type": "stream",
          "text": [
            "Epoch 210: 100%|██████████| 3130/3130 [00:24<00:00, 126.02batch/s, train_loss=tensor(0.0285, device='cuda:0', grad_fn=<MseLossBackward0>)]\n"
          ]
        },
        {
          "metadata": {
            "tags": null
          },
          "name": "stdout",
          "output_type": "stream",
          "text": [
            "loss_sum=  0.06655778172274826 ACC=  0.9275175212098856 bacc=  0.8947331881079039 precision=  0.8919939577039275 specificity=  0.9641693811074918 sensitivity=  0.8252969951083159 recall=  0.8252969951083159 MCC=  0.8099614498340524 AUC=  0.9532789622212522 f1=  0.8573502722323049\n",
            "Epoch: 210 / 500, ############## the best accuracy in val  92.9731 at Epoch: 141  ##############\n",
            "Performance in Val: Loss: (0.0666); Accuracy (92.75)\n"
          ]
        },
        {
          "metadata": {
            "tags": null
          },
          "name": "stderr",
          "output_type": "stream",
          "text": [
            "Epoch 211: 100%|██████████| 3130/3130 [00:24<00:00, 127.39batch/s, train_loss=tensor(0.0351, device='cuda:0', grad_fn=<MseLossBackward0>)]\n"
          ]
        },
        {
          "metadata": {
            "tags": null
          },
          "name": "stdout",
          "output_type": "stream",
          "text": [
            "loss_sum=  0.06677293084056328 ACC=  0.9277019549981557 bacc=  0.8944102217410558 precision=  0.8938589840788476 specificity=  0.9649210724129291 sensitivity=  0.8238993710691824 recall=  0.8238993710691824 MCC=  0.8103370237786225 AUC=  0.9530769003143165 f1=  0.8574545454545455\n",
            "Epoch: 211 / 500, ############## the best accuracy in val  92.9731 at Epoch: 141  ##############\n",
            "Performance in Val: Loss: (0.0668); Accuracy (92.77)\n"
          ]
        },
        {
          "metadata": {
            "tags": null
          },
          "name": "stderr",
          "output_type": "stream",
          "text": [
            "Epoch 212: 100%|██████████| 3130/3130 [00:25<00:00, 124.10batch/s, train_loss=tensor(0.0308, device='cuda:0', grad_fn=<MseLossBackward0>)]\n"
          ]
        },
        {
          "metadata": {
            "tags": null
          },
          "name": "stdout",
          "output_type": "stream",
          "text": [
            "loss_sum=  0.06702771725731965 ACC=  0.9251198819623755 bacc=  0.8899667858551763 precision=  0.891520244461421 specificity=  0.9644199448759709 sensitivity=  0.8155136268343816 recall=  0.8155136268343816 MCC=  0.8032840013438711 AUC=  0.9535808294028439 f1=  0.8518248175182481\n",
            "Epoch: 212 / 500, ############## the best accuracy in val  92.9731 at Epoch: 141  ##############\n",
            "Performance in Val: Loss: (0.0670); Accuracy (92.51)\n"
          ]
        },
        {
          "metadata": {
            "tags": null
          },
          "name": "stderr",
          "output_type": "stream",
          "text": [
            "Epoch 213: 100%|██████████| 3130/3130 [00:24<00:00, 127.24batch/s, train_loss=tensor(0.0324, device='cuda:0', grad_fn=<MseLossBackward0>)]\n"
          ]
        },
        {
          "metadata": {
            "tags": null
          },
          "name": "stdout",
          "output_type": "stream",
          "text": [
            "loss_sum=  0.06713235546260589 ACC=  0.9271486536333456 bacc=  0.8949308725905125 precision=  0.8894736842105263 specificity=  0.9631671260335756 sensitivity=  0.8266946191474493 recall=  0.8266946191474493 MCC=  0.8091296729846656 AUC=  0.9525559868194003 f1=  0.8569358927924664\n",
            "Epoch: 213 / 500, ############## the best accuracy in val  92.9731 at Epoch: 141  ##############\n",
            "Performance in Val: Loss: (0.0671); Accuracy (92.71)\n"
          ]
        },
        {
          "metadata": {
            "tags": null
          },
          "name": "stderr",
          "output_type": "stream",
          "text": [
            "Epoch 214: 100%|██████████| 3130/3130 [00:24<00:00, 126.31batch/s, train_loss=tensor(0.0467, device='cuda:0', grad_fn=<MseLossBackward0>)]\n"
          ]
        },
        {
          "metadata": {
            "tags": null
          },
          "name": "stdout",
          "output_type": "stream",
          "text": [
            "loss_sum=  0.06732684586631206 ACC=  0.9267797860568056 bacc=  0.893783812319858 precision=  0.8904833836858006 specificity=  0.9636682535705337 sensitivity=  0.8238993710691824 recall=  0.8238993710691824 MCC=  0.8080134054007763 AUC=  0.9526631461669258 f1=  0.8558983666061706\n",
            "Epoch: 214 / 500, ############## the best accuracy in val  92.9731 at Epoch: 141  ##############\n",
            "Performance in Val: Loss: (0.0673); Accuracy (92.68)\n"
          ]
        },
        {
          "metadata": {
            "tags": null
          },
          "name": "stderr",
          "output_type": "stream",
          "text": [
            "Epoch 215: 100%|██████████| 3130/3130 [00:24<00:00, 125.32batch/s, train_loss=tensor(0.0418, device='cuda:0', grad_fn=<MseLossBackward0>)]\n"
          ]
        },
        {
          "metadata": {
            "tags": null
          },
          "name": "stdout",
          "output_type": "stream",
          "text": [
            "loss_sum=  0.06802048989239212 ACC=  0.9277019549981557 bacc=  0.8923931046111613 precision=  0.8993082244427364 specificity=  0.9671761463292408 sensitivity=  0.8176100628930818 recall=  0.8176100628930818 MCC=  0.80997588298206 AUC=  0.9507467097965532 f1=  0.8565153733528551\n",
            "Epoch: 215 / 500, ############## the best accuracy in val  92.9731 at Epoch: 141  ##############\n",
            "Performance in Val: Loss: (0.0680); Accuracy (92.77)\n"
          ]
        },
        {
          "metadata": {
            "tags": null
          },
          "name": "stderr",
          "output_type": "stream",
          "text": [
            "Epoch 216: 100%|██████████| 3130/3130 [00:25<00:00, 120.50batch/s, train_loss=tensor(0.0280, device='cuda:0', grad_fn=<MseLossBackward0>)]\n"
          ]
        },
        {
          "metadata": {
            "tags": null
          },
          "name": "stdout",
          "output_type": "stream",
          "text": [
            "loss_sum=  0.06706218670910791 ACC=  0.9243821468092954 bacc=  0.8910345271970249 precision=  0.8847023360964582 specificity=  0.9616637434227011 sensitivity=  0.8204053109713487 recall=  0.8204053109713487 MCC=  0.8017581217029187 AUC=  0.9527962198664677 f1=  0.8513415518491662\n",
            "Epoch: 216 / 500, ############## the best accuracy in val  92.9731 at Epoch: 141  ##############\n",
            "Performance in Val: Loss: (0.0671); Accuracy (92.44)\n"
          ]
        },
        {
          "metadata": {
            "tags": null
          },
          "name": "stderr",
          "output_type": "stream",
          "text": [
            "Epoch 217: 100%|██████████| 3130/3130 [00:25<00:00, 122.06batch/s, train_loss=tensor(0.0188, device='cuda:0', grad_fn=<MseLossBackward0>)]\n"
          ]
        },
        {
          "metadata": {
            "tags": null
          },
          "name": "stdout",
          "output_type": "stream",
          "text": [
            "loss_sum=  0.06739805909807747 ACC=  0.9265953522685356 bacc=  0.8929861580589871 precision=  0.8915845337376801 specificity=  0.9641693811074918 sensitivity=  0.8218029350104822 recall=  0.8218029350104822 MCC=  0.8074112083149543 AUC=  0.9537557512789522 f1=  0.8552727272727273\n",
            "Epoch: 217 / 500, ############## the best accuracy in val  92.9731 at Epoch: 141  ##############\n",
            "Performance in Val: Loss: (0.0674); Accuracy (92.66)\n"
          ]
        },
        {
          "metadata": {
            "tags": null
          },
          "name": "stderr",
          "output_type": "stream",
          "text": [
            "Epoch 218: 100%|██████████| 3130/3130 [00:24<00:00, 126.10batch/s, train_loss=tensor(0.0083, device='cuda:0', grad_fn=<MseLossBackward0>)]\n"
          ]
        },
        {
          "metadata": {
            "tags": null
          },
          "name": "stdout",
          "output_type": "stream",
          "text": [
            "loss_sum=  0.0677111883830433 ACC=  0.9254887495389156 bacc=  0.8917862185024621 precision=  0.8887206661619985 specificity=  0.9631671260335756 sensitivity=  0.8204053109713487 recall=  0.8204053109713487 MCC=  0.8045323991037998 AUC=  0.9529995074522146 f1=  0.8531976744186047\n",
            "Epoch: 218 / 500, ############## the best accuracy in val  92.9731 at Epoch: 141  ##############\n",
            "Performance in Val: Loss: (0.0677); Accuracy (92.55)\n"
          ]
        },
        {
          "metadata": {
            "tags": null
          },
          "name": "stderr",
          "output_type": "stream",
          "text": [
            "Epoch 219: 100%|██████████| 3130/3130 [00:25<00:00, 122.35batch/s, train_loss=tensor(0.0253, device='cuda:0', grad_fn=<MseLossBackward0>)]\n"
          ]
        },
        {
          "metadata": {
            "tags": null
          },
          "name": "stdout",
          "output_type": "stream",
          "text": [
            "loss_sum=  0.06821462287358764 ACC=  0.9278863887864257 bacc=  0.8936390071231199 precision=  0.8969465648854962 specificity=  0.9661738912553245 sensitivity=  0.8211041229909154 recall=  0.8211041229909154 MCC=  0.8106373376909688 AUC=  0.9512476622365381 f1=  0.8573513316307916\n",
            "Epoch: 219 / 500, ############## the best accuracy in val  92.9731 at Epoch: 141  ##############\n",
            "Performance in Val: Loss: (0.0682); Accuracy (92.79)\n"
          ]
        },
        {
          "metadata": {
            "tags": null
          },
          "name": "stderr",
          "output_type": "stream",
          "text": [
            "Epoch 220: 100%|██████████| 3130/3130 [00:24<00:00, 126.80batch/s, train_loss=tensor(0.0218, device='cuda:0', grad_fn=<MseLossBackward0>)]\n"
          ]
        },
        {
          "metadata": {
            "tags": null
          },
          "name": "stdout",
          "output_type": "stream",
          "text": [
            "loss_sum=  0.06818918047533275 ACC=  0.9291774253043158 bacc=  0.8942918561872529 precision=  0.9023827824750192 specificity=  0.9681784014031571 sensitivity=  0.8204053109713487 recall=  0.8204053109713487 MCC=  0.8138952764839729 AUC=  0.9498192211301424 f1=  0.8594436310395315\n",
            "Epoch: 220 / 500, ############## the best accuracy in val  92.9731 at Epoch: 141  ##############\n",
            "Performance in Val: Loss: (0.0682); Accuracy (92.92)\n"
          ]
        },
        {
          "metadata": {
            "tags": null
          },
          "name": "stderr",
          "output_type": "stream",
          "text": [
            "Epoch 221: 100%|██████████| 3130/3130 [00:24<00:00, 128.36batch/s, train_loss=tensor(0.0218, device='cuda:0', grad_fn=<MseLossBackward0>)]\n"
          ]
        },
        {
          "metadata": {
            "tags": null
          },
          "name": "stdout",
          "output_type": "stream",
          "text": [
            "loss_sum=  0.06775785856784093 ACC=  0.9264109184802656 bacc=  0.890843759044853 precision=  0.8963133640552995 specificity=  0.9661738912553245 sensitivity=  0.8155136268343816 recall=  0.8155136268343816 MCC=  0.8065657160006511 AUC=  0.9512446855879957 f1=  0.854006586169045\n",
            "Epoch: 221 / 500, ############## the best accuracy in val  92.9731 at Epoch: 141  ##############\n",
            "Performance in Val: Loss: (0.0678); Accuracy (92.64)\n"
          ]
        },
        {
          "metadata": {
            "tags": null
          },
          "name": "stderr",
          "output_type": "stream",
          "text": [
            "Epoch 222: 100%|██████████| 3130/3130 [00:24<00:00, 127.02batch/s, train_loss=tensor(0.0293, device='cuda:0', grad_fn=<MseLossBackward0>)]\n"
          ]
        },
        {
          "metadata": {
            "tags": null
          },
          "name": "stdout",
          "output_type": "stream",
          "text": [
            "loss_sum=  0.06753729114028732 ACC=  0.9264109184802656 bacc=  0.8928608761747474 precision=  0.8909090909090909 specificity=  0.9639188173390127 sensitivity=  0.8218029350104822 recall=  0.8218029350104822 MCC=  0.80694635406672 AUC=  0.9526521150576217 f1=  0.8549618320610688\n",
            "Epoch: 222 / 500, ############## the best accuracy in val  92.9731 at Epoch: 141  ##############\n",
            "Performance in Val: Loss: (0.0675); Accuracy (92.64)\n"
          ]
        },
        {
          "metadata": {
            "tags": null
          },
          "name": "stderr",
          "output_type": "stream",
          "text": [
            "Epoch 223: 100%|██████████| 3130/3130 [00:24<00:00, 126.00batch/s, train_loss=tensor(0.0195, device='cuda:0', grad_fn=<MseLossBackward0>)]\n"
          ]
        },
        {
          "metadata": {
            "tags": null
          },
          "name": "stdout",
          "output_type": "stream",
          "text": [
            "loss_sum=  0.06786219936529048 ACC=  0.9293618590925857 bacc=  0.8955377586992116 precision=  0.9 specificity=  0.9671761463292408 sensitivity=  0.8238993710691824 recall=  0.8238993710691824 MCC=  0.8145475165470444 AUC=  0.9518158519141865 f1=  0.8602699744618754\n",
            "Epoch: 223 / 500, ############## the best accuracy in val  92.9731 at Epoch: 141  ##############\n",
            "Performance in Val: Loss: (0.0679); Accuracy (92.94)\n"
          ]
        },
        {
          "metadata": {
            "tags": null
          },
          "name": "stderr",
          "output_type": "stream",
          "text": [
            "Epoch 224: 100%|██████████| 3130/3130 [00:24<00:00, 126.30batch/s, train_loss=tensor(0.0281, device='cuda:0', grad_fn=<MseLossBackward0>)]\n"
          ]
        },
        {
          "metadata": {
            "tags": null
          },
          "name": "stdout",
          "output_type": "stream",
          "text": [
            "loss_sum=  0.0667087861932924 ACC=  0.9265953522685356 bacc=  0.8929861580589871 precision=  0.8915845337376801 specificity=  0.9641693811074918 sensitivity=  0.8218029350104822 recall=  0.8218029350104822 MCC=  0.8074112083149543 AUC=  0.952594157959532 f1=  0.8552727272727273\n",
            "Epoch: 224 / 500, ############## the best accuracy in val  92.9731 at Epoch: 141  ##############\n",
            "Performance in Val: Loss: (0.0667); Accuracy (92.66)\n"
          ]
        },
        {
          "metadata": {
            "tags": null
          },
          "name": "stderr",
          "output_type": "stream",
          "text": [
            "Epoch 225: 100%|██████████| 3130/3130 [00:25<00:00, 124.11batch/s, train_loss=tensor(0.0370, device='cuda:0', grad_fn=<MseLossBackward0>)]\n"
          ]
        },
        {
          "metadata": {
            "tags": null
          },
          "name": "stdout",
          "output_type": "stream",
          "text": [
            "loss_sum=  0.06694122598778489 ACC=  0.9282552563629657 bacc=  0.8968031845236688 precision=  0.8905547226386806 specificity=  0.9634176898020547 sensitivity=  0.8301886792452831 recall=  0.8301886792452831 MCC=  0.8121429281610592 AUC=  0.9534661408854759 f1=  0.8593128390596745\n",
            "Epoch: 225 / 500, ############## the best accuracy in val  92.9731 at Epoch: 141  ##############\n",
            "Performance in Val: Loss: (0.0669); Accuracy (92.83)\n"
          ]
        },
        {
          "metadata": {
            "tags": null
          },
          "name": "stderr",
          "output_type": "stream",
          "text": [
            "Epoch 226: 100%|██████████| 3130/3130 [00:25<00:00, 123.76batch/s, train_loss=tensor(0.0695, device='cuda:0', grad_fn=<MseLossBackward0>)]\n"
          ]
        },
        {
          "metadata": {
            "tags": null
          },
          "name": "stdout",
          "output_type": "stream",
          "text": [
            "loss_sum=  0.06742224056592382 ACC=  0.9277019549981557 bacc=  0.895306718243231 precision=  0.8914845516201959 specificity=  0.9639188173390127 sensitivity=  0.8266946191474493 recall=  0.8266946191474493 MCC=  0.8105176138462722 AUC=  0.9520184391120413 f1=  0.8578680203045684\n",
            "Epoch: 226 / 500, ############## the best accuracy in val  92.9731 at Epoch: 141  ##############\n",
            "Performance in Val: Loss: (0.0674); Accuracy (92.77)\n"
          ]
        },
        {
          "metadata": {
            "tags": null
          },
          "name": "stderr",
          "output_type": "stream",
          "text": [
            "Epoch 227: 100%|██████████| 3130/3130 [00:24<00:00, 127.48batch/s, train_loss=tensor(0.0124, device='cuda:0', grad_fn=<MseLossBackward0>)]\n"
          ]
        },
        {
          "metadata": {
            "tags": null
          },
          "name": "stdout",
          "output_type": "stream",
          "text": [
            "loss_sum=  0.06718283710358418 ACC=  0.9291774253043158 bacc=  0.8947401044383405 precision=  0.9011494252873563 specificity=  0.967677273866199 sensitivity=  0.8218029350104822 recall=  0.8218029350104822 MCC=  0.8139659519041401 AUC=  0.9527123484163617 f1=  0.8596491228070176\n",
            "Epoch: 227 / 500, ############## the best accuracy in val  92.9731 at Epoch: 141  ##############\n",
            "Performance in Val: Loss: (0.0672); Accuracy (92.92)\n"
          ]
        },
        {
          "metadata": {
            "tags": null
          },
          "name": "stderr",
          "output_type": "stream",
          "text": [
            "Epoch 228: 100%|██████████| 3130/3130 [00:24<00:00, 127.26batch/s, train_loss=tensor(0.0265, device='cuda:0', grad_fn=<MseLossBackward0>)]\n"
          ]
        },
        {
          "metadata": {
            "tags": null
          },
          "name": "stdout",
          "output_type": "stream",
          "text": [
            "loss_sum=  0.06733822682872415 ACC=  0.9288085577277757 bacc=  0.8942654165443176 precision=  0.9003831417624522 specificity=  0.9674267100977199 sensitivity=  0.8211041229909154 recall=  0.8211041229909154 MCC=  0.8129871312087728 AUC=  0.9512986154557048 f1=  0.8589181286549707\n",
            "Epoch: 228 / 500, ############## the best accuracy in val  92.9731 at Epoch: 141  ##############\n",
            "Performance in Val: Loss: (0.0673); Accuracy (92.88)\n"
          ]
        },
        {
          "metadata": {
            "tags": null
          },
          "name": "stderr",
          "output_type": "stream",
          "text": [
            "Epoch 229: 100%|██████████| 3130/3130 [00:24<00:00, 127.12batch/s, train_loss=tensor(0.0220, device='cuda:0', grad_fn=<MseLossBackward0>)]\n"
          ]
        },
        {
          "metadata": {
            "tags": null
          },
          "name": "stdout",
          "output_type": "stream",
          "text": [
            "loss_sum=  0.06746117164350629 ACC=  0.9293618590925857 bacc=  0.8955377586992116 precision=  0.9 specificity=  0.9671761463292408 sensitivity=  0.8238993710691824 recall=  0.8238993710691824 MCC=  0.8145475165470444 AUC=  0.9519951512146214 f1=  0.8602699744618754\n",
            "Epoch: 229 / 500, ############## the best accuracy in val  92.9731 at Epoch: 141  ##############\n",
            "Performance in Val: Loss: (0.0675); Accuracy (92.94)\n"
          ]
        },
        {
          "metadata": {
            "tags": null
          },
          "name": "stderr",
          "output_type": "stream",
          "text": [
            "Epoch 230: 100%|██████████| 3130/3130 [00:24<00:00, 127.47batch/s, train_loss=tensor(0.0194, device='cuda:0', grad_fn=<MseLossBackward0>)]\n"
          ]
        },
        {
          "metadata": {
            "tags": null
          },
          "name": "stdout",
          "output_type": "stream",
          "text": [
            "loss_sum=  0.06796652247447928 ACC=  0.9271486536333456 bacc=  0.8922413830839865 precision=  0.8966309341500766 specificity=  0.9661738912553245 sensitivity=  0.8183088749126485 recall=  0.8183088749126485 MCC=  0.8086020099509184 AUC=  0.9519415715408586 f1=  0.855681402995981\n",
            "Epoch: 230 / 500, ############## the best accuracy in val  92.9731 at Epoch: 141  ##############\n",
            "Performance in Val: Loss: (0.0680); Accuracy (92.71)\n"
          ]
        },
        {
          "metadata": {
            "tags": null
          },
          "name": "stderr",
          "output_type": "stream",
          "text": [
            "Epoch 231: 100%|██████████| 3130/3130 [00:24<00:00, 125.57batch/s, train_loss=tensor(0.0635, device='cuda:0', grad_fn=<MseLossBackward0>)]\n"
          ]
        },
        {
          "metadata": {
            "tags": null
          },
          "name": "stdout",
          "output_type": "stream",
          "text": [
            "loss_sum=  0.0672233790340545 ACC=  0.9286241239395057 bacc=  0.8950366311622535 precision=  0.8972602739726028 specificity=  0.9661738912553245 sensitivity=  0.8238993710691824 recall=  0.8238993710691824 MCC=  0.8126717167261864 AUC=  0.9516348016440205 f1=  0.859016393442623\n",
            "Epoch: 231 / 500, ############## the best accuracy in val  92.9731 at Epoch: 141  ##############\n",
            "Performance in Val: Loss: (0.0672); Accuracy (92.86)\n"
          ]
        },
        {
          "metadata": {
            "tags": null
          },
          "name": "stderr",
          "output_type": "stream",
          "text": [
            "Epoch 232: 100%|██████████| 3130/3130 [00:24<00:00, 127.30batch/s, train_loss=tensor(0.0740, device='cuda:0', grad_fn=<MseLossBackward0>)]\n"
          ]
        },
        {
          "metadata": {
            "tags": null
          },
          "name": "stdout",
          "output_type": "stream",
          "text": [
            "loss_sum=  0.06707506364343309 ACC=  0.9300995942456658 bacc=  0.8978318792405204 precision=  0.8978819969742814 specificity=  0.9661738912553245 sensitivity=  0.8294898672257163 recall=  0.8294898672257163 MCC=  0.8167376981251878 AUC=  0.9516988871361681 f1=  0.8623320014529605\n",
            "Epoch: 232 / 500, ############## the best accuracy in val  92.9731 at Epoch: 141  ##############\n",
            "Performance in Val: Loss: (0.0671); Accuracy (93.01)\n"
          ]
        },
        {
          "metadata": {
            "tags": null
          },
          "name": "stderr",
          "output_type": "stream",
          "text": [
            "Epoch 233: 100%|██████████| 3130/3130 [00:24<00:00, 127.49batch/s, train_loss=tensor(0.0088, device='cuda:0', grad_fn=<MseLossBackward0>)]\n"
          ]
        },
        {
          "metadata": {
            "tags": null
          },
          "name": "stdout",
          "output_type": "stream",
          "text": [
            "loss_sum=  0.0677362821294286 ACC=  0.9267797860568056 bacc=  0.8928873158176827 precision=  0.8928571428571429 specificity=  0.96467050864445 sensitivity=  0.8211041229909154 recall=  0.8211041229909154 MCC=  0.807832399534068 AUC=  0.9502455822595949 f1=  0.8554787040407718\n",
            "Epoch: 233 / 500, ############## the best accuracy in val  93.0100 at Epoch: 232  ##############\n",
            "Performance in Val: Loss: (0.0677); Accuracy (92.68)\n"
          ]
        },
        {
          "metadata": {
            "tags": null
          },
          "name": "stderr",
          "output_type": "stream",
          "text": [
            "Epoch 234: 100%|██████████| 3130/3130 [00:25<00:00, 124.87batch/s, train_loss=tensor(0.0204, device='cuda:0', grad_fn=<MseLossBackward0>)]\n"
          ]
        },
        {
          "metadata": {
            "tags": null
          },
          "name": "stdout",
          "output_type": "stream",
          "text": [
            "loss_sum=  0.0682235014951818 ACC=  0.9282552563629657 bacc=  0.8959066880214934 precision=  0.8929110105580694 specificity=  0.9644199448759709 sensitivity=  0.827393431167016 recall=  0.827393431167016 MCC=  0.8119546601170832 AUC=  0.9494716536385763 f1=  0.8589046064562931\n",
            "Epoch: 234 / 500, ############## the best accuracy in val  93.0100 at Epoch: 232  ##############\n",
            "Performance in Val: Loss: (0.0682); Accuracy (92.83)\n"
          ]
        },
        {
          "metadata": {
            "tags": null
          },
          "name": "stderr",
          "output_type": "stream",
          "text": [
            "Epoch 235: 100%|██████████| 3130/3130 [00:24<00:00, 127.02batch/s, train_loss=tensor(0.0221, device='cuda:0', grad_fn=<MseLossBackward0>)]\n"
          ]
        },
        {
          "metadata": {
            "tags": null
          },
          "name": "stdout",
          "output_type": "stream",
          "text": [
            "loss_sum=  0.06832133098931263 ACC=  0.9264109184802656 bacc=  0.8933091244258351 precision=  0.8897280966767371 specificity=  0.9634176898020547 sensitivity=  0.8232005590496156 recall=  0.8232005590496156 MCC=  0.8070393831841381 AUC=  0.9488973355668703 f1=  0.8551724137931034\n",
            "Epoch: 235 / 500, ############## the best accuracy in val  93.0100 at Epoch: 232  ##############\n",
            "Performance in Val: Loss: (0.0683); Accuracy (92.64)\n"
          ]
        },
        {
          "metadata": {
            "tags": null
          },
          "name": "stderr",
          "output_type": "stream",
          "text": [
            "Epoch 236: 100%|██████████| 3130/3130 [00:24<00:00, 127.35batch/s, train_loss=tensor(0.0282, device='cuda:0', grad_fn=<MseLossBackward0>)]\n"
          ]
        },
        {
          "metadata": {
            "tags": null
          },
          "name": "stdout",
          "output_type": "stream",
          "text": [
            "loss_sum=  0.06716157816100458 ACC=  0.9275175212098856 bacc=  0.8947331881079039 precision=  0.8919939577039275 specificity=  0.9641693811074918 sensitivity=  0.8252969951083159 recall=  0.8252969951083159 MCC=  0.8099614498340524 AUC=  0.9494996691542694 f1=  0.8573502722323049\n",
            "Epoch: 236 / 500, ############## the best accuracy in val  93.0100 at Epoch: 232  ##############\n",
            "Performance in Val: Loss: (0.0672); Accuracy (92.75)\n"
          ]
        },
        {
          "metadata": {
            "tags": null
          },
          "name": "stderr",
          "output_type": "stream",
          "text": [
            "Epoch 237: 100%|██████████| 3130/3130 [00:24<00:00, 125.26batch/s, train_loss=tensor(0.0283, device='cuda:0', grad_fn=<MseLossBackward0>)]\n"
          ]
        },
        {
          "metadata": {
            "tags": null
          },
          "name": "stdout",
          "output_type": "stream",
          "text": [
            "loss_sum=  0.06743465080324308 ACC=  0.9278863887864257 bacc=  0.8931907588720323 precision=  0.8981623277182236 specificity=  0.9666750187922827 sensitivity=  0.8197064989517819 recall=  0.8197064989517819 MCC=  0.8105591394214929 AUC=  0.9511461059921511 f1=  0.8571428571428572\n",
            "Epoch: 237 / 500, ############## the best accuracy in val  93.0100 at Epoch: 232  ##############\n",
            "Performance in Val: Loss: (0.0674); Accuracy (92.79)\n"
          ]
        },
        {
          "metadata": {
            "tags": null
          },
          "name": "stderr",
          "output_type": "stream",
          "text": [
            "Epoch 238: 100%|██████████| 3130/3130 [00:24<00:00, 126.74batch/s, train_loss=tensor(0.0227, device='cuda:0', grad_fn=<MseLossBackward0>)]\n"
          ]
        },
        {
          "metadata": {
            "tags": null
          },
          "name": "stdout",
          "output_type": "stream",
          "text": [
            "loss_sum=  0.06760482294045411 ACC=  0.9280708225746956 bacc=  0.8951090337606225 precision=  0.8940196820590461 specificity=  0.9649210724129291 sensitivity=  0.8252969951083159 recall=  0.8252969951083159 MCC=  0.8113557951427027 AUC=  0.9508768068475523 f1=  0.8582848837209301\n",
            "Epoch: 238 / 500, ############## the best accuracy in val  93.0100 at Epoch: 232  ##############\n",
            "Performance in Val: Loss: (0.0676); Accuracy (92.81)\n"
          ]
        },
        {
          "metadata": {
            "tags": null
          },
          "name": "stderr",
          "output_type": "stream",
          "text": [
            "Epoch 239: 100%|██████████| 3130/3130 [00:24<00:00, 127.51batch/s, train_loss=tensor(0.0230, device='cuda:0', grad_fn=<MseLossBackward0>)]\n"
          ]
        },
        {
          "metadata": {
            "tags": null
          },
          "name": "stdout",
          "output_type": "stream",
          "text": [
            "loss_sum=  0.06699296777826187 ACC=  0.9288085577277757 bacc=  0.8969549060508436 precision=  0.8931527464258842 specificity=  0.9644199448759709 sensitivity=  0.8294898672257163 recall=  0.8294898672257163 MCC=  0.8134830110943653 AUC=  0.9528032237453907 f1=  0.8601449275362318\n",
            "Epoch: 239 / 500, ############## the best accuracy in val  93.0100 at Epoch: 232  ##############\n",
            "Performance in Val: Loss: (0.0670); Accuracy (92.88)\n"
          ]
        },
        {
          "metadata": {
            "tags": null
          },
          "name": "stderr",
          "output_type": "stream",
          "text": [
            "Epoch 240: 100%|██████████| 3130/3130 [00:24<00:00, 125.80batch/s, train_loss=tensor(0.0249, device='cuda:0', grad_fn=<MseLossBackward0>)]\n"
          ]
        },
        {
          "metadata": {
            "tags": null
          },
          "name": "stdout",
          "output_type": "stream",
          "text": [
            "loss_sum=  0.06720749049648027 ACC=  0.9269642198450756 bacc=  0.8943573424551853 precision=  0.8899773926149209 specificity=  0.9634176898020547 sensitivity=  0.8252969951083159 recall=  0.8252969951083159 MCC=  0.808571060036638 AUC=  0.9519128556372733 f1=  0.8564176939811458\n",
            "Epoch: 240 / 500, ############## the best accuracy in val  93.0100 at Epoch: 232  ##############\n",
            "Performance in Val: Loss: (0.0672); Accuracy (92.70)\n"
          ]
        },
        {
          "metadata": {
            "tags": null
          },
          "name": "stderr",
          "output_type": "stream",
          "text": [
            "Epoch 241: 100%|██████████| 3130/3130 [00:24<00:00, 126.11batch/s, train_loss=tensor(0.0296, device='cuda:0', grad_fn=<MseLossBackward0>)]\n"
          ]
        },
        {
          "metadata": {
            "tags": null
          },
          "name": "stdout",
          "output_type": "stream",
          "text": [
            "loss_sum=  0.06746213535563939 ACC=  0.9258576171154556 bacc=  0.8920367822709412 precision=  0.890068233510235 specificity=  0.9636682535705337 sensitivity=  0.8204053109713487 recall=  0.8204053109713487 MCC=  0.8054606646725088 AUC=  0.9525743720015738 f1=  0.8538181818181818\n",
            "Epoch: 241 / 500, ############## the best accuracy in val  93.0100 at Epoch: 232  ##############\n",
            "Performance in Val: Loss: (0.0675); Accuracy (92.59)\n"
          ]
        },
        {
          "metadata": {
            "tags": null
          },
          "name": "stderr",
          "output_type": "stream",
          "text": [
            "Epoch 242: 100%|██████████| 3130/3130 [00:24<00:00, 125.49batch/s, train_loss=tensor(0.0134, device='cuda:0', grad_fn=<MseLossBackward0>)]\n"
          ]
        },
        {
          "metadata": {
            "tags": null
          },
          "name": "stdout",
          "output_type": "stream",
          "text": [
            "loss_sum=  0.06712780047378401 ACC=  0.9289929915160458 bacc=  0.8952871949307326 precision=  0.8986280487804879 specificity=  0.9666750187922827 sensitivity=  0.8238993710691824 recall=  0.8238993710691824 MCC=  0.8136087186775685 AUC=  0.9520615129674191 f1=  0.8596427269413053\n",
            "Epoch: 242 / 500, ############## the best accuracy in val  93.0100 at Epoch: 232  ##############\n",
            "Performance in Val: Loss: (0.0671); Accuracy (92.90)\n"
          ]
        },
        {
          "metadata": {
            "tags": null
          },
          "name": "stderr",
          "output_type": "stream",
          "text": [
            "Epoch 243: 100%|██████████| 3130/3130 [00:24<00:00, 125.77batch/s, train_loss=tensor(0.0159, device='cuda:0', grad_fn=<MseLossBackward0>)]\n"
          ]
        },
        {
          "metadata": {
            "tags": null
          },
          "name": "stdout",
          "output_type": "stream",
          "text": [
            "loss_sum=  0.0675576531230733 ACC=  0.9267797860568056 bacc=  0.8946803088220334 precision=  0.8881381381381381 specificity=  0.9626659984966174 sensitivity=  0.8266946191474493 recall=  0.8266946191474493 MCC=  0.8082065566299632 AUC=  0.9525719206439506 f1=  0.8563155989866087\n",
            "Epoch: 243 / 500, ############## the best accuracy in val  93.0100 at Epoch: 232  ##############\n",
            "Performance in Val: Loss: (0.0676); Accuracy (92.68)\n"
          ]
        },
        {
          "metadata": {
            "tags": null
          },
          "name": "stderr",
          "output_type": "stream",
          "text": [
            "Epoch 244: 100%|██████████| 3130/3130 [00:25<00:00, 124.95batch/s, train_loss=tensor(0.0596, device='cuda:0', grad_fn=<MseLossBackward0>)]\n"
          ]
        },
        {
          "metadata": {
            "tags": null
          },
          "name": "stdout",
          "output_type": "stream",
          "text": [
            "loss_sum=  0.0675366947270798 ACC=  0.9249354481741054 bacc=  0.8925309934774627 precision=  0.883808095952024 specificity=  0.9611626158857429 sensitivity=  0.8238993710691824 recall=  0.8238993710691824 MCC=  0.8033989717583545 AUC=  0.9524218625380201 f1=  0.8528028933092225\n",
            "Epoch: 244 / 500, ############## the best accuracy in val  93.0100 at Epoch: 232  ##############\n",
            "Performance in Val: Loss: (0.0675); Accuracy (92.49)\n"
          ]
        },
        {
          "metadata": {
            "tags": null
          },
          "name": "stderr",
          "output_type": "stream",
          "text": [
            "Epoch 245: 100%|██████████| 3130/3130 [00:25<00:00, 124.78batch/s, train_loss=tensor(0.0139, device='cuda:0', grad_fn=<MseLossBackward0>)]\n"
          ]
        },
        {
          "metadata": {
            "tags": null
          },
          "name": "stdout",
          "output_type": "stream",
          "text": [
            "loss_sum=  0.06776278590986774 ACC=  0.9262264846919955 bacc=  0.8943044631693148 precision=  0.8861423220973783 specificity=  0.9619143071911802 sensitivity=  0.8266946191474493 recall=  0.8266946191474493 MCC=  0.8068251319087841 AUC=  0.9509440440852154 f1=  0.8553868402024585\n",
            "Epoch: 245 / 500, ############## the best accuracy in val  93.0100 at Epoch: 232  ##############\n",
            "Performance in Val: Loss: (0.0678); Accuracy (92.62)\n"
          ]
        },
        {
          "metadata": {
            "tags": null
          },
          "name": "stderr",
          "output_type": "stream",
          "text": [
            "Epoch 246: 100%|██████████| 3130/3130 [00:24<00:00, 126.67batch/s, train_loss=tensor(0.0269, device='cuda:0', grad_fn=<MseLossBackward0>)]\n"
          ]
        },
        {
          "metadata": {
            "tags": null
          },
          "name": "stdout",
          "output_type": "stream",
          "text": [
            "loss_sum=  0.06705245953245545 ACC=  0.9278863887864257 bacc=  0.8954320001274706 precision=  0.8921568627450981 specificity=  0.9641693811074918 sensitivity=  0.8266946191474493 recall=  0.8266946191474493 MCC=  0.81098113514437 AUC=  0.9518128752656438 f1=  0.8581791802684077\n",
            "Epoch: 246 / 500, ############## the best accuracy in val  93.0100 at Epoch: 232  ##############\n",
            "Performance in Val: Loss: (0.0671); Accuracy (92.79)\n"
          ]
        },
        {
          "metadata": {
            "tags": null
          },
          "name": "stderr",
          "output_type": "stream",
          "text": [
            "Epoch 247: 100%|██████████| 3130/3130 [00:24<00:00, 126.04batch/s, train_loss=tensor(0.0305, device='cuda:0', grad_fn=<MseLossBackward0>)]\n"
          ]
        },
        {
          "metadata": {
            "tags": null
          },
          "name": "stdout",
          "output_type": "stream",
          "text": [
            "loss_sum=  0.06686238491781342 ACC=  0.9238288454444854 bacc=  0.891106929795394 precision=  0.881559220389805 specificity=  0.9604109245803056 sensitivity=  0.8218029350104822 recall=  0.8218029350104822 MCC=  0.8004843196241197 AUC=  0.9540360815328548 f1=  0.850632911392405\n",
            "Epoch: 247 / 500, ############## the best accuracy in val  93.0100 at Epoch: 232  ##############\n",
            "Performance in Val: Loss: (0.0669); Accuracy (92.38)\n"
          ]
        },
        {
          "metadata": {
            "tags": null
          },
          "name": "stderr",
          "output_type": "stream",
          "text": [
            "Epoch 248: 100%|██████████| 3130/3130 [00:24<00:00, 125.74batch/s, train_loss=tensor(0.0338, device='cuda:0', grad_fn=<MseLossBackward0>)]\n"
          ]
        },
        {
          "metadata": {
            "tags": null
          },
          "name": "stdout",
          "output_type": "stream",
          "text": [
            "loss_sum=  0.06752590910506855 ACC=  0.9277019549981557 bacc=  0.8941860976155119 precision=  0.894457099468489 specificity=  0.9651716361814082 sensitivity=  0.8232005590496156 recall=  0.8232005590496156 MCC=  0.8102937917807255 AUC=  0.952689410712888 f1=  0.8573508005822417\n",
            "Epoch: 248 / 500, ############## the best accuracy in val  93.0100 at Epoch: 232  ##############\n",
            "Performance in Val: Loss: (0.0675); Accuracy (92.77)\n"
          ]
        },
        {
          "metadata": {
            "tags": null
          },
          "name": "stderr",
          "output_type": "stream",
          "text": [
            "Epoch 249: 100%|██████████| 3130/3130 [00:24<00:00, 125.34batch/s, train_loss=tensor(0.0381, device='cuda:0', grad_fn=<MseLossBackward0>)]\n"
          ]
        },
        {
          "metadata": {
            "tags": null
          },
          "name": "stdout",
          "output_type": "stream",
          "text": [
            "loss_sum=  0.06733816836282039 ACC=  0.9275175212098856 bacc=  0.8954055604845353 precision=  0.8902255639097745 specificity=  0.9634176898020547 sensitivity=  0.827393431167016 recall=  0.827393431167016 MCC=  0.8101022078942339 AUC=  0.9518055211927746 f1=  0.8576602680188337\n",
            "Epoch: 249 / 500, ############## the best accuracy in val  93.0100 at Epoch: 232  ##############\n",
            "Performance in Val: Loss: (0.0673); Accuracy (92.75)\n"
          ]
        },
        {
          "metadata": {
            "tags": null
          },
          "name": "stderr",
          "output_type": "stream",
          "text": [
            "Epoch 250: 100%|██████████| 3130/3130 [00:24<00:00, 125.51batch/s, train_loss=tensor(0.0125, device='cuda:0', grad_fn=<MseLossBackward0>)]\n"
          ]
        },
        {
          "metadata": {
            "tags": null
          },
          "name": "stdout",
          "output_type": "stream",
          "text": [
            "loss_sum=  0.06690525562244201 ACC=  0.9280708225746956 bacc=  0.8942125372584472 precision=  0.8964204112718964 specificity=  0.9659233274868454 sensitivity=  0.822501747030049 recall=  0.822501747030049 MCC=  0.8111864262666355 AUC=  0.9508605228290559 f1=  0.857871720116618\n",
            "Epoch: 250 / 500, ############## the best accuracy in val  93.0100 at Epoch: 232  ##############\n",
            "Performance in Val: Loss: (0.0669); Accuracy (92.81)\n"
          ]
        },
        {
          "metadata": {
            "tags": null
          },
          "name": "stderr",
          "output_type": "stream",
          "text": [
            "Epoch 251: 100%|██████████| 3130/3130 [00:24<00:00, 126.81batch/s, train_loss=tensor(0.0414, device='cuda:0', grad_fn=<MseLossBackward0>)]\n"
          ]
        },
        {
          "metadata": {
            "tags": null
          },
          "name": "stdout",
          "output_type": "stream",
          "text": [
            "loss_sum=  0.0673928400810676 ACC=  0.9295462928808558 bacc=  0.8967836612111703 precision=  0.8976497346474602 specificity=  0.9661738912553245 sensitivity=  0.827393431167016 recall=  0.827393431167016 MCC=  0.8152133828847362 AUC=  0.9519231863586851 f1=  0.8610909090909091\n",
            "Epoch: 251 / 500, ############## the best accuracy in val  93.0100 at Epoch: 232  ##############\n",
            "Performance in Val: Loss: (0.0674); Accuracy (92.95)\n"
          ]
        },
        {
          "metadata": {
            "tags": null
          },
          "name": "stderr",
          "output_type": "stream",
          "text": [
            "Epoch 252: 100%|██████████| 3130/3130 [00:24<00:00, 127.03batch/s, train_loss=tensor(0.0146, device='cuda:0', grad_fn=<MseLossBackward0>)]\n"
          ]
        },
        {
          "metadata": {
            "tags": null
          },
          "name": "stdout",
          "output_type": "stream",
          "text": [
            "loss_sum=  0.0663626619867409 ACC=  0.9269642198450756 bacc=  0.8952538389573605 precision=  0.8876404494382022 specificity=  0.9624154347281383 sensitivity=  0.8280922431865828 recall=  0.8280922431865828 MCC=  0.8087677430556739 AUC=  0.9540989413461911 f1=  0.8568329718004338\n",
            "Epoch: 252 / 500, ############## the best accuracy in val  93.0100 at Epoch: 232  ##############\n",
            "Performance in Val: Loss: (0.0664); Accuracy (92.70)\n"
          ]
        },
        {
          "metadata": {
            "tags": null
          },
          "name": "stderr",
          "output_type": "stream",
          "text": [
            "Epoch 253: 100%|██████████| 3130/3130 [00:24<00:00, 126.09batch/s, train_loss=tensor(0.0486, device='cuda:0', grad_fn=<MseLossBackward0>)]\n"
          ]
        },
        {
          "metadata": {
            "tags": null
          },
          "name": "stdout",
          "output_type": "stream",
          "text": [
            "loss_sum=  0.06689404891556607 ACC=  0.9275175212098856 bacc=  0.8945090639823601 precision=  0.8925869894099848 specificity=  0.9644199448759709 sensitivity=  0.8245981830887491 recall=  0.8245981830887491 MCC=  0.8099160515280724 AUC=  0.9539937080653693 f1=  0.8572466400290593\n",
            "Epoch: 253 / 500, ############## the best accuracy in val  93.0100 at Epoch: 232  ##############\n",
            "Performance in Val: Loss: (0.0669); Accuracy (92.75)\n"
          ]
        },
        {
          "metadata": {
            "tags": null
          },
          "name": "stderr",
          "output_type": "stream",
          "text": [
            "Epoch 254: 100%|██████████| 3130/3130 [00:24<00:00, 126.49batch/s, train_loss=tensor(0.0313, device='cuda:0', grad_fn=<MseLossBackward0>)]\n"
          ]
        },
        {
          "metadata": {
            "tags": null
          },
          "name": "stdout",
          "output_type": "stream",
          "text": [
            "loss_sum=  0.06719073234812788 ACC=  0.9277019549981557 bacc=  0.8935137252388804 precision=  0.8962623951182304 specificity=  0.9659233274868454 sensitivity=  0.8211041229909154 recall=  0.8211041229909154 MCC=  0.8101687300495766 AUC=  0.9529082819292396 f1=  0.8570386579139314\n",
            "Epoch: 254 / 500, ############## the best accuracy in val  93.0100 at Epoch: 232  ##############\n",
            "Performance in Val: Loss: (0.0672); Accuracy (92.77)\n"
          ]
        },
        {
          "metadata": {
            "tags": null
          },
          "name": "stderr",
          "output_type": "stream",
          "text": [
            "Epoch 255: 100%|██████████| 3130/3130 [00:24<00:00, 126.13batch/s, train_loss=tensor(0.0302, device='cuda:0', grad_fn=<MseLossBackward0>)]\n"
          ]
        },
        {
          "metadata": {
            "tags": null
          },
          "name": "stdout",
          "output_type": "stream",
          "text": [
            "loss_sum=  0.06682544659031966 ACC=  0.9286241239395057 bacc=  0.8972778724176917 precision=  0.8913043478260869 specificity=  0.9636682535705337 sensitivity=  0.8308874912648497 recall=  0.8308874912648497 MCC=  0.8131144788724708 AUC=  0.953701296120324 f1=  0.8600361663652801\n",
            "Epoch: 255 / 500, ############## the best accuracy in val  93.0100 at Epoch: 232  ##############\n",
            "Performance in Val: Loss: (0.0668); Accuracy (92.86)\n"
          ]
        },
        {
          "metadata": {
            "tags": null
          },
          "name": "stderr",
          "output_type": "stream",
          "text": [
            "Epoch 256: 100%|██████████| 3130/3130 [00:25<00:00, 124.16batch/s, train_loss=tensor(0.0372, device='cuda:0', grad_fn=<MseLossBackward0>)]\n"
          ]
        },
        {
          "metadata": {
            "tags": null
          },
          "name": "stdout",
          "output_type": "stream",
          "text": [
            "loss_sum=  0.067091409809294 ACC=  0.9249354481741054 bacc=  0.8925309934774627 precision=  0.883808095952024 specificity=  0.9611626158857429 sensitivity=  0.8238993710691824 recall=  0.8238993710691824 MCC=  0.8033989717583545 AUC=  0.9539756730771419 f1=  0.8528028933092225\n",
            "Epoch: 256 / 500, ############## the best accuracy in val  93.0100 at Epoch: 232  ##############\n",
            "Performance in Val: Loss: (0.0671); Accuracy (92.49)\n"
          ]
        },
        {
          "metadata": {
            "tags": null
          },
          "name": "stderr",
          "output_type": "stream",
          "text": [
            "Epoch 257: 100%|██████████| 3130/3130 [00:24<00:00, 125.53batch/s, train_loss=tensor(0.0326, device='cuda:0', grad_fn=<MseLossBackward0>)]\n"
          ]
        },
        {
          "metadata": {
            "tags": null
          },
          "name": "stdout",
          "output_type": "stream",
          "text": [
            "loss_sum=  0.06811159222790625 ACC=  0.9247510143858355 bacc=  0.8910609668399601 precision=  0.8866213151927438 specificity=  0.9624154347281383 sensitivity=  0.8197064989517819 recall=  0.8197064989517819 MCC=  0.8026316198301533 AUC=  0.9525108118003454 f1=  0.8518518518518519\n",
            "Epoch: 257 / 500, ############## the best accuracy in val  93.0100 at Epoch: 232  ##############\n",
            "Performance in Val: Loss: (0.0681); Accuracy (92.48)\n"
          ]
        },
        {
          "metadata": {
            "tags": null
          },
          "name": "stderr",
          "output_type": "stream",
          "text": [
            "Epoch 258: 100%|██████████| 3130/3130 [00:24<00:00, 125.92batch/s, train_loss=tensor(0.0427, device='cuda:0', grad_fn=<MseLossBackward0>)]\n"
          ]
        },
        {
          "metadata": {
            "tags": null
          },
          "name": "stdout",
          "output_type": "stream",
          "text": [
            "loss_sum=  0.0673822520539758 ACC=  0.9262264846919955 bacc=  0.8954250837970339 precision=  0.883271375464684 specificity=  0.9606614883487847 sensitivity=  0.8301886792452831 recall=  0.8301886792452831 MCC=  0.80709265289764 AUC=  0.952896200238097 f1=  0.8559077809798271\n",
            "Epoch: 258 / 500, ############## the best accuracy in val  93.0100 at Epoch: 232  ##############\n",
            "Performance in Val: Loss: (0.0674); Accuracy (92.62)\n"
          ]
        },
        {
          "metadata": {
            "tags": null
          },
          "name": "stderr",
          "output_type": "stream",
          "text": [
            "Epoch 259: 100%|██████████| 3130/3130 [00:24<00:00, 125.57batch/s, train_loss=tensor(0.0321, device='cuda:0', grad_fn=<MseLossBackward0>)]\n"
          ]
        },
        {
          "metadata": {
            "tags": null
          },
          "name": "stdout",
          "output_type": "stream",
          "text": [
            "loss_sum=  0.0671535201953136 ACC=  0.9271486536333456 bacc=  0.894258500213881 precision=  0.8912386706948641 specificity=  0.9639188173390127 sensitivity=  0.8245981830887491 recall=  0.8245981830887491 MCC=  0.8089874276174143 AUC=  0.9540280270720932 f1=  0.8566243194192379\n",
            "Epoch: 259 / 500, ############## the best accuracy in val  93.0100 at Epoch: 232  ##############\n",
            "Performance in Val: Loss: (0.0672); Accuracy (92.71)\n"
          ]
        },
        {
          "metadata": {
            "tags": null
          },
          "name": "stderr",
          "output_type": "stream",
          "text": [
            "Epoch 260: 100%|██████████| 3130/3130 [00:25<00:00, 124.45batch/s, train_loss=tensor(0.0740, device='cuda:0', grad_fn=<MseLossBackward0>)]\n"
          ]
        },
        {
          "metadata": {
            "tags": null
          },
          "name": "stdout",
          "output_type": "stream",
          "text": [
            "loss_sum=  0.06737271957731308 ACC=  0.9277019549981557 bacc=  0.8935137252388804 precision=  0.8962623951182304 specificity=  0.9659233274868454 sensitivity=  0.8211041229909154 recall=  0.8211041229909154 MCC=  0.8101687300495766 AUC=  0.9517946651804436 f1=  0.8570386579139314\n",
            "Epoch: 260 / 500, ############## the best accuracy in val  93.0100 at Epoch: 232  ##############\n",
            "Performance in Val: Loss: (0.0674); Accuracy (92.77)\n"
          ]
        },
        {
          "metadata": {
            "tags": null
          },
          "name": "stderr",
          "output_type": "stream",
          "text": [
            "Epoch 261: 100%|██████████| 3130/3130 [00:24<00:00, 126.01batch/s, train_loss=tensor(0.0258, device='cuda:0', grad_fn=<MseLossBackward0>)]\n"
          ]
        },
        {
          "metadata": {
            "tags": null
          },
          "name": "stdout",
          "output_type": "stream",
          "text": [
            "loss_sum=  0.06689850255918406 ACC=  0.9291774253043158 bacc=  0.896981345693779 precision=  0.8950943396226415 specificity=  0.9651716361814082 sensitivity=  0.8287910552061496 recall=  0.8287910552061496 MCC=  0.8143664152347679 AUC=  0.9518353752266849 f1=  0.86066763425254\n",
            "Epoch: 261 / 500, ############## the best accuracy in val  93.0100 at Epoch: 232  ##############\n",
            "Performance in Val: Loss: (0.0669); Accuracy (92.92)\n"
          ]
        },
        {
          "metadata": {
            "tags": null
          },
          "name": "stderr",
          "output_type": "stream",
          "text": [
            "Epoch 262: 100%|██████████| 3130/3130 [00:25<00:00, 124.78batch/s, train_loss=tensor(0.0300, device='cuda:0', grad_fn=<MseLossBackward0>)]\n"
          ]
        },
        {
          "metadata": {
            "tags": null
          },
          "name": "stdout",
          "output_type": "stream",
          "text": [
            "loss_sum=  0.06704624948726423 ACC=  0.9264109184802656 bacc=  0.8933091244258351 precision=  0.8897280966767371 specificity=  0.9634176898020547 sensitivity=  0.8232005590496156 recall=  0.8232005590496156 MCC=  0.8070393831841381 AUC=  0.9521649952785102 f1=  0.8551724137931034\n",
            "Epoch: 262 / 500, ############## the best accuracy in val  93.0100 at Epoch: 232  ##############\n",
            "Performance in Val: Loss: (0.0670); Accuracy (92.64)\n"
          ]
        },
        {
          "metadata": {
            "tags": null
          },
          "name": "stderr",
          "output_type": "stream",
          "text": [
            "Epoch 263: 100%|██████████| 3130/3130 [00:25<00:00, 124.47batch/s, train_loss=tensor(0.0240, device='cuda:0', grad_fn=<MseLossBackward0>)]\n"
          ]
        },
        {
          "metadata": {
            "tags": null
          },
          "name": "stdout",
          "output_type": "stream",
          "text": [
            "loss_sum=  0.06700589365235209 ACC=  0.9280708225746956 bacc=  0.8964537785138855 precision=  0.8904726181545386 specificity=  0.9634176898020547 sensitivity=  0.8294898672257163 recall=  0.8294898672257163 MCC=  0.8116328340909874 AUC=  0.9522084193278342 f1=  0.8589001447178002\n",
            "Epoch: 263 / 500, ############## the best accuracy in val  93.0100 at Epoch: 232  ##############\n",
            "Performance in Val: Loss: (0.0670); Accuracy (92.81)\n"
          ]
        },
        {
          "metadata": {
            "tags": null
          },
          "name": "stderr",
          "output_type": "stream",
          "text": [
            "Epoch 264: 100%|██████████| 3130/3130 [00:25<00:00, 123.58batch/s, train_loss=tensor(0.0122, device='cuda:0', grad_fn=<MseLossBackward0>)]\n"
          ]
        },
        {
          "metadata": {
            "tags": null
          },
          "name": "stdout",
          "output_type": "stream",
          "text": [
            "loss_sum=  0.06724517131059439 ACC=  0.9299151604573958 bacc=  0.8970342249796494 precision=  0.8990129081245254 specificity=  0.9666750187922827 sensitivity=  0.827393431167016 recall=  0.827393431167016 MCC=  0.8161484374298787 AUC=  0.9513402885352981 f1=  0.8617176128093158\n",
            "Epoch: 264 / 500, ############## the best accuracy in val  93.0100 at Epoch: 232  ##############\n",
            "Performance in Val: Loss: (0.0672); Accuracy (92.99)\n"
          ]
        },
        {
          "metadata": {
            "tags": null
          },
          "name": "stderr",
          "output_type": "stream",
          "text": [
            "Epoch 265: 100%|██████████| 3130/3130 [00:25<00:00, 123.77batch/s, train_loss=tensor(0.0408, device='cuda:0', grad_fn=<MseLossBackward0>)]\n"
          ]
        },
        {
          "metadata": {
            "tags": null
          },
          "name": "stdout",
          "output_type": "stream",
          "text": [
            "loss_sum=  0.06759200589511555 ACC=  0.9288085577277757 bacc=  0.895161913046493 precision=  0.897943640517898 specificity=  0.9664244550238036 sensitivity=  0.8238993710691824 recall=  0.8238993710691824 MCC=  0.8131399936443875 AUC=  0.951838614520687 f1=  0.8593294460641401\n",
            "Epoch: 265 / 500, ############## the best accuracy in val  93.0100 at Epoch: 232  ##############\n",
            "Performance in Val: Loss: (0.0676); Accuracy (92.88)\n"
          ]
        },
        {
          "metadata": {
            "tags": null
          },
          "name": "stderr",
          "output_type": "stream",
          "text": [
            "Epoch 266: 100%|██████████| 3130/3130 [00:25<00:00, 123.80batch/s, train_loss=tensor(0.0352, device='cuda:0', grad_fn=<MseLossBackward0>)]\n"
          ]
        },
        {
          "metadata": {
            "tags": null
          },
          "name": "stdout",
          "output_type": "stream",
          "text": [
            "loss_sum=  0.06675339382757216 ACC=  0.9295462928808558 bacc=  0.8983525300899771 precision=  0.8934733683420856 specificity=  0.9644199448759709 sensitivity=  0.8322851153039832 recall=  0.8322851153039832 MCC=  0.8155200189444519 AUC=  0.9521382929901154 f1=  0.8617945007235889\n",
            "Epoch: 266 / 500, ############## the best accuracy in val  93.0100 at Epoch: 232  ##############\n",
            "Performance in Val: Loss: (0.0668); Accuracy (92.95)\n"
          ]
        },
        {
          "metadata": {
            "tags": null
          },
          "name": "stderr",
          "output_type": "stream",
          "text": [
            "Epoch 267: 100%|██████████| 3130/3130 [00:24<00:00, 125.78batch/s, train_loss=tensor(0.0326, device='cuda:0', grad_fn=<MseLossBackward0>)]\n"
          ]
        },
        {
          "metadata": {
            "tags": null
          },
          "name": "stdout",
          "output_type": "stream",
          "text": [
            "loss_sum=  0.0677131247297369 ACC=  0.9269642198450756 bacc=  0.8936849700785537 precision=  0.8917486752460257 specificity=  0.9641693811074918 sensitivity=  0.8232005590496156 recall=  0.8232005590496156 MCC=  0.8084314825546015 AUC=  0.952043040236759 f1=  0.8561046511627907\n",
            "Epoch: 267 / 500, ############## the best accuracy in val  93.0100 at Epoch: 232  ##############\n",
            "Performance in Val: Loss: (0.0677); Accuracy (92.70)\n"
          ]
        },
        {
          "metadata": {
            "tags": null
          },
          "name": "stderr",
          "output_type": "stream",
          "text": [
            "Epoch 268: 100%|██████████| 3130/3130 [00:24<00:00, 126.67batch/s, train_loss=tensor(0.0135, device='cuda:0', grad_fn=<MseLossBackward0>)]\n"
          ]
        },
        {
          "metadata": {
            "tags": null
          },
          "name": "stdout",
          "output_type": "stream",
          "text": [
            "loss_sum=  0.06732018931375976 ACC=  0.9293618590925857 bacc=  0.8957618828247553 precision=  0.899390243902439 specificity=  0.9669255825607617 sensitivity=  0.8245981830887491 recall=  0.8245981830887491 MCC=  0.8145857556627797 AUC=  0.9513574480386601 f1=  0.8603718556325193\n",
            "Epoch: 268 / 500, ############## the best accuracy in val  93.0100 at Epoch: 232  ##############\n",
            "Performance in Val: Loss: (0.0673); Accuracy (92.94)\n"
          ]
        },
        {
          "metadata": {
            "tags": null
          },
          "name": "stderr",
          "output_type": "stream",
          "text": [
            "Epoch 269: 100%|██████████| 3130/3130 [00:24<00:00, 125.63batch/s, train_loss=tensor(0.0237, device='cuda:0', grad_fn=<MseLossBackward0>)]\n"
          ]
        },
        {
          "metadata": {
            "tags": null
          },
          "name": "stdout",
          "output_type": "stream",
          "text": [
            "loss_sum=  0.06690718322940127 ACC=  0.9278863887864257 bacc=  0.8958802483785582 precision=  0.8909774436090225 specificity=  0.9636682535705337 sensitivity=  0.8280922431865828 recall=  0.8280922431865828 MCC=  0.8110747428038022 AUC=  0.9527920175391136 f1=  0.8583846432452009\n",
            "Epoch: 269 / 500, ############## the best accuracy in val  93.0100 at Epoch: 232  ##############\n",
            "Performance in Val: Loss: (0.0669); Accuracy (92.79)\n"
          ]
        },
        {
          "metadata": {
            "tags": null
          },
          "name": "stderr",
          "output_type": "stream",
          "text": [
            "Epoch 270: 100%|██████████| 3130/3130 [00:24<00:00, 125.37batch/s, train_loss=tensor(0.0520, device='cuda:0', grad_fn=<MseLossBackward0>)]\n"
          ]
        },
        {
          "metadata": {
            "tags": null
          },
          "name": "stdout",
          "output_type": "stream",
          "text": [
            "loss_sum=  0.06663971588119952 ACC=  0.9308373293987459 bacc=  0.8985571309030224 precision=  0.9 specificity=  0.9669255825607617 sensitivity=  0.8301886792452831 recall=  0.8301886792452831 MCC=  0.8186466079315822 AUC=  0.9517685757314545 f1=  0.8636859323882224\n",
            "Epoch: 270 / 500, ############## the best accuracy in val  93.0100 at Epoch: 232  ##############\n",
            "Performance in Val: Loss: (0.0666); Accuracy (93.08)\n"
          ]
        },
        {
          "metadata": {
            "tags": null
          },
          "name": "stderr",
          "output_type": "stream",
          "text": [
            "Epoch 271: 100%|██████████| 3130/3130 [00:25<00:00, 124.73batch/s, train_loss=tensor(0.0319, device='cuda:0', grad_fn=<MseLossBackward0>)]\n"
          ]
        },
        {
          "metadata": {
            "tags": null
          },
          "name": "stdout",
          "output_type": "stream",
          "text": [
            "loss_sum=  0.06680247981573804 ACC=  0.9289929915160458 bacc=  0.8959595673073639 precision=  0.8968133535660091 specificity=  0.9659233274868454 sensitivity=  0.8259958071278826 recall=  0.8259958071278826 MCC=  0.8137296415851206 AUC=  0.9517508909371732 f1=  0.85994907238996\n",
            "Epoch: 271 / 500, ############## the best accuracy in val  93.0837 at Epoch: 270  ##############\n",
            "Performance in Val: Loss: (0.0668); Accuracy (92.90)\n"
          ]
        },
        {
          "metadata": {
            "tags": null
          },
          "name": "stderr",
          "output_type": "stream",
          "text": [
            "Epoch 272: 100%|██████████| 3130/3130 [00:24<00:00, 126.23batch/s, train_loss=tensor(0.0197, device='cuda:0', grad_fn=<MseLossBackward0>)]\n"
          ]
        },
        {
          "metadata": {
            "tags": null
          },
          "name": "stdout",
          "output_type": "stream",
          "text": [
            "loss_sum=  0.06685255738840629 ACC=  0.9264109184802656 bacc=  0.8955503656812734 precision=  0.8839285714285714 specificity=  0.9609120521172638 sensitivity=  0.8301886792452831 recall=  0.8301886792452831 MCC=  0.8075496285467572 AUC=  0.9533031256035374 f1=  0.8562162162162162\n",
            "Epoch: 272 / 500, ############## the best accuracy in val  93.0837 at Epoch: 270  ##############\n",
            "Performance in Val: Loss: (0.0669); Accuracy (92.64)\n"
          ]
        },
        {
          "metadata": {
            "tags": null
          },
          "name": "stderr",
          "output_type": "stream",
          "text": [
            "Epoch 273: 100%|██████████| 3130/3130 [00:24<00:00, 126.24batch/s, train_loss=tensor(0.0428, device='cuda:0', grad_fn=<MseLossBackward0>)]\n"
          ]
        },
        {
          "metadata": {
            "tags": null
          },
          "name": "stdout",
          "output_type": "stream",
          "text": [
            "loss_sum=  0.06660701099928787 ACC=  0.9265953522685356 bacc=  0.8936585304356186 precision=  0.889811320754717 specificity=  0.9634176898020547 sensitivity=  0.8238993710691824 recall=  0.8238993710691824 MCC=  0.8075500013663874 AUC=  0.9518774860487109 f1=  0.8555878084179972\n",
            "Epoch: 273 / 500, ############## the best accuracy in val  93.0837 at Epoch: 270  ##############\n",
            "Performance in Val: Loss: (0.0666); Accuracy (92.66)\n"
          ]
        },
        {
          "metadata": {
            "tags": null
          },
          "name": "stderr",
          "output_type": "stream",
          "text": [
            "Epoch 274: 100%|██████████| 3130/3130 [00:24<00:00, 127.69batch/s, train_loss=tensor(0.0435, device='cuda:0', grad_fn=<MseLossBackward0>)]\n"
          ]
        },
        {
          "metadata": {
            "tags": null
          },
          "name": "stdout",
          "output_type": "stream",
          "text": [
            "loss_sum=  0.06739773717502841 ACC=  0.9271486536333456 bacc=  0.8913448865818112 precision=  0.899075500770416 specificity=  0.9671761463292408 sensitivity=  0.8155136268343816 recall=  0.8155136268343816 MCC=  0.8084509309645641 AUC=  0.9514849186350631 f1=  0.8552583363869548\n",
            "Epoch: 274 / 500, ############## the best accuracy in val  93.0837 at Epoch: 270  ##############\n",
            "Performance in Val: Loss: (0.0674); Accuracy (92.71)\n"
          ]
        },
        {
          "metadata": {
            "tags": null
          },
          "name": "stderr",
          "output_type": "stream",
          "text": [
            "Epoch 275: 100%|██████████| 3130/3130 [00:24<00:00, 125.55batch/s, train_loss=tensor(0.0316, device='cuda:0', grad_fn=<MseLossBackward0>)]\n"
          ]
        },
        {
          "metadata": {
            "tags": null
          },
          "name": "stdout",
          "output_type": "stream",
          "text": [
            "loss_sum=  0.06635093382644881 ACC=  0.9284396901512357 bacc=  0.8958078457801892 precision=  0.8941798941798942 specificity=  0.9649210724129291 sensitivity=  0.8266946191474493 recall=  0.8266946191474493 MCC=  0.8123743337699286 AUC=  0.9530341766528847 f1=  0.8591140159767611\n",
            "Epoch: 275 / 500, ############## the best accuracy in val  93.0837 at Epoch: 270  ##############\n",
            "Performance in Val: Loss: (0.0664); Accuracy (92.84)\n"
          ]
        },
        {
          "metadata": {
            "tags": null
          },
          "name": "stderr",
          "output_type": "stream",
          "text": [
            "Epoch 276: 100%|██████████| 3130/3130 [00:25<00:00, 123.90batch/s, train_loss=tensor(0.0122, device='cuda:0', grad_fn=<MseLossBackward0>)]\n"
          ]
        },
        {
          "metadata": {
            "tags": null
          },
          "name": "stdout",
          "output_type": "stream",
          "text": [
            "loss_sum=  0.06707470535484739 ACC=  0.9271486536333456 bacc=  0.8953791208416001 precision=  0.8883058470764618 specificity=  0.9626659984966174 sensitivity=  0.8280922431865828 recall=  0.8280922431865828 MCC=  0.8092282760268243 AUC=  0.9512114171631103 f1=  0.8571428571428571\n",
            "Epoch: 276 / 500, ############## the best accuracy in val  93.0837 at Epoch: 270  ##############\n",
            "Performance in Val: Loss: (0.0671); Accuracy (92.71)\n"
          ]
        },
        {
          "metadata": {
            "tags": null
          },
          "name": "stderr",
          "output_type": "stream",
          "text": [
            "Epoch 277: 100%|██████████| 3130/3130 [00:25<00:00, 122.36batch/s, train_loss=tensor(0.0409, device='cuda:0', grad_fn=<MseLossBackward0>)]\n"
          ]
        },
        {
          "metadata": {
            "tags": null
          },
          "name": "stdout",
          "output_type": "stream",
          "text": [
            "loss_sum=  0.06692286149549208 ACC=  0.9282552563629657 bacc=  0.8950101915193182 precision=  0.8952959028831563 specificity=  0.9654221999498872 sensitivity=  0.8245981830887491 recall=  0.8245981830887491 MCC=  0.811778595863484 AUC=  0.9503863602259521 f1=  0.8584939978173881\n",
            "Epoch: 277 / 500, ############## the best accuracy in val  93.0837 at Epoch: 270  ##############\n",
            "Performance in Val: Loss: (0.0669); Accuracy (92.83)\n"
          ]
        },
        {
          "metadata": {
            "tags": null
          },
          "name": "stderr",
          "output_type": "stream",
          "text": [
            "Epoch 278: 100%|██████████| 3130/3130 [00:25<00:00, 122.19batch/s, train_loss=tensor(0.0112, device='cuda:0', grad_fn=<MseLossBackward0>)]\n"
          ]
        },
        {
          "metadata": {
            "tags": null
          },
          "name": "stdout",
          "output_type": "stream",
          "text": [
            "loss_sum=  0.06641158886366472 ACC=  0.9273330874216157 bacc=  0.8943837820981204 precision=  0.891912320483749 specificity=  0.9641693811074918 sensitivity=  0.8245981830887491 recall=  0.8245981830887491 MCC=  0.8094515195879961 AUC=  0.9517682255375083 f1=  0.8569353667392883\n",
            "Epoch: 278 / 500, ############## the best accuracy in val  93.0837 at Epoch: 270  ##############\n",
            "Performance in Val: Loss: (0.0664); Accuracy (92.73)\n"
          ]
        },
        {
          "metadata": {
            "tags": null
          },
          "name": "stderr",
          "output_type": "stream",
          "text": [
            "Epoch 279: 100%|██████████| 3130/3130 [00:25<00:00, 124.86batch/s, train_loss=tensor(0.0555, device='cuda:0', grad_fn=<MseLossBackward0>)]\n"
          ]
        },
        {
          "metadata": {
            "tags": null
          },
          "name": "stdout",
          "output_type": "stream",
          "text": [
            "loss_sum=  0.06708606842226708 ACC=  0.9264109184802656 bacc=  0.8933091244258351 precision=  0.8897280966767371 specificity=  0.9634176898020547 sensitivity=  0.8232005590496156 recall=  0.8232005590496156 MCC=  0.8070393831841381 AUC=  0.9522021158368033 f1=  0.8551724137931034\n",
            "Epoch: 279 / 500, ############## the best accuracy in val  93.0837 at Epoch: 270  ##############\n",
            "Performance in Val: Loss: (0.0671); Accuracy (92.64)\n"
          ]
        },
        {
          "metadata": {
            "tags": null
          },
          "name": "stderr",
          "output_type": "stream",
          "text": [
            "Epoch 280: 100%|██████████| 3130/3130 [00:25<00:00, 125.12batch/s, train_loss=tensor(0.0195, device='cuda:0', grad_fn=<MseLossBackward0>)]\n"
          ]
        },
        {
          "metadata": {
            "tags": null
          },
          "name": "stdout",
          "output_type": "stream",
          "text": [
            "loss_sum=  0.066299334889591 ACC=  0.9277019549981557 bacc=  0.8937378493644242 precision=  0.8956587966488957 specificity=  0.9656727637183663 sensitivity=  0.8218029350104822 recall=  0.8218029350104822 MCC=  0.8102096425777595 AUC=  0.9520784098253214 f1=  0.8571428571428572\n",
            "Epoch: 280 / 500, ############## the best accuracy in val  93.0837 at Epoch: 270  ##############\n",
            "Performance in Val: Loss: (0.0663); Accuracy (92.77)\n"
          ]
        },
        {
          "metadata": {
            "tags": null
          },
          "name": "stderr",
          "output_type": "stream",
          "text": [
            "Epoch 281: 100%|██████████| 3130/3130 [00:24<00:00, 126.91batch/s, train_loss=tensor(0.0314, device='cuda:0', grad_fn=<MseLossBackward0>)]\n"
          ]
        },
        {
          "metadata": {
            "tags": null
          },
          "name": "stdout",
          "output_type": "stream",
          "text": [
            "loss_sum=  0.0678177733869899 ACC=  0.9288085577277757 bacc=  0.8947136647954053 precision=  0.8991596638655462 specificity=  0.9669255825607617 sensitivity=  0.822501747030049 recall=  0.822501747030049 MCC=  0.8130619928224024 AUC=  0.9500013219821467 f1=  0.8591240875912409\n",
            "Epoch: 281 / 500, ############## the best accuracy in val  93.0837 at Epoch: 270  ##############\n",
            "Performance in Val: Loss: (0.0678); Accuracy (92.88)\n"
          ]
        },
        {
          "metadata": {
            "tags": null
          },
          "name": "stderr",
          "output_type": "stream",
          "text": [
            "Epoch 282: 100%|██████████| 3130/3130 [00:24<00:00, 125.52batch/s, train_loss=tensor(0.0380, device='cuda:0', grad_fn=<MseLossBackward0>)]\n"
          ]
        },
        {
          "metadata": {
            "tags": null
          },
          "name": "stdout",
          "output_type": "stream",
          "text": [
            "loss_sum=  0.0666495792795753 ACC=  0.9282552563629657 bacc=  0.8954584397704058 precision=  0.8940998487140696 specificity=  0.9649210724129291 sensitivity=  0.8259958071278826 recall=  0.8259958071278826 MCC=  0.8118650934129625 AUC=  0.9523814151372385 f1=  0.8586996004358882\n",
            "Epoch: 282 / 500, ############## the best accuracy in val  93.0837 at Epoch: 270  ##############\n",
            "Performance in Val: Loss: (0.0666); Accuracy (92.83)\n"
          ]
        },
        {
          "metadata": {
            "tags": null
          },
          "name": "stderr",
          "output_type": "stream",
          "text": [
            "Epoch 283: 100%|██████████| 3130/3130 [00:24<00:00, 125.83batch/s, train_loss=tensor(0.0177, device='cuda:0', grad_fn=<MseLossBackward0>)]\n"
          ]
        },
        {
          "metadata": {
            "tags": null
          },
          "name": "stdout",
          "output_type": "stream",
          "text": [
            "loss_sum=  0.06659392762934696 ACC=  0.9280708225746956 bacc=  0.895781406137254 precision=  0.8922381311228335 specificity=  0.9641693811074918 sensitivity=  0.827393431167016 recall=  0.827393431167016 MCC=  0.8114908907510892 AUC=  0.9516496848867323 f1=  0.8585931834662799\n",
            "Epoch: 283 / 500, ############## the best accuracy in val  93.0837 at Epoch: 270  ##############\n",
            "Performance in Val: Loss: (0.0666); Accuracy (92.81)\n"
          ]
        },
        {
          "metadata": {
            "tags": null
          },
          "name": "stderr",
          "output_type": "stream",
          "text": [
            "Epoch 284: 100%|██████████| 3130/3130 [00:24<00:00, 125.47batch/s, train_loss=tensor(0.0251, device='cuda:0', grad_fn=<MseLossBackward0>)]\n"
          ]
        },
        {
          "metadata": {
            "tags": null
          },
          "name": "stdout",
          "output_type": "stream",
          "text": [
            "loss_sum=  0.06729764113296098 ACC=  0.9267797860568056 bacc=  0.8928873158176827 precision=  0.8928571428571429 specificity=  0.96467050864445 sensitivity=  0.8211041229909154 recall=  0.8211041229909154 MCC=  0.807832399534068 AUC=  0.9531003633087095 f1=  0.8554787040407718\n",
            "Epoch: 284 / 500, ############## the best accuracy in val  93.0837 at Epoch: 270  ##############\n",
            "Performance in Val: Loss: (0.0673); Accuracy (92.68)\n"
          ]
        },
        {
          "metadata": {
            "tags": null
          },
          "name": "stderr",
          "output_type": "stream",
          "text": [
            "Epoch 285: 100%|██████████| 3130/3130 [00:25<00:00, 124.23batch/s, train_loss=tensor(0.0193, device='cuda:0', grad_fn=<MseLossBackward0>)]\n"
          ]
        },
        {
          "metadata": {
            "tags": null
          },
          "name": "stdout",
          "output_type": "stream",
          "text": [
            "loss_sum=  0.06735115557095822 ACC=  0.9265953522685356 bacc=  0.8911931650546364 precision=  0.896392939370683 specificity=  0.9661738912553245 sensitivity=  0.8162124388539483 recall=  0.8162124388539483 MCC=  0.8070748810321594 AUC=  0.9508706784534944 f1=  0.8544257498171177\n",
            "Epoch: 285 / 500, ############## the best accuracy in val  93.0837 at Epoch: 270  ##############\n",
            "Performance in Val: Loss: (0.0674); Accuracy (92.66)\n"
          ]
        },
        {
          "metadata": {
            "tags": null
          },
          "name": "stderr",
          "output_type": "stream",
          "text": [
            "Epoch 286: 100%|██████████| 3130/3130 [00:24<00:00, 125.53batch/s, train_loss=tensor(0.0247, device='cuda:0', grad_fn=<MseLossBackward0>)]\n"
          ]
        },
        {
          "metadata": {
            "tags": null
          },
          "name": "stdout",
          "output_type": "stream",
          "text": [
            "loss_sum=  0.06612742336186687 ACC=  0.9288085577277757 bacc=  0.8967307819252999 precision=  0.8937452901281085 specificity=  0.96467050864445 sensitivity=  0.8287910552061496 recall=  0.8287910552061496 MCC=  0.8134374445607233 AUC=  0.9538711401842123 f1=  0.8600435097897028\n",
            "Epoch: 286 / 500, ############## the best accuracy in val  93.0837 at Epoch: 270  ##############\n",
            "Performance in Val: Loss: (0.0661); Accuracy (92.88)\n"
          ]
        },
        {
          "metadata": {
            "tags": null
          },
          "name": "stderr",
          "output_type": "stream",
          "text": [
            "Epoch 287: 100%|██████████| 3130/3130 [00:25<00:00, 124.94batch/s, train_loss=tensor(0.0227, device='cuda:0', grad_fn=<MseLossBackward0>)]\n"
          ]
        },
        {
          "metadata": {
            "tags": null
          },
          "name": "stdout",
          "output_type": "stream",
          "text": [
            "loss_sum=  0.06678841999872068 ACC=  0.9273330874216157 bacc=  0.8937114097214891 precision=  0.8936977980258163 specificity=  0.9649210724129291 sensitivity=  0.822501747030049 recall=  0.822501747030049 MCC=  0.8093180175058665 AUC=  0.9541096222615489 f1=  0.8566229985443959\n",
            "Epoch: 287 / 500, ############## the best accuracy in val  93.0837 at Epoch: 270  ##############\n",
            "Performance in Val: Loss: (0.0668); Accuracy (92.73)\n"
          ]
        },
        {
          "metadata": {
            "tags": null
          },
          "name": "stderr",
          "output_type": "stream",
          "text": [
            "Epoch 288: 100%|██████████| 3130/3130 [00:24<00:00, 125.37batch/s, train_loss=tensor(0.0316, device='cuda:0', grad_fn=<MseLossBackward0>)]\n"
          ]
        },
        {
          "metadata": {
            "tags": null
          },
          "name": "stdout",
          "output_type": "stream",
          "text": [
            "loss_sum=  0.06674116273797982 ACC=  0.9295462928808558 bacc=  0.8949906682068196 precision=  0.9025326170376056 specificity=  0.9681784014031571 sensitivity=  0.8218029350104822 recall=  0.8218029350104822 MCC=  0.8149095511607632 AUC=  0.9527885155996519 f1=  0.8602779809802488\n",
            "Epoch: 288 / 500, ############## the best accuracy in val  93.0837 at Epoch: 270  ##############\n",
            "Performance in Val: Loss: (0.0667); Accuracy (92.95)\n"
          ]
        },
        {
          "metadata": {
            "tags": null
          },
          "name": "stderr",
          "output_type": "stream",
          "text": [
            "Epoch 289: 100%|██████████| 3130/3130 [00:25<00:00, 123.28batch/s, train_loss=tensor(0.0218, device='cuda:0', grad_fn=<MseLossBackward0>)]\n"
          ]
        },
        {
          "metadata": {
            "tags": null
          },
          "name": "stdout",
          "output_type": "stream",
          "text": [
            "loss_sum=  0.06664182995185036 ACC=  0.9278863887864257 bacc=  0.8952078760019268 precision=  0.8927492447129909 specificity=  0.9644199448759709 sensitivity=  0.8259958071278826 recall=  0.8259958071278826 MCC=  0.8109354720506904 AUC=  0.9523863178524846 f1=  0.858076225045372\n",
            "Epoch: 289 / 500, ############## the best accuracy in val  93.0837 at Epoch: 270  ##############\n",
            "Performance in Val: Loss: (0.0666); Accuracy (92.79)\n"
          ]
        },
        {
          "metadata": {
            "tags": null
          },
          "name": "stderr",
          "output_type": "stream",
          "text": [
            "Epoch 290: 100%|██████████| 3130/3130 [00:24<00:00, 125.57batch/s, train_loss=tensor(0.0279, device='cuda:0', grad_fn=<MseLossBackward0>)]\n"
          ]
        },
        {
          "metadata": {
            "tags": null
          },
          "name": "stdout",
          "output_type": "stream",
          "text": [
            "loss_sum=  0.06674408449332579 ACC=  0.9271486536333456 bacc=  0.8929137554606179 precision=  0.8948170731707317 specificity=  0.9654221999498872 sensitivity=  0.8204053109713487 recall=  0.8204053109713487 MCC=  0.8087235337515123 AUC=  0.9521262988474593 f1=  0.8559970834852352\n",
            "Epoch: 290 / 500, ############## the best accuracy in val  93.0837 at Epoch: 270  ##############\n",
            "Performance in Val: Loss: (0.0667); Accuracy (92.71)\n"
          ]
        },
        {
          "metadata": {
            "tags": null
          },
          "name": "stderr",
          "output_type": "stream",
          "text": [
            "Epoch 291: 100%|██████████| 3130/3130 [00:25<00:00, 124.64batch/s, train_loss=tensor(0.0320, device='cuda:0', grad_fn=<MseLossBackward0>)]\n"
          ]
        },
        {
          "metadata": {
            "tags": null
          },
          "name": "stdout",
          "output_type": "stream",
          "text": [
            "loss_sum=  0.06749317578004349 ACC=  0.9293618590925857 bacc=  0.8937447656948609 precision=  0.9049459041731066 specificity=  0.9691806564770734 sensitivity=  0.8183088749126485 recall=  0.8183088749126485 MCC=  0.8142700993360845 AUC=  0.9521382054416287 f1=  0.8594495412844037\n",
            "Epoch: 291 / 500, ############## the best accuracy in val  93.0837 at Epoch: 270  ##############\n",
            "Performance in Val: Loss: (0.0675); Accuracy (92.94)\n"
          ]
        },
        {
          "metadata": {
            "tags": null
          },
          "name": "stderr",
          "output_type": "stream",
          "text": [
            "Epoch 292: 100%|██████████| 3130/3130 [00:25<00:00, 123.47batch/s, train_loss=tensor(0.0269, device='cuda:0', grad_fn=<MseLossBackward0>)]\n"
          ]
        },
        {
          "metadata": {
            "tags": null
          },
          "name": "stdout",
          "output_type": "stream",
          "text": [
            "loss_sum=  0.06671869720725183 ACC=  0.9286241239395057 bacc=  0.8968296241666041 precision=  0.8924812030075188 specificity=  0.9641693811074918 sensitivity=  0.8294898672257163 recall=  0.8294898672257163 MCC=  0.8130198126229388 AUC=  0.9522185749522729 f1=  0.8598333936979354\n",
            "Epoch: 292 / 500, ############## the best accuracy in val  93.0837 at Epoch: 270  ##############\n",
            "Performance in Val: Loss: (0.0667); Accuracy (92.86)\n"
          ]
        },
        {
          "metadata": {
            "tags": null
          },
          "name": "stderr",
          "output_type": "stream",
          "text": [
            "Epoch 293: 100%|██████████| 3130/3130 [00:24<00:00, 126.14batch/s, train_loss=tensor(0.0272, device='cuda:0', grad_fn=<MseLossBackward0>)]\n"
          ]
        },
        {
          "metadata": {
            "tags": null
          },
          "name": "stdout",
          "output_type": "stream",
          "text": [
            "loss_sum=  0.06617412501451585 ACC=  0.9291774253043158 bacc=  0.8949642285638844 precision=  0.9005355776587605 specificity=  0.9674267100977199 sensitivity=  0.822501747030049 recall=  0.822501747030049 MCC=  0.8140024775713407 AUC=  0.9532737968605464 f1=  0.8597516435354274\n",
            "Epoch: 293 / 500, ############## the best accuracy in val  93.0837 at Epoch: 270  ##############\n",
            "Performance in Val: Loss: (0.0662); Accuracy (92.92)\n"
          ]
        },
        {
          "metadata": {
            "tags": null
          },
          "name": "stderr",
          "output_type": "stream",
          "text": [
            "Epoch 294: 100%|██████████| 3130/3130 [00:24<00:00, 125.43batch/s, train_loss=tensor(0.0229, device='cuda:0', grad_fn=<MseLossBackward0>)]\n"
          ]
        },
        {
          "metadata": {
            "tags": null
          },
          "name": "stdout",
          "output_type": "stream",
          "text": [
            "loss_sum=  0.06690007051491456 ACC=  0.9269642198450756 bacc=  0.8936849700785537 precision=  0.8917486752460257 specificity=  0.9641693811074918 sensitivity=  0.8232005590496156 recall=  0.8232005590496156 MCC=  0.8084314825546015 AUC=  0.9507174686020486 f1=  0.8561046511627907\n",
            "Epoch: 294 / 500, ############## the best accuracy in val  93.0837 at Epoch: 270  ##############\n",
            "Performance in Val: Loss: (0.0669); Accuracy (92.70)\n"
          ]
        },
        {
          "metadata": {
            "tags": null
          },
          "name": "stderr",
          "output_type": "stream",
          "text": [
            "Epoch 295: 100%|██████████| 3130/3130 [00:25<00:00, 124.68batch/s, train_loss=tensor(0.0411, device='cuda:0', grad_fn=<MseLossBackward0>)]\n"
          ]
        },
        {
          "metadata": {
            "tags": null
          },
          "name": "stdout",
          "output_type": "stream",
          "text": [
            "loss_sum=  0.06766682772987843 ACC=  0.9277019549981557 bacc=  0.8932896011133367 precision=  0.8968678380443086 specificity=  0.9661738912553245 sensitivity=  0.8204053109713487 recall=  0.8204053109713487 MCC=  0.8101285953788431 AUC=  0.9507813789972231 f1=  0.8569343065693431\n",
            "Epoch: 295 / 500, ############## the best accuracy in val  93.0837 at Epoch: 270  ##############\n",
            "Performance in Val: Loss: (0.0677); Accuracy (92.77)\n"
          ]
        },
        {
          "metadata": {
            "tags": null
          },
          "name": "stderr",
          "output_type": "stream",
          "text": [
            "Epoch 296: 100%|██████████| 3130/3130 [00:25<00:00, 122.09batch/s, train_loss=tensor(0.0231, device='cuda:0', grad_fn=<MseLossBackward0>)]\n"
          ]
        },
        {
          "metadata": {
            "tags": null
          },
          "name": "stdout",
          "output_type": "stream",
          "text": [
            "loss_sum=  0.0668447277258675 ACC=  0.9289929915160458 bacc=  0.8970801879350832 precision=  0.8938253012048193 specificity=  0.96467050864445 sensitivity=  0.8294898672257163 recall=  0.8294898672257163 MCC=  0.8139466470972708 AUC=  0.9519967270873793 f1=  0.8604566872055092\n",
            "Epoch: 296 / 500, ############## the best accuracy in val  93.0837 at Epoch: 270  ##############\n",
            "Performance in Val: Loss: (0.0668); Accuracy (92.90)\n"
          ]
        },
        {
          "metadata": {
            "tags": null
          },
          "name": "stderr",
          "output_type": "stream",
          "text": [
            "Epoch 297: 100%|██████████| 3130/3130 [00:25<00:00, 120.47batch/s, train_loss=tensor(0.0202, device='cuda:0', grad_fn=<MseLossBackward0>)]\n"
          ]
        },
        {
          "metadata": {
            "tags": null
          },
          "name": "stdout",
          "output_type": "stream",
          "text": [
            "loss_sum=  0.06669664734034939 ACC=  0.9273330874216157 bacc=  0.8943837820981204 precision=  0.891912320483749 specificity=  0.9641693811074918 sensitivity=  0.8245981830887491 recall=  0.8245981830887491 MCC=  0.8094515195879961 AUC=  0.9533428726164269 f1=  0.8569353667392883\n",
            "Epoch: 297 / 500, ############## the best accuracy in val  93.0837 at Epoch: 270  ##############\n",
            "Performance in Val: Loss: (0.0667); Accuracy (92.73)\n"
          ]
        },
        {
          "metadata": {
            "tags": null
          },
          "name": "stderr",
          "output_type": "stream",
          "text": [
            "Epoch 298: 100%|██████████| 3130/3130 [00:25<00:00, 121.54batch/s, train_loss=tensor(0.0140, device='cuda:0', grad_fn=<MseLossBackward0>)]\n"
          ]
        },
        {
          "metadata": {
            "tags": null
          },
          "name": "stdout",
          "output_type": "stream",
          "text": [
            "loss_sum=  0.06670579224258968 ACC=  0.9273330874216157 bacc=  0.8955044027258396 precision=  0.8889722430607652 specificity=  0.9629165622650965 sensitivity=  0.8280922431865828 recall=  0.8280922431865828 MCC=  0.809689241664255 AUC=  0.953119098684829 f1=  0.8574529667149059\n",
            "Epoch: 298 / 500, ############## the best accuracy in val  93.0837 at Epoch: 270  ##############\n",
            "Performance in Val: Loss: (0.0667); Accuracy (92.73)\n"
          ]
        },
        {
          "metadata": {
            "tags": null
          },
          "name": "stderr",
          "output_type": "stream",
          "text": [
            "Epoch 299: 100%|██████████| 3130/3130 [00:25<00:00, 123.39batch/s, train_loss=tensor(0.0403, device='cuda:0', grad_fn=<MseLossBackward0>)]\n"
          ]
        },
        {
          "metadata": {
            "tags": null
          },
          "name": "stdout",
          "output_type": "stream",
          "text": [
            "loss_sum=  0.06692910539384679 ACC=  0.9275175212098856 bacc=  0.8918195744758342 precision=  0.8998459167950693 specificity=  0.9674267100977199 sensitivity=  0.8162124388539483 recall=  0.8162124388539483 MCC=  0.8094315541514221 AUC=  0.9531882619891962 f1=  0.8559912055698058\n",
            "Epoch: 299 / 500, ############## the best accuracy in val  93.0837 at Epoch: 270  ##############\n",
            "Performance in Val: Loss: (0.0669); Accuracy (92.75)\n"
          ]
        },
        {
          "metadata": {
            "tags": null
          },
          "name": "stderr",
          "output_type": "stream",
          "text": [
            "Epoch 300: 100%|██████████| 3130/3130 [00:25<00:00, 123.93batch/s, train_loss=tensor(0.0476, device='cuda:0', grad_fn=<MseLossBackward0>)]\n"
          ]
        },
        {
          "metadata": {
            "tags": null
          },
          "name": "stdout",
          "output_type": "stream",
          "text": [
            "loss_sum=  0.06774759542740948 ACC=  0.9260420509037256 bacc=  0.8914896917785493 precision=  0.8925304878048781 specificity=  0.96467050864445 sensitivity=  0.8183088749126485 recall=  0.8183088749126485 MCC=  0.8057924227958786 AUC=  0.9498426841245353 f1=  0.8538096974115931\n",
            "Epoch: 300 / 500, ############## the best accuracy in val  93.0837 at Epoch: 270  ##############\n",
            "Performance in Val: Loss: (0.0677); Accuracy (92.60)\n"
          ]
        },
        {
          "metadata": {
            "tags": null
          },
          "name": "stderr",
          "output_type": "stream",
          "text": [
            "Epoch 301: 100%|██████████| 3130/3130 [00:25<00:00, 124.52batch/s, train_loss=tensor(0.0408, device='cuda:0', grad_fn=<MseLossBackward0>)]\n"
          ]
        },
        {
          "metadata": {
            "tags": null
          },
          "name": "stdout",
          "output_type": "stream",
          "text": [
            "loss_sum=  0.06691270593380703 ACC=  0.9278863887864257 bacc=  0.8965526207551897 precision=  0.8892215568862275 specificity=  0.9629165622650965 sensitivity=  0.8301886792452831 recall=  0.8301886792452831 MCC=  0.8112208243275078 AUC=  0.9503182475034236 f1=  0.8586917238886881\n",
            "Epoch: 301 / 500, ############## the best accuracy in val  93.0837 at Epoch: 270  ##############\n",
            "Performance in Val: Loss: (0.0669); Accuracy (92.79)\n"
          ]
        },
        {
          "metadata": {
            "tags": null
          },
          "name": "stderr",
          "output_type": "stream",
          "text": [
            "Epoch 302: 100%|██████████| 3130/3130 [00:25<00:00, 124.65batch/s, train_loss=tensor(0.0291, device='cuda:0', grad_fn=<MseLossBackward0>)]\n"
          ]
        },
        {
          "metadata": {
            "tags": null
          },
          "name": "stdout",
          "output_type": "stream",
          "text": [
            "loss_sum=  0.06665536048780896 ACC=  0.9258576171154556 bacc=  0.892260906396485 precision=  0.8894776684330054 specificity=  0.9634176898020547 sensitivity=  0.8211041229909154 recall=  0.8211041229909154 MCC=  0.8055071699665003 AUC=  0.9512152692965181 f1=  0.8539244186046512\n",
            "Epoch: 302 / 500, ############## the best accuracy in val  93.0837 at Epoch: 270  ##############\n",
            "Performance in Val: Loss: (0.0667); Accuracy (92.59)\n"
          ]
        },
        {
          "metadata": {
            "tags": null
          },
          "name": "stderr",
          "output_type": "stream",
          "text": [
            "Epoch 303: 100%|██████████| 3130/3130 [00:25<00:00, 123.48batch/s, train_loss=tensor(0.0354, device='cuda:0', grad_fn=<MseLossBackward0>)]\n"
          ]
        },
        {
          "metadata": {
            "tags": null
          },
          "name": "stdout",
          "output_type": "stream",
          "text": [
            "loss_sum=  0.06706087971051226 ACC=  0.9262264846919955 bacc=  0.8925114701649641 precision=  0.8908263836239575 specificity=  0.9639188173390127 sensitivity=  0.8211041229909154 recall=  0.8211041229909154 MCC=  0.8064359364937315 AUC=  0.951029141214133 f1=  0.8545454545454545\n",
            "Epoch: 303 / 500, ############## the best accuracy in val  93.0837 at Epoch: 270  ##############\n",
            "Performance in Val: Loss: (0.0671); Accuracy (92.62)\n"
          ]
        },
        {
          "metadata": {
            "tags": null
          },
          "name": "stderr",
          "output_type": "stream",
          "text": [
            "Epoch 304: 100%|██████████| 3130/3130 [00:25<00:00, 123.32batch/s, train_loss=tensor(0.0406, device='cuda:0', grad_fn=<MseLossBackward0>)]\n"
          ]
        },
        {
          "metadata": {
            "tags": null
          },
          "name": "stdout",
          "output_type": "stream",
          "text": [
            "loss_sum=  0.06771646058708869 ACC=  0.9302840280339358 bacc=  0.8959400439948655 precision=  0.9040675364543361 specificity=  0.9686795289401152 sensitivity=  0.8232005590496156 recall=  0.8232005590496156 MCC=  0.8168682186929141 AUC=  0.9512497634002152 f1=  0.8617410387710314\n",
            "Epoch: 304 / 500, ############## the best accuracy in val  93.0837 at Epoch: 270  ##############\n",
            "Performance in Val: Loss: (0.0677); Accuracy (93.03)\n"
          ]
        },
        {
          "metadata": {
            "tags": null
          },
          "name": "stderr",
          "output_type": "stream",
          "text": [
            "Epoch 305: 100%|██████████| 3130/3130 [00:25<00:00, 124.13batch/s, train_loss=tensor(0.0172, device='cuda:0', grad_fn=<MseLossBackward0>)]\n"
          ]
        },
        {
          "metadata": {
            "tags": null
          },
          "name": "stdout",
          "output_type": "stream",
          "text": [
            "loss_sum=  0.06730066097250818 ACC=  0.9260420509037256 bacc=  0.8914896917785493 precision=  0.8925304878048781 specificity=  0.96467050864445 sensitivity=  0.8183088749126485 recall=  0.8183088749126485 MCC=  0.8057924227958786 AUC=  0.9506420018066505 f1=  0.8538096974115931\n",
            "Epoch: 305 / 500, ############## the best accuracy in val  93.0837 at Epoch: 270  ##############\n",
            "Performance in Val: Loss: (0.0673); Accuracy (92.60)\n"
          ]
        },
        {
          "metadata": {
            "tags": null
          },
          "name": "stderr",
          "output_type": "stream",
          "text": [
            "Epoch 306: 100%|██████████| 3130/3130 [00:26<00:00, 119.39batch/s, train_loss=tensor(0.0196, device='cuda:0', grad_fn=<MseLossBackward0>)]\n"
          ]
        },
        {
          "metadata": {
            "tags": null
          },
          "name": "stdout",
          "output_type": "stream",
          "text": [
            "loss_sum=  0.0662331662352326 ACC=  0.9253043157506455 bacc=  0.8941263019992047 precision=  0.8816964285714286 specificity=  0.9601603608118267 sensitivity=  0.8280922431865828 recall=  0.8280922431865828 MCC=  0.804642281727596 AUC=  0.9533193220735475 f1=  0.8540540540540541\n",
            "Epoch: 306 / 500, ############## the best accuracy in val  93.0837 at Epoch: 270  ##############\n",
            "Performance in Val: Loss: (0.0662); Accuracy (92.53)\n"
          ]
        },
        {
          "metadata": {
            "tags": null
          },
          "name": "stderr",
          "output_type": "stream",
          "text": [
            "Epoch 307: 100%|██████████| 3130/3130 [00:26<00:00, 119.24batch/s, train_loss=tensor(0.0345, device='cuda:0', grad_fn=<MseLossBackward0>)]\n"
          ]
        },
        {
          "metadata": {
            "tags": null
          },
          "name": "stdout",
          "output_type": "stream",
          "text": [
            "loss_sum=  0.06746821476498228 ACC=  0.9262264846919955 bacc=  0.8925114701649641 precision=  0.8908263836239575 specificity=  0.9639188173390127 sensitivity=  0.8211041229909154 recall=  0.8211041229909154 MCC=  0.8064359364937315 AUC=  0.9502942592181114 f1=  0.8545454545454545\n",
            "Epoch: 307 / 500, ############## the best accuracy in val  93.0837 at Epoch: 270  ##############\n",
            "Performance in Val: Loss: (0.0675); Accuracy (92.62)\n"
          ]
        },
        {
          "metadata": {
            "tags": null
          },
          "name": "stderr",
          "output_type": "stream",
          "text": [
            "Epoch 308: 100%|██████████| 3130/3130 [00:25<00:00, 123.27batch/s, train_loss=tensor(0.0137, device='cuda:0', grad_fn=<MseLossBackward0>)]\n"
          ]
        },
        {
          "metadata": {
            "tags": null
          },
          "name": "stdout",
          "output_type": "stream",
          "text": [
            "loss_sum=  0.06719793842770269 ACC=  0.9260420509037256 bacc=  0.8935068089084437 precision=  0.8872180451127819 specificity=  0.9624154347281383 sensitivity=  0.8245981830887491 recall=  0.8245981830887491 MCC=  0.8062120682559609 AUC=  0.9511109115005617 f1=  0.8547627671133647\n",
            "Epoch: 308 / 500, ############## the best accuracy in val  93.0837 at Epoch: 270  ##############\n",
            "Performance in Val: Loss: (0.0672); Accuracy (92.60)\n"
          ]
        },
        {
          "metadata": {
            "tags": null
          },
          "name": "stderr",
          "output_type": "stream",
          "text": [
            "Epoch 309: 100%|██████████| 3130/3130 [00:25<00:00, 121.09batch/s, train_loss=tensor(0.0431, device='cuda:0', grad_fn=<MseLossBackward0>)]\n"
          ]
        },
        {
          "metadata": {
            "tags": null
          },
          "name": "stdout",
          "output_type": "stream",
          "text": [
            "loss_sum=  0.06725729152128913 ACC=  0.9284396901512357 bacc=  0.8935666045247509 precision=  0.9002302379125096 specificity=  0.9674267100977199 sensitivity=  0.8197064989517819 recall=  0.8197064989517819 MCC=  0.8119715498625368 AUC=  0.9521276996232438 f1=  0.8580833942940747\n",
            "Epoch: 309 / 500, ############## the best accuracy in val  93.0837 at Epoch: 270  ##############\n",
            "Performance in Val: Loss: (0.0673); Accuracy (92.84)\n"
          ]
        },
        {
          "metadata": {
            "tags": null
          },
          "name": "stderr",
          "output_type": "stream",
          "text": [
            "Epoch 310: 100%|██████████| 3130/3130 [00:26<00:00, 120.35batch/s, train_loss=tensor(0.0312, device='cuda:0', grad_fn=<MseLossBackward0>)]\n"
          ]
        },
        {
          "metadata": {
            "tags": null
          },
          "name": "stdout",
          "output_type": "stream",
          "text": [
            "loss_sum=  0.06674918369321389 ACC=  0.9260420509037256 bacc=  0.8926103124062684 precision=  0.8895612708018155 specificity=  0.9634176898020547 sensitivity=  0.8218029350104822 recall=  0.8218029350104822 MCC=  0.8060179677582922 AUC=  0.9521723493513795 f1=  0.8543407192154014\n",
            "Epoch: 310 / 500, ############## the best accuracy in val  93.0837 at Epoch: 270  ##############\n",
            "Performance in Val: Loss: (0.0667); Accuracy (92.60)\n"
          ]
        },
        {
          "metadata": {
            "tags": null
          },
          "name": "stderr",
          "output_type": "stream",
          "text": [
            "Epoch 311: 100%|██████████| 3130/3130 [00:25<00:00, 121.36batch/s, train_loss=tensor(0.0115, device='cuda:0', grad_fn=<MseLossBackward0>)]\n"
          ]
        },
        {
          "metadata": {
            "tags": null
          },
          "name": "stdout",
          "output_type": "stream",
          "text": [
            "loss_sum=  0.06728785412776171 ACC=  0.9265953522685356 bacc=  0.8925379098078994 precision=  0.8927756653992396 specificity=  0.96467050864445 sensitivity=  0.8204053109713487 recall=  0.8204053109713487 MCC=  0.8073224959164892 AUC=  0.9514864945078207 f1=  0.8550619082301529\n",
            "Epoch: 311 / 500, ############## the best accuracy in val  93.0837 at Epoch: 270  ##############\n",
            "Performance in Val: Loss: (0.0673); Accuracy (92.66)\n"
          ]
        },
        {
          "metadata": {
            "tags": null
          },
          "name": "stderr",
          "output_type": "stream",
          "text": [
            "Epoch 312: 100%|██████████| 3130/3130 [00:25<00:00, 122.40batch/s, train_loss=tensor(0.0245, device='cuda:0', grad_fn=<MseLossBackward0>)]\n"
          ]
        },
        {
          "metadata": {
            "tags": null
          },
          "name": "stdout",
          "output_type": "stream",
          "text": [
            "loss_sum=  0.06682486479805239 ACC=  0.9277019549981557 bacc=  0.8955308423687749 precision=  0.890895410082769 specificity=  0.9636682535705337 sensitivity=  0.827393431167016 recall=  0.827393431167016 MCC=  0.8105646654726815 AUC=  0.9530730481809088 f1=  0.8579710144927535\n",
            "Epoch: 312 / 500, ############## the best accuracy in val  93.0837 at Epoch: 270  ##############\n",
            "Performance in Val: Loss: (0.0668); Accuracy (92.77)\n"
          ]
        },
        {
          "metadata": {
            "tags": null
          },
          "name": "stderr",
          "output_type": "stream",
          "text": [
            "Epoch 313: 100%|██████████| 3130/3130 [00:26<00:00, 120.14batch/s, train_loss=tensor(0.0430, device='cuda:0', grad_fn=<MseLossBackward0>)]\n"
          ]
        },
        {
          "metadata": {
            "tags": null
          },
          "name": "stdout",
          "output_type": "stream",
          "text": [
            "loss_sum=  0.06809490190538685 ACC=  0.9286241239395057 bacc=  0.8954848794133411 precision=  0.8960546282245827 specificity=  0.9656727637183663 sensitivity=  0.8252969951083159 recall=  0.8252969951083159 MCC=  0.8127541187243023 AUC=  0.9498276257848501 f1=  0.8592215351036742\n",
            "Epoch: 313 / 500, ############## the best accuracy in val  93.0837 at Epoch: 270  ##############\n",
            "Performance in Val: Loss: (0.0681); Accuracy (92.86)\n"
          ]
        },
        {
          "metadata": {
            "tags": null
          },
          "name": "stderr",
          "output_type": "stream",
          "text": [
            "Epoch 314: 100%|██████████| 3130/3130 [00:27<00:00, 115.24batch/s, train_loss=tensor(0.0147, device='cuda:0', grad_fn=<MseLossBackward0>)]\n"
          ]
        },
        {
          "metadata": {
            "tags": null
          },
          "name": "stdout",
          "output_type": "stream",
          "text": [
            "loss_sum=  0.0671371764971828 ACC=  0.9304684618222059 bacc=  0.8978583188834557 precision=  0.8998482549317147 specificity=  0.9669255825607617 sensitivity=  0.8287910552061496 recall=  0.8287910552061496 MCC=  0.8176317330283938 AUC=  0.9511044329125578 f1=  0.8628592215351036\n",
            "Epoch: 314 / 500, ############## the best accuracy in val  93.0837 at Epoch: 270  ##############\n",
            "Performance in Val: Loss: (0.0671); Accuracy (93.05)\n"
          ]
        },
        {
          "metadata": {
            "tags": null
          },
          "name": "stderr",
          "output_type": "stream",
          "text": [
            "Epoch 315: 100%|██████████| 3130/3130 [00:27<00:00, 114.19batch/s, train_loss=tensor(0.0386, device='cuda:0', grad_fn=<MseLossBackward0>)]\n"
          ]
        },
        {
          "metadata": {
            "tags": null
          },
          "name": "stdout",
          "output_type": "stream",
          "text": [
            "loss_sum=  0.06691306476772468 ACC=  0.9284396901512357 bacc=  0.8955837216546454 precision=  0.894776684330053 specificity=  0.9651716361814082 sensitivity=  0.8259958071278826 recall=  0.8259958071278826 MCC=  0.8123305660054032 AUC=  0.9508405617741245 f1=  0.8590116279069767\n",
            "Epoch: 315 / 500, ############## the best accuracy in val  93.0837 at Epoch: 270  ##############\n",
            "Performance in Val: Loss: (0.0669); Accuracy (92.84)\n"
          ]
        },
        {
          "metadata": {
            "tags": null
          },
          "name": "stderr",
          "output_type": "stream",
          "text": [
            "Epoch 316: 100%|██████████| 3130/3130 [00:27<00:00, 112.69batch/s, train_loss=tensor(0.0290, device='cuda:0', grad_fn=<MseLossBackward0>)]\n"
          ]
        },
        {
          "metadata": {
            "tags": null
          },
          "name": "stdout",
          "output_type": "stream",
          "text": [
            "loss_sum=  0.06721444087168943 ACC=  0.9289929915160458 bacc=  0.8955113190562763 precision=  0.898021308980213 specificity=  0.9664244550238036 sensitivity=  0.8245981830887491 recall=  0.8245981830887491 MCC=  0.8136482474965349 AUC=  0.9517946651804435 f1=  0.8597449908925319\n",
            "Epoch: 316 / 500, ############## the best accuracy in val  93.0837 at Epoch: 270  ##############\n",
            "Performance in Val: Loss: (0.0672); Accuracy (92.90)\n"
          ]
        },
        {
          "metadata": {
            "tags": null
          },
          "name": "stderr",
          "output_type": "stream",
          "text": [
            "Epoch 317: 100%|██████████| 3130/3130 [00:27<00:00, 114.62batch/s, train_loss=tensor(0.0341, device='cuda:0', grad_fn=<MseLossBackward0>)]\n"
          ]
        },
        {
          "metadata": {
            "tags": null
          },
          "name": "stdout",
          "output_type": "stream",
          "text": [
            "loss_sum=  0.06763471848575899 ACC=  0.9275175212098856 bacc=  0.893164319229097 precision=  0.8961832061068702 specificity=  0.9659233274868454 sensitivity=  0.8204053109713487 recall=  0.8204053109713487 MCC=  0.8096597929769498 AUC=  0.950080115620033 f1=  0.8566216709230208\n",
            "Epoch: 317 / 500, ############## the best accuracy in val  93.0837 at Epoch: 270  ##############\n",
            "Performance in Val: Loss: (0.0676); Accuracy (92.75)\n"
          ]
        },
        {
          "metadata": {
            "tags": null
          },
          "name": "stderr",
          "output_type": "stream",
          "text": [
            "Epoch 318: 100%|██████████| 3130/3130 [00:27<00:00, 115.32batch/s, train_loss=tensor(0.0157, device='cuda:0', grad_fn=<MseLossBackward0>)]\n"
          ]
        },
        {
          "metadata": {
            "tags": null
          },
          "name": "stdout",
          "output_type": "stream",
          "text": [
            "loss_sum=  0.06698676639038707 ACC=  0.9269642198450756 bacc=  0.8918919770742031 precision=  0.896551724137931 specificity=  0.9661738912553245 sensitivity=  0.8176100628930818 recall=  0.8176100628930818 MCC=  0.8080930277319359 AUC=  0.9516381284865091 f1=  0.8552631578947368\n",
            "Epoch: 318 / 500, ############## the best accuracy in val  93.0837 at Epoch: 270  ##############\n",
            "Performance in Val: Loss: (0.0670); Accuracy (92.70)\n"
          ]
        },
        {
          "metadata": {
            "tags": null
          },
          "name": "stderr",
          "output_type": "stream",
          "text": [
            "Epoch 319: 100%|██████████| 3130/3130 [00:28<00:00, 109.81batch/s, train_loss=tensor(0.0173, device='cuda:0', grad_fn=<MseLossBackward0>)]\n"
          ]
        },
        {
          "metadata": {
            "tags": null
          },
          "name": "stdout",
          "output_type": "stream",
          "text": [
            "loss_sum=  0.06741260713004785 ACC=  0.9269642198450756 bacc=  0.8932367218274662 precision=  0.8929384965831435 specificity=  0.96467050864445 sensitivity=  0.8218029350104822 recall=  0.8218029350104822 MCC=  0.8083422432310077 AUC=  0.9521945866669608 f1=  0.8558951965065501\n",
            "Epoch: 319 / 500, ############## the best accuracy in val  93.0837 at Epoch: 270  ##############\n",
            "Performance in Val: Loss: (0.0674); Accuracy (92.70)\n"
          ]
        },
        {
          "metadata": {
            "tags": null
          },
          "name": "stderr",
          "output_type": "stream",
          "text": [
            "Epoch 320: 100%|██████████| 3130/3130 [00:28<00:00, 111.05batch/s, train_loss=tensor(0.0174, device='cuda:0', grad_fn=<MseLossBackward0>)]\n"
          ]
        },
        {
          "metadata": {
            "tags": null
          },
          "name": "stdout",
          "output_type": "stream",
          "text": [
            "loss_sum=  0.06825330274613646 ACC=  0.9269642198450756 bacc=  0.8943573424551853 precision=  0.8899773926149209 specificity=  0.9634176898020547 sensitivity=  0.8252969951083159 recall=  0.8252969951083159 MCC=  0.808571060036638 AUC=  0.9503987921110408 f1=  0.8564176939811458\n",
            "Epoch: 320 / 500, ############## the best accuracy in val  93.0837 at Epoch: 270  ##############\n",
            "Performance in Val: Loss: (0.0683); Accuracy (92.70)\n"
          ]
        },
        {
          "metadata": {
            "tags": null
          },
          "name": "stderr",
          "output_type": "stream",
          "text": [
            "Epoch 321: 100%|██████████| 3130/3130 [00:27<00:00, 113.10batch/s, train_loss=tensor(0.0246, device='cuda:0', grad_fn=<MseLossBackward0>)]\n"
          ]
        },
        {
          "metadata": {
            "tags": null
          },
          "name": "stdout",
          "output_type": "stream",
          "text": [
            "loss_sum=  0.06697774354428888 ACC=  0.9282552563629657 bacc=  0.8950101915193182 precision=  0.8952959028831563 specificity=  0.9654221999498872 sensitivity=  0.8245981830887491 recall=  0.8245981830887491 MCC=  0.811778595863484 AUC=  0.9514996267808019 f1=  0.8584939978173881\n",
            "Epoch: 321 / 500, ############## the best accuracy in val  93.0837 at Epoch: 270  ##############\n",
            "Performance in Val: Loss: (0.0670); Accuracy (92.83)\n"
          ]
        },
        {
          "metadata": {
            "tags": null
          },
          "name": "stderr",
          "output_type": "stream",
          "text": [
            "Epoch 322: 100%|██████████| 3130/3130 [00:27<00:00, 114.68batch/s, train_loss=tensor(0.0466, device='cuda:0', grad_fn=<MseLossBackward0>)]\n"
          ]
        },
        {
          "metadata": {
            "tags": null
          },
          "name": "stdout",
          "output_type": "stream",
          "text": [
            "loss_sum=  0.06686302313888802 ACC=  0.9302840280339358 bacc=  0.8961641681204093 precision=  0.903448275862069 specificity=  0.9684289651716362 sensitivity=  0.8238993710691824 recall=  0.8238993710691824 MCC=  0.8169024139902422 AUC=  0.9520487308883843 f1=  0.861842105263158\n",
            "Epoch: 322 / 500, ############## the best accuracy in val  93.0837 at Epoch: 270  ##############\n",
            "Performance in Val: Loss: (0.0669); Accuracy (93.03)\n"
          ]
        },
        {
          "metadata": {
            "tags": null
          },
          "name": "stderr",
          "output_type": "stream",
          "text": [
            "Epoch 323: 100%|██████████| 3130/3130 [00:28<00:00, 111.29batch/s, train_loss=tensor(0.0214, device='cuda:0', grad_fn=<MseLossBackward0>)]\n"
          ]
        },
        {
          "metadata": {
            "tags": null
          },
          "name": "stdout",
          "output_type": "stream",
          "text": [
            "loss_sum=  0.06649009761974699 ACC=  0.9288085577277757 bacc=  0.897627278427475 precision=  0.8913857677902621 specificity=  0.9636682535705337 sensitivity=  0.8315863032844165 recall=  0.8315863032844165 MCC=  0.8136242709228981 AUC=  0.952943826614775 f1=  0.8604483007953724\n",
            "Epoch: 323 / 500, ############## the best accuracy in val  93.0837 at Epoch: 270  ##############\n",
            "Performance in Val: Loss: (0.0665); Accuracy (92.88)\n"
          ]
        },
        {
          "metadata": {
            "tags": null
          },
          "name": "stderr",
          "output_type": "stream",
          "text": [
            "Epoch 324: 100%|██████████| 3130/3130 [00:28<00:00, 111.57batch/s, train_loss=tensor(0.0101, device='cuda:0', grad_fn=<MseLossBackward0>)]\n"
          ]
        },
        {
          "metadata": {
            "tags": null
          },
          "name": "stdout",
          "output_type": "stream",
          "text": [
            "loss_sum=  0.0663597019063721 ACC=  0.9299151604573958 bacc=  0.8954653561008425 precision=  0.9033000767459708 specificity=  0.9684289651716362 sensitivity=  0.822501747030049 recall=  0.822501747030049 MCC=  0.8158888849268388 AUC=  0.950461476827404 f1=  0.8610095098756401\n",
            "Epoch: 324 / 500, ############## the best accuracy in val  93.0837 at Epoch: 270  ##############\n",
            "Performance in Val: Loss: (0.0664); Accuracy (92.99)\n"
          ]
        },
        {
          "metadata": {
            "tags": null
          },
          "name": "stderr",
          "output_type": "stream",
          "text": [
            "Epoch 325: 100%|██████████| 3130/3130 [00:27<00:00, 115.25batch/s, train_loss=tensor(0.0173, device='cuda:0', grad_fn=<MseLossBackward0>)]\n"
          ]
        },
        {
          "metadata": {
            "tags": null
          },
          "name": "stdout",
          "output_type": "stream",
          "text": [
            "loss_sum=  0.0667458365061444 ACC=  0.9288085577277757 bacc=  0.8949377889209491 precision=  0.8985507246376812 specificity=  0.9666750187922827 sensitivity=  0.8232005590496156 recall=  0.8232005590496156 MCC=  0.8131006020296733 AUC=  0.9505080526222434 f1=  0.8592268417213712\n",
            "Epoch: 325 / 500, ############## the best accuracy in val  93.0837 at Epoch: 270  ##############\n",
            "Performance in Val: Loss: (0.0667); Accuracy (92.88)\n"
          ]
        },
        {
          "metadata": {
            "tags": null
          },
          "name": "stderr",
          "output_type": "stream",
          "text": [
            "Epoch 326: 100%|██████████| 3130/3130 [00:27<00:00, 115.59batch/s, train_loss=tensor(0.0261, device='cuda:0', grad_fn=<MseLossBackward0>)]\n"
          ]
        },
        {
          "metadata": {
            "tags": null
          },
          "name": "stdout",
          "output_type": "stream",
          "text": [
            "loss_sum=  0.0667230808890389 ACC=  0.9300995942456658 bacc=  0.8949182656084507 precision=  0.9058641975308642 specificity=  0.9694312202455525 sensitivity=  0.8204053109713487 recall=  0.8204053109713487 MCC=  0.8162642665255576 AUC=  0.9514246852763233 f1=  0.861019435276861\n",
            "Epoch: 326 / 500, ############## the best accuracy in val  93.0837 at Epoch: 270  ##############\n",
            "Performance in Val: Loss: (0.0667); Accuracy (93.01)\n"
          ]
        },
        {
          "metadata": {
            "tags": null
          },
          "name": "stderr",
          "output_type": "stream",
          "text": [
            "Epoch 327: 100%|██████████| 3130/3130 [00:27<00:00, 112.95batch/s, train_loss=tensor(0.1062, device='cuda:0', grad_fn=<MseLossBackward0>)]\n"
          ]
        },
        {
          "metadata": {
            "tags": null
          },
          "name": "stdout",
          "output_type": "stream",
          "text": [
            "loss_sum=  0.06627840605484744 ACC=  0.9271486536333456 bacc=  0.8926896313350741 precision=  0.8954198473282443 specificity=  0.9656727637183663 sensitivity=  0.8197064989517819 recall=  0.8197064989517819 MCC=  0.8086822482629309 AUC=  0.9515640624668957 f1=  0.85589201021525\n",
            "Epoch: 327 / 500, ############## the best accuracy in val  93.0837 at Epoch: 270  ##############\n",
            "Performance in Val: Loss: (0.0663); Accuracy (92.71)\n"
          ]
        },
        {
          "metadata": {
            "tags": null
          },
          "name": "stderr",
          "output_type": "stream",
          "text": [
            "Epoch 328: 100%|██████████| 3130/3130 [00:27<00:00, 113.21batch/s, train_loss=tensor(0.0125, device='cuda:0', grad_fn=<MseLossBackward0>)]\n"
          ]
        },
        {
          "metadata": {
            "tags": null
          },
          "name": "stdout",
          "output_type": "stream",
          "text": [
            "loss_sum=  0.06601784496628584 ACC=  0.9289929915160458 bacc=  0.8964078155584516 precision=  0.8956127080181543 specificity=  0.9654221999498872 sensitivity=  0.827393431167016 recall=  0.827393431167016 MCC=  0.8138141352978526 AUC=  0.9527422899987585 f1=  0.860152560842717\n",
            "Epoch: 328 / 500, ############## the best accuracy in val  93.0837 at Epoch: 270  ##############\n",
            "Performance in Val: Loss: (0.0660); Accuracy (92.90)\n"
          ]
        },
        {
          "metadata": {
            "tags": null
          },
          "name": "stderr",
          "output_type": "stream",
          "text": [
            "Epoch 329: 100%|██████████| 3130/3130 [00:26<00:00, 118.13batch/s, train_loss=tensor(0.0442, device='cuda:0', grad_fn=<MseLossBackward0>)]\n"
          ]
        },
        {
          "metadata": {
            "tags": null
          },
          "name": "stdout",
          "output_type": "stream",
          "text": [
            "loss_sum=  0.06804504686867636 ACC=  0.9251198819623755 bacc=  0.8913115306084392 precision=  0.8879636638909917 specificity=  0.9629165622650965 sensitivity=  0.8197064989517819 recall=  0.8197064989517819 MCC=  0.8035576282410994 AUC=  0.9505835194176414 f1=  0.852470930232558\n",
            "Epoch: 329 / 500, ############## the best accuracy in val  93.0837 at Epoch: 270  ##############\n",
            "Performance in Val: Loss: (0.0680); Accuracy (92.51)\n"
          ]
        },
        {
          "metadata": {
            "tags": null
          },
          "name": "stderr",
          "output_type": "stream",
          "text": [
            "Epoch 330: 100%|██████████| 3130/3130 [00:26<00:00, 116.29batch/s, train_loss=tensor(0.0098, device='cuda:0', grad_fn=<MseLossBackward0>)]\n"
          ]
        },
        {
          "metadata": {
            "tags": null
          },
          "name": "stdout",
          "output_type": "stream",
          "text": [
            "loss_sum=  0.06733526527238763 ACC=  0.9282552563629657 bacc=  0.8959066880214934 precision=  0.8929110105580694 specificity=  0.9644199448759709 sensitivity=  0.827393431167016 recall=  0.827393431167016 MCC=  0.8119546601170832 AUC=  0.9512436350061573 f1=  0.8589046064562931\n",
            "Epoch: 330 / 500, ############## the best accuracy in val  93.0837 at Epoch: 270  ##############\n",
            "Performance in Val: Loss: (0.0673); Accuracy (92.83)\n"
          ]
        },
        {
          "metadata": {
            "tags": null
          },
          "name": "stderr",
          "output_type": "stream",
          "text": [
            "Epoch 331: 100%|██████████| 3130/3130 [00:27<00:00, 111.99batch/s, train_loss=tensor(0.0136, device='cuda:0', grad_fn=<MseLossBackward0>)]\n"
          ]
        },
        {
          "metadata": {
            "tags": null
          },
          "name": "stdout",
          "output_type": "stream",
          "text": [
            "loss_sum=  0.06688783402007985 ACC=  0.9273330874216157 bacc=  0.8966250233535589 precision=  0.8860759493670886 specificity=  0.9616637434227011 sensitivity=  0.8315863032844165 recall=  0.8315863032844165 MCC=  0.809945744825503 AUC=  0.9516277977650973 f1=  0.8579668348954579\n",
            "Epoch: 331 / 500, ############## the best accuracy in val  93.0837 at Epoch: 270  ##############\n",
            "Performance in Val: Loss: (0.0669); Accuracy (92.73)\n"
          ]
        },
        {
          "metadata": {
            "tags": null
          },
          "name": "stderr",
          "output_type": "stream",
          "text": [
            "Epoch 332: 100%|██████████| 3130/3130 [00:27<00:00, 113.83batch/s, train_loss=tensor(0.0319, device='cuda:0', grad_fn=<MseLossBackward0>)]\n"
          ]
        },
        {
          "metadata": {
            "tags": null
          },
          "name": "stdout",
          "output_type": "stream",
          "text": [
            "loss_sum=  0.06771836090272507 ACC=  0.9286241239395057 bacc=  0.8948125070367097 precision=  0.8978658536585366 specificity=  0.9664244550238036 sensitivity=  0.8232005590496156 recall=  0.8232005590496156 MCC=  0.8126316816923572 AUC=  0.9484464608611864 f1=  0.8589135982500913\n",
            "Epoch: 332 / 500, ############## the best accuracy in val  93.0837 at Epoch: 270  ##############\n",
            "Performance in Val: Loss: (0.0677); Accuracy (92.86)\n"
          ]
        },
        {
          "metadata": {
            "tags": null
          },
          "name": "stderr",
          "output_type": "stream",
          "text": [
            "Epoch 333: 100%|██████████| 3130/3130 [00:25<00:00, 121.21batch/s, train_loss=tensor(0.0158, device='cuda:0', grad_fn=<MseLossBackward0>)]\n"
          ]
        },
        {
          "metadata": {
            "tags": null
          },
          "name": "stdout",
          "output_type": "stream",
          "text": [
            "loss_sum=  0.066878270425842 ACC=  0.9275175212098856 bacc=  0.8960779328611668 precision=  0.8884730538922155 specificity=  0.9626659984966174 sensitivity=  0.8294898672257163 recall=  0.8294898672257163 MCC=  0.8102497635286806 AUC=  0.9517943149864974 f1=  0.8579689194073005\n",
            "Epoch: 333 / 500, ############## the best accuracy in val  93.0837 at Epoch: 270  ##############\n",
            "Performance in Val: Loss: (0.0669); Accuracy (92.75)\n"
          ]
        },
        {
          "metadata": {
            "tags": null
          },
          "name": "stderr",
          "output_type": "stream",
          "text": [
            "Epoch 334: 100%|██████████| 3130/3130 [00:26<00:00, 120.08batch/s, train_loss=tensor(0.0178, device='cuda:0', grad_fn=<MseLossBackward0>)]\n"
          ]
        },
        {
          "metadata": {
            "tags": null
          },
          "name": "stdout",
          "output_type": "stream",
          "text": [
            "loss_sum=  0.06706010231989983 ACC=  0.9289929915160458 bacc=  0.8959595673073639 precision=  0.8968133535660091 specificity=  0.9659233274868454 sensitivity=  0.8259958071278826 recall=  0.8259958071278826 MCC=  0.8137296415851206 AUC=  0.9502103877680057 f1=  0.85994907238996\n",
            "Epoch: 334 / 500, ############## the best accuracy in val  93.0837 at Epoch: 270  ##############\n",
            "Performance in Val: Loss: (0.0671); Accuracy (92.90)\n"
          ]
        },
        {
          "metadata": {
            "tags": null
          },
          "name": "stderr",
          "output_type": "stream",
          "text": [
            "Epoch 335: 100%|██████████| 3130/3130 [00:27<00:00, 113.28batch/s, train_loss=tensor(0.0670, device='cuda:0', grad_fn=<MseLossBackward0>)]\n"
          ]
        },
        {
          "metadata": {
            "tags": null
          },
          "name": "stdout",
          "output_type": "stream",
          "text": [
            "loss_sum=  0.06672843694370954 ACC=  0.9280708225746956 bacc=  0.895781406137254 precision=  0.8922381311228335 specificity=  0.9641693811074918 sensitivity=  0.827393431167016 recall=  0.827393431167016 MCC=  0.8114908907510892 AUC=  0.9521404817022786 f1=  0.8585931834662799\n",
            "Epoch: 335 / 500, ############## the best accuracy in val  93.0837 at Epoch: 270  ##############\n",
            "Performance in Val: Loss: (0.0667); Accuracy (92.81)\n"
          ]
        },
        {
          "metadata": {
            "tags": null
          },
          "name": "stderr",
          "output_type": "stream",
          "text": [
            "Epoch 336: 100%|██████████| 3130/3130 [00:27<00:00, 113.42batch/s, train_loss=tensor(0.0387, device='cuda:0', grad_fn=<MseLossBackward0>)]\n"
          ]
        },
        {
          "metadata": {
            "tags": null
          },
          "name": "stdout",
          "output_type": "stream",
          "text": [
            "loss_sum=  0.06774538300950685 ACC=  0.9264109184802656 bacc=  0.8919643796725722 precision=  0.8932926829268293 specificity=  0.9649210724129291 sensitivity=  0.8190076869322153 recall=  0.8190076869322153 MCC=  0.8067694597810898 AUC=  0.9499981702366314 f1=  0.8545388261028072\n",
            "Epoch: 336 / 500, ############## the best accuracy in val  93.0837 at Epoch: 270  ##############\n",
            "Performance in Val: Loss: (0.0677); Accuracy (92.64)\n"
          ]
        },
        {
          "metadata": {
            "tags": null
          },
          "name": "stderr",
          "output_type": "stream",
          "text": [
            "Epoch 337: 100%|██████████| 3130/3130 [00:26<00:00, 116.77batch/s, train_loss=tensor(0.0225, device='cuda:0', grad_fn=<MseLossBackward0>)]\n"
          ]
        },
        {
          "metadata": {
            "tags": null
          },
          "name": "stdout",
          "output_type": "stream",
          "text": [
            "loss_sum=  0.06704259941706044 ACC=  0.9286241239395057 bacc=  0.8932436381579028 precision=  0.9021571648690293 specificity=  0.9681784014031571 sensitivity=  0.8183088749126485 recall=  0.8183088749126485 MCC=  0.812373423711996 AUC=  0.9525195666489994 f1=  0.8581898131183583\n",
            "Epoch: 337 / 500, ############## the best accuracy in val  93.0837 at Epoch: 270  ##############\n",
            "Performance in Val: Loss: (0.0670); Accuracy (92.86)\n"
          ]
        },
        {
          "metadata": {
            "tags": null
          },
          "name": "stderr",
          "output_type": "stream",
          "text": [
            "Epoch 338: 100%|██████████| 3130/3130 [00:26<00:00, 117.23batch/s, train_loss=tensor(0.0333, device='cuda:0', grad_fn=<MseLossBackward0>)]\n"
          ]
        },
        {
          "metadata": {
            "tags": null
          },
          "name": "stdout",
          "output_type": "stream",
          "text": [
            "loss_sum=  0.06767093804651174 ACC=  0.9297307266691258 bacc=  0.8964606948443221 precision=  0.8995433789954338 specificity=  0.9669255825607617 sensitivity=  0.8259958071278826 recall=  0.8259958071278826 MCC=  0.8156013090372318 AUC=  0.9518647039696759 f1=  0.8612021857923498\n",
            "Epoch: 338 / 500, ############## the best accuracy in val  93.0837 at Epoch: 270  ##############\n",
            "Performance in Val: Loss: (0.0677); Accuracy (92.97)\n"
          ]
        },
        {
          "metadata": {
            "tags": null
          },
          "name": "stderr",
          "output_type": "stream",
          "text": [
            "Epoch 339: 100%|██████████| 3130/3130 [00:27<00:00, 113.78batch/s, train_loss=tensor(0.0374, device='cuda:0', grad_fn=<MseLossBackward0>)]\n"
          ]
        },
        {
          "metadata": {
            "tags": null
          },
          "name": "stdout",
          "output_type": "stream",
          "text": [
            "loss_sum=  0.06671108312322414 ACC=  0.9249354481741054 bacc=  0.8918586211008313 precision=  0.8855421686746988 specificity=  0.9619143071911802 sensitivity=  0.8218029350104822 recall=  0.8218029350104822 MCC=  0.8032433258375646 AUC=  0.9519501512925396 f1=  0.8524827836172526\n",
            "Epoch: 339 / 500, ############## the best accuracy in val  93.0837 at Epoch: 270  ##############\n",
            "Performance in Val: Loss: (0.0667); Accuracy (92.49)\n"
          ]
        },
        {
          "metadata": {
            "tags": null
          },
          "name": "stderr",
          "output_type": "stream",
          "text": [
            "Epoch 340: 100%|██████████| 3130/3130 [00:27<00:00, 114.01batch/s, train_loss=tensor(0.0234, device='cuda:0', grad_fn=<MseLossBackward0>)]\n"
          ]
        },
        {
          "metadata": {
            "tags": null
          },
          "name": "stdout",
          "output_type": "stream",
          "text": [
            "loss_sum=  0.0669719938705277 ACC=  0.9256731833271855 bacc=  0.8930321210144208 precision=  0.8864661654135338 specificity=  0.9621648709596592 sensitivity=  0.8238993710691824 recall=  0.8238993710691824 MCC=  0.8052395333463926 AUC=  0.9519046260795385 f1=  0.8540383918869975\n",
            "Epoch: 340 / 500, ############## the best accuracy in val  93.0837 at Epoch: 270  ##############\n",
            "Performance in Val: Loss: (0.0670); Accuracy (92.57)\n"
          ]
        },
        {
          "metadata": {
            "tags": null
          },
          "name": "stderr",
          "output_type": "stream",
          "text": [
            "Epoch 341: 100%|██████████| 3130/3130 [00:26<00:00, 118.45batch/s, train_loss=tensor(0.0190, device='cuda:0', grad_fn=<MseLossBackward0>)]\n"
          ]
        },
        {
          "metadata": {
            "tags": null
          },
          "name": "stdout",
          "output_type": "stream",
          "text": [
            "loss_sum=  0.06712136278272357 ACC=  0.9277019549981557 bacc=  0.8937378493644242 precision=  0.8956587966488957 specificity=  0.9656727637183663 sensitivity=  0.8218029350104822 recall=  0.8218029350104822 MCC=  0.8102096425777595 AUC=  0.9514325646401119 f1=  0.8571428571428572\n",
            "Epoch: 341 / 500, ############## the best accuracy in val  93.0837 at Epoch: 270  ##############\n",
            "Performance in Val: Loss: (0.0671); Accuracy (92.77)\n"
          ]
        },
        {
          "metadata": {
            "tags": null
          },
          "name": "stderr",
          "output_type": "stream",
          "text": [
            "Epoch 342: 100%|██████████| 3130/3130 [00:24<00:00, 126.94batch/s, train_loss=tensor(0.0520, device='cuda:0', grad_fn=<MseLossBackward0>)]\n"
          ]
        },
        {
          "metadata": {
            "tags": null
          },
          "name": "stdout",
          "output_type": "stream",
          "text": [
            "loss_sum=  0.06700133916765319 ACC=  0.9282552563629657 bacc=  0.8950101915193182 precision=  0.8952959028831563 specificity=  0.9654221999498872 sensitivity=  0.8245981830887491 recall=  0.8245981830887491 MCC=  0.811778595863484 AUC=  0.9525265705279227 f1=  0.8584939978173881\n",
            "Epoch: 342 / 500, ############## the best accuracy in val  93.0837 at Epoch: 270  ##############\n",
            "Performance in Val: Loss: (0.0670); Accuracy (92.83)\n"
          ]
        },
        {
          "metadata": {
            "tags": null
          },
          "name": "stderr",
          "output_type": "stream",
          "text": [
            "Epoch 343: 100%|██████████| 3130/3130 [00:25<00:00, 124.93batch/s, train_loss=tensor(0.0243, device='cuda:0', grad_fn=<MseLossBackward0>)]\n"
          ]
        },
        {
          "metadata": {
            "tags": null
          },
          "name": "stdout",
          "output_type": "stream",
          "text": [
            "loss_sum=  0.06603651764324611 ACC=  0.9273330874216157 bacc=  0.8952802786002958 precision=  0.8895567242674681 specificity=  0.9631671260335756 sensitivity=  0.827393431167016 recall=  0.827393431167016 MCC=  0.8096401859158584 AUC=  0.953009137785734 f1=  0.8573497465604635\n",
            "Epoch: 343 / 500, ############## the best accuracy in val  93.0837 at Epoch: 270  ##############\n",
            "Performance in Val: Loss: (0.0660); Accuracy (92.73)\n"
          ]
        },
        {
          "metadata": {
            "tags": null
          },
          "name": "stderr",
          "output_type": "stream",
          "text": [
            "Epoch 344: 100%|██████████| 3130/3130 [00:25<00:00, 123.98batch/s, train_loss=tensor(0.0433, device='cuda:0', grad_fn=<MseLossBackward0>)]\n"
          ]
        },
        {
          "metadata": {
            "tags": null
          },
          "name": "stdout",
          "output_type": "stream",
          "text": [
            "loss_sum=  0.06679793378162392 ACC=  0.9277019549981557 bacc=  0.8944102217410558 precision=  0.8938589840788476 specificity=  0.9649210724129291 sensitivity=  0.8238993710691824 recall=  0.8238993710691824 MCC=  0.8103370237786225 AUC=  0.9515213388054639 f1=  0.8574545454545455\n",
            "Epoch: 344 / 500, ############## the best accuracy in val  93.0837 at Epoch: 270  ##############\n",
            "Performance in Val: Loss: (0.0668); Accuracy (92.77)\n"
          ]
        },
        {
          "metadata": {
            "tags": null
          },
          "name": "stderr",
          "output_type": "stream",
          "text": [
            "Epoch 345: 100%|██████████| 3130/3130 [00:24<00:00, 125.45batch/s, train_loss=tensor(0.0309, device='cuda:0', grad_fn=<MseLossBackward0>)]\n"
          ]
        },
        {
          "metadata": {
            "tags": null
          },
          "name": "stdout",
          "output_type": "stream",
          "text": [
            "loss_sum=  0.06627525627794387 ACC=  0.9273330874216157 bacc=  0.8941596579725767 precision=  0.8925056775170326 specificity=  0.9644199448759709 sensitivity=  0.8238993710691824 recall=  0.8238993710691824 MCC=  0.8094062534173019 AUC=  0.9524777184724331 f1=  0.8568313953488372\n",
            "Epoch: 345 / 500, ############## the best accuracy in val  93.0837 at Epoch: 270  ##############\n",
            "Performance in Val: Loss: (0.0663); Accuracy (92.73)\n"
          ]
        },
        {
          "metadata": {
            "tags": null
          },
          "name": "stderr",
          "output_type": "stream",
          "text": [
            "Epoch 346: 100%|██████████| 3130/3130 [00:25<00:00, 124.85batch/s, train_loss=tensor(0.0196, device='cuda:0', grad_fn=<MseLossBackward0>)]\n"
          ]
        },
        {
          "metadata": {
            "tags": null
          },
          "name": "stdout",
          "output_type": "stream",
          "text": [
            "loss_sum=  0.06628897697541171 ACC=  0.9282552563629657 bacc=  0.8945619432682306 precision=  0.8964992389649924 specificity=  0.9659233274868454 sensitivity=  0.8232005590496156 recall=  0.8232005590496156 MCC=  0.811695185955838 AUC=  0.9522777577291743 f1=  0.8582877959927141\n",
            "Epoch: 346 / 500, ############## the best accuracy in val  93.0837 at Epoch: 270  ##############\n",
            "Performance in Val: Loss: (0.0663); Accuracy (92.83)\n"
          ]
        },
        {
          "metadata": {
            "tags": null
          },
          "name": "stderr",
          "output_type": "stream",
          "text": [
            "Epoch 347: 100%|██████████| 3130/3130 [00:25<00:00, 123.92batch/s, train_loss=tensor(0.0307, device='cuda:0', grad_fn=<MseLossBackward0>)]\n"
          ]
        },
        {
          "metadata": {
            "tags": null
          },
          "name": "stdout",
          "output_type": "stream",
          "text": [
            "loss_sum=  0.06603968552530778 ACC=  0.9277019549981557 bacc=  0.8948584699921434 precision=  0.8926681783824642 specificity=  0.9644199448759709 sensitivity=  0.8252969951083159 recall=  0.8252969951083159 MCC=  0.8104257909819735 AUC=  0.9524369208777052 f1=  0.8576615831517793\n",
            "Epoch: 347 / 500, ############## the best accuracy in val  93.0837 at Epoch: 270  ##############\n",
            "Performance in Val: Loss: (0.0660); Accuracy (92.77)\n"
          ]
        },
        {
          "metadata": {
            "tags": null
          },
          "name": "stderr",
          "output_type": "stream",
          "text": [
            "Epoch 348: 100%|██████████| 3130/3130 [00:24<00:00, 125.28batch/s, train_loss=tensor(0.0266, device='cuda:0', grad_fn=<MseLossBackward0>)]\n"
          ]
        },
        {
          "metadata": {
            "tags": null
          },
          "name": "stdout",
          "output_type": "stream",
          "text": [
            "loss_sum=  0.06680234044564992 ACC=  0.9282552563629657 bacc=  0.8961308121470373 precision=  0.8923192771084337 specificity=  0.9641693811074918 sensitivity=  0.8280922431865828 recall=  0.8280922431865828 MCC=  0.8120005886864152 AUC=  0.9517057159181183 f1=  0.859006886553099\n",
            "Epoch: 348 / 500, ############## the best accuracy in val  93.0837 at Epoch: 270  ##############\n",
            "Performance in Val: Loss: (0.0668); Accuracy (92.83)\n"
          ]
        },
        {
          "metadata": {
            "tags": null
          },
          "name": "stderr",
          "output_type": "stream",
          "text": [
            "Epoch 349: 100%|██████████| 3130/3130 [00:24<00:00, 125.36batch/s, train_loss=tensor(0.0414, device='cuda:0', grad_fn=<MseLossBackward0>)]\n"
          ]
        },
        {
          "metadata": {
            "tags": null
          },
          "name": "stdout",
          "output_type": "stream",
          "text": [
            "loss_sum=  0.06707661697684972 ACC=  0.9275175212098856 bacc=  0.8954055604845353 precision=  0.8902255639097745 specificity=  0.9634176898020547 sensitivity=  0.827393431167016 recall=  0.827393431167016 MCC=  0.8101022078942339 AUC=  0.9513868643301376 f1=  0.8576602680188337\n",
            "Epoch: 349 / 500, ############## the best accuracy in val  93.0837 at Epoch: 270  ##############\n",
            "Performance in Val: Loss: (0.0671); Accuracy (92.75)\n"
          ]
        },
        {
          "metadata": {
            "tags": null
          },
          "name": "stderr",
          "output_type": "stream",
          "text": [
            "Epoch 350: 100%|██████████| 3130/3130 [00:24<00:00, 125.92batch/s, train_loss=tensor(0.0457, device='cuda:0', grad_fn=<MseLossBackward0>)]\n"
          ]
        },
        {
          "metadata": {
            "tags": null
          },
          "name": "stdout",
          "output_type": "stream",
          "text": [
            "loss_sum=  0.06727290950965543 ACC=  0.9265953522685356 bacc=  0.8941067786867062 precision=  0.8886380737396539 specificity=  0.9629165622650965 sensitivity=  0.8252969951083159 recall=  0.8252969951083159 MCC=  0.8076463198509977 AUC=  0.9509359896244538 f1=  0.8557971014492755\n",
            "Epoch: 350 / 500, ############## the best accuracy in val  93.0837 at Epoch: 270  ##############\n",
            "Performance in Val: Loss: (0.0673); Accuracy (92.66)\n"
          ]
        },
        {
          "metadata": {
            "tags": null
          },
          "name": "stderr",
          "output_type": "stream",
          "text": [
            "Epoch 351: 100%|██████████| 3130/3130 [00:25<00:00, 123.67batch/s, train_loss=tensor(0.0522, device='cuda:0', grad_fn=<MseLossBackward0>)]\n"
          ]
        },
        {
          "metadata": {
            "tags": null
          },
          "name": "stdout",
          "output_type": "stream",
          "text": [
            "loss_sum=  0.06783287622347738 ACC=  0.9256731833271855 bacc=  0.8916873762611578 precision=  0.8899848254931715 specificity=  0.9636682535705337 sensitivity=  0.8197064989517819 recall=  0.8197064989517819 MCC=  0.8049499358377559 AUC=  0.9509421180185116 f1=  0.8534012368133866\n",
            "Epoch: 351 / 500, ############## the best accuracy in val  93.0837 at Epoch: 270  ##############\n",
            "Performance in Val: Loss: (0.0678); Accuracy (92.57)\n"
          ]
        },
        {
          "metadata": {
            "tags": null
          },
          "name": "stderr",
          "output_type": "stream",
          "text": [
            "Epoch 352: 100%|██████████| 3130/3130 [00:24<00:00, 125.90batch/s, train_loss=tensor(0.0101, device='cuda:0', grad_fn=<MseLossBackward0>)]\n"
          ]
        },
        {
          "metadata": {
            "tags": null
          },
          "name": "stdout",
          "output_type": "stream",
          "text": [
            "loss_sum=  0.06634262403346884 ACC=  0.9299151604573958 bacc=  0.8990513421095438 precision=  0.8936329588014982 specificity=  0.9644199448759709 sensitivity=  0.8336827393431167 recall=  0.8336827393431167 MCC=  0.8165381876432326 AUC=  0.9527030682767884 f1=  0.8626174981923355\n",
            "Epoch: 352 / 500, ############## the best accuracy in val  93.0837 at Epoch: 270  ##############\n",
            "Performance in Val: Loss: (0.0663); Accuracy (92.99)\n"
          ]
        },
        {
          "metadata": {
            "tags": null
          },
          "name": "stderr",
          "output_type": "stream",
          "text": [
            "Epoch 353: 100%|██████████| 3130/3130 [00:24<00:00, 125.60batch/s, train_loss=tensor(0.0969, device='cuda:0', grad_fn=<MseLossBackward0>)]\n"
          ]
        },
        {
          "metadata": {
            "tags": null
          },
          "name": "stdout",
          "output_type": "stream",
          "text": [
            "loss_sum=  0.06683647749975741 ACC=  0.9278863887864257 bacc=  0.894983751876383 precision=  0.8933434190620272 specificity=  0.96467050864445 sensitivity=  0.8252969951083159 recall=  0.8252969951083159 MCC=  0.8108905724705174 AUC=  0.9502210686833635 f1=  0.8579731202324736\n",
            "Epoch: 353 / 500, ############## the best accuracy in val  93.0837 at Epoch: 270  ##############\n",
            "Performance in Val: Loss: (0.0668); Accuracy (92.79)\n"
          ]
        },
        {
          "metadata": {
            "tags": null
          },
          "name": "stderr",
          "output_type": "stream",
          "text": [
            "Epoch 354: 100%|██████████| 3130/3130 [00:24<00:00, 125.74batch/s, train_loss=tensor(0.0124, device='cuda:0', grad_fn=<MseLossBackward0>)]\n"
          ]
        },
        {
          "metadata": {
            "tags": null
          },
          "name": "stdout",
          "output_type": "stream",
          "text": [
            "loss_sum=  0.06745493194846584 ACC=  0.9271486536333456 bacc=  0.8929137554606179 precision=  0.8948170731707317 specificity=  0.9654221999498872 sensitivity=  0.8204053109713487 recall=  0.8204053109713487 MCC=  0.8087235337515123 AUC=  0.9508253283374666 f1=  0.8559970834852352\n",
            "Epoch: 354 / 500, ############## the best accuracy in val  93.0837 at Epoch: 270  ##############\n",
            "Performance in Val: Loss: (0.0675); Accuracy (92.71)\n"
          ]
        },
        {
          "metadata": {
            "tags": null
          },
          "name": "stderr",
          "output_type": "stream",
          "text": [
            "Epoch 355: 100%|██████████| 3130/3130 [00:25<00:00, 122.46batch/s, train_loss=tensor(0.0247, device='cuda:0', grad_fn=<MseLossBackward0>)]\n"
          ]
        },
        {
          "metadata": {
            "tags": null
          },
          "name": "stdout",
          "output_type": "stream",
          "text": [
            "loss_sum=  0.06761693170948015 ACC=  0.9280708225746956 bacc=  0.8933160407562718 precision=  0.8988505747126436 specificity=  0.9669255825607617 sensitivity=  0.8197064989517819 recall=  0.8197064989517819 MCC=  0.811029489818038 AUC=  0.9520487308883842 f1=  0.8574561403508772\n",
            "Epoch: 355 / 500, ############## the best accuracy in val  93.0837 at Epoch: 270  ##############\n",
            "Performance in Val: Loss: (0.0676); Accuracy (92.81)\n"
          ]
        },
        {
          "metadata": {
            "tags": null
          },
          "name": "stderr",
          "output_type": "stream",
          "text": [
            "Epoch 356: 100%|██████████| 3130/3130 [00:25<00:00, 122.51batch/s, train_loss=tensor(0.0220, device='cuda:0', grad_fn=<MseLossBackward0>)]\n"
          ]
        },
        {
          "metadata": {
            "tags": null
          },
          "name": "stdout",
          "output_type": "stream",
          "text": [
            "loss_sum=  0.06660301792009522 ACC=  0.9293618590925857 bacc=  0.8955377586992116 precision=  0.9 specificity=  0.9671761463292408 sensitivity=  0.8238993710691824 recall=  0.8238993710691824 MCC=  0.8145475165470444 AUC=  0.9520536336036306 f1=  0.8602699744618754\n",
            "Epoch: 356 / 500, ############## the best accuracy in val  93.0837 at Epoch: 270  ##############\n",
            "Performance in Val: Loss: (0.0666); Accuracy (92.94)\n"
          ]
        },
        {
          "metadata": {
            "tags": null
          },
          "name": "stderr",
          "output_type": "stream",
          "text": [
            "Epoch 357: 100%|██████████| 3130/3130 [00:25<00:00, 121.29batch/s, train_loss=tensor(0.0169, device='cuda:0', grad_fn=<MseLossBackward0>)]\n"
          ]
        },
        {
          "metadata": {
            "tags": null
          },
          "name": "stdout",
          "output_type": "stream",
          "text": [
            "loss_sum=  0.06674229405864326 ACC=  0.9267797860568056 bacc=  0.8942320605709457 precision=  0.8893072289156626 specificity=  0.9631671260335756 sensitivity=  0.8252969951083159 recall=  0.8252969951083159 MCC=  0.8081084718647038 AUC=  0.9528832430620888 f1=  0.8561072852482784\n",
            "Epoch: 357 / 500, ############## the best accuracy in val  93.0837 at Epoch: 270  ##############\n",
            "Performance in Val: Loss: (0.0667); Accuracy (92.68)\n"
          ]
        },
        {
          "metadata": {
            "tags": null
          },
          "name": "stderr",
          "output_type": "stream",
          "text": [
            "Epoch 358: 100%|██████████| 3130/3130 [00:25<00:00, 124.76batch/s, train_loss=tensor(0.0190, device='cuda:0', grad_fn=<MseLossBackward0>)]\n"
          ]
        },
        {
          "metadata": {
            "tags": null
          },
          "name": "stdout",
          "output_type": "stream",
          "text": [
            "loss_sum=  0.0674627261568729 ACC=  0.9288085577277757 bacc=  0.8980755266785627 precision=  0.8902165795369679 specificity=  0.9631671260335756 sensitivity=  0.83298392732355 recall=  0.83298392732355 MCC=  0.8137222220108874 AUC=  0.9500990260931259 f1=  0.8606498194945849\n",
            "Epoch: 358 / 500, ############## the best accuracy in val  93.0837 at Epoch: 270  ##############\n",
            "Performance in Val: Loss: (0.0675); Accuracy (92.88)\n"
          ]
        },
        {
          "metadata": {
            "tags": null
          },
          "name": "stderr",
          "output_type": "stream",
          "text": [
            "Epoch 359: 100%|██████████| 3130/3130 [00:25<00:00, 124.40batch/s, train_loss=tensor(0.0339, device='cuda:0', grad_fn=<MseLossBackward0>)]\n"
          ]
        },
        {
          "metadata": {
            "tags": null
          },
          "name": "stdout",
          "output_type": "stream",
          "text": [
            "loss_sum=  0.06646722631053698 ACC=  0.9288085577277757 bacc=  0.895161913046493 precision=  0.897943640517898 specificity=  0.9664244550238036 sensitivity=  0.8238993710691824 recall=  0.8238993710691824 MCC=  0.8131399936443875 AUC=  0.9527398386411353 f1=  0.8593294460641401\n",
            "Epoch: 359 / 500, ############## the best accuracy in val  93.0837 at Epoch: 270  ##############\n",
            "Performance in Val: Loss: (0.0665); Accuracy (92.88)\n"
          ]
        },
        {
          "metadata": {
            "tags": null
          },
          "name": "stderr",
          "output_type": "stream",
          "text": [
            "Epoch 360: 100%|██████████| 3130/3130 [00:25<00:00, 122.76batch/s, train_loss=tensor(0.0062, device='cuda:0', grad_fn=<MseLossBackward0>)]\n"
          ]
        },
        {
          "metadata": {
            "tags": null
          },
          "name": "stdout",
          "output_type": "stream",
          "text": [
            "loss_sum=  0.06653745110341758 ACC=  0.9278863887864257 bacc=  0.894983751876383 precision=  0.8933434190620272 specificity=  0.96467050864445 sensitivity=  0.8252969951083159 recall=  0.8252969951083159 MCC=  0.8108905724705174 AUC=  0.9516538872140863 f1=  0.8579731202324736\n",
            "Epoch: 360 / 500, ############## the best accuracy in val  93.0837 at Epoch: 270  ##############\n",
            "Performance in Val: Loss: (0.0665); Accuracy (92.79)\n"
          ]
        },
        {
          "metadata": {
            "tags": null
          },
          "name": "stderr",
          "output_type": "stream",
          "text": [
            "Epoch 361: 100%|██████████| 3130/3130 [00:26<00:00, 120.07batch/s, train_loss=tensor(0.0452, device='cuda:0', grad_fn=<MseLossBackward0>)]\n"
          ]
        },
        {
          "metadata": {
            "tags": null
          },
          "name": "stdout",
          "output_type": "stream",
          "text": [
            "loss_sum=  0.0673079576417474 ACC=  0.9295462928808558 bacc=  0.8976801577133456 precision=  0.8952524491333835 specificity=  0.9651716361814082 sensitivity=  0.8301886792452831 recall=  0.8301886792452831 MCC=  0.8153839983703575 AUC=  0.9506864764378131 f1=  0.8614938361131255\n",
            "Epoch: 361 / 500, ############## the best accuracy in val  93.0837 at Epoch: 270  ##############\n",
            "Performance in Val: Loss: (0.0673); Accuracy (92.95)\n"
          ]
        },
        {
          "metadata": {
            "tags": null
          },
          "name": "stderr",
          "output_type": "stream",
          "text": [
            "Epoch 362: 100%|██████████| 3130/3130 [00:25<00:00, 122.88batch/s, train_loss=tensor(0.0164, device='cuda:0', grad_fn=<MseLossBackward0>)]\n"
          ]
        },
        {
          "metadata": {
            "tags": null
          },
          "name": "stdout",
          "output_type": "stream",
          "text": [
            "loss_sum=  0.06782062704040281 ACC=  0.9293618590925857 bacc=  0.8955377586992116 precision=  0.9 specificity=  0.9671761463292408 sensitivity=  0.8238993710691824 recall=  0.8238993710691824 MCC=  0.8145475165470444 AUC=  0.9497761472747644 f1=  0.8602699744618754\n",
            "Epoch: 362 / 500, ############## the best accuracy in val  93.0837 at Epoch: 270  ##############\n",
            "Performance in Val: Loss: (0.0678); Accuracy (92.94)\n"
          ]
        },
        {
          "metadata": {
            "tags": null
          },
          "name": "stderr",
          "output_type": "stream",
          "text": [
            "Epoch 363: 100%|██████████| 3130/3130 [00:25<00:00, 123.21batch/s, train_loss=tensor(0.0276, device='cuda:0', grad_fn=<MseLossBackward0>)]\n"
          ]
        },
        {
          "metadata": {
            "tags": null
          },
          "name": "stdout",
          "output_type": "stream",
          "text": [
            "loss_sum=  0.06661739450835438 ACC=  0.9306528956104758 bacc=  0.8977594766421513 precision=  0.9011406844106464 specificity=  0.9674267100977199 sensitivity=  0.8280922431865828 recall=  0.8280922431865828 MCC=  0.818061556434965 AUC=  0.9528259863518914 f1=  0.8630735615440641\n",
            "Epoch: 363 / 500, ############## the best accuracy in val  93.0837 at Epoch: 270  ##############\n",
            "Performance in Val: Loss: (0.0666); Accuracy (93.07)\n"
          ]
        },
        {
          "metadata": {
            "tags": null
          },
          "name": "stderr",
          "output_type": "stream",
          "text": [
            "Epoch 364: 100%|██████████| 3130/3130 [00:25<00:00, 122.14batch/s, train_loss=tensor(0.0139, device='cuda:0', grad_fn=<MseLossBackward0>)]\n"
          ]
        },
        {
          "metadata": {
            "tags": null
          },
          "name": "stdout",
          "output_type": "stream",
          "text": [
            "loss_sum=  0.06646098353512651 ACC=  0.9253043157506455 bacc=  0.8921091848693102 precision=  0.8868778280542986 specificity=  0.9624154347281383 sensitivity=  0.8218029350104822 recall=  0.8218029350104822 MCC=  0.8041664603353782 AUC=  0.9539236692761369 f1=  0.85310119695321\n",
            "Epoch: 364 / 500, ############## the best accuracy in val  93.0837 at Epoch: 270  ##############\n",
            "Performance in Val: Loss: (0.0665); Accuracy (92.53)\n"
          ]
        },
        {
          "output_type": "stream",
          "name": "stderr",
          "text": [
            "Epoch 365: 100%|██████████| 3130/3130 [00:24<00:00, 125.50batch/s, train_loss=tensor(0.0248, device='cuda:0', grad_fn=<MseLossBackward0>)]\n"
          ]
        },
        {
          "output_type": "stream",
          "name": "stdout",
          "text": [
            "loss_sum=  0.0666634345504079 ACC=  0.9291774253043158 bacc=  0.8963089733171474 precision=  0.8968915845337376 specificity=  0.9659233274868454 sensitivity=  0.8266946191474493 recall=  0.8266946191474493 MCC=  0.8142381110635134 AUC=  0.9516465331412169 f1=  0.8603636363636363\n",
            "Epoch: 365 / 500, ############## the best accuracy in val  93.0837 at Epoch: 270  ##############\n",
            "Performance in Val: Loss: (0.0667); Accuracy (92.92)\n"
          ]
        },
        {
          "output_type": "stream",
          "name": "stderr",
          "text": [
            "Epoch 366: 100%|██████████| 3130/3130 [00:25<00:00, 123.32batch/s, train_loss=tensor(0.0276, device='cuda:0', grad_fn=<MseLossBackward0>)]\n"
          ]
        },
        {
          "output_type": "stream",
          "name": "stdout",
          "text": [
            "loss_sum=  0.06610131956592949 ACC=  0.9304684618222059 bacc=  0.8978583188834557 precision=  0.8998482549317147 specificity=  0.9669255825607617 sensitivity=  0.8287910552061496 recall=  0.8287910552061496 MCC=  0.8176317330283938 AUC=  0.9524597710326922 f1=  0.8628592215351036\n",
            "Epoch: 366 / 500, ############## the best accuracy in val  93.0837 at Epoch: 270  ##############\n",
            "Performance in Val: Loss: (0.0661); Accuracy (93.05)\n"
          ]
        },
        {
          "output_type": "stream",
          "name": "stderr",
          "text": [
            "Epoch 367: 100%|██████████| 3130/3130 [00:25<00:00, 123.35batch/s, train_loss=tensor(0.0485, device='cuda:0', grad_fn=<MseLossBackward0>)]\n"
          ]
        },
        {
          "output_type": "stream",
          "name": "stdout",
          "text": [
            "loss_sum=  0.06671901405266978 ACC=  0.9289929915160458 bacc=  0.8961836914329078 precision=  0.8962121212121212 specificity=  0.9656727637183663 sensitivity=  0.8266946191474493 recall=  0.8266946191474493 MCC=  0.8137715021545563 AUC=  0.9511352499798201 f1=  0.8600508905852418\n",
            "Epoch: 367 / 500, ############## the best accuracy in val  93.0837 at Epoch: 270  ##############\n",
            "Performance in Val: Loss: (0.0667); Accuracy (92.90)\n"
          ]
        },
        {
          "output_type": "stream",
          "name": "stderr",
          "text": [
            "Epoch 368: 100%|██████████| 3130/3130 [00:25<00:00, 122.38batch/s, train_loss=tensor(0.0396, device='cuda:0', grad_fn=<MseLossBackward0>)]\n"
          ]
        },
        {
          "output_type": "stream",
          "name": "stdout",
          "text": [
            "loss_sum=  0.06671703162748685 ACC=  0.9291774253043158 bacc=  0.8942918561872529 precision=  0.9023827824750192 specificity=  0.9681784014031571 sensitivity=  0.8204053109713487 recall=  0.8204053109713487 MCC=  0.8138952764839729 AUC=  0.9513742573480759 f1=  0.8594436310395315\n",
            "Epoch: 368 / 500, ############## the best accuracy in val  93.0837 at Epoch: 270  ##############\n",
            "Performance in Val: Loss: (0.0667); Accuracy (92.92)\n"
          ]
        },
        {
          "output_type": "stream",
          "name": "stderr",
          "text": [
            "Epoch 369: 100%|██████████| 3130/3130 [00:25<00:00, 121.52batch/s, train_loss=tensor(0.0785, device='cuda:0', grad_fn=<MseLossBackward0>)]\n"
          ]
        },
        {
          "output_type": "stream",
          "name": "stdout",
          "text": [
            "loss_sum=  0.06737157852103202 ACC=  0.9289929915160458 bacc=  0.8961836914329078 precision=  0.8962121212121212 specificity=  0.9656727637183663 sensitivity=  0.8266946191474493 recall=  0.8266946191474493 MCC=  0.8137715021545563 AUC=  0.9518326612236021 f1=  0.8600508905852418\n",
            "Epoch: 369 / 500, ############## the best accuracy in val  93.0837 at Epoch: 270  ##############\n",
            "Performance in Val: Loss: (0.0674); Accuracy (92.90)\n"
          ]
        },
        {
          "output_type": "stream",
          "name": "stderr",
          "text": [
            "Epoch 370: 100%|██████████| 3130/3130 [00:26<00:00, 117.05batch/s, train_loss=tensor(0.0360, device='cuda:0', grad_fn=<MseLossBackward0>)]\n"
          ]
        },
        {
          "output_type": "stream",
          "name": "stdout",
          "text": [
            "loss_sum=  0.06653144666828918 ACC=  0.9302840280339358 bacc=  0.8957159198693216 precision=  0.9046887009992314 specificity=  0.9689300927085943 sensitivity=  0.822501747030049 recall=  0.822501747030049 MCC=  0.8168348216104075 AUC=  0.9516300740257474 f1=  0.8616398243045389\n",
            "Epoch: 370 / 500, ############## the best accuracy in val  93.0837 at Epoch: 270  ##############\n",
            "Performance in Val: Loss: (0.0665); Accuracy (93.03)\n"
          ]
        },
        {
          "output_type": "stream",
          "name": "stderr",
          "text": [
            "Epoch 371: 100%|██████████| 3130/3130 [00:26<00:00, 119.32batch/s, train_loss=tensor(0.0397, device='cuda:0', grad_fn=<MseLossBackward0>)]\n"
          ]
        },
        {
          "output_type": "stream",
          "name": "stdout",
          "text": [
            "loss_sum=  0.06584341173021777 ACC=  0.9273330874216157 bacc=  0.8946079062236643 precision=  0.8913207547169811 specificity=  0.9639188173390127 sensitivity=  0.8252969951083159 recall=  0.8252969951083159 MCC=  0.8094975481859247 AUC=  0.9546112750894264 f1=  0.8570391872278664\n",
            "Epoch: 371 / 500, ############## the best accuracy in val  93.0837 at Epoch: 270  ##############\n",
            "Performance in Val: Loss: (0.0658); Accuracy (92.73)\n"
          ]
        },
        {
          "output_type": "stream",
          "name": "stderr",
          "text": [
            "Epoch 372: 100%|██████████| 3130/3130 [00:26<00:00, 119.33batch/s, train_loss=tensor(0.0237, device='cuda:0', grad_fn=<MseLossBackward0>)]\n"
          ]
        },
        {
          "output_type": "stream",
          "name": "stdout",
          "text": [
            "loss_sum=  0.06534928783628771 ACC=  0.9302840280339358 bacc=  0.8979571611247599 precision=  0.898561695685087 specificity=  0.9664244550238036 sensitivity=  0.8294898672257163 recall=  0.8294898672257163 MCC=  0.8172044203189053 AUC=  0.9540670736970903 f1=  0.8626453488372093\n",
            "Epoch: 372 / 500, ############## the best accuracy in val  93.0837 at Epoch: 270  ##############\n",
            "Performance in Val: Loss: (0.0653); Accuracy (93.03)\n"
          ]
        },
        {
          "output_type": "stream",
          "name": "stderr",
          "text": [
            "Epoch 373: 100%|██████████| 3130/3130 [00:26<00:00, 120.06batch/s, train_loss=tensor(0.0470, device='cuda:0', grad_fn=<MseLossBackward0>)]\n"
          ]
        },
        {
          "output_type": "stream",
          "name": "stdout",
          "text": [
            "loss_sum=  0.06606808798332701 ACC=  0.9282552563629657 bacc=  0.8961308121470373 precision=  0.8923192771084337 specificity=  0.9641693811074918 sensitivity=  0.8280922431865828 recall=  0.8280922431865828 MCC=  0.8120005886864152 AUC=  0.9529991572582686 f1=  0.859006886553099\n",
            "Epoch: 373 / 500, ############## the best accuracy in val  93.0837 at Epoch: 270  ##############\n",
            "Performance in Val: Loss: (0.0661); Accuracy (92.83)\n"
          ]
        },
        {
          "output_type": "stream",
          "name": "stderr",
          "text": [
            "Epoch 374: 100%|██████████| 3130/3130 [00:25<00:00, 123.07batch/s, train_loss=tensor(0.0126, device='cuda:0', grad_fn=<MseLossBackward0>)]\n"
          ]
        },
        {
          "output_type": "stream",
          "name": "stdout",
          "text": [
            "loss_sum=  0.0671119555201832 ACC=  0.9284396901512357 bacc=  0.8958078457801892 precision=  0.8941798941798942 specificity=  0.9649210724129291 sensitivity=  0.8266946191474493 recall=  0.8266946191474493 MCC=  0.8123743337699286 AUC=  0.9527941187027905 f1=  0.8591140159767611\n",
            "Epoch: 374 / 500, ############## the best accuracy in val  93.0837 at Epoch: 270  ##############\n",
            "Performance in Val: Loss: (0.0671); Accuracy (92.84)\n"
          ]
        },
        {
          "output_type": "stream",
          "name": "stderr",
          "text": [
            "Epoch 375: 100%|██████████| 3130/3130 [00:25<00:00, 122.27batch/s, train_loss=tensor(0.0205, device='cuda:0', grad_fn=<MseLossBackward0>)]\n"
          ]
        },
        {
          "output_type": "stream",
          "name": "stdout",
          "text": [
            "loss_sum=  0.0675186091501013 ACC=  0.9262264846919955 bacc=  0.891390849537245 precision=  0.8938120702826585 specificity=  0.9651716361814082 sensitivity=  0.8176100628930818 recall=  0.8176100628930818 MCC=  0.8062173987874306 AUC=  0.9512270007937147 f1=  0.8540145985401459\n",
            "Epoch: 375 / 500, ############## the best accuracy in val  93.0837 at Epoch: 270  ##############\n",
            "Performance in Val: Loss: (0.0675); Accuracy (92.62)\n"
          ]
        },
        {
          "output_type": "stream",
          "name": "stderr",
          "text": [
            "Epoch 376: 100%|██████████| 3130/3130 [00:25<00:00, 121.93batch/s, train_loss=tensor(0.0144, device='cuda:0', grad_fn=<MseLossBackward0>)]\n"
          ]
        },
        {
          "output_type": "stream",
          "name": "stdout",
          "text": [
            "loss_sum=  0.06662113125268425 ACC=  0.9291774253043158 bacc=  0.8960848491916036 precision=  0.89749430523918 specificity=  0.9661738912553245 sensitivity=  0.8259958071278826 recall=  0.8259958071278826 MCC=  0.814196888880161 AUC=  0.953207172462289 f1=  0.8602620087336245\n",
            "Epoch: 376 / 500, ############## the best accuracy in val  93.0837 at Epoch: 270  ##############\n",
            "Performance in Val: Loss: (0.0666); Accuracy (92.92)\n"
          ]
        },
        {
          "output_type": "stream",
          "name": "stderr",
          "text": [
            "Epoch 377: 100%|██████████| 3130/3130 [00:25<00:00, 123.03batch/s, train_loss=tensor(0.0314, device='cuda:0', grad_fn=<MseLossBackward0>)]\n"
          ]
        },
        {
          "output_type": "stream",
          "name": "stdout",
          "text": [
            "loss_sum=  0.06647879512881678 ACC=  0.9293618590925857 bacc=  0.8966583793269307 precision=  0.896969696969697 specificity=  0.9659233274868454 sensitivity=  0.827393431167016 recall=  0.827393431167016 MCC=  0.8147465233099614 AUC=  0.9519093536978116 f1=  0.8607778989458378\n",
            "Epoch: 377 / 500, ############## the best accuracy in val  93.0837 at Epoch: 270  ##############\n",
            "Performance in Val: Loss: (0.0665); Accuracy (92.94)\n"
          ]
        },
        {
          "output_type": "stream",
          "name": "stderr",
          "text": [
            "Epoch 378: 100%|██████████| 3130/3130 [00:25<00:00, 123.12batch/s, train_loss=tensor(0.0240, device='cuda:0', grad_fn=<MseLossBackward0>)]\n"
          ]
        },
        {
          "output_type": "stream",
          "name": "stdout",
          "text": [
            "loss_sum=  0.06682482403757979 ACC=  0.9278863887864257 bacc=  0.8952078760019268 precision=  0.8927492447129909 specificity=  0.9644199448759709 sensitivity=  0.8259958071278826 recall=  0.8259958071278826 MCC=  0.8109354720506904 AUC=  0.9513565725537947 f1=  0.858076225045372\n",
            "Epoch: 378 / 500, ############## the best accuracy in val  93.0837 at Epoch: 270  ##############\n",
            "Performance in Val: Loss: (0.0668); Accuracy (92.79)\n"
          ]
        },
        {
          "output_type": "stream",
          "name": "stderr",
          "text": [
            "Epoch 379: 100%|██████████| 3130/3130 [00:25<00:00, 122.78batch/s, train_loss=tensor(0.0227, device='cuda:0', grad_fn=<MseLossBackward0>)]\n"
          ]
        },
        {
          "output_type": "stream",
          "name": "stdout",
          "text": [
            "loss_sum=  0.0664903060134753 ACC=  0.9291774253043158 bacc=  0.8951883526894282 precision=  0.8999236058059588 specificity=  0.9671761463292408 sensitivity=  0.8232005590496156 recall=  0.8232005590496156 MCC=  0.8140397919702556 AUC=  0.9528259863518914 f1=  0.8598540145985402\n",
            "Epoch: 379 / 500, ############## the best accuracy in val  93.0837 at Epoch: 270  ##############\n",
            "Performance in Val: Loss: (0.0665); Accuracy (92.92)\n"
          ]
        },
        {
          "output_type": "stream",
          "name": "stderr",
          "text": [
            "Epoch 380: 100%|██████████| 3130/3130 [00:25<00:00, 123.24batch/s, train_loss=tensor(0.0203, device='cuda:0', grad_fn=<MseLossBackward0>)]\n"
          ]
        },
        {
          "output_type": "stream",
          "name": "stdout",
          "text": [
            "loss_sum=  0.06719926331236212 ACC=  0.9273330874216157 bacc=  0.8939355338470328 precision=  0.8931008339651251 specificity=  0.96467050864445 sensitivity=  0.8232005590496156 recall=  0.8232005590496156 MCC=  0.8093617519573998 AUC=  0.9517531671978235 f1=  0.8567272727272726\n",
            "Epoch: 380 / 500, ############## the best accuracy in val  93.0837 at Epoch: 270  ##############\n",
            "Performance in Val: Loss: (0.0672); Accuracy (92.73)\n"
          ]
        },
        {
          "output_type": "stream",
          "name": "stderr",
          "text": [
            "Epoch 381: 100%|██████████| 3130/3130 [00:25<00:00, 123.55batch/s, train_loss=tensor(0.0149, device='cuda:0', grad_fn=<MseLossBackward0>)]\n"
          ]
        },
        {
          "output_type": "stream",
          "name": "stdout",
          "text": [
            "loss_sum=  0.06713448286573004 ACC=  0.9280708225746956 bacc=  0.8951090337606225 precision=  0.8940196820590461 specificity=  0.9649210724129291 sensitivity=  0.8252969951083159 recall=  0.8252969951083159 MCC=  0.8113557951427027 AUC=  0.9504028193414218 f1=  0.8582848837209301\n",
            "Epoch: 381 / 500, ############## the best accuracy in val  93.0837 at Epoch: 270  ##############\n",
            "Performance in Val: Loss: (0.0671); Accuracy (92.81)\n"
          ]
        },
        {
          "output_type": "stream",
          "name": "stderr",
          "text": [
            "Epoch 382: 100%|██████████| 3130/3130 [00:25<00:00, 122.95batch/s, train_loss=tensor(0.0241, device='cuda:0', grad_fn=<MseLossBackward0>)]\n"
          ]
        },
        {
          "output_type": "stream",
          "name": "stdout",
          "text": [
            "loss_sum=  0.06735269638852581 ACC=  0.9275175212098856 bacc=  0.8967503052377983 precision=  0.886736214605067 specificity=  0.9619143071911802 sensitivity=  0.8315863032844165 recall=  0.8315863032844165 MCC=  0.8104040570466265 AUC=  0.9520907541619238 f1=  0.858276235124414\n",
            "Epoch: 382 / 500, ############## the best accuracy in val  93.0837 at Epoch: 270  ##############\n",
            "Performance in Val: Loss: (0.0674); Accuracy (92.75)\n"
          ]
        },
        {
          "output_type": "stream",
          "name": "stderr",
          "text": [
            "Epoch 383: 100%|██████████| 3130/3130 [00:25<00:00, 121.76batch/s, train_loss=tensor(0.0162, device='cuda:0', grad_fn=<MseLossBackward0>)]\n"
          ]
        },
        {
          "output_type": "stream",
          "name": "stdout",
          "text": [
            "loss_sum=  0.0665094823374586 ACC=  0.9262264846919955 bacc=  0.8936320907926832 precision=  0.8878856282919488 specificity=  0.9626659984966174 sensitivity=  0.8245981830887491 recall=  0.8245981830887491 MCC=  0.8066735379771031 AUC=  0.9518034200290977 f1=  0.8550724637681159\n",
            "Epoch: 383 / 500, ############## the best accuracy in val  93.0837 at Epoch: 270  ##############\n",
            "Performance in Val: Loss: (0.0665); Accuracy (92.62)\n"
          ]
        },
        {
          "output_type": "stream",
          "name": "stderr",
          "text": [
            "Epoch 384: 100%|██████████| 3130/3130 [00:25<00:00, 123.53batch/s, train_loss=tensor(0.0118, device='cuda:0', grad_fn=<MseLossBackward0>)]\n"
          ]
        },
        {
          "output_type": "stream",
          "name": "stdout",
          "text": [
            "loss_sum=  0.06700736728351245 ACC=  0.9280708225746956 bacc=  0.8942125372584472 precision=  0.8964204112718964 specificity=  0.9659233274868454 sensitivity=  0.822501747030049 recall=  0.822501747030049 MCC=  0.8111864262666355 AUC=  0.9512597439276806 f1=  0.857871720116618\n",
            "Epoch: 384 / 500, ############## the best accuracy in val  93.0837 at Epoch: 270  ##############\n",
            "Performance in Val: Loss: (0.0670); Accuracy (92.81)\n"
          ]
        },
        {
          "output_type": "stream",
          "name": "stderr",
          "text": [
            "Epoch 385: 100%|██████████| 3130/3130 [00:25<00:00, 123.26batch/s, train_loss=tensor(0.0169, device='cuda:0', grad_fn=<MseLossBackward0>)]\n"
          ]
        },
        {
          "output_type": "stream",
          "name": "stdout",
          "text": [
            "loss_sum=  0.06636894564831129 ACC=  0.9265953522685356 bacc=  0.8941067786867062 precision=  0.8886380737396539 specificity=  0.9629165622650965 sensitivity=  0.8252969951083159 recall=  0.8252969951083159 MCC=  0.8076463198509977 AUC=  0.9533911993809971 f1=  0.8557971014492755\n",
            "Epoch: 385 / 500, ############## the best accuracy in val  93.0837 at Epoch: 270  ##############\n",
            "Performance in Val: Loss: (0.0664); Accuracy (92.66)\n"
          ]
        },
        {
          "output_type": "stream",
          "name": "stderr",
          "text": [
            "Epoch 386: 100%|██████████| 3130/3130 [00:25<00:00, 122.95batch/s, train_loss=tensor(0.0201, device='cuda:0', grad_fn=<MseLossBackward0>)]\n"
          ]
        },
        {
          "output_type": "stream",
          "name": "stdout",
          "text": [
            "loss_sum=  0.06566791114009983 ACC=  0.9300995942456658 bacc=  0.8989524998682396 precision=  0.8948948948948949 specificity=  0.9649210724129291 sensitivity=  0.83298392732355 recall=  0.83298392732355 MCC=  0.8169549353495019 AUC=  0.9536249538400604 f1=  0.8628302569670647\n",
            "Epoch: 386 / 500, ############## the best accuracy in val  93.0837 at Epoch: 270  ##############\n",
            "Performance in Val: Loss: (0.0657); Accuracy (93.01)\n"
          ]
        },
        {
          "output_type": "stream",
          "name": "stderr",
          "text": [
            "Epoch 387: 100%|██████████| 3130/3130 [00:25<00:00, 123.93batch/s, train_loss=tensor(0.0369, device='cuda:0', grad_fn=<MseLossBackward0>)]\n"
          ]
        },
        {
          "output_type": "stream",
          "name": "stdout",
          "text": [
            "loss_sum=  0.0668015901595464 ACC=  0.9278863887864257 bacc=  0.8938631312486638 precision=  0.8963414634146342 specificity=  0.9659233274868454 sensitivity=  0.8218029350104822 recall=  0.8218029350104822 MCC=  0.8106776077219348 AUC=  0.9523295864332064 f1=  0.8574553408676632\n",
            "Epoch: 387 / 500, ############## the best accuracy in val  93.0837 at Epoch: 270  ##############\n",
            "Performance in Val: Loss: (0.0668); Accuracy (92.79)\n"
          ]
        },
        {
          "output_type": "stream",
          "name": "stderr",
          "text": [
            "Epoch 388: 100%|██████████| 3130/3130 [00:25<00:00, 123.05batch/s, train_loss=tensor(0.0629, device='cuda:0', grad_fn=<MseLossBackward0>)]\n"
          ]
        },
        {
          "output_type": "stream",
          "name": "stdout",
          "text": [
            "loss_sum=  0.06596963343575904 ACC=  0.9291774253043158 bacc=  0.8945159803127967 precision=  0.9017651573292402 specificity=  0.967927837634678 sensitivity=  0.8211041229909154 recall=  0.8211041229909154 MCC=  0.8139302173946877 AUC=  0.95225534531662 f1=  0.8595464520848574\n",
            "Epoch: 388 / 500, ############## the best accuracy in val  93.0837 at Epoch: 270  ##############\n",
            "Performance in Val: Loss: (0.0660); Accuracy (92.92)\n"
          ]
        },
        {
          "output_type": "stream",
          "name": "stderr",
          "text": [
            "Epoch 389: 100%|██████████| 3130/3130 [00:25<00:00, 121.73batch/s, train_loss=tensor(0.0229, device='cuda:0', grad_fn=<MseLossBackward0>)]\n"
          ]
        },
        {
          "output_type": "stream",
          "name": "stdout",
          "text": [
            "loss_sum=  0.06749016733202742 ACC=  0.9277019549981557 bacc=  0.8946343458665995 precision=  0.8932626797880394 specificity=  0.96467050864445 sensitivity=  0.8245981830887491 recall=  0.8245981830887491 MCC=  0.8103810242800024 AUC=  0.951115464021862 f1=  0.8575581395348837\n",
            "Epoch: 389 / 500, ############## the best accuracy in val  93.0837 at Epoch: 270  ##############\n",
            "Performance in Val: Loss: (0.0675); Accuracy (92.77)\n"
          ]
        },
        {
          "output_type": "stream",
          "name": "stderr",
          "text": [
            "Epoch 390: 100%|██████████| 3130/3130 [00:25<00:00, 123.76batch/s, train_loss=tensor(0.0812, device='cuda:0', grad_fn=<MseLossBackward0>)]\n"
          ]
        },
        {
          "output_type": "stream",
          "name": "stdout",
          "text": [
            "loss_sum=  0.06659775419067317 ACC=  0.9313906307635559 bacc=  0.8984847283046533 precision=  0.9032749428789033 specificity=  0.9681784014031571 sensitivity=  0.8287910552061496 recall=  0.8287910552061496 MCC=  0.8199774794665196 AUC=  0.9537002455384853 f1=  0.8644314868804666\n",
            "Epoch: 390 / 500, ############## the best accuracy in val  93.0837 at Epoch: 270  ##############\n",
            "Performance in Val: Loss: (0.0666); Accuracy (93.14)\n"
          ]
        },
        {
          "output_type": "stream",
          "name": "stderr",
          "text": [
            "Epoch 391: 100%|██████████| 3130/3130 [00:25<00:00, 123.60batch/s, train_loss=tensor(0.0210, device='cuda:0', grad_fn=<MseLossBackward0>)]\n"
          ]
        },
        {
          "output_type": "stream",
          "name": "stdout",
          "text": [
            "loss_sum=  0.06720133468777953 ACC=  0.9262264846919955 bacc=  0.8945285872948585 precision=  0.8855646970830217 specificity=  0.9616637434227011 sensitivity=  0.827393431167016 recall=  0.827393431167016 MCC=  0.8068771554482914 AUC=  0.9516188678194701 f1=  0.8554913294797688\n",
            "Epoch: 391 / 500, ############## the best accuracy in val  93.1391 at Epoch: 390  ##############\n",
            "Performance in Val: Loss: (0.0672); Accuracy (92.62)\n"
          ]
        },
        {
          "output_type": "stream",
          "name": "stderr",
          "text": [
            "Epoch 392: 100%|██████████| 3130/3130 [00:25<00:00, 124.40batch/s, train_loss=tensor(0.0481, device='cuda:0', grad_fn=<MseLossBackward0>)]\n"
          ]
        },
        {
          "output_type": "stream",
          "name": "stdout",
          "text": [
            "loss_sum=  0.06704505471235202 ACC=  0.9286241239395057 bacc=  0.8966055000410602 precision=  0.8930722891566265 specificity=  0.9644199448759709 sensitivity=  0.8287910552061496 recall=  0.8287910552061496 MCC=  0.8129736178918431 AUC=  0.9520672911675309 f1=  0.8597317868793042\n",
            "Epoch: 392 / 500, ############## the best accuracy in val  93.1391 at Epoch: 390  ##############\n",
            "Performance in Val: Loss: (0.0670); Accuracy (92.86)\n"
          ]
        },
        {
          "output_type": "stream",
          "name": "stderr",
          "text": [
            "Epoch 393: 100%|██████████| 3130/3130 [00:25<00:00, 125.09batch/s, train_loss=tensor(0.0279, device='cuda:0', grad_fn=<MseLossBackward0>)]\n"
          ]
        },
        {
          "output_type": "stream",
          "name": "stdout",
          "text": [
            "loss_sum=  0.06663563187236851 ACC=  0.9295462928808558 bacc=  0.897231909462258 precision=  0.8964474678760394 specificity=  0.9656727637183663 sensitivity=  0.8287910552061496 recall=  0.8287910552061496 MCC=  0.8152971479518613 AUC=  0.951128596294843 f1=  0.8612926652142339\n",
            "Epoch: 393 / 500, ############## the best accuracy in val  93.1391 at Epoch: 390  ##############\n",
            "Performance in Val: Loss: (0.0666); Accuracy (92.95)\n"
          ]
        },
        {
          "output_type": "stream",
          "name": "stderr",
          "text": [
            "Epoch 394: 100%|██████████| 3130/3130 [00:25<00:00, 123.19batch/s, train_loss=tensor(0.0830, device='cuda:0', grad_fn=<MseLossBackward0>)]\n"
          ]
        },
        {
          "output_type": "stream",
          "name": "stdout",
          "text": [
            "loss_sum=  0.06720927206986202 ACC=  0.9282552563629657 bacc=  0.8950101915193182 precision=  0.8952959028831563 specificity=  0.9654221999498872 sensitivity=  0.8245981830887491 recall=  0.8245981830887491 MCC=  0.811778595863484 AUC=  0.9505642587506026 f1=  0.8584939978173881\n",
            "Epoch: 394 / 500, ############## the best accuracy in val  93.1391 at Epoch: 390  ##############\n",
            "Performance in Val: Loss: (0.0672); Accuracy (92.83)\n"
          ]
        },
        {
          "output_type": "stream",
          "name": "stderr",
          "text": [
            "Epoch 395: 100%|██████████| 3130/3130 [00:25<00:00, 122.10batch/s, train_loss=tensor(0.0397, device='cuda:0', grad_fn=<MseLossBackward0>)]\n"
          ]
        },
        {
          "output_type": "stream",
          "name": "stdout",
          "text": [
            "loss_sum=  0.0660132228631724 ACC=  0.9293618590925857 bacc=  0.8975548758291061 precision=  0.8945783132530121 specificity=  0.9649210724129291 sensitivity=  0.8301886792452831 recall=  0.8301886792452831 MCC=  0.8149196763026987 AUC=  0.9518802876002803 f1=  0.8611815875317144\n",
            "Epoch: 395 / 500, ############## the best accuracy in val  93.1391 at Epoch: 390  ##############\n",
            "Performance in Val: Loss: (0.0660); Accuracy (92.94)\n"
          ]
        },
        {
          "output_type": "stream",
          "name": "stderr",
          "text": [
            "Epoch 396: 100%|██████████| 3130/3130 [00:25<00:00, 123.34batch/s, train_loss=tensor(0.0105, device='cuda:0', grad_fn=<MseLossBackward0>)]\n"
          ]
        },
        {
          "output_type": "stream",
          "name": "stdout",
          "text": [
            "loss_sum=  0.0663524223553363 ACC=  0.9289929915160458 bacc=  0.8957354431818202 precision=  0.8974164133738601 specificity=  0.9661738912553245 sensitivity=  0.8252969951083159 recall=  0.8252969951083159 MCC=  0.813688555918148 AUC=  0.9531159469393136 f1=  0.8598471059337459\n",
            "Epoch: 396 / 500, ############## the best accuracy in val  93.1391 at Epoch: 390  ##############\n",
            "Performance in Val: Loss: (0.0664); Accuracy (92.90)\n"
          ]
        },
        {
          "output_type": "stream",
          "name": "stderr",
          "text": [
            "Epoch 397: 100%|██████████| 3130/3130 [00:25<00:00, 124.36batch/s, train_loss=tensor(0.0136, device='cuda:0', grad_fn=<MseLossBackward0>)]\n"
          ]
        },
        {
          "output_type": "stream",
          "name": "stdout",
          "text": [
            "loss_sum=  0.06661425603575631 ACC=  0.9310217631870159 bacc=  0.8982341645361742 precision=  0.9019011406844106 specificity=  0.967677273866199 sensitivity=  0.8287910552061496 recall=  0.8287910552061496 MCC=  0.8190378346639174 AUC=  0.952152038102502 f1=  0.8638018936635106\n",
            "Epoch: 397 / 500, ############## the best accuracy in val  93.1391 at Epoch: 390  ##############\n",
            "Performance in Val: Loss: (0.0666); Accuracy (93.10)\n"
          ]
        },
        {
          "output_type": "stream",
          "name": "stderr",
          "text": [
            "Epoch 398: 100%|██████████| 3130/3130 [00:24<00:00, 126.22batch/s, train_loss=tensor(0.0471, device='cuda:0', grad_fn=<MseLossBackward0>)]\n"
          ]
        },
        {
          "output_type": "stream",
          "name": "stdout",
          "text": [
            "loss_sum=  0.06650360786029108 ACC=  0.9280708225746956 bacc=  0.8948849096350786 precision=  0.8946171341925702 specificity=  0.9651716361814082 sensitivity=  0.8245981830887491 recall=  0.8245981830887491 MCC=  0.8113122955998452 AUC=  0.9509877307799993 f1=  0.8581818181818182\n",
            "Epoch: 398 / 500, ############## the best accuracy in val  93.1391 at Epoch: 390  ##############\n",
            "Performance in Val: Loss: (0.0665); Accuracy (92.81)\n"
          ]
        },
        {
          "output_type": "stream",
          "name": "stderr",
          "text": [
            "Epoch 399: 100%|██████████| 3130/3130 [00:24<00:00, 125.54batch/s, train_loss=tensor(0.0256, device='cuda:0', grad_fn=<MseLossBackward0>)]\n"
          ]
        },
        {
          "output_type": "stream",
          "name": "stdout",
          "text": [
            "loss_sum=  0.06572766634044966 ACC=  0.9278863887864257 bacc=  0.8954320001274706 precision=  0.8921568627450981 specificity=  0.9641693811074918 sensitivity=  0.8266946191474493 recall=  0.8266946191474493 MCC=  0.81098113514437 AUC=  0.9548965080585755 f1=  0.8581791802684077\n",
            "Epoch: 399 / 500, ############## the best accuracy in val  93.1391 at Epoch: 390  ##############\n",
            "Performance in Val: Loss: (0.0657); Accuracy (92.79)\n"
          ]
        },
        {
          "output_type": "stream",
          "name": "stderr",
          "text": [
            "Epoch 400: 100%|██████████| 3130/3130 [00:24<00:00, 125.32batch/s, train_loss=tensor(0.0338, device='cuda:0', grad_fn=<MseLossBackward0>)]\n"
          ]
        },
        {
          "output_type": "stream",
          "name": "stdout",
          "text": [
            "loss_sum=  0.06535759243487785 ACC=  0.9277019549981557 bacc=  0.8946343458665995 precision=  0.8932626797880394 specificity=  0.96467050864445 sensitivity=  0.8245981830887491 recall=  0.8245981830887491 MCC=  0.8103810242800024 AUC=  0.953384370599047 f1=  0.8575581395348837\n",
            "Epoch: 400 / 500, ############## the best accuracy in val  93.1391 at Epoch: 390  ##############\n",
            "Performance in Val: Loss: (0.0654); Accuracy (92.77)\n"
          ]
        },
        {
          "output_type": "stream",
          "name": "stderr",
          "text": [
            "Epoch 401: 100%|██████████| 3130/3130 [00:25<00:00, 122.86batch/s, train_loss=tensor(0.0282, device='cuda:0', grad_fn=<MseLossBackward0>)]\n"
          ]
        },
        {
          "output_type": "stream",
          "name": "stdout",
          "text": [
            "loss_sum=  0.06666664189760708 ACC=  0.9286241239395057 bacc=  0.8954848794133411 precision=  0.8960546282245827 specificity=  0.9656727637183663 sensitivity=  0.8252969951083159 recall=  0.8252969951083159 MCC=  0.8127541187243023 AUC=  0.9511138881491041 f1=  0.8592215351036742\n",
            "Epoch: 401 / 500, ############## the best accuracy in val  93.1391 at Epoch: 390  ##############\n",
            "Performance in Val: Loss: (0.0667); Accuracy (92.86)\n"
          ]
        },
        {
          "output_type": "stream",
          "name": "stderr",
          "text": [
            "Epoch 402: 100%|██████████| 3130/3130 [00:25<00:00, 121.23batch/s, train_loss=tensor(0.0459, device='cuda:0', grad_fn=<MseLossBackward0>)]\n"
          ]
        },
        {
          "output_type": "stream",
          "name": "stdout",
          "text": [
            "loss_sum=  0.06597649973232002 ACC=  0.9271486536333456 bacc=  0.8951549967160563 precision=  0.8888888888888888 specificity=  0.9629165622650965 sensitivity=  0.827393431167016 recall=  0.827393431167016 MCC=  0.8091785987099119 AUC=  0.9532332619112781 f1=  0.857039449873326\n",
            "Epoch: 402 / 500, ############## the best accuracy in val  93.1391 at Epoch: 390  ##############\n",
            "Performance in Val: Loss: (0.0660); Accuracy (92.71)\n"
          ]
        },
        {
          "output_type": "stream",
          "name": "stderr",
          "text": [
            "Epoch 403: 100%|██████████| 3130/3130 [00:25<00:00, 124.06batch/s, train_loss=tensor(0.0322, device='cuda:0', grad_fn=<MseLossBackward0>)]\n"
          ]
        },
        {
          "output_type": "stream",
          "name": "stdout",
          "text": [
            "loss_sum=  0.0652667928533766 ACC=  0.9288085577277757 bacc=  0.8949377889209491 precision=  0.8985507246376812 specificity=  0.9666750187922827 sensitivity=  0.8232005590496156 recall=  0.8232005590496156 MCC=  0.8131006020296733 AUC=  0.9539460816886912 f1=  0.8592268417213712\n",
            "Epoch: 403 / 500, ############## the best accuracy in val  93.1391 at Epoch: 390  ##############\n",
            "Performance in Val: Loss: (0.0653); Accuracy (92.88)\n"
          ]
        },
        {
          "output_type": "stream",
          "name": "stderr",
          "text": [
            "Epoch 404: 100%|██████████| 3130/3130 [00:24<00:00, 127.10batch/s, train_loss=tensor(0.0248, device='cuda:0', grad_fn=<MseLossBackward0>)]\n"
          ]
        },
        {
          "output_type": "stream",
          "name": "stdout",
          "text": [
            "loss_sum=  0.06668707805515368 ACC=  0.9284396901512357 bacc=  0.8953595975291015 precision=  0.8953752843062927 specificity=  0.9654221999498872 sensitivity=  0.8252969951083159 recall=  0.8252969951083159 MCC=  0.812287567421068 AUC=  0.9521213961322128 f1=  0.858909090909091\n",
            "Epoch: 404 / 500, ############## the best accuracy in val  93.1391 at Epoch: 390  ##############\n",
            "Performance in Val: Loss: (0.0667); Accuracy (92.84)\n"
          ]
        },
        {
          "output_type": "stream",
          "name": "stderr",
          "text": [
            "Epoch 405: 100%|██████████| 3130/3130 [00:24<00:00, 125.85batch/s, train_loss=tensor(0.0372, device='cuda:0', grad_fn=<MseLossBackward0>)]\n"
          ]
        },
        {
          "output_type": "stream",
          "name": "stdout",
          "text": [
            "loss_sum=  0.06596288607994254 ACC=  0.9275175212098856 bacc=  0.8945090639823601 precision=  0.8925869894099848 specificity=  0.9644199448759709 sensitivity=  0.8245981830887491 recall=  0.8245981830887491 MCC=  0.8099160515280724 AUC=  0.952400150513358 f1=  0.8572466400290593\n",
            "Epoch: 405 / 500, ############## the best accuracy in val  93.1391 at Epoch: 390  ##############\n",
            "Performance in Val: Loss: (0.0660); Accuracy (92.75)\n"
          ]
        },
        {
          "output_type": "stream",
          "name": "stderr",
          "text": [
            "Epoch 406: 100%|██████████| 3130/3130 [00:24<00:00, 125.56batch/s, train_loss=tensor(0.0395, device='cuda:0', grad_fn=<MseLossBackward0>)]\n"
          ]
        },
        {
          "output_type": "stream",
          "name": "stdout",
          "text": [
            "loss_sum=  0.06637978989144672 ACC=  0.9275175212098856 bacc=  0.8949573122334477 precision=  0.8914027149321267 specificity=  0.9639188173390127 sensitivity=  0.8259958071278826 recall=  0.8259958071278826 MCC=  0.8100076101716569 AUC=  0.953317658652303 f1=  0.8574537540805224\n",
            "Epoch: 406 / 500, ############## the best accuracy in val  93.1391 at Epoch: 390  ##############\n",
            "Performance in Val: Loss: (0.0664); Accuracy (92.75)\n"
          ]
        },
        {
          "output_type": "stream",
          "name": "stderr",
          "text": [
            "Epoch 407: 100%|██████████| 3130/3130 [00:25<00:00, 124.69batch/s, train_loss=tensor(0.0348, device='cuda:0', grad_fn=<MseLossBackward0>)]\n"
          ]
        },
        {
          "output_type": "stream",
          "name": "stdout",
          "text": [
            "loss_sum=  0.06677479713613986 ACC=  0.9295462928808558 bacc=  0.895887164708995 precision=  0.9000762776506483 specificity=  0.9671761463292408 sensitivity=  0.8245981830887491 recall=  0.8245981830887491 MCC=  0.8150551833497377 AUC=  0.9513049189467357 f1=  0.860685630926331\n",
            "Epoch: 407 / 500, ############## the best accuracy in val  93.1391 at Epoch: 390  ##############\n",
            "Performance in Val: Loss: (0.0668); Accuracy (92.95)\n"
          ]
        },
        {
          "output_type": "stream",
          "name": "stderr",
          "text": [
            "Epoch 408: 100%|██████████| 3130/3130 [00:25<00:00, 124.63batch/s, train_loss=tensor(0.0099, device='cuda:0', grad_fn=<MseLossBackward0>)]\n"
          ]
        },
        {
          "output_type": "stream",
          "name": "stdout",
          "text": [
            "loss_sum=  0.06609558615047803 ACC=  0.9277019549981557 bacc=  0.8937378493644242 precision=  0.8956587966488957 specificity=  0.9656727637183663 sensitivity=  0.8218029350104822 recall=  0.8218029350104822 MCC=  0.8102096425777595 AUC=  0.9531436122610605 f1=  0.8571428571428572\n",
            "Epoch: 408 / 500, ############## the best accuracy in val  93.1391 at Epoch: 390  ##############\n",
            "Performance in Val: Loss: (0.0661); Accuracy (92.77)\n"
          ]
        },
        {
          "output_type": "stream",
          "name": "stderr",
          "text": [
            "Epoch 409: 100%|██████████| 3130/3130 [00:25<00:00, 123.85batch/s, train_loss=tensor(0.0428, device='cuda:0', grad_fn=<MseLossBackward0>)]\n"
          ]
        },
        {
          "output_type": "stream",
          "name": "stdout",
          "text": [
            "loss_sum=  0.0662090361158152 ACC=  0.9306528956104758 bacc=  0.8964147318888884 precision=  0.9048349961627015 specificity=  0.9689300927085943 sensitivity=  0.8238993710691824 recall=  0.8238993710691824 MCC=  0.8178475524589897 AUC=  0.9520830498951083 f1=  0.8624725676664229\n",
            "Epoch: 409 / 500, ############## the best accuracy in val  93.1391 at Epoch: 390  ##############\n",
            "Performance in Val: Loss: (0.0662); Accuracy (93.07)\n"
          ]
        },
        {
          "output_type": "stream",
          "name": "stderr",
          "text": [
            "Epoch 410: 100%|██████████| 3130/3130 [00:25<00:00, 123.24batch/s, train_loss=tensor(0.0158, device='cuda:0', grad_fn=<MseLossBackward0>)]\n"
          ]
        },
        {
          "output_type": "stream",
          "name": "stdout",
          "text": [
            "loss_sum=  0.06585115749474098 ACC=  0.9286241239395057 bacc=  0.8961572517899725 precision=  0.8942598187311178 specificity=  0.9649210724129291 sensitivity=  0.827393431167016 recall=  0.827393431167016 MCC=  0.8128835164839665 AUC=  0.9548534342031976 f1=  0.8595281306715064\n",
            "Epoch: 410 / 500, ############## the best accuracy in val  93.1391 at Epoch: 390  ##############\n",
            "Performance in Val: Loss: (0.0659); Accuracy (92.86)\n"
          ]
        },
        {
          "output_type": "stream",
          "name": "stderr",
          "text": [
            "Epoch 411: 100%|██████████| 3130/3130 [00:24<00:00, 126.08batch/s, train_loss=tensor(0.0126, device='cuda:0', grad_fn=<MseLossBackward0>)]\n"
          ]
        },
        {
          "output_type": "stream",
          "name": "stdout",
          "text": [
            "loss_sum=  0.06620441059510507 ACC=  0.9289929915160458 bacc=  0.8966319396839955 precision=  0.8950151057401813 specificity=  0.9651716361814082 sensitivity=  0.8280922431865828 recall=  0.8280922431865828 MCC=  0.8138575387006046 AUC=  0.9533600321197887 f1=  0.8602540834845736\n",
            "Epoch: 411 / 500, ############## the best accuracy in val  93.1391 at Epoch: 390  ##############\n",
            "Performance in Val: Loss: (0.0662); Accuracy (92.90)\n"
          ]
        },
        {
          "output_type": "stream",
          "name": "stderr",
          "text": [
            "Epoch 412: 100%|██████████| 3130/3130 [00:24<00:00, 127.98batch/s, train_loss=tensor(0.0129, device='cuda:0', grad_fn=<MseLossBackward0>)]\n"
          ]
        },
        {
          "output_type": "stream",
          "name": "stdout",
          "text": [
            "loss_sum=  0.0667817416933302 ACC=  0.9267797860568056 bacc=  0.8928873158176827 precision=  0.8928571428571429 specificity=  0.96467050864445 sensitivity=  0.8211041229909154 recall=  0.8211041229909154 MCC=  0.807832399534068 AUC=  0.9514474478828236 f1=  0.8554787040407718\n",
            "Epoch: 412 / 500, ############## the best accuracy in val  93.1391 at Epoch: 390  ##############\n",
            "Performance in Val: Loss: (0.0668); Accuracy (92.68)\n"
          ]
        },
        {
          "output_type": "stream",
          "name": "stderr",
          "text": [
            "Epoch 413: 100%|██████████| 3130/3130 [00:24<00:00, 126.07batch/s, train_loss=tensor(0.0342, device='cuda:0', grad_fn=<MseLossBackward0>)]\n"
          ]
        },
        {
          "output_type": "stream",
          "name": "stdout",
          "text": [
            "loss_sum=  0.06688140365391267 ACC=  0.9291774253043158 bacc=  0.8951883526894282 precision=  0.8999236058059588 specificity=  0.9671761463292408 sensitivity=  0.8232005590496156 recall=  0.8232005590496156 MCC=  0.8140397919702556 AUC=  0.9520981082347931 f1=  0.8598540145985402\n",
            "Epoch: 413 / 500, ############## the best accuracy in val  93.1391 at Epoch: 390  ##############\n",
            "Performance in Val: Loss: (0.0669); Accuracy (92.92)\n"
          ]
        },
        {
          "output_type": "stream",
          "name": "stderr",
          "text": [
            "Epoch 414: 100%|██████████| 3130/3130 [00:25<00:00, 124.76batch/s, train_loss=tensor(0.0374, device='cuda:0', grad_fn=<MseLossBackward0>)]\n"
          ]
        },
        {
          "output_type": "stream",
          "name": "stdout",
          "text": [
            "loss_sum=  0.0659416684816292 ACC=  0.9306528956104758 bacc=  0.898207724893239 precision=  0.8999241849886277 specificity=  0.9669255825607617 sensitivity=  0.8294898672257163 recall=  0.8294898672257163 MCC=  0.8181391983484044 AUC=  0.9524097808468774 f1=  0.8632727272727272\n",
            "Epoch: 414 / 500, ############## the best accuracy in val  93.1391 at Epoch: 390  ##############\n",
            "Performance in Val: Loss: (0.0659); Accuracy (93.07)\n"
          ]
        },
        {
          "output_type": "stream",
          "name": "stderr",
          "text": [
            "Epoch 415: 100%|██████████| 3130/3130 [00:24<00:00, 126.78batch/s, train_loss=tensor(0.0384, device='cuda:0', grad_fn=<MseLossBackward0>)]\n"
          ]
        },
        {
          "output_type": "stream",
          "name": "stdout",
          "text": [
            "loss_sum=  0.0660789493632099 ACC=  0.9308373293987459 bacc=  0.8972123861497594 precision=  0.9036697247706422 specificity=  0.9684289651716362 sensitivity=  0.8259958071278826 recall=  0.8259958071278826 MCC=  0.818422279160363 AUC=  0.9524745667269177 f1=  0.8630887185104053\n",
            "Epoch: 415 / 500, ############## the best accuracy in val  93.1391 at Epoch: 390  ##############\n",
            "Performance in Val: Loss: (0.0661); Accuracy (93.08)\n"
          ]
        },
        {
          "output_type": "stream",
          "name": "stderr",
          "text": [
            "Epoch 416: 100%|██████████| 3130/3130 [00:24<00:00, 128.26batch/s, train_loss=tensor(0.0233, device='cuda:0', grad_fn=<MseLossBackward0>)]\n"
          ]
        },
        {
          "output_type": "stream",
          "name": "stdout",
          "text": [
            "loss_sum=  0.06595858425289326 ACC=  0.9286241239395057 bacc=  0.8939160105345343 precision=  0.9003067484662577 specificity=  0.9674267100977199 sensitivity=  0.8204053109713487 recall=  0.8204053109713487 MCC=  0.8124793700443866 AUC=  0.9541726571718582 f1=  0.8585009140767824\n",
            "Epoch: 416 / 500, ############## the best accuracy in val  93.1391 at Epoch: 390  ##############\n",
            "Performance in Val: Loss: (0.0660); Accuracy (92.86)\n"
          ]
        },
        {
          "output_type": "stream",
          "name": "stderr",
          "text": [
            "Epoch 417: 100%|██████████| 3130/3130 [00:25<00:00, 124.57batch/s, train_loss=tensor(0.0266, device='cuda:0', grad_fn=<MseLossBackward0>)]\n"
          ]
        },
        {
          "output_type": "stream",
          "name": "stdout",
          "text": [
            "loss_sum=  0.06703031509784999 ACC=  0.9304684618222059 bacc=  0.8953929535024735 precision=  0.9066358024691358 specificity=  0.9696817840140316 sensitivity=  0.8211041229909154 recall=  0.8211041229909154 MCC=  0.8172454081930522 AUC=  0.9509864175527012 f1=  0.8617528419508618\n",
            "Epoch: 417 / 500, ############## the best accuracy in val  93.1391 at Epoch: 390  ##############\n",
            "Performance in Val: Loss: (0.0670); Accuracy (93.05)\n"
          ]
        },
        {
          "output_type": "stream",
          "name": "stderr",
          "text": [
            "Epoch 418: 100%|██████████| 3130/3130 [00:24<00:00, 126.77batch/s, train_loss=tensor(0.0233, device='cuda:0', grad_fn=<MseLossBackward0>)]\n"
          ]
        },
        {
          "output_type": "stream",
          "name": "stdout",
          "text": [
            "loss_sum=  0.0667525594312269 ACC=  0.9284396901512357 bacc=  0.8940148527758385 precision=  0.8990053557765876 specificity=  0.9669255825607617 sensitivity=  0.8211041229909154 recall=  0.8211041229909154 MCC=  0.8120458592557391 AUC=  0.951378809869376 f1=  0.8582907231555881\n",
            "Epoch: 418 / 500, ############## the best accuracy in val  93.1391 at Epoch: 390  ##############\n",
            "Performance in Val: Loss: (0.0668); Accuracy (92.84)\n"
          ]
        },
        {
          "output_type": "stream",
          "name": "stderr",
          "text": [
            "Epoch 419: 100%|██████████| 3130/3130 [00:24<00:00, 125.29batch/s, train_loss=tensor(0.0275, device='cuda:0', grad_fn=<MseLossBackward0>)]\n"
          ]
        },
        {
          "output_type": "stream",
          "name": "stdout",
          "text": [
            "loss_sum=  0.06685485995366378 ACC=  0.9289929915160458 bacc=  0.8937183260519257 precision=  0.9029275808936826 specificity=  0.9684289651716362 sensitivity=  0.8190076869322153 recall=  0.8190076869322153 MCC=  0.8133540468988539 AUC=  0.9508965928055106 f1=  0.8589226823012093\n",
            "Epoch: 419 / 500, ############## the best accuracy in val  93.1391 at Epoch: 390  ##############\n",
            "Performance in Val: Loss: (0.0669); Accuracy (92.90)\n"
          ]
        },
        {
          "output_type": "stream",
          "name": "stderr",
          "text": [
            "Epoch 420: 100%|██████████| 3130/3130 [00:24<00:00, 126.22batch/s, train_loss=tensor(0.0328, device='cuda:0', grad_fn=<MseLossBackward0>)]\n"
          ]
        },
        {
          "output_type": "stream",
          "name": "stdout",
          "text": [
            "loss_sum=  0.0664384554807855 ACC=  0.9275175212098856 bacc=  0.8949573122334477 precision=  0.8914027149321267 specificity=  0.9639188173390127 sensitivity=  0.8259958071278826 recall=  0.8259958071278826 MCC=  0.8100076101716569 AUC=  0.9527198775862042 f1=  0.8574537540805224\n",
            "Epoch: 420 / 500, ############## the best accuracy in val  93.1391 at Epoch: 390  ##############\n",
            "Performance in Val: Loss: (0.0664); Accuracy (92.75)\n"
          ]
        },
        {
          "output_type": "stream",
          "name": "stderr",
          "text": [
            "Epoch 421: 100%|██████████| 3130/3130 [00:25<00:00, 124.33batch/s, train_loss=tensor(0.0463, device='cuda:0', grad_fn=<MseLossBackward0>)]\n"
          ]
        },
        {
          "output_type": "stream",
          "name": "stdout",
          "text": [
            "loss_sum=  0.0665657355781139 ACC=  0.9302840280339358 bacc=  0.8968365404970408 precision=  0.9016018306636155 specificity=  0.967677273866199 sensitivity=  0.8259958071278826 recall=  0.8259958071278826 MCC=  0.8170097646698021 AUC=  0.9512959890011086 f1=  0.862144420131291\n",
            "Epoch: 421 / 500, ############## the best accuracy in val  93.1391 at Epoch: 390  ##############\n",
            "Performance in Val: Loss: (0.0666); Accuracy (93.03)\n"
          ]
        },
        {
          "output_type": "stream",
          "name": "stderr",
          "text": [
            "Epoch 422: 100%|██████████| 3130/3130 [00:24<00:00, 127.09batch/s, train_loss=tensor(0.0188, device='cuda:0', grad_fn=<MseLossBackward0>)]\n"
          ]
        },
        {
          "output_type": "stream",
          "name": "stdout",
          "text": [
            "loss_sum=  0.0663083261840463 ACC=  0.9300995942456658 bacc=  0.896935382738345 precision=  0.9003044140030442 specificity=  0.9671761463292408 sensitivity=  0.8266946191474493 recall=  0.8266946191474493 MCC=  0.8165778398075803 AUC=  0.9522802090867974 f1=  0.8619307832422586\n",
            "Epoch: 422 / 500, ############## the best accuracy in val  93.1391 at Epoch: 390  ##############\n",
            "Performance in Val: Loss: (0.0663); Accuracy (93.01)\n"
          ]
        },
        {
          "output_type": "stream",
          "name": "stderr",
          "text": [
            "Epoch 423: 100%|██████████| 3130/3130 [00:24<00:00, 127.36batch/s, train_loss=tensor(0.0368, device='cuda:0', grad_fn=<MseLossBackward0>)]\n"
          ]
        },
        {
          "output_type": "stream",
          "name": "stdout",
          "text": [
            "loss_sum=  0.06605897383670979 ACC=  0.9271486536333456 bacc=  0.8953791208416001 precision=  0.8883058470764618 specificity=  0.9626659984966174 sensitivity=  0.8280922431865828 recall=  0.8280922431865828 MCC=  0.8092282760268243 AUC=  0.9535983391001521 f1=  0.8571428571428571\n",
            "Epoch: 423 / 500, ############## the best accuracy in val  93.1391 at Epoch: 390  ##############\n",
            "Performance in Val: Loss: (0.0661); Accuracy (92.71)\n"
          ]
        },
        {
          "output_type": "stream",
          "name": "stderr",
          "text": [
            "Epoch 424: 100%|██████████| 3130/3130 [00:24<00:00, 127.79batch/s, train_loss=tensor(0.0134, device='cuda:0', grad_fn=<MseLossBackward0>)]\n"
          ]
        },
        {
          "output_type": "stream",
          "name": "stdout",
          "text": [
            "loss_sum=  0.06621540107923644 ACC=  0.9299151604573958 bacc=  0.8961377284774741 precision=  0.9014514896867838 specificity=  0.967677273866199 sensitivity=  0.8245981830887491 recall=  0.8245981830887491 MCC=  0.8159953902659619 AUC=  0.9528867450015505 f1=  0.8613138686131387\n",
            "Epoch: 424 / 500, ############## the best accuracy in val  93.1391 at Epoch: 390  ##############\n",
            "Performance in Val: Loss: (0.0662); Accuracy (92.99)\n"
          ]
        },
        {
          "output_type": "stream",
          "name": "stderr",
          "text": [
            "Epoch 425: 100%|██████████| 3130/3130 [00:25<00:00, 125.11batch/s, train_loss=tensor(0.0194, device='cuda:0', grad_fn=<MseLossBackward0>)]\n"
          ]
        },
        {
          "output_type": "stream",
          "name": "stdout",
          "text": [
            "loss_sum=  0.06732111057928683 ACC=  0.9284396901512357 bacc=  0.8960319699057331 precision=  0.8935849056603774 specificity=  0.96467050864445 sensitivity=  0.827393431167016 recall=  0.827393431167016 MCC=  0.8124188684152306 AUC=  0.9501697652702508 f1=  0.8592162554426706\n",
            "Epoch: 425 / 500, ############## the best accuracy in val  93.1391 at Epoch: 390  ##############\n",
            "Performance in Val: Loss: (0.0673); Accuracy (92.84)\n"
          ]
        },
        {
          "output_type": "stream",
          "name": "stderr",
          "text": [
            "Epoch 426: 100%|██████████| 3130/3130 [00:24<00:00, 125.73batch/s, train_loss=tensor(0.0176, device='cuda:0', grad_fn=<MseLossBackward0>)]\n"
          ]
        },
        {
          "output_type": "stream",
          "name": "stdout",
          "text": [
            "loss_sum=  0.06601967010234969 ACC=  0.9273330874216157 bacc=  0.8946079062236643 precision=  0.8913207547169811 specificity=  0.9639188173390127 sensitivity=  0.8252969951083159 recall=  0.8252969951083159 MCC=  0.8094975481859247 AUC=  0.9525305977583035 f1=  0.8570391872278664\n",
            "Epoch: 426 / 500, ############## the best accuracy in val  93.1391 at Epoch: 390  ##############\n",
            "Performance in Val: Loss: (0.0660); Accuracy (92.73)\n"
          ]
        },
        {
          "output_type": "stream",
          "name": "stderr",
          "text": [
            "Epoch 427: 100%|██████████| 3130/3130 [00:25<00:00, 124.28batch/s, train_loss=tensor(0.0388, device='cuda:0', grad_fn=<MseLossBackward0>)]\n"
          ]
        },
        {
          "output_type": "stream",
          "name": "stdout",
          "text": [
            "loss_sum=  0.06675341395128266 ACC=  0.9288085577277757 bacc=  0.8933689200421424 precision=  0.9028527370855821 specificity=  0.9684289651716362 sensitivity=  0.8183088749126485 recall=  0.8183088749126485 MCC=  0.8128469030653784 AUC=  0.9515446267028839 f1=  0.8585043988269795\n",
            "Epoch: 427 / 500, ############## the best accuracy in val  93.1391 at Epoch: 390  ##############\n",
            "Performance in Val: Loss: (0.0668); Accuracy (92.88)\n"
          ]
        },
        {
          "output_type": "stream",
          "name": "stderr",
          "text": [
            "Epoch 428: 100%|██████████| 3130/3130 [00:24<00:00, 125.21batch/s, train_loss=tensor(0.0619, device='cuda:0', grad_fn=<MseLossBackward0>)]\n"
          ]
        },
        {
          "output_type": "stream",
          "name": "stdout",
          "text": [
            "loss_sum=  0.06611879178869558 ACC=  0.9291774253043158 bacc=  0.8963089733171474 precision=  0.8968915845337376 specificity=  0.9659233274868454 sensitivity=  0.8266946191474493 recall=  0.8266946191474493 MCC=  0.8142381110635134 AUC=  0.9508491415258056 f1=  0.8603636363636363\n",
            "Epoch: 428 / 500, ############## the best accuracy in val  93.1391 at Epoch: 390  ##############\n",
            "Performance in Val: Loss: (0.0661); Accuracy (92.92)\n"
          ]
        },
        {
          "output_type": "stream",
          "name": "stderr",
          "text": [
            "Epoch 429: 100%|██████████| 3130/3130 [00:24<00:00, 127.10batch/s, train_loss=tensor(0.0158, device='cuda:0', grad_fn=<MseLossBackward0>)]\n"
          ]
        },
        {
          "output_type": "stream",
          "name": "stdout",
          "text": [
            "loss_sum=  0.06595987599799108 ACC=  0.9282552563629657 bacc=  0.896579060398125 precision=  0.8911411411411412 specificity=  0.9636682535705337 sensitivity=  0.8294898672257163 recall=  0.8294898672257163 MCC=  0.8120947249497582 AUC=  0.9534279697453442 f1=  0.8592110025334782\n",
            "Epoch: 429 / 500, ############## the best accuracy in val  93.1391 at Epoch: 390  ##############\n",
            "Performance in Val: Loss: (0.0660); Accuracy (92.83)\n"
          ]
        },
        {
          "output_type": "stream",
          "name": "stderr",
          "text": [
            "Epoch 430: 100%|██████████| 3130/3130 [00:24<00:00, 127.50batch/s, train_loss=tensor(0.0360, device='cuda:0', grad_fn=<MseLossBackward0>)]\n"
          ]
        },
        {
          "output_type": "stream",
          "name": "stdout",
          "text": [
            "loss_sum=  0.06651524399959408 ACC=  0.9271486536333456 bacc=  0.8940343760883371 precision=  0.8918305597579426 specificity=  0.9641693811074918 sensitivity=  0.8238993710691824 recall=  0.8238993710691824 MCC=  0.8089415305856273 AUC=  0.9524593332902596 f1=  0.8565201598256448\n",
            "Epoch: 430 / 500, ############## the best accuracy in val  93.1391 at Epoch: 390  ##############\n",
            "Performance in Val: Loss: (0.0665); Accuracy (92.71)\n"
          ]
        },
        {
          "output_type": "stream",
          "name": "stderr",
          "text": [
            "Epoch 431: 100%|██████████| 3130/3130 [00:24<00:00, 125.90batch/s, train_loss=tensor(0.0088, device='cuda:0', grad_fn=<MseLossBackward0>)]\n"
          ]
        },
        {
          "output_type": "stream",
          "name": "stdout",
          "text": [
            "loss_sum=  0.06652373801106395 ACC=  0.9275175212098856 bacc=  0.8947331881079039 precision=  0.8919939577039275 specificity=  0.9641693811074918 sensitivity=  0.8252969951083159 recall=  0.8252969951083159 MCC=  0.8099614498340524 AUC=  0.9510533045964181 f1=  0.8573502722323049\n",
            "Epoch: 431 / 500, ############## the best accuracy in val  93.1391 at Epoch: 390  ##############\n",
            "Performance in Val: Loss: (0.0665); Accuracy (92.75)\n"
          ]
        },
        {
          "output_type": "stream",
          "name": "stderr",
          "text": [
            "Epoch 432: 100%|██████████| 3130/3130 [00:25<00:00, 124.91batch/s, train_loss=tensor(0.0121, device='cuda:0', grad_fn=<MseLossBackward0>)]\n"
          ]
        },
        {
          "output_type": "stream",
          "name": "stdout",
          "text": [
            "loss_sum=  0.06686195047643684 ACC=  0.9271486536333456 bacc=  0.8951549967160563 precision=  0.8888888888888888 specificity=  0.9629165622650965 sensitivity=  0.827393431167016 recall=  0.827393431167016 MCC=  0.8091785987099119 AUC=  0.9529137099354051 f1=  0.857039449873326\n",
            "Epoch: 432 / 500, ############## the best accuracy in val  93.1391 at Epoch: 390  ##############\n",
            "Performance in Val: Loss: (0.0669); Accuracy (92.71)\n"
          ]
        },
        {
          "output_type": "stream",
          "name": "stderr",
          "text": [
            "Epoch 433: 100%|██████████| 3130/3130 [00:25<00:00, 124.55batch/s, train_loss=tensor(0.0295, device='cuda:0', grad_fn=<MseLossBackward0>)]\n"
          ]
        },
        {
          "output_type": "stream",
          "name": "stdout",
          "text": [
            "loss_sum=  0.06534224397511082 ACC=  0.9284396901512357 bacc=  0.8971525905334522 precision=  0.8906367041198502 specificity=  0.9634176898020547 sensitivity=  0.8308874912648497 recall=  0.8308874912648497 MCC=  0.8126529653494532 AUC=  0.9534796233524032 f1=  0.8597252349963846\n",
            "Epoch: 433 / 500, ############## the best accuracy in val  93.1391 at Epoch: 390  ##############\n",
            "Performance in Val: Loss: (0.0653); Accuracy (92.84)\n"
          ]
        },
        {
          "output_type": "stream",
          "name": "stderr",
          "text": [
            "Epoch 434: 100%|██████████| 3130/3130 [00:24<00:00, 126.70batch/s, train_loss=tensor(0.0178, device='cuda:0', grad_fn=<MseLossBackward0>)]\n"
          ]
        },
        {
          "output_type": "stream",
          "name": "stdout",
          "text": [
            "loss_sum=  0.06646764746270964 ACC=  0.9258576171154556 bacc=  0.892260906396485 precision=  0.8894776684330054 specificity=  0.9634176898020547 sensitivity=  0.8211041229909154 recall=  0.8211041229909154 MCC=  0.8055071699665003 AUC=  0.9532120751775353 f1=  0.8539244186046512\n",
            "Epoch: 434 / 500, ############## the best accuracy in val  93.1391 at Epoch: 390  ##############\n",
            "Performance in Val: Loss: (0.0665); Accuracy (92.59)\n"
          ]
        },
        {
          "output_type": "stream",
          "name": "stderr",
          "text": [
            "Epoch 435: 100%|██████████| 3130/3130 [00:25<00:00, 124.67batch/s, train_loss=tensor(0.0223, device='cuda:0', grad_fn=<MseLossBackward0>)]\n"
          ]
        },
        {
          "output_type": "stream",
          "name": "stdout",
          "text": [
            "loss_sum=  0.06623813438924321 ACC=  0.9271486536333456 bacc=  0.894258500213881 precision=  0.8912386706948641 specificity=  0.9639188173390127 sensitivity=  0.8245981830887491 recall=  0.8245981830887491 MCC=  0.8089874276174143 AUC=  0.9536422884403953 f1=  0.8566243194192379\n",
            "Epoch: 435 / 500, ############## the best accuracy in val  93.1391 at Epoch: 390  ##############\n",
            "Performance in Val: Loss: (0.0662); Accuracy (92.71)\n"
          ]
        },
        {
          "output_type": "stream",
          "name": "stderr",
          "text": [
            "Epoch 436: 100%|██████████| 3130/3130 [00:24<00:00, 126.88batch/s, train_loss=tensor(0.0459, device='cuda:0', grad_fn=<MseLossBackward0>)]\n"
          ]
        },
        {
          "output_type": "stream",
          "name": "stdout",
          "text": [
            "loss_sum=  0.06575241090543019 ACC=  0.9286241239395057 bacc=  0.8966055000410602 precision=  0.8930722891566265 specificity=  0.9644199448759709 sensitivity=  0.8287910552061496 recall=  0.8287910552061496 MCC=  0.8129736178918431 AUC=  0.9528223093154566 f1=  0.8597317868793042\n",
            "Epoch: 436 / 500, ############## the best accuracy in val  93.1391 at Epoch: 390  ##############\n",
            "Performance in Val: Loss: (0.0658); Accuracy (92.86)\n"
          ]
        },
        {
          "output_type": "stream",
          "name": "stderr",
          "text": [
            "Epoch 437: 100%|██████████| 3130/3130 [00:24<00:00, 127.03batch/s, train_loss=tensor(0.0300, device='cuda:0', grad_fn=<MseLossBackward0>)]\n"
          ]
        },
        {
          "output_type": "stream",
          "name": "stdout",
          "text": [
            "loss_sum=  0.06662856391974475 ACC=  0.9282552563629657 bacc=  0.8950101915193182 precision=  0.8952959028831563 specificity=  0.9654221999498872 sensitivity=  0.8245981830887491 recall=  0.8245981830887491 MCC=  0.811778595863484 AUC=  0.9529448771966135 f1=  0.8584939978173881\n",
            "Epoch: 437 / 500, ############## the best accuracy in val  93.1391 at Epoch: 390  ##############\n",
            "Performance in Val: Loss: (0.0666); Accuracy (92.83)\n"
          ]
        },
        {
          "output_type": "stream",
          "name": "stderr",
          "text": [
            "Epoch 438: 100%|██████████| 3130/3130 [00:24<00:00, 127.56batch/s, train_loss=tensor(0.0806, device='cuda:0', grad_fn=<MseLossBackward0>)]\n"
          ]
        },
        {
          "output_type": "stream",
          "name": "stdout",
          "text": [
            "loss_sum=  0.06631467208317082 ACC=  0.9289929915160458 bacc=  0.8961836914329078 precision=  0.8962121212121212 specificity=  0.9656727637183663 sensitivity=  0.8266946191474493 recall=  0.8266946191474493 MCC=  0.8137715021545563 AUC=  0.953259176263294 f1=  0.8600508905852418\n",
            "Epoch: 438 / 500, ############## the best accuracy in val  93.1391 at Epoch: 390  ##############\n",
            "Performance in Val: Loss: (0.0663); Accuracy (92.90)\n"
          ]
        },
        {
          "output_type": "stream",
          "name": "stderr",
          "text": [
            "Epoch 439: 100%|██████████| 3130/3130 [00:25<00:00, 124.95batch/s, train_loss=tensor(0.0254, device='cuda:0', grad_fn=<MseLossBackward0>)]\n"
          ]
        },
        {
          "output_type": "stream",
          "name": "stdout",
          "text": [
            "loss_sum=  0.06636582166821886 ACC=  0.9302840280339358 bacc=  0.8972847887481283 precision=  0.9003802281368821 specificity=  0.9671761463292408 sensitivity=  0.827393431167016 recall=  0.827393431167016 MCC=  0.8170852782060127 AUC=  0.9516064359343813 f1=  0.8623452294246176\n",
            "Epoch: 439 / 500, ############## the best accuracy in val  93.1391 at Epoch: 390  ##############\n",
            "Performance in Val: Loss: (0.0664); Accuracy (93.03)\n"
          ]
        },
        {
          "output_type": "stream",
          "name": "stderr",
          "text": [
            "Epoch 440: 100%|██████████| 3130/3130 [00:25<00:00, 125.08batch/s, train_loss=tensor(0.0316, device='cuda:0', grad_fn=<MseLossBackward0>)]\n"
          ]
        },
        {
          "output_type": "stream",
          "name": "stdout",
          "text": [
            "loss_sum=  0.06668062393751358 ACC=  0.9275175212098856 bacc=  0.8956296846100792 precision=  0.8896396396396397 specificity=  0.9631671260335756 sensitivity=  0.8280922431865828 recall=  0.8280922431865828 MCC=  0.8101506407898607 AUC=  0.9517733033497277 f1=  0.8577633007600435\n",
            "Epoch: 440 / 500, ############## the best accuracy in val  93.1391 at Epoch: 390  ##############\n",
            "Performance in Val: Loss: (0.0667); Accuracy (92.75)\n"
          ]
        },
        {
          "output_type": "stream",
          "name": "stderr",
          "text": [
            "Epoch 441: 100%|██████████| 3130/3130 [00:24<00:00, 126.56batch/s, train_loss=tensor(0.0174, device='cuda:0', grad_fn=<MseLossBackward0>)]\n"
          ]
        },
        {
          "output_type": "stream",
          "name": "stdout",
          "text": [
            "loss_sum=  0.06622358061823785 ACC=  0.9278863887864257 bacc=  0.8954320001274706 precision=  0.8921568627450981 specificity=  0.9641693811074918 sensitivity=  0.8266946191474493 recall=  0.8266946191474493 MCC=  0.81098113514437 AUC=  0.9530226202526615 f1=  0.8581791802684077\n",
            "Epoch: 441 / 500, ############## the best accuracy in val  93.1391 at Epoch: 390  ##############\n",
            "Performance in Val: Loss: (0.0662); Accuracy (92.79)\n"
          ]
        },
        {
          "output_type": "stream",
          "name": "stderr",
          "text": [
            "Epoch 442: 100%|██████████| 3130/3130 [00:25<00:00, 123.79batch/s, train_loss=tensor(0.0368, device='cuda:0', grad_fn=<MseLossBackward0>)]\n"
          ]
        },
        {
          "output_type": "stream",
          "name": "stdout",
          "text": [
            "loss_sum=  0.0664266642625375 ACC=  0.9280708225746956 bacc=  0.8951090337606225 precision=  0.8940196820590461 specificity=  0.9649210724129291 sensitivity=  0.8252969951083159 recall=  0.8252969951083159 MCC=  0.8113557951427027 AUC=  0.9513534208082791 f1=  0.8582848837209301\n",
            "Epoch: 442 / 500, ############## the best accuracy in val  93.1391 at Epoch: 390  ##############\n",
            "Performance in Val: Loss: (0.0664); Accuracy (92.81)\n"
          ]
        },
        {
          "output_type": "stream",
          "name": "stderr",
          "text": [
            "Epoch 443: 100%|██████████| 3130/3130 [00:25<00:00, 123.01batch/s, train_loss=tensor(0.0510, device='cuda:0', grad_fn=<MseLossBackward0>)]\n"
          ]
        },
        {
          "output_type": "stream",
          "name": "stdout",
          "text": [
            "loss_sum=  0.06656239660879855 ACC=  0.9262264846919955 bacc=  0.8938562149182271 precision=  0.8873027798647634 specificity=  0.9624154347281383 sensitivity=  0.8252969951083159 recall=  0.8252969951083159 MCC=  0.8067233209804539 AUC=  0.9518042079654765 f1=  0.8551774076755974\n",
            "Epoch: 443 / 500, ############## the best accuracy in val  93.1391 at Epoch: 390  ##############\n",
            "Performance in Val: Loss: (0.0666); Accuracy (92.62)\n"
          ]
        },
        {
          "output_type": "stream",
          "name": "stderr",
          "text": [
            "Epoch 444: 100%|██████████| 3130/3130 [00:25<00:00, 124.92batch/s, train_loss=tensor(0.0258, device='cuda:0', grad_fn=<MseLossBackward0>)]\n"
          ]
        },
        {
          "output_type": "stream",
          "name": "stdout",
          "text": [
            "loss_sum=  0.06637316280399012 ACC=  0.9278863887864257 bacc=  0.8978973655084528 precision=  0.8857566765578635 specificity=  0.961413179654222 sensitivity=  0.8343815513626834 recall=  0.8343815513626834 MCC=  0.8115331814528984 AUC=  0.9518239063749481 f1=  0.8593019071608493\n",
            "Epoch: 444 / 500, ############## the best accuracy in val  93.1391 at Epoch: 390  ##############\n",
            "Performance in Val: Loss: (0.0664); Accuracy (92.79)\n"
          ]
        },
        {
          "output_type": "stream",
          "name": "stderr",
          "text": [
            "Epoch 445: 100%|██████████| 3130/3130 [00:25<00:00, 124.43batch/s, train_loss=tensor(0.0262, device='cuda:0', grad_fn=<MseLossBackward0>)]\n"
          ]
        },
        {
          "output_type": "stream",
          "name": "stdout",
          "text": [
            "loss_sum=  0.06507678773765148 ACC=  0.9299151604573958 bacc=  0.8968101008541055 precision=  0.8996197718631179 specificity=  0.9669255825607617 sensitivity=  0.8266946191474493 recall=  0.8266946191474493 MCC=  0.8161089999770603 AUC=  0.9543328709022274 f1=  0.8616168973051711\n",
            "Epoch: 445 / 500, ############## the best accuracy in val  93.1391 at Epoch: 390  ##############\n",
            "Performance in Val: Loss: (0.0651); Accuracy (92.99)\n"
          ]
        },
        {
          "output_type": "stream",
          "name": "stderr",
          "text": [
            "Epoch 446: 100%|██████████| 3130/3130 [00:24<00:00, 125.57batch/s, train_loss=tensor(0.0618, device='cuda:0', grad_fn=<MseLossBackward0>)]\n"
          ]
        },
        {
          "output_type": "stream",
          "name": "stdout",
          "text": [
            "loss_sum=  0.0655283377091002 ACC=  0.9282552563629657 bacc=  0.8936654467660552 precision=  0.8989280245022971 specificity=  0.9669255825607617 sensitivity=  0.8204053109713487 recall=  0.8204053109713487 MCC=  0.8115377041567802 AUC=  0.9537678329700947 f1=  0.8578735842162952\n",
            "Epoch: 446 / 500, ############## the best accuracy in val  93.1391 at Epoch: 390  ##############\n",
            "Performance in Val: Loss: (0.0655); Accuracy (92.83)\n"
          ]
        },
        {
          "output_type": "stream",
          "name": "stderr",
          "text": [
            "Epoch 447: 100%|██████████| 3130/3130 [00:24<00:00, 125.49batch/s, train_loss=tensor(0.0175, device='cuda:0', grad_fn=<MseLossBackward0>)]\n"
          ]
        },
        {
          "output_type": "stream",
          "name": "stdout",
          "text": [
            "loss_sum=  0.06559842084960292 ACC=  0.9267797860568056 bacc=  0.8935596881943142 precision=  0.8910741301059002 specificity=  0.9639188173390127 sensitivity=  0.8232005590496156 recall=  0.8232005590496156 MCC=  0.8079670096431822 AUC=  0.9534964326618189 f1=  0.8557936796222303\n",
            "Epoch: 447 / 500, ############## the best accuracy in val  93.1391 at Epoch: 390  ##############\n",
            "Performance in Val: Loss: (0.0656); Accuracy (92.68)\n"
          ]
        },
        {
          "output_type": "stream",
          "name": "stderr",
          "text": [
            "Epoch 448: 100%|██████████| 3130/3130 [00:24<00:00, 126.38batch/s, train_loss=tensor(0.0223, device='cuda:0', grad_fn=<MseLossBackward0>)]\n"
          ]
        },
        {
          "output_type": "stream",
          "name": "stdout",
          "text": [
            "loss_sum=  0.06582553473034747 ACC=  0.9299151604573958 bacc=  0.8986030938584562 precision=  0.8948159278737791 specificity=  0.9649210724129291 sensitivity=  0.8322851153039832 recall=  0.8322851153039832 MCC=  0.816446204098469 AUC=  0.953468417146126 f1=  0.8624185372918175\n",
            "Epoch: 448 / 500, ############## the best accuracy in val  93.1391 at Epoch: 390  ##############\n",
            "Performance in Val: Loss: (0.0658); Accuracy (92.99)\n"
          ]
        },
        {
          "output_type": "stream",
          "name": "stderr",
          "text": [
            "Epoch 449: 100%|██████████| 3130/3130 [00:24<00:00, 126.79batch/s, train_loss=tensor(0.0271, device='cuda:0', grad_fn=<MseLossBackward0>)]\n"
          ]
        },
        {
          "output_type": "stream",
          "name": "stdout",
          "text": [
            "loss_sum=  0.06616354449501036 ACC=  0.9273330874216157 bacc=  0.8934872855959453 precision=  0.8942965779467681 specificity=  0.9651716361814082 sensitivity=  0.8218029350104822 recall=  0.8218029350104822 MCC=  0.8092750523743939 AUC=  0.9524754422117829 f1=  0.8565185724690458\n",
            "Epoch: 449 / 500, ############## the best accuracy in val  93.1391 at Epoch: 390  ##############\n",
            "Performance in Val: Loss: (0.0662); Accuracy (92.73)\n"
          ]
        },
        {
          "output_type": "stream",
          "name": "stderr",
          "text": [
            "Epoch 450: 100%|██████████| 3130/3130 [00:24<00:00, 126.94batch/s, train_loss=tensor(0.0261, device='cuda:0', grad_fn=<MseLossBackward0>)]\n"
          ]
        },
        {
          "output_type": "stream",
          "name": "stdout",
          "text": [
            "loss_sum=  0.06668499309863554 ACC=  0.9284396901512357 bacc=  0.8960319699057331 precision=  0.8935849056603774 specificity=  0.96467050864445 sensitivity=  0.827393431167016 recall=  0.827393431167016 MCC=  0.8124188684152306 AUC=  0.951579821194473 f1=  0.8592162554426706\n",
            "Epoch: 450 / 500, ############## the best accuracy in val  93.1391 at Epoch: 390  ##############\n",
            "Performance in Val: Loss: (0.0667); Accuracy (92.84)\n"
          ]
        },
        {
          "output_type": "stream",
          "name": "stderr",
          "text": [
            "Epoch 451: 100%|██████████| 3130/3130 [00:24<00:00, 125.75batch/s, train_loss=tensor(0.0471, device='cuda:0', grad_fn=<MseLossBackward0>)]\n"
          ]
        },
        {
          "output_type": "stream",
          "name": "stdout",
          "text": [
            "loss_sum=  0.06654132939435564 ACC=  0.9286241239395057 bacc=  0.894364258785622 precision=  0.8990825688073395 specificity=  0.9669255825607617 sensitivity=  0.8218029350104822 recall=  0.8218029350104822 MCC=  0.8125539553870517 AUC=  0.952231707225254 f1=  0.8587075575027383\n",
            "Epoch: 451 / 500, ############## the best accuracy in val  93.1391 at Epoch: 390  ##############\n",
            "Performance in Val: Loss: (0.0665); Accuracy (92.86)\n"
          ]
        },
        {
          "output_type": "stream",
          "name": "stderr",
          "text": [
            "Epoch 452: 100%|██████████| 3130/3130 [00:24<00:00, 125.55batch/s, train_loss=tensor(0.0300, device='cuda:0', grad_fn=<MseLossBackward0>)]\n"
          ]
        },
        {
          "output_type": "stream",
          "name": "stdout",
          "text": [
            "loss_sum=  0.06628387566768512 ACC=  0.9288085577277757 bacc=  0.8953860371720368 precision=  0.8973384030418251 specificity=  0.9661738912553245 sensitivity=  0.8245981830887491 recall=  0.8245981830887491 MCC=  0.8131801652902033 AUC=  0.9536121717610255 f1=  0.8594319009468318\n",
            "Epoch: 452 / 500, ############## the best accuracy in val  93.1391 at Epoch: 390  ##############\n",
            "Performance in Val: Loss: (0.0663); Accuracy (92.88)\n"
          ]
        },
        {
          "output_type": "stream",
          "name": "stderr",
          "text": [
            "Epoch 453: 100%|██████████| 3130/3130 [00:24<00:00, 125.21batch/s, train_loss=tensor(0.0172, device='cuda:0', grad_fn=<MseLossBackward0>)]\n"
          ]
        },
        {
          "output_type": "stream",
          "name": "stdout",
          "text": [
            "loss_sum=  0.06559605496471259 ACC=  0.9254887495389156 bacc=  0.8920103426280059 precision=  0.8881330309901738 specificity=  0.9629165622650965 sensitivity=  0.8211041229909154 recall=  0.8211041229909154 MCC=  0.8045801626181084 AUC=  0.9530226202526614 f1=  0.8533042846768337\n",
            "Epoch: 453 / 500, ############## the best accuracy in val  93.1391 at Epoch: 390  ##############\n",
            "Performance in Val: Loss: (0.0656); Accuracy (92.55)\n"
          ]
        },
        {
          "output_type": "stream",
          "name": "stderr",
          "text": [
            "Epoch 454: 100%|██████████| 3130/3130 [00:24<00:00, 126.35batch/s, train_loss=tensor(0.0216, device='cuda:0', grad_fn=<MseLossBackward0>)]\n"
          ]
        },
        {
          "output_type": "stream",
          "name": "stdout",
          "text": [
            "loss_sum=  0.0665120987391929 ACC=  0.9249354481741054 bacc=  0.8920827452263751 precision=  0.8849624060150376 specificity=  0.9616637434227011 sensitivity=  0.822501747030049 recall=  0.822501747030049 MCC=  0.8032944635272561 AUC=  0.95179956789569 f1=  0.852589641434263\n",
            "Epoch: 454 / 500, ############## the best accuracy in val  93.1391 at Epoch: 390  ##############\n",
            "Performance in Val: Loss: (0.0665); Accuracy (92.49)\n"
          ]
        },
        {
          "output_type": "stream",
          "name": "stderr",
          "text": [
            "Epoch 455: 100%|██████████| 3130/3130 [00:24<00:00, 127.24batch/s, train_loss=tensor(0.0260, device='cuda:0', grad_fn=<MseLossBackward0>)]\n"
          ]
        },
        {
          "output_type": "stream",
          "name": "stdout",
          "text": [
            "loss_sum=  0.06591208750151295 ACC=  0.9288085577277757 bacc=  0.8969549060508436 precision=  0.8931527464258842 specificity=  0.9644199448759709 sensitivity=  0.8294898672257163 recall=  0.8294898672257163 MCC=  0.8134830110943653 AUC=  0.9537427941029442 f1=  0.8601449275362318\n",
            "Epoch: 455 / 500, ############## the best accuracy in val  93.1391 at Epoch: 390  ##############\n",
            "Performance in Val: Loss: (0.0659); Accuracy (92.88)\n"
          ]
        },
        {
          "output_type": "stream",
          "name": "stderr",
          "text": [
            "Epoch 456: 100%|██████████| 3130/3130 [00:24<00:00, 126.50batch/s, train_loss=tensor(0.0121, device='cuda:0', grad_fn=<MseLossBackward0>)]\n"
          ]
        },
        {
          "output_type": "stream",
          "name": "stdout",
          "text": [
            "loss_sum=  0.06570926214950186 ACC=  0.9277019549981557 bacc=  0.8955308423687749 precision=  0.890895410082769 specificity=  0.9636682535705337 sensitivity=  0.827393431167016 recall=  0.827393431167016 MCC=  0.8105646654726815 AUC=  0.9535517633053125 f1=  0.8579710144927535\n",
            "Epoch: 456 / 500, ############## the best accuracy in val  93.1391 at Epoch: 390  ##############\n",
            "Performance in Val: Loss: (0.0657); Accuracy (92.77)\n"
          ]
        },
        {
          "output_type": "stream",
          "name": "stderr",
          "text": [
            "Epoch 457: 100%|██████████| 3130/3130 [00:25<00:00, 125.11batch/s, train_loss=tensor(0.0255, device='cuda:0', grad_fn=<MseLossBackward0>)]\n"
          ]
        },
        {
          "output_type": "stream",
          "name": "stdout",
          "text": [
            "loss_sum=  0.06589506164462386 ACC=  0.9280708225746956 bacc=  0.895781406137254 precision=  0.8922381311228335 specificity=  0.9641693811074918 sensitivity=  0.827393431167016 recall=  0.827393431167016 MCC=  0.8114908907510892 AUC=  0.9529471534572636 f1=  0.8585931834662799\n",
            "Epoch: 457 / 500, ############## the best accuracy in val  93.1391 at Epoch: 390  ##############\n",
            "Performance in Val: Loss: (0.0659); Accuracy (92.81)\n"
          ]
        },
        {
          "output_type": "stream",
          "name": "stderr",
          "text": [
            "Epoch 458: 100%|██████████| 3130/3130 [00:24<00:00, 125.79batch/s, train_loss=tensor(0.0267, device='cuda:0', grad_fn=<MseLossBackward0>)]\n"
          ]
        },
        {
          "output_type": "stream",
          "name": "stdout",
          "text": [
            "loss_sum=  0.06660584917506285 ACC=  0.9308373293987459 bacc=  0.8992295032796538 precision=  0.8981900452488688 specificity=  0.9661738912553245 sensitivity=  0.8322851153039832 recall=  0.8322851153039832 MCC=  0.818769334926075 AUC=  0.9518732837213568 f1=  0.8639825897714907\n",
            "Epoch: 458 / 500, ############## the best accuracy in val  93.1391 at Epoch: 390  ##############\n",
            "Performance in Val: Loss: (0.0666); Accuracy (93.08)\n"
          ]
        },
        {
          "output_type": "stream",
          "name": "stderr",
          "text": [
            "Epoch 459: 100%|██████████| 3130/3130 [00:25<00:00, 124.67batch/s, train_loss=tensor(0.0129, device='cuda:0', grad_fn=<MseLossBackward0>)]\n"
          ]
        },
        {
          "output_type": "stream",
          "name": "stdout",
          "text": [
            "loss_sum=  0.06613702944323288 ACC=  0.9280708225746956 bacc=  0.8933160407562718 precision=  0.8988505747126436 specificity=  0.9669255825607617 sensitivity=  0.8197064989517819 recall=  0.8197064989517819 MCC=  0.811029489818038 AUC=  0.9532472696691244 f1=  0.8574561403508772\n",
            "Epoch: 459 / 500, ############## the best accuracy in val  93.1391 at Epoch: 390  ##############\n",
            "Performance in Val: Loss: (0.0661); Accuracy (92.81)\n"
          ]
        },
        {
          "output_type": "stream",
          "name": "stderr",
          "text": [
            "Epoch 460: 100%|██████████| 3130/3130 [00:24<00:00, 125.83batch/s, train_loss=tensor(0.0231, device='cuda:0', grad_fn=<MseLossBackward0>)]\n"
          ]
        },
        {
          "output_type": "stream",
          "name": "stdout",
          "text": [
            "loss_sum=  0.06658202091130293 ACC=  0.9304684618222059 bacc=  0.8978583188834557 precision=  0.8998482549317147 specificity=  0.9669255825607617 sensitivity=  0.8287910552061496 recall=  0.8287910552061496 MCC=  0.8176317330283938 AUC=  0.9516106382617353 f1=  0.8628592215351036\n",
            "Epoch: 460 / 500, ############## the best accuracy in val  93.1391 at Epoch: 390  ##############\n",
            "Performance in Val: Loss: (0.0666); Accuracy (93.05)\n"
          ]
        },
        {
          "output_type": "stream",
          "name": "stderr",
          "text": [
            "Epoch 461: 100%|██████████| 3130/3130 [00:24<00:00, 125.94batch/s, train_loss=tensor(0.0136, device='cuda:0', grad_fn=<MseLossBackward0>)]\n"
          ]
        },
        {
          "output_type": "stream",
          "name": "stdout",
          "text": [
            "loss_sum=  0.06624832081232099 ACC=  0.9297307266691258 bacc=  0.8973571913464975 precision=  0.897125567322239 specificity=  0.9659233274868454 sensitivity=  0.8287910552061496 recall=  0.8287910552061496 MCC=  0.8157631771827428 AUC=  0.9508878379568565 f1=  0.8616055212495459\n",
            "Epoch: 461 / 500, ############## the best accuracy in val  93.1391 at Epoch: 390  ##############\n",
            "Performance in Val: Loss: (0.0662); Accuracy (92.97)\n"
          ]
        },
        {
          "output_type": "stream",
          "name": "stderr",
          "text": [
            "Epoch 462: 100%|██████████| 3130/3130 [00:24<00:00, 126.41batch/s, train_loss=tensor(0.0221, device='cuda:0', grad_fn=<MseLossBackward0>)]\n"
          ]
        },
        {
          "output_type": "stream",
          "name": "stdout",
          "text": [
            "loss_sum=  0.0659922471195789 ACC=  0.9304684618222059 bacc=  0.8989789395111747 precision=  0.8968373493975904 specificity=  0.9656727637183663 sensitivity=  0.8322851153039832 recall=  0.8322851153039832 MCC=  0.8178387639189822 AUC=  0.9507414568873606 f1=  0.86335628851033\n",
            "Epoch: 462 / 500, ############## the best accuracy in val  93.1391 at Epoch: 390  ##############\n",
            "Performance in Val: Loss: (0.0660); Accuracy (93.05)\n"
          ]
        },
        {
          "output_type": "stream",
          "name": "stderr",
          "text": [
            "Epoch 463: 100%|██████████| 3130/3130 [00:25<00:00, 125.18batch/s, train_loss=tensor(0.0330, device='cuda:0', grad_fn=<MseLossBackward0>)]\n"
          ]
        },
        {
          "output_type": "stream",
          "name": "stdout",
          "text": [
            "loss_sum=  0.06567445680963364 ACC=  0.9273330874216157 bacc=  0.895056154474752 precision=  0.8901429646350639 specificity=  0.9634176898020547 sensitivity=  0.8266946191474493 recall=  0.8266946191474493 MCC=  0.8095918835987869 AUC=  0.9538613347537199 f1=  0.8572463768115941\n",
            "Epoch: 463 / 500, ############## the best accuracy in val  93.1391 at Epoch: 390  ##############\n",
            "Performance in Val: Loss: (0.0657); Accuracy (92.73)\n"
          ]
        },
        {
          "output_type": "stream",
          "name": "stderr",
          "text": [
            "Epoch 464: 100%|██████████| 3130/3130 [00:25<00:00, 123.37batch/s, train_loss=tensor(0.0123, device='cuda:0', grad_fn=<MseLossBackward0>)]\n"
          ]
        },
        {
          "output_type": "stream",
          "name": "stdout",
          "text": [
            "loss_sum=  0.0658766501796072 ACC=  0.9284396901512357 bacc=  0.8955837216546454 precision=  0.894776684330053 specificity=  0.9651716361814082 sensitivity=  0.8259958071278826 recall=  0.8259958071278826 MCC=  0.8123305660054032 AUC=  0.9507892583610117 f1=  0.8590116279069767\n",
            "Epoch: 464 / 500, ############## the best accuracy in val  93.1391 at Epoch: 390  ##############\n",
            "Performance in Val: Loss: (0.0659); Accuracy (92.84)\n"
          ]
        },
        {
          "output_type": "stream",
          "name": "stderr",
          "text": [
            "Epoch 465: 100%|██████████| 3130/3130 [00:25<00:00, 124.69batch/s, train_loss=tensor(0.0525, device='cuda:0', grad_fn=<MseLossBackward0>)]\n"
          ]
        },
        {
          "output_type": "stream",
          "name": "stdout",
          "text": [
            "loss_sum=  0.06637127563538672 ACC=  0.9308373293987459 bacc=  0.8992295032796538 precision=  0.8981900452488688 specificity=  0.9661738912553245 sensitivity=  0.8322851153039832 recall=  0.8322851153039832 MCC=  0.818769334926075 AUC=  0.9513970199545764 f1=  0.8639825897714907\n",
            "Epoch: 465 / 500, ############## the best accuracy in val  93.1391 at Epoch: 390  ##############\n",
            "Performance in Val: Loss: (0.0664); Accuracy (93.08)\n"
          ]
        },
        {
          "output_type": "stream",
          "name": "stderr",
          "text": [
            "Epoch 466: 100%|██████████| 3130/3130 [00:25<00:00, 124.75batch/s, train_loss=tensor(0.0276, device='cuda:0', grad_fn=<MseLossBackward0>)]\n"
          ]
        },
        {
          "output_type": "stream",
          "name": "stdout",
          "text": [
            "loss_sum=  0.06603857686888745 ACC=  0.9278863887864257 bacc=  0.8943113794997515 precision=  0.8951367781155015 specificity=  0.9654221999498872 sensitivity=  0.8232005590496156 recall=  0.8232005590496156 MCC=  0.810760477726108 AUC=  0.9528039241332832 f1=  0.8576629049872588\n",
            "Epoch: 466 / 500, ############## the best accuracy in val  93.1391 at Epoch: 390  ##############\n",
            "Performance in Val: Loss: (0.0660); Accuracy (92.79)\n"
          ]
        },
        {
          "output_type": "stream",
          "name": "stderr",
          "text": [
            "Epoch 467: 100%|██████████| 3130/3130 [00:25<00:00, 124.42batch/s, train_loss=tensor(0.0208, device='cuda:0', grad_fn=<MseLossBackward0>)]\n"
          ]
        },
        {
          "output_type": "stream",
          "name": "stdout",
          "text": [
            "loss_sum=  0.06701868690088787 ACC=  0.9291774253043158 bacc=  0.8940677320617091 precision=  0.9030023094688222 specificity=  0.9684289651716362 sensitivity=  0.8197064989517819 recall=  0.8197064989517819 MCC=  0.8138611316280442 AUC=  0.9514625062225086 f1=  0.8593406593406594\n",
            "Epoch: 467 / 500, ############## the best accuracy in val  93.1391 at Epoch: 390  ##############\n",
            "Performance in Val: Loss: (0.0670); Accuracy (92.92)\n"
          ]
        },
        {
          "output_type": "stream",
          "name": "stderr",
          "text": [
            "Epoch 468: 100%|██████████| 3130/3130 [00:24<00:00, 125.88batch/s, train_loss=tensor(0.0378, device='cuda:0', grad_fn=<MseLossBackward0>)]\n"
          ]
        },
        {
          "output_type": "stream",
          "name": "stdout",
          "text": [
            "loss_sum=  0.06639483128193557 ACC=  0.9273330874216157 bacc=  0.8932631614704013 precision=  0.8948971820258949 specificity=  0.9654221999498872 sensitivity=  0.8211041229909154 recall=  0.8211041229909154 MCC=  0.8092328588888835 AUC=  0.9507263985476757 f1=  0.8564139941690961\n",
            "Epoch: 468 / 500, ############## the best accuracy in val  93.1391 at Epoch: 390  ##############\n",
            "Performance in Val: Loss: (0.0664); Accuracy (92.73)\n"
          ]
        },
        {
          "output_type": "stream",
          "name": "stderr",
          "text": [
            "Epoch 469: 100%|██████████| 3130/3130 [00:24<00:00, 126.84batch/s, train_loss=tensor(0.0412, device='cuda:0', grad_fn=<MseLossBackward0>)]\n"
          ]
        },
        {
          "output_type": "stream",
          "name": "stdout",
          "text": [
            "loss_sum=  0.06543276592976466 ACC=  0.9278863887864257 bacc=  0.8967767448807336 precision=  0.8886397608370703 specificity=  0.9626659984966174 sensitivity=  0.8308874912648497 recall=  0.8308874912648497 MCC=  0.8112710213010437 AUC=  0.9535960628395022 f1=  0.8587937883712532\n",
            "Epoch: 469 / 500, ############## the best accuracy in val  93.1391 at Epoch: 390  ##############\n",
            "Performance in Val: Loss: (0.0654); Accuracy (92.79)\n"
          ]
        },
        {
          "output_type": "stream",
          "name": "stderr",
          "text": [
            "Epoch 470: 100%|██████████| 3130/3130 [00:24<00:00, 127.45batch/s, train_loss=tensor(0.0138, device='cuda:0', grad_fn=<MseLossBackward0>)]\n"
          ]
        },
        {
          "output_type": "stream",
          "name": "stdout",
          "text": [
            "loss_sum=  0.06668514340764302 ACC=  0.9254887495389156 bacc=  0.8924585908790936 precision=  0.8869630746043707 specificity=  0.9624154347281383 sensitivity=  0.822501747030049 recall=  0.822501747030049 MCC=  0.8046779524173698 AUC=  0.9505514766715677 f1=  0.8535170413343002\n",
            "Epoch: 470 / 500, ############## the best accuracy in val  93.1391 at Epoch: 390  ##############\n",
            "Performance in Val: Loss: (0.0667); Accuracy (92.55)\n"
          ]
        },
        {
          "output_type": "stream",
          "name": "stderr",
          "text": [
            "Epoch 471: 100%|██████████| 3130/3130 [00:24<00:00, 126.59batch/s, train_loss=tensor(0.0251, device='cuda:0', grad_fn=<MseLossBackward0>)]\n"
          ]
        },
        {
          "output_type": "stream",
          "name": "stdout",
          "text": [
            "loss_sum=  0.06577905337532274 ACC=  0.9295462928808558 bacc=  0.8963354129600827 precision=  0.8988593155893536 specificity=  0.9666750187922827 sensitivity=  0.8259958071278826 recall=  0.8259958071278826 MCC=  0.815132721748108 AUC=  0.9522486916316428 f1=  0.8608885651857247\n",
            "Epoch: 471 / 500, ############## the best accuracy in val  93.1391 at Epoch: 390  ##############\n",
            "Performance in Val: Loss: (0.0658); Accuracy (92.95)\n"
          ]
        },
        {
          "output_type": "stream",
          "name": "stderr",
          "text": [
            "Epoch 472: 100%|██████████| 3130/3130 [00:24<00:00, 125.48batch/s, train_loss=tensor(0.0333, device='cuda:0', grad_fn=<MseLossBackward0>)]\n"
          ]
        },
        {
          "output_type": "stream",
          "name": "stdout",
          "text": [
            "loss_sum=  0.06598265458634645 ACC=  0.9288085577277757 bacc=  0.897627278427475 precision=  0.8913857677902621 specificity=  0.9636682535705337 sensitivity=  0.8315863032844165 recall=  0.8315863032844165 MCC=  0.8136242709228981 AUC=  0.9529821728518797 f1=  0.8604483007953724\n",
            "Epoch: 472 / 500, ############## the best accuracy in val  93.1391 at Epoch: 390  ##############\n",
            "Performance in Val: Loss: (0.0660); Accuracy (92.88)\n"
          ]
        },
        {
          "output_type": "stream",
          "name": "stderr",
          "text": [
            "Epoch 473: 100%|██████████| 3130/3130 [00:24<00:00, 126.33batch/s, train_loss=tensor(0.0142, device='cuda:0', grad_fn=<MseLossBackward0>)]\n"
          ]
        },
        {
          "output_type": "stream",
          "name": "stdout",
          "text": [
            "loss_sum=  0.06567485611693477 ACC=  0.9286241239395057 bacc=  0.8959331276644288 precision=  0.8948562783661119 specificity=  0.9651716361814082 sensitivity=  0.8266946191474493 recall=  0.8266946191474493 MCC=  0.8128396143554076 AUC=  0.9514765139803554 f1=  0.8594260806393025\n",
            "Epoch: 473 / 500, ############## the best accuracy in val  93.1391 at Epoch: 390  ##############\n",
            "Performance in Val: Loss: (0.0657); Accuracy (92.86)\n"
          ]
        },
        {
          "output_type": "stream",
          "name": "stderr",
          "text": [
            "Epoch 474: 100%|██████████| 3130/3130 [00:24<00:00, 126.63batch/s, train_loss=tensor(0.0473, device='cuda:0', grad_fn=<MseLossBackward0>)]\n"
          ]
        },
        {
          "output_type": "stream",
          "name": "stdout",
          "text": [
            "loss_sum=  0.06679445190580457 ACC=  0.9280708225746956 bacc=  0.8953331578861663 precision=  0.8934240362811792 specificity=  0.96467050864445 sensitivity=  0.8259958071278826 recall=  0.8259958071278826 MCC=  0.8114000623759511 AUC=  0.9521795283272758 f1=  0.8583877995642702\n",
            "Epoch: 474 / 500, ############## the best accuracy in val  93.1391 at Epoch: 390  ##############\n",
            "Performance in Val: Loss: (0.0668); Accuracy (92.81)\n"
          ]
        },
        {
          "output_type": "stream",
          "name": "stderr",
          "text": [
            "Epoch 475: 100%|██████████| 3130/3130 [00:24<00:00, 126.92batch/s, train_loss=tensor(0.0563, device='cuda:0', grad_fn=<MseLossBackward0>)]\n"
          ]
        },
        {
          "output_type": "stream",
          "name": "stdout",
          "text": [
            "loss_sum=  0.06651850040743792 ACC=  0.9289929915160458 bacc=  0.8966319396839955 precision=  0.8950151057401813 specificity=  0.9651716361814082 sensitivity=  0.8280922431865828 recall=  0.8280922431865828 MCC=  0.8138575387006046 AUC=  0.9523026214993519 f1=  0.8602540834845736\n",
            "Epoch: 475 / 500, ############## the best accuracy in val  93.1391 at Epoch: 390  ##############\n",
            "Performance in Val: Loss: (0.0665); Accuracy (92.90)\n"
          ]
        },
        {
          "output_type": "stream",
          "name": "stderr",
          "text": [
            "Epoch 476: 100%|██████████| 3130/3130 [00:24<00:00, 127.90batch/s, train_loss=tensor(0.0489, device='cuda:0', grad_fn=<MseLossBackward0>)]\n"
          ]
        },
        {
          "output_type": "stream",
          "name": "stdout",
          "text": [
            "loss_sum=  0.06613901686088174 ACC=  0.9291774253043158 bacc=  0.8963089733171474 precision=  0.8968915845337376 specificity=  0.9659233274868454 sensitivity=  0.8266946191474493 recall=  0.8266946191474493 MCC=  0.8142381110635134 AUC=  0.9531539429824724 f1=  0.8603636363636363\n",
            "Epoch: 476 / 500, ############## the best accuracy in val  93.1391 at Epoch: 390  ##############\n",
            "Performance in Val: Loss: (0.0661); Accuracy (92.92)\n"
          ]
        },
        {
          "output_type": "stream",
          "name": "stderr",
          "text": [
            "Epoch 477: 100%|██████████| 3130/3130 [00:24<00:00, 127.60batch/s, train_loss=tensor(0.0324, device='cuda:0', grad_fn=<MseLossBackward0>)]\n"
          ]
        },
        {
          "output_type": "stream",
          "name": "stdout",
          "text": [
            "loss_sum=  0.06616820017106634 ACC=  0.9284396901512357 bacc=  0.8937907286502947 precision=  0.8996168582375479 specificity=  0.9671761463292408 sensitivity=  0.8204053109713487 recall=  0.8204053109713487 MCC=  0.8120083105134054 AUC=  0.9522140224309728 f1=  0.858187134502924\n",
            "Epoch: 477 / 500, ############## the best accuracy in val  93.1391 at Epoch: 390  ##############\n",
            "Performance in Val: Loss: (0.0662); Accuracy (92.84)\n"
          ]
        },
        {
          "output_type": "stream",
          "name": "stderr",
          "text": [
            "Epoch 478: 100%|██████████| 3130/3130 [00:24<00:00, 126.70batch/s, train_loss=tensor(0.0246, device='cuda:0', grad_fn=<MseLossBackward0>)]\n"
          ]
        },
        {
          "output_type": "stream",
          "name": "stdout",
          "text": [
            "loss_sum=  0.06548608161212333 ACC=  0.9267797860568056 bacc=  0.8955768053242087 precision=  0.8858208955223881 specificity=  0.9616637434227011 sensitivity=  0.8294898672257163 recall=  0.8294898672257163 MCC=  0.8084117102178747 AUC=  0.9531436122610605 f1=  0.8567304222302419\n",
            "Epoch: 478 / 500, ############## the best accuracy in val  93.1391 at Epoch: 390  ##############\n",
            "Performance in Val: Loss: (0.0655); Accuracy (92.68)\n"
          ]
        },
        {
          "output_type": "stream",
          "name": "stderr",
          "text": [
            "Epoch 479: 100%|██████████| 3130/3130 [00:24<00:00, 128.59batch/s, train_loss=tensor(0.0225, device='cuda:0', grad_fn=<MseLossBackward0>)]\n"
          ]
        },
        {
          "output_type": "stream",
          "name": "stdout",
          "text": [
            "loss_sum=  0.06484470676334031 ACC=  0.932128365916636 bacc=  0.9001064764693306 precision=  0.9029567854435178 specificity=  0.967927837634678 sensitivity=  0.8322851153039832 recall=  0.8322851153039832 MCC=  0.8220402856332953 AUC=  0.9535305765715698 f1=  0.8661818181818182\n",
            "Epoch: 479 / 500, ############## the best accuracy in val  93.1391 at Epoch: 390  ##############\n",
            "Performance in Val: Loss: (0.0648); Accuracy (93.21)\n"
          ]
        },
        {
          "output_type": "stream",
          "name": "stderr",
          "text": [
            "Epoch 480: 100%|██████████| 3130/3130 [00:24<00:00, 127.95batch/s, train_loss=tensor(0.0357, device='cuda:0', grad_fn=<MseLossBackward0>)]\n"
          ]
        },
        {
          "output_type": "stream",
          "name": "stdout",
          "text": [
            "loss_sum=  0.06614143448087846 ACC=  0.9308373293987459 bacc=  0.8972123861497594 precision=  0.9036697247706422 specificity=  0.9684289651716362 sensitivity=  0.8259958071278826 recall=  0.8259958071278826 MCC=  0.818422279160363 AUC=  0.9516981867482758 f1=  0.8630887185104053\n",
            "Epoch: 480 / 500, ############## the best accuracy in val  93.2128 at Epoch: 479  ##############\n",
            "Performance in Val: Loss: (0.0661); Accuracy (93.08)\n"
          ]
        },
        {
          "output_type": "stream",
          "name": "stderr",
          "text": [
            "Epoch 481: 100%|██████████| 3130/3130 [00:24<00:00, 127.42batch/s, train_loss=tensor(0.0191, device='cuda:0', grad_fn=<MseLossBackward0>)]\n"
          ]
        },
        {
          "output_type": "stream",
          "name": "stdout",
          "text": [
            "loss_sum=  0.06613188004464593 ACC=  0.9289929915160458 bacc=  0.8952871949307326 precision=  0.8986280487804879 specificity=  0.9666750187922827 sensitivity=  0.8238993710691824 recall=  0.8238993710691824 MCC=  0.8136087186775685 AUC=  0.9527344106349698 f1=  0.8596427269413053\n",
            "Epoch: 481 / 500, ############## the best accuracy in val  93.2128 at Epoch: 479  ##############\n",
            "Performance in Val: Loss: (0.0661); Accuracy (92.90)\n"
          ]
        },
        {
          "output_type": "stream",
          "name": "stderr",
          "text": [
            "Epoch 482: 100%|██████████| 3130/3130 [00:23<00:00, 130.63batch/s, train_loss=tensor(0.0563, device='cuda:0', grad_fn=<MseLossBackward0>)]\n"
          ]
        },
        {
          "output_type": "stream",
          "name": "stdout",
          "text": [
            "loss_sum=  0.0652864880668917 ACC=  0.9308373293987459 bacc=  0.8985571309030224 precision=  0.9 specificity=  0.9669255825607617 sensitivity=  0.8301886792452831 recall=  0.8301886792452831 MCC=  0.8186466079315822 AUC=  0.9545100690389855 f1=  0.8636859323882224\n",
            "Epoch: 482 / 500, ############## the best accuracy in val  93.2128 at Epoch: 479  ##############\n",
            "Performance in Val: Loss: (0.0653); Accuracy (93.08)\n"
          ]
        },
        {
          "output_type": "stream",
          "name": "stderr",
          "text": [
            "Epoch 483: 100%|██████████| 3130/3130 [00:24<00:00, 129.80batch/s, train_loss=tensor(0.0227, device='cuda:0', grad_fn=<MseLossBackward0>)]\n"
          ]
        },
        {
          "output_type": "stream",
          "name": "stdout",
          "text": [
            "loss_sum=  0.06511293275413656 ACC=  0.9310217631870159 bacc=  0.8989065369128058 precision=  0.9000757002271007 specificity=  0.9669255825607617 sensitivity=  0.8308874912648497 recall=  0.8308874912648497 MCC=  0.8191539620443061 AUC=  0.9540439608966436 f1=  0.8640988372093025\n",
            "Epoch: 483 / 500, ############## the best accuracy in val  93.2128 at Epoch: 479  ##############\n",
            "Performance in Val: Loss: (0.0651); Accuracy (93.10)\n"
          ]
        },
        {
          "output_type": "stream",
          "name": "stderr",
          "text": [
            "Epoch 484: 100%|██████████| 3130/3130 [00:24<00:00, 128.62batch/s, train_loss=tensor(0.0165, device='cuda:0', grad_fn=<MseLossBackward0>)]\n"
          ]
        },
        {
          "output_type": "stream",
          "name": "stdout",
          "text": [
            "loss_sum=  0.06716023686762272 ACC=  0.9288085577277757 bacc=  0.8958342854231245 precision=  0.8961334344200151 specificity=  0.9656727637183663 sensitivity=  0.8259958071278826 recall=  0.8259958071278826 MCC=  0.8132628392422907 AUC=  0.9509484215095425 f1=  0.8596363636363636\n",
            "Epoch: 484 / 500, ############## the best accuracy in val  93.2128 at Epoch: 479  ##############\n",
            "Performance in Val: Loss: (0.0672); Accuracy (92.88)\n"
          ]
        },
        {
          "output_type": "stream",
          "name": "stderr",
          "text": [
            "Epoch 485: 100%|██████████| 3130/3130 [00:24<00:00, 128.27batch/s, train_loss=tensor(0.0197, device='cuda:0', grad_fn=<MseLossBackward0>)]\n"
          ]
        },
        {
          "output_type": "stream",
          "name": "stdout",
          "text": [
            "loss_sum=  0.0652776343368851 ACC=  0.9304684618222059 bacc=  0.898754815385631 precision=  0.8974358974358975 specificity=  0.9659233274868454 sensitivity=  0.8315863032844165 recall=  0.8315863032844165 MCC=  0.8177958099533618 AUC=  0.9533411216466959 f1=  0.8632571635836054\n",
            "Epoch: 485 / 500, ############## the best accuracy in val  93.2128 at Epoch: 479  ##############\n",
            "Performance in Val: Loss: (0.0653); Accuracy (93.05)\n"
          ]
        },
        {
          "output_type": "stream",
          "name": "stderr",
          "text": [
            "Epoch 486: 100%|██████████| 3130/3130 [00:24<00:00, 128.88batch/s, train_loss=tensor(0.0315, device='cuda:0', grad_fn=<MseLossBackward0>)]\n"
          ]
        },
        {
          "output_type": "stream",
          "name": "stdout",
          "text": [
            "loss_sum=  0.06625408264753412 ACC=  0.9300995942456658 bacc=  0.8967112586128012 precision=  0.9009146341463414 specificity=  0.9674267100977199 sensitivity=  0.8259958071278826 recall=  0.8259958071278826 MCC=  0.8165398296332022 AUC=  0.9509979739529245 f1=  0.8618301130149472\n",
            "Epoch: 486 / 500, ############## the best accuracy in val  93.2128 at Epoch: 479  ##############\n",
            "Performance in Val: Loss: (0.0663); Accuracy (93.01)\n"
          ]
        },
        {
          "output_type": "stream",
          "name": "stderr",
          "text": [
            "Epoch 487: 100%|██████████| 3130/3130 [00:24<00:00, 129.56batch/s, train_loss=tensor(0.0344, device='cuda:0', grad_fn=<MseLossBackward0>)]\n"
          ]
        },
        {
          "output_type": "stream",
          "name": "stdout",
          "text": [
            "loss_sum=  0.06646339473236286 ACC=  0.9278863887864257 bacc=  0.894983751876383 precision=  0.8933434190620272 specificity=  0.96467050864445 sensitivity=  0.8252969951083159 recall=  0.8252969951083159 MCC=  0.8108905724705174 AUC=  0.9508790831082023 f1=  0.8579731202324736\n",
            "Epoch: 487 / 500, ############## the best accuracy in val  93.2128 at Epoch: 479  ##############\n",
            "Performance in Val: Loss: (0.0665); Accuracy (92.79)\n"
          ]
        },
        {
          "output_type": "stream",
          "name": "stderr",
          "text": [
            "Epoch 488: 100%|██████████| 3130/3130 [00:24<00:00, 128.33batch/s, train_loss=tensor(0.0337, device='cuda:0', grad_fn=<MseLossBackward0>)]\n"
          ]
        },
        {
          "output_type": "stream",
          "name": "stdout",
          "text": [
            "loss_sum=  0.06637464997984996 ACC=  0.9286241239395057 bacc=  0.8961572517899725 precision=  0.8942598187311178 specificity=  0.9649210724129291 sensitivity=  0.827393431167016 recall=  0.827393431167016 MCC=  0.8128835164839665 AUC=  0.9514952493564749 f1=  0.8595281306715064\n",
            "Epoch: 488 / 500, ############## the best accuracy in val  93.2128 at Epoch: 479  ##############\n",
            "Performance in Val: Loss: (0.0664); Accuracy (92.86)\n"
          ]
        },
        {
          "output_type": "stream",
          "name": "stderr",
          "text": [
            "Epoch 489: 100%|██████████| 3130/3130 [00:24<00:00, 128.73batch/s, train_loss=tensor(0.0204, device='cuda:0', grad_fn=<MseLossBackward0>)]\n"
          ]
        },
        {
          "output_type": "stream",
          "name": "stdout",
          "text": [
            "loss_sum=  0.06625851249091524 ACC=  0.9271486536333456 bacc=  0.8960514932182316 precision=  0.8865671641791045 specificity=  0.9619143071911802 sensitivity=  0.8301886792452831 recall=  0.8301886792452831 MCC=  0.8093817955390105 AUC=  0.9507200950566447 f1=  0.8574521833273187\n",
            "Epoch: 489 / 500, ############## the best accuracy in val  93.2128 at Epoch: 479  ##############\n",
            "Performance in Val: Loss: (0.0663); Accuracy (92.71)\n"
          ]
        },
        {
          "output_type": "stream",
          "name": "stderr",
          "text": [
            "Epoch 490: 100%|██████████| 3130/3130 [00:24<00:00, 128.34batch/s, train_loss=tensor(0.0281, device='cuda:0', grad_fn=<MseLossBackward0>)]\n"
          ]
        },
        {
          "output_type": "stream",
          "name": "stdout",
          "text": [
            "loss_sum=  0.0661576170100663 ACC=  0.9277019549981557 bacc=  0.8955308423687749 precision=  0.890895410082769 specificity=  0.9636682535705337 sensitivity=  0.827393431167016 recall=  0.827393431167016 MCC=  0.8105646654726815 AUC=  0.9519086533099194 f1=  0.8579710144927535\n",
            "Epoch: 490 / 500, ############## the best accuracy in val  93.2128 at Epoch: 479  ##############\n",
            "Performance in Val: Loss: (0.0662); Accuracy (92.77)\n"
          ]
        },
        {
          "output_type": "stream",
          "name": "stderr",
          "text": [
            "Epoch 491: 100%|██████████| 3130/3130 [00:24<00:00, 127.66batch/s, train_loss=tensor(0.0153, device='cuda:0', grad_fn=<MseLossBackward0>)]\n"
          ]
        },
        {
          "output_type": "stream",
          "name": "stdout",
          "text": [
            "loss_sum=  0.06577257753781161 ACC=  0.9273330874216157 bacc=  0.8948320303492081 precision=  0.8907309721175584 specificity=  0.9636682535705337 sensitivity=  0.8259958071278826 recall=  0.8259958071278826 MCC=  0.8095443369414551 AUC=  0.9524113567196352 f1=  0.857142857142857\n",
            "Epoch: 491 / 500, ############## the best accuracy in val  93.2128 at Epoch: 479  ##############\n",
            "Performance in Val: Loss: (0.0658); Accuracy (92.73)\n"
          ]
        },
        {
          "output_type": "stream",
          "name": "stderr",
          "text": [
            "Epoch 492: 100%|██████████| 3130/3130 [00:23<00:00, 131.62batch/s, train_loss=tensor(0.0409, device='cuda:0', grad_fn=<MseLossBackward0>)]\n"
          ]
        },
        {
          "output_type": "stream",
          "name": "stdout",
          "text": [
            "loss_sum=  0.06625105765205877 ACC=  0.9278863887864257 bacc=  0.8945355036252953 precision=  0.8945371775417299 specificity=  0.9651716361814082 sensitivity=  0.8238993710691824 recall=  0.8238993710691824 MCC=  0.8108030730026657 AUC=  0.9536986696657275 f1=  0.8577664605311022\n",
            "Epoch: 492 / 500, ############## the best accuracy in val  93.2128 at Epoch: 479  ##############\n",
            "Performance in Val: Loss: (0.0663); Accuracy (92.79)\n"
          ]
        },
        {
          "output_type": "stream",
          "name": "stderr",
          "text": [
            "Epoch 493: 100%|██████████| 3130/3130 [00:24<00:00, 130.33batch/s, train_loss=tensor(0.0140, device='cuda:0', grad_fn=<MseLossBackward0>)]\n"
          ]
        },
        {
          "output_type": "stream",
          "name": "stdout",
          "text": [
            "loss_sum=  0.06546658782527444 ACC=  0.9299151604573958 bacc=  0.8977065973562808 precision=  0.8972033257747544 specificity=  0.9659233274868454 sensitivity=  0.8294898672257163 recall=  0.8294898672257163 MCC=  0.8162714193458388 AUC=  0.9518829140548765 f1=  0.8620188816267247\n",
            "Epoch: 493 / 500, ############## the best accuracy in val  93.2128 at Epoch: 479  ##############\n",
            "Performance in Val: Loss: (0.0655); Accuracy (92.99)\n"
          ]
        },
        {
          "output_type": "stream",
          "name": "stderr",
          "text": [
            "Epoch 494: 100%|██████████| 3130/3130 [00:24<00:00, 128.56batch/s, train_loss=tensor(0.0418, device='cuda:0', grad_fn=<MseLossBackward0>)]\n"
          ]
        },
        {
          "output_type": "stream",
          "name": "stdout",
          "text": [
            "loss_sum=  0.06579833489892163 ACC=  0.9282552563629657 bacc=  0.8950101915193182 precision=  0.8952959028831563 specificity=  0.9654221999498872 sensitivity=  0.8245981830887491 recall=  0.8245981830887491 MCC=  0.811778595863484 AUC=  0.953107892478552 f1=  0.8584939978173881\n",
            "Epoch: 494 / 500, ############## the best accuracy in val  93.2128 at Epoch: 479  ##############\n",
            "Performance in Val: Loss: (0.0658); Accuracy (92.83)\n"
          ]
        },
        {
          "output_type": "stream",
          "name": "stderr",
          "text": [
            "Epoch 495: 100%|██████████| 3130/3130 [00:23<00:00, 130.89batch/s, train_loss=tensor(0.0083, device='cuda:0', grad_fn=<MseLossBackward0>)]\n"
          ]
        },
        {
          "output_type": "stream",
          "name": "stdout",
          "text": [
            "loss_sum=  0.06628998111971932 ACC=  0.9308373293987459 bacc=  0.8985571309030224 precision=  0.9 specificity=  0.9669255825607617 sensitivity=  0.8301886792452831 recall=  0.8301886792452831 MCC=  0.8186466079315822 AUC=  0.9519441979954548 f1=  0.8636859323882224\n",
            "Epoch: 495 / 500, ############## the best accuracy in val  93.2128 at Epoch: 479  ##############\n",
            "Performance in Val: Loss: (0.0663); Accuracy (93.08)\n"
          ]
        },
        {
          "output_type": "stream",
          "name": "stderr",
          "text": [
            "Epoch 496: 100%|██████████| 3130/3130 [00:24<00:00, 130.21batch/s, train_loss=tensor(0.0256, device='cuda:0', grad_fn=<MseLossBackward0>)]\n"
          ]
        },
        {
          "output_type": "stream",
          "name": "stdout",
          "text": [
            "loss_sum=  0.06650372491023093 ACC=  0.9278863887864257 bacc=  0.8952078760019268 precision=  0.8927492447129909 specificity=  0.9644199448759709 sensitivity=  0.8259958071278826 recall=  0.8259958071278826 MCC=  0.8109354720506904 AUC=  0.9520520577308729 f1=  0.858076225045372\n",
            "Epoch: 496 / 500, ############## the best accuracy in val  93.2128 at Epoch: 479  ##############\n",
            "Performance in Val: Loss: (0.0665); Accuracy (92.79)\n"
          ]
        },
        {
          "output_type": "stream",
          "name": "stderr",
          "text": [
            "Epoch 497: 100%|██████████| 3130/3130 [00:23<00:00, 130.43batch/s, train_loss=tensor(0.0109, device='cuda:0', grad_fn=<MseLossBackward0>)]\n"
          ]
        },
        {
          "output_type": "stream",
          "name": "stdout",
          "text": [
            "loss_sum=  0.06523920915084053 ACC=  0.9302840280339358 bacc=  0.8961641681204093 precision=  0.903448275862069 specificity=  0.9684289651716362 sensitivity=  0.8238993710691824 recall=  0.8238993710691824 MCC=  0.8169024139902422 AUC=  0.9524376212655974 f1=  0.861842105263158\n",
            "Epoch: 497 / 500, ############## the best accuracy in val  93.2128 at Epoch: 479  ##############\n",
            "Performance in Val: Loss: (0.0652); Accuracy (93.03)\n"
          ]
        },
        {
          "output_type": "stream",
          "name": "stderr",
          "text": [
            "Epoch 498: 100%|██████████| 3130/3130 [00:23<00:00, 131.64batch/s, train_loss=tensor(0.0182, device='cuda:0', grad_fn=<MseLossBackward0>)]\n"
          ]
        },
        {
          "output_type": "stream",
          "name": "stdout",
          "text": [
            "loss_sum=  0.06644920991791363 ACC=  0.9297307266691258 bacc=  0.8971330672209537 precision=  0.8977272727272727 specificity=  0.9661738912553245 sensitivity=  0.8280922431865828 recall=  0.8280922431865828 MCC=  0.8157215444653666 AUC=  0.9519200346131697 f1=  0.8615049073064339\n",
            "Epoch: 498 / 500, ############## the best accuracy in val  93.2128 at Epoch: 479  ##############\n",
            "Performance in Val: Loss: (0.0664); Accuracy (92.97)\n"
          ]
        },
        {
          "output_type": "stream",
          "name": "stderr",
          "text": [
            "Epoch 499: 100%|██████████| 3130/3130 [00:23<00:00, 132.50batch/s, train_loss=tensor(0.0247, device='cuda:0', grad_fn=<MseLossBackward0>)]\n"
          ]
        },
        {
          "output_type": "stream",
          "name": "stdout",
          "text": [
            "loss_sum=  0.06597465718752954 ACC=  0.9306528956104758 bacc=  0.8991042213954143 precision=  0.8975131876412962 specificity=  0.9659233274868454 sensitivity=  0.8322851153039832 recall=  0.8322851153039832 MCC=  0.8183038290848086 AUC=  0.9517389843430037 f1=  0.8636693255982597\n",
            "Epoch: 499 / 500, ############## the best accuracy in val  93.2128 at Epoch: 479  ##############\n",
            "Performance in Val: Loss: (0.0660); Accuracy (93.07)\n"
          ]
        }
      ],
      "source": [
        "initial_epoch = 0\n",
        "best_epoch = -1\n",
        "best_accuracy = 0.5\n",
        "for epoch in range(initial_epoch, 500):\n",
        "    torch.cuda.empty_cache()\n",
        "    model.train()\n",
        "    with tqdm(train_loader, desc='Processing', unit=\"batch\") as tepoch:\n",
        "        for ESP_train_df_enzy,ESP_train_df_smiles, y_train in tepoch:\n",
        "            model.train()\n",
        "            tepoch.set_description(f\"Epoch {epoch}\")\n",
        "            ESP_train_df_enzy = ESP_train_df_enzy.to(device)\n",
        "            ESP_train_df_smiles = ESP_train_df_smiles.to(device)\n",
        "            y_train = y_train.squeeze(1).to(device)\n",
        "            refined_enzy_embed, refined_smiles_embed = model(ESP_train_df_enzy,ESP_train_df_smiles)\n",
        "            cosine_sim = torch.nn.functional.cosine_similarity(refined_enzy_embed, refined_smiles_embed, dim=1)\n",
        "            loss = loss_fn(cosine_sim, y_train)\n",
        "            loss.backward()\n",
        "            optimizer.step()\n",
        "            optimizer.zero_grad(set_to_none=True) #\n",
        "            tepoch.set_postfix(train_loss=loss)\n",
        "            # tepoch.set_postfix(val_loss=loss_sum_val, val_accuracy=100. * acc_val, balanced_val_accuracy=100. * bacc_val)\n",
        "        loss_sum_val,acc_val, bacc_val = run_validation(model,val_loader,loss_fn, device)\n",
        "        print('Epoch: %d / %d, ############## the best accuracy in val  %.4f at Epoch: %d  ##############'  % (epoch, 500,100 * best_accuracy,best_epoch))\n",
        "        # print('Performance in Train: Loss: (%.4f); Accuracy (%.2f)' % (loss_sum, 100 * acc))\n",
        "        print('Performance in Val: Loss: (%.4f); Accuracy (%.2f)' % (loss_sum_val, 100 * acc_val))\n",
        "        # checkpoint(model, f\"epoch-{epoch}.pth\")\n",
        "        if acc_val > best_accuracy: # compare the performance updates at the val set\n",
        "            best_accuracy = acc_val\n",
        "            best_epoch = epoch\n",
        "            torch.save(model, \"best_model_1.pt\")"
      ]
    },
    {
      "cell_type": "code",
      "execution_count": null,
      "metadata": {
        "colab": {
          "base_uri": "https://localhost:8080/"
        },
        "id": "sWzMhFzsoxmT",
        "outputId": "ee4da07e-f4cb-4390-c3ac-c206ce08ada6"
      },
      "outputs": [
        {
          "output_type": "stream",
          "name": "stdout",
          "text": [
            "loss_sum=  0.0718527814056233 ACC=  0.9220905818836233 bacc=  0.8830117889936955 precision=  0.8930498254522374 specificity=  0.9656822810590632 sensitivity=  0.8003412969283277 recall=  0.8003412969283277 MCC=  0.7945433481651466 AUC=  0.9467973146905969 f1=  0.8441577921103945\n"
          ]
        },
        {
          "output_type": "execute_result",
          "data": {
            "text/plain": [
              "(0.0718527814056233, 0.9220905818836233, 0.8830117889936955)"
            ]
          },
          "metadata": {},
          "execution_count": 24
        }
      ],
      "source": [
        "import torch\n",
        "# Specify the file path where the entire model is saved\n",
        "load_path = 'best_model_1.pt'\n",
        "# Load the entire model\n",
        "model_test = torch.load(load_path)\n",
        "# model_test.to('cuda')\n",
        "# rename the baseline model\n",
        "torch.save(model_test, 'best_model_esm2_480_MolFormer.pt')\n",
        "run_validation(model_test,test_loader,loss_fn, device) # performance evaluation"
      ]
    },
    {
      "cell_type": "markdown",
      "metadata": {
        "id": "OAIws-sGr79O"
      },
      "source": [
        "### esm2 1280 + MolFormer\n"
      ]
    },
    {
      "cell_type": "code",
      "execution_count": null,
      "metadata": {
        "id": "UpmuiLo_r79O"
      },
      "outputs": [],
      "source": [
        "import os\n",
        "os.chdir('/content/drive/MyDrive/EC_number_kroll/esm2_1280')"
      ]
    },
    {
      "cell_type": "code",
      "execution_count": null,
      "metadata": {
        "id": "gpGiNZLFr79P"
      },
      "outputs": [],
      "source": [
        "import torch\n",
        "import torch.nn as nn\n",
        "\n",
        "class Contrastive_learning_layer(nn.Module):\n",
        "    def __init__(self):\n",
        "        super().__init__()\n",
        "        self.enzy_refine_layer_1 = nn.Linear(1280, 1280) # W1 and b\n",
        "        self.smiles_refine_layer_1 = nn.Linear(768, 768) # W1 and b\n",
        "        self.enzy_refine_layer_2 = nn.Linear(1280, 128) # W1 and b\n",
        "        self.smiles_refine_layer_2 = nn.Linear(768, 128) # W1 and b\n",
        "\n",
        "        self.relu = nn.ReLU()\n",
        "        self.batch_norm_enzy = nn.BatchNorm1d(1280)\n",
        "        self.batch_norm_smiles = nn.BatchNorm1d(768)\n",
        "        self.batch_norm_shared = nn.BatchNorm1d(128)\n",
        "\n",
        "    def forward(self, enzy_embed, smiles_embed):\n",
        "        refined_enzy_embed = self.enzy_refine_layer_1(enzy_embed)\n",
        "        refined_smiles_embed = self.smiles_refine_layer_1(smiles_embed)\n",
        "\n",
        "        refined_enzy_embed = self.batch_norm_enzy(refined_enzy_embed)\n",
        "        refined_smiles_embed = self.batch_norm_smiles(refined_smiles_embed)\n",
        "\n",
        "        refined_enzy_embed = self.relu(refined_enzy_embed)\n",
        "        refined_smiles_embed = self.relu(refined_smiles_embed)\n",
        "\n",
        "        refined_enzy_embed = self.enzy_refine_layer_2(refined_enzy_embed)\n",
        "        refined_smiles_embed = self.smiles_refine_layer_2(refined_smiles_embed)\n",
        "\n",
        "        refined_enzy_embed = self.batch_norm_shared(refined_enzy_embed)\n",
        "        refined_smiles_embed = self.batch_norm_shared(refined_smiles_embed)\n",
        "        refined_enzy_embed = torch.nn.functional.normalize(refined_enzy_embed, dim=1)\n",
        "        refined_smiles_embed = torch.nn.functional.normalize(refined_smiles_embed, dim=1)\n",
        "\n",
        "        return refined_enzy_embed, refined_smiles_embed\n"
      ]
    },
    {
      "cell_type": "code",
      "execution_count": null,
      "metadata": {
        "id": "1_gToxF1r79P"
      },
      "outputs": [],
      "source": [
        "def get_ds():\n",
        "    # Load the saved embeddings_results\n",
        "    ESP_train_df_enzy = torch.load('ESP_train_df_enzy_esm2_1280.pt')\n",
        "    ESP_val_df_enzy = torch.load('ESP_val_df_enzy_esm2_1280.pt')\n",
        "    ESP_test_df_enzy = torch.load('ESP_test_df_enzy_esm2_1280.pt')\n",
        "    print(ESP_train_df_enzy.shape, ESP_val_df_enzy.shape, ESP_test_df_enzy.shape)\n",
        "    # Load the saved embeddings_results\n",
        "    ESP_train_df_smiles = torch.load('ESP_train_df_smiles_esm2_1280.pt')\n",
        "    ESP_val_df_smiles = torch.load('ESP_val_df_smiles_esm2_1280.pt')\n",
        "    ESP_test_df_smiles = torch.load('ESP_test_df_smiles_esm2_1280.pt')\n",
        "    print(ESP_train_df_smiles.shape, ESP_val_df_smiles.shape, ESP_test_df_smiles.shape)\n",
        "\n",
        "    y_train = torch.load( 'ESP_train_df_label_esm2_1280.pt')\n",
        "    y_val = torch.load('ESP_val_df_label_esm2_1280.pt')\n",
        "    y_test = torch.load('ESP_test_df_label_esm2_1280.pt')\n",
        "    print(y_train.shape,y_val.shape, y_test.shape)\n",
        "\n",
        "\n",
        "    train_tensor_dataset = TensorDataset(ESP_train_df_enzy,ESP_train_df_smiles, y_train)\n",
        "    val_tensor_dataset = TensorDataset(ESP_val_df_enzy,ESP_val_df_smiles, y_val)\n",
        "    test_tensor_dataset = TensorDataset(ESP_test_df_enzy, ESP_test_df_smiles, y_test)\n",
        "\n",
        "    # Create TensorDataset and DataLoaders\n",
        "    batch_size = 16\n",
        "    train_loader = DataLoader(train_tensor_dataset, batch_size=batch_size, shuffle=True)\n",
        "    val_loader = DataLoader(val_tensor_dataset, batch_size=batch_size, shuffle=False)\n",
        "    test_loader = DataLoader(test_tensor_dataset, batch_size=batch_size, shuffle=False)\n",
        "    print(len(train_loader))\n",
        "    return train_loader,  val_loader, test_loader"
      ]
    },
    {
      "cell_type": "code",
      "execution_count": null,
      "metadata": {
        "colab": {
          "base_uri": "https://localhost:8080/"
        },
        "id": "iW8Z13H_r79P",
        "outputId": "b74ebce2-3da7-4d1d-b554-1b76b41044e6"
      },
      "outputs": [
        {
          "output_type": "stream",
          "name": "stdout",
          "text": [
            "torch.Size([50077, 1280]) torch.Size([5422, 1280]) torch.Size([13336, 1280])\n",
            "torch.Size([50077, 768]) torch.Size([5422, 768]) torch.Size([13336, 768])\n",
            "torch.Size([50077, 1]) torch.Size([5422, 1]) torch.Size([13336, 1])\n",
            "3130\n"
          ]
        }
      ],
      "source": [
        "# design the model, optimizer and loss function\n",
        "model = Contrastive_learning_layer().to(device)\n",
        "train_loader,  val_loader, test_loader = get_ds()\n",
        "optimizer = torch.optim.Adam(model.parameters(),lr= 1e-03)\n",
        "loss_fn = nn.MSELoss().to(device)"
      ]
    },
    {
      "cell_type": "code",
      "execution_count": null,
      "metadata": {
        "id": "dsbZ_1nsr79P"
      },
      "outputs": [],
      "source": [
        "initial_epoch = 0\n",
        "best_epoch = -1\n",
        "best_accuracy = 0.5\n",
        "for epoch in range(initial_epoch, 300):\n",
        "    torch.cuda.empty_cache()\n",
        "    model.train()\n",
        "    with tqdm(train_loader, desc='Processing', unit=\"batch\") as tepoch:\n",
        "        for ESP_train_df_enzy,ESP_train_df_smiles, y_train in tepoch:\n",
        "            model.train()\n",
        "            tepoch.set_description(f\"Epoch {epoch}\")\n",
        "            ESP_train_df_enzy = ESP_train_df_enzy.to(device)\n",
        "            ESP_train_df_smiles = ESP_train_df_smiles.to(device)\n",
        "            y_train = y_train.squeeze(1).to(device)\n",
        "            refined_enzy_embed, refined_smiles_embed = model(ESP_train_df_enzy,ESP_train_df_smiles)\n",
        "            cosine_sim = torch.nn.functional.cosine_similarity(refined_enzy_embed, refined_smiles_embed, dim=1)\n",
        "            loss = loss_fn(cosine_sim, y_train)\n",
        "            loss.backward()\n",
        "            optimizer.step()\n",
        "            optimizer.zero_grad(set_to_none=True) #\n",
        "            tepoch.set_postfix(train_loss=loss)\n",
        "            # tepoch.set_postfix(val_loss=loss_sum_val, val_accuracy=100. * acc_val, balanced_val_accuracy=100. * bacc_val)\n",
        "        loss_sum_val,acc_val, bacc_val = run_validation(model,val_loader,loss_fn, device)\n",
        "        print('Epoch: %d / %d, ############## the best accuracy in val  %.4f at Epoch: %d  ##############'  % (epoch, 500,100 * best_accuracy,best_epoch))\n",
        "        # print('Performance in Train: Loss: (%.4f); Accuracy (%.2f)' % (loss_sum, 100 * acc))\n",
        "        print('Performance in Val: Loss: (%.4f); Accuracy (%.2f)' % (loss_sum_val, 100 * acc_val))\n",
        "        # checkpoint(model, f\"epoch-{epoch}.pth\")\n",
        "        if acc_val > best_accuracy: # compare the performance updates at the val set\n",
        "            best_accuracy = acc_val\n",
        "            best_epoch = epoch\n",
        "            torch.save(model, \"best_model_esm2_1280_second.pt\")"
      ]
    },
    {
      "cell_type": "code",
      "source": [
        "import torch\n",
        "# Specify the file path where the entire model is saved\n",
        "load_path = 'best_model_esm2_1280_second.pt'\n",
        "# Load the entire model\n",
        "model_test = torch.load(load_path)\n",
        "# model_test.to('cuda')\n",
        "# rename the baseline model\n",
        "torch.save(model_test, 'best_model_esm2_1280.pt')\n",
        "run_validation(model_test,test_loader,loss_fn, device) # performance evaluation"
      ],
      "metadata": {
        "colab": {
          "base_uri": "https://localhost:8080/"
        },
        "id": "7pJWLIaEBpSw",
        "outputId": "d301ed68-a7eb-47b6-a820-32b467f123f5"
      },
      "execution_count": null,
      "outputs": [
        {
          "output_type": "stream",
          "name": "stdout",
          "text": [
            "loss_sum=  0.06455622224318092 ACC=  0.9293641271745651 bacc=  0.8966232920672214 precision=  0.8967324290998767 specificity=  0.9658859470468432 sensitivity=  0.8273606370875995 recall=  0.8273606370875995 MCC=  0.814628019995566 AUC=  0.9557602111036194 f1=  0.8606508875739646\n"
          ]
        },
        {
          "output_type": "execute_result",
          "data": {
            "text/plain": [
              "(0.06455622224318092, 0.9293641271745651, 0.8966232920672214)"
            ]
          },
          "metadata": {},
          "execution_count": 11
        }
      ]
    },
    {
      "cell_type": "markdown",
      "metadata": {
        "id": "U1Sr9qZQwzhi"
      },
      "source": [
        "### esm2 2560 + MolFormer\n"
      ]
    },
    {
      "cell_type": "code",
      "execution_count": 4,
      "metadata": {
        "id": "z_nENvT6wzhi"
      },
      "outputs": [],
      "source": [
        "import os\n",
        "os.chdir('/content/drive/MyDrive/EC_number_kroll/esm2_2560')"
      ]
    },
    {
      "cell_type": "code",
      "execution_count": 5,
      "metadata": {
        "id": "MijRYbAZwzhi"
      },
      "outputs": [],
      "source": [
        "import torch\n",
        "import torch.nn as nn\n",
        "\n",
        "class Contrastive_learning_layer(nn.Module):\n",
        "    def __init__(self):\n",
        "        super().__init__()\n",
        "        self.enzy_refine_layer_1 = nn.Linear(2560, 2560) # W1 and b\n",
        "        self.smiles_refine_layer_1 = nn.Linear(768, 768) # W1 and b\n",
        "        self.enzy_refine_layer_2 = nn.Linear(2560, 128) # W1 and b\n",
        "        self.smiles_refine_layer_2 = nn.Linear(768, 128) # W1 and b\n",
        "\n",
        "        self.relu = nn.ReLU()\n",
        "        self.batch_norm_enzy = nn.BatchNorm1d(2560)\n",
        "        self.batch_norm_smiles = nn.BatchNorm1d(768)\n",
        "        self.batch_norm_shared = nn.BatchNorm1d(128)\n",
        "\n",
        "    def forward(self, enzy_embed, smiles_embed):\n",
        "        refined_enzy_embed = self.enzy_refine_layer_1(enzy_embed)\n",
        "        refined_smiles_embed = self.smiles_refine_layer_1(smiles_embed)\n",
        "\n",
        "        refined_enzy_embed = self.batch_norm_enzy(refined_enzy_embed)\n",
        "        refined_smiles_embed = self.batch_norm_smiles(refined_smiles_embed)\n",
        "\n",
        "        refined_enzy_embed = self.relu(refined_enzy_embed)\n",
        "        refined_smiles_embed = self.relu(refined_smiles_embed)\n",
        "\n",
        "        refined_enzy_embed = self.enzy_refine_layer_2(refined_enzy_embed)\n",
        "        refined_smiles_embed = self.smiles_refine_layer_2(refined_smiles_embed)\n",
        "\n",
        "        refined_enzy_embed = self.batch_norm_shared(refined_enzy_embed)\n",
        "        refined_smiles_embed = self.batch_norm_shared(refined_smiles_embed)\n",
        "        refined_enzy_embed = torch.nn.functional.normalize(refined_enzy_embed, dim=1)\n",
        "        refined_smiles_embed = torch.nn.functional.normalize(refined_smiles_embed, dim=1)\n",
        "\n",
        "        return refined_enzy_embed, refined_smiles_embed\n"
      ]
    },
    {
      "cell_type": "code",
      "execution_count": 6,
      "metadata": {
        "id": "-S-b0M87wzhi"
      },
      "outputs": [],
      "source": [
        "def get_ds():\n",
        "    # Load the saved embeddings_results\n",
        "    ESP_train_df_enzy = torch.load('ESP_train_df_enzy_esm2_2560.pt')\n",
        "    ESP_val_df_enzy = torch.load('ESP_val_df_enzy_esm2_2560.pt')\n",
        "    ESP_test_df_enzy = torch.load('ESP_test_df_enzy_esm2_2560.pt')\n",
        "    print(ESP_train_df_enzy.shape, ESP_val_df_enzy.shape, ESP_test_df_enzy.shape)\n",
        "    # Load the saved embeddings_results\n",
        "    ESP_train_df_smiles = torch.load('ESP_train_df_smiles_esm2_2560.pt')\n",
        "    ESP_val_df_smiles = torch.load('ESP_val_df_smiles_esm2_2560.pt')\n",
        "    ESP_test_df_smiles = torch.load('ESP_test_df_smiles_esm2_2560.pt')\n",
        "    print(ESP_train_df_smiles.shape, ESP_val_df_smiles.shape, ESP_test_df_smiles.shape)\n",
        "\n",
        "    y_train = torch.load( 'ESP_train_df_label_esm2_2560.pt')\n",
        "    y_val = torch.load('ESP_val_df_label_esm2_2560.pt')\n",
        "    y_test = torch.load('ESP_test_df_label_esm2_2560.pt')\n",
        "    print(y_train.shape,y_val.shape, y_test.shape)\n",
        "\n",
        "\n",
        "    train_tensor_dataset = TensorDataset(ESP_train_df_enzy,ESP_train_df_smiles, y_train)\n",
        "    val_tensor_dataset = TensorDataset(ESP_val_df_enzy,ESP_val_df_smiles, y_val)\n",
        "    test_tensor_dataset = TensorDataset(ESP_test_df_enzy, ESP_test_df_smiles, y_test)\n",
        "\n",
        "    # Create TensorDataset and DataLoaders\n",
        "    batch_size = 16\n",
        "    train_loader = DataLoader(train_tensor_dataset, batch_size=batch_size, shuffle=True)\n",
        "    val_loader = DataLoader(val_tensor_dataset, batch_size=batch_size, shuffle=False)\n",
        "    test_loader = DataLoader(test_tensor_dataset, batch_size=batch_size, shuffle=False)\n",
        "    print(len(train_loader))\n",
        "    return train_loader,  val_loader, test_loader"
      ]
    },
    {
      "cell_type": "code",
      "execution_count": 7,
      "metadata": {
        "colab": {
          "base_uri": "https://localhost:8080/"
        },
        "id": "mbMszDC7wzhi",
        "outputId": "8e523a2b-a2f5-4c0a-a928-f4372468ee27"
      },
      "outputs": [
        {
          "output_type": "stream",
          "name": "stdout",
          "text": [
            "torch.Size([49881, 2560]) torch.Size([5399, 2560]) torch.Size([13312, 2560])\n",
            "torch.Size([49881, 768]) torch.Size([5399, 768]) torch.Size([13312, 768])\n",
            "torch.Size([49881, 1]) torch.Size([5399, 1]) torch.Size([13312, 1])\n",
            "3118\n"
          ]
        }
      ],
      "source": [
        "# design the model, optimizer and loss function\n",
        "model = Contrastive_learning_layer().to(device)\n",
        "train_loader,  val_loader, test_loader = get_ds()\n",
        "optimizer = torch.optim.Adam(model.parameters(),lr= 1e-03)\n",
        "loss_fn = nn.MSELoss().to(device)"
      ]
    },
    {
      "cell_type": "code",
      "execution_count": null,
      "metadata": {
        "id": "ecEsRC0pwzhi"
      },
      "outputs": [],
      "source": [
        "initial_epoch = 0\n",
        "best_epoch = -1\n",
        "best_accuracy = 0.5\n",
        "for epoch in range(initial_epoch, 500):\n",
        "    torch.cuda.empty_cache()\n",
        "    model.train()\n",
        "    with tqdm(train_loader, desc='Processing', unit=\"batch\") as tepoch:\n",
        "        for ESP_train_df_enzy,ESP_train_df_smiles, y_train in tepoch:\n",
        "            model.train()\n",
        "            tepoch.set_description(f\"Epoch {epoch}\")\n",
        "            ESP_train_df_enzy = ESP_train_df_enzy.to(device)\n",
        "            ESP_train_df_smiles = ESP_train_df_smiles.to(device)\n",
        "            y_train = y_train.squeeze(1).to(device)\n",
        "            refined_enzy_embed, refined_smiles_embed = model(ESP_train_df_enzy,ESP_train_df_smiles)\n",
        "            cosine_sim = torch.nn.functional.cosine_similarity(refined_enzy_embed, refined_smiles_embed, dim=1)\n",
        "            loss = loss_fn(cosine_sim, y_train)\n",
        "            loss.backward()\n",
        "            optimizer.step()\n",
        "            optimizer.zero_grad(set_to_none=True) #\n",
        "            tepoch.set_postfix(train_loss=loss)\n",
        "            # tepoch.set_postfix(val_loss=loss_sum_val, val_accuracy=100. * acc_val, balanced_val_accuracy=100. * bacc_val)\n",
        "        loss_sum_val,acc_val, bacc_val = run_validation(model,val_loader,loss_fn, device)\n",
        "        print('Epoch: %d / %d, ############## the best accuracy in val  %.4f at Epoch: %d  ##############'  % (epoch, 500,100 * best_accuracy,best_epoch))\n",
        "        # print('Performance in Train: Loss: (%.4f); Accuracy (%.2f)' % (loss_sum, 100 * acc))\n",
        "        print('Performance in Val: Loss: (%.4f); Accuracy (%.2f)' % (loss_sum_val, 100 * acc_val))\n",
        "        # checkpoint(model, f\"epoch-{epoch}.pth\")\n",
        "        if acc_val > best_accuracy: # compare the performance updates at the val set\n",
        "            best_accuracy = acc_val\n",
        "            best_epoch = epoch\n",
        "            torch.save(model, \"best_model.pt\")"
      ]
    },
    {
      "cell_type": "code",
      "execution_count": null,
      "metadata": {
        "colab": {
          "base_uri": "https://localhost:8080/"
        },
        "id": "OExiN7nMwzhj",
        "outputId": "2ed37868-9608-40c2-adf1-70bd8d1f4aaf"
      },
      "outputs": [
        {
          "name": "stdout",
          "output_type": "stream",
          "text": [
            "loss_sum=  0.06416148592129153 ACC=  0.9347205528846154 bacc=  0.9052887921588186 precision=  0.9029600244125725 specificity=  0.9675576412976944 sensitivity=  0.843019943019943 recall=  0.843019943019943 MCC=  0.8291031932778974 AUC=  0.956207422637743 f1=  0.8719611021069692\n"
          ]
        },
        {
          "data": {
            "text/plain": [
              "(0.06416148592129153, 0.9347205528846154, 0.9052887921588186)"
            ]
          },
          "execution_count": 66,
          "metadata": {},
          "output_type": "execute_result"
        }
      ],
      "source": [
        "import torch\n",
        "# Specify the file path where the entire model is saved\n",
        "load_path = 'best_model.pt'\n",
        "# Load the entire model\n",
        "model_test = torch.load(load_path)\n",
        "# model_test.to('cuda')\n",
        "# rename the baseline model\n",
        "torch.save(model_test, 'best_model_esm2_2560.pt')\n",
        "run_validation(model_test,test_loader,loss_fn, device) # performance evaluation"
      ]
    }
  ],
  "metadata": {
    "colab": {
      "collapsed_sections": [
        "9GJqtgia-R9N",
        "gWD3-zMfbjUx",
        "E5fLtKXklVXi",
        "1Zhqa08VoxmS",
        "OAIws-sGr79O",
        "U1Sr9qZQwzhi"
      ],
      "machine_shape": "hm",
      "provenance": []
    },
    "kernelspec": {
      "display_name": "Python 3",
      "name": "python3"
    },
    "language_info": {
      "name": "python"
    }
  },
  "nbformat": 4,
  "nbformat_minor": 0
}