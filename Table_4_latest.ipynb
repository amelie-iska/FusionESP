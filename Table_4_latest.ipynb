{
  "nbformat": 4,
  "nbformat_minor": 0,
  "metadata": {
    "colab": {
      "provenance": [],
      "collapsed_sections": [
        "YrxqKBeCY4Ci",
        "xPCo0g-YRW1y",
        "mDVblNed_Ltx",
        "MLaqqCKrD7iN",
        "1QP5WWHzUrzm",
        "H2sUabbBJL0V",
        "gevWIZp2IeLE",
        "1hamXYoKpkXc",
        "-PXEW1RqpkXd",
        "62OdtgaWpuMe",
        "45RWdMfbpuMe"
      ],
      "gpuType": "A100"
    },
    "kernelspec": {
      "name": "python3",
      "display_name": "Python 3"
    },
    "language_info": {
      "name": "python"
    },
    "accelerator": "GPU",
    "widgets": {
      "application/vnd.jupyter.widget-state+json": {
        "622f29b506b5495382139963538cc67e": {
          "model_module": "@jupyter-widgets/controls",
          "model_name": "HBoxModel",
          "model_module_version": "1.5.0",
          "state": {
            "_dom_classes": [],
            "_model_module": "@jupyter-widgets/controls",
            "_model_module_version": "1.5.0",
            "_model_name": "HBoxModel",
            "_view_count": null,
            "_view_module": "@jupyter-widgets/controls",
            "_view_module_version": "1.5.0",
            "_view_name": "HBoxView",
            "box_style": "",
            "children": [
              "IPY_MODEL_9246bd5acf90452b89b7d866f3d326ac",
              "IPY_MODEL_6c57f0acc4c14d0a836a29fe88d94962",
              "IPY_MODEL_c02bc79880db477fb4c289dd5ef13655"
            ],
            "layout": "IPY_MODEL_cc0a7553da274f2782e6d80c93ef8707"
          }
        },
        "9246bd5acf90452b89b7d866f3d326ac": {
          "model_module": "@jupyter-widgets/controls",
          "model_name": "HTMLModel",
          "model_module_version": "1.5.0",
          "state": {
            "_dom_classes": [],
            "_model_module": "@jupyter-widgets/controls",
            "_model_module_version": "1.5.0",
            "_model_name": "HTMLModel",
            "_view_count": null,
            "_view_module": "@jupyter-widgets/controls",
            "_view_module_version": "1.5.0",
            "_view_name": "HTMLView",
            "description": "",
            "description_tooltip": null,
            "layout": "IPY_MODEL_8e800229602c4b5f8ec11d2f83eae841",
            "placeholder": "​",
            "style": "IPY_MODEL_d5f4caa6a0ab42159131122a515a0db3",
            "value": "config.json: 100%"
          }
        },
        "6c57f0acc4c14d0a836a29fe88d94962": {
          "model_module": "@jupyter-widgets/controls",
          "model_name": "FloatProgressModel",
          "model_module_version": "1.5.0",
          "state": {
            "_dom_classes": [],
            "_model_module": "@jupyter-widgets/controls",
            "_model_module_version": "1.5.0",
            "_model_name": "FloatProgressModel",
            "_view_count": null,
            "_view_module": "@jupyter-widgets/controls",
            "_view_module_version": "1.5.0",
            "_view_name": "ProgressView",
            "bar_style": "success",
            "description": "",
            "description_tooltip": null,
            "layout": "IPY_MODEL_2670f835f29340a088920d38e37ecd2d",
            "max": 1015,
            "min": 0,
            "orientation": "horizontal",
            "style": "IPY_MODEL_90595a12fcf84f0cbd43eb76b525d60e",
            "value": 1015
          }
        },
        "c02bc79880db477fb4c289dd5ef13655": {
          "model_module": "@jupyter-widgets/controls",
          "model_name": "HTMLModel",
          "model_module_version": "1.5.0",
          "state": {
            "_dom_classes": [],
            "_model_module": "@jupyter-widgets/controls",
            "_model_module_version": "1.5.0",
            "_model_name": "HTMLModel",
            "_view_count": null,
            "_view_module": "@jupyter-widgets/controls",
            "_view_module_version": "1.5.0",
            "_view_name": "HTMLView",
            "description": "",
            "description_tooltip": null,
            "layout": "IPY_MODEL_fe4bc0516d7344b6bafdcace96aec08a",
            "placeholder": "​",
            "style": "IPY_MODEL_facb81a24af04a47bc145acbd5126f46",
            "value": " 1.01k/1.01k [00:00&lt;00:00, 77.1kB/s]"
          }
        },
        "cc0a7553da274f2782e6d80c93ef8707": {
          "model_module": "@jupyter-widgets/base",
          "model_name": "LayoutModel",
          "model_module_version": "1.2.0",
          "state": {
            "_model_module": "@jupyter-widgets/base",
            "_model_module_version": "1.2.0",
            "_model_name": "LayoutModel",
            "_view_count": null,
            "_view_module": "@jupyter-widgets/base",
            "_view_module_version": "1.2.0",
            "_view_name": "LayoutView",
            "align_content": null,
            "align_items": null,
            "align_self": null,
            "border": null,
            "bottom": null,
            "display": null,
            "flex": null,
            "flex_flow": null,
            "grid_area": null,
            "grid_auto_columns": null,
            "grid_auto_flow": null,
            "grid_auto_rows": null,
            "grid_column": null,
            "grid_gap": null,
            "grid_row": null,
            "grid_template_areas": null,
            "grid_template_columns": null,
            "grid_template_rows": null,
            "height": null,
            "justify_content": null,
            "justify_items": null,
            "left": null,
            "margin": null,
            "max_height": null,
            "max_width": null,
            "min_height": null,
            "min_width": null,
            "object_fit": null,
            "object_position": null,
            "order": null,
            "overflow": null,
            "overflow_x": null,
            "overflow_y": null,
            "padding": null,
            "right": null,
            "top": null,
            "visibility": null,
            "width": null
          }
        },
        "8e800229602c4b5f8ec11d2f83eae841": {
          "model_module": "@jupyter-widgets/base",
          "model_name": "LayoutModel",
          "model_module_version": "1.2.0",
          "state": {
            "_model_module": "@jupyter-widgets/base",
            "_model_module_version": "1.2.0",
            "_model_name": "LayoutModel",
            "_view_count": null,
            "_view_module": "@jupyter-widgets/base",
            "_view_module_version": "1.2.0",
            "_view_name": "LayoutView",
            "align_content": null,
            "align_items": null,
            "align_self": null,
            "border": null,
            "bottom": null,
            "display": null,
            "flex": null,
            "flex_flow": null,
            "grid_area": null,
            "grid_auto_columns": null,
            "grid_auto_flow": null,
            "grid_auto_rows": null,
            "grid_column": null,
            "grid_gap": null,
            "grid_row": null,
            "grid_template_areas": null,
            "grid_template_columns": null,
            "grid_template_rows": null,
            "height": null,
            "justify_content": null,
            "justify_items": null,
            "left": null,
            "margin": null,
            "max_height": null,
            "max_width": null,
            "min_height": null,
            "min_width": null,
            "object_fit": null,
            "object_position": null,
            "order": null,
            "overflow": null,
            "overflow_x": null,
            "overflow_y": null,
            "padding": null,
            "right": null,
            "top": null,
            "visibility": null,
            "width": null
          }
        },
        "d5f4caa6a0ab42159131122a515a0db3": {
          "model_module": "@jupyter-widgets/controls",
          "model_name": "DescriptionStyleModel",
          "model_module_version": "1.5.0",
          "state": {
            "_model_module": "@jupyter-widgets/controls",
            "_model_module_version": "1.5.0",
            "_model_name": "DescriptionStyleModel",
            "_view_count": null,
            "_view_module": "@jupyter-widgets/base",
            "_view_module_version": "1.2.0",
            "_view_name": "StyleView",
            "description_width": ""
          }
        },
        "2670f835f29340a088920d38e37ecd2d": {
          "model_module": "@jupyter-widgets/base",
          "model_name": "LayoutModel",
          "model_module_version": "1.2.0",
          "state": {
            "_model_module": "@jupyter-widgets/base",
            "_model_module_version": "1.2.0",
            "_model_name": "LayoutModel",
            "_view_count": null,
            "_view_module": "@jupyter-widgets/base",
            "_view_module_version": "1.2.0",
            "_view_name": "LayoutView",
            "align_content": null,
            "align_items": null,
            "align_self": null,
            "border": null,
            "bottom": null,
            "display": null,
            "flex": null,
            "flex_flow": null,
            "grid_area": null,
            "grid_auto_columns": null,
            "grid_auto_flow": null,
            "grid_auto_rows": null,
            "grid_column": null,
            "grid_gap": null,
            "grid_row": null,
            "grid_template_areas": null,
            "grid_template_columns": null,
            "grid_template_rows": null,
            "height": null,
            "justify_content": null,
            "justify_items": null,
            "left": null,
            "margin": null,
            "max_height": null,
            "max_width": null,
            "min_height": null,
            "min_width": null,
            "object_fit": null,
            "object_position": null,
            "order": null,
            "overflow": null,
            "overflow_x": null,
            "overflow_y": null,
            "padding": null,
            "right": null,
            "top": null,
            "visibility": null,
            "width": null
          }
        },
        "90595a12fcf84f0cbd43eb76b525d60e": {
          "model_module": "@jupyter-widgets/controls",
          "model_name": "ProgressStyleModel",
          "model_module_version": "1.5.0",
          "state": {
            "_model_module": "@jupyter-widgets/controls",
            "_model_module_version": "1.5.0",
            "_model_name": "ProgressStyleModel",
            "_view_count": null,
            "_view_module": "@jupyter-widgets/base",
            "_view_module_version": "1.2.0",
            "_view_name": "StyleView",
            "bar_color": null,
            "description_width": ""
          }
        },
        "fe4bc0516d7344b6bafdcace96aec08a": {
          "model_module": "@jupyter-widgets/base",
          "model_name": "LayoutModel",
          "model_module_version": "1.2.0",
          "state": {
            "_model_module": "@jupyter-widgets/base",
            "_model_module_version": "1.2.0",
            "_model_name": "LayoutModel",
            "_view_count": null,
            "_view_module": "@jupyter-widgets/base",
            "_view_module_version": "1.2.0",
            "_view_name": "LayoutView",
            "align_content": null,
            "align_items": null,
            "align_self": null,
            "border": null,
            "bottom": null,
            "display": null,
            "flex": null,
            "flex_flow": null,
            "grid_area": null,
            "grid_auto_columns": null,
            "grid_auto_flow": null,
            "grid_auto_rows": null,
            "grid_column": null,
            "grid_gap": null,
            "grid_row": null,
            "grid_template_areas": null,
            "grid_template_columns": null,
            "grid_template_rows": null,
            "height": null,
            "justify_content": null,
            "justify_items": null,
            "left": null,
            "margin": null,
            "max_height": null,
            "max_width": null,
            "min_height": null,
            "min_width": null,
            "object_fit": null,
            "object_position": null,
            "order": null,
            "overflow": null,
            "overflow_x": null,
            "overflow_y": null,
            "padding": null,
            "right": null,
            "top": null,
            "visibility": null,
            "width": null
          }
        },
        "facb81a24af04a47bc145acbd5126f46": {
          "model_module": "@jupyter-widgets/controls",
          "model_name": "DescriptionStyleModel",
          "model_module_version": "1.5.0",
          "state": {
            "_model_module": "@jupyter-widgets/controls",
            "_model_module_version": "1.5.0",
            "_model_name": "DescriptionStyleModel",
            "_view_count": null,
            "_view_module": "@jupyter-widgets/base",
            "_view_module_version": "1.2.0",
            "_view_name": "StyleView",
            "description_width": ""
          }
        },
        "a9e30feae8be4e959ac8c14eee93e94e": {
          "model_module": "@jupyter-widgets/controls",
          "model_name": "HBoxModel",
          "model_module_version": "1.5.0",
          "state": {
            "_dom_classes": [],
            "_model_module": "@jupyter-widgets/controls",
            "_model_module_version": "1.5.0",
            "_model_name": "HBoxModel",
            "_view_count": null,
            "_view_module": "@jupyter-widgets/controls",
            "_view_module_version": "1.5.0",
            "_view_name": "HBoxView",
            "box_style": "",
            "children": [
              "IPY_MODEL_34505ab4705a46669ce6de021778727d",
              "IPY_MODEL_14716840efef4707a11b024e52efc36c",
              "IPY_MODEL_197f603bac4a4e688900d2e035ef14e7"
            ],
            "layout": "IPY_MODEL_dcf063ec991b4c0d97fd216fd693c483"
          }
        },
        "34505ab4705a46669ce6de021778727d": {
          "model_module": "@jupyter-widgets/controls",
          "model_name": "HTMLModel",
          "model_module_version": "1.5.0",
          "state": {
            "_dom_classes": [],
            "_model_module": "@jupyter-widgets/controls",
            "_model_module_version": "1.5.0",
            "_model_name": "HTMLModel",
            "_view_count": null,
            "_view_module": "@jupyter-widgets/controls",
            "_view_module_version": "1.5.0",
            "_view_name": "HTMLView",
            "description": "",
            "description_tooltip": null,
            "layout": "IPY_MODEL_80c008d438c647f388b3915ba9806dd2",
            "placeholder": "​",
            "style": "IPY_MODEL_104d76b8060f4ef598c1446122ac1074",
            "value": "configuration_molformer.py: 100%"
          }
        },
        "14716840efef4707a11b024e52efc36c": {
          "model_module": "@jupyter-widgets/controls",
          "model_name": "FloatProgressModel",
          "model_module_version": "1.5.0",
          "state": {
            "_dom_classes": [],
            "_model_module": "@jupyter-widgets/controls",
            "_model_module_version": "1.5.0",
            "_model_name": "FloatProgressModel",
            "_view_count": null,
            "_view_module": "@jupyter-widgets/controls",
            "_view_module_version": "1.5.0",
            "_view_name": "ProgressView",
            "bar_style": "success",
            "description": "",
            "description_tooltip": null,
            "layout": "IPY_MODEL_4974bd3aed264f43a73e2fd15f30c97d",
            "max": 7601,
            "min": 0,
            "orientation": "horizontal",
            "style": "IPY_MODEL_642f6e0813834fb59b6a912108f65e21",
            "value": 7601
          }
        },
        "197f603bac4a4e688900d2e035ef14e7": {
          "model_module": "@jupyter-widgets/controls",
          "model_name": "HTMLModel",
          "model_module_version": "1.5.0",
          "state": {
            "_dom_classes": [],
            "_model_module": "@jupyter-widgets/controls",
            "_model_module_version": "1.5.0",
            "_model_name": "HTMLModel",
            "_view_count": null,
            "_view_module": "@jupyter-widgets/controls",
            "_view_module_version": "1.5.0",
            "_view_name": "HTMLView",
            "description": "",
            "description_tooltip": null,
            "layout": "IPY_MODEL_5aca40f0d5f645b1b61fdb1f5f3a7ce1",
            "placeholder": "​",
            "style": "IPY_MODEL_c33cd705f22c4172aa124266816493e7",
            "value": " 7.60k/7.60k [00:00&lt;00:00, 530kB/s]"
          }
        },
        "dcf063ec991b4c0d97fd216fd693c483": {
          "model_module": "@jupyter-widgets/base",
          "model_name": "LayoutModel",
          "model_module_version": "1.2.0",
          "state": {
            "_model_module": "@jupyter-widgets/base",
            "_model_module_version": "1.2.0",
            "_model_name": "LayoutModel",
            "_view_count": null,
            "_view_module": "@jupyter-widgets/base",
            "_view_module_version": "1.2.0",
            "_view_name": "LayoutView",
            "align_content": null,
            "align_items": null,
            "align_self": null,
            "border": null,
            "bottom": null,
            "display": null,
            "flex": null,
            "flex_flow": null,
            "grid_area": null,
            "grid_auto_columns": null,
            "grid_auto_flow": null,
            "grid_auto_rows": null,
            "grid_column": null,
            "grid_gap": null,
            "grid_row": null,
            "grid_template_areas": null,
            "grid_template_columns": null,
            "grid_template_rows": null,
            "height": null,
            "justify_content": null,
            "justify_items": null,
            "left": null,
            "margin": null,
            "max_height": null,
            "max_width": null,
            "min_height": null,
            "min_width": null,
            "object_fit": null,
            "object_position": null,
            "order": null,
            "overflow": null,
            "overflow_x": null,
            "overflow_y": null,
            "padding": null,
            "right": null,
            "top": null,
            "visibility": null,
            "width": null
          }
        },
        "80c008d438c647f388b3915ba9806dd2": {
          "model_module": "@jupyter-widgets/base",
          "model_name": "LayoutModel",
          "model_module_version": "1.2.0",
          "state": {
            "_model_module": "@jupyter-widgets/base",
            "_model_module_version": "1.2.0",
            "_model_name": "LayoutModel",
            "_view_count": null,
            "_view_module": "@jupyter-widgets/base",
            "_view_module_version": "1.2.0",
            "_view_name": "LayoutView",
            "align_content": null,
            "align_items": null,
            "align_self": null,
            "border": null,
            "bottom": null,
            "display": null,
            "flex": null,
            "flex_flow": null,
            "grid_area": null,
            "grid_auto_columns": null,
            "grid_auto_flow": null,
            "grid_auto_rows": null,
            "grid_column": null,
            "grid_gap": null,
            "grid_row": null,
            "grid_template_areas": null,
            "grid_template_columns": null,
            "grid_template_rows": null,
            "height": null,
            "justify_content": null,
            "justify_items": null,
            "left": null,
            "margin": null,
            "max_height": null,
            "max_width": null,
            "min_height": null,
            "min_width": null,
            "object_fit": null,
            "object_position": null,
            "order": null,
            "overflow": null,
            "overflow_x": null,
            "overflow_y": null,
            "padding": null,
            "right": null,
            "top": null,
            "visibility": null,
            "width": null
          }
        },
        "104d76b8060f4ef598c1446122ac1074": {
          "model_module": "@jupyter-widgets/controls",
          "model_name": "DescriptionStyleModel",
          "model_module_version": "1.5.0",
          "state": {
            "_model_module": "@jupyter-widgets/controls",
            "_model_module_version": "1.5.0",
            "_model_name": "DescriptionStyleModel",
            "_view_count": null,
            "_view_module": "@jupyter-widgets/base",
            "_view_module_version": "1.2.0",
            "_view_name": "StyleView",
            "description_width": ""
          }
        },
        "4974bd3aed264f43a73e2fd15f30c97d": {
          "model_module": "@jupyter-widgets/base",
          "model_name": "LayoutModel",
          "model_module_version": "1.2.0",
          "state": {
            "_model_module": "@jupyter-widgets/base",
            "_model_module_version": "1.2.0",
            "_model_name": "LayoutModel",
            "_view_count": null,
            "_view_module": "@jupyter-widgets/base",
            "_view_module_version": "1.2.0",
            "_view_name": "LayoutView",
            "align_content": null,
            "align_items": null,
            "align_self": null,
            "border": null,
            "bottom": null,
            "display": null,
            "flex": null,
            "flex_flow": null,
            "grid_area": null,
            "grid_auto_columns": null,
            "grid_auto_flow": null,
            "grid_auto_rows": null,
            "grid_column": null,
            "grid_gap": null,
            "grid_row": null,
            "grid_template_areas": null,
            "grid_template_columns": null,
            "grid_template_rows": null,
            "height": null,
            "justify_content": null,
            "justify_items": null,
            "left": null,
            "margin": null,
            "max_height": null,
            "max_width": null,
            "min_height": null,
            "min_width": null,
            "object_fit": null,
            "object_position": null,
            "order": null,
            "overflow": null,
            "overflow_x": null,
            "overflow_y": null,
            "padding": null,
            "right": null,
            "top": null,
            "visibility": null,
            "width": null
          }
        },
        "642f6e0813834fb59b6a912108f65e21": {
          "model_module": "@jupyter-widgets/controls",
          "model_name": "ProgressStyleModel",
          "model_module_version": "1.5.0",
          "state": {
            "_model_module": "@jupyter-widgets/controls",
            "_model_module_version": "1.5.0",
            "_model_name": "ProgressStyleModel",
            "_view_count": null,
            "_view_module": "@jupyter-widgets/base",
            "_view_module_version": "1.2.0",
            "_view_name": "StyleView",
            "bar_color": null,
            "description_width": ""
          }
        },
        "5aca40f0d5f645b1b61fdb1f5f3a7ce1": {
          "model_module": "@jupyter-widgets/base",
          "model_name": "LayoutModel",
          "model_module_version": "1.2.0",
          "state": {
            "_model_module": "@jupyter-widgets/base",
            "_model_module_version": "1.2.0",
            "_model_name": "LayoutModel",
            "_view_count": null,
            "_view_module": "@jupyter-widgets/base",
            "_view_module_version": "1.2.0",
            "_view_name": "LayoutView",
            "align_content": null,
            "align_items": null,
            "align_self": null,
            "border": null,
            "bottom": null,
            "display": null,
            "flex": null,
            "flex_flow": null,
            "grid_area": null,
            "grid_auto_columns": null,
            "grid_auto_flow": null,
            "grid_auto_rows": null,
            "grid_column": null,
            "grid_gap": null,
            "grid_row": null,
            "grid_template_areas": null,
            "grid_template_columns": null,
            "grid_template_rows": null,
            "height": null,
            "justify_content": null,
            "justify_items": null,
            "left": null,
            "margin": null,
            "max_height": null,
            "max_width": null,
            "min_height": null,
            "min_width": null,
            "object_fit": null,
            "object_position": null,
            "order": null,
            "overflow": null,
            "overflow_x": null,
            "overflow_y": null,
            "padding": null,
            "right": null,
            "top": null,
            "visibility": null,
            "width": null
          }
        },
        "c33cd705f22c4172aa124266816493e7": {
          "model_module": "@jupyter-widgets/controls",
          "model_name": "DescriptionStyleModel",
          "model_module_version": "1.5.0",
          "state": {
            "_model_module": "@jupyter-widgets/controls",
            "_model_module_version": "1.5.0",
            "_model_name": "DescriptionStyleModel",
            "_view_count": null,
            "_view_module": "@jupyter-widgets/base",
            "_view_module_version": "1.2.0",
            "_view_name": "StyleView",
            "description_width": ""
          }
        },
        "668521520c2a4986ba298e52a8593d67": {
          "model_module": "@jupyter-widgets/controls",
          "model_name": "HBoxModel",
          "model_module_version": "1.5.0",
          "state": {
            "_dom_classes": [],
            "_model_module": "@jupyter-widgets/controls",
            "_model_module_version": "1.5.0",
            "_model_name": "HBoxModel",
            "_view_count": null,
            "_view_module": "@jupyter-widgets/controls",
            "_view_module_version": "1.5.0",
            "_view_name": "HBoxView",
            "box_style": "",
            "children": [
              "IPY_MODEL_450b37828c6b4caebf13dcbc4208cc73",
              "IPY_MODEL_8a07e1883d0b4779817f6155cccc184b",
              "IPY_MODEL_731a04610b2046ada781f0226ea37115"
            ],
            "layout": "IPY_MODEL_df0597cc49f6417ca3636a15915a2a9d"
          }
        },
        "450b37828c6b4caebf13dcbc4208cc73": {
          "model_module": "@jupyter-widgets/controls",
          "model_name": "HTMLModel",
          "model_module_version": "1.5.0",
          "state": {
            "_dom_classes": [],
            "_model_module": "@jupyter-widgets/controls",
            "_model_module_version": "1.5.0",
            "_model_name": "HTMLModel",
            "_view_count": null,
            "_view_module": "@jupyter-widgets/controls",
            "_view_module_version": "1.5.0",
            "_view_name": "HTMLView",
            "description": "",
            "description_tooltip": null,
            "layout": "IPY_MODEL_9cba80245fec487a879ac1a61f6e0cc4",
            "placeholder": "​",
            "style": "IPY_MODEL_c64f0409c0084648ae48b788143cdd4c",
            "value": "modeling_molformer.py: 100%"
          }
        },
        "8a07e1883d0b4779817f6155cccc184b": {
          "model_module": "@jupyter-widgets/controls",
          "model_name": "FloatProgressModel",
          "model_module_version": "1.5.0",
          "state": {
            "_dom_classes": [],
            "_model_module": "@jupyter-widgets/controls",
            "_model_module_version": "1.5.0",
            "_model_name": "FloatProgressModel",
            "_view_count": null,
            "_view_module": "@jupyter-widgets/controls",
            "_view_module_version": "1.5.0",
            "_view_name": "ProgressView",
            "bar_style": "success",
            "description": "",
            "description_tooltip": null,
            "layout": "IPY_MODEL_cfd8036e2f044f249760250075985935",
            "max": 39292,
            "min": 0,
            "orientation": "horizontal",
            "style": "IPY_MODEL_d1a8066164d048b0b531e178150005a8",
            "value": 39292
          }
        },
        "731a04610b2046ada781f0226ea37115": {
          "model_module": "@jupyter-widgets/controls",
          "model_name": "HTMLModel",
          "model_module_version": "1.5.0",
          "state": {
            "_dom_classes": [],
            "_model_module": "@jupyter-widgets/controls",
            "_model_module_version": "1.5.0",
            "_model_name": "HTMLModel",
            "_view_count": null,
            "_view_module": "@jupyter-widgets/controls",
            "_view_module_version": "1.5.0",
            "_view_name": "HTMLView",
            "description": "",
            "description_tooltip": null,
            "layout": "IPY_MODEL_b9205d59a7c14e08aa87c5b7a185ea44",
            "placeholder": "​",
            "style": "IPY_MODEL_445ee6d2210b4dad9e2abb9a21a70f6d",
            "value": " 39.3k/39.3k [00:00&lt;00:00, 2.90MB/s]"
          }
        },
        "df0597cc49f6417ca3636a15915a2a9d": {
          "model_module": "@jupyter-widgets/base",
          "model_name": "LayoutModel",
          "model_module_version": "1.2.0",
          "state": {
            "_model_module": "@jupyter-widgets/base",
            "_model_module_version": "1.2.0",
            "_model_name": "LayoutModel",
            "_view_count": null,
            "_view_module": "@jupyter-widgets/base",
            "_view_module_version": "1.2.0",
            "_view_name": "LayoutView",
            "align_content": null,
            "align_items": null,
            "align_self": null,
            "border": null,
            "bottom": null,
            "display": null,
            "flex": null,
            "flex_flow": null,
            "grid_area": null,
            "grid_auto_columns": null,
            "grid_auto_flow": null,
            "grid_auto_rows": null,
            "grid_column": null,
            "grid_gap": null,
            "grid_row": null,
            "grid_template_areas": null,
            "grid_template_columns": null,
            "grid_template_rows": null,
            "height": null,
            "justify_content": null,
            "justify_items": null,
            "left": null,
            "margin": null,
            "max_height": null,
            "max_width": null,
            "min_height": null,
            "min_width": null,
            "object_fit": null,
            "object_position": null,
            "order": null,
            "overflow": null,
            "overflow_x": null,
            "overflow_y": null,
            "padding": null,
            "right": null,
            "top": null,
            "visibility": null,
            "width": null
          }
        },
        "9cba80245fec487a879ac1a61f6e0cc4": {
          "model_module": "@jupyter-widgets/base",
          "model_name": "LayoutModel",
          "model_module_version": "1.2.0",
          "state": {
            "_model_module": "@jupyter-widgets/base",
            "_model_module_version": "1.2.0",
            "_model_name": "LayoutModel",
            "_view_count": null,
            "_view_module": "@jupyter-widgets/base",
            "_view_module_version": "1.2.0",
            "_view_name": "LayoutView",
            "align_content": null,
            "align_items": null,
            "align_self": null,
            "border": null,
            "bottom": null,
            "display": null,
            "flex": null,
            "flex_flow": null,
            "grid_area": null,
            "grid_auto_columns": null,
            "grid_auto_flow": null,
            "grid_auto_rows": null,
            "grid_column": null,
            "grid_gap": null,
            "grid_row": null,
            "grid_template_areas": null,
            "grid_template_columns": null,
            "grid_template_rows": null,
            "height": null,
            "justify_content": null,
            "justify_items": null,
            "left": null,
            "margin": null,
            "max_height": null,
            "max_width": null,
            "min_height": null,
            "min_width": null,
            "object_fit": null,
            "object_position": null,
            "order": null,
            "overflow": null,
            "overflow_x": null,
            "overflow_y": null,
            "padding": null,
            "right": null,
            "top": null,
            "visibility": null,
            "width": null
          }
        },
        "c64f0409c0084648ae48b788143cdd4c": {
          "model_module": "@jupyter-widgets/controls",
          "model_name": "DescriptionStyleModel",
          "model_module_version": "1.5.0",
          "state": {
            "_model_module": "@jupyter-widgets/controls",
            "_model_module_version": "1.5.0",
            "_model_name": "DescriptionStyleModel",
            "_view_count": null,
            "_view_module": "@jupyter-widgets/base",
            "_view_module_version": "1.2.0",
            "_view_name": "StyleView",
            "description_width": ""
          }
        },
        "cfd8036e2f044f249760250075985935": {
          "model_module": "@jupyter-widgets/base",
          "model_name": "LayoutModel",
          "model_module_version": "1.2.0",
          "state": {
            "_model_module": "@jupyter-widgets/base",
            "_model_module_version": "1.2.0",
            "_model_name": "LayoutModel",
            "_view_count": null,
            "_view_module": "@jupyter-widgets/base",
            "_view_module_version": "1.2.0",
            "_view_name": "LayoutView",
            "align_content": null,
            "align_items": null,
            "align_self": null,
            "border": null,
            "bottom": null,
            "display": null,
            "flex": null,
            "flex_flow": null,
            "grid_area": null,
            "grid_auto_columns": null,
            "grid_auto_flow": null,
            "grid_auto_rows": null,
            "grid_column": null,
            "grid_gap": null,
            "grid_row": null,
            "grid_template_areas": null,
            "grid_template_columns": null,
            "grid_template_rows": null,
            "height": null,
            "justify_content": null,
            "justify_items": null,
            "left": null,
            "margin": null,
            "max_height": null,
            "max_width": null,
            "min_height": null,
            "min_width": null,
            "object_fit": null,
            "object_position": null,
            "order": null,
            "overflow": null,
            "overflow_x": null,
            "overflow_y": null,
            "padding": null,
            "right": null,
            "top": null,
            "visibility": null,
            "width": null
          }
        },
        "d1a8066164d048b0b531e178150005a8": {
          "model_module": "@jupyter-widgets/controls",
          "model_name": "ProgressStyleModel",
          "model_module_version": "1.5.0",
          "state": {
            "_model_module": "@jupyter-widgets/controls",
            "_model_module_version": "1.5.0",
            "_model_name": "ProgressStyleModel",
            "_view_count": null,
            "_view_module": "@jupyter-widgets/base",
            "_view_module_version": "1.2.0",
            "_view_name": "StyleView",
            "bar_color": null,
            "description_width": ""
          }
        },
        "b9205d59a7c14e08aa87c5b7a185ea44": {
          "model_module": "@jupyter-widgets/base",
          "model_name": "LayoutModel",
          "model_module_version": "1.2.0",
          "state": {
            "_model_module": "@jupyter-widgets/base",
            "_model_module_version": "1.2.0",
            "_model_name": "LayoutModel",
            "_view_count": null,
            "_view_module": "@jupyter-widgets/base",
            "_view_module_version": "1.2.0",
            "_view_name": "LayoutView",
            "align_content": null,
            "align_items": null,
            "align_self": null,
            "border": null,
            "bottom": null,
            "display": null,
            "flex": null,
            "flex_flow": null,
            "grid_area": null,
            "grid_auto_columns": null,
            "grid_auto_flow": null,
            "grid_auto_rows": null,
            "grid_column": null,
            "grid_gap": null,
            "grid_row": null,
            "grid_template_areas": null,
            "grid_template_columns": null,
            "grid_template_rows": null,
            "height": null,
            "justify_content": null,
            "justify_items": null,
            "left": null,
            "margin": null,
            "max_height": null,
            "max_width": null,
            "min_height": null,
            "min_width": null,
            "object_fit": null,
            "object_position": null,
            "order": null,
            "overflow": null,
            "overflow_x": null,
            "overflow_y": null,
            "padding": null,
            "right": null,
            "top": null,
            "visibility": null,
            "width": null
          }
        },
        "445ee6d2210b4dad9e2abb9a21a70f6d": {
          "model_module": "@jupyter-widgets/controls",
          "model_name": "DescriptionStyleModel",
          "model_module_version": "1.5.0",
          "state": {
            "_model_module": "@jupyter-widgets/controls",
            "_model_module_version": "1.5.0",
            "_model_name": "DescriptionStyleModel",
            "_view_count": null,
            "_view_module": "@jupyter-widgets/base",
            "_view_module_version": "1.2.0",
            "_view_name": "StyleView",
            "description_width": ""
          }
        },
        "e50336c070cc46e9acf446d413bbb67c": {
          "model_module": "@jupyter-widgets/controls",
          "model_name": "HBoxModel",
          "model_module_version": "1.5.0",
          "state": {
            "_dom_classes": [],
            "_model_module": "@jupyter-widgets/controls",
            "_model_module_version": "1.5.0",
            "_model_name": "HBoxModel",
            "_view_count": null,
            "_view_module": "@jupyter-widgets/controls",
            "_view_module_version": "1.5.0",
            "_view_name": "HBoxView",
            "box_style": "",
            "children": [
              "IPY_MODEL_09b79c2f2c9647a8bbad673b119aefcc",
              "IPY_MODEL_5e7c2b3fb3c24baea8641f10ba9fe6dc",
              "IPY_MODEL_1e3d53db60664abfb2309064368aa41e"
            ],
            "layout": "IPY_MODEL_770bbaefff1b4b9b942c4534200cd7a4"
          }
        },
        "09b79c2f2c9647a8bbad673b119aefcc": {
          "model_module": "@jupyter-widgets/controls",
          "model_name": "HTMLModel",
          "model_module_version": "1.5.0",
          "state": {
            "_dom_classes": [],
            "_model_module": "@jupyter-widgets/controls",
            "_model_module_version": "1.5.0",
            "_model_name": "HTMLModel",
            "_view_count": null,
            "_view_module": "@jupyter-widgets/controls",
            "_view_module_version": "1.5.0",
            "_view_name": "HTMLView",
            "description": "",
            "description_tooltip": null,
            "layout": "IPY_MODEL_6ca4d7fa053b43b4854baa5261107ff9",
            "placeholder": "​",
            "style": "IPY_MODEL_576df230230c4d8c984fe13c94203a45",
            "value": "model.safetensors: 100%"
          }
        },
        "5e7c2b3fb3c24baea8641f10ba9fe6dc": {
          "model_module": "@jupyter-widgets/controls",
          "model_name": "FloatProgressModel",
          "model_module_version": "1.5.0",
          "state": {
            "_dom_classes": [],
            "_model_module": "@jupyter-widgets/controls",
            "_model_module_version": "1.5.0",
            "_model_name": "FloatProgressModel",
            "_view_count": null,
            "_view_module": "@jupyter-widgets/controls",
            "_view_module_version": "1.5.0",
            "_view_name": "ProgressView",
            "bar_style": "success",
            "description": "",
            "description_tooltip": null,
            "layout": "IPY_MODEL_407ab3696a134eebb86417169d682f18",
            "max": 187248784,
            "min": 0,
            "orientation": "horizontal",
            "style": "IPY_MODEL_35b03c1d7d924ee797c93be8dcfedc32",
            "value": 187248784
          }
        },
        "1e3d53db60664abfb2309064368aa41e": {
          "model_module": "@jupyter-widgets/controls",
          "model_name": "HTMLModel",
          "model_module_version": "1.5.0",
          "state": {
            "_dom_classes": [],
            "_model_module": "@jupyter-widgets/controls",
            "_model_module_version": "1.5.0",
            "_model_name": "HTMLModel",
            "_view_count": null,
            "_view_module": "@jupyter-widgets/controls",
            "_view_module_version": "1.5.0",
            "_view_name": "HTMLView",
            "description": "",
            "description_tooltip": null,
            "layout": "IPY_MODEL_e58381bc24a3437e8077d1d73fbb880b",
            "placeholder": "​",
            "style": "IPY_MODEL_940ec28cf2eb4a5486f4a34397a0e52f",
            "value": " 187M/187M [00:01&lt;00:00, 167MB/s]"
          }
        },
        "770bbaefff1b4b9b942c4534200cd7a4": {
          "model_module": "@jupyter-widgets/base",
          "model_name": "LayoutModel",
          "model_module_version": "1.2.0",
          "state": {
            "_model_module": "@jupyter-widgets/base",
            "_model_module_version": "1.2.0",
            "_model_name": "LayoutModel",
            "_view_count": null,
            "_view_module": "@jupyter-widgets/base",
            "_view_module_version": "1.2.0",
            "_view_name": "LayoutView",
            "align_content": null,
            "align_items": null,
            "align_self": null,
            "border": null,
            "bottom": null,
            "display": null,
            "flex": null,
            "flex_flow": null,
            "grid_area": null,
            "grid_auto_columns": null,
            "grid_auto_flow": null,
            "grid_auto_rows": null,
            "grid_column": null,
            "grid_gap": null,
            "grid_row": null,
            "grid_template_areas": null,
            "grid_template_columns": null,
            "grid_template_rows": null,
            "height": null,
            "justify_content": null,
            "justify_items": null,
            "left": null,
            "margin": null,
            "max_height": null,
            "max_width": null,
            "min_height": null,
            "min_width": null,
            "object_fit": null,
            "object_position": null,
            "order": null,
            "overflow": null,
            "overflow_x": null,
            "overflow_y": null,
            "padding": null,
            "right": null,
            "top": null,
            "visibility": null,
            "width": null
          }
        },
        "6ca4d7fa053b43b4854baa5261107ff9": {
          "model_module": "@jupyter-widgets/base",
          "model_name": "LayoutModel",
          "model_module_version": "1.2.0",
          "state": {
            "_model_module": "@jupyter-widgets/base",
            "_model_module_version": "1.2.0",
            "_model_name": "LayoutModel",
            "_view_count": null,
            "_view_module": "@jupyter-widgets/base",
            "_view_module_version": "1.2.0",
            "_view_name": "LayoutView",
            "align_content": null,
            "align_items": null,
            "align_self": null,
            "border": null,
            "bottom": null,
            "display": null,
            "flex": null,
            "flex_flow": null,
            "grid_area": null,
            "grid_auto_columns": null,
            "grid_auto_flow": null,
            "grid_auto_rows": null,
            "grid_column": null,
            "grid_gap": null,
            "grid_row": null,
            "grid_template_areas": null,
            "grid_template_columns": null,
            "grid_template_rows": null,
            "height": null,
            "justify_content": null,
            "justify_items": null,
            "left": null,
            "margin": null,
            "max_height": null,
            "max_width": null,
            "min_height": null,
            "min_width": null,
            "object_fit": null,
            "object_position": null,
            "order": null,
            "overflow": null,
            "overflow_x": null,
            "overflow_y": null,
            "padding": null,
            "right": null,
            "top": null,
            "visibility": null,
            "width": null
          }
        },
        "576df230230c4d8c984fe13c94203a45": {
          "model_module": "@jupyter-widgets/controls",
          "model_name": "DescriptionStyleModel",
          "model_module_version": "1.5.0",
          "state": {
            "_model_module": "@jupyter-widgets/controls",
            "_model_module_version": "1.5.0",
            "_model_name": "DescriptionStyleModel",
            "_view_count": null,
            "_view_module": "@jupyter-widgets/base",
            "_view_module_version": "1.2.0",
            "_view_name": "StyleView",
            "description_width": ""
          }
        },
        "407ab3696a134eebb86417169d682f18": {
          "model_module": "@jupyter-widgets/base",
          "model_name": "LayoutModel",
          "model_module_version": "1.2.0",
          "state": {
            "_model_module": "@jupyter-widgets/base",
            "_model_module_version": "1.2.0",
            "_model_name": "LayoutModel",
            "_view_count": null,
            "_view_module": "@jupyter-widgets/base",
            "_view_module_version": "1.2.0",
            "_view_name": "LayoutView",
            "align_content": null,
            "align_items": null,
            "align_self": null,
            "border": null,
            "bottom": null,
            "display": null,
            "flex": null,
            "flex_flow": null,
            "grid_area": null,
            "grid_auto_columns": null,
            "grid_auto_flow": null,
            "grid_auto_rows": null,
            "grid_column": null,
            "grid_gap": null,
            "grid_row": null,
            "grid_template_areas": null,
            "grid_template_columns": null,
            "grid_template_rows": null,
            "height": null,
            "justify_content": null,
            "justify_items": null,
            "left": null,
            "margin": null,
            "max_height": null,
            "max_width": null,
            "min_height": null,
            "min_width": null,
            "object_fit": null,
            "object_position": null,
            "order": null,
            "overflow": null,
            "overflow_x": null,
            "overflow_y": null,
            "padding": null,
            "right": null,
            "top": null,
            "visibility": null,
            "width": null
          }
        },
        "35b03c1d7d924ee797c93be8dcfedc32": {
          "model_module": "@jupyter-widgets/controls",
          "model_name": "ProgressStyleModel",
          "model_module_version": "1.5.0",
          "state": {
            "_model_module": "@jupyter-widgets/controls",
            "_model_module_version": "1.5.0",
            "_model_name": "ProgressStyleModel",
            "_view_count": null,
            "_view_module": "@jupyter-widgets/base",
            "_view_module_version": "1.2.0",
            "_view_name": "StyleView",
            "bar_color": null,
            "description_width": ""
          }
        },
        "e58381bc24a3437e8077d1d73fbb880b": {
          "model_module": "@jupyter-widgets/base",
          "model_name": "LayoutModel",
          "model_module_version": "1.2.0",
          "state": {
            "_model_module": "@jupyter-widgets/base",
            "_model_module_version": "1.2.0",
            "_model_name": "LayoutModel",
            "_view_count": null,
            "_view_module": "@jupyter-widgets/base",
            "_view_module_version": "1.2.0",
            "_view_name": "LayoutView",
            "align_content": null,
            "align_items": null,
            "align_self": null,
            "border": null,
            "bottom": null,
            "display": null,
            "flex": null,
            "flex_flow": null,
            "grid_area": null,
            "grid_auto_columns": null,
            "grid_auto_flow": null,
            "grid_auto_rows": null,
            "grid_column": null,
            "grid_gap": null,
            "grid_row": null,
            "grid_template_areas": null,
            "grid_template_columns": null,
            "grid_template_rows": null,
            "height": null,
            "justify_content": null,
            "justify_items": null,
            "left": null,
            "margin": null,
            "max_height": null,
            "max_width": null,
            "min_height": null,
            "min_width": null,
            "object_fit": null,
            "object_position": null,
            "order": null,
            "overflow": null,
            "overflow_x": null,
            "overflow_y": null,
            "padding": null,
            "right": null,
            "top": null,
            "visibility": null,
            "width": null
          }
        },
        "940ec28cf2eb4a5486f4a34397a0e52f": {
          "model_module": "@jupyter-widgets/controls",
          "model_name": "DescriptionStyleModel",
          "model_module_version": "1.5.0",
          "state": {
            "_model_module": "@jupyter-widgets/controls",
            "_model_module_version": "1.5.0",
            "_model_name": "DescriptionStyleModel",
            "_view_count": null,
            "_view_module": "@jupyter-widgets/base",
            "_view_module_version": "1.2.0",
            "_view_name": "StyleView",
            "description_width": ""
          }
        },
        "51b00ab10f4c45e18e5619a1b366b624": {
          "model_module": "@jupyter-widgets/controls",
          "model_name": "HBoxModel",
          "model_module_version": "1.5.0",
          "state": {
            "_dom_classes": [],
            "_model_module": "@jupyter-widgets/controls",
            "_model_module_version": "1.5.0",
            "_model_name": "HBoxModel",
            "_view_count": null,
            "_view_module": "@jupyter-widgets/controls",
            "_view_module_version": "1.5.0",
            "_view_name": "HBoxView",
            "box_style": "",
            "children": [
              "IPY_MODEL_b3015545136d4704a4a6e6e4c1ddeeb9",
              "IPY_MODEL_8b61eb10923948369f3ade45390dcc25",
              "IPY_MODEL_e3b9d0bffcce4e7fb4f5aab0bc4431a4"
            ],
            "layout": "IPY_MODEL_ebea65d5b51243f88de3029e14b1e0de"
          }
        },
        "b3015545136d4704a4a6e6e4c1ddeeb9": {
          "model_module": "@jupyter-widgets/controls",
          "model_name": "HTMLModel",
          "model_module_version": "1.5.0",
          "state": {
            "_dom_classes": [],
            "_model_module": "@jupyter-widgets/controls",
            "_model_module_version": "1.5.0",
            "_model_name": "HTMLModel",
            "_view_count": null,
            "_view_module": "@jupyter-widgets/controls",
            "_view_module_version": "1.5.0",
            "_view_name": "HTMLView",
            "description": "",
            "description_tooltip": null,
            "layout": "IPY_MODEL_d4bf2022503f41b9a0322a99236e57fe",
            "placeholder": "​",
            "style": "IPY_MODEL_31d76fcb5ee94bfdb39f5e8c78028844",
            "value": "tokenizer_config.json: 100%"
          }
        },
        "8b61eb10923948369f3ade45390dcc25": {
          "model_module": "@jupyter-widgets/controls",
          "model_name": "FloatProgressModel",
          "model_module_version": "1.5.0",
          "state": {
            "_dom_classes": [],
            "_model_module": "@jupyter-widgets/controls",
            "_model_module_version": "1.5.0",
            "_model_name": "FloatProgressModel",
            "_view_count": null,
            "_view_module": "@jupyter-widgets/controls",
            "_view_module_version": "1.5.0",
            "_view_name": "ProgressView",
            "bar_style": "success",
            "description": "",
            "description_tooltip": null,
            "layout": "IPY_MODEL_8ca92f1c356e45af90dcdeae4d7172a8",
            "max": 1294,
            "min": 0,
            "orientation": "horizontal",
            "style": "IPY_MODEL_dea2ac4f7a914879a3ce348a3a784e05",
            "value": 1294
          }
        },
        "e3b9d0bffcce4e7fb4f5aab0bc4431a4": {
          "model_module": "@jupyter-widgets/controls",
          "model_name": "HTMLModel",
          "model_module_version": "1.5.0",
          "state": {
            "_dom_classes": [],
            "_model_module": "@jupyter-widgets/controls",
            "_model_module_version": "1.5.0",
            "_model_name": "HTMLModel",
            "_view_count": null,
            "_view_module": "@jupyter-widgets/controls",
            "_view_module_version": "1.5.0",
            "_view_name": "HTMLView",
            "description": "",
            "description_tooltip": null,
            "layout": "IPY_MODEL_ad4562d213d440d5bbb46ddceb083a13",
            "placeholder": "​",
            "style": "IPY_MODEL_6fa06d1f113b45dfae4a6dc4ef428009",
            "value": " 1.29k/1.29k [00:00&lt;00:00, 67.7kB/s]"
          }
        },
        "ebea65d5b51243f88de3029e14b1e0de": {
          "model_module": "@jupyter-widgets/base",
          "model_name": "LayoutModel",
          "model_module_version": "1.2.0",
          "state": {
            "_model_module": "@jupyter-widgets/base",
            "_model_module_version": "1.2.0",
            "_model_name": "LayoutModel",
            "_view_count": null,
            "_view_module": "@jupyter-widgets/base",
            "_view_module_version": "1.2.0",
            "_view_name": "LayoutView",
            "align_content": null,
            "align_items": null,
            "align_self": null,
            "border": null,
            "bottom": null,
            "display": null,
            "flex": null,
            "flex_flow": null,
            "grid_area": null,
            "grid_auto_columns": null,
            "grid_auto_flow": null,
            "grid_auto_rows": null,
            "grid_column": null,
            "grid_gap": null,
            "grid_row": null,
            "grid_template_areas": null,
            "grid_template_columns": null,
            "grid_template_rows": null,
            "height": null,
            "justify_content": null,
            "justify_items": null,
            "left": null,
            "margin": null,
            "max_height": null,
            "max_width": null,
            "min_height": null,
            "min_width": null,
            "object_fit": null,
            "object_position": null,
            "order": null,
            "overflow": null,
            "overflow_x": null,
            "overflow_y": null,
            "padding": null,
            "right": null,
            "top": null,
            "visibility": null,
            "width": null
          }
        },
        "d4bf2022503f41b9a0322a99236e57fe": {
          "model_module": "@jupyter-widgets/base",
          "model_name": "LayoutModel",
          "model_module_version": "1.2.0",
          "state": {
            "_model_module": "@jupyter-widgets/base",
            "_model_module_version": "1.2.0",
            "_model_name": "LayoutModel",
            "_view_count": null,
            "_view_module": "@jupyter-widgets/base",
            "_view_module_version": "1.2.0",
            "_view_name": "LayoutView",
            "align_content": null,
            "align_items": null,
            "align_self": null,
            "border": null,
            "bottom": null,
            "display": null,
            "flex": null,
            "flex_flow": null,
            "grid_area": null,
            "grid_auto_columns": null,
            "grid_auto_flow": null,
            "grid_auto_rows": null,
            "grid_column": null,
            "grid_gap": null,
            "grid_row": null,
            "grid_template_areas": null,
            "grid_template_columns": null,
            "grid_template_rows": null,
            "height": null,
            "justify_content": null,
            "justify_items": null,
            "left": null,
            "margin": null,
            "max_height": null,
            "max_width": null,
            "min_height": null,
            "min_width": null,
            "object_fit": null,
            "object_position": null,
            "order": null,
            "overflow": null,
            "overflow_x": null,
            "overflow_y": null,
            "padding": null,
            "right": null,
            "top": null,
            "visibility": null,
            "width": null
          }
        },
        "31d76fcb5ee94bfdb39f5e8c78028844": {
          "model_module": "@jupyter-widgets/controls",
          "model_name": "DescriptionStyleModel",
          "model_module_version": "1.5.0",
          "state": {
            "_model_module": "@jupyter-widgets/controls",
            "_model_module_version": "1.5.0",
            "_model_name": "DescriptionStyleModel",
            "_view_count": null,
            "_view_module": "@jupyter-widgets/base",
            "_view_module_version": "1.2.0",
            "_view_name": "StyleView",
            "description_width": ""
          }
        },
        "8ca92f1c356e45af90dcdeae4d7172a8": {
          "model_module": "@jupyter-widgets/base",
          "model_name": "LayoutModel",
          "model_module_version": "1.2.0",
          "state": {
            "_model_module": "@jupyter-widgets/base",
            "_model_module_version": "1.2.0",
            "_model_name": "LayoutModel",
            "_view_count": null,
            "_view_module": "@jupyter-widgets/base",
            "_view_module_version": "1.2.0",
            "_view_name": "LayoutView",
            "align_content": null,
            "align_items": null,
            "align_self": null,
            "border": null,
            "bottom": null,
            "display": null,
            "flex": null,
            "flex_flow": null,
            "grid_area": null,
            "grid_auto_columns": null,
            "grid_auto_flow": null,
            "grid_auto_rows": null,
            "grid_column": null,
            "grid_gap": null,
            "grid_row": null,
            "grid_template_areas": null,
            "grid_template_columns": null,
            "grid_template_rows": null,
            "height": null,
            "justify_content": null,
            "justify_items": null,
            "left": null,
            "margin": null,
            "max_height": null,
            "max_width": null,
            "min_height": null,
            "min_width": null,
            "object_fit": null,
            "object_position": null,
            "order": null,
            "overflow": null,
            "overflow_x": null,
            "overflow_y": null,
            "padding": null,
            "right": null,
            "top": null,
            "visibility": null,
            "width": null
          }
        },
        "dea2ac4f7a914879a3ce348a3a784e05": {
          "model_module": "@jupyter-widgets/controls",
          "model_name": "ProgressStyleModel",
          "model_module_version": "1.5.0",
          "state": {
            "_model_module": "@jupyter-widgets/controls",
            "_model_module_version": "1.5.0",
            "_model_name": "ProgressStyleModel",
            "_view_count": null,
            "_view_module": "@jupyter-widgets/base",
            "_view_module_version": "1.2.0",
            "_view_name": "StyleView",
            "bar_color": null,
            "description_width": ""
          }
        },
        "ad4562d213d440d5bbb46ddceb083a13": {
          "model_module": "@jupyter-widgets/base",
          "model_name": "LayoutModel",
          "model_module_version": "1.2.0",
          "state": {
            "_model_module": "@jupyter-widgets/base",
            "_model_module_version": "1.2.0",
            "_model_name": "LayoutModel",
            "_view_count": null,
            "_view_module": "@jupyter-widgets/base",
            "_view_module_version": "1.2.0",
            "_view_name": "LayoutView",
            "align_content": null,
            "align_items": null,
            "align_self": null,
            "border": null,
            "bottom": null,
            "display": null,
            "flex": null,
            "flex_flow": null,
            "grid_area": null,
            "grid_auto_columns": null,
            "grid_auto_flow": null,
            "grid_auto_rows": null,
            "grid_column": null,
            "grid_gap": null,
            "grid_row": null,
            "grid_template_areas": null,
            "grid_template_columns": null,
            "grid_template_rows": null,
            "height": null,
            "justify_content": null,
            "justify_items": null,
            "left": null,
            "margin": null,
            "max_height": null,
            "max_width": null,
            "min_height": null,
            "min_width": null,
            "object_fit": null,
            "object_position": null,
            "order": null,
            "overflow": null,
            "overflow_x": null,
            "overflow_y": null,
            "padding": null,
            "right": null,
            "top": null,
            "visibility": null,
            "width": null
          }
        },
        "6fa06d1f113b45dfae4a6dc4ef428009": {
          "model_module": "@jupyter-widgets/controls",
          "model_name": "DescriptionStyleModel",
          "model_module_version": "1.5.0",
          "state": {
            "_model_module": "@jupyter-widgets/controls",
            "_model_module_version": "1.5.0",
            "_model_name": "DescriptionStyleModel",
            "_view_count": null,
            "_view_module": "@jupyter-widgets/base",
            "_view_module_version": "1.2.0",
            "_view_name": "StyleView",
            "description_width": ""
          }
        },
        "ead9fabc99954f3980c864daa968f9bf": {
          "model_module": "@jupyter-widgets/controls",
          "model_name": "HBoxModel",
          "model_module_version": "1.5.0",
          "state": {
            "_dom_classes": [],
            "_model_module": "@jupyter-widgets/controls",
            "_model_module_version": "1.5.0",
            "_model_name": "HBoxModel",
            "_view_count": null,
            "_view_module": "@jupyter-widgets/controls",
            "_view_module_version": "1.5.0",
            "_view_name": "HBoxView",
            "box_style": "",
            "children": [
              "IPY_MODEL_784e92bc1db94ac7b88f8cf49bb3b3e1",
              "IPY_MODEL_812832513be34a5eb4d0191eeedaad95",
              "IPY_MODEL_9f781baaab164f128408e98ecfbaf887"
            ],
            "layout": "IPY_MODEL_afcdb65a8b264f418f1a14cdecb47981"
          }
        },
        "784e92bc1db94ac7b88f8cf49bb3b3e1": {
          "model_module": "@jupyter-widgets/controls",
          "model_name": "HTMLModel",
          "model_module_version": "1.5.0",
          "state": {
            "_dom_classes": [],
            "_model_module": "@jupyter-widgets/controls",
            "_model_module_version": "1.5.0",
            "_model_name": "HTMLModel",
            "_view_count": null,
            "_view_module": "@jupyter-widgets/controls",
            "_view_module_version": "1.5.0",
            "_view_name": "HTMLView",
            "description": "",
            "description_tooltip": null,
            "layout": "IPY_MODEL_98e77ec6aa3c4f87b408a270bb1f1759",
            "placeholder": "​",
            "style": "IPY_MODEL_cd27ebbfc42b4e9fbb2e6c4266c599be",
            "value": "tokenization_molformer_fast.py: 100%"
          }
        },
        "812832513be34a5eb4d0191eeedaad95": {
          "model_module": "@jupyter-widgets/controls",
          "model_name": "FloatProgressModel",
          "model_module_version": "1.5.0",
          "state": {
            "_dom_classes": [],
            "_model_module": "@jupyter-widgets/controls",
            "_model_module_version": "1.5.0",
            "_model_name": "FloatProgressModel",
            "_view_count": null,
            "_view_module": "@jupyter-widgets/controls",
            "_view_module_version": "1.5.0",
            "_view_name": "ProgressView",
            "bar_style": "success",
            "description": "",
            "description_tooltip": null,
            "layout": "IPY_MODEL_99a48ffc1437488a992ac8cdd6c0d633",
            "max": 6503,
            "min": 0,
            "orientation": "horizontal",
            "style": "IPY_MODEL_5947721661f04fbe969fef7c1f60b5ff",
            "value": 6503
          }
        },
        "9f781baaab164f128408e98ecfbaf887": {
          "model_module": "@jupyter-widgets/controls",
          "model_name": "HTMLModel",
          "model_module_version": "1.5.0",
          "state": {
            "_dom_classes": [],
            "_model_module": "@jupyter-widgets/controls",
            "_model_module_version": "1.5.0",
            "_model_name": "HTMLModel",
            "_view_count": null,
            "_view_module": "@jupyter-widgets/controls",
            "_view_module_version": "1.5.0",
            "_view_name": "HTMLView",
            "description": "",
            "description_tooltip": null,
            "layout": "IPY_MODEL_890ed0a0543546fbb181bc2e5ec6e684",
            "placeholder": "​",
            "style": "IPY_MODEL_2dbeed350825480b8e4e4285cdecbe8d",
            "value": " 6.50k/6.50k [00:00&lt;00:00, 365kB/s]"
          }
        },
        "afcdb65a8b264f418f1a14cdecb47981": {
          "model_module": "@jupyter-widgets/base",
          "model_name": "LayoutModel",
          "model_module_version": "1.2.0",
          "state": {
            "_model_module": "@jupyter-widgets/base",
            "_model_module_version": "1.2.0",
            "_model_name": "LayoutModel",
            "_view_count": null,
            "_view_module": "@jupyter-widgets/base",
            "_view_module_version": "1.2.0",
            "_view_name": "LayoutView",
            "align_content": null,
            "align_items": null,
            "align_self": null,
            "border": null,
            "bottom": null,
            "display": null,
            "flex": null,
            "flex_flow": null,
            "grid_area": null,
            "grid_auto_columns": null,
            "grid_auto_flow": null,
            "grid_auto_rows": null,
            "grid_column": null,
            "grid_gap": null,
            "grid_row": null,
            "grid_template_areas": null,
            "grid_template_columns": null,
            "grid_template_rows": null,
            "height": null,
            "justify_content": null,
            "justify_items": null,
            "left": null,
            "margin": null,
            "max_height": null,
            "max_width": null,
            "min_height": null,
            "min_width": null,
            "object_fit": null,
            "object_position": null,
            "order": null,
            "overflow": null,
            "overflow_x": null,
            "overflow_y": null,
            "padding": null,
            "right": null,
            "top": null,
            "visibility": null,
            "width": null
          }
        },
        "98e77ec6aa3c4f87b408a270bb1f1759": {
          "model_module": "@jupyter-widgets/base",
          "model_name": "LayoutModel",
          "model_module_version": "1.2.0",
          "state": {
            "_model_module": "@jupyter-widgets/base",
            "_model_module_version": "1.2.0",
            "_model_name": "LayoutModel",
            "_view_count": null,
            "_view_module": "@jupyter-widgets/base",
            "_view_module_version": "1.2.0",
            "_view_name": "LayoutView",
            "align_content": null,
            "align_items": null,
            "align_self": null,
            "border": null,
            "bottom": null,
            "display": null,
            "flex": null,
            "flex_flow": null,
            "grid_area": null,
            "grid_auto_columns": null,
            "grid_auto_flow": null,
            "grid_auto_rows": null,
            "grid_column": null,
            "grid_gap": null,
            "grid_row": null,
            "grid_template_areas": null,
            "grid_template_columns": null,
            "grid_template_rows": null,
            "height": null,
            "justify_content": null,
            "justify_items": null,
            "left": null,
            "margin": null,
            "max_height": null,
            "max_width": null,
            "min_height": null,
            "min_width": null,
            "object_fit": null,
            "object_position": null,
            "order": null,
            "overflow": null,
            "overflow_x": null,
            "overflow_y": null,
            "padding": null,
            "right": null,
            "top": null,
            "visibility": null,
            "width": null
          }
        },
        "cd27ebbfc42b4e9fbb2e6c4266c599be": {
          "model_module": "@jupyter-widgets/controls",
          "model_name": "DescriptionStyleModel",
          "model_module_version": "1.5.0",
          "state": {
            "_model_module": "@jupyter-widgets/controls",
            "_model_module_version": "1.5.0",
            "_model_name": "DescriptionStyleModel",
            "_view_count": null,
            "_view_module": "@jupyter-widgets/base",
            "_view_module_version": "1.2.0",
            "_view_name": "StyleView",
            "description_width": ""
          }
        },
        "99a48ffc1437488a992ac8cdd6c0d633": {
          "model_module": "@jupyter-widgets/base",
          "model_name": "LayoutModel",
          "model_module_version": "1.2.0",
          "state": {
            "_model_module": "@jupyter-widgets/base",
            "_model_module_version": "1.2.0",
            "_model_name": "LayoutModel",
            "_view_count": null,
            "_view_module": "@jupyter-widgets/base",
            "_view_module_version": "1.2.0",
            "_view_name": "LayoutView",
            "align_content": null,
            "align_items": null,
            "align_self": null,
            "border": null,
            "bottom": null,
            "display": null,
            "flex": null,
            "flex_flow": null,
            "grid_area": null,
            "grid_auto_columns": null,
            "grid_auto_flow": null,
            "grid_auto_rows": null,
            "grid_column": null,
            "grid_gap": null,
            "grid_row": null,
            "grid_template_areas": null,
            "grid_template_columns": null,
            "grid_template_rows": null,
            "height": null,
            "justify_content": null,
            "justify_items": null,
            "left": null,
            "margin": null,
            "max_height": null,
            "max_width": null,
            "min_height": null,
            "min_width": null,
            "object_fit": null,
            "object_position": null,
            "order": null,
            "overflow": null,
            "overflow_x": null,
            "overflow_y": null,
            "padding": null,
            "right": null,
            "top": null,
            "visibility": null,
            "width": null
          }
        },
        "5947721661f04fbe969fef7c1f60b5ff": {
          "model_module": "@jupyter-widgets/controls",
          "model_name": "ProgressStyleModel",
          "model_module_version": "1.5.0",
          "state": {
            "_model_module": "@jupyter-widgets/controls",
            "_model_module_version": "1.5.0",
            "_model_name": "ProgressStyleModel",
            "_view_count": null,
            "_view_module": "@jupyter-widgets/base",
            "_view_module_version": "1.2.0",
            "_view_name": "StyleView",
            "bar_color": null,
            "description_width": ""
          }
        },
        "890ed0a0543546fbb181bc2e5ec6e684": {
          "model_module": "@jupyter-widgets/base",
          "model_name": "LayoutModel",
          "model_module_version": "1.2.0",
          "state": {
            "_model_module": "@jupyter-widgets/base",
            "_model_module_version": "1.2.0",
            "_model_name": "LayoutModel",
            "_view_count": null,
            "_view_module": "@jupyter-widgets/base",
            "_view_module_version": "1.2.0",
            "_view_name": "LayoutView",
            "align_content": null,
            "align_items": null,
            "align_self": null,
            "border": null,
            "bottom": null,
            "display": null,
            "flex": null,
            "flex_flow": null,
            "grid_area": null,
            "grid_auto_columns": null,
            "grid_auto_flow": null,
            "grid_auto_rows": null,
            "grid_column": null,
            "grid_gap": null,
            "grid_row": null,
            "grid_template_areas": null,
            "grid_template_columns": null,
            "grid_template_rows": null,
            "height": null,
            "justify_content": null,
            "justify_items": null,
            "left": null,
            "margin": null,
            "max_height": null,
            "max_width": null,
            "min_height": null,
            "min_width": null,
            "object_fit": null,
            "object_position": null,
            "order": null,
            "overflow": null,
            "overflow_x": null,
            "overflow_y": null,
            "padding": null,
            "right": null,
            "top": null,
            "visibility": null,
            "width": null
          }
        },
        "2dbeed350825480b8e4e4285cdecbe8d": {
          "model_module": "@jupyter-widgets/controls",
          "model_name": "DescriptionStyleModel",
          "model_module_version": "1.5.0",
          "state": {
            "_model_module": "@jupyter-widgets/controls",
            "_model_module_version": "1.5.0",
            "_model_name": "DescriptionStyleModel",
            "_view_count": null,
            "_view_module": "@jupyter-widgets/base",
            "_view_module_version": "1.2.0",
            "_view_name": "StyleView",
            "description_width": ""
          }
        },
        "6c7f405193f7426880ddd4631d99f2e1": {
          "model_module": "@jupyter-widgets/controls",
          "model_name": "HBoxModel",
          "model_module_version": "1.5.0",
          "state": {
            "_dom_classes": [],
            "_model_module": "@jupyter-widgets/controls",
            "_model_module_version": "1.5.0",
            "_model_name": "HBoxModel",
            "_view_count": null,
            "_view_module": "@jupyter-widgets/controls",
            "_view_module_version": "1.5.0",
            "_view_name": "HBoxView",
            "box_style": "",
            "children": [
              "IPY_MODEL_03310d53f8ee42bba55b2d5a0bf478f4",
              "IPY_MODEL_8c4398bbfeb247d2b246064359566b63",
              "IPY_MODEL_b94d3dcb322a4c40a2b613d1ae179825"
            ],
            "layout": "IPY_MODEL_015c79fbc38d4c0199ef528b3e0bcf17"
          }
        },
        "03310d53f8ee42bba55b2d5a0bf478f4": {
          "model_module": "@jupyter-widgets/controls",
          "model_name": "HTMLModel",
          "model_module_version": "1.5.0",
          "state": {
            "_dom_classes": [],
            "_model_module": "@jupyter-widgets/controls",
            "_model_module_version": "1.5.0",
            "_model_name": "HTMLModel",
            "_view_count": null,
            "_view_module": "@jupyter-widgets/controls",
            "_view_module_version": "1.5.0",
            "_view_name": "HTMLView",
            "description": "",
            "description_tooltip": null,
            "layout": "IPY_MODEL_44fb731da8054452bff01275cf0c26d6",
            "placeholder": "​",
            "style": "IPY_MODEL_3a741e2d5d4a4639bb08db7614a97aca",
            "value": "tokenization_molformer.py: 100%"
          }
        },
        "8c4398bbfeb247d2b246064359566b63": {
          "model_module": "@jupyter-widgets/controls",
          "model_name": "FloatProgressModel",
          "model_module_version": "1.5.0",
          "state": {
            "_dom_classes": [],
            "_model_module": "@jupyter-widgets/controls",
            "_model_module_version": "1.5.0",
            "_model_name": "FloatProgressModel",
            "_view_count": null,
            "_view_module": "@jupyter-widgets/controls",
            "_view_module_version": "1.5.0",
            "_view_name": "ProgressView",
            "bar_style": "success",
            "description": "",
            "description_tooltip": null,
            "layout": "IPY_MODEL_934c8a2b475c4ae58e0ad7f43ccb08aa",
            "max": 9480,
            "min": 0,
            "orientation": "horizontal",
            "style": "IPY_MODEL_f0c595a065e747a9b4d3e2cf0e040796",
            "value": 9480
          }
        },
        "b94d3dcb322a4c40a2b613d1ae179825": {
          "model_module": "@jupyter-widgets/controls",
          "model_name": "HTMLModel",
          "model_module_version": "1.5.0",
          "state": {
            "_dom_classes": [],
            "_model_module": "@jupyter-widgets/controls",
            "_model_module_version": "1.5.0",
            "_model_name": "HTMLModel",
            "_view_count": null,
            "_view_module": "@jupyter-widgets/controls",
            "_view_module_version": "1.5.0",
            "_view_name": "HTMLView",
            "description": "",
            "description_tooltip": null,
            "layout": "IPY_MODEL_13fba377e9ee45baad3385cba7c3b895",
            "placeholder": "​",
            "style": "IPY_MODEL_51199c51efa9498ca630b0dbdc94b34a",
            "value": " 9.48k/9.48k [00:00&lt;00:00, 517kB/s]"
          }
        },
        "015c79fbc38d4c0199ef528b3e0bcf17": {
          "model_module": "@jupyter-widgets/base",
          "model_name": "LayoutModel",
          "model_module_version": "1.2.0",
          "state": {
            "_model_module": "@jupyter-widgets/base",
            "_model_module_version": "1.2.0",
            "_model_name": "LayoutModel",
            "_view_count": null,
            "_view_module": "@jupyter-widgets/base",
            "_view_module_version": "1.2.0",
            "_view_name": "LayoutView",
            "align_content": null,
            "align_items": null,
            "align_self": null,
            "border": null,
            "bottom": null,
            "display": null,
            "flex": null,
            "flex_flow": null,
            "grid_area": null,
            "grid_auto_columns": null,
            "grid_auto_flow": null,
            "grid_auto_rows": null,
            "grid_column": null,
            "grid_gap": null,
            "grid_row": null,
            "grid_template_areas": null,
            "grid_template_columns": null,
            "grid_template_rows": null,
            "height": null,
            "justify_content": null,
            "justify_items": null,
            "left": null,
            "margin": null,
            "max_height": null,
            "max_width": null,
            "min_height": null,
            "min_width": null,
            "object_fit": null,
            "object_position": null,
            "order": null,
            "overflow": null,
            "overflow_x": null,
            "overflow_y": null,
            "padding": null,
            "right": null,
            "top": null,
            "visibility": null,
            "width": null
          }
        },
        "44fb731da8054452bff01275cf0c26d6": {
          "model_module": "@jupyter-widgets/base",
          "model_name": "LayoutModel",
          "model_module_version": "1.2.0",
          "state": {
            "_model_module": "@jupyter-widgets/base",
            "_model_module_version": "1.2.0",
            "_model_name": "LayoutModel",
            "_view_count": null,
            "_view_module": "@jupyter-widgets/base",
            "_view_module_version": "1.2.0",
            "_view_name": "LayoutView",
            "align_content": null,
            "align_items": null,
            "align_self": null,
            "border": null,
            "bottom": null,
            "display": null,
            "flex": null,
            "flex_flow": null,
            "grid_area": null,
            "grid_auto_columns": null,
            "grid_auto_flow": null,
            "grid_auto_rows": null,
            "grid_column": null,
            "grid_gap": null,
            "grid_row": null,
            "grid_template_areas": null,
            "grid_template_columns": null,
            "grid_template_rows": null,
            "height": null,
            "justify_content": null,
            "justify_items": null,
            "left": null,
            "margin": null,
            "max_height": null,
            "max_width": null,
            "min_height": null,
            "min_width": null,
            "object_fit": null,
            "object_position": null,
            "order": null,
            "overflow": null,
            "overflow_x": null,
            "overflow_y": null,
            "padding": null,
            "right": null,
            "top": null,
            "visibility": null,
            "width": null
          }
        },
        "3a741e2d5d4a4639bb08db7614a97aca": {
          "model_module": "@jupyter-widgets/controls",
          "model_name": "DescriptionStyleModel",
          "model_module_version": "1.5.0",
          "state": {
            "_model_module": "@jupyter-widgets/controls",
            "_model_module_version": "1.5.0",
            "_model_name": "DescriptionStyleModel",
            "_view_count": null,
            "_view_module": "@jupyter-widgets/base",
            "_view_module_version": "1.2.0",
            "_view_name": "StyleView",
            "description_width": ""
          }
        },
        "934c8a2b475c4ae58e0ad7f43ccb08aa": {
          "model_module": "@jupyter-widgets/base",
          "model_name": "LayoutModel",
          "model_module_version": "1.2.0",
          "state": {
            "_model_module": "@jupyter-widgets/base",
            "_model_module_version": "1.2.0",
            "_model_name": "LayoutModel",
            "_view_count": null,
            "_view_module": "@jupyter-widgets/base",
            "_view_module_version": "1.2.0",
            "_view_name": "LayoutView",
            "align_content": null,
            "align_items": null,
            "align_self": null,
            "border": null,
            "bottom": null,
            "display": null,
            "flex": null,
            "flex_flow": null,
            "grid_area": null,
            "grid_auto_columns": null,
            "grid_auto_flow": null,
            "grid_auto_rows": null,
            "grid_column": null,
            "grid_gap": null,
            "grid_row": null,
            "grid_template_areas": null,
            "grid_template_columns": null,
            "grid_template_rows": null,
            "height": null,
            "justify_content": null,
            "justify_items": null,
            "left": null,
            "margin": null,
            "max_height": null,
            "max_width": null,
            "min_height": null,
            "min_width": null,
            "object_fit": null,
            "object_position": null,
            "order": null,
            "overflow": null,
            "overflow_x": null,
            "overflow_y": null,
            "padding": null,
            "right": null,
            "top": null,
            "visibility": null,
            "width": null
          }
        },
        "f0c595a065e747a9b4d3e2cf0e040796": {
          "model_module": "@jupyter-widgets/controls",
          "model_name": "ProgressStyleModel",
          "model_module_version": "1.5.0",
          "state": {
            "_model_module": "@jupyter-widgets/controls",
            "_model_module_version": "1.5.0",
            "_model_name": "ProgressStyleModel",
            "_view_count": null,
            "_view_module": "@jupyter-widgets/base",
            "_view_module_version": "1.2.0",
            "_view_name": "StyleView",
            "bar_color": null,
            "description_width": ""
          }
        },
        "13fba377e9ee45baad3385cba7c3b895": {
          "model_module": "@jupyter-widgets/base",
          "model_name": "LayoutModel",
          "model_module_version": "1.2.0",
          "state": {
            "_model_module": "@jupyter-widgets/base",
            "_model_module_version": "1.2.0",
            "_model_name": "LayoutModel",
            "_view_count": null,
            "_view_module": "@jupyter-widgets/base",
            "_view_module_version": "1.2.0",
            "_view_name": "LayoutView",
            "align_content": null,
            "align_items": null,
            "align_self": null,
            "border": null,
            "bottom": null,
            "display": null,
            "flex": null,
            "flex_flow": null,
            "grid_area": null,
            "grid_auto_columns": null,
            "grid_auto_flow": null,
            "grid_auto_rows": null,
            "grid_column": null,
            "grid_gap": null,
            "grid_row": null,
            "grid_template_areas": null,
            "grid_template_columns": null,
            "grid_template_rows": null,
            "height": null,
            "justify_content": null,
            "justify_items": null,
            "left": null,
            "margin": null,
            "max_height": null,
            "max_width": null,
            "min_height": null,
            "min_width": null,
            "object_fit": null,
            "object_position": null,
            "order": null,
            "overflow": null,
            "overflow_x": null,
            "overflow_y": null,
            "padding": null,
            "right": null,
            "top": null,
            "visibility": null,
            "width": null
          }
        },
        "51199c51efa9498ca630b0dbdc94b34a": {
          "model_module": "@jupyter-widgets/controls",
          "model_name": "DescriptionStyleModel",
          "model_module_version": "1.5.0",
          "state": {
            "_model_module": "@jupyter-widgets/controls",
            "_model_module_version": "1.5.0",
            "_model_name": "DescriptionStyleModel",
            "_view_count": null,
            "_view_module": "@jupyter-widgets/base",
            "_view_module_version": "1.2.0",
            "_view_name": "StyleView",
            "description_width": ""
          }
        },
        "8ea0c004585e4c22bb98c03f12953c48": {
          "model_module": "@jupyter-widgets/controls",
          "model_name": "HBoxModel",
          "model_module_version": "1.5.0",
          "state": {
            "_dom_classes": [],
            "_model_module": "@jupyter-widgets/controls",
            "_model_module_version": "1.5.0",
            "_model_name": "HBoxModel",
            "_view_count": null,
            "_view_module": "@jupyter-widgets/controls",
            "_view_module_version": "1.5.0",
            "_view_name": "HBoxView",
            "box_style": "",
            "children": [
              "IPY_MODEL_0e4dded8e73c4d4fa106f15c2ca525a5",
              "IPY_MODEL_b1054924cf974e93a18b160593267a57",
              "IPY_MODEL_8d709b5ef9c54bce8906a8d2093a1786"
            ],
            "layout": "IPY_MODEL_fcfe6b2a18754df88a9b1d494d8098eb"
          }
        },
        "0e4dded8e73c4d4fa106f15c2ca525a5": {
          "model_module": "@jupyter-widgets/controls",
          "model_name": "HTMLModel",
          "model_module_version": "1.5.0",
          "state": {
            "_dom_classes": [],
            "_model_module": "@jupyter-widgets/controls",
            "_model_module_version": "1.5.0",
            "_model_name": "HTMLModel",
            "_view_count": null,
            "_view_module": "@jupyter-widgets/controls",
            "_view_module_version": "1.5.0",
            "_view_name": "HTMLView",
            "description": "",
            "description_tooltip": null,
            "layout": "IPY_MODEL_7d24d2e47d5747ffac5d06b3bc89a92e",
            "placeholder": "​",
            "style": "IPY_MODEL_1082424b19984667ba8f81d2c3976efb",
            "value": "vocab.json: 100%"
          }
        },
        "b1054924cf974e93a18b160593267a57": {
          "model_module": "@jupyter-widgets/controls",
          "model_name": "FloatProgressModel",
          "model_module_version": "1.5.0",
          "state": {
            "_dom_classes": [],
            "_model_module": "@jupyter-widgets/controls",
            "_model_module_version": "1.5.0",
            "_model_name": "FloatProgressModel",
            "_view_count": null,
            "_view_module": "@jupyter-widgets/controls",
            "_view_module_version": "1.5.0",
            "_view_name": "ProgressView",
            "bar_style": "success",
            "description": "",
            "description_tooltip": null,
            "layout": "IPY_MODEL_ec119927fc974c62a21ed03849a28875",
            "max": 41641,
            "min": 0,
            "orientation": "horizontal",
            "style": "IPY_MODEL_06d339f43a0d45978ed72a395e6667e5",
            "value": 41641
          }
        },
        "8d709b5ef9c54bce8906a8d2093a1786": {
          "model_module": "@jupyter-widgets/controls",
          "model_name": "HTMLModel",
          "model_module_version": "1.5.0",
          "state": {
            "_dom_classes": [],
            "_model_module": "@jupyter-widgets/controls",
            "_model_module_version": "1.5.0",
            "_model_name": "HTMLModel",
            "_view_count": null,
            "_view_module": "@jupyter-widgets/controls",
            "_view_module_version": "1.5.0",
            "_view_name": "HTMLView",
            "description": "",
            "description_tooltip": null,
            "layout": "IPY_MODEL_a3caa8a721ba4a5fbaae61712434d9c2",
            "placeholder": "​",
            "style": "IPY_MODEL_4551b6f7f46f4cd4872eef14e0cac397",
            "value": " 41.6k/41.6k [00:00&lt;00:00, 2.21MB/s]"
          }
        },
        "fcfe6b2a18754df88a9b1d494d8098eb": {
          "model_module": "@jupyter-widgets/base",
          "model_name": "LayoutModel",
          "model_module_version": "1.2.0",
          "state": {
            "_model_module": "@jupyter-widgets/base",
            "_model_module_version": "1.2.0",
            "_model_name": "LayoutModel",
            "_view_count": null,
            "_view_module": "@jupyter-widgets/base",
            "_view_module_version": "1.2.0",
            "_view_name": "LayoutView",
            "align_content": null,
            "align_items": null,
            "align_self": null,
            "border": null,
            "bottom": null,
            "display": null,
            "flex": null,
            "flex_flow": null,
            "grid_area": null,
            "grid_auto_columns": null,
            "grid_auto_flow": null,
            "grid_auto_rows": null,
            "grid_column": null,
            "grid_gap": null,
            "grid_row": null,
            "grid_template_areas": null,
            "grid_template_columns": null,
            "grid_template_rows": null,
            "height": null,
            "justify_content": null,
            "justify_items": null,
            "left": null,
            "margin": null,
            "max_height": null,
            "max_width": null,
            "min_height": null,
            "min_width": null,
            "object_fit": null,
            "object_position": null,
            "order": null,
            "overflow": null,
            "overflow_x": null,
            "overflow_y": null,
            "padding": null,
            "right": null,
            "top": null,
            "visibility": null,
            "width": null
          }
        },
        "7d24d2e47d5747ffac5d06b3bc89a92e": {
          "model_module": "@jupyter-widgets/base",
          "model_name": "LayoutModel",
          "model_module_version": "1.2.0",
          "state": {
            "_model_module": "@jupyter-widgets/base",
            "_model_module_version": "1.2.0",
            "_model_name": "LayoutModel",
            "_view_count": null,
            "_view_module": "@jupyter-widgets/base",
            "_view_module_version": "1.2.0",
            "_view_name": "LayoutView",
            "align_content": null,
            "align_items": null,
            "align_self": null,
            "border": null,
            "bottom": null,
            "display": null,
            "flex": null,
            "flex_flow": null,
            "grid_area": null,
            "grid_auto_columns": null,
            "grid_auto_flow": null,
            "grid_auto_rows": null,
            "grid_column": null,
            "grid_gap": null,
            "grid_row": null,
            "grid_template_areas": null,
            "grid_template_columns": null,
            "grid_template_rows": null,
            "height": null,
            "justify_content": null,
            "justify_items": null,
            "left": null,
            "margin": null,
            "max_height": null,
            "max_width": null,
            "min_height": null,
            "min_width": null,
            "object_fit": null,
            "object_position": null,
            "order": null,
            "overflow": null,
            "overflow_x": null,
            "overflow_y": null,
            "padding": null,
            "right": null,
            "top": null,
            "visibility": null,
            "width": null
          }
        },
        "1082424b19984667ba8f81d2c3976efb": {
          "model_module": "@jupyter-widgets/controls",
          "model_name": "DescriptionStyleModel",
          "model_module_version": "1.5.0",
          "state": {
            "_model_module": "@jupyter-widgets/controls",
            "_model_module_version": "1.5.0",
            "_model_name": "DescriptionStyleModel",
            "_view_count": null,
            "_view_module": "@jupyter-widgets/base",
            "_view_module_version": "1.2.0",
            "_view_name": "StyleView",
            "description_width": ""
          }
        },
        "ec119927fc974c62a21ed03849a28875": {
          "model_module": "@jupyter-widgets/base",
          "model_name": "LayoutModel",
          "model_module_version": "1.2.0",
          "state": {
            "_model_module": "@jupyter-widgets/base",
            "_model_module_version": "1.2.0",
            "_model_name": "LayoutModel",
            "_view_count": null,
            "_view_module": "@jupyter-widgets/base",
            "_view_module_version": "1.2.0",
            "_view_name": "LayoutView",
            "align_content": null,
            "align_items": null,
            "align_self": null,
            "border": null,
            "bottom": null,
            "display": null,
            "flex": null,
            "flex_flow": null,
            "grid_area": null,
            "grid_auto_columns": null,
            "grid_auto_flow": null,
            "grid_auto_rows": null,
            "grid_column": null,
            "grid_gap": null,
            "grid_row": null,
            "grid_template_areas": null,
            "grid_template_columns": null,
            "grid_template_rows": null,
            "height": null,
            "justify_content": null,
            "justify_items": null,
            "left": null,
            "margin": null,
            "max_height": null,
            "max_width": null,
            "min_height": null,
            "min_width": null,
            "object_fit": null,
            "object_position": null,
            "order": null,
            "overflow": null,
            "overflow_x": null,
            "overflow_y": null,
            "padding": null,
            "right": null,
            "top": null,
            "visibility": null,
            "width": null
          }
        },
        "06d339f43a0d45978ed72a395e6667e5": {
          "model_module": "@jupyter-widgets/controls",
          "model_name": "ProgressStyleModel",
          "model_module_version": "1.5.0",
          "state": {
            "_model_module": "@jupyter-widgets/controls",
            "_model_module_version": "1.5.0",
            "_model_name": "ProgressStyleModel",
            "_view_count": null,
            "_view_module": "@jupyter-widgets/base",
            "_view_module_version": "1.2.0",
            "_view_name": "StyleView",
            "bar_color": null,
            "description_width": ""
          }
        },
        "a3caa8a721ba4a5fbaae61712434d9c2": {
          "model_module": "@jupyter-widgets/base",
          "model_name": "LayoutModel",
          "model_module_version": "1.2.0",
          "state": {
            "_model_module": "@jupyter-widgets/base",
            "_model_module_version": "1.2.0",
            "_model_name": "LayoutModel",
            "_view_count": null,
            "_view_module": "@jupyter-widgets/base",
            "_view_module_version": "1.2.0",
            "_view_name": "LayoutView",
            "align_content": null,
            "align_items": null,
            "align_self": null,
            "border": null,
            "bottom": null,
            "display": null,
            "flex": null,
            "flex_flow": null,
            "grid_area": null,
            "grid_auto_columns": null,
            "grid_auto_flow": null,
            "grid_auto_rows": null,
            "grid_column": null,
            "grid_gap": null,
            "grid_row": null,
            "grid_template_areas": null,
            "grid_template_columns": null,
            "grid_template_rows": null,
            "height": null,
            "justify_content": null,
            "justify_items": null,
            "left": null,
            "margin": null,
            "max_height": null,
            "max_width": null,
            "min_height": null,
            "min_width": null,
            "object_fit": null,
            "object_position": null,
            "order": null,
            "overflow": null,
            "overflow_x": null,
            "overflow_y": null,
            "padding": null,
            "right": null,
            "top": null,
            "visibility": null,
            "width": null
          }
        },
        "4551b6f7f46f4cd4872eef14e0cac397": {
          "model_module": "@jupyter-widgets/controls",
          "model_name": "DescriptionStyleModel",
          "model_module_version": "1.5.0",
          "state": {
            "_model_module": "@jupyter-widgets/controls",
            "_model_module_version": "1.5.0",
            "_model_name": "DescriptionStyleModel",
            "_view_count": null,
            "_view_module": "@jupyter-widgets/base",
            "_view_module_version": "1.2.0",
            "_view_name": "StyleView",
            "description_width": ""
          }
        },
        "c56c19ab3677410a9dc2e5d015c36c1c": {
          "model_module": "@jupyter-widgets/controls",
          "model_name": "HBoxModel",
          "model_module_version": "1.5.0",
          "state": {
            "_dom_classes": [],
            "_model_module": "@jupyter-widgets/controls",
            "_model_module_version": "1.5.0",
            "_model_name": "HBoxModel",
            "_view_count": null,
            "_view_module": "@jupyter-widgets/controls",
            "_view_module_version": "1.5.0",
            "_view_name": "HBoxView",
            "box_style": "",
            "children": [
              "IPY_MODEL_b4155cafcb4f41faaf8f2360c26f57a0",
              "IPY_MODEL_126a5af4b06c47e7b146e3011369a3b5",
              "IPY_MODEL_2ba62b671b9f4d9aa02c2cddb5a1db5b"
            ],
            "layout": "IPY_MODEL_6e4ad6eca5464b5d9411099b54d78a57"
          }
        },
        "b4155cafcb4f41faaf8f2360c26f57a0": {
          "model_module": "@jupyter-widgets/controls",
          "model_name": "HTMLModel",
          "model_module_version": "1.5.0",
          "state": {
            "_dom_classes": [],
            "_model_module": "@jupyter-widgets/controls",
            "_model_module_version": "1.5.0",
            "_model_name": "HTMLModel",
            "_view_count": null,
            "_view_module": "@jupyter-widgets/controls",
            "_view_module_version": "1.5.0",
            "_view_name": "HTMLView",
            "description": "",
            "description_tooltip": null,
            "layout": "IPY_MODEL_c59a03aca8974ef6a3fd03da6eec72d6",
            "placeholder": "​",
            "style": "IPY_MODEL_76d0258c4b094a70bf780ef25a254553",
            "value": "tokenizer.json: 100%"
          }
        },
        "126a5af4b06c47e7b146e3011369a3b5": {
          "model_module": "@jupyter-widgets/controls",
          "model_name": "FloatProgressModel",
          "model_module_version": "1.5.0",
          "state": {
            "_dom_classes": [],
            "_model_module": "@jupyter-widgets/controls",
            "_model_module_version": "1.5.0",
            "_model_name": "FloatProgressModel",
            "_view_count": null,
            "_view_module": "@jupyter-widgets/controls",
            "_view_module_version": "1.5.0",
            "_view_name": "ProgressView",
            "bar_style": "success",
            "description": "",
            "description_tooltip": null,
            "layout": "IPY_MODEL_d320f025619b45bb99d7419666c40e6a",
            "max": 54010,
            "min": 0,
            "orientation": "horizontal",
            "style": "IPY_MODEL_2bc16d445434466baba010472b048a78",
            "value": 54010
          }
        },
        "2ba62b671b9f4d9aa02c2cddb5a1db5b": {
          "model_module": "@jupyter-widgets/controls",
          "model_name": "HTMLModel",
          "model_module_version": "1.5.0",
          "state": {
            "_dom_classes": [],
            "_model_module": "@jupyter-widgets/controls",
            "_model_module_version": "1.5.0",
            "_model_name": "HTMLModel",
            "_view_count": null,
            "_view_module": "@jupyter-widgets/controls",
            "_view_module_version": "1.5.0",
            "_view_name": "HTMLView",
            "description": "",
            "description_tooltip": null,
            "layout": "IPY_MODEL_0d37bdcb01c6442f8a7715fc8e0819a7",
            "placeholder": "​",
            "style": "IPY_MODEL_4dd6072199e2422ca45e66fa1e614288",
            "value": " 54.0k/54.0k [00:00&lt;00:00, 2.28MB/s]"
          }
        },
        "6e4ad6eca5464b5d9411099b54d78a57": {
          "model_module": "@jupyter-widgets/base",
          "model_name": "LayoutModel",
          "model_module_version": "1.2.0",
          "state": {
            "_model_module": "@jupyter-widgets/base",
            "_model_module_version": "1.2.0",
            "_model_name": "LayoutModel",
            "_view_count": null,
            "_view_module": "@jupyter-widgets/base",
            "_view_module_version": "1.2.0",
            "_view_name": "LayoutView",
            "align_content": null,
            "align_items": null,
            "align_self": null,
            "border": null,
            "bottom": null,
            "display": null,
            "flex": null,
            "flex_flow": null,
            "grid_area": null,
            "grid_auto_columns": null,
            "grid_auto_flow": null,
            "grid_auto_rows": null,
            "grid_column": null,
            "grid_gap": null,
            "grid_row": null,
            "grid_template_areas": null,
            "grid_template_columns": null,
            "grid_template_rows": null,
            "height": null,
            "justify_content": null,
            "justify_items": null,
            "left": null,
            "margin": null,
            "max_height": null,
            "max_width": null,
            "min_height": null,
            "min_width": null,
            "object_fit": null,
            "object_position": null,
            "order": null,
            "overflow": null,
            "overflow_x": null,
            "overflow_y": null,
            "padding": null,
            "right": null,
            "top": null,
            "visibility": null,
            "width": null
          }
        },
        "c59a03aca8974ef6a3fd03da6eec72d6": {
          "model_module": "@jupyter-widgets/base",
          "model_name": "LayoutModel",
          "model_module_version": "1.2.0",
          "state": {
            "_model_module": "@jupyter-widgets/base",
            "_model_module_version": "1.2.0",
            "_model_name": "LayoutModel",
            "_view_count": null,
            "_view_module": "@jupyter-widgets/base",
            "_view_module_version": "1.2.0",
            "_view_name": "LayoutView",
            "align_content": null,
            "align_items": null,
            "align_self": null,
            "border": null,
            "bottom": null,
            "display": null,
            "flex": null,
            "flex_flow": null,
            "grid_area": null,
            "grid_auto_columns": null,
            "grid_auto_flow": null,
            "grid_auto_rows": null,
            "grid_column": null,
            "grid_gap": null,
            "grid_row": null,
            "grid_template_areas": null,
            "grid_template_columns": null,
            "grid_template_rows": null,
            "height": null,
            "justify_content": null,
            "justify_items": null,
            "left": null,
            "margin": null,
            "max_height": null,
            "max_width": null,
            "min_height": null,
            "min_width": null,
            "object_fit": null,
            "object_position": null,
            "order": null,
            "overflow": null,
            "overflow_x": null,
            "overflow_y": null,
            "padding": null,
            "right": null,
            "top": null,
            "visibility": null,
            "width": null
          }
        },
        "76d0258c4b094a70bf780ef25a254553": {
          "model_module": "@jupyter-widgets/controls",
          "model_name": "DescriptionStyleModel",
          "model_module_version": "1.5.0",
          "state": {
            "_model_module": "@jupyter-widgets/controls",
            "_model_module_version": "1.5.0",
            "_model_name": "DescriptionStyleModel",
            "_view_count": null,
            "_view_module": "@jupyter-widgets/base",
            "_view_module_version": "1.2.0",
            "_view_name": "StyleView",
            "description_width": ""
          }
        },
        "d320f025619b45bb99d7419666c40e6a": {
          "model_module": "@jupyter-widgets/base",
          "model_name": "LayoutModel",
          "model_module_version": "1.2.0",
          "state": {
            "_model_module": "@jupyter-widgets/base",
            "_model_module_version": "1.2.0",
            "_model_name": "LayoutModel",
            "_view_count": null,
            "_view_module": "@jupyter-widgets/base",
            "_view_module_version": "1.2.0",
            "_view_name": "LayoutView",
            "align_content": null,
            "align_items": null,
            "align_self": null,
            "border": null,
            "bottom": null,
            "display": null,
            "flex": null,
            "flex_flow": null,
            "grid_area": null,
            "grid_auto_columns": null,
            "grid_auto_flow": null,
            "grid_auto_rows": null,
            "grid_column": null,
            "grid_gap": null,
            "grid_row": null,
            "grid_template_areas": null,
            "grid_template_columns": null,
            "grid_template_rows": null,
            "height": null,
            "justify_content": null,
            "justify_items": null,
            "left": null,
            "margin": null,
            "max_height": null,
            "max_width": null,
            "min_height": null,
            "min_width": null,
            "object_fit": null,
            "object_position": null,
            "order": null,
            "overflow": null,
            "overflow_x": null,
            "overflow_y": null,
            "padding": null,
            "right": null,
            "top": null,
            "visibility": null,
            "width": null
          }
        },
        "2bc16d445434466baba010472b048a78": {
          "model_module": "@jupyter-widgets/controls",
          "model_name": "ProgressStyleModel",
          "model_module_version": "1.5.0",
          "state": {
            "_model_module": "@jupyter-widgets/controls",
            "_model_module_version": "1.5.0",
            "_model_name": "ProgressStyleModel",
            "_view_count": null,
            "_view_module": "@jupyter-widgets/base",
            "_view_module_version": "1.2.0",
            "_view_name": "StyleView",
            "bar_color": null,
            "description_width": ""
          }
        },
        "0d37bdcb01c6442f8a7715fc8e0819a7": {
          "model_module": "@jupyter-widgets/base",
          "model_name": "LayoutModel",
          "model_module_version": "1.2.0",
          "state": {
            "_model_module": "@jupyter-widgets/base",
            "_model_module_version": "1.2.0",
            "_model_name": "LayoutModel",
            "_view_count": null,
            "_view_module": "@jupyter-widgets/base",
            "_view_module_version": "1.2.0",
            "_view_name": "LayoutView",
            "align_content": null,
            "align_items": null,
            "align_self": null,
            "border": null,
            "bottom": null,
            "display": null,
            "flex": null,
            "flex_flow": null,
            "grid_area": null,
            "grid_auto_columns": null,
            "grid_auto_flow": null,
            "grid_auto_rows": null,
            "grid_column": null,
            "grid_gap": null,
            "grid_row": null,
            "grid_template_areas": null,
            "grid_template_columns": null,
            "grid_template_rows": null,
            "height": null,
            "justify_content": null,
            "justify_items": null,
            "left": null,
            "margin": null,
            "max_height": null,
            "max_width": null,
            "min_height": null,
            "min_width": null,
            "object_fit": null,
            "object_position": null,
            "order": null,
            "overflow": null,
            "overflow_x": null,
            "overflow_y": null,
            "padding": null,
            "right": null,
            "top": null,
            "visibility": null,
            "width": null
          }
        },
        "4dd6072199e2422ca45e66fa1e614288": {
          "model_module": "@jupyter-widgets/controls",
          "model_name": "DescriptionStyleModel",
          "model_module_version": "1.5.0",
          "state": {
            "_model_module": "@jupyter-widgets/controls",
            "_model_module_version": "1.5.0",
            "_model_name": "DescriptionStyleModel",
            "_view_count": null,
            "_view_module": "@jupyter-widgets/base",
            "_view_module_version": "1.2.0",
            "_view_name": "StyleView",
            "description_width": ""
          }
        },
        "1527df2b15ad467480c06c1436545958": {
          "model_module": "@jupyter-widgets/controls",
          "model_name": "HBoxModel",
          "model_module_version": "1.5.0",
          "state": {
            "_dom_classes": [],
            "_model_module": "@jupyter-widgets/controls",
            "_model_module_version": "1.5.0",
            "_model_name": "HBoxModel",
            "_view_count": null,
            "_view_module": "@jupyter-widgets/controls",
            "_view_module_version": "1.5.0",
            "_view_name": "HBoxView",
            "box_style": "",
            "children": [
              "IPY_MODEL_132cf44c3f514d8293d00762a08b428c",
              "IPY_MODEL_6d2e0e10ea504369bf526ad462c402a9",
              "IPY_MODEL_d8378399d77246468b9b5ed2c1639137"
            ],
            "layout": "IPY_MODEL_88c8ba383065442ab07599f74f73f3db"
          }
        },
        "132cf44c3f514d8293d00762a08b428c": {
          "model_module": "@jupyter-widgets/controls",
          "model_name": "HTMLModel",
          "model_module_version": "1.5.0",
          "state": {
            "_dom_classes": [],
            "_model_module": "@jupyter-widgets/controls",
            "_model_module_version": "1.5.0",
            "_model_name": "HTMLModel",
            "_view_count": null,
            "_view_module": "@jupyter-widgets/controls",
            "_view_module_version": "1.5.0",
            "_view_name": "HTMLView",
            "description": "",
            "description_tooltip": null,
            "layout": "IPY_MODEL_7c8ffb9f06b6414abbd702f84c536e53",
            "placeholder": "​",
            "style": "IPY_MODEL_9901503a97ed4238865a88e245a8724c",
            "value": "special_tokens_map.json: 100%"
          }
        },
        "6d2e0e10ea504369bf526ad462c402a9": {
          "model_module": "@jupyter-widgets/controls",
          "model_name": "FloatProgressModel",
          "model_module_version": "1.5.0",
          "state": {
            "_dom_classes": [],
            "_model_module": "@jupyter-widgets/controls",
            "_model_module_version": "1.5.0",
            "_model_name": "FloatProgressModel",
            "_view_count": null,
            "_view_module": "@jupyter-widgets/controls",
            "_view_module_version": "1.5.0",
            "_view_name": "ProgressView",
            "bar_style": "success",
            "description": "",
            "description_tooltip": null,
            "layout": "IPY_MODEL_ee6c4b22962f4da6aed0cb975116fbed",
            "max": 125,
            "min": 0,
            "orientation": "horizontal",
            "style": "IPY_MODEL_b816a036768b49a2a3d17d5130e1fb2c",
            "value": 125
          }
        },
        "d8378399d77246468b9b5ed2c1639137": {
          "model_module": "@jupyter-widgets/controls",
          "model_name": "HTMLModel",
          "model_module_version": "1.5.0",
          "state": {
            "_dom_classes": [],
            "_model_module": "@jupyter-widgets/controls",
            "_model_module_version": "1.5.0",
            "_model_name": "HTMLModel",
            "_view_count": null,
            "_view_module": "@jupyter-widgets/controls",
            "_view_module_version": "1.5.0",
            "_view_name": "HTMLView",
            "description": "",
            "description_tooltip": null,
            "layout": "IPY_MODEL_be69aa1a65dc482bba6033627ef958d0",
            "placeholder": "​",
            "style": "IPY_MODEL_b7f4195c4dcf4b5b992a203d0ac88a20",
            "value": " 125/125 [00:00&lt;00:00, 8.31kB/s]"
          }
        },
        "88c8ba383065442ab07599f74f73f3db": {
          "model_module": "@jupyter-widgets/base",
          "model_name": "LayoutModel",
          "model_module_version": "1.2.0",
          "state": {
            "_model_module": "@jupyter-widgets/base",
            "_model_module_version": "1.2.0",
            "_model_name": "LayoutModel",
            "_view_count": null,
            "_view_module": "@jupyter-widgets/base",
            "_view_module_version": "1.2.0",
            "_view_name": "LayoutView",
            "align_content": null,
            "align_items": null,
            "align_self": null,
            "border": null,
            "bottom": null,
            "display": null,
            "flex": null,
            "flex_flow": null,
            "grid_area": null,
            "grid_auto_columns": null,
            "grid_auto_flow": null,
            "grid_auto_rows": null,
            "grid_column": null,
            "grid_gap": null,
            "grid_row": null,
            "grid_template_areas": null,
            "grid_template_columns": null,
            "grid_template_rows": null,
            "height": null,
            "justify_content": null,
            "justify_items": null,
            "left": null,
            "margin": null,
            "max_height": null,
            "max_width": null,
            "min_height": null,
            "min_width": null,
            "object_fit": null,
            "object_position": null,
            "order": null,
            "overflow": null,
            "overflow_x": null,
            "overflow_y": null,
            "padding": null,
            "right": null,
            "top": null,
            "visibility": null,
            "width": null
          }
        },
        "7c8ffb9f06b6414abbd702f84c536e53": {
          "model_module": "@jupyter-widgets/base",
          "model_name": "LayoutModel",
          "model_module_version": "1.2.0",
          "state": {
            "_model_module": "@jupyter-widgets/base",
            "_model_module_version": "1.2.0",
            "_model_name": "LayoutModel",
            "_view_count": null,
            "_view_module": "@jupyter-widgets/base",
            "_view_module_version": "1.2.0",
            "_view_name": "LayoutView",
            "align_content": null,
            "align_items": null,
            "align_self": null,
            "border": null,
            "bottom": null,
            "display": null,
            "flex": null,
            "flex_flow": null,
            "grid_area": null,
            "grid_auto_columns": null,
            "grid_auto_flow": null,
            "grid_auto_rows": null,
            "grid_column": null,
            "grid_gap": null,
            "grid_row": null,
            "grid_template_areas": null,
            "grid_template_columns": null,
            "grid_template_rows": null,
            "height": null,
            "justify_content": null,
            "justify_items": null,
            "left": null,
            "margin": null,
            "max_height": null,
            "max_width": null,
            "min_height": null,
            "min_width": null,
            "object_fit": null,
            "object_position": null,
            "order": null,
            "overflow": null,
            "overflow_x": null,
            "overflow_y": null,
            "padding": null,
            "right": null,
            "top": null,
            "visibility": null,
            "width": null
          }
        },
        "9901503a97ed4238865a88e245a8724c": {
          "model_module": "@jupyter-widgets/controls",
          "model_name": "DescriptionStyleModel",
          "model_module_version": "1.5.0",
          "state": {
            "_model_module": "@jupyter-widgets/controls",
            "_model_module_version": "1.5.0",
            "_model_name": "DescriptionStyleModel",
            "_view_count": null,
            "_view_module": "@jupyter-widgets/base",
            "_view_module_version": "1.2.0",
            "_view_name": "StyleView",
            "description_width": ""
          }
        },
        "ee6c4b22962f4da6aed0cb975116fbed": {
          "model_module": "@jupyter-widgets/base",
          "model_name": "LayoutModel",
          "model_module_version": "1.2.0",
          "state": {
            "_model_module": "@jupyter-widgets/base",
            "_model_module_version": "1.2.0",
            "_model_name": "LayoutModel",
            "_view_count": null,
            "_view_module": "@jupyter-widgets/base",
            "_view_module_version": "1.2.0",
            "_view_name": "LayoutView",
            "align_content": null,
            "align_items": null,
            "align_self": null,
            "border": null,
            "bottom": null,
            "display": null,
            "flex": null,
            "flex_flow": null,
            "grid_area": null,
            "grid_auto_columns": null,
            "grid_auto_flow": null,
            "grid_auto_rows": null,
            "grid_column": null,
            "grid_gap": null,
            "grid_row": null,
            "grid_template_areas": null,
            "grid_template_columns": null,
            "grid_template_rows": null,
            "height": null,
            "justify_content": null,
            "justify_items": null,
            "left": null,
            "margin": null,
            "max_height": null,
            "max_width": null,
            "min_height": null,
            "min_width": null,
            "object_fit": null,
            "object_position": null,
            "order": null,
            "overflow": null,
            "overflow_x": null,
            "overflow_y": null,
            "padding": null,
            "right": null,
            "top": null,
            "visibility": null,
            "width": null
          }
        },
        "b816a036768b49a2a3d17d5130e1fb2c": {
          "model_module": "@jupyter-widgets/controls",
          "model_name": "ProgressStyleModel",
          "model_module_version": "1.5.0",
          "state": {
            "_model_module": "@jupyter-widgets/controls",
            "_model_module_version": "1.5.0",
            "_model_name": "ProgressStyleModel",
            "_view_count": null,
            "_view_module": "@jupyter-widgets/base",
            "_view_module_version": "1.2.0",
            "_view_name": "StyleView",
            "bar_color": null,
            "description_width": ""
          }
        },
        "be69aa1a65dc482bba6033627ef958d0": {
          "model_module": "@jupyter-widgets/base",
          "model_name": "LayoutModel",
          "model_module_version": "1.2.0",
          "state": {
            "_model_module": "@jupyter-widgets/base",
            "_model_module_version": "1.2.0",
            "_model_name": "LayoutModel",
            "_view_count": null,
            "_view_module": "@jupyter-widgets/base",
            "_view_module_version": "1.2.0",
            "_view_name": "LayoutView",
            "align_content": null,
            "align_items": null,
            "align_self": null,
            "border": null,
            "bottom": null,
            "display": null,
            "flex": null,
            "flex_flow": null,
            "grid_area": null,
            "grid_auto_columns": null,
            "grid_auto_flow": null,
            "grid_auto_rows": null,
            "grid_column": null,
            "grid_gap": null,
            "grid_row": null,
            "grid_template_areas": null,
            "grid_template_columns": null,
            "grid_template_rows": null,
            "height": null,
            "justify_content": null,
            "justify_items": null,
            "left": null,
            "margin": null,
            "max_height": null,
            "max_width": null,
            "min_height": null,
            "min_width": null,
            "object_fit": null,
            "object_position": null,
            "order": null,
            "overflow": null,
            "overflow_x": null,
            "overflow_y": null,
            "padding": null,
            "right": null,
            "top": null,
            "visibility": null,
            "width": null
          }
        },
        "b7f4195c4dcf4b5b992a203d0ac88a20": {
          "model_module": "@jupyter-widgets/controls",
          "model_name": "DescriptionStyleModel",
          "model_module_version": "1.5.0",
          "state": {
            "_model_module": "@jupyter-widgets/controls",
            "_model_module_version": "1.5.0",
            "_model_name": "DescriptionStyleModel",
            "_view_count": null,
            "_view_module": "@jupyter-widgets/base",
            "_view_module_version": "1.2.0",
            "_view_name": "StyleView",
            "description_width": ""
          }
        }
      }
    }
  },
  "cells": [
    {
      "cell_type": "code",
      "source": [
        "from google.colab import drive\n",
        "drive.mount('/content/drive')"
      ],
      "metadata": {
        "colab": {
          "base_uri": "https://localhost:8080/"
        },
        "id": "GZnuYJ3S_i3w",
        "outputId": "bbc2c1d1-ac95-435f-e572-6c5d1fb5d650"
      },
      "execution_count": 1,
      "outputs": [
        {
          "output_type": "stream",
          "name": "stdout",
          "text": [
            "Mounted at /content/drive\n"
          ]
        }
      ]
    },
    {
      "cell_type": "code",
      "source": [
        "!pip install fair-esm"
      ],
      "metadata": {
        "colab": {
          "base_uri": "https://localhost:8080/"
        },
        "id": "hwqTkrsXDWuB",
        "outputId": "3dbe3b1a-a246-4b4a-8c73-f695f12ae026"
      },
      "execution_count": 22,
      "outputs": [
        {
          "output_type": "stream",
          "name": "stdout",
          "text": [
            "Collecting fair-esm\n",
            "  Downloading fair_esm-2.0.0-py3-none-any.whl.metadata (37 kB)\n",
            "Downloading fair_esm-2.0.0-py3-none-any.whl (93 kB)\n",
            "\u001b[2K   \u001b[90m━━━━━━━━━━━━━━━━━━━━━━━━━━━━━━━━━━━━━━━━\u001b[0m \u001b[32m93.1/93.1 kB\u001b[0m \u001b[31m1.6 MB/s\u001b[0m eta \u001b[36m0:00:00\u001b[0m\n",
            "\u001b[?25hInstalling collected packages: fair-esm\n",
            "Successfully installed fair-esm-2.0.0\n"
          ]
        }
      ]
    },
    {
      "cell_type": "code",
      "source": [
        "import os\n",
        "os.chdir('/content/drive/MyDrive/EC_number_kroll/analyze_final_model')"
      ],
      "metadata": {
        "id": "llXMz4u2_blP"
      },
      "execution_count": 2,
      "outputs": []
    },
    {
      "cell_type": "markdown",
      "source": [
        "####  use the prediction model to predict the results in the test dataset (validate the model performance)"
      ],
      "metadata": {
        "id": "YrxqKBeCY4Ci"
      }
    },
    {
      "cell_type": "code",
      "source": [
        "import os\n",
        "os.chdir('/content/drive/MyDrive/EC_number_kroll/esm2_2560_phylo')"
      ],
      "metadata": {
        "id": "9oCYubPwfR3U"
      },
      "execution_count": 3,
      "outputs": []
    },
    {
      "cell_type": "code",
      "source": [
        "from sklearn.metrics import confusion_matrix\n",
        "from sklearn.metrics import roc_auc_score\n",
        "\n",
        "import numpy as np\n",
        "import pandas as pd\n",
        "\n",
        "from torch.utils.data import TensorDataset\n",
        "from torch.utils.data import DataLoader\n",
        "import torch\n",
        "import torch.nn as nn\n",
        "\n",
        "import warnings\n",
        "from tqdm import tqdm\n",
        "import os\n",
        "from pathlib import Path\n",
        "# Define the device\n",
        "device = \"cuda\" if torch.cuda.is_available() else \"mps\" if  torch.backends.mps.is_available() else \"cpu\" # torch.has_mps or\n",
        "print(\"Using device:\", device)\n",
        "if (device == 'cuda'):\n",
        "    print(f\"Device name: {torch.cuda.get_device_name(device.index)}\")\n",
        "    print(f\"Device memory: {torch.cuda.get_device_properties(device.index).total_memory / 1024 ** 3} GB\")\n",
        "elif (device == 'mps'):\n",
        "    print(f\"Device name: <mps>\")\n",
        "else:\n",
        "    print(\"NOTE: If you have a GPU, consider using it for training.\")\n",
        "    print(\"      On a Windows machine with NVidia GPU, check this video: https://www.youtube.com/watch?v=GMSjDTU8Zlc\")\n",
        "    print(\"      On a Mac machine, run: pip3 install --pre torch torchvision torchaudio torchtext --index-url https://download.pytorch.org/whl/nightly/cpu\")\n",
        "device = torch.device(device)"
      ],
      "metadata": {
        "colab": {
          "base_uri": "https://localhost:8080/"
        },
        "id": "sy2lOuG2Z3Az",
        "outputId": "b354c6a7-8501-4aa2-f366-7a1e8e79e25b"
      },
      "execution_count": 4,
      "outputs": [
        {
          "output_type": "stream",
          "name": "stdout",
          "text": [
            "Using device: cuda\n",
            "Device name: NVIDIA A100-SXM4-40GB\n",
            "Device memory: 39.56427001953125 GB\n"
          ]
        }
      ]
    },
    {
      "cell_type": "code",
      "source": [
        "ESP_test_df_enzy = torch.load('ESP_test_df_enzy.pt')\n",
        "# Load the saved embeddings_results\n",
        "ESP_test_df_smiles = torch.load('ESP_test_df_smiles.pt')\n",
        "y_test = torch.load('ESP_test_df_label.pt')\n",
        "ESP_test_df_enzy_add = torch.load('ESP_test_df_enzy_>2800_<8000.pt')\n",
        "ESP_test_df_smiles_add = torch.load('ESP_test_df_smiles_>2800_<8000.pt')\n",
        "y_test_add = torch.load('ESP_test_df_label_>2800_<8000.pt')\n",
        "\n",
        "ESP_test_df_enzy = torch.cat([ESP_test_df_enzy, ESP_test_df_enzy_add], dim=0)\n",
        "ESP_test_df_smiles = torch.cat([ESP_test_df_smiles, ESP_test_df_smiles_add], dim=0)\n",
        "y_test = torch.cat([y_test, y_test_add], dim=0)\n",
        "print(ESP_test_df_enzy.shape, ESP_test_df_smiles.shape, y_test.shape)\n",
        "\n",
        "test_tensor_dataset = TensorDataset(ESP_test_df_enzy, ESP_test_df_smiles, y_test)\n",
        "\n",
        "# Create TensorDataset and DataLoaders\n",
        "batch_size = 16\n",
        "test_loader = DataLoader(test_tensor_dataset, batch_size=batch_size, shuffle=False)\n"
      ],
      "metadata": {
        "colab": {
          "base_uri": "https://localhost:8080/"
        },
        "id": "UCUxvIkIfDgX",
        "outputId": "71b973f8-652c-4da7-e064-a7ba127211e7"
      },
      "execution_count": 5,
      "outputs": [
        {
          "output_type": "stream",
          "name": "stderr",
          "text": [
            "<ipython-input-5-b8ec678e0306>:1: FutureWarning: You are using `torch.load` with `weights_only=False` (the current default value), which uses the default pickle module implicitly. It is possible to construct malicious pickle data which will execute arbitrary code during unpickling (See https://github.com/pytorch/pytorch/blob/main/SECURITY.md#untrusted-models for more details). In a future release, the default value for `weights_only` will be flipped to `True`. This limits the functions that could be executed during unpickling. Arbitrary objects will no longer be allowed to be loaded via this mode unless they are explicitly allowlisted by the user via `torch.serialization.add_safe_globals`. We recommend you start setting `weights_only=True` for any use case where you don't have full control of the loaded file. Please open an issue on GitHub for any issues related to this experimental feature.\n",
            "  ESP_test_df_enzy = torch.load('ESP_test_df_enzy.pt')\n",
            "<ipython-input-5-b8ec678e0306>:3: FutureWarning: You are using `torch.load` with `weights_only=False` (the current default value), which uses the default pickle module implicitly. It is possible to construct malicious pickle data which will execute arbitrary code during unpickling (See https://github.com/pytorch/pytorch/blob/main/SECURITY.md#untrusted-models for more details). In a future release, the default value for `weights_only` will be flipped to `True`. This limits the functions that could be executed during unpickling. Arbitrary objects will no longer be allowed to be loaded via this mode unless they are explicitly allowlisted by the user via `torch.serialization.add_safe_globals`. We recommend you start setting `weights_only=True` for any use case where you don't have full control of the loaded file. Please open an issue on GitHub for any issues related to this experimental feature.\n",
            "  ESP_test_df_smiles = torch.load('ESP_test_df_smiles.pt')\n",
            "<ipython-input-5-b8ec678e0306>:4: FutureWarning: You are using `torch.load` with `weights_only=False` (the current default value), which uses the default pickle module implicitly. It is possible to construct malicious pickle data which will execute arbitrary code during unpickling (See https://github.com/pytorch/pytorch/blob/main/SECURITY.md#untrusted-models for more details). In a future release, the default value for `weights_only` will be flipped to `True`. This limits the functions that could be executed during unpickling. Arbitrary objects will no longer be allowed to be loaded via this mode unless they are explicitly allowlisted by the user via `torch.serialization.add_safe_globals`. We recommend you start setting `weights_only=True` for any use case where you don't have full control of the loaded file. Please open an issue on GitHub for any issues related to this experimental feature.\n",
            "  y_test = torch.load('ESP_test_df_label.pt')\n",
            "<ipython-input-5-b8ec678e0306>:5: FutureWarning: You are using `torch.load` with `weights_only=False` (the current default value), which uses the default pickle module implicitly. It is possible to construct malicious pickle data which will execute arbitrary code during unpickling (See https://github.com/pytorch/pytorch/blob/main/SECURITY.md#untrusted-models for more details). In a future release, the default value for `weights_only` will be flipped to `True`. This limits the functions that could be executed during unpickling. Arbitrary objects will no longer be allowed to be loaded via this mode unless they are explicitly allowlisted by the user via `torch.serialization.add_safe_globals`. We recommend you start setting `weights_only=True` for any use case where you don't have full control of the loaded file. Please open an issue on GitHub for any issues related to this experimental feature.\n",
            "  ESP_test_df_enzy_add = torch.load('ESP_test_df_enzy_>2800_<8000.pt')\n",
            "<ipython-input-5-b8ec678e0306>:6: FutureWarning: You are using `torch.load` with `weights_only=False` (the current default value), which uses the default pickle module implicitly. It is possible to construct malicious pickle data which will execute arbitrary code during unpickling (See https://github.com/pytorch/pytorch/blob/main/SECURITY.md#untrusted-models for more details). In a future release, the default value for `weights_only` will be flipped to `True`. This limits the functions that could be executed during unpickling. Arbitrary objects will no longer be allowed to be loaded via this mode unless they are explicitly allowlisted by the user via `torch.serialization.add_safe_globals`. We recommend you start setting `weights_only=True` for any use case where you don't have full control of the loaded file. Please open an issue on GitHub for any issues related to this experimental feature.\n",
            "  ESP_test_df_smiles_add = torch.load('ESP_test_df_smiles_>2800_<8000.pt')\n",
            "<ipython-input-5-b8ec678e0306>:7: FutureWarning: You are using `torch.load` with `weights_only=False` (the current default value), which uses the default pickle module implicitly. It is possible to construct malicious pickle data which will execute arbitrary code during unpickling (See https://github.com/pytorch/pytorch/blob/main/SECURITY.md#untrusted-models for more details). In a future release, the default value for `weights_only` will be flipped to `True`. This limits the functions that could be executed during unpickling. Arbitrary objects will no longer be allowed to be loaded via this mode unless they are explicitly allowlisted by the user via `torch.serialization.add_safe_globals`. We recommend you start setting `weights_only=True` for any use case where you don't have full control of the loaded file. Please open an issue on GitHub for any issues related to this experimental feature.\n",
            "  y_test_add = torch.load('ESP_test_df_label_>2800_<8000.pt')\n"
          ]
        },
        {
          "output_type": "stream",
          "name": "stdout",
          "text": [
            "torch.Size([13336, 2560]) torch.Size([13336, 768]) torch.Size([13336, 1])\n"
          ]
        }
      ]
    },
    {
      "cell_type": "code",
      "source": [
        "import torch\n",
        "import torch.nn as nn\n",
        "\n",
        "class Contrastive_learning_layer(nn.Module):\n",
        "    def __init__(self):\n",
        "        super().__init__()\n",
        "        self.enzy_refine_layer_1 = nn.Linear(2560, 2560) # W1 and b\n",
        "        self.smiles_refine_layer_1 = nn.Linear(768, 768) # W1 and b\n",
        "        self.enzy_refine_layer_2 = nn.Linear(2560, 128) # W1 and b\n",
        "        self.smiles_refine_layer_2 = nn.Linear(768, 128) # W1 and b\n",
        "\n",
        "        self.relu = nn.ReLU()\n",
        "        self.batch_norm_enzy = nn.BatchNorm1d(2560)\n",
        "        self.batch_norm_smiles = nn.BatchNorm1d(768)\n",
        "        self.batch_norm_shared = nn.BatchNorm1d(128)\n",
        "\n",
        "    def forward(self, enzy_embed, smiles_embed):\n",
        "        refined_enzy_embed = self.enzy_refine_layer_1(enzy_embed)\n",
        "        refined_smiles_embed = self.smiles_refine_layer_1(smiles_embed)\n",
        "\n",
        "        refined_enzy_embed = self.batch_norm_enzy(refined_enzy_embed)\n",
        "        refined_smiles_embed = self.batch_norm_smiles(refined_smiles_embed)\n",
        "\n",
        "        refined_enzy_embed = self.relu(refined_enzy_embed)\n",
        "        refined_smiles_embed = self.relu(refined_smiles_embed)\n",
        "\n",
        "        refined_enzy_embed = self.enzy_refine_layer_2(refined_enzy_embed)\n",
        "        refined_smiles_embed = self.smiles_refine_layer_2(refined_smiles_embed)\n",
        "\n",
        "        refined_enzy_embed = self.batch_norm_shared(refined_enzy_embed)\n",
        "        refined_smiles_embed = self.batch_norm_shared(refined_smiles_embed)\n",
        "        refined_enzy_embed = torch.nn.functional.normalize(refined_enzy_embed, dim=1)\n",
        "        refined_smiles_embed = torch.nn.functional.normalize(refined_smiles_embed, dim=1)\n",
        "\n",
        "        return refined_enzy_embed, refined_smiles_embed\n"
      ],
      "metadata": {
        "id": "SR1tPf_mXdKj"
      },
      "execution_count": 6,
      "outputs": []
    },
    {
      "cell_type": "code",
      "source": [
        "loss_fn = nn.MSELoss().to(device)"
      ],
      "metadata": {
        "id": "lTewjstKZ5PM"
      },
      "execution_count": 7,
      "outputs": []
    },
    {
      "cell_type": "code",
      "source": [
        "def run_validation(model, val_loader,loss_fn, device):\n",
        "    model.eval()\n",
        "    loss_sum = 0\n",
        "    num_batch = len(val_loader)\n",
        "    total_y_true=[]\n",
        "    total_y_pred=[]\n",
        "    total_y_prob=[]\n",
        "    for ESP_val_df_enzy,ESP_val_df_smiles, y_val in val_loader:\n",
        "\n",
        "        ESP_val_df_enzy = ESP_val_df_enzy.to(device)\n",
        "        ESP_val_df_smiles = ESP_val_df_smiles.to(device)\n",
        "        y_val = y_val.squeeze(1).to(device)\n",
        "\n",
        "        refined_enzy_embed, refined_smiles_embed = model(ESP_val_df_enzy,ESP_val_df_smiles)\n",
        "        cos_sim = torch.nn.functional.cosine_similarity(refined_enzy_embed, refined_smiles_embed, dim=1)\n",
        "        loss = loss_fn(cos_sim, y_val).detach().cpu().numpy()\n",
        "        loss_sum = loss_sum + loss # count all the loss in the training process\n",
        "        y_pred = (cos_sim > 0.5).float().cpu().numpy() # if score > 0.5, assign label 1 otherwise 0, transfer to cpu as numpy\n",
        "        total_y_true.append(y_val.cpu().numpy())\n",
        "        total_y_pred.append(y_pred)\n",
        "        total_y_prob.append(cos_sim.detach().cpu().numpy())\n",
        "\n",
        "    loss_sum = loss_sum/num_batch # get the overall average loss (Notice: this method is not 100% accurate)\n",
        "\n",
        "    arrange_y_true = np.concatenate(total_y_true, axis=0)\n",
        "    arrange_y_pred = np.concatenate(total_y_pred, axis=0)\n",
        "    arrange_y_prob = np.concatenate(total_y_prob, axis=0)\n",
        "    tn,fp,fn,tp = confusion_matrix(arrange_y_true, arrange_y_pred).ravel()\n",
        "    acc = (tp+tn)/(tp+tn+fp+fn)\n",
        "    specificity = tn/(tn+fp)\n",
        "    sensitivity = tp/(tp+fn)\n",
        "    recall = tp/(tp+fn)\n",
        "    precision = tp/(tp+fp)\n",
        "    bacc = (sensitivity + specificity)/2\n",
        "    MCC = (tp*tn-fp*fn)/np.sqrt((tp+fp)*(tp+fn)*(tn+fp)*(tn+fn))\n",
        "    AUC = roc_auc_score(arrange_y_true, arrange_y_prob)\n",
        "    f1 = 2*precision*recall/(precision+recall)\n",
        "    print(\"loss_sum= \",loss_sum, \"ACC= \",acc, \"bacc= \",bacc, \"precision= \",precision,\"specificity= \",specificity, \"sensitivity= \",sensitivity, \"recall= \",recall, \"MCC= \",MCC, \"AUC= \",AUC, \"f1= \",f1)\n",
        "    return loss_sum, acc, bacc , tn,fp,fn,tp  # , precision, sensitivity, recall, MCC, AUC, f1\n"
      ],
      "metadata": {
        "id": "3GIsbRNQaFAK"
      },
      "execution_count": 38,
      "outputs": []
    },
    {
      "cell_type": "code",
      "source": [
        "import os\n",
        "os.chdir('/content/drive/MyDrive/EC_number_kroll/esm2_2560_phylo')"
      ],
      "metadata": {
        "id": "adSQ49FbaaUQ"
      },
      "execution_count": 9,
      "outputs": []
    },
    {
      "cell_type": "code",
      "source": [
        "import torch\n",
        "# Specify the file path where the entire model is saved\n",
        "load_path = 'best_model_esm2_2560_fine_tuned_add_>2800_<8000__ACC=0.9476.pt'\n",
        "# Load the entire model\n",
        "model_test = torch.load(load_path)\n",
        "run_validation(model_test,test_loader,loss_fn, device)"
      ],
      "metadata": {
        "colab": {
          "base_uri": "https://localhost:8080/"
        },
        "id": "Zjx4ZAseaIpU",
        "outputId": "d49074e5-2353-4c57-cb5e-a7f70cf0f2c9"
      },
      "execution_count": 10,
      "outputs": [
        {
          "output_type": "stream",
          "name": "stderr",
          "text": [
            "<ipython-input-10-ff1e0fd3c066>:5: FutureWarning: You are using `torch.load` with `weights_only=False` (the current default value), which uses the default pickle module implicitly. It is possible to construct malicious pickle data which will execute arbitrary code during unpickling (See https://github.com/pytorch/pytorch/blob/main/SECURITY.md#untrusted-models for more details). In a future release, the default value for `weights_only` will be flipped to `True`. This limits the functions that could be executed during unpickling. Arbitrary objects will no longer be allowed to be loaded via this mode unless they are explicitly allowlisted by the user via `torch.serialization.add_safe_globals`. We recommend you start setting `weights_only=True` for any use case where you don't have full control of the loaded file. Please open an issue on GitHub for any issues related to this experimental feature.\n",
            "  model_test = torch.load(load_path)\n"
          ]
        },
        {
          "output_type": "stream",
          "name": "stdout",
          "text": [
            "loss_sum=  0.049867110144167164 ACC=  0.9476604679064187 bacc=  0.9170804862959899 precision=  0.943639798488665 specificity=  0.9817718940936864 sensitivity=  0.8523890784982935 recall=  0.8523890784982935 MCC=  0.8628651785864061 AUC=  0.9652937024576622 f1=  0.8956963538553496\n"
          ]
        },
        {
          "output_type": "execute_result",
          "data": {
            "text/plain": [
              "(0.049867110144167164,\n",
              " 0.9476604679064187,\n",
              " 0.9170804862959899,\n",
              " 9641,\n",
              " 179,\n",
              " 519,\n",
              " 2997)"
            ]
          },
          "metadata": {},
          "execution_count": 10
        }
      ]
    },
    {
      "cell_type": "code",
      "source": [
        "## looks great because the loaded model is the correct model we plan to use for evaluation"
      ],
      "metadata": {
        "id": "mn881YHe82Ce"
      },
      "execution_count": 11,
      "outputs": []
    },
    {
      "cell_type": "code",
      "source": [
        "def run_validation(model, val_loader,loss_fn, device):\n",
        "    model.eval()\n",
        "    loss_sum = 0\n",
        "    num_batch = len(val_loader)\n",
        "    total_y_true=[]\n",
        "    total_y_pred=[]\n",
        "    total_y_prob=[]\n",
        "    for ESP_val_df_enzy,ESP_val_df_smiles, y_val in val_loader:\n",
        "\n",
        "        ESP_val_df_enzy = ESP_val_df_enzy.to(device)\n",
        "        ESP_val_df_smiles = ESP_val_df_smiles.to(device)\n",
        "        y_val = y_val.squeeze(1).to(device)\n",
        "\n",
        "        refined_enzy_embed, refined_smiles_embed = model(ESP_val_df_enzy,ESP_val_df_smiles)\n",
        "        cos_sim = torch.nn.functional.cosine_similarity(refined_enzy_embed, refined_smiles_embed, dim=1)\n",
        "        loss = loss_fn(cos_sim, y_val).detach().cpu().numpy()\n",
        "        loss_sum = loss_sum + loss # count all the loss in the training process\n",
        "        y_pred = (cos_sim > 0.5).float().cpu().numpy() # if score > 0.5, assign label 1 otherwise 0, transfer to cpu as numpy\n",
        "        total_y_true.append(y_val.cpu().numpy())\n",
        "        total_y_pred.append(y_pred)\n",
        "        total_y_prob.append(cos_sim.detach().cpu().numpy())\n",
        "\n",
        "    loss_sum = loss_sum/num_batch # get the overall average loss (Notice: this method is not 100% accurate)\n",
        "\n",
        "    arrange_y_true = np.concatenate(total_y_true, axis=0)\n",
        "    arrange_y_pred = np.concatenate(total_y_pred, axis=0)\n",
        "    arrange_y_prob = np.concatenate(total_y_prob, axis=0)\n",
        "    tn,fp,fn,tp = confusion_matrix(arrange_y_true, arrange_y_pred).ravel()\n",
        "    acc = (tp+tn)/(tp+tn+fp+fn)\n",
        "    specificity = tn/(tn+fp)\n",
        "    sensitivity = tp/(tp+fn)\n",
        "    recall = tp/(tp+fn)\n",
        "    precision = tp/(tp+fp)\n",
        "    bacc = (sensitivity + specificity)/2\n",
        "    MCC = (tp*tn-fp*fn)/np.sqrt((tp+fp)*(tp+fn)*(tn+fp)*(tn+fn))\n",
        "    AUC = roc_auc_score(arrange_y_true, arrange_y_prob)\n",
        "    f1 = 2*precision*recall/(precision+recall)\n",
        "    print(\"loss_sum= \",loss_sum, \"ACC= \",acc, \"bacc= \",bacc, \"precision= \",precision,\"specificity= \",specificity, \"sensitivity= \",sensitivity, \"recall= \",recall, \"MCC= \",MCC, \"AUC= \",AUC, \"f1= \",f1)\n",
        "    return acc*100, MCC, AUC   tn,fp,fn,tp # , precision, sensitivity, recall, MCC, AUC, f1\n"
      ],
      "metadata": {
        "id": "HX8zYhQ1mbfc"
      },
      "execution_count": 12,
      "outputs": []
    },
    {
      "cell_type": "markdown",
      "metadata": {
        "id": "xPCo0g-YRW1y"
      },
      "source": [
        "#### ESM-2-2560 and MolFormer embeddings function"
      ]
    },
    {
      "cell_type": "code",
      "source": [
        "!pip install fair-esm\n",
        "!pip install rdkit"
      ],
      "metadata": {
        "colab": {
          "base_uri": "https://localhost:8080/"
        },
        "id": "m5Qo3qwMYSxR",
        "outputId": "6327e2bd-b18d-4d6d-d083-1b75b88733be"
      },
      "execution_count": 25,
      "outputs": [
        {
          "output_type": "stream",
          "name": "stdout",
          "text": [
            "Requirement already satisfied: fair-esm in /usr/local/lib/python3.10/dist-packages (2.0.0)\n",
            "Collecting rdkit\n",
            "  Downloading rdkit-2024.3.5-cp310-cp310-manylinux_2_28_x86_64.whl.metadata (3.9 kB)\n",
            "Requirement already satisfied: numpy in /usr/local/lib/python3.10/dist-packages (from rdkit) (1.26.4)\n",
            "Requirement already satisfied: Pillow in /usr/local/lib/python3.10/dist-packages (from rdkit) (9.4.0)\n",
            "Downloading rdkit-2024.3.5-cp310-cp310-manylinux_2_28_x86_64.whl (33.1 MB)\n",
            "\u001b[2K   \u001b[90m━━━━━━━━━━━━━━━━━━━━━━━━━━━━━━━━━━━━━━━━\u001b[0m \u001b[32m33.1/33.1 MB\u001b[0m \u001b[31m49.5 MB/s\u001b[0m eta \u001b[36m0:00:00\u001b[0m\n",
            "\u001b[?25hInstalling collected packages: rdkit\n",
            "Successfully installed rdkit-2024.3.5\n"
          ]
        }
      ]
    },
    {
      "cell_type": "code",
      "execution_count": 26,
      "metadata": {
        "id": "p1zmTCJLRW1y"
      },
      "outputs": [],
      "source": [
        "def esm_embeddings_2560(esm2, esm2_alphabet, peptide_sequence_list):\n",
        "  # NOTICE: ESM for embeddings is quite RAM usage, if your sequence is too long,\n",
        "  #         or you have too many sequences for transformation in a single converting,\n",
        "  #         you computer might automatically kill the job.\n",
        "  import torch\n",
        "  import esm\n",
        "  import collections\n",
        "  import pandas as pd\n",
        "  import gc\n",
        "\n",
        "  if torch.cuda.is_available():\n",
        "    device = torch.device(\"cuda\")\n",
        "  else:\n",
        "    device = torch.device(\"cpu\")\n",
        "  esm2 = esm2.eval().to(device)\n",
        "\n",
        "  batch_converter = esm2_alphabet.get_batch_converter()\n",
        "\n",
        "  # load the peptide sequence list into the bach_converter\n",
        "  batch_labels, batch_strs, batch_tokens = batch_converter(peptide_sequence_list)\n",
        "  batch_lens = (batch_tokens != esm2_alphabet.padding_idx).sum(1)\n",
        "  ## batch tokens are the embedding results of the whole data set\n",
        "\n",
        "  batch_tokens = batch_tokens.to(device)\n",
        "\n",
        "  # Extract per-residue representations (on CPU)\n",
        "  with torch.no_grad():\n",
        "      # Here we export the last layer of the EMS model output as the representation of the peptides\n",
        "      # model'esm2_t12_35M_UR50D' only has 12 layers, and therefore repr_layers parameters is equal to 12\n",
        "      results = esm2(batch_tokens, repr_layers=[36], return_contacts=False)\n",
        "  token_representations = results[\"representations\"][36].cpu()\n",
        "  del results, batch_tokens\n",
        "  torch.cuda.empty_cache()\n",
        "  gc.collect()\n",
        "  return token_representations[:,1:-1,:].mean(1)\n"
      ]
    },
    {
      "cell_type": "code",
      "execution_count": 27,
      "metadata": {
        "id": "5IWhKp1LRW1y",
        "colab": {
          "base_uri": "https://localhost:8080/",
          "height": 0,
          "referenced_widgets": [
            "622f29b506b5495382139963538cc67e",
            "9246bd5acf90452b89b7d866f3d326ac",
            "6c57f0acc4c14d0a836a29fe88d94962",
            "c02bc79880db477fb4c289dd5ef13655",
            "cc0a7553da274f2782e6d80c93ef8707",
            "8e800229602c4b5f8ec11d2f83eae841",
            "d5f4caa6a0ab42159131122a515a0db3",
            "2670f835f29340a088920d38e37ecd2d",
            "90595a12fcf84f0cbd43eb76b525d60e",
            "fe4bc0516d7344b6bafdcace96aec08a",
            "facb81a24af04a47bc145acbd5126f46",
            "a9e30feae8be4e959ac8c14eee93e94e",
            "34505ab4705a46669ce6de021778727d",
            "14716840efef4707a11b024e52efc36c",
            "197f603bac4a4e688900d2e035ef14e7",
            "dcf063ec991b4c0d97fd216fd693c483",
            "80c008d438c647f388b3915ba9806dd2",
            "104d76b8060f4ef598c1446122ac1074",
            "4974bd3aed264f43a73e2fd15f30c97d",
            "642f6e0813834fb59b6a912108f65e21",
            "5aca40f0d5f645b1b61fdb1f5f3a7ce1",
            "c33cd705f22c4172aa124266816493e7",
            "668521520c2a4986ba298e52a8593d67",
            "450b37828c6b4caebf13dcbc4208cc73",
            "8a07e1883d0b4779817f6155cccc184b",
            "731a04610b2046ada781f0226ea37115",
            "df0597cc49f6417ca3636a15915a2a9d",
            "9cba80245fec487a879ac1a61f6e0cc4",
            "c64f0409c0084648ae48b788143cdd4c",
            "cfd8036e2f044f249760250075985935",
            "d1a8066164d048b0b531e178150005a8",
            "b9205d59a7c14e08aa87c5b7a185ea44",
            "445ee6d2210b4dad9e2abb9a21a70f6d",
            "e50336c070cc46e9acf446d413bbb67c",
            "09b79c2f2c9647a8bbad673b119aefcc",
            "5e7c2b3fb3c24baea8641f10ba9fe6dc",
            "1e3d53db60664abfb2309064368aa41e",
            "770bbaefff1b4b9b942c4534200cd7a4",
            "6ca4d7fa053b43b4854baa5261107ff9",
            "576df230230c4d8c984fe13c94203a45",
            "407ab3696a134eebb86417169d682f18",
            "35b03c1d7d924ee797c93be8dcfedc32",
            "e58381bc24a3437e8077d1d73fbb880b",
            "940ec28cf2eb4a5486f4a34397a0e52f",
            "51b00ab10f4c45e18e5619a1b366b624",
            "b3015545136d4704a4a6e6e4c1ddeeb9",
            "8b61eb10923948369f3ade45390dcc25",
            "e3b9d0bffcce4e7fb4f5aab0bc4431a4",
            "ebea65d5b51243f88de3029e14b1e0de",
            "d4bf2022503f41b9a0322a99236e57fe",
            "31d76fcb5ee94bfdb39f5e8c78028844",
            "8ca92f1c356e45af90dcdeae4d7172a8",
            "dea2ac4f7a914879a3ce348a3a784e05",
            "ad4562d213d440d5bbb46ddceb083a13",
            "6fa06d1f113b45dfae4a6dc4ef428009",
            "ead9fabc99954f3980c864daa968f9bf",
            "784e92bc1db94ac7b88f8cf49bb3b3e1",
            "812832513be34a5eb4d0191eeedaad95",
            "9f781baaab164f128408e98ecfbaf887",
            "afcdb65a8b264f418f1a14cdecb47981",
            "98e77ec6aa3c4f87b408a270bb1f1759",
            "cd27ebbfc42b4e9fbb2e6c4266c599be",
            "99a48ffc1437488a992ac8cdd6c0d633",
            "5947721661f04fbe969fef7c1f60b5ff",
            "890ed0a0543546fbb181bc2e5ec6e684",
            "2dbeed350825480b8e4e4285cdecbe8d",
            "6c7f405193f7426880ddd4631d99f2e1",
            "03310d53f8ee42bba55b2d5a0bf478f4",
            "8c4398bbfeb247d2b246064359566b63",
            "b94d3dcb322a4c40a2b613d1ae179825",
            "015c79fbc38d4c0199ef528b3e0bcf17",
            "44fb731da8054452bff01275cf0c26d6",
            "3a741e2d5d4a4639bb08db7614a97aca",
            "934c8a2b475c4ae58e0ad7f43ccb08aa",
            "f0c595a065e747a9b4d3e2cf0e040796",
            "13fba377e9ee45baad3385cba7c3b895",
            "51199c51efa9498ca630b0dbdc94b34a",
            "8ea0c004585e4c22bb98c03f12953c48",
            "0e4dded8e73c4d4fa106f15c2ca525a5",
            "b1054924cf974e93a18b160593267a57",
            "8d709b5ef9c54bce8906a8d2093a1786",
            "fcfe6b2a18754df88a9b1d494d8098eb",
            "7d24d2e47d5747ffac5d06b3bc89a92e",
            "1082424b19984667ba8f81d2c3976efb",
            "ec119927fc974c62a21ed03849a28875",
            "06d339f43a0d45978ed72a395e6667e5",
            "a3caa8a721ba4a5fbaae61712434d9c2",
            "4551b6f7f46f4cd4872eef14e0cac397",
            "c56c19ab3677410a9dc2e5d015c36c1c",
            "b4155cafcb4f41faaf8f2360c26f57a0",
            "126a5af4b06c47e7b146e3011369a3b5",
            "2ba62b671b9f4d9aa02c2cddb5a1db5b",
            "6e4ad6eca5464b5d9411099b54d78a57",
            "c59a03aca8974ef6a3fd03da6eec72d6",
            "76d0258c4b094a70bf780ef25a254553",
            "d320f025619b45bb99d7419666c40e6a",
            "2bc16d445434466baba010472b048a78",
            "0d37bdcb01c6442f8a7715fc8e0819a7",
            "4dd6072199e2422ca45e66fa1e614288",
            "1527df2b15ad467480c06c1436545958",
            "132cf44c3f514d8293d00762a08b428c",
            "6d2e0e10ea504369bf526ad462c402a9",
            "d8378399d77246468b9b5ed2c1639137",
            "88c8ba383065442ab07599f74f73f3db",
            "7c8ffb9f06b6414abbd702f84c536e53",
            "9901503a97ed4238865a88e245a8724c",
            "ee6c4b22962f4da6aed0cb975116fbed",
            "b816a036768b49a2a3d17d5130e1fb2c",
            "be69aa1a65dc482bba6033627ef958d0",
            "b7f4195c4dcf4b5b992a203d0ac88a20"
          ]
        },
        "outputId": "a84a9062-a467-440c-8ca9-019b4845ed52"
      },
      "outputs": [
        {
          "output_type": "stream",
          "name": "stderr",
          "text": [
            "/usr/local/lib/python3.10/dist-packages/huggingface_hub/utils/_token.py:89: UserWarning: \n",
            "The secret `HF_TOKEN` does not exist in your Colab secrets.\n",
            "To authenticate with the Hugging Face Hub, create a token in your settings tab (https://huggingface.co/settings/tokens), set it as secret in your Google Colab and restart your session.\n",
            "You will be able to reuse this secret in all of your notebooks.\n",
            "Please note that authentication is recommended but still optional to access public models or datasets.\n",
            "  warnings.warn(\n"
          ]
        },
        {
          "output_type": "display_data",
          "data": {
            "text/plain": [
              "config.json:   0%|          | 0.00/1.01k [00:00<?, ?B/s]"
            ],
            "application/vnd.jupyter.widget-view+json": {
              "version_major": 2,
              "version_minor": 0,
              "model_id": "622f29b506b5495382139963538cc67e"
            }
          },
          "metadata": {}
        },
        {
          "output_type": "display_data",
          "data": {
            "text/plain": [
              "configuration_molformer.py:   0%|          | 0.00/7.60k [00:00<?, ?B/s]"
            ],
            "application/vnd.jupyter.widget-view+json": {
              "version_major": 2,
              "version_minor": 0,
              "model_id": "a9e30feae8be4e959ac8c14eee93e94e"
            }
          },
          "metadata": {}
        },
        {
          "output_type": "stream",
          "name": "stderr",
          "text": [
            "A new version of the following files was downloaded from https://huggingface.co/ibm/MoLFormer-XL-both-10pct:\n",
            "- configuration_molformer.py\n",
            ". Make sure to double-check they do not contain any added malicious code. To avoid downloading new versions of the code file, you can pin a revision.\n"
          ]
        },
        {
          "output_type": "display_data",
          "data": {
            "text/plain": [
              "modeling_molformer.py:   0%|          | 0.00/39.3k [00:00<?, ?B/s]"
            ],
            "application/vnd.jupyter.widget-view+json": {
              "version_major": 2,
              "version_minor": 0,
              "model_id": "668521520c2a4986ba298e52a8593d67"
            }
          },
          "metadata": {}
        },
        {
          "output_type": "stream",
          "name": "stderr",
          "text": [
            "A new version of the following files was downloaded from https://huggingface.co/ibm/MoLFormer-XL-both-10pct:\n",
            "- modeling_molformer.py\n",
            ". Make sure to double-check they do not contain any added malicious code. To avoid downloading new versions of the code file, you can pin a revision.\n"
          ]
        },
        {
          "output_type": "display_data",
          "data": {
            "text/plain": [
              "model.safetensors:   0%|          | 0.00/187M [00:00<?, ?B/s]"
            ],
            "application/vnd.jupyter.widget-view+json": {
              "version_major": 2,
              "version_minor": 0,
              "model_id": "e50336c070cc46e9acf446d413bbb67c"
            }
          },
          "metadata": {}
        },
        {
          "output_type": "display_data",
          "data": {
            "text/plain": [
              "tokenizer_config.json:   0%|          | 0.00/1.29k [00:00<?, ?B/s]"
            ],
            "application/vnd.jupyter.widget-view+json": {
              "version_major": 2,
              "version_minor": 0,
              "model_id": "51b00ab10f4c45e18e5619a1b366b624"
            }
          },
          "metadata": {}
        },
        {
          "output_type": "display_data",
          "data": {
            "text/plain": [
              "tokenization_molformer_fast.py:   0%|          | 0.00/6.50k [00:00<?, ?B/s]"
            ],
            "application/vnd.jupyter.widget-view+json": {
              "version_major": 2,
              "version_minor": 0,
              "model_id": "ead9fabc99954f3980c864daa968f9bf"
            }
          },
          "metadata": {}
        },
        {
          "output_type": "display_data",
          "data": {
            "text/plain": [
              "tokenization_molformer.py:   0%|          | 0.00/9.48k [00:00<?, ?B/s]"
            ],
            "application/vnd.jupyter.widget-view+json": {
              "version_major": 2,
              "version_minor": 0,
              "model_id": "6c7f405193f7426880ddd4631d99f2e1"
            }
          },
          "metadata": {}
        },
        {
          "output_type": "stream",
          "name": "stderr",
          "text": [
            "A new version of the following files was downloaded from https://huggingface.co/ibm/MoLFormer-XL-both-10pct:\n",
            "- tokenization_molformer.py\n",
            ". Make sure to double-check they do not contain any added malicious code. To avoid downloading new versions of the code file, you can pin a revision.\n",
            "A new version of the following files was downloaded from https://huggingface.co/ibm/MoLFormer-XL-both-10pct:\n",
            "- tokenization_molformer_fast.py\n",
            "- tokenization_molformer.py\n",
            ". Make sure to double-check they do not contain any added malicious code. To avoid downloading new versions of the code file, you can pin a revision.\n"
          ]
        },
        {
          "output_type": "display_data",
          "data": {
            "text/plain": [
              "vocab.json:   0%|          | 0.00/41.6k [00:00<?, ?B/s]"
            ],
            "application/vnd.jupyter.widget-view+json": {
              "version_major": 2,
              "version_minor": 0,
              "model_id": "8ea0c004585e4c22bb98c03f12953c48"
            }
          },
          "metadata": {}
        },
        {
          "output_type": "display_data",
          "data": {
            "text/plain": [
              "tokenizer.json:   0%|          | 0.00/54.0k [00:00<?, ?B/s]"
            ],
            "application/vnd.jupyter.widget-view+json": {
              "version_major": 2,
              "version_minor": 0,
              "model_id": "c56c19ab3677410a9dc2e5d015c36c1c"
            }
          },
          "metadata": {}
        },
        {
          "output_type": "display_data",
          "data": {
            "text/plain": [
              "special_tokens_map.json:   0%|          | 0.00/125 [00:00<?, ?B/s]"
            ],
            "application/vnd.jupyter.widget-view+json": {
              "version_major": 2,
              "version_minor": 0,
              "model_id": "1527df2b15ad467480c06c1436545958"
            }
          },
          "metadata": {}
        }
      ],
      "source": [
        "import torch\n",
        "from transformers import AutoModel, AutoTokenizer\n",
        "from rdkit import Chem\n",
        "\n",
        "model_smiles = AutoModel.from_pretrained(\"ibm/MoLFormer-XL-both-10pct\", deterministic_eval=True, trust_remote_code=True)\n",
        "tokenizer = AutoTokenizer.from_pretrained(\"ibm/MoLFormer-XL-both-10pct\", trust_remote_code=True)\n",
        "\n",
        "def MolFormer_embedding(model_smiles, tokenizer, SMILES_list):\n",
        "    inputs = tokenizer(SMILES_list, padding=True, return_tensors=\"pt\")\n",
        "    with torch.no_grad():\n",
        "        outputs = model_smiles(**inputs)\n",
        "    # NOTICE: if you have several smiles in the list, you will find the average embedding of each token will remain the same\n",
        "    #           no matter which smiles in side the list, however, the padding will based on the longest smiles,\n",
        "    #           therefore, the last hidden state representation shape:[len, 768] will change for the same smiles in difference smiles list.\n",
        "    return outputs.pooler_output # shape is [len_list, 768] ; torch tensor;"
      ]
    },
    {
      "cell_type": "markdown",
      "metadata": {
        "id": "mDVblNed_Ltx"
      },
      "source": [
        "### divide the test dataset"
      ]
    },
    {
      "cell_type": "code",
      "execution_count": 3,
      "metadata": {
        "id": "CVXbPF5w_Ltx",
        "outputId": "3feb4538-1e51-4f60-9a4b-c2950e32eb4b",
        "colab": {
          "base_uri": "https://localhost:8080/"
        }
      },
      "outputs": [
        {
          "output_type": "stream",
          "name": "stdout",
          "text": [
            "(13336, 5)\n"
          ]
        }
      ],
      "source": [
        "import pandas as pd\n",
        "import numpy as np\n",
        "ESP_test_df = pd.read_csv('ESP_test_df.csv', header= 0)\n",
        "print(ESP_test_df.shape)"
      ]
    },
    {
      "cell_type": "code",
      "execution_count": 4,
      "metadata": {
        "id": "5olfhqro_Ltx",
        "outputId": "e9e6fd4d-06b9-4370-b137-0310e488eec2",
        "colab": {
          "base_uri": "https://localhost:8080/"
        }
      },
      "outputs": [
        {
          "output_type": "stream",
          "name": "stdout",
          "text": [
            "(5628, 1) (7676, 1) (8914, 1)\n"
          ]
        }
      ],
      "source": [
        "enzy_sequence_40 = pd.read_excel('all_sequences_clustered_sequences_40.xlsx', header= 0)\n",
        "enzy_sequence_60 = pd.read_excel('all_sequences_clustered_sequences_60.xlsx', header= 0)\n",
        "enzy_sequence_80 = pd.read_excel('all_sequences_clustered_sequences_80.xlsx', header= 0)\n",
        "print(enzy_sequence_40.shape,enzy_sequence_60.shape,enzy_sequence_80.shape)\n"
      ]
    },
    {
      "cell_type": "code",
      "execution_count": null,
      "metadata": {
        "id": "32SkNXbc_Ltx"
      },
      "outputs": [],
      "source": [
        "df_enzy_40_pairs = pd.DataFrame()\n",
        "df_enzy_60_pairs = pd.DataFrame()\n",
        "df_enzy_80_pairs = pd.DataFrame()\n",
        "# extract the row with 40 similarity seqeunces\n",
        "for seq in enzy_sequence_80['sequence']:\n",
        "    count = ESP_test_df[ESP_test_df['Protein sequence'] == seq].shape[0] # check whether the seqeunce is in the test dataset\n",
        "    # print(count)\n",
        "    # print(ESP_test_df[ESP_test_df['Protein sequence'] == seq])\n",
        "    if count > 0 : # if this sequence is existed\n",
        "        df_enzy_80_pairs = pd.concat([df_enzy_80_pairs,ESP_test_df[ESP_test_df['Protein sequence'] == seq]],axis = 0)\n",
        "\n",
        "# extract the row with 40 similarity seqeunces\n",
        "for seq in enzy_sequence_60['sequence']:\n",
        "    count = ESP_test_df[ESP_test_df['Protein sequence'] == seq].shape[0] # check whether the seqeunce is in the test dataset\n",
        "    # print(count)\n",
        "    # print(ESP_test_df[ESP_test_df['Protein sequence'] == seq])\n",
        "    if count > 0 : # if this sequence is existed\n",
        "        df_enzy_60_pairs = pd.concat([df_enzy_60_pairs,ESP_test_df[ESP_test_df['Protein sequence'] == seq]],axis = 0)\n",
        "\n",
        "# extract the row with 40 similarity seqeunces\n",
        "for seq in enzy_sequence_40['sequence']:\n",
        "    count = ESP_test_df[ESP_test_df['Protein sequence'] == seq].shape[0] # check whether the seqeunce is in the test dataset\n",
        "    # print(count)\n",
        "    # print(ESP_test_df[ESP_test_df['Protein sequence'] == seq])\n",
        "    if count > 0 : # if this sequence is existed\n",
        "        df_enzy_40_pairs = pd.concat([df_enzy_40_pairs,ESP_test_df[ESP_test_df['Protein sequence'] == seq]],axis = 0)\n"
      ]
    },
    {
      "cell_type": "code",
      "execution_count": null,
      "metadata": {
        "id": "Bf2hooua_Ltx"
      },
      "outputs": [],
      "source": [
        "df_only_less_40 = df_enzy_40_pairs[['Protein sequence', 'SMILES']]\n",
        "df_only_40_60 = []\n",
        "\n",
        "for i in range(df_enzy_60_pairs.shape[0]):\n",
        "    seq = df_enzy_60_pairs['Protein sequence'].iloc[i]\n",
        "    count = df_enzy_40_pairs[df_enzy_40_pairs['Protein sequence'] == seq].shape[0]\n",
        "    if count == 0 :\n",
        "        df_only_40_60.append(df_enzy_60_pairs.iloc[i])\n",
        "df_only_40_60 = pd.DataFrame(df_only_40_60)\n"
      ]
    },
    {
      "cell_type": "code",
      "execution_count": null,
      "metadata": {
        "id": "UVqVD2RZ_Ltx"
      },
      "outputs": [],
      "source": [
        "df_only_less_40 = df_enzy_40_pairs[['Protein sequence', 'SMILES']]\n",
        "df_only_60_80 = []\n",
        "\n",
        "for i in range(df_enzy_80_pairs.shape[0]):\n",
        "    seq = df_enzy_80_pairs['Protein sequence'].iloc[i]\n",
        "    count = df_enzy_60_pairs[df_enzy_60_pairs['Protein sequence'] == seq].shape[0]\n",
        "    if count == 0 :\n",
        "        df_only_60_80.append(df_enzy_80_pairs.iloc[i])\n",
        "\n",
        "df_only_60_80 = pd.DataFrame(df_only_60_80)"
      ]
    },
    {
      "cell_type": "code",
      "execution_count": null,
      "metadata": {
        "id": "Hdp0rGjh_Ltx"
      },
      "outputs": [],
      "source": [
        "df_only_less_40 = df_enzy_40_pairs\n",
        "df_only_less_40.drop_duplicates().to_csv('enzyme_sequence_lower_40.csv')\n",
        "df_only_40_60.drop_duplicates().to_csv('enzyme_sequence_40_60.csv')\n",
        "df_only_60_80.drop_duplicates().to_csv('enzyme_sequence_60_80.csv')"
      ]
    },
    {
      "cell_type": "markdown",
      "source": [
        "### further divide the dataset based on the small molecule occurance"
      ],
      "metadata": {
        "id": "MLaqqCKrD7iN"
      }
    },
    {
      "cell_type": "code",
      "source": [
        "import os\n",
        "os.chdir('/content/drive/MyDrive/EC_number_kroll/analyze_final_model')"
      ],
      "metadata": {
        "id": "a9nCZvzvR3nk"
      },
      "execution_count": 14,
      "outputs": []
    },
    {
      "cell_type": "code",
      "source": [
        "import pandas as pd\n",
        "df_only_less_40 = pd.read_csv('enzyme_sequence_lower_40.csv')\n",
        "df_only_40_60 = pd.read_csv('enzyme_sequence_40_60.csv')\n",
        "df_only_60_80 = pd.read_csv('enzyme_sequence_60_80.csv')\n",
        "print(df_only_less_40.shape)\n",
        "print(df_only_40_60.shape)\n",
        "print(df_only_60_80.shape)\n"
      ],
      "metadata": {
        "colab": {
          "base_uri": "https://localhost:8080/"
        },
        "id": "hXFIx1T5EQR2",
        "outputId": "0712e2d6-20c4-4e64-fb13-b1ec2477bef2"
      },
      "execution_count": 15,
      "outputs": [
        {
          "output_type": "stream",
          "name": "stdout",
          "text": [
            "(6396, 6)\n",
            "(2708, 6)\n",
            "(1653, 6)\n"
          ]
        }
      ]
    },
    {
      "cell_type": "code",
      "source": [
        "# read the training dataset\n",
        "ESP_train_df = pd.read_csv('ESP_train_df.csv', header= 0)\n"
      ],
      "metadata": {
        "id": "JeQUzt09FIn1"
      },
      "execution_count": 16,
      "outputs": []
    },
    {
      "cell_type": "markdown",
      "source": [
        "### enzyme_sequence_lower_40"
      ],
      "metadata": {
        "id": "1QP5WWHzUrzm"
      }
    },
    {
      "cell_type": "markdown",
      "source": [
        "#### split the dataset"
      ],
      "metadata": {
        "id": "H2sUabbBJL0V"
      }
    },
    {
      "cell_type": "code",
      "source": [
        "# extract all the smiles\n",
        "df_0 = pd.DataFrame()\n",
        "df_1 = pd.DataFrame()\n",
        "df_2 = pd.DataFrame()\n",
        "df_3 = pd.DataFrame()\n",
        "df_4 = pd.DataFrame()\n",
        "df_5 = pd.DataFrame()\n",
        "df_6 = pd.DataFrame()\n",
        "df_7 = pd.DataFrame()\n",
        "df_8 = pd.DataFrame()\n",
        "df_9 = pd.DataFrame()\n",
        "df_10 = pd.DataFrame()\n",
        "df_11 = pd.DataFrame()\n",
        "a = 0\n",
        "a_0 = 0\n",
        "a_1 = 0\n",
        "a_2 = 0\n",
        "a_3 = 0\n",
        "a_4 = 0\n",
        "a_5 = 0\n",
        "a_6 = 0\n",
        "a_7 = 0\n",
        "a_8 = 0\n",
        "a_9 = 0\n",
        "a_10 = 0\n",
        "a_11 = 0\n",
        "for smiles in df_only_less_40['SMILES']:\n",
        "    count = ESP_train_df[ESP_train_df['SMILES'] ==smiles].shape[0] # just check whether the smiles exist in the ESP_train dataset\n",
        "    a = a + 1\n",
        "    if count == 0: # means the smiles have not occur in the train dataset.\n",
        "        df_0 = pd.concat([df_0,df_only_less_40[df_only_less_40['SMILES'] ==smiles]], axis = 0).drop_duplicates()\n",
        "        a_0 = a_0 + 1\n",
        "    elif 0 < count <11 :\n",
        "        df_1 = pd.concat([df_1,df_only_less_40[df_only_less_40['SMILES'] ==smiles]], axis = 0).drop_duplicates()\n",
        "        a_1 = a_1 + 1\n",
        "    elif count > 10:\n",
        "        df_11 = pd.concat([df_11,df_only_less_40[df_only_less_40['SMILES'] ==smiles]], axis = 0).drop_duplicates()\n",
        "        a_11 = a_11 + 1"
      ],
      "metadata": {
        "id": "JxjzyVXAo_ZG"
      },
      "execution_count": 40,
      "outputs": []
    },
    {
      "cell_type": "code",
      "source": [
        "print(df_0.shape, df_1.shape, df_11.shape)"
      ],
      "metadata": {
        "colab": {
          "base_uri": "https://localhost:8080/"
        },
        "id": "D6NBOUQ4pI6Y",
        "outputId": "9e8e8354-bef4-4cf0-a4af-8f21145a5d31"
      },
      "execution_count": 41,
      "outputs": [
        {
          "output_type": "stream",
          "name": "stdout",
          "text": [
            "(331, 6) (442, 6) (5623, 6)\n"
          ]
        }
      ]
    },
    {
      "cell_type": "code",
      "source": [
        "# # extract all the smiles\n",
        "# df_0 = pd.DataFrame()\n",
        "# df_1 = pd.DataFrame()\n",
        "# df_2 = pd.DataFrame()\n",
        "# df_3 = pd.DataFrame()\n",
        "# df_4 = pd.DataFrame()\n",
        "# df_5 = pd.DataFrame()\n",
        "# df_6 = pd.DataFrame()\n",
        "# df_7 = pd.DataFrame()\n",
        "# df_8 = pd.DataFrame()\n",
        "# df_9 = pd.DataFrame()\n",
        "# df_10 = pd.DataFrame()\n",
        "# df_11 = pd.DataFrame()\n",
        "# a = 0\n",
        "# a_0 = 0\n",
        "# a_1 = 0\n",
        "# a_2 = 0\n",
        "# a_3 = 0\n",
        "# a_4 = 0\n",
        "# a_5 = 0\n",
        "# a_6 = 0\n",
        "# a_7 = 0\n",
        "# a_8 = 0\n",
        "# a_9 = 0\n",
        "# a_10 = 0\n",
        "# a_11 = 0\n",
        "# for smiles in df_only_less_40['SMILES']:\n",
        "#     count = ESP_train_df[ESP_train_df['SMILES'] ==smiles].shape[0] # just check whether the smiles exist in the ESP_train dataset\n",
        "#     a = a + 1\n",
        "#     if count == 0: # means the smiles have not occur in the train dataset.\n",
        "#         df_0 = pd.concat([df_0,df_only_less_40[df_only_less_40['SMILES'] ==smiles]], axis = 0).drop_duplicates()\n",
        "#         a_0 = a_0 + 1\n",
        "#     elif count == 1:\n",
        "#         df_1 = pd.concat([df_1,df_only_less_40[df_only_less_40['SMILES'] ==smiles]], axis = 0).drop_duplicates()\n",
        "#         a_1 = a_1 + 1\n",
        "#     elif count == 2:\n",
        "#         df_2 = pd.concat([df_2,df_only_less_40[df_only_less_40['SMILES'] ==smiles]], axis = 0).drop_duplicates()\n",
        "#         a_2 = a_2 + 1\n",
        "#     elif count == 3:\n",
        "#         df_3 = pd.concat([df_3,df_only_less_40[df_only_less_40['SMILES'] ==smiles]], axis = 0).drop_duplicates()\n",
        "#         a_3 = a_3 + 1\n",
        "#     elif count == 4:\n",
        "#         df_4 = pd.concat([df_4,df_only_less_40[df_only_less_40['SMILES'] ==smiles]], axis = 0).drop_duplicates()\n",
        "#         a_4 = a_4 + 1\n",
        "#     elif count == 5:\n",
        "#         df_5 = pd.concat([df_5,df_only_less_40[df_only_less_40['SMILES'] ==smiles]], axis = 0).drop_duplicates()\n",
        "#         a_5 = a_5 + 1\n",
        "#     elif count == 6:\n",
        "#         df_6 = pd.concat([df_6,df_only_less_40[df_only_less_40['SMILES'] ==smiles]], axis = 0).drop_duplicates()\n",
        "#         a_6 = a_6 + 1\n",
        "#     elif count == 7:\n",
        "#         df_7 = pd.concat([df_7,df_only_less_40[df_only_less_40['SMILES'] ==smiles]], axis = 0).drop_duplicates()\n",
        "#         a_7 = a_7 + 1\n",
        "#     elif count == 8:\n",
        "#         df_8 = pd.concat([df_8,df_only_less_40[df_only_less_40['SMILES'] ==smiles]], axis = 0).drop_duplicates()\n",
        "#         a_8 = a_8 + 1\n",
        "#     elif count == 9:\n",
        "#         df_9 = pd.concat([df_9,df_only_less_40[df_only_less_40['SMILES'] ==smiles]], axis = 0).drop_duplicates()\n",
        "#         a_9 = a_9 + 1\n",
        "#     elif count == 10:\n",
        "#         df_10 = pd.concat([df_10,df_only_less_40[df_only_less_40['SMILES'] ==smiles]], axis = 0).drop_duplicates()\n",
        "#         a_10 = a_10 + 1\n",
        "#     elif count > 10:\n",
        "#         df_11 = pd.concat([df_11,df_only_less_40[df_only_less_40['SMILES'] ==smiles]], axis = 0).drop_duplicates()\n",
        "#         a_11 = a_11 + 1"
      ],
      "metadata": {
        "id": "L_hve3q7FP_q"
      },
      "execution_count": 42,
      "outputs": []
    },
    {
      "cell_type": "markdown",
      "source": [
        "#### generate embeddings"
      ],
      "metadata": {
        "id": "gevWIZp2IeLE"
      }
    },
    {
      "cell_type": "code",
      "source": [
        "import numpy as np\n",
        "import pandas as pd\n",
        "import esm\n",
        "model, alphabet = esm.pretrained.esm2_t36_3B_UR50D()"
      ],
      "metadata": {
        "colab": {
          "base_uri": "https://localhost:8080/"
        },
        "id": "njIhwPUeoapO",
        "outputId": "a550cd86-46dd-41a2-e974-cfbe6f9c9d56"
      },
      "execution_count": 23,
      "outputs": [
        {
          "output_type": "stream",
          "name": "stderr",
          "text": [
            "Downloading: \"https://dl.fbaipublicfiles.com/fair-esm/models/esm2_t36_3B_UR50D.pt\" to /root/.cache/torch/hub/checkpoints/esm2_t36_3B_UR50D.pt\n",
            "Downloading: \"https://dl.fbaipublicfiles.com/fair-esm/regression/esm2_t36_3B_UR50D-contact-regression.pt\" to /root/.cache/torch/hub/checkpoints/esm2_t36_3B_UR50D-contact-regression.pt\n"
          ]
        }
      ]
    },
    {
      "cell_type": "code",
      "source": [
        "# generate the peptide embeddings\n",
        "embeddings_results_enzy = []\n",
        "embeddings_results_smiles = []\n",
        "embeddings_results_label = []\n",
        "for i in range(df_0.shape[0]):\n",
        "    seq_enzy = df_0['Protein sequence'].iloc[i]\n",
        "    seq_smiles = df_0['SMILES'].iloc[i]\n",
        "    if len(seq_enzy) < 5500:\n",
        "        # print(len(seq_enzy))\n",
        "        tuple_sequence = tuple(['protein',seq_enzy])\n",
        "        peptide_sequence_list = []\n",
        "        peptide_sequence_list.append(tuple_sequence) # build a summarize list variable including all the sequence information\n",
        "        # employ ESM model for converting and save the converted data in csv format\n",
        "        one_seq_embeddings = esm_embeddings_2560(model, alphabet, peptide_sequence_list)\n",
        "        embeddings_results_enzy.append(one_seq_embeddings)\n",
        "        # the smiles embeddings\n",
        "        smiles_list = []\n",
        "        smiles_list.append(Chem.CanonSmiles(seq_smiles)) # build a summarize list variable including all the sequence information\n",
        "        # employ ESM model for converting and save the converted data in csv format\n",
        "        one_seq_embeddings = MolFormer_embedding(model_smiles, tokenizer, smiles_list)\n",
        "        embeddings_results_smiles.append(one_seq_embeddings)\n",
        "        # record the lable info\n",
        "        label = torch.tensor(df_0['output'].iloc[i], dtype=torch.float32).unsqueeze(0).unsqueeze(0)\n",
        "        embeddings_results_label.append(label)\n",
        "\n",
        "embeddings_results_enzy_torch = torch.cat(embeddings_results_enzy, dim=0)\n",
        "torch.save(embeddings_results_enzy_torch, 'ESP_test_df_enzy_0_occurance_df_0.pt')\n",
        "\n",
        "embeddings_results_smiles_torch = torch.cat(embeddings_results_smiles, dim=0)\n",
        "torch.save(embeddings_results_smiles_torch, 'ESP_test_df_smiles_0_occurance_df_0.pt')\n",
        "\n",
        "embeddings_results_label_torch = torch.cat(embeddings_results_label, dim=0)\n",
        "torch.save(embeddings_results_label_torch, 'ESP_test_df_label_0_occurance_df_0.pt')\n",
        "print(embeddings_results_enzy_torch.shape)\n",
        "print(embeddings_results_smiles_torch.shape)\n",
        "print(embeddings_results_label_torch.shape)"
      ],
      "metadata": {
        "colab": {
          "base_uri": "https://localhost:8080/"
        },
        "id": "jkLDoLqTFwz7",
        "outputId": "5e4cf12f-17fc-4389-e3fc-db6abfe380e6"
      },
      "execution_count": 21,
      "outputs": [
        {
          "output_type": "stream",
          "name": "stdout",
          "text": [
            "torch.Size([331, 2560])\n",
            "torch.Size([331, 768])\n",
            "torch.Size([331, 1])\n"
          ]
        }
      ]
    },
    {
      "cell_type": "code",
      "source": [
        "import torch\n",
        "from torch.utils.data import TensorDataset, DataLoader\n",
        "ESP_test_df_enzy = torch.load('ESP_test_df_enzy_0_occurance_df_0.pt')\n",
        "ESP_test_df_smiles = torch.load('ESP_test_df_smiles_0_occurance_df_0.pt')\n",
        "y_test = torch.load('ESP_test_df_label_0_occurance_df_0.pt')\n",
        "test_tensor_dataset = TensorDataset(ESP_test_df_enzy, ESP_test_df_smiles, y_test)\n",
        "# Create TensorDataset and DataLoaders\n",
        "batch_size = 16\n",
        "test_loader = DataLoader(test_tensor_dataset, batch_size=batch_size, shuffle=False)\n",
        "\n",
        "run_validation(model_test,test_loader,loss_fn, device)"
      ],
      "metadata": {
        "colab": {
          "base_uri": "https://localhost:8080/"
        },
        "id": "AGRO1v_HT3CS",
        "outputId": "79c47311-f732-42ca-a2f4-86f00d3b48c0"
      },
      "execution_count": 39,
      "outputs": [
        {
          "output_type": "stream",
          "name": "stdout",
          "text": [
            "loss_sum=  0.18701924631992975 ACC=  0.7613293051359517 bacc=  0.605144149236857 precision=  0.6 specificity=  0.9344262295081968 sensitivity=  0.27586206896551724 recall=  0.27586206896551724 MCC=  0.28398353196087045 AUC=  0.6871584699453552 f1=  0.3779527559055118\n"
          ]
        },
        {
          "output_type": "stream",
          "name": "stderr",
          "text": [
            "<ipython-input-39-31c7237691dd>:3: FutureWarning: You are using `torch.load` with `weights_only=False` (the current default value), which uses the default pickle module implicitly. It is possible to construct malicious pickle data which will execute arbitrary code during unpickling (See https://github.com/pytorch/pytorch/blob/main/SECURITY.md#untrusted-models for more details). In a future release, the default value for `weights_only` will be flipped to `True`. This limits the functions that could be executed during unpickling. Arbitrary objects will no longer be allowed to be loaded via this mode unless they are explicitly allowlisted by the user via `torch.serialization.add_safe_globals`. We recommend you start setting `weights_only=True` for any use case where you don't have full control of the loaded file. Please open an issue on GitHub for any issues related to this experimental feature.\n",
            "  ESP_test_df_enzy = torch.load('ESP_test_df_enzy_0_occurance_df_0.pt')\n",
            "<ipython-input-39-31c7237691dd>:4: FutureWarning: You are using `torch.load` with `weights_only=False` (the current default value), which uses the default pickle module implicitly. It is possible to construct malicious pickle data which will execute arbitrary code during unpickling (See https://github.com/pytorch/pytorch/blob/main/SECURITY.md#untrusted-models for more details). In a future release, the default value for `weights_only` will be flipped to `True`. This limits the functions that could be executed during unpickling. Arbitrary objects will no longer be allowed to be loaded via this mode unless they are explicitly allowlisted by the user via `torch.serialization.add_safe_globals`. We recommend you start setting `weights_only=True` for any use case where you don't have full control of the loaded file. Please open an issue on GitHub for any issues related to this experimental feature.\n",
            "  ESP_test_df_smiles = torch.load('ESP_test_df_smiles_0_occurance_df_0.pt')\n",
            "<ipython-input-39-31c7237691dd>:5: FutureWarning: You are using `torch.load` with `weights_only=False` (the current default value), which uses the default pickle module implicitly. It is possible to construct malicious pickle data which will execute arbitrary code during unpickling (See https://github.com/pytorch/pytorch/blob/main/SECURITY.md#untrusted-models for more details). In a future release, the default value for `weights_only` will be flipped to `True`. This limits the functions that could be executed during unpickling. Arbitrary objects will no longer be allowed to be loaded via this mode unless they are explicitly allowlisted by the user via `torch.serialization.add_safe_globals`. We recommend you start setting `weights_only=True` for any use case where you don't have full control of the loaded file. Please open an issue on GitHub for any issues related to this experimental feature.\n",
            "  y_test = torch.load('ESP_test_df_label_0_occurance_df_0.pt')\n"
          ]
        },
        {
          "output_type": "execute_result",
          "data": {
            "text/plain": [
              "(0.18701924631992975, 0.7613293051359517, 0.605144149236857, 228, 16, 63, 24)"
            ]
          },
          "metadata": {},
          "execution_count": 39
        }
      ]
    },
    {
      "cell_type": "code",
      "source": [
        "# generate the peptide embeddings\n",
        "embeddings_results_enzy = []\n",
        "embeddings_results_smiles = []\n",
        "embeddings_results_label = []\n",
        "for i in range(df_1.shape[0]):\n",
        "    seq_enzy = df_1['Protein sequence'].iloc[i]\n",
        "    seq_smiles = df_1['SMILES'].iloc[i]\n",
        "    if len(seq_enzy) < 5500:\n",
        "        # print(len(seq_enzy))\n",
        "        tuple_sequence = tuple(['protein',seq_enzy])\n",
        "        peptide_sequence_list = []\n",
        "        peptide_sequence_list.append(tuple_sequence) # build a summarize list variable including all the sequence information\n",
        "        # employ ESM model for converting and save the converted data in csv format\n",
        "        one_seq_embeddings = esm_embeddings_2560(model, alphabet, peptide_sequence_list)\n",
        "        embeddings_results_enzy.append(one_seq_embeddings)\n",
        "        # the smiles embeddings\n",
        "        smiles_list = []\n",
        "        smiles_list.append(Chem.CanonSmiles(seq_smiles)) # build a summarize list variable including all the sequence information\n",
        "        # employ ESM model for converting and save the converted data in csv format\n",
        "        one_seq_embeddings = MolFormer_embedding(model_smiles, tokenizer, smiles_list)\n",
        "        embeddings_results_smiles.append(one_seq_embeddings)\n",
        "        # record the lable info\n",
        "        label = torch.tensor(df_1['output'].iloc[i], dtype=torch.float32).unsqueeze(0).unsqueeze(0)\n",
        "        embeddings_results_label.append(label)\n",
        "\n",
        "embeddings_results_enzy_torch = torch.cat(embeddings_results_enzy, dim=0)\n",
        "torch.save(embeddings_results_enzy_torch, 'ESP_test_df_enzy_0_occurance_df_1.pt')\n",
        "\n",
        "embeddings_results_smiles_torch = torch.cat(embeddings_results_smiles, dim=0)\n",
        "torch.save(embeddings_results_smiles_torch, 'ESP_test_df_smiles_0_occurance_df_1.pt')\n",
        "\n",
        "embeddings_results_label_torch = torch.cat(embeddings_results_label, dim=0)\n",
        "torch.save(embeddings_results_label_torch, 'ESP_test_df_label_0_occurance_df_1.pt')\n",
        "print(embeddings_results_enzy_torch.shape)\n",
        "print(embeddings_results_smiles_torch.shape)\n",
        "print(embeddings_results_label_torch.shape)\n"
      ],
      "metadata": {
        "colab": {
          "base_uri": "https://localhost:8080/"
        },
        "id": "zOid0c_TCrgN",
        "outputId": "d6a65e30-0c54-4bd6-a872-dd47abcd25b8"
      },
      "execution_count": 44,
      "outputs": [
        {
          "output_type": "stream",
          "name": "stdout",
          "text": [
            "torch.Size([442, 2560])\n",
            "torch.Size([442, 768])\n",
            "torch.Size([442, 1])\n"
          ]
        }
      ]
    },
    {
      "cell_type": "code",
      "source": [
        "import torch\n",
        "from torch.utils.data import TensorDataset, DataLoader\n",
        "ESP_test_df_enzy = torch.load('ESP_test_df_enzy_0_occurance_df_1.pt')\n",
        "ESP_test_df_smiles = torch.load('ESP_test_df_smiles_0_occurance_df_1.pt')\n",
        "y_test = torch.load('ESP_test_df_label_0_occurance_df_1.pt')\n",
        "test_tensor_dataset = TensorDataset(ESP_test_df_enzy, ESP_test_df_smiles, y_test)\n",
        "# Create TensorDataset and DataLoaders\n",
        "batch_size = 16\n",
        "test_loader = DataLoader(test_tensor_dataset, batch_size=batch_size, shuffle=False)\n",
        "\n",
        "run_validation(model_test,test_loader,loss_fn, device)"
      ],
      "metadata": {
        "colab": {
          "base_uri": "https://localhost:8080/"
        },
        "id": "4itBXGiqCt-U",
        "outputId": "46a37f74-338e-4866-ae90-109e45428743"
      },
      "execution_count": 45,
      "outputs": [
        {
          "output_type": "stream",
          "name": "stdout",
          "text": [
            "loss_sum=  0.0850506394635886 ACC=  0.9072398190045249 bacc=  0.8309504034171808 precision=  0.8607594936708861 specificity=  0.9680232558139535 sensitivity=  0.6938775510204082 recall=  0.6938775510204082 MCC=  0.7176592905632362 AUC=  0.9121381110583768 f1=  0.768361581920904\n"
          ]
        },
        {
          "output_type": "stream",
          "name": "stderr",
          "text": [
            "<ipython-input-45-00797ca7ac60>:3: FutureWarning: You are using `torch.load` with `weights_only=False` (the current default value), which uses the default pickle module implicitly. It is possible to construct malicious pickle data which will execute arbitrary code during unpickling (See https://github.com/pytorch/pytorch/blob/main/SECURITY.md#untrusted-models for more details). In a future release, the default value for `weights_only` will be flipped to `True`. This limits the functions that could be executed during unpickling. Arbitrary objects will no longer be allowed to be loaded via this mode unless they are explicitly allowlisted by the user via `torch.serialization.add_safe_globals`. We recommend you start setting `weights_only=True` for any use case where you don't have full control of the loaded file. Please open an issue on GitHub for any issues related to this experimental feature.\n",
            "  ESP_test_df_enzy = torch.load('ESP_test_df_enzy_0_occurance_df_1.pt')\n",
            "<ipython-input-45-00797ca7ac60>:4: FutureWarning: You are using `torch.load` with `weights_only=False` (the current default value), which uses the default pickle module implicitly. It is possible to construct malicious pickle data which will execute arbitrary code during unpickling (See https://github.com/pytorch/pytorch/blob/main/SECURITY.md#untrusted-models for more details). In a future release, the default value for `weights_only` will be flipped to `True`. This limits the functions that could be executed during unpickling. Arbitrary objects will no longer be allowed to be loaded via this mode unless they are explicitly allowlisted by the user via `torch.serialization.add_safe_globals`. We recommend you start setting `weights_only=True` for any use case where you don't have full control of the loaded file. Please open an issue on GitHub for any issues related to this experimental feature.\n",
            "  ESP_test_df_smiles = torch.load('ESP_test_df_smiles_0_occurance_df_1.pt')\n",
            "<ipython-input-45-00797ca7ac60>:5: FutureWarning: You are using `torch.load` with `weights_only=False` (the current default value), which uses the default pickle module implicitly. It is possible to construct malicious pickle data which will execute arbitrary code during unpickling (See https://github.com/pytorch/pytorch/blob/main/SECURITY.md#untrusted-models for more details). In a future release, the default value for `weights_only` will be flipped to `True`. This limits the functions that could be executed during unpickling. Arbitrary objects will no longer be allowed to be loaded via this mode unless they are explicitly allowlisted by the user via `torch.serialization.add_safe_globals`. We recommend you start setting `weights_only=True` for any use case where you don't have full control of the loaded file. Please open an issue on GitHub for any issues related to this experimental feature.\n",
            "  y_test = torch.load('ESP_test_df_label_0_occurance_df_1.pt')\n"
          ]
        },
        {
          "output_type": "execute_result",
          "data": {
            "text/plain": [
              "(0.0850506394635886, 0.9072398190045249, 0.8309504034171808, 333, 11, 30, 68)"
            ]
          },
          "metadata": {},
          "execution_count": 45
        }
      ]
    },
    {
      "cell_type": "code",
      "source": [
        "# generate the peptide embeddings\n",
        "embeddings_results_enzy = []\n",
        "embeddings_results_smiles = []\n",
        "embeddings_results_label = []\n",
        "for i in range(df_11.shape[0]):\n",
        "    seq_enzy = df_11['Protein sequence'].iloc[i]\n",
        "    seq_smiles = df_11['SMILES'].iloc[i]\n",
        "    if len(seq_enzy) < 5500:\n",
        "        # print(len(seq_enzy))\n",
        "        tuple_sequence = tuple(['protein',seq_enzy])\n",
        "        peptide_sequence_list = []\n",
        "        peptide_sequence_list.append(tuple_sequence) # build a summarize list variable including all the sequence information\n",
        "        # employ ESM model for converting and save the converted data in csv format\n",
        "        one_seq_embeddings = esm_embeddings_2560(model, alphabet, peptide_sequence_list)\n",
        "        embeddings_results_enzy.append(one_seq_embeddings)\n",
        "        # the smiles embeddings\n",
        "        smiles_list = []\n",
        "        smiles_list.append(Chem.CanonSmiles(seq_smiles)) # build a summarize list variable including all the sequence information\n",
        "        # employ ESM model for converting and save the converted data in csv format\n",
        "        one_seq_embeddings = MolFormer_embedding(model_smiles, tokenizer, smiles_list)\n",
        "        embeddings_results_smiles.append(one_seq_embeddings)\n",
        "        # record the lable info\n",
        "        label = torch.tensor(df_11['output'].iloc[i], dtype=torch.float32).unsqueeze(0).unsqueeze(0)\n",
        "        embeddings_results_label.append(label)\n",
        "        # print(seq_enzy, seq_smiles)\n",
        "        # print(i)\n",
        "embeddings_results_enzy_torch = torch.cat(embeddings_results_enzy, dim=0)\n",
        "torch.save(embeddings_results_enzy_torch, 'ESP_test_df_enzy_occurance_df_11.pt')\n",
        "\n",
        "embeddings_results_smiles_torch = torch.cat(embeddings_results_smiles, dim=0)\n",
        "torch.save(embeddings_results_smiles_torch, 'ESP_test_df_smiles_occurance_df_11.pt')\n",
        "\n",
        "embeddings_results_label_torch = torch.cat(embeddings_results_label, dim=0)\n",
        "torch.save(embeddings_results_label_torch, 'ESP_test_df_label_occurance_df_11.pt')\n"
      ],
      "metadata": {
        "id": "NSFAxv3zTmk1"
      },
      "execution_count": null,
      "outputs": []
    },
    {
      "cell_type": "code",
      "source": [
        "import torch\n",
        "from torch.utils.data import TensorDataset, DataLoader\n",
        "ESP_test_df_enzy = torch.load('ESP_test_df_enzy_occurance_df_11.pt')\n",
        "ESP_test_df_smiles = torch.load('ESP_test_df_smiles_occurance_df_11.pt')\n",
        "y_test = torch.load('ESP_test_df_label_occurance_df_11.pt')\n",
        "test_tensor_dataset = TensorDataset(ESP_test_df_enzy, ESP_test_df_smiles, y_test)\n",
        "# Create TensorDataset and DataLoaders\n",
        "batch_size = 16\n",
        "test_loader = DataLoader(test_tensor_dataset, batch_size=batch_size, shuffle=False)\n",
        "\n",
        "run_validation(model_test,test_loader,loss_fn, device)"
      ],
      "metadata": {
        "colab": {
          "base_uri": "https://localhost:8080/"
        },
        "id": "jXt_AqIAmkfp",
        "outputId": "e010b6a1-d8bb-4826-8dd9-9b0eac71928e"
      },
      "execution_count": 44,
      "outputs": [
        {
          "output_type": "stream",
          "name": "stderr",
          "text": [
            "<ipython-input-44-bdbee590a1a8>:3: FutureWarning: You are using `torch.load` with `weights_only=False` (the current default value), which uses the default pickle module implicitly. It is possible to construct malicious pickle data which will execute arbitrary code during unpickling (See https://github.com/pytorch/pytorch/blob/main/SECURITY.md#untrusted-models for more details). In a future release, the default value for `weights_only` will be flipped to `True`. This limits the functions that could be executed during unpickling. Arbitrary objects will no longer be allowed to be loaded via this mode unless they are explicitly allowlisted by the user via `torch.serialization.add_safe_globals`. We recommend you start setting `weights_only=True` for any use case where you don't have full control of the loaded file. Please open an issue on GitHub for any issues related to this experimental feature.\n",
            "  ESP_test_df_enzy = torch.load('ESP_test_df_enzy_occurance_df_11.pt')\n",
            "<ipython-input-44-bdbee590a1a8>:4: FutureWarning: You are using `torch.load` with `weights_only=False` (the current default value), which uses the default pickle module implicitly. It is possible to construct malicious pickle data which will execute arbitrary code during unpickling (See https://github.com/pytorch/pytorch/blob/main/SECURITY.md#untrusted-models for more details). In a future release, the default value for `weights_only` will be flipped to `True`. This limits the functions that could be executed during unpickling. Arbitrary objects will no longer be allowed to be loaded via this mode unless they are explicitly allowlisted by the user via `torch.serialization.add_safe_globals`. We recommend you start setting `weights_only=True` for any use case where you don't have full control of the loaded file. Please open an issue on GitHub for any issues related to this experimental feature.\n",
            "  ESP_test_df_smiles = torch.load('ESP_test_df_smiles_occurance_df_11.pt')\n",
            "<ipython-input-44-bdbee590a1a8>:5: FutureWarning: You are using `torch.load` with `weights_only=False` (the current default value), which uses the default pickle module implicitly. It is possible to construct malicious pickle data which will execute arbitrary code during unpickling (See https://github.com/pytorch/pytorch/blob/main/SECURITY.md#untrusted-models for more details). In a future release, the default value for `weights_only` will be flipped to `True`. This limits the functions that could be executed during unpickling. Arbitrary objects will no longer be allowed to be loaded via this mode unless they are explicitly allowlisted by the user via `torch.serialization.add_safe_globals`. We recommend you start setting `weights_only=True` for any use case where you don't have full control of the loaded file. Please open an issue on GitHub for any issues related to this experimental feature.\n",
            "  y_test = torch.load('ESP_test_df_label_occurance_df_11.pt')\n"
          ]
        },
        {
          "output_type": "stream",
          "name": "stdout",
          "text": [
            "loss_sum=  0.053861477853471035 ACC=  0.9425573537257692 bacc=  0.9060093738731783 precision=  0.954337899543379 specificity=  0.9853872381880175 sensitivity=  0.8266315095583389 recall=  0.8266315095583389 MCC=  0.8516916501778575 AUC=  0.9606470072415209 f1=  0.8859060402684563\n"
          ]
        },
        {
          "output_type": "execute_result",
          "data": {
            "text/plain": [
              "(0.053861477853471035,\n",
              " 0.9425573537257692,\n",
              " 0.9060093738731783,\n",
              " 4046,\n",
              " 60,\n",
              " 263,\n",
              " 1254)"
            ]
          },
          "metadata": {},
          "execution_count": 44
        }
      ]
    },
    {
      "cell_type": "markdown",
      "source": [
        "### df_only_40_60"
      ],
      "metadata": {
        "id": "T41IhI8qUxaQ"
      }
    },
    {
      "cell_type": "markdown",
      "source": [
        "#### split the dataset"
      ],
      "metadata": {
        "id": "1hamXYoKpkXc"
      }
    },
    {
      "cell_type": "code",
      "source": [
        "# extract all the smiles\n",
        "df_0 = pd.DataFrame()\n",
        "df_1 = pd.DataFrame()\n",
        "df_2 = pd.DataFrame()\n",
        "df_3 = pd.DataFrame()\n",
        "df_4 = pd.DataFrame()\n",
        "df_5 = pd.DataFrame()\n",
        "df_6 = pd.DataFrame()\n",
        "df_7 = pd.DataFrame()\n",
        "df_8 = pd.DataFrame()\n",
        "df_9 = pd.DataFrame()\n",
        "df_10 = pd.DataFrame()\n",
        "df_11 = pd.DataFrame()\n",
        "a = 0\n",
        "a_0 = 0\n",
        "a_1 = 0\n",
        "a_2 = 0\n",
        "a_3 = 0\n",
        "a_4 = 0\n",
        "a_5 = 0\n",
        "a_6 = 0\n",
        "a_7 = 0\n",
        "a_8 = 0\n",
        "a_9 = 0\n",
        "a_10 = 0\n",
        "a_11 = 0\n",
        "for smiles in df_only_40_60['SMILES']:\n",
        "    count = ESP_train_df[ESP_train_df['SMILES'] ==smiles].shape[0] # just check whether the smiles exist in the ESP_train dataset\n",
        "    a = a + 1\n",
        "    if count == 0: # means the smiles have not occur in the train dataset.\n",
        "        df_0 = pd.concat([df_0,df_only_40_60[df_only_40_60['SMILES'] ==smiles]], axis = 0).drop_duplicates()\n",
        "        a_0 = a_0 + 1\n",
        "    elif 0 < count <11 :\n",
        "        df_1 = pd.concat([df_1,df_only_40_60[df_only_40_60['SMILES'] ==smiles]], axis = 0).drop_duplicates()\n",
        "        a_1 = a_1 + 1\n",
        "    elif count > 10:\n",
        "        df_11 = pd.concat([df_11,df_only_40_60[df_only_40_60['SMILES'] ==smiles]], axis = 0).drop_duplicates()\n",
        "        a_11 = a_11 + 1"
      ],
      "metadata": {
        "id": "u2bnpPMxpkXc"
      },
      "execution_count": 31,
      "outputs": []
    },
    {
      "cell_type": "code",
      "source": [
        "print(df_0.shape, df_1.shape, df_11.shape)"
      ],
      "metadata": {
        "colab": {
          "base_uri": "https://localhost:8080/"
        },
        "outputId": "e8ae9892-a521-47ab-c46b-1f822608c5be",
        "id": "cai_p2cVpkXc"
      },
      "execution_count": 32,
      "outputs": [
        {
          "output_type": "stream",
          "name": "stdout",
          "text": [
            "(114, 6) (189, 6) (2405, 6)\n"
          ]
        }
      ]
    },
    {
      "cell_type": "markdown",
      "source": [
        "#### generate embeddings"
      ],
      "metadata": {
        "id": "-PXEW1RqpkXd"
      }
    },
    {
      "cell_type": "code",
      "source": [
        "import numpy as np\n",
        "import pandas as pd\n",
        "import esm\n",
        "model, alphabet = esm.pretrained.esm2_t36_3B_UR50D()"
      ],
      "metadata": {
        "id": "AUJeJcXGpkXd"
      },
      "execution_count": 47,
      "outputs": []
    },
    {
      "cell_type": "code",
      "source": [
        "# generate the peptide embeddings\n",
        "embeddings_results_enzy = []\n",
        "embeddings_results_smiles = []\n",
        "embeddings_results_label = []\n",
        "for i in range(df_0.shape[0]):\n",
        "    seq_enzy = df_0['Protein sequence'].iloc[i]\n",
        "    seq_smiles = df_0['SMILES'].iloc[i]\n",
        "    if len(seq_enzy) < 5500:\n",
        "        # print(len(seq_enzy))\n",
        "        tuple_sequence = tuple(['protein',seq_enzy])\n",
        "        peptide_sequence_list = []\n",
        "        peptide_sequence_list.append(tuple_sequence) # build a summarize list variable including all the sequence information\n",
        "        # employ ESM model for converting and save the converted data in csv format\n",
        "        one_seq_embeddings = esm_embeddings_2560(model, alphabet, peptide_sequence_list)\n",
        "        embeddings_results_enzy.append(one_seq_embeddings)\n",
        "        # the smiles embeddings\n",
        "        smiles_list = []\n",
        "        smiles_list.append(Chem.CanonSmiles(seq_smiles)) # build a summarize list variable including all the sequence information\n",
        "        # employ ESM model for converting and save the converted data in csv format\n",
        "        one_seq_embeddings = MolFormer_embedding(model_smiles, tokenizer, smiles_list)\n",
        "        embeddings_results_smiles.append(one_seq_embeddings)\n",
        "        # record the lable info\n",
        "        label = torch.tensor(df_0['output'].iloc[i], dtype=torch.float32).unsqueeze(0).unsqueeze(0)\n",
        "        embeddings_results_label.append(label)\n",
        "\n",
        "embeddings_results_enzy_torch = torch.cat(embeddings_results_enzy, dim=0)\n",
        "torch.save(embeddings_results_enzy_torch, 'ESP_test_df_enzy_0_occurance_df_0.pt')\n",
        "\n",
        "embeddings_results_smiles_torch = torch.cat(embeddings_results_smiles, dim=0)\n",
        "torch.save(embeddings_results_smiles_torch, 'ESP_test_df_smiles_0_occurance_df_0.pt')\n",
        "\n",
        "embeddings_results_label_torch = torch.cat(embeddings_results_label, dim=0)\n",
        "torch.save(embeddings_results_label_torch, 'ESP_test_df_label_0_occurance_df_0.pt')\n",
        "print(embeddings_results_enzy_torch.shape)\n",
        "print(embeddings_results_smiles_torch.shape)\n",
        "print(embeddings_results_label_torch.shape)"
      ],
      "metadata": {
        "colab": {
          "base_uri": "https://localhost:8080/"
        },
        "outputId": "1c0d50f6-e6ff-43bc-edad-18236ede2468",
        "id": "LxYCU6IQpkXd"
      },
      "execution_count": 48,
      "outputs": [
        {
          "output_type": "stream",
          "name": "stdout",
          "text": [
            "torch.Size([114, 2560])\n",
            "torch.Size([114, 768])\n",
            "torch.Size([114, 1])\n"
          ]
        }
      ]
    },
    {
      "cell_type": "code",
      "source": [
        "import torch\n",
        "from torch.utils.data import TensorDataset, DataLoader\n",
        "ESP_test_df_enzy = torch.load('ESP_test_df_enzy_0_occurance_df_0.pt')\n",
        "ESP_test_df_smiles = torch.load('ESP_test_df_smiles_0_occurance_df_0.pt')\n",
        "y_test = torch.load('ESP_test_df_label_0_occurance_df_0.pt')\n",
        "test_tensor_dataset = TensorDataset(ESP_test_df_enzy, ESP_test_df_smiles, y_test)\n",
        "# Create TensorDataset and DataLoaders\n",
        "batch_size = 16\n",
        "test_loader = DataLoader(test_tensor_dataset, batch_size=batch_size, shuffle=False)\n",
        "\n",
        "run_validation(model_test,test_loader,loss_fn, device)"
      ],
      "metadata": {
        "colab": {
          "base_uri": "https://localhost:8080/"
        },
        "outputId": "96257798-e39b-48bb-8996-de3bc9075ca2",
        "id": "fKnFHSkGpkXd"
      },
      "execution_count": 49,
      "outputs": [
        {
          "output_type": "stream",
          "name": "stdout",
          "text": [
            "loss_sum=  0.166885232552886 ACC=  0.8508771929824561 bacc=  0.640625 precision=  0.5454545454545454 specificity=  0.9479166666666666 sensitivity=  0.3333333333333333 recall=  0.3333333333333333 MCC=  0.34733571745190384 AUC=  0.6660879629629629 f1=  0.41379310344827586\n"
          ]
        },
        {
          "output_type": "stream",
          "name": "stderr",
          "text": [
            "<ipython-input-49-31c7237691dd>:3: FutureWarning: You are using `torch.load` with `weights_only=False` (the current default value), which uses the default pickle module implicitly. It is possible to construct malicious pickle data which will execute arbitrary code during unpickling (See https://github.com/pytorch/pytorch/blob/main/SECURITY.md#untrusted-models for more details). In a future release, the default value for `weights_only` will be flipped to `True`. This limits the functions that could be executed during unpickling. Arbitrary objects will no longer be allowed to be loaded via this mode unless they are explicitly allowlisted by the user via `torch.serialization.add_safe_globals`. We recommend you start setting `weights_only=True` for any use case where you don't have full control of the loaded file. Please open an issue on GitHub for any issues related to this experimental feature.\n",
            "  ESP_test_df_enzy = torch.load('ESP_test_df_enzy_0_occurance_df_0.pt')\n",
            "<ipython-input-49-31c7237691dd>:4: FutureWarning: You are using `torch.load` with `weights_only=False` (the current default value), which uses the default pickle module implicitly. It is possible to construct malicious pickle data which will execute arbitrary code during unpickling (See https://github.com/pytorch/pytorch/blob/main/SECURITY.md#untrusted-models for more details). In a future release, the default value for `weights_only` will be flipped to `True`. This limits the functions that could be executed during unpickling. Arbitrary objects will no longer be allowed to be loaded via this mode unless they are explicitly allowlisted by the user via `torch.serialization.add_safe_globals`. We recommend you start setting `weights_only=True` for any use case where you don't have full control of the loaded file. Please open an issue on GitHub for any issues related to this experimental feature.\n",
            "  ESP_test_df_smiles = torch.load('ESP_test_df_smiles_0_occurance_df_0.pt')\n",
            "<ipython-input-49-31c7237691dd>:5: FutureWarning: You are using `torch.load` with `weights_only=False` (the current default value), which uses the default pickle module implicitly. It is possible to construct malicious pickle data which will execute arbitrary code during unpickling (See https://github.com/pytorch/pytorch/blob/main/SECURITY.md#untrusted-models for more details). In a future release, the default value for `weights_only` will be flipped to `True`. This limits the functions that could be executed during unpickling. Arbitrary objects will no longer be allowed to be loaded via this mode unless they are explicitly allowlisted by the user via `torch.serialization.add_safe_globals`. We recommend you start setting `weights_only=True` for any use case where you don't have full control of the loaded file. Please open an issue on GitHub for any issues related to this experimental feature.\n",
            "  y_test = torch.load('ESP_test_df_label_0_occurance_df_0.pt')\n"
          ]
        },
        {
          "output_type": "execute_result",
          "data": {
            "text/plain": [
              "(0.166885232552886, 0.8508771929824561, 0.640625, 91, 5, 12, 6)"
            ]
          },
          "metadata": {},
          "execution_count": 49
        }
      ]
    },
    {
      "cell_type": "code",
      "source": [
        "# generate the peptide embeddings\n",
        "embeddings_results_enzy = []\n",
        "embeddings_results_smiles = []\n",
        "embeddings_results_label = []\n",
        "\n",
        "for i in range(df_1.shape[0]):\n",
        "    seq_enzy = df_1['Protein sequence'].iloc[i]\n",
        "    seq_smiles = df_1['SMILES'].iloc[i]\n",
        "    if len(seq_enzy) < 5500:\n",
        "        # print(len(seq_enzy))\n",
        "        tuple_sequence = tuple(['protein',seq_enzy])\n",
        "        peptide_sequence_list = []\n",
        "        peptide_sequence_list.append(tuple_sequence) # build a summarize list variable including all the sequence information\n",
        "        # employ ESM model for converting and save the converted data in csv format\n",
        "        one_seq_embeddings = esm_embeddings_2560(model, alphabet, peptide_sequence_list)\n",
        "        embeddings_results_enzy.append(one_seq_embeddings)\n",
        "        # the smiles embeddings\n",
        "        smiles_list = []\n",
        "        smiles_list.append(Chem.CanonSmiles(seq_smiles)) # build a summarize list variable including all the sequence information\n",
        "        # employ ESM model for converting and save the converted data in csv format\n",
        "        one_seq_embeddings = MolFormer_embedding(model_smiles, tokenizer, smiles_list)\n",
        "        embeddings_results_smiles.append(one_seq_embeddings)\n",
        "        # record the lable info\n",
        "        label = torch.tensor(df_1['output'].iloc[i], dtype=torch.float32).unsqueeze(0).unsqueeze(0)\n",
        "        embeddings_results_label.append(label)\n",
        "\n",
        "embeddings_results_enzy_torch = torch.cat(embeddings_results_enzy, dim=0)\n",
        "torch.save(embeddings_results_enzy_torch, 'ESP_test_df_enzy_0_occurance_df_1.pt')\n",
        "\n",
        "embeddings_results_smiles_torch = torch.cat(embeddings_results_smiles, dim=0)\n",
        "torch.save(embeddings_results_smiles_torch, 'ESP_test_df_smiles_0_occurance_df_1.pt')\n",
        "\n",
        "embeddings_results_label_torch = torch.cat(embeddings_results_label, dim=0)\n",
        "torch.save(embeddings_results_label_torch, 'ESP_test_df_label_0_occurance_df_1.pt')\n",
        "print(embeddings_results_enzy_torch.shape)\n",
        "print(embeddings_results_smiles_torch.shape)\n",
        "print(embeddings_results_label_torch.shape)\n"
      ],
      "metadata": {
        "colab": {
          "base_uri": "https://localhost:8080/"
        },
        "id": "Ddmeek40C5vF",
        "outputId": "c8a90814-c2c4-41e6-ce00-afb0e5fdf9ae"
      },
      "execution_count": 33,
      "outputs": [
        {
          "output_type": "stream",
          "name": "stdout",
          "text": [
            "torch.Size([189, 2560])\n",
            "torch.Size([189, 768])\n",
            "torch.Size([189, 1])\n"
          ]
        }
      ]
    },
    {
      "cell_type": "code",
      "source": [
        "import torch\n",
        "from torch.utils.data import TensorDataset, DataLoader\n",
        "ESP_test_df_enzy = torch.load('ESP_test_df_enzy_0_occurance_df_1.pt')\n",
        "ESP_test_df_smiles = torch.load('ESP_test_df_smiles_0_occurance_df_1.pt')\n",
        "y_test = torch.load('ESP_test_df_label_0_occurance_df_1.pt')\n",
        "test_tensor_dataset = TensorDataset(ESP_test_df_enzy, ESP_test_df_smiles, y_test)\n",
        "# Create TensorDataset and DataLoaders\n",
        "batch_size = 16\n",
        "test_loader = DataLoader(test_tensor_dataset, batch_size=batch_size, shuffle=False)\n",
        "\n",
        "run_validation(model_test,test_loader,loss_fn, device)"
      ],
      "metadata": {
        "colab": {
          "base_uri": "https://localhost:8080/"
        },
        "id": "T1hksxCvCgHf",
        "outputId": "64732bf1-2337-41c8-b7b6-12685113d673"
      },
      "execution_count": 39,
      "outputs": [
        {
          "output_type": "stream",
          "name": "stdout",
          "text": [
            "loss_sum=  0.07222734267512958 ACC=  0.9259259259259259 bacc=  0.8649448754593712 precision=  0.7741935483870968 specificity=  0.9556962025316456 sensitivity=  0.7741935483870968 recall=  0.7741935483870968 MCC=  0.7298897509187423 AUC=  0.9007758268681094 f1=  0.7741935483870968\n"
          ]
        },
        {
          "output_type": "stream",
          "name": "stderr",
          "text": [
            "<ipython-input-39-00797ca7ac60>:3: FutureWarning: You are using `torch.load` with `weights_only=False` (the current default value), which uses the default pickle module implicitly. It is possible to construct malicious pickle data which will execute arbitrary code during unpickling (See https://github.com/pytorch/pytorch/blob/main/SECURITY.md#untrusted-models for more details). In a future release, the default value for `weights_only` will be flipped to `True`. This limits the functions that could be executed during unpickling. Arbitrary objects will no longer be allowed to be loaded via this mode unless they are explicitly allowlisted by the user via `torch.serialization.add_safe_globals`. We recommend you start setting `weights_only=True` for any use case where you don't have full control of the loaded file. Please open an issue on GitHub for any issues related to this experimental feature.\n",
            "  ESP_test_df_enzy = torch.load('ESP_test_df_enzy_0_occurance_df_1.pt')\n",
            "<ipython-input-39-00797ca7ac60>:4: FutureWarning: You are using `torch.load` with `weights_only=False` (the current default value), which uses the default pickle module implicitly. It is possible to construct malicious pickle data which will execute arbitrary code during unpickling (See https://github.com/pytorch/pytorch/blob/main/SECURITY.md#untrusted-models for more details). In a future release, the default value for `weights_only` will be flipped to `True`. This limits the functions that could be executed during unpickling. Arbitrary objects will no longer be allowed to be loaded via this mode unless they are explicitly allowlisted by the user via `torch.serialization.add_safe_globals`. We recommend you start setting `weights_only=True` for any use case where you don't have full control of the loaded file. Please open an issue on GitHub for any issues related to this experimental feature.\n",
            "  ESP_test_df_smiles = torch.load('ESP_test_df_smiles_0_occurance_df_1.pt')\n",
            "<ipython-input-39-00797ca7ac60>:5: FutureWarning: You are using `torch.load` with `weights_only=False` (the current default value), which uses the default pickle module implicitly. It is possible to construct malicious pickle data which will execute arbitrary code during unpickling (See https://github.com/pytorch/pytorch/blob/main/SECURITY.md#untrusted-models for more details). In a future release, the default value for `weights_only` will be flipped to `True`. This limits the functions that could be executed during unpickling. Arbitrary objects will no longer be allowed to be loaded via this mode unless they are explicitly allowlisted by the user via `torch.serialization.add_safe_globals`. We recommend you start setting `weights_only=True` for any use case where you don't have full control of the loaded file. Please open an issue on GitHub for any issues related to this experimental feature.\n",
            "  y_test = torch.load('ESP_test_df_label_0_occurance_df_1.pt')\n"
          ]
        },
        {
          "output_type": "execute_result",
          "data": {
            "text/plain": [
              "(0.07222734267512958, 0.9259259259259259, 0.8649448754593712, 151, 7, 7, 24)"
            ]
          },
          "metadata": {},
          "execution_count": 39
        }
      ]
    },
    {
      "cell_type": "code",
      "source": [
        "# generate the peptide embeddings\n",
        "embeddings_results_enzy = []\n",
        "embeddings_results_smiles = []\n",
        "embeddings_results_label = []\n",
        "for i in range(df_11.shape[0]):\n",
        "    seq_enzy = df_11['Protein sequence'].iloc[i]\n",
        "    seq_smiles = df_11['SMILES'].iloc[i]\n",
        "    if len(seq_enzy) < 5500:\n",
        "        # print(len(seq_enzy))\n",
        "        tuple_sequence = tuple(['protein',seq_enzy])\n",
        "        peptide_sequence_list = []\n",
        "        peptide_sequence_list.append(tuple_sequence) # build a summarize list variable including all the sequence information\n",
        "        # employ ESM model for converting and save the converted data in csv format\n",
        "        one_seq_embeddings = esm_embeddings_2560(model, alphabet, peptide_sequence_list)\n",
        "        embeddings_results_enzy.append(one_seq_embeddings)\n",
        "        # the smiles embeddings\n",
        "        smiles_list = []\n",
        "        smiles_list.append(Chem.CanonSmiles(seq_smiles)) # build a summarize list variable including all the sequence information\n",
        "        # employ ESM model for converting and save the converted data in csv format\n",
        "        one_seq_embeddings = MolFormer_embedding(model_smiles, tokenizer, smiles_list)\n",
        "        embeddings_results_smiles.append(one_seq_embeddings)\n",
        "        # record the lable info\n",
        "        label = torch.tensor(df_11['output'].iloc[i], dtype=torch.float32).unsqueeze(0).unsqueeze(0)\n",
        "        embeddings_results_label.append(label)\n",
        "        # print(seq_enzy, seq_smiles)\n",
        "        # print(i)\n",
        "embeddings_results_enzy_torch = torch.cat(embeddings_results_enzy, dim=0)\n",
        "torch.save(embeddings_results_enzy_torch, 'ESP_test_df_enzy_occurance_df_11.pt')\n",
        "\n",
        "embeddings_results_smiles_torch = torch.cat(embeddings_results_smiles, dim=0)\n",
        "torch.save(embeddings_results_smiles_torch, 'ESP_test_df_smiles_occurance_df_11.pt')\n",
        "\n",
        "embeddings_results_label_torch = torch.cat(embeddings_results_label, dim=0)\n",
        "torch.save(embeddings_results_label_torch, 'ESP_test_df_label_occurance_df_11.pt')\n"
      ],
      "metadata": {
        "colab": {
          "base_uri": "https://localhost:8080/"
        },
        "id": "kNuMORTIpkXd",
        "outputId": "82ba8cda-0b56-419f-9e35-7015b04bf61d"
      },
      "execution_count": 51,
      "outputs": [
        {
          "output_type": "stream",
          "name": "stderr",
          "text": [
            "[23:28:00] WARNING: not removing hydrogen atom without neighbors\n",
            "[23:28:00] WARNING: not removing hydrogen atom without neighbors\n",
            "[23:28:00] WARNING: not removing hydrogen atom without neighbors\n"
          ]
        }
      ]
    },
    {
      "cell_type": "code",
      "source": [
        "import torch\n",
        "from torch.utils.data import TensorDataset, DataLoader\n",
        "ESP_test_df_enzy = torch.load('ESP_test_df_enzy_occurance_df_11.pt')\n",
        "ESP_test_df_smiles = torch.load('ESP_test_df_smiles_occurance_df_11.pt')\n",
        "y_test = torch.load('ESP_test_df_label_occurance_df_11.pt')\n",
        "test_tensor_dataset = TensorDataset(ESP_test_df_enzy, ESP_test_df_smiles, y_test)\n",
        "# Create TensorDataset and DataLoaders\n",
        "batch_size = 16\n",
        "test_loader = DataLoader(test_tensor_dataset, batch_size=batch_size, shuffle=False)\n",
        "\n",
        "run_validation(model_test,test_loader,loss_fn, device)"
      ],
      "metadata": {
        "colab": {
          "base_uri": "https://localhost:8080/"
        },
        "id": "zoYVaMKspkXd",
        "outputId": "56de5309-2bfc-45e6-c014-38ae250001ac"
      },
      "execution_count": 52,
      "outputs": [
        {
          "output_type": "stream",
          "name": "stderr",
          "text": [
            "<ipython-input-52-bdbee590a1a8>:3: FutureWarning: You are using `torch.load` with `weights_only=False` (the current default value), which uses the default pickle module implicitly. It is possible to construct malicious pickle data which will execute arbitrary code during unpickling (See https://github.com/pytorch/pytorch/blob/main/SECURITY.md#untrusted-models for more details). In a future release, the default value for `weights_only` will be flipped to `True`. This limits the functions that could be executed during unpickling. Arbitrary objects will no longer be allowed to be loaded via this mode unless they are explicitly allowlisted by the user via `torch.serialization.add_safe_globals`. We recommend you start setting `weights_only=True` for any use case where you don't have full control of the loaded file. Please open an issue on GitHub for any issues related to this experimental feature.\n",
            "  ESP_test_df_enzy = torch.load('ESP_test_df_enzy_occurance_df_11.pt')\n",
            "<ipython-input-52-bdbee590a1a8>:4: FutureWarning: You are using `torch.load` with `weights_only=False` (the current default value), which uses the default pickle module implicitly. It is possible to construct malicious pickle data which will execute arbitrary code during unpickling (See https://github.com/pytorch/pytorch/blob/main/SECURITY.md#untrusted-models for more details). In a future release, the default value for `weights_only` will be flipped to `True`. This limits the functions that could be executed during unpickling. Arbitrary objects will no longer be allowed to be loaded via this mode unless they are explicitly allowlisted by the user via `torch.serialization.add_safe_globals`. We recommend you start setting `weights_only=True` for any use case where you don't have full control of the loaded file. Please open an issue on GitHub for any issues related to this experimental feature.\n",
            "  ESP_test_df_smiles = torch.load('ESP_test_df_smiles_occurance_df_11.pt')\n",
            "<ipython-input-52-bdbee590a1a8>:5: FutureWarning: You are using `torch.load` with `weights_only=False` (the current default value), which uses the default pickle module implicitly. It is possible to construct malicious pickle data which will execute arbitrary code during unpickling (See https://github.com/pytorch/pytorch/blob/main/SECURITY.md#untrusted-models for more details). In a future release, the default value for `weights_only` will be flipped to `True`. This limits the functions that could be executed during unpickling. Arbitrary objects will no longer be allowed to be loaded via this mode unless they are explicitly allowlisted by the user via `torch.serialization.add_safe_globals`. We recommend you start setting `weights_only=True` for any use case where you don't have full control of the loaded file. Please open an issue on GitHub for any issues related to this experimental feature.\n",
            "  y_test = torch.load('ESP_test_df_label_occurance_df_11.pt')\n"
          ]
        },
        {
          "output_type": "stream",
          "name": "stdout",
          "text": [
            "loss_sum=  0.035024682818511066 ACC=  0.9692307692307692 bacc=  0.9534327301821763 precision=  0.971830985915493 specificity=  0.9895833333333334 sensitivity=  0.9172821270310192 recall=  0.9172821270310192 MCC=  0.9233434782346726 AUC=  0.9837774905629411 f1=  0.9437689969604863\n"
          ]
        },
        {
          "output_type": "execute_result",
          "data": {
            "text/plain": [
              "(0.035024682818511066,\n",
              " 0.9692307692307692,\n",
              " 0.9534327301821763,\n",
              " 1710,\n",
              " 18,\n",
              " 56,\n",
              " 621)"
            ]
          },
          "metadata": {},
          "execution_count": 52
        }
      ]
    },
    {
      "cell_type": "markdown",
      "source": [
        "### df_only_60_80"
      ],
      "metadata": {
        "id": "3NBiWzmBUx4U"
      }
    },
    {
      "cell_type": "markdown",
      "source": [
        "#### split the dataset"
      ],
      "metadata": {
        "id": "62OdtgaWpuMe"
      }
    },
    {
      "cell_type": "code",
      "source": [
        "# extract all the smiles\n",
        "df_0 = pd.DataFrame()\n",
        "df_1 = pd.DataFrame()\n",
        "df_2 = pd.DataFrame()\n",
        "df_3 = pd.DataFrame()\n",
        "df_4 = pd.DataFrame()\n",
        "df_5 = pd.DataFrame()\n",
        "df_6 = pd.DataFrame()\n",
        "df_7 = pd.DataFrame()\n",
        "df_8 = pd.DataFrame()\n",
        "df_9 = pd.DataFrame()\n",
        "df_10 = pd.DataFrame()\n",
        "df_11 = pd.DataFrame()\n",
        "a = 0\n",
        "a_0 = 0\n",
        "a_1 = 0\n",
        "a_2 = 0\n",
        "a_3 = 0\n",
        "a_4 = 0\n",
        "a_5 = 0\n",
        "a_6 = 0\n",
        "a_7 = 0\n",
        "a_8 = 0\n",
        "a_9 = 0\n",
        "a_10 = 0\n",
        "a_11 = 0\n",
        "for smiles in df_only_60_80['SMILES']:\n",
        "    count = ESP_train_df[ESP_train_df['SMILES'] ==smiles].shape[0] # just check whether the smiles exist in the ESP_train dataset\n",
        "    a = a + 1\n",
        "    if count == 0: # means the smiles have not occur in the train dataset.\n",
        "        df_0 = pd.concat([df_0,df_only_60_80[df_only_60_80['SMILES'] ==smiles]], axis = 0).drop_duplicates()\n",
        "        a_0 = a_0 + 1\n",
        "    elif 0 < count <11 :\n",
        "        df_1 = pd.concat([df_1,df_only_60_80[df_only_60_80['SMILES'] ==smiles]], axis = 0).drop_duplicates()\n",
        "        a_1 = a_1 + 1\n",
        "    elif count > 10:\n",
        "        df_11 = pd.concat([df_11,df_only_60_80[df_only_60_80['SMILES'] ==smiles]], axis = 0).drop_duplicates()\n",
        "        a_11 = a_11 + 1"
      ],
      "metadata": {
        "id": "00aJJfZWpuMe"
      },
      "execution_count": 46,
      "outputs": []
    },
    {
      "cell_type": "code",
      "source": [
        "print(df_0.shape, df_1.shape, df_11.shape)"
      ],
      "metadata": {
        "colab": {
          "base_uri": "https://localhost:8080/"
        },
        "outputId": "4e1dab3e-928b-4429-f802-56280c0d5ddb",
        "id": "X_ORXGgGpuMe"
      },
      "execution_count": 47,
      "outputs": [
        {
          "output_type": "stream",
          "name": "stdout",
          "text": [
            "(67, 6) (116, 6) (1470, 6)\n"
          ]
        }
      ]
    },
    {
      "cell_type": "markdown",
      "source": [
        "#### generate embeddings"
      ],
      "metadata": {
        "id": "45RWdMfbpuMe"
      }
    },
    {
      "cell_type": "code",
      "source": [
        "import numpy as np\n",
        "import pandas as pd\n",
        "import esm\n",
        "model, alphabet = esm.pretrained.esm2_t36_3B_UR50D()"
      ],
      "metadata": {
        "id": "dRdXLIcdpuMe"
      },
      "execution_count": 55,
      "outputs": []
    },
    {
      "cell_type": "code",
      "source": [
        "# generate the peptide embeddings\n",
        "embeddings_results_enzy = []\n",
        "embeddings_results_smiles = []\n",
        "embeddings_results_label = []\n",
        "for i in range(df_0.shape[0]):\n",
        "    seq_enzy = df_0['Protein sequence'].iloc[i]\n",
        "    seq_smiles = df_0['SMILES'].iloc[i]\n",
        "    if len(seq_enzy) < 5500:\n",
        "        # print(len(seq_enzy))\n",
        "        tuple_sequence = tuple(['protein',seq_enzy])\n",
        "        peptide_sequence_list = []\n",
        "        peptide_sequence_list.append(tuple_sequence) # build a summarize list variable including all the sequence information\n",
        "        # employ ESM model for converting and save the converted data in csv format\n",
        "        one_seq_embeddings = esm_embeddings_2560(model, alphabet, peptide_sequence_list)\n",
        "        embeddings_results_enzy.append(one_seq_embeddings)\n",
        "        # the smiles embeddings\n",
        "        smiles_list = []\n",
        "        smiles_list.append(Chem.CanonSmiles(seq_smiles)) # build a summarize list variable including all the sequence information\n",
        "        # employ ESM model for converting and save the converted data in csv format\n",
        "        one_seq_embeddings = MolFormer_embedding(model_smiles, tokenizer, smiles_list)\n",
        "        embeddings_results_smiles.append(one_seq_embeddings)\n",
        "        # record the lable info\n",
        "        label = torch.tensor(df_0['output'].iloc[i], dtype=torch.float32).unsqueeze(0).unsqueeze(0)\n",
        "        embeddings_results_label.append(label)\n",
        "\n",
        "embeddings_results_enzy_torch = torch.cat(embeddings_results_enzy, dim=0)\n",
        "torch.save(embeddings_results_enzy_torch, 'ESP_test_df_enzy_0_occurance_df_0.pt')\n",
        "\n",
        "embeddings_results_smiles_torch = torch.cat(embeddings_results_smiles, dim=0)\n",
        "torch.save(embeddings_results_smiles_torch, 'ESP_test_df_smiles_0_occurance_df_0.pt')\n",
        "\n",
        "embeddings_results_label_torch = torch.cat(embeddings_results_label, dim=0)\n",
        "torch.save(embeddings_results_label_torch, 'ESP_test_df_label_0_occurance_df_0.pt')\n",
        "print(embeddings_results_enzy_torch.shape)\n",
        "print(embeddings_results_smiles_torch.shape)\n",
        "print(embeddings_results_label_torch.shape)"
      ],
      "metadata": {
        "colab": {
          "base_uri": "https://localhost:8080/"
        },
        "outputId": "cf5680d5-85e4-4c58-8875-e0d5649e3d3b",
        "id": "zo3-uLp7puMe"
      },
      "execution_count": 56,
      "outputs": [
        {
          "output_type": "stream",
          "name": "stdout",
          "text": [
            "torch.Size([67, 2560])\n",
            "torch.Size([67, 768])\n",
            "torch.Size([67, 1])\n"
          ]
        }
      ]
    },
    {
      "cell_type": "code",
      "source": [
        "import torch\n",
        "from torch.utils.data import TensorDataset, DataLoader\n",
        "ESP_test_df_enzy = torch.load('ESP_test_df_enzy_0_occurance_df_0.pt')\n",
        "ESP_test_df_smiles = torch.load('ESP_test_df_smiles_0_occurance_df_0.pt')\n",
        "y_test = torch.load('ESP_test_df_label_0_occurance_df_0.pt')\n",
        "test_tensor_dataset = TensorDataset(ESP_test_df_enzy, ESP_test_df_smiles, y_test)\n",
        "# Create TensorDataset and DataLoaders\n",
        "batch_size = 16\n",
        "test_loader = DataLoader(test_tensor_dataset, batch_size=batch_size, shuffle=False)\n",
        "\n",
        "run_validation(model_test,test_loader,loss_fn, device)"
      ],
      "metadata": {
        "colab": {
          "base_uri": "https://localhost:8080/"
        },
        "outputId": "1e59d242-787a-4e3f-8e7a-1da22aff83af",
        "id": "_xAEApLqpuMe"
      },
      "execution_count": 57,
      "outputs": [
        {
          "output_type": "stream",
          "name": "stdout",
          "text": [
            "loss_sum=  0.08364484123885632 ACC=  0.8955223880597015 bacc=  0.6165254237288136 precision=  0.6666666666666666 specificity=  0.9830508474576272 sensitivity=  0.25 recall=  0.25 MCC=  0.36540212737375455 AUC=  0.7161016949152542 f1=  0.36363636363636365\n"
          ]
        },
        {
          "output_type": "stream",
          "name": "stderr",
          "text": [
            "<ipython-input-57-31c7237691dd>:3: FutureWarning: You are using `torch.load` with `weights_only=False` (the current default value), which uses the default pickle module implicitly. It is possible to construct malicious pickle data which will execute arbitrary code during unpickling (See https://github.com/pytorch/pytorch/blob/main/SECURITY.md#untrusted-models for more details). In a future release, the default value for `weights_only` will be flipped to `True`. This limits the functions that could be executed during unpickling. Arbitrary objects will no longer be allowed to be loaded via this mode unless they are explicitly allowlisted by the user via `torch.serialization.add_safe_globals`. We recommend you start setting `weights_only=True` for any use case where you don't have full control of the loaded file. Please open an issue on GitHub for any issues related to this experimental feature.\n",
            "  ESP_test_df_enzy = torch.load('ESP_test_df_enzy_0_occurance_df_0.pt')\n",
            "<ipython-input-57-31c7237691dd>:4: FutureWarning: You are using `torch.load` with `weights_only=False` (the current default value), which uses the default pickle module implicitly. It is possible to construct malicious pickle data which will execute arbitrary code during unpickling (See https://github.com/pytorch/pytorch/blob/main/SECURITY.md#untrusted-models for more details). In a future release, the default value for `weights_only` will be flipped to `True`. This limits the functions that could be executed during unpickling. Arbitrary objects will no longer be allowed to be loaded via this mode unless they are explicitly allowlisted by the user via `torch.serialization.add_safe_globals`. We recommend you start setting `weights_only=True` for any use case where you don't have full control of the loaded file. Please open an issue on GitHub for any issues related to this experimental feature.\n",
            "  ESP_test_df_smiles = torch.load('ESP_test_df_smiles_0_occurance_df_0.pt')\n",
            "<ipython-input-57-31c7237691dd>:5: FutureWarning: You are using `torch.load` with `weights_only=False` (the current default value), which uses the default pickle module implicitly. It is possible to construct malicious pickle data which will execute arbitrary code during unpickling (See https://github.com/pytorch/pytorch/blob/main/SECURITY.md#untrusted-models for more details). In a future release, the default value for `weights_only` will be flipped to `True`. This limits the functions that could be executed during unpickling. Arbitrary objects will no longer be allowed to be loaded via this mode unless they are explicitly allowlisted by the user via `torch.serialization.add_safe_globals`. We recommend you start setting `weights_only=True` for any use case where you don't have full control of the loaded file. Please open an issue on GitHub for any issues related to this experimental feature.\n",
            "  y_test = torch.load('ESP_test_df_label_0_occurance_df_0.pt')\n"
          ]
        },
        {
          "output_type": "execute_result",
          "data": {
            "text/plain": [
              "(0.08364484123885632, 0.8955223880597015, 0.6165254237288136, 58, 1, 6, 2)"
            ]
          },
          "metadata": {},
          "execution_count": 57
        }
      ]
    },
    {
      "cell_type": "code",
      "source": [
        "# generate the peptide embeddings\n",
        "embeddings_results_enzy = []\n",
        "embeddings_results_smiles = []\n",
        "embeddings_results_label = []\n",
        "if df_1.empty:\n",
        "    print(' this group is empty')\n",
        "else:\n",
        "    for i in range(df_1.shape[0]):\n",
        "        seq_enzy = df_1['Protein sequence'].iloc[i]\n",
        "        seq_smiles = df_1['SMILES'].iloc[i]\n",
        "        if len(seq_enzy) < 5500:\n",
        "            # print(len(seq_enzy))\n",
        "            tuple_sequence = tuple(['protein',seq_enzy])\n",
        "            peptide_sequence_list = []\n",
        "            peptide_sequence_list.append(tuple_sequence) # build a summarize list variable including all the sequence information\n",
        "            # employ ESM model for converting and save the converted data in csv format\n",
        "            one_seq_embeddings = esm_embeddings_2560(model, alphabet, peptide_sequence_list)\n",
        "            embeddings_results_enzy.append(one_seq_embeddings)\n",
        "            # the smiles embeddings\n",
        "            smiles_list = []\n",
        "            smiles_list.append(Chem.CanonSmiles(seq_smiles)) # build a summarize list variable including all the sequence information\n",
        "            # employ ESM model for converting and save the converted data in csv format\n",
        "            one_seq_embeddings = MolFormer_embedding(model_smiles, tokenizer, smiles_list)\n",
        "            embeddings_results_smiles.append(one_seq_embeddings)\n",
        "            # record the lable info\n",
        "            label = torch.tensor(df_1['output'].iloc[i], dtype=torch.float32).unsqueeze(0).unsqueeze(0)\n",
        "            embeddings_results_label.append(label)\n",
        "\n",
        "    embeddings_results_enzy_torch = torch.cat(embeddings_results_enzy, dim=0)\n",
        "    torch.save(embeddings_results_enzy_torch, 'ESP_test_df_enzy_0_occurance_df_1.pt')\n",
        "\n",
        "    embeddings_results_smiles_torch = torch.cat(embeddings_results_smiles, dim=0)\n",
        "    torch.save(embeddings_results_smiles_torch, 'ESP_test_df_smiles_0_occurance_df_1.pt')\n",
        "\n",
        "    embeddings_results_label_torch = torch.cat(embeddings_results_label, dim=0)\n",
        "    torch.save(embeddings_results_label_torch, 'ESP_test_df_label_0_occurance_df_1.pt')\n",
        "    print(embeddings_results_enzy_torch.shape)\n",
        "    print(embeddings_results_smiles_torch.shape)\n",
        "    print(embeddings_results_label_torch.shape)\n",
        "    import torch\n",
        "    from torch.utils.data import TensorDataset, DataLoader\n",
        "    ESP_test_df_enzy = torch.load('ESP_test_df_enzy_0_occurance_df_1.pt')\n",
        "    ESP_test_df_smiles = torch.load('ESP_test_df_smiles_0_occurance_df_1.pt')\n",
        "    y_test = torch.load('ESP_test_df_label_0_occurance_df_1.pt')\n",
        "    test_tensor_dataset = TensorDataset(ESP_test_df_enzy, ESP_test_df_smiles, y_test)\n",
        "    # Create TensorDataset and DataLoaders\n",
        "    batch_size = 16\n",
        "    test_loader = DataLoader(test_tensor_dataset, batch_size=batch_size, shuffle=False)\n",
        "\n",
        "    run_validation(model_test,test_loader,loss_fn, device)"
      ],
      "metadata": {
        "colab": {
          "base_uri": "https://localhost:8080/"
        },
        "id": "h8RiO1CPpuMe",
        "outputId": "ed249a1f-b14a-46ef-ca7a-93dcb09de060"
      },
      "execution_count": 58,
      "outputs": [
        {
          "output_type": "stream",
          "name": "stdout",
          "text": [
            "torch.Size([116, 2560])\n",
            "torch.Size([116, 768])\n",
            "torch.Size([116, 1])\n",
            "loss_sum=  0.043214541277848184 ACC=  0.9655172413793104 bacc=  0.949010989010989 precision=  0.92 specificity=  0.978021978021978 sensitivity=  0.92 recall=  0.92 MCC=  0.898021978021978 AUC=  0.956043956043956 f1=  0.92\n"
          ]
        },
        {
          "output_type": "stream",
          "name": "stderr",
          "text": [
            "<ipython-input-58-a894bb7ef943>:42: FutureWarning: You are using `torch.load` with `weights_only=False` (the current default value), which uses the default pickle module implicitly. It is possible to construct malicious pickle data which will execute arbitrary code during unpickling (See https://github.com/pytorch/pytorch/blob/main/SECURITY.md#untrusted-models for more details). In a future release, the default value for `weights_only` will be flipped to `True`. This limits the functions that could be executed during unpickling. Arbitrary objects will no longer be allowed to be loaded via this mode unless they are explicitly allowlisted by the user via `torch.serialization.add_safe_globals`. We recommend you start setting `weights_only=True` for any use case where you don't have full control of the loaded file. Please open an issue on GitHub for any issues related to this experimental feature.\n",
            "  ESP_test_df_enzy = torch.load('ESP_test_df_enzy_0_occurance_df_1.pt')\n",
            "<ipython-input-58-a894bb7ef943>:43: FutureWarning: You are using `torch.load` with `weights_only=False` (the current default value), which uses the default pickle module implicitly. It is possible to construct malicious pickle data which will execute arbitrary code during unpickling (See https://github.com/pytorch/pytorch/blob/main/SECURITY.md#untrusted-models for more details). In a future release, the default value for `weights_only` will be flipped to `True`. This limits the functions that could be executed during unpickling. Arbitrary objects will no longer be allowed to be loaded via this mode unless they are explicitly allowlisted by the user via `torch.serialization.add_safe_globals`. We recommend you start setting `weights_only=True` for any use case where you don't have full control of the loaded file. Please open an issue on GitHub for any issues related to this experimental feature.\n",
            "  ESP_test_df_smiles = torch.load('ESP_test_df_smiles_0_occurance_df_1.pt')\n",
            "<ipython-input-58-a894bb7ef943>:44: FutureWarning: You are using `torch.load` with `weights_only=False` (the current default value), which uses the default pickle module implicitly. It is possible to construct malicious pickle data which will execute arbitrary code during unpickling (See https://github.com/pytorch/pytorch/blob/main/SECURITY.md#untrusted-models for more details). In a future release, the default value for `weights_only` will be flipped to `True`. This limits the functions that could be executed during unpickling. Arbitrary objects will no longer be allowed to be loaded via this mode unless they are explicitly allowlisted by the user via `torch.serialization.add_safe_globals`. We recommend you start setting `weights_only=True` for any use case where you don't have full control of the loaded file. Please open an issue on GitHub for any issues related to this experimental feature.\n",
            "  y_test = torch.load('ESP_test_df_label_0_occurance_df_1.pt')\n"
          ]
        }
      ]
    },
    {
      "cell_type": "code",
      "source": [
        "# generate the peptide embeddings\n",
        "embeddings_results_enzy = []\n",
        "embeddings_results_smiles = []\n",
        "embeddings_results_label = []\n",
        "\n",
        "for i in range(df_1.shape[0]):\n",
        "    seq_enzy = df_1['Protein sequence'].iloc[i]\n",
        "    seq_smiles = df_1['SMILES'].iloc[i]\n",
        "    if len(seq_enzy) < 5500:\n",
        "        # print(len(seq_enzy))\n",
        "        tuple_sequence = tuple(['protein',seq_enzy])\n",
        "        peptide_sequence_list = []\n",
        "        peptide_sequence_list.append(tuple_sequence) # build a summarize list variable including all the sequence information\n",
        "        # employ ESM model for converting and save the converted data in csv format\n",
        "        one_seq_embeddings = esm_embeddings_2560(model, alphabet, peptide_sequence_list)\n",
        "        embeddings_results_enzy.append(one_seq_embeddings)\n",
        "        # the smiles embeddings\n",
        "        smiles_list = []\n",
        "        smiles_list.append(Chem.CanonSmiles(seq_smiles)) # build a summarize list variable including all the sequence information\n",
        "        # employ ESM model for converting and save the converted data in csv format\n",
        "        one_seq_embeddings = MolFormer_embedding(model_smiles, tokenizer, smiles_list)\n",
        "        embeddings_results_smiles.append(one_seq_embeddings)\n",
        "        # record the lable info\n",
        "        label = torch.tensor(df_1['output'].iloc[i], dtype=torch.float32).unsqueeze(0).unsqueeze(0)\n",
        "        embeddings_results_label.append(label)\n",
        "\n",
        "embeddings_results_enzy_torch = torch.cat(embeddings_results_enzy, dim=0)\n",
        "torch.save(embeddings_results_enzy_torch, 'ESP_test_df_enzy_0_occurance_df_1.pt')\n",
        "\n",
        "embeddings_results_smiles_torch = torch.cat(embeddings_results_smiles, dim=0)\n",
        "torch.save(embeddings_results_smiles_torch, 'ESP_test_df_smiles_0_occurance_df_1.pt')\n",
        "\n",
        "embeddings_results_label_torch = torch.cat(embeddings_results_label, dim=0)\n",
        "torch.save(embeddings_results_label_torch, 'ESP_test_df_label_0_occurance_df_1.pt')\n",
        "print(embeddings_results_enzy_torch.shape)\n",
        "print(embeddings_results_smiles_torch.shape)\n",
        "print(embeddings_results_label_torch.shape)\n",
        "\n"
      ],
      "metadata": {
        "colab": {
          "base_uri": "https://localhost:8080/"
        },
        "id": "hhvqui0dHi2L",
        "outputId": "21e9dd62-5f00-457e-8e3e-d55ccb795fc7"
      },
      "execution_count": 50,
      "outputs": [
        {
          "output_type": "stream",
          "name": "stdout",
          "text": [
            "torch.Size([116, 2560])\n",
            "torch.Size([116, 768])\n",
            "torch.Size([116, 1])\n"
          ]
        }
      ]
    },
    {
      "cell_type": "code",
      "source": [
        "import torch\n",
        "from torch.utils.data import TensorDataset, DataLoader\n",
        "ESP_test_df_enzy = torch.load('ESP_test_df_enzy_0_occurance_df_1.pt')\n",
        "ESP_test_df_smiles = torch.load('ESP_test_df_smiles_0_occurance_df_1.pt')\n",
        "y_test = torch.load('ESP_test_df_label_0_occurance_df_1.pt')\n",
        "test_tensor_dataset = TensorDataset(ESP_test_df_enzy, ESP_test_df_smiles, y_test)\n",
        "# Create TensorDataset and DataLoaders\n",
        "batch_size = 16\n",
        "test_loader = DataLoader(test_tensor_dataset, batch_size=batch_size, shuffle=False)\n",
        "\n",
        "run_validation(model_test,test_loader,loss_fn, device)"
      ],
      "metadata": {
        "colab": {
          "base_uri": "https://localhost:8080/"
        },
        "id": "UAO6g-YbHj1P",
        "outputId": "607a391e-3a16-488e-d99b-34ce8e50353c"
      },
      "execution_count": 51,
      "outputs": [
        {
          "output_type": "stream",
          "name": "stdout",
          "text": [
            "loss_sum=  0.043214541277848184 ACC=  0.9655172413793104 bacc=  0.949010989010989 precision=  0.92 specificity=  0.978021978021978 sensitivity=  0.92 recall=  0.92 MCC=  0.898021978021978 AUC=  0.956043956043956 f1=  0.92\n"
          ]
        },
        {
          "output_type": "stream",
          "name": "stderr",
          "text": [
            "<ipython-input-51-00797ca7ac60>:3: FutureWarning: You are using `torch.load` with `weights_only=False` (the current default value), which uses the default pickle module implicitly. It is possible to construct malicious pickle data which will execute arbitrary code during unpickling (See https://github.com/pytorch/pytorch/blob/main/SECURITY.md#untrusted-models for more details). In a future release, the default value for `weights_only` will be flipped to `True`. This limits the functions that could be executed during unpickling. Arbitrary objects will no longer be allowed to be loaded via this mode unless they are explicitly allowlisted by the user via `torch.serialization.add_safe_globals`. We recommend you start setting `weights_only=True` for any use case where you don't have full control of the loaded file. Please open an issue on GitHub for any issues related to this experimental feature.\n",
            "  ESP_test_df_enzy = torch.load('ESP_test_df_enzy_0_occurance_df_1.pt')\n",
            "<ipython-input-51-00797ca7ac60>:4: FutureWarning: You are using `torch.load` with `weights_only=False` (the current default value), which uses the default pickle module implicitly. It is possible to construct malicious pickle data which will execute arbitrary code during unpickling (See https://github.com/pytorch/pytorch/blob/main/SECURITY.md#untrusted-models for more details). In a future release, the default value for `weights_only` will be flipped to `True`. This limits the functions that could be executed during unpickling. Arbitrary objects will no longer be allowed to be loaded via this mode unless they are explicitly allowlisted by the user via `torch.serialization.add_safe_globals`. We recommend you start setting `weights_only=True` for any use case where you don't have full control of the loaded file. Please open an issue on GitHub for any issues related to this experimental feature.\n",
            "  ESP_test_df_smiles = torch.load('ESP_test_df_smiles_0_occurance_df_1.pt')\n",
            "<ipython-input-51-00797ca7ac60>:5: FutureWarning: You are using `torch.load` with `weights_only=False` (the current default value), which uses the default pickle module implicitly. It is possible to construct malicious pickle data which will execute arbitrary code during unpickling (See https://github.com/pytorch/pytorch/blob/main/SECURITY.md#untrusted-models for more details). In a future release, the default value for `weights_only` will be flipped to `True`. This limits the functions that could be executed during unpickling. Arbitrary objects will no longer be allowed to be loaded via this mode unless they are explicitly allowlisted by the user via `torch.serialization.add_safe_globals`. We recommend you start setting `weights_only=True` for any use case where you don't have full control of the loaded file. Please open an issue on GitHub for any issues related to this experimental feature.\n",
            "  y_test = torch.load('ESP_test_df_label_0_occurance_df_1.pt')\n"
          ]
        },
        {
          "output_type": "execute_result",
          "data": {
            "text/plain": [
              "(0.043214541277848184, 0.9655172413793104, 0.949010989010989, 89, 2, 2, 23)"
            ]
          },
          "metadata": {},
          "execution_count": 51
        }
      ]
    },
    {
      "cell_type": "code",
      "source": [
        "# generate the peptide embeddings\n",
        "embeddings_results_enzy = []\n",
        "embeddings_results_smiles = []\n",
        "embeddings_results_label = []\n",
        "for i in range(df_11.shape[0]):\n",
        "    seq_enzy = df_11['Protein sequence'].iloc[i]\n",
        "    seq_smiles = df_11['SMILES'].iloc[i]\n",
        "    if len(seq_enzy) < 5500:\n",
        "        # print(len(seq_enzy))\n",
        "        tuple_sequence = tuple(['protein',seq_enzy])\n",
        "        peptide_sequence_list = []\n",
        "        peptide_sequence_list.append(tuple_sequence) # build a summarize list variable including all the sequence information\n",
        "        # employ ESM model for converting and save the converted data in csv format\n",
        "        one_seq_embeddings = esm_embeddings_2560(model, alphabet, peptide_sequence_list)\n",
        "        embeddings_results_enzy.append(one_seq_embeddings)\n",
        "        # the smiles embeddings\n",
        "        smiles_list = []\n",
        "        smiles_list.append(Chem.CanonSmiles(seq_smiles)) # build a summarize list variable including all the sequence information\n",
        "        # employ ESM model for converting and save the converted data in csv format\n",
        "        one_seq_embeddings = MolFormer_embedding(model_smiles, tokenizer, smiles_list)\n",
        "        embeddings_results_smiles.append(one_seq_embeddings)\n",
        "        # record the lable info\n",
        "        label = torch.tensor(df_11['output'].iloc[i], dtype=torch.float32).unsqueeze(0).unsqueeze(0)\n",
        "        embeddings_results_label.append(label)\n",
        "        # print(seq_enzy, seq_smiles)\n",
        "        # print(i)\n",
        "embeddings_results_enzy_torch = torch.cat(embeddings_results_enzy, dim=0)\n",
        "torch.save(embeddings_results_enzy_torch, 'ESP_test_df_enzy_occurance_df_11.pt')\n",
        "\n",
        "embeddings_results_smiles_torch = torch.cat(embeddings_results_smiles, dim=0)\n",
        "torch.save(embeddings_results_smiles_torch, 'ESP_test_df_smiles_occurance_df_11.pt')\n",
        "\n",
        "embeddings_results_label_torch = torch.cat(embeddings_results_label, dim=0)\n",
        "torch.save(embeddings_results_label_torch, 'ESP_test_df_label_occurance_df_11.pt')\n"
      ],
      "metadata": {
        "colab": {
          "base_uri": "https://localhost:8080/"
        },
        "id": "yUw8QXrspuMe",
        "outputId": "2f938740-bd69-49d0-fee0-99a0684f33ae"
      },
      "execution_count": 52,
      "outputs": [
        {
          "output_type": "stream",
          "name": "stderr",
          "text": [
            "[00:50:15] WARNING: not removing hydrogen atom without neighbors\n"
          ]
        }
      ]
    },
    {
      "cell_type": "code",
      "source": [
        "import torch\n",
        "from torch.utils.data import TensorDataset, DataLoader\n",
        "ESP_test_df_enzy = torch.load('ESP_test_df_enzy_occurance_df_11.pt')\n",
        "ESP_test_df_smiles = torch.load('ESP_test_df_smiles_occurance_df_11.pt')\n",
        "y_test = torch.load('ESP_test_df_label_occurance_df_11.pt')\n",
        "test_tensor_dataset = TensorDataset(ESP_test_df_enzy, ESP_test_df_smiles, y_test)\n",
        "# Create TensorDataset and DataLoaders\n",
        "batch_size = 16\n",
        "test_loader = DataLoader(test_tensor_dataset, batch_size=batch_size, shuffle=False)\n",
        "\n",
        "run_validation(model_test,test_loader,loss_fn, device)"
      ],
      "metadata": {
        "colab": {
          "base_uri": "https://localhost:8080/"
        },
        "id": "LbZZ-vjtpuMe",
        "outputId": "edf5c7ae-786b-4b1f-fcba-ff827ca7891d"
      },
      "execution_count": 53,
      "outputs": [
        {
          "output_type": "stream",
          "name": "stdout",
          "text": [
            "loss_sum=  0.030616079897457814 ACC=  0.972108843537415 bacc=  0.9616342504743833 precision=  0.9629629629629629 specificity=  0.9857685009487666 sensitivity=  0.9375 recall=  0.9375 MCC=  0.9308778023983193 AUC=  0.992353990293388 f1=  0.9500609013398295\n"
          ]
        },
        {
          "output_type": "stream",
          "name": "stderr",
          "text": [
            "<ipython-input-53-bdbee590a1a8>:3: FutureWarning: You are using `torch.load` with `weights_only=False` (the current default value), which uses the default pickle module implicitly. It is possible to construct malicious pickle data which will execute arbitrary code during unpickling (See https://github.com/pytorch/pytorch/blob/main/SECURITY.md#untrusted-models for more details). In a future release, the default value for `weights_only` will be flipped to `True`. This limits the functions that could be executed during unpickling. Arbitrary objects will no longer be allowed to be loaded via this mode unless they are explicitly allowlisted by the user via `torch.serialization.add_safe_globals`. We recommend you start setting `weights_only=True` for any use case where you don't have full control of the loaded file. Please open an issue on GitHub for any issues related to this experimental feature.\n",
            "  ESP_test_df_enzy = torch.load('ESP_test_df_enzy_occurance_df_11.pt')\n",
            "<ipython-input-53-bdbee590a1a8>:4: FutureWarning: You are using `torch.load` with `weights_only=False` (the current default value), which uses the default pickle module implicitly. It is possible to construct malicious pickle data which will execute arbitrary code during unpickling (See https://github.com/pytorch/pytorch/blob/main/SECURITY.md#untrusted-models for more details). In a future release, the default value for `weights_only` will be flipped to `True`. This limits the functions that could be executed during unpickling. Arbitrary objects will no longer be allowed to be loaded via this mode unless they are explicitly allowlisted by the user via `torch.serialization.add_safe_globals`. We recommend you start setting `weights_only=True` for any use case where you don't have full control of the loaded file. Please open an issue on GitHub for any issues related to this experimental feature.\n",
            "  ESP_test_df_smiles = torch.load('ESP_test_df_smiles_occurance_df_11.pt')\n",
            "<ipython-input-53-bdbee590a1a8>:5: FutureWarning: You are using `torch.load` with `weights_only=False` (the current default value), which uses the default pickle module implicitly. It is possible to construct malicious pickle data which will execute arbitrary code during unpickling (See https://github.com/pytorch/pytorch/blob/main/SECURITY.md#untrusted-models for more details). In a future release, the default value for `weights_only` will be flipped to `True`. This limits the functions that could be executed during unpickling. Arbitrary objects will no longer be allowed to be loaded via this mode unless they are explicitly allowlisted by the user via `torch.serialization.add_safe_globals`. We recommend you start setting `weights_only=True` for any use case where you don't have full control of the loaded file. Please open an issue on GitHub for any issues related to this experimental feature.\n",
            "  y_test = torch.load('ESP_test_df_label_occurance_df_11.pt')\n"
          ]
        },
        {
          "output_type": "execute_result",
          "data": {
            "text/plain": [
              "(0.030616079897457814,\n",
              " 0.972108843537415,\n",
              " 0.9616342504743833,\n",
              " 1039,\n",
              " 15,\n",
              " 26,\n",
              " 390)"
            ]
          },
          "metadata": {},
          "execution_count": 53
        }
      ]
    },
    {
      "cell_type": "code",
      "source": [],
      "metadata": {
        "id": "QkYQBtPoE41y"
      },
      "execution_count": null,
      "outputs": []
    }
  ]
}