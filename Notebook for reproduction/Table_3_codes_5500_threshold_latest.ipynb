{
  "cells": [
    {
      "cell_type": "code",
      "execution_count": null,
      "metadata": {
        "colab": {
          "base_uri": "https://localhost:8080/"
        },
        "id": "fdArohyoUXvL",
        "outputId": "2ea05cc2-8c50-41f7-b8a9-f32fccf5f91e"
      },
      "outputs": [
        {
          "output_type": "stream",
          "name": "stdout",
          "text": [
            "Using device: cuda\n",
            "Device name: Tesla T4\n",
            "Device memory: 14.74810791015625 GB\n"
          ]
        }
      ],
      "source": [
        "from sklearn.metrics import confusion_matrix\n",
        "from sklearn.metrics import roc_auc_score\n",
        "\n",
        "import numpy as np\n",
        "import pandas as pd\n",
        "\n",
        "from torch.utils.data import TensorDataset\n",
        "from torch.utils.data import DataLoader\n",
        "import torch\n",
        "import torch.nn as nn\n",
        "\n",
        "import warnings\n",
        "from tqdm import tqdm\n",
        "import os\n",
        "from pathlib import Path\n",
        "# Define the device\n",
        "device = \"cuda\" if torch.cuda.is_available() else \"mps\" if  torch.backends.mps.is_available() else \"cpu\" # torch.has_mps or\n",
        "print(\"Using device:\", device)\n",
        "if (device == 'cuda'):\n",
        "    print(f\"Device name: {torch.cuda.get_device_name(device.index)}\")\n",
        "    print(f\"Device memory: {torch.cuda.get_device_properties(device.index).total_memory / 1024 ** 3} GB\")\n",
        "elif (device == 'mps'):\n",
        "    print(f\"Device name: <mps>\")\n",
        "else:\n",
        "    print(\"NOTE: If you have a GPU, consider using it for training.\")\n",
        "    print(\"      On a Windows machine with NVidia GPU, check this video: https://www.youtube.com/watch?v=GMSjDTU8Zlc\")\n",
        "    print(\"      On a Mac machine, run: pip3 install --pre torch torchvision torchaudio torchtext --index-url https://download.pytorch.org/whl/nightly/cpu\")\n",
        "device = torch.device(device)"
      ]
    },
    {
      "cell_type": "code",
      "execution_count": null,
      "metadata": {
        "colab": {
          "base_uri": "https://localhost:8080/"
        },
        "id": "u6e3pRkmUZW-",
        "outputId": "a7572e35-2dbb-4870-a1a2-3f9717658af3"
      },
      "outputs": [
        {
          "output_type": "stream",
          "name": "stdout",
          "text": [
            "Drive already mounted at /content/drive; to attempt to forcibly remount, call drive.mount(\"/content/drive\", force_remount=True).\n"
          ]
        }
      ],
      "source": [
        "from google.colab import drive\n",
        "drive.mount('/content/drive')\n"
      ]
    },
    {
      "cell_type": "code",
      "execution_count": null,
      "metadata": {
        "id": "G6RDonGvUauE"
      },
      "outputs": [],
      "source": [
        "def run_validation(model, val_loader,loss_fn, device):\n",
        "    model.eval()\n",
        "    loss_sum = 0\n",
        "    num_batch = len(val_loader)\n",
        "    total_y_true=[]\n",
        "    total_y_pred=[]\n",
        "    total_y_prob=[]\n",
        "    for ESP_val_df_enzy,ESP_val_df_smiles, y_val in val_loader:\n",
        "\n",
        "        ESP_val_df_enzy = ESP_val_df_enzy.to(device)\n",
        "        ESP_val_df_smiles = ESP_val_df_smiles.to(device)\n",
        "        y_val = y_val.squeeze(1).to(device)\n",
        "\n",
        "        refined_enzy_embed, refined_smiles_embed = model(ESP_val_df_enzy,ESP_val_df_smiles)\n",
        "        cos_sim = torch.nn.functional.cosine_similarity(refined_enzy_embed, refined_smiles_embed, dim=1)\n",
        "        loss = loss_fn(cos_sim, y_val).detach().cpu().numpy()\n",
        "        loss_sum = loss_sum + loss # count all the loss in the training process\n",
        "        y_pred = (cos_sim > 0.5).float().cpu().numpy() # if score > 0.5, assign label 1 otherwise 0, transfer to cpu as numpy\n",
        "        total_y_true.append(y_val.cpu().numpy())\n",
        "        total_y_pred.append(y_pred)\n",
        "        total_y_prob.append(cos_sim.detach().cpu().numpy())\n",
        "\n",
        "    loss_sum = loss_sum/num_batch # get the overall average loss (Notice: this method is not 100% accurate)\n",
        "\n",
        "    arrange_y_true = np.concatenate(total_y_true, axis=0)\n",
        "    arrange_y_pred = np.concatenate(total_y_pred, axis=0)\n",
        "    arrange_y_prob = np.concatenate(total_y_prob, axis=0)\n",
        "    tn,fp,fn,tp = confusion_matrix(arrange_y_true, arrange_y_pred).ravel()\n",
        "    acc = (tp+tn)/(tp+tn+fp+fn)\n",
        "    specificity = tn/(tn+fp)\n",
        "    sensitivity = tp/(tp+fn)\n",
        "    recall = tp/(tp+fn)\n",
        "    precision = tp/(tp+fp)\n",
        "    bacc = (sensitivity + specificity)/2\n",
        "    MCC = (tp*tn-fp*fn)/np.sqrt((tp+fp)*(tp+fn)*(tn+fp)*(tn+fn))\n",
        "    AUC = roc_auc_score(arrange_y_true, arrange_y_prob)\n",
        "    f1 = 2*precision*recall/(precision+recall)\n",
        "    print(\"loss_sum= \",loss_sum, \"ACC= \",acc, \"bacc= \",bacc, \"precision= \",precision,\"specificity= \",specificity, \"sensitivity= \",sensitivity, \"recall= \",recall, \"MCC= \",MCC, \"AUC= \",AUC, \"f1= \",f1)\n",
        "    return loss_sum, acc, bacc   # , precision, sensitivity, recall, MCC, AUC, f1\n"
      ]
    },
    {
      "cell_type": "code",
      "source": [],
      "metadata": {
        "id": "qRJSjVTOtS5C"
      },
      "execution_count": null,
      "outputs": []
    },
    {
      "cell_type": "markdown",
      "metadata": {
        "id": "v8nCDCK9tS_5"
      },
      "source": [
        "## esm 2560 dimension\n",
        "\n",
        "add <5500 length"
      ]
    },
    {
      "cell_type": "code",
      "execution_count": null,
      "metadata": {
        "id": "80kKHpq8tS_5"
      },
      "outputs": [],
      "source": [
        "import os\n",
        "os.chdir('/content/drive/MyDrive/EC_number_kroll/esm2_2560_phylo')"
      ]
    },
    {
      "cell_type": "markdown",
      "metadata": {
        "id": "c4bBsyrrtS_6"
      },
      "source": [
        "### pretrain"
      ]
    },
    {
      "cell_type": "code",
      "execution_count": null,
      "metadata": {
        "id": "hy1WyY5otS_6"
      },
      "outputs": [],
      "source": [
        "def get_ds():\n",
        "    # Load the saved embeddings_results\n",
        "    ESP_train_df_enzy = torch.load('ESP_train_df_enzy_phylo.pt')\n",
        "    ESP_val_df_enzy = torch.load('ESP_val_df_enzy.pt')\n",
        "    ESP_test_df_enzy = torch.load('ESP_test_df_enzy.pt')\n",
        "    print(ESP_train_df_enzy.shape, ESP_val_df_enzy.shape, ESP_test_df_enzy.shape)\n",
        "    # Load the saved embeddings_results\n",
        "    ESP_train_df_smiles = torch.load('ESP_train_df_smiles_phylo.pt')\n",
        "    ESP_val_df_smiles = torch.load('ESP_val_df_smiles.pt')\n",
        "    ESP_test_df_smiles = torch.load('ESP_test_df_smiles.pt')\n",
        "    print(ESP_train_df_smiles.shape, ESP_val_df_smiles.shape, ESP_test_df_smiles.shape)\n",
        "\n",
        "    y_train = torch.load('ESP_train_df_label_phylo.pt')\n",
        "    y_val = torch.load('ESP_val_df_label.pt')\n",
        "    y_test = torch.load('ESP_test_df_label.pt')\n",
        "    print(y_train.shape,y_val.shape, y_test.shape)\n",
        "\n",
        "    ESP_train_df_enzy_add = torch.load('ESP_train_df_enzy_phylo_>2800_<5500.pt')\n",
        "    ESP_train_df_smiles_add = torch.load('ESP_train_df_smiles_phylo_>2800_<5500.pt')\n",
        "    y_train_add = torch.load('ESP_train_df_label_phylo_>2800_<5500.pt')\n",
        "    ESP_val_df_enzy_add = torch.load('ESP_val_df_enzy_>2800_<8000.pt')\n",
        "    ESP_test_df_enzy_add = torch.load('ESP_test_df_enzy_>2800_<8000.pt')\n",
        "    ESP_val_df_smiles_add = torch.load('ESP_val_df_smiles_>2800_<8000.pt')\n",
        "    ESP_test_df_smiles_add = torch.load('ESP_test_df_smiles_>2800_<8000.pt')\n",
        "    y_val_add = torch.load('ESP_val_df_label_>2800_<8000.pt')\n",
        "    y_test_add = torch.load('ESP_test_df_label_>2800_<8000.pt')\n",
        "    print(ESP_val_df_enzy_add.shape, ESP_val_df_smiles_add.shape, y_val_add.shape)\n",
        "    print(ESP_test_df_enzy_add.shape, ESP_test_df_smiles_add.shape, y_test_add.shape)\n",
        "\n",
        "    ESP_train_df_enzy = torch.cat([ESP_train_df_enzy, ESP_train_df_enzy_add], dim=0)\n",
        "    ESP_train_df_smiles = torch.cat([ESP_train_df_smiles, ESP_train_df_smiles_add], dim=0)\n",
        "    y_train = torch.cat([y_train, y_train_add], dim=0)\n",
        "    print(ESP_train_df_enzy.shape, ESP_train_df_smiles.shape, y_train.shape)\n",
        "\n",
        "    ESP_val_df_enzy = torch.cat([ESP_val_df_enzy, ESP_val_df_enzy_add], dim=0)\n",
        "    ESP_val_df_smiles = torch.cat([ESP_val_df_smiles, ESP_val_df_smiles_add], dim=0)\n",
        "    y_val = torch.cat([y_val, y_val_add], dim=0)\n",
        "    print(ESP_val_df_enzy.shape, ESP_val_df_smiles.shape, y_val.shape)\n",
        "    ESP_test_df_enzy = torch.cat([ESP_test_df_enzy, ESP_test_df_enzy_add], dim=0)\n",
        "    ESP_test_df_smiles = torch.cat([ESP_test_df_smiles, ESP_test_df_smiles_add], dim=0)\n",
        "    y_test = torch.cat([y_test, y_test_add], dim=0)\n",
        "    print(ESP_test_df_enzy.shape, ESP_test_df_smiles.shape, y_test.shape)\n",
        "\n",
        "\n",
        "    train_tensor_dataset = TensorDataset(ESP_train_df_enzy,ESP_train_df_smiles, y_train)\n",
        "    val_tensor_dataset = TensorDataset(ESP_val_df_enzy,ESP_val_df_smiles, y_val)\n",
        "    test_tensor_dataset = TensorDataset(ESP_test_df_enzy, ESP_test_df_smiles, y_test)\n",
        "\n",
        "    # Create TensorDataset and DataLoaders\n",
        "    batch_size = 512\n",
        "    train_loader = DataLoader(train_tensor_dataset, batch_size=batch_size, shuffle=True)\n",
        "    val_loader = DataLoader(val_tensor_dataset, batch_size=batch_size, shuffle=False)\n",
        "    test_loader = DataLoader(test_tensor_dataset, batch_size=batch_size, shuffle=False)\n",
        "    print(len(train_loader))\n",
        "    return train_loader,  val_loader, test_loader\n",
        "\n",
        "\n"
      ]
    },
    {
      "cell_type": "code",
      "execution_count": null,
      "metadata": {
        "id": "L-ggA3G5tS_6"
      },
      "outputs": [],
      "source": [
        "def run_validation(model, val_loader,loss_fn, device):\n",
        "    model.eval()\n",
        "    loss_sum = 0\n",
        "    num_batch = len(val_loader)\n",
        "    total_y_true=[]\n",
        "    total_y_pred=[]\n",
        "    total_y_prob=[]\n",
        "    for ESP_val_df_enzy,ESP_val_df_smiles, y_val in val_loader:\n",
        "\n",
        "        ESP_val_df_enzy = ESP_val_df_enzy.to(device)\n",
        "        ESP_val_df_smiles = ESP_val_df_smiles.to(device)\n",
        "        y_val = y_val.squeeze(1).to(device)\n",
        "\n",
        "        refined_enzy_embed, refined_smiles_embed = model(ESP_val_df_enzy,ESP_val_df_smiles)\n",
        "        cos_sim = torch.nn.functional.cosine_similarity(refined_enzy_embed, refined_smiles_embed, dim=1)\n",
        "        loss = loss_fn(cos_sim, y_val).detach().cpu().numpy()\n",
        "        loss_sum = loss_sum + loss # count all the loss in the training process\n",
        "        y_pred = (cos_sim > 0.5).float().cpu().numpy() # if score > 0.5, assign label 1 otherwise 0, transfer to cpu as numpy\n",
        "        total_y_true.append(y_val.cpu().numpy())\n",
        "        total_y_pred.append(y_pred)\n",
        "        total_y_prob.append(cos_sim.detach().cpu().numpy())\n",
        "\n",
        "    loss_sum = loss_sum/num_batch # get the overall average loss (Notice: this method is not 100% accurate)\n",
        "\n",
        "    arrange_y_true = np.concatenate(total_y_true, axis=0)\n",
        "    arrange_y_pred = np.concatenate(total_y_pred, axis=0)\n",
        "    arrange_y_prob = np.concatenate(total_y_prob, axis=0)\n",
        "    tn,fp,fn,tp = confusion_matrix(arrange_y_true, arrange_y_pred).ravel()\n",
        "    acc = (tp+tn)/(tp+tn+fp+fn)\n",
        "    specificity = tn/(tn+fp)\n",
        "    sensitivity = tp/(tp+fn)\n",
        "    precision = tp/(tp+fp)\n",
        "    bacc = (sensitivity + specificity)/2\n",
        "    recall = tp/(tp+fn)\n",
        "    MCC = (tp*tn-fp*fn)/np.sqrt((tp+fp)*(tp+fn)*(tn+fp)*(tn+fn))\n",
        "    AUC = roc_auc_score(arrange_y_true, arrange_y_prob)\n",
        "    f1 = 2*precision*recall/(precision+recall)\n",
        "    print(loss_sum, acc, bacc, precision, sensitivity, recall, MCC, AUC, f1)\n",
        "    return loss_sum, acc, bacc   # , precision, sensitivity, recall, MCC, AUC, f1\n"
      ]
    },
    {
      "cell_type": "code",
      "execution_count": null,
      "metadata": {
        "id": "Mm2PAkxqtS_6"
      },
      "outputs": [],
      "source": [
        "import torch\n",
        "import torch.nn as nn\n",
        "\n",
        "class Contrastive_learning_layer(nn.Module):\n",
        "    def __init__(self):\n",
        "        super().__init__()\n",
        "        self.enzy_refine_layer_1 = nn.Linear(2560, 2560) # W1 and b\n",
        "        self.smiles_refine_layer_1 = nn.Linear(768, 768) # W1 and b\n",
        "        self.enzy_refine_layer_2 = nn.Linear(2560, 128) # W1 and b\n",
        "        self.smiles_refine_layer_2 = nn.Linear(768, 128) # W1 and b\n",
        "\n",
        "        self.relu = nn.ReLU()\n",
        "        self.batch_norm_enzy = nn.BatchNorm1d(2560)\n",
        "        self.batch_norm_smiles = nn.BatchNorm1d(768)\n",
        "        self.batch_norm_shared = nn.BatchNorm1d(128)\n",
        "\n",
        "    def forward(self, enzy_embed, smiles_embed):\n",
        "        refined_enzy_embed = self.enzy_refine_layer_1(enzy_embed)\n",
        "        refined_smiles_embed = self.smiles_refine_layer_1(smiles_embed)\n",
        "\n",
        "        refined_enzy_embed = self.batch_norm_enzy(refined_enzy_embed)\n",
        "        refined_smiles_embed = self.batch_norm_smiles(refined_smiles_embed)\n",
        "\n",
        "        refined_enzy_embed = self.relu(refined_enzy_embed)\n",
        "        refined_smiles_embed = self.relu(refined_smiles_embed)\n",
        "\n",
        "        refined_enzy_embed = self.enzy_refine_layer_2(refined_enzy_embed)\n",
        "        refined_smiles_embed = self.smiles_refine_layer_2(refined_smiles_embed)\n",
        "\n",
        "        refined_enzy_embed = self.batch_norm_shared(refined_enzy_embed)\n",
        "        refined_smiles_embed = self.batch_norm_shared(refined_smiles_embed)\n",
        "        refined_enzy_embed = torch.nn.functional.normalize(refined_enzy_embed, dim=1)\n",
        "        refined_smiles_embed = torch.nn.functional.normalize(refined_smiles_embed, dim=1)\n",
        "\n",
        "        return refined_enzy_embed, refined_smiles_embed\n"
      ]
    },
    {
      "cell_type": "code",
      "execution_count": null,
      "metadata": {
        "id": "8Ybpce0qtS_6"
      },
      "outputs": [],
      "source": [
        "# design the model, optimizer and loss function\n",
        "model = Contrastive_learning_layer().to(device)\n",
        "train_loader,  val_loader, test_loader = get_ds()\n",
        "optimizer = torch.optim.Adam(model.parameters(),lr= 1e-03)\n",
        "loss_fn = nn.MSELoss().to(device)"
      ]
    },
    {
      "cell_type": "code",
      "execution_count": null,
      "metadata": {
        "id": "8E4s38QOtS_6"
      },
      "outputs": [],
      "source": [
        "# torch.Size([764449, 2560]) torch.Size([5399, 2560]) torch.Size([13312, 2560])\n",
        "# torch.Size([764449, 768]) torch.Size([5399, 768]) torch.Size([13312, 768])\n",
        "# torch.Size([764449, 1]) torch.Size([5399, 1]) torch.Size([13312, 1])\n",
        "# 1494"
      ]
    },
    {
      "cell_type": "code",
      "execution_count": null,
      "metadata": {
        "id": "4DFp8IGStS_6"
      },
      "outputs": [],
      "source": [
        "initial_epoch = 0\n",
        "best_epoch = -1\n",
        "best_accuracy = 0.5\n",
        "for epoch in range(initial_epoch, 500):\n",
        "    torch.cuda.empty_cache()\n",
        "    model.train()\n",
        "    with tqdm(train_loader, desc='Processing', unit=\"batch\") as tepoch:\n",
        "        for ESP_train_df_enzy,ESP_train_df_smiles, y_train in tepoch:\n",
        "            model.train()\n",
        "            tepoch.set_description(f\"Epoch {epoch}\")\n",
        "            ESP_train_df_enzy = ESP_train_df_enzy.to(device)\n",
        "            ESP_train_df_smiles = ESP_train_df_smiles.to(device)\n",
        "            y_train = y_train.squeeze(1).to(device)\n",
        "            refined_enzy_embed, refined_smiles_embed = model(ESP_train_df_enzy,ESP_train_df_smiles)\n",
        "            cosine_sim = torch.nn.functional.cosine_similarity(refined_enzy_embed, refined_smiles_embed, dim=1)\n",
        "            loss = loss_fn(cosine_sim, y_train)\n",
        "            loss.backward()\n",
        "            optimizer.step()\n",
        "            optimizer.zero_grad(set_to_none=True) #\n",
        "            tepoch.set_postfix(train_loss=loss)\n",
        "            # tepoch.set_postfix(val_loss=loss_sum_val, val_accuracy=100. * acc_val, balanced_val_accuracy=100. * bacc_val)\n",
        "        loss_sum_val,acc_val, bacc_val = run_validation(model,val_loader,loss_fn, device)\n",
        "        print('Epoch: %d / %d, ############## the best accuracy in val  %.4f at Epoch: %d  ##############'  % (epoch, 500,100 * best_accuracy,best_epoch))\n",
        "        # print('Performance in Train: Loss: (%.4f); Accuracy (%.2f)' % (loss_sum, 100 * acc))\n",
        "        print('Performance in Val: Loss: (%.4f); Accuracy (%.2f)' % (loss_sum_val, 100 * acc_val))\n",
        "        # checkpoint(model, f\"epoch-{epoch}.pth\")\n",
        "        if acc_val > best_accuracy: # compare the performance updates at the val set\n",
        "            best_accuracy = acc_val\n",
        "            best_epoch = epoch\n",
        "            torch.save(model, \"best_model_phylo.pt\")\n",
        "\n"
      ]
    },
    {
      "cell_type": "code",
      "execution_count": null,
      "metadata": {
        "colab": {
          "base_uri": "https://localhost:8080/"
        },
        "id": "xZxmFUy_Hg2Q",
        "outputId": "15e4d620-80ab-4bac-b22c-932e41b5485d"
      },
      "outputs": [
        {
          "name": "stdout",
          "output_type": "stream",
          "text": [
            "0.045961483297022904 0.9509168364511946 0.918270512718636 0.9603174603174603 0.8491228070175438 0.8491228070175438 0.8717172139992759 0.9605040659020475 0.9013035381750465\n"
          ]
        },
        {
          "data": {
            "text/plain": [
              "(0.045961483297022904, 0.9509168364511946, 0.918270512718636)"
            ]
          },
          "execution_count": 54,
          "metadata": {},
          "output_type": "execute_result"
        }
      ],
      "source": [
        "import torch\n",
        "# Specify the file path where the entire model is saved\n",
        "load_path = 'best_model.pt'\n",
        "\n",
        "# Load the entire model\n",
        "model_test = torch.load(load_path)\n",
        "# model_test.to('cuda')\n",
        "# rename the baseline model\n",
        "torch.save(model_test, 'best_model_esm2_2560_pretrain_phylo.pt')\n",
        "run_validation(model_test,val_loader,loss_fn, device)"
      ]
    },
    {
      "cell_type": "code",
      "execution_count": null,
      "metadata": {
        "colab": {
          "base_uri": "https://localhost:8080/"
        },
        "id": "8Xf-pSJHqggf",
        "outputId": "021cc7fa-f196-4426-97ab-cd0a425a3018"
      },
      "outputs": [
        {
          "name": "stdout",
          "output_type": "stream",
          "text": [
            "0.045961483297022904 0.9509168364511946 0.918270512718636 0.9603174603174603 0.8491228070175438 0.8491228070175438 0.8717172139992759 0.9605040659020475 0.9013035381750465\n",
            "0.05330231875324479 0.9398287259615384 0.9012593801718469 0.9448275862068966 0.8196581196581196 0.8196581196581196 0.8418809286602347 0.9567112589965068 0.8778032036613271\n"
          ]
        },
        {
          "data": {
            "text/plain": [
              "(0.05330231875324479, 0.9398287259615384, 0.9012593801718469)"
            ]
          },
          "execution_count": 55,
          "metadata": {},
          "output_type": "execute_result"
        }
      ],
      "source": [
        "run_validation(model_test,val_loader,loss_fn, device)\n",
        "run_validation(model_test,test_loader,loss_fn, device)"
      ]
    },
    {
      "cell_type": "markdown",
      "metadata": {
        "id": "diOfnF8LtS_6"
      },
      "source": [
        "### fine tuning\n",
        "the optimizer state and model will be continue trainin on the smaller train dataset"
      ]
    },
    {
      "cell_type": "code",
      "execution_count": null,
      "metadata": {
        "id": "VSOQX-YutS_6"
      },
      "outputs": [],
      "source": [
        "def get_ds():\n",
        "    # Load the saved embeddings_results\n",
        "    ESP_train_df_enzy = torch.load('ESP_train_df_enzy.pt')\n",
        "    ESP_val_df_enzy = torch.load('ESP_val_df_enzy.pt')\n",
        "    ESP_test_df_enzy = torch.load('ESP_test_df_enzy.pt')\n",
        "    print(ESP_train_df_enzy.shape, ESP_val_df_enzy.shape, ESP_test_df_enzy.shape)\n",
        "    # Load the saved embeddings_results\n",
        "    ESP_train_df_smiles = torch.load('ESP_train_df_smiles.pt')\n",
        "    ESP_val_df_smiles = torch.load('ESP_val_df_smiles.pt')\n",
        "    ESP_test_df_smiles = torch.load('ESP_test_df_smiles.pt')\n",
        "    print(ESP_train_df_smiles.shape, ESP_val_df_smiles.shape, ESP_test_df_smiles.shape)\n",
        "\n",
        "    y_train = torch.load( 'ESP_train_df_label.pt')\n",
        "    y_val = torch.load('ESP_val_df_label.pt')\n",
        "    y_test = torch.load('ESP_test_df_label.pt')\n",
        "\n",
        "    print(y_train.shape,y_val.shape, y_test.shape)\n",
        "    ESP_train_df_enzy_add = torch.load('ESP_train_df_enzy_>2800_<5500.pt')\n",
        "    ESP_train_df_smiles_add = torch.load('ESP_train_df_smiles_>2800_<5500.pt')\n",
        "    y_train_add = torch.load('ESP_train_df_label_>2800_<5500.pt')\n",
        "\n",
        "    ESP_val_df_enzy_add = torch.load('ESP_val_df_enzy_>2800_<8000.pt')\n",
        "    ESP_test_df_enzy_add = torch.load('ESP_test_df_enzy_>2800_<8000.pt')\n",
        "    ESP_val_df_smiles_add = torch.load('ESP_val_df_smiles_>2800_<8000.pt')\n",
        "    ESP_test_df_smiles_add = torch.load('ESP_test_df_smiles_>2800_<8000.pt')\n",
        "    y_val_add = torch.load('ESP_val_df_label_>2800_<8000.pt')\n",
        "    y_test_add = torch.load('ESP_test_df_label_>2800_<8000.pt')\n",
        "    print(ESP_val_df_enzy_add.shape, ESP_val_df_smiles_add.shape, y_val_add.shape)\n",
        "    print(ESP_test_df_enzy_add.shape, ESP_test_df_smiles_add.shape, y_test_add.shape)\n",
        "\n",
        "    ESP_train_df_enzy = torch.cat([ESP_train_df_enzy, ESP_train_df_enzy_add], dim=0)\n",
        "    ESP_train_df_smiles = torch.cat([ESP_train_df_smiles, ESP_train_df_smiles_add], dim=0)\n",
        "    y_train = torch.cat([y_train, y_train_add], dim=0)\n",
        "    print(ESP_train_df_enzy.shape, ESP_train_df_smiles.shape, y_train.shape)\n",
        "\n",
        "    ESP_val_df_enzy = torch.cat([ESP_val_df_enzy, ESP_val_df_enzy_add], dim=0)\n",
        "    ESP_val_df_smiles = torch.cat([ESP_val_df_smiles, ESP_val_df_smiles_add], dim=0)\n",
        "    y_val = torch.cat([y_val, y_val_add], dim=0)\n",
        "    print(ESP_val_df_enzy.shape, ESP_val_df_smiles.shape, y_val.shape)\n",
        "    ESP_test_df_enzy = torch.cat([ESP_test_df_enzy, ESP_test_df_enzy_add], dim=0)\n",
        "    ESP_test_df_smiles = torch.cat([ESP_test_df_smiles, ESP_test_df_smiles_add], dim=0)\n",
        "    y_test = torch.cat([y_test, y_test_add], dim=0)\n",
        "    print(ESP_test_df_enzy.shape, ESP_test_df_smiles.shape, y_test.shape)\n",
        "\n",
        "    train_tensor_dataset = TensorDataset(ESP_train_df_enzy,ESP_train_df_smiles, y_train)\n",
        "    val_tensor_dataset = TensorDataset(ESP_val_df_enzy,ESP_val_df_smiles, y_val)\n",
        "    test_tensor_dataset = TensorDataset(ESP_test_df_enzy, ESP_test_df_smiles, y_test)\n",
        "\n",
        "    # Create TensorDataset and DataLoaders\n",
        "    batch_size = 16\n",
        "    train_loader = DataLoader(train_tensor_dataset, batch_size=batch_size, shuffle=True)\n",
        "    val_loader = DataLoader(val_tensor_dataset, batch_size=batch_size, shuffle=False)\n",
        "    test_loader = DataLoader(test_tensor_dataset, batch_size=batch_size, shuffle=False)\n",
        "    print(len(train_loader))\n",
        "    return train_loader,  val_loader, test_loader"
      ]
    },
    {
      "cell_type": "code",
      "execution_count": null,
      "metadata": {
        "colab": {
          "base_uri": "https://localhost:8080/"
        },
        "outputId": "7a2a9934-58b0-4932-e67e-db2aa60b7f24",
        "id": "Z5AD07BntS_7"
      },
      "outputs": [
        {
          "output_type": "stream",
          "name": "stdout",
          "text": [
            "torch.Size([49881, 2560]) torch.Size([5399, 2560]) torch.Size([13312, 2560])\n",
            "torch.Size([49881, 768]) torch.Size([5399, 768]) torch.Size([13312, 768])\n",
            "torch.Size([49881, 1]) torch.Size([5399, 1]) torch.Size([13312, 1])\n",
            "torch.Size([23, 2560]) torch.Size([23, 768]) torch.Size([23, 1])\n",
            "torch.Size([24, 2560]) torch.Size([24, 768]) torch.Size([24, 1])\n",
            "torch.Size([50061, 2560]) torch.Size([50061, 768]) torch.Size([50061, 1])\n",
            "torch.Size([5422, 2560]) torch.Size([5422, 768]) torch.Size([5422, 1])\n",
            "torch.Size([13336, 2560]) torch.Size([13336, 768]) torch.Size([13336, 1])\n",
            "3129\n"
          ]
        }
      ],
      "source": [
        "# laod the smaller training dataset\n",
        "train_loader,  val_loader, test_loader = get_ds()\n",
        "loss_fn = nn.MSELoss().to(device)"
      ]
    },
    {
      "cell_type": "code",
      "execution_count": null,
      "metadata": {
        "colab": {
          "base_uri": "https://localhost:8080/"
        },
        "outputId": "5719cdd0-7ee3-4af1-ee53-e0b145552f38",
        "id": "QcFISB05tS_7"
      },
      "outputs": [
        {
          "output_type": "stream",
          "name": "stderr",
          "text": [
            "Epoch 0: 100%|██████████| 3129/3129 [00:29<00:00, 104.93batch/s, train_loss=tensor(0.0210, device='cuda:0', grad_fn=<MseLossBackward0>)]\n"
          ]
        },
        {
          "output_type": "stream",
          "name": "stdout",
          "text": [
            "0.04715318123261914 0.950387310955367 0.917664237896553 0.9589257503949447 0.8483577917540182 0.8483577917540182 0.870288700728639 0.967698022857509 0.9002595476455321\n",
            "Epoch: 0 / 30, ############## the best accuracy in val  50.0000 at Epoch: -1  ##############\n",
            "Performance in Val: Loss: (0.0472); Accuracy (95.04)\n"
          ]
        },
        {
          "output_type": "stream",
          "name": "stderr",
          "text": [
            "Epoch 1: 100%|██████████| 3129/3129 [00:29<00:00, 107.42batch/s, train_loss=tensor(0.0128, device='cuda:0', grad_fn=<MseLossBackward0>)]\n"
          ]
        },
        {
          "output_type": "stream",
          "name": "stdout",
          "text": [
            "0.0469797490450353 0.9502028771670971 0.9188837007655765 0.9538702111024238 0.8525506638714185 0.8525506638714185 0.8697439157645054 0.9684306285928805 0.9003690036900368\n",
            "Epoch: 1 / 30, ############## the best accuracy in val  95.0387 at Epoch: 0  ##############\n",
            "Performance in Val: Loss: (0.0470); Accuracy (95.02)\n"
          ]
        },
        {
          "output_type": "stream",
          "name": "stderr",
          "text": [
            "Epoch 2: 100%|██████████| 3129/3129 [00:29<00:00, 107.13batch/s, train_loss=tensor(0.0411, device='cuda:0', grad_fn=<MseLossBackward0>)]\n"
          ]
        },
        {
          "output_type": "stream",
          "name": "stdout",
          "text": [
            "0.04626670455306653 0.950940612320177 0.9200572006791661 0.9547228727556596 0.8546470999301188 0.8546470999301188 0.8717098033861648 0.9710618108073705 0.9019174041297935\n",
            "Epoch: 2 / 30, ############## the best accuracy in val  95.0387 at Epoch: 0  ##############\n",
            "Performance in Val: Loss: (0.0463); Accuracy (95.09)\n"
          ]
        },
        {
          "output_type": "stream",
          "name": "stderr",
          "text": [
            "Epoch 3: 100%|██████████| 3129/3129 [00:29<00:00, 106.01batch/s, train_loss=tensor(0.0403, device='cuda:0', grad_fn=<MseLossBackward0>)]\n"
          ]
        },
        {
          "output_type": "stream",
          "name": "stdout",
          "text": [
            "0.045788523549788185 0.9535226853559572 0.9242765124395018 0.9573312645461598 0.8623340321453529 0.8623340321453529 0.8785783667169739 0.9691315417761242 0.9073529411764706\n",
            "Epoch: 3 / 30, ############## the best accuracy in val  95.0941 at Epoch: 2  ##############\n",
            "Performance in Val: Loss: (0.0458); Accuracy (95.35)\n"
          ]
        },
        {
          "output_type": "stream",
          "name": "stderr",
          "text": [
            "Epoch 4: 100%|██████████| 3129/3129 [00:29<00:00, 106.43batch/s, train_loss=tensor(0.0214, device='cuda:0', grad_fn=<MseLossBackward0>)]\n"
          ]
        },
        {
          "output_type": "stream",
          "name": "stdout",
          "text": [
            "0.045916727859599674 0.9524160826263371 0.9230765728829768 0.95429899302866 0.8609364081062194 0.8609364081062194 0.8756265784705587 0.970704963176231 0.90521675238795\n",
            "Epoch: 4 / 30, ############## the best accuracy in val  95.3523 at Epoch: 3  ##############\n",
            "Performance in Val: Loss: (0.0459); Accuracy (95.24)\n"
          ]
        },
        {
          "output_type": "stream",
          "name": "stderr",
          "text": [
            "Epoch 5: 100%|██████████| 3129/3129 [00:29<00:00, 107.56batch/s, train_loss=tensor(0.0267, device='cuda:0', grad_fn=<MseLossBackward0>)]\n"
          ]
        },
        {
          "output_type": "stream",
          "name": "stdout",
          "text": [
            "0.045343336222554584 0.9540759867207672 0.9246523580922204 0.9595645412130638 0.8623340321453529 0.8623340321453529 0.8800624013696902 0.9704643799352176 0.9083548030916451\n",
            "Epoch: 5 / 30, ############## the best accuracy in val  95.3523 at Epoch: 3  ##############\n",
            "Performance in Val: Loss: (0.0453); Accuracy (95.41)\n"
          ]
        },
        {
          "output_type": "stream",
          "name": "stderr",
          "text": [
            "Epoch 6: 100%|██████████| 3129/3129 [00:28<00:00, 108.00batch/s, train_loss=tensor(0.0269, device='cuda:0', grad_fn=<MseLossBackward0>)]\n"
          ]
        },
        {
          "output_type": "stream",
          "name": "stdout",
          "text": [
            "0.04583672203905166 0.9527849502028771 0.9231030125259122 0.9564879564879565 0.8602375960866527 0.8602375960866527 0.876616747759865 0.9683942084224796 0.9058130978660781\n",
            "Epoch: 6 / 30, ############## the best accuracy in val  95.4076 at Epoch: 5  ##############\n",
            "Performance in Val: Loss: (0.0458); Accuracy (95.28)\n"
          ]
        },
        {
          "output_type": "stream",
          "name": "stderr",
          "text": [
            "Epoch 7: 100%|██████████| 3129/3129 [00:28<00:00, 108.10batch/s, train_loss=tensor(0.0147, device='cuda:0', grad_fn=<MseLossBackward0>)]\n"
          ]
        },
        {
          "output_type": "stream",
          "name": "stdout",
          "text": [
            "0.04574914216469138 0.9527849502028771 0.9228788884003684 0.9571984435797666 0.859538784067086 0.859538784067086 0.8766219811907936 0.9708221030512223 0.9057437407952873\n",
            "Epoch: 7 / 30, ############## the best accuracy in val  95.4076 at Epoch: 5  ##############\n",
            "Performance in Val: Loss: (0.0457); Accuracy (95.28)\n"
          ]
        },
        {
          "output_type": "stream",
          "name": "stderr",
          "text": [
            "Epoch 8: 100%|██████████| 3129/3129 [00:29<00:00, 105.29batch/s, train_loss=tensor(0.0961, device='cuda:0', grad_fn=<MseLossBackward0>)]\n"
          ]
        },
        {
          "output_type": "stream",
          "name": "stdout",
          "text": [
            "0.045207688233273924 0.9533382515676871 0.9248236029318937 0.9544753086419753 0.8644304682040531 0.8644304682040531 0.8780761915777204 0.9698909373483768 0.9072240557389073\n",
            "Epoch: 8 / 30, ############## the best accuracy in val  95.4076 at Epoch: 5  ##############\n",
            "Performance in Val: Loss: (0.0452); Accuracy (95.33)\n"
          ]
        },
        {
          "output_type": "stream",
          "name": "stderr",
          "text": [
            "Epoch 9: 100%|██████████| 3129/3129 [00:29<00:00, 106.88batch/s, train_loss=tensor(0.0465, device='cuda:0', grad_fn=<MseLossBackward0>)]\n"
          ]
        },
        {
          "output_type": "stream",
          "name": "stdout",
          "text": [
            "0.045980287928018816 0.9526005164146072 0.9227536065161288 0.9564541213063764 0.859538784067086 0.859538784067086 0.8761273711271481 0.968049617579456 0.9054103790945895\n",
            "Epoch: 9 / 30, ############## the best accuracy in val  95.4076 at Epoch: 5  ##############\n",
            "Performance in Val: Loss: (0.0460); Accuracy (95.26)\n"
          ]
        },
        {
          "output_type": "stream",
          "name": "stderr",
          "text": [
            "Epoch 10: 100%|██████████| 3129/3129 [00:29<00:00, 105.95batch/s, train_loss=tensor(0.0499, device='cuda:0', grad_fn=<MseLossBackward0>)]\n"
          ]
        },
        {
          "output_type": "stream",
          "name": "stdout",
          "text": [
            "0.04539337994120081 0.9538915529324973 0.9254235727101563 0.955984555984556 0.8651292802236199 0.8651292802236199 0.8795491399344896 0.9692542847542539 0.9082905355832722\n",
            "Epoch: 10 / 30, ############## the best accuracy in val  95.4076 at Epoch: 5  ##############\n",
            "Performance in Val: Loss: (0.0454); Accuracy (95.39)\n"
          ]
        },
        {
          "output_type": "stream",
          "name": "stderr",
          "text": [
            "Epoch 11: 100%|██████████| 3129/3129 [00:29<00:00, 107.31batch/s, train_loss=tensor(0.0684, device='cuda:0', grad_fn=<MseLossBackward0>)]\n"
          ]
        },
        {
          "output_type": "stream",
          "name": "stdout",
          "text": [
            "0.045506383450688095 0.9526005164146072 0.9232018547672165 0.9550387596899225 0.8609364081062194 0.8609364081062194 0.8761192592090243 0.9688709974801794 0.9055494303564866\n",
            "Epoch: 11 / 30, ############## the best accuracy in val  95.4076 at Epoch: 5  ##############\n",
            "Performance in Val: Loss: (0.0455); Accuracy (95.26)\n"
          ]
        },
        {
          "output_type": "stream",
          "name": "stderr",
          "text": [
            "Epoch 12: 100%|██████████| 3129/3129 [00:29<00:00, 107.84batch/s, train_loss=tensor(0.0606, device='cuda:0', grad_fn=<MseLossBackward0>)]\n"
          ]
        },
        {
          "output_type": "stream",
          "name": "stdout",
          "text": [
            "0.04546304533716874 0.9533382515676871 0.9254959753085252 0.9523809523809523 0.8665269042627534 0.8665269042627534 0.8780758501013487 0.9689816587671667 0.907427735089645\n",
            "Epoch: 12 / 30, ############## the best accuracy in val  95.4076 at Epoch: 5  ##############\n",
            "Performance in Val: Loss: (0.0455); Accuracy (95.33)\n"
          ]
        },
        {
          "output_type": "stream",
          "name": "stderr",
          "text": [
            "Epoch 13: 100%|██████████| 3129/3129 [00:29<00:00, 107.21batch/s, train_loss=tensor(0.0277, device='cuda:0', grad_fn=<MseLossBackward0>)]\n"
          ]
        },
        {
          "output_type": "stream",
          "name": "stdout",
          "text": [
            "0.04483354151259921 0.9533382515676871 0.9254959753085252 0.9523809523809523 0.8665269042627534 0.8665269042627534 0.8780758501013487 0.9699322602340241 0.907427735089645\n",
            "Epoch: 13 / 30, ############## the best accuracy in val  95.4076 at Epoch: 5  ##############\n",
            "Performance in Val: Loss: (0.0448); Accuracy (95.33)\n"
          ]
        },
        {
          "output_type": "stream",
          "name": "stderr",
          "text": [
            "Epoch 14: 100%|██████████| 3129/3129 [00:29<00:00, 107.16batch/s, train_loss=tensor(0.0191, device='cuda:0', grad_fn=<MseLossBackward0>)]\n"
          ]
        },
        {
          "output_type": "stream",
          "name": "stdout",
          "text": [
            "0.045459655841886666 0.9524160826263371 0.9235248211340645 0.9528957528957529 0.8623340321453529 0.8623340321453529 0.8756235339670966 0.9684484884841347 0.9053558327219369\n",
            "Epoch: 14 / 30, ############## the best accuracy in val  95.4076 at Epoch: 5  ##############\n",
            "Performance in Val: Loss: (0.0455); Accuracy (95.24)\n"
          ]
        },
        {
          "output_type": "stream",
          "name": "stderr",
          "text": [
            "Epoch 15: 100%|██████████| 3129/3129 [00:29<00:00, 107.61batch/s, train_loss=tensor(0.0075, device='cuda:0', grad_fn=<MseLossBackward0>)]\n"
          ]
        },
        {
          "output_type": "stream",
          "name": "stdout",
          "text": [
            "0.046026674049128954 0.9535226853559572 0.9245006365650457 0.9566227730441518 0.8630328441649197 0.8630328441649197 0.8785739125688684 0.9675737040066213 0.9074210139603234\n",
            "Epoch: 15 / 30, ############## the best accuracy in val  95.4076 at Epoch: 5  ##############\n",
            "Performance in Val: Loss: (0.0460); Accuracy (95.35)\n"
          ]
        },
        {
          "output_type": "stream",
          "name": "stderr",
          "text": [
            "Epoch 16: 100%|██████████| 3129/3129 [00:29<00:00, 105.58batch/s, train_loss=tensor(0.0331, device='cuda:0', grad_fn=<MseLossBackward0>)]\n"
          ]
        },
        {
          "output_type": "stream",
          "name": "stdout",
          "text": [
            "0.04444817181197228 0.9540759867207672 0.9259971028454834 0.9553158705701078 0.8665269042627534 0.8665269042627534 0.8800364236051961 0.9714599813241569 0.9087577867350678\n",
            "Epoch: 16 / 30, ############## the best accuracy in val  95.4076 at Epoch: 5  ##############\n",
            "Performance in Val: Loss: (0.0444); Accuracy (95.41)\n"
          ]
        },
        {
          "output_type": "stream",
          "name": "stderr",
          "text": [
            "Epoch 17: 100%|██████████| 3129/3129 [00:29<00:00, 106.52batch/s, train_loss=tensor(0.0246, device='cuda:0', grad_fn=<MseLossBackward0>)]\n"
          ]
        },
        {
          "output_type": "stream",
          "name": "stdout",
          "text": [
            "0.046024481904662726 0.9529693839911472 0.9225559220335202 0.959375 0.8581411600279525 0.8581411600279525 0.8771317606745003 0.9682879245598193 0.9059387679822943\n",
            "Epoch: 17 / 30, ############## the best accuracy in val  95.4076 at Epoch: 5  ##############\n",
            "Performance in Val: Loss: (0.0460); Accuracy (95.30)\n"
          ]
        },
        {
          "output_type": "stream",
          "name": "stderr",
          "text": [
            "Epoch 18: 100%|██████████| 3129/3129 [00:29<00:00, 107.03batch/s, train_loss=tensor(0.0162, device='cuda:0', grad_fn=<MseLossBackward0>)]\n"
          ]
        },
        {
          "output_type": "stream",
          "name": "stdout",
          "text": [
            "0.04481422137276745 0.9533382515676871 0.9237029823041746 0.9580093312597201 0.8609364081062194 0.8609364081062194 0.8780948862484191 0.9703654501454267 0.9068825910931175\n",
            "Epoch: 18 / 30, ############## the best accuracy in val  95.4076 at Epoch: 5  ##############\n",
            "Performance in Val: Loss: (0.0448); Accuracy (95.33)\n"
          ]
        },
        {
          "output_type": "stream",
          "name": "stderr",
          "text": [
            "Epoch 19: 100%|██████████| 3129/3129 [00:28<00:00, 108.28batch/s, train_loss=tensor(0.0488, device='cuda:0', grad_fn=<MseLossBackward0>)]\n"
          ]
        },
        {
          "output_type": "stream",
          "name": "stdout",
          "text": [
            "0.04496904296778516 0.9551825894503874 0.927645290653096 0.9569230769230769 0.8693221523410203 0.8693221523410203 0.8829755956499008 0.9687030794829947 0.9110216038081289\n",
            "Epoch: 19 / 30, ############## the best accuracy in val  95.4076 at Epoch: 5  ##############\n",
            "Performance in Val: Loss: (0.0450); Accuracy (95.52)\n"
          ]
        },
        {
          "output_type": "stream",
          "name": "stderr",
          "text": [
            "Epoch 20: 100%|██████████| 3129/3129 [00:28<00:00, 108.32batch/s, train_loss=tensor(0.0154, device='cuda:0', grad_fn=<MseLossBackward0>)]\n"
          ]
        },
        {
          "output_type": "stream",
          "name": "stdout",
          "text": [
            "0.04527348172225904 0.9535226853559572 0.9256212571927648 0.9531129900076863 0.8665269042627534 0.8665269042627534 0.8785652692655349 0.9673516810447547 0.9077598828696924\n",
            "Epoch: 20 / 30, ############## the best accuracy in val  95.5183 at Epoch: 19  ##############\n",
            "Performance in Val: Loss: (0.0453); Accuracy (95.35)\n"
          ]
        },
        {
          "output_type": "stream",
          "name": "stderr",
          "text": [
            "Epoch 21: 100%|██████████| 3129/3129 [00:28<00:00, 108.20batch/s, train_loss=tensor(0.0235, device='cuda:0', grad_fn=<MseLossBackward0>)]\n"
          ]
        },
        {
          "output_type": "stream",
          "name": "stdout",
          "text": [
            "0.044660984732864485 0.9527849502028771 0.9239995090280875 0.9536679536679536 0.8630328441649197 0.8630328441649197 0.8766049354589448 0.9695195566684719 0.9060895084372708\n",
            "Epoch: 21 / 30, ############## the best accuracy in val  95.5183 at Epoch: 19  ##############\n",
            "Performance in Val: Loss: (0.0447); Accuracy (95.28)\n"
          ]
        },
        {
          "output_type": "stream",
          "name": "stderr",
          "text": [
            "Epoch 22: 100%|██████████| 3129/3129 [00:28<00:00, 107.98batch/s, train_loss=tensor(0.0162, device='cuda:0', grad_fn=<MseLossBackward0>)]\n"
          ]
        },
        {
          "output_type": "stream",
          "name": "stdout",
          "text": [
            "0.04479294493457901 0.9542604205090373 0.9258982606041791 0.9567567567567568 0.8658280922431866 0.8658280922431866 0.8805305414263378 0.9692598878573926 0.909024211298606\n",
            "Epoch: 22 / 30, ############## the best accuracy in val  95.5183 at Epoch: 19  ##############\n",
            "Performance in Val: Loss: (0.0448); Accuracy (95.43)\n"
          ]
        },
        {
          "output_type": "stream",
          "name": "stderr",
          "text": [
            "Epoch 23: 100%|██████████| 3129/3129 [00:29<00:00, 107.78batch/s, train_loss=tensor(0.0291, device='cuda:0', grad_fn=<MseLossBackward0>)]\n"
          ]
        },
        {
          "output_type": "stream",
          "name": "stdout",
          "text": [
            "0.04461904449847178 0.9546292880855772 0.9265970726237458 0.9568234387047032 0.86722571628232 0.86722571628232 0.8815086593567669 0.9698182721045483 0.9098240469208211\n",
            "Epoch: 23 / 30, ############## the best accuracy in val  95.5183 at Epoch: 19  ##############\n",
            "Performance in Val: Loss: (0.0446); Accuracy (95.46)\n"
          ]
        },
        {
          "output_type": "stream",
          "name": "stderr",
          "text": [
            "Epoch 24: 100%|██████████| 3129/3129 [00:29<00:00, 107.52batch/s, train_loss=tensor(0.0359, device='cuda:0', grad_fn=<MseLossBackward0>)]\n"
          ]
        },
        {
          "output_type": "stream",
          "name": "stdout",
          "text": [
            "0.044980444671011977 0.9544448542973073 0.9262476666139625 0.9567901234567902 0.8665269042627534 0.8665269042627534 0.8810196165802044 0.9692497322329539 0.9094242757609095\n",
            "Epoch: 24 / 30, ############## the best accuracy in val  95.5183 at Epoch: 19  ##############\n",
            "Performance in Val: Loss: (0.0450); Accuracy (95.44)\n"
          ]
        },
        {
          "output_type": "stream",
          "name": "stderr",
          "text": [
            "Epoch 25: 100%|██████████| 3129/3129 [00:29<00:00, 106.46batch/s, train_loss=tensor(0.0254, device='cuda:0', grad_fn=<MseLossBackward0>)]\n"
          ]
        },
        {
          "output_type": "stream",
          "name": "stdout",
          "text": [
            "0.044953106516205696 0.9548137218738473 0.9269464786335293 0.9568567026194145 0.8679245283018868 0.8679245283018868 0.881997669978912 0.9669496583945604 0.9102235251007694\n",
            "Epoch: 25 / 30, ############## the best accuracy in val  95.5183 at Epoch: 19  ##############\n",
            "Performance in Val: Loss: (0.0450); Accuracy (95.48)\n"
          ]
        },
        {
          "output_type": "stream",
          "name": "stderr",
          "text": [
            "Epoch 26: 100%|██████████| 3129/3129 [00:28<00:00, 108.27batch/s, train_loss=tensor(0.0329, device='cuda:0', grad_fn=<MseLossBackward0>)]\n"
          ]
        },
        {
          "output_type": "stream",
          "name": "stdout",
          "text": [
            "0.04587655406923289 0.9531538177794172 0.9253706934242858 0.9516500383729855 0.8665269042627534 0.8665269042627534 0.877586912189594 0.967160650247123 0.9070958302852963\n",
            "Epoch: 26 / 30, ############## the best accuracy in val  95.5183 at Epoch: 19  ##############\n",
            "Performance in Val: Loss: (0.0459); Accuracy (95.32)\n"
          ]
        },
        {
          "output_type": "stream",
          "name": "stderr",
          "text": [
            "Epoch 27: 100%|██████████| 3129/3129 [00:29<00:00, 107.07batch/s, train_loss=tensor(0.0165, device='cuda:0', grad_fn=<MseLossBackward0>)]\n"
          ]
        },
        {
          "output_type": "stream",
          "name": "stdout",
          "text": [
            "0.044687632857313635 0.9538915529324973 0.9249753244590686 0.9573973663826492 0.8637316561844863 0.8637316561844863 0.879556357268305 0.969750684672939 0.9081557678177811\n",
            "Epoch: 27 / 30, ############## the best accuracy in val  95.5183 at Epoch: 19  ##############\n",
            "Performance in Val: Loss: (0.0447); Accuracy (95.39)\n"
          ]
        },
        {
          "output_type": "stream",
          "name": "stderr",
          "text": [
            "Epoch 28: 100%|██████████| 3129/3129 [00:29<00:00, 107.76batch/s, train_loss=tensor(0.0201, device='cuda:0', grad_fn=<MseLossBackward0>)]\n"
          ]
        },
        {
          "output_type": "stream",
          "name": "stdout",
          "text": [
            "0.0455227069303278 0.9529693839911472 0.9236765426612394 0.9558139534883721 0.8616352201257862 0.8616352201257862 0.8771019656914797 0.9689142464325304 0.906284454244763\n",
            "Epoch: 28 / 30, ############## the best accuracy in val  95.5183 at Epoch: 19  ##############\n",
            "Performance in Val: Loss: (0.0455); Accuracy (95.30)\n"
          ]
        },
        {
          "output_type": "stream",
          "name": "stderr",
          "text": [
            "Epoch 29: 100%|██████████| 3129/3129 [00:29<00:00, 107.29batch/s, train_loss=tensor(0.0197, device='cuda:0', grad_fn=<MseLossBackward0>)]\n"
          ]
        },
        {
          "output_type": "stream",
          "name": "stdout",
          "text": [
            "0.0449414654799042 0.9531538177794172 0.9249224451731981 0.9530408006158584 0.8651292802236199 0.8651292802236199 0.8775848260234096 0.9695009963893254 0.906959706959707\n",
            "Epoch: 29 / 30, ############## the best accuracy in val  95.5183 at Epoch: 19  ##############\n",
            "Performance in Val: Loss: (0.0449); Accuracy (95.32)\n"
          ]
        }
      ],
      "source": [
        "initial_epoch = 0\n",
        "best_epoch = -1\n",
        "best_accuracy = 0.5\n",
        "for epoch in range(initial_epoch, 30):\n",
        "    torch.cuda.empty_cache()\n",
        "    model.train()\n",
        "    with tqdm(train_loader, desc='Processing', unit=\"batch\") as tepoch:\n",
        "        for ESP_train_df_enzy,ESP_train_df_smiles, y_train in tepoch:\n",
        "            model.train()\n",
        "            tepoch.set_description(f\"Epoch {epoch}\")\n",
        "            ESP_train_df_enzy = ESP_train_df_enzy.to(device)\n",
        "            ESP_train_df_smiles = ESP_train_df_smiles.to(device)\n",
        "            y_train = y_train.squeeze(1).to(device)\n",
        "            refined_enzy_embed, refined_smiles_embed = model(ESP_train_df_enzy,ESP_train_df_smiles)\n",
        "            cosine_sim = torch.nn.functional.cosine_similarity(refined_enzy_embed, refined_smiles_embed, dim=1)\n",
        "            loss = loss_fn(cosine_sim, y_train)\n",
        "            loss.backward()\n",
        "            optimizer.step()\n",
        "            optimizer.zero_grad(set_to_none=True) #\n",
        "            tepoch.set_postfix(train_loss=loss)\n",
        "            # tepoch.set_postfix(val_loss=loss_sum_val, val_accuracy=100. * acc_val, balanced_val_accuracy=100. * bacc_val)\n",
        "        loss_sum_val,acc_val, bacc_val = run_validation(model,val_loader,loss_fn, device)\n",
        "        print('Epoch: %d / %d, ############## the best accuracy in val  %.4f at Epoch: %d  ##############'  % (epoch, 30,100 * best_accuracy,best_epoch))\n",
        "        # print('Performance in Train: Loss: (%.4f); Accuracy (%.2f)' % (loss_sum, 100 * acc))\n",
        "        print('Performance in Val: Loss: (%.4f); Accuracy (%.2f)' % (loss_sum_val, 100 * acc_val))\n",
        "        # checkpoint(model, f\"epoch-{epoch}.pth\")\n",
        "        if acc_val > best_accuracy: # compare the performance updates at the val set\n",
        "            best_accuracy = acc_val\n",
        "            best_epoch = epoch\n",
        "            torch.save(model, \"best_model_phylo_finetune.pt\")\n",
        "\n"
      ]
    },
    {
      "cell_type": "code",
      "execution_count": null,
      "metadata": {
        "id": "-PZKk_9stS_7"
      },
      "outputs": [],
      "source": [
        "import torch\n",
        "# Specify the file path where the entire model is saved\n",
        "load_path = 'best_model_phylo_finetune.pt'\n",
        "\n",
        "# Load the entire model\n",
        "model_test = torch.load(load_path)\n",
        "# model_test.to('cuda')\n",
        "# rename the baseline model\n",
        "torch.save(model_test, 'best_model_esm2_2560_fine_tuned_add_>2800_<8000.pt')\n",
        "run_validation(model_test,val_loader,loss_fn, device)"
      ]
    },
    {
      "cell_type": "code",
      "execution_count": null,
      "metadata": {
        "colab": {
          "base_uri": "https://localhost:8080/"
        },
        "outputId": "6a6520d2-11a3-4e8c-d13d-8a1acc18d63f",
        "id": "eTs2yJZgtS_7"
      },
      "outputs": [
        {
          "output_type": "stream",
          "name": "stdout",
          "text": [
            "0.04496904296778516 0.9551825894503874 0.927645290653096 0.9569230769230769 0.8693221523410203 0.8693221523410203 0.8829755956499008 0.9687030794829947 0.9110216038081289\n",
            "0.04986711010312867 0.9476604679064187 0.9170804862959899 0.943639798488665 0.8523890784982935 0.8523890784982935 0.8628651785864061 0.9652937024576622 0.8956963538553496\n"
          ]
        },
        {
          "output_type": "execute_result",
          "data": {
            "text/plain": [
              "(0.04986711010312867, 0.9476604679064187, 0.9170804862959899)"
            ]
          },
          "metadata": {},
          "execution_count": 17
        }
      ],
      "source": [
        "run_validation(model_test,val_loader,loss_fn, device)\n",
        "run_validation(model_test,test_loader,loss_fn, device)"
      ]
    },
    {
      "cell_type": "markdown",
      "metadata": {
        "id": "W3wzb85TDrSx"
      },
      "source": [
        "## esm 1280 dimension"
      ]
    },
    {
      "cell_type": "code",
      "execution_count": null,
      "metadata": {
        "id": "o_eaxMvyDq_z"
      },
      "outputs": [],
      "source": [
        "import os\n",
        "os.chdir('/content/drive/MyDrive/EC_number_kroll/esm2_1280_phylo')"
      ]
    },
    {
      "cell_type": "markdown",
      "metadata": {
        "id": "Kb_LgmlRDpwy"
      },
      "source": [
        "### pretrain"
      ]
    },
    {
      "cell_type": "code",
      "execution_count": null,
      "metadata": {
        "id": "MAcWakOKDpwy"
      },
      "outputs": [],
      "source": [
        "def get_ds():\n",
        "    # Load the saved embeddings_results\n",
        "    ESP_train_df_enzy = torch.load('ESP_train_df_enzy_phylo.pt')\n",
        "    ESP_val_df_enzy = torch.load('ESP_val_df_enzy.pt')\n",
        "    ESP_test_df_enzy = torch.load('ESP_test_df_enzy.pt')\n",
        "    print(ESP_train_df_enzy.shape, ESP_val_df_enzy.shape, ESP_test_df_enzy.shape)\n",
        "    # Load the saved embeddings_results\n",
        "    ESP_train_df_smiles = torch.load('ESP_train_df_smiles_phylo.pt')\n",
        "    ESP_val_df_smiles = torch.load('ESP_val_df_smiles.pt')\n",
        "    ESP_test_df_smiles = torch.load('ESP_test_df_smiles.pt')\n",
        "    print(ESP_train_df_smiles.shape, ESP_val_df_smiles.shape, ESP_test_df_smiles.shape)\n",
        "\n",
        "    y_train = torch.load('ESP_train_df_label_phylo.pt')\n",
        "    y_val = torch.load('ESP_val_df_label.pt')\n",
        "    y_test = torch.load('ESP_test_df_label.pt')\n",
        "    print(y_train.shape,y_val.shape, y_test.shape)\n",
        "\n",
        "\n",
        "    train_tensor_dataset = TensorDataset(ESP_train_df_enzy,ESP_train_df_smiles, y_train)\n",
        "    val_tensor_dataset = TensorDataset(ESP_val_df_enzy,ESP_val_df_smiles, y_val)\n",
        "    test_tensor_dataset = TensorDataset(ESP_test_df_enzy, ESP_test_df_smiles, y_test)\n",
        "\n",
        "    # Create TensorDataset and DataLoaders\n",
        "    batch_size = 512\n",
        "    train_loader = DataLoader(train_tensor_dataset, batch_size=batch_size, shuffle=True)\n",
        "    val_loader = DataLoader(val_tensor_dataset, batch_size=batch_size, shuffle=False)\n",
        "    test_loader = DataLoader(test_tensor_dataset, batch_size=batch_size, shuffle=False)\n",
        "    print(len(train_loader))\n",
        "    return train_loader,  val_loader, test_loader"
      ]
    },
    {
      "cell_type": "code",
      "execution_count": null,
      "metadata": {
        "id": "BEWIN5NgDpwy"
      },
      "outputs": [],
      "source": [
        "import torch\n",
        "import torch.nn as nn\n",
        "\n",
        "class Contrastive_learning_layer(nn.Module):\n",
        "    def __init__(self):\n",
        "        super().__init__()\n",
        "        self.enzy_refine_layer_1 = nn.Linear(1280, 1280) # W1 and b\n",
        "        self.smiles_refine_layer_1 = nn.Linear(768, 768) # W1 and b\n",
        "        self.enzy_refine_layer_2 = nn.Linear(1280, 128) # W1 and b\n",
        "        self.smiles_refine_layer_2 = nn.Linear(768, 128) # W1 and b\n",
        "\n",
        "        self.relu = nn.ReLU()\n",
        "        self.batch_norm_enzy = nn.BatchNorm1d(1280)\n",
        "        self.batch_norm_smiles = nn.BatchNorm1d(768)\n",
        "        self.batch_norm_shared = nn.BatchNorm1d(128)\n",
        "\n",
        "    def forward(self, enzy_embed, smiles_embed):\n",
        "        refined_enzy_embed = self.enzy_refine_layer_1(enzy_embed)\n",
        "        refined_smiles_embed = self.smiles_refine_layer_1(smiles_embed)\n",
        "\n",
        "        refined_enzy_embed = self.batch_norm_enzy(refined_enzy_embed)\n",
        "        refined_smiles_embed = self.batch_norm_smiles(refined_smiles_embed)\n",
        "\n",
        "        refined_enzy_embed = self.relu(refined_enzy_embed)\n",
        "        refined_smiles_embed = self.relu(refined_smiles_embed)\n",
        "\n",
        "        refined_enzy_embed = self.enzy_refine_layer_2(refined_enzy_embed)\n",
        "        refined_smiles_embed = self.smiles_refine_layer_2(refined_smiles_embed)\n",
        "\n",
        "        refined_enzy_embed = self.batch_norm_shared(refined_enzy_embed)\n",
        "        refined_smiles_embed = self.batch_norm_shared(refined_smiles_embed)\n",
        "        refined_enzy_embed = torch.nn.functional.normalize(refined_enzy_embed, dim=1)\n",
        "        refined_smiles_embed = torch.nn.functional.normalize(refined_smiles_embed, dim=1)\n",
        "\n",
        "        return refined_enzy_embed, refined_smiles_embed\n"
      ]
    },
    {
      "cell_type": "code",
      "execution_count": null,
      "metadata": {
        "colab": {
          "base_uri": "https://localhost:8080/"
        },
        "id": "_PrqALXzDpwy",
        "outputId": "73d1d465-6a34-4827-c4eb-782a711c729a"
      },
      "outputs": [
        {
          "output_type": "stream",
          "name": "stdout",
          "text": [
            "torch.Size([765592, 1280]) torch.Size([5422, 1280]) torch.Size([13336, 1280])\n",
            "torch.Size([765592, 768]) torch.Size([5422, 768]) torch.Size([13336, 768])\n",
            "torch.Size([765592, 1]) torch.Size([5422, 1]) torch.Size([13336, 1])\n",
            "1496\n"
          ]
        }
      ],
      "source": [
        "# design the model, optimizer and loss function\n",
        "model = Contrastive_learning_layer().to(device)\n",
        "train_loader,  val_loader, test_loader = get_ds()\n",
        "optimizer = torch.optim.Adam(model.parameters(),lr= 1e-03)\n",
        "loss_fn = nn.MSELoss().to(device)"
      ]
    },
    {
      "cell_type": "code",
      "execution_count": null,
      "metadata": {
        "colab": {
          "background_save": true,
          "base_uri": "https://localhost:8080/"
        },
        "id": "yM8WGKhcDpwy",
        "outputId": "8c785b85-ab5d-4f86-cd60-65618ba8e50d"
      },
      "outputs": [
        {
          "name": "stderr",
          "output_type": "stream",
          "text": [
            "Epoch 0: 100%|██████████| 1496/1496 [00:21<00:00, 70.45batch/s, train_loss=tensor(0.0316, device='cuda:0', grad_fn=<MseLossBackward0>)]\n"
          ]
        },
        {
          "name": "stdout",
          "output_type": "stream",
          "text": [
            "0.0837222444401546 0.900036886757654 0.8357238447583233 0.89937106918239 0.6995108315863033 0.6995108315863033 0.7327182947777764 0.937650681888897 0.7869496855345911\n",
            "Epoch: 0 / 500, ############## the best accuracy in val  50.0000 at Epoch: -1  ##############\n",
            "Performance in Val: Loss: (0.0837); Accuracy (90.00)\n"
          ]
        },
        {
          "name": "stderr",
          "output_type": "stream",
          "text": [
            "Epoch 1: 100%|██████████| 1496/1496 [00:21<00:00, 70.98batch/s, train_loss=tensor(0.0300, device='cuda:0', grad_fn=<MseLossBackward0>)]\n"
          ]
        },
        {
          "name": "stdout",
          "output_type": "stream",
          "text": [
            "0.07062629322436723 0.9192180007377352 0.8687002078926361 0.9182813816343723 0.7617051013277428 0.7617051013277428 0.7859808993933513 0.9518083227443439 0.8326967150496563\n",
            "Epoch: 1 / 500, ############## the best accuracy in val  90.0037 at Epoch: 0  ##############\n",
            "Performance in Val: Loss: (0.0706); Accuracy (91.92)\n"
          ]
        },
        {
          "name": "stderr",
          "output_type": "stream",
          "text": [
            "Epoch 2: 100%|██████████| 1496/1496 [00:21<00:00, 70.08batch/s, train_loss=tensor(0.0277, device='cuda:0', grad_fn=<MseLossBackward0>)]\n"
          ]
        },
        {
          "name": "stdout",
          "output_type": "stream",
          "text": [
            "0.06722111170264808 0.9241977130210255 0.8776859219056994 0.9214876033057852 0.7791754018169113 0.7791754018169113 0.7996217655042438 0.9561071285304585 0.8443771298750473\n",
            "Epoch: 2 / 500, ############## the best accuracy in val  91.9218 at Epoch: 1  ##############\n",
            "Performance in Val: Loss: (0.0672); Accuracy (92.42)\n"
          ]
        },
        {
          "name": "stderr",
          "output_type": "stream",
          "text": [
            "Epoch 3: 100%|██████████| 1496/1496 [00:21<00:00, 70.71batch/s, train_loss=tensor(0.0190, device='cuda:0', grad_fn=<MseLossBackward0>)]\n"
          ]
        },
        {
          "name": "stdout",
          "output_type": "stream",
          "text": [
            "0.06394630535082384 0.9273330874216157 0.8820569551932099 0.9274525968672712 0.7861635220125787 0.7861635220125787 0.8081629256597203 0.9542244858758903 0.8509833585476549\n",
            "Epoch: 3 / 500, ############## the best accuracy in val  92.4198 at Epoch: 2  ##############\n",
            "Performance in Val: Loss: (0.0639); Accuracy (92.73)\n"
          ]
        },
        {
          "name": "stderr",
          "output_type": "stream",
          "text": [
            "Epoch 4: 100%|██████████| 1496/1496 [00:21<00:00, 70.78batch/s, train_loss=tensor(0.0219, device='cuda:0', grad_fn=<MseLossBackward0>)]\n"
          ]
        },
        {
          "name": "stdout",
          "output_type": "stream",
          "text": [
            "0.06237692707641558 0.9260420509037256 0.8791628648736387 0.9284525790349417 0.779874213836478 0.779874213836478 0.8046518482310874 0.9555350867194025 0.8477022407899735\n",
            "Epoch: 4 / 500, ############## the best accuracy in val  92.7333 at Epoch: 3  ##############\n",
            "Performance in Val: Loss: (0.0624); Accuracy (92.60)\n"
          ]
        },
        {
          "name": "stderr",
          "output_type": "stream",
          "text": [
            "Epoch 5: 100%|██████████| 1496/1496 [00:20<00:00, 71.90batch/s, train_loss=tensor(0.0239, device='cuda:0', grad_fn=<MseLossBackward0>)]\n"
          ]
        },
        {
          "name": "stdout",
          "output_type": "stream",
          "text": [
            "0.059472705660895867 0.933788270011066 0.8915966760291019 0.9379084967320261 0.8022361984626135 0.8022361984626135 0.8256913732586695 0.9574392663016595 0.8647834274952919\n",
            "Epoch: 5 / 500, ############## the best accuracy in val  92.7333 at Epoch: 3  ##############\n",
            "Performance in Val: Loss: (0.0595); Accuracy (93.38)\n"
          ]
        },
        {
          "name": "stderr",
          "output_type": "stream",
          "text": [
            "Epoch 6: 100%|██████████| 1496/1496 [00:21<00:00, 70.02batch/s, train_loss=tensor(0.0175, device='cuda:0', grad_fn=<MseLossBackward0>)]\n"
          ]
        },
        {
          "name": "stdout",
          "output_type": "stream",
          "text": [
            "0.05749347856776281 0.9361859092585761 0.8954665817796541 0.9406986190089358 0.8092243186582809 0.8092243186582809 0.8321710622163752 0.9614995900104376 0.870022539444027\n",
            "Epoch: 6 / 500, ############## the best accuracy in val  93.3788 at Epoch: 5  ##############\n",
            "Performance in Val: Loss: (0.0575); Accuracy (93.62)\n"
          ]
        },
        {
          "name": "stderr",
          "output_type": "stream",
          "text": [
            "Epoch 7: 100%|██████████| 1496/1496 [00:21<00:00, 70.56batch/s, train_loss=tensor(0.0156, device='cuda:0', grad_fn=<MseLossBackward0>)]\n"
          ]
        },
        {
          "name": "stdout",
          "output_type": "stream",
          "text": [
            "0.05888736756010489 0.932681667281446 0.8921897294769277 0.92914653784219 0.806429070580014 0.806429070580014 0.822693287739539 0.9590174153200396 0.8634493078937523\n",
            "Epoch: 7 / 500, ############## the best accuracy in val  93.6186 at Epoch: 6  ##############\n",
            "Performance in Val: Loss: (0.0589); Accuracy (93.27)\n"
          ]
        },
        {
          "name": "stderr",
          "output_type": "stream",
          "text": [
            "Epoch 8: 100%|██████████| 1496/1496 [00:21<00:00, 70.33batch/s, train_loss=tensor(0.0183, device='cuda:0', grad_fn=<MseLossBackward0>)]\n"
          ]
        },
        {
          "name": "stdout",
          "output_type": "stream",
          "text": [
            "0.056100034239617264 0.9371080781999263 0.8967653635774833 0.9423701298701299 0.8113207547169812 0.8113207547169812 0.8346647327757467 0.9631871746369933 0.8719489297784454\n",
            "Epoch: 8 / 500, ############## the best accuracy in val  93.6186 at Epoch: 6  ##############\n",
            "Performance in Val: Loss: (0.0561); Accuracy (93.71)\n"
          ]
        },
        {
          "name": "stderr",
          "output_type": "stream",
          "text": [
            "Epoch 9: 100%|██████████| 1496/1496 [00:20<00:00, 71.63batch/s, train_loss=tensor(0.0181, device='cuda:0', grad_fn=<MseLossBackward0>)]\n"
          ]
        },
        {
          "name": "stdout",
          "output_type": "stream",
          "text": [
            "0.05634478869085962 0.9358170416820362 0.8961125145133504 0.9363416599516519 0.8120195667365478 0.8120195667365478 0.8311573798612699 0.9600266742728791 0.8697604790419161\n",
            "Epoch: 9 / 500, ############## the best accuracy in val  93.7108 at Epoch: 8  ##############\n",
            "Performance in Val: Loss: (0.0563); Accuracy (93.58)\n"
          ]
        },
        {
          "name": "stderr",
          "output_type": "stream",
          "text": [
            "Epoch 10: 100%|██████████| 1496/1496 [00:21<00:00, 69.75batch/s, train_loss=tensor(0.0120, device='cuda:0', grad_fn=<MseLossBackward0>)]\n"
          ]
        },
        {
          "name": "stdout",
          "output_type": "stream",
          "text": [
            "0.05527060936120423 0.9372925119881962 0.8998042590937927 0.933969769291965 0.8204053109713487 0.8204053109713487 0.8351470493380454 0.9606734824914408 0.8735119047619047\n",
            "Epoch: 10 / 500, ############## the best accuracy in val  93.7108 at Epoch: 8  ##############\n",
            "Performance in Val: Loss: (0.0553); Accuracy (93.73)\n"
          ]
        },
        {
          "name": "stderr",
          "output_type": "stream",
          "text": [
            "Epoch 11: 100%|██████████| 1496/1496 [00:21<00:00, 70.60batch/s, train_loss=tensor(0.0190, device='cuda:0', grad_fn=<MseLossBackward0>)]\n"
          ]
        },
        {
          "name": "stdout",
          "output_type": "stream",
          "text": [
            "0.055193294432352887 0.9369236444116562 0.8982089505720505 0.9366479550922213 0.8162124388539483 0.8162124388539483 0.834142457679053 0.961204901804742 0.8722927557879016\n",
            "Epoch: 11 / 500, ############## the best accuracy in val  93.7293 at Epoch: 10  ##############\n",
            "Performance in Val: Loss: (0.0552); Accuracy (93.69)\n"
          ]
        },
        {
          "name": "stderr",
          "output_type": "stream",
          "text": [
            "Epoch 12: 100%|██████████| 1496/1496 [00:21<00:00, 70.66batch/s, train_loss=tensor(0.0149, device='cuda:0', grad_fn=<MseLossBackward0>)]\n"
          ]
        },
        {
          "name": "stdout",
          "output_type": "stream",
          "text": [
            "0.05502738575027748 0.9395057174474364 0.9022041382068424 0.9401436552274541 0.8232005590496156 0.8232005590496156 0.8410963107074251 0.9612829950547361 0.8777943368107302\n",
            "Epoch: 12 / 500, ############## the best accuracy in val  93.7293 at Epoch: 10  ##############\n",
            "Performance in Val: Loss: (0.0550); Accuracy (93.95)\n"
          ]
        },
        {
          "name": "stderr",
          "output_type": "stream",
          "text": [
            "Epoch 13: 100%|██████████| 1496/1496 [00:21<00:00, 70.70batch/s, train_loss=tensor(0.0136, device='cuda:0', grad_fn=<MseLossBackward0>)]\n"
          ]
        },
        {
          "name": "stdout",
          "output_type": "stream",
          "text": [
            "0.05404982893643054 0.9393212836591663 0.9009582356948838 0.9429260450160771 0.8197064989517819 0.8197064989517819 0.8406116542259485 0.9639221441815014 0.8770093457943925\n",
            "Epoch: 13 / 500, ############## the best accuracy in val  93.9506 at Epoch: 12  ##############\n",
            "Performance in Val: Loss: (0.0540); Accuracy (93.93)\n"
          ]
        },
        {
          "name": "stderr",
          "output_type": "stream",
          "text": [
            "Epoch 14: 100%|██████████| 1496/1496 [00:21<00:00, 70.56batch/s, train_loss=tensor(0.0149, device='cuda:0', grad_fn=<MseLossBackward0>)]\n"
          ]
        },
        {
          "name": "stdout",
          "output_type": "stream",
          "text": [
            "0.05328830958090045 0.9406123201770564 0.902507581261192 0.9460981496379727 0.8218029350104822 0.8218029350104822 0.8440982333058806 0.9611266334577749 0.8795811518324608\n",
            "Epoch: 14 / 500, ############## the best accuracy in val  93.9506 at Epoch: 12  ##############\n",
            "Performance in Val: Loss: (0.0533); Accuracy (94.06)\n"
          ]
        },
        {
          "name": "stderr",
          "output_type": "stream",
          "text": [
            "Epoch 15: 100%|██████████| 1496/1496 [00:21<00:00, 71.11batch/s, train_loss=tensor(0.0097, device='cuda:0', grad_fn=<MseLossBackward0>)]\n"
          ]
        },
        {
          "name": "stdout",
          "output_type": "stream",
          "text": [
            "0.05309401630339297 0.9413500553301365 0.9041293294258693 0.9455564451561249 0.8252969951083159 0.8252969951083159 0.8460687123485244 0.9618368267805916 0.8813432835820896\n",
            "Epoch: 15 / 500, ############## the best accuracy in val  94.0612 at Epoch: 14  ##############\n",
            "Performance in Val: Loss: (0.0531); Accuracy (94.14)\n"
          ]
        },
        {
          "name": "stderr",
          "output_type": "stream",
          "text": [
            "Epoch 16: 100%|██████████| 1496/1496 [00:21<00:00, 70.78batch/s, train_loss=tensor(0.0136, device='cuda:0', grad_fn=<MseLossBackward0>)]\n"
          ]
        },
        {
          "name": "stdout",
          "output_type": "stream",
          "text": [
            "0.05301602633500641 0.9395057174474364 0.9033247588345615 0.936658749010293 0.8266946191474493 0.8266946191474493 0.841103468246228 0.9623992382581283 0.8782479584261321\n",
            "Epoch: 16 / 500, ############## the best accuracy in val  94.1350 at Epoch: 15  ##############\n",
            "Performance in Val: Loss: (0.0530); Accuracy (93.95)\n"
          ]
        },
        {
          "name": "stderr",
          "output_type": "stream",
          "text": [
            "Epoch 17: 100%|██████████| 1496/1496 [00:20<00:00, 71.40batch/s, train_loss=tensor(0.0251, device='cuda:0', grad_fn=<MseLossBackward0>)]\n"
          ]
        },
        {
          "name": "stdout",
          "output_type": "stream",
          "text": [
            "0.0533820680257949 0.9433788270011066 0.9073004231568549 0.9481658692185008 0.8308874912648497 0.8308874912648497 0.8515161991175231 0.960045759842945 0.8856610800744878\n",
            "Epoch: 17 / 500, ############## the best accuracy in val  94.1350 at Epoch: 15  ##############\n",
            "Performance in Val: Loss: (0.0534); Accuracy (94.34)\n"
          ]
        },
        {
          "name": "stderr",
          "output_type": "stream",
          "text": [
            "Epoch 18: 100%|██████████| 1496/1496 [00:21<00:00, 70.05batch/s, train_loss=tensor(0.0097, device='cuda:0', grad_fn=<MseLossBackward0>)]\n"
          ]
        },
        {
          "name": "stdout",
          "output_type": "stream",
          "text": [
            "0.053003108467568054 0.9393212836591663 0.9016306080715152 0.9408 0.8218029350104822 0.8218029350104822 0.8406018139106852 0.9600075887028132 0.8772845953002611\n",
            "Epoch: 18 / 500, ############## the best accuracy in val  94.3379 at Epoch: 17  ##############\n",
            "Performance in Val: Loss: (0.0530); Accuracy (93.93)\n"
          ]
        },
        {
          "name": "stderr",
          "output_type": "stream",
          "text": [
            "Epoch 19: 100%|██████████| 1496/1496 [00:21<00:00, 70.03batch/s, train_loss=tensor(0.0106, device='cuda:0', grad_fn=<MseLossBackward0>)]\n"
          ]
        },
        {
          "name": "stdout",
          "output_type": "stream",
          "text": [
            "0.05277225671505386 0.9402434526005164 0.9042741346226073 0.9382422802850356 0.8280922431865828 0.8280922431865828 0.8430833200914302 0.9607303890076921 0.8797327394209354\n",
            "Epoch: 19 / 500, ############## the best accuracy in val  94.3379 at Epoch: 17  ##############\n",
            "Performance in Val: Loss: (0.0528); Accuracy (94.02)\n"
          ]
        },
        {
          "name": "stderr",
          "output_type": "stream",
          "text": [
            "Epoch 20: 100%|██████████| 1496/1496 [00:21<00:00, 70.48batch/s, train_loss=tensor(0.0117, device='cuda:0', grad_fn=<MseLossBackward0>)]\n"
          ]
        },
        {
          "name": "stdout",
          "output_type": "stream",
          "text": [
            "0.052274131385440174 0.9404278863887864 0.9030546717535839 0.9432 0.8238993710691824 0.8238993710691824 0.8435823400215292 0.9599471802471004 0.8795225662066393\n",
            "Epoch: 20 / 500, ############## the best accuracy in val  94.3379 at Epoch: 17  ##############\n",
            "Performance in Val: Loss: (0.0523); Accuracy (94.04)\n"
          ]
        },
        {
          "name": "stderr",
          "output_type": "stream",
          "text": [
            "Epoch 21: 100%|██████████| 1496/1496 [00:21<00:00, 70.71batch/s, train_loss=tensor(0.0173, device='cuda:0', grad_fn=<MseLossBackward0>)]\n"
          ]
        },
        {
          "name": "stdout",
          "output_type": "stream",
          "text": [
            "0.05220970054241744 0.9419033566949465 0.9042810509530441 0.9485530546623794 0.8245981830887491 0.8245981830887491 0.8475779588985752 0.9598261882387013 0.8822429906542055\n",
            "Epoch: 21 / 500, ############## the best accuracy in val  94.3379 at Epoch: 17  ##############\n",
            "Performance in Val: Loss: (0.0522); Accuracy (94.19)\n"
          ]
        },
        {
          "name": "stderr",
          "output_type": "stream",
          "text": [
            "Epoch 22: 100%|██████████| 1496/1496 [00:21<00:00, 70.34batch/s, train_loss=tensor(0.0090, device='cuda:0', grad_fn=<MseLossBackward0>)]\n"
          ]
        },
        {
          "name": "stdout",
          "output_type": "stream",
          "text": [
            "0.051870520395988766 0.9415344891184065 0.9042546113101089 0.9463141025641025 0.8252969951083159 0.8252969951083159 0.8465685764502844 0.9620779353125245 0.88167226577081\n",
            "Epoch: 22 / 500, ############## the best accuracy in val  94.3379 at Epoch: 17  ##############\n",
            "Performance in Val: Loss: (0.0519); Accuracy (94.15)\n"
          ]
        },
        {
          "name": "stderr",
          "output_type": "stream",
          "text": [
            "Epoch 23: 100%|██████████| 1496/1496 [00:21<00:00, 70.61batch/s, train_loss=tensor(0.0138, device='cuda:0', grad_fn=<MseLossBackward0>)]\n"
          ]
        },
        {
          "name": "stdout",
          "output_type": "stream",
          "text": [
            "0.05173048165372827 0.9417189229066765 0.9055005138220675 0.94351630867144 0.8287910552061496 0.8287910552061496 0.8470458978880321 0.9617834222038021 0.8824404761904763\n",
            "Epoch: 23 / 500, ############## the best accuracy in val  94.3379 at Epoch: 17  ##############\n",
            "Performance in Val: Loss: (0.0517); Accuracy (94.17)\n"
          ]
        },
        {
          "name": "stderr",
          "output_type": "stream",
          "text": [
            "Epoch 24: 100%|██████████| 1496/1496 [00:21<00:00, 70.45batch/s, train_loss=tensor(0.0115, device='cuda:0', grad_fn=<MseLossBackward0>)]\n"
          ]
        },
        {
          "name": "stdout",
          "output_type": "stream",
          "text": [
            "0.05065898182378574 0.9441165621541866 0.9086980471959882 0.9483306836248012 0.8336827393431167 0.8336827393431167 0.8534882726513814 0.960719357898388 0.8873187058386016\n",
            "Epoch: 24 / 500, ############## the best accuracy in val  94.3379 at Epoch: 17  ##############\n",
            "Performance in Val: Loss: (0.0507); Accuracy (94.41)\n"
          ]
        },
        {
          "name": "stderr",
          "output_type": "stream",
          "text": [
            "Epoch 25: 100%|██████████| 1496/1496 [00:21<00:00, 70.89batch/s, train_loss=tensor(0.0138, device='cuda:0', grad_fn=<MseLossBackward0>)]\n"
          ]
        },
        {
          "name": "stdout",
          "output_type": "stream",
          "text": [
            "0.05224557373334061 0.9420877904832166 0.9044063328372836 0.9493161705551086 0.8245981830887491 0.8245981830887491 0.8480801032767363 0.9576057835230596 0.8825729244577413\n",
            "Epoch: 25 / 500, ############## the best accuracy in val  94.4117 at Epoch: 24  ##############\n",
            "Performance in Val: Loss: (0.0522); Accuracy (94.21)\n"
          ]
        },
        {
          "name": "stderr",
          "output_type": "stream",
          "text": [
            "Epoch 26: 100%|██████████| 1496/1496 [00:21<00:00, 70.26batch/s, train_loss=tensor(0.0127, device='cuda:0', grad_fn=<MseLossBackward0>)]\n"
          ]
        },
        {
          "name": "stdout",
          "output_type": "stream",
          "text": [
            "0.0518716224045916 0.9413500553301365 0.9048017018025007 0.9434262948207172 0.827393431167016 0.827393431167016 0.846056551731415 0.9595348268754943 0.8816083395383469\n",
            "Epoch: 26 / 500, ############## the best accuracy in val  94.4117 at Epoch: 24  ##############\n",
            "Performance in Val: Loss: (0.0519); Accuracy (94.14)\n"
          ]
        },
        {
          "name": "stderr",
          "output_type": "stream",
          "text": [
            "Epoch 27: 100%|██████████| 1496/1496 [00:21<00:00, 69.97batch/s, train_loss=tensor(0.0109, device='cuda:0', grad_fn=<MseLossBackward0>)]\n"
          ]
        },
        {
          "name": "stdout",
          "output_type": "stream",
          "text": [
            "0.05110543509098617 0.9431943932128366 0.9076233895237029 0.9459888800635425 0.8322851153039832 0.8322851153039832 0.8510081159355231 0.9612344931931928 0.8855018587360595\n",
            "Epoch: 27 / 500, ############## the best accuracy in val  94.4117 at Epoch: 24  ##############\n",
            "Performance in Val: Loss: (0.0511); Accuracy (94.32)\n"
          ]
        },
        {
          "name": "stderr",
          "output_type": "stream",
          "text": [
            "Epoch 28: 100%|██████████| 1496/1496 [00:21<00:00, 70.47batch/s, train_loss=tensor(0.0141, device='cuda:0', grad_fn=<MseLossBackward0>)]\n"
          ]
        },
        {
          "name": "stdout",
          "output_type": "stream",
          "text": [
            "0.05132014770060778 0.9433788270011066 0.9081969196590302 0.945324881141046 0.8336827393431167 0.8336827393431167 0.8514988324006788 0.9586498867735423 0.8860007426661715\n",
            "Epoch: 28 / 500, ############## the best accuracy in val  94.4117 at Epoch: 24  ##############\n",
            "Performance in Val: Loss: (0.0513); Accuracy (94.34)\n"
          ]
        },
        {
          "name": "stderr",
          "output_type": "stream",
          "text": [
            "Epoch 29: 100%|██████████| 1496/1496 [00:21<00:00, 70.69batch/s, train_loss=tensor(0.0126, device='cuda:0', grad_fn=<MseLossBackward0>)]\n"
          ]
        },
        {
          "name": "stdout",
          "output_type": "stream",
          "text": [
            "0.051197373900901184 0.9424566580597565 0.9075705102378324 0.941594317284925 0.8336827393431167 0.8336827393431167 0.8490232983374615 0.9600849815649151 0.8843587842846553\n",
            "Epoch: 29 / 500, ############## the best accuracy in val  94.4117 at Epoch: 24  ##############\n",
            "Performance in Val: Loss: (0.0512); Accuracy (94.25)\n"
          ]
        },
        {
          "name": "stderr",
          "output_type": "stream",
          "text": [
            "Epoch 30: 100%|██████████| 1496/1496 [00:21<00:00, 70.19batch/s, train_loss=tensor(0.0145, device='cuda:0', grad_fn=<MseLossBackward0>)]\n"
          ]
        },
        {
          "name": "stdout",
          "output_type": "stream",
          "text": [
            "0.05074708680198951 0.9428255256362966 0.9073728257552238 0.9444885011895321 0.8322851153039832 0.8322851153039832 0.8500144933380247 0.9631302681207419 0.8848439821693909\n",
            "Epoch: 30 / 500, ############## the best accuracy in val  94.4117 at Epoch: 24  ##############\n",
            "Performance in Val: Loss: (0.0507); Accuracy (94.28)\n"
          ]
        },
        {
          "name": "stderr",
          "output_type": "stream",
          "text": [
            "Epoch 31: 100%|██████████| 1496/1496 [00:21<00:00, 69.66batch/s, train_loss=tensor(0.0120, device='cuda:0', grad_fn=<MseLossBackward0>)]\n"
          ]
        },
        {
          "name": "stdout",
          "output_type": "stream",
          "text": [
            "0.0509782348844138 0.9420877904832166 0.9061993258416343 0.9436060365369341 0.8301886792452831 0.8301886792452831 0.8480350535887682 0.9595835038340109 0.883271375464684\n",
            "Epoch: 31 / 500, ############## the best accuracy in val  94.4117 at Epoch: 24  ##############\n",
            "Performance in Val: Loss: (0.0510); Accuracy (94.21)\n"
          ]
        },
        {
          "name": "stderr",
          "output_type": "stream",
          "text": [
            "Epoch 32: 100%|██████████| 1496/1496 [00:20<00:00, 71.28batch/s, train_loss=tensor(0.0102, device='cuda:0', grad_fn=<MseLossBackward0>)]\n"
          ]
        },
        {
          "name": "stdout",
          "output_type": "stream",
          "text": [
            "0.051528549414466725 0.9420877904832166 0.9061993258416343 0.9436060365369341 0.8301886792452831 0.8301886792452831 0.8480350535887682 0.9586400813430498 0.883271375464684\n",
            "Epoch: 32 / 500, ############## the best accuracy in val  94.4117 at Epoch: 24  ##############\n",
            "Performance in Val: Loss: (0.0515); Accuracy (94.21)\n"
          ]
        },
        {
          "name": "stderr",
          "output_type": "stream",
          "text": [
            "Epoch 33: 100%|██████████| 1496/1496 [00:21<00:00, 69.63batch/s, train_loss=tensor(0.0090, device='cuda:0', grad_fn=<MseLossBackward0>)]\n"
          ]
        },
        {
          "name": "stdout",
          "output_type": "stream",
          "text": [
            "0.0510644062676213 0.9443009959424566 0.9094957014568593 0.9469517022961204 0.8357791754018169 0.8357791754018169 0.8539725052400421 0.9593000218345925 0.8878990348923533\n",
            "Epoch: 33 / 500, ############## the best accuracy in val  94.4117 at Epoch: 24  ##############\n",
            "Performance in Val: Loss: (0.0511); Accuracy (94.43)\n"
          ]
        },
        {
          "name": "stderr",
          "output_type": "stream",
          "text": [
            "Epoch 34: 100%|██████████| 1496/1496 [00:21<00:00, 70.52batch/s, train_loss=tensor(0.0118, device='cuda:0', grad_fn=<MseLossBackward0>)]\n"
          ]
        },
        {
          "name": "stdout",
          "output_type": "stream",
          "text": [
            "0.05083779897540808 0.9413500553301365 0.9054740741791323 0.9413164155432197 0.8294898672257163 0.8294898672257163 0.8460526032538391 0.9614003100267006 0.8818722139673106\n",
            "Epoch: 34 / 500, ############## the best accuracy in val  94.4301 at Epoch: 33  ##############\n",
            "Performance in Val: Loss: (0.0508); Accuracy (94.14)\n"
          ]
        },
        {
          "name": "stderr",
          "output_type": "stream",
          "text": [
            "Epoch 35: 100%|██████████| 1496/1496 [00:21<00:00, 70.13batch/s, train_loss=tensor(0.0128, device='cuda:0', grad_fn=<MseLossBackward0>)]\n"
          ]
        },
        {
          "name": "stdout",
          "output_type": "stream",
          "text": [
            "0.05070484107868238 0.9424566580597565 0.905553393107938 0.9479583666933546 0.827393431167016 0.827393431167016 0.8490500741009661 0.9612626838058589 0.8835820895522387\n",
            "Epoch: 35 / 500, ############## the best accuracy in val  94.4301 at Epoch: 33  ##############\n",
            "Performance in Val: Loss: (0.0507); Accuracy (94.25)\n"
          ]
        },
        {
          "name": "stderr",
          "output_type": "stream",
          "text": [
            "Epoch 36: 100%|██████████| 1496/1496 [00:21<00:00, 69.57batch/s, train_loss=tensor(0.0170, device='cuda:0', grad_fn=<MseLossBackward0>)]\n"
          ]
        },
        {
          "name": "stdout",
          "output_type": "stream",
          "text": [
            "0.05108417841521176 0.9422722242714865 0.9063246077258738 0.9443561208267091 0.8301886792452831 0.8301886792452831 0.8485317949596266 0.9610725284930928 0.8835998512458163\n",
            "Epoch: 36 / 500, ############## the best accuracy in val  94.4301 at Epoch: 33  ##############\n",
            "Performance in Val: Loss: (0.0511); Accuracy (94.23)\n"
          ]
        },
        {
          "name": "stderr",
          "output_type": "stream",
          "text": [
            "Epoch 37: 100%|██████████| 1496/1496 [00:21<00:00, 69.68batch/s, train_loss=tensor(0.0093, device='cuda:0', grad_fn=<MseLossBackward0>)]\n"
          ]
        },
        {
          "name": "stdout",
          "output_type": "stream",
          "text": [
            "0.050438676537437874 0.9439321283659167 0.9096933859394679 0.9440504334121356 0.8371767994409504 0.8371767994409504 0.8529780444493205 0.9600618687644684 0.8874074074074073\n",
            "Epoch: 37 / 500, ############## the best accuracy in val  94.4301 at Epoch: 33  ##############\n",
            "Performance in Val: Loss: (0.0504); Accuracy (94.39)\n"
          ]
        },
        {
          "name": "stderr",
          "output_type": "stream",
          "text": [
            "Epoch 38: 100%|██████████| 1496/1496 [00:21<00:00, 70.18batch/s, train_loss=tensor(0.0080, device='cuda:0', grad_fn=<MseLossBackward0>)]\n"
          ]
        },
        {
          "name": "stdout",
          "output_type": "stream",
          "text": [
            "0.05032403843308037 0.9444854297307267 0.9098451074666427 0.946993670886076 0.8364779874213837 0.8364779874213837 0.8544657355760474 0.960719357898388 0.8883116883116884\n",
            "Epoch: 38 / 500, ############## the best accuracy in val  94.4301 at Epoch: 33  ##############\n",
            "Performance in Val: Loss: (0.0503); Accuracy (94.45)\n"
          ]
        },
        {
          "name": "stderr",
          "output_type": "stream",
          "text": [
            "Epoch 39: 100%|██████████| 1496/1496 [00:21<00:00, 69.48batch/s, train_loss=tensor(0.0073, device='cuda:0', grad_fn=<MseLossBackward0>)]\n"
          ]
        },
        {
          "name": "stdout",
          "output_type": "stream",
          "text": [
            "0.0502295269715515 0.9435632607893766 0.9085463256688135 0.9453681710213777 0.8343815513626834 0.8343815513626834 0.8519926533948399 0.9610555440867038 0.88641425389755\n",
            "Epoch: 39 / 500, ############## the best accuracy in val  94.4485 at Epoch: 38  ##############\n",
            "Performance in Val: Loss: (0.0502); Accuracy (94.36)\n"
          ]
        },
        {
          "name": "stderr",
          "output_type": "stream",
          "text": [
            "Epoch 40: 100%|██████████| 1496/1496 [00:21<00:00, 70.93batch/s, train_loss=tensor(0.0120, device='cuda:0', grad_fn=<MseLossBackward0>)]\n"
          ]
        },
        {
          "name": "stdout",
          "output_type": "stream",
          "text": [
            "0.049866986884312195 0.9431943932128366 0.9071751412726152 0.9474103585657371 0.8308874912648497 0.8308874912648497 0.8510171633219464 0.9603991055346228 0.885331347728965\n",
            "Epoch: 40 / 500, ############## the best accuracy in val  94.4485 at Epoch: 38  ##############\n",
            "Performance in Val: Loss: (0.0499); Accuracy (94.32)\n"
          ]
        },
        {
          "name": "stderr",
          "output_type": "stream",
          "text": [
            "Epoch 41: 100%|██████████| 1496/1496 [00:21<00:00, 69.04batch/s, train_loss=tensor(0.0095, device='cuda:0', grad_fn=<MseLossBackward0>)]\n"
          ]
        },
        {
          "name": "stdout",
          "output_type": "stream",
          "text": [
            "0.05057998712767254 0.9426410918480266 0.9074716679965282 0.9430379746835443 0.83298392732355 0.83298392732355 0.8495174693512476 0.9615549206539312 0.8846011131725416\n",
            "Epoch: 41 / 500, ############## the best accuracy in val  94.4485 at Epoch: 38  ##############\n",
            "Performance in Val: Loss: (0.0506); Accuracy (94.26)\n"
          ]
        },
        {
          "name": "stderr",
          "output_type": "stream",
          "text": [
            "Epoch 42: 100%|██████████| 1496/1496 [00:21<00:00, 69.88batch/s, train_loss=tensor(0.0103, device='cuda:0', grad_fn=<MseLossBackward0>)]\n"
          ]
        },
        {
          "name": "stdout",
          "output_type": "stream",
          "text": [
            "0.04991696393963965 0.9435632607893766 0.9087704497943574 0.9446640316205533 0.8350803633822502 0.8350803633822502 0.8519907787380568 0.9609662446304325 0.8864985163204748\n",
            "Epoch: 42 / 500, ############## the best accuracy in val  94.4485 at Epoch: 38  ##############\n",
            "Performance in Val: Loss: (0.0499); Accuracy (94.36)\n"
          ]
        },
        {
          "name": "stderr",
          "output_type": "stream",
          "text": [
            "Epoch 43: 100%|██████████| 1496/1496 [00:21<00:00, 69.68batch/s, train_loss=tensor(0.0107, device='cuda:0', grad_fn=<MseLossBackward0>)]\n"
          ]
        },
        {
          "name": "stdout",
          "output_type": "stream",
          "text": [
            "0.05044228244911541 0.9435632607893766 0.9074257050410943 0.9489225857940942 0.8308874912648497 0.8308874912648497 0.8520157423671336 0.960527451615891 0.8859910581222057\n",
            "Epoch: 43 / 500, ############## the best accuracy in val  94.4485 at Epoch: 38  ##############\n",
            "Performance in Val: Loss: (0.0504); Accuracy (94.36)\n"
          ]
        },
        {
          "name": "stderr",
          "output_type": "stream",
          "text": [
            "Epoch 44: 100%|██████████| 1496/1496 [00:21<00:00, 70.52batch/s, train_loss=tensor(0.0113, device='cuda:0', grad_fn=<MseLossBackward0>)]\n"
          ]
        },
        {
          "name": "stdout",
          "output_type": "stream",
          "text": [
            "0.05021023741838607 0.9444854297307267 0.909396859215555 0.9484126984126984 0.8350803633822502 0.8350803633822502 0.8544740392987025 0.9592135239298905 0.8881456707543663\n",
            "Epoch: 44 / 500, ############## the best accuracy in val  94.4485 at Epoch: 38  ##############\n",
            "Performance in Val: Loss: (0.0502); Accuracy (94.45)\n"
          ]
        },
        {
          "name": "stderr",
          "output_type": "stream",
          "text": [
            "Epoch 45: 100%|██████████| 1496/1496 [00:21<00:00, 69.93batch/s, train_loss=tensor(0.0094, device='cuda:0', grad_fn=<MseLossBackward0>)]\n"
          ]
        },
        {
          "name": "stdout",
          "output_type": "stream",
          "text": [
            "0.05020238806239583 0.9433788270011066 0.9075245472823987 0.947452229299363 0.8315863032844165 0.8315863032844165 0.8515104802683502 0.9601389114326242 0.8857461853368068\n",
            "Epoch: 45 / 500, ############## the best accuracy in val  94.4485 at Epoch: 38  ##############\n",
            "Performance in Val: Loss: (0.0502); Accuracy (94.34)\n"
          ]
        },
        {
          "name": "stderr",
          "output_type": "stream",
          "text": [
            "Epoch 46: 100%|██████████| 1496/1496 [00:21<00:00, 70.11batch/s, train_loss=tensor(0.0094, device='cuda:0', grad_fn=<MseLossBackward0>)]\n"
          ]
        },
        {
          "name": "stdout",
          "output_type": "stream",
          "text": [
            "0.05040168525143103 0.9428255256362966 0.9064763292530486 0.9473264166001596 0.8294898672257163 0.8294898672257163 0.8500303911562775 0.959473718031889 0.8845007451564828\n",
            "Epoch: 46 / 500, ############## the best accuracy in val  94.4485 at Epoch: 38  ##############\n",
            "Performance in Val: Loss: (0.0504); Accuracy (94.28)\n"
          ]
        },
        {
          "name": "stderr",
          "output_type": "stream",
          "text": [
            "Epoch 47: 100%|██████████| 1496/1496 [00:21<00:00, 69.76batch/s, train_loss=tensor(0.0092, device='cuda:0', grad_fn=<MseLossBackward0>)]\n"
          ]
        },
        {
          "name": "stdout",
          "output_type": "stream",
          "text": [
            "0.050677888857370075 0.9435632607893766 0.907873953292182 0.9474940334128878 0.8322851153039832 0.8322851153039832 0.8520037514505265 0.9590011313015431 0.8861607142857143\n",
            "Epoch: 47 / 500, ############## the best accuracy in val  94.4485 at Epoch: 38  ##############\n",
            "Performance in Val: Loss: (0.0507); Accuracy (94.36)\n"
          ]
        },
        {
          "name": "stderr",
          "output_type": "stream",
          "text": [
            "Epoch 48: 100%|██████████| 1496/1496 [00:21<00:00, 70.77batch/s, train_loss=tensor(0.0091, device='cuda:0', grad_fn=<MseLossBackward0>)]\n"
          ]
        },
        {
          "name": "stdout",
          "output_type": "stream",
          "text": [
            "0.05012032753703269 0.9426410918480266 0.9056786749921775 0.9487179487179487 0.827393431167016 0.827393431167016 0.8495507751200695 0.9598088536383662 0.8839119074281448\n",
            "Epoch: 48 / 500, ############## the best accuracy in val  94.4485 at Epoch: 38  ##############\n",
            "Performance in Val: Loss: (0.0501); Accuracy (94.26)\n"
          ]
        },
        {
          "name": "stderr",
          "output_type": "stream",
          "text": [
            "Epoch 49: 100%|██████████| 1496/1496 [00:21<00:00, 69.50batch/s, train_loss=tensor(0.0111, device='cuda:0', grad_fn=<MseLossBackward0>)]\n"
          ]
        },
        {
          "name": "stdout",
          "output_type": "stream",
          "text": [
            "0.05047088988463987 0.9448542973072667 0.9100956712351218 0.9484944532488114 0.8364779874213837 0.8364779874213837 0.8554596284581588 0.9589871235436966 0.8889714073523951\n",
            "Epoch: 49 / 500, ############## the best accuracy in val  94.4485 at Epoch: 38  ##############\n",
            "Performance in Val: Loss: (0.0505); Accuracy (94.49)\n"
          ]
        },
        {
          "name": "stderr",
          "output_type": "stream",
          "text": [
            "Epoch 50: 100%|██████████| 1496/1496 [00:21<00:00, 70.56batch/s, train_loss=tensor(0.0070, device='cuda:0', grad_fn=<MseLossBackward0>)]\n"
          ]
        },
        {
          "name": "stdout",
          "output_type": "stream",
          "text": [
            "0.04988887982273644 0.9428255256362966 0.9067004533785924 0.9466135458167331 0.8301886792452831 0.8301886792452831 0.8500250410038401 0.9592790101978227 0.8845867460908413\n",
            "Epoch: 50 / 500, ############## the best accuracy in val  94.4854 at Epoch: 49  ##############\n",
            "Performance in Val: Loss: (0.0499); Accuracy (94.28)\n"
          ]
        },
        {
          "name": "stderr",
          "output_type": "stream",
          "text": [
            "Epoch 51: 100%|██████████| 1496/1496 [00:21<00:00, 69.56batch/s, train_loss=tensor(0.0085, device='cuda:0', grad_fn=<MseLossBackward0>)]\n"
          ]
        },
        {
          "name": "stdout",
          "output_type": "stream",
          "text": [
            "0.050114448605613274 0.9422722242714865 0.9049798629726108 0.9486356340288925 0.8259958071278826 0.8259958071278826 0.8485644617618575 0.9594341461159727 0.8830780724691819\n",
            "Epoch: 51 / 500, ############## the best accuracy in val  94.4854 at Epoch: 49  ##############\n",
            "Performance in Val: Loss: (0.0501); Accuracy (94.23)\n"
          ]
        },
        {
          "name": "stderr",
          "output_type": "stream",
          "text": [
            "Epoch 52: 100%|██████████| 1496/1496 [00:21<00:00, 70.28batch/s, train_loss=tensor(0.0100, device='cuda:0', grad_fn=<MseLossBackward0>)]\n"
          ]
        },
        {
          "name": "stdout",
          "output_type": "stream",
          "text": [
            "0.050374456511979755 0.9413500553301365 0.903232832923694 0.9484286865431104 0.822501747030049 0.822501747030049 0.8460978449485442 0.9619460872917943 0.8809880239520957\n",
            "Epoch: 52 / 500, ############## the best accuracy in val  94.4854 at Epoch: 49  ##############\n",
            "Performance in Val: Loss: (0.0504); Accuracy (94.14)\n"
          ]
        },
        {
          "name": "stderr",
          "output_type": "stream",
          "text": [
            "Epoch 53: 100%|██████████| 1496/1496 [00:21<00:00, 68.47batch/s, train_loss=tensor(0.0114, device='cuda:0', grad_fn=<MseLossBackward0>)]\n"
          ]
        },
        {
          "name": "stdout",
          "output_type": "stream",
          "text": [
            "0.05019073831764134 0.9407967539653265 0.9044258561497821 0.9411764705882353 0.827393431167016 0.827393431167016 0.8445666128062227 0.9606563229880788 0.8806247675715879\n",
            "Epoch: 53 / 500, ############## the best accuracy in val  94.4854 at Epoch: 49  ##############\n",
            "Performance in Val: Loss: (0.0502); Accuracy (94.08)\n"
          ]
        },
        {
          "name": "stderr",
          "output_type": "stream",
          "text": [
            "Epoch 54: 100%|██████████| 1496/1496 [00:21<00:00, 70.08batch/s, train_loss=tensor(0.0135, device='cuda:0', grad_fn=<MseLossBackward0>)]\n"
          ]
        },
        {
          "name": "stdout",
          "output_type": "stream",
          "text": [
            "0.05028946867043322 0.9411656215418664 0.9051246681693489 0.9412698412698413 0.8287910552061496 0.8287910552061496 0.8455573213079923 0.9605878600716042 0.8814567075436641\n",
            "Epoch: 54 / 500, ############## the best accuracy in val  94.4854 at Epoch: 49  ##############\n",
            "Performance in Val: Loss: (0.0503); Accuracy (94.12)\n"
          ]
        },
        {
          "name": "stderr",
          "output_type": "stream",
          "text": [
            "Epoch 55: 100%|██████████| 1496/1496 [00:21<00:00, 69.31batch/s, train_loss=tensor(0.0077, device='cuda:0', grad_fn=<MseLossBackward0>)]\n"
          ]
        },
        {
          "name": "stdout",
          "output_type": "stream",
          "text": [
            "0.050503922372379086 0.9419033566949465 0.9047292992041317 0.9471153846153846 0.8259958071278826 0.8259958071278826 0.8475626426735461 0.9588353144680353 0.8824188129899216\n",
            "Epoch: 55 / 500, ############## the best accuracy in val  94.4854 at Epoch: 49  ##############\n",
            "Performance in Val: Loss: (0.0505); Accuracy (94.19)\n"
          ]
        },
        {
          "name": "stderr",
          "output_type": "stream",
          "text": [
            "Epoch 56: 100%|██████████| 1496/1496 [00:21<00:00, 70.69batch/s, train_loss=tensor(0.0103, device='cuda:0', grad_fn=<MseLossBackward0>)]\n"
          ]
        },
        {
          "name": "stdout",
          "output_type": "stream",
          "text": [
            "0.04986649819395759 0.9439321283659167 0.9085727653117488 0.9475774424146147 0.8336827393431167 0.8336827393431167 0.8529901575000263 0.9616728484653013 0.886988847583643\n",
            "Epoch: 56 / 500, ############## the best accuracy in val  94.4854 at Epoch: 49  ##############\n",
            "Performance in Val: Loss: (0.0499); Accuracy (94.39)\n"
          ]
        },
        {
          "name": "stderr",
          "output_type": "stream",
          "text": [
            "Epoch 57: 100%|██████████| 1496/1496 [00:21<00:00, 70.00batch/s, train_loss=tensor(0.0083, device='cuda:0', grad_fn=<MseLossBackward0>)]\n"
          ]
        },
        {
          "name": "stdout",
          "output_type": "stream",
          "text": [
            "0.050031763670796696 0.9424566580597565 0.9071222619867447 0.9429928741092637 0.8322851153039832 0.8322851153039832 0.8490228756270366 0.9602064988642335 0.8841870824053453\n",
            "Epoch: 57 / 500, ############## the best accuracy in val  94.4854 at Epoch: 49  ##############\n",
            "Performance in Val: Loss: (0.0500); Accuracy (94.25)\n"
          ]
        },
        {
          "name": "stderr",
          "output_type": "stream",
          "text": [
            "Epoch 58: 100%|██████████| 1496/1496 [00:21<00:00, 70.62batch/s, train_loss=tensor(0.0069, device='cuda:0', grad_fn=<MseLossBackward0>)]\n"
          ]
        },
        {
          "name": "stdout",
          "output_type": "stream",
          "text": [
            "0.049922052178193226 0.9444854297307267 0.9089486109644673 0.9498407643312102 0.8336827393431167 0.8336827393431167 0.854486019184809 0.9594255663642918 0.8879791589132862\n",
            "Epoch: 58 / 500, ############## the best accuracy in val  94.4854 at Epoch: 49  ##############\n",
            "Performance in Val: Loss: (0.0499); Accuracy (94.45)\n"
          ]
        },
        {
          "name": "stderr",
          "output_type": "stream",
          "text": [
            "Epoch 59: 100%|██████████| 1496/1496 [00:21<00:00, 70.15batch/s, train_loss=tensor(0.0088, device='cuda:0', grad_fn=<MseLossBackward0>)]\n"
          ]
        },
        {
          "name": "stdout",
          "output_type": "stream",
          "text": [
            "0.05040437846698544 0.9433788270011066 0.9077486714079425 0.9467408585055644 0.8322851153039832 0.8322851153039832 0.8515056815746794 0.9595915582947726 0.8858311640014875\n",
            "Epoch: 59 / 500, ############## the best accuracy in val  94.4854 at Epoch: 49  ##############\n",
            "Performance in Val: Loss: (0.0504); Accuracy (94.34)\n"
          ]
        },
        {
          "name": "stderr",
          "output_type": "stream",
          "text": [
            "Epoch 60: 100%|██████████| 1496/1496 [00:21<00:00, 70.58batch/s, train_loss=tensor(0.0086, device='cuda:0', grad_fn=<MseLossBackward0>)]\n"
          ]
        },
        {
          "name": "stdout",
          "output_type": "stream",
          "text": [
            "0.050574831749227916 0.9435632607893766 0.9076498291666382 0.9482071713147411 0.8315863032844165 0.8315863032844165 0.8520092856400527 0.9568269521867948 0.8860759493670887\n",
            "Epoch: 60 / 500, ############## the best accuracy in val  94.4854 at Epoch: 49  ##############\n",
            "Performance in Val: Loss: (0.0506); Accuracy (94.36)\n"
          ]
        },
        {
          "name": "stderr",
          "output_type": "stream",
          "text": [
            "Epoch 61: 100%|██████████| 1496/1496 [00:21<00:00, 70.42batch/s, train_loss=tensor(0.0068, device='cuda:0', grad_fn=<MseLossBackward0>)]\n"
          ]
        },
        {
          "name": "stdout",
          "output_type": "stream",
          "text": [
            "0.05028919790956107 0.9430099594245666 0.9063774870117443 0.9488 0.8287910552061496 0.8287910552061496 0.8505369009468319 0.9562395893905942 0.8847444983215219\n",
            "Epoch: 61 / 500, ############## the best accuracy in val  94.4854 at Epoch: 49  ##############\n",
            "Performance in Val: Loss: (0.0503); Accuracy (94.30)\n"
          ]
        },
        {
          "name": "stderr",
          "output_type": "stream",
          "text": [
            "Epoch 62: 100%|██████████| 1496/1496 [00:21<00:00, 70.51batch/s, train_loss=tensor(0.0107, device='cuda:0', grad_fn=<MseLossBackward0>)]\n"
          ]
        },
        {
          "name": "stdout",
          "output_type": "stream",
          "text": [
            "0.049481402574615044 0.9441165621541866 0.907801550693813 0.9512 0.8308874912648497 0.8308874912648497 0.8535174270576759 0.961256730508774 0.8869824692278999\n",
            "Epoch: 62 / 500, ############## the best accuracy in val  94.4854 at Epoch: 49  ##############\n",
            "Performance in Val: Loss: (0.0495); Accuracy (94.41)\n"
          ]
        },
        {
          "name": "stderr",
          "output_type": "stream",
          "text": [
            "Epoch 63: 100%|██████████| 1496/1496 [00:21<00:00, 69.67batch/s, train_loss=tensor(0.0121, device='cuda:0', grad_fn=<MseLossBackward0>)]\n"
          ]
        },
        {
          "name": "stdout",
          "output_type": "stream",
          "text": [
            "0.050324921242215416 0.9420877904832166 0.9053028293394589 0.9464428457234213 0.827393431167016 0.827393431167016 0.8480502024083679 0.9591801679565186 0.8829231916480238\n",
            "Epoch: 63 / 500, ############## the best accuracy in val  94.4854 at Epoch: 49  ##############\n",
            "Performance in Val: Loss: (0.0503); Accuracy (94.21)\n"
          ]
        },
        {
          "name": "stderr",
          "output_type": "stream",
          "text": [
            "Epoch 64: 100%|██████████| 1496/1496 [00:21<00:00, 71.03batch/s, train_loss=tensor(0.0089, device='cuda:0', grad_fn=<MseLossBackward0>)]\n"
          ]
        },
        {
          "name": "stdout",
          "output_type": "stream",
          "text": [
            "0.050458549267866394 0.9419033566949465 0.9067464163340262 0.9407582938388626 0.8322851153039832 0.8322851153039832 0.8475391907627127 0.9582574944568676 0.8832035595105673\n",
            "Epoch: 64 / 500, ############## the best accuracy in val  94.4854 at Epoch: 49  ##############\n",
            "Performance in Val: Loss: (0.0505); Accuracy (94.19)\n"
          ]
        },
        {
          "name": "stderr",
          "output_type": "stream",
          "text": [
            "Epoch 65: 100%|██████████| 1496/1496 [00:21<00:00, 69.97batch/s, train_loss=tensor(0.0102, device='cuda:0', grad_fn=<MseLossBackward0>)]\n"
          ]
        },
        {
          "name": "stdout",
          "output_type": "stream",
          "text": [
            "0.050540856678377495 0.9424566580597565 0.9051051448568503 0.9493975903614458 0.8259958071278826 0.8259958071278826 0.8490661398421749 0.9568738781755806 0.8834080717488789\n",
            "Epoch: 65 / 500, ############## the best accuracy in val  94.4854 at Epoch: 49  ##############\n",
            "Performance in Val: Loss: (0.0505); Accuracy (94.25)\n"
          ]
        },
        {
          "name": "stderr",
          "output_type": "stream",
          "text": [
            "Epoch 66: 100%|██████████| 1496/1496 [00:21<00:00, 70.27batch/s, train_loss=tensor(0.0092, device='cuda:0', grad_fn=<MseLossBackward0>)]\n"
          ]
        },
        {
          "name": "stdout",
          "output_type": "stream",
          "text": [
            "0.05014052165841514 0.9446698635189967 0.9081773963465316 0.9534883720930233 0.8308874912648497 0.8308874912648497 0.8550237157362134 0.9583618522528239 0.8879761015683346\n",
            "Epoch: 66 / 500, ############## the best accuracy in val  94.4854 at Epoch: 49  ##############\n",
            "Performance in Val: Loss: (0.0501); Accuracy (94.47)\n"
          ]
        },
        {
          "name": "stderr",
          "output_type": "stream",
          "text": [
            "Epoch 67: 100%|██████████| 1496/1496 [00:21<00:00, 69.10batch/s, train_loss=tensor(0.0070, device='cuda:0', grad_fn=<MseLossBackward0>)]\n"
          ]
        },
        {
          "name": "stdout",
          "output_type": "stream",
          "text": [
            "0.04939507244324142 0.9441165621541866 0.907801550693813 0.9512 0.8308874912648497 0.8308874912648497 0.8535174270576759 0.9612835203456553 0.8869824692278999\n",
            "Epoch: 67 / 500, ############## the best accuracy in val  94.4854 at Epoch: 49  ##############\n",
            "Performance in Val: Loss: (0.0494); Accuracy (94.41)\n"
          ]
        },
        {
          "name": "stderr",
          "output_type": "stream",
          "text": [
            "Epoch 68: 100%|██████████| 1496/1496 [00:21<00:00, 69.91batch/s, train_loss=tensor(0.0095, device='cuda:0', grad_fn=<MseLossBackward0>)]\n"
          ]
        },
        {
          "name": "stdout",
          "output_type": "stream",
          "text": [
            "0.049754402176900345 0.9430099594245666 0.9063774870117443 0.9488 0.8287910552061496 0.8287910552061496 0.8505369009468319 0.9603572573580563 0.8847444983215219\n",
            "Epoch: 68 / 500, ############## the best accuracy in val  94.4854 at Epoch: 49  ##############\n",
            "Performance in Val: Loss: (0.0498); Accuracy (94.30)\n"
          ]
        },
        {
          "name": "stderr",
          "output_type": "stream",
          "text": [
            "Epoch 69: 100%|██████████| 1496/1496 [00:22<00:00, 66.60batch/s, train_loss=tensor(0.0056, device='cuda:0', grad_fn=<MseLossBackward0>)]\n"
          ]
        },
        {
          "name": "stdout",
          "output_type": "stream",
          "text": [
            "0.05034702635285529 0.9428255256362966 0.9071487016296801 0.9451945988880064 0.8315863032844165 0.8315863032844165 0.8500170951532714 0.9580833605171384 0.8847583643122676\n",
            "Epoch: 69 / 500, ############## the best accuracy in val  94.4854 at Epoch: 49  ##############\n",
            "Performance in Val: Loss: (0.0503); Accuracy (94.28)\n"
          ]
        },
        {
          "name": "stderr",
          "output_type": "stream",
          "text": [
            "Epoch 70: 100%|██████████| 1496/1496 [00:22<00:00, 66.76batch/s, train_loss=tensor(0.0090, device='cuda:0', grad_fn=<MseLossBackward0>)]\n"
          ]
        },
        {
          "name": "stdout",
          "output_type": "stream",
          "text": [
            "0.05047234207053076 0.9441165621541866 0.9080256748193569 0.950479233226837 0.8315863032844165 0.8315863032844165 0.8535087469728486 0.9582886617180761 0.8870667163622811\n",
            "Epoch: 70 / 500, ############## the best accuracy in val  94.4854 at Epoch: 49  ##############\n",
            "Performance in Val: Loss: (0.0505); Accuracy (94.41)\n"
          ]
        },
        {
          "name": "stderr",
          "output_type": "stream",
          "text": [
            "Epoch 71: 100%|██████████| 1496/1496 [00:21<00:00, 68.89batch/s, train_loss=tensor(0.0076, device='cuda:0', grad_fn=<MseLossBackward0>)]\n"
          ]
        },
        {
          "name": "stdout",
          "output_type": "stream",
          "text": [
            "0.049486339346251705 0.9461453338251568 0.9111967685503424 0.9530628480509149 0.8371767994409504 0.8371767994409504 0.8589447464380188 0.9570206094390226 0.8913690476190478\n",
            "Epoch: 71 / 500, ############## the best accuracy in val  94.4854 at Epoch: 49  ##############\n",
            "Performance in Val: Loss: (0.0495); Accuracy (94.61)\n"
          ]
        },
        {
          "name": "stderr",
          "output_type": "stream",
          "text": [
            "Epoch 72: 100%|██████████| 1496/1496 [00:21<00:00, 69.66batch/s, train_loss=tensor(0.0093, device='cuda:0', grad_fn=<MseLossBackward0>)]\n"
          ]
        },
        {
          "name": "stdout",
          "output_type": "stream",
          "text": [
            "0.05004934746433388 0.9426410918480266 0.905006302615546 0.9508856682769726 0.8252969951083159 0.8252969951083159 0.8495785116515145 0.9586181942214146 0.8836513280957726\n",
            "Epoch: 72 / 500, ############## the best accuracy in val  94.6145 at Epoch: 71  ##############\n",
            "Performance in Val: Loss: (0.0500); Accuracy (94.26)\n"
          ]
        },
        {
          "name": "stderr",
          "output_type": "stream",
          "text": [
            "Epoch 73: 100%|██████████| 1496/1496 [00:21<00:00, 69.69batch/s, train_loss=tensor(0.0063, device='cuda:0', grad_fn=<MseLossBackward0>)]\n"
          ]
        },
        {
          "name": "stdout",
          "output_type": "stream",
          "text": [
            "0.0505466732958501 0.9437476945776466 0.9079992351764216 0.9482484076433121 0.8322851153039832 0.8322851153039832 0.8525023265738365 0.9583324359613462 0.8864905098622998\n",
            "Epoch: 73 / 500, ############## the best accuracy in val  94.6145 at Epoch: 71  ##############\n",
            "Performance in Val: Loss: (0.0505); Accuracy (94.37)\n"
          ]
        },
        {
          "name": "stderr",
          "output_type": "stream",
          "text": [
            "Epoch 74: 100%|██████████| 1496/1496 [00:21<00:00, 68.91batch/s, train_loss=tensor(0.0089, device='cuda:0', grad_fn=<MseLossBackward0>)]\n"
          ]
        },
        {
          "name": "stdout",
          "output_type": "stream",
          "text": [
            "0.05014557416804812 0.9431943932128366 0.9069510171470715 0.9481245011971269 0.8301886792452831 0.8301886792452831 0.8510230667617056 0.9595828034461185 0.8852459016393442\n",
            "Epoch: 74 / 500, ############## the best accuracy in val  94.6145 at Epoch: 71  ##############\n",
            "Performance in Val: Loss: (0.0501); Accuracy (94.32)\n"
          ]
        },
        {
          "name": "stderr",
          "output_type": "stream",
          "text": [
            "Epoch 75: 100%|██████████| 1496/1496 [00:21<00:00, 69.23batch/s, train_loss=tensor(0.0056, device='cuda:0', grad_fn=<MseLossBackward0>)]\n"
          ]
        },
        {
          "name": "stdout",
          "output_type": "stream",
          "text": [
            "0.04946117179298943 0.9435632607893766 0.9072015809155506 0.9496402877697842 0.8301886792452831 0.8301886792452831 0.8520231247317872 0.9608583848950144 0.8859060402684563\n",
            "Epoch: 75 / 500, ############## the best accuracy in val  94.6145 at Epoch: 71  ##############\n",
            "Performance in Val: Loss: (0.0495); Accuracy (94.36)\n"
          ]
        },
        {
          "name": "stderr",
          "output_type": "stream",
          "text": [
            "Epoch 76: 100%|██████████| 1496/1496 [00:21<00:00, 69.30batch/s, train_loss=tensor(0.0115, device='cuda:0', grad_fn=<MseLossBackward0>)]\n"
          ]
        },
        {
          "name": "stdout",
          "output_type": "stream",
          "text": [
            "0.0501072338189591 0.9431943932128366 0.9071751412726152 0.9474103585657371 0.8308874912648497 0.8308874912648497 0.8510171633219464 0.9586019102029182 0.885331347728965\n",
            "Epoch: 76 / 500, ############## the best accuracy in val  94.6145 at Epoch: 71  ##############\n",
            "Performance in Val: Loss: (0.0501); Accuracy (94.32)\n"
          ]
        },
        {
          "name": "stderr",
          "output_type": "stream",
          "text": [
            "Epoch 77: 100%|██████████| 1496/1496 [00:21<00:00, 69.55batch/s, train_loss=tensor(0.0058, device='cuda:0', grad_fn=<MseLossBackward0>)]\n"
          ]
        },
        {
          "name": "stdout",
          "output_type": "stream",
          "text": [
            "0.04935877482322129 0.9437476945776466 0.9077751110508778 0.94896331738437 0.8315863032844165 0.8315863032844165 0.8525085978686774 0.9602604287319425 0.8864059590316574\n",
            "Epoch: 77 / 500, ############## the best accuracy in val  94.6145 at Epoch: 71  ##############\n",
            "Performance in Val: Loss: (0.0494); Accuracy (94.37)\n"
          ]
        },
        {
          "name": "stderr",
          "output_type": "stream",
          "text": [
            "Epoch 78: 100%|██████████| 1496/1496 [00:21<00:00, 68.79batch/s, train_loss=tensor(0.0070, device='cuda:0', grad_fn=<MseLossBackward0>)]\n"
          ]
        },
        {
          "name": "stdout",
          "output_type": "stream",
          "text": [
            "0.04984272068197077 0.9433788270011066 0.9068521749057672 0.9496 0.8294898672257163 0.8294898672257163 0.8515304096504465 0.9595082121355859 0.8854904886236479\n",
            "Epoch: 78 / 500, ############## the best accuracy in val  94.6145 at Epoch: 71  ##############\n",
            "Performance in Val: Loss: (0.0498); Accuracy (94.34)\n"
          ]
        },
        {
          "name": "stderr",
          "output_type": "stream",
          "text": [
            "Epoch 79: 100%|██████████| 1496/1496 [00:21<00:00, 69.79batch/s, train_loss=tensor(0.0089, device='cuda:0', grad_fn=<MseLossBackward0>)]\n"
          ]
        },
        {
          "name": "stdout",
          "output_type": "stream",
          "text": [
            "0.049811595627530056 0.9448542973072667 0.9100956712351218 0.9484944532488114 0.8364779874213837 0.8364779874213837 0.8554596284581588 0.9580041291368192 0.8889714073523951\n",
            "Epoch: 79 / 500, ############## the best accuracy in val  94.6145 at Epoch: 71  ##############\n",
            "Performance in Val: Loss: (0.0498); Accuracy (94.49)\n"
          ]
        },
        {
          "name": "stderr",
          "output_type": "stream",
          "text": [
            "Epoch 80: 100%|██████████| 1496/1496 [00:21<00:00, 68.92batch/s, train_loss=tensor(0.0092, device='cuda:0', grad_fn=<MseLossBackward0>)]\n"
          ]
        },
        {
          "name": "stdout",
          "output_type": "stream",
          "text": [
            "0.04982900771905075 0.9439321283659167 0.9076762688095734 0.950439648281375 0.8308874912648497 0.8308874912648497 0.853016355312642 0.9581505102063149 0.8866517524235645\n",
            "Epoch: 80 / 500, ############## the best accuracy in val  94.6145 at Epoch: 71  ##############\n",
            "Performance in Val: Loss: (0.0498); Accuracy (94.39)\n"
          ]
        },
        {
          "name": "stderr",
          "output_type": "stream",
          "text": [
            "Epoch 81: 100%|██████████| 1496/1496 [00:21<00:00, 69.25batch/s, train_loss=tensor(0.0079, device='cuda:0', grad_fn=<MseLossBackward0>)]\n"
          ]
        },
        {
          "name": "stdout",
          "output_type": "stream",
          "text": [
            "0.04992182671346448 0.9441165621541866 0.9084739230704445 0.9490445859872612 0.83298392732355 0.83298392732355 0.8534941728793227 0.9590097110532241 0.8872348343877932\n",
            "Epoch: 81 / 500, ############## the best accuracy in val  94.6145 at Epoch: 71  ##############\n",
            "Performance in Val: Loss: (0.0499); Accuracy (94.41)\n"
          ]
        },
        {
          "name": "stderr",
          "output_type": "stream",
          "text": [
            "Epoch 82: 100%|██████████| 1496/1496 [00:21<00:00, 68.68batch/s, train_loss=tensor(0.0066, device='cuda:0', grad_fn=<MseLossBackward0>)]\n"
          ]
        },
        {
          "name": "stdout",
          "output_type": "stream",
          "text": [
            "0.04934770182113756 0.9430099594245666 0.9072739835139196 0.9459459459459459 0.8315863032844165 0.8315863032844165 0.8505143860363285 0.9608613615435568 0.8850873930829305\n",
            "Epoch: 82 / 500, ############## the best accuracy in val  94.6145 at Epoch: 71  ##############\n",
            "Performance in Val: Loss: (0.0493); Accuracy (94.30)\n"
          ]
        },
        {
          "name": "stderr",
          "output_type": "stream",
          "text": [
            "Epoch 83: 100%|██████████| 1496/1496 [00:21<00:00, 69.51batch/s, train_loss=tensor(0.0087, device='cuda:0', grad_fn=<MseLossBackward0>)]\n"
          ]
        },
        {
          "name": "stdout",
          "output_type": "stream",
          "text": [
            "0.04984950316561894 0.9431943932128366 0.9073992653981591 0.9466984884645983 0.8315863032844165 0.8315863032844165 0.8510121807380276 0.9578720184706295 0.8854166666666666\n",
            "Epoch: 83 / 500, ############## the best accuracy in val  94.6145 at Epoch: 71  ##############\n",
            "Performance in Val: Loss: (0.0498); Accuracy (94.32)\n"
          ]
        },
        {
          "name": "stderr",
          "output_type": "stream",
          "text": [
            "Epoch 84: 100%|██████████| 1496/1496 [00:21<00:00, 68.78batch/s, train_loss=tensor(0.0090, device='cuda:0', grad_fn=<MseLossBackward0>)]\n"
          ]
        },
        {
          "name": "stdout",
          "output_type": "stream",
          "text": [
            "0.050055684691125694 0.9433788270011066 0.9066280507802233 0.9503205128205128 0.8287910552061496 0.8287910552061496 0.8515389075665928 0.9568551427994609 0.8854050018663681\n",
            "Epoch: 84 / 500, ############## the best accuracy in val  94.6145 at Epoch: 71  ##############\n",
            "Performance in Val: Loss: (0.0501); Accuracy (94.34)\n"
          ]
        },
        {
          "name": "stderr",
          "output_type": "stream",
          "text": [
            "Epoch 85: 100%|██████████| 1496/1496 [00:21<00:00, 70.47batch/s, train_loss=tensor(0.0117, device='cuda:0', grad_fn=<MseLossBackward0>)]\n"
          ]
        },
        {
          "name": "stdout",
          "output_type": "stream",
          "text": [
            "0.04991050877354362 0.9428255256362966 0.9071487016296801 0.9451945988880064 0.8315863032844165 0.8315863032844165 0.8500170951532714 0.9584945757584195 0.8847583643122676\n",
            "Epoch: 85 / 500, ############## the best accuracy in val  94.6145 at Epoch: 71  ##############\n",
            "Performance in Val: Loss: (0.0499); Accuracy (94.28)\n"
          ]
        },
        {
          "name": "stderr",
          "output_type": "stream",
          "text": [
            "Epoch 86: 100%|██████████| 1496/1496 [00:21<00:00, 70.40batch/s, train_loss=tensor(0.0053, device='cuda:0', grad_fn=<MseLossBackward0>)]\n"
          ]
        },
        {
          "name": "stdout",
          "output_type": "stream",
          "text": [
            "0.049070775424214924 0.9443009959424566 0.9092715773313156 0.9476605868358445 0.8350803633822502 0.8350803633822502 0.8539763834222104 0.960740894826077 0.887815750371471\n",
            "Epoch: 86 / 500, ############## the best accuracy in val  94.6145 at Epoch: 71  ##############\n",
            "Performance in Val: Loss: (0.0491); Accuracy (94.43)\n"
          ]
        },
        {
          "name": "stderr",
          "output_type": "stream",
          "text": [
            "Epoch 87: 100%|██████████| 1496/1496 [00:21<00:00, 70.75batch/s, train_loss=tensor(0.0110, device='cuda:0', grad_fn=<MseLossBackward0>)]\n"
          ]
        },
        {
          "name": "stdout",
          "output_type": "stream",
          "text": [
            "0.04904892312532121 0.9428255256362966 0.9067004533785924 0.9466135458167331 0.8301886792452831 0.8301886792452831 0.8500250410038401 0.961545990708304 0.8845867460908413\n",
            "Epoch: 87 / 500, ############## the best accuracy in val  94.6145 at Epoch: 71  ##############\n",
            "Performance in Val: Loss: (0.0490); Accuracy (94.28)\n"
          ]
        },
        {
          "name": "stderr",
          "output_type": "stream",
          "text": [
            "Epoch 88: 100%|██████████| 1496/1496 [00:21<00:00, 69.24batch/s, train_loss=tensor(0.0085, device='cuda:0', grad_fn=<MseLossBackward0>)]\n"
          ]
        },
        {
          "name": "stdout",
          "output_type": "stream",
          "text": [
            "0.04969804132865234 0.9426410918480266 0.9059027991177213 0.948 0.8280922431865828 0.8280922431865828 0.8495433922432172 0.9587423379753292 0.8839985080193957\n",
            "Epoch: 88 / 500, ############## the best accuracy in val  94.6145 at Epoch: 71  ##############\n",
            "Performance in Val: Loss: (0.0497); Accuracy (94.26)\n"
          ]
        },
        {
          "name": "stderr",
          "output_type": "stream",
          "text": [
            "Epoch 89: 100%|██████████| 1496/1496 [00:21<00:00, 69.89batch/s, train_loss=tensor(0.0083, device='cuda:0', grad_fn=<MseLossBackward0>)]\n"
          ]
        },
        {
          "name": "stdout",
          "output_type": "stream",
          "text": [
            "0.04945140856910835 0.9437476945776466 0.907550986925334 0.9496805111821086 0.8308874912648497 0.8308874912648497 0.8525157940911212 0.9596017139192112 0.8863212821468506\n",
            "Epoch: 89 / 500, ############## the best accuracy in val  94.6145 at Epoch: 71  ##############\n",
            "Performance in Val: Loss: (0.0495); Accuracy (94.37)\n"
          ]
        },
        {
          "name": "stderr",
          "output_type": "stream",
          "text": [
            "Epoch 90: 100%|██████████| 1496/1496 [00:21<00:00, 68.44batch/s, train_loss=tensor(0.0084, device='cuda:0', grad_fn=<MseLossBackward0>)]\n"
          ]
        },
        {
          "name": "stdout",
          "output_type": "stream",
          "text": [
            "0.05036414778706702 0.9417189229066765 0.9043798931943483 0.9470729751403368 0.8252969951083159 0.8252969951083159 0.847068950762057 0.9559449887333853 0.882001493651979\n",
            "Epoch: 90 / 500, ############## the best accuracy in val  94.6145 at Epoch: 71  ##############\n",
            "Performance in Val: Loss: (0.0504); Accuracy (94.17)\n"
          ]
        },
        {
          "name": "stderr",
          "output_type": "stream",
          "text": [
            "Epoch 91: 100%|██████████| 1496/1496 [00:21<00:00, 68.83batch/s, train_loss=tensor(0.0072, device='cuda:0', grad_fn=<MseLossBackward0>)]\n"
          ]
        },
        {
          "name": "stdout",
          "output_type": "stream",
          "text": [
            "0.04917340006001971 0.9444854297307267 0.9087244868389236 0.9505582137161085 0.83298392732355 0.83298392732355 0.8544933953709861 0.958683680489347 0.8878957169459963\n",
            "Epoch: 91 / 500, ############## the best accuracy in val  94.6145 at Epoch: 71  ##############\n",
            "Performance in Val: Loss: (0.0492); Accuracy (94.45)\n"
          ]
        },
        {
          "name": "stderr",
          "output_type": "stream",
          "text": [
            "Epoch 92: 100%|██████████| 1496/1496 [00:21<00:00, 69.07batch/s, train_loss=tensor(0.0111, device='cuda:0', grad_fn=<MseLossBackward0>)]\n"
          ]
        },
        {
          "name": "stdout",
          "output_type": "stream",
          "text": [
            "0.0489546995271336 0.9431943932128366 0.9067268930215276 0.9488409272581935 0.8294898672257163 0.8294898672257163 0.8510298941509324 0.9582848095846681 0.8851603281133482\n",
            "Epoch: 92 / 500, ############## the best accuracy in val  94.6145 at Epoch: 71  ##############\n",
            "Performance in Val: Loss: (0.0490); Accuracy (94.32)\n"
          ]
        },
        {
          "name": "stderr",
          "output_type": "stream",
          "text": [
            "Epoch 93: 100%|██████████| 1496/1496 [00:21<00:00, 69.66batch/s, train_loss=tensor(0.0096, device='cuda:0', grad_fn=<MseLossBackward0>)]\n"
          ]
        },
        {
          "name": "stdout",
          "output_type": "stream",
          "text": [
            "0.049221864393488926 0.9443009959424566 0.9092715773313156 0.9476605868358445 0.8350803633822502 0.8350803633822502 0.8539763834222104 0.9596573947566511 0.887815750371471\n",
            "Epoch: 93 / 500, ############## the best accuracy in val  94.6145 at Epoch: 71  ##############\n",
            "Performance in Val: Loss: (0.0492); Accuracy (94.43)\n"
          ]
        },
        {
          "name": "stderr",
          "output_type": "stream",
          "text": [
            "Epoch 94: 100%|██████████| 1496/1496 [00:21<00:00, 69.08batch/s, train_loss=tensor(0.0056, device='cuda:0', grad_fn=<MseLossBackward0>)]\n"
          ]
        },
        {
          "name": "stdout",
          "output_type": "stream",
          "text": [
            "0.049312944608655845 0.9430099594245666 0.9054809905095689 0.9516908212560387 0.8259958071278826 0.8259958071278826 0.8505742606852914 0.9605327045250838 0.8843995510662177\n",
            "Epoch: 94 / 500, ############## the best accuracy in val  94.6145 at Epoch: 71  ##############\n",
            "Performance in Val: Loss: (0.0493); Accuracy (94.30)\n"
          ]
        },
        {
          "name": "stderr",
          "output_type": "stream",
          "text": [
            "Epoch 95: 100%|██████████| 1496/1496 [00:21<00:00, 69.58batch/s, train_loss=tensor(0.0086, device='cuda:0', grad_fn=<MseLossBackward0>)]\n"
          ]
        },
        {
          "name": "stdout",
          "output_type": "stream",
          "text": [
            "0.04947125784714113 0.9437476945776466 0.9064303662976148 0.9533011272141707 0.827393431167016 0.827393431167016 0.8525657587528451 0.9576761725062384 0.8858959970071081\n",
            "Epoch: 95 / 500, ############## the best accuracy in val  94.6145 at Epoch: 71  ##############\n",
            "Performance in Val: Loss: (0.0495); Accuracy (94.37)\n"
          ]
        },
        {
          "name": "stderr",
          "output_type": "stream",
          "text": [
            "Epoch 96: 100%|██████████| 1496/1496 [00:21<00:00, 68.39batch/s, train_loss=tensor(0.0174, device='cuda:0', grad_fn=<MseLossBackward0>)]\n"
          ]
        },
        {
          "name": "stdout",
          "output_type": "stream",
          "text": [
            "0.049661739814010536 0.9424566580597565 0.905553393107938 0.9479583666933546 0.827393431167016 0.827393431167016 0.8490500741009661 0.9588596529472935 0.8835820895522387\n",
            "Epoch: 96 / 500, ############## the best accuracy in val  94.6145 at Epoch: 71  ##############\n",
            "Performance in Val: Loss: (0.0497); Accuracy (94.25)\n"
          ]
        },
        {
          "name": "stderr",
          "output_type": "stream",
          "text": [
            "Epoch 97: 100%|██████████| 1496/1496 [00:21<00:00, 70.00batch/s, train_loss=tensor(0.0074, device='cuda:0', grad_fn=<MseLossBackward0>)]\n"
          ]
        },
        {
          "name": "stdout",
          "output_type": "stream",
          "text": [
            "0.049388312226669354 0.9417189229066765 0.9046040173198922 0.9463570856685348 0.8259958071278826 0.8259958071278826 0.8470624995993383 0.9593963251697872 0.882089552238806\n",
            "Epoch: 97 / 500, ############## the best accuracy in val  94.6145 at Epoch: 71  ##############\n",
            "Performance in Val: Loss: (0.0494); Accuracy (94.17)\n"
          ]
        },
        {
          "name": "stderr",
          "output_type": "stream",
          "text": [
            "Epoch 98: 100%|██████████| 1496/1496 [00:21<00:00, 68.10batch/s, train_loss=tensor(0.0084, device='cuda:0', grad_fn=<MseLossBackward0>)]\n"
          ]
        },
        {
          "name": "stdout",
          "output_type": "stream",
          "text": [
            "0.04925675961104306 0.9428255256362966 0.9071487016296801 0.9451945988880064 0.8315863032844165 0.8315863032844165 0.8500170951532714 0.96044725720222 0.8847583643122676\n",
            "Epoch: 98 / 500, ############## the best accuracy in val  94.6145 at Epoch: 71  ##############\n",
            "Performance in Val: Loss: (0.0493); Accuracy (94.28)\n"
          ]
        },
        {
          "name": "stderr",
          "output_type": "stream",
          "text": [
            "Epoch 99: 100%|██████████| 1496/1496 [00:21<00:00, 68.95batch/s, train_loss=tensor(0.0066, device='cuda:0', grad_fn=<MseLossBackward0>)]\n"
          ]
        },
        {
          "name": "stdout",
          "output_type": "stream",
          "text": [
            "0.049561964771287007 0.9443009959424566 0.9074785843269648 0.9534136546184739 0.8294898672257163 0.8294898672257163 0.8540406683432911 0.9574366398470635 0.8871449925261584\n",
            "Epoch: 99 / 500, ############## the best accuracy in val  94.6145 at Epoch: 71  ##############\n",
            "Performance in Val: Loss: (0.0496); Accuracy (94.43)\n"
          ]
        },
        {
          "name": "stderr",
          "output_type": "stream",
          "text": [
            "Epoch 100: 100%|██████████| 1496/1496 [00:22<00:00, 67.58batch/s, train_loss=tensor(0.0087, device='cuda:0', grad_fn=<MseLossBackward0>)]\n"
          ]
        },
        {
          "name": "stdout",
          "output_type": "stream",
          "text": [
            "0.04896983690559864 0.9433788270011066 0.9081969196590302 0.945324881141046 0.8336827393431167 0.8336827393431167 0.8514988324006788 0.958685606556051 0.8860007426661715\n",
            "Epoch: 100 / 500, ############## the best accuracy in val  94.6145 at Epoch: 71  ##############\n",
            "Performance in Val: Loss: (0.0490); Accuracy (94.34)\n"
          ]
        },
        {
          "name": "stderr",
          "output_type": "stream",
          "text": [
            "Epoch 101: 100%|██████████| 1496/1496 [00:22<00:00, 65.71batch/s, train_loss=tensor(0.0072, device='cuda:0', grad_fn=<MseLossBackward0>)]\n"
          ]
        },
        {
          "name": "stdout",
          "output_type": "stream",
          "text": [
            "0.048917461271313106 0.9435632607893766 0.9085463256688135 0.9453681710213777 0.8343815513626834 0.8343815513626834 0.8519926533948399 0.9586052370454067 0.88641425389755\n",
            "Epoch: 101 / 500, ############## the best accuracy in val  94.6145 at Epoch: 71  ##############\n",
            "Performance in Val: Loss: (0.0489); Accuracy (94.36)\n"
          ]
        },
        {
          "name": "stderr",
          "output_type": "stream",
          "text": [
            "Epoch 102: 100%|██████████| 1496/1496 [00:22<00:00, 65.44batch/s, train_loss=tensor(0.0110, device='cuda:0', grad_fn=<MseLossBackward0>)]\n"
          ]
        },
        {
          "name": "stdout",
          "output_type": "stream",
          "text": [
            "0.049295810643922196 0.9443009959424566 0.9079268325780525 0.9519615692554043 0.8308874912648497 0.8308874912648497 0.8540190103550355 0.9594943794747126 0.8873134328358209\n",
            "Epoch: 102 / 500, ############## the best accuracy in val  94.6145 at Epoch: 71  ##############\n",
            "Performance in Val: Loss: (0.0493); Accuracy (94.43)\n"
          ]
        },
        {
          "name": "stderr",
          "output_type": "stream",
          "text": [
            "Epoch 103: 100%|██████████| 1496/1496 [00:23<00:00, 64.35batch/s, train_loss=tensor(0.0092, device='cuda:0', grad_fn=<MseLossBackward0>)]\n"
          ]
        },
        {
          "name": "stdout",
          "output_type": "stream",
          "text": [
            "0.04888623986731876 0.9450387310955367 0.9088762083660984 0.9535628502802241 0.8322851153039832 0.8322851153039832 0.8560065848566633 0.9593833679937791 0.8888059701492538\n",
            "Epoch: 103 / 500, ############## the best accuracy in val  94.6145 at Epoch: 71  ##############\n",
            "Performance in Val: Loss: (0.0489); Accuracy (94.50)\n"
          ]
        },
        {
          "name": "stderr",
          "output_type": "stream",
          "text": [
            "Epoch 104: 100%|██████████| 1496/1496 [00:22<00:00, 66.47batch/s, train_loss=tensor(0.0060, device='cuda:0', grad_fn=<MseLossBackward0>)]\n"
          ]
        },
        {
          "name": "stdout",
          "output_type": "stream",
          "text": [
            "0.04929352687163786 0.9441165621541866 0.9084739230704445 0.9490445859872612 0.83298392732355 0.83298392732355 0.8534941728793227 0.9587209761446134 0.8872348343877932\n",
            "Epoch: 104 / 500, ############## the best accuracy in val  94.6145 at Epoch: 71  ##############\n",
            "Performance in Val: Loss: (0.0493); Accuracy (94.41)\n"
          ]
        },
        {
          "name": "stderr",
          "output_type": "stream",
          "text": [
            "Epoch 105: 100%|██████████| 1496/1496 [00:21<00:00, 68.27batch/s, train_loss=tensor(0.0084, device='cuda:0', grad_fn=<MseLossBackward0>)]\n"
          ]
        },
        {
          "name": "stdout",
          "output_type": "stream",
          "text": [
            "0.04979890212416649 0.9446698635189967 0.909073892848707 0.950597609561753 0.8336827393431167 0.8336827393431167 0.8549856525943716 0.9557937049486431 0.8883097542814594\n",
            "Epoch: 105 / 500, ############## the best accuracy in val  94.6145 at Epoch: 71  ##############\n",
            "Performance in Val: Loss: (0.0498); Accuracy (94.47)\n"
          ]
        },
        {
          "name": "stderr",
          "output_type": "stream",
          "text": [
            "Epoch 106: 100%|██████████| 1496/1496 [00:22<00:00, 67.87batch/s, train_loss=tensor(0.0131, device='cuda:0', grad_fn=<MseLossBackward0>)]\n"
          ]
        },
        {
          "name": "stdout",
          "output_type": "stream",
          "text": [
            "0.04920580712231723 0.9448542973072667 0.9094232988584903 0.9506369426751592 0.8343815513626834 0.8343815513626834 0.8554778654902954 0.959113018267342 0.8887234834387793\n",
            "Epoch: 106 / 500, ############## the best accuracy in val  94.6145 at Epoch: 71  ##############\n",
            "Performance in Val: Loss: (0.0492); Accuracy (94.49)\n"
          ]
        },
        {
          "name": "stderr",
          "output_type": "stream",
          "text": [
            "Epoch 107: 100%|██████████| 1496/1496 [00:21<00:00, 68.68batch/s, train_loss=tensor(0.0126, device='cuda:0', grad_fn=<MseLossBackward0>)]\n"
          ]
        },
        {
          "name": "stdout",
          "output_type": "stream",
          "text": [
            "0.04943030319091948 0.9420877904832166 0.9053028293394589 0.9464428457234213 0.827393431167016 0.827393431167016 0.8480502024083679 0.9586449840582961 0.8829231916480238\n",
            "Epoch: 107 / 500, ############## the best accuracy in val  94.6145 at Epoch: 71  ##############\n",
            "Performance in Val: Loss: (0.0494); Accuracy (94.21)\n"
          ]
        },
        {
          "name": "stderr",
          "output_type": "stream",
          "text": [
            "Epoch 108: 100%|██████████| 1496/1496 [00:21<00:00, 68.94batch/s, train_loss=tensor(0.0095, device='cuda:0', grad_fn=<MseLossBackward0>)]\n"
          ]
        },
        {
          "name": "stdout",
          "output_type": "stream",
          "text": [
            "0.049276076087897476 0.9437476945776466 0.9082233593019654 0.9475357710651828 0.83298392732355 0.83298392732355 0.8524969771130304 0.9584490505454183 0.8865749349200447\n",
            "Epoch: 108 / 500, ############## the best accuracy in val  94.6145 at Epoch: 71  ##############\n",
            "Performance in Val: Loss: (0.0493); Accuracy (94.37)\n"
          ]
        },
        {
          "name": "stderr",
          "output_type": "stream",
          "text": [
            "Epoch 109: 100%|██████████| 1496/1496 [00:21<00:00, 69.41batch/s, train_loss=tensor(0.0072, device='cuda:0', grad_fn=<MseLossBackward0>)]\n"
          ]
        },
        {
          "name": "stdout",
          "output_type": "stream",
          "text": [
            "0.04886310657655651 0.9437476945776466 0.9084474834275091 0.9468253968253968 0.8336827393431167 0.8336827393431167 0.852492546411878 0.960945933381555 0.8866592344853214\n",
            "Epoch: 109 / 500, ############## the best accuracy in val  94.6145 at Epoch: 71  ##############\n",
            "Performance in Val: Loss: (0.0489); Accuracy (94.37)\n"
          ]
        },
        {
          "name": "stderr",
          "output_type": "stream",
          "text": [
            "Epoch 110: 100%|██████████| 1496/1496 [00:21<00:00, 69.12batch/s, train_loss=tensor(0.0073, device='cuda:0', grad_fn=<MseLossBackward0>)]\n"
          ]
        },
        {
          "name": "stdout",
          "output_type": "stream",
          "text": [
            "0.049207910810681904 0.9450387310955367 0.909324456617186 0.9521149241819633 0.8336827393431167 0.8336827393431167 0.8559864447888458 0.9571908036968575 0.8889716840536512\n",
            "Epoch: 110 / 500, ############## the best accuracy in val  94.6145 at Epoch: 71  ##############\n",
            "Performance in Val: Loss: (0.0492); Accuracy (94.50)\n"
          ]
        },
        {
          "name": "stderr",
          "output_type": "stream",
          "text": [
            "Epoch 111: 100%|██████████| 1496/1496 [00:21<00:00, 70.36batch/s, train_loss=tensor(0.0106, device='cuda:0', grad_fn=<MseLossBackward0>)]\n"
          ]
        },
        {
          "name": "stdout",
          "output_type": "stream",
          "text": [
            "0.04958390977910974 0.9431943932128366 0.9073992653981591 0.9466984884645983 0.8315863032844165 0.8315863032844165 0.8510121807380276 0.9579479230084601 0.8854166666666666\n",
            "Epoch: 111 / 500, ############## the best accuracy in val  94.6145 at Epoch: 71  ##############\n",
            "Performance in Val: Loss: (0.0496); Accuracy (94.32)\n"
          ]
        },
        {
          "name": "stderr",
          "output_type": "stream",
          "text": [
            "Epoch 112: 100%|██████████| 1496/1496 [00:21<00:00, 69.58batch/s, train_loss=tensor(0.0058, device='cuda:0', grad_fn=<MseLossBackward0>)]\n"
          ]
        },
        {
          "name": "stdout",
          "output_type": "stream",
          "text": [
            "0.049049277366562324 0.9446698635189967 0.9084015204720755 0.9527622097678142 0.8315863032844165 0.8315863032844165 0.8550127976058494 0.9596087177981345 0.8880597014925373\n",
            "Epoch: 112 / 500, ############## the best accuracy in val  94.6145 at Epoch: 71  ##############\n",
            "Performance in Val: Loss: (0.0490); Accuracy (94.47)\n"
          ]
        },
        {
          "name": "stderr",
          "output_type": "stream",
          "text": [
            "Epoch 113: 100%|██████████| 1496/1496 [00:21<00:00, 69.83batch/s, train_loss=tensor(0.0049, device='cuda:0', grad_fn=<MseLossBackward0>)]\n"
          ]
        },
        {
          "name": "stdout",
          "output_type": "stream",
          "text": [
            "0.04915836055509069 0.9426410918480266 0.9067992956198967 0.9451510333863276 0.8308874912648497 0.8308874912648497 0.8495230904979776 0.9598978029006915 0.8843436221643733\n",
            "Epoch: 113 / 500, ############## the best accuracy in val  94.6145 at Epoch: 71  ##############\n",
            "Performance in Val: Loss: (0.0492); Accuracy (94.26)\n"
          ]
        },
        {
          "name": "stderr",
          "output_type": "stream",
          "text": [
            "Epoch 114: 100%|██████████| 1496/1496 [00:21<00:00, 69.79batch/s, train_loss=tensor(0.0095, device='cuda:0', grad_fn=<MseLossBackward0>)]\n"
          ]
        },
        {
          "name": "stdout",
          "output_type": "stream",
          "text": [
            "0.04920845919034698 0.9446698635189967 0.9084015204720755 0.9527622097678142 0.8315863032844165 0.8315863032844165 0.8550127976058494 0.958502630219181 0.8880597014925373\n",
            "Epoch: 114 / 500, ############## the best accuracy in val  94.6145 at Epoch: 71  ##############\n",
            "Performance in Val: Loss: (0.0492); Accuracy (94.47)\n"
          ]
        },
        {
          "name": "stderr",
          "output_type": "stream",
          "text": [
            "Epoch 115: 100%|██████████| 1496/1496 [00:21<00:00, 69.85batch/s, train_loss=tensor(0.0076, device='cuda:0', grad_fn=<MseLossBackward0>)]\n"
          ]
        },
        {
          "name": "stdout",
          "output_type": "stream",
          "text": [
            "0.04972353323616765 0.9430099594245666 0.9074981076394635 0.9452380952380952 0.8322851153039832 0.8322851153039832 0.8505110535250535 0.9562809998247279 0.8851727982162765\n",
            "Epoch: 115 / 500, ############## the best accuracy in val  94.6145 at Epoch: 71  ##############\n",
            "Performance in Val: Loss: (0.0497); Accuracy (94.30)\n"
          ]
        },
        {
          "name": "stderr",
          "output_type": "stream",
          "text": [
            "Epoch 116: 100%|██████████| 1496/1496 [00:21<00:00, 69.90batch/s, train_loss=tensor(0.0057, device='cuda:0', grad_fn=<MseLossBackward0>)]\n"
          ]
        },
        {
          "name": "stdout",
          "output_type": "stream",
          "text": [
            "0.04972599370574409 0.9424566580597565 0.9051051448568503 0.9493975903614458 0.8259958071278826 0.8259958071278826 0.8490661398421749 0.9558273235674747 0.8834080717488789\n",
            "Epoch: 116 / 500, ############## the best accuracy in val  94.6145 at Epoch: 71  ##############\n",
            "Performance in Val: Loss: (0.0497); Accuracy (94.25)\n"
          ]
        },
        {
          "name": "stderr",
          "output_type": "stream",
          "text": [
            "Epoch 117: 100%|██████████| 1496/1496 [00:21<00:00, 68.12batch/s, train_loss=tensor(0.0070, device='cuda:0', grad_fn=<MseLossBackward0>)]\n"
          ]
        },
        {
          "name": "stdout",
          "output_type": "stream",
          "text": [
            "0.04940585944462906 0.9422722242714865 0.9052039870981546 0.9479166666666666 0.8266946191474493 0.8266946191474493 0.8485567088968078 0.9582751792511487 0.8831653602090331\n",
            "Epoch: 117 / 500, ############## the best accuracy in val  94.6145 at Epoch: 71  ##############\n",
            "Performance in Val: Loss: (0.0494); Accuracy (94.23)\n"
          ]
        },
        {
          "name": "stderr",
          "output_type": "stream",
          "text": [
            "Epoch 118: 100%|██████████| 1496/1496 [00:21<00:00, 69.01batch/s, train_loss=tensor(0.0048, device='cuda:0', grad_fn=<MseLossBackward0>)]\n"
          ]
        },
        {
          "name": "stdout",
          "output_type": "stream",
          "text": [
            "0.04899931140244007 0.9433788270011066 0.9066280507802233 0.9503205128205128 0.8287910552061496 0.8287910552061496 0.8515389075665928 0.960695544710049 0.8854050018663681\n",
            "Epoch: 118 / 500, ############## the best accuracy in val  94.6145 at Epoch: 71  ##############\n",
            "Performance in Val: Loss: (0.0490); Accuracy (94.34)\n"
          ]
        },
        {
          "name": "stderr",
          "output_type": "stream",
          "text": [
            "Epoch 119: 100%|██████████| 1496/1496 [00:22<00:00, 67.24batch/s, train_loss=tensor(0.0084, device='cuda:0', grad_fn=<MseLossBackward0>)]\n"
          ]
        },
        {
          "name": "stdout",
          "output_type": "stream",
          "text": [
            "0.048993370834399357 0.9433788270011066 0.908421043784574 0.944620253164557 0.8343815513626834 0.8343815513626834 0.8514967758411675 0.9606515953698058 0.8860853432282004\n",
            "Epoch: 119 / 500, ############## the best accuracy in val  94.6145 at Epoch: 71  ##############\n",
            "Performance in Val: Loss: (0.0490); Accuracy (94.34)\n"
          ]
        },
        {
          "name": "stderr",
          "output_type": "stream",
          "text": [
            "Epoch 120: 100%|██████████| 1496/1496 [00:21<00:00, 69.71batch/s, train_loss=tensor(0.0082, device='cuda:0', grad_fn=<MseLossBackward0>)]\n"
          ]
        },
        {
          "name": "stdout",
          "output_type": "stream",
          "text": [
            "0.04932628758251667 0.9437476945776466 0.9064303662976148 0.9533011272141707 0.827393431167016 0.827393431167016 0.8525657587528451 0.957766697641321 0.8858959970071081\n",
            "Epoch: 120 / 500, ############## the best accuracy in val  94.6145 at Epoch: 71  ##############\n",
            "Performance in Val: Loss: (0.0493); Accuracy (94.37)\n"
          ]
        },
        {
          "name": "stderr",
          "output_type": "stream",
          "text": [
            "Epoch 121: 100%|██████████| 1496/1496 [00:21<00:00, 68.11batch/s, train_loss=tensor(0.0078, device='cuda:0', grad_fn=<MseLossBackward0>)]\n"
          ]
        },
        {
          "name": "stdout",
          "output_type": "stream",
          "text": [
            "0.04876317701895128 0.9446698635189967 0.9092980169742508 0.9498806682577565 0.8343815513626834 0.8343815513626834 0.8549784635880232 0.9585343227713088 0.8883928571428571\n",
            "Epoch: 121 / 500, ############## the best accuracy in val  94.6145 at Epoch: 71  ##############\n",
            "Performance in Val: Loss: (0.0488); Accuracy (94.47)\n"
          ]
        },
        {
          "name": "stderr",
          "output_type": "stream",
          "text": [
            "Epoch 122: 100%|██████████| 1496/1496 [00:21<00:00, 68.66batch/s, train_loss=tensor(0.0097, device='cuda:0', grad_fn=<MseLossBackward0>)]\n"
          ]
        },
        {
          "name": "stdout",
          "output_type": "stream",
          "text": [
            "0.04897870114919814 0.9428255256362966 0.9064763292530486 0.9473264166001596 0.8294898672257163 0.8294898672257163 0.8500303911562775 0.9593698855268518 0.8845007451564828\n",
            "Epoch: 122 / 500, ############## the best accuracy in val  94.6145 at Epoch: 71  ##############\n",
            "Performance in Val: Loss: (0.0490); Accuracy (94.28)\n"
          ]
        },
        {
          "name": "stderr",
          "output_type": "stream",
          "text": [
            "Epoch 123: 100%|██████████| 1496/1496 [00:22<00:00, 67.82batch/s, train_loss=tensor(0.0062, device='cuda:0', grad_fn=<MseLossBackward0>)]\n"
          ]
        },
        {
          "name": "stdout",
          "output_type": "stream",
          "text": [
            "0.049041977829553864 0.9437476945776466 0.9071027386742463 0.9511217948717948 0.8294898672257163 0.8294898672257163 0.8525329737898545 0.9592431153183412 0.8861515490854798\n",
            "Epoch: 123 / 500, ############## the best accuracy in val  94.6145 at Epoch: 71  ##############\n",
            "Performance in Val: Loss: (0.0490); Accuracy (94.37)\n"
          ]
        },
        {
          "name": "stderr",
          "output_type": "stream",
          "text": [
            "Epoch 124: 100%|██████████| 1496/1496 [00:22<00:00, 67.36batch/s, train_loss=tensor(0.0061, device='cuda:0', grad_fn=<MseLossBackward0>)]\n"
          ]
        },
        {
          "name": "stdout",
          "output_type": "stream",
          "text": [
            "0.04894417685202577 0.9450387310955367 0.909324456617186 0.9521149241819633 0.8336827393431167 0.8336827393431167 0.8559864447888458 0.9590037577561392 0.8889716840536512\n",
            "Epoch: 124 / 500, ############## the best accuracy in val  94.6145 at Epoch: 71  ##############\n",
            "Performance in Val: Loss: (0.0489); Accuracy (94.50)\n"
          ]
        },
        {
          "name": "stderr",
          "output_type": "stream",
          "text": [
            "Epoch 125: 100%|██████████| 1496/1496 [00:21<00:00, 68.65batch/s, train_loss=tensor(0.0090, device='cuda:0', grad_fn=<MseLossBackward0>)]\n"
          ]
        },
        {
          "name": "stdout",
          "output_type": "stream",
          "text": [
            "0.04971572121774608 0.9430099594245666 0.9066016111372881 0.9480830670926518 0.8294898672257163 0.8294898672257163 0.8505298883276663 0.9567751234827628 0.8848304137159895\n",
            "Epoch: 125 / 500, ############## the best accuracy in val  94.6145 at Epoch: 71  ##############\n",
            "Performance in Val: Loss: (0.0497); Accuracy (94.30)\n"
          ]
        },
        {
          "name": "stderr",
          "output_type": "stream",
          "text": [
            "Epoch 126: 100%|██████████| 1496/1496 [00:22<00:00, 67.88batch/s, train_loss=tensor(0.0059, device='cuda:0', grad_fn=<MseLossBackward0>)]\n"
          ]
        },
        {
          "name": "stdout",
          "output_type": "stream",
          "text": [
            "0.04889506364071911 0.9441165621541866 0.9082497989449007 0.9497607655502392 0.8322851153039832 0.8322851153039832 0.8535009966198318 0.9590144386714972 0.8871508379888268\n",
            "Epoch: 126 / 500, ############## the best accuracy in val  94.6145 at Epoch: 71  ##############\n",
            "Performance in Val: Loss: (0.0489); Accuracy (94.41)\n"
          ]
        },
        {
          "name": "stderr",
          "output_type": "stream",
          "text": [
            "Epoch 127: 100%|██████████| 1496/1496 [00:21<00:00, 68.07batch/s, train_loss=tensor(0.0071, device='cuda:0', grad_fn=<MseLossBackward0>)]\n"
          ]
        },
        {
          "name": "stdout",
          "output_type": "stream",
          "text": [
            "0.04899268995293162 0.9455920324603467 0.9097003022699046 0.9544 0.8336827393431167 0.8336827393431167 0.8574914618721344 0.9565770888062082 0.8899664304364042\n",
            "Epoch: 127 / 500, ############## the best accuracy in val  94.6145 at Epoch: 71  ##############\n",
            "Performance in Val: Loss: (0.0490); Accuracy (94.56)\n"
          ]
        },
        {
          "name": "stderr",
          "output_type": "stream",
          "text": [
            "Epoch 128: 100%|██████████| 1496/1496 [00:22<00:00, 67.60batch/s, train_loss=tensor(0.0078, device='cuda:0', grad_fn=<MseLossBackward0>)]\n"
          ]
        },
        {
          "name": "stdout",
          "output_type": "stream",
          "text": [
            "0.04958169323138215 0.9420877904832166 0.9057510775905466 0.9450199203187251 0.8287910552061496 0.8287910552061496 0.8480407963676275 0.9565061745321102 0.8830975428145942\n",
            "Epoch: 128 / 500, ############## the best accuracy in val  94.6145 at Epoch: 71  ##############\n",
            "Performance in Val: Loss: (0.0496); Accuracy (94.21)\n"
          ]
        },
        {
          "name": "stderr",
          "output_type": "stream",
          "text": [
            "Epoch 129: 100%|██████████| 1496/1496 [00:22<00:00, 66.75batch/s, train_loss=tensor(0.0109, device='cuda:0', grad_fn=<MseLossBackward0>)]\n"
          ]
        },
        {
          "name": "stdout",
          "output_type": "stream",
          "text": [
            "0.04886539873074402 0.9446698635189967 0.9084015204720755 0.9527622097678142 0.8315863032844165 0.8315863032844165 0.8550127976058494 0.9580158606340157 0.8880597014925373\n",
            "Epoch: 129 / 500, ############## the best accuracy in val  94.6145 at Epoch: 71  ##############\n",
            "Performance in Val: Loss: (0.0489); Accuracy (94.47)\n"
          ]
        },
        {
          "name": "stderr",
          "output_type": "stream",
          "text": [
            "Epoch 130: 100%|██████████| 1496/1496 [00:22<00:00, 67.59batch/s, train_loss=tensor(0.0072, device='cuda:0', grad_fn=<MseLossBackward0>)]\n"
          ]
        },
        {
          "name": "stdout",
          "output_type": "stream",
          "text": [
            "0.049063183197920975 0.9448542973072667 0.9083026782307712 0.9542536115569823 0.8308874912648497 0.8308874912648497 0.8555268398919168 0.9589048279663485 0.8883078072469182\n",
            "Epoch: 130 / 500, ############## the best accuracy in val  94.6145 at Epoch: 71  ##############\n",
            "Performance in Val: Loss: (0.0491); Accuracy (94.49)\n"
          ]
        },
        {
          "name": "stderr",
          "output_type": "stream",
          "text": [
            "Epoch 131: 100%|██████████| 1496/1496 [00:22<00:00, 66.76batch/s, train_loss=tensor(0.0047, device='cuda:0', grad_fn=<MseLossBackward0>)]\n"
          ]
        },
        {
          "name": "stdout",
          "output_type": "stream",
          "text": [
            "0.04925481644882397 0.9437476945776466 0.9071027386742463 0.9511217948717948 0.8294898672257163 0.8294898672257163 0.8525329737898545 0.9578815612556624 0.8861515490854798\n",
            "Epoch: 131 / 500, ############## the best accuracy in val  94.6145 at Epoch: 71  ##############\n",
            "Performance in Val: Loss: (0.0493); Accuracy (94.37)\n"
          ]
        },
        {
          "name": "stderr",
          "output_type": "stream",
          "text": [
            "Epoch 132: 100%|██████████| 1496/1496 [00:22<00:00, 66.86batch/s, train_loss=tensor(0.0080, device='cuda:0', grad_fn=<MseLossBackward0>)]\n"
          ]
        },
        {
          "name": "stdout",
          "output_type": "stream",
          "text": [
            "0.04919240632179109 0.9444854297307267 0.9078279903367483 0.9534510433386838 0.8301886792452831 0.8301886792452831 0.8545322144447655 0.9577118922887469 0.8875607022786701\n",
            "Epoch: 132 / 500, ############## the best accuracy in val  94.6145 at Epoch: 71  ##############\n",
            "Performance in Val: Loss: (0.0492); Accuracy (94.45)\n"
          ]
        },
        {
          "name": "stderr",
          "output_type": "stream",
          "text": [
            "Epoch 133: 100%|██████████| 1496/1496 [00:22<00:00, 67.37batch/s, train_loss=tensor(0.0098, device='cuda:0', grad_fn=<MseLossBackward0>)]\n"
          ]
        },
        {
          "name": "stdout",
          "output_type": "stream",
          "text": [
            "0.049043948338790375 0.9439321283659167 0.9076762688095734 0.950439648281375 0.8308874912648497 0.8308874912648497 0.853016355312642 0.9572893832927021 0.8866517524235645\n",
            "Epoch: 133 / 500, ############## the best accuracy in val  94.6145 at Epoch: 71  ##############\n",
            "Performance in Val: Loss: (0.0490); Accuracy (94.39)\n"
          ]
        },
        {
          "name": "stderr",
          "output_type": "stream",
          "text": [
            "Epoch 134: 100%|██████████| 1496/1496 [00:21<00:00, 68.72batch/s, train_loss=tensor(0.0060, device='cuda:0', grad_fn=<MseLossBackward0>)]\n"
          ]
        },
        {
          "name": "stdout",
          "output_type": "stream",
          "text": [
            "0.050071464851498604 0.9435632607893766 0.9058568361622876 0.9539951573849879 0.8259958071278826 0.8259958071278826 0.8520870333688241 0.9539091362273712 0.8853932584269664\n",
            "Epoch: 134 / 500, ############## the best accuracy in val  94.6145 at Epoch: 71  ##############\n",
            "Performance in Val: Loss: (0.0501); Accuracy (94.36)\n"
          ]
        },
        {
          "name": "stderr",
          "output_type": "stream",
          "text": [
            "Epoch 135: 100%|██████████| 1496/1496 [00:21<00:00, 68.02batch/s, train_loss=tensor(0.0089, device='cuda:0', grad_fn=<MseLossBackward0>)]\n"
          ]
        },
        {
          "name": "stdout",
          "output_type": "stream",
          "text": [
            "0.04914081062782894 0.9430099594245666 0.9061533628862004 0.9495192307692307 0.8280922431865828 0.8280922431865828 0.8505448413433311 0.9592119480571327 0.8846584546472563\n",
            "Epoch: 135 / 500, ############## the best accuracy in val  94.6145 at Epoch: 71  ##############\n",
            "Performance in Val: Loss: (0.0491); Accuracy (94.30)\n"
          ]
        },
        {
          "name": "stderr",
          "output_type": "stream",
          "text": [
            "Epoch 136: 100%|██████████| 1496/1496 [00:21<00:00, 68.74batch/s, train_loss=tensor(0.0059, device='cuda:0', grad_fn=<MseLossBackward0>)]\n"
          ]
        },
        {
          "name": "stdout",
          "output_type": "stream",
          "text": [
            "0.048476040617308834 0.9454075986720767 0.9104715168878404 0.9507545671167593 0.8364779874213837 0.8364779874213837 0.8569542406290327 0.9595786011187647 0.8899628252788104\n",
            "Epoch: 136 / 500, ############## the best accuracy in val  94.6145 at Epoch: 71  ##############\n",
            "Performance in Val: Loss: (0.0485); Accuracy (94.54)\n"
          ]
        },
        {
          "name": "stderr",
          "output_type": "stream",
          "text": [
            "Epoch 137: 100%|██████████| 1496/1496 [00:21<00:00, 68.59batch/s, train_loss=tensor(0.0057, device='cuda:0', grad_fn=<MseLossBackward0>)]\n"
          ]
        },
        {
          "name": "stdout",
          "output_type": "stream",
          "text": [
            "0.04936364496296102 0.9431943932128366 0.9065027688959839 0.9495596477181746 0.8287910552061496 0.8287910552061496 0.8510376486025939 0.9584928247886887 0.8850746268656717\n",
            "Epoch: 137 / 500, ############## the best accuracy in val  94.6145 at Epoch: 71  ##############\n",
            "Performance in Val: Loss: (0.0494); Accuracy (94.32)\n"
          ]
        },
        {
          "name": "stderr",
          "output_type": "stream",
          "text": [
            "Epoch 138: 100%|██████████| 1496/1496 [00:21<00:00, 69.26batch/s, train_loss=tensor(0.0102, device='cuda:0', grad_fn=<MseLossBackward0>)]\n"
          ]
        },
        {
          "name": "stdout",
          "output_type": "stream",
          "text": [
            "0.04859408846294338 0.9443009959424566 0.9083750808291402 0.9505187549880287 0.8322851153039832 0.8322851153039832 0.8540010935779897 0.9588878435599596 0.8874813710879285\n",
            "Epoch: 138 / 500, ############## the best accuracy in val  94.6145 at Epoch: 71  ##############\n",
            "Performance in Val: Loss: (0.0486); Accuracy (94.43)\n"
          ]
        },
        {
          "name": "stderr",
          "output_type": "stream",
          "text": [
            "Epoch 139: 100%|██████████| 1496/1496 [00:22<00:00, 67.87batch/s, train_loss=tensor(0.0068, device='cuda:0', grad_fn=<MseLossBackward0>)]\n"
          ]
        },
        {
          "name": "stdout",
          "output_type": "stream",
          "text": [
            "0.049260522577572956 0.9430099594245666 0.9061533628862004 0.9495192307692307 0.8280922431865828 0.8280922431865828 0.8505448413433311 0.9578234290605996 0.8846584546472563\n",
            "Epoch: 139 / 500, ############## the best accuracy in val  94.6145 at Epoch: 71  ##############\n",
            "Performance in Val: Loss: (0.0493); Accuracy (94.30)\n"
          ]
        },
        {
          "name": "stderr",
          "output_type": "stream",
          "text": [
            "Epoch 140: 100%|██████████| 1496/1496 [00:21<00:00, 68.39batch/s, train_loss=tensor(0.0063, device='cuda:0', grad_fn=<MseLossBackward0>)]\n"
          ]
        },
        {
          "name": "stdout",
          "output_type": "stream",
          "text": [
            "0.048986698924140495 0.9433788270011066 0.9061798025291357 0.9517684887459807 0.827393431167016 0.827393431167016 0.8515587044257904 0.957889440619451 0.8852336448598132\n",
            "Epoch: 140 / 500, ############## the best accuracy in val  94.6145 at Epoch: 71  ##############\n",
            "Performance in Val: Loss: (0.0490); Accuracy (94.34)\n"
          ]
        },
        {
          "name": "stderr",
          "output_type": "stream",
          "text": [
            "Epoch 141: 100%|██████████| 1496/1496 [00:22<00:00, 67.25batch/s, train_loss=tensor(0.0084, device='cuda:0', grad_fn=<MseLossBackward0>)]\n"
          ]
        },
        {
          "name": "stdout",
          "output_type": "stream",
          "text": [
            "0.04953494557941502 0.9430099594245666 0.9052568663840251 0.9524193548387097 0.8252969951083159 0.8252969951083159 0.850585943778513 0.957921658462498 0.8843129913889929\n",
            "Epoch: 141 / 500, ############## the best accuracy in val  94.6145 at Epoch: 71  ##############\n",
            "Performance in Val: Loss: (0.0495); Accuracy (94.30)\n"
          ]
        },
        {
          "name": "stderr",
          "output_type": "stream",
          "text": [
            "Epoch 142: 100%|██████████| 1496/1496 [00:21<00:00, 68.67batch/s, train_loss=tensor(0.0077, device='cuda:0', grad_fn=<MseLossBackward0>)]\n"
          ]
        },
        {
          "name": "stdout",
          "output_type": "stream",
          "text": [
            "0.04949616378342563 0.9439321283659167 0.9074521446840296 0.9511609287429944 0.8301886792452831 0.8301886792452831 0.8530252231042216 0.9568640727450881 0.8865671641791044\n",
            "Epoch: 142 / 500, ############## the best accuracy in val  94.6145 at Epoch: 71  ##############\n",
            "Performance in Val: Loss: (0.0495); Accuracy (94.39)\n"
          ]
        },
        {
          "name": "stderr",
          "output_type": "stream",
          "text": [
            "Epoch 143: 100%|██████████| 1496/1496 [00:21<00:00, 68.27batch/s, train_loss=tensor(0.0098, device='cuda:0', grad_fn=<MseLossBackward0>)]\n"
          ]
        },
        {
          "name": "stdout",
          "output_type": "stream",
          "text": [
            "0.04909980254755779 0.9435632607893766 0.9069774567900067 0.9503602882305845 0.8294898672257163 0.8294898672257163 0.8520314358534078 0.9568071662288365 0.885820895522388\n",
            "Epoch: 143 / 500, ############## the best accuracy in val  94.6145 at Epoch: 71  ##############\n",
            "Performance in Val: Loss: (0.0491); Accuracy (94.36)\n"
          ]
        },
        {
          "name": "stderr",
          "output_type": "stream",
          "text": [
            "Epoch 144: 100%|██████████| 1496/1496 [00:21<00:00, 69.04batch/s, train_loss=tensor(0.0100, device='cuda:0', grad_fn=<MseLossBackward0>)]\n"
          ]
        },
        {
          "name": "stdout",
          "output_type": "stream",
          "text": [
            "0.049058941192924976 0.9420877904832166 0.9055269534650028 0.945730247406225 0.8280922431865828 0.8280922431865828 0.8480450399454215 0.9577786042354907 0.8830104321907601\n",
            "Epoch: 144 / 500, ############## the best accuracy in val  94.6145 at Epoch: 71  ##############\n",
            "Performance in Val: Loss: (0.0491); Accuracy (94.21)\n"
          ]
        },
        {
          "name": "stderr",
          "output_type": "stream",
          "text": [
            "Epoch 145: 100%|██████████| 1496/1496 [00:21<00:00, 68.19batch/s, train_loss=tensor(0.0056, device='cuda:0', grad_fn=<MseLossBackward0>)]\n"
          ]
        },
        {
          "name": "stdout",
          "output_type": "stream",
          "text": [
            "0.0488436407494274 0.9431943932128366 0.9067268930215276 0.9488409272581935 0.8294898672257163 0.8294898672257163 0.8510298941509324 0.959462686922585 0.8851603281133482\n",
            "Epoch: 145 / 500, ############## the best accuracy in val  94.6145 at Epoch: 71  ##############\n",
            "Performance in Val: Loss: (0.0488); Accuracy (94.32)\n"
          ]
        },
        {
          "name": "stderr",
          "output_type": "stream",
          "text": [
            "Epoch 146: 100%|██████████| 1496/1496 [00:21<00:00, 69.19batch/s, train_loss=tensor(0.0125, device='cuda:0', grad_fn=<MseLossBackward0>)]\n"
          ]
        },
        {
          "name": "stdout",
          "output_type": "stream",
          "text": [
            "0.04902958192608573 0.9439321283659167 0.907003896432942 0.9526104417670683 0.8287910552061496 0.8287910552061496 0.8530457626430679 0.956751835585343 0.8863976083707027\n",
            "Epoch: 146 / 500, ############## the best accuracy in val  94.6145 at Epoch: 71  ##############\n",
            "Performance in Val: Loss: (0.0490); Accuracy (94.39)\n"
          ]
        },
        {
          "name": "stderr",
          "output_type": "stream",
          "text": [
            "Epoch 147: 100%|██████████| 1496/1496 [00:22<00:00, 68.00batch/s, train_loss=tensor(0.0087, device='cuda:0', grad_fn=<MseLossBackward0>)]\n"
          ]
        },
        {
          "name": "stdout",
          "output_type": "stream",
          "text": [
            "0.049036676487462086 0.9430099594245666 0.9070498593883758 0.946656050955414 0.8308874912648497 0.8308874912648497 0.8505186339628639 0.9590925319214916 0.8850018608113137\n",
            "Epoch: 147 / 500, ############## the best accuracy in val  94.6145 at Epoch: 71  ##############\n",
            "Performance in Val: Loss: (0.0490); Accuracy (94.30)\n"
          ]
        },
        {
          "name": "stderr",
          "output_type": "stream",
          "text": [
            "Epoch 148: 100%|██████████| 1496/1496 [00:21<00:00, 68.42batch/s, train_loss=tensor(0.0085, device='cuda:0', grad_fn=<MseLossBackward0>)]\n"
          ]
        },
        {
          "name": "stdout",
          "output_type": "stream",
          "text": [
            "0.048504524271596565 0.9455920324603467 0.9101485505209923 0.9529505582137161 0.8350803633822502 0.8350803633822502 0.857470591624449 0.9614664966825252 0.8901303538175047\n",
            "Epoch: 148 / 500, ############## the best accuracy in val  94.6145 at Epoch: 71  ##############\n",
            "Performance in Val: Loss: (0.0485); Accuracy (94.56)\n"
          ]
        },
        {
          "name": "stderr",
          "output_type": "stream",
          "text": [
            "Epoch 149: 100%|██████████| 1496/1496 [00:21<00:00, 68.66batch/s, train_loss=tensor(0.0082, device='cuda:0', grad_fn=<MseLossBackward0>)]\n"
          ]
        },
        {
          "name": "stdout",
          "output_type": "stream",
          "text": [
            "0.048551352440633556 0.9454075986720767 0.9100232686367528 0.952191235059761 0.8350803633822502 0.8350803633822502 0.8569698972305841 0.9588659564383244 0.8897989575577067\n",
            "Epoch: 149 / 500, ############## the best accuracy in val  94.6145 at Epoch: 71  ##############\n",
            "Performance in Val: Loss: (0.0486); Accuracy (94.54)\n"
          ]
        },
        {
          "name": "stderr",
          "output_type": "stream",
          "text": [
            "Epoch 150: 100%|██████████| 1496/1496 [00:21<00:00, 68.81batch/s, train_loss=tensor(0.0062, device='cuda:0', grad_fn=<MseLossBackward0>)]\n"
          ]
        },
        {
          "name": "stdout",
          "output_type": "stream",
          "text": [
            "0.04920375220138918 0.9452231648838068 0.9101221108780571 0.9507154213036566 0.8357791754018169 0.8357791754018169 0.8564621592664342 0.9576828261912153 0.889550018594273\n",
            "Epoch: 150 / 500, ############## the best accuracy in val  94.6145 at Epoch: 71  ##############\n",
            "Performance in Val: Loss: (0.0492); Accuracy (94.52)\n"
          ]
        },
        {
          "name": "stderr",
          "output_type": "stream",
          "text": [
            "Epoch 151: 100%|██████████| 1496/1496 [00:21<00:00, 68.10batch/s, train_loss=tensor(0.0065, device='cuda:0', grad_fn=<MseLossBackward0>)]\n"
          ]
        },
        {
          "name": "stdout",
          "output_type": "stream",
          "text": [
            "0.04916881075636907 0.9435632607893766 0.9067533326644629 0.9510825982357658 0.8287910552061496 0.8287910552061496 0.8520406788709047 0.9554485888147003 0.8857356235997011\n",
            "Epoch: 151 / 500, ############## the best accuracy in val  94.6145 at Epoch: 71  ##############\n",
            "Performance in Val: Loss: (0.0492); Accuracy (94.36)\n"
          ]
        },
        {
          "name": "stderr",
          "output_type": "stream",
          "text": [
            "Epoch 152: 100%|██████████| 1496/1496 [00:21<00:00, 68.96batch/s, train_loss=tensor(0.0063, device='cuda:0', grad_fn=<MseLossBackward0>)]\n"
          ]
        },
        {
          "name": "stdout",
          "output_type": "stream",
          "text": [
            "0.04871866267851808 0.9443009959424566 0.9077027084525087 0.9526864474739375 0.8301886792452831 0.8301886792452831 0.8540293701144438 0.9586101397606529 0.8872292755787902\n",
            "Epoch: 152 / 500, ############## the best accuracy in val  94.6145 at Epoch: 71  ##############\n",
            "Performance in Val: Loss: (0.0487); Accuracy (94.43)\n"
          ]
        },
        {
          "name": "stderr",
          "output_type": "stream",
          "text": [
            "Epoch 153: 100%|██████████| 1496/1496 [00:22<00:00, 67.49batch/s, train_loss=tensor(0.0083, device='cuda:0', grad_fn=<MseLossBackward0>)]\n"
          ]
        },
        {
          "name": "stdout",
          "output_type": "stream",
          "text": [
            "0.04897021290592172 0.9439321283659167 0.9074521446840296 0.9511609287429944 0.8301886792452831 0.8301886792452831 0.8530252231042216 0.9592986210588078 0.8865671641791044\n",
            "Epoch: 153 / 500, ############## the best accuracy in val  94.6145 at Epoch: 71  ##############\n",
            "Performance in Val: Loss: (0.0490); Accuracy (94.39)\n"
          ]
        },
        {
          "name": "stderr",
          "output_type": "stream",
          "text": [
            "Epoch 154: 100%|██████████| 1496/1496 [00:21<00:00, 68.04batch/s, train_loss=tensor(0.0067, device='cuda:0', grad_fn=<MseLossBackward0>)]\n"
          ]
        },
        {
          "name": "stdout",
          "output_type": "stream",
          "text": [
            "0.04862811153923923 0.9439321283659167 0.9081245170606611 0.949003984063745 0.8322851153039832 0.8322851153039832 0.853001407958159 0.9611360886943212 0.8868205510052122\n",
            "Epoch: 154 / 500, ############## the best accuracy in val  94.6145 at Epoch: 71  ##############\n",
            "Performance in Val: Loss: (0.0486); Accuracy (94.39)\n"
          ]
        },
        {
          "name": "stderr",
          "output_type": "stream",
          "text": [
            "Epoch 155: 100%|██████████| 1496/1496 [00:21<00:00, 68.81batch/s, train_loss=tensor(0.0110, device='cuda:0', grad_fn=<MseLossBackward0>)]\n"
          ]
        },
        {
          "name": "stdout",
          "output_type": "stream",
          "text": [
            "0.04849381643262776 0.9446698635189967 0.909073892848707 0.950597609561753 0.8336827393431167 0.8336827393431167 0.8549856525943716 0.9604628408328242 0.8883097542814594\n",
            "Epoch: 155 / 500, ############## the best accuracy in val  94.6145 at Epoch: 71  ##############\n",
            "Performance in Val: Loss: (0.0485); Accuracy (94.47)\n"
          ]
        },
        {
          "name": "stderr",
          "output_type": "stream",
          "text": [
            "Epoch 156: 100%|██████████| 1496/1496 [00:21<00:00, 68.52batch/s, train_loss=tensor(0.0089, device='cuda:0', grad_fn=<MseLossBackward0>)]\n"
          ]
        },
        {
          "name": "stdout",
          "output_type": "stream",
          "text": [
            "0.048469682732089 0.9454075986720767 0.9102473927622965 0.9514717581543357 0.8357791754018169 0.8357791754018169 0.856961605013021 0.9584597314607762 0.8898809523809523\n",
            "Epoch: 156 / 500, ############## the best accuracy in val  94.6145 at Epoch: 71  ##############\n",
            "Performance in Val: Loss: (0.0485); Accuracy (94.54)\n"
          ]
        },
        {
          "name": "stderr",
          "output_type": "stream",
          "text": [
            "Epoch 157: 100%|██████████| 1496/1496 [00:21<00:00, 68.30batch/s, train_loss=tensor(0.0089, device='cuda:0', grad_fn=<MseLossBackward0>)]\n"
          ]
        },
        {
          "name": "stdout",
          "output_type": "stream",
          "text": [
            "0.049075875685296276 0.9457764662486168 0.9098255841541442 0.9551641313050441 0.8336827393431167 0.8336827393431167 0.857994159358291 0.9563118168919902 0.8902985074626866\n",
            "Epoch: 157 / 500, ############## the best accuracy in val  94.6145 at Epoch: 71  ##############\n",
            "Performance in Val: Loss: (0.0491); Accuracy (94.58)\n"
          ]
        },
        {
          "name": "stderr",
          "output_type": "stream",
          "text": [
            "Epoch 158: 100%|██████████| 1496/1496 [00:21<00:00, 69.85batch/s, train_loss=tensor(0.0049, device='cuda:0', grad_fn=<MseLossBackward0>)]\n"
          ]
        },
        {
          "name": "stdout",
          "output_type": "stream",
          "text": [
            "0.04866959112273021 0.9444854297307267 0.9085003627133796 0.9512779552715654 0.8322851153039832 0.8322851153039832 0.8545016998545761 0.9593157805621698 0.8878121505777116\n",
            "Epoch: 158 / 500, ############## the best accuracy in val  94.6145 at Epoch: 71  ##############\n",
            "Performance in Val: Loss: (0.0487); Accuracy (94.45)\n"
          ]
        },
        {
          "name": "stderr",
          "output_type": "stream",
          "text": [
            "Epoch 159: 100%|██████████| 1496/1496 [00:21<00:00, 68.60batch/s, train_loss=tensor(0.0076, device='cuda:0', grad_fn=<MseLossBackward0>)]\n"
          ]
        },
        {
          "name": "stdout",
          "output_type": "stream",
          "text": [
            "0.04874975818463347 0.9446698635189967 0.9086256445976193 0.9520383693045563 0.8322851153039832 0.8322851153039832 0.8550028164743516 0.9581825529523889 0.8881431767337807\n",
            "Epoch: 159 / 500, ############## the best accuracy in val  94.6145 at Epoch: 71  ##############\n",
            "Performance in Val: Loss: (0.0487); Accuracy (94.47)\n"
          ]
        },
        {
          "name": "stderr",
          "output_type": "stream",
          "text": [
            "Epoch 160: 100%|██████████| 1496/1496 [00:23<00:00, 63.95batch/s, train_loss=tensor(0.0057, device='cuda:0', grad_fn=<MseLossBackward0>)]\n"
          ]
        },
        {
          "name": "stdout",
          "output_type": "stream",
          "text": [
            "0.04921469185501337 0.9431943932128366 0.9056062723938085 0.9524576954069299 0.8259958071278826 0.8259958071278826 0.8510779999776357 0.9582168719591126 0.8847305389221557\n",
            "Epoch: 160 / 500, ############## the best accuracy in val  94.6145 at Epoch: 71  ##############\n",
            "Performance in Val: Loss: (0.0492); Accuracy (94.32)\n"
          ]
        },
        {
          "name": "stderr",
          "output_type": "stream",
          "text": [
            "Epoch 161: 100%|██████████| 1496/1496 [00:23<00:00, 63.75batch/s, train_loss=tensor(0.0094, device='cuda:0', grad_fn=<MseLossBackward0>)]\n"
          ]
        },
        {
          "name": "stdout",
          "output_type": "stream",
          "text": [
            "0.04823135186664083 0.9454075986720767 0.9102473927622965 0.9514717581543357 0.8357791754018169 0.8357791754018169 0.856961605013021 0.9598443983239017 0.8898809523809523\n",
            "Epoch: 161 / 500, ############## the best accuracy in val  94.6145 at Epoch: 71  ##############\n",
            "Performance in Val: Loss: (0.0482); Accuracy (94.54)\n"
          ]
        },
        {
          "name": "stderr",
          "output_type": "stream",
          "text": [
            "Epoch 162: 100%|██████████| 1496/1496 [00:23<00:00, 64.81batch/s, train_loss=tensor(0.0049, device='cuda:0', grad_fn=<MseLossBackward0>)]\n"
          ]
        },
        {
          "name": "stdout",
          "output_type": "stream",
          "text": [
            "0.04949499243362383 0.9439321283659167 0.907003896432942 0.9526104417670683 0.8287910552061496 0.8287910552061496 0.8530457626430679 0.9564380618095816 0.8863976083707027\n",
            "Epoch: 162 / 500, ############## the best accuracy in val  94.6145 at Epoch: 71  ##############\n",
            "Performance in Val: Loss: (0.0495); Accuracy (94.39)\n"
          ]
        },
        {
          "name": "stderr",
          "output_type": "stream",
          "text": [
            "Epoch 163: 100%|██████████| 1496/1496 [00:21<00:00, 68.46batch/s, train_loss=tensor(0.0074, device='cuda:0', grad_fn=<MseLossBackward0>)]\n"
          ]
        },
        {
          "name": "stdout",
          "output_type": "stream",
          "text": [
            "0.048519641160964966 0.9439321283659167 0.9074521446840296 0.9511609287429944 0.8301886792452831 0.8301886792452831 0.8530252231042216 0.959993931138913 0.8865671641791044\n",
            "Epoch: 163 / 500, ############## the best accuracy in val  94.6145 at Epoch: 71  ##############\n",
            "Performance in Val: Loss: (0.0485); Accuracy (94.39)\n"
          ]
        },
        {
          "name": "stderr",
          "output_type": "stream",
          "text": [
            "Epoch 164: 100%|██████████| 1496/1496 [00:22<00:00, 67.41batch/s, train_loss=tensor(0.0091, device='cuda:0', grad_fn=<MseLossBackward0>)]\n"
          ]
        },
        {
          "name": "stdout",
          "output_type": "stream",
          "text": [
            "0.04921009721742435 0.9450387310955367 0.9088762083660984 0.9535628502802241 0.8322851153039832 0.8322851153039832 0.8560065848566633 0.955974580121836 0.8888059701492538\n",
            "Epoch: 164 / 500, ############## the best accuracy in val  94.6145 at Epoch: 71  ##############\n",
            "Performance in Val: Loss: (0.0492); Accuracy (94.50)\n"
          ]
        },
        {
          "name": "stderr",
          "output_type": "stream",
          "text": [
            "Epoch 165: 100%|██████████| 1496/1496 [00:21<00:00, 68.86batch/s, train_loss=tensor(0.0120, device='cuda:0', grad_fn=<MseLossBackward0>)]\n"
          ]
        },
        {
          "name": "stdout",
          "output_type": "stream",
          "text": [
            "0.04946359179236672 0.9430099594245666 0.9057051146351127 0.9509646302250804 0.8266946191474493 0.8266946191474493 0.8505635180439866 0.9582009381345624 0.8844859813084113\n",
            "Epoch: 165 / 500, ############## the best accuracy in val  94.6145 at Epoch: 71  ##############\n",
            "Performance in Val: Loss: (0.0495); Accuracy (94.30)\n"
          ]
        },
        {
          "name": "stderr",
          "output_type": "stream",
          "text": [
            "Epoch 166: 100%|██████████| 1496/1496 [00:22<00:00, 67.03batch/s, train_loss=tensor(0.0067, device='cuda:0', grad_fn=<MseLossBackward0>)]\n"
          ]
        },
        {
          "name": "stdout",
          "output_type": "stream",
          "text": [
            "0.04922931717539376 0.9433788270011066 0.9061798025291357 0.9517684887459807 0.827393431167016 0.827393431167016 0.8515587044257904 0.9580616484924764 0.8852336448598132\n",
            "Epoch: 166 / 500, ############## the best accuracy in val  94.6145 at Epoch: 71  ##############\n",
            "Performance in Val: Loss: (0.0492); Accuracy (94.34)\n"
          ]
        },
        {
          "name": "stderr",
          "output_type": "stream",
          "text": [
            "Epoch 167: 100%|██████████| 1496/1496 [00:22<00:00, 67.89batch/s, train_loss=tensor(0.0059, device='cuda:0', grad_fn=<MseLossBackward0>)]\n"
          ]
        },
        {
          "name": "stdout",
          "output_type": "stream",
          "text": [
            "0.0493971278721636 0.9439321283659167 0.9074521446840296 0.9511609287429944 0.8301886792452831 0.8301886792452831 0.8530252231042216 0.9580069306883885 0.8865671641791044\n",
            "Epoch: 167 / 500, ############## the best accuracy in val  94.6145 at Epoch: 71  ##############\n",
            "Performance in Val: Loss: (0.0494); Accuracy (94.39)\n"
          ]
        },
        {
          "name": "stderr",
          "output_type": "stream",
          "text": [
            "Epoch 168: 100%|██████████| 1496/1496 [00:22<00:00, 67.66batch/s, train_loss=tensor(0.0109, device='cuda:0', grad_fn=<MseLossBackward0>)]\n"
          ]
        },
        {
          "name": "stdout",
          "output_type": "stream",
          "text": [
            "0.049137128347700294 0.9435632607893766 0.907873953292182 0.9474940334128878 0.8322851153039832 0.8322851153039832 0.8520037514505265 0.9586267739730956 0.8861607142857143\n",
            "Epoch: 168 / 500, ############## the best accuracy in val  94.6145 at Epoch: 71  ##############\n",
            "Performance in Val: Loss: (0.0491); Accuracy (94.36)\n"
          ]
        },
        {
          "name": "stderr",
          "output_type": "stream",
          "text": [
            "Epoch 169: 100%|██████████| 1496/1496 [00:21<00:00, 68.17batch/s, train_loss=tensor(0.0078, device='cuda:0', grad_fn=<MseLossBackward0>)]\n"
          ]
        },
        {
          "name": "stdout",
          "output_type": "stream",
          "text": [
            "0.04891409606418826 0.9446698635189967 0.9084015204720755 0.9527622097678142 0.8315863032844165 0.8315863032844165 0.8550127976058494 0.9589195361120872 0.8880597014925373\n",
            "Epoch: 169 / 500, ############## the best accuracy in val  94.6145 at Epoch: 71  ##############\n",
            "Performance in Val: Loss: (0.0489); Accuracy (94.47)\n"
          ]
        },
        {
          "name": "stderr",
          "output_type": "stream",
          "text": [
            "Epoch 170: 100%|██████████| 1496/1496 [00:22<00:00, 67.39batch/s, train_loss=tensor(0.0079, device='cuda:0', grad_fn=<MseLossBackward0>)]\n"
          ]
        },
        {
          "name": "stdout",
          "output_type": "stream",
          "text": [
            "0.04889964998107065 0.9441165621541866 0.9075774265682692 0.9519230769230769 0.8301886792452831 0.8301886792452831 0.8535270400131162 0.9587404119086252 0.8868980963045913\n",
            "Epoch: 170 / 500, ############## the best accuracy in val  94.6145 at Epoch: 71  ##############\n",
            "Performance in Val: Loss: (0.0489); Accuracy (94.41)\n"
          ]
        },
        {
          "name": "stderr",
          "output_type": "stream",
          "text": [
            "Epoch 171: 100%|██████████| 1496/1496 [00:22<00:00, 66.94batch/s, train_loss=tensor(0.0105, device='cuda:0', grad_fn=<MseLossBackward0>)]\n"
          ]
        },
        {
          "name": "stdout",
          "output_type": "stream",
          "text": [
            "0.048454459248618645 0.9441165621541866 0.9071291783171815 0.9533762057877814 0.8287910552061496 0.8287910552061496 0.853549077189398 0.9612385204235735 0.8867289719626168\n",
            "Epoch: 171 / 500, ############## the best accuracy in val  94.6145 at Epoch: 71  ##############\n",
            "Performance in Val: Loss: (0.0485); Accuracy (94.41)\n"
          ]
        },
        {
          "name": "stderr",
          "output_type": "stream",
          "text": [
            "Epoch 172: 100%|██████████| 1496/1496 [00:21<00:00, 68.22batch/s, train_loss=tensor(0.0095, device='cuda:0', grad_fn=<MseLossBackward0>)]\n"
          ]
        },
        {
          "name": "stdout",
          "output_type": "stream",
          "text": [
            "0.04929144206372174 0.9428255256362966 0.9062522051275048 0.9480415667466027 0.8287910552061496 0.8287910552061496 0.8500366635700776 0.9568183724351138 0.8844146159582401\n",
            "Epoch: 172 / 500, ############## the best accuracy in val  94.6145 at Epoch: 71  ##############\n",
            "Performance in Val: Loss: (0.0493); Accuracy (94.28)\n"
          ]
        },
        {
          "name": "stderr",
          "output_type": "stream",
          "text": [
            "Epoch 173: 100%|██████████| 1496/1496 [00:21<00:00, 68.08batch/s, train_loss=tensor(0.0069, device='cuda:0', grad_fn=<MseLossBackward0>)]\n"
          ]
        },
        {
          "name": "stdout",
          "output_type": "stream",
          "text": [
            "0.048836440440605984 0.9441165621541866 0.9086980471959882 0.9483306836248012 0.8336827393431167 0.8336827393431167 0.8534882726513814 0.9597836396742427 0.8873187058386016\n",
            "Epoch: 173 / 500, ############## the best accuracy in val  94.6145 at Epoch: 71  ##############\n",
            "Performance in Val: Loss: (0.0488); Accuracy (94.41)\n"
          ]
        },
        {
          "name": "stderr",
          "output_type": "stream",
          "text": [
            "Epoch 174: 100%|██████████| 1496/1496 [00:22<00:00, 67.85batch/s, train_loss=tensor(0.0072, device='cuda:0', grad_fn=<MseLossBackward0>)]\n"
          ]
        },
        {
          "name": "stdout",
          "output_type": "stream",
          "text": [
            "0.048888802105052906 0.9443009959424566 0.9079268325780525 0.9519615692554043 0.8308874912648497 0.8308874912648497 0.8540190103550355 0.9592501191972643 0.8873134328358209\n",
            "Epoch: 174 / 500, ############## the best accuracy in val  94.6145 at Epoch: 71  ##############\n",
            "Performance in Val: Loss: (0.0489); Accuracy (94.43)\n"
          ]
        },
        {
          "name": "stderr",
          "output_type": "stream",
          "text": [
            "Epoch 175: 100%|██████████| 1496/1496 [00:21<00:00, 68.19batch/s, train_loss=tensor(0.0066, device='cuda:0', grad_fn=<MseLossBackward0>)]\n"
          ]
        },
        {
          "name": "stdout",
          "output_type": "stream",
          "text": [
            "0.04838330645791509 0.9446698635189967 0.9088497687231631 0.951316839584996 0.83298392732355 0.83298392732355 0.8549937691834177 0.9601410125963011 0.8882265275707898\n",
            "Epoch: 175 / 500, ############## the best accuracy in val  94.6145 at Epoch: 71  ##############\n",
            "Performance in Val: Loss: (0.0484); Accuracy (94.47)\n"
          ]
        },
        {
          "name": "stderr",
          "output_type": "stream",
          "text": [
            "Epoch 176: 100%|██████████| 1496/1496 [00:21<00:00, 68.25batch/s, train_loss=tensor(0.0074, device='cuda:0', grad_fn=<MseLossBackward0>)]\n"
          ]
        },
        {
          "name": "stdout",
          "output_type": "stream",
          "text": [
            "0.04869454337114638 0.9435632607893766 0.9067533326644629 0.9510825982357658 0.8287910552061496 0.8287910552061496 0.8520406788709047 0.9604279965351812 0.8857356235997011\n",
            "Epoch: 176 / 500, ############## the best accuracy in val  94.6145 at Epoch: 71  ##############\n",
            "Performance in Val: Loss: (0.0487); Accuracy (94.36)\n"
          ]
        },
        {
          "name": "stderr",
          "output_type": "stream",
          "text": [
            "Epoch 177: 100%|██████████| 1496/1496 [00:21<00:00, 69.07batch/s, train_loss=tensor(0.0089, device='cuda:0', grad_fn=<MseLossBackward0>)]\n"
          ]
        },
        {
          "name": "stdout",
          "output_type": "stream",
          "text": [
            "0.048990272070196544 0.9437476945776466 0.9071027386742463 0.9511217948717948 0.8294898672257163 0.8294898672257163 0.8525329737898545 0.9578864639709087 0.8861515490854798\n",
            "Epoch: 177 / 500, ############## the best accuracy in val  94.6145 at Epoch: 71  ##############\n",
            "Performance in Val: Loss: (0.0490); Accuracy (94.37)\n"
          ]
        },
        {
          "name": "stderr",
          "output_type": "stream",
          "text": [
            "Epoch 178: 100%|██████████| 1496/1496 [00:22<00:00, 67.13batch/s, train_loss=tensor(0.0066, device='cuda:0', grad_fn=<MseLossBackward0>)]\n"
          ]
        },
        {
          "name": "stdout",
          "output_type": "stream",
          "text": [
            "0.0491674906489524 0.9428255256362966 0.9046833362486979 0.9531123686337915 0.8238993710691824 0.8238993710691824 0.850106657201598 0.9569292088190742 0.883808095952024\n",
            "Epoch: 178 / 500, ############## the best accuracy in val  94.6145 at Epoch: 71  ##############\n",
            "Performance in Val: Loss: (0.0492); Accuracy (94.28)\n"
          ]
        },
        {
          "name": "stderr",
          "output_type": "stream",
          "text": [
            "Epoch 179: 100%|██████████| 1496/1496 [00:21<00:00, 68.56batch/s, train_loss=tensor(0.0053, device='cuda:0', grad_fn=<MseLossBackward0>)]\n"
          ]
        },
        {
          "name": "stdout",
          "output_type": "stream",
          "text": [
            "0.04869250521402468 0.9441165621541866 0.9075774265682692 0.9519230769230769 0.8301886792452831 0.8301886792452831 0.8535270400131162 0.9601861876153561 0.8868980963045913\n",
            "Epoch: 179 / 500, ############## the best accuracy in val  94.6145 at Epoch: 71  ##############\n",
            "Performance in Val: Loss: (0.0487); Accuracy (94.41)\n"
          ]
        },
        {
          "name": "stderr",
          "output_type": "stream",
          "text": [
            "Epoch 180: 100%|██████████| 1496/1496 [00:22<00:00, 67.11batch/s, train_loss=tensor(0.0069, device='cuda:0', grad_fn=<MseLossBackward0>)]\n"
          ]
        },
        {
          "name": "stdout",
          "output_type": "stream",
          "text": [
            "0.049463681283999576 0.9433788270011066 0.9055074301525042 0.9539579967689822 0.8252969951083159 0.8252969951083159 0.8515954500582982 0.9570465237910386 0.8849756463094793\n",
            "Epoch: 180 / 500, ############## the best accuracy in val  94.6145 at Epoch: 71  ##############\n",
            "Performance in Val: Loss: (0.0495); Accuracy (94.34)\n"
          ]
        },
        {
          "name": "stderr",
          "output_type": "stream",
          "text": [
            "Epoch 181: 100%|██████████| 1496/1496 [00:21<00:00, 68.25batch/s, train_loss=tensor(0.0082, device='cuda:0', grad_fn=<MseLossBackward0>)]\n"
          ]
        },
        {
          "name": "stdout",
          "output_type": "stream",
          "text": [
            "0.048678667792542415 0.9452231648838068 0.9085532419992502 0.9557877813504824 0.8308874912648497 0.8308874912648497 0.8565346363348094 0.9592362865363909 0.8889719626168224\n",
            "Epoch: 181 / 500, ############## the best accuracy in val  94.6145 at Epoch: 71  ##############\n",
            "Performance in Val: Loss: (0.0487); Accuracy (94.52)\n"
          ]
        },
        {
          "name": "stderr",
          "output_type": "stream",
          "text": [
            "Epoch 182: 100%|██████████| 1496/1496 [00:22<00:00, 67.73batch/s, train_loss=tensor(0.0058, device='cuda:0', grad_fn=<MseLossBackward0>)]\n"
          ]
        },
        {
          "name": "stdout",
          "output_type": "stream",
          "text": [
            "0.04868297939273444 0.9439321283659167 0.9076762688095734 0.950439648281375 0.8308874912648497 0.8308874912648497 0.853016355312642 0.9583259573733424 0.8866517524235645\n",
            "Epoch: 182 / 500, ############## the best accuracy in val  94.6145 at Epoch: 71  ##############\n",
            "Performance in Val: Loss: (0.0487); Accuracy (94.39)\n"
          ]
        },
        {
          "name": "stderr",
          "output_type": "stream",
          "text": [
            "Epoch 183: 100%|██████████| 1496/1496 [00:21<00:00, 68.78batch/s, train_loss=tensor(0.0049, device='cuda:0', grad_fn=<MseLossBackward0>)]\n"
          ]
        },
        {
          "name": "stdout",
          "output_type": "stream",
          "text": [
            "0.049511689438738606 0.9424566580597565 0.9051051448568503 0.9493975903614458 0.8259958071278826 0.8259958071278826 0.8490661398421749 0.9583863658290552 0.8834080717488789\n",
            "Epoch: 183 / 500, ############## the best accuracy in val  94.6145 at Epoch: 71  ##############\n",
            "Performance in Val: Loss: (0.0495); Accuracy (94.25)\n"
          ]
        },
        {
          "name": "stderr",
          "output_type": "stream",
          "text": [
            "Epoch 184: 100%|██████████| 1496/1496 [00:22<00:00, 67.87batch/s, train_loss=tensor(0.0100, device='cuda:0', grad_fn=<MseLossBackward0>)]\n"
          ]
        },
        {
          "name": "stdout",
          "output_type": "stream",
          "text": [
            "0.048916300335391 0.9433788270011066 0.9064039266546795 0.9510433386837881 0.8280922431865828 0.8280922431865828 0.8515483381033115 0.958718349690017 0.885319387373926\n",
            "Epoch: 184 / 500, ############## the best accuracy in val  94.6145 at Epoch: 71  ##############\n",
            "Performance in Val: Loss: (0.0489); Accuracy (94.34)\n"
          ]
        },
        {
          "name": "stderr",
          "output_type": "stream",
          "text": [
            "Epoch 185: 100%|██████████| 1496/1496 [00:21<00:00, 68.30batch/s, train_loss=tensor(0.0079, device='cuda:0', grad_fn=<MseLossBackward0>)]\n"
          ]
        },
        {
          "name": "stdout",
          "output_type": "stream",
          "text": [
            "0.048522999764166096 0.9444854297307267 0.9080521144622921 0.9527243589743589 0.8308874912648497 0.8308874912648497 0.8545211062363778 0.9593641073267402 0.8876446435237029\n",
            "Epoch: 185 / 500, ############## the best accuracy in val  94.6145 at Epoch: 71  ##############\n",
            "Performance in Val: Loss: (0.0485); Accuracy (94.45)\n"
          ]
        },
        {
          "name": "stderr",
          "output_type": "stream",
          "text": [
            "Epoch 186: 100%|██████████| 1496/1496 [00:21<00:00, 68.47batch/s, train_loss=tensor(0.0105, device='cuda:0', grad_fn=<MseLossBackward0>)]\n"
          ]
        },
        {
          "name": "stdout",
          "output_type": "stream",
          "text": [
            "0.04883455205708742 0.9441165621541866 0.9075774265682692 0.9519230769230769 0.8301886792452831 0.8301886792452831 0.8535270400131162 0.9595050603900704 0.8868980963045913\n",
            "Epoch: 186 / 500, ############## the best accuracy in val  94.6145 at Epoch: 71  ##############\n",
            "Performance in Val: Loss: (0.0488); Accuracy (94.41)\n"
          ]
        },
        {
          "name": "stderr",
          "output_type": "stream",
          "text": [
            "Epoch 187: 100%|██████████| 1496/1496 [00:21<00:00, 68.98batch/s, train_loss=tensor(0.0095, device='cuda:0', grad_fn=<MseLossBackward0>)]\n"
          ]
        },
        {
          "name": "stdout",
          "output_type": "stream",
          "text": [
            "0.04879631610079245 0.9463297676134268 0.9108738021834943 0.9552715654952076 0.8357791754018169 0.8357791754018169 0.8594664642632134 0.9575208614911154 0.8915393216548639\n",
            "Epoch: 187 / 500, ############## the best accuracy in val  94.6145 at Epoch: 71  ##############\n",
            "Performance in Val: Loss: (0.0488); Accuracy (94.63)\n"
          ]
        },
        {
          "name": "stderr",
          "output_type": "stream",
          "text": [
            "Epoch 188: 100%|██████████| 1496/1496 [00:21<00:00, 68.12batch/s, train_loss=tensor(0.0084, device='cuda:0', grad_fn=<MseLossBackward0>)]\n"
          ]
        },
        {
          "name": "stdout",
          "output_type": "stream",
          "text": [
            "0.048962538469244136 0.9448542973072667 0.9083026782307712 0.9542536115569823 0.8308874912648497 0.8308874912648497 0.8555268398919168 0.9577516393016363 0.8883078072469182\n",
            "Epoch: 188 / 500, ############## the best accuracy in val  94.6330 at Epoch: 187  ##############\n",
            "Performance in Val: Loss: (0.0490); Accuracy (94.49)\n"
          ]
        },
        {
          "name": "stderr",
          "output_type": "stream",
          "text": [
            "Epoch 189: 100%|██████████| 1496/1496 [00:21<00:00, 68.93batch/s, train_loss=tensor(0.0068, device='cuda:0', grad_fn=<MseLossBackward0>)]\n"
          ]
        },
        {
          "name": "stdout",
          "output_type": "stream",
          "text": [
            "0.04887213227762417 0.9437476945776466 0.9066544904231586 0.952572347266881 0.8280922431865828 0.8280922431865828 0.8525538908075943 0.9593957998788679 0.885981308411215\n",
            "Epoch: 189 / 500, ############## the best accuracy in val  94.6330 at Epoch: 187  ##############\n",
            "Performance in Val: Loss: (0.0489); Accuracy (94.37)\n"
          ]
        },
        {
          "name": "stderr",
          "output_type": "stream",
          "text": [
            "Epoch 190: 100%|██████████| 1496/1496 [00:22<00:00, 67.82batch/s, train_loss=tensor(0.0058, device='cuda:0', grad_fn=<MseLossBackward0>)]\n"
          ]
        },
        {
          "name": "stdout",
          "output_type": "stream",
          "text": [
            "0.048781198280101475 0.9441165621541866 0.9066809300660938 0.9548387096774194 0.827393431167016 0.827393431167016 0.8535748840075116 0.9590228433262052 0.8865593410707601\n",
            "Epoch: 190 / 500, ############## the best accuracy in val  94.6330 at Epoch: 187  ##############\n",
            "Performance in Val: Loss: (0.0488); Accuracy (94.41)\n"
          ]
        },
        {
          "name": "stderr",
          "output_type": "stream",
          "text": [
            "Epoch 191: 100%|██████████| 1496/1496 [00:21<00:00, 68.49batch/s, train_loss=tensor(0.0058, device='cuda:0', grad_fn=<MseLossBackward0>)]\n"
          ]
        },
        {
          "name": "stdout",
          "output_type": "stream",
          "text": [
            "0.049176736565476116 0.9450387310955367 0.9077555877383792 0.9572235673930589 0.8287910552061496 0.8287910552061496 0.8560734183534282 0.9562680426487199 0.8883895131086144\n",
            "Epoch: 191 / 500, ############## the best accuracy in val  94.6330 at Epoch: 187  ##############\n",
            "Performance in Val: Loss: (0.0492); Accuracy (94.50)\n"
          ]
        },
        {
          "name": "stderr",
          "output_type": "stream",
          "text": [
            "Epoch 192: 100%|██████████| 1496/1496 [00:22<00:00, 67.73batch/s, train_loss=tensor(0.0079, device='cuda:0', grad_fn=<MseLossBackward0>)]\n"
          ]
        },
        {
          "name": "stdout",
          "output_type": "stream",
          "text": [
            "0.04890899910506877 0.9454075986720767 0.9086785238834898 0.9565567176186646 0.8308874912648497 0.8308874912648497 0.8570393107111617 0.9565214079687683 0.8893044128646224\n",
            "Epoch: 192 / 500, ############## the best accuracy in val  94.6330 at Epoch: 187  ##############\n",
            "Performance in Val: Loss: (0.0489); Accuracy (94.54)\n"
          ]
        },
        {
          "name": "stderr",
          "output_type": "stream",
          "text": [
            "Epoch 193: 100%|██████████| 1496/1496 [00:21<00:00, 68.14batch/s, train_loss=tensor(0.0106, device='cuda:0', grad_fn=<MseLossBackward0>)]\n"
          ]
        },
        {
          "name": "stdout",
          "output_type": "stream",
          "text": [
            "0.04862210112200542 0.9448542973072667 0.9087509264818587 0.9528 0.8322851153039832 0.8322851153039832 0.8555044444649051 0.9601026663591964 0.8884744498321522\n",
            "Epoch: 193 / 500, ############## the best accuracy in val  94.6330 at Epoch: 187  ##############\n",
            "Performance in Val: Loss: (0.0486); Accuracy (94.49)\n"
          ]
        },
        {
          "name": "stderr",
          "output_type": "stream",
          "text": [
            "Epoch 194: 100%|██████████| 1496/1496 [00:21<00:00, 68.11batch/s, train_loss=tensor(0.0062, device='cuda:0', grad_fn=<MseLossBackward0>)]\n"
          ]
        },
        {
          "name": "stdout",
          "output_type": "stream",
          "text": [
            "0.04832966837354682 0.9448542973072667 0.9089750506074026 0.952076677316294 0.83298392732355 0.83298392732355 0.8554946527363035 0.959642161319993 0.8885575847931421\n",
            "Epoch: 194 / 500, ############## the best accuracy in val  94.6330 at Epoch: 187  ##############\n",
            "Performance in Val: Loss: (0.0483); Accuracy (94.49)\n"
          ]
        },
        {
          "name": "stderr",
          "output_type": "stream",
          "text": [
            "Epoch 195: 100%|██████████| 1496/1496 [00:21<00:00, 68.80batch/s, train_loss=tensor(0.0083, device='cuda:0', grad_fn=<MseLossBackward0>)]\n"
          ]
        },
        {
          "name": "stdout",
          "output_type": "stream",
          "text": [
            "0.0494159764864228 0.9433788270011066 0.9068521749057672 0.9496 0.8294898672257163 0.8294898672257163 0.8515304096504465 0.9571655897327338 0.8854904886236479\n",
            "Epoch: 195 / 500, ############## the best accuracy in val  94.6330 at Epoch: 187  ##############\n",
            "Performance in Val: Loss: (0.0494); Accuracy (94.34)\n"
          ]
        },
        {
          "name": "stderr",
          "output_type": "stream",
          "text": [
            "Epoch 196: 100%|██████████| 1496/1496 [00:22<00:00, 67.65batch/s, train_loss=tensor(0.0081, device='cuda:0', grad_fn=<MseLossBackward0>)]\n"
          ]
        },
        {
          "name": "stdout",
          "output_type": "stream",
          "text": [
            "0.04911747380075129 0.9450387310955367 0.9091003324916422 0.9528377298161471 0.83298392732355 0.83298392732355 0.8559960470552065 0.9586999645078436 0.8888888888888888\n",
            "Epoch: 196 / 500, ############## the best accuracy in val  94.6330 at Epoch: 187  ##############\n",
            "Performance in Val: Loss: (0.0491); Accuracy (94.50)\n"
          ]
        },
        {
          "name": "stderr",
          "output_type": "stream",
          "text": [
            "Epoch 197: 100%|██████████| 1496/1496 [00:21<00:00, 70.21batch/s, train_loss=tensor(0.0066, device='cuda:0', grad_fn=<MseLossBackward0>)]\n"
          ]
        },
        {
          "name": "stdout",
          "output_type": "stream",
          "text": [
            "0.04900454416532408 0.9461453338251568 0.9103002720481671 0.955964771817454 0.8343815513626834 0.8343815513626834 0.8589879466091049 0.9569081971823046 0.8910447761194031\n",
            "Epoch: 197 / 500, ############## the best accuracy in val  94.6330 at Epoch: 187  ##############\n",
            "Performance in Val: Loss: (0.0490); Accuracy (94.61)\n"
          ]
        },
        {
          "name": "stderr",
          "output_type": "stream",
          "text": [
            "Epoch 198: 100%|██████████| 1496/1496 [00:21<00:00, 69.56batch/s, train_loss=tensor(0.0055, device='cuda:0', grad_fn=<MseLossBackward0>)]\n"
          ]
        },
        {
          "name": "stdout",
          "output_type": "stream",
          "text": [
            "0.04907395004887472 0.9441165621541866 0.90645680594055 0.9555735056542811 0.8266946191474493 0.8266946191474493 0.8535892090905094 0.9577388572226013 0.8864743349569126\n",
            "Epoch: 198 / 500, ############## the best accuracy in val  94.6330 at Epoch: 187  ##############\n",
            "Performance in Val: Loss: (0.0491); Accuracy (94.41)\n"
          ]
        },
        {
          "name": "stderr",
          "output_type": "stream",
          "text": [
            "Epoch 199: 100%|██████████| 1496/1496 [00:21<00:00, 70.16batch/s, train_loss=tensor(0.0111, device='cuda:0', grad_fn=<MseLossBackward0>)]\n"
          ]
        },
        {
          "name": "stdout",
          "output_type": "stream",
          "text": [
            "0.048950177363374016 0.9457764662486168 0.9104979565307756 0.9529880478087649 0.8357791754018169 0.8357791754018169 0.8579620195486904 0.9577166199070201 0.8905435591958302\n",
            "Epoch: 199 / 500, ############## the best accuracy in val  94.6330 at Epoch: 187  ##############\n",
            "Performance in Val: Loss: (0.0490); Accuracy (94.58)\n"
          ]
        },
        {
          "name": "stderr",
          "output_type": "stream",
          "text": [
            "Epoch 200: 100%|██████████| 1496/1496 [00:21<00:00, 69.09batch/s, train_loss=tensor(0.0064, device='cuda:0', grad_fn=<MseLossBackward0>)]\n"
          ]
        },
        {
          "name": "stdout",
          "output_type": "stream",
          "text": [
            "0.048410480418665844 0.9443009959424566 0.9081509567035964 0.9512390087929656 0.8315863032844165 0.8315863032844165 0.8540095858934968 0.9604132883894423 0.8873974645786726\n",
            "Epoch: 200 / 500, ############## the best accuracy in val  94.6330 at Epoch: 187  ##############\n",
            "Performance in Val: Loss: (0.0484); Accuracy (94.43)\n"
          ]
        },
        {
          "name": "stderr",
          "output_type": "stream",
          "text": [
            "Epoch 201: 100%|██████████| 1496/1496 [00:21<00:00, 69.38batch/s, train_loss=tensor(0.0087, device='cuda:0', grad_fn=<MseLossBackward0>)]\n"
          ]
        },
        {
          "name": "stdout",
          "output_type": "stream",
          "text": [
            "0.04895390383899212 0.9439321283659167 0.907003896432942 0.9526104417670683 0.8287910552061496 0.8287910552061496 0.8530457626430679 0.9597316358732375 0.8863976083707027\n",
            "Epoch: 201 / 500, ############## the best accuracy in val  94.6330 at Epoch: 187  ##############\n",
            "Performance in Val: Loss: (0.0490); Accuracy (94.39)\n"
          ]
        },
        {
          "name": "stderr",
          "output_type": "stream",
          "text": [
            "Epoch 202: 100%|██████████| 1496/1496 [00:21<00:00, 69.17batch/s, train_loss=tensor(0.0068, device='cuda:0', grad_fn=<MseLossBackward0>)]\n"
          ]
        },
        {
          "name": "stdout",
          "output_type": "stream",
          "text": [
            "0.048956276679580864 0.9444854297307267 0.9078279903367483 0.9534510433386838 0.8301886792452831 0.8301886792452831 0.8545322144447655 0.9593229595380662 0.8875607022786701\n",
            "Epoch: 202 / 500, ############## the best accuracy in val  94.6330 at Epoch: 187  ##############\n",
            "Performance in Val: Loss: (0.0490); Accuracy (94.45)\n"
          ]
        },
        {
          "name": "stderr",
          "output_type": "stream",
          "text": [
            "Epoch 203: 100%|██████████| 1496/1496 [00:21<00:00, 70.22batch/s, train_loss=tensor(0.0076, device='cuda:0', grad_fn=<MseLossBackward0>)]\n"
          ]
        },
        {
          "name": "stdout",
          "output_type": "stream",
          "text": [
            "0.04868847055530006 0.9441165621541866 0.9075774265682692 0.9519230769230769 0.8301886792452831 0.8301886792452831 0.8535270400131162 0.9581946346435315 0.8868980963045913\n",
            "Epoch: 203 / 500, ############## the best accuracy in val  94.6330 at Epoch: 187  ##############\n",
            "Performance in Val: Loss: (0.0487); Accuracy (94.41)\n"
          ]
        },
        {
          "name": "stderr",
          "output_type": "stream",
          "text": [
            "Epoch 204: 100%|██████████| 1496/1496 [00:21<00:00, 69.79batch/s, train_loss=tensor(0.0059, device='cuda:0', grad_fn=<MseLossBackward0>)]\n"
          ]
        },
        {
          "name": "stdout",
          "output_type": "stream",
          "text": [
            "0.04880013553933664 0.9461453338251568 0.910524396173711 0.9552358113509193 0.8350803633822502 0.8350803633822502 0.8589757387977709 0.9574231573801361 0.8911260253542134\n",
            "Epoch: 204 / 500, ############## the best accuracy in val  94.6330 at Epoch: 187  ##############\n",
            "Performance in Val: Loss: (0.0488); Accuracy (94.61)\n"
          ]
        },
        {
          "name": "stderr",
          "output_type": "stream",
          "text": [
            "Epoch 205: 100%|██████████| 1496/1496 [00:21<00:00, 69.00batch/s, train_loss=tensor(0.0040, device='cuda:0', grad_fn=<MseLossBackward0>)]\n"
          ]
        },
        {
          "name": "stdout",
          "output_type": "stream",
          "text": [
            "0.04883840468458154 0.9433788270011066 0.9064039266546795 0.9510433386837881 0.8280922431865828 0.8280922431865828 0.8515483381033115 0.9593374925868319 0.885319387373926\n",
            "Epoch: 205 / 500, ############## the best accuracy in val  94.6330 at Epoch: 187  ##############\n",
            "Performance in Val: Loss: (0.0488); Accuracy (94.34)\n"
          ]
        },
        {
          "name": "stderr",
          "output_type": "stream",
          "text": [
            "Epoch 206: 100%|██████████| 1496/1496 [00:21<00:00, 68.29batch/s, train_loss=tensor(0.0073, device='cuda:0', grad_fn=<MseLossBackward0>)]\n"
          ]
        },
        {
          "name": "stdout",
          "output_type": "stream",
          "text": [
            "0.049041517756202004 0.9439321283659167 0.9081245170606611 0.949003984063745 0.8322851153039832 0.8322851153039832 0.853001407958159 0.9573168735174759 0.8868205510052122\n",
            "Epoch: 206 / 500, ############## the best accuracy in val  94.6330 at Epoch: 187  ##############\n",
            "Performance in Val: Loss: (0.0490); Accuracy (94.39)\n"
          ]
        },
        {
          "name": "stderr",
          "output_type": "stream",
          "text": [
            "Epoch 207: 100%|██████████| 1496/1496 [00:22<00:00, 65.78batch/s, train_loss=tensor(0.0067, device='cuda:0', grad_fn=<MseLossBackward0>)]\n"
          ]
        },
        {
          "name": "stdout",
          "output_type": "stream",
          "text": [
            "0.04869779834354466 0.9433788270011066 0.9059556784035918 0.9524959742351047 0.8266946191474493 0.8266946191474493 0.8515700097190683 0.957608760171602 0.885147774036663\n",
            "Epoch: 207 / 500, ############## the best accuracy in val  94.6330 at Epoch: 187  ##############\n",
            "Performance in Val: Loss: (0.0487); Accuracy (94.34)\n"
          ]
        },
        {
          "name": "stderr",
          "output_type": "stream",
          "text": [
            "Epoch 208: 100%|██████████| 1496/1496 [00:22<00:00, 67.46batch/s, train_loss=tensor(0.0052, device='cuda:0', grad_fn=<MseLossBackward0>)]\n"
          ]
        },
        {
          "name": "stdout",
          "output_type": "stream",
          "text": [
            "0.048927247608927166 0.9450387310955367 0.9084279601150107 0.9550200803212852 0.8308874912648497 0.8308874912648497 0.8560304797437376 0.9584546536485569 0.8886397608370703\n",
            "Epoch: 208 / 500, ############## the best accuracy in val  94.6330 at Epoch: 187  ##############\n",
            "Performance in Val: Loss: (0.0489); Accuracy (94.50)\n"
          ]
        },
        {
          "name": "stderr",
          "output_type": "stream",
          "text": [
            "Epoch 209: 100%|██████████| 1496/1496 [00:22<00:00, 67.38batch/s, train_loss=tensor(0.0065, device='cuda:0', grad_fn=<MseLossBackward0>)]\n"
          ]
        },
        {
          "name": "stdout",
          "output_type": "stream",
          "text": [
            "0.04960700234567577 0.9435632607893766 0.906529208538919 0.9518072289156626 0.8280922431865828 0.8280922431865828 0.8520508569428447 0.956235824805673 0.8856502242152465\n",
            "Epoch: 209 / 500, ############## the best accuracy in val  94.6330 at Epoch: 187  ##############\n",
            "Performance in Val: Loss: (0.0496); Accuracy (94.36)\n"
          ]
        },
        {
          "name": "stderr",
          "output_type": "stream",
          "text": [
            "Epoch 210: 100%|██████████| 1496/1496 [00:23<00:00, 64.97batch/s, train_loss=tensor(0.0073, device='cuda:0', grad_fn=<MseLossBackward0>)]\n"
          ]
        },
        {
          "name": "stdout",
          "output_type": "stream",
          "text": [
            "0.049022940156812016 0.9441165621541866 0.9066809300660938 0.9548387096774194 0.827393431167016 0.827393431167016 0.8535748840075116 0.9576952580763042 0.8865593410707601\n",
            "Epoch: 210 / 500, ############## the best accuracy in val  94.6330 at Epoch: 187  ##############\n",
            "Performance in Val: Loss: (0.0490); Accuracy (94.41)\n"
          ]
        },
        {
          "name": "stderr",
          "output_type": "stream",
          "text": [
            "Epoch 211: 100%|██████████| 1496/1496 [00:22<00:00, 66.33batch/s, train_loss=tensor(0.0061, device='cuda:0', grad_fn=<MseLossBackward0>)]\n"
          ]
        },
        {
          "name": "stdout",
          "output_type": "stream",
          "text": [
            "0.04850875848734921 0.9452231648838068 0.9101221108780571 0.9507154213036566 0.8357791754018169 0.8357791754018169 0.8564621592664342 0.9593619186145766 0.889550018594273\n",
            "Epoch: 211 / 500, ############## the best accuracy in val  94.6330 at Epoch: 187  ##############\n",
            "Performance in Val: Loss: (0.0485); Accuracy (94.52)\n"
          ]
        },
        {
          "name": "stderr",
          "output_type": "stream",
          "text": [
            "Epoch 212: 100%|██████████| 1496/1496 [00:22<00:00, 66.58batch/s, train_loss=tensor(0.0077, device='cuda:0', grad_fn=<MseLossBackward0>)]\n"
          ]
        },
        {
          "name": "stdout",
          "output_type": "stream",
          "text": [
            "0.04892211263491349 0.9450387310955367 0.907979711863923 0.9564867042707494 0.8294898672257163 0.8294898672257163 0.8560581550067271 0.9571655897327338 0.8884730538922155\n",
            "Epoch: 212 / 500, ############## the best accuracy in val  94.6330 at Epoch: 187  ##############\n",
            "Performance in Val: Loss: (0.0489); Accuracy (94.50)\n"
          ]
        },
        {
          "name": "stderr",
          "output_type": "stream",
          "text": [
            "Epoch 213: 100%|██████████| 1496/1496 [00:21<00:00, 69.09batch/s, train_loss=tensor(0.0064, device='cuda:0', grad_fn=<MseLossBackward0>)]\n"
          ]
        },
        {
          "name": "stdout",
          "output_type": "stream",
          "text": [
            "0.04839124149558219 0.9444854297307267 0.9085003627133796 0.9512779552715654 0.8322851153039832 0.8322851153039832 0.8545016998545761 0.958169945970327 0.8878121505777116\n",
            "Epoch: 213 / 500, ############## the best accuracy in val  94.6330 at Epoch: 187  ##############\n",
            "Performance in Val: Loss: (0.0484); Accuracy (94.45)\n"
          ]
        },
        {
          "name": "stderr",
          "output_type": "stream",
          "text": [
            "Epoch 214: 100%|██████████| 1496/1496 [00:21<00:00, 68.80batch/s, train_loss=tensor(0.0076, device='cuda:0', grad_fn=<MseLossBackward0>)]\n"
          ]
        },
        {
          "name": "stdout",
          "output_type": "stream",
          "text": [
            "0.04887598642910069 0.9439321283659167 0.9067797723073981 0.9533386967015286 0.8280922431865828 0.8280922431865828 0.853057440740306 0.9597113246243602 0.8863126402393418\n",
            "Epoch: 214 / 500, ############## the best accuracy in val  94.6330 at Epoch: 187  ##############\n",
            "Performance in Val: Loss: (0.0489); Accuracy (94.39)\n"
          ]
        },
        {
          "name": "stderr",
          "output_type": "stream",
          "text": [
            "Epoch 215: 100%|██████████| 1496/1496 [00:21<00:00, 68.12batch/s, train_loss=tensor(0.0104, device='cuda:0', grad_fn=<MseLossBackward0>)]\n"
          ]
        },
        {
          "name": "stdout",
          "output_type": "stream",
          "text": [
            "0.04815599914978851 0.9435632607893766 0.9063050844133752 0.9525341914722446 0.827393431167016 0.827393431167016 0.852061973247592 0.9608491047554412 0.8855646970830217\n",
            "Epoch: 215 / 500, ############## the best accuracy in val  94.6330 at Epoch: 187  ##############\n",
            "Performance in Val: Loss: (0.0482); Accuracy (94.36)\n"
          ]
        },
        {
          "name": "stderr",
          "output_type": "stream",
          "text": [
            "Epoch 216: 100%|██████████| 1496/1496 [00:21<00:00, 69.49batch/s, train_loss=tensor(0.0157, device='cuda:0', grad_fn=<MseLossBackward0>)]\n"
          ]
        },
        {
          "name": "stdout",
          "output_type": "stream",
          "text": [
            "0.048950991593301296 0.9431943932128366 0.9053821482682647 0.9531880548829701 0.8252969951083159 0.8252969951083159 0.851090437122673 0.9562459804301118 0.8846441947565542\n",
            "Epoch: 216 / 500, ############## the best accuracy in val  94.6330 at Epoch: 187  ##############\n",
            "Performance in Val: Loss: (0.0490); Accuracy (94.32)\n"
          ]
        },
        {
          "name": "stderr",
          "output_type": "stream",
          "text": [
            "Epoch 217: 100%|██████████| 1496/1496 [00:21<00:00, 68.73batch/s, train_loss=tensor(0.0082, device='cuda:0', grad_fn=<MseLossBackward0>)]\n"
          ]
        },
        {
          "name": "stdout",
          "output_type": "stream",
          "text": [
            "0.0485411879860542 0.9441165621541866 0.9082497989449007 0.9497607655502392 0.8322851153039832 0.8322851153039832 0.8535009966198318 0.9575002000482917 0.8871508379888268\n",
            "Epoch: 217 / 500, ############## the best accuracy in val  94.6330 at Epoch: 187  ##############\n",
            "Performance in Val: Loss: (0.0485); Accuracy (94.41)\n"
          ]
        },
        {
          "name": "stderr",
          "output_type": "stream",
          "text": [
            "Epoch 218: 100%|██████████| 1496/1496 [00:21<00:00, 68.36batch/s, train_loss=tensor(0.0064, device='cuda:0', grad_fn=<MseLossBackward0>)]\n"
          ]
        },
        {
          "name": "stdout",
          "output_type": "stream",
          "text": [
            "0.04843992452052506 0.9435632607893766 0.9067533326644629 0.9510825982357658 0.8287910552061496 0.8287910552061496 0.8520406788709047 0.9596318305985814 0.8857356235997011\n",
            "Epoch: 218 / 500, ############## the best accuracy in val  94.6330 at Epoch: 187  ##############\n",
            "Performance in Val: Loss: (0.0484); Accuracy (94.36)\n"
          ]
        },
        {
          "name": "stderr",
          "output_type": "stream",
          "text": [
            "Epoch 219: 100%|██████████| 1496/1496 [00:21<00:00, 68.53batch/s, train_loss=tensor(0.0066, device='cuda:0', grad_fn=<MseLossBackward0>)]\n"
          ]
        },
        {
          "name": "stdout",
          "output_type": "stream",
          "text": [
            "0.0486316006122665 0.9437476945776466 0.9077751110508778 0.94896331738437 0.8315863032844165 0.8315863032844165 0.8525085978686774 0.9597431922734607 0.8864059590316574\n",
            "Epoch: 219 / 500, ############## the best accuracy in val  94.6330 at Epoch: 187  ##############\n",
            "Performance in Val: Loss: (0.0486); Accuracy (94.37)\n"
          ]
        },
        {
          "name": "stderr",
          "output_type": "stream",
          "text": [
            "Epoch 220: 100%|██████████| 1496/1496 [00:21<00:00, 68.78batch/s, train_loss=tensor(0.0065, device='cuda:0', grad_fn=<MseLossBackward0>)]\n"
          ]
        },
        {
          "name": "stdout",
          "output_type": "stream",
          "text": [
            "0.04873683625324206 0.9430099594245666 0.9066016111372881 0.9480830670926518 0.8294898672257163 0.8294898672257163 0.8505298883276663 0.9561790933863946 0.8848304137159895\n",
            "Epoch: 220 / 500, ############## the best accuracy in val  94.6330 at Epoch: 187  ##############\n",
            "Performance in Val: Loss: (0.0487); Accuracy (94.30)\n"
          ]
        },
        {
          "name": "stderr",
          "output_type": "stream",
          "text": [
            "Epoch 221: 100%|██████████| 1496/1496 [00:21<00:00, 68.77batch/s, train_loss=tensor(0.0088, device='cuda:0', grad_fn=<MseLossBackward0>)]\n"
          ]
        },
        {
          "name": "stdout",
          "output_type": "stream",
          "text": [
            "0.048821121284907516 0.9454075986720767 0.9091267721345775 0.9550922213311949 0.8322851153039832 0.8322851153039832 0.8570124069797525 0.9558099889671396 0.8894697535474234\n",
            "Epoch: 221 / 500, ############## the best accuracy in val  94.6330 at Epoch: 187  ##############\n",
            "Performance in Val: Loss: (0.0488); Accuracy (94.54)\n"
          ]
        },
        {
          "name": "stderr",
          "output_type": "stream",
          "text": [
            "Epoch 222: 100%|██████████| 1496/1496 [00:21<00:00, 69.88batch/s, train_loss=tensor(0.0118, device='cuda:0', grad_fn=<MseLossBackward0>)]\n"
          ]
        },
        {
          "name": "stdout",
          "output_type": "stream",
          "text": [
            "0.04881202023137699 0.9433788270011066 0.9064039266546795 0.9510433386837881 0.8280922431865828 0.8280922431865828 0.8515483381033115 0.9570846949311702 0.885319387373926\n",
            "Epoch: 222 / 500, ############## the best accuracy in val  94.6330 at Epoch: 187  ##############\n",
            "Performance in Val: Loss: (0.0488); Accuracy (94.34)\n"
          ]
        },
        {
          "name": "stderr",
          "output_type": "stream",
          "text": [
            "Epoch 223: 100%|██████████| 1496/1496 [00:21<00:00, 69.14batch/s, train_loss=tensor(0.0063, device='cuda:0', grad_fn=<MseLossBackward0>)]\n"
          ]
        },
        {
          "name": "stdout",
          "output_type": "stream",
          "text": [
            "0.04876938563856212 0.9441165621541866 0.9069050541916377 0.9541062801932367 0.8280922431865828 0.8280922431865828 0.853561507786622 0.9583537977920622 0.8866442199775533\n",
            "Epoch: 223 / 500, ############## the best accuracy in val  94.6330 at Epoch: 187  ##############\n",
            "Performance in Val: Loss: (0.0488); Accuracy (94.41)\n"
          ]
        },
        {
          "name": "stderr",
          "output_type": "stream",
          "text": [
            "Epoch 224: 100%|██████████| 1496/1496 [00:21<00:00, 68.67batch/s, train_loss=tensor(0.0096, device='cuda:0', grad_fn=<MseLossBackward0>)]\n"
          ]
        },
        {
          "name": "stdout",
          "output_type": "stream",
          "text": [
            "0.04863199261440472 0.9457764662486168 0.908704963526425 0.9588377723970944 0.8301886792452831 0.8301886792452831 0.8580666108457303 0.9600282501456369 0.8898876404494381\n",
            "Epoch: 224 / 500, ############## the best accuracy in val  94.6330 at Epoch: 187  ##############\n",
            "Performance in Val: Loss: (0.0486); Accuracy (94.58)\n"
          ]
        },
        {
          "name": "stderr",
          "output_type": "stream",
          "text": [
            "Epoch 225: 100%|██████████| 1496/1496 [00:21<00:00, 68.54batch/s, train_loss=tensor(0.0091, device='cuda:0', grad_fn=<MseLossBackward0>)]\n"
          ]
        },
        {
          "name": "stdout",
          "output_type": "stream",
          "text": [
            "0.049206956374374305 0.9433788270011066 0.9064039266546795 0.9510433386837881 0.8280922431865828 0.8280922431865828 0.8515483381033115 0.9580902768475752 0.885319387373926\n",
            "Epoch: 225 / 500, ############## the best accuracy in val  94.6330 at Epoch: 187  ##############\n",
            "Performance in Val: Loss: (0.0492); Accuracy (94.34)\n"
          ]
        },
        {
          "name": "stderr",
          "output_type": "stream",
          "text": [
            "Epoch 226: 100%|██████████| 1496/1496 [00:21<00:00, 69.38batch/s, train_loss=tensor(0.0075, device='cuda:0', grad_fn=<MseLossBackward0>)]\n"
          ]
        },
        {
          "name": "stdout",
          "output_type": "stream",
          "text": [
            "0.04902724295177243 0.9448542973072667 0.9078544299796836 0.9557165861513688 0.8294898672257163 0.8294898672257163 0.8555530058541758 0.9588291860739775 0.8881406659184437\n",
            "Epoch: 226 / 500, ############## the best accuracy in val  94.6330 at Epoch: 187  ##############\n",
            "Performance in Val: Loss: (0.0490); Accuracy (94.49)\n"
          ]
        },
        {
          "name": "stderr",
          "output_type": "stream",
          "text": [
            "Epoch 227: 100%|██████████| 1496/1496 [00:22<00:00, 67.90batch/s, train_loss=tensor(0.0058, device='cuda:0', grad_fn=<MseLossBackward0>)]\n"
          ]
        },
        {
          "name": "stdout",
          "output_type": "stream",
          "text": [
            "0.049381544813513756 0.9446698635189967 0.9086256445976193 0.9520383693045563 0.8322851153039832 0.8322851153039832 0.8550028164743516 0.9550280058853593 0.8881431767337807\n",
            "Epoch: 227 / 500, ############## the best accuracy in val  94.6330 at Epoch: 187  ##############\n",
            "Performance in Val: Loss: (0.0494); Accuracy (94.47)\n"
          ]
        },
        {
          "name": "stderr",
          "output_type": "stream",
          "text": [
            "Epoch 228: 100%|██████████| 1496/1496 [00:21<00:00, 69.33batch/s, train_loss=tensor(0.0086, device='cuda:0', grad_fn=<MseLossBackward0>)]\n"
          ]
        },
        {
          "name": "stdout",
          "output_type": "stream",
          "text": [
            "0.048218096352436325 0.9441165621541866 0.907801550693813 0.9512 0.8308874912648497 0.8308874912648497 0.8535174270576759 0.9620388886875273 0.8869824692278999\n",
            "Epoch: 228 / 500, ############## the best accuracy in val  94.6330 at Epoch: 187  ##############\n",
            "Performance in Val: Loss: (0.0482); Accuracy (94.41)\n"
          ]
        },
        {
          "name": "stderr",
          "output_type": "stream",
          "text": [
            "Epoch 229: 100%|██████████| 1496/1496 [00:21<00:00, 68.20batch/s, train_loss=tensor(0.0094, device='cuda:0', grad_fn=<MseLossBackward0>)]\n"
          ]
        },
        {
          "name": "stdout",
          "output_type": "stream",
          "text": [
            "0.048735660246827385 0.9441165621541866 0.907801550693813 0.9512 0.8308874912648497 0.8308874912648497 0.8535174270576759 0.9586043615605413 0.8869824692278999\n",
            "Epoch: 229 / 500, ############## the best accuracy in val  94.6330 at Epoch: 187  ##############\n",
            "Performance in Val: Loss: (0.0487); Accuracy (94.41)\n"
          ]
        },
        {
          "name": "stderr",
          "output_type": "stream",
          "text": [
            "Epoch 230: 100%|██████████| 1496/1496 [00:21<00:00, 68.71batch/s, train_loss=tensor(0.0081, device='cuda:0', grad_fn=<MseLossBackward0>)]\n"
          ]
        },
        {
          "name": "stdout",
          "output_type": "stream",
          "text": [
            "0.04879109197380868 0.9446698635189967 0.9088497687231631 0.951316839584996 0.83298392732355 0.83298392732355 0.8549937691834177 0.9575973788683518 0.8882265275707898\n",
            "Epoch: 230 / 500, ############## the best accuracy in val  94.6330 at Epoch: 187  ##############\n",
            "Performance in Val: Loss: (0.0488); Accuracy (94.47)\n"
          ]
        },
        {
          "name": "stderr",
          "output_type": "stream",
          "text": [
            "Epoch 231: 100%|██████████| 1496/1496 [00:21<00:00, 68.03batch/s, train_loss=tensor(0.0093, device='cuda:0', grad_fn=<MseLossBackward0>)]\n"
          ]
        },
        {
          "name": "stdout",
          "output_type": "stream",
          "text": [
            "0.04854006294838407 0.9443009959424566 0.9081509567035964 0.9512390087929656 0.8315863032844165 0.8315863032844165 0.8540095858934968 0.9591247497645383 0.8873974645786726\n",
            "Epoch: 231 / 500, ############## the best accuracy in val  94.6330 at Epoch: 187  ##############\n",
            "Performance in Val: Loss: (0.0485); Accuracy (94.43)\n"
          ]
        },
        {
          "name": "stderr",
          "output_type": "stream",
          "text": [
            "Epoch 232: 100%|██████████| 1496/1496 [00:21<00:00, 68.47batch/s, train_loss=tensor(0.0062, device='cuda:0', grad_fn=<MseLossBackward0>)]\n"
          ]
        },
        {
          "name": "stdout",
          "output_type": "stream",
          "text": [
            "0.049046000381085 0.9431943932128366 0.9060545206448961 0.951004016064257 0.827393431167016 0.827393431167016 0.8510559512426213 0.9572151421761157 0.8849028400597908\n",
            "Epoch: 232 / 500, ############## the best accuracy in val  94.6330 at Epoch: 187  ##############\n",
            "Performance in Val: Loss: (0.0490); Accuracy (94.32)\n"
          ]
        },
        {
          "name": "stderr",
          "output_type": "stream",
          "text": [
            "Epoch 233: 100%|██████████| 1496/1496 [00:22<00:00, 67.00batch/s, train_loss=tensor(0.0070, device='cuda:0', grad_fn=<MseLossBackward0>)]\n"
          ]
        },
        {
          "name": "stdout",
          "output_type": "stream",
          "text": [
            "0.04923852744766257 0.9441165621541866 0.9082497989449007 0.9497607655502392 0.8322851153039832 0.8322851153039832 0.8535009966198318 0.9565996763157355 0.8871508379888268\n",
            "Epoch: 233 / 500, ############## the best accuracy in val  94.6330 at Epoch: 187  ##############\n",
            "Performance in Val: Loss: (0.0492); Accuracy (94.41)\n"
          ]
        },
        {
          "name": "stderr",
          "output_type": "stream",
          "text": [
            "Epoch 234: 100%|██████████| 1496/1496 [00:21<00:00, 68.15batch/s, train_loss=tensor(0.0085, device='cuda:0', grad_fn=<MseLossBackward0>)]\n"
          ]
        },
        {
          "name": "stdout",
          "output_type": "stream",
          "text": [
            "0.0490217042917555 0.9448542973072667 0.9083026782307712 0.9542536115569823 0.8308874912648497 0.8308874912648497 0.8555268398919168 0.9564706298465748 0.8883078072469182\n",
            "Epoch: 234 / 500, ############## the best accuracy in val  94.6330 at Epoch: 187  ##############\n",
            "Performance in Val: Loss: (0.0490); Accuracy (94.49)\n"
          ]
        },
        {
          "name": "stderr",
          "output_type": "stream",
          "text": [
            "Epoch 235: 100%|██████████| 1496/1496 [00:22<00:00, 67.15batch/s, train_loss=tensor(0.0090, device='cuda:0', grad_fn=<MseLossBackward0>)]\n"
          ]
        },
        {
          "name": "stdout",
          "output_type": "stream",
          "text": [
            "0.048714109950444916 0.9455920324603467 0.9094761781443608 0.9551282051282052 0.83298392732355 0.83298392732355 0.8575033049061629 0.9575367953156657 0.8898842851810377\n",
            "Epoch: 235 / 500, ############## the best accuracy in val  94.6330 at Epoch: 187  ##############\n",
            "Performance in Val: Loss: (0.0487); Accuracy (94.56)\n"
          ]
        },
        {
          "name": "stderr",
          "output_type": "stream",
          "text": [
            "Epoch 236: 100%|██████████| 1496/1496 [00:21<00:00, 68.50batch/s, train_loss=tensor(0.0051, device='cuda:0', grad_fn=<MseLossBackward0>)]\n"
          ]
        },
        {
          "name": "stdout",
          "output_type": "stream",
          "text": [
            "0.04826267385347323 0.9452231648838068 0.9085532419992502 0.9557877813504824 0.8308874912648497 0.8308874912648497 0.8565346363348094 0.9609919838854754 0.8889719626168224\n",
            "Epoch: 236 / 500, ############## the best accuracy in val  94.6330 at Epoch: 187  ##############\n",
            "Performance in Val: Loss: (0.0483); Accuracy (94.52)\n"
          ]
        },
        {
          "name": "stderr",
          "output_type": "stream",
          "text": [
            "Epoch 237: 100%|██████████| 1496/1496 [00:22<00:00, 65.14batch/s, train_loss=tensor(0.0071, device='cuda:0', grad_fn=<MseLossBackward0>)]\n"
          ]
        },
        {
          "name": "stdout",
          "output_type": "stream",
          "text": [
            "0.04918802749704231 0.9446698635189967 0.9084015204720755 0.9527622097678142 0.8315863032844165 0.8315863032844165 0.8550127976058494 0.956820823792737 0.8880597014925373\n",
            "Epoch: 237 / 500, ############## the best accuracy in val  94.6330 at Epoch: 187  ##############\n",
            "Performance in Val: Loss: (0.0492); Accuracy (94.47)\n"
          ]
        },
        {
          "name": "stderr",
          "output_type": "stream",
          "text": [
            "Epoch 238: 100%|██████████| 1496/1496 [00:21<00:00, 68.78batch/s, train_loss=tensor(0.0058, device='cuda:0', grad_fn=<MseLossBackward0>)]\n"
          ]
        },
        {
          "name": "stdout",
          "output_type": "stream",
          "text": [
            "0.04892099250785329 0.9433788270011066 0.9064039266546795 0.9510433386837881 0.8280922431865828 0.8280922431865828 0.8515483381033115 0.9578974950802128 0.885319387373926\n",
            "Epoch: 238 / 500, ############## the best accuracy in val  94.6330 at Epoch: 187  ##############\n",
            "Performance in Val: Loss: (0.0489); Accuracy (94.34)\n"
          ]
        },
        {
          "name": "stderr",
          "output_type": "stream",
          "text": [
            "Epoch 239: 100%|██████████| 1496/1496 [00:21<00:00, 68.16batch/s, train_loss=tensor(0.0088, device='cuda:0', grad_fn=<MseLossBackward0>)]\n"
          ]
        },
        {
          "name": "stdout",
          "output_type": "stream",
          "text": [
            "0.04866683770987121 0.9435632607893766 0.9067533326644629 0.9510825982357658 0.8287910552061496 0.8287910552061496 0.8520406788709047 0.9573440135483035 0.8857356235997011\n",
            "Epoch: 239 / 500, ############## the best accuracy in val  94.6330 at Epoch: 187  ##############\n",
            "Performance in Val: Loss: (0.0487); Accuracy (94.36)\n"
          ]
        },
        {
          "name": "stderr",
          "output_type": "stream",
          "text": [
            "Epoch 240: 100%|██████████| 1496/1496 [00:21<00:00, 69.02batch/s, train_loss=tensor(0.0107, device='cuda:0', grad_fn=<MseLossBackward0>)]\n"
          ]
        },
        {
          "name": "stdout",
          "output_type": "stream",
          "text": [
            "0.04885514969514175 0.9439321283659167 0.9065556481818543 0.9540692989524577 0.827393431167016 0.827393431167016 0.8530700619892723 0.9585833499237716 0.8862275449101797\n",
            "Epoch: 240 / 500, ############## the best accuracy in val  94.6330 at Epoch: 187  ##############\n",
            "Performance in Val: Loss: (0.0489); Accuracy (94.39)\n"
          ]
        },
        {
          "name": "stderr",
          "output_type": "stream",
          "text": [
            "Epoch 241: 100%|██████████| 1496/1496 [00:22<00:00, 67.88batch/s, train_loss=tensor(0.0045, device='cuda:0', grad_fn=<MseLossBackward0>)]\n"
          ]
        },
        {
          "name": "stdout",
          "output_type": "stream",
          "text": [
            "0.04862574420192025 0.9450387310955367 0.9086520842405545 0.9542902967121091 0.8315863032844165 0.8315863032844165 0.856018061357983 0.9572321265825046 0.8887229275578791\n",
            "Epoch: 241 / 500, ############## the best accuracy in val  94.6330 at Epoch: 187  ##############\n",
            "Performance in Val: Loss: (0.0486); Accuracy (94.50)\n"
          ]
        },
        {
          "name": "stderr",
          "output_type": "stream",
          "text": [
            "Epoch 242: 100%|██████████| 1496/1496 [00:21<00:00, 68.72batch/s, train_loss=tensor(0.0076, device='cuda:0', grad_fn=<MseLossBackward0>)]\n"
          ]
        },
        {
          "name": "stdout",
          "output_type": "stream",
          "text": [
            "0.04890444739298387 0.9428255256362966 0.9046833362486979 0.9531123686337915 0.8238993710691824 0.8238993710691824 0.850106657201598 0.9584690116003497 0.883808095952024\n",
            "Epoch: 242 / 500, ############## the best accuracy in val  94.6330 at Epoch: 187  ##############\n",
            "Performance in Val: Loss: (0.0489); Accuracy (94.28)\n"
          ]
        },
        {
          "name": "stderr",
          "output_type": "stream",
          "text": [
            "Epoch 243: 100%|██████████| 1496/1496 [00:21<00:00, 68.59batch/s, train_loss=tensor(0.0080, device='cuda:0', grad_fn=<MseLossBackward0>)]\n"
          ]
        },
        {
          "name": "stdout",
          "output_type": "stream",
          "text": [
            "0.04893837437372316 0.9433788270011066 0.9052833060269604 0.9546925566343042 0.8245981830887491 0.8245981830887491 0.8516095915748865 0.9575024763089417 0.8848893888263967\n",
            "Epoch: 243 / 500, ############## the best accuracy in val  94.6330 at Epoch: 187  ##############\n",
            "Performance in Val: Loss: (0.0489); Accuracy (94.34)\n"
          ]
        },
        {
          "name": "stderr",
          "output_type": "stream",
          "text": [
            "Epoch 244: 100%|██████████| 1496/1496 [00:21<00:00, 69.09batch/s, train_loss=tensor(0.0052, device='cuda:0', grad_fn=<MseLossBackward0>)]\n"
          ]
        },
        {
          "name": "stdout",
          "output_type": "stream",
          "text": [
            "0.048604017462242737 0.9439321283659167 0.9061073999307667 0.9555375909458367 0.8259958071278826 0.8259958071278826 0.8530981468626935 0.9578775340252815 0.8860569715142428\n",
            "Epoch: 244 / 500, ############## the best accuracy in val  94.6330 at Epoch: 187  ##############\n",
            "Performance in Val: Loss: (0.0486); Accuracy (94.39)\n"
          ]
        },
        {
          "name": "stderr",
          "output_type": "stream",
          "text": [
            "Epoch 245: 100%|██████████| 1496/1496 [00:22<00:00, 67.32batch/s, train_loss=tensor(0.0097, device='cuda:0', grad_fn=<MseLossBackward0>)]\n"
          ]
        },
        {
          "name": "stdout",
          "output_type": "stream",
          "text": [
            "0.048529320819811386 0.9457764662486168 0.9096014600286004 0.9558941459502807 0.83298392732355 0.83298392732355 0.858006752601522 0.9591566174136392 0.890216579536968\n",
            "Epoch: 245 / 500, ############## the best accuracy in val  94.6330 at Epoch: 187  ##############\n",
            "Performance in Val: Loss: (0.0485); Accuracy (94.58)\n"
          ]
        },
        {
          "name": "stderr",
          "output_type": "stream",
          "text": [
            "Epoch 246: 100%|██████████| 1496/1496 [00:21<00:00, 68.60batch/s, train_loss=tensor(0.0093, device='cuda:0', grad_fn=<MseLossBackward0>)]\n"
          ]
        },
        {
          "name": "stdout",
          "output_type": "stream",
          "text": [
            "0.04850029860707847 0.9437476945776466 0.9071027386742463 0.9511217948717948 0.8294898672257163 0.8294898672257163 0.8525329737898545 0.9604794750452669 0.8861515490854798\n",
            "Epoch: 246 / 500, ############## the best accuracy in val  94.6330 at Epoch: 187  ##############\n",
            "Performance in Val: Loss: (0.0485); Accuracy (94.37)\n"
          ]
        },
        {
          "name": "stderr",
          "output_type": "stream",
          "text": [
            "Epoch 247: 100%|██████████| 1496/1496 [00:21<00:00, 68.52batch/s, train_loss=tensor(0.0066, device='cuda:0', grad_fn=<MseLossBackward0>)]\n"
          ]
        },
        {
          "name": "stdout",
          "output_type": "stream",
          "text": [
            "0.04828977313908664 0.9454075986720767 0.9086785238834898 0.9565567176186646 0.8308874912648497 0.8308874912648497 0.8570393107111617 0.9608501553372797 0.8893044128646224\n",
            "Epoch: 247 / 500, ############## the best accuracy in val  94.6330 at Epoch: 187  ##############\n",
            "Performance in Val: Loss: (0.0483); Accuracy (94.54)\n"
          ]
        },
        {
          "name": "stderr",
          "output_type": "stream",
          "text": [
            "Epoch 248: 100%|██████████| 1496/1496 [00:21<00:00, 68.55batch/s, train_loss=tensor(0.0091, device='cuda:0', grad_fn=<MseLossBackward0>)]\n"
          ]
        },
        {
          "name": "stdout",
          "output_type": "stream",
          "text": [
            "0.048844699409197674 0.9446698635189967 0.9068326515932686 0.9578947368421052 0.8266946191474493 0.8266946191474493 0.8551090808684302 0.9584704123761343 0.8874718679669917\n",
            "Epoch: 248 / 500, ############## the best accuracy in val  94.6330 at Epoch: 187  ##############\n",
            "Performance in Val: Loss: (0.0488); Accuracy (94.47)\n"
          ]
        },
        {
          "name": "stderr",
          "output_type": "stream",
          "text": [
            "Epoch 249: 100%|██████████| 1496/1496 [00:22<00:00, 67.69batch/s, train_loss=tensor(0.0074, device='cuda:0', grad_fn=<MseLossBackward0>)]\n"
          ]
        },
        {
          "name": "stdout",
          "output_type": "stream",
          "text": [
            "0.04819826138290492 0.9446698635189967 0.9072808998443562 0.9564164648910412 0.8280922431865828 0.8280922431865828 0.8550768221072772 0.9589282909607413 0.8876404494382023\n",
            "Epoch: 249 / 500, ############## the best accuracy in val  94.6330 at Epoch: 187  ##############\n",
            "Performance in Val: Loss: (0.0482); Accuracy (94.47)\n"
          ]
        },
        {
          "name": "stderr",
          "output_type": "stream",
          "text": [
            "Epoch 250: 100%|██████████| 1496/1496 [00:21<00:00, 68.07batch/s, train_loss=tensor(0.0073, device='cuda:0', grad_fn=<MseLossBackward0>)]\n"
          ]
        },
        {
          "name": "stdout",
          "output_type": "stream",
          "text": [
            "0.048937739465724335 0.9426410918480266 0.9045580543644585 0.9523424878836834 0.8238993710691824 0.8238993710691824 0.8496016910260868 0.9580591095863666 0.8834769576620456\n",
            "Epoch: 250 / 500, ############## the best accuracy in val  94.6330 at Epoch: 187  ##############\n",
            "Performance in Val: Loss: (0.0489); Accuracy (94.26)\n"
          ]
        },
        {
          "name": "stderr",
          "output_type": "stream",
          "text": [
            "Epoch 251: 100%|██████████| 1496/1496 [00:21<00:00, 68.33batch/s, train_loss=tensor(0.0083, device='cuda:0', grad_fn=<MseLossBackward0>)]\n"
          ]
        },
        {
          "name": "stdout",
          "output_type": "stream",
          "text": [
            "0.04914017461917617 0.9431943932128366 0.9058303965193524 0.9517296862429606 0.8266946191474493 0.8266946191474493 0.8510665057548781 0.9560495216263147 0.8848167539267016\n",
            "Epoch: 251 / 500, ############## the best accuracy in val  94.6330 at Epoch: 187  ##############\n",
            "Performance in Val: Loss: (0.0491); Accuracy (94.32)\n"
          ]
        },
        {
          "name": "stderr",
          "output_type": "stream",
          "text": [
            "Epoch 252: 100%|██████████| 1496/1496 [00:21<00:00, 68.58batch/s, train_loss=tensor(0.0075, device='cuda:0', grad_fn=<MseLossBackward0>)]\n"
          ]
        },
        {
          "name": "stdout",
          "output_type": "stream",
          "text": [
            "0.04878749258138917 0.9444854297307267 0.9080521144622921 0.9527243589743589 0.8308874912648497 0.8308874912648497 0.8545211062363778 0.9578563472915387 0.8876446435237029\n",
            "Epoch: 252 / 500, ############## the best accuracy in val  94.6330 at Epoch: 187  ##############\n",
            "Performance in Val: Loss: (0.0488); Accuracy (94.45)\n"
          ]
        },
        {
          "name": "stderr",
          "output_type": "stream",
          "text": [
            "Epoch 253: 100%|██████████| 1496/1496 [00:22<00:00, 67.98batch/s, train_loss=tensor(0.0084, device='cuda:0', grad_fn=<MseLossBackward0>)]\n"
          ]
        },
        {
          "name": "stdout",
          "output_type": "stream",
          "text": [
            "0.04860919942571358 0.9437476945776466 0.9057579939209833 0.9555016181229773 0.8252969951083159 0.8252969951083159 0.8526070389346538 0.958970664428227 0.885639295088114\n",
            "Epoch: 253 / 500, ############## the best accuracy in val  94.6330 at Epoch: 187  ##############\n",
            "Performance in Val: Loss: (0.0486); Accuracy (94.37)\n"
          ]
        },
        {
          "name": "stderr",
          "output_type": "stream",
          "text": [
            "Epoch 254: 100%|██████████| 1496/1496 [00:21<00:00, 68.76batch/s, train_loss=tensor(0.0078, device='cuda:0', grad_fn=<MseLossBackward0>)]\n"
          ]
        },
        {
          "name": "stdout",
          "output_type": "stream",
          "text": [
            "0.04871248318390413 0.9431943932128366 0.9053821482682647 0.9531880548829701 0.8252969951083159 0.8252969951083159 0.851090437122673 0.9587011901866551 0.8846441947565542\n",
            "Epoch: 254 / 500, ############## the best accuracy in val  94.6330 at Epoch: 187  ##############\n",
            "Performance in Val: Loss: (0.0487); Accuracy (94.32)\n"
          ]
        },
        {
          "name": "stderr",
          "output_type": "stream",
          "text": [
            "Epoch 255: 100%|██████████| 1496/1496 [00:21<00:00, 68.27batch/s, train_loss=tensor(0.0091, device='cuda:0', grad_fn=<MseLossBackward0>)]\n"
          ]
        },
        {
          "name": "stdout",
          "output_type": "stream",
          "text": [
            "0.048226813870397484 0.9428255256362966 0.9049074603742417 0.9523809523809523 0.8245981830887491 0.8245981830887491 0.850093840876522 0.959039652635621 0.8838951310861423\n",
            "Epoch: 255 / 500, ############## the best accuracy in val  94.6330 at Epoch: 187  ##############\n",
            "Performance in Val: Loss: (0.0482); Accuracy (94.28)\n"
          ]
        },
        {
          "name": "stderr",
          "output_type": "stream",
          "text": [
            "Epoch 256: 100%|██████████| 1496/1496 [00:22<00:00, 67.95batch/s, train_loss=tensor(0.0082, device='cuda:0', grad_fn=<MseLossBackward0>)]\n"
          ]
        },
        {
          "name": "stdout",
          "output_type": "stream",
          "text": [
            "0.04859080326489427 0.9439321283659167 0.9072280205584857 0.9518845228548516 0.8294898672257163 0.8294898672257163 0.8530350244926743 0.9583385643554041 0.8864824495892457\n",
            "Epoch: 256 / 500, ############## the best accuracy in val  94.6330 at Epoch: 187  ##############\n",
            "Performance in Val: Loss: (0.0486); Accuracy (94.39)\n"
          ]
        },
        {
          "name": "stderr",
          "output_type": "stream",
          "text": [
            "Epoch 257: 100%|██████████| 1496/1496 [00:21<00:00, 68.33batch/s, train_loss=tensor(0.0049, device='cuda:0', grad_fn=<MseLossBackward0>)]\n"
          ]
        },
        {
          "name": "stdout",
          "output_type": "stream",
          "text": [
            "0.04840710615231232 0.9446698635189967 0.9079532722209878 0.9542168674698795 0.8301886792452831 0.8301886792452831 0.8550355740435143 0.9578686040796544 0.8878923766816144\n",
            "Epoch: 257 / 500, ############## the best accuracy in val  94.6330 at Epoch: 187  ##############\n",
            "Performance in Val: Loss: (0.0484); Accuracy (94.47)\n"
          ]
        },
        {
          "name": "stderr",
          "output_type": "stream",
          "text": [
            "Epoch 258: 100%|██████████| 1496/1496 [00:21<00:00, 68.07batch/s, train_loss=tensor(0.0125, device='cuda:0', grad_fn=<MseLossBackward0>)]\n"
          ]
        },
        {
          "name": "stdout",
          "output_type": "stream",
          "text": [
            "0.04881463640115478 0.9439321283659167 0.9072280205584857 0.9518845228548516 0.8294898672257163 0.8294898672257163 0.8530350244926743 0.9576460558268682 0.8864824495892457\n",
            "Epoch: 258 / 500, ############## the best accuracy in val  94.6330 at Epoch: 187  ##############\n",
            "Performance in Val: Loss: (0.0488); Accuracy (94.39)\n"
          ]
        },
        {
          "name": "stderr",
          "output_type": "stream",
          "text": [
            "Epoch 259: 100%|██████████| 1496/1496 [00:21<00:00, 68.94batch/s, train_loss=tensor(0.0067, device='cuda:0', grad_fn=<MseLossBackward0>)]\n"
          ]
        },
        {
          "name": "stdout",
          "output_type": "stream",
          "text": [
            "0.04825765106149695 0.9443009959424566 0.9077027084525087 0.9526864474739375 0.8301886792452831 0.8301886792452831 0.8540293701144438 0.9590172402230666 0.8872292755787902\n",
            "Epoch: 259 / 500, ############## the best accuracy in val  94.6330 at Epoch: 187  ##############\n",
            "Performance in Val: Loss: (0.0483); Accuracy (94.43)\n"
          ]
        },
        {
          "name": "stderr",
          "output_type": "stream",
          "text": [
            "Epoch 260: 100%|██████████| 1496/1496 [00:22<00:00, 67.95batch/s, train_loss=tensor(0.0052, device='cuda:0', grad_fn=<MseLossBackward0>)]\n"
          ]
        },
        {
          "name": "stdout",
          "output_type": "stream",
          "text": [
            "0.04817230999469757 0.9446698635189967 0.9079532722209878 0.9542168674698795 0.8301886792452831 0.8301886792452831 0.8550355740435143 0.9596521418474587 0.8878923766816144\n",
            "Epoch: 260 / 500, ############## the best accuracy in val  94.6330 at Epoch: 187  ##############\n",
            "Performance in Val: Loss: (0.0482); Accuracy (94.47)\n"
          ]
        },
        {
          "name": "stderr",
          "output_type": "stream",
          "text": [
            "Epoch 261: 100%|██████████| 1496/1496 [00:21<00:00, 69.13batch/s, train_loss=tensor(0.0112, device='cuda:0', grad_fn=<MseLossBackward0>)]\n"
          ]
        },
        {
          "name": "stdout",
          "output_type": "stream",
          "text": [
            "0.048087640326808796 0.9446698635189967 0.9079532722209878 0.9542168674698795 0.8301886792452831 0.8301886792452831 0.8550355740435143 0.9605841830351696 0.8878923766816144\n",
            "Epoch: 261 / 500, ############## the best accuracy in val  94.6330 at Epoch: 187  ##############\n",
            "Performance in Val: Loss: (0.0481); Accuracy (94.47)\n"
          ]
        },
        {
          "name": "stderr",
          "output_type": "stream",
          "text": [
            "Epoch 262: 100%|██████████| 1496/1496 [00:21<00:00, 68.67batch/s, train_loss=tensor(0.0058, device='cuda:0', grad_fn=<MseLossBackward0>)]\n"
          ]
        },
        {
          "name": "stdout",
          "output_type": "stream",
          "text": [
            "0.04871641285717487 0.9437476945776466 0.9068786145487024 0.9518459069020867 0.8287910552061496 0.8287910552061496 0.8525429635504629 0.9588074740493154 0.886066492342174\n",
            "Epoch: 262 / 500, ############## the best accuracy in val  94.6330 at Epoch: 187  ##############\n",
            "Performance in Val: Loss: (0.0487); Accuracy (94.37)\n"
          ]
        },
        {
          "name": "stderr",
          "output_type": "stream",
          "text": [
            "Epoch 263: 100%|██████████| 1496/1496 [00:21<00:00, 68.72batch/s, train_loss=tensor(0.0056, device='cuda:0', grad_fn=<MseLossBackward0>)]\n"
          ]
        },
        {
          "name": "stdout",
          "output_type": "stream",
          "text": [
            "0.04935385744002732 0.9437476945776466 0.9064303662976148 0.9533011272141707 0.827393431167016 0.827393431167016 0.8525657587528451 0.9572948112988676 0.8858959970071081\n",
            "Epoch: 263 / 500, ############## the best accuracy in val  94.6330 at Epoch: 187  ##############\n",
            "Performance in Val: Loss: (0.0494); Accuracy (94.37)\n"
          ]
        },
        {
          "name": "stderr",
          "output_type": "stream",
          "text": [
            "Epoch 264: 100%|██████████| 1496/1496 [00:21<00:00, 68.33batch/s, train_loss=tensor(0.0065, device='cuda:0', grad_fn=<MseLossBackward0>)]\n"
          ]
        },
        {
          "name": "stdout",
          "output_type": "stream",
          "text": [
            "0.04912025786258958 0.9437476945776466 0.9068786145487024 0.9518459069020867 0.8287910552061496 0.8287910552061496 0.8525429635504629 0.956900843109435 0.886066492342174\n",
            "Epoch: 264 / 500, ############## the best accuracy in val  94.6330 at Epoch: 187  ##############\n",
            "Performance in Val: Loss: (0.0491); Accuracy (94.37)\n"
          ]
        },
        {
          "name": "stderr",
          "output_type": "stream",
          "text": [
            "Epoch 265: 100%|██████████| 1496/1496 [00:21<00:00, 68.05batch/s, train_loss=tensor(0.0066, device='cuda:0', grad_fn=<MseLossBackward0>)]\n"
          ]
        },
        {
          "name": "stdout",
          "output_type": "stream",
          "text": [
            "0.04870277524671771 0.9443009959424566 0.9079268325780525 0.9519615692554043 0.8308874912648497 0.8308874912648497 0.8540190103550355 0.9587439138480869 0.8873134328358209\n",
            "Epoch: 265 / 500, ############## the best accuracy in val  94.6330 at Epoch: 187  ##############\n",
            "Performance in Val: Loss: (0.0487); Accuracy (94.43)\n"
          ]
        },
        {
          "name": "stderr",
          "output_type": "stream",
          "text": [
            "Epoch 266: 100%|██████████| 1496/1496 [00:22<00:00, 67.95batch/s, train_loss=tensor(0.0072, device='cuda:0', grad_fn=<MseLossBackward0>)]\n"
          ]
        },
        {
          "name": "stdout",
          "output_type": "stream",
          "text": [
            "0.04864920023828745 0.9450387310955367 0.9075314636128353 0.957962813257882 0.8280922431865828 0.8280922431865828 0.8560896365237891 0.9580825725807596 0.8883058470764618\n",
            "Epoch: 266 / 500, ############## the best accuracy in val  94.6330 at Epoch: 187  ##############\n",
            "Performance in Val: Loss: (0.0486); Accuracy (94.50)\n"
          ]
        },
        {
          "name": "stderr",
          "output_type": "stream",
          "text": [
            "Epoch 267: 100%|██████████| 1496/1496 [00:21<00:00, 68.24batch/s, train_loss=tensor(0.0095, device='cuda:0', grad_fn=<MseLossBackward0>)]\n"
          ]
        },
        {
          "name": "stdout",
          "output_type": "stream",
          "text": [
            "0.04860490746796131 0.9452231648838068 0.9085532419992502 0.9557877813504824 0.8308874912648497 0.8308874912648497 0.8565346363348094 0.9580328450404045 0.8889719626168224\n",
            "Epoch: 267 / 500, ############## the best accuracy in val  94.6330 at Epoch: 187  ##############\n",
            "Performance in Val: Loss: (0.0486); Accuracy (94.52)\n"
          ]
        },
        {
          "name": "stderr",
          "output_type": "stream",
          "text": [
            "Epoch 268: 100%|██████████| 1496/1496 [00:22<00:00, 67.92batch/s, train_loss=tensor(0.0085, device='cuda:0', grad_fn=<MseLossBackward0>)]\n"
          ]
        },
        {
          "name": "stdout",
          "output_type": "stream",
          "text": [
            "0.048911905847489834 0.9441165621541866 0.9071291783171815 0.9533762057877814 0.8287910552061496 0.8287910552061496 0.853549077189398 0.9600809543345344 0.8867289719626168\n",
            "Epoch: 268 / 500, ############## the best accuracy in val  94.6330 at Epoch: 187  ##############\n",
            "Performance in Val: Loss: (0.0489); Accuracy (94.41)\n"
          ]
        },
        {
          "name": "stderr",
          "output_type": "stream",
          "text": [
            "Epoch 269: 100%|██████████| 1496/1496 [00:22<00:00, 67.40batch/s, train_loss=tensor(0.0068, device='cuda:0', grad_fn=<MseLossBackward0>)]\n"
          ]
        },
        {
          "name": "stdout",
          "output_type": "stream",
          "text": [
            "0.048920400102030144 0.9461453338251568 0.9096278996715356 0.9581657280772325 0.8322851153039832 0.8322851153039832 0.8590302456965895 0.9578672033038698 0.8908002991772626\n",
            "Epoch: 269 / 500, ############## the best accuracy in val  94.6330 at Epoch: 187  ##############\n",
            "Performance in Val: Loss: (0.0489); Accuracy (94.61)\n"
          ]
        },
        {
          "name": "stderr",
          "output_type": "stream",
          "text": [
            "Epoch 270: 100%|██████████| 1496/1496 [00:21<00:00, 68.18batch/s, train_loss=tensor(0.0100, device='cuda:0', grad_fn=<MseLossBackward0>)]\n"
          ]
        },
        {
          "name": "stdout",
          "output_type": "stream",
          "text": [
            "0.049000992863015694 0.9446698635189967 0.9072808998443562 0.9564164648910412 0.8280922431865828 0.8280922431865828 0.8550768221072772 0.9578759581525237 0.8876404494382023\n",
            "Epoch: 270 / 500, ############## the best accuracy in val  94.6330 at Epoch: 187  ##############\n",
            "Performance in Val: Loss: (0.0490); Accuracy (94.47)\n"
          ]
        },
        {
          "name": "stderr",
          "output_type": "stream",
          "text": [
            "Epoch 271: 100%|██████████| 1496/1496 [00:22<00:00, 67.86batch/s, train_loss=tensor(0.0073, device='cuda:0', grad_fn=<MseLossBackward0>)]\n"
          ]
        },
        {
          "name": "stdout",
          "output_type": "stream",
          "text": [
            "0.04862443222240968 0.9433788270011066 0.9059556784035918 0.9524959742351047 0.8266946191474493 0.8266946191474493 0.8515700097190683 0.9584663851457533 0.885147774036663\n",
            "Epoch: 271 / 500, ############## the best accuracy in val  94.6330 at Epoch: 187  ##############\n",
            "Performance in Val: Loss: (0.0486); Accuracy (94.34)\n"
          ]
        },
        {
          "name": "stderr",
          "output_type": "stream",
          "text": [
            "Epoch 272: 100%|██████████| 1496/1496 [00:21<00:00, 68.55batch/s, train_loss=tensor(0.0101, device='cuda:0', grad_fn=<MseLossBackward0>)]\n"
          ]
        },
        {
          "name": "stdout",
          "output_type": "stream",
          "text": [
            "0.048869879746978935 0.9430099594245666 0.9054809905095689 0.9516908212560387 0.8259958071278826 0.8259958071278826 0.8505742606852914 0.9582380586928556 0.8843995510662177\n",
            "Epoch: 272 / 500, ############## the best accuracy in val  94.6330 at Epoch: 187  ##############\n",
            "Performance in Val: Loss: (0.0489); Accuracy (94.30)\n"
          ]
        },
        {
          "name": "stderr",
          "output_type": "stream",
          "text": [
            "Epoch 273: 100%|██████████| 1496/1496 [00:21<00:00, 68.98batch/s, train_loss=tensor(0.0073, device='cuda:0', grad_fn=<MseLossBackward0>)]\n"
          ]
        },
        {
          "name": "stdout",
          "output_type": "stream",
          "text": [
            "0.048610193824226204 0.9448542973072667 0.9078544299796836 0.9557165861513688 0.8294898672257163 0.8294898672257163 0.8555530058541758 0.959160994837966 0.8881406659184437\n",
            "Epoch: 273 / 500, ############## the best accuracy in val  94.6330 at Epoch: 187  ##############\n",
            "Performance in Val: Loss: (0.0486); Accuracy (94.49)\n"
          ]
        },
        {
          "name": "stderr",
          "output_type": "stream",
          "text": [
            "Epoch 274: 100%|██████████| 1496/1496 [00:21<00:00, 69.17batch/s, train_loss=tensor(0.0056, device='cuda:0', grad_fn=<MseLossBackward0>)]\n"
          ]
        },
        {
          "name": "stdout",
          "output_type": "stream",
          "text": [
            "0.04919405400075696 0.9444854297307267 0.9076038662112045 0.9541800643086816 0.8294898672257163 0.8294898672257163 0.8545442635712018 0.9565149293807642 0.8874766355140187\n",
            "Epoch: 274 / 500, ############## the best accuracy in val  94.6330 at Epoch: 187  ##############\n",
            "Performance in Val: Loss: (0.0492); Accuracy (94.45)\n"
          ]
        },
        {
          "name": "stderr",
          "output_type": "stream",
          "text": [
            "Epoch 275: 100%|██████████| 1496/1496 [00:21<00:00, 69.45batch/s, train_loss=tensor(0.0083, device='cuda:0', grad_fn=<MseLossBackward0>)]\n"
          ]
        },
        {
          "name": "stdout",
          "output_type": "stream",
          "text": [
            "0.048138164322484626 0.9446698635189967 0.9079532722209878 0.9542168674698795 0.8301886792452831 0.8301886792452831 0.8550355740435143 0.9578232539636264 0.8878923766816144\n",
            "Epoch: 275 / 500, ############## the best accuracy in val  94.6330 at Epoch: 187  ##############\n",
            "Performance in Val: Loss: (0.0481); Accuracy (94.47)\n"
          ]
        },
        {
          "name": "stderr",
          "output_type": "stream",
          "text": [
            "Epoch 276: 100%|██████████| 1496/1496 [00:22<00:00, 67.89batch/s, train_loss=tensor(0.0069, device='cuda:0', grad_fn=<MseLossBackward0>)]\n"
          ]
        },
        {
          "name": "stdout",
          "output_type": "stream",
          "text": [
            "0.048502905971624634 0.9446698635189967 0.9079532722209878 0.9542168674698795 0.8301886792452831 0.8301886792452831 0.8550355740435143 0.9574809393812529 0.8878923766816144\n",
            "Epoch: 276 / 500, ############## the best accuracy in val  94.6330 at Epoch: 187  ##############\n",
            "Performance in Val: Loss: (0.0485); Accuracy (94.47)\n"
          ]
        },
        {
          "name": "stderr",
          "output_type": "stream",
          "text": [
            "Epoch 277: 100%|██████████| 1496/1496 [00:21<00:00, 68.78batch/s, train_loss=tensor(0.0051, device='cuda:0', grad_fn=<MseLossBackward0>)]\n"
          ]
        },
        {
          "name": "stdout",
          "output_type": "stream",
          "text": [
            "0.048182370395145634 0.9444854297307267 0.9076038662112045 0.9541800643086816 0.8294898672257163 0.8294898672257163 0.8545442635712018 0.9587059178049284 0.8874766355140187\n",
            "Epoch: 277 / 500, ############## the best accuracy in val  94.6330 at Epoch: 187  ##############\n",
            "Performance in Val: Loss: (0.0482); Accuracy (94.45)\n"
          ]
        },
        {
          "name": "stderr",
          "output_type": "stream",
          "text": [
            "Epoch 278: 100%|██████████| 1496/1496 [00:21<00:00, 68.72batch/s, train_loss=tensor(0.0070, device='cuda:0', grad_fn=<MseLossBackward0>)]\n"
          ]
        },
        {
          "name": "stdout",
          "output_type": "stream",
          "text": [
            "0.048693503845821724 0.9437476945776466 0.9064303662976148 0.9533011272141707 0.827393431167016 0.827393431167016 0.8525657587528451 0.957798740387395 0.8858959970071081\n",
            "Epoch: 278 / 500, ############## the best accuracy in val  94.6330 at Epoch: 187  ##############\n",
            "Performance in Val: Loss: (0.0487); Accuracy (94.37)\n"
          ]
        },
        {
          "name": "stderr",
          "output_type": "stream",
          "text": [
            "Epoch 279: 100%|██████████| 1496/1496 [00:21<00:00, 69.60batch/s, train_loss=tensor(0.0077, device='cuda:0', grad_fn=<MseLossBackward0>)]\n"
          ]
        },
        {
          "name": "stdout",
          "output_type": "stream",
          "text": [
            "0.048303434286605225 0.9441165621541866 0.90645680594055 0.9555735056542811 0.8266946191474493 0.8266946191474493 0.8535892090905094 0.9593935236182178 0.8864743349569126\n",
            "Epoch: 279 / 500, ############## the best accuracy in val  94.6330 at Epoch: 187  ##############\n",
            "Performance in Val: Loss: (0.0483); Accuracy (94.41)\n"
          ]
        },
        {
          "name": "stderr",
          "output_type": "stream",
          "text": [
            "Epoch 280: 100%|██████████| 1496/1496 [00:21<00:00, 68.02batch/s, train_loss=tensor(0.0118, device='cuda:0', grad_fn=<MseLossBackward0>)]\n"
          ]
        },
        {
          "name": "stdout",
          "output_type": "stream",
          "text": [
            "0.0491329776969823 0.9435632607893766 0.9058568361622876 0.9539951573849879 0.8259958071278826 0.8259958071278826 0.8520870333688241 0.9562652410971506 0.8853932584269664\n",
            "Epoch: 280 / 500, ############## the best accuracy in val  94.6330 at Epoch: 187  ##############\n",
            "Performance in Val: Loss: (0.0491); Accuracy (94.36)\n"
          ]
        },
        {
          "name": "stderr",
          "output_type": "stream",
          "text": [
            "Epoch 281: 100%|██████████| 1496/1496 [00:21<00:00, 69.30batch/s, train_loss=tensor(0.0089, device='cuda:0', grad_fn=<MseLossBackward0>)]\n"
          ]
        },
        {
          "name": "stdout",
          "output_type": "stream",
          "text": [
            "0.049090909686955536 0.9426410918480266 0.9043339302389146 0.9530744336569579 0.8232005590496156 0.8232005590496156 0.8496146968553517 0.958649361482623 0.8833895763029621\n",
            "Epoch: 281 / 500, ############## the best accuracy in val  94.6330 at Epoch: 187  ##############\n",
            "Performance in Val: Loss: (0.0491); Accuracy (94.26)\n"
          ]
        },
        {
          "name": "stderr",
          "output_type": "stream",
          "text": [
            "Epoch 282: 100%|██████████| 1496/1496 [00:21<00:00, 68.81batch/s, train_loss=tensor(0.0061, device='cuda:0', grad_fn=<MseLossBackward0>)]\n"
          ]
        },
        {
          "name": "stdout",
          "output_type": "stream",
          "text": [
            "0.04852088659324429 0.9437476945776466 0.9068786145487024 0.9518459069020867 0.8287910552061496 0.8287910552061496 0.8525429635504629 0.9564065443544272 0.886066492342174\n",
            "Epoch: 282 / 500, ############## the best accuracy in val  94.6330 at Epoch: 187  ##############\n",
            "Performance in Val: Loss: (0.0485); Accuracy (94.37)\n"
          ]
        },
        {
          "name": "stderr",
          "output_type": "stream",
          "text": [
            "Epoch 283: 100%|██████████| 1496/1496 [00:21<00:00, 68.34batch/s, train_loss=tensor(0.0071, device='cuda:0', grad_fn=<MseLossBackward0>)]\n"
          ]
        },
        {
          "name": "stdout",
          "output_type": "stream",
          "text": [
            "0.04832411218773235 0.9437476945776466 0.9064303662976148 0.9533011272141707 0.827393431167016 0.827393431167016 0.8525657587528451 0.9590468316115172 0.8858959970071081\n",
            "Epoch: 283 / 500, ############## the best accuracy in val  94.6330 at Epoch: 187  ##############\n",
            "Performance in Val: Loss: (0.0483); Accuracy (94.37)\n"
          ]
        },
        {
          "name": "stderr",
          "output_type": "stream",
          "text": [
            "Epoch 284: 100%|██████████| 1496/1496 [00:21<00:00, 68.58batch/s, train_loss=tensor(0.0065, device='cuda:0', grad_fn=<MseLossBackward0>)]\n"
          ]
        },
        {
          "name": "stdout",
          "output_type": "stream",
          "text": [
            "0.04882800384339961 0.9444854297307267 0.9078279903367483 0.9534510433386838 0.8301886792452831 0.8301886792452831 0.8545322144447655 0.95748986932688 0.8875607022786701\n",
            "Epoch: 284 / 500, ############## the best accuracy in val  94.6330 at Epoch: 187  ##############\n",
            "Performance in Val: Loss: (0.0488); Accuracy (94.45)\n"
          ]
        },
        {
          "name": "stderr",
          "output_type": "stream",
          "text": [
            "Epoch 285: 100%|██████████| 1496/1496 [00:21<00:00, 69.11batch/s, train_loss=tensor(0.0085, device='cuda:0', grad_fn=<MseLossBackward0>)]\n"
          ]
        },
        {
          "name": "stdout",
          "output_type": "stream",
          "text": [
            "0.04866294037889351 0.9433788270011066 0.9064039266546795 0.9510433386837881 0.8280922431865828 0.8280922431865828 0.8515483381033115 0.9581344012847917 0.885319387373926\n",
            "Epoch: 285 / 500, ############## the best accuracy in val  94.6330 at Epoch: 187  ##############\n",
            "Performance in Val: Loss: (0.0487); Accuracy (94.34)\n"
          ]
        },
        {
          "name": "stderr",
          "output_type": "stream",
          "text": [
            "Epoch 286: 100%|██████████| 1496/1496 [00:21<00:00, 69.06batch/s, train_loss=tensor(0.0091, device='cuda:0', grad_fn=<MseLossBackward0>)]\n"
          ]
        },
        {
          "name": "stdout",
          "output_type": "stream",
          "text": [
            "0.04847464321011847 0.9450387310955367 0.909324456617186 0.9521149241819633 0.8336827393431167 0.8336827393431167 0.8559864447888458 0.9576956082702502 0.8889716840536512\n",
            "Epoch: 286 / 500, ############## the best accuracy in val  94.6330 at Epoch: 187  ##############\n",
            "Performance in Val: Loss: (0.0485); Accuracy (94.50)\n"
          ]
        },
        {
          "name": "stderr",
          "output_type": "stream",
          "text": [
            "Epoch 287: 100%|██████████| 1496/1496 [00:21<00:00, 69.06batch/s, train_loss=tensor(0.0076, device='cuda:0', grad_fn=<MseLossBackward0>)]\n"
          ]
        },
        {
          "name": "stdout",
          "output_type": "stream",
          "text": [
            "0.04850596020167524 0.9435632607893766 0.9058568361622876 0.9539951573849879 0.8259958071278826 0.8259958071278826 0.8520870333688241 0.9581147904238064 0.8853932584269664\n",
            "Epoch: 287 / 500, ############## the best accuracy in val  94.6330 at Epoch: 187  ##############\n",
            "Performance in Val: Loss: (0.0485); Accuracy (94.36)\n"
          ]
        },
        {
          "name": "stderr",
          "output_type": "stream",
          "text": [
            "Epoch 288: 100%|██████████| 1496/1496 [00:21<00:00, 69.11batch/s, train_loss=tensor(0.0067, device='cuda:0', grad_fn=<MseLossBackward0>)]\n"
          ]
        },
        {
          "name": "stdout",
          "output_type": "stream",
          "text": [
            "0.04899853679605506 0.9411656215418664 0.902435178662823 0.9498381877022654 0.8204053109713487 0.8204053109713487 0.8456249074162822 0.9576133126929022 0.880389951256093\n",
            "Epoch: 288 / 500, ############## the best accuracy in val  94.6330 at Epoch: 187  ##############\n",
            "Performance in Val: Loss: (0.0490); Accuracy (94.12)\n"
          ]
        },
        {
          "name": "stderr",
          "output_type": "stream",
          "text": [
            "Epoch 289: 100%|██████████| 1496/1496 [00:21<00:00, 68.96batch/s, train_loss=tensor(0.0062, device='cuda:0', grad_fn=<MseLossBackward0>)]\n"
          ]
        },
        {
          "name": "stdout",
          "output_type": "stream",
          "text": [
            "0.04894223749976267 0.9430099594245666 0.9057051146351127 0.9509646302250804 0.8266946191474493 0.8266946191474493 0.8505635180439866 0.9578883900376127 0.8844859813084113\n",
            "Epoch: 289 / 500, ############## the best accuracy in val  94.6330 at Epoch: 187  ##############\n",
            "Performance in Val: Loss: (0.0489); Accuracy (94.30)\n"
          ]
        },
        {
          "name": "stderr",
          "output_type": "stream",
          "text": [
            "Epoch 290: 100%|██████████| 1496/1496 [00:21<00:00, 68.66batch/s, train_loss=tensor(0.0059, device='cuda:0', grad_fn=<MseLossBackward0>)]\n"
          ]
        },
        {
          "name": "stdout",
          "output_type": "stream",
          "text": [
            "0.048902273940091785 0.9428255256362966 0.9058039568764171 0.9494787489975942 0.827393431167016 0.827393431167016 0.8500519876273657 0.9587561706362027 0.8842419716206122\n",
            "Epoch: 290 / 500, ############## the best accuracy in val  94.6330 at Epoch: 187  ##############\n",
            "Performance in Val: Loss: (0.0489); Accuracy (94.28)\n"
          ]
        },
        {
          "name": "stderr",
          "output_type": "stream",
          "text": [
            "Epoch 291: 100%|██████████| 1496/1496 [00:21<00:00, 69.07batch/s, train_loss=tensor(0.0088, device='cuda:0', grad_fn=<MseLossBackward0>)]\n"
          ]
        },
        {
          "name": "stdout",
          "output_type": "stream",
          "text": [
            "0.04886850926347754 0.9439321283659167 0.9065556481818543 0.9540692989524577 0.827393431167016 0.827393431167016 0.8530700619892723 0.9561048522698082 0.8862275449101797\n",
            "Epoch: 291 / 500, ############## the best accuracy in val  94.6330 at Epoch: 187  ##############\n",
            "Performance in Val: Loss: (0.0489); Accuracy (94.39)\n"
          ]
        },
        {
          "name": "stderr",
          "output_type": "stream",
          "text": [
            "Epoch 292: 100%|██████████| 1496/1496 [00:21<00:00, 69.17batch/s, train_loss=tensor(0.0070, device='cuda:0', grad_fn=<MseLossBackward0>)]\n"
          ]
        },
        {
          "name": "stdout",
          "output_type": "stream",
          "text": [
            "0.048198178156533024 0.9452231648838068 0.9092256143758817 0.9536 0.83298392732355 0.83298392732355 0.8564979531685198 0.9601385612386781 0.8892204401342783\n",
            "Epoch: 292 / 500, ############## the best accuracy in val  94.6330 at Epoch: 187  ##############\n",
            "Performance in Val: Loss: (0.0482); Accuracy (94.52)\n"
          ]
        },
        {
          "name": "stderr",
          "output_type": "stream",
          "text": [
            "Epoch 293: 100%|██████████| 1496/1496 [00:21<00:00, 68.10batch/s, train_loss=tensor(0.0071, device='cuda:0', grad_fn=<MseLossBackward0>)]\n"
          ]
        },
        {
          "name": "stdout",
          "output_type": "stream",
          "text": [
            "0.04855658088556745 0.9443009959424566 0.9077027084525087 0.9526864474739375 0.8301886792452831 0.8301886792452831 0.8540293701144438 0.957815899890757 0.8872292755787902\n",
            "Epoch: 293 / 500, ############## the best accuracy in val  94.6330 at Epoch: 187  ##############\n",
            "Performance in Val: Loss: (0.0486); Accuracy (94.43)\n"
          ]
        },
        {
          "name": "stderr",
          "output_type": "stream",
          "text": [
            "Epoch 294: 100%|██████████| 1496/1496 [00:21<00:00, 69.07batch/s, train_loss=tensor(0.0061, device='cuda:0', grad_fn=<MseLossBackward0>)]\n"
          ]
        },
        {
          "name": "stdout",
          "output_type": "stream",
          "text": [
            "0.048591140572997654 0.9443009959424566 0.9083750808291402 0.9505187549880287 0.8322851153039832 0.8322851153039832 0.8540010935779897 0.9578136236301069 0.8874813710879285\n",
            "Epoch: 294 / 500, ############## the best accuracy in val  94.6330 at Epoch: 187  ##############\n",
            "Performance in Val: Loss: (0.0486); Accuracy (94.43)\n"
          ]
        },
        {
          "name": "stderr",
          "output_type": "stream",
          "text": [
            "Epoch 295: 100%|██████████| 1496/1496 [00:21<00:00, 68.65batch/s, train_loss=tensor(0.0087, device='cuda:0', grad_fn=<MseLossBackward0>)]\n"
          ]
        },
        {
          "name": "stdout",
          "output_type": "stream",
          "text": [
            "0.0488120350478725 0.9444854297307267 0.9078279903367483 0.9534510433386838 0.8301886792452831 0.8301886792452831 0.8545322144447655 0.9581083118358025 0.8875607022786701\n",
            "Epoch: 295 / 500, ############## the best accuracy in val  94.6330 at Epoch: 187  ##############\n",
            "Performance in Val: Loss: (0.0488); Accuracy (94.45)\n"
          ]
        },
        {
          "name": "stderr",
          "output_type": "stream",
          "text": [
            "Epoch 296: 100%|██████████| 1496/1496 [00:21<00:00, 69.62batch/s, train_loss=tensor(0.0109, device='cuda:0', grad_fn=<MseLossBackward0>)]\n"
          ]
        },
        {
          "name": "stdout",
          "output_type": "stream",
          "text": [
            "0.04909996027973565 0.9444854297307267 0.9067073697090291 0.9571197411003236 0.8266946191474493 0.8266946191474493 0.8546019336541887 0.9575339937640964 0.8871391076115486\n",
            "Epoch: 296 / 500, ############## the best accuracy in val  94.6330 at Epoch: 187  ##############\n",
            "Performance in Val: Loss: (0.0491); Accuracy (94.45)\n"
          ]
        },
        {
          "name": "stderr",
          "output_type": "stream",
          "text": [
            "Epoch 297: 100%|██████████| 1496/1496 [00:21<00:00, 68.64batch/s, train_loss=tensor(0.0107, device='cuda:0', grad_fn=<MseLossBackward0>)]\n"
          ]
        },
        {
          "name": "stdout",
          "output_type": "stream",
          "text": [
            "0.04860724788159132 0.9448542973072667 0.9080785541052274 0.954983922829582 0.8301886792452831 0.8301886792452831 0.8555394499530056 0.9574758615690334 0.8882242990654207\n",
            "Epoch: 297 / 500, ############## the best accuracy in val  94.6330 at Epoch: 187  ##############\n",
            "Performance in Val: Loss: (0.0486); Accuracy (94.49)\n"
          ]
        },
        {
          "name": "stderr",
          "output_type": "stream",
          "text": [
            "Epoch 298: 100%|██████████| 1496/1496 [00:21<00:00, 69.37batch/s, train_loss=tensor(0.0050, device='cuda:0', grad_fn=<MseLossBackward0>)]\n"
          ]
        },
        {
          "name": "stdout",
          "output_type": "stream",
          "text": [
            "0.04878438712859696 0.9422722242714865 0.9049798629726108 0.9486356340288925 0.8259958071278826 0.8259958071278826 0.8485644617618575 0.957742534259036 0.8830780724691819\n",
            "Epoch: 298 / 500, ############## the best accuracy in val  94.6330 at Epoch: 187  ##############\n",
            "Performance in Val: Loss: (0.0488); Accuracy (94.23)\n"
          ]
        },
        {
          "name": "stderr",
          "output_type": "stream",
          "text": [
            "Epoch 299: 100%|██████████| 1496/1496 [00:21<00:00, 68.39batch/s, train_loss=tensor(0.0080, device='cuda:0', grad_fn=<MseLossBackward0>)]\n"
          ]
        },
        {
          "name": "stdout",
          "output_type": "stream",
          "text": [
            "0.048960036428814586 0.9443009959424566 0.9070303360758772 0.9548751007252216 0.8280922431865828 0.8280922431865828 0.8540660929950906 0.9575693633526586 0.8869760479041916\n",
            "Epoch: 299 / 500, ############## the best accuracy in val  94.6330 at Epoch: 187  ##############\n",
            "Performance in Val: Loss: (0.0490); Accuracy (94.43)\n"
          ]
        },
        {
          "name": "stderr",
          "output_type": "stream",
          "text": [
            "Epoch 300: 100%|██████████| 1496/1496 [00:21<00:00, 68.54batch/s, train_loss=tensor(0.0091, device='cuda:0', grad_fn=<MseLossBackward0>)]\n"
          ]
        },
        {
          "name": "stdout",
          "output_type": "stream",
          "text": [
            "0.04824005964804779 0.9455920324603467 0.9092520540188169 0.9558587479935795 0.8322851153039832 0.8322851153039832 0.8575160907862195 0.9566471275954406 0.8898020171834142\n",
            "Epoch: 300 / 500, ############## the best accuracy in val  94.6330 at Epoch: 187  ##############\n",
            "Performance in Val: Loss: (0.0482); Accuracy (94.56)\n"
          ]
        },
        {
          "name": "stderr",
          "output_type": "stream",
          "text": [
            "Epoch 301: 100%|██████████| 1496/1496 [00:21<00:00, 68.70batch/s, train_loss=tensor(0.0058, device='cuda:0', grad_fn=<MseLossBackward0>)]\n"
          ]
        },
        {
          "name": "stdout",
          "output_type": "stream",
          "text": [
            "0.04911223900589076 0.9431943932128366 0.9053821482682647 0.9531880548829701 0.8252969951083159 0.8252969951083159 0.851090437122673 0.9579256856928788 0.8846441947565542\n",
            "Epoch: 301 / 500, ############## the best accuracy in val  94.6330 at Epoch: 187  ##############\n",
            "Performance in Val: Loss: (0.0491); Accuracy (94.32)\n"
          ]
        },
        {
          "name": "stderr",
          "output_type": "stream",
          "text": [
            "Epoch 302: 100%|██████████| 1496/1496 [00:21<00:00, 68.85batch/s, train_loss=tensor(0.0065, device='cuda:0', grad_fn=<MseLossBackward0>)]\n"
          ]
        },
        {
          "name": "stdout",
          "output_type": "stream",
          "text": [
            "0.048980733887715774 0.9424566580597565 0.904208648354675 0.952303961196443 0.8232005590496156 0.8232005590496156 0.8491094939812328 0.9565849681699967 0.8830584707646176\n",
            "Epoch: 302 / 500, ############## the best accuracy in val  94.6330 at Epoch: 187  ##############\n",
            "Performance in Val: Loss: (0.0490); Accuracy (94.25)\n"
          ]
        },
        {
          "name": "stderr",
          "output_type": "stream",
          "text": [
            "Epoch 303: 100%|██████████| 1496/1496 [00:22<00:00, 66.82batch/s, train_loss=tensor(0.0068, device='cuda:0', grad_fn=<MseLossBackward0>)]\n"
          ]
        },
        {
          "name": "stdout",
          "output_type": "stream",
          "text": [
            "0.04897986208512024 0.9444854297307267 0.9069314938345729 0.9563812600969306 0.827393431167016 0.827393431167016 0.854586088606615 0.9574585269686984 0.8872236792806294\n",
            "Epoch: 303 / 500, ############## the best accuracy in val  94.6330 at Epoch: 187  ##############\n",
            "Performance in Val: Loss: (0.0490); Accuracy (94.45)\n"
          ]
        },
        {
          "name": "stderr",
          "output_type": "stream",
          "text": [
            "Epoch 304: 100%|██████████| 1496/1496 [00:22<00:00, 65.94batch/s, train_loss=tensor(0.0060, device='cuda:0', grad_fn=<MseLossBackward0>)]\n"
          ]
        },
        {
          "name": "stdout",
          "output_type": "stream",
          "text": [
            "0.04843639633194967 0.9437476945776466 0.9077751110508778 0.94896331738437 0.8315863032844165 0.8315863032844165 0.8525085978686774 0.9589153337847334 0.8864059590316574\n",
            "Epoch: 304 / 500, ############## the best accuracy in val  94.6330 at Epoch: 187  ##############\n",
            "Performance in Val: Loss: (0.0484); Accuracy (94.37)\n"
          ]
        },
        {
          "name": "stderr",
          "output_type": "stream",
          "text": [
            "Epoch 305: 100%|██████████| 1496/1496 [00:23<00:00, 64.80batch/s, train_loss=tensor(0.0075, device='cuda:0', grad_fn=<MseLossBackward0>)]\n"
          ]
        },
        {
          "name": "stdout",
          "output_type": "stream",
          "text": [
            "0.049243410625918346 0.9415344891184065 0.9035822389334773 0.9484702093397746 0.8232005590496156 0.8232005590496156 0.846591264550184 0.9561316421066897 0.881406659184437\n",
            "Epoch: 305 / 500, ############## the best accuracy in val  94.6330 at Epoch: 187  ##############\n",
            "Performance in Val: Loss: (0.0492); Accuracy (94.15)\n"
          ]
        },
        {
          "name": "stderr",
          "output_type": "stream",
          "text": [
            "Epoch 306: 100%|██████████| 1496/1496 [00:22<00:00, 66.10batch/s, train_loss=tensor(0.0058, device='cuda:0', grad_fn=<MseLossBackward0>)]\n"
          ]
        },
        {
          "name": "stdout",
          "output_type": "stream",
          "text": [
            "0.04825531437315724 0.9433788270011066 0.9055074301525042 0.9539579967689822 0.8252969951083159 0.8252969951083159 0.8515954500582982 0.9590713451877486 0.8849756463094793\n",
            "Epoch: 306 / 500, ############## the best accuracy in val  94.6330 at Epoch: 187  ##############\n",
            "Performance in Val: Loss: (0.0483); Accuracy (94.34)\n"
          ]
        },
        {
          "name": "stderr",
          "output_type": "stream",
          "text": [
            "Epoch 307: 100%|██████████| 1496/1496 [00:22<00:00, 65.21batch/s, train_loss=tensor(0.0081, device='cuda:0', grad_fn=<MseLossBackward0>)]\n"
          ]
        },
        {
          "name": "stdout",
          "output_type": "stream",
          "text": [
            "0.048451567915352906 0.9430099594245666 0.9061533628862004 0.9495192307692307 0.8280922431865828 0.8280922431865828 0.8505448413433311 0.958545003686667 0.8846584546472563\n",
            "Epoch: 307 / 500, ############## the best accuracy in val  94.6330 at Epoch: 187  ##############\n",
            "Performance in Val: Loss: (0.0485); Accuracy (94.30)\n"
          ]
        },
        {
          "name": "stderr",
          "output_type": "stream",
          "text": [
            "Epoch 308: 100%|██████████| 1496/1496 [00:22<00:00, 66.44batch/s, train_loss=tensor(0.0101, device='cuda:0', grad_fn=<MseLossBackward0>)]\n"
          ]
        },
        {
          "name": "stdout",
          "output_type": "stream",
          "text": [
            "0.04868508629839529 0.9424566580597565 0.9060016413590257 0.9465283320031923 0.8287910552061496 0.8287910552061496 0.8490377155508495 0.9573468150998727 0.8837555886736215\n",
            "Epoch: 308 / 500, ############## the best accuracy in val  94.6330 at Epoch: 187  ##############\n",
            "Performance in Val: Loss: (0.0487); Accuracy (94.25)\n"
          ]
        },
        {
          "name": "stderr",
          "output_type": "stream",
          "text": [
            "Epoch 309: 100%|██████████| 1496/1496 [00:23<00:00, 64.58batch/s, train_loss=tensor(0.0123, device='cuda:0', grad_fn=<MseLossBackward0>)]\n"
          ]
        },
        {
          "name": "stdout",
          "output_type": "stream",
          "text": [
            "0.04814394571903077 0.9444854297307267 0.9087244868389236 0.9505582137161085 0.83298392732355 0.83298392732355 0.8544933953709861 0.9586005094271335 0.8878957169459963\n",
            "Epoch: 309 / 500, ############## the best accuracy in val  94.6330 at Epoch: 187  ##############\n",
            "Performance in Val: Loss: (0.0481); Accuracy (94.45)\n"
          ]
        },
        {
          "name": "stderr",
          "output_type": "stream",
          "text": [
            "Epoch 310: 100%|██████████| 1496/1496 [00:22<00:00, 66.22batch/s, train_loss=tensor(0.0052, device='cuda:0', grad_fn=<MseLossBackward0>)]\n"
          ]
        },
        {
          "name": "stdout",
          "output_type": "stream",
          "text": [
            "0.04886194902726195 0.9431943932128366 0.9067268930215276 0.9488409272581935 0.8294898672257163 0.8294898672257163 0.8510298941509324 0.9574937214602878 0.8851603281133482\n",
            "Epoch: 310 / 500, ############## the best accuracy in val  94.6330 at Epoch: 187  ##############\n",
            "Performance in Val: Loss: (0.0489); Accuracy (94.32)\n"
          ]
        },
        {
          "name": "stderr",
          "output_type": "stream",
          "text": [
            "Epoch 311: 100%|██████████| 1496/1496 [00:22<00:00, 65.81batch/s, train_loss=tensor(0.0061, device='cuda:0', grad_fn=<MseLossBackward0>)]\n"
          ]
        },
        {
          "name": "stdout",
          "output_type": "stream",
          "text": [
            "0.04867809062654322 0.9437476945776466 0.9066544904231586 0.952572347266881 0.8280922431865828 0.8280922431865828 0.8525538908075943 0.957580744655909 0.885981308411215\n",
            "Epoch: 311 / 500, ############## the best accuracy in val  94.6330 at Epoch: 187  ##############\n",
            "Performance in Val: Loss: (0.0487); Accuracy (94.37)\n"
          ]
        },
        {
          "name": "stderr",
          "output_type": "stream",
          "text": [
            "Epoch 312: 100%|██████████| 1496/1496 [00:22<00:00, 65.33batch/s, train_loss=tensor(0.0086, device='cuda:0', grad_fn=<MseLossBackward0>)]\n"
          ]
        },
        {
          "name": "stdout",
          "output_type": "stream",
          "text": [
            "0.04863184893673116 0.9435632607893766 0.9069774567900067 0.9503602882305845 0.8294898672257163 0.8294898672257163 0.8520314358534078 0.9574986241755341 0.885820895522388\n",
            "Epoch: 312 / 500, ############## the best accuracy in val  94.6330 at Epoch: 187  ##############\n",
            "Performance in Val: Loss: (0.0486); Accuracy (94.36)\n"
          ]
        },
        {
          "name": "stderr",
          "output_type": "stream",
          "text": [
            "Epoch 313: 100%|██████████| 1496/1496 [00:22<00:00, 65.26batch/s, train_loss=tensor(0.0115, device='cuda:0', grad_fn=<MseLossBackward0>)]\n"
          ]
        },
        {
          "name": "stdout",
          "output_type": "stream",
          "text": [
            "0.048852340910922394 0.9435632607893766 0.906529208538919 0.9518072289156626 0.8280922431865828 0.8280922431865828 0.8520508569428447 0.956550999357219 0.8856502242152465\n",
            "Epoch: 313 / 500, ############## the best accuracy in val  94.6330 at Epoch: 187  ##############\n",
            "Performance in Val: Loss: (0.0489); Accuracy (94.36)\n"
          ]
        },
        {
          "name": "stderr",
          "output_type": "stream",
          "text": [
            "Epoch 314: 100%|██████████| 1496/1496 [00:22<00:00, 66.18batch/s, train_loss=tensor(0.0084, device='cuda:0', grad_fn=<MseLossBackward0>)]\n"
          ]
        },
        {
          "name": "stdout",
          "output_type": "stream",
          "text": [
            "0.04868670942431146 0.9452231648838068 0.9083291178737064 0.9565217391304348 0.8301886792452831 0.8301886792452831 0.8565487548879527 0.9571281189804944 0.888888888888889\n",
            "Epoch: 314 / 500, ############## the best accuracy in val  94.6330 at Epoch: 187  ##############\n",
            "Performance in Val: Loss: (0.0487); Accuracy (94.52)\n"
          ]
        },
        {
          "name": "stderr",
          "output_type": "stream",
          "text": [
            "Epoch 315: 100%|██████████| 1496/1496 [00:23<00:00, 63.91batch/s, train_loss=tensor(0.0067, device='cuda:0', grad_fn=<MseLossBackward0>)]\n"
          ]
        },
        {
          "name": "stdout",
          "output_type": "stream",
          "text": [
            "0.048327230933037674 0.9443009959424566 0.9077027084525087 0.9526864474739375 0.8301886792452831 0.8301886792452831 0.8540293701144438 0.9578978452741589 0.8872292755787902\n",
            "Epoch: 315 / 500, ############## the best accuracy in val  94.6330 at Epoch: 187  ##############\n",
            "Performance in Val: Loss: (0.0483); Accuracy (94.43)\n"
          ]
        },
        {
          "name": "stderr",
          "output_type": "stream",
          "text": [
            "Epoch 316: 100%|██████████| 1496/1496 [00:23<00:00, 64.80batch/s, train_loss=tensor(0.0062, device='cuda:0', grad_fn=<MseLossBackward0>)]\n"
          ]
        },
        {
          "name": "stdout",
          "output_type": "stream",
          "text": [
            "0.04845022266222672 0.9448542973072667 0.908526802356315 0.9535256410256411 0.8315863032844165 0.8315863032844165 0.8555151724596395 0.9577341296043281 0.8883911907428145\n",
            "Epoch: 316 / 500, ############## the best accuracy in val  94.6330 at Epoch: 187  ##############\n",
            "Performance in Val: Loss: (0.0485); Accuracy (94.49)\n"
          ]
        },
        {
          "name": "stderr",
          "output_type": "stream",
          "text": [
            "Epoch 317: 100%|██████████| 1496/1496 [00:23<00:00, 63.83batch/s, train_loss=tensor(0.0106, device='cuda:0', grad_fn=<MseLossBackward0>)]\n"
          ]
        },
        {
          "name": "stdout",
          "output_type": "stream",
          "text": [
            "0.04854937820610675 0.9441165621541866 0.9075774265682692 0.9519230769230769 0.8301886792452831 0.8301886792452831 0.8535270400131162 0.9586810540347508 0.8868980963045913\n",
            "Epoch: 317 / 500, ############## the best accuracy in val  94.6330 at Epoch: 187  ##############\n",
            "Performance in Val: Loss: (0.0485); Accuracy (94.41)\n"
          ]
        },
        {
          "name": "stderr",
          "output_type": "stream",
          "text": [
            "Epoch 318: 100%|██████████| 1496/1496 [00:22<00:00, 65.09batch/s, train_loss=tensor(0.0092, device='cuda:0', grad_fn=<MseLossBackward0>)]\n"
          ]
        },
        {
          "name": "stdout",
          "output_type": "stream",
          "text": [
            "0.0488589278168299 0.9431943932128366 0.9056062723938085 0.9524576954069299 0.8259958071278826 0.8259958071278826 0.8510779999776357 0.958776306788107 0.8847305389221557\n",
            "Epoch: 318 / 500, ############## the best accuracy in val  94.6330 at Epoch: 187  ##############\n",
            "Performance in Val: Loss: (0.0489); Accuracy (94.32)\n"
          ]
        },
        {
          "name": "stderr",
          "output_type": "stream",
          "text": [
            "Epoch 319: 100%|██████████| 1496/1496 [00:23<00:00, 64.09batch/s, train_loss=tensor(0.0049, device='cuda:0', grad_fn=<MseLossBackward0>)]\n"
          ]
        },
        {
          "name": "stdout",
          "output_type": "stream",
          "text": [
            "0.04849831091070717 0.9448542973072667 0.9080785541052274 0.954983922829582 0.8301886792452831 0.8301886792452831 0.8555394499530056 0.9591688742017547 0.8882242990654207\n",
            "Epoch: 319 / 500, ############## the best accuracy in val  94.6330 at Epoch: 187  ##############\n",
            "Performance in Val: Loss: (0.0485); Accuracy (94.49)\n"
          ]
        },
        {
          "name": "stderr",
          "output_type": "stream",
          "text": [
            "Epoch 320: 100%|██████████| 1496/1496 [00:23<00:00, 64.83batch/s, train_loss=tensor(0.0052, device='cuda:0', grad_fn=<MseLossBackward0>)]\n"
          ]
        },
        {
          "name": "stdout",
          "output_type": "stream",
          "text": [
            "0.0490027524700219 0.9435632607893766 0.9058568361622876 0.9539951573849879 0.8259958071278826 0.8259958071278826 0.8520870333688241 0.9572815914773999 0.8853932584269664\n",
            "Epoch: 320 / 500, ############## the best accuracy in val  94.6330 at Epoch: 187  ##############\n",
            "Performance in Val: Loss: (0.0490); Accuracy (94.36)\n"
          ]
        },
        {
          "name": "stderr",
          "output_type": "stream",
          "text": [
            "Epoch 321: 100%|██████████| 1496/1496 [00:23<00:00, 64.71batch/s, train_loss=tensor(0.0084, device='cuda:0', grad_fn=<MseLossBackward0>)]\n"
          ]
        },
        {
          "name": "stdout",
          "output_type": "stream",
          "text": [
            "0.04892019106244499 0.9428255256362966 0.9062522051275048 0.9480415667466027 0.8287910552061496 0.8287910552061496 0.8500366635700776 0.9573734298397809 0.8844146159582401\n",
            "Epoch: 321 / 500, ############## the best accuracy in val  94.6330 at Epoch: 187  ##############\n",
            "Performance in Val: Loss: (0.0489); Accuracy (94.28)\n"
          ]
        },
        {
          "name": "stderr",
          "output_type": "stream",
          "text": [
            "Epoch 322: 100%|██████████| 1496/1496 [00:22<00:00, 65.42batch/s, train_loss=tensor(0.0077, device='cuda:0', grad_fn=<MseLossBackward0>)]\n"
          ]
        },
        {
          "name": "stdout",
          "output_type": "stream",
          "text": [
            "0.048892556435682556 0.9437476945776466 0.9064303662976148 0.9533011272141707 0.827393431167016 0.827393431167016 0.8525657587528451 0.957822378478761 0.8858959970071081\n",
            "Epoch: 322 / 500, ############## the best accuracy in val  94.6330 at Epoch: 187  ##############\n",
            "Performance in Val: Loss: (0.0489); Accuracy (94.37)\n"
          ]
        },
        {
          "name": "stderr",
          "output_type": "stream",
          "text": [
            "Epoch 323: 100%|██████████| 1496/1496 [00:22<00:00, 65.50batch/s, train_loss=tensor(0.0059, device='cuda:0', grad_fn=<MseLossBackward0>)]\n"
          ]
        },
        {
          "name": "stdout",
          "output_type": "stream",
          "text": [
            "0.04846142139285803 0.9433788270011066 0.9064039266546795 0.9510433386837881 0.8280922431865828 0.8280922431865828 0.8515483381033115 0.9568973411699735 0.885319387373926\n",
            "Epoch: 323 / 500, ############## the best accuracy in val  94.6330 at Epoch: 187  ##############\n",
            "Performance in Val: Loss: (0.0485); Accuracy (94.34)\n"
          ]
        },
        {
          "name": "stderr",
          "output_type": "stream",
          "text": [
            "Epoch 324: 100%|██████████| 1496/1496 [00:22<00:00, 66.13batch/s, train_loss=tensor(0.0055, device='cuda:0', grad_fn=<MseLossBackward0>)]\n"
          ]
        },
        {
          "name": "stdout",
          "output_type": "stream",
          "text": [
            "0.04868237471038645 0.9437476945776466 0.9057579939209833 0.9555016181229773 0.8252969951083159 0.8252969951083159 0.8526070389346538 0.9563323032378407 0.885639295088114\n",
            "Epoch: 324 / 500, ############## the best accuracy in val  94.6330 at Epoch: 187  ##############\n",
            "Performance in Val: Loss: (0.0487); Accuracy (94.37)\n"
          ]
        },
        {
          "name": "stderr",
          "output_type": "stream",
          "text": [
            "Epoch 325: 100%|██████████| 1496/1496 [00:22<00:00, 65.53batch/s, train_loss=tensor(0.0137, device='cuda:0', grad_fn=<MseLossBackward0>)]\n"
          ]
        },
        {
          "name": "stdout",
          "output_type": "stream",
          "text": [
            "0.048942312682894146 0.9454075986720767 0.9091267721345775 0.9550922213311949 0.8322851153039832 0.8322851153039832 0.8570124069797525 0.9567052597905035 0.8894697535474234\n",
            "Epoch: 325 / 500, ############## the best accuracy in val  94.6330 at Epoch: 187  ##############\n",
            "Performance in Val: Loss: (0.0489); Accuracy (94.54)\n"
          ]
        },
        {
          "name": "stderr",
          "output_type": "stream",
          "text": [
            "Epoch 326: 100%|██████████| 1496/1496 [00:22<00:00, 65.60batch/s, train_loss=tensor(0.0073, device='cuda:0', grad_fn=<MseLossBackward0>)]\n"
          ]
        },
        {
          "name": "stdout",
          "output_type": "stream",
          "text": [
            "0.04840556388212876 0.9437476945776466 0.9068786145487024 0.9518459069020867 0.8287910552061496 0.8287910552061496 0.8525429635504629 0.957807320139076 0.886066492342174\n",
            "Epoch: 326 / 500, ############## the best accuracy in val  94.6330 at Epoch: 187  ##############\n",
            "Performance in Val: Loss: (0.0484); Accuracy (94.37)\n"
          ]
        },
        {
          "name": "stderr",
          "output_type": "stream",
          "text": [
            "Epoch 327: 100%|██████████| 1496/1496 [00:23<00:00, 64.62batch/s, train_loss=tensor(0.0072, device='cuda:0', grad_fn=<MseLossBackward0>)]\n"
          ]
        },
        {
          "name": "stdout",
          "output_type": "stream",
          "text": [
            "0.0485219680280848 0.9439321283659167 0.9076762688095734 0.950439648281375 0.8308874912648497 0.8308874912648497 0.853016355312642 0.9580650628834515 0.8866517524235645\n",
            "Epoch: 327 / 500, ############## the best accuracy in val  94.6330 at Epoch: 187  ##############\n",
            "Performance in Val: Loss: (0.0485); Accuracy (94.39)\n"
          ]
        },
        {
          "name": "stderr",
          "output_type": "stream",
          "text": [
            "Epoch 328: 100%|██████████| 1496/1496 [00:22<00:00, 66.41batch/s, train_loss=tensor(0.0094, device='cuda:0', grad_fn=<MseLossBackward0>)]\n"
          ]
        },
        {
          "name": "stdout",
          "output_type": "stream",
          "text": [
            "0.048280857503414154 0.9443009959424566 0.9072544602014211 0.9541432019308126 0.8287910552061496 0.8287910552061496 0.8540529082330198 0.9583072219972226 0.887060583395662\n",
            "Epoch: 328 / 500, ############## the best accuracy in val  94.6330 at Epoch: 187  ##############\n",
            "Performance in Val: Loss: (0.0483); Accuracy (94.43)\n"
          ]
        },
        {
          "name": "stderr",
          "output_type": "stream",
          "text": [
            "Epoch 329: 100%|██████████| 1496/1496 [00:23<00:00, 64.71batch/s, train_loss=tensor(0.0059, device='cuda:0', grad_fn=<MseLossBackward0>)]\n"
          ]
        },
        {
          "name": "stdout",
          "output_type": "stream",
          "text": [
            "0.048329799182035706 0.9457764662486168 0.910049708279688 0.9544364508393285 0.8343815513626834 0.8343815513626834 0.857982508216916 0.9602507983984228 0.8903803131991052\n",
            "Epoch: 329 / 500, ############## the best accuracy in val  94.6330 at Epoch: 187  ##############\n",
            "Performance in Val: Loss: (0.0483); Accuracy (94.58)\n"
          ]
        },
        {
          "name": "stderr",
          "output_type": "stream",
          "text": [
            "Epoch 330: 100%|██████████| 1496/1496 [00:22<00:00, 65.44batch/s, train_loss=tensor(0.0068, device='cuda:0', grad_fn=<MseLossBackward0>)]\n"
          ]
        },
        {
          "name": "stdout",
          "output_type": "stream",
          "text": [
            "0.04821366842158816 0.9448542973072667 0.9089750506074026 0.952076677316294 0.83298392732355 0.83298392732355 0.8554946527363035 0.9589995554287853 0.8885575847931421\n",
            "Epoch: 330 / 500, ############## the best accuracy in val  94.6330 at Epoch: 187  ##############\n",
            "Performance in Val: Loss: (0.0482); Accuracy (94.49)\n"
          ]
        },
        {
          "name": "stderr",
          "output_type": "stream",
          "text": [
            "Epoch 331: 100%|██████████| 1496/1496 [00:23<00:00, 64.33batch/s, train_loss=tensor(0.0090, device='cuda:0', grad_fn=<MseLossBackward0>)]\n"
          ]
        },
        {
          "name": "stdout",
          "output_type": "stream",
          "text": [
            "0.04898606808009473 0.9446698635189967 0.9068326515932686 0.9578947368421052 0.8266946191474493 0.8266946191474493 0.8551090808684302 0.9563715249598108 0.8874718679669917\n",
            "Epoch: 331 / 500, ############## the best accuracy in val  94.6330 at Epoch: 187  ##############\n",
            "Performance in Val: Loss: (0.0490); Accuracy (94.47)\n"
          ]
        },
        {
          "name": "stderr",
          "output_type": "stream",
          "text": [
            "Epoch 332: 100%|██████████| 1496/1496 [00:22<00:00, 65.33batch/s, train_loss=tensor(0.0044, device='cuda:0', grad_fn=<MseLossBackward0>)]\n"
          ]
        },
        {
          "name": "stdout",
          "output_type": "stream",
          "text": [
            "0.048314875245771625 0.9437476945776466 0.9064303662976148 0.9533011272141707 0.827393431167016 0.827393431167016 0.8525657587528451 0.9611084233725744 0.8858959970071081\n",
            "Epoch: 332 / 500, ############## the best accuracy in val  94.6330 at Epoch: 187  ##############\n",
            "Performance in Val: Loss: (0.0483); Accuracy (94.37)\n"
          ]
        },
        {
          "name": "stderr",
          "output_type": "stream",
          "text": [
            "Epoch 333: 100%|██████████| 1496/1496 [00:23<00:00, 64.54batch/s, train_loss=tensor(0.0057, device='cuda:0', grad_fn=<MseLossBackward0>)]\n"
          ]
        },
        {
          "name": "stdout",
          "output_type": "stream",
          "text": [
            "0.04830547125840729 0.9446698635189967 0.9081773963465316 0.9534883720930233 0.8308874912648497 0.8308874912648497 0.8550237157362134 0.9589735535282827 0.8879761015683346\n",
            "Epoch: 333 / 500, ############## the best accuracy in val  94.6330 at Epoch: 187  ##############\n",
            "Performance in Val: Loss: (0.0483); Accuracy (94.47)\n"
          ]
        },
        {
          "name": "stderr",
          "output_type": "stream",
          "text": [
            "Epoch 334: 100%|██████████| 1496/1496 [00:23<00:00, 64.64batch/s, train_loss=tensor(0.0049, device='cuda:0', grad_fn=<MseLossBackward0>)]\n"
          ]
        },
        {
          "name": "stdout",
          "output_type": "stream",
          "text": [
            "0.04821412849494002 0.9457764662486168 0.9102738324052319 0.9537110933758979 0.8350803633822502 0.8350803633822502 0.857971795999702 0.95896401074325 0.8904619970193741\n",
            "Epoch: 334 / 500, ############## the best accuracy in val  94.6330 at Epoch: 187  ##############\n",
            "Performance in Val: Loss: (0.0482); Accuracy (94.58)\n"
          ]
        },
        {
          "name": "stderr",
          "output_type": "stream",
          "text": [
            "Epoch 335: 100%|██████████| 1496/1496 [00:23<00:00, 65.02batch/s, train_loss=tensor(0.0058, device='cuda:0', grad_fn=<MseLossBackward0>)]\n"
          ]
        },
        {
          "name": "stdout",
          "output_type": "stream",
          "text": [
            "0.048522877168249 0.9450387310955367 0.9075314636128353 0.957962813257882 0.8280922431865828 0.8280922431865828 0.8560896365237891 0.9577353552831396 0.8883058470764618\n",
            "Epoch: 335 / 500, ############## the best accuracy in val  94.6330 at Epoch: 187  ##############\n",
            "Performance in Val: Loss: (0.0485); Accuracy (94.50)\n"
          ]
        },
        {
          "name": "stderr",
          "output_type": "stream",
          "text": [
            "Epoch 336: 100%|██████████| 1496/1496 [00:22<00:00, 66.36batch/s, train_loss=tensor(0.0061, device='cuda:0', grad_fn=<MseLossBackward0>)]\n"
          ]
        },
        {
          "name": "stdout",
          "output_type": "stream",
          "text": [
            "0.04846125341613184 0.9439321283659167 0.9063315240563106 0.9548022598870056 0.8266946191474493 0.8266946191474493 0.8530836296149751 0.9580335454282968 0.8861423220973783\n",
            "Epoch: 336 / 500, ############## the best accuracy in val  94.6330 at Epoch: 187  ##############\n",
            "Performance in Val: Loss: (0.0485); Accuracy (94.39)\n"
          ]
        },
        {
          "name": "stderr",
          "output_type": "stream",
          "text": [
            "Epoch 337: 100%|██████████| 1496/1496 [00:22<00:00, 67.88batch/s, train_loss=tensor(0.0050, device='cuda:0', grad_fn=<MseLossBackward0>)]\n"
          ]
        },
        {
          "name": "stdout",
          "output_type": "stream",
          "text": [
            "0.04883969405835325 0.9443009959424566 0.9072544602014211 0.9541432019308126 0.8287910552061496 0.8287910552061496 0.8540529082330198 0.95665448166831 0.887060583395662\n",
            "Epoch: 337 / 500, ############## the best accuracy in val  94.6330 at Epoch: 187  ##############\n",
            "Performance in Val: Loss: (0.0488); Accuracy (94.43)\n"
          ]
        },
        {
          "name": "stderr",
          "output_type": "stream",
          "text": [
            "Epoch 338: 100%|██████████| 1496/1496 [00:22<00:00, 67.37batch/s, train_loss=tensor(0.0119, device='cuda:0', grad_fn=<MseLossBackward0>)]\n"
          ]
        },
        {
          "name": "stdout",
          "output_type": "stream",
          "text": [
            "0.04876519807360389 0.9444854297307267 0.9073797420856606 0.9549114331723028 0.8287910552061496 0.8287910552061496 0.8545572568203988 0.9593861695453485 0.8873924429479986\n",
            "Epoch: 338 / 500, ############## the best accuracy in val  94.6330 at Epoch: 187  ##############\n",
            "Performance in Val: Loss: (0.0488); Accuracy (94.45)\n"
          ]
        },
        {
          "name": "stderr",
          "output_type": "stream",
          "text": [
            "Epoch 339: 100%|██████████| 1496/1496 [00:22<00:00, 66.88batch/s, train_loss=tensor(0.0103, device='cuda:0', grad_fn=<MseLossBackward0>)]\n"
          ]
        },
        {
          "name": "stdout",
          "output_type": "stream",
          "text": [
            "0.048475449566136704 0.9444854297307267 0.9076038662112045 0.9541800643086816 0.8294898672257163 0.8294898672257163 0.8545442635712018 0.9585870269602063 0.8874766355140187\n",
            "Epoch: 339 / 500, ############## the best accuracy in val  94.6330 at Epoch: 187  ##############\n",
            "Performance in Val: Loss: (0.0485); Accuracy (94.45)\n"
          ]
        },
        {
          "name": "stderr",
          "output_type": "stream",
          "text": [
            "Epoch 340: 100%|██████████| 1496/1496 [00:23<00:00, 63.11batch/s, train_loss=tensor(0.0074, device='cuda:0', grad_fn=<MseLossBackward0>)]\n"
          ]
        },
        {
          "name": "stdout",
          "output_type": "stream",
          "text": [
            "0.04890721883963455 0.9446698635189967 0.9077291480954439 0.9549477071600966 0.8294898672257163 0.8294898672257163 0.8550483757257338 0.95714037576861 0.8878085265519821\n",
            "Epoch: 340 / 500, ############## the best accuracy in val  94.6330 at Epoch: 187  ##############\n",
            "Performance in Val: Loss: (0.0489); Accuracy (94.47)\n"
          ]
        },
        {
          "name": "stderr",
          "output_type": "stream",
          "text": [
            "Epoch 341: 100%|██████████| 1496/1496 [00:23<00:00, 63.21batch/s, train_loss=tensor(0.0083, device='cuda:0', grad_fn=<MseLossBackward0>)]\n"
          ]
        },
        {
          "name": "stdout",
          "output_type": "stream",
          "text": [
            "0.04890606366097927 0.9430099594245666 0.9052568663840251 0.9524193548387097 0.8252969951083159 0.8252969951083159 0.850585943778513 0.9562289960237229 0.8843129913889929\n",
            "Epoch: 341 / 500, ############## the best accuracy in val  94.6330 at Epoch: 187  ##############\n",
            "Performance in Val: Loss: (0.0489); Accuracy (94.30)\n"
          ]
        },
        {
          "name": "stderr",
          "output_type": "stream",
          "text": [
            "Epoch 342: 100%|██████████| 1496/1496 [00:22<00:00, 67.35batch/s, train_loss=tensor(0.0042, device='cuda:0', grad_fn=<MseLossBackward0>)]\n"
          ]
        },
        {
          "name": "stdout",
          "output_type": "stream",
          "text": [
            "0.04887306233021346 0.9433788270011066 0.9052833060269604 0.9546925566343042 0.8245981830887491 0.8245981830887491 0.8516095915748865 0.9573895387613045 0.8848893888263967\n",
            "Epoch: 342 / 500, ############## the best accuracy in val  94.6330 at Epoch: 187  ##############\n",
            "Performance in Val: Loss: (0.0489); Accuracy (94.34)\n"
          ]
        },
        {
          "name": "stderr",
          "output_type": "stream",
          "text": [
            "Epoch 343: 100%|██████████| 1496/1496 [00:22<00:00, 66.93batch/s, train_loss=tensor(0.0062, device='cuda:0', grad_fn=<MseLossBackward0>)]\n"
          ]
        },
        {
          "name": "stdout",
          "output_type": "stream",
          "text": [
            "0.048417210917581215 0.9443009959424566 0.9072544602014211 0.9541432019308126 0.8287910552061496 0.8287910552061496 0.8540529082330198 0.9581837786312004 0.887060583395662\n",
            "Epoch: 343 / 500, ############## the best accuracy in val  94.6330 at Epoch: 187  ##############\n",
            "Performance in Val: Loss: (0.0484); Accuracy (94.43)\n"
          ]
        },
        {
          "name": "stderr",
          "output_type": "stream",
          "text": [
            "Epoch 344: 100%|██████████| 1496/1496 [00:22<00:00, 66.39batch/s, train_loss=tensor(0.0051, device='cuda:0', grad_fn=<MseLossBackward0>)]\n"
          ]
        },
        {
          "name": "stdout",
          "output_type": "stream",
          "text": [
            "0.048847140998325565 0.9441165621541866 0.9066809300660938 0.9548387096774194 0.827393431167016 0.827393431167016 0.8535748840075116 0.9559610976549087 0.8865593410707601\n",
            "Epoch: 344 / 500, ############## the best accuracy in val  94.6330 at Epoch: 187  ##############\n",
            "Performance in Val: Loss: (0.0488); Accuracy (94.41)\n"
          ]
        },
        {
          "name": "stderr",
          "output_type": "stream",
          "text": [
            "Epoch 345: 100%|██████████| 1496/1496 [00:22<00:00, 67.26batch/s, train_loss=tensor(0.0061, device='cuda:0', grad_fn=<MseLossBackward0>)]\n"
          ]
        },
        {
          "name": "stdout",
          "output_type": "stream",
          "text": [
            "0.04825668257068504 0.9457764662486168 0.908704963526425 0.9588377723970944 0.8301886792452831 0.8301886792452831 0.8580666108457303 0.9576388768509719 0.8898876404494381\n",
            "Epoch: 345 / 500, ############## the best accuracy in val  94.6330 at Epoch: 187  ##############\n",
            "Performance in Val: Loss: (0.0483); Accuracy (94.58)\n"
          ]
        },
        {
          "name": "stderr",
          "output_type": "stream",
          "text": [
            "Epoch 346: 100%|██████████| 1496/1496 [00:22<00:00, 66.16batch/s, train_loss=tensor(0.0078, device='cuda:0', grad_fn=<MseLossBackward0>)]\n"
          ]
        },
        {
          "name": "stdout",
          "output_type": "stream",
          "text": [
            "0.04947727927091447 0.9426410918480266 0.9052304267410899 0.9501607717041801 0.8259958071278826 0.8259958071278826 0.8495683316621828 0.9563575172019643 0.8837383177570094\n",
            "Epoch: 346 / 500, ############## the best accuracy in val  94.6330 at Epoch: 187  ##############\n",
            "Performance in Val: Loss: (0.0495); Accuracy (94.26)\n"
          ]
        },
        {
          "name": "stderr",
          "output_type": "stream",
          "text": [
            "Epoch 347: 100%|██████████| 1496/1496 [00:23<00:00, 64.84batch/s, train_loss=tensor(0.0048, device='cuda:0', grad_fn=<MseLossBackward0>)]\n"
          ]
        },
        {
          "name": "stdout",
          "output_type": "stream",
          "text": [
            "0.04879182280803269 0.9441165621541866 0.90645680594055 0.9555735056542811 0.8266946191474493 0.8266946191474493 0.8535892090905094 0.9572356285219662 0.8864743349569126\n",
            "Epoch: 347 / 500, ############## the best accuracy in val  94.6330 at Epoch: 187  ##############\n",
            "Performance in Val: Loss: (0.0488); Accuracy (94.41)\n"
          ]
        },
        {
          "name": "stderr",
          "output_type": "stream",
          "text": [
            "Epoch 348: 100%|██████████| 1496/1496 [00:22<00:00, 65.46batch/s, train_loss=tensor(0.0045, device='cuda:0', grad_fn=<MseLossBackward0>)]\n"
          ]
        },
        {
          "name": "stdout",
          "output_type": "stream",
          "text": [
            "0.048084617338397286 0.9448542973072667 0.9069579334775082 0.9586709886547812 0.8266946191474493 0.8266946191474493 0.8556167527932905 0.9598400208995748 0.8878048780487806\n",
            "Epoch: 348 / 500, ############## the best accuracy in val  94.6330 at Epoch: 187  ##############\n",
            "Performance in Val: Loss: (0.0481); Accuracy (94.49)\n"
          ]
        },
        {
          "name": "stderr",
          "output_type": "stream",
          "text": [
            "Epoch 349: 100%|██████████| 1496/1496 [00:22<00:00, 66.53batch/s, train_loss=tensor(0.0086, device='cuda:0', grad_fn=<MseLossBackward0>)]\n"
          ]
        },
        {
          "name": "stdout",
          "output_type": "stream",
          "text": [
            "0.04836147083816203 0.9441165621541866 0.907801550693813 0.9512 0.8308874912648497 0.8308874912648497 0.8535174270576759 0.9599114604645917 0.8869824692278999\n",
            "Epoch: 349 / 500, ############## the best accuracy in val  94.6330 at Epoch: 187  ##############\n",
            "Performance in Val: Loss: (0.0484); Accuracy (94.41)\n"
          ]
        },
        {
          "name": "stderr",
          "output_type": "stream",
          "text": [
            "Epoch 350: 100%|██████████| 1496/1496 [00:22<00:00, 66.01batch/s, train_loss=tensor(0.0062, device='cuda:0', grad_fn=<MseLossBackward0>)]\n"
          ]
        },
        {
          "name": "stdout",
          "output_type": "stream",
          "text": [
            "0.04836395857009021 0.9444854297307267 0.9078279903367483 0.9534510433386838 0.8301886792452831 0.8301886792452831 0.8545322144447655 0.9598808184943026 0.8875607022786701\n",
            "Epoch: 350 / 500, ############## the best accuracy in val  94.6330 at Epoch: 187  ##############\n",
            "Performance in Val: Loss: (0.0484); Accuracy (94.45)\n"
          ]
        },
        {
          "name": "stderr",
          "output_type": "stream",
          "text": [
            "Epoch 351: 100%|██████████| 1496/1496 [00:22<00:00, 67.02batch/s, train_loss=tensor(0.0081, device='cuda:0', grad_fn=<MseLossBackward0>)]\n"
          ]
        },
        {
          "name": "stdout",
          "output_type": "stream",
          "text": [
            "0.04871683991090818 0.9443009959424566 0.9074785843269648 0.9534136546184739 0.8294898672257163 0.8294898672257163 0.8540406683432911 0.956162284076979 0.8871449925261584\n",
            "Epoch: 351 / 500, ############## the best accuracy in val  94.6330 at Epoch: 187  ##############\n",
            "Performance in Val: Loss: (0.0487); Accuracy (94.43)\n"
          ]
        },
        {
          "name": "stderr",
          "output_type": "stream",
          "text": [
            "Epoch 352: 100%|██████████| 1496/1496 [00:22<00:00, 65.65batch/s, train_loss=tensor(0.0064, device='cuda:0', grad_fn=<MseLossBackward0>)]\n"
          ]
        },
        {
          "name": "stdout",
          "output_type": "stream",
          "text": [
            "0.048453183844685555 0.9426410918480266 0.9061269232432652 0.9472843450479234 0.8287910552061496 0.8287910552061496 0.8495369354459388 0.9566504544379291 0.884084979500559\n",
            "Epoch: 352 / 500, ############## the best accuracy in val  94.6330 at Epoch: 187  ##############\n",
            "Performance in Val: Loss: (0.0485); Accuracy (94.26)\n"
          ]
        },
        {
          "name": "stderr",
          "output_type": "stream",
          "text": [
            "Epoch 353: 100%|██████████| 1496/1496 [00:22<00:00, 65.52batch/s, train_loss=tensor(0.0075, device='cuda:0', grad_fn=<MseLossBackward0>)]\n"
          ]
        },
        {
          "name": "stdout",
          "output_type": "stream",
          "text": [
            "0.04864455573260784 0.9443009959424566 0.9077027084525087 0.9526864474739375 0.8301886792452831 0.8301886792452831 0.8540293701144438 0.9583515215314122 0.8872292755787902\n",
            "Epoch: 353 / 500, ############## the best accuracy in val  94.6330 at Epoch: 187  ##############\n",
            "Performance in Val: Loss: (0.0486); Accuracy (94.43)\n"
          ]
        },
        {
          "name": "stderr",
          "output_type": "stream",
          "text": [
            "Epoch 354: 100%|██████████| 1496/1496 [00:22<00:00, 65.62batch/s, train_loss=tensor(0.0051, device='cuda:0', grad_fn=<MseLossBackward0>)]\n"
          ]
        },
        {
          "name": "stdout",
          "output_type": "stream",
          "text": [
            "0.04857162030583078 0.9454075986720767 0.9106956410133842 0.9500396510705789 0.8371767994409504 0.8371767994409504 0.8569478009853496 0.9581830782433081 0.8900445765230312\n",
            "Epoch: 354 / 500, ############## the best accuracy in val  94.6330 at Epoch: 187  ##############\n",
            "Performance in Val: Loss: (0.0486); Accuracy (94.54)\n"
          ]
        },
        {
          "name": "stderr",
          "output_type": "stream",
          "text": [
            "Epoch 355: 100%|██████████| 1496/1496 [00:22<00:00, 66.07batch/s, train_loss=tensor(0.0048, device='cuda:0', grad_fn=<MseLossBackward0>)]\n"
          ]
        },
        {
          "name": "stdout",
          "output_type": "stream",
          "text": [
            "0.0488596772775054 0.9433788270011066 0.9068521749057672 0.9496 0.8294898672257163 0.8294898672257163 0.8515304096504465 0.9572400059462932 0.8854904886236479\n",
            "Epoch: 355 / 500, ############## the best accuracy in val  94.6330 at Epoch: 187  ##############\n",
            "Performance in Val: Loss: (0.0489); Accuracy (94.34)\n"
          ]
        },
        {
          "name": "stderr",
          "output_type": "stream",
          "text": [
            "Epoch 356: 100%|██████████| 1496/1496 [00:22<00:00, 65.77batch/s, train_loss=tensor(0.0084, device='cuda:0', grad_fn=<MseLossBackward0>)]\n"
          ]
        },
        {
          "name": "stdout",
          "output_type": "stream",
          "text": [
            "0.048498018983412876 0.9450387310955367 0.9082038359894669 0.9557522123893806 0.8301886792452831 0.8301886792452831 0.8560438432184477 0.9576861530337037 0.8885564697083023\n",
            "Epoch: 356 / 500, ############## the best accuracy in val  94.6330 at Epoch: 187  ##############\n",
            "Performance in Val: Loss: (0.0485); Accuracy (94.50)\n"
          ]
        },
        {
          "name": "stderr",
          "output_type": "stream",
          "text": [
            "Epoch 357: 100%|██████████| 1496/1496 [00:22<00:00, 66.18batch/s, train_loss=tensor(0.0065, device='cuda:0', grad_fn=<MseLossBackward0>)]\n"
          ]
        },
        {
          "name": "stdout",
          "output_type": "stream",
          "text": [
            "0.049038587138056755 0.9452231648838068 0.9081049937481626 0.957258064516129 0.8294898672257163 0.8294898672257163 0.8565638242365102 0.9554622463786007 0.8888056907525271\n",
            "Epoch: 357 / 500, ############## the best accuracy in val  94.6330 at Epoch: 187  ##############\n",
            "Performance in Val: Loss: (0.0490); Accuracy (94.52)\n"
          ]
        },
        {
          "name": "stderr",
          "output_type": "stream",
          "text": [
            "Epoch 358: 100%|██████████| 1496/1496 [00:22<00:00, 66.58batch/s, train_loss=tensor(0.0085, device='cuda:0', grad_fn=<MseLossBackward0>)]\n"
          ]
        },
        {
          "name": "stdout",
          "output_type": "stream",
          "text": [
            "0.04874279189177535 0.9441165621541866 0.9075774265682692 0.9519230769230769 0.8301886792452831 0.8301886792452831 0.8535270400131162 0.9576879040034346 0.8868980963045913\n",
            "Epoch: 358 / 500, ############## the best accuracy in val  94.6330 at Epoch: 187  ##############\n",
            "Performance in Val: Loss: (0.0487); Accuracy (94.41)\n"
          ]
        },
        {
          "name": "stderr",
          "output_type": "stream",
          "text": [
            "Epoch 359: 100%|██████████| 1496/1496 [00:22<00:00, 67.78batch/s, train_loss=tensor(0.0097, device='cuda:0', grad_fn=<MseLossBackward0>)]\n"
          ]
        },
        {
          "name": "stdout",
          "output_type": "stream",
          "text": [
            "0.04836184582249685 0.9444854297307267 0.9080521144622921 0.9527243589743589 0.8308874912648497 0.8308874912648497 0.8545211062363778 0.9573145972568258 0.8876446435237029\n",
            "Epoch: 359 / 500, ############## the best accuracy in val  94.6330 at Epoch: 187  ##############\n",
            "Performance in Val: Loss: (0.0484); Accuracy (94.45)\n"
          ]
        },
        {
          "name": "stderr",
          "output_type": "stream",
          "text": [
            "Epoch 360: 100%|██████████| 1496/1496 [00:22<00:00, 66.54batch/s, train_loss=tensor(0.0093, device='cuda:0', grad_fn=<MseLossBackward0>)]\n"
          ]
        },
        {
          "name": "stdout",
          "output_type": "stream",
          "text": [
            "0.04860106347636743 0.9452231648838068 0.9087773661247941 0.9550561797752809 0.8315863032844165 0.8315863032844165 0.8565214653390681 0.9570164071116686 0.8890549122151663\n",
            "Epoch: 360 / 500, ############## the best accuracy in val  94.6330 at Epoch: 187  ##############\n",
            "Performance in Val: Loss: (0.0486); Accuracy (94.52)\n"
          ]
        },
        {
          "name": "stderr",
          "output_type": "stream",
          "text": [
            "Epoch 361: 100%|██████████| 1496/1496 [00:22<00:00, 67.01batch/s, train_loss=tensor(0.0091, device='cuda:0', grad_fn=<MseLossBackward0>)]\n"
          ]
        },
        {
          "name": "stdout",
          "output_type": "stream",
          "text": [
            "0.04878243795511397 0.9441165621541866 0.9075774265682692 0.9519230769230769 0.8301886792452831 0.8301886792452831 0.8535270400131162 0.9559637241095049 0.8868980963045913\n",
            "Epoch: 361 / 500, ############## the best accuracy in val  94.6330 at Epoch: 187  ##############\n",
            "Performance in Val: Loss: (0.0488); Accuracy (94.41)\n"
          ]
        },
        {
          "name": "stderr",
          "output_type": "stream",
          "text": [
            "Epoch 362: 100%|██████████| 1496/1496 [00:22<00:00, 65.94batch/s, train_loss=tensor(0.0092, device='cuda:0', grad_fn=<MseLossBackward0>)]\n"
          ]
        },
        {
          "name": "stdout",
          "output_type": "stream",
          "text": [
            "0.04904204386879097 0.9444854297307267 0.9073797420856606 0.9549114331723028 0.8287910552061496 0.8287910552061496 0.8545572568203988 0.9580962301446598 0.8873924429479986\n",
            "Epoch: 362 / 500, ############## the best accuracy in val  94.6330 at Epoch: 187  ##############\n",
            "Performance in Val: Loss: (0.0490); Accuracy (94.45)\n"
          ]
        },
        {
          "name": "stderr",
          "output_type": "stream",
          "text": [
            "Epoch 363: 100%|██████████| 1496/1496 [00:22<00:00, 67.86batch/s, train_loss=tensor(0.0051, device='cuda:0', grad_fn=<MseLossBackward0>)]\n"
          ]
        },
        {
          "name": "stdout",
          "output_type": "stream",
          "text": [
            "0.04843847927722064 0.9448542973072667 0.9083026782307712 0.9542536115569823 0.8308874912648497 0.8308874912648497 0.8555268398919168 0.9567935086649363 0.8883078072469182\n",
            "Epoch: 363 / 500, ############## the best accuracy in val  94.6330 at Epoch: 187  ##############\n",
            "Performance in Val: Loss: (0.0484); Accuracy (94.49)\n"
          ]
        },
        {
          "name": "stderr",
          "output_type": "stream",
          "text": [
            "Epoch 364: 100%|██████████| 1496/1496 [00:22<00:00, 66.62batch/s, train_loss=tensor(0.0081, device='cuda:0', grad_fn=<MseLossBackward0>)]\n"
          ]
        },
        {
          "name": "stdout",
          "output_type": "stream",
          "text": [
            "0.048640904778783974 0.9433788270011066 0.9064039266546795 0.9510433386837881 0.8280922431865828 0.8280922431865828 0.8515483381033115 0.9569153761582008 0.885319387373926\n",
            "Epoch: 364 / 500, ############## the best accuracy in val  94.6330 at Epoch: 187  ##############\n",
            "Performance in Val: Loss: (0.0486); Accuracy (94.34)\n"
          ]
        },
        {
          "name": "stderr",
          "output_type": "stream",
          "text": [
            "Epoch 365: 100%|██████████| 1496/1496 [00:21<00:00, 68.14batch/s, train_loss=tensor(0.0063, device='cuda:0', grad_fn=<MseLossBackward0>)]\n"
          ]
        },
        {
          "name": "stdout",
          "output_type": "stream",
          "text": [
            "0.04848905407230963 0.9444854297307267 0.9071556179601168 0.9556451612903226 0.8280922431865828 0.8280922431865828 0.8545711974171778 0.9572167180488734 0.8873081242980158\n",
            "Epoch: 365 / 500, ############## the best accuracy in val  94.6330 at Epoch: 187  ##############\n",
            "Performance in Val: Loss: (0.0485); Accuracy (94.45)\n"
          ]
        },
        {
          "name": "stderr",
          "output_type": "stream",
          "text": [
            "Epoch 366: 100%|██████████| 1496/1496 [00:22<00:00, 67.18batch/s, train_loss=tensor(0.0042, device='cuda:0', grad_fn=<MseLossBackward0>)]\n"
          ]
        },
        {
          "name": "stdout",
          "output_type": "stream",
          "text": [
            "0.04825986388393424 0.9452231648838068 0.9090014902503378 0.9543269230769231 0.8322851153039832 0.8322851153039832 0.8565092386829012 0.9599683669808431 0.8891377379619261\n",
            "Epoch: 366 / 500, ############## the best accuracy in val  94.6330 at Epoch: 187  ##############\n",
            "Performance in Val: Loss: (0.0483); Accuracy (94.52)\n"
          ]
        },
        {
          "name": "stderr",
          "output_type": "stream",
          "text": [
            "Epoch 367: 100%|██████████| 1496/1496 [00:21<00:00, 68.08batch/s, train_loss=tensor(0.0063, device='cuda:0', grad_fn=<MseLossBackward0>)]\n"
          ]
        },
        {
          "name": "stdout",
          "output_type": "stream",
          "text": [
            "0.04867584478448738 0.9433788270011066 0.9073004231568549 0.9481658692185008 0.8308874912648497 0.8308874912648497 0.8515161991175231 0.9551208072810924 0.8856610800744878\n",
            "Epoch: 367 / 500, ############## the best accuracy in val  94.6330 at Epoch: 187  ##############\n",
            "Performance in Val: Loss: (0.0487); Accuracy (94.34)\n"
          ]
        },
        {
          "name": "stderr",
          "output_type": "stream",
          "text": [
            "Epoch 368: 100%|██████████| 1496/1496 [00:22<00:00, 67.23batch/s, train_loss=tensor(0.0055, device='cuda:0', grad_fn=<MseLossBackward0>)]\n"
          ]
        },
        {
          "name": "stdout",
          "output_type": "stream",
          "text": [
            "0.048645277676934544 0.9433788270011066 0.9066280507802233 0.9503205128205128 0.8287910552061496 0.8287910552061496 0.8515389075665928 0.9572879825169174 0.8854050018663681\n",
            "Epoch: 368 / 500, ############## the best accuracy in val  94.6330 at Epoch: 187  ##############\n",
            "Performance in Val: Loss: (0.0486); Accuracy (94.34)\n"
          ]
        },
        {
          "name": "stderr",
          "output_type": "stream",
          "text": [
            "Epoch 369: 100%|██████████| 1496/1496 [00:22<00:00, 67.52batch/s, train_loss=tensor(0.0068, device='cuda:0', grad_fn=<MseLossBackward0>)]\n"
          ]
        },
        {
          "name": "stdout",
          "output_type": "stream",
          "text": [
            "0.049030658026987854 0.9428255256362966 0.9049074603742417 0.9523809523809523 0.8245981830887491 0.8245981830887491 0.850093840876522 0.9566865244143836 0.8838951310861423\n",
            "Epoch: 369 / 500, ############## the best accuracy in val  94.6330 at Epoch: 187  ##############\n",
            "Performance in Val: Loss: (0.0490); Accuracy (94.28)\n"
          ]
        },
        {
          "name": "stderr",
          "output_type": "stream",
          "text": [
            "Epoch 370: 100%|██████████| 1496/1496 [00:22<00:00, 66.88batch/s, train_loss=tensor(0.0058, device='cuda:0', grad_fn=<MseLossBackward0>)]\n"
          ]
        },
        {
          "name": "stdout",
          "output_type": "stream",
          "text": [
            "0.04898981521414085 0.9439321283659167 0.9076762688095734 0.950439648281375 0.8308874912648497 0.8308874912648497 0.853016355312642 0.9563366806621678 0.8866517524235645\n",
            "Epoch: 370 / 500, ############## the best accuracy in val  94.6330 at Epoch: 187  ##############\n",
            "Performance in Val: Loss: (0.0490); Accuracy (94.39)\n"
          ]
        },
        {
          "name": "stderr",
          "output_type": "stream",
          "text": [
            "Epoch 371: 100%|██████████| 1496/1496 [00:21<00:00, 68.17batch/s, train_loss=tensor(0.0103, device='cuda:0', grad_fn=<MseLossBackward0>)]\n"
          ]
        },
        {
          "name": "stdout",
          "output_type": "stream",
          "text": [
            "0.04869152114472606 0.9443009959424566 0.9065820878247896 0.9563459983831851 0.8266946191474493 0.8266946191474493 0.8540953100830587 0.9588377658256585 0.8868065967016492\n",
            "Epoch: 371 / 500, ############## the best accuracy in val  94.6330 at Epoch: 187  ##############\n",
            "Performance in Val: Loss: (0.0487); Accuracy (94.43)\n"
          ]
        },
        {
          "name": "stderr",
          "output_type": "stream",
          "text": [
            "Epoch 372: 100%|██████████| 1496/1496 [00:22<00:00, 67.34batch/s, train_loss=tensor(0.0109, device='cuda:0', grad_fn=<MseLossBackward0>)]\n"
          ]
        },
        {
          "name": "stdout",
          "output_type": "stream",
          "text": [
            "0.04862961181524125 0.9444854297307267 0.9078279903367483 0.9534510433386838 0.8301886792452831 0.8301886792452831 0.8545322144447655 0.9565606296907385 0.8875607022786701\n",
            "Epoch: 372 / 500, ############## the best accuracy in val  94.6330 at Epoch: 187  ##############\n",
            "Performance in Val: Loss: (0.0486); Accuracy (94.45)\n"
          ]
        },
        {
          "name": "stderr",
          "output_type": "stream",
          "text": [
            "Epoch 373: 100%|██████████| 1496/1496 [00:22<00:00, 67.06batch/s, train_loss=tensor(0.0058, device='cuda:0', grad_fn=<MseLossBackward0>)]\n"
          ]
        },
        {
          "name": "stdout",
          "output_type": "stream",
          "text": [
            "0.048172108151695946 0.9448542973072667 0.9089750506074026 0.952076677316294 0.83298392732355 0.83298392732355 0.8554946527363035 0.9588048475947192 0.8885575847931421\n",
            "Epoch: 373 / 500, ############## the best accuracy in val  94.6330 at Epoch: 187  ##############\n",
            "Performance in Val: Loss: (0.0482); Accuracy (94.49)\n"
          ]
        },
        {
          "name": "stderr",
          "output_type": "stream",
          "text": [
            "Epoch 374: 100%|██████████| 1496/1496 [00:22<00:00, 67.71batch/s, train_loss=tensor(0.0057, device='cuda:0', grad_fn=<MseLossBackward0>)]\n"
          ]
        },
        {
          "name": "stdout",
          "output_type": "stream",
          "text": [
            "0.04885488511486487 0.9420877904832166 0.9048545810883712 0.9478748997594226 0.8259958071278826 0.8259958071278826 0.8480632963838266 0.9578500438005076 0.8827483196415234\n",
            "Epoch: 374 / 500, ############## the best accuracy in val  94.6330 at Epoch: 187  ##############\n",
            "Performance in Val: Loss: (0.0489); Accuracy (94.21)\n"
          ]
        },
        {
          "name": "stderr",
          "output_type": "stream",
          "text": [
            "Epoch 375: 100%|██████████| 1496/1496 [00:22<00:00, 67.13batch/s, train_loss=tensor(0.0061, device='cuda:0', grad_fn=<MseLossBackward0>)]\n"
          ]
        },
        {
          "name": "stdout",
          "output_type": "stream",
          "text": [
            "0.048557174392044544 0.9450387310955367 0.9088762083660984 0.9535628502802241 0.8322851153039832 0.8322851153039832 0.8560065848566633 0.9563783537417611 0.8888059701492538\n",
            "Epoch: 375 / 500, ############## the best accuracy in val  94.6330 at Epoch: 187  ##############\n",
            "Performance in Val: Loss: (0.0486); Accuracy (94.50)\n"
          ]
        },
        {
          "name": "stderr",
          "output_type": "stream",
          "text": [
            "Epoch 376: 100%|██████████| 1496/1496 [00:22<00:00, 67.06batch/s, train_loss=tensor(0.0058, device='cuda:0', grad_fn=<MseLossBackward0>)]\n"
          ]
        },
        {
          "name": "stdout",
          "output_type": "stream",
          "text": [
            "0.04913195730610327 0.9448542973072667 0.908526802356315 0.9535256410256411 0.8315863032844165 0.8315863032844165 0.8555151724596395 0.9556112539026926 0.8883911907428145\n",
            "Epoch: 376 / 500, ############## the best accuracy in val  94.6330 at Epoch: 187  ##############\n",
            "Performance in Val: Loss: (0.0491); Accuracy (94.49)\n"
          ]
        },
        {
          "name": "stderr",
          "output_type": "stream",
          "text": [
            "Epoch 377: 100%|██████████| 1496/1496 [00:22<00:00, 67.96batch/s, train_loss=tensor(0.0049, device='cuda:0', grad_fn=<MseLossBackward0>)]\n"
          ]
        },
        {
          "name": "stdout",
          "output_type": "stream",
          "text": [
            "0.048613526011732494 0.9452231648838068 0.9094497385014255 0.9528753993610224 0.8336827393431167 0.8336827393431167 0.8564876056180311 0.9571717181267916 0.8893030190085724\n",
            "Epoch: 377 / 500, ############## the best accuracy in val  94.6330 at Epoch: 187  ##############\n",
            "Performance in Val: Loss: (0.0486); Accuracy (94.52)\n"
          ]
        },
        {
          "name": "stderr",
          "output_type": "stream",
          "text": [
            "Epoch 378: 100%|██████████| 1496/1496 [00:22<00:00, 66.94batch/s, train_loss=tensor(0.0069, device='cuda:0', grad_fn=<MseLossBackward0>)]\n"
          ]
        },
        {
          "name": "stdout",
          "output_type": "stream",
          "text": [
            "0.0487026617100293 0.9433788270011066 0.9077486714079425 0.9467408585055644 0.8322851153039832 0.8322851153039832 0.8515056815746794 0.9581104129994795 0.8858311640014875\n",
            "Epoch: 378 / 500, ############## the best accuracy in val  94.6330 at Epoch: 187  ##############\n",
            "Performance in Val: Loss: (0.0487); Accuracy (94.34)\n"
          ]
        },
        {
          "name": "stderr",
          "output_type": "stream",
          "text": [
            "Epoch 379: 100%|██████████| 1496/1496 [00:22<00:00, 67.64batch/s, train_loss=tensor(0.0122, device='cuda:0', grad_fn=<MseLossBackward0>)]\n"
          ]
        },
        {
          "name": "stdout",
          "output_type": "stream",
          "text": [
            "0.04853412525897676 0.9444854297307267 0.9082762385878359 0.952 0.8315863032844165 0.8315863032844165 0.8545109357612904 0.9572228464429313 0.8877284595300261\n",
            "Epoch: 379 / 500, ############## the best accuracy in val  94.6330 at Epoch: 187  ##############\n",
            "Performance in Val: Loss: (0.0485); Accuracy (94.45)\n"
          ]
        },
        {
          "name": "stderr",
          "output_type": "stream",
          "text": [
            "Epoch 380: 100%|██████████| 1496/1496 [00:22<00:00, 67.69batch/s, train_loss=tensor(0.0052, device='cuda:0', grad_fn=<MseLossBackward0>)]\n"
          ]
        },
        {
          "name": "stdout",
          "output_type": "stream",
          "text": [
            "0.04866909845308824 0.9443009959424566 0.9068062119503334 0.9556093623890234 0.827393431167016 0.827393431167016 0.8540802258611261 0.9565916218549739 0.8868913857677904\n",
            "Epoch: 380 / 500, ############## the best accuracy in val  94.6330 at Epoch: 187  ##############\n",
            "Performance in Val: Loss: (0.0487); Accuracy (94.43)\n"
          ]
        },
        {
          "name": "stderr",
          "output_type": "stream",
          "text": [
            "Epoch 381: 100%|██████████| 1496/1496 [00:22<00:00, 67.89batch/s, train_loss=tensor(0.0080, device='cuda:0', grad_fn=<MseLossBackward0>)]\n"
          ]
        },
        {
          "name": "stdout",
          "output_type": "stream",
          "text": [
            "0.04848178213631565 0.9439321283659167 0.9072280205584857 0.9518845228548516 0.8294898672257163 0.8294898672257163 0.8530350244926743 0.9598508769119058 0.8864824495892457\n",
            "Epoch: 381 / 500, ############## the best accuracy in val  94.6330 at Epoch: 187  ##############\n",
            "Performance in Val: Loss: (0.0485); Accuracy (94.39)\n"
          ]
        },
        {
          "name": "stderr",
          "output_type": "stream",
          "text": [
            "Epoch 382: 100%|██████████| 1496/1496 [00:22<00:00, 67.45batch/s, train_loss=tensor(0.0108, device='cuda:0', grad_fn=<MseLossBackward0>)]\n"
          ]
        },
        {
          "name": "stdout",
          "output_type": "stream",
          "text": [
            "0.048758747818117794 0.9426410918480266 0.9056786749921775 0.9487179487179487 0.827393431167016 0.827393431167016 0.8495507751200695 0.9576077095897636 0.8839119074281448\n",
            "Epoch: 382 / 500, ############## the best accuracy in val  94.6330 at Epoch: 187  ##############\n",
            "Performance in Val: Loss: (0.0488); Accuracy (94.26)\n"
          ]
        },
        {
          "name": "stderr",
          "output_type": "stream",
          "text": [
            "Epoch 383: 100%|██████████| 1496/1496 [00:21<00:00, 68.48batch/s, train_loss=tensor(0.0077, device='cuda:0', grad_fn=<MseLossBackward0>)]\n"
          ]
        },
        {
          "name": "stdout",
          "output_type": "stream",
          "text": [
            "0.04859835637564009 0.9430099594245666 0.9070498593883758 0.946656050955414 0.8308874912648497 0.8308874912648497 0.8505186339628639 0.9577111919008545 0.8850018608113137\n",
            "Epoch: 383 / 500, ############## the best accuracy in val  94.6330 at Epoch: 187  ##############\n",
            "Performance in Val: Loss: (0.0486); Accuracy (94.30)\n"
          ]
        },
        {
          "name": "stderr",
          "output_type": "stream",
          "text": [
            "Epoch 384: 100%|██████████| 1496/1496 [00:22<00:00, 67.38batch/s, train_loss=tensor(0.0079, device='cuda:0', grad_fn=<MseLossBackward0>)]\n"
          ]
        },
        {
          "name": "stdout",
          "output_type": "stream",
          "text": [
            "0.04799154451624914 0.9433788270011066 0.9066280507802233 0.9503205128205128 0.8287910552061496 0.8287910552061496 0.8515389075665928 0.959665624314386 0.8854050018663681\n",
            "Epoch: 384 / 500, ############## the best accuracy in val  94.6330 at Epoch: 187  ##############\n",
            "Performance in Val: Loss: (0.0480); Accuracy (94.34)\n"
          ]
        },
        {
          "name": "stderr",
          "output_type": "stream",
          "text": [
            "Epoch 385: 100%|██████████| 1496/1496 [00:21<00:00, 68.21batch/s, train_loss=tensor(0.0051, device='cuda:0', grad_fn=<MseLossBackward0>)]\n"
          ]
        },
        {
          "name": "stdout",
          "output_type": "stream",
          "text": [
            "0.048163720914586025 0.9461453338251568 0.9107485202992547 0.9545091779728652 0.8357791754018169 0.8357791754018169 0.85896447160513 0.9590923568245184 0.8912071535022356\n",
            "Epoch: 385 / 500, ############## the best accuracy in val  94.6330 at Epoch: 187  ##############\n",
            "Performance in Val: Loss: (0.0482); Accuracy (94.61)\n"
          ]
        },
        {
          "name": "stderr",
          "output_type": "stream",
          "text": [
            "Epoch 386: 100%|██████████| 1496/1496 [00:21<00:00, 68.16batch/s, train_loss=tensor(0.0084, device='cuda:0', grad_fn=<MseLossBackward0>)]\n"
          ]
        },
        {
          "name": "stdout",
          "output_type": "stream",
          "text": [
            "0.048551707189868794 0.9444854297307267 0.9073797420856606 0.9549114331723028 0.8287910552061496 0.8287910552061496 0.8545572568203988 0.9594789709410815 0.8873924429479986\n",
            "Epoch: 386 / 500, ############## the best accuracy in val  94.6330 at Epoch: 187  ##############\n",
            "Performance in Val: Loss: (0.0486); Accuracy (94.45)\n"
          ]
        },
        {
          "name": "stderr",
          "output_type": "stream",
          "text": [
            "Epoch 387: 100%|██████████| 1496/1496 [00:22<00:00, 67.82batch/s, train_loss=tensor(0.0061, device='cuda:0', grad_fn=<MseLossBackward0>)]\n"
          ]
        },
        {
          "name": "stdout",
          "output_type": "stream",
          "text": [
            "0.048191987316716804 0.9430099594245666 0.9063774870117443 0.9488 0.8287910552061496 0.8287910552061496 0.8505369009468319 0.9585231165650316 0.8847444983215219\n",
            "Epoch: 387 / 500, ############## the best accuracy in val  94.6330 at Epoch: 187  ##############\n",
            "Performance in Val: Loss: (0.0482); Accuracy (94.30)\n"
          ]
        },
        {
          "name": "stderr",
          "output_type": "stream",
          "text": [
            "Epoch 388: 100%|██████████| 1496/1496 [00:22<00:00, 66.84batch/s, train_loss=tensor(0.0058, device='cuda:0', grad_fn=<MseLossBackward0>)]\n"
          ]
        },
        {
          "name": "stdout",
          "output_type": "stream",
          "text": [
            "0.04859056374566122 0.9435632607893766 0.9060809602878315 0.9532634971796938 0.8266946191474493 0.8266946191474493 0.852074030983454 0.9574390912046864 0.8854790419161677\n",
            "Epoch: 388 / 500, ############## the best accuracy in val  94.6330 at Epoch: 187  ##############\n",
            "Performance in Val: Loss: (0.0486); Accuracy (94.36)\n"
          ]
        },
        {
          "name": "stderr",
          "output_type": "stream",
          "text": [
            "Epoch 389: 100%|██████████| 1496/1496 [00:22<00:00, 67.86batch/s, train_loss=tensor(0.0057, device='cuda:0', grad_fn=<MseLossBackward0>)]\n"
          ]
        },
        {
          "name": "stdout",
          "output_type": "stream",
          "text": [
            "0.04845041696998206 0.9443009959424566 0.9074785843269648 0.9534136546184739 0.8294898672257163 0.8294898672257163 0.8540406683432911 0.9583961712595477 0.8871449925261584\n",
            "Epoch: 389 / 500, ############## the best accuracy in val  94.6330 at Epoch: 187  ##############\n",
            "Performance in Val: Loss: (0.0485); Accuracy (94.43)\n"
          ]
        },
        {
          "name": "stderr",
          "output_type": "stream",
          "text": [
            "Epoch 390: 100%|██████████| 1496/1496 [00:22<00:00, 67.26batch/s, train_loss=tensor(0.0083, device='cuda:0', grad_fn=<MseLossBackward0>)]\n"
          ]
        },
        {
          "name": "stdout",
          "output_type": "stream",
          "text": [
            "0.04812477308918129 0.9439321283659167 0.9076762688095734 0.950439648281375 0.8308874912648497 0.8308874912648497 0.853016355312642 0.9590298472051284 0.8866517524235645\n",
            "Epoch: 390 / 500, ############## the best accuracy in val  94.6330 at Epoch: 187  ##############\n",
            "Performance in Val: Loss: (0.0481); Accuracy (94.39)\n"
          ]
        },
        {
          "name": "stderr",
          "output_type": "stream",
          "text": [
            "Epoch 391: 100%|██████████| 1496/1496 [00:22<00:00, 67.32batch/s, train_loss=tensor(0.0107, device='cuda:0', grad_fn=<MseLossBackward0>)]\n"
          ]
        },
        {
          "name": "stdout",
          "output_type": "stream",
          "text": [
            "0.04829319439489733 0.9441165621541866 0.9075774265682692 0.9519230769230769 0.8301886792452831 0.8301886792452831 0.8535270400131162 0.9571423018353139 0.8868980963045913\n",
            "Epoch: 391 / 500, ############## the best accuracy in val  94.6330 at Epoch: 187  ##############\n",
            "Performance in Val: Loss: (0.0483); Accuracy (94.41)\n"
          ]
        },
        {
          "name": "stderr",
          "output_type": "stream",
          "text": [
            "Epoch 392: 100%|██████████| 1496/1496 [00:21<00:00, 68.20batch/s, train_loss=tensor(0.0072, device='cuda:0', grad_fn=<MseLossBackward0>)]\n"
          ]
        },
        {
          "name": "stdout",
          "output_type": "stream",
          "text": [
            "0.04870842820541425 0.9455920324603467 0.9083555575166417 0.9588045234248789 0.8294898672257163 0.8294898672257163 0.8575767271549318 0.9559355334968389 0.8894717122517797\n",
            "Epoch: 392 / 500, ############## the best accuracy in val  94.6330 at Epoch: 187  ##############\n",
            "Performance in Val: Loss: (0.0487); Accuracy (94.56)\n"
          ]
        },
        {
          "name": "stderr",
          "output_type": "stream",
          "text": [
            "Epoch 393: 100%|██████████| 1496/1496 [00:22<00:00, 67.80batch/s, train_loss=tensor(0.0107, device='cuda:0', grad_fn=<MseLossBackward0>)]\n"
          ]
        },
        {
          "name": "stdout",
          "output_type": "stream",
          "text": [
            "0.048419037156484344 0.9444854297307267 0.9096209833410989 0.9477020602218701 0.8357791754018169 0.8357791754018169 0.8544694294437888 0.957064733876239 0.8882287411808393\n",
            "Epoch: 393 / 500, ############## the best accuracy in val  94.6330 at Epoch: 187  ##############\n",
            "Performance in Val: Loss: (0.0484); Accuracy (94.45)\n"
          ]
        },
        {
          "name": "stderr",
          "output_type": "stream",
          "text": [
            "Epoch 394: 100%|██████████| 1496/1496 [00:22<00:00, 67.95batch/s, train_loss=tensor(0.0073, device='cuda:0', grad_fn=<MseLossBackward0>)]\n"
          ]
        },
        {
          "name": "stdout",
          "output_type": "stream",
          "text": [
            "0.04875568241219629 0.9443009959424566 0.9079268325780525 0.9519615692554043 0.8308874912648497 0.8308874912648497 0.8540190103550355 0.9567758238706553 0.8873134328358209\n",
            "Epoch: 394 / 500, ############## the best accuracy in val  94.6330 at Epoch: 187  ##############\n",
            "Performance in Val: Loss: (0.0488); Accuracy (94.43)\n"
          ]
        },
        {
          "name": "stderr",
          "output_type": "stream",
          "text": [
            "Epoch 395: 100%|██████████| 1496/1496 [00:22<00:00, 67.25batch/s, train_loss=tensor(0.0045, device='cuda:0', grad_fn=<MseLossBackward0>)]\n"
          ]
        },
        {
          "name": "stdout",
          "output_type": "stream",
          "text": [
            "0.04800768179649657 0.9433788270011066 0.905731554278048 0.9532258064516129 0.8259958071278826 0.8259958071278826 0.8515822571881793 0.9588449448015547 0.8850617746162486\n",
            "Epoch: 395 / 500, ############## the best accuracy in val  94.6330 at Epoch: 187  ##############\n",
            "Performance in Val: Loss: (0.0480); Accuracy (94.34)\n"
          ]
        },
        {
          "name": "stderr",
          "output_type": "stream",
          "text": [
            "Epoch 396: 100%|██████████| 1496/1496 [00:21<00:00, 68.04batch/s, train_loss=tensor(0.0070, device='cuda:0', grad_fn=<MseLossBackward0>)]\n"
          ]
        },
        {
          "name": "stdout",
          "output_type": "stream",
          "text": [
            "0.0488149593160911 0.9441165621541866 0.9075774265682692 0.9519230769230769 0.8301886792452831 0.8301886792452831 0.8535270400131162 0.9568190728230062 0.8868980963045913\n",
            "Epoch: 396 / 500, ############## the best accuracy in val  94.6330 at Epoch: 187  ##############\n",
            "Performance in Val: Loss: (0.0488); Accuracy (94.41)\n"
          ]
        },
        {
          "name": "stderr",
          "output_type": "stream",
          "text": [
            "Epoch 397: 100%|██████████| 1496/1496 [00:22<00:00, 67.75batch/s, train_loss=tensor(0.0077, device='cuda:0', grad_fn=<MseLossBackward0>)]\n"
          ]
        },
        {
          "name": "stdout",
          "output_type": "stream",
          "text": [
            "0.04828454782678322 0.9454075986720767 0.9093508962601213 0.9543634907926342 0.83298392732355 0.83298392732355 0.8570003721074771 0.957526464594254 0.8895522388059701\n",
            "Epoch: 397 / 500, ############## the best accuracy in val  94.6330 at Epoch: 187  ##############\n",
            "Performance in Val: Loss: (0.0483); Accuracy (94.54)\n"
          ]
        },
        {
          "name": "stderr",
          "output_type": "stream",
          "text": [
            "Epoch 398: 100%|██████████| 1496/1496 [00:22<00:00, 67.77batch/s, train_loss=tensor(0.0044, device='cuda:0', grad_fn=<MseLossBackward0>)]\n"
          ]
        },
        {
          "name": "stdout",
          "output_type": "stream",
          "text": [
            "0.048527272418141365 0.9446698635189967 0.9084015204720755 0.9527622097678142 0.8315863032844165 0.8315863032844165 0.8550127976058494 0.9578901410073434 0.8880597014925373\n",
            "Epoch: 398 / 500, ############## the best accuracy in val  94.6330 at Epoch: 187  ##############\n",
            "Performance in Val: Loss: (0.0485); Accuracy (94.47)\n"
          ]
        },
        {
          "name": "stderr",
          "output_type": "stream",
          "text": [
            "Epoch 399: 100%|██████████| 1496/1496 [00:22<00:00, 67.07batch/s, train_loss=tensor(0.0076, device='cuda:0', grad_fn=<MseLossBackward0>)]\n"
          ]
        },
        {
          "name": "stdout",
          "output_type": "stream",
          "text": [
            "0.048694041642275726 0.9435632607893766 0.9063050844133752 0.9525341914722446 0.827393431167016 0.827393431167016 0.852061973247592 0.9558921094475148 0.8855646970830217\n",
            "Epoch: 399 / 500, ############## the best accuracy in val  94.6330 at Epoch: 187  ##############\n",
            "Performance in Val: Loss: (0.0487); Accuracy (94.36)\n"
          ]
        },
        {
          "name": "stderr",
          "output_type": "stream",
          "text": [
            "Epoch 400: 100%|██████████| 1496/1496 [00:22<00:00, 67.97batch/s, train_loss=tensor(0.0094, device='cuda:0', grad_fn=<MseLossBackward0>)]\n"
          ]
        },
        {
          "name": "stdout",
          "output_type": "stream",
          "text": [
            "0.048327731815251435 0.9426410918480266 0.9054545508666337 0.949438202247191 0.8266946191474493 0.8266946191474493 0.8495590872090089 0.957746911683363 0.8838251774374299\n",
            "Epoch: 400 / 500, ############## the best accuracy in val  94.6330 at Epoch: 187  ##############\n",
            "Performance in Val: Loss: (0.0483); Accuracy (94.26)\n"
          ]
        },
        {
          "name": "stderr",
          "output_type": "stream",
          "text": [
            "Epoch 401: 100%|██████████| 1496/1496 [00:22<00:00, 67.11batch/s, train_loss=tensor(0.0065, device='cuda:0', grad_fn=<MseLossBackward0>)]\n"
          ]
        },
        {
          "name": "stdout",
          "output_type": "stream",
          "text": [
            "0.04813786579126662 0.9448542973072667 0.9091991747329464 0.9513556618819776 0.8336827393431167 0.8336827393431167 0.8554857941221404 0.9572238970247697 0.8886405959031657\n",
            "Epoch: 401 / 500, ############## the best accuracy in val  94.6330 at Epoch: 187  ##############\n",
            "Performance in Val: Loss: (0.0481); Accuracy (94.49)\n"
          ]
        },
        {
          "name": "stderr",
          "output_type": "stream",
          "text": [
            "Epoch 402: 100%|██████████| 1496/1496 [00:22<00:00, 67.53batch/s, train_loss=tensor(0.0051, device='cuda:0', grad_fn=<MseLossBackward0>)]\n"
          ]
        },
        {
          "name": "stdout",
          "output_type": "stream",
          "text": [
            "0.04793086453256282 0.9444854297307267 0.9085003627133796 0.9512779552715654 0.8322851153039832 0.8322851153039832 0.8545016998545761 0.9605920623989581 0.8878121505777116\n",
            "Epoch: 402 / 500, ############## the best accuracy in val  94.6330 at Epoch: 187  ##############\n",
            "Performance in Val: Loss: (0.0479); Accuracy (94.45)\n"
          ]
        },
        {
          "name": "stderr",
          "output_type": "stream",
          "text": [
            "Epoch 403: 100%|██████████| 1496/1496 [00:22<00:00, 66.83batch/s, train_loss=tensor(0.0057, device='cuda:0', grad_fn=<MseLossBackward0>)]\n"
          ]
        },
        {
          "name": "stdout",
          "output_type": "stream",
          "text": [
            "0.04848122029480609 0.9426410918480266 0.9059027991177213 0.948 0.8280922431865828 0.8280922431865828 0.8495433922432172 0.9571859009816113 0.8839985080193957\n",
            "Epoch: 403 / 500, ############## the best accuracy in val  94.6330 at Epoch: 187  ##############\n",
            "Performance in Val: Loss: (0.0485); Accuracy (94.26)\n"
          ]
        },
        {
          "name": "stderr",
          "output_type": "stream",
          "text": [
            "Epoch 404: 100%|██████████| 1496/1496 [00:22<00:00, 67.23batch/s, train_loss=tensor(0.0074, device='cuda:0', grad_fn=<MseLossBackward0>)]\n"
          ]
        },
        {
          "name": "stdout",
          "output_type": "stream",
          "text": [
            "0.04849915172566067 0.9444854297307267 0.9076038662112045 0.9541800643086816 0.8294898672257163 0.8294898672257163 0.8545442635712018 0.9590848276546758 0.8874766355140187\n",
            "Epoch: 404 / 500, ############## the best accuracy in val  94.6330 at Epoch: 187  ##############\n",
            "Performance in Val: Loss: (0.0485); Accuracy (94.45)\n"
          ]
        },
        {
          "name": "stderr",
          "output_type": "stream",
          "text": [
            "Epoch 405: 100%|██████████| 1496/1496 [00:22<00:00, 67.61batch/s, train_loss=tensor(0.0045, device='cuda:0', grad_fn=<MseLossBackward0>)]\n"
          ]
        },
        {
          "name": "stdout",
          "output_type": "stream",
          "text": [
            "0.04832112306559628 0.9443009959424566 0.9079268325780525 0.9519615692554043 0.8308874912648497 0.8308874912648497 0.8540190103550355 0.9588234078738658 0.8873134328358209\n",
            "Epoch: 405 / 500, ############## the best accuracy in val  94.6330 at Epoch: 187  ##############\n",
            "Performance in Val: Loss: (0.0483); Accuracy (94.43)\n"
          ]
        },
        {
          "name": "stderr",
          "output_type": "stream",
          "text": [
            "Epoch 406: 100%|██████████| 1496/1496 [00:22<00:00, 67.47batch/s, train_loss=tensor(0.0075, device='cuda:0', grad_fn=<MseLossBackward0>)]\n"
          ]
        },
        {
          "name": "stdout",
          "output_type": "stream",
          "text": [
            "0.04859786971726201 0.9430099594245666 0.9054809905095689 0.9516908212560387 0.8259958071278826 0.8259958071278826 0.8505742606852914 0.9584812683884651 0.8843995510662177\n",
            "Epoch: 406 / 500, ############## the best accuracy in val  94.6330 at Epoch: 187  ##############\n",
            "Performance in Val: Loss: (0.0486); Accuracy (94.30)\n"
          ]
        },
        {
          "name": "stderr",
          "output_type": "stream",
          "text": [
            "Epoch 407: 100%|██████████| 1496/1496 [00:22<00:00, 66.46batch/s, train_loss=tensor(0.0036, device='cuda:0', grad_fn=<MseLossBackward0>)]\n"
          ]
        },
        {
          "name": "stdout",
          "output_type": "stream",
          "text": [
            "0.04883608442138542 0.9448542973072667 0.9091991747329464 0.9513556618819776 0.8336827393431167 0.8336827393431167 0.8554857941221404 0.9571883523392343 0.8886405959031657\n",
            "Epoch: 407 / 500, ############## the best accuracy in val  94.6330 at Epoch: 187  ##############\n",
            "Performance in Val: Loss: (0.0488); Accuracy (94.49)\n"
          ]
        },
        {
          "name": "stderr",
          "output_type": "stream",
          "text": [
            "Epoch 408: 100%|██████████| 1496/1496 [00:22<00:00, 67.34batch/s, train_loss=tensor(0.0048, device='cuda:0', grad_fn=<MseLossBackward0>)]\n"
          ]
        },
        {
          "name": "stdout",
          "output_type": "stream",
          "text": [
            "0.04831803801723502 0.9457764662486168 0.9096014600286004 0.9558941459502807 0.83298392732355 0.83298392732355 0.858006752601522 0.959460935952854 0.890216579536968\n",
            "Epoch: 408 / 500, ############## the best accuracy in val  94.6330 at Epoch: 187  ##############\n",
            "Performance in Val: Loss: (0.0483); Accuracy (94.58)\n"
          ]
        },
        {
          "name": "stderr",
          "output_type": "stream",
          "text": [
            "Epoch 409: 100%|██████████| 1496/1496 [00:23<00:00, 65.02batch/s, train_loss=tensor(0.0074, device='cuda:0', grad_fn=<MseLossBackward0>)]\n"
          ]
        },
        {
          "name": "stdout",
          "output_type": "stream",
          "text": [
            "0.04884266463870352 0.9431943932128366 0.9060545206448961 0.951004016064257 0.827393431167016 0.827393431167016 0.8510559512426213 0.9570526521850964 0.8849028400597908\n",
            "Epoch: 409 / 500, ############## the best accuracy in val  94.6330 at Epoch: 187  ##############\n",
            "Performance in Val: Loss: (0.0488); Accuracy (94.32)\n"
          ]
        },
        {
          "name": "stderr",
          "output_type": "stream",
          "text": [
            "Epoch 410: 100%|██████████| 1496/1496 [00:23<00:00, 64.90batch/s, train_loss=tensor(0.0053, device='cuda:0', grad_fn=<MseLossBackward0>)]\n"
          ]
        },
        {
          "name": "stdout",
          "output_type": "stream",
          "text": [
            "0.04835949872027744 0.9448542973072667 0.908526802356315 0.9535256410256411 0.8315863032844165 0.8315863032844165 0.8555151724596395 0.9579288374383943 0.8883911907428145\n",
            "Epoch: 410 / 500, ############## the best accuracy in val  94.6330 at Epoch: 187  ##############\n",
            "Performance in Val: Loss: (0.0484); Accuracy (94.49)\n"
          ]
        },
        {
          "name": "stderr",
          "output_type": "stream",
          "text": [
            "Epoch 411: 100%|██████████| 1496/1496 [00:23<00:00, 64.73batch/s, train_loss=tensor(0.0114, device='cuda:0', grad_fn=<MseLossBackward0>)]\n"
          ]
        },
        {
          "name": "stdout",
          "output_type": "stream",
          "text": [
            "0.04856582832607356 0.9446698635189967 0.9079532722209878 0.9542168674698795 0.8301886792452831 0.8301886792452831 0.8550355740435143 0.9560194049469447 0.8878923766816144\n",
            "Epoch: 411 / 500, ############## the best accuracy in val  94.6330 at Epoch: 187  ##############\n",
            "Performance in Val: Loss: (0.0486); Accuracy (94.47)\n"
          ]
        },
        {
          "name": "stderr",
          "output_type": "stream",
          "text": [
            "Epoch 412: 100%|██████████| 1496/1496 [00:22<00:00, 65.68batch/s, train_loss=tensor(0.0049, device='cuda:0', grad_fn=<MseLossBackward0>)]\n"
          ]
        },
        {
          "name": "stdout",
          "output_type": "stream",
          "text": [
            "0.04898808625611392 0.9430099594245666 0.9063774870117443 0.9488 0.8287910552061496 0.8287910552061496 0.8505369009468319 0.9561936264351604 0.8847444983215219\n",
            "Epoch: 412 / 500, ############## the best accuracy in val  94.6330 at Epoch: 187  ##############\n",
            "Performance in Val: Loss: (0.0490); Accuracy (94.30)\n"
          ]
        },
        {
          "name": "stderr",
          "output_type": "stream",
          "text": [
            "Epoch 413: 100%|██████████| 1496/1496 [00:23<00:00, 64.88batch/s, train_loss=tensor(0.0062, device='cuda:0', grad_fn=<MseLossBackward0>)]\n"
          ]
        },
        {
          "name": "stdout",
          "output_type": "stream",
          "text": [
            "0.048701629296622494 0.9435632607893766 0.9072015809155506 0.9496402877697842 0.8301886792452831 0.8301886792452831 0.8520231247317872 0.956652380504633 0.8859060402684563\n",
            "Epoch: 413 / 500, ############## the best accuracy in val  94.6330 at Epoch: 187  ##############\n",
            "Performance in Val: Loss: (0.0487); Accuracy (94.36)\n"
          ]
        },
        {
          "name": "stderr",
          "output_type": "stream",
          "text": [
            "Epoch 414: 100%|██████████| 1496/1496 [00:22<00:00, 65.50batch/s, train_loss=tensor(0.0089, device='cuda:0', grad_fn=<MseLossBackward0>)]\n"
          ]
        },
        {
          "name": "stdout",
          "output_type": "stream",
          "text": [
            "0.0485133912244981 0.9463297676134268 0.9104255539324067 0.9567307692307693 0.8343815513626834 0.8343815513626834 0.8594914373526862 0.9557045805893449 0.891377379619261\n",
            "Epoch: 414 / 500, ############## the best accuracy in val  94.6330 at Epoch: 187  ##############\n",
            "Performance in Val: Loss: (0.0485); Accuracy (94.63)\n"
          ]
        },
        {
          "name": "stderr",
          "output_type": "stream",
          "text": [
            "Epoch 415: 100%|██████████| 1496/1496 [00:23<00:00, 63.98batch/s, train_loss=tensor(0.0059, device='cuda:0', grad_fn=<MseLossBackward0>)]\n"
          ]
        },
        {
          "name": "stdout",
          "output_type": "stream",
          "text": [
            "0.048736066557466984 0.9444854297307267 0.9080521144622921 0.9527243589743589 0.8308874912648497 0.8308874912648497 0.8545211062363778 0.9563461358987141 0.8876446435237029\n",
            "Epoch: 415 / 500, ############## the best accuracy in val  94.6330 at Epoch: 187  ##############\n",
            "Performance in Val: Loss: (0.0487); Accuracy (94.45)\n"
          ]
        },
        {
          "name": "stderr",
          "output_type": "stream",
          "text": [
            "Epoch 416: 100%|██████████| 1496/1496 [00:22<00:00, 65.74batch/s, train_loss=tensor(0.0070, device='cuda:0', grad_fn=<MseLossBackward0>)]\n"
          ]
        },
        {
          "name": "stdout",
          "output_type": "stream",
          "text": [
            "0.04832310254939578 0.9441165621541866 0.9073533024427254 0.9526484751203852 0.8294898672257163 0.8294898672257163 0.8535375889976142 0.9582251015168475 0.8868135973104221\n",
            "Epoch: 416 / 500, ############## the best accuracy in val  94.6330 at Epoch: 187  ##############\n",
            "Performance in Val: Loss: (0.0483); Accuracy (94.41)\n"
          ]
        },
        {
          "name": "stderr",
          "output_type": "stream",
          "text": [
            "Epoch 417: 100%|██████████| 1496/1496 [00:23<00:00, 64.54batch/s, train_loss=tensor(0.0063, device='cuda:0', grad_fn=<MseLossBackward0>)]\n"
          ]
        },
        {
          "name": "stdout",
          "output_type": "stream",
          "text": [
            "0.04845674793151292 0.9446698635189967 0.9081773963465316 0.9534883720930233 0.8308874912648497 0.8308874912648497 0.8550237157362134 0.9563993653785308 0.8879761015683346\n",
            "Epoch: 417 / 500, ############## the best accuracy in val  94.6330 at Epoch: 187  ##############\n",
            "Performance in Val: Loss: (0.0485); Accuracy (94.47)\n"
          ]
        },
        {
          "name": "stderr",
          "output_type": "stream",
          "text": [
            "Epoch 418: 100%|██████████| 1496/1496 [00:22<00:00, 65.79batch/s, train_loss=tensor(0.0063, device='cuda:0', grad_fn=<MseLossBackward0>)]\n"
          ]
        },
        {
          "name": "stdout",
          "output_type": "stream",
          "text": [
            "0.0483476941219785 0.9435632607893766 0.9069774567900067 0.9503602882305845 0.8294898672257163 0.8294898672257163 0.8520314358534078 0.9571214652955174 0.885820895522388\n",
            "Epoch: 418 / 500, ############## the best accuracy in val  94.6330 at Epoch: 187  ##############\n",
            "Performance in Val: Loss: (0.0483); Accuracy (94.36)\n"
          ]
        },
        {
          "name": "stderr",
          "output_type": "stream",
          "text": [
            "Epoch 419: 100%|██████████| 1496/1496 [00:22<00:00, 65.09batch/s, train_loss=tensor(0.0081, device='cuda:0', grad_fn=<MseLossBackward0>)]\n"
          ]
        },
        {
          "name": "stdout",
          "output_type": "stream",
          "text": [
            "0.04868416725234552 0.9452231648838068 0.9098979867525132 0.9514331210191083 0.8350803633822502 0.8350803633822502 0.8564697117957816 0.95572419145033 0.8894678079642726\n",
            "Epoch: 419 / 500, ############## the best accuracy in val  94.6330 at Epoch: 187  ##############\n",
            "Performance in Val: Loss: (0.0487); Accuracy (94.52)\n"
          ]
        },
        {
          "name": "stderr",
          "output_type": "stream",
          "text": [
            "Epoch 420: 100%|██████████| 1496/1496 [00:22<00:00, 65.97batch/s, train_loss=tensor(0.0033, device='cuda:0', grad_fn=<MseLossBackward0>)]\n"
          ]
        },
        {
          "name": "stdout",
          "output_type": "stream",
          "text": [
            "0.048151404512199486 0.9444854297307267 0.9085003627133796 0.9512779552715654 0.8322851153039832 0.8322851153039832 0.8545016998545761 0.958260646202383 0.8878121505777116\n",
            "Epoch: 420 / 500, ############## the best accuracy in val  94.6330 at Epoch: 187  ##############\n",
            "Performance in Val: Loss: (0.0482); Accuracy (94.45)\n"
          ]
        },
        {
          "name": "stderr",
          "output_type": "stream",
          "text": [
            "Epoch 421: 100%|██████████| 1496/1496 [00:22<00:00, 65.21batch/s, train_loss=tensor(0.0060, device='cuda:0', grad_fn=<MseLossBackward0>)]\n"
          ]
        },
        {
          "name": "stdout",
          "output_type": "stream",
          "text": [
            "0.04846652199260213 0.9446698635189967 0.9084015204720755 0.9527622097678142 0.8315863032844165 0.8315863032844165 0.8550127976058494 0.9575768925225012 0.8880597014925373\n",
            "Epoch: 421 / 500, ############## the best accuracy in val  94.6330 at Epoch: 187  ##############\n",
            "Performance in Val: Loss: (0.0485); Accuracy (94.47)\n"
          ]
        },
        {
          "name": "stderr",
          "output_type": "stream",
          "text": [
            "Epoch 422: 100%|██████████| 1496/1496 [00:22<00:00, 65.56batch/s, train_loss=tensor(0.0083, device='cuda:0', grad_fn=<MseLossBackward0>)]\n"
          ]
        },
        {
          "name": "stdout",
          "output_type": "stream",
          "text": [
            "0.04869307560676878 0.9444854297307267 0.9073797420856606 0.9549114331723028 0.8287910552061496 0.8287910552061496 0.8545572568203988 0.9566926528084416 0.8873924429479986\n",
            "Epoch: 422 / 500, ############## the best accuracy in val  94.6330 at Epoch: 187  ##############\n",
            "Performance in Val: Loss: (0.0487); Accuracy (94.45)\n"
          ]
        },
        {
          "name": "stderr",
          "output_type": "stream",
          "text": [
            "Epoch 423: 100%|██████████| 1496/1496 [00:23<00:00, 64.84batch/s, train_loss=tensor(0.0059, device='cuda:0', grad_fn=<MseLossBackward0>)]\n"
          ]
        },
        {
          "name": "stdout",
          "output_type": "stream",
          "text": [
            "0.04807580922814933 0.9441165621541866 0.9071291783171815 0.9533762057877814 0.8287910552061496 0.8287910552061496 0.853549077189398 0.9573706282882117 0.8867289719626168\n",
            "Epoch: 423 / 500, ############## the best accuracy in val  94.6330 at Epoch: 187  ##############\n",
            "Performance in Val: Loss: (0.0481); Accuracy (94.41)\n"
          ]
        },
        {
          "name": "stderr",
          "output_type": "stream",
          "text": [
            "Epoch 424: 100%|██████████| 1496/1496 [00:23<00:00, 64.77batch/s, train_loss=tensor(0.0065, device='cuda:0', grad_fn=<MseLossBackward0>)]\n"
          ]
        },
        {
          "name": "stdout",
          "output_type": "stream",
          "text": [
            "0.04830470359460874 0.9444854297307267 0.9071556179601168 0.9556451612903226 0.8280922431865828 0.8280922431865828 0.8545711974171778 0.9573240524933722 0.8873081242980158\n",
            "Epoch: 424 / 500, ############## the best accuracy in val  94.6330 at Epoch: 187  ##############\n",
            "Performance in Val: Loss: (0.0483); Accuracy (94.45)\n"
          ]
        },
        {
          "name": "stderr",
          "output_type": "stream",
          "text": [
            "Epoch 425: 100%|██████████| 1496/1496 [00:23<00:00, 64.76batch/s, train_loss=tensor(0.0078, device='cuda:0', grad_fn=<MseLossBackward0>)]\n"
          ]
        },
        {
          "name": "stdout",
          "output_type": "stream",
          "text": [
            "0.04817918679592284 0.9448542973072667 0.908526802356315 0.9535256410256411 0.8315863032844165 0.8315863032844165 0.8555151724596395 0.956866173908765 0.8883911907428145\n",
            "Epoch: 425 / 500, ############## the best accuracy in val  94.6330 at Epoch: 187  ##############\n",
            "Performance in Val: Loss: (0.0482); Accuracy (94.49)\n"
          ]
        },
        {
          "name": "stderr",
          "output_type": "stream",
          "text": [
            "Epoch 426: 100%|██████████| 1496/1496 [00:22<00:00, 65.64batch/s, train_loss=tensor(0.0082, device='cuda:0', grad_fn=<MseLossBackward0>)]\n"
          ]
        },
        {
          "name": "stdout",
          "output_type": "stream",
          "text": [
            "0.04884714573960413 0.9433788270011066 0.9077486714079425 0.9467408585055644 0.8322851153039832 0.8322851153039832 0.8515056815746794 0.9567726721251397 0.8858311640014875\n",
            "Epoch: 426 / 500, ############## the best accuracy in val  94.6330 at Epoch: 187  ##############\n",
            "Performance in Val: Loss: (0.0488); Accuracy (94.34)\n"
          ]
        },
        {
          "name": "stderr",
          "output_type": "stream",
          "text": [
            "Epoch 427: 100%|██████████| 1496/1496 [00:23<00:00, 64.48batch/s, train_loss=tensor(0.0075, device='cuda:0', grad_fn=<MseLossBackward0>)]\n"
          ]
        },
        {
          "name": "stdout",
          "output_type": "stream",
          "text": [
            "0.04848424861715599 0.9422722242714865 0.9043074905959794 0.9508064516129032 0.8238993710691824 0.8238993710691824 0.8485933169591806 0.9577917365084718 0.8828154249344816\n",
            "Epoch: 427 / 500, ############## the best accuracy in val  94.6330 at Epoch: 187  ##############\n",
            "Performance in Val: Loss: (0.0485); Accuracy (94.23)\n"
          ]
        },
        {
          "name": "stderr",
          "output_type": "stream",
          "text": [
            "Epoch 428: 100%|██████████| 1496/1496 [00:22<00:00, 65.33batch/s, train_loss=tensor(0.0063, device='cuda:0', grad_fn=<MseLossBackward0>)]\n"
          ]
        },
        {
          "name": "stdout",
          "output_type": "stream",
          "text": [
            "0.047848569229245186 0.9448542973072667 0.9091991747329464 0.9513556618819776 0.8336827393431167 0.8336827393431167 0.8554857941221404 0.9596039901798614 0.8886405959031657\n",
            "Epoch: 428 / 500, ############## the best accuracy in val  94.6330 at Epoch: 187  ##############\n",
            "Performance in Val: Loss: (0.0478); Accuracy (94.49)\n"
          ]
        },
        {
          "name": "stderr",
          "output_type": "stream",
          "text": [
            "Epoch 429: 100%|██████████| 1496/1496 [00:23<00:00, 64.43batch/s, train_loss=tensor(0.0055, device='cuda:0', grad_fn=<MseLossBackward0>)]\n"
          ]
        },
        {
          "name": "stdout",
          "output_type": "stream",
          "text": [
            "0.04853665388443253 0.9437476945776466 0.9064303662976148 0.9533011272141707 0.827393431167016 0.827393431167016 0.8525657587528451 0.9568421856234529 0.8858959970071081\n",
            "Epoch: 429 / 500, ############## the best accuracy in val  94.6330 at Epoch: 187  ##############\n",
            "Performance in Val: Loss: (0.0485); Accuracy (94.37)\n"
          ]
        },
        {
          "name": "stderr",
          "output_type": "stream",
          "text": [
            "Epoch 430: 100%|██████████| 1496/1496 [00:22<00:00, 65.26batch/s, train_loss=tensor(0.0066, device='cuda:0', grad_fn=<MseLossBackward0>)]\n"
          ]
        },
        {
          "name": "stdout",
          "output_type": "stream",
          "text": [
            "0.04882165704938499 0.9448542973072667 0.9087509264818587 0.9528 0.8322851153039832 0.8322851153039832 0.8555044444649051 0.9570076522630144 0.8884744498321522\n",
            "Epoch: 430 / 500, ############## the best accuracy in val  94.6330 at Epoch: 187  ##############\n",
            "Performance in Val: Loss: (0.0488); Accuracy (94.49)\n"
          ]
        },
        {
          "name": "stderr",
          "output_type": "stream",
          "text": [
            "Epoch 431: 100%|██████████| 1496/1496 [00:23<00:00, 64.85batch/s, train_loss=tensor(0.0075, device='cuda:0', grad_fn=<MseLossBackward0>)]\n"
          ]
        },
        {
          "name": "stdout",
          "output_type": "stream",
          "text": [
            "0.048665873960337856 0.9431943932128366 0.9065027688959839 0.9495596477181746 0.8287910552061496 0.8287910552061496 0.8510376486025939 0.9577353552831398 0.8850746268656717\n",
            "Epoch: 431 / 500, ############## the best accuracy in val  94.6330 at Epoch: 187  ##############\n",
            "Performance in Val: Loss: (0.0487); Accuracy (94.32)\n"
          ]
        },
        {
          "name": "stderr",
          "output_type": "stream",
          "text": [
            "Epoch 432: 100%|██████████| 1496/1496 [00:22<00:00, 65.23batch/s, train_loss=tensor(0.0046, device='cuda:0', grad_fn=<MseLossBackward0>)]\n"
          ]
        },
        {
          "name": "stdout",
          "output_type": "stream",
          "text": [
            "0.04875105018304153 0.9444854297307267 0.9082762385878359 0.952 0.8315863032844165 0.8315863032844165 0.8545109357612904 0.9558956113869763 0.8877284595300261\n",
            "Epoch: 432 / 500, ############## the best accuracy in val  94.6330 at Epoch: 187  ##############\n",
            "Performance in Val: Loss: (0.0488); Accuracy (94.45)\n"
          ]
        },
        {
          "name": "stderr",
          "output_type": "stream",
          "text": [
            "Epoch 433: 100%|██████████| 1496/1496 [00:23<00:00, 64.90batch/s, train_loss=tensor(0.0070, device='cuda:0', grad_fn=<MseLossBackward0>)]\n"
          ]
        },
        {
          "name": "stdout",
          "output_type": "stream",
          "text": [
            "0.04883825084702535 0.9431943932128366 0.9073992653981591 0.9466984884645983 0.8315863032844165 0.8315863032844165 0.8510121807380276 0.9569080220853314 0.8854166666666666\n",
            "Epoch: 433 / 500, ############## the best accuracy in val  94.6330 at Epoch: 187  ##############\n",
            "Performance in Val: Loss: (0.0488); Accuracy (94.32)\n"
          ]
        },
        {
          "name": "stderr",
          "output_type": "stream",
          "text": [
            "Epoch 434: 100%|██████████| 1496/1496 [00:22<00:00, 65.59batch/s, train_loss=tensor(0.0090, device='cuda:0', grad_fn=<MseLossBackward0>)]\n"
          ]
        },
        {
          "name": "stdout",
          "output_type": "stream",
          "text": [
            "0.04795580238781192 0.9459609000368867 0.9103991142894714 0.9544728434504792 0.8350803633822502 0.8350803633822502 0.858473511381486 0.9584520271939607 0.8907938874394336\n",
            "Epoch: 434 / 500, ############## the best accuracy in val  94.6330 at Epoch: 187  ##############\n",
            "Performance in Val: Loss: (0.0480); Accuracy (94.60)\n"
          ]
        },
        {
          "name": "stderr",
          "output_type": "stream",
          "text": [
            "Epoch 435: 100%|██████████| 1496/1496 [00:22<00:00, 65.14batch/s, train_loss=tensor(0.0057, device='cuda:0', grad_fn=<MseLossBackward0>)]\n"
          ]
        },
        {
          "name": "stdout",
          "output_type": "stream",
          "text": [
            "0.04906658591194586 0.9437476945776466 0.9073268627997901 0.9504 0.8301886792452831 0.8301886792452831 0.8525239183540612 0.9563210970315635 0.8862364789257741\n",
            "Epoch: 435 / 500, ############## the best accuracy in val  94.6330 at Epoch: 187  ##############\n",
            "Performance in Val: Loss: (0.0491); Accuracy (94.37)\n"
          ]
        },
        {
          "name": "stderr",
          "output_type": "stream",
          "text": [
            "Epoch 436: 100%|██████████| 1496/1496 [00:22<00:00, 65.43batch/s, train_loss=tensor(0.0113, device='cuda:0', grad_fn=<MseLossBackward0>)]\n"
          ]
        },
        {
          "name": "stdout",
          "output_type": "stream",
          "text": [
            "0.04841389591720971 0.9444854297307267 0.9085003627133796 0.9512779552715654 0.8322851153039832 0.8322851153039832 0.8545016998545761 0.9567458822882584 0.8878121505777116\n",
            "Epoch: 436 / 500, ############## the best accuracy in val  94.6330 at Epoch: 187  ##############\n",
            "Performance in Val: Loss: (0.0484); Accuracy (94.45)\n"
          ]
        },
        {
          "name": "stderr",
          "output_type": "stream",
          "text": [
            "Epoch 437: 100%|██████████| 1496/1496 [00:23<00:00, 64.54batch/s, train_loss=tensor(0.0073, device='cuda:0', grad_fn=<MseLossBackward0>)]\n"
          ]
        },
        {
          "name": "stdout",
          "output_type": "stream",
          "text": [
            "0.04859892185777426 0.9441165621541866 0.9073533024427254 0.9526484751203852 0.8294898672257163 0.8294898672257163 0.8535375889976142 0.9567805514889284 0.8868135973104221\n",
            "Epoch: 437 / 500, ############## the best accuracy in val  94.6330 at Epoch: 187  ##############\n",
            "Performance in Val: Loss: (0.0486); Accuracy (94.41)\n"
          ]
        },
        {
          "name": "stderr",
          "output_type": "stream",
          "text": [
            "Epoch 438: 100%|██████████| 1496/1496 [00:22<00:00, 65.42batch/s, train_loss=tensor(0.0047, device='cuda:0', grad_fn=<MseLossBackward0>)]\n"
          ]
        },
        {
          "name": "stdout",
          "output_type": "stream",
          "text": [
            "0.04866172771223567 0.9441165621541866 0.9080256748193569 0.950479233226837 0.8315863032844165 0.8315863032844165 0.8535087469728486 0.9570442475303885 0.8870667163622811\n",
            "Epoch: 438 / 500, ############## the best accuracy in val  94.6330 at Epoch: 187  ##############\n",
            "Performance in Val: Loss: (0.0487); Accuracy (94.41)\n"
          ]
        },
        {
          "name": "stderr",
          "output_type": "stream",
          "text": [
            "Epoch 439: 100%|██████████| 1496/1496 [00:23<00:00, 64.64batch/s, train_loss=tensor(0.0082, device='cuda:0', grad_fn=<MseLossBackward0>)]\n"
          ]
        },
        {
          "name": "stdout",
          "output_type": "stream",
          "text": [
            "0.04897675697099079 0.9428255256362966 0.9062522051275048 0.9480415667466027 0.8287910552061496 0.8287910552061496 0.8500366635700776 0.9568782555999077 0.8844146159582401\n",
            "Epoch: 439 / 500, ############## the best accuracy in val  94.6330 at Epoch: 187  ##############\n",
            "Performance in Val: Loss: (0.0490); Accuracy (94.28)\n"
          ]
        },
        {
          "name": "stderr",
          "output_type": "stream",
          "text": [
            "Epoch 440: 100%|██████████| 1496/1496 [00:22<00:00, 65.06batch/s, train_loss=tensor(0.0060, device='cuda:0', grad_fn=<MseLossBackward0>)]\n"
          ]
        },
        {
          "name": "stdout",
          "output_type": "stream",
          "text": [
            "0.04827223735099489 0.9452231648838068 0.9094497385014255 0.9528753993610224 0.8336827393431167 0.8336827393431167 0.8564876056180311 0.9561512529676748 0.8893030190085724\n",
            "Epoch: 440 / 500, ############## the best accuracy in val  94.6330 at Epoch: 187  ##############\n",
            "Performance in Val: Loss: (0.0483); Accuracy (94.52)\n"
          ]
        },
        {
          "name": "stderr",
          "output_type": "stream",
          "text": [
            "Epoch 441: 100%|██████████| 1496/1496 [00:23<00:00, 64.52batch/s, train_loss=tensor(0.0062, device='cuda:0', grad_fn=<MseLossBackward0>)]\n"
          ]
        },
        {
          "name": "stdout",
          "output_type": "stream",
          "text": [
            "0.0483687673272057 0.9457764662486168 0.9098255841541442 0.9551641313050441 0.8336827393431167 0.8336827393431167 0.857994159358291 0.9554470129419425 0.8902985074626866\n",
            "Epoch: 441 / 500, ############## the best accuracy in val  94.6330 at Epoch: 187  ##############\n",
            "Performance in Val: Loss: (0.0484); Accuracy (94.58)\n"
          ]
        },
        {
          "name": "stderr",
          "output_type": "stream",
          "text": [
            "Epoch 442: 100%|██████████| 1496/1496 [00:22<00:00, 65.08batch/s, train_loss=tensor(0.0065, device='cuda:0', grad_fn=<MseLossBackward0>)]\n"
          ]
        },
        {
          "name": "stdout",
          "output_type": "stream",
          "text": [
            "0.047937381165948784 0.9443009959424566 0.9088233290802279 0.949085123309467 0.8336827393431167 0.8336827393431167 0.8539868928755243 0.9584126303750174 0.8876488095238094\n",
            "Epoch: 442 / 500, ############## the best accuracy in val  94.6330 at Epoch: 187  ##############\n",
            "Performance in Val: Loss: (0.0479); Accuracy (94.43)\n"
          ]
        },
        {
          "name": "stderr",
          "output_type": "stream",
          "text": [
            "Epoch 443: 100%|██████████| 1496/1496 [00:23<00:00, 64.52batch/s, train_loss=tensor(0.0094, device='cuda:0', grad_fn=<MseLossBackward0>)]\n"
          ]
        },
        {
          "name": "stdout",
          "output_type": "stream",
          "text": [
            "0.04834206266836687 0.9448542973072667 0.9089750506074026 0.952076677316294 0.83298392732355 0.83298392732355 0.8554946527363035 0.9577369311558974 0.8885575847931421\n",
            "Epoch: 443 / 500, ############## the best accuracy in val  94.6330 at Epoch: 187  ##############\n",
            "Performance in Val: Loss: (0.0483); Accuracy (94.49)\n"
          ]
        },
        {
          "name": "stderr",
          "output_type": "stream",
          "text": [
            "Epoch 444: 100%|██████████| 1496/1496 [00:22<00:00, 65.21batch/s, train_loss=tensor(0.0138, device='cuda:0', grad_fn=<MseLossBackward0>)]\n"
          ]
        },
        {
          "name": "stdout",
          "output_type": "stream",
          "text": [
            "0.04809461728754369 0.9444854297307267 0.9082762385878359 0.952 0.8315863032844165 0.8315863032844165 0.8545109357612904 0.956607205485578 0.8877284595300261\n",
            "Epoch: 444 / 500, ############## the best accuracy in val  94.6330 at Epoch: 187  ##############\n",
            "Performance in Val: Loss: (0.0481); Accuracy (94.45)\n"
          ]
        },
        {
          "name": "stderr",
          "output_type": "stream",
          "text": [
            "Epoch 445: 100%|██████████| 1496/1496 [00:22<00:00, 65.06batch/s, train_loss=tensor(0.0065, device='cuda:0', grad_fn=<MseLossBackward0>)]\n"
          ]
        },
        {
          "name": "stdout",
          "output_type": "stream",
          "text": [
            "0.048447657376527786 0.9443009959424566 0.9074785843269648 0.9534136546184739 0.8294898672257163 0.8294898672257163 0.8540406683432911 0.9560533737597224 0.8871449925261584\n",
            "Epoch: 445 / 500, ############## the best accuracy in val  94.6330 at Epoch: 187  ##############\n",
            "Performance in Val: Loss: (0.0484); Accuracy (94.43)\n"
          ]
        },
        {
          "name": "stderr",
          "output_type": "stream",
          "text": [
            "Epoch 446: 100%|██████████| 1496/1496 [00:22<00:00, 67.36batch/s, train_loss=tensor(0.0047, device='cuda:0', grad_fn=<MseLossBackward0>)]\n"
          ]
        },
        {
          "name": "stdout",
          "output_type": "stream",
          "text": [
            "0.0478532916273583 0.9450387310955367 0.9088762083660984 0.9535628502802241 0.8322851153039832 0.8322851153039832 0.8560065848566633 0.9583375137735657 0.8888059701492538\n",
            "Epoch: 446 / 500, ############## the best accuracy in val  94.6330 at Epoch: 187  ##############\n",
            "Performance in Val: Loss: (0.0479); Accuracy (94.50)\n"
          ]
        },
        {
          "name": "stderr",
          "output_type": "stream",
          "text": [
            "Epoch 447: 100%|██████████| 1496/1496 [00:22<00:00, 67.32batch/s, train_loss=tensor(0.0056, device='cuda:0', grad_fn=<MseLossBackward0>)]\n"
          ]
        },
        {
          "name": "stdout",
          "output_type": "stream",
          "text": [
            "0.04853688519109379 0.9459609000368867 0.9103991142894714 0.9544728434504792 0.8350803633822502 0.8350803633822502 0.858473511381486 0.9560563504082648 0.8907938874394336\n",
            "Epoch: 447 / 500, ############## the best accuracy in val  94.6330 at Epoch: 187  ##############\n",
            "Performance in Val: Loss: (0.0485); Accuracy (94.60)\n"
          ]
        },
        {
          "name": "stderr",
          "output_type": "stream",
          "text": [
            "Epoch 448: 100%|██████████| 1496/1496 [00:22<00:00, 67.97batch/s, train_loss=tensor(0.0113, device='cuda:0', grad_fn=<MseLossBackward0>)]\n"
          ]
        },
        {
          "name": "stdout",
          "output_type": "stream",
          "text": [
            "0.04861878916959871 0.9444854297307267 0.9078279903367483 0.9534510433386838 0.8301886792452831 0.8301886792452831 0.8545322144447655 0.9564867387680982 0.8875607022786701\n",
            "Epoch: 448 / 500, ############## the best accuracy in val  94.6330 at Epoch: 187  ##############\n",
            "Performance in Val: Loss: (0.0486); Accuracy (94.45)\n"
          ]
        },
        {
          "name": "stderr",
          "output_type": "stream",
          "text": [
            "Epoch 449: 100%|██████████| 1496/1496 [00:22<00:00, 67.12batch/s, train_loss=tensor(0.0051, device='cuda:0', grad_fn=<MseLossBackward0>)]\n"
          ]
        },
        {
          "name": "stdout",
          "output_type": "stream",
          "text": [
            "0.04907627793198282 0.9446698635189967 0.9084015204720755 0.9527622097678142 0.8315863032844165 0.8315863032844165 0.8550127976058494 0.954135886807511 0.8880597014925373\n",
            "Epoch: 449 / 500, ############## the best accuracy in val  94.6330 at Epoch: 187  ##############\n",
            "Performance in Val: Loss: (0.0491); Accuracy (94.47)\n"
          ]
        },
        {
          "name": "stderr",
          "output_type": "stream",
          "text": [
            "Epoch 450: 100%|██████████| 1496/1496 [00:22<00:00, 67.82batch/s, train_loss=tensor(0.0083, device='cuda:0', grad_fn=<MseLossBackward0>)]\n"
          ]
        },
        {
          "name": "stdout",
          "output_type": "stream",
          "text": [
            "0.04882345026866956 0.9450387310955367 0.9084279601150107 0.9550200803212852 0.8308874912648497 0.8308874912648497 0.8560304797437376 0.9545268783484013 0.8886397608370703\n",
            "Epoch: 450 / 500, ############## the best accuracy in val  94.6330 at Epoch: 187  ##############\n",
            "Performance in Val: Loss: (0.0488); Accuracy (94.50)\n"
          ]
        },
        {
          "name": "stderr",
          "output_type": "stream",
          "text": [
            "Epoch 451: 100%|██████████| 1496/1496 [00:22<00:00, 67.61batch/s, train_loss=tensor(0.0085, device='cuda:0', grad_fn=<MseLossBackward0>)]\n"
          ]
        },
        {
          "name": "stdout",
          "output_type": "stream",
          "text": [
            "0.04909021187235008 0.9441165621541866 0.907801550693813 0.9512 0.8308874912648497 0.8308874912648497 0.8535174270576759 0.9561488016100517 0.8869824692278999\n",
            "Epoch: 451 / 500, ############## the best accuracy in val  94.6330 at Epoch: 187  ##############\n",
            "Performance in Val: Loss: (0.0491); Accuracy (94.41)\n"
          ]
        },
        {
          "name": "stderr",
          "output_type": "stream",
          "text": [
            "Epoch 452: 100%|██████████| 1496/1496 [00:21<00:00, 68.19batch/s, train_loss=tensor(0.0058, device='cuda:0', grad_fn=<MseLossBackward0>)]\n"
          ]
        },
        {
          "name": "stdout",
          "output_type": "stream",
          "text": [
            "0.048918172124434604 0.9435632607893766 0.9067533326644629 0.9510825982357658 0.8287910552061496 0.8287910552061496 0.8520406788709047 0.9564506687916436 0.8857356235997011\n",
            "Epoch: 452 / 500, ############## the best accuracy in val  94.6330 at Epoch: 187  ##############\n",
            "Performance in Val: Loss: (0.0489); Accuracy (94.36)\n"
          ]
        },
        {
          "name": "stderr",
          "output_type": "stream",
          "text": [
            "Epoch 453: 100%|██████████| 1496/1496 [00:22<00:00, 67.08batch/s, train_loss=tensor(0.0105, device='cuda:0', grad_fn=<MseLossBackward0>)]\n"
          ]
        },
        {
          "name": "stdout",
          "output_type": "stream",
          "text": [
            "0.04843014275485819 0.9435632607893766 0.9076498291666382 0.9482071713147411 0.8315863032844165 0.8315863032844165 0.8520092856400527 0.9570234109905918 0.8860759493670887\n",
            "Epoch: 453 / 500, ############## the best accuracy in val  94.6330 at Epoch: 187  ##############\n",
            "Performance in Val: Loss: (0.0484); Accuracy (94.36)\n"
          ]
        },
        {
          "name": "stderr",
          "output_type": "stream",
          "text": [
            "Epoch 454: 100%|██████████| 1496/1496 [00:22<00:00, 67.30batch/s, train_loss=tensor(0.0090, device='cuda:0', grad_fn=<MseLossBackward0>)]\n"
          ]
        },
        {
          "name": "stdout",
          "output_type": "stream",
          "text": [
            "0.047957929951900784 0.9452231648838068 0.9090014902503378 0.9543269230769231 0.8322851153039832 0.8322851153039832 0.8565092386829012 0.9566452015287367 0.8891377379619261\n",
            "Epoch: 454 / 500, ############## the best accuracy in val  94.6330 at Epoch: 187  ##############\n",
            "Performance in Val: Loss: (0.0480); Accuracy (94.52)\n"
          ]
        },
        {
          "name": "stderr",
          "output_type": "stream",
          "text": [
            "Epoch 455: 100%|██████████| 1496/1496 [00:22<00:00, 67.63batch/s, train_loss=tensor(0.0068, device='cuda:0', grad_fn=<MseLossBackward0>)]\n"
          ]
        },
        {
          "name": "stdout",
          "output_type": "stream",
          "text": [
            "0.04861026968468319 0.9443009959424566 0.9070303360758772 0.9548751007252216 0.8280922431865828 0.8280922431865828 0.8540660929950906 0.9570223604087533 0.8869760479041916\n",
            "Epoch: 455 / 500, ############## the best accuracy in val  94.6330 at Epoch: 187  ##############\n",
            "Performance in Val: Loss: (0.0486); Accuracy (94.43)\n"
          ]
        },
        {
          "name": "stderr",
          "output_type": "stream",
          "text": [
            "Epoch 456: 100%|██████████| 1496/1496 [00:22<00:00, 67.93batch/s, train_loss=tensor(0.0089, device='cuda:0', grad_fn=<MseLossBackward0>)]\n"
          ]
        },
        {
          "name": "stdout",
          "output_type": "stream",
          "text": [
            "0.04821341349319978 0.9459609000368867 0.9112956107916467 0.9515873015873015 0.8378756114605171 0.8378756114605171 0.8584370250723513 0.9568188977260332 0.8911185432924564\n",
            "Epoch: 456 / 500, ############## the best accuracy in val  94.6330 at Epoch: 187  ##############\n",
            "Performance in Val: Loss: (0.0482); Accuracy (94.60)\n"
          ]
        },
        {
          "name": "stderr",
          "output_type": "stream",
          "text": [
            "Epoch 457: 100%|██████████| 1496/1496 [00:22<00:00, 67.53batch/s, train_loss=tensor(0.0081, device='cuda:0', grad_fn=<MseLossBackward0>)]\n"
          ]
        },
        {
          "name": "stdout",
          "output_type": "stream",
          "text": [
            "0.04853620905090462 0.9446698635189967 0.9079532722209878 0.9542168674698795 0.8301886792452831 0.8301886792452831 0.8550355740435143 0.9550406128674214 0.8878923766816144\n",
            "Epoch: 457 / 500, ############## the best accuracy in val  94.6330 at Epoch: 187  ##############\n",
            "Performance in Val: Loss: (0.0485); Accuracy (94.47)\n"
          ]
        },
        {
          "name": "stderr",
          "output_type": "stream",
          "text": [
            "Epoch 458: 100%|██████████| 1496/1496 [00:21<00:00, 68.20batch/s, train_loss=tensor(0.0069, device='cuda:0', grad_fn=<MseLossBackward0>)]\n"
          ]
        },
        {
          "name": "stdout",
          "output_type": "stream",
          "text": [
            "0.04812934461303733 0.9441165621541866 0.9075774265682692 0.9519230769230769 0.8301886792452831 0.8301886792452831 0.8535270400131162 0.9583861907320821 0.8868980963045913\n",
            "Epoch: 458 / 500, ############## the best accuracy in val  94.6330 at Epoch: 187  ##############\n",
            "Performance in Val: Loss: (0.0481); Accuracy (94.41)\n"
          ]
        },
        {
          "name": "stderr",
          "output_type": "stream",
          "text": [
            "Epoch 459: 100%|██████████| 1496/1496 [00:22<00:00, 67.30batch/s, train_loss=tensor(0.0048, device='cuda:0', grad_fn=<MseLossBackward0>)]\n"
          ]
        },
        {
          "name": "stdout",
          "output_type": "stream",
          "text": [
            "0.04850648021833463 0.9437476945776466 0.9068786145487024 0.9518459069020867 0.8287910552061496 0.8287910552061496 0.8525429635504629 0.9572737996620979 0.886066492342174\n",
            "Epoch: 459 / 500, ############## the best accuracy in val  94.6330 at Epoch: 187  ##############\n",
            "Performance in Val: Loss: (0.0485); Accuracy (94.37)\n"
          ]
        },
        {
          "name": "stderr",
          "output_type": "stream",
          "text": [
            "Epoch 460: 100%|██████████| 1496/1496 [00:21<00:00, 68.14batch/s, train_loss=tensor(0.0054, device='cuda:0', grad_fn=<MseLossBackward0>)]\n"
          ]
        },
        {
          "name": "stdout",
          "output_type": "stream",
          "text": [
            "0.04857961223884062 0.9443009959424566 0.9083750808291402 0.9505187549880287 0.8322851153039832 0.8322851153039832 0.8540010935779897 0.955419872911115 0.8874813710879285\n",
            "Epoch: 460 / 500, ############## the best accuracy in val  94.6330 at Epoch: 187  ##############\n",
            "Performance in Val: Loss: (0.0486); Accuracy (94.43)\n"
          ]
        },
        {
          "name": "stderr",
          "output_type": "stream",
          "text": [
            "Epoch 461: 100%|██████████| 1496/1496 [00:22<00:00, 67.45batch/s, train_loss=tensor(0.0067, device='cuda:0', grad_fn=<MseLossBackward0>)]\n"
          ]
        },
        {
          "name": "stdout",
          "output_type": "stream",
          "text": [
            "0.04863514988259836 0.9446698635189967 0.9077291480954439 0.9549477071600966 0.8294898672257163 0.8294898672257163 0.8550483757257338 0.9570297144816227 0.8878085265519821\n",
            "Epoch: 461 / 500, ############## the best accuracy in val  94.6330 at Epoch: 187  ##############\n",
            "Performance in Val: Loss: (0.0486); Accuracy (94.47)\n"
          ]
        },
        {
          "name": "stderr",
          "output_type": "stream",
          "text": [
            "Epoch 462: 100%|██████████| 1496/1496 [00:21<00:00, 68.01batch/s, train_loss=tensor(0.0098, device='cuda:0', grad_fn=<MseLossBackward0>)]\n"
          ]
        },
        {
          "name": "stdout",
          "output_type": "stream",
          "text": [
            "0.04820404244078831 0.9435632607893766 0.9063050844133752 0.9525341914722446 0.827393431167016 0.827393431167016 0.852061973247592 0.9572809786379941 0.8855646970830217\n",
            "Epoch: 462 / 500, ############## the best accuracy in val  94.6330 at Epoch: 187  ##############\n",
            "Performance in Val: Loss: (0.0482); Accuracy (94.36)\n"
          ]
        },
        {
          "name": "stderr",
          "output_type": "stream",
          "text": [
            "Epoch 463: 100%|██████████| 1496/1496 [00:22<00:00, 67.83batch/s, train_loss=tensor(0.0031, device='cuda:0', grad_fn=<MseLossBackward0>)]\n"
          ]
        },
        {
          "name": "stdout",
          "output_type": "stream",
          "text": [
            "0.048717628571797504 0.9428255256362966 0.9055798327508733 0.9502008032128514 0.8266946191474493 0.8266946191474493 0.8500610455423981 0.956708586632992 0.8841554559043349\n",
            "Epoch: 463 / 500, ############## the best accuracy in val  94.6330 at Epoch: 187  ##############\n",
            "Performance in Val: Loss: (0.0487); Accuracy (94.28)\n"
          ]
        },
        {
          "name": "stderr",
          "output_type": "stream",
          "text": [
            "Epoch 464: 100%|██████████| 1496/1496 [00:22<00:00, 67.46batch/s, train_loss=tensor(0.0051, device='cuda:0', grad_fn=<MseLossBackward0>)]\n"
          ]
        },
        {
          "name": "stdout",
          "output_type": "stream",
          "text": [
            "0.0483630962500518 0.9450387310955367 0.909324456617186 0.9521149241819633 0.8336827393431167 0.8336827393431167 0.8559864447888458 0.9574781378296835 0.8889716840536512\n",
            "Epoch: 464 / 500, ############## the best accuracy in val  94.6330 at Epoch: 187  ##############\n",
            "Performance in Val: Loss: (0.0484); Accuracy (94.50)\n"
          ]
        },
        {
          "name": "stderr",
          "output_type": "stream",
          "text": [
            "Epoch 465: 100%|██████████| 1496/1496 [00:22<00:00, 67.57batch/s, train_loss=tensor(0.0078, device='cuda:0', grad_fn=<MseLossBackward0>)]\n"
          ]
        },
        {
          "name": "stdout",
          "output_type": "stream",
          "text": [
            "0.04845849915661595 0.9443009959424566 0.9079268325780525 0.9519615692554043 0.8308874912648497 0.8308874912648497 0.8540190103550355 0.9590216176473936 0.8873134328358209\n",
            "Epoch: 465 / 500, ############## the best accuracy in val  94.6330 at Epoch: 187  ##############\n",
            "Performance in Val: Loss: (0.0485); Accuracy (94.43)\n"
          ]
        },
        {
          "name": "stderr",
          "output_type": "stream",
          "text": [
            "Epoch 466: 100%|██████████| 1496/1496 [00:22<00:00, 67.03batch/s, train_loss=tensor(0.0096, device='cuda:0', grad_fn=<MseLossBackward0>)]\n"
          ]
        },
        {
          "name": "stdout",
          "output_type": "stream",
          "text": [
            "0.04871734384108673 0.9443009959424566 0.908599204954684 0.949800796812749 0.83298392732355 0.83298392732355 0.8539935302762653 0.9561025760091583 0.8875651526433359\n",
            "Epoch: 466 / 500, ############## the best accuracy in val  94.6330 at Epoch: 187  ##############\n",
            "Performance in Val: Loss: (0.0487); Accuracy (94.43)\n"
          ]
        },
        {
          "name": "stderr",
          "output_type": "stream",
          "text": [
            "Epoch 467: 100%|██████████| 1496/1496 [00:21<00:00, 68.48batch/s, train_loss=tensor(0.0078, device='cuda:0', grad_fn=<MseLossBackward0>)]\n"
          ]
        },
        {
          "name": "stdout",
          "output_type": "stream",
          "text": [
            "0.04889396027746526 0.9444854297307267 0.9071556179601168 0.9556451612903226 0.8280922431865828 0.8280922431865828 0.8545711974171778 0.9556504756246628 0.8873081242980158\n",
            "Epoch: 467 / 500, ############## the best accuracy in val  94.6330 at Epoch: 187  ##############\n",
            "Performance in Val: Loss: (0.0489); Accuracy (94.45)\n"
          ]
        },
        {
          "name": "stderr",
          "output_type": "stream",
          "text": [
            "Epoch 468: 100%|██████████| 1496/1496 [00:22<00:00, 67.49batch/s, train_loss=tensor(0.0080, device='cuda:0', grad_fn=<MseLossBackward0>)]\n"
          ]
        },
        {
          "name": "stdout",
          "output_type": "stream",
          "text": [
            "0.04838063838807019 0.9435632607893766 0.9072015809155506 0.9496402877697842 0.8301886792452831 0.8301886792452831 0.8520231247317872 0.956395513245123 0.8859060402684563\n",
            "Epoch: 468 / 500, ############## the best accuracy in val  94.6330 at Epoch: 187  ##############\n",
            "Performance in Val: Loss: (0.0484); Accuracy (94.36)\n"
          ]
        },
        {
          "name": "stderr",
          "output_type": "stream",
          "text": [
            "Epoch 469: 100%|██████████| 1496/1496 [00:21<00:00, 68.16batch/s, train_loss=tensor(0.0069, device='cuda:0', grad_fn=<MseLossBackward0>)]\n"
          ]
        },
        {
          "name": "stdout",
          "output_type": "stream",
          "text": [
            "0.04895444832403551 0.9426410918480266 0.9056786749921775 0.9487179487179487 0.827393431167016 0.827393431167016 0.8495507751200695 0.9552417992894914 0.8839119074281448\n",
            "Epoch: 469 / 500, ############## the best accuracy in val  94.6330 at Epoch: 187  ##############\n",
            "Performance in Val: Loss: (0.0490); Accuracy (94.26)\n"
          ]
        },
        {
          "name": "stderr",
          "output_type": "stream",
          "text": [
            "Epoch 470: 100%|██████████| 1496/1496 [00:22<00:00, 67.34batch/s, train_loss=tensor(0.0055, device='cuda:0', grad_fn=<MseLossBackward0>)]\n"
          ]
        },
        {
          "name": "stdout",
          "output_type": "stream",
          "text": [
            "0.04853446764702147 0.9454075986720767 0.9089026480090336 0.9558232931726908 0.8315863032844165 0.8315863032844165 0.8570253854439608 0.9562808247277549 0.8893871449925261\n",
            "Epoch: 470 / 500, ############## the best accuracy in val  94.6330 at Epoch: 187  ##############\n",
            "Performance in Val: Loss: (0.0485); Accuracy (94.54)\n"
          ]
        },
        {
          "name": "stderr",
          "output_type": "stream",
          "text": [
            "Epoch 471: 100%|██████████| 1496/1496 [00:22<00:00, 67.83batch/s, train_loss=tensor(0.0081, device='cuda:0', grad_fn=<MseLossBackward0>)]\n"
          ]
        },
        {
          "name": "stdout",
          "output_type": "stream",
          "text": [
            "0.04861127475107258 0.9437476945776466 0.9073268627997901 0.9504 0.8301886792452831 0.8301886792452831 0.8525239183540612 0.9560668562266497 0.8862364789257741\n",
            "Epoch: 471 / 500, ############## the best accuracy in val  94.6330 at Epoch: 187  ##############\n",
            "Performance in Val: Loss: (0.0486); Accuracy (94.37)\n"
          ]
        },
        {
          "name": "stderr",
          "output_type": "stream",
          "text": [
            "Epoch 472: 100%|██████████| 1496/1496 [00:22<00:00, 67.09batch/s, train_loss=tensor(0.0082, device='cuda:0', grad_fn=<MseLossBackward0>)]\n"
          ]
        },
        {
          "name": "stdout",
          "output_type": "stream",
          "text": [
            "0.048798706297847355 0.9444854297307267 0.9087244868389236 0.9505582137161085 0.83298392732355 0.83298392732355 0.8544933953709861 0.9546074229560186 0.8878957169459963\n",
            "Epoch: 472 / 500, ############## the best accuracy in val  94.6330 at Epoch: 187  ##############\n",
            "Performance in Val: Loss: (0.0488); Accuracy (94.45)\n"
          ]
        },
        {
          "name": "stderr",
          "output_type": "stream",
          "text": [
            "Epoch 473: 100%|██████████| 1496/1496 [00:22<00:00, 67.93batch/s, train_loss=tensor(0.0107, device='cuda:0', grad_fn=<MseLossBackward0>)]\n"
          ]
        },
        {
          "name": "stdout",
          "output_type": "stream",
          "text": [
            "0.04854918745431033 0.9428255256362966 0.906028081001961 0.9487590072057646 0.8280922431865828 0.8280922431865828 0.85004386135178 0.9568313296111219 0.8843283582089552\n",
            "Epoch: 473 / 500, ############## the best accuracy in val  94.6330 at Epoch: 187  ##############\n",
            "Performance in Val: Loss: (0.0485); Accuracy (94.28)\n"
          ]
        },
        {
          "name": "stderr",
          "output_type": "stream",
          "text": [
            "Epoch 474: 100%|██████████| 1496/1496 [00:21<00:00, 68.26batch/s, train_loss=tensor(0.0040, device='cuda:0', grad_fn=<MseLossBackward0>)]\n"
          ]
        },
        {
          "name": "stdout",
          "output_type": "stream",
          "text": [
            "0.04865848704833876 0.9439321283659167 0.9072280205584857 0.9518845228548516 0.8294898672257163 0.8294898672257163 0.8530350244926743 0.9560481208505299 0.8864824495892457\n",
            "Epoch: 474 / 500, ############## the best accuracy in val  94.6330 at Epoch: 187  ##############\n",
            "Performance in Val: Loss: (0.0487); Accuracy (94.39)\n"
          ]
        },
        {
          "name": "stderr",
          "output_type": "stream",
          "text": [
            "Epoch 475: 100%|██████████| 1496/1496 [00:21<00:00, 68.78batch/s, train_loss=tensor(0.0067, device='cuda:0', grad_fn=<MseLossBackward0>)]\n"
          ]
        },
        {
          "name": "stdout",
          "output_type": "stream",
          "text": [
            "0.04841883201152086 0.9446698635189967 0.9079532722209878 0.9542168674698795 0.8301886792452831 0.8301886792452831 0.8550355740435143 0.9573806088156773 0.8878923766816144\n",
            "Epoch: 475 / 500, ############## the best accuracy in val  94.6330 at Epoch: 187  ##############\n",
            "Performance in Val: Loss: (0.0484); Accuracy (94.47)\n"
          ]
        },
        {
          "name": "stderr",
          "output_type": "stream",
          "text": [
            "Epoch 476: 100%|██████████| 1496/1496 [00:21<00:00, 68.19batch/s, train_loss=tensor(0.0077, device='cuda:0', grad_fn=<MseLossBackward0>)]\n"
          ]
        },
        {
          "name": "stdout",
          "output_type": "stream",
          "text": [
            "0.04885281249880791 0.9430099594245666 0.9063774870117443 0.9488 0.8287910552061496 0.8287910552061496 0.8505369009468319 0.9561141324093816 0.8847444983215219\n",
            "Epoch: 476 / 500, ############## the best accuracy in val  94.6330 at Epoch: 187  ##############\n",
            "Performance in Val: Loss: (0.0489); Accuracy (94.30)\n"
          ]
        },
        {
          "name": "stderr",
          "output_type": "stream",
          "text": [
            "Epoch 477: 100%|██████████| 1496/1496 [00:21<00:00, 68.95batch/s, train_loss=tensor(0.0094, device='cuda:0', grad_fn=<MseLossBackward0>)]\n"
          ]
        },
        {
          "name": "stdout",
          "output_type": "stream",
          "text": [
            "0.048534293489700016 0.9437476945776466 0.9062062421720709 0.9540322580645161 0.8266946191474493 0.8266946191474493 0.8525785705978454 0.9561207860943587 0.8858105578435043\n",
            "Epoch: 477 / 500, ############## the best accuracy in val  94.6330 at Epoch: 187  ##############\n",
            "Performance in Val: Loss: (0.0485); Accuracy (94.37)\n"
          ]
        },
        {
          "name": "stderr",
          "output_type": "stream",
          "text": [
            "Epoch 478: 100%|██████████| 1496/1496 [00:22<00:00, 67.96batch/s, train_loss=tensor(0.0049, device='cuda:0', grad_fn=<MseLossBackward0>)]\n"
          ]
        },
        {
          "name": "stdout",
          "output_type": "stream",
          "text": [
            "0.048780346966602585 0.9435632607893766 0.906529208538919 0.9518072289156626 0.8280922431865828 0.8280922431865828 0.8520508569428447 0.9568267770898218 0.8856502242152465\n",
            "Epoch: 478 / 500, ############## the best accuracy in val  94.6330 at Epoch: 187  ##############\n",
            "Performance in Val: Loss: (0.0488); Accuracy (94.36)\n"
          ]
        },
        {
          "name": "stderr",
          "output_type": "stream",
          "text": [
            "Epoch 479: 100%|██████████| 1496/1496 [00:22<00:00, 65.93batch/s, train_loss=tensor(0.0055, device='cuda:0', grad_fn=<MseLossBackward0>)]\n"
          ]
        },
        {
          "name": "stdout",
          "output_type": "stream",
          "text": [
            "0.04854217967526479 0.9437476945776466 0.9068786145487024 0.9518459069020867 0.8287910552061496 0.8287910552061496 0.8525429635504629 0.9545116449117432 0.886066492342174\n",
            "Epoch: 479 / 500, ############## the best accuracy in val  94.6330 at Epoch: 187  ##############\n",
            "Performance in Val: Loss: (0.0485); Accuracy (94.37)\n"
          ]
        },
        {
          "name": "stderr",
          "output_type": "stream",
          "text": [
            "Epoch 480: 100%|██████████| 1496/1496 [00:23<00:00, 64.57batch/s, train_loss=tensor(0.0080, device='cuda:0', grad_fn=<MseLossBackward0>)]\n"
          ]
        },
        {
          "name": "stdout",
          "output_type": "stream",
          "text": [
            "0.04889442830939184 0.9441165621541866 0.9073533024427254 0.9526484751203852 0.8294898672257163 0.8294898672257163 0.8535375889976142 0.9571643640539222 0.8868135973104221\n",
            "Epoch: 480 / 500, ############## the best accuracy in val  94.6330 at Epoch: 187  ##############\n",
            "Performance in Val: Loss: (0.0489); Accuracy (94.41)\n"
          ]
        },
        {
          "name": "stderr",
          "output_type": "stream",
          "text": [
            "Epoch 481: 100%|██████████| 1496/1496 [00:23<00:00, 63.98batch/s, train_loss=tensor(0.0053, device='cuda:0', grad_fn=<MseLossBackward0>)]\n"
          ]
        },
        {
          "name": "stdout",
          "output_type": "stream",
          "text": [
            "0.04942290975966237 0.9428255256362966 0.9055798327508733 0.9502008032128514 0.8266946191474493 0.8266946191474493 0.8500610455423981 0.9563195211588058 0.8841554559043349\n",
            "Epoch: 481 / 500, ############## the best accuracy in val  94.6330 at Epoch: 187  ##############\n",
            "Performance in Val: Loss: (0.0494); Accuracy (94.28)\n"
          ]
        },
        {
          "name": "stderr",
          "output_type": "stream",
          "text": [
            "Epoch 482: 100%|██████████| 1496/1496 [00:23<00:00, 65.00batch/s, train_loss=tensor(0.0116, device='cuda:0', grad_fn=<MseLossBackward0>)]\n"
          ]
        },
        {
          "name": "stdout",
          "output_type": "stream",
          "text": [
            "0.04845055014911023 0.9461453338251568 0.9114208926758862 0.9523431294678316 0.8378756114605171 0.8378756114605171 0.8589362821935359 0.9566586839956639 0.8914498141263941\n",
            "Epoch: 482 / 500, ############## the best accuracy in val  94.6330 at Epoch: 187  ##############\n",
            "Performance in Val: Loss: (0.0485); Accuracy (94.61)\n"
          ]
        },
        {
          "name": "stderr",
          "output_type": "stream",
          "text": [
            "Epoch 483: 100%|██████████| 1496/1496 [00:24<00:00, 62.29batch/s, train_loss=tensor(0.0104, device='cuda:0', grad_fn=<MseLossBackward0>)]\n"
          ]
        },
        {
          "name": "stdout",
          "output_type": "stream",
          "text": [
            "0.04849187140776352 0.9439321283659167 0.9074521446840296 0.9511609287429944 0.8301886792452831 0.8301886792452831 0.8530252231042216 0.9551423442087814 0.8865671641791044\n",
            "Epoch: 483 / 500, ############## the best accuracy in val  94.6330 at Epoch: 187  ##############\n",
            "Performance in Val: Loss: (0.0485); Accuracy (94.39)\n"
          ]
        },
        {
          "name": "stderr",
          "output_type": "stream",
          "text": [
            "Epoch 484: 100%|██████████| 1496/1496 [00:24<00:00, 61.34batch/s, train_loss=tensor(0.0061, device='cuda:0', grad_fn=<MseLossBackward0>)]\n"
          ]
        },
        {
          "name": "stdout",
          "output_type": "stream",
          "text": [
            "0.04864728196778081 0.9431943932128366 0.9058303965193524 0.9517296862429606 0.8266946191474493 0.8266946191474493 0.8510665057548781 0.9558812534351837 0.8848167539267016\n",
            "Epoch: 484 / 500, ############## the best accuracy in val  94.6330 at Epoch: 187  ##############\n",
            "Performance in Val: Loss: (0.0486); Accuracy (94.32)\n"
          ]
        },
        {
          "name": "stderr",
          "output_type": "stream",
          "text": [
            "Epoch 485: 100%|██████████| 1496/1496 [00:23<00:00, 63.15batch/s, train_loss=tensor(0.0066, device='cuda:0', grad_fn=<MseLossBackward0>)]\n"
          ]
        },
        {
          "name": "stdout",
          "output_type": "stream",
          "text": [
            "0.04876705775545402 0.9443009959424566 0.9072544602014211 0.9541432019308126 0.8287910552061496 0.8287910552061496 0.8540529082330198 0.956514228992872 0.887060583395662\n",
            "Epoch: 485 / 500, ############## the best accuracy in val  94.6330 at Epoch: 187  ##############\n",
            "Performance in Val: Loss: (0.0488); Accuracy (94.43)\n"
          ]
        },
        {
          "name": "stderr",
          "output_type": "stream",
          "text": [
            "Epoch 486: 100%|██████████| 1496/1496 [00:23<00:00, 62.41batch/s, train_loss=tensor(0.0099, device='cuda:0', grad_fn=<MseLossBackward0>)]\n"
          ]
        },
        {
          "name": "stdout",
          "output_type": "stream",
          "text": [
            "0.04901228116994554 0.9444854297307267 0.9078279903367483 0.9534510433386838 0.8301886792452831 0.8301886792452831 0.8545322144447655 0.9566607851593408 0.8875607022786701\n",
            "Epoch: 486 / 500, ############## the best accuracy in val  94.6330 at Epoch: 187  ##############\n",
            "Performance in Val: Loss: (0.0490); Accuracy (94.45)\n"
          ]
        },
        {
          "name": "stderr",
          "output_type": "stream",
          "text": [
            "Epoch 487: 100%|██████████| 1496/1496 [00:23<00:00, 63.12batch/s, train_loss=tensor(0.0077, device='cuda:0', grad_fn=<MseLossBackward0>)]\n"
          ]
        },
        {
          "name": "stdout",
          "output_type": "stream",
          "text": [
            "0.04889311378991062 0.9430099594245666 0.906825735262832 0.9473684210526315 0.8301886792452831 0.8301886792452831 0.8505238003663688 0.9555671294654762 0.8849162011173184\n",
            "Epoch: 487 / 500, ############## the best accuracy in val  94.6330 at Epoch: 187  ##############\n",
            "Performance in Val: Loss: (0.0489); Accuracy (94.30)\n"
          ]
        },
        {
          "name": "stderr",
          "output_type": "stream",
          "text": [
            "Epoch 488: 100%|██████████| 1496/1496 [00:23<00:00, 63.01batch/s, train_loss=tensor(0.0091, device='cuda:0', grad_fn=<MseLossBackward0>)]\n"
          ]
        },
        {
          "name": "stdout",
          "output_type": "stream",
          "text": [
            "0.04826643707400018 0.9452231648838068 0.9096738626269694 0.9521531100478469 0.8343815513626834 0.8343815513626834 0.8564781928732947 0.9556487246549321 0.8893854748603351\n",
            "Epoch: 488 / 500, ############## the best accuracy in val  94.6330 at Epoch: 187  ##############\n",
            "Performance in Val: Loss: (0.0483); Accuracy (94.52)\n"
          ]
        },
        {
          "name": "stderr",
          "output_type": "stream",
          "text": [
            "Epoch 489: 100%|██████████| 1496/1496 [00:22<00:00, 65.59batch/s, train_loss=tensor(0.0072, device='cuda:0', grad_fn=<MseLossBackward0>)]\n"
          ]
        },
        {
          "name": "stdout",
          "output_type": "stream",
          "text": [
            "0.048267641020092095 0.9450387310955367 0.9088762083660984 0.9535628502802241 0.8322851153039832 0.8322851153039832 0.8560065848566633 0.9558877320231878 0.8888059701492538\n",
            "Epoch: 489 / 500, ############## the best accuracy in val  94.6330 at Epoch: 187  ##############\n",
            "Performance in Val: Loss: (0.0483); Accuracy (94.50)\n"
          ]
        },
        {
          "name": "stderr",
          "output_type": "stream",
          "text": [
            "Epoch 490: 100%|██████████| 1496/1496 [00:22<00:00, 66.32batch/s, train_loss=tensor(0.0069, device='cuda:0', grad_fn=<MseLossBackward0>)]\n"
          ]
        },
        {
          "name": "stdout",
          "output_type": "stream",
          "text": [
            "0.048540071160955864 0.9446698635189967 0.9084015204720755 0.9527622097678142 0.8315863032844165 0.8315863032844165 0.8550127976058494 0.9562955328734937 0.8880597014925373\n",
            "Epoch: 490 / 500, ############## the best accuracy in val  94.6330 at Epoch: 187  ##############\n",
            "Performance in Val: Loss: (0.0485); Accuracy (94.47)\n"
          ]
        },
        {
          "name": "stderr",
          "output_type": "stream",
          "text": [
            "Epoch 491: 100%|██████████| 1496/1496 [00:22<00:00, 67.25batch/s, train_loss=tensor(0.0079, device='cuda:0', grad_fn=<MseLossBackward0>)]\n"
          ]
        },
        {
          "name": "stdout",
          "output_type": "stream",
          "text": [
            "0.04853333228013732 0.9452231648838068 0.9087773661247941 0.9550561797752809 0.8315863032844165 0.8315863032844165 0.8565214653390681 0.957891716880101 0.8890549122151663\n",
            "Epoch: 491 / 500, ############## the best accuracy in val  94.6330 at Epoch: 187  ##############\n",
            "Performance in Val: Loss: (0.0485); Accuracy (94.52)\n"
          ]
        },
        {
          "name": "stderr",
          "output_type": "stream",
          "text": [
            "Epoch 492: 100%|██████████| 1496/1496 [00:22<00:00, 67.35batch/s, train_loss=tensor(0.0107, device='cuda:0', grad_fn=<MseLossBackward0>)]\n"
          ]
        },
        {
          "name": "stdout",
          "output_type": "stream",
          "text": [
            "0.04861742647534067 0.9450387310955367 0.909324456617186 0.9521149241819633 0.8336827393431167 0.8336827393431167 0.8559864447888458 0.956026583922841 0.8889716840536512\n",
            "Epoch: 492 / 500, ############## the best accuracy in val  94.6330 at Epoch: 187  ##############\n",
            "Performance in Val: Loss: (0.0486); Accuracy (94.50)\n"
          ]
        },
        {
          "name": "stderr",
          "output_type": "stream",
          "text": [
            "Epoch 493: 100%|██████████| 1496/1496 [00:22<00:00, 67.10batch/s, train_loss=tensor(0.0055, device='cuda:0', grad_fn=<MseLossBackward0>)]\n"
          ]
        },
        {
          "name": "stdout",
          "output_type": "stream",
          "text": [
            "0.04828946283933791 0.9444854297307267 0.9089486109644673 0.9498407643312102 0.8336827393431167 0.8336827393431167 0.854486019184809 0.9576278457416679 0.8879791589132862\n",
            "Epoch: 493 / 500, ############## the best accuracy in val  94.6330 at Epoch: 187  ##############\n",
            "Performance in Val: Loss: (0.0483); Accuracy (94.45)\n"
          ]
        },
        {
          "name": "stderr",
          "output_type": "stream",
          "text": [
            "Epoch 494: 100%|██████████| 1496/1496 [00:22<00:00, 66.97batch/s, train_loss=tensor(0.0090, device='cuda:0', grad_fn=<MseLossBackward0>)]\n"
          ]
        },
        {
          "name": "stdout",
          "output_type": "stream",
          "text": [
            "0.048972162333401764 0.9437476945776466 0.907550986925334 0.9496805111821086 0.8308874912648497 0.8308874912648497 0.8525157940911212 0.954992286102851 0.8863212821468506\n",
            "Epoch: 494 / 500, ############## the best accuracy in val  94.6330 at Epoch: 187  ##############\n",
            "Performance in Val: Loss: (0.0490); Accuracy (94.37)\n"
          ]
        },
        {
          "name": "stderr",
          "output_type": "stream",
          "text": [
            "Epoch 495: 100%|██████████| 1496/1496 [00:22<00:00, 67.42batch/s, train_loss=tensor(0.0082, device='cuda:0', grad_fn=<MseLossBackward0>)]\n"
          ]
        },
        {
          "name": "stdout",
          "output_type": "stream",
          "text": [
            "0.04835809724913402 0.9446698635189967 0.909073892848707 0.950597609561753 0.8336827393431167 0.8336827393431167 0.8549856525943716 0.9566396859740847 0.8883097542814594\n",
            "Epoch: 495 / 500, ############## the best accuracy in val  94.6330 at Epoch: 187  ##############\n",
            "Performance in Val: Loss: (0.0484); Accuracy (94.47)\n"
          ]
        },
        {
          "name": "stderr",
          "output_type": "stream",
          "text": [
            "Epoch 496: 100%|██████████| 1496/1496 [00:22<00:00, 66.54batch/s, train_loss=tensor(0.0075, device='cuda:0', grad_fn=<MseLossBackward0>)]\n"
          ]
        },
        {
          "name": "stdout",
          "output_type": "stream",
          "text": [
            "0.04857385175471956 0.9444854297307267 0.9085003627133796 0.9512779552715654 0.8322851153039832 0.8322851153039832 0.8545016998545761 0.9566765438869183 0.8878121505777116\n",
            "Epoch: 496 / 500, ############## the best accuracy in val  94.6330 at Epoch: 187  ##############\n",
            "Performance in Val: Loss: (0.0486); Accuracy (94.45)\n"
          ]
        },
        {
          "name": "stderr",
          "output_type": "stream",
          "text": [
            "Epoch 497: 100%|██████████| 1496/1496 [00:22<00:00, 67.23batch/s, train_loss=tensor(0.0065, device='cuda:0', grad_fn=<MseLossBackward0>)]\n"
          ]
        },
        {
          "name": "stdout",
          "output_type": "stream",
          "text": [
            "0.04882517059079625 0.9444854297307267 0.9087244868389236 0.9505582137161085 0.83298392732355 0.83298392732355 0.8544933953709861 0.9560215061106218 0.8878957169459963\n",
            "Epoch: 497 / 500, ############## the best accuracy in val  94.6330 at Epoch: 187  ##############\n",
            "Performance in Val: Loss: (0.0488); Accuracy (94.45)\n"
          ]
        },
        {
          "name": "stderr",
          "output_type": "stream",
          "text": [
            "Epoch 498: 100%|██████████| 1496/1496 [00:22<00:00, 66.36batch/s, train_loss=tensor(0.0055, device='cuda:0', grad_fn=<MseLossBackward0>)]\n"
          ]
        },
        {
          "name": "stdout",
          "output_type": "stream",
          "text": [
            "0.04809494274245067 0.9459609000368867 0.9101749901639276 0.9552 0.8343815513626834 0.8343815513626834 0.8584849705757491 0.9572147919821695 0.8907124207385303\n",
            "Epoch: 498 / 500, ############## the best accuracy in val  94.6330 at Epoch: 187  ##############\n",
            "Performance in Val: Loss: (0.0481); Accuracy (94.60)\n"
          ]
        },
        {
          "name": "stderr",
          "output_type": "stream",
          "text": [
            "Epoch 499: 100%|██████████| 1496/1496 [00:22<00:00, 66.58batch/s, train_loss=tensor(0.0065, device='cuda:0', grad_fn=<MseLossBackward0>)]\n"
          ]
        },
        {
          "name": "stdout",
          "output_type": "stream",
          "text": [
            "0.04845934310419993 0.9446698635189967 0.9086256445976193 0.9520383693045563 0.8322851153039832 0.8322851153039832 0.8550028164743516 0.9575145580000844 0.8881431767337807\n",
            "Epoch: 499 / 500, ############## the best accuracy in val  94.6330 at Epoch: 187  ##############\n",
            "Performance in Val: Loss: (0.0485); Accuracy (94.47)\n"
          ]
        }
      ],
      "source": [
        "initial_epoch = 0\n",
        "best_epoch = -1\n",
        "best_accuracy = 0.5\n",
        "for epoch in range(initial_epoch, 500):\n",
        "    torch.cuda.empty_cache()\n",
        "    model.train()\n",
        "    with tqdm(train_loader, desc='Processing', unit=\"batch\") as tepoch:\n",
        "        for ESP_train_df_enzy,ESP_train_df_smiles, y_train in tepoch:\n",
        "            model.train()\n",
        "            tepoch.set_description(f\"Epoch {epoch}\")\n",
        "            ESP_train_df_enzy = ESP_train_df_enzy.to(device)\n",
        "            ESP_train_df_smiles = ESP_train_df_smiles.to(device)\n",
        "            y_train = y_train.squeeze(1).to(device)\n",
        "            refined_enzy_embed, refined_smiles_embed = model(ESP_train_df_enzy,ESP_train_df_smiles)\n",
        "            cosine_sim = torch.nn.functional.cosine_similarity(refined_enzy_embed, refined_smiles_embed, dim=1)\n",
        "            loss = loss_fn(cosine_sim, y_train)\n",
        "            loss.backward()\n",
        "            optimizer.step()\n",
        "            optimizer.zero_grad(set_to_none=True) #\n",
        "            tepoch.set_postfix(train_loss=loss)\n",
        "            # tepoch.set_postfix(val_loss=loss_sum_val, val_accuracy=100. * acc_val, balanced_val_accuracy=100. * bacc_val)\n",
        "        loss_sum_val,acc_val, bacc_val = run_validation(model,val_loader,loss_fn, device)\n",
        "        print('Epoch: %d / %d, ############## the best accuracy in val  %.4f at Epoch: %d  ##############'  % (epoch, 500,100 * best_accuracy,best_epoch))\n",
        "        # print('Performance in Train: Loss: (%.4f); Accuracy (%.2f)' % (loss_sum, 100 * acc))\n",
        "        print('Performance in Val: Loss: (%.4f); Accuracy (%.2f)' % (loss_sum_val, 100 * acc_val))\n",
        "        # checkpoint(model, f\"epoch-{epoch}.pth\")\n",
        "        if acc_val > best_accuracy: # compare the performance updates at the val set\n",
        "            best_accuracy = acc_val\n",
        "            best_epoch = epoch\n",
        "            torch.save(model, \"best_model.pt\")\n",
        "\n"
      ]
    },
    {
      "cell_type": "code",
      "execution_count": null,
      "metadata": {
        "colab": {
          "background_save": true
        },
        "id": "-5_Z6venDpwy",
        "outputId": "a4cc526f-4a88-480a-97bd-3d232cc348c2"
      },
      "outputs": [
        {
          "name": "stdout",
          "output_type": "stream",
          "text": [
            "0.04879631610079245 0.9463297676134268 0.9108738021834943 0.9552715654952076 0.8357791754018169 0.8357791754018169 0.8594664642632134 0.9575208614911154 0.8915393216548639\n"
          ]
        },
        {
          "data": {
            "text/plain": [
              "(0.04879631610079245, 0.9463297676134268, 0.9108738021834943)"
            ]
          },
          "execution_count": 66,
          "metadata": {},
          "output_type": "execute_result"
        }
      ],
      "source": [
        "import torch\n",
        "# Specify the file path where the entire model is saved\n",
        "load_path = 'best_model.pt'\n",
        "\n",
        "# Load the entire model\n",
        "model_test = torch.load(load_path)\n",
        "# model_test.to('cuda')\n",
        "# rename the baseline model\n",
        "torch.save(model_test, 'best_model_esm2_1280_pretrain_phylo.pt')\n",
        "run_validation(model_test,val_loader,loss_fn, device)"
      ]
    },
    {
      "cell_type": "code",
      "execution_count": null,
      "metadata": {
        "colab": {
          "background_save": true
        },
        "id": "MHda9ISjDpwy",
        "outputId": "22a50f88-4feb-4bc4-c6e1-1cb932c1519d"
      },
      "outputs": [
        {
          "name": "stdout",
          "output_type": "stream",
          "text": [
            "0.04879631610079245 0.9463297676134268 0.9108738021834943 0.9552715654952076 0.8357791754018169 0.8357791754018169 0.8594664642632134 0.9575208614911154 0.8915393216548639\n",
            "0.053451908855802484 0.9392621475704859 0.8997839379594939 0.9459459459459459 0.8162684869169511 0.8162684869169511 0.8403630591132002 0.9533958088598179 0.8763358778625955\n"
          ]
        },
        {
          "data": {
            "text/plain": [
              "(0.053451908855802484, 0.9392621475704859, 0.8997839379594939)"
            ]
          },
          "execution_count": 67,
          "metadata": {},
          "output_type": "execute_result"
        }
      ],
      "source": [
        "run_validation(model_test,val_loader,loss_fn, device)\n",
        "run_validation(model_test,test_loader,loss_fn, device)"
      ]
    },
    {
      "cell_type": "markdown",
      "metadata": {
        "id": "N1hUdIn1DmEw"
      },
      "source": [
        "### fine tuning\n",
        "the optimizer state and model will be continue trainin on the smaller train dataset"
      ]
    },
    {
      "cell_type": "code",
      "execution_count": null,
      "metadata": {
        "id": "LtkIIgLoDmEw"
      },
      "outputs": [],
      "source": [
        "def get_ds():\n",
        "    # Load the saved embeddings_results\n",
        "    ESP_train_df_enzy = torch.load('ESP_train_df_enzy.pt')\n",
        "    ESP_val_df_enzy = torch.load('ESP_val_df_enzy.pt')\n",
        "    ESP_test_df_enzy = torch.load('ESP_test_df_enzy.pt')\n",
        "    print(ESP_train_df_enzy.shape, ESP_val_df_enzy.shape, ESP_test_df_enzy.shape)\n",
        "    # Load the saved embeddings_results\n",
        "    ESP_train_df_smiles = torch.load('ESP_train_df_smiles.pt')\n",
        "    ESP_val_df_smiles = torch.load('ESP_val_df_smiles.pt')\n",
        "    ESP_test_df_smiles = torch.load('ESP_test_df_smiles.pt')\n",
        "    print(ESP_train_df_smiles.shape, ESP_val_df_smiles.shape, ESP_test_df_smiles.shape)\n",
        "\n",
        "    y_train = torch.load( 'ESP_train_df_label.pt')\n",
        "    y_val = torch.load('ESP_val_df_label.pt')\n",
        "    y_test = torch.load('ESP_test_df_label.pt')\n",
        "    print(y_train.shape,y_val.shape, y_test.shape)\n",
        "\n",
        "\n",
        "    train_tensor_dataset = TensorDataset(ESP_train_df_enzy,ESP_train_df_smiles, y_train)\n",
        "    val_tensor_dataset = TensorDataset(ESP_val_df_enzy,ESP_val_df_smiles, y_val)\n",
        "    test_tensor_dataset = TensorDataset(ESP_test_df_enzy, ESP_test_df_smiles, y_test)\n",
        "\n",
        "    # Create TensorDataset and DataLoaders\n",
        "    batch_size = 16\n",
        "    train_loader = DataLoader(train_tensor_dataset, batch_size=batch_size, shuffle=True)\n",
        "    val_loader = DataLoader(val_tensor_dataset, batch_size=batch_size, shuffle=False)\n",
        "    test_loader = DataLoader(test_tensor_dataset, batch_size=batch_size, shuffle=False)\n",
        "    print(len(train_loader))\n",
        "    return train_loader,  val_loader, test_loader"
      ]
    },
    {
      "cell_type": "code",
      "execution_count": null,
      "metadata": {
        "colab": {
          "base_uri": "https://localhost:8080/"
        },
        "id": "VdF3AvOLDmEw",
        "outputId": "996aa54f-3795-4cf7-ffc5-0b2e7d38f36d"
      },
      "outputs": [
        {
          "output_type": "stream",
          "name": "stdout",
          "text": [
            "torch.Size([50077, 1280]) torch.Size([5422, 1280]) torch.Size([13336, 1280])\n",
            "torch.Size([50077, 768]) torch.Size([5422, 768]) torch.Size([13336, 768])\n",
            "torch.Size([50077, 1]) torch.Size([5422, 1]) torch.Size([13336, 1])\n",
            "3130\n"
          ]
        }
      ],
      "source": [
        "# laod the smaller training dataset\n",
        "train_loader,  val_loader, test_loader = get_ds()\n"
      ]
    },
    {
      "cell_type": "code",
      "execution_count": null,
      "metadata": {
        "colab": {
          "background_save": true
        },
        "id": "qlD0YVWPDmEw",
        "outputId": "f2284138-166b-4fd5-e6dd-fdf1a1ad578c"
      },
      "outputs": [
        {
          "name": "stderr",
          "output_type": "stream",
          "text": [
            "Epoch 0: 100%|██████████| 3130/3130 [00:23<00:00, 135.24batch/s, train_loss=tensor(0.1215, device='cuda:0', grad_fn=<MseLossBackward0>)]\n"
          ]
        },
        {
          "name": "stdout",
          "output_type": "stream",
          "text": [
            "0.048960982040285095 0.9472519365547768 0.9141897011112179 0.950432730133753 0.8441649196366178 0.8441649196366178 0.8618681470996554 0.9651142919227241 0.8941524796447076\n",
            "Epoch: 0 / 30, ############## the best accuracy in val  50.0000 at Epoch: -1  ##############\n",
            "Performance in Val: Loss: (0.0490); Accuracy (94.73)\n"
          ]
        },
        {
          "name": "stderr",
          "output_type": "stream",
          "text": [
            "Epoch 1: 100%|██████████| 3130/3130 [00:23<00:00, 134.67batch/s, train_loss=tensor(0.0532, device='cuda:0', grad_fn=<MseLossBackward0>)]\n"
          ]
        },
        {
          "name": "stdout",
          "output_type": "stream",
          "text": [
            "0.04785917406238253 0.9490962744374769 0.9158907682047011 0.9565217391304348 0.8455625436757512 0.8455625436757512 0.8668314934480938 0.966115846608748 0.897626112759644\n",
            "Epoch: 1 / 30, ############## the best accuracy in val  94.7252 at Epoch: 0  ##############\n",
            "Performance in Val: Loss: (0.0479); Accuracy (94.91)\n"
          ]
        },
        {
          "name": "stderr",
          "output_type": "stream",
          "text": [
            "Epoch 2: 100%|██████████| 3130/3130 [00:23<00:00, 133.68batch/s, train_loss=tensor(0.0326, device='cuda:0', grad_fn=<MseLossBackward0>)]\n"
          ]
        },
        {
          "name": "stdout",
          "output_type": "stream",
          "text": [
            "0.04888245446475602 0.9496495758022869 0.9173872344851388 0.9551886792452831 0.8490566037735849 0.8490566037735849 0.8682848726092476 0.9625055221207885 0.8990011098779135\n",
            "Epoch: 2 / 30, ############## the best accuracy in val  94.9096 at Epoch: 1  ##############\n",
            "Performance in Val: Loss: (0.0489); Accuracy (94.96)\n"
          ]
        },
        {
          "name": "stderr",
          "output_type": "stream",
          "text": [
            "Epoch 3: 100%|██████████| 3130/3130 [00:23<00:00, 135.45batch/s, train_loss=tensor(0.0227, device='cuda:0', grad_fn=<MseLossBackward0>)]\n"
          ]
        },
        {
          "name": "stdout",
          "output_type": "stream",
          "text": [
            "0.04819325880582958 0.949834009590557 0.9188572611226413 0.9516757599376462 0.8532494758909853 0.8532494758909853 0.8687517323807651 0.9650629885096114 0.8997789240972733\n",
            "Epoch: 3 / 30, ############## the best accuracy in val  94.9650 at Epoch: 2  ##############\n",
            "Performance in Val: Loss: (0.0482); Accuracy (94.98)\n"
          ]
        },
        {
          "name": "stderr",
          "output_type": "stream",
          "text": [
            "Epoch 4: 100%|██████████| 3130/3130 [00:23<00:00, 135.24batch/s, train_loss=tensor(0.1409, device='cuda:0', grad_fn=<MseLossBackward0>)]\n"
          ]
        },
        {
          "name": "stdout",
          "output_type": "stream",
          "text": [
            "0.04762994260685161 0.9507561785319071 0.9197077946693828 0.9546875 0.8539482879105521 0.8539482879105521 0.871219684096544 0.966726935044801 0.9015123570638142\n",
            "Epoch: 4 / 30, ############## the best accuracy in val  94.9834 at Epoch: 3  ##############\n",
            "Performance in Val: Loss: (0.0476); Accuracy (95.08)\n"
          ]
        },
        {
          "name": "stderr",
          "output_type": "stream",
          "text": [
            "Epoch 5: 100%|██████████| 3130/3130 [00:23<00:00, 134.33batch/s, train_loss=tensor(0.0064, device='cuda:0', grad_fn=<MseLossBackward0>)]\n"
          ]
        },
        {
          "name": "stdout",
          "output_type": "stream",
          "text": [
            "0.047808112683403785 0.950571744743637 0.9200307610362308 0.9525291828793774 0.8553459119496856 0.8553459119496856 0.8707178532687819 0.9658941738408274 0.9013254786450663\n",
            "Epoch: 5 / 30, ############## the best accuracy in val  95.0756 at Epoch: 4  ##############\n",
            "Performance in Val: Loss: (0.0478); Accuracy (95.06)\n"
          ]
        },
        {
          "name": "stderr",
          "output_type": "stream",
          "text": [
            "Epoch 6: 100%|██████████| 3130/3130 [00:22<00:00, 136.21batch/s, train_loss=tensor(0.0294, device='cuda:0', grad_fn=<MseLossBackward0>)]\n"
          ]
        },
        {
          "name": "stdout",
          "output_type": "stream",
          "text": [
            "0.048807206807642965 0.950571744743637 0.9200307610362308 0.9525291828793774 0.8553459119496856 0.8553459119496856 0.8707178532687819 0.9626881482637122 0.9013254786450663\n",
            "Epoch: 6 / 30, ############## the best accuracy in val  95.0756 at Epoch: 4  ##############\n",
            "Performance in Val: Loss: (0.0488); Accuracy (95.06)\n"
          ]
        },
        {
          "name": "stderr",
          "output_type": "stream",
          "text": [
            "Epoch 7: 100%|██████████| 3130/3130 [00:23<00:00, 135.00batch/s, train_loss=tensor(0.0419, device='cuda:0', grad_fn=<MseLossBackward0>)]\n"
          ]
        },
        {
          "name": "stdout",
          "output_type": "stream",
          "text": [
            "0.04779864847247975 0.950571744743637 0.9202548851617747 0.9518259518259519 0.8560447239692522 0.8560447239692522 0.870715782573513 0.9673068562196458 0.9013980868285504\n",
            "Epoch: 7 / 30, ############## the best accuracy in val  95.0756 at Epoch: 4  ##############\n",
            "Performance in Val: Loss: (0.0478); Accuracy (95.06)\n"
          ]
        },
        {
          "name": "stderr",
          "output_type": "stream",
          "text": [
            "Epoch 8: 100%|██████████| 3130/3130 [00:23<00:00, 133.87batch/s, train_loss=tensor(0.0919, device='cuda:0', grad_fn=<MseLossBackward0>)]\n"
          ]
        },
        {
          "name": "stdout",
          "output_type": "stream",
          "text": [
            "0.04816267381190078 0.949834009590557 0.9188572611226413 0.9516757599376462 0.8532494758909853 0.8532494758909853 0.8687517323807651 0.9659099325684047 0.8997789240972733\n",
            "Epoch: 8 / 30, ############## the best accuracy in val  95.0756 at Epoch: 4  ##############\n",
            "Performance in Val: Loss: (0.0482); Accuracy (94.98)\n"
          ]
        },
        {
          "name": "stderr",
          "output_type": "stream",
          "text": [
            "Epoch 9: 100%|██████████| 3130/3130 [00:23<00:00, 134.79batch/s, train_loss=tensor(0.0221, device='cuda:0', grad_fn=<MseLossBackward0>)]\n"
          ]
        },
        {
          "name": "stdout",
          "output_type": "stream",
          "text": [
            "0.047820159825455164 0.950571744743637 0.919806636910687 0.9532346063912704 0.8546470999301188 0.8546470999301188 0.8707208324468224 0.9654699138750518 0.901252763448784\n",
            "Epoch: 9 / 30, ############## the best accuracy in val  95.0756 at Epoch: 4  ##############\n",
            "Performance in Val: Loss: (0.0478); Accuracy (95.06)\n"
          ]
        },
        {
          "name": "stderr",
          "output_type": "stream",
          "text": [
            "Epoch 10: 100%|██████████| 3130/3130 [00:23<00:00, 132.26batch/s, train_loss=tensor(0.0284, device='cuda:0', grad_fn=<MseLossBackward0>)]\n"
          ]
        },
        {
          "name": "stdout",
          "output_type": "stream",
          "text": [
            "0.04778530112306991 0.9511250461084471 0.9213031031911249 0.951937984496124 0.8581411600279525 0.8581411600279525 0.8721884332792033 0.9654144081345852 0.902609334803381\n",
            "Epoch: 10 / 30, ############## the best accuracy in val  95.0756 at Epoch: 4  ##############\n",
            "Performance in Val: Loss: (0.0478); Accuracy (95.11)\n"
          ]
        },
        {
          "name": "stderr",
          "output_type": "stream",
          "text": [
            "Epoch 11: 100%|██████████| 3130/3130 [00:23<00:00, 135.14batch/s, train_loss=tensor(0.0413, device='cuda:0', grad_fn=<MseLossBackward0>)]\n"
          ]
        },
        {
          "name": "stdout",
          "output_type": "stream",
          "text": [
            "0.04855621095944559 0.950387310955367 0.9192331067753599 0.95390625 0.8532494758909853 0.8532494758909853 0.870234338000218 0.9641705192378169 0.900774621910734\n",
            "Epoch: 11 / 30, ############## the best accuracy in val  95.1125 at Epoch: 10  ##############\n",
            "Performance in Val: Loss: (0.0486); Accuracy (95.04)\n"
          ]
        },
        {
          "name": "stderr",
          "output_type": "stream",
          "text": [
            "Epoch 12: 100%|██████████| 3130/3130 [00:23<00:00, 132.16batch/s, train_loss=tensor(0.0327, device='cuda:0', grad_fn=<MseLossBackward0>)]\n"
          ]
        },
        {
          "name": "stdout",
          "output_type": "stream",
          "text": [
            "0.04789699705463221 0.9502028771670971 0.9206766937699271 0.9482625482625483 0.8581411600279525 0.8581411600279525 0.869735125016007 0.9658141545241293 0.900953778429934\n",
            "Epoch: 12 / 30, ############## the best accuracy in val  95.1125 at Epoch: 10  ##############\n",
            "Performance in Val: Loss: (0.0479); Accuracy (95.02)\n"
          ]
        },
        {
          "name": "stderr",
          "output_type": "stream",
          "text": [
            "Epoch 13: 100%|██████████| 3130/3130 [00:23<00:00, 133.69batch/s, train_loss=tensor(0.0544, device='cuda:0', grad_fn=<MseLossBackward0>)]\n"
          ]
        },
        {
          "name": "stdout",
          "output_type": "stream",
          "text": [
            "0.047529655449287445 0.948911840649207 0.9168861069481806 0.9521943573667712 0.8490566037735849 0.8490566037735849 0.8662995973309715 0.9651211207046744 0.8976727004063538\n",
            "Epoch: 13 / 30, ############## the best accuracy in val  95.1125 at Epoch: 10  ##############\n",
            "Performance in Val: Loss: (0.0475); Accuracy (94.89)\n"
          ]
        },
        {
          "name": "stderr",
          "output_type": "stream",
          "text": [
            "Epoch 14: 100%|██████████| 3130/3130 [00:23<00:00, 134.65batch/s, train_loss=tensor(0.0162, device='cuda:0', grad_fn=<MseLossBackward0>)]\n"
          ]
        },
        {
          "name": "stdout",
          "output_type": "stream",
          "text": [
            "0.0469340168088702 0.9496495758022869 0.9187319792384017 0.9509345794392523 0.8532494758909853 0.8532494758909853 0.8682585154204355 0.9646900319569485 0.8994475138121547\n",
            "Epoch: 14 / 30, ############## the best accuracy in val  95.1125 at Epoch: 10  ##############\n",
            "Performance in Val: Loss: (0.0469); Accuracy (94.96)\n"
          ]
        },
        {
          "name": "stderr",
          "output_type": "stream",
          "text": [
            "Epoch 15: 100%|██████████| 3130/3130 [00:23<00:00, 134.16batch/s, train_loss=tensor(0.0284, device='cuda:0', grad_fn=<MseLossBackward0>)]\n"
          ]
        },
        {
          "name": "stdout",
          "output_type": "stream",
          "text": [
            "0.047705144236471424 0.948911840649207 0.9184549758269874 0.9472868217054263 0.8539482879105521 0.8539482879105521 0.8662921943844716 0.9652956923868361 0.8981991914737228\n",
            "Epoch: 15 / 30, ############## the best accuracy in val  95.1125 at Epoch: 10  ##############\n",
            "Performance in Val: Loss: (0.0477); Accuracy (94.89)\n"
          ]
        },
        {
          "name": "stderr",
          "output_type": "stream",
          "text": [
            "Epoch 16: 100%|██████████| 3130/3130 [00:23<00:00, 133.37batch/s, train_loss=tensor(0.0492, device='cuda:0', grad_fn=<MseLossBackward0>)]\n"
          ]
        },
        {
          "name": "stdout",
          "output_type": "stream",
          "text": [
            "0.046451995406124005 0.9513094798967171 0.9216525092009082 0.9519752130131681 0.8588399720475192 0.8588399720475192 0.8726792443722489 0.9682133332492868 0.9030124908155768\n",
            "Epoch: 16 / 30, ############## the best accuracy in val  95.1125 at Epoch: 10  ##############\n",
            "Performance in Val: Loss: (0.0465); Accuracy (95.13)\n"
          ]
        },
        {
          "name": "stderr",
          "output_type": "stream",
          "text": [
            "Epoch 17: 100%|██████████| 3130/3130 [00:23<00:00, 133.94batch/s, train_loss=tensor(0.0706, device='cuda:0', grad_fn=<MseLossBackward0>)]\n"
          ]
        },
        {
          "name": "stdout",
          "output_type": "stream",
          "text": [
            "0.0475659516473798 0.9502028771670971 0.919556073142208 0.9517509727626459 0.8546470999301188 0.8546470999301188 0.8697338319484467 0.9658281622819758 0.9005891016200295\n",
            "Epoch: 17 / 30, ############## the best accuracy in val  95.1309 at Epoch: 16  ##############\n",
            "Performance in Val: Loss: (0.0476); Accuracy (95.02)\n"
          ]
        },
        {
          "name": "stderr",
          "output_type": "stream",
          "text": [
            "Epoch 18: 100%|██████████| 3130/3130 [00:23<00:00, 134.00batch/s, train_loss=tensor(0.0300, device='cuda:0', grad_fn=<MseLossBackward0>)]\n"
          ]
        },
        {
          "name": "stdout",
          "output_type": "stream",
          "text": [
            "0.04757877736720517 0.949465142014017 0.9190549456052498 0.9487975174553918 0.8546470999301188 0.8546470999301188 0.8677657114640043 0.9673695409360088 0.8992647058823529\n",
            "Epoch: 18 / 30, ############## the best accuracy in val  95.1309 at Epoch: 16  ##############\n",
            "Performance in Val: Loss: (0.0476); Accuracy (94.95)\n"
          ]
        },
        {
          "name": "stderr",
          "output_type": "stream",
          "text": [
            "Epoch 19: 100%|██████████| 3130/3130 [00:23<00:00, 133.23batch/s, train_loss=tensor(0.0126, device='cuda:0', grad_fn=<MseLossBackward0>)]\n"
          ]
        },
        {
          "name": "stdout",
          "output_type": "stream",
          "text": [
            "0.04667010524957153 0.950940612320177 0.9202813248047099 0.9540140296180826 0.8553459119496856 0.8553459119496856 0.8717053824798511 0.9671603000531769 0.9019896831245394\n",
            "Epoch: 19 / 30, ############## the best accuracy in val  95.1309 at Epoch: 16  ##############\n",
            "Performance in Val: Loss: (0.0467); Accuracy (95.09)\n"
          ]
        },
        {
          "name": "stderr",
          "output_type": "stream",
          "text": [
            "Epoch 20: 100%|██████████| 3130/3130 [00:23<00:00, 133.63batch/s, train_loss=tensor(0.0301, device='cuda:0', grad_fn=<MseLossBackward0>)]\n"
          ]
        },
        {
          "name": "stdout",
          "output_type": "stream",
          "text": [
            "0.04684893478526786 0.9513094798967171 0.9225490057030835 0.9491916859122402 0.8616352201257862 0.8616352201257862 0.8726830033776122 0.9668433745319001 0.9032967032967033\n",
            "Epoch: 20 / 30, ############## the best accuracy in val  95.1309 at Epoch: 16  ##############\n",
            "Performance in Val: Loss: (0.0468); Accuracy (95.13)\n"
          ]
        },
        {
          "name": "stderr",
          "output_type": "stream",
          "text": [
            "Epoch 21: 100%|██████████| 3130/3130 [00:23<00:00, 134.23batch/s, train_loss=tensor(0.0240, device='cuda:0', grad_fn=<MseLossBackward0>)]\n"
          ]
        },
        {
          "name": "stdout",
          "output_type": "stream",
          "text": [
            "0.04717485781121658 0.950571744743637 0.9200307610362308 0.9525291828793774 0.8553459119496856 0.8553459119496856 0.8707178532687819 0.9662781615027944 0.9013254786450663\n",
            "Epoch: 21 / 30, ############## the best accuracy in val  95.1309 at Epoch: 16  ##############\n",
            "Performance in Val: Loss: (0.0472); Accuracy (95.06)\n"
          ]
        },
        {
          "name": "stderr",
          "output_type": "stream",
          "text": [
            "Epoch 22: 100%|██████████| 3130/3130 [00:23<00:00, 131.91batch/s, train_loss=tensor(0.0414, device='cuda:0', grad_fn=<MseLossBackward0>)]\n"
          ]
        },
        {
          "name": "stdout",
          "output_type": "stream",
          "text": [
            "0.04713756468742509 0.9507561785319071 0.9203801670460142 0.9525660964230172 0.8560447239692522 0.8560447239692522 0.8712085833239706 0.9637937105517463 0.9017298490982701\n",
            "Epoch: 22 / 30, ############## the best accuracy in val  95.1309 at Epoch: 16  ##############\n",
            "Performance in Val: Loss: (0.0471); Accuracy (95.08)\n"
          ]
        },
        {
          "name": "stderr",
          "output_type": "stream",
          "text": [
            "Epoch 23: 100%|██████████| 3130/3130 [00:23<00:00, 133.23batch/s, train_loss=tensor(0.0198, device='cuda:0', grad_fn=<MseLossBackward0>)]\n"
          ]
        },
        {
          "name": "stdout",
          "output_type": "stream",
          "text": [
            "0.0468038842183329 0.9524160826263371 0.9228524487574331 0.9550038789759504 0.8602375960866527 0.8602375960866527 0.8756294607388913 0.9663028501759987 0.9051470588235294\n",
            "Epoch: 23 / 30, ############## the best accuracy in val  95.1309 at Epoch: 16  ##############\n",
            "Performance in Val: Loss: (0.0468); Accuracy (95.24)\n"
          ]
        },
        {
          "name": "stderr",
          "output_type": "stream",
          "text": [
            "Epoch 24: 100%|██████████| 3130/3130 [00:23<00:00, 132.74batch/s, train_loss=tensor(0.0198, device='cuda:0', grad_fn=<MseLossBackward0>)]\n"
          ]
        },
        {
          "name": "stdout",
          "output_type": "stream",
          "text": [
            "0.047219381102939086 0.9518627812615271 0.9220283548536268 0.9541925465838509 0.8588399720475192 0.8588399720475192 0.8741563963021218 0.9650179885875294 0.9040088267745494\n",
            "Epoch: 24 / 30, ############## the best accuracy in val  95.2416 at Epoch: 23  ##############\n",
            "Performance in Val: Loss: (0.0472); Accuracy (95.19)\n"
          ]
        },
        {
          "name": "stderr",
          "output_type": "stream",
          "text": [
            "Epoch 25: 100%|██████████| 3130/3130 [00:24<00:00, 130.18batch/s, train_loss=tensor(0.0307, device='cuda:0', grad_fn=<MseLossBackward0>)]\n"
          ]
        },
        {
          "name": "stdout",
          "output_type": "stream",
          "text": [
            "0.04734113702727729 0.9481741054961269 0.9163849794112224 0.94921875 0.8490566037735849 0.8490566037735849 0.8643222614222617 0.966422091214667 0.8963482109922537\n",
            "Epoch: 25 / 30, ############## the best accuracy in val  95.2416 at Epoch: 23  ##############\n",
            "Performance in Val: Loss: (0.0473); Accuracy (94.82)\n"
          ]
        },
        {
          "name": "stderr",
          "output_type": "stream",
          "text": [
            "Epoch 26: 100%|██████████| 3130/3130 [00:23<00:00, 133.24batch/s, train_loss=tensor(0.0254, device='cuda:0', grad_fn=<MseLossBackward0>)]\n"
          ]
        },
        {
          "name": "stdout",
          "output_type": "stream",
          "text": [
            "0.04746498860615226 0.950387310955367 0.9194572309009037 0.953198127925117 0.8539482879105521 0.8539482879105521 0.8702302561402004 0.966057364219739 0.900847769996314\n",
            "Epoch: 26 / 30, ############## the best accuracy in val  95.2416 at Epoch: 23  ##############\n",
            "Performance in Val: Loss: (0.0475); Accuracy (95.04)\n"
          ]
        },
        {
          "name": "stderr",
          "output_type": "stream",
          "text": [
            "Epoch 27: 100%|██████████| 3130/3130 [00:23<00:00, 132.14batch/s, train_loss=tensor(0.0170, device='cuda:0', grad_fn=<MseLossBackward0>)]\n"
          ]
        },
        {
          "name": "stdout",
          "output_type": "stream",
          "text": [
            "0.047697950316459806 0.9513094798967171 0.9216525092009082 0.9519752130131681 0.8588399720475192 0.8588399720475192 0.8726792443722489 0.9663301653037994 0.9030124908155768\n",
            "Epoch: 27 / 30, ############## the best accuracy in val  95.2416 at Epoch: 23  ##############\n",
            "Performance in Val: Loss: (0.0477); Accuracy (95.13)\n"
          ]
        },
        {
          "name": "stderr",
          "output_type": "stream",
          "text": [
            "Epoch 28: 100%|██████████| 3130/3130 [00:23<00:00, 130.86batch/s, train_loss=tensor(0.0424, device='cuda:0', grad_fn=<MseLossBackward0>)]\n"
          ]
        },
        {
          "name": "stdout",
          "output_type": "stream",
          "text": [
            "0.04644727348528561 0.951493913684987 0.9215536669596038 0.953416149068323 0.8581411600279525 0.8581411600279525 0.8731731650712458 0.9690732344840882 0.9032732622287606\n",
            "Epoch: 28 / 30, ############## the best accuracy in val  95.2416 at Epoch: 23  ##############\n",
            "Performance in Val: Loss: (0.0464); Accuracy (95.15)\n"
          ]
        },
        {
          "name": "stderr",
          "output_type": "stream",
          "text": [
            "Epoch 29: 100%|██████████| 3130/3130 [00:23<00:00, 132.51batch/s, train_loss=tensor(0.0192, device='cuda:0', grad_fn=<MseLossBackward0>)]\n"
          ]
        },
        {
          "name": "stdout",
          "output_type": "stream",
          "text": [
            "0.04712645924007273 0.950387310955367 0.9210260997797104 0.9483024691358025 0.8588399720475192 0.8588399720475192 0.8702270582377633 0.9668934522662014 0.9013568023469014\n",
            "Epoch: 29 / 30, ############## the best accuracy in val  95.2416 at Epoch: 23  ##############\n",
            "Performance in Val: Loss: (0.0471); Accuracy (95.04)\n"
          ]
        }
      ],
      "source": [
        "initial_epoch = 0\n",
        "best_epoch = -1\n",
        "best_accuracy = 0.5\n",
        "for epoch in range(initial_epoch, 30):\n",
        "    torch.cuda.empty_cache()\n",
        "    model.train()\n",
        "    with tqdm(train_loader, desc='Processing', unit=\"batch\") as tepoch:\n",
        "        for ESP_train_df_enzy,ESP_train_df_smiles, y_train in tepoch:\n",
        "            model.train()\n",
        "            tepoch.set_description(f\"Epoch {epoch}\")\n",
        "            ESP_train_df_enzy = ESP_train_df_enzy.to(device)\n",
        "            ESP_train_df_smiles = ESP_train_df_smiles.to(device)\n",
        "            y_train = y_train.squeeze(1).to(device)\n",
        "            refined_enzy_embed, refined_smiles_embed = model(ESP_train_df_enzy,ESP_train_df_smiles)\n",
        "            cosine_sim = torch.nn.functional.cosine_similarity(refined_enzy_embed, refined_smiles_embed, dim=1)\n",
        "            loss = loss_fn(cosine_sim, y_train)\n",
        "            loss.backward()\n",
        "            optimizer.step()\n",
        "            optimizer.zero_grad(set_to_none=True) #\n",
        "            tepoch.set_postfix(train_loss=loss)\n",
        "            # tepoch.set_postfix(val_loss=loss_sum_val, val_accuracy=100. * acc_val, balanced_val_accuracy=100. * bacc_val)\n",
        "        loss_sum_val,acc_val, bacc_val = run_validation(model,val_loader,loss_fn, device)\n",
        "        print('Epoch: %d / %d, ############## the best accuracy in val  %.4f at Epoch: %d  ##############'  % (epoch, 30,100 * best_accuracy,best_epoch))\n",
        "        # print('Performance in Train: Loss: (%.4f); Accuracy (%.2f)' % (loss_sum, 100 * acc))\n",
        "        print('Performance in Val: Loss: (%.4f); Accuracy (%.2f)' % (loss_sum_val, 100 * acc_val))\n",
        "        # checkpoint(model, f\"epoch-{epoch}.pth\")\n",
        "        if acc_val > best_accuracy: # compare the performance updates at the val set\n",
        "            best_accuracy = acc_val\n",
        "            best_epoch = epoch\n",
        "            torch.save(model, \"best_model.pt\")\n",
        "\n"
      ]
    },
    {
      "cell_type": "code",
      "execution_count": null,
      "metadata": {
        "colab": {
          "background_save": true
        },
        "id": "bxwJfHLbDmEw",
        "outputId": "1f37c6ef-3064-4291-a299-cd58ed79f661"
      },
      "outputs": [
        {
          "name": "stdout",
          "output_type": "stream",
          "text": [
            "0.0468038842183329 0.9524160826263371 0.9228524487574331 0.9550038789759504 0.8602375960866527 0.8602375960866527 0.8756294607388913 0.9663028501759987 0.9051470588235294\n"
          ]
        },
        {
          "data": {
            "text/plain": [
              "(0.0468038842183329, 0.9524160826263371, 0.9228524487574331)"
            ]
          },
          "execution_count": 71,
          "metadata": {},
          "output_type": "execute_result"
        }
      ],
      "source": [
        "import torch\n",
        "# Specify the file path where the entire model is saved\n",
        "load_path = 'best_model.pt'\n",
        "\n",
        "# Load the entire model\n",
        "model_test = torch.load(load_path)\n",
        "# model_test.to('cuda')\n",
        "# rename the baseline model\n",
        "torch.save(model_test, 'best_model_esm2_1280_fine_tuned.pt')\n",
        "run_validation(model_test,val_loader,loss_fn, device)"
      ]
    },
    {
      "cell_type": "code",
      "execution_count": null,
      "metadata": {
        "colab": {
          "background_save": true
        },
        "id": "qNu5Ip7SDmEw",
        "outputId": "100fee29-b948-47db-8324-d94355c18726"
      },
      "outputs": [
        {
          "name": "stdout",
          "output_type": "stream",
          "text": [
            "0.0468038842183329 0.9524160826263371 0.9228524487574331 0.9550038789759504 0.8602375960866527 0.8602375960866527 0.8756294607388913 0.9663028501759987 0.9051470588235294\n",
            "0.05134982314188038 0.9455608878224355 0.9132812699118837 0.9425761421319797 0.8449943117178612 0.8449943117178612 0.8572423068955304 0.9634896423449162 0.891121775644871\n"
          ]
        },
        {
          "data": {
            "text/plain": [
              "(0.05134982314188038, 0.9455608878224355, 0.9132812699118837)"
            ]
          },
          "execution_count": 72,
          "metadata": {},
          "output_type": "execute_result"
        }
      ],
      "source": [
        "run_validation(model_test,val_loader,loss_fn, device)\n",
        "run_validation(model_test,test_loader,loss_fn, device)"
      ]
    },
    {
      "cell_type": "code",
      "source": [
        "import torch\n",
        "# Specify the file path where the entire model is saved\n",
        "load_path = 'best_model_esm2_1280_fine_tuned_ACC=0.94556.pt'\n",
        "\n",
        "# Load the entire model\n",
        "model_test = torch.load(load_path)\n",
        "# model_test.to('cuda')\n",
        "# rename the baseline model\n",
        "run_validation(model_test,test_loader,loss_fn, device)"
      ],
      "metadata": {
        "colab": {
          "base_uri": "https://localhost:8080/"
        },
        "id": "-l3V2mmLjZfk",
        "outputId": "180ddad6-09a7-4ac7-deb1-3cf2538ddb2c"
      },
      "execution_count": null,
      "outputs": [
        {
          "output_type": "stream",
          "name": "stdout",
          "text": [
            "loss_sum=  0.05134982314188038 ACC=  0.9455608878224355 bacc=  0.9132812699118837 precision=  0.9425761421319797 specificity=  0.9815682281059063 sensitivity=  0.8449943117178612 recall=  0.8449943117178612 MCC=  0.8572423068955304 AUC=  0.9634896423449162 f1=  0.891121775644871\n"
          ]
        },
        {
          "output_type": "execute_result",
          "data": {
            "text/plain": [
              "(0.05134982314188038, 0.9455608878224355, 0.9132812699118837)"
            ]
          },
          "metadata": {},
          "execution_count": 11
        }
      ]
    },
    {
      "cell_type": "code",
      "execution_count": null,
      "metadata": {
        "id": "jbq34XqgaEWr"
      },
      "outputs": [],
      "source": []
    },
    {
      "cell_type": "markdown",
      "metadata": {
        "id": "3lcECUoNZ0ze"
      },
      "source": [
        "## esm1b + ChemBERTa-2"
      ]
    },
    {
      "cell_type": "code",
      "source": [
        "import os\n",
        "os.chdir('/content/drive/MyDrive/EC_number_kroll/esm1b_ChemBERTaV2_phylo')"
      ],
      "metadata": {
        "id": "iCeRjnyoPyNs"
      },
      "execution_count": null,
      "outputs": []
    },
    {
      "cell_type": "markdown",
      "metadata": {
        "id": "dC7FsVgmZ0zf"
      },
      "source": [
        "### pretrain"
      ]
    },
    {
      "cell_type": "code",
      "execution_count": null,
      "metadata": {
        "id": "HX9QrN1hZ0zf"
      },
      "outputs": [],
      "source": [
        "def get_ds():\n",
        "    # Load the saved embeddings_results\n",
        "    ESP_train_df_enzy = torch.load('ESP_train_enzy_esm1b_ChemBERTaV2_phylo.pt')\n",
        "    ESP_val_df_enzy = torch.load('ESP_val_df_enzy_esm1b_MolFormer.pt')\n",
        "    ESP_test_df_enzy = torch.load('ESP_test_df_enzy_esm1b_MolFormer.pt')\n",
        "    print(ESP_train_df_enzy.shape, ESP_val_df_enzy.shape, ESP_test_df_enzy.shape)\n",
        "    # Load the saved embeddings_results\n",
        "    ESP_train_df_smiles = torch.load('ESP_train_smiles_esm1b_ChemBERTaV2_phylo.pt').detach()\n",
        "    ESP_val_df_smiles = torch.load('ESP_val_df_smiles_esm1b_ChemBERT_v2.pt').detach()\n",
        "    ESP_test_df_smiles = torch.load('ESP_test_df_smiles_esm1b_ChemBERT_v2.pt').detach()\n",
        "    print(ESP_train_df_smiles.shape, ESP_val_df_smiles.shape, ESP_test_df_smiles.shape)\n",
        "\n",
        "    y_train = torch.load('ESP_train_label_esm1b_ChemBERTaV2_phylo.pt')\n",
        "    y_val = torch.load('ESP_val_df_label_esm1b_MolFormer.pt')\n",
        "    y_test = torch.load('ESP_test_df_label_esm1b_MolFormer.pt')\n",
        "    print(y_train.shape,y_val.shape, y_test.shape)\n",
        "\n",
        "\n",
        "    train_tensor_dataset = TensorDataset(ESP_train_df_enzy,ESP_train_df_smiles, y_train)\n",
        "    val_tensor_dataset = TensorDataset(ESP_val_df_enzy,ESP_val_df_smiles, y_val)\n",
        "    test_tensor_dataset = TensorDataset(ESP_test_df_enzy, ESP_test_df_smiles, y_test)\n",
        "\n",
        "    # Create TensorDataset and DataLoaders\n",
        "    batch_size = 512\n",
        "    train_loader = DataLoader(train_tensor_dataset, batch_size=batch_size, shuffle=True)\n",
        "    val_loader = DataLoader(val_tensor_dataset, batch_size=batch_size, shuffle=False)\n",
        "    test_loader = DataLoader(test_tensor_dataset, batch_size=batch_size, shuffle=False)\n",
        "    print(len(train_loader))\n",
        "    return train_loader,  val_loader, test_loader"
      ]
    },
    {
      "cell_type": "code",
      "execution_count": null,
      "metadata": {
        "id": "A-v68zmPZ0zf"
      },
      "outputs": [],
      "source": [
        "def run_validation(model, val_loader,loss_fn, device):\n",
        "    model.eval()\n",
        "    loss_sum = 0\n",
        "    num_batch = len(val_loader)\n",
        "    total_y_true=[]\n",
        "    total_y_pred=[]\n",
        "    total_y_prob=[]\n",
        "    for ESP_val_df_enzy,ESP_val_df_smiles, y_val in val_loader:\n",
        "\n",
        "        ESP_val_df_enzy = ESP_val_df_enzy.to(device)\n",
        "        ESP_val_df_smiles = ESP_val_df_smiles.to(device)\n",
        "        y_val = y_val.squeeze(1).to(device)\n",
        "\n",
        "        refined_enzy_embed, refined_smiles_embed = model(ESP_val_df_enzy,ESP_val_df_smiles)\n",
        "        cos_sim = torch.nn.functional.cosine_similarity(refined_enzy_embed, refined_smiles_embed, dim=1)\n",
        "        loss = loss_fn(cos_sim, y_val).detach().cpu().numpy()\n",
        "        loss_sum = loss_sum + loss # count all the loss in the training process\n",
        "        y_pred = (cos_sim > 0.5).float().cpu().numpy() # if score > 0.5, assign label 1 otherwise 0, transfer to cpu as numpy\n",
        "        total_y_true.append(y_val.cpu().numpy())\n",
        "        total_y_pred.append(y_pred)\n",
        "        total_y_prob.append(cos_sim.detach().cpu().numpy())\n",
        "\n",
        "    loss_sum = loss_sum/num_batch # get the overall average loss (Notice: this method is not 100% accurate)\n",
        "\n",
        "    arrange_y_true = np.concatenate(total_y_true, axis=0)\n",
        "    arrange_y_pred = np.concatenate(total_y_pred, axis=0)\n",
        "    arrange_y_prob = np.concatenate(total_y_prob, axis=0)\n",
        "    tn,fp,fn,tp = confusion_matrix(arrange_y_true, arrange_y_pred).ravel()\n",
        "    acc = (tp+tn)/(tp+tn+fp+fn)\n",
        "    specificity = tn/(tn+fp)\n",
        "    sensitivity = tp/(tp+fn)\n",
        "    precision = tp/(tp+fp)\n",
        "    bacc = (sensitivity + specificity)/2\n",
        "    recall = tp/(tp+fn)\n",
        "    MCC = (tp*tn-fp*fn)/np.sqrt((tp+fp)*(tp+fn)*(tn+fp)*(tn+fn))\n",
        "    AUC = roc_auc_score(arrange_y_true, arrange_y_prob)\n",
        "    f1 = 2*precision*recall/(precision+recall)\n",
        "    print(loss_sum, acc, bacc, precision, sensitivity, recall, MCC, AUC, f1)\n",
        "    return loss_sum, acc, bacc   # , precision, sensitivity, recall, MCC, AUC, f1\n"
      ]
    },
    {
      "cell_type": "code",
      "execution_count": null,
      "metadata": {
        "id": "tVtY7cOdZ0zg"
      },
      "outputs": [],
      "source": [
        "import torch\n",
        "import torch.nn as nn\n",
        "\n",
        "class Contrastive_learning_layer(nn.Module):\n",
        "    def __init__(self):\n",
        "        super().__init__()\n",
        "        self.enzy_refine_layer_1 = nn.Linear(1280, 1280) # W1 and b\n",
        "        self.smiles_refine_layer_1 = nn.Linear(600, 600) # W1 and b\n",
        "        self.enzy_refine_layer_2 = nn.Linear(1280, 128) # W1 and b\n",
        "        self.smiles_refine_layer_2 = nn.Linear(600, 128) # W1 and b\n",
        "\n",
        "        self.relu = nn.ReLU()\n",
        "        self.batch_norm_enzy = nn.BatchNorm1d(1280)\n",
        "        self.batch_norm_smiles = nn.BatchNorm1d(600)\n",
        "        self.batch_norm_shared = nn.BatchNorm1d(128)\n",
        "\n",
        "    def forward(self, enzy_embed, smiles_embed):\n",
        "        refined_enzy_embed = self.enzy_refine_layer_1(enzy_embed)\n",
        "        refined_smiles_embed = self.smiles_refine_layer_1(smiles_embed)\n",
        "\n",
        "        refined_enzy_embed = self.batch_norm_enzy(refined_enzy_embed)\n",
        "        refined_smiles_embed = self.batch_norm_smiles(refined_smiles_embed)\n",
        "\n",
        "        refined_enzy_embed = self.relu(refined_enzy_embed)\n",
        "        refined_smiles_embed = self.relu(refined_smiles_embed)\n",
        "\n",
        "        refined_enzy_embed = self.enzy_refine_layer_2(refined_enzy_embed)\n",
        "        refined_smiles_embed = self.smiles_refine_layer_2(refined_smiles_embed)\n",
        "\n",
        "        refined_enzy_embed = self.batch_norm_shared(refined_enzy_embed)\n",
        "        refined_smiles_embed = self.batch_norm_shared(refined_smiles_embed)\n",
        "        refined_enzy_embed = torch.nn.functional.normalize(refined_enzy_embed, dim=1)\n",
        "        refined_smiles_embed = torch.nn.functional.normalize(refined_smiles_embed, dim=1)\n",
        "\n",
        "        return refined_enzy_embed, refined_smiles_embed\n"
      ]
    },
    {
      "cell_type": "code",
      "execution_count": null,
      "metadata": {
        "colab": {
          "base_uri": "https://localhost:8080/"
        },
        "outputId": "12a1e0bd-4505-455e-bbe2-e7e9899ca3b4",
        "id": "O6pfNpvFZ0zg"
      },
      "outputs": [
        {
          "output_type": "stream",
          "name": "stdout",
          "text": [
            "torch.Size([716660, 1280]) torch.Size([4991, 1280]) torch.Size([12328, 1280])\n",
            "torch.Size([716660, 600]) torch.Size([4991, 600]) torch.Size([12328, 600])\n",
            "torch.Size([716660, 1]) torch.Size([4991, 1]) torch.Size([12328, 1])\n",
            "1400\n"
          ]
        }
      ],
      "source": [
        "# design the model, optimizer and loss function\n",
        "model = Contrastive_learning_layer().to(device)\n",
        "train_loader,  val_loader, test_loader = get_ds()\n",
        "optimizer = torch.optim.Adam(model.parameters(),lr= 1e-03)\n",
        "loss_fn = nn.MSELoss().to(device)"
      ]
    },
    {
      "cell_type": "code",
      "execution_count": null,
      "metadata": {
        "colab": {
          "base_uri": "https://localhost:8080/"
        },
        "outputId": "a84cd5df-8a62-489a-b43a-94c73ae08dec",
        "id": "9khCeyCQZ0zg"
      },
      "outputs": [
        {
          "output_type": "stream",
          "name": "stderr",
          "text": [
            "Epoch 0: 100%|██████████| 1400/1400 [00:20<00:00, 68.59batch/s, train_loss=tensor(0.0364, device='cuda:0', grad_fn=<MseLossBackward0>)]\n"
          ]
        },
        {
          "output_type": "stream",
          "name": "stdout",
          "text": [
            "0.09870108980685473 0.8857944299739531 0.8014167001144659 0.9193729003359462 0.6224412433661866 0.6224412433661866 0.6935205496310966 0.9182369582488878 0.7423146473779385\n",
            "Epoch: 0 / 500, ############## the best accuracy in val  50.0000 at Epoch: -1  ##############\n",
            "Performance in Val: Loss: (0.0987); Accuracy (88.58)\n"
          ]
        },
        {
          "output_type": "stream",
          "name": "stderr",
          "text": [
            "Epoch 1: 100%|██████████| 1400/1400 [00:19<00:00, 71.37batch/s, train_loss=tensor(0.0199, device='cuda:0', grad_fn=<MseLossBackward0>)]\n"
          ]
        },
        {
          "output_type": "stream",
          "name": "stdout",
          "text": [
            "0.08438057992607355 0.9026247245041074 0.8342306428088884 0.9228426395939087 0.689158453373768 0.689158453373768 0.7405875488419339 0.9328621116545346 0.7890625\n",
            "Epoch: 1 / 500, ############## the best accuracy in val  88.5794 at Epoch: 0  ##############\n",
            "Performance in Val: Loss: (0.0844); Accuracy (90.26)\n"
          ]
        },
        {
          "output_type": "stream",
          "name": "stderr",
          "text": [
            "Epoch 2: 100%|██████████| 1400/1400 [00:20<00:00, 68.30batch/s, train_loss=tensor(0.0281, device='cuda:0', grad_fn=<MseLossBackward0>)]\n"
          ]
        },
        {
          "output_type": "stream",
          "name": "stdout",
          "text": [
            "0.07613623086363078 0.9176517731917452 0.8650903668686749 0.9203703703703704 0.7536012130401819 0.7536012130401819 0.7818947875772481 0.9377215400522942 0.8286786160900376\n",
            "Epoch: 2 / 500, ############## the best accuracy in val  90.2625 at Epoch: 1  ##############\n",
            "Performance in Val: Loss: (0.0761); Accuracy (91.77)\n"
          ]
        },
        {
          "output_type": "stream",
          "name": "stderr",
          "text": [
            "Epoch 3: 100%|██████████| 1400/1400 [00:20<00:00, 67.74batch/s, train_loss=tensor(0.0214, device='cuda:0', grad_fn=<MseLossBackward0>)]\n"
          ]
        },
        {
          "output_type": "stream",
          "name": "stdout",
          "text": [
            "0.07153524719178676 0.9222600681226207 0.8713799983812918 0.9298245614035088 0.7634571645185747 0.7634571645185747 0.7945673840400798 0.942418684683881 0.8384679433805162\n",
            "Epoch: 3 / 500, ############## the best accuracy in val  91.7652 at Epoch: 2  ##############\n",
            "Performance in Val: Loss: (0.0715); Accuracy (92.23)\n"
          ]
        },
        {
          "output_type": "stream",
          "name": "stderr",
          "text": [
            "Epoch 4: 100%|██████████| 1400/1400 [00:20<00:00, 68.39batch/s, train_loss=tensor(0.0240, device='cuda:0', grad_fn=<MseLossBackward0>)]\n"
          ]
        },
        {
          "output_type": "stream",
          "name": "stdout",
          "text": [
            "0.0691863378509879 0.9226607894209577 0.8755388812082832 0.9191374663072777 0.775587566338135 0.775587566338135 0.7956226775292076 0.9466603611371263 0.8412828947368421\n",
            "Epoch: 4 / 500, ############## the best accuracy in val  92.2260 at Epoch: 3  ##############\n",
            "Performance in Val: Loss: (0.0692); Accuracy (92.27)\n"
          ]
        },
        {
          "output_type": "stream",
          "name": "stderr",
          "text": [
            "Epoch 5: 100%|██████████| 1400/1400 [00:20<00:00, 69.26batch/s, train_loss=tensor(0.0234, device='cuda:0', grad_fn=<MseLossBackward0>)]\n"
          ]
        },
        {
          "output_type": "stream",
          "name": "stdout",
          "text": [
            "0.06882081348448991 0.9242636746143057 0.8758994773884619 0.9281164695177434 0.7733131159969674 0.7733131159969674 0.8000003732330555 0.9455902380327077 0.8436724565756825\n",
            "Epoch: 5 / 500, ############## the best accuracy in val  92.2661 at Epoch: 4  ##############\n",
            "Performance in Val: Loss: (0.0688); Accuracy (92.43)\n"
          ]
        },
        {
          "output_type": "stream",
          "name": "stderr",
          "text": [
            "Epoch 6: 100%|██████████| 1400/1400 [00:21<00:00, 66.40batch/s, train_loss=tensor(0.0181, device='cuda:0', grad_fn=<MseLossBackward0>)]\n"
          ]
        },
        {
          "output_type": "stream",
          "name": "stdout",
          "text": [
            "0.06504993885755539 0.9286716088960129 0.8859394949960441 0.9242290748898678 0.7952994692949203 0.7952994692949203 0.8120008999138718 0.9480662010402677 0.8549307253463732\n",
            "Epoch: 6 / 500, ############## the best accuracy in val  92.4264 at Epoch: 5  ##############\n",
            "Performance in Val: Loss: (0.0650); Accuracy (92.87)\n"
          ]
        },
        {
          "output_type": "stream",
          "name": "stderr",
          "text": [
            "Epoch 7: 100%|██████████| 1400/1400 [00:20<00:00, 67.07batch/s, train_loss=tensor(0.0171, device='cuda:0', grad_fn=<MseLossBackward0>)]\n"
          ]
        },
        {
          "output_type": "stream",
          "name": "stdout",
          "text": [
            "0.06383540397509932 0.9282708875976758 0.8837238880052063 0.928635147190009 0.7892342683851402 0.7892342683851402 0.8108943550126606 0.9494869066319139 0.8532786885245901\n",
            "Epoch: 7 / 500, ############## the best accuracy in val  92.8672 at Epoch: 6  ##############\n",
            "Performance in Val: Loss: (0.0638); Accuracy (92.83)\n"
          ]
        },
        {
          "output_type": "stream",
          "name": "stderr",
          "text": [
            "Epoch 8: 100%|██████████| 1400/1400 [00:20<00:00, 66.96batch/s, train_loss=tensor(0.0162, device='cuda:0', grad_fn=<MseLossBackward0>)]\n"
          ]
        },
        {
          "output_type": "stream",
          "name": "stdout",
          "text": [
            "0.0633828385733068 0.9300741334401923 0.8851922876808039 0.9353680430879713 0.7899924184988628 0.7899924184988628 0.8158133669539284 0.9474911879502032 0.8565556925606248\n",
            "Epoch: 8 / 500, ############## the best accuracy in val  92.8672 at Epoch: 6  ##############\n",
            "Performance in Val: Loss: (0.0634); Accuracy (93.01)\n"
          ]
        },
        {
          "output_type": "stream",
          "name": "stderr",
          "text": [
            "Epoch 9: 100%|██████████| 1400/1400 [00:20<00:00, 69.01batch/s, train_loss=tensor(0.0161, device='cuda:0', grad_fn=<MseLossBackward0>)]\n"
          ]
        },
        {
          "output_type": "stream",
          "name": "stdout",
          "text": [
            "0.06145440619438887 0.9308755760368663 0.8874373163468066 0.9332740213523132 0.7952994692949203 0.7952994692949203 0.8179654047282751 0.9508974952966613 0.8587801882930823\n",
            "Epoch: 9 / 500, ############## the best accuracy in val  93.0074 at Epoch: 8  ##############\n",
            "Performance in Val: Loss: (0.0615); Accuracy (93.09)\n"
          ]
        },
        {
          "output_type": "stream",
          "name": "stderr",
          "text": [
            "Epoch 10: 100%|██████████| 1400/1400 [00:19<00:00, 73.15batch/s, train_loss=tensor(0.0184, device='cuda:0', grad_fn=<MseLossBackward0>)]\n"
          ]
        },
        {
          "output_type": "stream",
          "name": "stdout",
          "text": [
            "0.06295066569000482 0.9300741334401923 0.887621382475996 0.927689594356261 0.7975739196360879 0.7975739196360879 0.8157932529532794 0.9474942849686416 0.8577252344068487\n",
            "Epoch: 10 / 500, ############## the best accuracy in val  93.0876 at Epoch: 9  ##############\n",
            "Performance in Val: Loss: (0.0630); Accuracy (93.01)\n"
          ]
        },
        {
          "output_type": "stream",
          "name": "stderr",
          "text": [
            "Epoch 11: 100%|██████████| 1400/1400 [00:20<00:00, 68.25batch/s, train_loss=tensor(0.0118, device='cuda:0', grad_fn=<MseLossBackward0>)]\n"
          ]
        },
        {
          "output_type": "stream",
          "name": "stdout",
          "text": [
            "0.061424585338681933 0.9316770186335404 0.8906539829308862 0.9281961471103327 0.8036391205458681 0.8036391205458681 0.8201418598234584 0.9477600091506571 0.8614384396586753\n",
            "Epoch: 11 / 500, ############## the best accuracy in val  93.0876 at Epoch: 9  ##############\n",
            "Performance in Val: Loss: (0.0614); Accuracy (93.17)\n"
          ]
        },
        {
          "output_type": "stream",
          "name": "stderr",
          "text": [
            "Epoch 12: 100%|██████████| 1400/1400 [00:20<00:00, 66.74batch/s, train_loss=tensor(0.0134, device='cuda:0', grad_fn=<MseLossBackward0>)]\n"
          ]
        },
        {
          "output_type": "stream",
          "name": "stdout",
          "text": [
            "0.05961676063016057 0.9324784612302144 0.8914415547197735 0.9307017543859649 0.8043972706595905 0.8043972706595905 0.8223022382864308 0.9514925357726276 0.862952419682798\n",
            "Epoch: 12 / 500, ############## the best accuracy in val  93.1677 at Epoch: 11  ##############\n",
            "Performance in Val: Loss: (0.0596); Accuracy (93.25)\n"
          ]
        },
        {
          "output_type": "stream",
          "name": "stderr",
          "text": [
            "Epoch 13: 100%|██████████| 1400/1400 [00:20<00:00, 67.39batch/s, train_loss=tensor(0.0156, device='cuda:0', grad_fn=<MseLossBackward0>)]\n"
          ]
        },
        {
          "output_type": "stream",
          "name": "stdout",
          "text": [
            "0.059910469315946104 0.9306752153876978 0.8887586076465799 0.9278803869832893 0.7998483699772555 0.7998483699772555 0.8174245186082227 0.9515433268750175 0.8591205211726384\n",
            "Epoch: 13 / 500, ############## the best accuracy in val  93.2478 at Epoch: 12  ##############\n",
            "Performance in Val: Loss: (0.0599); Accuracy (93.07)\n"
          ]
        },
        {
          "output_type": "stream",
          "name": "stderr",
          "text": [
            "Epoch 14: 100%|██████████| 1400/1400 [00:20<00:00, 66.95batch/s, train_loss=tensor(0.0123, device='cuda:0', grad_fn=<MseLossBackward0>)]\n"
          ]
        },
        {
          "output_type": "stream",
          "name": "stdout",
          "text": [
            "0.059018508344888684 0.9316770186335404 0.8908968924104053 0.9274475524475524 0.8043972706595905 0.8043972706595905 0.8201472672802602 0.9504682485410978 0.8615509541209905\n",
            "Epoch: 14 / 500, ############## the best accuracy in val  93.2478 at Epoch: 12  ##############\n",
            "Performance in Val: Loss: (0.0590); Accuracy (93.17)\n"
          ]
        },
        {
          "output_type": "stream",
          "name": "stderr",
          "text": [
            "Epoch 15: 100%|██████████| 1400/1400 [00:20<00:00, 68.72batch/s, train_loss=tensor(0.0136, device='cuda:0', grad_fn=<MseLossBackward0>)]\n"
          ]
        },
        {
          "output_type": "stream",
          "name": "stdout",
          "text": [
            "0.05919997151941061 0.9356842316169104 0.8955634797934 0.9377192982456141 0.8104624715693708 0.8104624715693708 0.8309611764426479 0.9505316341851373 0.8694591297275316\n",
            "Epoch: 15 / 500, ############## the best accuracy in val  93.2478 at Epoch: 12  ##############\n",
            "Performance in Val: Loss: (0.0592); Accuracy (93.57)\n"
          ]
        },
        {
          "output_type": "stream",
          "name": "stderr",
          "text": [
            "Epoch 16: 100%|██████████| 1400/1400 [00:20<00:00, 68.40batch/s, train_loss=tensor(0.0147, device='cuda:0', grad_fn=<MseLossBackward0>)]\n"
          ]
        },
        {
          "output_type": "stream",
          "name": "stdout",
          "text": [
            "0.058165794052183625 0.935083149669405 0.8961266209794507 0.9322328410078193 0.8134950720242609 0.8134950720242609 0.8293435761106549 0.9537560433153128 0.8688259109311741\n",
            "Epoch: 16 / 500, ############## the best accuracy in val  93.5684 at Epoch: 15  ##############\n",
            "Performance in Val: Loss: (0.0582); Accuracy (93.51)\n"
          ]
        },
        {
          "output_type": "stream",
          "name": "stderr",
          "text": [
            "Epoch 17: 100%|██████████| 1400/1400 [00:20<00:00, 69.73batch/s, train_loss=tensor(0.0115, device='cuda:0', grad_fn=<MseLossBackward0>)]\n"
          ]
        },
        {
          "output_type": "stream",
          "name": "stdout",
          "text": [
            "0.05863214125856757 0.9354838709677419 0.8968847710931731 0.9323503902862099 0.8150113722517058 0.8150113722517058 0.8304261674622284 0.9513977670084123 0.8697411003236246\n",
            "Epoch: 17 / 500, ############## the best accuracy in val  93.5684 at Epoch: 15  ##############\n",
            "Performance in Val: Loss: (0.0586); Accuracy (93.55)\n"
          ]
        },
        {
          "output_type": "stream",
          "name": "stderr",
          "text": [
            "Epoch 18: 100%|██████████| 1400/1400 [00:20<00:00, 69.17batch/s, train_loss=tensor(0.0132, device='cuda:0', grad_fn=<MseLossBackward0>)]\n"
          ]
        },
        {
          "output_type": "stream",
          "name": "stdout",
          "text": [
            "0.057381002232432365 0.937487477459427 0.8984893363461128 0.9397379912663756 0.8157695223654283 0.8157695223654283 0.83582056101305 0.9531531570593026 0.8733766233766234\n",
            "Epoch: 18 / 500, ############## the best accuracy in val  93.5684 at Epoch: 15  ##############\n",
            "Performance in Val: Loss: (0.0574); Accuracy (93.75)\n"
          ]
        },
        {
          "output_type": "stream",
          "name": "stderr",
          "text": [
            "Epoch 19: 100%|██████████| 1400/1400 [00:20<00:00, 69.23batch/s, train_loss=tensor(0.0147, device='cuda:0', grad_fn=<MseLossBackward0>)]\n"
          ]
        },
        {
          "output_type": "stream",
          "name": "stdout",
          "text": [
            "0.057347982004284856 0.9360849529152474 0.8955929014685649 0.9401408450704225 0.8097043214556482 0.8097043214556482 0.8320527548042523 0.9528861940699116 0.870061099796334\n",
            "Epoch: 19 / 500, ############## the best accuracy in val  93.7487 at Epoch: 18  ##############\n",
            "Performance in Val: Loss: (0.0573); Accuracy (93.61)\n"
          ]
        },
        {
          "output_type": "stream",
          "name": "stderr",
          "text": [
            "Epoch 20: 100%|██████████| 1400/1400 [00:21<00:00, 66.65batch/s, train_loss=tensor(0.0128, device='cuda:0', grad_fn=<MseLossBackward0>)]\n"
          ]
        },
        {
          "output_type": "stream",
          "name": "stdout",
          "text": [
            "0.05687717059627175 0.9360849529152474 0.8968074488661609 0.9363001745200699 0.8134950720242609 0.8134950720242609 0.8320378152086283 0.9537927946007819 0.8705882352941178\n",
            "Epoch: 20 / 500, ############## the best accuracy in val  93.7487 at Epoch: 18  ##############\n",
            "Performance in Val: Loss: (0.0569); Accuracy (93.61)\n"
          ]
        },
        {
          "output_type": "stream",
          "name": "stderr",
          "text": [
            "Epoch 21: 100%|██████████| 1400/1400 [00:21<00:00, 63.99batch/s, train_loss=tensor(0.0140, device='cuda:0', grad_fn=<MseLossBackward0>)]\n"
          ]
        },
        {
          "output_type": "stream",
          "name": "stdout",
          "text": [
            "0.05758210681378841 0.9356842316169104 0.8965351177114769 0.9346689895470384 0.8134950720242609 0.8134950720242609 0.8309583352228754 0.9527561192954983 0.8698824483177949\n",
            "Epoch: 21 / 500, ############## the best accuracy in val  93.7487 at Epoch: 18  ##############\n",
            "Performance in Val: Loss: (0.0576); Accuracy (93.57)\n"
          ]
        },
        {
          "output_type": "stream",
          "name": "stderr",
          "text": [
            "Epoch 22: 100%|██████████| 1400/1400 [00:20<00:00, 68.32batch/s, train_loss=tensor(0.0136, device='cuda:0', grad_fn=<MseLossBackward0>)]\n"
          ]
        },
        {
          "output_type": "stream",
          "name": "stdout",
          "text": [
            "0.057909836526960135 0.9360849529152474 0.8965645393866417 0.9370629370629371 0.8127369219105383 0.8127369219105383 0.8320386516062046 0.9508471171300632 0.8704831506293138\n",
            "Epoch: 22 / 500, ############## the best accuracy in val  93.7487 at Epoch: 18  ##############\n",
            "Performance in Val: Loss: (0.0579); Accuracy (93.61)\n"
          ]
        },
        {
          "output_type": "stream",
          "name": "stderr",
          "text": [
            "Epoch 23: 100%|██████████| 1400/1400 [00:20<00:00, 68.85batch/s, train_loss=tensor(0.0099, device='cuda:0', grad_fn=<MseLossBackward0>)]\n"
          ]
        },
        {
          "output_type": "stream",
          "name": "stdout",
          "text": [
            "0.05747721558436751 0.9370867561610899 0.8979740957119096 0.9388646288209607 0.8150113722517058 0.8150113722517058 0.8347398577754545 0.9515747099951934 0.872564935064935\n",
            "Epoch: 23 / 500, ############## the best accuracy in val  93.7487 at Epoch: 18  ##############\n",
            "Performance in Val: Loss: (0.0575); Accuracy (93.71)\n"
          ]
        },
        {
          "output_type": "stream",
          "name": "stderr",
          "text": [
            "Epoch 24: 100%|██████████| 1400/1400 [00:20<00:00, 69.37batch/s, train_loss=tensor(0.0135, device='cuda:0', grad_fn=<MseLossBackward0>)]\n"
          ]
        },
        {
          "output_type": "stream",
          "name": "stdout",
          "text": [
            "0.056437550019472836 0.9388900020036065 0.9013857712236608 0.9393414211438474 0.8218347232752085 0.8218347232752085 0.8395893069606718 0.951322819162203 0.876668014557218\n",
            "Epoch: 24 / 500, ############## the best accuracy in val  93.7487 at Epoch: 18  ##############\n",
            "Performance in Val: Loss: (0.0564); Accuracy (93.89)\n"
          ]
        },
        {
          "output_type": "stream",
          "name": "stderr",
          "text": [
            "Epoch 25: 100%|██████████| 1400/1400 [00:19<00:00, 70.07batch/s, train_loss=tensor(0.0102, device='cuda:0', grad_fn=<MseLossBackward0>)]\n"
          ]
        },
        {
          "output_type": "stream",
          "name": "stdout",
          "text": [
            "0.056843969505280256 0.9384892807052695 0.8994130737123424 0.9430823117338003 0.8165276724791509 0.8165276724791509 0.8385307597649623 0.9522570863911228 0.8752539618041446\n",
            "Epoch: 25 / 500, ############## the best accuracy in val  93.8890 at Epoch: 24  ##############\n",
            "Performance in Val: Loss: (0.0568); Accuracy (93.85)\n"
          ]
        },
        {
          "output_type": "stream",
          "name": "stderr",
          "text": [
            "Epoch 26: 100%|██████████| 1400/1400 [00:20<00:00, 69.79batch/s, train_loss=tensor(0.0119, device='cuda:0', grad_fn=<MseLossBackward0>)]\n"
          ]
        },
        {
          "output_type": "stream",
          "name": "stdout",
          "text": [
            "0.05683729536831379 0.9366860348627529 0.8972159455981871 0.9387576552930884 0.8134950720242609 0.8134950720242609 0.8336615222629689 0.9520867503770104 0.8716490658001624\n",
            "Epoch: 26 / 500, ############## the best accuracy in val  93.8890 at Epoch: 24  ##############\n",
            "Performance in Val: Loss: (0.0568); Accuracy (93.67)\n"
          ]
        },
        {
          "output_type": "stream",
          "name": "stderr",
          "text": [
            "Epoch 27: 100%|██████████| 1400/1400 [00:19<00:00, 70.00batch/s, train_loss=tensor(0.0172, device='cuda:0', grad_fn=<MseLossBackward0>)]\n"
          ]
        },
        {
          "output_type": "stream",
          "name": "stdout",
          "text": [
            "0.05561797870323062 0.9380885594069325 0.8996265615166966 0.9398954703832753 0.8180439727065959 0.8180439727065959 0.8374366038126695 0.9523625914859246 0.8747466558573166\n",
            "Epoch: 27 / 500, ############## the best accuracy in val  93.8890 at Epoch: 24  ##############\n",
            "Performance in Val: Loss: (0.0556); Accuracy (93.81)\n"
          ]
        },
        {
          "output_type": "stream",
          "name": "stderr",
          "text": [
            "Epoch 28: 100%|██████████| 1400/1400 [00:19<00:00, 70.91batch/s, train_loss=tensor(0.0104, device='cuda:0', grad_fn=<MseLossBackward0>)]\n"
          ]
        },
        {
          "output_type": "stream",
          "name": "stdout",
          "text": [
            "0.05508699957281351 0.9396914446002805 0.901930433533029 0.9426086956521739 0.8218347232752085 0.8218347232752085 0.8417508187092849 0.9547235518754718 0.8780882948562171\n",
            "Epoch: 28 / 500, ############## the best accuracy in val  93.8890 at Epoch: 24  ##############\n",
            "Performance in Val: Loss: (0.0551); Accuracy (93.97)\n"
          ]
        },
        {
          "output_type": "stream",
          "name": "stderr",
          "text": [
            "Epoch 29: 100%|██████████| 1400/1400 [00:20<00:00, 69.79batch/s, train_loss=tensor(0.0070, device='cuda:0', grad_fn=<MseLossBackward0>)]\n"
          ]
        },
        {
          "output_type": "stream",
          "name": "stdout",
          "text": [
            "0.05459328861907124 0.94109396914446 0.9040981399720195 0.9444926279271466 0.8256254738438211 0.8256254738438211 0.8455191382911479 0.9571865074055903 0.8810679611650486\n",
            "Epoch: 29 / 500, ############## the best accuracy in val  93.9691 at Epoch: 28  ##############\n",
            "Performance in Val: Loss: (0.0546); Accuracy (94.11)\n"
          ]
        },
        {
          "output_type": "stream",
          "name": "stderr",
          "text": [
            "Epoch 30: 100%|██████████| 1400/1400 [00:19<00:00, 70.61batch/s, train_loss=tensor(0.0130, device='cuda:0', grad_fn=<MseLossBackward0>)]\n"
          ]
        },
        {
          "output_type": "stream",
          "name": "stdout",
          "text": [
            "0.05531369326636195 0.9384892807052695 0.9003847116304191 0.94 0.819560272934041 0.819560272934041 0.8385136598169319 0.9550978781707274 0.875658161198866\n",
            "Epoch: 30 / 500, ############## the best accuracy in val  94.1094 at Epoch: 29  ##############\n",
            "Performance in Val: Loss: (0.0553); Accuracy (93.85)\n"
          ]
        },
        {
          "output_type": "stream",
          "name": "stderr",
          "text": [
            "Epoch 31: 100%|██████████| 1400/1400 [00:19<00:00, 71.74batch/s, train_loss=tensor(0.0090, device='cuda:0', grad_fn=<MseLossBackward0>)]\n"
          ]
        },
        {
          "output_type": "stream",
          "name": "stdout",
          "text": [
            "0.05516842920333147 0.938689641354438 0.8997921487692035 0.9431321084864392 0.8172858225928734 0.8172858225928734 0.839068358219602 0.9551232737219224 0.875710804224208\n",
            "Epoch: 31 / 500, ############## the best accuracy in val  94.1094 at Epoch: 29  ##############\n",
            "Performance in Val: Loss: (0.0552); Accuracy (93.87)\n"
          ]
        },
        {
          "output_type": "stream",
          "name": "stderr",
          "text": [
            "Epoch 32: 100%|██████████| 1400/1400 [00:19<00:00, 73.28batch/s, train_loss=tensor(0.0113, device='cuda:0', grad_fn=<MseLossBackward0>)]\n"
          ]
        },
        {
          "output_type": "stream",
          "name": "stdout",
          "text": [
            "0.0548224750906229 0.94109396914446 0.9053126873696156 0.94067067927773 0.8294162244124337 0.8294162244124337 0.8455087498706045 0.9538601031348434 0.8815471394037068\n",
            "Epoch: 32 / 500, ############## the best accuracy in val  94.1094 at Epoch: 29  ##############\n",
            "Performance in Val: Loss: (0.0548); Accuracy (94.11)\n"
          ]
        },
        {
          "output_type": "stream",
          "name": "stderr",
          "text": [
            "Epoch 33: 100%|██████████| 1400/1400 [00:19<00:00, 70.76batch/s, train_loss=tensor(0.0086, device='cuda:0', grad_fn=<MseLossBackward0>)]\n"
          ]
        },
        {
          "output_type": "stream",
          "name": "stdout",
          "text": [
            "0.05485131349414587 0.9412943297936285 0.9049630339879191 0.9430051813471503 0.8278999241849886 0.8278999241849886 0.8460488158305934 0.9541603074554731 0.8817117480823576\n",
            "Epoch: 33 / 500, ############## the best accuracy in val  94.1094 at Epoch: 29  ##############\n",
            "Performance in Val: Loss: (0.0549); Accuracy (94.13)\n"
          ]
        },
        {
          "output_type": "stream",
          "name": "stderr",
          "text": [
            "Epoch 34: 100%|██████████| 1400/1400 [00:20<00:00, 69.40batch/s, train_loss=tensor(0.0095, device='cuda:0', grad_fn=<MseLossBackward0>)]\n"
          ]
        },
        {
          "output_type": "stream",
          "name": "stdout",
          "text": [
            "0.05489026084542274 0.9402925265477861 0.9030676587036128 0.94275802254987 0.824109173616376 0.824109173616376 0.8433629996013022 0.9543624395255533 0.8794498381877023\n",
            "Epoch: 34 / 500, ############## the best accuracy in val  94.1294 at Epoch: 33  ##############\n",
            "Performance in Val: Loss: (0.0549); Accuracy (94.03)\n"
          ]
        },
        {
          "output_type": "stream",
          "name": "stderr",
          "text": [
            "Epoch 35: 100%|██████████| 1400/1400 [00:20<00:00, 68.42batch/s, train_loss=tensor(0.0115, device='cuda:0', grad_fn=<MseLossBackward0>)]\n"
          ]
        },
        {
          "output_type": "stream",
          "name": "stdout",
          "text": [
            "0.05454916460439563 0.9406932478461231 0.903339989858297 0.944396177237185 0.824109173616376 0.824109173616376 0.8444457197812718 0.9553671123069731 0.8801619433198381\n",
            "Epoch: 35 / 500, ############## the best accuracy in val  94.1294 at Epoch: 33  ##############\n",
            "Performance in Val: Loss: (0.0545); Accuracy (94.07)\n"
          ]
        },
        {
          "output_type": "stream",
          "name": "stderr",
          "text": [
            "Epoch 36: 100%|██████████| 1400/1400 [00:20<00:00, 69.75batch/s, train_loss=tensor(0.0106, device='cuda:0', grad_fn=<MseLossBackward0>)]\n"
          ]
        },
        {
          "output_type": "stream",
          "name": "stdout",
          "text": [
            "0.054562661610543725 0.9408936084952916 0.9029903364766005 0.9467713787085514 0.8225928733889311 0.8225928733889311 0.8450022802502256 0.9545777855409706 0.8803245436105477\n",
            "Epoch: 36 / 500, ############## the best accuracy in val  94.1294 at Epoch: 33  ##############\n",
            "Performance in Val: Loss: (0.0546); Accuracy (94.09)\n"
          ]
        },
        {
          "output_type": "stream",
          "name": "stderr",
          "text": [
            "Epoch 37: 100%|██████████| 1400/1400 [00:20<00:00, 69.31batch/s, train_loss=tensor(0.0097, device='cuda:0', grad_fn=<MseLossBackward0>)]\n"
          ]
        },
        {
          "output_type": "stream",
          "name": "stdout",
          "text": [
            "0.05448399195447564 0.9406932478461231 0.9023683519402201 0.94750656167979 0.821076573161486 0.821076573161486 0.8444751941762352 0.9553148759293121 0.8797725426482533\n",
            "Epoch: 37 / 500, ############## the best accuracy in val  94.1294 at Epoch: 33  ##############\n",
            "Performance in Val: Loss: (0.0545); Accuracy (94.07)\n"
          ]
        },
        {
          "output_type": "stream",
          "name": "stderr",
          "text": [
            "Epoch 38: 100%|██████████| 1400/1400 [00:19<00:00, 70.89batch/s, train_loss=tensor(0.0110, device='cuda:0', grad_fn=<MseLossBackward0>)]\n"
          ]
        },
        {
          "output_type": "stream",
          "name": "stdout",
          "text": [
            "0.05429535321891308 0.9402925265477861 0.9035534776626513 0.9412273120138289 0.8256254738438211 0.8256254738438211 0.8433582354315183 0.9535634087684437 0.8796445880452343\n",
            "Epoch: 38 / 500, ############## the best accuracy in val  94.1294 at Epoch: 33  ##############\n",
            "Performance in Val: Loss: (0.0543); Accuracy (94.03)\n"
          ]
        },
        {
          "output_type": "stream",
          "name": "stderr",
          "text": [
            "Epoch 39: 100%|██████████| 1400/1400 [00:20<00:00, 68.77batch/s, train_loss=tensor(0.0109, device='cuda:0', grad_fn=<MseLossBackward0>)]\n"
          ]
        },
        {
          "output_type": "stream",
          "name": "stdout",
          "text": [
            "0.05452166320756078 0.938288920056101 0.9002485460530771 0.9391833188531712 0.819560272934041 0.819560272934041 0.8379733724938646 0.954750599169834 0.8753036437246964\n",
            "Epoch: 39 / 500, ############## the best accuracy in val  94.1294 at Epoch: 33  ##############\n",
            "Performance in Val: Loss: (0.0545); Accuracy (93.83)\n"
          ]
        },
        {
          "output_type": "stream",
          "name": "stderr",
          "text": [
            "Epoch 40: 100%|██████████| 1400/1400 [00:19<00:00, 70.09batch/s, train_loss=tensor(0.0099, device='cuda:0', grad_fn=<MseLossBackward0>)]\n"
          ]
        },
        {
          "output_type": "stream",
          "name": "stdout",
          "text": [
            "0.05420153867453337 0.942696854337808 0.9071307404269096 0.9448751076658053 0.8316906747536013 0.8316906747536013 0.8498105686725638 0.9524526114885344 0.8846774193548387\n",
            "Epoch: 40 / 500, ############## the best accuracy in val  94.1294 at Epoch: 33  ##############\n",
            "Performance in Val: Loss: (0.0542); Accuracy (94.27)\n"
          ]
        },
        {
          "output_type": "stream",
          "name": "stderr",
          "text": [
            "Epoch 41: 100%|██████████| 1400/1400 [00:20<00:00, 69.65batch/s, train_loss=tensor(0.0106, device='cuda:0', grad_fn=<MseLossBackward0>)]\n"
          ]
        },
        {
          "output_type": "stream",
          "name": "stdout",
          "text": [
            "0.054807421285659075 0.9404928871969546 0.9034467337604741 0.9428076256499134 0.8248673237300985 0.8248673237300985 0.843900277184354 0.9512140105810667 0.8799029518803073\n",
            "Epoch: 41 / 500, ############## the best accuracy in val  94.2697 at Epoch: 40  ##############\n",
            "Performance in Val: Loss: (0.0548); Accuracy (94.05)\n"
          ]
        },
        {
          "output_type": "stream",
          "name": "stderr",
          "text": [
            "Epoch 42: 100%|██████████| 1400/1400 [00:20<00:00, 68.45batch/s, train_loss=tensor(0.0098, device='cuda:0', grad_fn=<MseLossBackward0>)]\n"
          ]
        },
        {
          "output_type": "stream",
          "name": "stdout",
          "text": [
            "0.05392227936536074 0.9420957723903025 0.9055076962972873 0.9462738301559792 0.8278999241849886 0.8278999241849886 0.8482112474080362 0.9530817191673232 0.8831378892033968\n",
            "Epoch: 42 / 500, ############## the best accuracy in val  94.2697 at Epoch: 40  ##############\n",
            "Performance in Val: Loss: (0.0539); Accuracy (94.21)\n"
          ]
        },
        {
          "output_type": "stream",
          "name": "stderr",
          "text": [
            "Epoch 43: 100%|██████████| 1400/1400 [00:19<00:00, 71.27batch/s, train_loss=tensor(0.0093, device='cuda:0', grad_fn=<MseLossBackward0>)]\n"
          ]
        },
        {
          "output_type": "stream",
          "name": "stdout",
          "text": [
            "0.053989391680806874 0.9408936084952916 0.904690702833235 0.9413793103448276 0.8278999241849886 0.8278999241849886 0.8449711603588108 0.9553214829019806 0.8810004033884632\n",
            "Epoch: 43 / 500, ############## the best accuracy in val  94.2697 at Epoch: 40  ##############\n",
            "Performance in Val: Loss: (0.0540); Accuracy (94.09)\n"
          ]
        },
        {
          "output_type": "stream",
          "name": "stderr",
          "text": [
            "Epoch 44: 100%|██████████| 1400/1400 [00:19<00:00, 70.22batch/s, train_loss=tensor(0.0114, device='cuda:0', grad_fn=<MseLossBackward0>)]\n"
          ]
        },
        {
          "output_type": "stream",
          "name": "stdout",
          "text": [
            "0.0535680528730154 0.9420957723903025 0.9057506057768065 0.9455017301038062 0.8286580742987112 0.8286580742987112 0.8482059319969044 0.9534155777549838 0.8832323232323233\n",
            "Epoch: 44 / 500, ############## the best accuracy in val  94.2697 at Epoch: 40  ##############\n",
            "Performance in Val: Loss: (0.0536); Accuracy (94.21)\n"
          ]
        },
        {
          "output_type": "stream",
          "name": "stderr",
          "text": [
            "Epoch 45: 100%|██████████| 1400/1400 [00:20<00:00, 69.18batch/s, train_loss=tensor(0.0089, device='cuda:0', grad_fn=<MseLossBackward0>)]\n"
          ]
        },
        {
          "output_type": "stream",
          "name": "stdout",
          "text": [
            "0.05399635592475534 0.9406932478461231 0.9038258088173354 0.9428571428571428 0.8256254738438211 0.8256254738438211 0.8444374972788138 0.9540907277745568 0.8803556992724333\n",
            "Epoch: 45 / 500, ############## the best accuracy in val  94.2697 at Epoch: 40  ##############\n",
            "Performance in Val: Loss: (0.0540); Accuracy (94.07)\n"
          ]
        },
        {
          "output_type": "stream",
          "name": "stderr",
          "text": [
            "Epoch 46: 100%|██████████| 1400/1400 [00:20<00:00, 69.44batch/s, train_loss=tensor(0.0092, device='cuda:0', grad_fn=<MseLossBackward0>)]\n"
          ]
        },
        {
          "output_type": "stream",
          "name": "stdout",
          "text": [
            "0.053724604099988936 0.9406932478461231 0.9050403562149314 0.9390557939914163 0.8294162244124337 0.8294162244124337 0.8444356901072773 0.9530257663675359 0.8808373590982286\n",
            "Epoch: 46 / 500, ############## the best accuracy in val  94.2697 at Epoch: 40  ##############\n",
            "Performance in Val: Loss: (0.0537); Accuracy (94.07)\n"
          ]
        },
        {
          "output_type": "stream",
          "name": "stderr",
          "text": [
            "Epoch 47: 100%|██████████| 1400/1400 [00:19<00:00, 70.02batch/s, train_loss=tensor(0.0110, device='cuda:0', grad_fn=<MseLossBackward0>)]\n"
          ]
        },
        {
          "output_type": "stream",
          "name": "stdout",
          "text": [
            "0.05386001905426383 0.9400921658986175 0.901959855208194 0.9450261780104712 0.821076573161486 0.821076573161486 0.842841536076626 0.9545515641181923 0.8787018255578093\n",
            "Epoch: 47 / 500, ############## the best accuracy in val  94.2697 at Epoch: 40  ##############\n",
            "Performance in Val: Loss: (0.0539); Accuracy (94.01)\n"
          ]
        },
        {
          "output_type": "stream",
          "name": "stderr",
          "text": [
            "Epoch 48: 100%|██████████| 1400/1400 [00:19<00:00, 73.09batch/s, train_loss=tensor(0.0095, device='cuda:0', grad_fn=<MseLossBackward0>)]\n"
          ]
        },
        {
          "output_type": "stream",
          "name": "stdout",
          "text": [
            "0.053582470305263995 0.9416950510919655 0.9054782746221225 0.9438687392055267 0.8286580742987112 0.8286580742987112 0.8471252566211089 0.9538437921710677 0.8825191764230924\n",
            "Epoch: 48 / 500, ############## the best accuracy in val  94.2697 at Epoch: 40  ##############\n",
            "Performance in Val: Loss: (0.0536); Accuracy (94.17)\n"
          ]
        },
        {
          "output_type": "stream",
          "name": "stderr",
          "text": [
            "Epoch 49: 100%|██████████| 1400/1400 [00:18<00:00, 73.94batch/s, train_loss=tensor(0.0089, device='cuda:0', grad_fn=<MseLossBackward0>)]\n"
          ]
        },
        {
          "output_type": "stream",
          "name": "stdout",
          "text": [
            "0.05359285874292254 0.9424964936886395 0.9069945748495676 0.9440619621342513 0.8316906747536013 0.8316906747536013 0.8492716026889026 0.9521084295060792 0.8843208383716245\n",
            "Epoch: 49 / 500, ############## the best accuracy in val  94.2697 at Epoch: 40  ##############\n",
            "Performance in Val: Loss: (0.0536); Accuracy (94.25)\n"
          ]
        },
        {
          "output_type": "stream",
          "name": "stderr",
          "text": [
            "Epoch 50: 100%|██████████| 1400/1400 [00:19<00:00, 72.08batch/s, train_loss=tensor(0.0085, device='cuda:0', grad_fn=<MseLossBackward0>)]\n"
          ]
        },
        {
          "output_type": "stream",
          "name": "stdout",
          "text": [
            "0.05414395909756422 0.9416950510919655 0.9052353651426033 0.9446366782006921 0.8278999241849886 0.8278999241849886 0.8471288413995893 0.9525151712609903 0.8824242424242424\n",
            "Epoch: 50 / 500, ############## the best accuracy in val  94.2697 at Epoch: 40  ##############\n",
            "Performance in Val: Loss: (0.0541); Accuracy (94.17)\n"
          ]
        },
        {
          "output_type": "stream",
          "name": "stderr",
          "text": [
            "Epoch 51: 100%|██████████| 1400/1400 [00:19<00:00, 70.24batch/s, train_loss=tensor(0.0107, device='cuda:0', grad_fn=<MseLossBackward0>)]\n"
          ]
        },
        {
          "output_type": "stream",
          "name": "stdout",
          "text": [
            "0.05370622128248215 0.9424964936886395 0.9072374843290867 0.9432989690721649 0.8324488248673237 0.8324488248673237 0.8492699438025206 0.9517749838542106 0.8844140153040677\n",
            "Epoch: 51 / 500, ############## the best accuracy in val  94.2697 at Epoch: 40  ##############\n",
            "Performance in Val: Loss: (0.0537); Accuracy (94.25)\n"
          ]
        },
        {
          "output_type": "stream",
          "name": "stderr",
          "text": [
            "Epoch 52: 100%|██████████| 1400/1400 [00:20<00:00, 69.40batch/s, train_loss=tensor(0.0100, device='cuda:0', grad_fn=<MseLossBackward0>)]\n"
          ]
        },
        {
          "output_type": "stream",
          "name": "stdout",
          "text": [
            "0.05399251375347376 0.94109396914446 0.9050697778900963 0.9414298018949182 0.8286580742987112 0.8286580742987112 0.8455086882898996 0.9528370547106889 0.8814516129032258\n",
            "Epoch: 52 / 500, ############## the best accuracy in val  94.2697 at Epoch: 40  ##############\n",
            "Performance in Val: Loss: (0.0540); Accuracy (94.11)\n"
          ]
        },
        {
          "output_type": "stream",
          "name": "stderr",
          "text": [
            "Epoch 53: 100%|██████████| 1400/1400 [00:19<00:00, 70.54batch/s, train_loss=tensor(0.0106, device='cuda:0', grad_fn=<MseLossBackward0>)]\n"
          ]
        },
        {
          "output_type": "stream",
          "name": "stdout",
          "text": [
            "0.05384099567309022 0.941494690442797 0.9031559237291076 0.9500438212094654 0.8218347232752085 0.8218347232752085 0.8466493673318438 0.9526751838803081 0.88130081300813\n",
            "Epoch: 53 / 500, ############## the best accuracy in val  94.2697 at Epoch: 40  ##############\n",
            "Performance in Val: Loss: (0.0538); Accuracy (94.15)\n"
          ]
        },
        {
          "output_type": "stream",
          "name": "stderr",
          "text": [
            "Epoch 54: 100%|██████████| 1400/1400 [00:19<00:00, 70.77batch/s, train_loss=tensor(0.0092, device='cuda:0', grad_fn=<MseLossBackward0>)]\n"
          ]
        },
        {
          "output_type": "stream",
          "name": "stdout",
          "text": [
            "0.05302544683218002 0.9434982969344821 0.9076754027362777 0.9481417458945549 0.8316906747536013 0.8316906747536013 0.8519723588354566 0.9546430293960732 0.8861066235864297\n",
            "Epoch: 54 / 500, ############## the best accuracy in val  94.2697 at Epoch: 40  ##############\n",
            "Performance in Val: Loss: (0.0530); Accuracy (94.35)\n"
          ]
        },
        {
          "output_type": "stream",
          "name": "stderr",
          "text": [
            "Epoch 55: 100%|██████████| 1400/1400 [00:19<00:00, 71.38batch/s, train_loss=tensor(0.0092, device='cuda:0', grad_fn=<MseLossBackward0>)]\n"
          ]
        },
        {
          "output_type": "stream",
          "name": "stdout",
          "text": [
            "0.05296255983412266 0.942696854337808 0.9059161930293135 0.94874022589053 0.8278999241849886 0.8278999241849886 0.8498393425207779 0.9533030527517216 0.8842105263157894\n",
            "Epoch: 55 / 500, ############## the best accuracy in val  94.3498 at Epoch: 54  ##############\n",
            "Performance in Val: Loss: (0.0530); Accuracy (94.27)\n"
          ]
        },
        {
          "output_type": "stream",
          "name": "stderr",
          "text": [
            "Epoch 56: 100%|██████████| 1400/1400 [00:19<00:00, 72.82batch/s, train_loss=tensor(0.0076, device='cuda:0', grad_fn=<MseLossBackward0>)]\n"
          ]
        },
        {
          "output_type": "stream",
          "name": "stdout",
          "text": [
            "0.05349285043776035 0.9416950510919655 0.9057211841016417 0.9431034482758621 0.8294162244124337 0.8294162244124337 0.8471227466122079 0.9516674140804497 0.8826139572408229\n",
            "Epoch: 56 / 500, ############## the best accuracy in val  94.3498 at Epoch: 54  ##############\n",
            "Performance in Val: Loss: (0.0535); Accuracy (94.17)\n"
          ]
        },
        {
          "output_type": "stream",
          "name": "stderr",
          "text": [
            "Epoch 57: 100%|██████████| 1400/1400 [00:19<00:00, 71.21batch/s, train_loss=tensor(0.0117, device='cuda:0', grad_fn=<MseLossBackward0>)]\n"
          ]
        },
        {
          "output_type": "stream",
          "name": "stdout",
          "text": [
            "0.052933307364583015 0.9424964936886395 0.9067516653700483 0.9448275862068966 0.8309325246398787 0.8309325246398787 0.8492743328656048 0.9558159735126465 0.8842275110931826\n",
            "Epoch: 57 / 500, ############## the best accuracy in val  94.3498 at Epoch: 54  ##############\n",
            "Performance in Val: Loss: (0.0529); Accuracy (94.25)\n"
          ]
        },
        {
          "output_type": "stream",
          "name": "stderr",
          "text": [
            "Epoch 58: 100%|██████████| 1400/1400 [00:20<00:00, 69.51batch/s, train_loss=tensor(0.0070, device='cuda:0', grad_fn=<MseLossBackward0>)]\n"
          ]
        },
        {
          "output_type": "stream",
          "name": "stdout",
          "text": [
            "0.0533360505476594 0.9420957723903025 0.9052647868177681 0.9470486111111112 0.8271417740712661 0.8271417740712661 0.8482176475848637 0.9529962414584231 0.8830433023067584\n",
            "Epoch: 58 / 500, ############## the best accuracy in val  94.3498 at Epoch: 54  ##############\n",
            "Performance in Val: Loss: (0.0533); Accuracy (94.21)\n"
          ]
        },
        {
          "output_type": "stream",
          "name": "stderr",
          "text": [
            "Epoch 59: 100%|██████████| 1400/1400 [00:20<00:00, 69.58batch/s, train_loss=tensor(0.0106, device='cuda:0', grad_fn=<MseLossBackward0>)]\n"
          ]
        },
        {
          "output_type": "stream",
          "name": "stdout",
          "text": [
            "0.05315654966980219 0.941494690442797 0.9041275616471843 0.9469103568320278 0.8248673237300985 0.8248673237300985 0.8466102175826223 0.9553076495529558 0.8816855753646677\n",
            "Epoch: 59 / 500, ############## the best accuracy in val  94.3498 at Epoch: 54  ##############\n",
            "Performance in Val: Loss: (0.0532); Accuracy (94.15)\n"
          ]
        },
        {
          "output_type": "stream",
          "name": "stderr",
          "text": [
            "Epoch 60: 100%|██████████| 1400/1400 [00:20<00:00, 68.58batch/s, train_loss=tensor(0.0108, device='cuda:0', grad_fn=<MseLossBackward0>)]\n"
          ]
        },
        {
          "output_type": "stream",
          "name": "stdout",
          "text": [
            "0.05282356347888708 0.9424964936886395 0.9074803938086059 0.9425385934819898 0.8332069749810462 0.8332069749810462 0.8492693523629431 0.9535316127124761 0.8845070422535213\n",
            "Epoch: 60 / 500, ############## the best accuracy in val  94.3498 at Epoch: 54  ##############\n",
            "Performance in Val: Loss: (0.0528); Accuracy (94.25)\n"
          ]
        },
        {
          "output_type": "stream",
          "name": "stderr",
          "text": [
            "Epoch 61: 100%|██████████| 1400/1400 [00:20<00:00, 68.70batch/s, train_loss=tensor(0.0097, device='cuda:0', grad_fn=<MseLossBackward0>)]\n"
          ]
        },
        {
          "output_type": "stream",
          "name": "stdout",
          "text": [
            "0.05299284914508462 0.941895411741134 0.9051286212404261 0.9462272333044233 0.8271417740712661 0.8271417740712661 0.8476752769809935 0.9552744082217168 0.8826860841423949\n",
            "Epoch: 61 / 500, ############## the best accuracy in val  94.3498 at Epoch: 54  ##############\n",
            "Performance in Val: Loss: (0.0530); Accuracy (94.19)\n"
          ]
        },
        {
          "output_type": "stream",
          "name": "stderr",
          "text": [
            "Epoch 62: 100%|██████████| 1400/1400 [00:19<00:00, 70.36batch/s, train_loss=tensor(0.0079, device='cuda:0', grad_fn=<MseLossBackward0>)]\n"
          ]
        },
        {
          "output_type": "stream",
          "name": "stdout",
          "text": [
            "0.053332870826125145 0.9428972149869765 0.9070239965247324 0.9464594127806563 0.8309325246398787 0.8309325246398787 0.8503545789926554 0.9531287938475871 0.8849414614452966\n",
            "Epoch: 62 / 500, ############## the best accuracy in val  94.3498 at Epoch: 54  ##############\n",
            "Performance in Val: Loss: (0.0533); Accuracy (94.29)\n"
          ]
        },
        {
          "output_type": "stream",
          "name": "stderr",
          "text": [
            "Epoch 63: 100%|██████████| 1400/1400 [00:19<00:00, 72.44batch/s, train_loss=tensor(0.0092, device='cuda:0', grad_fn=<MseLossBackward0>)]\n"
          ]
        },
        {
          "output_type": "stream",
          "name": "stdout",
          "text": [
            "0.05262447744607925 0.9416950510919655 0.9047495461835648 0.9461805555555556 0.8263836239575436 0.8263836239575436 0.8471392509096535 0.9529572190260991 0.8822339133953866\n",
            "Epoch: 63 / 500, ############## the best accuracy in val  94.3498 at Epoch: 54  ##############\n",
            "Performance in Val: Loss: (0.0526); Accuracy (94.17)\n"
          ]
        },
        {
          "output_type": "stream",
          "name": "stderr",
          "text": [
            "Epoch 64: 100%|██████████| 1400/1400 [00:19<00:00, 71.74batch/s, train_loss=tensor(0.0108, device='cuda:0', grad_fn=<MseLossBackward0>)]\n"
          ]
        },
        {
          "output_type": "stream",
          "name": "stdout",
          "text": [
            "0.05338886827230453 0.941895411741134 0.9065860781175414 0.9416309012875537 0.8316906747536013 0.8316906747536013 0.8476582399631531 0.9545571387513814 0.8832528180354268\n",
            "Epoch: 64 / 500, ############## the best accuracy in val  94.3498 at Epoch: 54  ##############\n",
            "Performance in Val: Loss: (0.0534); Accuracy (94.19)\n"
          ]
        },
        {
          "output_type": "stream",
          "name": "stderr",
          "text": [
            "Epoch 65: 100%|██████████| 1400/1400 [00:20<00:00, 68.44batch/s, train_loss=tensor(0.0085, device='cuda:0', grad_fn=<MseLossBackward0>)]\n"
          ]
        },
        {
          "output_type": "stream",
          "name": "stdout",
          "text": [
            "0.05274065397679806 0.94109396914446 0.9050697778900963 0.9414298018949182 0.8286580742987112 0.8286580742987112 0.8455086882898996 0.9547984997216812 0.8814516129032258\n",
            "Epoch: 65 / 500, ############## the best accuracy in val  94.3498 at Epoch: 54  ##############\n",
            "Performance in Val: Loss: (0.0527); Accuracy (94.11)\n"
          ]
        },
        {
          "output_type": "stream",
          "name": "stderr",
          "text": [
            "Epoch 66: 100%|██████████| 1400/1400 [00:20<00:00, 69.41batch/s, train_loss=tensor(0.0071, device='cuda:0', grad_fn=<MseLossBackward0>)]\n"
          ]
        },
        {
          "output_type": "stream",
          "name": "stdout",
          "text": [
            "0.05294307004660368 0.9420957723903025 0.906236424735845 0.9439655172413793 0.8301743745261562 0.8301743745261562 0.8481985397389064 0.955032634315625 0.8834207341670028\n",
            "Epoch: 66 / 500, ############## the best accuracy in val  94.3498 at Epoch: 54  ##############\n",
            "Performance in Val: Loss: (0.0529); Accuracy (94.21)\n"
          ]
        },
        {
          "output_type": "stream",
          "name": "stderr",
          "text": [
            "Epoch 67: 100%|██████████| 1400/1400 [00:20<00:00, 68.99batch/s, train_loss=tensor(0.0101, device='cuda:0', grad_fn=<MseLossBackward0>)]\n"
          ]
        },
        {
          "output_type": "stream",
          "name": "stdout",
          "text": [
            "0.05334331803023815 0.9416950510919655 0.9047495461835648 0.9461805555555556 0.8263836239575436 0.8263836239575436 0.8471392509096535 0.9515945309131992 0.8822339133953866\n",
            "Epoch: 67 / 500, ############## the best accuracy in val  94.3498 at Epoch: 54  ##############\n",
            "Performance in Val: Loss: (0.0533); Accuracy (94.17)\n"
          ]
        },
        {
          "output_type": "stream",
          "name": "stderr",
          "text": [
            "Epoch 68: 100%|██████████| 1400/1400 [00:19<00:00, 70.16batch/s, train_loss=tensor(0.0106, device='cuda:0', grad_fn=<MseLossBackward0>)]\n"
          ]
        },
        {
          "output_type": "stream",
          "name": "stdout",
          "text": [
            "0.05285646598786116 0.9416950510919655 0.9045066367040456 0.9469565217391305 0.8256254738438211 0.8256254738438211 0.8471460835298734 0.9559852771872797 0.8821385176184691\n",
            "Epoch: 68 / 500, ############## the best accuracy in val  94.3498 at Epoch: 54  ##############\n",
            "Performance in Val: Loss: (0.0529); Accuracy (94.17)\n"
          ]
        },
        {
          "output_type": "stream",
          "name": "stderr",
          "text": [
            "Epoch 69: 100%|██████████| 1400/1400 [00:20<00:00, 69.52batch/s, train_loss=tensor(0.0081, device='cuda:0', grad_fn=<MseLossBackward0>)]\n"
          ]
        },
        {
          "output_type": "stream",
          "name": "stdout",
          "text": [
            "0.05226686531677842 0.9424964936886395 0.9067516653700483 0.9448275862068966 0.8309325246398787 0.8309325246398787 0.8492743328656048 0.9555471523121927 0.8842275110931826\n",
            "Epoch: 69 / 500, ############## the best accuracy in val  94.3498 at Epoch: 54  ##############\n",
            "Performance in Val: Loss: (0.0523); Accuracy (94.25)\n"
          ]
        },
        {
          "output_type": "stream",
          "name": "stderr",
          "text": [
            "Epoch 70: 100%|██████████| 1400/1400 [00:20<00:00, 69.40batch/s, train_loss=tensor(0.0134, device='cuda:0', grad_fn=<MseLossBackward0>)]\n"
          ]
        },
        {
          "output_type": "stream",
          "name": "stdout",
          "text": [
            "0.05253726551309228 0.9432979362853136 0.9070534181998973 0.9488734835355286 0.8301743745261562 0.8301743745261562 0.8514444750757979 0.9548899649995624 0.8855640921957137\n",
            "Epoch: 70 / 500, ############## the best accuracy in val  94.3498 at Epoch: 54  ##############\n",
            "Performance in Val: Loss: (0.0525); Accuracy (94.33)\n"
          ]
        },
        {
          "output_type": "stream",
          "name": "stderr",
          "text": [
            "Epoch 71: 100%|██████████| 1400/1400 [00:20<00:00, 69.17batch/s, train_loss=tensor(0.0123, device='cuda:0', grad_fn=<MseLossBackward0>)]\n"
          ]
        },
        {
          "output_type": "stream",
          "name": "stdout",
          "text": [
            "0.052414595708251 0.9424964936886395 0.906508755890529 0.9455958549222798 0.8301743745261562 0.8301743745261562 0.8492781382021399 0.9543692529661177 0.884134033104562\n",
            "Epoch: 71 / 500, ############## the best accuracy in val  94.3498 at Epoch: 54  ##############\n",
            "Performance in Val: Loss: (0.0524); Accuracy (94.25)\n"
          ]
        },
        {
          "output_type": "stream",
          "name": "stderr",
          "text": [
            "Epoch 72: 100%|██████████| 1400/1400 [00:20<00:00, 69.27batch/s, train_loss=tensor(0.0099, device='cuda:0', grad_fn=<MseLossBackward0>)]\n"
          ]
        },
        {
          "output_type": "stream",
          "name": "stdout",
          "text": [
            "0.053030187264084816 0.9420957723903025 0.9052647868177681 0.9470486111111112 0.8271417740712661 0.8271417740712661 0.8482176475848637 0.9526477236501543 0.8830433023067584\n",
            "Epoch: 72 / 500, ############## the best accuracy in val  94.3498 at Epoch: 54  ##############\n",
            "Performance in Val: Loss: (0.0530); Accuracy (94.21)\n"
          ]
        },
        {
          "output_type": "stream",
          "name": "stderr",
          "text": [
            "Epoch 73: 100%|██████████| 1400/1400 [00:20<00:00, 69.78batch/s, train_loss=tensor(0.0066, device='cuda:0', grad_fn=<MseLossBackward0>)]\n"
          ]
        },
        {
          "output_type": "stream",
          "name": "stdout",
          "text": [
            "0.05290135908871889 0.943097575636145 0.9069172526225552 0.948051948051948 0.8301743745261562 0.8301743745261562 0.8509019951213446 0.9535762097779892 0.8852061438965237\n",
            "Epoch: 73 / 500, ############## the best accuracy in val  94.3498 at Epoch: 54  ##############\n",
            "Performance in Val: Loss: (0.0529); Accuracy (94.31)\n"
          ]
        },
        {
          "output_type": "stream",
          "name": "stderr",
          "text": [
            "Epoch 74: 100%|██████████| 1400/1400 [00:20<00:00, 69.61batch/s, train_loss=tensor(0.0085, device='cuda:0', grad_fn=<MseLossBackward0>)]\n"
          ]
        },
        {
          "output_type": "stream",
          "name": "stdout",
          "text": [
            "0.05242939777672291 0.9432979362853136 0.9075392371589357 0.9473229706390328 0.8316906747536013 0.8316906747536013 0.8514310197831709 0.9550786766564094 0.8857488897860315\n",
            "Epoch: 74 / 500, ############## the best accuracy in val  94.3498 at Epoch: 54  ##############\n",
            "Performance in Val: Loss: (0.0524); Accuracy (94.33)\n"
          ]
        },
        {
          "output_type": "stream",
          "name": "stderr",
          "text": [
            "Epoch 75: 100%|██████████| 1400/1400 [00:19<00:00, 70.93batch/s, train_loss=tensor(0.0061, device='cuda:0', grad_fn=<MseLossBackward0>)]\n"
          ]
        },
        {
          "output_type": "stream",
          "name": "stdout",
          "text": [
            "0.052619231026619674 0.9432979362853136 0.9070534181998973 0.9488734835355286 0.8301743745261562 0.8301743745261562 0.8514444750757979 0.95431433250581 0.8855640921957137\n",
            "Epoch: 75 / 500, ############## the best accuracy in val  94.3498 at Epoch: 54  ##############\n",
            "Performance in Val: Loss: (0.0526); Accuracy (94.33)\n"
          ]
        },
        {
          "output_type": "stream",
          "name": "stderr",
          "text": [
            "Epoch 76: 100%|██████████| 1400/1400 [00:20<00:00, 67.98batch/s, train_loss=tensor(0.0105, device='cuda:0', grad_fn=<MseLossBackward0>)]\n"
          ]
        },
        {
          "output_type": "stream",
          "name": "stdout",
          "text": [
            "0.05254232725128531 0.941895411741134 0.9058573496789837 0.9439171699741156 0.8294162244124337 0.8294162244124337 0.8476619258591026 0.9542633349355243 0.8829701372074253\n",
            "Epoch: 76 / 500, ############## the best accuracy in val  94.3498 at Epoch: 54  ##############\n",
            "Performance in Val: Loss: (0.0525); Accuracy (94.19)\n"
          ]
        },
        {
          "output_type": "stream",
          "name": "stderr",
          "text": [
            "Epoch 77: 100%|██████████| 1400/1400 [00:20<00:00, 69.79batch/s, train_loss=tensor(0.0093, device='cuda:0', grad_fn=<MseLossBackward0>)]\n"
          ]
        },
        {
          "output_type": "stream",
          "name": "stdout",
          "text": [
            "0.05297103887423873 0.94109396914446 0.9040981399720195 0.9444926279271466 0.8256254738438211 0.8256254738438211 0.8455191382911479 0.9529916991647135 0.8810679611650486\n",
            "Epoch: 77 / 500, ############## the best accuracy in val  94.3498 at Epoch: 54  ##############\n",
            "Performance in Val: Loss: (0.0530); Accuracy (94.11)\n"
          ]
        },
        {
          "output_type": "stream",
          "name": "stderr",
          "text": [
            "Epoch 78: 100%|██████████| 1400/1400 [00:20<00:00, 68.20batch/s, train_loss=tensor(0.0125, device='cuda:0', grad_fn=<MseLossBackward0>)]\n"
          ]
        },
        {
          "output_type": "stream",
          "name": "stdout",
          "text": [
            "0.052688437327742574 0.9442997395311561 0.9079771555661267 0.952215464813206 0.8309325246398787 0.8309325246398787 0.8541542407123827 0.9551887240449208 0.8874493927125506\n",
            "Epoch: 78 / 500, ############## the best accuracy in val  94.3498 at Epoch: 54  ##############\n",
            "Performance in Val: Loss: (0.0527); Accuracy (94.43)\n"
          ]
        },
        {
          "output_type": "stream",
          "name": "stderr",
          "text": [
            "Epoch 79: 100%|██████████| 1400/1400 [00:20<00:00, 68.95batch/s, train_loss=tensor(0.0054, device='cuda:0', grad_fn=<MseLossBackward0>)]\n"
          ]
        },
        {
          "output_type": "stream",
          "name": "stdout",
          "text": [
            "0.052718542609363796 0.942696854337808 0.9064020119883519 0.9471861471861471 0.8294162244124337 0.8294162244124337 0.8498245788142561 0.9554769532275886 0.8843977364591753\n",
            "Epoch: 79 / 500, ############## the best accuracy in val  94.4300 at Epoch: 78  ##############\n",
            "Performance in Val: Loss: (0.0527); Accuracy (94.27)\n"
          ]
        },
        {
          "output_type": "stream",
          "name": "stderr",
          "text": [
            "Epoch 80: 100%|██████████| 1400/1400 [00:20<00:00, 68.55batch/s, train_loss=tensor(0.0102, device='cuda:0', grad_fn=<MseLossBackward0>)]\n"
          ]
        },
        {
          "output_type": "stream",
          "name": "stdout",
          "text": [
            "0.052659909799695016 0.9436986575836506 0.9087832062316966 0.9458762886597938 0.8347232752084913 0.8347232752084913 0.8524934563814929 0.9540919665819323 0.8868304470398711\n",
            "Epoch: 80 / 500, ############## the best accuracy in val  94.4300 at Epoch: 78  ##############\n",
            "Performance in Val: Loss: (0.0527); Accuracy (94.37)\n"
          ]
        },
        {
          "output_type": "stream",
          "name": "stderr",
          "text": [
            "Epoch 81: 100%|██████████| 1400/1400 [00:20<00:00, 69.11batch/s, train_loss=tensor(0.0064, device='cuda:0', grad_fn=<MseLossBackward0>)]\n"
          ]
        },
        {
          "output_type": "stream",
          "name": "stdout",
          "text": [
            "0.052170056477189065 0.9449008214786616 0.9091143807367105 0.9523396880415944 0.8332069749810462 0.8332069749810462 0.8557554452994801 0.955604963323043 0.8887990295188031\n",
            "Epoch: 81 / 500, ############## the best accuracy in val  94.4300 at Epoch: 78  ##############\n",
            "Performance in Val: Loss: (0.0522); Accuracy (94.49)\n"
          ]
        },
        {
          "output_type": "stream",
          "name": "stderr",
          "text": [
            "Epoch 82: 100%|██████████| 1400/1400 [00:20<00:00, 68.34batch/s, train_loss=tensor(0.0081, device='cuda:0', grad_fn=<MseLossBackward0>)]\n"
          ]
        },
        {
          "output_type": "stream",
          "name": "stdout",
          "text": [
            "0.05260061752051115 0.9412943297936285 0.9039913960698422 0.9460869565217391 0.8248673237300985 0.8248673237300985 0.8460670305657557 0.9543723499845562 0.8813284730660186\n",
            "Epoch: 82 / 500, ############## the best accuracy in val  94.4901 at Epoch: 81  ##############\n",
            "Performance in Val: Loss: (0.0526); Accuracy (94.13)\n"
          ]
        },
        {
          "output_type": "stream",
          "name": "stderr",
          "text": [
            "Epoch 83: 100%|██████████| 1400/1400 [00:20<00:00, 68.90batch/s, train_loss=tensor(0.0067, device='cuda:0', grad_fn=<MseLossBackward0>)]\n"
          ]
        },
        {
          "output_type": "stream",
          "name": "stdout",
          "text": [
            "0.05230712359771132 0.9434982969344821 0.907918312215797 0.9473684210526315 0.8324488248673237 0.8324488248673237 0.8519663926242366 0.9539910037808401 0.8861985472154964\n",
            "Epoch: 83 / 500, ############## the best accuracy in val  94.4901 at Epoch: 81  ##############\n",
            "Performance in Val: Loss: (0.0523); Accuracy (94.35)\n"
          ]
        },
        {
          "output_type": "stream",
          "name": "stderr",
          "text": [
            "Epoch 84: 100%|██████████| 1400/1400 [00:20<00:00, 69.29batch/s, train_loss=tensor(0.0085, device='cuda:0', grad_fn=<MseLossBackward0>)]\n"
          ]
        },
        {
          "output_type": "stream",
          "name": "stdout",
          "text": [
            "0.05192382372915745 0.9432979362853136 0.9065675992408588 0.9504347826086956 0.8286580742987112 0.8286580742987112 0.8514622953863442 0.9556329397229365 0.8853786958282707\n",
            "Epoch: 84 / 500, ############## the best accuracy in val  94.4901 at Epoch: 81  ##############\n",
            "Performance in Val: Loss: (0.0519); Accuracy (94.33)\n"
          ]
        },
        {
          "output_type": "stream",
          "name": "stderr",
          "text": [
            "Epoch 85: 100%|██████████| 1400/1400 [00:20<00:00, 68.01batch/s, train_loss=tensor(0.0085, device='cuda:0', grad_fn=<MseLossBackward0>)]\n"
          ]
        },
        {
          "output_type": "stream",
          "name": "stdout",
          "text": [
            "0.05207409588620067 0.9428972149869765 0.9070239965247324 0.9464594127806563 0.8309325246398787 0.8309325246398787 0.8503545789926554 0.954127479060026 0.8849414614452966\n",
            "Epoch: 85 / 500, ############## the best accuracy in val  94.4901 at Epoch: 81  ##############\n",
            "Performance in Val: Loss: (0.0521); Accuracy (94.29)\n"
          ]
        },
        {
          "output_type": "stream",
          "name": "stderr",
          "text": [
            "Epoch 86: 100%|██████████| 1400/1400 [00:20<00:00, 69.25batch/s, train_loss=tensor(0.0103, device='cuda:0', grad_fn=<MseLossBackward0>)]\n"
          ]
        },
        {
          "output_type": "stream",
          "name": "stdout",
          "text": [
            "0.052309104893356564 0.9434982969344821 0.9071895837772392 0.9496964440589766 0.8301743745261562 0.8301743745261562 0.8519875543606849 0.9550875547759328 0.8859223300970873\n",
            "Epoch: 86 / 500, ############## the best accuracy in val  94.4901 at Epoch: 81  ##############\n",
            "Performance in Val: Loss: (0.0523); Accuracy (94.35)\n"
          ]
        },
        {
          "output_type": "stream",
          "name": "stderr",
          "text": [
            "Epoch 87: 100%|██████████| 1400/1400 [00:19<00:00, 70.51batch/s, train_loss=tensor(0.0075, device='cuda:0', grad_fn=<MseLossBackward0>)]\n"
          ]
        },
        {
          "output_type": "stream",
          "name": "stdout",
          "text": [
            "0.05217217244207859 0.942296133039471 0.9049151334360718 0.949433304272014 0.8256254738438211 0.8256254738438211 0.8487784407167113 0.9552075126234472 0.8832116788321169\n",
            "Epoch: 87 / 500, ############## the best accuracy in val  94.4901 at Epoch: 81  ##############\n",
            "Performance in Val: Loss: (0.0522); Accuracy (94.23)\n"
          ]
        },
        {
          "output_type": "stream",
          "name": "stderr",
          "text": [
            "Epoch 88: 100%|██████████| 1400/1400 [00:20<00:00, 69.36batch/s, train_loss=tensor(0.0078, device='cuda:0', grad_fn=<MseLossBackward0>)]\n"
          ]
        },
        {
          "output_type": "stream",
          "name": "stdout",
          "text": [
            "0.05156379491090775 0.9432979362853136 0.906810508720378 0.9496527777777778 0.8294162244124337 0.8294162244124337 0.8514528376104944 0.9577823737531403 0.8854714690408743\n",
            "Epoch: 88 / 500, ############## the best accuracy in val  94.4901 at Epoch: 81  ##############\n",
            "Performance in Val: Loss: (0.0516); Accuracy (94.33)\n"
          ]
        },
        {
          "output_type": "stream",
          "name": "stderr",
          "text": [
            "Epoch 89: 100%|██████████| 1400/1400 [00:20<00:00, 69.86batch/s, train_loss=tensor(0.0098, device='cuda:0', grad_fn=<MseLossBackward0>)]\n"
          ]
        },
        {
          "output_type": "stream",
          "name": "stdout",
          "text": [
            "0.0522581472992897 0.9438990182328191 0.908190643370481 0.9490060501296457 0.8324488248673237 0.8324488248673237 0.8530491242609489 0.9560814912267662 0.8869143780290791\n",
            "Epoch: 89 / 500, ############## the best accuracy in val  94.4901 at Epoch: 81  ##############\n",
            "Performance in Val: Loss: (0.0523); Accuracy (94.39)\n"
          ]
        },
        {
          "output_type": "stream",
          "name": "stderr",
          "text": [
            "Epoch 90: 100%|██████████| 1400/1400 [00:20<00:00, 69.32batch/s, train_loss=tensor(0.0070, device='cuda:0', grad_fn=<MseLossBackward0>)]\n"
          ]
        },
        {
          "output_type": "stream",
          "name": "stdout",
          "text": [
            "0.0522020785138011 0.9432979362853136 0.906810508720378 0.9496527777777778 0.8294162244124337 0.8294162244124337 0.8514528376104944 0.955443298960558 0.8854714690408743\n",
            "Epoch: 90 / 500, ############## the best accuracy in val  94.4901 at Epoch: 81  ##############\n",
            "Performance in Val: Loss: (0.0522); Accuracy (94.33)\n"
          ]
        },
        {
          "output_type": "stream",
          "name": "stderr",
          "text": [
            "Epoch 91: 100%|██████████| 1400/1400 [00:20<00:00, 69.38batch/s, train_loss=tensor(0.0079, device='cuda:0', grad_fn=<MseLossBackward0>)]\n"
          ]
        },
        {
          "output_type": "stream",
          "name": "stdout",
          "text": [
            "0.05184443220496178 0.9440993788819876 0.9071122615502271 0.9537521815008726 0.8286580742987112 0.8286580742987112 0.8536452569446237 0.955390649647105 0.8868154158215011\n",
            "Epoch: 91 / 500, ############## the best accuracy in val  94.4901 at Epoch: 81  ##############\n",
            "Performance in Val: Loss: (0.0518); Accuracy (94.41)\n"
          ]
        },
        {
          "output_type": "stream",
          "name": "stderr",
          "text": [
            "Epoch 92: 100%|██████████| 1400/1400 [00:20<00:00, 68.77batch/s, train_loss=tensor(0.0079, device='cuda:0', grad_fn=<MseLossBackward0>)]\n"
          ]
        },
        {
          "output_type": "stream",
          "name": "stdout",
          "text": [
            "0.051735259406268594 0.9432979362853136 0.9075392371589357 0.9473229706390328 0.8316906747536013 0.8316906747536013 0.8514310197831709 0.9542525986049377 0.8857488897860315\n",
            "Epoch: 92 / 500, ############## the best accuracy in val  94.4901 at Epoch: 81  ##############\n",
            "Performance in Val: Loss: (0.0517); Accuracy (94.33)\n"
          ]
        },
        {
          "output_type": "stream",
          "name": "stderr",
          "text": [
            "Epoch 93: 100%|██████████| 1400/1400 [00:20<00:00, 69.20batch/s, train_loss=tensor(0.0083, device='cuda:0', grad_fn=<MseLossBackward0>)]\n"
          ]
        },
        {
          "output_type": "stream",
          "name": "stdout",
          "text": [
            "0.05152638992294669 0.9434982969344821 0.9064608553386817 0.9520488230165649 0.8278999241849886 0.8278999241849886 0.8520185651722869 0.9574916669557217 0.8856447688564476\n",
            "Epoch: 93 / 500, ############## the best accuracy in val  94.4901 at Epoch: 81  ##############\n",
            "Performance in Val: Loss: (0.0515); Accuracy (94.35)\n"
          ]
        },
        {
          "output_type": "stream",
          "name": "stderr",
          "text": [
            "Epoch 94: 100%|██████████| 1400/1400 [00:19<00:00, 70.52batch/s, train_loss=tensor(0.0116, device='cuda:0', grad_fn=<MseLossBackward0>)]\n"
          ]
        },
        {
          "output_type": "stream",
          "name": "stdout",
          "text": [
            "0.05146069666370749 0.9438990182328191 0.9072190054524042 0.9521322889469104 0.8294162244124337 0.8294162244124337 0.8530865091325329 0.9554115029045903 0.8865478119935171\n",
            "Epoch: 94 / 500, ############## the best accuracy in val  94.4901 at Epoch: 81  ##############\n",
            "Performance in Val: Loss: (0.0515); Accuracy (94.39)\n"
          ]
        },
        {
          "output_type": "stream",
          "name": "stderr",
          "text": [
            "Epoch 95: 100%|██████████| 1400/1400 [00:20<00:00, 68.67batch/s, train_loss=tensor(0.0089, device='cuda:0', grad_fn=<MseLossBackward0>)]\n"
          ]
        },
        {
          "output_type": "stream",
          "name": "stdout",
          "text": [
            "0.05209038807079196 0.9424964936886395 0.9057800274519714 0.9479166666666666 0.8278999241849886 0.8278999241849886 0.849296044260074 0.9559402671859747 0.8838526912181303\n",
            "Epoch: 95 / 500, ############## the best accuracy in val  94.4901 at Epoch: 81  ##############\n",
            "Performance in Val: Loss: (0.0521); Accuracy (94.25)\n"
          ]
        },
        {
          "output_type": "stream",
          "name": "stderr",
          "text": [
            "Epoch 96: 100%|██████████| 1400/1400 [00:20<00:00, 69.33batch/s, train_loss=tensor(0.0079, device='cuda:0', grad_fn=<MseLossBackward0>)]\n"
          ]
        },
        {
          "output_type": "stream",
          "name": "stdout",
          "text": [
            "0.05226575843989849 0.942696854337808 0.9054303740702752 0.9503051438535309 0.8263836239575436 0.8263836239575436 0.8498584822019032 0.9551189378961086 0.884022708840227\n",
            "Epoch: 96 / 500, ############## the best accuracy in val  94.4901 at Epoch: 81  ##############\n",
            "Performance in Val: Loss: (0.0523); Accuracy (94.27)\n"
          ]
        },
        {
          "output_type": "stream",
          "name": "stderr",
          "text": [
            "Epoch 97: 100%|██████████| 1400/1400 [00:20<00:00, 69.96batch/s, train_loss=tensor(0.0117, device='cuda:0', grad_fn=<MseLossBackward0>)]\n"
          ]
        },
        {
          "output_type": "stream",
          "name": "stdout",
          "text": [
            "0.05258565470576286 0.9420957723903025 0.9045360583792105 0.9493891797556719 0.8248673237300985 0.8248673237300985 0.8482433965106249 0.9537804065270283 0.8827586206896552\n",
            "Epoch: 97 / 500, ############## the best accuracy in val  94.4901 at Epoch: 81  ##############\n",
            "Performance in Val: Loss: (0.0526); Accuracy (94.21)\n"
          ]
        },
        {
          "output_type": "stream",
          "name": "stderr",
          "text": [
            "Epoch 98: 100%|██████████| 1400/1400 [00:20<00:00, 67.83batch/s, train_loss=tensor(0.0097, device='cuda:0', grad_fn=<MseLossBackward0>)]\n"
          ]
        },
        {
          "output_type": "stream",
          "name": "stdout",
          "text": [
            "0.05195289412513375 0.9436986575836506 0.906839930395543 0.9520905923344948 0.8286580742987112 0.8286580742987112 0.8525525638555222 0.9538487474005692 0.8860964734495338\n",
            "Epoch: 98 / 500, ############## the best accuracy in val  94.4901 at Epoch: 81  ##############\n",
            "Performance in Val: Loss: (0.0520); Accuracy (94.37)\n"
          ]
        },
        {
          "output_type": "stream",
          "name": "stderr",
          "text": [
            "Epoch 99: 100%|██████████| 1400/1400 [00:20<00:00, 68.55batch/s, train_loss=tensor(0.0101, device='cuda:0', grad_fn=<MseLossBackward0>)]\n"
          ]
        },
        {
          "output_type": "stream",
          "name": "stdout",
          "text": [
            "0.05135897770524025 0.9440993788819876 0.9071122615502271 0.9537521815008726 0.8286580742987112 0.8286580742987112 0.8536452569446237 0.9557422644738125 0.8868154158215011\n",
            "Epoch: 99 / 500, ############## the best accuracy in val  94.4901 at Epoch: 81  ##############\n",
            "Performance in Val: Loss: (0.0514); Accuracy (94.41)\n"
          ]
        },
        {
          "output_type": "stream",
          "name": "stderr",
          "text": [
            "Epoch 100: 100%|██████████| 1400/1400 [00:19<00:00, 71.37batch/s, train_loss=tensor(0.0111, device='cuda:0', grad_fn=<MseLossBackward0>)]\n"
          ]
        },
        {
          "output_type": "stream",
          "name": "stdout",
          "text": [
            "0.05204534726217389 0.9432979362853136 0.906810508720378 0.9496527777777778 0.8294162244124337 0.8294162244124337 0.8514528376104944 0.9539895585055688 0.8854714690408743\n",
            "Epoch: 100 / 500, ############## the best accuracy in val  94.4901 at Epoch: 81  ##############\n",
            "Performance in Val: Loss: (0.0520); Accuracy (94.33)\n"
          ]
        },
        {
          "output_type": "stream",
          "name": "stderr",
          "text": [
            "Epoch 101: 100%|██████████| 1400/1400 [00:20<00:00, 69.12batch/s, train_loss=tensor(0.0095, device='cuda:0', grad_fn=<MseLossBackward0>)]\n"
          ]
        },
        {
          "output_type": "stream",
          "name": "stdout",
          "text": [
            "0.05218071369454265 0.943097575636145 0.9069172526225552 0.948051948051948 0.8301743745261562 0.8301743745261562 0.8509019951213446 0.9541997428235889 0.8852061438965237\n",
            "Epoch: 101 / 500, ############## the best accuracy in val  94.4901 at Epoch: 81  ##############\n",
            "Performance in Val: Loss: (0.0522); Accuracy (94.31)\n"
          ]
        },
        {
          "output_type": "stream",
          "name": "stderr",
          "text": [
            "Epoch 102: 100%|██████████| 1400/1400 [00:20<00:00, 67.22batch/s, train_loss=tensor(0.0081, device='cuda:0', grad_fn=<MseLossBackward0>)]\n"
          ]
        },
        {
          "output_type": "stream",
          "name": "stdout",
          "text": [
            "0.051795234251767394 0.9451011821278301 0.9087647273550141 0.9547432550043516 0.8316906747536013 0.8316906747536013 0.8563246549074882 0.954283362321426 0.8889789303079416\n",
            "Epoch: 102 / 500, ############## the best accuracy in val  94.4901 at Epoch: 81  ##############\n",
            "Performance in Val: Loss: (0.0518); Accuracy (94.51)\n"
          ]
        },
        {
          "output_type": "stream",
          "name": "stderr",
          "text": [
            "Epoch 103: 100%|██████████| 1400/1400 [00:21<00:00, 65.62batch/s, train_loss=tensor(0.0074, device='cuda:0', grad_fn=<MseLossBackward0>)]\n"
          ]
        },
        {
          "output_type": "stream",
          "name": "stdout",
          "text": [
            "0.05166632598266006 0.9440993788819876 0.9088126279068615 0.9482758620689655 0.8339651250947687 0.8339651250947687 0.8535775053723988 0.954045924241148 0.8874546187979024\n",
            "Epoch: 103 / 500, ############## the best accuracy in val  94.5101 at Epoch: 102  ##############\n",
            "Performance in Val: Loss: (0.0517); Accuracy (94.41)\n"
          ]
        },
        {
          "output_type": "stream",
          "name": "stderr",
          "text": [
            "Epoch 104: 100%|██████████| 1400/1400 [00:21<00:00, 66.39batch/s, train_loss=tensor(0.0087, device='cuda:0', grad_fn=<MseLossBackward0>)]\n"
          ]
        },
        {
          "output_type": "stream",
          "name": "stdout",
          "text": [
            "0.05203790329396725 0.9420957723903025 0.9057506057768065 0.9455017301038062 0.8286580742987112 0.8286580742987112 0.8482059319969044 0.9535159211523883 0.8832323232323233\n",
            "Epoch: 104 / 500, ############## the best accuracy in val  94.5101 at Epoch: 102  ##############\n",
            "Performance in Val: Loss: (0.0520); Accuracy (94.21)\n"
          ]
        },
        {
          "output_type": "stream",
          "name": "stderr",
          "text": [
            "Epoch 105: 100%|██████████| 1400/1400 [00:21<00:00, 65.08batch/s, train_loss=tensor(0.0086, device='cuda:0', grad_fn=<MseLossBackward0>)]\n"
          ]
        },
        {
          "output_type": "stream",
          "name": "stdout",
          "text": [
            "0.052127606235444546 0.941494690442797 0.9058279280038188 0.9415305245055889 0.8301743745261562 0.8301743745261562 0.8465835755005028 0.954704143893258 0.8823529411764705\n",
            "Epoch: 105 / 500, ############## the best accuracy in val  94.5101 at Epoch: 102  ##############\n",
            "Performance in Val: Loss: (0.0521); Accuracy (94.15)\n"
          ]
        },
        {
          "output_type": "stream",
          "name": "stderr",
          "text": [
            "Epoch 106: 100%|██████████| 1400/1400 [00:21<00:00, 65.06batch/s, train_loss=tensor(0.0078, device='cuda:0', grad_fn=<MseLossBackward0>)]\n"
          ]
        },
        {
          "output_type": "stream",
          "name": "stdout",
          "text": [
            "0.05213763369247317 0.9438990182328191 0.9084335528500003 0.9482312338222606 0.8332069749810462 0.8332069749810462 0.8530425093155201 0.9547057956364249 0.8870056497175142\n",
            "Epoch: 106 / 500, ############## the best accuracy in val  94.5101 at Epoch: 102  ##############\n",
            "Performance in Val: Loss: (0.0521); Accuracy (94.39)\n"
          ]
        },
        {
          "output_type": "stream",
          "name": "stderr",
          "text": [
            "Epoch 107: 100%|██████████| 1400/1400 [00:20<00:00, 69.45batch/s, train_loss=tensor(0.0067, device='cuda:0', grad_fn=<MseLossBackward0>)]\n"
          ]
        },
        {
          "output_type": "stream",
          "name": "stdout",
          "text": [
            "0.05157376937568188 0.9434982969344821 0.9076754027362777 0.9481417458945549 0.8316906747536013 0.8316906747536013 0.8519723588354566 0.9552616072121713 0.8861066235864297\n",
            "Epoch: 107 / 500, ############## the best accuracy in val  94.5101 at Epoch: 102  ##############\n",
            "Performance in Val: Loss: (0.0516); Accuracy (94.35)\n"
          ]
        },
        {
          "output_type": "stream",
          "name": "stderr",
          "text": [
            "Epoch 108: 100%|██████████| 1400/1400 [00:19<00:00, 70.25batch/s, train_loss=tensor(0.0080, device='cuda:0', grad_fn=<MseLossBackward0>)]\n"
          ]
        },
        {
          "output_type": "stream",
          "name": "stdout",
          "text": [
            "0.05116080362349749 0.9424964936886395 0.9067516653700483 0.9448275862068966 0.8309325246398787 0.8309325246398787 0.8492743328656048 0.9563639393083491 0.8842275110931826\n",
            "Epoch: 108 / 500, ############## the best accuracy in val  94.5101 at Epoch: 102  ##############\n",
            "Performance in Val: Loss: (0.0512); Accuracy (94.25)\n"
          ]
        },
        {
          "output_type": "stream",
          "name": "stderr",
          "text": [
            "Epoch 109: 100%|██████████| 1400/1400 [00:21<00:00, 66.42batch/s, train_loss=tensor(0.0081, device='cuda:0', grad_fn=<MseLossBackward0>)]\n"
          ]
        },
        {
          "output_type": "stream",
          "name": "stdout",
          "text": [
            "0.05171965016052127 0.942296133039471 0.905158042915591 0.9486510008703221 0.8263836239575436 0.8263836239575436 0.8487689814325925 0.9554808761176108 0.8833063209076176\n",
            "Epoch: 109 / 500, ############## the best accuracy in val  94.5101 at Epoch: 102  ##############\n",
            "Performance in Val: Loss: (0.0517); Accuracy (94.23)\n"
          ]
        },
        {
          "output_type": "stream",
          "name": "stderr",
          "text": [
            "Epoch 110: 100%|██████████| 1400/1400 [00:20<00:00, 66.88batch/s, train_loss=tensor(0.0068, device='cuda:0', grad_fn=<MseLossBackward0>)]\n"
          ]
        },
        {
          "output_type": "stream",
          "name": "stdout",
          "text": [
            "0.05136589230969548 0.9447004608294931 0.9092211246388877 0.9507346585998271 0.8339651250947687 0.8339651250947687 0.8552026551119335 0.9562423297176674 0.8885298869143781\n",
            "Epoch: 110 / 500, ############## the best accuracy in val  94.5101 at Epoch: 102  ##############\n",
            "Performance in Val: Loss: (0.0514); Accuracy (94.47)\n"
          ]
        },
        {
          "output_type": "stream",
          "name": "stderr",
          "text": [
            "Epoch 111: 100%|██████████| 1400/1400 [00:21<00:00, 66.00batch/s, train_loss=tensor(0.0096, device='cuda:0', grad_fn=<MseLossBackward0>)]\n"
          ]
        },
        {
          "output_type": "stream",
          "name": "stdout",
          "text": [
            "0.05182068329304457 0.9438990182328191 0.9077048244114426 0.9505637467476149 0.8309325246398787 0.8309325246398787 0.8530656237056076 0.9538815757960164 0.8867313915857605\n",
            "Epoch: 111 / 500, ############## the best accuracy in val  94.5101 at Epoch: 102  ##############\n",
            "Performance in Val: Loss: (0.0518); Accuracy (94.39)\n"
          ]
        },
        {
          "output_type": "stream",
          "name": "stderr",
          "text": [
            "Epoch 112: 100%|██████████| 1400/1400 [00:20<00:00, 69.38batch/s, train_loss=tensor(0.0083, device='cuda:0', grad_fn=<MseLossBackward0>)]\n"
          ]
        },
        {
          "output_type": "stream",
          "name": "stdout",
          "text": [
            "0.05183128761127591 0.9424964936886395 0.905294208492933 0.9494773519163763 0.8263836239575436 0.8263836239575436 0.8493134295606253 0.956262770039361 0.883664369679773\n",
            "Epoch: 112 / 500, ############## the best accuracy in val  94.5101 at Epoch: 102  ##############\n",
            "Performance in Val: Loss: (0.0518); Accuracy (94.25)\n"
          ]
        },
        {
          "output_type": "stream",
          "name": "stderr",
          "text": [
            "Epoch 113: 100%|██████████| 1400/1400 [00:20<00:00, 68.25batch/s, train_loss=tensor(0.0087, device='cuda:0', grad_fn=<MseLossBackward0>)]\n"
          ]
        },
        {
          "output_type": "stream",
          "name": "stdout",
          "text": [
            "0.05178241617977619 0.9434982969344821 0.9074324932567586 0.9489177489177489 0.8309325246398787 0.8309325246398787 0.851979411428433 0.9548957461006473 0.8860145513338722\n",
            "Epoch: 113 / 500, ############## the best accuracy in val  94.5101 at Epoch: 102  ##############\n",
            "Performance in Val: Loss: (0.0518); Accuracy (94.35)\n"
          ]
        },
        {
          "output_type": "stream",
          "name": "stderr",
          "text": [
            "Epoch 114: 100%|██████████| 1400/1400 [00:20<00:00, 67.95batch/s, train_loss=tensor(0.0079, device='cuda:0', grad_fn=<MseLossBackward0>)]\n"
          ]
        },
        {
          "output_type": "stream",
          "name": "stdout",
          "text": [
            "0.051621252577751874 0.943097575636145 0.9069172526225552 0.948051948051948 0.8301743745261562 0.8301743745261562 0.8509019951213446 0.9550590622062993 0.8852061438965237\n",
            "Epoch: 114 / 500, ############## the best accuracy in val  94.5101 at Epoch: 102  ##############\n",
            "Performance in Val: Loss: (0.0516); Accuracy (94.31)\n"
          ]
        },
        {
          "output_type": "stream",
          "name": "stderr",
          "text": [
            "Epoch 115: 100%|██████████| 1400/1400 [00:21<00:00, 66.56batch/s, train_loss=tensor(0.0086, device='cuda:0', grad_fn=<MseLossBackward0>)]\n"
          ]
        },
        {
          "output_type": "stream",
          "name": "stdout",
          "text": [
            "0.05204770751297474 0.942696854337808 0.9056732835497943 0.9495213228894691 0.8271417740712661 0.8271417740712661 0.8498483633575776 0.9537054586808188 0.8841166936790925\n",
            "Epoch: 115 / 500, ############## the best accuracy in val  94.5101 at Epoch: 102  ##############\n",
            "Performance in Val: Loss: (0.0520); Accuracy (94.27)\n"
          ]
        },
        {
          "output_type": "stream",
          "name": "stderr",
          "text": [
            "Epoch 116: 100%|██████████| 1400/1400 [00:20<00:00, 67.12batch/s, train_loss=tensor(0.0104, device='cuda:0', grad_fn=<MseLossBackward0>)]\n"
          ]
        },
        {
          "output_type": "stream",
          "name": "stdout",
          "text": [
            "0.05095959547907114 0.9451011821278301 0.9094934557935717 0.9523809523809523 0.8339651250947687 0.8339651250947687 0.8562890766567869 0.9550898259227876 0.8892481810832659\n",
            "Epoch: 116 / 500, ############## the best accuracy in val  94.5101 at Epoch: 102  ##############\n",
            "Performance in Val: Loss: (0.0510); Accuracy (94.51)\n"
          ]
        },
        {
          "output_type": "stream",
          "name": "stderr",
          "text": [
            "Epoch 117: 100%|██████████| 1400/1400 [00:21<00:00, 66.34batch/s, train_loss=tensor(0.0077, device='cuda:0', grad_fn=<MseLossBackward0>)]\n"
          ]
        },
        {
          "output_type": "stream",
          "name": "stdout",
          "text": [
            "0.0520470404997468 0.942696854337808 0.9051874645907558 0.9510917030567686 0.8256254738438211 0.8256254738438211 0.8498697031017916 0.9549560347262483 0.8839285714285714\n",
            "Epoch: 117 / 500, ############## the best accuracy in val  94.5101 at Epoch: 102  ##############\n",
            "Performance in Val: Loss: (0.0520); Accuracy (94.27)\n"
          ]
        },
        {
          "output_type": "stream",
          "name": "stderr",
          "text": [
            "Epoch 118: 100%|██████████| 1400/1400 [00:20<00:00, 68.11batch/s, train_loss=tensor(0.0069, device='cuda:0', grad_fn=<MseLossBackward0>)]\n"
          ]
        },
        {
          "output_type": "stream",
          "name": "stdout",
          "text": [
            "0.05157605493441224 0.9428972149869765 0.9060523586066556 0.9495652173913044 0.8278999241849886 0.8278999241849886 0.8503832424222265 0.9547421339861022 0.8845686512758202\n",
            "Epoch: 118 / 500, ############## the best accuracy in val  94.5101 at Epoch: 102  ##############\n",
            "Performance in Val: Loss: (0.0516); Accuracy (94.29)\n"
          ]
        },
        {
          "output_type": "stream",
          "name": "stderr",
          "text": [
            "Epoch 119: 100%|██████████| 1400/1400 [00:20<00:00, 68.47batch/s, train_loss=tensor(0.0103, device='cuda:0', grad_fn=<MseLossBackward0>)]\n"
          ]
        },
        {
          "output_type": "stream",
          "name": "stdout",
          "text": [
            "0.051787934452295306 0.9438990182328191 0.9067331864933658 0.9537117903930131 0.8278999241849886 0.8278999241849886 0.853111812814578 0.9551907887238797 0.8863636363636364\n",
            "Epoch: 119 / 500, ############## the best accuracy in val  94.5101 at Epoch: 102  ##############\n",
            "Performance in Val: Loss: (0.0518); Accuracy (94.39)\n"
          ]
        },
        {
          "output_type": "stream",
          "name": "stderr",
          "text": [
            "Epoch 120: 100%|██████████| 1400/1400 [00:20<00:00, 67.80batch/s, train_loss=tensor(0.0090, device='cuda:0', grad_fn=<MseLossBackward0>)]\n"
          ]
        },
        {
          "output_type": "stream",
          "name": "stdout",
          "text": [
            "0.051364637166261676 0.9438990182328191 0.906976095972885 0.952920662598082 0.8286580742987112 0.8286580742987112 0.8530986066574788 0.9569486563895208 0.886455798864558\n",
            "Epoch: 120 / 500, ############## the best accuracy in val  94.5101 at Epoch: 102  ##############\n",
            "Performance in Val: Loss: (0.0514); Accuracy (94.39)\n"
          ]
        },
        {
          "output_type": "stream",
          "name": "stderr",
          "text": [
            "Epoch 121: 100%|██████████| 1400/1400 [00:20<00:00, 67.94batch/s, train_loss=tensor(0.0065, device='cuda:0', grad_fn=<MseLossBackward0>)]\n"
          ]
        },
        {
          "output_type": "stream",
          "name": "stdout",
          "text": [
            "0.051359230931848285 0.9434982969344821 0.9076754027362777 0.9481417458945549 0.8316906747536013 0.8316906747536013 0.8519723588354566 0.9544817779693799 0.8861066235864297\n",
            "Epoch: 121 / 500, ############## the best accuracy in val  94.5101 at Epoch: 102  ##############\n",
            "Performance in Val: Loss: (0.0514); Accuracy (94.35)\n"
          ]
        },
        {
          "output_type": "stream",
          "name": "stderr",
          "text": [
            "Epoch 122: 100%|██████████| 1400/1400 [00:19<00:00, 70.94batch/s, train_loss=tensor(0.0078, device='cuda:0', grad_fn=<MseLossBackward0>)]\n"
          ]
        },
        {
          "output_type": "stream",
          "name": "stdout",
          "text": [
            "0.051759335305541755 0.942696854337808 0.9061591025088327 0.9479618386816999 0.8286580742987112 0.8286580742987112 0.8498314156708392 0.9568474871205326 0.8843042071197411\n",
            "Epoch: 122 / 500, ############## the best accuracy in val  94.5101 at Epoch: 102  ##############\n",
            "Performance in Val: Loss: (0.0518); Accuracy (94.27)\n"
          ]
        },
        {
          "output_type": "stream",
          "name": "stderr",
          "text": [
            "Epoch 123: 100%|██████████| 1400/1400 [00:20<00:00, 68.83batch/s, train_loss=tensor(0.0083, device='cuda:0', grad_fn=<MseLossBackward0>)]\n"
          ]
        },
        {
          "output_type": "stream",
          "name": "stdout",
          "text": [
            "0.051778657082468274 0.9447004608294931 0.9080065772412915 0.9546643417611159 0.8301743745261562 0.8301743745261562 0.8552586896278627 0.9540533570854001 0.8880778588807786\n",
            "Epoch: 123 / 500, ############## the best accuracy in val  94.5101 at Epoch: 102  ##############\n",
            "Performance in Val: Loss: (0.0518); Accuracy (94.47)\n"
          ]
        },
        {
          "output_type": "stream",
          "name": "stderr",
          "text": [
            "Epoch 124: 100%|██████████| 1400/1400 [00:20<00:00, 67.31batch/s, train_loss=tensor(0.0090, device='cuda:0', grad_fn=<MseLossBackward0>)]\n"
          ]
        },
        {
          "output_type": "stream",
          "name": "stdout",
          "text": [
            "0.05133442394435406 0.9436986575836506 0.9070828398750621 0.951304347826087 0.8294162244124337 0.8294162244124337 0.8525413483504619 0.9548604400904495 0.886188740380721\n",
            "Epoch: 124 / 500, ############## the best accuracy in val  94.5101 at Epoch: 102  ##############\n",
            "Performance in Val: Loss: (0.0513); Accuracy (94.37)\n"
          ]
        },
        {
          "output_type": "stream",
          "name": "stderr",
          "text": [
            "Epoch 125: 100%|██████████| 1400/1400 [00:19<00:00, 71.59batch/s, train_loss=tensor(0.0088, device='cuda:0', grad_fn=<MseLossBackward0>)]\n"
          ]
        },
        {
          "output_type": "stream",
          "name": "stdout",
          "text": [
            "0.05140549018979072 0.9424964936886395 0.9055371179724523 0.948695652173913 0.8271417740712661 0.8271417740712661 0.8493041894581088 0.9560323518675435 0.8837586067233697\n",
            "Epoch: 125 / 500, ############## the best accuracy in val  94.5101 at Epoch: 102  ##############\n",
            "Performance in Val: Loss: (0.0514); Accuracy (94.25)\n"
          ]
        },
        {
          "output_type": "stream",
          "name": "stderr",
          "text": [
            "Epoch 126: 100%|██████████| 1400/1400 [00:19<00:00, 71.92batch/s, train_loss=tensor(0.0087, device='cuda:0', grad_fn=<MseLossBackward0>)]\n"
          ]
        },
        {
          "output_type": "stream",
          "name": "stdout",
          "text": [
            "0.05109511176124215 0.942696854337808 0.9059161930293135 0.94874022589053 0.8278999241849886 0.8278999241849886 0.8498393425207779 0.9559501776449777 0.8842105263157894\n",
            "Epoch: 126 / 500, ############## the best accuracy in val  94.5101 at Epoch: 102  ##############\n",
            "Performance in Val: Loss: (0.0511); Accuracy (94.27)\n"
          ]
        },
        {
          "output_type": "stream",
          "name": "stderr",
          "text": [
            "Epoch 127: 100%|██████████| 1400/1400 [00:19<00:00, 71.39batch/s, train_loss=tensor(0.0098, device='cuda:0', grad_fn=<MseLossBackward0>)]\n"
          ]
        },
        {
          "output_type": "stream",
          "name": "stdout",
          "text": [
            "0.05155507167801261 0.9447004608294931 0.9077636677617724 0.9554585152838428 0.8294162244124337 0.8294162244124337 0.8552732192897691 0.9559355184243692 0.887987012987013\n",
            "Epoch: 127 / 500, ############## the best accuracy in val  94.5101 at Epoch: 102  ##############\n",
            "Performance in Val: Loss: (0.0516); Accuracy (94.47)\n"
          ]
        },
        {
          "output_type": "stream",
          "name": "stderr",
          "text": [
            "Epoch 128: 100%|██████████| 1400/1400 [00:20<00:00, 68.46batch/s, train_loss=tensor(0.0076, device='cuda:0', grad_fn=<MseLossBackward0>)]\n"
          ]
        },
        {
          "output_type": "stream",
          "name": "stdout",
          "text": [
            "0.05161118675023317 0.943097575636145 0.906674343143036 0.9488291413703382 0.8294162244124337 0.8294162244124337 0.850909485015762 0.9552647042306097 0.8851132686084143\n",
            "Epoch: 128 / 500, ############## the best accuracy in val  94.5101 at Epoch: 102  ##############\n",
            "Performance in Val: Loss: (0.0516); Accuracy (94.31)\n"
          ]
        },
        {
          "output_type": "stream",
          "name": "stderr",
          "text": [
            "Epoch 129: 100%|██████████| 1400/1400 [00:20<00:00, 68.33batch/s, train_loss=tensor(0.0070, device='cuda:0', grad_fn=<MseLossBackward0>)]\n"
          ]
        },
        {
          "output_type": "stream",
          "name": "stdout",
          "text": [
            "0.05158663634210825 0.9434982969344821 0.9076754027362777 0.9481417458945549 0.8316906747536013 0.8316906747536013 0.8519723588354566 0.9540713197923428 0.8861066235864297\n",
            "Epoch: 129 / 500, ############## the best accuracy in val  94.5101 at Epoch: 102  ##############\n",
            "Performance in Val: Loss: (0.0516); Accuracy (94.35)\n"
          ]
        },
        {
          "output_type": "stream",
          "name": "stderr",
          "text": [
            "Epoch 130: 100%|██████████| 1400/1400 [00:19<00:00, 70.31batch/s, train_loss=tensor(0.0085, device='cuda:0', grad_fn=<MseLossBackward0>)]\n"
          ]
        },
        {
          "output_type": "stream",
          "name": "stdout",
          "text": [
            "0.05160532100126147 0.9442997395311561 0.9079771555661267 0.952215464813206 0.8309325246398787 0.8309325246398787 0.8541542407123827 0.9547664971978178 0.8874493927125506\n",
            "Epoch: 130 / 500, ############## the best accuracy in val  94.5101 at Epoch: 102  ##############\n",
            "Performance in Val: Loss: (0.0516); Accuracy (94.43)\n"
          ]
        },
        {
          "output_type": "stream",
          "name": "stderr",
          "text": [
            "Epoch 131: 100%|██████████| 1400/1400 [00:19<00:00, 72.06batch/s, train_loss=tensor(0.0086, device='cuda:0', grad_fn=<MseLossBackward0>)]\n"
          ]
        },
        {
          "output_type": "stream",
          "name": "stdout",
          "text": [
            "0.05147421909496188 0.9434982969344821 0.9064608553386817 0.9520488230165649 0.8278999241849886 0.8278999241849886 0.8520185651722869 0.9563100511875209 0.8856447688564476\n",
            "Epoch: 131 / 500, ############## the best accuracy in val  94.5101 at Epoch: 102  ##############\n",
            "Performance in Val: Loss: (0.0515); Accuracy (94.35)\n"
          ]
        },
        {
          "output_type": "stream",
          "name": "stderr",
          "text": [
            "Epoch 132: 100%|██████████| 1400/1400 [00:19<00:00, 70.73batch/s, train_loss=tensor(0.0068, device='cuda:0', grad_fn=<MseLossBackward0>)]\n"
          ]
        },
        {
          "output_type": "stream",
          "name": "stdout",
          "text": [
            "0.05162107804790139 0.9438990182328191 0.9077048244114426 0.9505637467476149 0.8309325246398787 0.8309325246398787 0.8530656237056076 0.9548819127516224 0.8867313915857605\n",
            "Epoch: 132 / 500, ############## the best accuracy in val  94.5101 at Epoch: 102  ##############\n",
            "Performance in Val: Loss: (0.0516); Accuracy (94.39)\n"
          ]
        },
        {
          "output_type": "stream",
          "name": "stderr",
          "text": [
            "Epoch 133: 100%|██████████| 1400/1400 [00:19<00:00, 70.33batch/s, train_loss=tensor(0.0098, device='cuda:0', grad_fn=<MseLossBackward0>)]\n"
          ]
        },
        {
          "output_type": "stream",
          "name": "stdout",
          "text": [
            "0.051721027493476866 0.942696854337808 0.9054303740702752 0.9503051438535309 0.8263836239575436 0.8263836239575436 0.8498584822019032 0.9530227725830456 0.884022708840227\n",
            "Epoch: 133 / 500, ############## the best accuracy in val  94.5101 at Epoch: 102  ##############\n",
            "Performance in Val: Loss: (0.0517); Accuracy (94.27)\n"
          ]
        },
        {
          "output_type": "stream",
          "name": "stderr",
          "text": [
            "Epoch 134: 100%|██████████| 1400/1400 [00:19<00:00, 71.58batch/s, train_loss=tensor(0.0095, device='cuda:0', grad_fn=<MseLossBackward0>)]\n"
          ]
        },
        {
          "output_type": "stream",
          "name": "stdout",
          "text": [
            "0.05147128244861961 0.9436986575836506 0.9065970209160237 0.9528795811518325 0.8278999241849886 0.8278999241849886 0.852564884857824 0.9558329038801099 0.8860040567951317\n",
            "Epoch: 134 / 500, ############## the best accuracy in val  94.5101 at Epoch: 102  ##############\n",
            "Performance in Val: Loss: (0.0515); Accuracy (94.37)\n"
          ]
        },
        {
          "output_type": "stream",
          "name": "stderr",
          "text": [
            "Epoch 135: 100%|██████████| 1400/1400 [00:19<00:00, 70.82batch/s, train_loss=tensor(0.0083, device='cuda:0', grad_fn=<MseLossBackward0>)]\n"
          ]
        },
        {
          "output_type": "stream",
          "name": "stdout",
          "text": [
            "0.051071659103035925 0.9438990182328191 0.9077048244114426 0.9505637467476149 0.8309325246398787 0.8309325246398787 0.8530656237056076 0.9558533442018033 0.8867313915857605\n",
            "Epoch: 135 / 500, ############## the best accuracy in val  94.5101 at Epoch: 102  ##############\n",
            "Performance in Val: Loss: (0.0511); Accuracy (94.39)\n"
          ]
        },
        {
          "output_type": "stream",
          "name": "stderr",
          "text": [
            "Epoch 136: 100%|██████████| 1400/1400 [00:20<00:00, 67.70batch/s, train_loss=tensor(0.0087, device='cuda:0', grad_fn=<MseLossBackward0>)]\n"
          ]
        },
        {
          "output_type": "stream",
          "name": "stdout",
          "text": [
            "0.05135799320414662 0.9445001001803246 0.9081133211434688 0.9530434782608695 0.8309325246398787 0.8309325246398787 0.8546994542786973 0.9548862485774361 0.8878088294856218\n",
            "Epoch: 136 / 500, ############## the best accuracy in val  94.5101 at Epoch: 102  ##############\n",
            "Performance in Val: Loss: (0.0514); Accuracy (94.45)\n"
          ]
        },
        {
          "output_type": "stream",
          "name": "stderr",
          "text": [
            "Epoch 137: 100%|██████████| 1400/1400 [00:19<00:00, 70.59batch/s, train_loss=tensor(0.0068, device='cuda:0', grad_fn=<MseLossBackward0>)]\n"
          ]
        },
        {
          "output_type": "stream",
          "name": "stdout",
          "text": [
            "0.051362037938088176 0.9438990182328191 0.9067331864933658 0.9537117903930131 0.8278999241849886 0.8278999241849886 0.853111812814578 0.9581800309206321 0.8863636363636364\n",
            "Epoch: 137 / 500, ############## the best accuracy in val  94.5101 at Epoch: 102  ##############\n",
            "Performance in Val: Loss: (0.0514); Accuracy (94.39)\n"
          ]
        },
        {
          "output_type": "stream",
          "name": "stderr",
          "text": [
            "Epoch 138: 100%|██████████| 1400/1400 [00:20<00:00, 69.31batch/s, train_loss=tensor(0.0071, device='cuda:0', grad_fn=<MseLossBackward0>)]\n"
          ]
        },
        {
          "output_type": "stream",
          "name": "stdout",
          "text": [
            "0.05134708108380437 0.9424964936886395 0.905294208492933 0.9494773519163763 0.8263836239575436 0.8263836239575436 0.8493134295606253 0.9568266338630473 0.883664369679773\n",
            "Epoch: 138 / 500, ############## the best accuracy in val  94.5101 at Epoch: 102  ##############\n",
            "Performance in Val: Loss: (0.0513); Accuracy (94.25)\n"
          ]
        },
        {
          "output_type": "stream",
          "name": "stderr",
          "text": [
            "Epoch 139: 100%|██████████| 1400/1400 [00:20<00:00, 68.70batch/s, train_loss=tensor(0.0071, device='cuda:0', grad_fn=<MseLossBackward0>)]\n"
          ]
        },
        {
          "output_type": "stream",
          "name": "stdout",
          "text": [
            "0.05159753607586026 0.9451011821278301 0.9092505463140526 0.9531656548135299 0.8332069749810462 0.8332069749810462 0.856299831740376 0.9563461830693022 0.88915857605178\n",
            "Epoch: 139 / 500, ############## the best accuracy in val  94.5101 at Epoch: 102  ##############\n",
            "Performance in Val: Loss: (0.0516); Accuracy (94.51)\n"
          ]
        },
        {
          "output_type": "stream",
          "name": "stderr",
          "text": [
            "Epoch 140: 100%|██████████| 1400/1400 [00:20<00:00, 69.06batch/s, train_loss=tensor(0.0099, device='cuda:0', grad_fn=<MseLossBackward0>)]\n"
          ]
        },
        {
          "output_type": "stream",
          "name": "stdout",
          "text": [
            "0.05119704082608223 0.9440993788819876 0.9073551710297463 0.9529616724738676 0.8294162244124337 0.8294162244124337 0.8536322752871546 0.9560534115929246 0.8869071747061208\n",
            "Epoch: 140 / 500, ############## the best accuracy in val  94.5101 at Epoch: 102  ##############\n",
            "Performance in Val: Loss: (0.0512); Accuracy (94.41)\n"
          ]
        },
        {
          "output_type": "stream",
          "name": "stderr",
          "text": [
            "Epoch 141: 100%|██████████| 1400/1400 [00:20<00:00, 66.94batch/s, train_loss=tensor(0.0098, device='cuda:0', grad_fn=<MseLossBackward0>)]\n"
          ]
        },
        {
          "output_type": "stream",
          "name": "stdout",
          "text": [
            "0.05131848743185401 0.9436986575836506 0.9070828398750621 0.951304347826087 0.8294162244124337 0.8294162244124337 0.8525413483504619 0.9550867289043492 0.886188740380721\n",
            "Epoch: 141 / 500, ############## the best accuracy in val  94.5101 at Epoch: 102  ##############\n",
            "Performance in Val: Loss: (0.0513); Accuracy (94.37)\n"
          ]
        },
        {
          "output_type": "stream",
          "name": "stderr",
          "text": [
            "Epoch 142: 100%|██████████| 1400/1400 [00:20<00:00, 69.96batch/s, train_loss=tensor(0.0059, device='cuda:0', grad_fn=<MseLossBackward0>)]\n"
          ]
        },
        {
          "output_type": "stream",
          "name": "stdout",
          "text": [
            "0.0517344088293612 0.942696854337808 0.9061591025088327 0.9479618386816999 0.8286580742987112 0.8286580742987112 0.8498314156708392 0.9552027638618417 0.8843042071197411\n",
            "Epoch: 142 / 500, ############## the best accuracy in val  94.5101 at Epoch: 102  ##############\n",
            "Performance in Val: Loss: (0.0517); Accuracy (94.27)\n"
          ]
        },
        {
          "output_type": "stream",
          "name": "stderr",
          "text": [
            "Epoch 143: 100%|██████████| 1400/1400 [00:19<00:00, 71.84batch/s, train_loss=tensor(0.0071, device='cuda:0', grad_fn=<MseLossBackward0>)]\n"
          ]
        },
        {
          "output_type": "stream",
          "name": "stdout",
          "text": [
            "0.0517823388800025 0.9447004608294931 0.9089782151593684 0.9515151515151515 0.8332069749810462 0.8332069749810462 0.8552116603496984 0.9543475738370489 0.8884397736459175\n",
            "Epoch: 143 / 500, ############## the best accuracy in val  94.5101 at Epoch: 102  ##############\n",
            "Performance in Val: Loss: (0.0518); Accuracy (94.47)\n"
          ]
        },
        {
          "output_type": "stream",
          "name": "stderr",
          "text": [
            "Epoch 144: 100%|██████████| 1400/1400 [00:19<00:00, 70.69batch/s, train_loss=tensor(0.0064, device='cuda:0', grad_fn=<MseLossBackward0>)]\n"
          ]
        },
        {
          "output_type": "stream",
          "name": "stdout",
          "text": [
            "0.0508711782284081 0.9438990182328191 0.9074619149319234 0.9513466550825369 0.8301743745261562 0.8301743745261562 0.8530755161644815 0.955881217367749 0.8866396761133604\n",
            "Epoch: 144 / 500, ############## the best accuracy in val  94.5101 at Epoch: 102  ##############\n",
            "Performance in Val: Loss: (0.0509); Accuracy (94.39)\n"
          ]
        },
        {
          "output_type": "stream",
          "name": "stderr",
          "text": [
            "Epoch 145: 100%|██████████| 1400/1400 [00:20<00:00, 68.62batch/s, train_loss=tensor(0.0073, device='cuda:0', grad_fn=<MseLossBackward0>)]\n"
          ]
        },
        {
          "output_type": "stream",
          "name": "stdout",
          "text": [
            "0.05146093340590596 0.943097575636145 0.9064314336635169 0.9496090356211989 0.8286580742987112 0.8286580742987112 0.8509180670686791 0.9542164667231563 0.8850202429149797\n",
            "Epoch: 145 / 500, ############## the best accuracy in val  94.5101 at Epoch: 102  ##############\n",
            "Performance in Val: Loss: (0.0515); Accuracy (94.31)\n"
          ]
        },
        {
          "output_type": "stream",
          "name": "stderr",
          "text": [
            "Epoch 146: 100%|██████████| 1400/1400 [00:20<00:00, 69.81batch/s, train_loss=tensor(0.0088, device='cuda:0', grad_fn=<MseLossBackward0>)]\n"
          ]
        },
        {
          "output_type": "stream",
          "name": "stdout",
          "text": [
            "0.05165319927036762 0.9449008214786616 0.9081427428186337 0.9554973821989529 0.8301743745261562 0.8301743745261562 0.8558060011182232 0.9546438552676568 0.8884381338742393\n",
            "Epoch: 146 / 500, ############## the best accuracy in val  94.5101 at Epoch: 102  ##############\n",
            "Performance in Val: Loss: (0.0517); Accuracy (94.49)\n"
          ]
        },
        {
          "output_type": "stream",
          "name": "stderr",
          "text": [
            "Epoch 147: 100%|██████████| 1400/1400 [00:20<00:00, 67.69batch/s, train_loss=tensor(0.0069, device='cuda:0', grad_fn=<MseLossBackward0>)]\n"
          ]
        },
        {
          "output_type": "stream",
          "name": "stdout",
          "text": [
            "0.05114961136132479 0.943097575636145 0.90545979574544 0.952755905511811 0.8256254738438211 0.8256254738438211 0.850963397324195 0.9555182468067676 0.884646628757108\n",
            "Epoch: 147 / 500, ############## the best accuracy in val  94.5101 at Epoch: 102  ##############\n",
            "Performance in Val: Loss: (0.0511); Accuracy (94.31)\n"
          ]
        },
        {
          "output_type": "stream",
          "name": "stderr",
          "text": [
            "Epoch 148: 100%|██████████| 1400/1400 [00:20<00:00, 69.73batch/s, train_loss=tensor(0.0079, device='cuda:0', grad_fn=<MseLossBackward0>)]\n"
          ]
        },
        {
          "output_type": "stream",
          "name": "stdout",
          "text": [
            "0.05159071628004312 0.9436986575836506 0.9063541114365046 0.9536713286713286 0.8271417740712661 0.8271417740712661 0.8525783154419269 0.9558748168629763 0.8859114900527812\n",
            "Epoch: 148 / 500, ############## the best accuracy in val  94.5101 at Epoch: 102  ##############\n",
            "Performance in Val: Loss: (0.0516); Accuracy (94.37)\n"
          ]
        },
        {
          "output_type": "stream",
          "name": "stderr",
          "text": [
            "Epoch 149: 100%|██████████| 1400/1400 [00:20<00:00, 69.71batch/s, train_loss=tensor(0.0085, device='cuda:0', grad_fn=<MseLossBackward0>)]\n"
          ]
        },
        {
          "output_type": "stream",
          "name": "stdout",
          "text": [
            "0.05145198404788971 0.942696854337808 0.9061591025088327 0.9479618386816999 0.8286580742987112 0.8286580742987112 0.8498314156708392 0.9541188074083984 0.8843042071197411\n",
            "Epoch: 149 / 500, ############## the best accuracy in val  94.5101 at Epoch: 102  ##############\n",
            "Performance in Val: Loss: (0.0515); Accuracy (94.27)\n"
          ]
        },
        {
          "output_type": "stream",
          "name": "stderr",
          "text": [
            "Epoch 150: 100%|██████████| 1400/1400 [00:20<00:00, 66.76batch/s, train_loss=tensor(0.0080, device='cuda:0', grad_fn=<MseLossBackward0>)]\n"
          ]
        },
        {
          "output_type": "stream",
          "name": "stdout",
          "text": [
            "0.05116424858570099 0.942696854337808 0.9056732835497943 0.9495213228894691 0.8271417740712661 0.8271417740712661 0.8498483633575776 0.956796283082351 0.8841166936790925\n",
            "Epoch: 150 / 500, ############## the best accuracy in val  94.5101 at Epoch: 102  ##############\n",
            "Performance in Val: Loss: (0.0512); Accuracy (94.27)\n"
          ]
        },
        {
          "output_type": "stream",
          "name": "stderr",
          "text": [
            "Epoch 151: 100%|██████████| 1400/1400 [00:20<00:00, 68.04batch/s, train_loss=tensor(0.0077, device='cuda:0', grad_fn=<MseLossBackward0>)]\n"
          ]
        },
        {
          "output_type": "stream",
          "name": "stdout",
          "text": [
            "0.05124020017683506 0.9438990182328191 0.906976095972885 0.952920662598082 0.8286580742987112 0.8286580742987112 0.8530986066574788 0.9571419103400773 0.886455798864558\n",
            "Epoch: 151 / 500, ############## the best accuracy in val  94.5101 at Epoch: 102  ##############\n",
            "Performance in Val: Loss: (0.0512); Accuracy (94.39)\n"
          ]
        },
        {
          "output_type": "stream",
          "name": "stderr",
          "text": [
            "Epoch 152: 100%|██████████| 1400/1400 [00:20<00:00, 67.64batch/s, train_loss=tensor(0.0108, device='cuda:0', grad_fn=<MseLossBackward0>)]\n"
          ]
        },
        {
          "output_type": "stream",
          "name": "stdout",
          "text": [
            "0.051181184314191344 0.943097575636145 0.906674343143036 0.9488291413703382 0.8294162244124337 0.8294162244124337 0.850909485015762 0.9571474849732665 0.8851132686084143\n",
            "Epoch: 152 / 500, ############## the best accuracy in val  94.5101 at Epoch: 102  ##############\n",
            "Performance in Val: Loss: (0.0512); Accuracy (94.31)\n"
          ]
        },
        {
          "output_type": "stream",
          "name": "stderr",
          "text": [
            "Epoch 153: 100%|██████████| 1400/1400 [00:20<00:00, 67.80batch/s, train_loss=tensor(0.0076, device='cuda:0', grad_fn=<MseLossBackward0>)]\n"
          ]
        },
        {
          "output_type": "stream",
          "name": "stdout",
          "text": [
            "0.05117073142901063 0.9424964936886395 0.9055371179724523 0.948695652173913 0.8271417740712661 0.8271417740712661 0.8493041894581088 0.9565805241311419 0.8837586067233697\n",
            "Epoch: 153 / 500, ############## the best accuracy in val  94.5101 at Epoch: 102  ##############\n",
            "Performance in Val: Loss: (0.0512); Accuracy (94.25)\n"
          ]
        },
        {
          "output_type": "stream",
          "name": "stderr",
          "text": [
            "Epoch 154: 100%|██████████| 1400/1400 [00:20<00:00, 68.50batch/s, train_loss=tensor(0.0069, device='cuda:0', grad_fn=<MseLossBackward0>)]\n"
          ]
        },
        {
          "output_type": "stream",
          "name": "stdout",
          "text": [
            "0.05108007472008467 0.9451011821278301 0.9087647273550141 0.9547432550043516 0.8316906747536013 0.8316906747536013 0.8563246549074882 0.9575955203073565 0.8889789303079416\n",
            "Epoch: 154 / 500, ############## the best accuracy in val  94.5101 at Epoch: 102  ##############\n",
            "Performance in Val: Loss: (0.0511); Accuracy (94.51)\n"
          ]
        },
        {
          "output_type": "stream",
          "name": "stderr",
          "text": [
            "Epoch 155: 100%|██████████| 1400/1400 [00:19<00:00, 71.07batch/s, train_loss=tensor(0.0075, device='cuda:0', grad_fn=<MseLossBackward0>)]\n"
          ]
        },
        {
          "output_type": "stream",
          "name": "stdout",
          "text": [
            "0.050701011810451745 0.9449008214786616 0.9086285617776722 0.9539130434782609 0.8316906747536013 0.8316906747536013 0.855778507242815 0.956576394773224 0.8886188740380722\n",
            "Epoch: 155 / 500, ############## the best accuracy in val  94.5101 at Epoch: 102  ##############\n",
            "Performance in Val: Loss: (0.0507); Accuracy (94.49)\n"
          ]
        },
        {
          "output_type": "stream",
          "name": "stderr",
          "text": [
            "Epoch 156: 100%|██████████| 1400/1400 [00:20<00:00, 69.42batch/s, train_loss=tensor(0.0069, device='cuda:0', grad_fn=<MseLossBackward0>)]\n"
          ]
        },
        {
          "output_type": "stream",
          "name": "stdout",
          "text": [
            "0.050806895829737186 0.9438990182328191 0.9074619149319234 0.9513466550825369 0.8301743745261562 0.8301743745261562 0.8530755161644815 0.9563649716478285 0.8866396761133604\n",
            "Epoch: 156 / 500, ############## the best accuracy in val  94.5101 at Epoch: 102  ##############\n",
            "Performance in Val: Loss: (0.0508); Accuracy (94.39)\n"
          ]
        },
        {
          "output_type": "stream",
          "name": "stderr",
          "text": [
            "Epoch 157: 100%|██████████| 1400/1400 [00:20<00:00, 68.19batch/s, train_loss=tensor(0.0065, device='cuda:0', grad_fn=<MseLossBackward0>)]\n"
          ]
        },
        {
          "output_type": "stream",
          "name": "stdout",
          "text": [
            "0.05127360941842198 0.9440993788819876 0.9071122615502271 0.9537521815008726 0.8286580742987112 0.8286580742987112 0.8536452569446237 0.9549302262392616 0.8868154158215011\n",
            "Epoch: 157 / 500, ############## the best accuracy in val  94.5101 at Epoch: 102  ##############\n",
            "Performance in Val: Loss: (0.0513); Accuracy (94.41)\n"
          ]
        },
        {
          "output_type": "stream",
          "name": "stderr",
          "text": [
            "Epoch 158: 100%|██████████| 1400/1400 [00:20<00:00, 68.41batch/s, train_loss=tensor(0.0089, device='cuda:0', grad_fn=<MseLossBackward0>)]\n"
          ]
        },
        {
          "output_type": "stream",
          "name": "stdout",
          "text": [
            "0.050759847089648244 0.9438990182328191 0.9072190054524042 0.9521322889469104 0.8294162244124337 0.8294162244124337 0.8530865091325329 0.9560961504473746 0.8865478119935171\n",
            "Epoch: 158 / 500, ############## the best accuracy in val  94.5101 at Epoch: 102  ##############\n",
            "Performance in Val: Loss: (0.0508); Accuracy (94.39)\n"
          ]
        },
        {
          "output_type": "stream",
          "name": "stderr",
          "text": [
            "Epoch 159: 100%|██████████| 1400/1400 [00:20<00:00, 66.83batch/s, train_loss=tensor(0.0080, device='cuda:0', grad_fn=<MseLossBackward0>)]\n"
          ]
        },
        {
          "output_type": "stream",
          "name": "stdout",
          "text": [
            "0.05133809894323349 0.9436986575836506 0.9073257493545814 0.9505208333333334 0.8301743745261562 0.8301743745261562 0.8525312342857047 0.9552306370277873 0.8862808579522461\n",
            "Epoch: 159 / 500, ############## the best accuracy in val  94.5101 at Epoch: 102  ##############\n",
            "Performance in Val: Loss: (0.0513); Accuracy (94.37)\n"
          ]
        },
        {
          "output_type": "stream",
          "name": "stderr",
          "text": [
            "Epoch 160: 100%|██████████| 1400/1400 [00:19<00:00, 70.22batch/s, train_loss=tensor(0.0060, device='cuda:0', grad_fn=<MseLossBackward0>)]\n"
          ]
        },
        {
          "output_type": "stream",
          "name": "stdout",
          "text": [
            "0.0510607410222292 0.9432979362853136 0.9063246897613396 0.9512195121951219 0.8278999241849886 0.8278999241849886 0.8514728524238899 0.956821678633546 0.8852857721929469\n",
            "Epoch: 160 / 500, ############## the best accuracy in val  94.5101 at Epoch: 102  ##############\n",
            "Performance in Val: Loss: (0.0511); Accuracy (94.33)\n"
          ]
        },
        {
          "output_type": "stream",
          "name": "stderr",
          "text": [
            "Epoch 161: 100%|██████████| 1400/1400 [00:20<00:00, 67.36batch/s, train_loss=tensor(0.0097, device='cuda:0', grad_fn=<MseLossBackward0>)]\n"
          ]
        },
        {
          "output_type": "stream",
          "name": "stdout",
          "text": [
            "0.051083993073552846 0.9428972149869765 0.9067810870452131 0.9472318339100346 0.8301743745261562 0.8301743745261562 0.8503601131915345 0.9567894696417866 0.8848484848484849\n",
            "Epoch: 161 / 500, ############## the best accuracy in val  94.5101 at Epoch: 102  ##############\n",
            "Performance in Val: Loss: (0.0511); Accuracy (94.29)\n"
          ]
        },
        {
          "output_type": "stream",
          "name": "stderr",
          "text": [
            "Epoch 162: 100%|██████████| 1400/1400 [00:19<00:00, 70.26batch/s, train_loss=tensor(0.0084, device='cuda:0', grad_fn=<MseLossBackward0>)]\n"
          ]
        },
        {
          "output_type": "stream",
          "name": "stdout",
          "text": [
            "0.05126540465280414 0.9440993788819876 0.9073551710297463 0.9529616724738676 0.8294162244124337 0.8294162244124337 0.8536322752871546 0.9560955310436869 0.8869071747061208\n",
            "Epoch: 162 / 500, ############## the best accuracy in val  94.5101 at Epoch: 102  ##############\n",
            "Performance in Val: Loss: (0.0513); Accuracy (94.41)\n"
          ]
        },
        {
          "output_type": "stream",
          "name": "stderr",
          "text": [
            "Epoch 163: 100%|██████████| 1400/1400 [00:20<00:00, 67.59batch/s, train_loss=tensor(0.0056, device='cuda:0', grad_fn=<MseLossBackward0>)]\n"
          ]
        },
        {
          "output_type": "stream",
          "name": "stdout",
          "text": [
            "0.05111152334138751 0.9447004608294931 0.9080065772412915 0.9546643417611159 0.8301743745261562 0.8301743745261562 0.8552586896278627 0.9550516293620471 0.8880778588807786\n",
            "Epoch: 163 / 500, ############## the best accuracy in val  94.5101 at Epoch: 102  ##############\n",
            "Performance in Val: Loss: (0.0511); Accuracy (94.47)\n"
          ]
        },
        {
          "output_type": "stream",
          "name": "stderr",
          "text": [
            "Epoch 164: 100%|██████████| 1400/1400 [00:19<00:00, 70.46batch/s, train_loss=tensor(0.0071, device='cuda:0', grad_fn=<MseLossBackward0>)]\n"
          ]
        },
        {
          "output_type": "stream",
          "name": "stdout",
          "text": [
            "0.05073002828285098 0.9436986575836506 0.9053824735184277 0.9568661971830986 0.824109173616376 0.824109173616376 0.85264321626654 0.957095867999293 0.8855397148676172\n",
            "Epoch: 164 / 500, ############## the best accuracy in val  94.5101 at Epoch: 102  ##############\n",
            "Performance in Val: Loss: (0.0507); Accuracy (94.37)\n"
          ]
        },
        {
          "output_type": "stream",
          "name": "stderr",
          "text": [
            "Epoch 165: 100%|██████████| 1400/1400 [00:20<00:00, 70.00batch/s, train_loss=tensor(0.0098, device='cuda:0', grad_fn=<MseLossBackward0>)]\n"
          ]
        },
        {
          "output_type": "stream",
          "name": "stdout",
          "text": [
            "0.05121918497607112 0.9440993788819876 0.9071122615502271 0.9537521815008726 0.8286580742987112 0.8286580742987112 0.8536452569446237 0.9562753645810106 0.8868154158215011\n",
            "Epoch: 165 / 500, ############## the best accuracy in val  94.5101 at Epoch: 102  ##############\n",
            "Performance in Val: Loss: (0.0512); Accuracy (94.41)\n"
          ]
        },
        {
          "output_type": "stream",
          "name": "stderr",
          "text": [
            "Epoch 166: 100%|██████████| 1400/1400 [00:19<00:00, 71.11batch/s, train_loss=tensor(0.0060, device='cuda:0', grad_fn=<MseLossBackward0>)]\n"
          ]
        },
        {
          "output_type": "stream",
          "name": "stdout",
          "text": [
            "0.05083757853135466 0.9436986575836506 0.9065970209160237 0.9528795811518325 0.8278999241849886 0.8278999241849886 0.852564884857824 0.9581001278449212 0.8860040567951317\n",
            "Epoch: 166 / 500, ############## the best accuracy in val  94.5101 at Epoch: 102  ##############\n",
            "Performance in Val: Loss: (0.0508); Accuracy (94.37)\n"
          ]
        },
        {
          "output_type": "stream",
          "name": "stderr",
          "text": [
            "Epoch 167: 100%|██████████| 1400/1400 [00:20<00:00, 68.74batch/s, train_loss=tensor(0.0077, device='cuda:0', grad_fn=<MseLossBackward0>)]\n"
          ]
        },
        {
          "output_type": "stream",
          "name": "stdout",
          "text": [
            "0.05086110690608621 0.943097575636145 0.9059456147044784 0.951176983435048 0.8271417740712661 0.8271417740712661 0.8509385236870951 0.9578882917837341 0.8848337388483373\n",
            "Epoch: 167 / 500, ############## the best accuracy in val  94.5101 at Epoch: 102  ##############\n",
            "Performance in Val: Loss: (0.0509); Accuracy (94.31)\n"
          ]
        },
        {
          "output_type": "stream",
          "name": "stderr",
          "text": [
            "Epoch 168: 100%|██████████| 1400/1400 [00:19<00:00, 70.75batch/s, train_loss=tensor(0.0064, device='cuda:0', grad_fn=<MseLossBackward0>)]\n"
          ]
        },
        {
          "output_type": "stream",
          "name": "stdout",
          "text": [
            "0.0516711319796741 0.942296133039471 0.9046722239565526 0.9502183406113537 0.8248673237300985 0.8248673237300985 0.8487889998641961 0.9547012533427152 0.8831168831168831\n",
            "Epoch: 168 / 500, ############## the best accuracy in val  94.5101 at Epoch: 102  ##############\n",
            "Performance in Val: Loss: (0.0517); Accuracy (94.23)\n"
          ]
        },
        {
          "output_type": "stream",
          "name": "stderr",
          "text": [
            "Epoch 169: 100%|██████████| 1400/1400 [00:20<00:00, 69.46batch/s, train_loss=tensor(0.0054, device='cuda:0', grad_fn=<MseLossBackward0>)]\n"
          ]
        },
        {
          "output_type": "stream",
          "name": "stdout",
          "text": [
            "0.051604812406003474 0.9436986575836506 0.9070828398750621 0.951304347826087 0.8294162244124337 0.8294162244124337 0.8525413483504619 0.9564037876122566 0.886188740380721\n",
            "Epoch: 169 / 500, ############## the best accuracy in val  94.5101 at Epoch: 102  ##############\n",
            "Performance in Val: Loss: (0.0516); Accuracy (94.37)\n"
          ]
        },
        {
          "output_type": "stream",
          "name": "stderr",
          "text": [
            "Epoch 170: 100%|██████████| 1400/1400 [00:20<00:00, 67.43batch/s, train_loss=tensor(0.0092, device='cuda:0', grad_fn=<MseLossBackward0>)]\n"
          ]
        },
        {
          "output_type": "stream",
          "name": "stdout",
          "text": [
            "0.05170279862359166 0.9438990182328191 0.9072190054524042 0.9521322889469104 0.8294162244124337 0.8294162244124337 0.8530865091325329 0.9555839035976618 0.8865478119935171\n",
            "Epoch: 170 / 500, ############## the best accuracy in val  94.5101 at Epoch: 102  ##############\n",
            "Performance in Val: Loss: (0.0517); Accuracy (94.39)\n"
          ]
        },
        {
          "output_type": "stream",
          "name": "stderr",
          "text": [
            "Epoch 171: 100%|██████████| 1400/1400 [00:21<00:00, 65.96batch/s, train_loss=tensor(0.0050, device='cuda:0', grad_fn=<MseLossBackward0>)]\n"
          ]
        },
        {
          "output_type": "stream",
          "name": "stdout",
          "text": [
            "0.051260010432451965 0.9428972149869765 0.9060523586066556 0.9495652173913044 0.8278999241849886 0.8278999241849886 0.8503832424222265 0.9564812130732168 0.8845686512758202\n",
            "Epoch: 171 / 500, ############## the best accuracy in val  94.5101 at Epoch: 102  ##############\n",
            "Performance in Val: Loss: (0.0513); Accuracy (94.29)\n"
          ]
        },
        {
          "output_type": "stream",
          "name": "stderr",
          "text": [
            "Epoch 172: 100%|██████████| 1400/1400 [00:21<00:00, 65.37batch/s, train_loss=tensor(0.0057, device='cuda:0', grad_fn=<MseLossBackward0>)]\n"
          ]
        },
        {
          "output_type": "stream",
          "name": "stdout",
          "text": [
            "0.0515203001908958 0.9432979362853136 0.9063246897613396 0.9512195121951219 0.8278999241849886 0.8278999241849886 0.8514728524238899 0.9547960221069306 0.8852857721929469\n",
            "Epoch: 172 / 500, ############## the best accuracy in val  94.5101 at Epoch: 102  ##############\n",
            "Performance in Val: Loss: (0.0515); Accuracy (94.33)\n"
          ]
        },
        {
          "output_type": "stream",
          "name": "stderr",
          "text": [
            "Epoch 173: 100%|██████████| 1400/1400 [00:20<00:00, 69.38batch/s, train_loss=tensor(0.0069, device='cuda:0', grad_fn=<MseLossBackward0>)]\n"
          ]
        },
        {
          "output_type": "stream",
          "name": "stdout",
          "text": [
            "0.05129065150395036 0.9436986575836506 0.9075686588341005 0.949740034662045 0.8309325246398787 0.8309325246398787 0.8525222176317185 0.9569620768027538 0.8863728265264861\n",
            "Epoch: 173 / 500, ############## the best accuracy in val  94.5101 at Epoch: 102  ##############\n",
            "Performance in Val: Loss: (0.0513); Accuracy (94.37)\n"
          ]
        },
        {
          "output_type": "stream",
          "name": "stderr",
          "text": [
            "Epoch 174: 100%|██████████| 1400/1400 [00:21<00:00, 66.16batch/s, train_loss=tensor(0.0072, device='cuda:0', grad_fn=<MseLossBackward0>)]\n"
          ]
        },
        {
          "output_type": "stream",
          "name": "stdout",
          "text": [
            "0.051400608848780394 0.9436986575836506 0.9065970209160237 0.9528795811518325 0.8278999241849886 0.8278999241849886 0.852564884857824 0.9557466002996262 0.8860040567951317\n",
            "Epoch: 174 / 500, ############## the best accuracy in val  94.5101 at Epoch: 102  ##############\n",
            "Performance in Val: Loss: (0.0514); Accuracy (94.37)\n"
          ]
        },
        {
          "output_type": "stream",
          "name": "stderr",
          "text": [
            "Epoch 175: 100%|██████████| 1400/1400 [00:19<00:00, 70.38batch/s, train_loss=tensor(0.0086, device='cuda:0', grad_fn=<MseLossBackward0>)]\n"
          ]
        },
        {
          "output_type": "stream",
          "name": "stdout",
          "text": [
            "0.05143437199294567 0.9442997395311561 0.9072484271275691 0.9545851528384279 0.8286580742987112 0.8286580742987112 0.8541925160521735 0.9547654648583384 0.8871753246753248\n",
            "Epoch: 175 / 500, ############## the best accuracy in val  94.5101 at Epoch: 102  ##############\n",
            "Performance in Val: Loss: (0.0514); Accuracy (94.43)\n"
          ]
        },
        {
          "output_type": "stream",
          "name": "stderr",
          "text": [
            "Epoch 176: 100%|██████████| 1400/1400 [00:19<00:00, 70.32batch/s, train_loss=tensor(0.0070, device='cuda:0', grad_fn=<MseLossBackward0>)]\n"
          ]
        },
        {
          "output_type": "stream",
          "name": "stdout",
          "text": [
            "0.051419352926313874 0.9442997395311561 0.9077342460866076 0.9530026109660574 0.8301743745261562 0.8301743745261562 0.854165891057518 0.9558475631007183 0.8873581847649918\n",
            "Epoch: 176 / 500, ############## the best accuracy in val  94.5101 at Epoch: 102  ##############\n",
            "Performance in Val: Loss: (0.0514); Accuracy (94.43)\n"
          ]
        },
        {
          "output_type": "stream",
          "name": "stderr",
          "text": [
            "Epoch 177: 100%|██████████| 1400/1400 [00:20<00:00, 69.56batch/s, train_loss=tensor(0.0070, device='cuda:0', grad_fn=<MseLossBackward0>)]\n"
          ]
        },
        {
          "output_type": "stream",
          "name": "stdout",
          "text": [
            "0.05112220523878932 0.9436986575836506 0.9073257493545814 0.9505208333333334 0.8301743745261562 0.8301743745261562 0.8525312342857047 0.9567017207860316 0.8862808579522461\n",
            "Epoch: 177 / 500, ############## the best accuracy in val  94.5101 at Epoch: 102  ##############\n",
            "Performance in Val: Loss: (0.0511); Accuracy (94.37)\n"
          ]
        },
        {
          "output_type": "stream",
          "name": "stderr",
          "text": [
            "Epoch 178: 100%|██████████| 1400/1400 [00:20<00:00, 69.73batch/s, train_loss=tensor(0.0064, device='cuda:0', grad_fn=<MseLossBackward0>)]\n"
          ]
        },
        {
          "output_type": "stream",
          "name": "stdout",
          "text": [
            "0.051499835774302484 0.9453015427769986 0.9084150739733177 0.9571678321678322 0.8301743745261562 0.8301743745261562 0.8569024551968157 0.956042881730234 0.8891595615103532\n",
            "Epoch: 178 / 500, ############## the best accuracy in val  94.5101 at Epoch: 102  ##############\n",
            "Performance in Val: Loss: (0.0515); Accuracy (94.53)\n"
          ]
        },
        {
          "output_type": "stream",
          "name": "stderr",
          "text": [
            "Epoch 179: 100%|██████████| 1400/1400 [00:21<00:00, 65.93batch/s, train_loss=tensor(0.0078, device='cuda:0', grad_fn=<MseLossBackward0>)]\n"
          ]
        },
        {
          "output_type": "stream",
          "name": "stdout",
          "text": [
            "0.05135934725403786 0.943097575636145 0.9064314336635169 0.9496090356211989 0.8286580742987112 0.8286580742987112 0.8509180670686791 0.9560121180137457 0.8850202429149797\n",
            "Epoch: 179 / 500, ############## the best accuracy in val  94.5302 at Epoch: 178  ##############\n",
            "Performance in Val: Loss: (0.0514); Accuracy (94.31)\n"
          ]
        },
        {
          "output_type": "stream",
          "name": "stderr",
          "text": [
            "Epoch 180: 100%|██████████| 1400/1400 [00:21<00:00, 65.85batch/s, train_loss=tensor(0.0074, device='cuda:0', grad_fn=<MseLossBackward0>)]\n"
          ]
        },
        {
          "output_type": "stream",
          "name": "stdout",
          "text": [
            "0.05098266350105405 0.9442997395311561 0.908220065045646 0.9514310494362532 0.8316906747536013 0.8316906747536013 0.8541436930505304 0.9569519598758549 0.8875404530744336\n",
            "Epoch: 180 / 500, ############## the best accuracy in val  94.5302 at Epoch: 178  ##############\n",
            "Performance in Val: Loss: (0.0510); Accuracy (94.43)\n"
          ]
        },
        {
          "output_type": "stream",
          "name": "stderr",
          "text": [
            "Epoch 181: 100%|██████████| 1400/1400 [00:20<00:00, 68.59batch/s, train_loss=tensor(0.0128, device='cuda:0', grad_fn=<MseLossBackward0>)]\n"
          ]
        },
        {
          "output_type": "stream",
          "name": "stdout",
          "text": [
            "0.051091283839195964 0.9442997395311561 0.9079771555661267 0.952215464813206 0.8309325246398787 0.8309325246398787 0.8541542407123827 0.9546564498093062 0.8874493927125506\n",
            "Epoch: 181 / 500, ############## the best accuracy in val  94.5302 at Epoch: 178  ##############\n",
            "Performance in Val: Loss: (0.0511); Accuracy (94.43)\n"
          ]
        },
        {
          "output_type": "stream",
          "name": "stderr",
          "text": [
            "Epoch 182: 100%|██████████| 1400/1400 [00:20<00:00, 68.08batch/s, train_loss=tensor(0.0088, device='cuda:0', grad_fn=<MseLossBackward0>)]\n"
          ]
        },
        {
          "output_type": "stream",
          "name": "stdout",
          "text": [
            "0.0513246645219624 0.9434982969344821 0.9067037648182009 0.9512619669277633 0.8286580742987112 0.8286580742987112 0.8520071272075478 0.9542538374123132 0.8857374392220423\n",
            "Epoch: 182 / 500, ############## the best accuracy in val  94.5302 at Epoch: 178  ##############\n",
            "Performance in Val: Loss: (0.0513); Accuracy (94.35)\n"
          ]
        },
        {
          "output_type": "stream",
          "name": "stderr",
          "text": [
            "Epoch 183: 100%|██████████| 1400/1400 [00:20<00:00, 68.48batch/s, train_loss=tensor(0.0077, device='cuda:0', grad_fn=<MseLossBackward0>)]\n"
          ]
        },
        {
          "output_type": "stream",
          "name": "stdout",
          "text": [
            "0.05193933853879571 0.943097575636145 0.9061885241839975 0.9503916449086162 0.8278999241849886 0.8278999241849886 0.8509277452825628 0.9535819908790741 0.8849270664505672\n",
            "Epoch: 183 / 500, ############## the best accuracy in val  94.5302 at Epoch: 178  ##############\n",
            "Performance in Val: Loss: (0.0519); Accuracy (94.31)\n"
          ]
        },
        {
          "output_type": "stream",
          "name": "stderr",
          "text": [
            "Epoch 184: 100%|██████████| 1400/1400 [00:21<00:00, 65.50batch/s, train_loss=tensor(0.0083, device='cuda:0', grad_fn=<MseLossBackward0>)]\n"
          ]
        },
        {
          "output_type": "stream",
          "name": "stdout",
          "text": [
            "0.051372768729925154 0.9451011821278301 0.9092505463140526 0.9531656548135299 0.8332069749810462 0.8332069749810462 0.856299831740376 0.9549289874318863 0.88915857605178\n",
            "Epoch: 184 / 500, ############## the best accuracy in val  94.5302 at Epoch: 178  ##############\n",
            "Performance in Val: Loss: (0.0514); Accuracy (94.51)\n"
          ]
        },
        {
          "output_type": "stream",
          "name": "stderr",
          "text": [
            "Epoch 185: 100%|██████████| 1400/1400 [00:20<00:00, 67.06batch/s, train_loss=tensor(0.0100, device='cuda:0', grad_fn=<MseLossBackward0>)]\n"
          ]
        },
        {
          "output_type": "stream",
          "name": "stdout",
          "text": [
            "0.05111500509083271 0.9432979362853136 0.905595961322782 0.9535901926444834 0.8256254738438211 0.8256254738438211 0.8515111597236709 0.9561318693933643 0.8850060950832995\n",
            "Epoch: 185 / 500, ############## the best accuracy in val  94.5302 at Epoch: 178  ##############\n",
            "Performance in Val: Loss: (0.0511); Accuracy (94.33)\n"
          ]
        },
        {
          "output_type": "stream",
          "name": "stderr",
          "text": [
            "Epoch 186: 100%|██████████| 1400/1400 [00:20<00:00, 67.08batch/s, train_loss=tensor(0.0070, device='cuda:0', grad_fn=<MseLossBackward0>)]\n"
          ]
        },
        {
          "output_type": "stream",
          "name": "stdout",
          "text": [
            "0.051250808592885735 0.9436986575836506 0.9070828398750621 0.951304347826087 0.8294162244124337 0.8294162244124337 0.8525413483504619 0.9550272661503318 0.886188740380721\n",
            "Epoch: 186 / 500, ############## the best accuracy in val  94.5302 at Epoch: 178  ##############\n",
            "Performance in Val: Loss: (0.0513); Accuracy (94.37)\n"
          ]
        },
        {
          "output_type": "stream",
          "name": "stderr",
          "text": [
            "Epoch 187: 100%|██████████| 1400/1400 [00:20<00:00, 68.24batch/s, train_loss=tensor(0.0068, device='cuda:0', grad_fn=<MseLossBackward0>)]\n"
          ]
        },
        {
          "output_type": "stream",
          "name": "stdout",
          "text": [
            "0.050756287109106776 0.9455019034261671 0.9092799679892174 0.9556135770234987 0.8324488248673237 0.8324488248673237 0.8574040368324732 0.955398908362941 0.8897893030794166\n",
            "Epoch: 187 / 500, ############## the best accuracy in val  94.5302 at Epoch: 178  ##############\n",
            "Performance in Val: Loss: (0.0508); Accuracy (94.55)\n"
          ]
        },
        {
          "output_type": "stream",
          "name": "stderr",
          "text": [
            "Epoch 188: 100%|██████████| 1400/1400 [00:20<00:00, 68.62batch/s, train_loss=tensor(0.0078, device='cuda:0', grad_fn=<MseLossBackward0>)]\n"
          ]
        },
        {
          "output_type": "stream",
          "name": "stdout",
          "text": [
            "0.051428376510739324 0.9428972149869765 0.906538177565694 0.9480069324090121 0.8294162244124337 0.8294162244124337 0.8503667325198774 0.9555630503401766 0.8847553578649414\n",
            "Epoch: 188 / 500, ############## the best accuracy in val  94.5502 at Epoch: 187  ##############\n",
            "Performance in Val: Loss: (0.0514); Accuracy (94.29)\n"
          ]
        },
        {
          "output_type": "stream",
          "name": "stderr",
          "text": [
            "Epoch 189: 100%|██████████| 1400/1400 [00:21<00:00, 66.28batch/s, train_loss=tensor(0.0067, device='cuda:0', grad_fn=<MseLossBackward0>)]\n"
          ]
        },
        {
          "output_type": "stream",
          "name": "stdout",
          "text": [
            "0.05100837228819728 0.9420957723903025 0.9045360583792105 0.9493891797556719 0.8248673237300985 0.8248673237300985 0.8482433965106249 0.9590005343389145 0.8827586206896552\n",
            "Epoch: 189 / 500, ############## the best accuracy in val  94.5502 at Epoch: 187  ##############\n",
            "Performance in Val: Loss: (0.0510); Accuracy (94.21)\n"
          ]
        },
        {
          "output_type": "stream",
          "name": "stderr",
          "text": [
            "Epoch 190: 100%|██████████| 1400/1400 [00:20<00:00, 67.22batch/s, train_loss=tensor(0.0063, device='cuda:0', grad_fn=<MseLossBackward0>)]\n"
          ]
        },
        {
          "output_type": "stream",
          "name": "stdout",
          "text": [
            "0.05128362644463778 0.9451011821278301 0.9092505463140526 0.9531656548135299 0.8332069749810462 0.8332069749810462 0.856299831740376 0.9566199594992576 0.88915857605178\n",
            "Epoch: 190 / 500, ############## the best accuracy in val  94.5502 at Epoch: 187  ##############\n",
            "Performance in Val: Loss: (0.0513); Accuracy (94.51)\n"
          ]
        },
        {
          "output_type": "stream",
          "name": "stderr",
          "text": [
            "Epoch 191: 100%|██████████| 1400/1400 [00:20<00:00, 69.27batch/s, train_loss=tensor(0.0059, device='cuda:0', grad_fn=<MseLossBackward0>)]\n"
          ]
        },
        {
          "output_type": "stream",
          "name": "stdout",
          "text": [
            "0.05106838038191199 0.9432979362853136 0.9053530518432628 0.9543859649122807 0.8248673237300985 0.8248673237300985 0.8515261545636635 0.9564549916504383 0.8849125660837739\n",
            "Epoch: 191 / 500, ############## the best accuracy in val  94.5502 at Epoch: 187  ##############\n",
            "Performance in Val: Loss: (0.0511); Accuracy (94.33)\n"
          ]
        },
        {
          "output_type": "stream",
          "name": "stderr",
          "text": [
            "Epoch 192: 100%|██████████| 1400/1400 [00:20<00:00, 67.55batch/s, train_loss=tensor(0.0092, device='cuda:0', grad_fn=<MseLossBackward0>)]\n"
          ]
        },
        {
          "output_type": "stream",
          "name": "stdout",
          "text": [
            "0.051055483426898716 0.9438990182328191 0.9084335528500003 0.9482312338222606 0.8332069749810462 0.8332069749810462 0.8530425093155201 0.9557170753905133 0.8870056497175142\n",
            "Epoch: 192 / 500, ############## the best accuracy in val  94.5502 at Epoch: 187  ##############\n",
            "Performance in Val: Loss: (0.0511); Accuracy (94.39)\n"
          ]
        },
        {
          "output_type": "stream",
          "name": "stderr",
          "text": [
            "Epoch 193: 100%|██████████| 1400/1400 [00:20<00:00, 68.77batch/s, train_loss=tensor(0.0074, device='cuda:0', grad_fn=<MseLossBackward0>)]\n"
          ]
        },
        {
          "output_type": "stream",
          "name": "stdout",
          "text": [
            "0.051413105148822066 0.9436986575836506 0.9073257493545814 0.9505208333333334 0.8301743745261562 0.8301743745261562 0.8525312342857047 0.9553489431321344 0.8862808579522461\n",
            "Epoch: 193 / 500, ############## the best accuracy in val  94.5502 at Epoch: 187  ##############\n",
            "Performance in Val: Loss: (0.0514); Accuracy (94.37)\n"
          ]
        },
        {
          "output_type": "stream",
          "name": "stderr",
          "text": [
            "Epoch 194: 100%|██████████| 1400/1400 [00:20<00:00, 67.32batch/s, train_loss=tensor(0.0061, device='cuda:0', grad_fn=<MseLossBackward0>)]\n"
          ]
        },
        {
          "output_type": "stream",
          "name": "stdout",
          "text": [
            "0.05105856964364648 0.943097575636145 0.906674343143036 0.9488291413703382 0.8294162244124337 0.8294162244124337 0.850909485015762 0.9573169951157954 0.8851132686084143\n",
            "Epoch: 194 / 500, ############## the best accuracy in val  94.5502 at Epoch: 187  ##############\n",
            "Performance in Val: Loss: (0.0511); Accuracy (94.31)\n"
          ]
        },
        {
          "output_type": "stream",
          "name": "stderr",
          "text": [
            "Epoch 195: 100%|██████████| 1400/1400 [00:20<00:00, 68.65batch/s, train_loss=tensor(0.0059, device='cuda:0', grad_fn=<MseLossBackward0>)]\n"
          ]
        },
        {
          "output_type": "stream",
          "name": "stdout",
          "text": [
            "0.05131342951208353 0.942696854337808 0.9054303740702752 0.9503051438535309 0.8263836239575436 0.8263836239575436 0.8498584822019032 0.9566042679391696 0.884022708840227\n",
            "Epoch: 195 / 500, ############## the best accuracy in val  94.5502 at Epoch: 187  ##############\n",
            "Performance in Val: Loss: (0.0513); Accuracy (94.27)\n"
          ]
        },
        {
          "output_type": "stream",
          "name": "stderr",
          "text": [
            "Epoch 196: 100%|██████████| 1400/1400 [00:20<00:00, 67.99batch/s, train_loss=tensor(0.0094, device='cuda:0', grad_fn=<MseLossBackward0>)]\n"
          ]
        },
        {
          "output_type": "stream",
          "name": "stdout",
          "text": [
            "0.05108364308252931 0.9438990182328191 0.9077048244114426 0.9505637467476149 0.8309325246398787 0.8309325246398787 0.8530656237056076 0.9561370310907616 0.8867313915857605\n",
            "Epoch: 196 / 500, ############## the best accuracy in val  94.5502 at Epoch: 187  ##############\n",
            "Performance in Val: Loss: (0.0511); Accuracy (94.39)\n"
          ]
        },
        {
          "output_type": "stream",
          "name": "stderr",
          "text": [
            "Epoch 197: 100%|██████████| 1400/1400 [00:20<00:00, 67.67batch/s, train_loss=tensor(0.0080, device='cuda:0', grad_fn=<MseLossBackward0>)]\n"
          ]
        },
        {
          "output_type": "stream",
          "name": "stdout",
          "text": [
            "0.051333559304475786 0.943097575636145 0.9074030715815937 0.9465056082830026 0.8316906747536013 0.8316906747536013 0.8508902759329531 0.9564364095398079 0.8853914447134786\n",
            "Epoch: 197 / 500, ############## the best accuracy in val  94.5502 at Epoch: 187  ##############\n",
            "Performance in Val: Loss: (0.0513); Accuracy (94.31)\n"
          ]
        },
        {
          "output_type": "stream",
          "name": "stderr",
          "text": [
            "Epoch 198: 100%|██████████| 1400/1400 [00:21<00:00, 65.79batch/s, train_loss=tensor(0.0083, device='cuda:0', grad_fn=<MseLossBackward0>)]\n"
          ]
        },
        {
          "output_type": "stream",
          "name": "stdout",
          "text": [
            "0.05107257841154933 0.9432979362853136 0.9065675992408588 0.9504347826086956 0.8286580742987112 0.8286580742987112 0.8514622953863442 0.9588114097462757 0.8853786958282707\n",
            "Epoch: 198 / 500, ############## the best accuracy in val  94.5502 at Epoch: 187  ##############\n",
            "Performance in Val: Loss: (0.0511); Accuracy (94.33)\n"
          ]
        },
        {
          "output_type": "stream",
          "name": "stderr",
          "text": [
            "Epoch 199: 100%|██████████| 1400/1400 [00:21<00:00, 66.12batch/s, train_loss=tensor(0.0077, device='cuda:0', grad_fn=<MseLossBackward0>)]\n"
          ]
        },
        {
          "output_type": "stream",
          "name": "stdout",
          "text": [
            "0.05109455650672316 0.9440993788819876 0.9068693520707078 0.9545454545454546 0.8278999241849886 0.8278999241849886 0.8536593503806491 0.9550987040423111 0.8867235079171742\n",
            "Epoch: 199 / 500, ############## the best accuracy in val  94.5502 at Epoch: 187  ##############\n",
            "Performance in Val: Loss: (0.0511); Accuracy (94.41)\n"
          ]
        },
        {
          "output_type": "stream",
          "name": "stderr",
          "text": [
            "Epoch 200: 100%|██████████| 1400/1400 [00:21<00:00, 66.13batch/s, train_loss=tensor(0.0080, device='cuda:0', grad_fn=<MseLossBackward0>)]\n"
          ]
        },
        {
          "output_type": "stream",
          "name": "stdout",
          "text": [
            "0.051476920302957294 0.9434982969344821 0.9062179458591625 0.9528384279475982 0.8271417740712661 0.8271417740712661 0.8520311095769826 0.9561613943024772 0.885551948051948\n",
            "Epoch: 200 / 500, ############## the best accuracy in val  94.5502 at Epoch: 187  ##############\n",
            "Performance in Val: Loss: (0.0515); Accuracy (94.35)\n"
          ]
        },
        {
          "output_type": "stream",
          "name": "stderr",
          "text": [
            "Epoch 201: 100%|██████████| 1400/1400 [00:20<00:00, 68.05batch/s, train_loss=tensor(0.0063, device='cuda:0', grad_fn=<MseLossBackward0>)]\n"
          ]
        },
        {
          "output_type": "stream",
          "name": "stdout",
          "text": [
            "0.05065153501927853 0.9447004608294931 0.9082494867208109 0.9538729329852045 0.8309325246398787 0.8309325246398787 0.8552452729825031 0.9583191902824646 0.8881685575364667\n",
            "Epoch: 201 / 500, ############## the best accuracy in val  94.5502 at Epoch: 187  ##############\n",
            "Performance in Val: Loss: (0.0507); Accuracy (94.47)\n"
          ]
        },
        {
          "output_type": "stream",
          "name": "stderr",
          "text": [
            "Epoch 202: 100%|██████████| 1400/1400 [00:20<00:00, 69.26batch/s, train_loss=tensor(0.0074, device='cuda:0', grad_fn=<MseLossBackward0>)]\n"
          ]
        },
        {
          "output_type": "stream",
          "name": "stdout",
          "text": [
            "0.050947474874556066 0.9459026247245041 0.9105239370619784 0.9541125541125541 0.8354814253222138 0.8354814253222138 0.8584439092709639 0.9538031179955766 0.8908649959579629\n",
            "Epoch: 202 / 500, ############## the best accuracy in val  94.5502 at Epoch: 187  ##############\n",
            "Performance in Val: Loss: (0.0509); Accuracy (94.59)\n"
          ]
        },
        {
          "output_type": "stream",
          "name": "stderr",
          "text": [
            "Epoch 203: 100%|██████████| 1400/1400 [00:20<00:00, 67.87batch/s, train_loss=tensor(0.0071, device='cuda:0', grad_fn=<MseLossBackward0>)]\n"
          ]
        },
        {
          "output_type": "stream",
          "name": "stdout",
          "text": [
            "0.05149647789075971 0.9445001001803246 0.9076275021844303 0.9546247818499127 0.8294162244124337 0.8294162244124337 0.8547256290314235 0.9540548023606713 0.8876267748478702\n",
            "Epoch: 203 / 500, ############## the best accuracy in val  94.5903 at Epoch: 202  ##############\n",
            "Performance in Val: Loss: (0.0515); Accuracy (94.45)\n"
          ]
        },
        {
          "output_type": "stream",
          "name": "stderr",
          "text": [
            "Epoch 204: 100%|██████████| 1400/1400 [00:20<00:00, 68.46batch/s, train_loss=tensor(0.0077, device='cuda:0', grad_fn=<MseLossBackward0>)]\n"
          ]
        },
        {
          "output_type": "stream",
          "name": "stdout",
          "text": [
            "0.051078774593770505 0.9436986575836506 0.9070828398750621 0.951304347826087 0.8294162244124337 0.8294162244124337 0.8525413483504619 0.9565402628914426 0.886188740380721\n",
            "Epoch: 204 / 500, ############## the best accuracy in val  94.5903 at Epoch: 202  ##############\n",
            "Performance in Val: Loss: (0.0511); Accuracy (94.37)\n"
          ]
        },
        {
          "output_type": "stream",
          "name": "stderr",
          "text": [
            "Epoch 205: 100%|██████████| 1400/1400 [00:20<00:00, 68.50batch/s, train_loss=tensor(0.0054, device='cuda:0', grad_fn=<MseLossBackward0>)]\n"
          ]
        },
        {
          "output_type": "stream",
          "name": "stdout",
          "text": [
            "0.05072824666276574 0.9434982969344821 0.9064608553386817 0.9520488230165649 0.8278999241849886 0.8278999241849886 0.8520185651722869 0.9575410127828404 0.8856447688564476\n",
            "Epoch: 205 / 500, ############## the best accuracy in val  94.5903 at Epoch: 202  ##############\n",
            "Performance in Val: Loss: (0.0507); Accuracy (94.35)\n"
          ]
        },
        {
          "output_type": "stream",
          "name": "stderr",
          "text": [
            "Epoch 206: 100%|██████████| 1400/1400 [00:20<00:00, 67.18batch/s, train_loss=tensor(0.0096, device='cuda:0', grad_fn=<MseLossBackward0>)]\n"
          ]
        },
        {
          "output_type": "stream",
          "name": "stdout",
          "text": [
            "0.050968384463340045 0.9442997395311561 0.9077342460866076 0.9530026109660574 0.8301743745261562 0.8301743745261562 0.854165891057518 0.9556059956625225 0.8873581847649918\n",
            "Epoch: 206 / 500, ############## the best accuracy in val  94.5903 at Epoch: 202  ##############\n",
            "Performance in Val: Loss: (0.0510); Accuracy (94.43)\n"
          ]
        },
        {
          "output_type": "stream",
          "name": "stderr",
          "text": [
            "Epoch 207: 100%|██████████| 1400/1400 [00:20<00:00, 69.78batch/s, train_loss=tensor(0.0062, device='cuda:0', grad_fn=<MseLossBackward0>)]\n"
          ]
        },
        {
          "output_type": "stream",
          "name": "stdout",
          "text": [
            "0.051190638169646266 0.9445001001803246 0.9071416832253919 0.9562171628721541 0.8278999241849886 0.8278999241849886 0.854756259713348 0.9546453005429281 0.8874441284030882\n",
            "Epoch: 207 / 500, ############## the best accuracy in val  94.5903 at Epoch: 202  ##############\n",
            "Performance in Val: Loss: (0.0512); Accuracy (94.45)\n"
          ]
        },
        {
          "output_type": "stream",
          "name": "stderr",
          "text": [
            "Epoch 208: 100%|██████████| 1400/1400 [00:20<00:00, 68.02batch/s, train_loss=tensor(0.0070, device='cuda:0', grad_fn=<MseLossBackward0>)]\n"
          ]
        },
        {
          "output_type": "stream",
          "name": "stdout",
          "text": [
            "0.0511346316896379 0.9434982969344821 0.9067037648182009 0.9512619669277633 0.8286580742987112 0.8286580742987112 0.8520071272075478 0.9559654562692738 0.8857374392220423\n",
            "Epoch: 208 / 500, ############## the best accuracy in val  94.5903 at Epoch: 202  ##############\n",
            "Performance in Val: Loss: (0.0511); Accuracy (94.35)\n"
          ]
        },
        {
          "output_type": "stream",
          "name": "stderr",
          "text": [
            "Epoch 209: 100%|██████████| 1400/1400 [00:20<00:00, 68.08batch/s, train_loss=tensor(0.0066, device='cuda:0', grad_fn=<MseLossBackward0>)]\n"
          ]
        },
        {
          "output_type": "stream",
          "name": "stdout",
          "text": [
            "0.051184490974992516 0.9434982969344821 0.9067037648182009 0.9512619669277633 0.8286580742987112 0.8286580742987112 0.8520071272075478 0.9559082646621111 0.8857374392220423\n",
            "Epoch: 209 / 500, ############## the best accuracy in val  94.5903 at Epoch: 202  ##############\n",
            "Performance in Val: Loss: (0.0512); Accuracy (94.35)\n"
          ]
        },
        {
          "output_type": "stream",
          "name": "stderr",
          "text": [
            "Epoch 210: 100%|██████████| 1400/1400 [00:20<00:00, 69.12batch/s, train_loss=tensor(0.0058, device='cuda:0', grad_fn=<MseLossBackward0>)]\n"
          ]
        },
        {
          "output_type": "stream",
          "name": "stdout",
          "text": [
            "0.05143756857141853 0.9451011821278301 0.9090076368345333 0.9539530842745438 0.8324488248673237 0.8324488248673237 0.8563116898081852 0.955649560388556 0.8890688259109312\n",
            "Epoch: 210 / 500, ############## the best accuracy in val  94.5903 at Epoch: 202  ##############\n",
            "Performance in Val: Loss: (0.0514); Accuracy (94.51)\n"
          ]
        },
        {
          "output_type": "stream",
          "name": "stderr",
          "text": [
            "Epoch 211: 100%|██████████| 1400/1400 [00:20<00:00, 69.97batch/s, train_loss=tensor(0.0072, device='cuda:0', grad_fn=<MseLossBackward0>)]\n"
          ]
        },
        {
          "output_type": "stream",
          "name": "stdout",
          "text": [
            "0.05099094696342945 0.9449008214786616 0.9083856522981528 0.9547038327526133 0.8309325246398787 0.8309325246398787 0.8557916981504193 0.9557201724089518 0.8885285772192948\n",
            "Epoch: 211 / 500, ############## the best accuracy in val  94.5903 at Epoch: 202  ##############\n",
            "Performance in Val: Loss: (0.0510); Accuracy (94.49)\n"
          ]
        },
        {
          "output_type": "stream",
          "name": "stderr",
          "text": [
            "Epoch 212: 100%|██████████| 1400/1400 [00:20<00:00, 68.14batch/s, train_loss=tensor(0.0065, device='cuda:0', grad_fn=<MseLossBackward0>)]\n"
          ]
        },
        {
          "output_type": "stream",
          "name": "stdout",
          "text": [
            "0.051377565972507 0.9442997395311561 0.9077342460866076 0.9530026109660574 0.8301743745261562 0.8301743745261562 0.854165891057518 0.9557348316295603 0.8873581847649918\n",
            "Epoch: 212 / 500, ############## the best accuracy in val  94.5903 at Epoch: 202  ##############\n",
            "Performance in Val: Loss: (0.0514); Accuracy (94.43)\n"
          ]
        },
        {
          "output_type": "stream",
          "name": "stderr",
          "text": [
            "Epoch 213: 100%|██████████| 1400/1400 [00:21<00:00, 65.13batch/s, train_loss=tensor(0.0072, device='cuda:0', grad_fn=<MseLossBackward0>)]\n"
          ]
        },
        {
          "output_type": "stream",
          "name": "stdout",
          "text": [
            "0.05129971327260137 0.9432979362853136 0.9063246897613396 0.9512195121951219 0.8278999241849886 0.8278999241849886 0.8514728524238899 0.9559838319120084 0.8852857721929469\n",
            "Epoch: 213 / 500, ############## the best accuracy in val  94.5903 at Epoch: 202  ##############\n",
            "Performance in Val: Loss: (0.0513); Accuracy (94.33)\n"
          ]
        },
        {
          "output_type": "stream",
          "name": "stderr",
          "text": [
            "Epoch 214: 100%|██████████| 1400/1400 [00:20<00:00, 69.97batch/s, train_loss=tensor(0.0063, device='cuda:0', grad_fn=<MseLossBackward0>)]\n"
          ]
        },
        {
          "output_type": "stream",
          "name": "stdout",
          "text": [
            "0.05141216292977333 0.9445001001803246 0.9071416832253919 0.9562171628721541 0.8278999241849886 0.8278999241849886 0.854756259713348 0.9570657236864926 0.8874441284030882\n",
            "Epoch: 214 / 500, ############## the best accuracy in val  94.5903 at Epoch: 202  ##############\n",
            "Performance in Val: Loss: (0.0514); Accuracy (94.45)\n"
          ]
        },
        {
          "output_type": "stream",
          "name": "stderr",
          "text": [
            "Epoch 215: 100%|██████████| 1400/1400 [00:20<00:00, 68.84batch/s, train_loss=tensor(0.0078, device='cuda:0', grad_fn=<MseLossBackward0>)]\n"
          ]
        },
        {
          "output_type": "stream",
          "name": "stdout",
          "text": [
            "0.05132390735670924 0.9434982969344821 0.9067037648182009 0.9512619669277633 0.8286580742987112 0.8286580742987112 0.8520071272075478 0.955402418317171 0.8857374392220423\n",
            "Epoch: 215 / 500, ############## the best accuracy in val  94.5903 at Epoch: 202  ##############\n",
            "Performance in Val: Loss: (0.0513); Accuracy (94.35)\n"
          ]
        },
        {
          "output_type": "stream",
          "name": "stderr",
          "text": [
            "Epoch 216: 100%|██████████| 1400/1400 [00:21<00:00, 66.14batch/s, train_loss=tensor(0.0074, device='cuda:0', grad_fn=<MseLossBackward0>)]\n"
          ]
        },
        {
          "output_type": "stream",
          "name": "stdout",
          "text": [
            "0.05077860550954938 0.9442997395311561 0.9072484271275691 0.9545851528384279 0.8286580742987112 0.8286580742987112 0.8541925160521735 0.9578445205898045 0.8871753246753248\n",
            "Epoch: 216 / 500, ############## the best accuracy in val  94.5903 at Epoch: 202  ##############\n",
            "Performance in Val: Loss: (0.0508); Accuracy (94.43)\n"
          ]
        },
        {
          "output_type": "stream",
          "name": "stderr",
          "text": [
            "Epoch 217: 100%|██████████| 1400/1400 [00:19<00:00, 70.31batch/s, train_loss=tensor(0.0092, device='cuda:0', grad_fn=<MseLossBackward0>)]\n"
          ]
        },
        {
          "output_type": "stream",
          "name": "stdout",
          "text": [
            "0.051137868966907266 0.9436986575836506 0.906839930395543 0.9520905923344948 0.8286580742987112 0.8286580742987112 0.8525525638555222 0.955128022483528 0.8860964734495338\n",
            "Epoch: 217 / 500, ############## the best accuracy in val  94.5903 at Epoch: 202  ##############\n",
            "Performance in Val: Loss: (0.0511); Accuracy (94.37)\n"
          ]
        },
        {
          "output_type": "stream",
          "name": "stderr",
          "text": [
            "Epoch 218: 100%|██████████| 1400/1400 [00:19<00:00, 70.78batch/s, train_loss=tensor(0.0088, device='cuda:0', grad_fn=<MseLossBackward0>)]\n"
          ]
        },
        {
          "output_type": "stream",
          "name": "stdout",
          "text": [
            "0.051101949717849496 0.9447004608294931 0.9077636677617724 0.9554585152838428 0.8294162244124337 0.8294162244124337 0.8552732192897691 0.9548086166485801 0.887987012987013\n",
            "Epoch: 218 / 500, ############## the best accuracy in val  94.5903 at Epoch: 202  ##############\n",
            "Performance in Val: Loss: (0.0511); Accuracy (94.47)\n"
          ]
        },
        {
          "output_type": "stream",
          "name": "stderr",
          "text": [
            "Epoch 219: 100%|██████████| 1400/1400 [00:20<00:00, 67.29batch/s, train_loss=tensor(0.0083, device='cuda:0', grad_fn=<MseLossBackward0>)]\n"
          ]
        },
        {
          "output_type": "stream",
          "name": "stdout",
          "text": [
            "0.051383611373603345 0.9434982969344821 0.9059750363796433 0.9536307961504812 0.8263836239575436 0.8263836239575436 0.8520447645155217 0.9537991951055547 0.8854589764419171\n",
            "Epoch: 219 / 500, ############## the best accuracy in val  94.5903 at Epoch: 202  ##############\n",
            "Performance in Val: Loss: (0.0514); Accuracy (94.35)\n"
          ]
        },
        {
          "output_type": "stream",
          "name": "stderr",
          "text": [
            "Epoch 220: 100%|██████████| 1400/1400 [00:20<00:00, 68.10batch/s, train_loss=tensor(0.0063, device='cuda:0', grad_fn=<MseLossBackward0>)]\n"
          ]
        },
        {
          "output_type": "stream",
          "name": "stdout",
          "text": [
            "0.05110876252874732 0.9442997395311561 0.9074913366070883 0.953792502179599 0.8294162244124337 0.8294162244124337 0.8541786481426707 0.9564611856873151 0.8872668288726683\n",
            "Epoch: 220 / 500, ############## the best accuracy in val  94.5903 at Epoch: 202  ##############\n",
            "Performance in Val: Loss: (0.0511); Accuracy (94.43)\n"
          ]
        },
        {
          "output_type": "stream",
          "name": "stderr",
          "text": [
            "Epoch 221: 100%|██████████| 1400/1400 [00:21<00:00, 64.95batch/s, train_loss=tensor(0.0084, device='cuda:0', grad_fn=<MseLossBackward0>)]\n"
          ]
        },
        {
          "output_type": "stream",
          "name": "stdout",
          "text": [
            "0.05115966834127903 0.9436986575836506 0.9070828398750621 0.951304347826087 0.8294162244124337 0.8294162244124337 0.8525413483504619 0.9553144629935202 0.886188740380721\n",
            "Epoch: 221 / 500, ############## the best accuracy in val  94.5903 at Epoch: 202  ##############\n",
            "Performance in Val: Loss: (0.0512); Accuracy (94.37)\n"
          ]
        },
        {
          "output_type": "stream",
          "name": "stderr",
          "text": [
            "Epoch 222: 100%|██████████| 1400/1400 [00:21<00:00, 66.57batch/s, train_loss=tensor(0.0062, device='cuda:0', grad_fn=<MseLossBackward0>)]\n"
          ]
        },
        {
          "output_type": "stream",
          "name": "stdout",
          "text": [
            "0.051601861324161294 0.9447004608294931 0.9084923962003301 0.9530842745438749 0.8316906747536013 0.8316906747536013 0.8552329652602839 0.9522228127204045 0.8882591093117409\n",
            "Epoch: 222 / 500, ############## the best accuracy in val  94.5903 at Epoch: 202  ##############\n",
            "Performance in Val: Loss: (0.0516); Accuracy (94.47)\n"
          ]
        },
        {
          "output_type": "stream",
          "name": "stderr",
          "text": [
            "Epoch 223: 100%|██████████| 1400/1400 [00:20<00:00, 68.89batch/s, train_loss=tensor(0.0075, device='cuda:0', grad_fn=<MseLossBackward0>)]\n"
          ]
        },
        {
          "output_type": "stream",
          "name": "stdout",
          "text": [
            "0.05129899065941572 0.9424964936886395 0.9045654800543754 0.9518388791593695 0.824109173616376 0.824109173616376 0.8493477597305528 0.9543459220938818 0.8833807395367737\n",
            "Epoch: 223 / 500, ############## the best accuracy in val  94.5903 at Epoch: 202  ##############\n",
            "Performance in Val: Loss: (0.0513); Accuracy (94.25)\n"
          ]
        },
        {
          "output_type": "stream",
          "name": "stderr",
          "text": [
            "Epoch 224: 100%|██████████| 1400/1400 [00:20<00:00, 66.84batch/s, train_loss=tensor(0.0078, device='cuda:0', grad_fn=<MseLossBackward0>)]\n"
          ]
        },
        {
          "output_type": "stream",
          "name": "stdout",
          "text": [
            "0.05171328783035278 0.942696854337808 0.9049445551112366 0.9518810148731408 0.8248673237300985 0.8248673237300985 0.8498820301328683 0.9547799176110509 0.883834281072299\n",
            "Epoch: 224 / 500, ############## the best accuracy in val  94.5903 at Epoch: 202  ##############\n",
            "Performance in Val: Loss: (0.0517); Accuracy (94.27)\n"
          ]
        },
        {
          "output_type": "stream",
          "name": "stderr",
          "text": [
            "Epoch 225: 100%|██████████| 1400/1400 [00:20<00:00, 67.52batch/s, train_loss=tensor(0.0090, device='cuda:0', grad_fn=<MseLossBackward0>)]\n"
          ]
        },
        {
          "output_type": "stream",
          "name": "stdout",
          "text": [
            "0.05093138860538602 0.9438990182328191 0.9067331864933658 0.9537117903930131 0.8278999241849886 0.8278999241849886 0.853111812814578 0.9584176754688061 0.8863636363636364\n",
            "Epoch: 225 / 500, ############## the best accuracy in val  94.5903 at Epoch: 202  ##############\n",
            "Performance in Val: Loss: (0.0509); Accuracy (94.39)\n"
          ]
        },
        {
          "output_type": "stream",
          "name": "stderr",
          "text": [
            "Epoch 226: 100%|██████████| 1400/1400 [00:21<00:00, 65.55batch/s, train_loss=tensor(0.0112, device='cuda:0', grad_fn=<MseLossBackward0>)]\n"
          ]
        },
        {
          "output_type": "stream",
          "name": "stdout",
          "text": [
            "0.051729179359972476 0.942696854337808 0.9054303740702752 0.9503051438535309 0.8263836239575436 0.8263836239575436 0.8498584822019032 0.9535506077588983 0.884022708840227\n",
            "Epoch: 226 / 500, ############## the best accuracy in val  94.5903 at Epoch: 202  ##############\n",
            "Performance in Val: Loss: (0.0517); Accuracy (94.27)\n"
          ]
        },
        {
          "output_type": "stream",
          "name": "stderr",
          "text": [
            "Epoch 227: 100%|██████████| 1400/1400 [00:20<00:00, 66.81batch/s, train_loss=tensor(0.0068, device='cuda:0', grad_fn=<MseLossBackward0>)]\n"
          ]
        },
        {
          "output_type": "stream",
          "name": "stdout",
          "text": [
            "0.05109343947842717 0.9440993788819876 0.9078409899887847 0.9513888888888888 0.8309325246398787 0.8309325246398787 0.8536096309609149 0.9546066910463958 0.8870902468636179\n",
            "Epoch: 227 / 500, ############## the best accuracy in val  94.5903 at Epoch: 202  ##############\n",
            "Performance in Val: Loss: (0.0511); Accuracy (94.41)\n"
          ]
        },
        {
          "output_type": "stream",
          "name": "stderr",
          "text": [
            "Epoch 228: 100%|██████████| 1400/1400 [00:21<00:00, 66.51batch/s, train_loss=tensor(0.0091, device='cuda:0', grad_fn=<MseLossBackward0>)]\n"
          ]
        },
        {
          "output_type": "stream",
          "name": "stdout",
          "text": [
            "0.051190576050430536 0.943097575636145 0.9057027052249591 0.9519650655021834 0.8263836239575436 0.8263836239575436 0.850950406339387 0.9556010404330211 0.8847402597402598\n",
            "Epoch: 228 / 500, ############## the best accuracy in val  94.5903 at Epoch: 202  ##############\n",
            "Performance in Val: Loss: (0.0512); Accuracy (94.31)\n"
          ]
        },
        {
          "output_type": "stream",
          "name": "stderr",
          "text": [
            "Epoch 229: 100%|██████████| 1400/1400 [00:20<00:00, 67.53batch/s, train_loss=tensor(0.0077, device='cuda:0', grad_fn=<MseLossBackward0>)]\n"
          ]
        },
        {
          "output_type": "stream",
          "name": "stdout",
          "text": [
            "0.05128483613952994 0.9449008214786616 0.9078998333391144 0.9562937062937062 0.8294162244124337 0.8294162244124337 0.8558214202580936 0.9550745472984915 0.8883475436459601\n",
            "Epoch: 229 / 500, ############## the best accuracy in val  94.5903 at Epoch: 202  ##############\n",
            "Performance in Val: Loss: (0.0513); Accuracy (94.49)\n"
          ]
        },
        {
          "output_type": "stream",
          "name": "stderr",
          "text": [
            "Epoch 230: 100%|██████████| 1400/1400 [00:20<00:00, 66.99batch/s, train_loss=tensor(0.0079, device='cuda:0', grad_fn=<MseLossBackward0>)]\n"
          ]
        },
        {
          "output_type": "stream",
          "name": "stdout",
          "text": [
            "0.05120928687974811 0.9445001001803246 0.9076275021844303 0.9546247818499127 0.8294162244124337 0.8294162244124337 0.8547256290314235 0.954876957522121 0.8876267748478702\n",
            "Epoch: 230 / 500, ############## the best accuracy in val  94.5903 at Epoch: 202  ##############\n",
            "Performance in Val: Loss: (0.0512); Accuracy (94.45)\n"
          ]
        },
        {
          "output_type": "stream",
          "name": "stderr",
          "text": [
            "Epoch 231: 100%|██████████| 1400/1400 [00:20<00:00, 68.59batch/s, train_loss=tensor(0.0061, device='cuda:0', grad_fn=<MseLossBackward0>)]\n"
          ]
        },
        {
          "output_type": "stream",
          "name": "stdout",
          "text": [
            "0.05138170290738344 0.9453015427769986 0.9093867118913945 0.9539930555555556 0.8332069749810462 0.8332069749810462 0.8568448209865456 0.955017149223433 0.8895184135977338\n",
            "Epoch: 231 / 500, ############## the best accuracy in val  94.5903 at Epoch: 202  ##############\n",
            "Performance in Val: Loss: (0.0514); Accuracy (94.53)\n"
          ]
        },
        {
          "output_type": "stream",
          "name": "stderr",
          "text": [
            "Epoch 232: 100%|██████████| 1400/1400 [00:20<00:00, 69.33batch/s, train_loss=tensor(0.0081, device='cuda:0', grad_fn=<MseLossBackward0>)]\n"
          ]
        },
        {
          "output_type": "stream",
          "name": "stdout",
          "text": [
            "0.05070962086319923 0.9447004608294931 0.9084923962003301 0.9530842745438749 0.8316906747536013 0.8316906747536013 0.8552329652602839 0.9582316478946056 0.8882591093117409\n",
            "Epoch: 232 / 500, ############## the best accuracy in val  94.5903 at Epoch: 202  ##############\n",
            "Performance in Val: Loss: (0.0507); Accuracy (94.47)\n"
          ]
        },
        {
          "output_type": "stream",
          "name": "stderr",
          "text": [
            "Epoch 233: 100%|██████████| 1400/1400 [00:20<00:00, 69.56batch/s, train_loss=tensor(0.0062, device='cuda:0', grad_fn=<MseLossBackward0>)]\n"
          ]
        },
        {
          "output_type": "stream",
          "name": "stdout",
          "text": [
            "0.05120865534991026 0.9447004608294931 0.9084923962003301 0.9530842745438749 0.8316906747536013 0.8316906747536013 0.8552329652602839 0.955700557958842 0.8882591093117409\n",
            "Epoch: 233 / 500, ############## the best accuracy in val  94.5903 at Epoch: 202  ##############\n",
            "Performance in Val: Loss: (0.0512); Accuracy (94.47)\n"
          ]
        },
        {
          "output_type": "stream",
          "name": "stderr",
          "text": [
            "Epoch 234: 100%|██████████| 1400/1400 [00:20<00:00, 67.80batch/s, train_loss=tensor(0.0067, device='cuda:0', grad_fn=<MseLossBackward0>)]\n"
          ]
        },
        {
          "output_type": "stream",
          "name": "stdout",
          "text": [
            "0.051106009911745784 0.943097575636145 0.906674343143036 0.9488291413703382 0.8294162244124337 0.8294162244124337 0.850909485015762 0.9562673123330707 0.8851132686084143\n",
            "Epoch: 234 / 500, ############## the best accuracy in val  94.5903 at Epoch: 202  ##############\n",
            "Performance in Val: Loss: (0.0511); Accuracy (94.31)\n"
          ]
        },
        {
          "output_type": "stream",
          "name": "stderr",
          "text": [
            "Epoch 235: 100%|██████████| 1400/1400 [00:21<00:00, 66.44batch/s, train_loss=tensor(0.0081, device='cuda:0', grad_fn=<MseLossBackward0>)]\n"
          ]
        },
        {
          "output_type": "stream",
          "name": "stdout",
          "text": [
            "0.05148649616166949 0.943097575636145 0.90545979574544 0.952755905511811 0.8256254738438211 0.8256254738438211 0.850963397324195 0.9548476390809041 0.884646628757108\n",
            "Epoch: 235 / 500, ############## the best accuracy in val  94.5903 at Epoch: 202  ##############\n",
            "Performance in Val: Loss: (0.0515); Accuracy (94.31)\n"
          ]
        },
        {
          "output_type": "stream",
          "name": "stderr",
          "text": [
            "Epoch 236: 100%|██████████| 1400/1400 [00:20<00:00, 67.32batch/s, train_loss=tensor(0.0072, device='cuda:0', grad_fn=<MseLossBackward0>)]\n"
          ]
        },
        {
          "output_type": "stream",
          "name": "stdout",
          "text": [
            "0.05123942354694009 0.9436986575836506 0.9065970209160237 0.9528795811518325 0.8278999241849886 0.8278999241849886 0.852564884857824 0.9561481803571399 0.8860040567951317\n",
            "Epoch: 236 / 500, ############## the best accuracy in val  94.5903 at Epoch: 202  ##############\n",
            "Performance in Val: Loss: (0.0512); Accuracy (94.37)\n"
          ]
        },
        {
          "output_type": "stream",
          "name": "stderr",
          "text": [
            "Epoch 237: 100%|██████████| 1400/1400 [00:20<00:00, 67.92batch/s, train_loss=tensor(0.0091, device='cuda:0', grad_fn=<MseLossBackward0>)]\n"
          ]
        },
        {
          "output_type": "stream",
          "name": "stdout",
          "text": [
            "0.05118599999696016 0.9436986575836506 0.906839930395543 0.9520905923344948 0.8286580742987112 0.8286580742987112 0.8525525638555222 0.9547586514177737 0.8860964734495338\n",
            "Epoch: 237 / 500, ############## the best accuracy in val  94.5903 at Epoch: 202  ##############\n",
            "Performance in Val: Loss: (0.0512); Accuracy (94.37)\n"
          ]
        },
        {
          "output_type": "stream",
          "name": "stderr",
          "text": [
            "Epoch 238: 100%|██████████| 1400/1400 [00:20<00:00, 67.04batch/s, train_loss=tensor(0.0056, device='cuda:0', grad_fn=<MseLossBackward0>)]\n"
          ]
        },
        {
          "output_type": "stream",
          "name": "stdout",
          "text": [
            "0.05105103794485331 0.9438990182328191 0.9077048244114426 0.9505637467476149 0.8309325246398787 0.8309325246398787 0.8530656237056076 0.9555492169911516 0.8867313915857605\n",
            "Epoch: 238 / 500, ############## the best accuracy in val  94.5903 at Epoch: 202  ##############\n",
            "Performance in Val: Loss: (0.0511); Accuracy (94.39)\n"
          ]
        },
        {
          "output_type": "stream",
          "name": "stderr",
          "text": [
            "Epoch 239: 100%|██████████| 1400/1400 [00:20<00:00, 68.00batch/s, train_loss=tensor(0.0072, device='cuda:0', grad_fn=<MseLossBackward0>)]\n"
          ]
        },
        {
          "output_type": "stream",
          "name": "stdout",
          "text": [
            "0.051120979618281125 0.9445001001803246 0.9076275021844303 0.9546247818499127 0.8294162244124337 0.8294162244124337 0.8547256290314235 0.9557998690167668 0.8876267748478702\n",
            "Epoch: 239 / 500, ############## the best accuracy in val  94.5903 at Epoch: 202  ##############\n",
            "Performance in Val: Loss: (0.0511); Accuracy (94.45)\n"
          ]
        },
        {
          "output_type": "stream",
          "name": "stderr",
          "text": [
            "Epoch 240: 100%|██████████| 1400/1400 [00:21<00:00, 66.24batch/s, train_loss=tensor(0.0092, device='cuda:0', grad_fn=<MseLossBackward0>)]\n"
          ]
        },
        {
          "output_type": "stream",
          "name": "stdout",
          "text": [
            "0.05108054522424936 0.9447004608294931 0.9087353056798493 0.9522983521248916 0.8324488248673237 0.8324488248673237 0.8552217623954532 0.9569211961593669 0.8883495145631067\n",
            "Epoch: 240 / 500, ############## the best accuracy in val  94.5903 at Epoch: 202  ##############\n",
            "Performance in Val: Loss: (0.0511); Accuracy (94.47)\n"
          ]
        },
        {
          "output_type": "stream",
          "name": "stderr",
          "text": [
            "Epoch 241: 100%|██████████| 1400/1400 [00:20<00:00, 67.97batch/s, train_loss=tensor(0.0080, device='cuda:0', grad_fn=<MseLossBackward0>)]\n"
          ]
        },
        {
          "output_type": "stream",
          "name": "stdout",
          "text": [
            "0.0513171941973269 0.9449008214786616 0.9086285617776722 0.9539130434782609 0.8316906747536013 0.8316906747536013 0.855778507242815 0.9556770206187101 0.8886188740380722\n",
            "Epoch: 241 / 500, ############## the best accuracy in val  94.5903 at Epoch: 202  ##############\n",
            "Performance in Val: Loss: (0.0513); Accuracy (94.49)\n"
          ]
        },
        {
          "output_type": "stream",
          "name": "stderr",
          "text": [
            "Epoch 242: 100%|██████████| 1400/1400 [00:21<00:00, 66.12batch/s, train_loss=tensor(0.0090, device='cuda:0', grad_fn=<MseLossBackward0>)]\n"
          ]
        },
        {
          "output_type": "stream",
          "name": "stdout",
          "text": [
            "0.05133212329819799 0.9440993788819876 0.9073551710297463 0.9529616724738676 0.8294162244124337 0.8294162244124337 0.8536322752871546 0.956459327476252 0.8869071747061208\n",
            "Epoch: 242 / 500, ############## the best accuracy in val  94.5903 at Epoch: 202  ##############\n",
            "Performance in Val: Loss: (0.0513); Accuracy (94.41)\n"
          ]
        },
        {
          "output_type": "stream",
          "name": "stderr",
          "text": [
            "Epoch 243: 100%|██████████| 1400/1400 [00:20<00:00, 66.98batch/s, train_loss=tensor(0.0080, device='cuda:0', grad_fn=<MseLossBackward0>)]\n"
          ]
        },
        {
          "output_type": "stream",
          "name": "stdout",
          "text": [
            "0.0513774374499917 0.943097575636145 0.9057027052249591 0.9519650655021834 0.8263836239575436 0.8263836239575436 0.850950406339387 0.9550311890403538 0.8847402597402598\n",
            "Epoch: 243 / 500, ############## the best accuracy in val  94.5903 at Epoch: 202  ##############\n",
            "Performance in Val: Loss: (0.0514); Accuracy (94.31)\n"
          ]
        },
        {
          "output_type": "stream",
          "name": "stderr",
          "text": [
            "Epoch 244: 100%|██████████| 1400/1400 [00:20<00:00, 68.59batch/s, train_loss=tensor(0.0079, device='cuda:0', grad_fn=<MseLossBackward0>)]\n"
          ]
        },
        {
          "output_type": "stream",
          "name": "stdout",
          "text": [
            "0.05144358966499567 0.9445001001803246 0.9088420495820264 0.9506920415224913 0.8332069749810462 0.8332069749810462 0.8546684755807948 0.9550648433073843 0.888080808080808\n",
            "Epoch: 244 / 500, ############## the best accuracy in val  94.5903 at Epoch: 202  ##############\n",
            "Performance in Val: Loss: (0.0514); Accuracy (94.45)\n"
          ]
        },
        {
          "output_type": "stream",
          "name": "stderr",
          "text": [
            "Epoch 245: 100%|██████████| 1400/1400 [00:20<00:00, 68.44batch/s, train_loss=tensor(0.0065, device='cuda:0', grad_fn=<MseLossBackward0>)]\n"
          ]
        },
        {
          "output_type": "stream",
          "name": "stdout",
          "text": [
            "0.0514088218100369 0.9449008214786616 0.9076569238595953 0.957092819614711 0.8286580742987112 0.8286580742987112 0.8558379597099071 0.9554117093724863 0.8882568061763512\n",
            "Epoch: 245 / 500, ############## the best accuracy in val  94.5903 at Epoch: 202  ##############\n",
            "Performance in Val: Loss: (0.0514); Accuracy (94.49)\n"
          ]
        },
        {
          "output_type": "stream",
          "name": "stderr",
          "text": [
            "Epoch 246: 100%|██████████| 1400/1400 [00:20<00:00, 68.28batch/s, train_loss=tensor(0.0087, device='cuda:0', grad_fn=<MseLossBackward0>)]\n"
          ]
        },
        {
          "output_type": "stream",
          "name": "stdout",
          "text": [
            "0.051206177286803725 0.9442997395311561 0.9072484271275691 0.9545851528384279 0.8286580742987112 0.8286580742987112 0.8541925160521735 0.9558746103950804 0.8871753246753248\n",
            "Epoch: 246 / 500, ############## the best accuracy in val  94.5903 at Epoch: 202  ##############\n",
            "Performance in Val: Loss: (0.0512); Accuracy (94.43)\n"
          ]
        },
        {
          "output_type": "stream",
          "name": "stderr",
          "text": [
            "Epoch 247: 100%|██████████| 1400/1400 [00:20<00:00, 66.76batch/s, train_loss=tensor(0.0070, device='cuda:0', grad_fn=<MseLossBackward0>)]\n"
          ]
        },
        {
          "output_type": "stream",
          "name": "stdout",
          "text": [
            "0.05080254413187504 0.9440993788819876 0.9068693520707078 0.9545454545454546 0.8278999241849886 0.8278999241849886 0.8536593503806491 0.9564971111012006 0.8867235079171742\n",
            "Epoch: 247 / 500, ############## the best accuracy in val  94.5903 at Epoch: 202  ##############\n",
            "Performance in Val: Loss: (0.0508); Accuracy (94.41)\n"
          ]
        },
        {
          "output_type": "stream",
          "name": "stderr",
          "text": [
            "Epoch 248: 100%|██████████| 1400/1400 [00:20<00:00, 67.96batch/s, train_loss=tensor(0.0095, device='cuda:0', grad_fn=<MseLossBackward0>)]\n"
          ]
        },
        {
          "output_type": "stream",
          "name": "stdout",
          "text": [
            "0.05117304716259241 0.9434982969344821 0.9064608553386817 0.9520488230165649 0.8278999241849886 0.8278999241849886 0.8520185651722869 0.955032634315625 0.8856447688564476\n",
            "Epoch: 248 / 500, ############## the best accuracy in val  94.5903 at Epoch: 202  ##############\n",
            "Performance in Val: Loss: (0.0512); Accuracy (94.35)\n"
          ]
        },
        {
          "output_type": "stream",
          "name": "stderr",
          "text": [
            "Epoch 249: 100%|██████████| 1400/1400 [00:21<00:00, 65.44batch/s, train_loss=tensor(0.0101, device='cuda:0', grad_fn=<MseLossBackward0>)]\n"
          ]
        },
        {
          "output_type": "stream",
          "name": "stdout",
          "text": [
            "0.05133443707600236 0.943097575636145 0.9059456147044784 0.951176983435048 0.8271417740712661 0.8271417740712661 0.8509385236870951 0.955388584968146 0.8848337388483373\n",
            "Epoch: 249 / 500, ############## the best accuracy in val  94.5903 at Epoch: 202  ##############\n",
            "Performance in Val: Loss: (0.0513); Accuracy (94.31)\n"
          ]
        },
        {
          "output_type": "stream",
          "name": "stderr",
          "text": [
            "Epoch 250: 100%|██████████| 1400/1400 [00:20<00:00, 69.41batch/s, train_loss=tensor(0.0074, device='cuda:0', grad_fn=<MseLossBackward0>)]\n"
          ]
        },
        {
          "output_type": "stream",
          "name": "stdout",
          "text": [
            "0.05114296330139041 0.9445001001803246 0.9078704116639496 0.9538327526132404 0.8301743745261562 0.8301743745261562 0.8547119867187869 0.9577028836132212 0.8877178759627077\n",
            "Epoch: 250 / 500, ############## the best accuracy in val  94.5903 at Epoch: 202  ##############\n",
            "Performance in Val: Loss: (0.0511); Accuracy (94.45)\n"
          ]
        },
        {
          "output_type": "stream",
          "name": "stderr",
          "text": [
            "Epoch 251: 100%|██████████| 1400/1400 [00:21<00:00, 65.60batch/s, train_loss=tensor(0.0057, device='cuda:0', grad_fn=<MseLossBackward0>)]\n"
          ]
        },
        {
          "output_type": "stream",
          "name": "stdout",
          "text": [
            "0.05120191806927323 0.9445001001803246 0.9076275021844303 0.9546247818499127 0.8294162244124337 0.8294162244124337 0.8547256290314235 0.9555229955683731 0.8876267748478702\n",
            "Epoch: 251 / 500, ############## the best accuracy in val  94.5903 at Epoch: 202  ##############\n",
            "Performance in Val: Loss: (0.0512); Accuracy (94.45)\n"
          ]
        },
        {
          "output_type": "stream",
          "name": "stderr",
          "text": [
            "Epoch 252: 100%|██████████| 1400/1400 [00:20<00:00, 67.18batch/s, train_loss=tensor(0.0074, device='cuda:0', grad_fn=<MseLossBackward0>)]\n"
          ]
        },
        {
          "output_type": "stream",
          "name": "stdout",
          "text": [
            "0.051424979232251644 0.9447004608294931 0.9089782151593684 0.9515151515151515 0.8332069749810462 0.8332069749810462 0.8552116603496984 0.9560843817773088 0.8884397736459175\n",
            "Epoch: 252 / 500, ############## the best accuracy in val  94.5903 at Epoch: 202  ##############\n",
            "Performance in Val: Loss: (0.0514); Accuracy (94.47)\n"
          ]
        },
        {
          "output_type": "stream",
          "name": "stderr",
          "text": [
            "Epoch 253: 100%|██████████| 1400/1400 [00:20<00:00, 68.59batch/s, train_loss=tensor(0.0085, device='cuda:0', grad_fn=<MseLossBackward0>)]\n"
          ]
        },
        {
          "output_type": "stream",
          "name": "stdout",
          "text": [
            "0.05101758940145373 0.9447004608294931 0.9077636677617724 0.9554585152838428 0.8294162244124337 0.8294162244124337 0.8552732192897691 0.955710261949949 0.887987012987013\n",
            "Epoch: 253 / 500, ############## the best accuracy in val  94.5903 at Epoch: 202  ##############\n",
            "Performance in Val: Loss: (0.0510); Accuracy (94.47)\n"
          ]
        },
        {
          "output_type": "stream",
          "name": "stderr",
          "text": [
            "Epoch 254: 100%|██████████| 1400/1400 [00:21<00:00, 66.37batch/s, train_loss=tensor(0.0072, device='cuda:0', grad_fn=<MseLossBackward0>)]\n"
          ]
        },
        {
          "output_type": "stream",
          "name": "stdout",
          "text": [
            "0.05100633455440402 0.9459026247245041 0.9090664801848631 0.9588801399825022 0.8309325246398787 0.8309325246398787 0.8585329676634815 0.9558547894770746 0.8903330625507717\n",
            "Epoch: 254 / 500, ############## the best accuracy in val  94.5903 at Epoch: 202  ##############\n",
            "Performance in Val: Loss: (0.0510); Accuracy (94.59)\n"
          ]
        },
        {
          "output_type": "stream",
          "name": "stderr",
          "text": [
            "Epoch 255: 100%|██████████| 1400/1400 [00:21<00:00, 66.46batch/s, train_loss=tensor(0.0075, device='cuda:0', grad_fn=<MseLossBackward0>)]\n"
          ]
        },
        {
          "output_type": "stream",
          "name": "stdout",
          "text": [
            "0.05095981741324067 0.9442997395311561 0.9072484271275691 0.9545851528384279 0.8286580742987112 0.8286580742987112 0.8541925160521735 0.9553074430850599 0.8871753246753248\n",
            "Epoch: 255 / 500, ############## the best accuracy in val  94.5903 at Epoch: 202  ##############\n",
            "Performance in Val: Loss: (0.0510); Accuracy (94.43)\n"
          ]
        },
        {
          "output_type": "stream",
          "name": "stderr",
          "text": [
            "Epoch 256: 100%|██████████| 1400/1400 [00:20<00:00, 69.12batch/s, train_loss=tensor(0.0054, device='cuda:0', grad_fn=<MseLossBackward0>)]\n"
          ]
        },
        {
          "output_type": "stream",
          "name": "stdout",
          "text": [
            "0.05087681515142321 0.9436986575836506 0.9061112019569852 0.9544658493870403 0.8263836239575436 0.8263836239575436 0.8525928597202299 0.9572238780947472 0.8858187728565624\n",
            "Epoch: 256 / 500, ############## the best accuracy in val  94.5903 at Epoch: 202  ##############\n",
            "Performance in Val: Loss: (0.0509); Accuracy (94.37)\n"
          ]
        },
        {
          "output_type": "stream",
          "name": "stderr",
          "text": [
            "Epoch 257: 100%|██████████| 1400/1400 [00:21<00:00, 66.21batch/s, train_loss=tensor(0.0052, device='cuda:0', grad_fn=<MseLossBackward0>)]\n"
          ]
        },
        {
          "output_type": "stream",
          "name": "stdout",
          "text": [
            "0.05150076933205128 0.9440993788819876 0.9071122615502271 0.9537521815008726 0.8286580742987112 0.8286580742987112 0.8536452569446237 0.9541413124090509 0.8868154158215011\n",
            "Epoch: 257 / 500, ############## the best accuracy in val  94.5903 at Epoch: 202  ##############\n",
            "Performance in Val: Loss: (0.0515); Accuracy (94.41)\n"
          ]
        },
        {
          "output_type": "stream",
          "name": "stderr",
          "text": [
            "Epoch 258: 100%|██████████| 1400/1400 [00:21<00:00, 65.50batch/s, train_loss=tensor(0.0072, device='cuda:0', grad_fn=<MseLossBackward0>)]\n"
          ]
        },
        {
          "output_type": "stream",
          "name": "stdout",
          "text": [
            "0.051887831464409825 0.9428972149869765 0.9055665396476171 0.9511343804537522 0.8263836239575436 0.8263836239575436 0.8504041406842244 0.9550918906017466 0.8843813387423934\n",
            "Epoch: 258 / 500, ############## the best accuracy in val  94.5903 at Epoch: 202  ##############\n",
            "Performance in Val: Loss: (0.0519); Accuracy (94.29)\n"
          ]
        },
        {
          "output_type": "stream",
          "name": "stderr",
          "text": [
            "Epoch 259: 100%|██████████| 1400/1400 [00:21<00:00, 64.18batch/s, train_loss=tensor(0.0094, device='cuda:0', grad_fn=<MseLossBackward0>)]\n"
          ]
        },
        {
          "output_type": "stream",
          "name": "stdout",
          "text": [
            "0.050999136082828044 0.9440993788819876 0.9073551710297463 0.9529616724738676 0.8294162244124337 0.8294162244124337 0.8536322752871546 0.9580344710540268 0.8869071747061208\n",
            "Epoch: 259 / 500, ############## the best accuracy in val  94.5903 at Epoch: 202  ##############\n",
            "Performance in Val: Loss: (0.0510); Accuracy (94.41)\n"
          ]
        },
        {
          "output_type": "stream",
          "name": "stderr",
          "text": [
            "Epoch 260: 100%|██████████| 1400/1400 [00:20<00:00, 67.69batch/s, train_loss=tensor(0.0064, device='cuda:0', grad_fn=<MseLossBackward0>)]\n"
          ]
        },
        {
          "output_type": "stream",
          "name": "stdout",
          "text": [
            "0.05119056459516287 0.9434982969344821 0.9064608553386817 0.9520488230165649 0.8278999241849886 0.8278999241849886 0.8520185651722869 0.9556636002054769 0.8856447688564476\n",
            "Epoch: 260 / 500, ############## the best accuracy in val  94.5903 at Epoch: 202  ##############\n",
            "Performance in Val: Loss: (0.0512); Accuracy (94.35)\n"
          ]
        },
        {
          "output_type": "stream",
          "name": "stderr",
          "text": [
            "Epoch 261: 100%|██████████| 1400/1400 [00:21<00:00, 64.77batch/s, train_loss=tensor(0.0083, device='cuda:0', grad_fn=<MseLossBackward0>)]\n"
          ]
        },
        {
          "output_type": "stream",
          "name": "stdout",
          "text": [
            "0.05119665190577507 0.9438990182328191 0.9072190054524042 0.9521322889469104 0.8294162244124337 0.8294162244124337 0.8530865091325329 0.9560259513627708 0.8865478119935171\n",
            "Epoch: 261 / 500, ############## the best accuracy in val  94.5903 at Epoch: 202  ##############\n",
            "Performance in Val: Loss: (0.0512); Accuracy (94.39)\n"
          ]
        },
        {
          "output_type": "stream",
          "name": "stderr",
          "text": [
            "Epoch 262: 100%|██████████| 1400/1400 [00:21<00:00, 65.70batch/s, train_loss=tensor(0.0060, device='cuda:0', grad_fn=<MseLossBackward0>)]\n"
          ]
        },
        {
          "output_type": "stream",
          "name": "stdout",
          "text": [
            "0.05134430015459657 0.9440993788819876 0.9073551710297463 0.9529616724738676 0.8294162244124337 0.8294162244124337 0.8536322752871546 0.955305378406101 0.8869071747061208\n",
            "Epoch: 262 / 500, ############## the best accuracy in val  94.5903 at Epoch: 202  ##############\n",
            "Performance in Val: Loss: (0.0513); Accuracy (94.41)\n"
          ]
        },
        {
          "output_type": "stream",
          "name": "stderr",
          "text": [
            "Epoch 263: 100%|██████████| 1400/1400 [00:21<00:00, 65.07batch/s, train_loss=tensor(0.0071, device='cuda:0', grad_fn=<MseLossBackward0>)]\n"
          ]
        },
        {
          "output_type": "stream",
          "name": "stdout",
          "text": [
            "0.05074808234348893 0.9436986575836506 0.9063541114365046 0.9536713286713286 0.8271417740712661 0.8271417740712661 0.8525783154419269 0.9584849840028673 0.8859114900527812\n",
            "Epoch: 263 / 500, ############## the best accuracy in val  94.5903 at Epoch: 202  ##############\n",
            "Performance in Val: Loss: (0.0507); Accuracy (94.37)\n"
          ]
        },
        {
          "output_type": "stream",
          "name": "stderr",
          "text": [
            "Epoch 264: 100%|██████████| 1400/1400 [00:20<00:00, 68.03batch/s, train_loss=tensor(0.0091, device='cuda:0', grad_fn=<MseLossBackward0>)]\n"
          ]
        },
        {
          "output_type": "stream",
          "name": "stdout",
          "text": [
            "0.05154459597542882 0.9432979362853136 0.9058388708023013 0.9527972027972028 0.8263836239575436 0.8263836239575436 0.8514972805032046 0.9548164624286242 0.8850994721883881\n",
            "Epoch: 264 / 500, ############## the best accuracy in val  94.5903 at Epoch: 202  ##############\n",
            "Performance in Val: Loss: (0.0515); Accuracy (94.33)\n"
          ]
        },
        {
          "output_type": "stream",
          "name": "stderr",
          "text": [
            "Epoch 265: 100%|██████████| 1400/1400 [00:20<00:00, 67.86batch/s, train_loss=tensor(0.0058, device='cuda:0', grad_fn=<MseLossBackward0>)]\n"
          ]
        },
        {
          "output_type": "stream",
          "name": "stdout",
          "text": [
            "0.05084923626855016 0.9434982969344821 0.9069466742977201 0.950477845351868 0.8294162244124337 0.8294162244124337 0.8519967916165803 0.9575335799385881 0.8858299595141701\n",
            "Epoch: 265 / 500, ############## the best accuracy in val  94.5903 at Epoch: 202  ##############\n",
            "Performance in Val: Loss: (0.0508); Accuracy (94.35)\n"
          ]
        },
        {
          "output_type": "stream",
          "name": "stderr",
          "text": [
            "Epoch 266: 100%|██████████| 1400/1400 [00:21<00:00, 66.30batch/s, train_loss=tensor(0.0051, device='cuda:0', grad_fn=<MseLossBackward0>)]\n"
          ]
        },
        {
          "output_type": "stream",
          "name": "stdout",
          "text": [
            "0.051629741489887235 0.9424964936886395 0.9048083895338945 0.951048951048951 0.8248673237300985 0.8248673237300985 0.8493352106257602 0.9538896280439562 0.883475436459602\n",
            "Epoch: 266 / 500, ############## the best accuracy in val  94.5903 at Epoch: 202  ##############\n",
            "Performance in Val: Loss: (0.0516); Accuracy (94.25)\n"
          ]
        },
        {
          "output_type": "stream",
          "name": "stderr",
          "text": [
            "Epoch 267: 100%|██████████| 1400/1400 [00:20<00:00, 68.58batch/s, train_loss=tensor(0.0090, device='cuda:0', grad_fn=<MseLossBackward0>)]\n"
          ]
        },
        {
          "output_type": "stream",
          "name": "stdout",
          "text": [
            "0.050895249284803865 0.9440993788819876 0.9068693520707078 0.9545454545454546 0.8278999241849886 0.8278999241849886 0.8536593503806491 0.9565514121578208 0.8867235079171742\n",
            "Epoch: 267 / 500, ############## the best accuracy in val  94.5903 at Epoch: 202  ##############\n",
            "Performance in Val: Loss: (0.0509); Accuracy (94.41)\n"
          ]
        },
        {
          "output_type": "stream",
          "name": "stderr",
          "text": [
            "Epoch 268: 100%|██████████| 1400/1400 [00:20<00:00, 68.24batch/s, train_loss=tensor(0.0067, device='cuda:0', grad_fn=<MseLossBackward0>)]\n"
          ]
        },
        {
          "output_type": "stream",
          "name": "stdout",
          "text": [
            "0.051326726004481314 0.943097575636145 0.9052168862659207 0.9535495179666958 0.8248673237300985 0.8248673237300985 0.8509775007541374 0.9555207244215183 0.8845528455284551\n",
            "Epoch: 268 / 500, ############## the best accuracy in val  94.5903 at Epoch: 202  ##############\n",
            "Performance in Val: Loss: (0.0513); Accuracy (94.31)\n"
          ]
        },
        {
          "output_type": "stream",
          "name": "stderr",
          "text": [
            "Epoch 269: 100%|██████████| 1400/1400 [00:20<00:00, 68.45batch/s, train_loss=tensor(0.0068, device='cuda:0', grad_fn=<MseLossBackward0>)]\n"
          ]
        },
        {
          "output_type": "stream",
          "name": "stdout",
          "text": [
            "0.051300831884145734 0.9432979362853136 0.9058388708023013 0.9527972027972028 0.8263836239575436 0.8263836239575436 0.8514972805032046 0.9547993255932649 0.8850994721883881\n",
            "Epoch: 269 / 500, ############## the best accuracy in val  94.5903 at Epoch: 202  ##############\n",
            "Performance in Val: Loss: (0.0513); Accuracy (94.33)\n"
          ]
        },
        {
          "output_type": "stream",
          "name": "stderr",
          "text": [
            "Epoch 270: 100%|██████████| 1400/1400 [00:20<00:00, 68.35batch/s, train_loss=tensor(0.0093, device='cuda:0', grad_fn=<MseLossBackward0>)]\n"
          ]
        },
        {
          "output_type": "stream",
          "name": "stdout",
          "text": [
            "0.05101370727643371 0.9447004608294931 0.9080065772412915 0.9546643417611159 0.8301743745261562 0.8301743745261562 0.8552586896278627 0.955295261479202 0.8880778588807786\n",
            "Epoch: 270 / 500, ############## the best accuracy in val  94.5903 at Epoch: 202  ##############\n",
            "Performance in Val: Loss: (0.0510); Accuracy (94.47)\n"
          ]
        },
        {
          "output_type": "stream",
          "name": "stderr",
          "text": [
            "Epoch 271: 100%|██████████| 1400/1400 [00:20<00:00, 68.46batch/s, train_loss=tensor(0.0066, device='cuda:0', grad_fn=<MseLossBackward0>)]\n"
          ]
        },
        {
          "output_type": "stream",
          "name": "stdout",
          "text": [
            "0.05101740444079041 0.9442997395311561 0.9087058840046843 0.9498703543647364 0.8332069749810462 0.8332069749810462 0.8541258896864412 0.9573510623186179 0.8877221324717286\n",
            "Epoch: 271 / 500, ############## the best accuracy in val  94.5903 at Epoch: 202  ##############\n",
            "Performance in Val: Loss: (0.0510); Accuracy (94.43)\n"
          ]
        },
        {
          "output_type": "stream",
          "name": "stderr",
          "text": [
            "Epoch 272: 100%|██████████| 1400/1400 [00:20<00:00, 67.73batch/s, train_loss=tensor(0.0097, device='cuda:0', grad_fn=<MseLossBackward0>)]\n"
          ]
        },
        {
          "output_type": "stream",
          "name": "stdout",
          "text": [
            "0.05118070403113961 0.9455019034261671 0.9090370585096983 0.95640802092415 0.8316906747536013 0.8316906747536013 0.8574187725982465 0.9570774923565584 0.8896999188969993\n",
            "Epoch: 272 / 500, ############## the best accuracy in val  94.5903 at Epoch: 202  ##############\n",
            "Performance in Val: Loss: (0.0512); Accuracy (94.55)\n"
          ]
        },
        {
          "output_type": "stream",
          "name": "stderr",
          "text": [
            "Epoch 273: 100%|██████████| 1400/1400 [00:20<00:00, 67.47batch/s, train_loss=tensor(0.0067, device='cuda:0', grad_fn=<MseLossBackward0>)]\n"
          ]
        },
        {
          "output_type": "stream",
          "name": "stdout",
          "text": [
            "0.051346879452466965 0.9438990182328191 0.9067331864933658 0.9537117903930131 0.8278999241849886 0.8278999241849886 0.853111812814578 0.9552419927620615 0.8863636363636364\n",
            "Epoch: 273 / 500, ############## the best accuracy in val  94.5903 at Epoch: 202  ##############\n",
            "Performance in Val: Loss: (0.0513); Accuracy (94.39)\n"
          ]
        },
        {
          "output_type": "stream",
          "name": "stderr",
          "text": [
            "Epoch 274: 100%|██████████| 1400/1400 [00:20<00:00, 67.95batch/s, train_loss=tensor(0.0080, device='cuda:0', grad_fn=<MseLossBackward0>)]\n"
          ]
        },
        {
          "output_type": "stream",
          "name": "stdout",
          "text": [
            "0.05115600191056728 0.9442997395311561 0.9079771555661267 0.952215464813206 0.8309325246398787 0.8309325246398787 0.8541542407123827 0.9562753645810106 0.8874493927125506\n",
            "Epoch: 274 / 500, ############## the best accuracy in val  94.5903 at Epoch: 202  ##############\n",
            "Performance in Val: Loss: (0.0512); Accuracy (94.43)\n"
          ]
        },
        {
          "output_type": "stream",
          "name": "stderr",
          "text": [
            "Epoch 275: 100%|██████████| 1400/1400 [00:20<00:00, 67.56batch/s, train_loss=tensor(0.0085, device='cuda:0', grad_fn=<MseLossBackward0>)]\n"
          ]
        },
        {
          "output_type": "stream",
          "name": "stdout",
          "text": [
            "0.05166835058480501 0.943097575636145 0.9047310673068824 0.9551451187335093 0.8233510235026535 0.8233510235026535 0.8510090615405337 0.9538795111170575 0.8843648208469055\n",
            "Epoch: 275 / 500, ############## the best accuracy in val  94.5903 at Epoch: 202  ##############\n",
            "Performance in Val: Loss: (0.0517); Accuracy (94.31)\n"
          ]
        },
        {
          "output_type": "stream",
          "name": "stderr",
          "text": [
            "Epoch 276: 100%|██████████| 1400/1400 [00:20<00:00, 67.81batch/s, train_loss=tensor(0.0072, device='cuda:0', grad_fn=<MseLossBackward0>)]\n"
          ]
        },
        {
          "output_type": "stream",
          "name": "stdout",
          "text": [
            "0.05123128248378635 0.9449008214786616 0.9083856522981528 0.9547038327526133 0.8309325246398787 0.8309325246398787 0.8557916981504193 0.9545833601741599 0.8885285772192948\n",
            "Epoch: 276 / 500, ############## the best accuracy in val  94.5903 at Epoch: 202  ##############\n",
            "Performance in Val: Loss: (0.0512); Accuracy (94.49)\n"
          ]
        },
        {
          "output_type": "stream",
          "name": "stderr",
          "text": [
            "Epoch 277: 100%|██████████| 1400/1400 [00:20<00:00, 69.42batch/s, train_loss=tensor(0.0089, device='cuda:0', grad_fn=<MseLossBackward0>)]\n"
          ]
        },
        {
          "output_type": "stream",
          "name": "stdout",
          "text": [
            "0.0520042079500854 0.9447004608294931 0.9084923962003301 0.9530842745438749 0.8316906747536013 0.8316906747536013 0.8552329652602839 0.9549054500917542 0.8882591093117409\n",
            "Epoch: 277 / 500, ############## the best accuracy in val  94.5903 at Epoch: 202  ##############\n",
            "Performance in Val: Loss: (0.0520); Accuracy (94.47)\n"
          ]
        },
        {
          "output_type": "stream",
          "name": "stderr",
          "text": [
            "Epoch 278: 100%|██████████| 1400/1400 [00:20<00:00, 68.03batch/s, train_loss=tensor(0.0071, device='cuda:0', grad_fn=<MseLossBackward0>)]\n"
          ]
        },
        {
          "output_type": "stream",
          "name": "stdout",
          "text": [
            "0.05105580622330308 0.9453015427769986 0.9081721644937986 0.957968476357268 0.8294162244124337 0.8294162244124337 0.8569196597064661 0.9542191508058029 0.889069483949614\n",
            "Epoch: 278 / 500, ############## the best accuracy in val  94.5903 at Epoch: 202  ##############\n",
            "Performance in Val: Loss: (0.0511); Accuracy (94.53)\n"
          ]
        },
        {
          "output_type": "stream",
          "name": "stderr",
          "text": [
            "Epoch 279: 100%|██████████| 1400/1400 [00:20<00:00, 67.93batch/s, train_loss=tensor(0.0054, device='cuda:0', grad_fn=<MseLossBackward0>)]\n"
          ]
        },
        {
          "output_type": "stream",
          "name": "stdout",
          "text": [
            "0.051389104779809715 0.9451011821278301 0.9085218178754949 0.955536181342633 0.8309325246398787 0.8309325246398787 0.8563387311130546 0.954378544021433 0.8888888888888887\n",
            "Epoch: 279 / 500, ############## the best accuracy in val  94.5903 at Epoch: 202  ##############\n",
            "Performance in Val: Loss: (0.0514); Accuracy (94.51)\n"
          ]
        },
        {
          "output_type": "stream",
          "name": "stderr",
          "text": [
            "Epoch 280: 100%|██████████| 1400/1400 [00:20<00:00, 67.56batch/s, train_loss=tensor(0.0055, device='cuda:0', grad_fn=<MseLossBackward0>)]\n"
          ]
        },
        {
          "output_type": "stream",
          "name": "stdout",
          "text": [
            "0.05128911761566997 0.942696854337808 0.9061591025088327 0.9479618386816999 0.8286580742987112 0.8286580742987112 0.8498314156708392 0.9553993212987327 0.8843042071197411\n",
            "Epoch: 280 / 500, ############## the best accuracy in val  94.5903 at Epoch: 202  ##############\n",
            "Performance in Val: Loss: (0.0513); Accuracy (94.27)\n"
          ]
        },
        {
          "output_type": "stream",
          "name": "stderr",
          "text": [
            "Epoch 281: 100%|██████████| 1400/1400 [00:20<00:00, 67.10batch/s, train_loss=tensor(0.0102, device='cuda:0', grad_fn=<MseLossBackward0>)]\n"
          ]
        },
        {
          "output_type": "stream",
          "name": "stdout",
          "text": [
            "0.050873658154159784 0.9442997395311561 0.9077342460866076 0.9530026109660574 0.8301743745261562 0.8301743745261562 0.854165891057518 0.9562092948543245 0.8873581847649918\n",
            "Epoch: 281 / 500, ############## the best accuracy in val  94.5903 at Epoch: 202  ##############\n",
            "Performance in Val: Loss: (0.0509); Accuracy (94.43)\n"
          ]
        },
        {
          "output_type": "stream",
          "name": "stderr",
          "text": [
            "Epoch 282: 100%|██████████| 1400/1400 [00:21<00:00, 66.07batch/s, train_loss=tensor(0.0066, device='cuda:0', grad_fn=<MseLossBackward0>)]\n"
          ]
        },
        {
          "output_type": "stream",
          "name": "stdout",
          "text": [
            "0.051275666896253826 0.9459026247245041 0.9095522991439016 0.9572798605056669 0.8324488248673237 0.8324488248673237 0.8584988140834384 0.9549985671128024 0.8905109489051096\n",
            "Epoch: 282 / 500, ############## the best accuracy in val  94.5903 at Epoch: 202  ##############\n",
            "Performance in Val: Loss: (0.0513); Accuracy (94.59)\n"
          ]
        },
        {
          "output_type": "stream",
          "name": "stderr",
          "text": [
            "Epoch 283: 100%|██████████| 1400/1400 [00:20<00:00, 67.24batch/s, train_loss=tensor(0.0081, device='cuda:0', grad_fn=<MseLossBackward0>)]\n"
          ]
        },
        {
          "output_type": "stream",
          "name": "stdout",
          "text": [
            "0.05100706396624446 0.9442997395311561 0.9072484271275691 0.9545851528384279 0.8286580742987112 0.8286580742987112 0.8541925160521735 0.954830295777649 0.8871753246753248\n",
            "Epoch: 283 / 500, ############## the best accuracy in val  94.5903 at Epoch: 202  ##############\n",
            "Performance in Val: Loss: (0.0510); Accuracy (94.43)\n"
          ]
        },
        {
          "output_type": "stream",
          "name": "stderr",
          "text": [
            "Epoch 284: 100%|██████████| 1400/1400 [00:21<00:00, 66.65batch/s, train_loss=tensor(0.0103, device='cuda:0', grad_fn=<MseLossBackward0>)]\n"
          ]
        },
        {
          "output_type": "stream",
          "name": "stdout",
          "text": [
            "0.05086997654289007 0.9442997395311561 0.9074913366070883 0.953792502179599 0.8294162244124337 0.8294162244124337 0.8541786481426707 0.9543917579667702 0.8872668288726683\n",
            "Epoch: 284 / 500, ############## the best accuracy in val  94.5903 at Epoch: 202  ##############\n",
            "Performance in Val: Loss: (0.0509); Accuracy (94.43)\n"
          ]
        },
        {
          "output_type": "stream",
          "name": "stderr",
          "text": [
            "Epoch 285: 100%|██████████| 1400/1400 [00:20<00:00, 66.89batch/s, train_loss=tensor(0.0079, device='cuda:0', grad_fn=<MseLossBackward0>)]\n"
          ]
        },
        {
          "output_type": "stream",
          "name": "stdout",
          "text": [
            "0.05076087629422545 0.9438990182328191 0.9062473675343274 0.9553023663453112 0.8263836239575436 0.8263836239575436 0.853141567465284 0.9570558132274896 0.8861788617886179\n",
            "Epoch: 285 / 500, ############## the best accuracy in val  94.5903 at Epoch: 202  ##############\n",
            "Performance in Val: Loss: (0.0508); Accuracy (94.39)\n"
          ]
        },
        {
          "output_type": "stream",
          "name": "stderr",
          "text": [
            "Epoch 286: 100%|██████████| 1400/1400 [00:20<00:00, 67.11batch/s, train_loss=tensor(0.0093, device='cuda:0', grad_fn=<MseLossBackward0>)]\n"
          ]
        },
        {
          "output_type": "stream",
          "name": "stdout",
          "text": [
            "0.05160007765516639 0.9428972149869765 0.906538177565694 0.9480069324090121 0.8294162244124337 0.8294162244124337 0.8503667325198774 0.9543942355815209 0.8847553578649414\n",
            "Epoch: 286 / 500, ############## the best accuracy in val  94.5903 at Epoch: 202  ##############\n",
            "Performance in Val: Loss: (0.0516); Accuracy (94.29)\n"
          ]
        },
        {
          "output_type": "stream",
          "name": "stderr",
          "text": [
            "Epoch 287: 100%|██████████| 1400/1400 [00:20<00:00, 67.73batch/s, train_loss=tensor(0.0072, device='cuda:0', grad_fn=<MseLossBackward0>)]\n"
          ]
        },
        {
          "output_type": "stream",
          "name": "stdout",
          "text": [
            "0.05100094173103571 0.9445001001803246 0.9085991401025072 0.951473136915078 0.8324488248673237 0.8324488248673237 0.8546777027435596 0.9566703376658556 0.8879902951880307\n",
            "Epoch: 287 / 500, ############## the best accuracy in val  94.5903 at Epoch: 202  ##############\n",
            "Performance in Val: Loss: (0.0510); Accuracy (94.45)\n"
          ]
        },
        {
          "output_type": "stream",
          "name": "stderr",
          "text": [
            "Epoch 288: 100%|██████████| 1400/1400 [00:20<00:00, 67.62batch/s, train_loss=tensor(0.0064, device='cuda:0', grad_fn=<MseLossBackward0>)]\n"
          ]
        },
        {
          "output_type": "stream",
          "name": "stdout",
          "text": [
            "0.051406479068100454 0.9436986575836506 0.906839930395543 0.9520905923344948 0.8286580742987112 0.8286580742987112 0.8525525638555222 0.9552576843221494 0.8860964734495338\n",
            "Epoch: 288 / 500, ############## the best accuracy in val  94.5903 at Epoch: 202  ##############\n",
            "Performance in Val: Loss: (0.0514); Accuracy (94.37)\n"
          ]
        },
        {
          "output_type": "stream",
          "name": "stderr",
          "text": [
            "Epoch 289: 100%|██████████| 1400/1400 [00:20<00:00, 68.27batch/s, train_loss=tensor(0.0071, device='cuda:0', grad_fn=<MseLossBackward0>)]\n"
          ]
        },
        {
          "output_type": "stream",
          "name": "stdout",
          "text": [
            "0.05130479335784912 0.9442997395311561 0.9072484271275691 0.9545851528384279 0.8286580742987112 0.8286580742987112 0.8541925160521735 0.9568080517524169 0.8871753246753248\n",
            "Epoch: 289 / 500, ############## the best accuracy in val  94.5903 at Epoch: 202  ##############\n",
            "Performance in Val: Loss: (0.0513); Accuracy (94.43)\n"
          ]
        },
        {
          "output_type": "stream",
          "name": "stderr",
          "text": [
            "Epoch 290: 100%|██████████| 1400/1400 [00:20<00:00, 69.08batch/s, train_loss=tensor(0.0089, device='cuda:0', grad_fn=<MseLossBackward0>)]\n"
          ]
        },
        {
          "output_type": "stream",
          "name": "stdout",
          "text": [
            "0.051499533280730245 0.9434982969344821 0.9064608553386817 0.9520488230165649 0.8278999241849886 0.8278999241849886 0.8520185651722869 0.9554823213928821 0.8856447688564476\n",
            "Epoch: 290 / 500, ############## the best accuracy in val  94.5903 at Epoch: 202  ##############\n",
            "Performance in Val: Loss: (0.0515); Accuracy (94.35)\n"
          ]
        },
        {
          "output_type": "stream",
          "name": "stderr",
          "text": [
            "Epoch 291: 100%|██████████| 1400/1400 [00:20<00:00, 68.69batch/s, train_loss=tensor(0.0056, device='cuda:0', grad_fn=<MseLossBackward0>)]\n"
          ]
        },
        {
          "output_type": "stream",
          "name": "stdout",
          "text": [
            "0.051324259210377934 0.9440993788819876 0.9078409899887847 0.9513888888888888 0.8309325246398787 0.8309325246398787 0.8536096309609149 0.9552139131282199 0.8870902468636179\n",
            "Epoch: 291 / 500, ############## the best accuracy in val  94.5903 at Epoch: 202  ##############\n",
            "Performance in Val: Loss: (0.0513); Accuracy (94.41)\n"
          ]
        },
        {
          "output_type": "stream",
          "name": "stderr",
          "text": [
            "Epoch 292: 100%|██████████| 1400/1400 [00:20<00:00, 68.43batch/s, train_loss=tensor(0.0054, device='cuda:0', grad_fn=<MseLossBackward0>)]\n"
          ]
        },
        {
          "output_type": "stream",
          "name": "stdout",
          "text": [
            "0.051532413344830275 0.9453015427769986 0.9089008929323562 0.955574912891986 0.8316906747536013 0.8316906747536013 0.8568714095820517 0.9533139955502039 0.8893392784758816\n",
            "Epoch: 292 / 500, ############## the best accuracy in val  94.5903 at Epoch: 202  ##############\n",
            "Performance in Val: Loss: (0.0515); Accuracy (94.53)\n"
          ]
        },
        {
          "output_type": "stream",
          "name": "stderr",
          "text": [
            "Epoch 293: 100%|██████████| 1400/1400 [00:20<00:00, 67.70batch/s, train_loss=tensor(0.0077, device='cuda:0', grad_fn=<MseLossBackward0>)]\n"
          ]
        },
        {
          "output_type": "stream",
          "name": "stdout",
          "text": [
            "0.05125712631270289 0.9455019034261671 0.9092799679892174 0.9556135770234987 0.8324488248673237 0.8324488248673237 0.8574040368324732 0.9551482563373257 0.8897893030794166\n",
            "Epoch: 293 / 500, ############## the best accuracy in val  94.5903 at Epoch: 202  ##############\n",
            "Performance in Val: Loss: (0.0513); Accuracy (94.55)\n"
          ]
        },
        {
          "output_type": "stream",
          "name": "stderr",
          "text": [
            "Epoch 294: 100%|██████████| 1400/1400 [00:20<00:00, 67.30batch/s, train_loss=tensor(0.0095, device='cuda:0', grad_fn=<MseLossBackward0>)]\n"
          ]
        },
        {
          "output_type": "stream",
          "name": "stdout",
          "text": [
            "0.051269078720360996 0.9445001001803246 0.9066558642663536 0.9578207381370826 0.8263836239575436 0.8263836239575436 0.8547913794833495 0.9546616115067036 0.8872608872608873\n",
            "Epoch: 294 / 500, ############## the best accuracy in val  94.5903 at Epoch: 202  ##############\n",
            "Performance in Val: Loss: (0.0513); Accuracy (94.45)\n"
          ]
        },
        {
          "output_type": "stream",
          "name": "stderr",
          "text": [
            "Epoch 295: 100%|██████████| 1400/1400 [00:20<00:00, 67.78batch/s, train_loss=tensor(0.0045, device='cuda:0', grad_fn=<MseLossBackward0>)]\n"
          ]
        },
        {
          "output_type": "stream",
          "name": "stdout",
          "text": [
            "0.051273508556187154 0.9436986575836506 0.9063541114365046 0.9536713286713286 0.8271417740712661 0.8271417740712661 0.8525783154419269 0.9556916798393184 0.8859114900527812\n",
            "Epoch: 295 / 500, ############## the best accuracy in val  94.5903 at Epoch: 202  ##############\n",
            "Performance in Val: Loss: (0.0513); Accuracy (94.37)\n"
          ]
        },
        {
          "output_type": "stream",
          "name": "stderr",
          "text": [
            "Epoch 296: 100%|██████████| 1400/1400 [00:20<00:00, 68.18batch/s, train_loss=tensor(0.0069, device='cuda:0', grad_fn=<MseLossBackward0>)]\n"
          ]
        },
        {
          "output_type": "stream",
          "name": "stdout",
          "text": [
            "0.051087862066924575 0.9447004608294931 0.907277848802734 0.9570552147239264 0.8278999241849886 0.8278999241849886 0.8553056341764308 0.9549960894980518 0.8878048780487804\n",
            "Epoch: 296 / 500, ############## the best accuracy in val  94.5903 at Epoch: 202  ##############\n",
            "Performance in Val: Loss: (0.0511); Accuracy (94.47)\n"
          ]
        },
        {
          "output_type": "stream",
          "name": "stderr",
          "text": [
            "Epoch 297: 100%|██████████| 1400/1400 [00:20<00:00, 68.48batch/s, train_loss=tensor(0.0060, device='cuda:0', grad_fn=<MseLossBackward0>)]\n"
          ]
        },
        {
          "output_type": "stream",
          "name": "stdout",
          "text": [
            "0.05143422493711114 0.9442997395311561 0.9079771555661267 0.952215464813206 0.8309325246398787 0.8309325246398787 0.8541542407123827 0.9551290548230075 0.8874493927125506\n",
            "Epoch: 297 / 500, ############## the best accuracy in val  94.5903 at Epoch: 202  ##############\n",
            "Performance in Val: Loss: (0.0514); Accuracy (94.43)\n"
          ]
        },
        {
          "output_type": "stream",
          "name": "stderr",
          "text": [
            "Epoch 298: 100%|██████████| 1400/1400 [00:20<00:00, 68.25batch/s, train_loss=tensor(0.0052, device='cuda:0', grad_fn=<MseLossBackward0>)]\n"
          ]
        },
        {
          "output_type": "stream",
          "name": "stdout",
          "text": [
            "0.05103708077222109 0.9442997395311561 0.9065196986890114 0.9569798068481123 0.8263836239575436 0.8263836239575436 0.8542408259886597 0.9557399933269576 0.8868999186330349\n",
            "Epoch: 298 / 500, ############## the best accuracy in val  94.5903 at Epoch: 202  ##############\n",
            "Performance in Val: Loss: (0.0510); Accuracy (94.43)\n"
          ]
        },
        {
          "output_type": "stream",
          "name": "stderr",
          "text": [
            "Epoch 299: 100%|██████████| 1400/1400 [00:20<00:00, 68.40batch/s, train_loss=tensor(0.0102, device='cuda:0', grad_fn=<MseLossBackward0>)]\n"
          ]
        },
        {
          "output_type": "stream",
          "name": "stdout",
          "text": [
            "0.05140420524403453 0.9438990182328191 0.906976095972885 0.952920662598082 0.8286580742987112 0.8286580742987112 0.8530986066574788 0.9544276833806558 0.886455798864558\n",
            "Epoch: 299 / 500, ############## the best accuracy in val  94.5903 at Epoch: 202  ##############\n",
            "Performance in Val: Loss: (0.0514); Accuracy (94.39)\n"
          ]
        },
        {
          "output_type": "stream",
          "name": "stderr",
          "text": [
            "Epoch 300: 100%|██████████| 1400/1400 [00:20<00:00, 68.75batch/s, train_loss=tensor(0.0073, device='cuda:0', grad_fn=<MseLossBackward0>)]\n"
          ]
        },
        {
          "output_type": "stream",
          "name": "stdout",
          "text": [
            "0.05089828027412295 0.9432979362853136 0.9060817802818204 0.9520069808027923 0.8271417740712661 0.8271417740712661 0.8514845127710242 0.955834555623277 0.8851926977687626\n",
            "Epoch: 300 / 500, ############## the best accuracy in val  94.5903 at Epoch: 202  ##############\n",
            "Performance in Val: Loss: (0.0509); Accuracy (94.33)\n"
          ]
        },
        {
          "output_type": "stream",
          "name": "stderr",
          "text": [
            "Epoch 301: 100%|██████████| 1400/1400 [00:20<00:00, 67.92batch/s, train_loss=tensor(0.0044, device='cuda:0', grad_fn=<MseLossBackward0>)]\n"
          ]
        },
        {
          "output_type": "stream",
          "name": "stdout",
          "text": [
            "0.0505503642372787 0.9445001001803246 0.9076275021844303 0.9546247818499127 0.8294162244124337 0.8294162244124337 0.8547256290314235 0.9573807936956267 0.8876267748478702\n",
            "Epoch: 301 / 500, ############## the best accuracy in val  94.5903 at Epoch: 202  ##############\n",
            "Performance in Val: Loss: (0.0506); Accuracy (94.45)\n"
          ]
        },
        {
          "output_type": "stream",
          "name": "stderr",
          "text": [
            "Epoch 302: 100%|██████████| 1400/1400 [00:20<00:00, 67.02batch/s, train_loss=tensor(0.0066, device='cuda:0', grad_fn=<MseLossBackward0>)]\n"
          ]
        },
        {
          "output_type": "stream",
          "name": "stdout",
          "text": [
            "0.05124268447980285 0.942696854337808 0.9054303740702752 0.9503051438535309 0.8263836239575436 0.8263836239575436 0.8498584822019032 0.9556510056638273 0.884022708840227\n",
            "Epoch: 302 / 500, ############## the best accuracy in val  94.5903 at Epoch: 202  ##############\n",
            "Performance in Val: Loss: (0.0512); Accuracy (94.27)\n"
          ]
        },
        {
          "output_type": "stream",
          "name": "stderr",
          "text": [
            "Epoch 303: 100%|██████████| 1400/1400 [00:21<00:00, 64.08batch/s, train_loss=tensor(0.0085, device='cuda:0', grad_fn=<MseLossBackward0>)]\n"
          ]
        },
        {
          "output_type": "stream",
          "name": "stdout",
          "text": [
            "0.051349565107375386 0.9428972149869765 0.9067810870452131 0.9472318339100346 0.8301743745261562 0.8301743745261562 0.8503601131915345 0.9563476283445734 0.8848484848484849\n",
            "Epoch: 303 / 500, ############## the best accuracy in val  94.5903 at Epoch: 202  ##############\n",
            "Performance in Val: Loss: (0.0513); Accuracy (94.29)\n"
          ]
        },
        {
          "output_type": "stream",
          "name": "stderr",
          "text": [
            "Epoch 304: 100%|██████████| 1400/1400 [00:20<00:00, 68.79batch/s, train_loss=tensor(0.0077, device='cuda:0', grad_fn=<MseLossBackward0>)]\n"
          ]
        },
        {
          "output_type": "stream",
          "name": "stdout",
          "text": [
            "0.0514664601534605 0.9445001001803246 0.9068987737458727 0.9570175438596491 0.8271417740712661 0.8271417740712661 0.8547732563722449 0.9551928534028387 0.887352582350549\n",
            "Epoch: 304 / 500, ############## the best accuracy in val  94.5903 at Epoch: 202  ##############\n",
            "Performance in Val: Loss: (0.0515); Accuracy (94.45)\n"
          ]
        },
        {
          "output_type": "stream",
          "name": "stderr",
          "text": [
            "Epoch 305: 100%|██████████| 1400/1400 [00:19<00:00, 70.75batch/s, train_loss=tensor(0.0083, device='cuda:0', grad_fn=<MseLossBackward0>)]\n"
          ]
        },
        {
          "output_type": "stream",
          "name": "stdout",
          "text": [
            "0.05147960102185607 0.943097575636145 0.90545979574544 0.952755905511811 0.8256254738438211 0.8256254738438211 0.850963397324195 0.956640812756743 0.884646628757108\n",
            "Epoch: 305 / 500, ############## the best accuracy in val  94.5903 at Epoch: 202  ##############\n",
            "Performance in Val: Loss: (0.0515); Accuracy (94.31)\n"
          ]
        },
        {
          "output_type": "stream",
          "name": "stderr",
          "text": [
            "Epoch 306: 100%|██████████| 1400/1400 [00:19<00:00, 70.64batch/s, train_loss=tensor(0.0074, device='cuda:0', grad_fn=<MseLossBackward0>)]\n"
          ]
        },
        {
          "output_type": "stream",
          "name": "stdout",
          "text": [
            "0.05093227224424481 0.9436986575836506 0.9063541114365046 0.9536713286713286 0.8271417740712661 0.8271417740712661 0.8525783154419269 0.9571939402498428 0.8859114900527812\n",
            "Epoch: 306 / 500, ############## the best accuracy in val  94.5903 at Epoch: 202  ##############\n",
            "Performance in Val: Loss: (0.0509); Accuracy (94.37)\n"
          ]
        },
        {
          "output_type": "stream",
          "name": "stderr",
          "text": [
            "Epoch 307: 100%|██████████| 1400/1400 [00:19<00:00, 70.11batch/s, train_loss=tensor(0.0097, device='cuda:0', grad_fn=<MseLossBackward0>)]\n"
          ]
        },
        {
          "output_type": "stream",
          "name": "stdout",
          "text": [
            "0.05104791177436709 0.9424964936886395 0.9060229369314907 0.9471403812824957 0.8286580742987112 0.8286580742987112 0.8492889899639569 0.9560544439324041 0.883946623534169\n",
            "Epoch: 307 / 500, ############## the best accuracy in val  94.5903 at Epoch: 202  ##############\n",
            "Performance in Val: Loss: (0.0510); Accuracy (94.25)\n"
          ]
        },
        {
          "output_type": "stream",
          "name": "stderr",
          "text": [
            "Epoch 308: 100%|██████████| 1400/1400 [00:20<00:00, 68.55batch/s, train_loss=tensor(0.0076, device='cuda:0', grad_fn=<MseLossBackward0>)]\n"
          ]
        },
        {
          "output_type": "stream",
          "name": "stdout",
          "text": [
            "0.051009156834334136 0.9453015427769986 0.9079292550142793 0.9587719298245614 0.8286580742987112 0.8286580742987112 0.8569379909112992 0.9566003450491476 0.8889792598617325\n",
            "Epoch: 308 / 500, ############## the best accuracy in val  94.5903 at Epoch: 202  ##############\n",
            "Performance in Val: Loss: (0.0510); Accuracy (94.53)\n"
          ]
        },
        {
          "output_type": "stream",
          "name": "stderr",
          "text": [
            "Epoch 309: 100%|██████████| 1400/1400 [00:19<00:00, 70.17batch/s, train_loss=tensor(0.0077, device='cuda:0', grad_fn=<MseLossBackward0>)]\n"
          ]
        },
        {
          "output_type": "stream",
          "name": "stdout",
          "text": [
            "0.05129920644685626 0.9434982969344821 0.9059750363796433 0.9536307961504812 0.8263836239575436 0.8263836239575436 0.8520447645155217 0.9541060063988531 0.8854589764419171\n",
            "Epoch: 309 / 500, ############## the best accuracy in val  94.5903 at Epoch: 202  ##############\n",
            "Performance in Val: Loss: (0.0513); Accuracy (94.35)\n"
          ]
        },
        {
          "output_type": "stream",
          "name": "stderr",
          "text": [
            "Epoch 310: 100%|██████████| 1400/1400 [00:20<00:00, 69.64batch/s, train_loss=tensor(0.0085, device='cuda:0', grad_fn=<MseLossBackward0>)]\n"
          ]
        },
        {
          "output_type": "stream",
          "name": "stdout",
          "text": [
            "0.05086641870439053 0.9438990182328191 0.9067331864933658 0.9537117903930131 0.8278999241849886 0.8278999241849886 0.853111812814578 0.9554366919878896 0.8863636363636364\n",
            "Epoch: 310 / 500, ############## the best accuracy in val  94.5903 at Epoch: 202  ##############\n",
            "Performance in Val: Loss: (0.0509); Accuracy (94.39)\n"
          ]
        },
        {
          "output_type": "stream",
          "name": "stderr",
          "text": [
            "Epoch 311: 100%|██████████| 1400/1400 [00:19<00:00, 70.86batch/s, train_loss=tensor(0.0060, device='cuda:0', grad_fn=<MseLossBackward0>)]\n"
          ]
        },
        {
          "output_type": "stream",
          "name": "stdout",
          "text": [
            "0.05122796129435301 0.9449008214786616 0.9078998333391144 0.9562937062937062 0.8294162244124337 0.8294162244124337 0.8558214202580936 0.9555938140566648 0.8883475436459601\n",
            "Epoch: 311 / 500, ############## the best accuracy in val  94.5903 at Epoch: 202  ##############\n",
            "Performance in Val: Loss: (0.0512); Accuracy (94.49)\n"
          ]
        },
        {
          "output_type": "stream",
          "name": "stderr",
          "text": [
            "Epoch 312: 100%|██████████| 1400/1400 [00:20<00:00, 69.14batch/s, train_loss=tensor(0.0080, device='cuda:0', grad_fn=<MseLossBackward0>)]\n"
          ]
        },
        {
          "output_type": "stream",
          "name": "stdout",
          "text": [
            "0.05159374214708805 0.9436986575836506 0.9063541114365046 0.9536713286713286 0.8271417740712661 0.8271417740712661 0.8525783154419269 0.9557515555291276 0.8859114900527812\n",
            "Epoch: 312 / 500, ############## the best accuracy in val  94.5903 at Epoch: 202  ##############\n",
            "Performance in Val: Loss: (0.0516); Accuracy (94.37)\n"
          ]
        },
        {
          "output_type": "stream",
          "name": "stderr",
          "text": [
            "Epoch 313: 100%|██████████| 1400/1400 [00:20<00:00, 68.59batch/s, train_loss=tensor(0.0067, device='cuda:0', grad_fn=<MseLossBackward0>)]\n"
          ]
        },
        {
          "output_type": "stream",
          "name": "stdout",
          "text": [
            "0.051412834972143176 0.9434982969344821 0.9071895837772392 0.9496964440589766 0.8301743745261562 0.8301743745261562 0.8519875543606849 0.9557284311247876 0.8859223300970873\n",
            "Epoch: 313 / 500, ############## the best accuracy in val  94.5903 at Epoch: 202  ##############\n",
            "Performance in Val: Loss: (0.0514); Accuracy (94.35)\n"
          ]
        },
        {
          "output_type": "stream",
          "name": "stderr",
          "text": [
            "Epoch 314: 100%|██████████| 1400/1400 [00:19<00:00, 70.28batch/s, train_loss=tensor(0.0098, device='cuda:0', grad_fn=<MseLossBackward0>)]\n"
          ]
        },
        {
          "output_type": "stream",
          "name": "stdout",
          "text": [
            "0.05125293526798487 0.9453015427769986 0.9081721644937986 0.957968476357268 0.8294162244124337 0.8294162244124337 0.8569196597064661 0.9542191508058029 0.889069483949614\n",
            "Epoch: 314 / 500, ############## the best accuracy in val  94.5903 at Epoch: 202  ##############\n",
            "Performance in Val: Loss: (0.0513); Accuracy (94.53)\n"
          ]
        },
        {
          "output_type": "stream",
          "name": "stderr",
          "text": [
            "Epoch 315: 100%|██████████| 1400/1400 [00:20<00:00, 68.95batch/s, train_loss=tensor(0.0080, device='cuda:0', grad_fn=<MseLossBackward0>)]\n"
          ]
        },
        {
          "output_type": "stream",
          "name": "stdout",
          "text": [
            "0.0513636264950037 0.9420957723903025 0.9050218773382489 0.9478260869565217 0.8263836239575436 0.8263836239575436 0.8482251364939911 0.9563885089879604 0.8829485621709194\n",
            "Epoch: 315 / 500, ############## the best accuracy in val  94.5903 at Epoch: 202  ##############\n",
            "Performance in Val: Loss: (0.0514); Accuracy (94.21)\n"
          ]
        },
        {
          "output_type": "stream",
          "name": "stderr",
          "text": [
            "Epoch 316: 100%|██████████| 1400/1400 [00:19<00:00, 70.81batch/s, train_loss=tensor(0.0084, device='cuda:0', grad_fn=<MseLossBackward0>)]\n"
          ]
        },
        {
          "output_type": "stream",
          "name": "stdout",
          "text": [
            "0.051362928468734026 0.9440993788819876 0.9068693520707078 0.9545454545454546 0.8278999241849886 0.8278999241849886 0.8536593503806491 0.95570819727099 0.8867235079171742\n",
            "Epoch: 316 / 500, ############## the best accuracy in val  94.5903 at Epoch: 202  ##############\n",
            "Performance in Val: Loss: (0.0514); Accuracy (94.41)\n"
          ]
        },
        {
          "output_type": "stream",
          "name": "stderr",
          "text": [
            "Epoch 317: 100%|██████████| 1400/1400 [00:20<00:00, 68.98batch/s, train_loss=tensor(0.0086, device='cuda:0', grad_fn=<MseLossBackward0>)]\n"
          ]
        },
        {
          "output_type": "stream",
          "name": "stdout",
          "text": [
            "0.05058717029169202 0.9449008214786616 0.9086285617776722 0.9539130434782609 0.8316906747536013 0.8316906747536013 0.855778507242815 0.9568472806526367 0.8886188740380722\n",
            "Epoch: 317 / 500, ############## the best accuracy in val  94.5903 at Epoch: 202  ##############\n",
            "Performance in Val: Loss: (0.0506); Accuracy (94.49)\n"
          ]
        },
        {
          "output_type": "stream",
          "name": "stderr",
          "text": [
            "Epoch 318: 100%|██████████| 1400/1400 [00:20<00:00, 69.44batch/s, train_loss=tensor(0.0098, device='cuda:0', grad_fn=<MseLossBackward0>)]\n"
          ]
        },
        {
          "output_type": "stream",
          "name": "stdout",
          "text": [
            "0.051190908346325156 0.9440993788819876 0.9066264425911886 0.9553415061295972 0.8271417740712661 0.8271417740712661 0.853674559716789 0.954966358121043 0.8866314506298252\n",
            "Epoch: 318 / 500, ############## the best accuracy in val  94.5903 at Epoch: 202  ##############\n",
            "Performance in Val: Loss: (0.0512); Accuracy (94.41)\n"
          ]
        },
        {
          "output_type": "stream",
          "name": "stderr",
          "text": [
            "Epoch 319: 100%|██████████| 1400/1400 [00:20<00:00, 68.51batch/s, train_loss=tensor(0.0072, device='cuda:0', grad_fn=<MseLossBackward0>)]\n"
          ]
        },
        {
          "output_type": "stream",
          "name": "stdout",
          "text": [
            "0.05160238835960627 0.9442997395311561 0.9074913366070883 0.953792502179599 0.8294162244124337 0.8294162244124337 0.8541786481426707 0.9541823995203339 0.8872668288726683\n",
            "Epoch: 319 / 500, ############## the best accuracy in val  94.5903 at Epoch: 202  ##############\n",
            "Performance in Val: Loss: (0.0516); Accuracy (94.43)\n"
          ]
        },
        {
          "output_type": "stream",
          "name": "stderr",
          "text": [
            "Epoch 320: 100%|██████████| 1400/1400 [00:20<00:00, 66.96batch/s, train_loss=tensor(0.0055, device='cuda:0', grad_fn=<MseLossBackward0>)]\n"
          ]
        },
        {
          "output_type": "stream",
          "name": "stdout",
          "text": [
            "0.05121146244928241 0.9455019034261671 0.9078225111121021 0.9604221635883905 0.8278999241849886 0.8278999241849886 0.8575092956564649 0.9541475064459277 0.8892508143322475\n",
            "Epoch: 320 / 500, ############## the best accuracy in val  94.5903 at Epoch: 202  ##############\n",
            "Performance in Val: Loss: (0.0512); Accuracy (94.55)\n"
          ]
        },
        {
          "output_type": "stream",
          "name": "stderr",
          "text": [
            "Epoch 321: 100%|██████████| 1400/1400 [00:20<00:00, 68.38batch/s, train_loss=tensor(0.0086, device='cuda:0', grad_fn=<MseLossBackward0>)]\n"
          ]
        },
        {
          "output_type": "stream",
          "name": "stdout",
          "text": [
            "0.05137226926162839 0.9447004608294931 0.9077636677617724 0.9554585152838428 0.8294162244124337 0.8294162244124337 0.8552732192897691 0.9552628460195466 0.887987012987013\n",
            "Epoch: 321 / 500, ############## the best accuracy in val  94.5903 at Epoch: 202  ##############\n",
            "Performance in Val: Loss: (0.0514); Accuracy (94.47)\n"
          ]
        },
        {
          "output_type": "stream",
          "name": "stderr",
          "text": [
            "Epoch 322: 100%|██████████| 1400/1400 [00:20<00:00, 69.21batch/s, train_loss=tensor(0.0071, device='cuda:0', grad_fn=<MseLossBackward0>)]\n"
          ]
        },
        {
          "output_type": "stream",
          "name": "stdout",
          "text": [
            "0.051235946174710986 0.9449008214786616 0.907414014380076 0.9578947368421052 0.8278999241849886 0.8278999241849886 0.855855623641772 0.9554759208881094 0.8881659211061407\n",
            "Epoch: 322 / 500, ############## the best accuracy in val  94.5903 at Epoch: 202  ##############\n",
            "Performance in Val: Loss: (0.0512); Accuracy (94.49)\n"
          ]
        },
        {
          "output_type": "stream",
          "name": "stderr",
          "text": [
            "Epoch 323: 100%|██████████| 1400/1400 [00:20<00:00, 68.30batch/s, train_loss=tensor(0.0089, device='cuda:0', grad_fn=<MseLossBackward0>)]\n"
          ]
        },
        {
          "output_type": "stream",
          "name": "stdout",
          "text": [
            "0.05190040143206716 0.9440993788819876 0.9068693520707078 0.9545454545454546 0.8278999241849886 0.8278999241849886 0.8536593503806491 0.9527550869560191 0.8867235079171742\n",
            "Epoch: 323 / 500, ############## the best accuracy in val  94.5903 at Epoch: 202  ##############\n",
            "Performance in Val: Loss: (0.0519); Accuracy (94.41)\n"
          ]
        },
        {
          "output_type": "stream",
          "name": "stderr",
          "text": [
            "Epoch 324: 100%|██████████| 1400/1400 [00:20<00:00, 69.19batch/s, train_loss=tensor(0.0073, device='cuda:0', grad_fn=<MseLossBackward0>)]\n"
          ]
        },
        {
          "output_type": "stream",
          "name": "stdout",
          "text": [
            "0.051648381911218164 0.9438990182328191 0.9074619149319234 0.9513466550825369 0.8301743745261562 0.8301743745261562 0.8530755161644815 0.9553134306540407 0.8866396761133604\n",
            "Epoch: 324 / 500, ############## the best accuracy in val  94.5903 at Epoch: 202  ##############\n",
            "Performance in Val: Loss: (0.0516); Accuracy (94.39)\n"
          ]
        },
        {
          "output_type": "stream",
          "name": "stderr",
          "text": [
            "Epoch 325: 100%|██████████| 1400/1400 [00:20<00:00, 67.40batch/s, train_loss=tensor(0.0093, device='cuda:0', grad_fn=<MseLossBackward0>)]\n"
          ]
        },
        {
          "output_type": "stream",
          "name": "stdout",
          "text": [
            "0.051121956575661896 0.942696854337808 0.9059161930293135 0.94874022589053 0.8278999241849886 0.8278999241849886 0.8498393425207779 0.9552950550113062 0.8842105263157894\n",
            "Epoch: 325 / 500, ############## the best accuracy in val  94.5903 at Epoch: 202  ##############\n",
            "Performance in Val: Loss: (0.0511); Accuracy (94.27)\n"
          ]
        },
        {
          "output_type": "stream",
          "name": "stderr",
          "text": [
            "Epoch 326: 100%|██████████| 1400/1400 [00:20<00:00, 67.88batch/s, train_loss=tensor(0.0061, device='cuda:0', grad_fn=<MseLossBackward0>)]\n"
          ]
        },
        {
          "output_type": "stream",
          "name": "stdout",
          "text": [
            "0.05150849316269159 0.9440993788819876 0.9068693520707078 0.9545454545454546 0.8278999241849886 0.8278999241849886 0.8536593503806491 0.9546859747184191 0.8867235079171742\n",
            "Epoch: 326 / 500, ############## the best accuracy in val  94.5903 at Epoch: 202  ##############\n",
            "Performance in Val: Loss: (0.0515); Accuracy (94.41)\n"
          ]
        },
        {
          "output_type": "stream",
          "name": "stderr",
          "text": [
            "Epoch 327: 100%|██████████| 1400/1400 [00:20<00:00, 67.95batch/s, train_loss=tensor(0.0069, device='cuda:0', grad_fn=<MseLossBackward0>)]\n"
          ]
        },
        {
          "output_type": "stream",
          "name": "stdout",
          "text": [
            "0.05134763913229108 0.9440993788819876 0.9068693520707078 0.9545454545454546 0.8278999241849886 0.8278999241849886 0.8536593503806491 0.9558911278267519 0.8867235079171742\n",
            "Epoch: 327 / 500, ############## the best accuracy in val  94.5903 at Epoch: 202  ##############\n",
            "Performance in Val: Loss: (0.0513); Accuracy (94.41)\n"
          ]
        },
        {
          "output_type": "stream",
          "name": "stderr",
          "text": [
            "Epoch 328: 100%|██████████| 1400/1400 [00:21<00:00, 66.45batch/s, train_loss=tensor(0.0088, device='cuda:0', grad_fn=<MseLossBackward0>)]\n"
          ]
        },
        {
          "output_type": "stream",
          "name": "stdout",
          "text": [
            "0.0516742960549891 0.9449008214786616 0.9083856522981528 0.9547038327526133 0.8309325246398787 0.8309325246398787 0.8557916981504193 0.9553010425802871 0.8885285772192948\n",
            "Epoch: 328 / 500, ############## the best accuracy in val  94.5903 at Epoch: 202  ##############\n",
            "Performance in Val: Loss: (0.0517); Accuracy (94.49)\n"
          ]
        },
        {
          "output_type": "stream",
          "name": "stderr",
          "text": [
            "Epoch 329: 100%|██████████| 1400/1400 [00:20<00:00, 67.13batch/s, train_loss=tensor(0.0063, device='cuda:0', grad_fn=<MseLossBackward0>)]\n"
          ]
        },
        {
          "output_type": "stream",
          "name": "stdout",
          "text": [
            "0.05156794590875506 0.9455019034261671 0.9095228774687366 0.9548218940052129 0.8332069749810462 0.8332069749810462 0.8573904143560863 0.9555688314412616 0.8898785425101214\n",
            "Epoch: 329 / 500, ############## the best accuracy in val  94.5903 at Epoch: 202  ##############\n",
            "Performance in Val: Loss: (0.0516); Accuracy (94.55)\n"
          ]
        },
        {
          "output_type": "stream",
          "name": "stderr",
          "text": [
            "Epoch 330: 100%|██████████| 1400/1400 [00:20<00:00, 67.18batch/s, train_loss=tensor(0.0066, device='cuda:0', grad_fn=<MseLossBackward0>)]\n"
          ]
        },
        {
          "output_type": "stream",
          "name": "stdout",
          "text": [
            "0.05134087186306715 0.9440993788819876 0.9066264425911886 0.9553415061295972 0.8271417740712661 0.8271417740712661 0.853674559716789 0.9562720610946763 0.8866314506298252\n",
            "Epoch: 330 / 500, ############## the best accuracy in val  94.5903 at Epoch: 202  ##############\n",
            "Performance in Val: Loss: (0.0513); Accuracy (94.41)\n"
          ]
        },
        {
          "output_type": "stream",
          "name": "stderr",
          "text": [
            "Epoch 331: 100%|██████████| 1400/1400 [00:20<00:00, 68.38batch/s, train_loss=tensor(0.0082, device='cuda:0', grad_fn=<MseLossBackward0>)]\n"
          ]
        },
        {
          "output_type": "stream",
          "name": "stdout",
          "text": [
            "0.051639571134001014 0.9428972149869765 0.9053236301680979 0.9519230769230769 0.8256254738438211 0.8256254738438211 0.8504162455644825 0.9534502643614938 0.8842874543239951\n",
            "Epoch: 331 / 500, ############## the best accuracy in val  94.5903 at Epoch: 202  ##############\n",
            "Performance in Val: Loss: (0.0516); Accuracy (94.29)\n"
          ]
        },
        {
          "output_type": "stream",
          "name": "stderr",
          "text": [
            "Epoch 332: 100%|██████████| 1400/1400 [00:21<00:00, 66.33batch/s, train_loss=tensor(0.0087, device='cuda:0', grad_fn=<MseLossBackward0>)]\n"
          ]
        },
        {
          "output_type": "stream",
          "name": "stdout",
          "text": [
            "0.05097177280113101 0.9449008214786616 0.9086285617776722 0.9539130434782609 0.8316906747536013 0.8316906747536013 0.855778507242815 0.9568718503322482 0.8886188740380722\n",
            "Epoch: 332 / 500, ############## the best accuracy in val  94.5903 at Epoch: 202  ##############\n",
            "Performance in Val: Loss: (0.0510); Accuracy (94.49)\n"
          ]
        },
        {
          "output_type": "stream",
          "name": "stderr",
          "text": [
            "Epoch 333: 100%|██████████| 1400/1400 [00:20<00:00, 68.27batch/s, train_loss=tensor(0.0102, device='cuda:0', grad_fn=<MseLossBackward0>)]\n"
          ]
        },
        {
          "output_type": "stream",
          "name": "stdout",
          "text": [
            "0.05135089531540871 0.9451011821278301 0.9085218178754949 0.955536181342633 0.8309325246398787 0.8309325246398787 0.8563387311130546 0.9551059304186673 0.8888888888888887\n",
            "Epoch: 333 / 500, ############## the best accuracy in val  94.5903 at Epoch: 202  ##############\n",
            "Performance in Val: Loss: (0.0514); Accuracy (94.51)\n"
          ]
        },
        {
          "output_type": "stream",
          "name": "stderr",
          "text": [
            "Epoch 334: 100%|██████████| 1400/1400 [00:20<00:00, 67.72batch/s, train_loss=tensor(0.0077, device='cuda:0', grad_fn=<MseLossBackward0>)]\n"
          ]
        },
        {
          "output_type": "stream",
          "name": "stdout",
          "text": [
            "0.05129306521266699 0.9453015427769986 0.908657983452837 0.956369982547993 0.8309325246398787 0.8309325246398787 0.856886373205023 0.9557325604827054 0.8892494929006084\n",
            "Epoch: 334 / 500, ############## the best accuracy in val  94.5903 at Epoch: 202  ##############\n",
            "Performance in Val: Loss: (0.0513); Accuracy (94.53)\n"
          ]
        },
        {
          "output_type": "stream",
          "name": "stderr",
          "text": [
            "Epoch 335: 100%|██████████| 1400/1400 [00:20<00:00, 67.80batch/s, train_loss=tensor(0.0074, device='cuda:0', grad_fn=<MseLossBackward0>)]\n"
          ]
        },
        {
          "output_type": "stream",
          "name": "stdout",
          "text": [
            "0.0514908597804606 0.9445001001803246 0.9071416832253919 0.9562171628721541 0.8278999241849886 0.8278999241849886 0.854756259713348 0.9553344903794219 0.8874441284030882\n",
            "Epoch: 335 / 500, ############## the best accuracy in val  94.5903 at Epoch: 202  ##############\n",
            "Performance in Val: Loss: (0.0515); Accuracy (94.45)\n"
          ]
        },
        {
          "output_type": "stream",
          "name": "stderr",
          "text": [
            "Epoch 336: 100%|██████████| 1400/1400 [00:20<00:00, 69.87batch/s, train_loss=tensor(0.0089, device='cuda:0', grad_fn=<MseLossBackward0>)]\n"
          ]
        },
        {
          "output_type": "stream",
          "name": "stdout",
          "text": [
            "0.05177891189232468 0.9428972149869765 0.9058094491271363 0.9503484320557491 0.8271417740712661 0.8271417740712661 0.8503931409922576 0.9532278984376161 0.88447507093636\n",
            "Epoch: 336 / 500, ############## the best accuracy in val  94.5903 at Epoch: 202  ##############\n",
            "Performance in Val: Loss: (0.0518); Accuracy (94.29)\n"
          ]
        },
        {
          "output_type": "stream",
          "name": "stderr",
          "text": [
            "Epoch 337: 100%|██████████| 1400/1400 [00:20<00:00, 68.92batch/s, train_loss=tensor(0.0059, device='cuda:0', grad_fn=<MseLossBackward0>)]\n"
          ]
        },
        {
          "output_type": "stream",
          "name": "stdout",
          "text": [
            "0.050863729976117614 0.9434982969344821 0.9062179458591625 0.9528384279475982 0.8271417740712661 0.8271417740712661 0.8520311095769826 0.9557090231425734 0.885551948051948\n",
            "Epoch: 337 / 500, ############## the best accuracy in val  94.5903 at Epoch: 202  ##############\n",
            "Performance in Val: Loss: (0.0509); Accuracy (94.35)\n"
          ]
        },
        {
          "output_type": "stream",
          "name": "stderr",
          "text": [
            "Epoch 338: 100%|██████████| 1400/1400 [00:20<00:00, 68.63batch/s, train_loss=tensor(0.0055, device='cuda:0', grad_fn=<MseLossBackward0>)]\n"
          ]
        },
        {
          "output_type": "stream",
          "name": "stdout",
          "text": [
            "0.05080109750851989 0.9447004608294931 0.9087353056798493 0.9522983521248916 0.8324488248673237 0.8324488248673237 0.8552217623954532 0.9573756319982294 0.8883495145631067\n",
            "Epoch: 338 / 500, ############## the best accuracy in val  94.5903 at Epoch: 202  ##############\n",
            "Performance in Val: Loss: (0.0508); Accuracy (94.47)\n"
          ]
        },
        {
          "output_type": "stream",
          "name": "stderr",
          "text": [
            "Epoch 339: 100%|██████████| 1400/1400 [00:20<00:00, 69.65batch/s, train_loss=tensor(0.0098, device='cuda:0', grad_fn=<MseLossBackward0>)]\n"
          ]
        },
        {
          "output_type": "stream",
          "name": "stdout",
          "text": [
            "0.05098258536309004 0.9445001001803246 0.9071416832253919 0.9562171628721541 0.8278999241849886 0.8278999241849886 0.854756259713348 0.9561725435688553 0.8874441284030882\n",
            "Epoch: 339 / 500, ############## the best accuracy in val  94.5903 at Epoch: 202  ##############\n",
            "Performance in Val: Loss: (0.0510); Accuracy (94.45)\n"
          ]
        },
        {
          "output_type": "stream",
          "name": "stderr",
          "text": [
            "Epoch 340: 100%|██████████| 1400/1400 [00:20<00:00, 67.62batch/s, train_loss=tensor(0.0089, device='cuda:0', grad_fn=<MseLossBackward0>)]\n"
          ]
        },
        {
          "output_type": "stream",
          "name": "stdout",
          "text": [
            "0.051593814976513386 0.9440993788819876 0.9068693520707078 0.9545454545454546 0.8278999241849886 0.8278999241849886 0.8536593503806491 0.9555770901570972 0.8867235079171742\n",
            "Epoch: 340 / 500, ############## the best accuracy in val  94.5903 at Epoch: 202  ##############\n",
            "Performance in Val: Loss: (0.0516); Accuracy (94.41)\n"
          ]
        },
        {
          "output_type": "stream",
          "name": "stderr",
          "text": [
            "Epoch 341: 100%|██████████| 1400/1400 [00:20<00:00, 68.70batch/s, train_loss=tensor(0.0064, device='cuda:0', grad_fn=<MseLossBackward0>)]\n"
          ]
        },
        {
          "output_type": "stream",
          "name": "stdout",
          "text": [
            "0.051401860732585195 0.9428972149869765 0.9058094491271363 0.9503484320557491 0.8271417740712661 0.8271417740712661 0.8503931409922576 0.9558618093855351 0.88447507093636\n",
            "Epoch: 341 / 500, ############## the best accuracy in val  94.5903 at Epoch: 202  ##############\n",
            "Performance in Val: Loss: (0.0514); Accuracy (94.29)\n"
          ]
        },
        {
          "output_type": "stream",
          "name": "stderr",
          "text": [
            "Epoch 342: 100%|██████████| 1400/1400 [00:20<00:00, 68.72batch/s, train_loss=tensor(0.0071, device='cuda:0', grad_fn=<MseLossBackward0>)]\n"
          ]
        },
        {
          "output_type": "stream",
          "name": "stdout",
          "text": [
            "0.051246936060488225 0.9442997395311561 0.9072484271275691 0.9545851528384279 0.8286580742987112 0.8286580742987112 0.8541925160521735 0.9550551393162774 0.8871753246753248\n",
            "Epoch: 342 / 500, ############## the best accuracy in val  94.5903 at Epoch: 202  ##############\n",
            "Performance in Val: Loss: (0.0512); Accuracy (94.43)\n"
          ]
        },
        {
          "output_type": "stream",
          "name": "stderr",
          "text": [
            "Epoch 343: 100%|██████████| 1400/1400 [00:20<00:00, 69.63batch/s, train_loss=tensor(0.0075, device='cuda:0', grad_fn=<MseLossBackward0>)]\n"
          ]
        },
        {
          "output_type": "stream",
          "name": "stdout",
          "text": [
            "0.05165175721049309 0.9442997395311561 0.9077342460866076 0.9530026109660574 0.8301743745261562 0.8301743745261562 0.854165891057518 0.9536856377628129 0.8873581847649918\n",
            "Epoch: 343 / 500, ############## the best accuracy in val  94.5903 at Epoch: 202  ##############\n",
            "Performance in Val: Loss: (0.0517); Accuracy (94.43)\n"
          ]
        },
        {
          "output_type": "stream",
          "name": "stderr",
          "text": [
            "Epoch 344: 100%|██████████| 1400/1400 [00:20<00:00, 69.52batch/s, train_loss=tensor(0.0061, device='cuda:0', grad_fn=<MseLossBackward0>)]\n"
          ]
        },
        {
          "output_type": "stream",
          "name": "stdout",
          "text": [
            "0.05081121800467372 0.943097575636145 0.90545979574544 0.952755905511811 0.8256254738438211 0.8256254738438211 0.850963397324195 0.9559336602133062 0.884646628757108\n",
            "Epoch: 344 / 500, ############## the best accuracy in val  94.5903 at Epoch: 202  ##############\n",
            "Performance in Val: Loss: (0.0508); Accuracy (94.31)\n"
          ]
        },
        {
          "output_type": "stream",
          "name": "stderr",
          "text": [
            "Epoch 345: 100%|██████████| 1400/1400 [00:20<00:00, 69.82batch/s, train_loss=tensor(0.0062, device='cuda:0', grad_fn=<MseLossBackward0>)]\n"
          ]
        },
        {
          "output_type": "stream",
          "name": "stdout",
          "text": [
            "0.05103411739692092 0.943097575636145 0.9061885241839975 0.9503916449086162 0.8278999241849886 0.8278999241849886 0.8509277452825628 0.9570139002446232 0.8849270664505672\n",
            "Epoch: 345 / 500, ############## the best accuracy in val  94.5903 at Epoch: 202  ##############\n",
            "Performance in Val: Loss: (0.0510); Accuracy (94.31)\n"
          ]
        },
        {
          "output_type": "stream",
          "name": "stderr",
          "text": [
            "Epoch 346: 100%|██████████| 1400/1400 [00:19<00:00, 71.26batch/s, train_loss=tensor(0.0094, device='cuda:0', grad_fn=<MseLossBackward0>)]\n"
          ]
        },
        {
          "output_type": "stream",
          "name": "stdout",
          "text": [
            "0.05111770108342171 0.9455019034261671 0.9100086964277752 0.9532467532467532 0.8347232752084913 0.8347232752084913 0.8573664929638755 0.9541980910804218 0.8900565885206144\n",
            "Epoch: 346 / 500, ############## the best accuracy in val  94.5903 at Epoch: 202  ##############\n",
            "Performance in Val: Loss: (0.0511); Accuracy (94.55)\n"
          ]
        },
        {
          "output_type": "stream",
          "name": "stderr",
          "text": [
            "Epoch 347: 100%|██████████| 1400/1400 [00:19<00:00, 70.61batch/s, train_loss=tensor(0.0085, device='cuda:0', grad_fn=<MseLossBackward0>)]\n"
          ]
        },
        {
          "output_type": "stream",
          "name": "stdout",
          "text": [
            "0.051076439395546916 0.9438990182328191 0.9062473675343274 0.9553023663453112 0.8263836239575436 0.8263836239575436 0.853141567465284 0.9559152845705715 0.8861788617886179\n",
            "Epoch: 347 / 500, ############## the best accuracy in val  94.5903 at Epoch: 202  ##############\n",
            "Performance in Val: Loss: (0.0511); Accuracy (94.39)\n"
          ]
        },
        {
          "output_type": "stream",
          "name": "stderr",
          "text": [
            "Epoch 348: 100%|██████████| 1400/1400 [00:19<00:00, 71.44batch/s, train_loss=tensor(0.0084, device='cuda:0', grad_fn=<MseLossBackward0>)]\n"
          ]
        },
        {
          "output_type": "stream",
          "name": "stdout",
          "text": [
            "0.051316593680530785 0.9445001001803246 0.9076275021844303 0.9546247818499127 0.8294162244124337 0.8294162244124337 0.8547256290314235 0.9542796458992998 0.8876267748478702\n",
            "Epoch: 348 / 500, ############## the best accuracy in val  94.5903 at Epoch: 202  ##############\n",
            "Performance in Val: Loss: (0.0513); Accuracy (94.45)\n"
          ]
        },
        {
          "output_type": "stream",
          "name": "stderr",
          "text": [
            "Epoch 349: 100%|██████████| 1400/1400 [00:19<00:00, 72.43batch/s, train_loss=tensor(0.0087, device='cuda:0', grad_fn=<MseLossBackward0>)]\n"
          ]
        },
        {
          "output_type": "stream",
          "name": "stdout",
          "text": [
            "0.05090482821688056 0.9445001001803246 0.908356230622988 0.9522569444444444 0.8316906747536013 0.8316906747536013 0.8546880276361251 0.956074058382514 0.8878996357749899\n",
            "Epoch: 349 / 500, ############## the best accuracy in val  94.5903 at Epoch: 202  ##############\n",
            "Performance in Val: Loss: (0.0509); Accuracy (94.45)\n"
          ]
        },
        {
          "output_type": "stream",
          "name": "stderr",
          "text": [
            "Epoch 350: 100%|██████████| 1400/1400 [00:19<00:00, 71.66batch/s, train_loss=tensor(0.0078, device='cuda:0', grad_fn=<MseLossBackward0>)]\n"
          ]
        },
        {
          "output_type": "stream",
          "name": "stdout",
          "text": [
            "0.05105233769863844 0.942696854337808 0.9049445551112366 0.9518810148731408 0.8248673237300985 0.8248673237300985 0.8498820301328683 0.9545581710908607 0.883834281072299\n",
            "Epoch: 350 / 500, ############## the best accuracy in val  94.5903 at Epoch: 202  ##############\n",
            "Performance in Val: Loss: (0.0511); Accuracy (94.27)\n"
          ]
        },
        {
          "output_type": "stream",
          "name": "stderr",
          "text": [
            "Epoch 351: 100%|██████████| 1400/1400 [00:19<00:00, 71.52batch/s, train_loss=tensor(0.0060, device='cuda:0', grad_fn=<MseLossBackward0>)]\n"
          ]
        },
        {
          "output_type": "stream",
          "name": "stdout",
          "text": [
            "0.05088129220530391 0.9449008214786616 0.9078998333391144 0.9562937062937062 0.8294162244124337 0.8294162244124337 0.8558214202580936 0.9564219567870953 0.8883475436459601\n",
            "Epoch: 351 / 500, ############## the best accuracy in val  94.5903 at Epoch: 202  ##############\n",
            "Performance in Val: Loss: (0.0509); Accuracy (94.49)\n"
          ]
        },
        {
          "output_type": "stream",
          "name": "stderr",
          "text": [
            "Epoch 352: 100%|██████████| 1400/1400 [00:19<00:00, 70.78batch/s, train_loss=tensor(0.0062, device='cuda:0', grad_fn=<MseLossBackward0>)]\n"
          ]
        },
        {
          "output_type": "stream",
          "name": "stdout",
          "text": [
            "0.05102430963888764 0.9442997395311561 0.9074913366070883 0.953792502179599 0.8294162244124337 0.8294162244124337 0.8541786481426707 0.95482823109869 0.8872668288726683\n",
            "Epoch: 352 / 500, ############## the best accuracy in val  94.5903 at Epoch: 202  ##############\n",
            "Performance in Val: Loss: (0.0510); Accuracy (94.43)\n"
          ]
        },
        {
          "output_type": "stream",
          "name": "stderr",
          "text": [
            "Epoch 353: 100%|██████████| 1400/1400 [00:19<00:00, 71.30batch/s, train_loss=tensor(0.0082, device='cuda:0', grad_fn=<MseLossBackward0>)]\n"
          ]
        },
        {
          "output_type": "stream",
          "name": "stdout",
          "text": [
            "0.05123839033767581 0.9434982969344821 0.9064608553386817 0.9520488230165649 0.8278999241849886 0.8278999241849886 0.8520185651722869 0.9547770270605084 0.8856447688564476\n",
            "Epoch: 353 / 500, ############## the best accuracy in val  94.5903 at Epoch: 202  ##############\n",
            "Performance in Val: Loss: (0.0512); Accuracy (94.35)\n"
          ]
        },
        {
          "output_type": "stream",
          "name": "stderr",
          "text": [
            "Epoch 354: 100%|██████████| 1400/1400 [00:19<00:00, 72.09batch/s, train_loss=tensor(0.0050, device='cuda:0', grad_fn=<MseLossBackward0>)]\n"
          ]
        },
        {
          "output_type": "stream",
          "name": "stdout",
          "text": [
            "0.05125330500304699 0.9434982969344821 0.9062179458591625 0.9528384279475982 0.8271417740712661 0.8271417740712661 0.8520311095769826 0.9543178424600401 0.885551948051948\n",
            "Epoch: 354 / 500, ############## the best accuracy in val  94.5903 at Epoch: 202  ##############\n",
            "Performance in Val: Loss: (0.0513); Accuracy (94.35)\n"
          ]
        },
        {
          "output_type": "stream",
          "name": "stderr",
          "text": [
            "Epoch 355: 100%|██████████| 1400/1400 [00:19<00:00, 70.59batch/s, train_loss=tensor(0.0067, device='cuda:0', grad_fn=<MseLossBackward0>)]\n"
          ]
        },
        {
          "output_type": "stream",
          "name": "stdout",
          "text": [
            "0.05136370537802577 0.9436986575836506 0.906839930395543 0.9520905923344948 0.8286580742987112 0.8286580742987112 0.8525525638555222 0.9546616115067035 0.8860964734495338\n",
            "Epoch: 355 / 500, ############## the best accuracy in val  94.5903 at Epoch: 202  ##############\n",
            "Performance in Val: Loss: (0.0514); Accuracy (94.37)\n"
          ]
        },
        {
          "output_type": "stream",
          "name": "stderr",
          "text": [
            "Epoch 356: 100%|██████████| 1400/1400 [00:19<00:00, 71.17batch/s, train_loss=tensor(0.0051, device='cuda:0', grad_fn=<MseLossBackward0>)]\n"
          ]
        },
        {
          "output_type": "stream",
          "name": "stdout",
          "text": [
            "0.05113638741895556 0.9434982969344821 0.9069466742977201 0.950477845351868 0.8294162244124337 0.8294162244124337 0.8519967916165803 0.9565303524324396 0.8858299595141701\n",
            "Epoch: 356 / 500, ############## the best accuracy in val  94.5903 at Epoch: 202  ##############\n",
            "Performance in Val: Loss: (0.0511); Accuracy (94.35)\n"
          ]
        },
        {
          "output_type": "stream",
          "name": "stderr",
          "text": [
            "Epoch 357: 100%|██████████| 1400/1400 [00:19<00:00, 70.90batch/s, train_loss=tensor(0.0068, device='cuda:0', grad_fn=<MseLossBackward0>)]\n"
          ]
        },
        {
          "output_type": "stream",
          "name": "stdout",
          "text": [
            "0.05104124639183283 0.9432979362853136 0.9058388708023013 0.9527972027972028 0.8263836239575436 0.8263836239575436 0.8514972805032046 0.9560790136120154 0.8850994721883881\n",
            "Epoch: 357 / 500, ############## the best accuracy in val  94.5903 at Epoch: 202  ##############\n",
            "Performance in Val: Loss: (0.0510); Accuracy (94.33)\n"
          ]
        },
        {
          "output_type": "stream",
          "name": "stderr",
          "text": [
            "Epoch 358: 100%|██████████| 1400/1400 [00:19<00:00, 71.27batch/s, train_loss=tensor(0.0079, device='cuda:0', grad_fn=<MseLossBackward0>)]\n"
          ]
        },
        {
          "output_type": "stream",
          "name": "stdout",
          "text": [
            "0.0514709860086441 0.9442997395311561 0.9084629745251651 0.9506493506493506 0.8324488248673237 0.8324488248673237 0.85413424404261 0.9544501883813081 0.8876313662085691\n",
            "Epoch: 358 / 500, ############## the best accuracy in val  94.5903 at Epoch: 202  ##############\n",
            "Performance in Val: Loss: (0.0515); Accuracy (94.43)\n"
          ]
        },
        {
          "output_type": "stream",
          "name": "stderr",
          "text": [
            "Epoch 359: 100%|██████████| 1400/1400 [00:19<00:00, 72.29batch/s, train_loss=tensor(0.0072, device='cuda:0', grad_fn=<MseLossBackward0>)]\n"
          ]
        },
        {
          "output_type": "stream",
          "name": "stdout",
          "text": [
            "0.051760933641344306 0.9445001001803246 0.9068987737458727 0.9570175438596491 0.8271417740712661 0.8271417740712661 0.8547732563722449 0.9520706458811306 0.887352582350549\n",
            "Epoch: 359 / 500, ############## the best accuracy in val  94.5903 at Epoch: 202  ##############\n",
            "Performance in Val: Loss: (0.0518); Accuracy (94.45)\n"
          ]
        },
        {
          "output_type": "stream",
          "name": "stderr",
          "text": [
            "Epoch 360: 100%|██████████| 1400/1400 [00:19<00:00, 71.36batch/s, train_loss=tensor(0.0094, device='cuda:0', grad_fn=<MseLossBackward0>)]\n"
          ]
        },
        {
          "output_type": "stream",
          "name": "stdout",
          "text": [
            "0.051431643217802046 0.9440993788819876 0.9073551710297463 0.9529616724738676 0.8294162244124337 0.8294162244124337 0.8536322752871546 0.9546046263674368 0.8869071747061208\n",
            "Epoch: 360 / 500, ############## the best accuracy in val  94.5903 at Epoch: 202  ##############\n",
            "Performance in Val: Loss: (0.0514); Accuracy (94.41)\n"
          ]
        },
        {
          "output_type": "stream",
          "name": "stderr",
          "text": [
            "Epoch 361: 100%|██████████| 1400/1400 [00:19<00:00, 72.21batch/s, train_loss=tensor(0.0055, device='cuda:0', grad_fn=<MseLossBackward0>)]\n"
          ]
        },
        {
          "output_type": "stream",
          "name": "stdout",
          "text": [
            "0.051207325980067255 0.9438990182328191 0.9060044580548081 0.9561018437225637 0.8256254738438211 0.8256254738438211 0.8531581242490781 0.9554951224024274 0.8860862489829129\n",
            "Epoch: 361 / 500, ############## the best accuracy in val  94.5903 at Epoch: 202  ##############\n",
            "Performance in Val: Loss: (0.0512); Accuracy (94.39)\n"
          ]
        },
        {
          "output_type": "stream",
          "name": "stderr",
          "text": [
            "Epoch 362: 100%|██████████| 1400/1400 [00:19<00:00, 71.92batch/s, train_loss=tensor(0.0060, device='cuda:0', grad_fn=<MseLossBackward0>)]\n"
          ]
        },
        {
          "output_type": "stream",
          "name": "stdout",
          "text": [
            "0.05156736522912979 0.9447004608294931 0.9080065772412915 0.9546643417611159 0.8301743745261562 0.8301743745261562 0.8552586896278627 0.9544733127856483 0.8880778588807786\n",
            "Epoch: 362 / 500, ############## the best accuracy in val  94.5903 at Epoch: 202  ##############\n",
            "Performance in Val: Loss: (0.0516); Accuracy (94.47)\n"
          ]
        },
        {
          "output_type": "stream",
          "name": "stderr",
          "text": [
            "Epoch 363: 100%|██████████| 1400/1400 [00:19<00:00, 70.46batch/s, train_loss=tensor(0.0047, device='cuda:0', grad_fn=<MseLossBackward0>)]\n"
          ]
        },
        {
          "output_type": "stream",
          "name": "stdout",
          "text": [
            "0.05135061349719763 0.9442997395311561 0.9077342460866076 0.9530026109660574 0.8301743745261562 0.8301743745261562 0.854165891057518 0.9544735192535442 0.8873581847649918\n",
            "Epoch: 363 / 500, ############## the best accuracy in val  94.5903 at Epoch: 202  ##############\n",
            "Performance in Val: Loss: (0.0514); Accuracy (94.43)\n"
          ]
        },
        {
          "output_type": "stream",
          "name": "stderr",
          "text": [
            "Epoch 364: 100%|██████████| 1400/1400 [00:19<00:00, 71.88batch/s, train_loss=tensor(0.0058, device='cuda:0', grad_fn=<MseLossBackward0>)]\n"
          ]
        },
        {
          "output_type": "stream",
          "name": "stdout",
          "text": [
            "0.05132263656705618 0.9434982969344821 0.9064608553386817 0.9520488230165649 0.8278999241849886 0.8278999241849886 0.8520185651722869 0.9542261707142633 0.8856447688564476\n",
            "Epoch: 364 / 500, ############## the best accuracy in val  94.5903 at Epoch: 202  ##############\n",
            "Performance in Val: Loss: (0.0513); Accuracy (94.35)\n"
          ]
        },
        {
          "output_type": "stream",
          "name": "stderr",
          "text": [
            "Epoch 365: 100%|██████████| 1400/1400 [00:19<00:00, 70.52batch/s, train_loss=tensor(0.0101, device='cuda:0', grad_fn=<MseLossBackward0>)]\n"
          ]
        },
        {
          "output_type": "stream",
          "name": "stdout",
          "text": [
            "0.05156356506049633 0.9445001001803246 0.9076275021844303 0.9546247818499127 0.8294162244124337 0.8294162244124337 0.8547256290314235 0.9534211523881728 0.8876267748478702\n",
            "Epoch: 365 / 500, ############## the best accuracy in val  94.5903 at Epoch: 202  ##############\n",
            "Performance in Val: Loss: (0.0516); Accuracy (94.45)\n"
          ]
        },
        {
          "output_type": "stream",
          "name": "stderr",
          "text": [
            "Epoch 366: 100%|██████████| 1400/1400 [00:19<00:00, 70.71batch/s, train_loss=tensor(0.0070, device='cuda:0', grad_fn=<MseLossBackward0>)]\n"
          ]
        },
        {
          "output_type": "stream",
          "name": "stdout",
          "text": [
            "0.0513589926995337 0.9428972149869765 0.9055665396476171 0.9511343804537522 0.8263836239575436 0.8263836239575436 0.8504041406842244 0.9550330472514168 0.8843813387423934\n",
            "Epoch: 366 / 500, ############## the best accuracy in val  94.5903 at Epoch: 202  ##############\n",
            "Performance in Val: Loss: (0.0514); Accuracy (94.29)\n"
          ]
        },
        {
          "output_type": "stream",
          "name": "stderr",
          "text": [
            "Epoch 367: 100%|██████████| 1400/1400 [00:20<00:00, 68.68batch/s, train_loss=tensor(0.0070, device='cuda:0', grad_fn=<MseLossBackward0>)]\n"
          ]
        },
        {
          "output_type": "stream",
          "name": "stdout",
          "text": [
            "0.0514126593247056 0.9434982969344821 0.9062179458591625 0.9528384279475982 0.8271417740712661 0.8271417740712661 0.8520311095769826 0.9547252036186389 0.885551948051948\n",
            "Epoch: 367 / 500, ############## the best accuracy in val  94.5903 at Epoch: 202  ##############\n",
            "Performance in Val: Loss: (0.0514); Accuracy (94.35)\n"
          ]
        },
        {
          "output_type": "stream",
          "name": "stderr",
          "text": [
            "Epoch 368: 100%|██████████| 1400/1400 [00:19<00:00, 70.66batch/s, train_loss=tensor(0.0105, device='cuda:0', grad_fn=<MseLossBackward0>)]\n"
          ]
        },
        {
          "output_type": "stream",
          "name": "stdout",
          "text": [
            "0.05108110001310706 0.9449008214786616 0.9086285617776722 0.9539130434782609 0.8316906747536013 0.8316906747536013 0.855778507242815 0.9562596730209226 0.8886188740380722\n",
            "Epoch: 368 / 500, ############## the best accuracy in val  94.5903 at Epoch: 202  ##############\n",
            "Performance in Val: Loss: (0.0511); Accuracy (94.49)\n"
          ]
        },
        {
          "output_type": "stream",
          "name": "stderr",
          "text": [
            "Epoch 369: 100%|██████████| 1400/1400 [00:20<00:00, 69.76batch/s, train_loss=tensor(0.0076, device='cuda:0', grad_fn=<MseLossBackward0>)]\n"
          ]
        },
        {
          "output_type": "stream",
          "name": "stdout",
          "text": [
            "0.051058349572122096 0.9449008214786616 0.9086285617776722 0.9539130434782609 0.8316906747536013 0.8316906747536013 0.855778507242815 0.9562770163241777 0.8886188740380722\n",
            "Epoch: 369 / 500, ############## the best accuracy in val  94.5903 at Epoch: 202  ##############\n",
            "Performance in Val: Loss: (0.0511); Accuracy (94.49)\n"
          ]
        },
        {
          "output_type": "stream",
          "name": "stderr",
          "text": [
            "Epoch 370: 100%|██████████| 1400/1400 [00:19<00:00, 71.68batch/s, train_loss=tensor(0.0075, device='cuda:0', grad_fn=<MseLossBackward0>)]\n"
          ]
        },
        {
          "output_type": "stream",
          "name": "stdout",
          "text": [
            "0.05124774491414428 0.9434982969344821 0.9062179458591625 0.9528384279475982 0.8271417740712661 0.8271417740712661 0.8520311095769826 0.9555062716688055 0.885551948051948\n",
            "Epoch: 370 / 500, ############## the best accuracy in val  94.5903 at Epoch: 202  ##############\n",
            "Performance in Val: Loss: (0.0512); Accuracy (94.35)\n"
          ]
        },
        {
          "output_type": "stream",
          "name": "stderr",
          "text": [
            "Epoch 371: 100%|██████████| 1400/1400 [00:19<00:00, 71.63batch/s, train_loss=tensor(0.0056, device='cuda:0', grad_fn=<MseLossBackward0>)]\n"
          ]
        },
        {
          "output_type": "stream",
          "name": "stdout",
          "text": [
            "0.05127596091479063 0.9432979362853136 0.9065675992408588 0.9504347826086956 0.8286580742987112 0.8286580742987112 0.8514622953863442 0.9545315367322904 0.8853786958282707\n",
            "Epoch: 371 / 500, ############## the best accuracy in val  94.5903 at Epoch: 202  ##############\n",
            "Performance in Val: Loss: (0.0513); Accuracy (94.33)\n"
          ]
        },
        {
          "output_type": "stream",
          "name": "stderr",
          "text": [
            "Epoch 372: 100%|██████████| 1400/1400 [00:19<00:00, 70.46batch/s, train_loss=tensor(0.0095, device='cuda:0', grad_fn=<MseLossBackward0>)]\n"
          ]
        },
        {
          "output_type": "stream",
          "name": "stdout",
          "text": [
            "0.051742627285420895 0.9442997395311561 0.9067626081685307 0.9561787905346187 0.8271417740712661 0.8271417740712661 0.8542236008208575 0.9551156344097743 0.8869918699186992\n",
            "Epoch: 372 / 500, ############## the best accuracy in val  94.5903 at Epoch: 202  ##############\n",
            "Performance in Val: Loss: (0.0517); Accuracy (94.43)\n"
          ]
        },
        {
          "output_type": "stream",
          "name": "stderr",
          "text": [
            "Epoch 373: 100%|██████████| 1400/1400 [00:19<00:00, 70.58batch/s, train_loss=tensor(0.0070, device='cuda:0', grad_fn=<MseLossBackward0>)]\n"
          ]
        },
        {
          "output_type": "stream",
          "name": "stdout",
          "text": [
            "0.05161992311477661 0.9432979362853136 0.9060817802818204 0.9520069808027923 0.8271417740712661 0.8271417740712661 0.8514845127710242 0.9541483323175113 0.8851926977687626\n",
            "Epoch: 373 / 500, ############## the best accuracy in val  94.5903 at Epoch: 202  ##############\n",
            "Performance in Val: Loss: (0.0516); Accuracy (94.33)\n"
          ]
        },
        {
          "output_type": "stream",
          "name": "stderr",
          "text": [
            "Epoch 374: 100%|██████████| 1400/1400 [00:19<00:00, 72.22batch/s, train_loss=tensor(0.0081, device='cuda:0', grad_fn=<MseLossBackward0>)]\n"
          ]
        },
        {
          "output_type": "stream",
          "name": "stdout",
          "text": [
            "0.051684681139886376 0.9445001001803246 0.9073845927049111 0.9554195804195804 0.8286580742987112 0.8286580742987112 0.8547403853193714 0.9538563867127172 0.8875355257815672\n",
            "Epoch: 374 / 500, ############## the best accuracy in val  94.5903 at Epoch: 202  ##############\n",
            "Performance in Val: Loss: (0.0517); Accuracy (94.45)\n"
          ]
        },
        {
          "output_type": "stream",
          "name": "stderr",
          "text": [
            "Epoch 375: 100%|██████████| 1400/1400 [00:19<00:00, 71.62batch/s, train_loss=tensor(0.0068, device='cuda:0', grad_fn=<MseLossBackward0>)]\n"
          ]
        },
        {
          "output_type": "stream",
          "name": "stdout",
          "text": [
            "0.05178051237016916 0.9451011821278301 0.9090076368345333 0.9539530842745438 0.8324488248673237 0.8324488248673237 0.8563116898081852 0.9537265184062 0.8890688259109312\n",
            "Epoch: 375 / 500, ############## the best accuracy in val  94.5903 at Epoch: 202  ##############\n",
            "Performance in Val: Loss: (0.0518); Accuracy (94.51)\n"
          ]
        },
        {
          "output_type": "stream",
          "name": "stderr",
          "text": [
            "Epoch 376: 100%|██████████| 1400/1400 [00:19<00:00, 72.42batch/s, train_loss=tensor(0.0067, device='cuda:0', grad_fn=<MseLossBackward0>)]\n"
          ]
        },
        {
          "output_type": "stream",
          "name": "stdout",
          "text": [
            "0.0515282797627151 0.9432979362853136 0.9063246897613396 0.9512195121951219 0.8278999241849886 0.8278999241849886 0.8514728524238899 0.9557051002525515 0.8852857721929469\n",
            "Epoch: 376 / 500, ############## the best accuracy in val  94.5903 at Epoch: 202  ##############\n",
            "Performance in Val: Loss: (0.0515); Accuracy (94.33)\n"
          ]
        },
        {
          "output_type": "stream",
          "name": "stderr",
          "text": [
            "Epoch 377: 100%|██████████| 1400/1400 [00:19<00:00, 72.78batch/s, train_loss=tensor(0.0078, device='cuda:0', grad_fn=<MseLossBackward0>)]\n"
          ]
        },
        {
          "output_type": "stream",
          "name": "stdout",
          "text": [
            "0.05180054707452655 0.943097575636145 0.90545979574544 0.952755905511811 0.8256254738438211 0.8256254738438211 0.850963397324195 0.9533540503220074 0.884646628757108\n",
            "Epoch: 377 / 500, ############## the best accuracy in val  94.5903 at Epoch: 202  ##############\n",
            "Performance in Val: Loss: (0.0518); Accuracy (94.31)\n"
          ]
        },
        {
          "output_type": "stream",
          "name": "stderr",
          "text": [
            "Epoch 378: 100%|██████████| 1400/1400 [00:19<00:00, 72.38batch/s, train_loss=tensor(0.0074, device='cuda:0', grad_fn=<MseLossBackward0>)]\n"
          ]
        },
        {
          "output_type": "stream",
          "name": "stdout",
          "text": [
            "0.05124084921553731 0.9440993788819876 0.9068693520707078 0.9545454545454546 0.8278999241849886 0.8278999241849886 0.8536593503806491 0.9561787376057322 0.8867235079171742\n",
            "Epoch: 378 / 500, ############## the best accuracy in val  94.5903 at Epoch: 202  ##############\n",
            "Performance in Val: Loss: (0.0512); Accuracy (94.41)\n"
          ]
        },
        {
          "output_type": "stream",
          "name": "stderr",
          "text": [
            "Epoch 379: 100%|██████████| 1400/1400 [00:19<00:00, 72.36batch/s, train_loss=tensor(0.0074, device='cuda:0', grad_fn=<MseLossBackward0>)]\n"
          ]
        },
        {
          "output_type": "stream",
          "name": "stdout",
          "text": [
            "0.05148236518725753 0.9434982969344821 0.9064608553386817 0.9520488230165649 0.8278999241849886 0.8278999241849886 0.8520185651722869 0.9542034592457149 0.8856447688564476\n",
            "Epoch: 379 / 500, ############## the best accuracy in val  94.5903 at Epoch: 202  ##############\n",
            "Performance in Val: Loss: (0.0515); Accuracy (94.35)\n"
          ]
        },
        {
          "output_type": "stream",
          "name": "stderr",
          "text": [
            "Epoch 380: 100%|██████████| 1400/1400 [00:19<00:00, 72.88batch/s, train_loss=tensor(0.0074, device='cuda:0', grad_fn=<MseLossBackward0>)]\n"
          ]
        },
        {
          "output_type": "stream",
          "name": "stdout",
          "text": [
            "0.05134475575760007 0.9434982969344821 0.9062179458591625 0.9528384279475982 0.8271417740712661 0.8271417740712661 0.8520311095769826 0.9542096532825918 0.885551948051948\n",
            "Epoch: 380 / 500, ############## the best accuracy in val  94.5903 at Epoch: 202  ##############\n",
            "Performance in Val: Loss: (0.0513); Accuracy (94.35)\n"
          ]
        },
        {
          "output_type": "stream",
          "name": "stderr",
          "text": [
            "Epoch 381: 100%|██████████| 1400/1400 [00:19<00:00, 72.36batch/s, train_loss=tensor(0.0071, device='cuda:0', grad_fn=<MseLossBackward0>)]\n"
          ]
        },
        {
          "output_type": "stream",
          "name": "stdout",
          "text": [
            "0.05162296714261174 0.9434982969344821 0.9064608553386817 0.9520488230165649 0.8278999241849886 0.8278999241849886 0.8520185651722869 0.9529832339809818 0.8856447688564476\n",
            "Epoch: 381 / 500, ############## the best accuracy in val  94.5903 at Epoch: 202  ##############\n",
            "Performance in Val: Loss: (0.0516); Accuracy (94.35)\n"
          ]
        },
        {
          "output_type": "stream",
          "name": "stderr",
          "text": [
            "Epoch 382: 100%|██████████| 1400/1400 [00:19<00:00, 71.93batch/s, train_loss=tensor(0.0087, device='cuda:0', grad_fn=<MseLossBackward0>)]\n"
          ]
        },
        {
          "output_type": "stream",
          "name": "stdout",
          "text": [
            "0.051610140781849626 0.9436986575836506 0.9070828398750621 0.951304347826087 0.8294162244124337 0.8294162244124337 0.8525413483504619 0.953934844513157 0.886188740380721\n",
            "Epoch: 382 / 500, ############## the best accuracy in val  94.5903 at Epoch: 202  ##############\n",
            "Performance in Val: Loss: (0.0516); Accuracy (94.37)\n"
          ]
        },
        {
          "output_type": "stream",
          "name": "stderr",
          "text": [
            "Epoch 383: 100%|██████████| 1400/1400 [00:20<00:00, 69.17batch/s, train_loss=tensor(0.0088, device='cuda:0', grad_fn=<MseLossBackward0>)]\n"
          ]
        },
        {
          "output_type": "stream",
          "name": "stdout",
          "text": [
            "0.05173392249271273 0.9434982969344821 0.9062179458591625 0.9528384279475982 0.8271417740712661 0.8271417740712661 0.8520311095769826 0.9545717979719897 0.885551948051948\n",
            "Epoch: 383 / 500, ############## the best accuracy in val  94.5903 at Epoch: 202  ##############\n",
            "Performance in Val: Loss: (0.0517); Accuracy (94.35)\n"
          ]
        },
        {
          "output_type": "stream",
          "name": "stderr",
          "text": [
            "Epoch 384: 100%|██████████| 1400/1400 [00:19<00:00, 70.40batch/s, train_loss=tensor(0.0055, device='cuda:0', grad_fn=<MseLossBackward0>)]\n"
          ]
        },
        {
          "output_type": "stream",
          "name": "stdout",
          "text": [
            "0.051763678435236216 0.9436986575836506 0.9061112019569852 0.9544658493870403 0.8263836239575436 0.8263836239575436 0.8525928597202299 0.9522477953358076 0.8858187728565624\n",
            "Epoch: 384 / 500, ############## the best accuracy in val  94.5903 at Epoch: 202  ##############\n",
            "Performance in Val: Loss: (0.0518); Accuracy (94.37)\n"
          ]
        },
        {
          "output_type": "stream",
          "name": "stderr",
          "text": [
            "Epoch 385: 100%|██████████| 1400/1400 [00:20<00:00, 68.56batch/s, train_loss=tensor(0.0073, device='cuda:0', grad_fn=<MseLossBackward0>)]\n"
          ]
        },
        {
          "output_type": "stream",
          "name": "stdout",
          "text": [
            "0.05157537404447794 0.9445001001803246 0.9076275021844303 0.9546247818499127 0.8294162244124337 0.8294162244124337 0.8547256290314235 0.95411571038996 0.8876267748478702\n",
            "Epoch: 385 / 500, ############## the best accuracy in val  94.5903 at Epoch: 202  ##############\n",
            "Performance in Val: Loss: (0.0516); Accuracy (94.45)\n"
          ]
        },
        {
          "output_type": "stream",
          "name": "stderr",
          "text": [
            "Epoch 386: 100%|██████████| 1400/1400 [00:20<00:00, 69.44batch/s, train_loss=tensor(0.0073, device='cuda:0', grad_fn=<MseLossBackward0>)]\n"
          ]
        },
        {
          "output_type": "stream",
          "name": "stdout",
          "text": [
            "0.05123918643221259 0.9449008214786616 0.9078998333391144 0.9562937062937062 0.8294162244124337 0.8294162244124337 0.8558214202580936 0.953708555699257 0.8883475436459601\n",
            "Epoch: 386 / 500, ############## the best accuracy in val  94.5903 at Epoch: 202  ##############\n",
            "Performance in Val: Loss: (0.0512); Accuracy (94.49)\n"
          ]
        },
        {
          "output_type": "stream",
          "name": "stderr",
          "text": [
            "Epoch 387: 100%|██████████| 1400/1400 [00:20<00:00, 67.53batch/s, train_loss=tensor(0.0071, device='cuda:0', grad_fn=<MseLossBackward0>)]\n"
          ]
        },
        {
          "output_type": "stream",
          "name": "stdout",
          "text": [
            "0.05139520643278957 0.9447004608294931 0.9084923962003301 0.9530842745438749 0.8316906747536013 0.8316906747536013 0.8552329652602839 0.9530749057267587 0.8882591093117409\n",
            "Epoch: 387 / 500, ############## the best accuracy in val  94.5903 at Epoch: 202  ##############\n",
            "Performance in Val: Loss: (0.0514); Accuracy (94.47)\n"
          ]
        },
        {
          "output_type": "stream",
          "name": "stderr",
          "text": [
            "Epoch 388: 100%|██████████| 1400/1400 [00:20<00:00, 68.10batch/s, train_loss=tensor(0.0054, device='cuda:0', grad_fn=<MseLossBackward0>)]\n"
          ]
        },
        {
          "output_type": "stream",
          "name": "stdout",
          "text": [
            "0.051626719627529384 0.9434982969344821 0.9069466742977201 0.950477845351868 0.8294162244124337 0.8294162244124337 0.8519967916165803 0.9539763445602316 0.8858299595141701\n",
            "Epoch: 388 / 500, ############## the best accuracy in val  94.5903 at Epoch: 202  ##############\n",
            "Performance in Val: Loss: (0.0516); Accuracy (94.35)\n"
          ]
        },
        {
          "output_type": "stream",
          "name": "stderr",
          "text": [
            "Epoch 389: 100%|██████████| 1400/1400 [00:20<00:00, 68.46batch/s, train_loss=tensor(0.0070, device='cuda:0', grad_fn=<MseLossBackward0>)]\n"
          ]
        },
        {
          "output_type": "stream",
          "name": "stdout",
          "text": [
            "0.05119799021631479 0.9438990182328191 0.9064902770138465 0.9545056867891514 0.8271417740712661 0.8271417740712661 0.8531261317068483 0.9548325669245038 0.8862713241267263\n",
            "Epoch: 389 / 500, ############## the best accuracy in val  94.5903 at Epoch: 202  ##############\n",
            "Performance in Val: Loss: (0.0512); Accuracy (94.39)\n"
          ]
        },
        {
          "output_type": "stream",
          "name": "stderr",
          "text": [
            "Epoch 390: 100%|██████████| 1400/1400 [00:20<00:00, 67.38batch/s, train_loss=tensor(0.0065, device='cuda:0', grad_fn=<MseLossBackward0>)]\n"
          ]
        },
        {
          "output_type": "stream",
          "name": "stdout",
          "text": [
            "0.05138609167188406 0.943097575636145 0.9059456147044784 0.951176983435048 0.8271417740712661 0.8271417740712661 0.8509385236870951 0.9537678119853787 0.8848337388483373\n",
            "Epoch: 390 / 500, ############## the best accuracy in val  94.5903 at Epoch: 202  ##############\n",
            "Performance in Val: Loss: (0.0514); Accuracy (94.31)\n"
          ]
        },
        {
          "output_type": "stream",
          "name": "stderr",
          "text": [
            "Epoch 391: 100%|██████████| 1400/1400 [00:20<00:00, 69.80batch/s, train_loss=tensor(0.0075, device='cuda:0', grad_fn=<MseLossBackward0>)]\n"
          ]
        },
        {
          "output_type": "stream",
          "name": "stdout",
          "text": [
            "0.05105460938066244 0.942696854337808 0.9049445551112366 0.9518810148731408 0.8248673237300985 0.8248673237300985 0.8498820301328683 0.9541448223632811 0.883834281072299\n",
            "Epoch: 391 / 500, ############## the best accuracy in val  94.5903 at Epoch: 202  ##############\n",
            "Performance in Val: Loss: (0.0511); Accuracy (94.27)\n"
          ]
        },
        {
          "output_type": "stream",
          "name": "stderr",
          "text": [
            "Epoch 392: 100%|██████████| 1400/1400 [00:21<00:00, 66.65batch/s, train_loss=tensor(0.0088, device='cuda:0', grad_fn=<MseLossBackward0>)]\n"
          ]
        },
        {
          "output_type": "stream",
          "name": "stdout",
          "text": [
            "0.05149351432919502 0.9438990182328191 0.906976095972885 0.952920662598082 0.8286580742987112 0.8286580742987112 0.8530986066574788 0.9537876329033846 0.886455798864558\n",
            "Epoch: 392 / 500, ############## the best accuracy in val  94.5903 at Epoch: 202  ##############\n",
            "Performance in Val: Loss: (0.0515); Accuracy (94.39)\n"
          ]
        },
        {
          "output_type": "stream",
          "name": "stderr",
          "text": [
            "Epoch 393: 100%|██████████| 1400/1400 [00:20<00:00, 67.24batch/s, train_loss=tensor(0.0054, device='cuda:0', grad_fn=<MseLossBackward0>)]\n"
          ]
        },
        {
          "output_type": "stream",
          "name": "stdout",
          "text": [
            "0.05131617598235607 0.9434982969344821 0.9069466742977201 0.950477845351868 0.8294162244124337 0.8294162244124337 0.8519967916165803 0.9544361485643874 0.8858299595141701\n",
            "Epoch: 393 / 500, ############## the best accuracy in val  94.5903 at Epoch: 202  ##############\n",
            "Performance in Val: Loss: (0.0513); Accuracy (94.35)\n"
          ]
        },
        {
          "output_type": "stream",
          "name": "stderr",
          "text": [
            "Epoch 394: 100%|██████████| 1400/1400 [00:20<00:00, 67.41batch/s, train_loss=tensor(0.0081, device='cuda:0', grad_fn=<MseLossBackward0>)]\n"
          ]
        },
        {
          "output_type": "stream",
          "name": "stdout",
          "text": [
            "0.05110059510916472 0.9451011821278301 0.9090076368345333 0.9539530842745438 0.8324488248673237 0.8324488248673237 0.8563116898081852 0.9536294784951299 0.8890688259109312\n",
            "Epoch: 394 / 500, ############## the best accuracy in val  94.5903 at Epoch: 202  ##############\n",
            "Performance in Val: Loss: (0.0511); Accuracy (94.51)\n"
          ]
        },
        {
          "output_type": "stream",
          "name": "stderr",
          "text": [
            "Epoch 395: 100%|██████████| 1400/1400 [00:20<00:00, 67.77batch/s, train_loss=tensor(0.0058, device='cuda:0', grad_fn=<MseLossBackward0>)]\n"
          ]
        },
        {
          "output_type": "stream",
          "name": "stdout",
          "text": [
            "0.05139727871865034 0.9445001001803246 0.9085991401025072 0.951473136915078 0.8324488248673237 0.8324488248673237 0.8546777027435596 0.9553260251956902 0.8879902951880307\n",
            "Epoch: 395 / 500, ############## the best accuracy in val  94.5903 at Epoch: 202  ##############\n",
            "Performance in Val: Loss: (0.0514); Accuracy (94.45)\n"
          ]
        },
        {
          "output_type": "stream",
          "name": "stderr",
          "text": [
            "Epoch 396: 100%|██████████| 1400/1400 [00:21<00:00, 64.07batch/s, train_loss=tensor(0.0076, device='cuda:0', grad_fn=<MseLossBackward0>)]\n"
          ]
        },
        {
          "output_type": "stream",
          "name": "stdout",
          "text": [
            "0.051776500698179004 0.9438990182328191 0.906976095972885 0.952920662598082 0.8286580742987112 0.8286580742987112 0.8530986066574788 0.9515567472882506 0.886455798864558\n",
            "Epoch: 396 / 500, ############## the best accuracy in val  94.5903 at Epoch: 202  ##############\n",
            "Performance in Val: Loss: (0.0518); Accuracy (94.39)\n"
          ]
        },
        {
          "output_type": "stream",
          "name": "stderr",
          "text": [
            "Epoch 397: 100%|██████████| 1400/1400 [00:20<00:00, 67.02batch/s, train_loss=tensor(0.0066, device='cuda:0', grad_fn=<MseLossBackward0>)]\n"
          ]
        },
        {
          "output_type": "stream",
          "name": "stdout",
          "text": [
            "0.05190213639289141 0.943097575636145 0.9061885241839975 0.9503916449086162 0.8278999241849886 0.8278999241849886 0.8509277452825628 0.9544852879236101 0.8849270664505672\n",
            "Epoch: 397 / 500, ############## the best accuracy in val  94.5903 at Epoch: 202  ##############\n",
            "Performance in Val: Loss: (0.0519); Accuracy (94.31)\n"
          ]
        },
        {
          "output_type": "stream",
          "name": "stderr",
          "text": [
            "Epoch 398: 100%|██████████| 1400/1400 [00:20<00:00, 69.32batch/s, train_loss=tensor(0.0068, device='cuda:0', grad_fn=<MseLossBackward0>)]\n"
          ]
        },
        {
          "output_type": "stream",
          "name": "stdout",
          "text": [
            "0.05150985280051827 0.9447004608294931 0.9077636677617724 0.9554585152838428 0.8294162244124337 0.8294162244124337 0.8552732192897691 0.9532968587148447 0.887987012987013\n",
            "Epoch: 398 / 500, ############## the best accuracy in val  94.5903 at Epoch: 202  ##############\n",
            "Performance in Val: Loss: (0.0515); Accuracy (94.47)\n"
          ]
        },
        {
          "output_type": "stream",
          "name": "stderr",
          "text": [
            "Epoch 399: 100%|██████████| 1400/1400 [00:19<00:00, 70.11batch/s, train_loss=tensor(0.0081, device='cuda:0', grad_fn=<MseLossBackward0>)]\n"
          ]
        },
        {
          "output_type": "stream",
          "name": "stdout",
          "text": [
            "0.05167820928618312 0.9438990182328191 0.9064902770138465 0.9545056867891514 0.8271417740712661 0.8271417740712661 0.8531261317068483 0.9551342165204049 0.8862713241267263\n",
            "Epoch: 399 / 500, ############## the best accuracy in val  94.5903 at Epoch: 202  ##############\n",
            "Performance in Val: Loss: (0.0517); Accuracy (94.39)\n"
          ]
        },
        {
          "output_type": "stream",
          "name": "stderr",
          "text": [
            "Epoch 400: 100%|██████████| 1400/1400 [00:19<00:00, 70.33batch/s, train_loss=tensor(0.0050, device='cuda:0', grad_fn=<MseLossBackward0>)]\n"
          ]
        },
        {
          "output_type": "stream",
          "name": "stdout",
          "text": [
            "0.05209224186837673 0.9447004608294931 0.9082494867208109 0.9538729329852045 0.8309325246398787 0.8309325246398787 0.8552452729825031 0.9523987233677063 0.8881685575364667\n",
            "Epoch: 400 / 500, ############## the best accuracy in val  94.5903 at Epoch: 202  ##############\n",
            "Performance in Val: Loss: (0.0521); Accuracy (94.47)\n"
          ]
        },
        {
          "output_type": "stream",
          "name": "stderr",
          "text": [
            "Epoch 401: 100%|██████████| 1400/1400 [00:20<00:00, 69.94batch/s, train_loss=tensor(0.0067, device='cuda:0', grad_fn=<MseLossBackward0>)]\n"
          ]
        },
        {
          "output_type": "stream",
          "name": "stdout",
          "text": [
            "0.05146391242742539 0.9451011821278301 0.9082789083959757 0.9563318777292577 0.8301743745261562 0.8301743745261562 0.8563539225273645 0.9535749709706138 0.8887987012987013\n",
            "Epoch: 401 / 500, ############## the best accuracy in val  94.5903 at Epoch: 202  ##############\n",
            "Performance in Val: Loss: (0.0515); Accuracy (94.51)\n"
          ]
        },
        {
          "output_type": "stream",
          "name": "stderr",
          "text": [
            "Epoch 402: 100%|██████████| 1400/1400 [00:21<00:00, 65.61batch/s, train_loss=tensor(0.0063, device='cuda:0', grad_fn=<MseLossBackward0>)]\n"
          ]
        },
        {
          "output_type": "stream",
          "name": "stdout",
          "text": [
            "0.05118998242542148 0.9447004608294931 0.9075207582822532 0.9562554680664916 0.8286580742987112 0.8286580742987112 0.8552888660895016 0.9556128091030869 0.8878960194963443\n",
            "Epoch: 402 / 500, ############## the best accuracy in val  94.5903 at Epoch: 202  ##############\n",
            "Performance in Val: Loss: (0.0512); Accuracy (94.47)\n"
          ]
        },
        {
          "output_type": "stream",
          "name": "stderr",
          "text": [
            "Epoch 403: 100%|██████████| 1400/1400 [00:19<00:00, 70.95batch/s, train_loss=tensor(0.0052, device='cuda:0', grad_fn=<MseLossBackward0>)]\n"
          ]
        },
        {
          "output_type": "stream",
          "name": "stdout",
          "text": [
            "0.05145129170268774 0.9449008214786616 0.9081427428186337 0.9554973821989529 0.8301743745261562 0.8301743745261562 0.8558060011182232 0.9548558977967398 0.8884381338742393\n",
            "Epoch: 403 / 500, ############## the best accuracy in val  94.5903 at Epoch: 202  ##############\n",
            "Performance in Val: Loss: (0.0515); Accuracy (94.49)\n"
          ]
        },
        {
          "output_type": "stream",
          "name": "stderr",
          "text": [
            "Epoch 404: 100%|██████████| 1400/1400 [00:19<00:00, 70.47batch/s, train_loss=tensor(0.0094, device='cuda:0', grad_fn=<MseLossBackward0>)]\n"
          ]
        },
        {
          "output_type": "stream",
          "name": "stdout",
          "text": [
            "0.05155364479869604 0.9449008214786616 0.9076569238595953 0.957092819614711 0.8286580742987112 0.8286580742987112 0.8558379597099071 0.9546882458652739 0.8882568061763512\n",
            "Epoch: 404 / 500, ############## the best accuracy in val  94.5903 at Epoch: 202  ##############\n",
            "Performance in Val: Loss: (0.0516); Accuracy (94.49)\n"
          ]
        },
        {
          "output_type": "stream",
          "name": "stderr",
          "text": [
            "Epoch 405: 100%|██████████| 1400/1400 [00:19<00:00, 70.87batch/s, train_loss=tensor(0.0062, device='cuda:0', grad_fn=<MseLossBackward0>)]\n"
          ]
        },
        {
          "output_type": "stream",
          "name": "stdout",
          "text": [
            "0.051114118006080386 0.9442997395311561 0.9074913366070883 0.953792502179599 0.8294162244124337 0.8294162244124337 0.8541786481426707 0.9545261685669972 0.8872668288726683\n",
            "Epoch: 405 / 500, ############## the best accuracy in val  94.5903 at Epoch: 202  ##############\n",
            "Performance in Val: Loss: (0.0511); Accuracy (94.43)\n"
          ]
        },
        {
          "output_type": "stream",
          "name": "stderr",
          "text": [
            "Epoch 406: 100%|██████████| 1400/1400 [00:20<00:00, 69.36batch/s, train_loss=tensor(0.0062, device='cuda:0', grad_fn=<MseLossBackward0>)]\n"
          ]
        },
        {
          "output_type": "stream",
          "name": "stdout",
          "text": [
            "0.050891213957220315 0.9434982969344821 0.9057321269001241 0.9544259421560035 0.8256254738438211 0.8256254738438211 0.8520595341097107 0.954801183804328 0.8853658536585366\n",
            "Epoch: 406 / 500, ############## the best accuracy in val  94.5903 at Epoch: 202  ##############\n",
            "Performance in Val: Loss: (0.0509); Accuracy (94.35)\n"
          ]
        },
        {
          "output_type": "stream",
          "name": "stderr",
          "text": [
            "Epoch 407: 100%|██████████| 1400/1400 [00:20<00:00, 69.02batch/s, train_loss=tensor(0.0049, device='cuda:0', grad_fn=<MseLossBackward0>)]\n"
          ]
        },
        {
          "output_type": "stream",
          "name": "stdout",
          "text": [
            "0.05109854526817799 0.9438990182328191 0.9072190054524042 0.9521322889469104 0.8294162244124337 0.8294162244124337 0.8530865091325329 0.9547995320611606 0.8865478119935171\n",
            "Epoch: 407 / 500, ############## the best accuracy in val  94.5903 at Epoch: 202  ##############\n",
            "Performance in Val: Loss: (0.0511); Accuracy (94.39)\n"
          ]
        },
        {
          "output_type": "stream",
          "name": "stderr",
          "text": [
            "Epoch 408: 100%|██████████| 1400/1400 [00:20<00:00, 68.44batch/s, train_loss=tensor(0.0072, device='cuda:0', grad_fn=<MseLossBackward0>)]\n"
          ]
        },
        {
          "output_type": "stream",
          "name": "stdout",
          "text": [
            "0.05170575743541121 0.9442997395311561 0.9067626081685307 0.9561787905346187 0.8271417740712661 0.8271417740712661 0.8542236008208575 0.9532780701363185 0.8869918699186992\n",
            "Epoch: 408 / 500, ############## the best accuracy in val  94.5903 at Epoch: 202  ##############\n",
            "Performance in Val: Loss: (0.0517); Accuracy (94.43)\n"
          ]
        },
        {
          "output_type": "stream",
          "name": "stderr",
          "text": [
            "Epoch 409: 100%|██████████| 1400/1400 [00:21<00:00, 63.88batch/s, train_loss=tensor(0.0096, device='cuda:0', grad_fn=<MseLossBackward0>)]\n"
          ]
        },
        {
          "output_type": "stream",
          "name": "stdout",
          "text": [
            "0.051494773384183644 0.9445001001803246 0.9081133211434688 0.9530434782608695 0.8309325246398787 0.8309325246398787 0.8546994542786973 0.9531029853606003 0.8878088294856218\n",
            "Epoch: 409 / 500, ############## the best accuracy in val  94.5903 at Epoch: 202  ##############\n",
            "Performance in Val: Loss: (0.0515); Accuracy (94.45)\n"
          ]
        },
        {
          "output_type": "stream",
          "name": "stderr",
          "text": [
            "Epoch 410: 100%|██████████| 1400/1400 [00:19<00:00, 70.02batch/s, train_loss=tensor(0.0065, device='cuda:0', grad_fn=<MseLossBackward0>)]\n"
          ]
        },
        {
          "output_type": "stream",
          "name": "stdout",
          "text": [
            "0.05136723481118679 0.9440993788819876 0.9075980805092654 0.9521739130434783 0.8301743745261562 0.8301743745261562 0.8536204013145796 0.9554327690978675 0.8869987849331713\n",
            "Epoch: 410 / 500, ############## the best accuracy in val  94.5903 at Epoch: 202  ##############\n",
            "Performance in Val: Loss: (0.0514); Accuracy (94.41)\n"
          ]
        },
        {
          "output_type": "stream",
          "name": "stderr",
          "text": [
            "Epoch 411: 100%|██████████| 1400/1400 [00:19<00:00, 71.03batch/s, train_loss=tensor(0.0061, device='cuda:0', grad_fn=<MseLossBackward0>)]\n"
          ]
        },
        {
          "output_type": "stream",
          "name": "stdout",
          "text": [
            "0.051373290922492744 0.9438990182328191 0.9072190054524042 0.9521322889469104 0.8294162244124337 0.8294162244124337 0.8530865091325329 0.9546227955422755 0.8865478119935171\n",
            "Epoch: 411 / 500, ############## the best accuracy in val  94.5903 at Epoch: 202  ##############\n",
            "Performance in Val: Loss: (0.0514); Accuracy (94.39)\n"
          ]
        },
        {
          "output_type": "stream",
          "name": "stderr",
          "text": [
            "Epoch 412: 100%|██████████| 1400/1400 [00:20<00:00, 69.93batch/s, train_loss=tensor(0.0049, device='cuda:0', grad_fn=<MseLossBackward0>)]\n"
          ]
        },
        {
          "output_type": "stream",
          "name": "stdout",
          "text": [
            "0.051756737753748894 0.9459026247245041 0.9102810275824591 0.9549002601908065 0.8347232752084913 0.8347232752084913 0.8584559704302217 0.952229626160969 0.8907766990291262\n",
            "Epoch: 412 / 500, ############## the best accuracy in val  94.5903 at Epoch: 202  ##############\n",
            "Performance in Val: Loss: (0.0518); Accuracy (94.59)\n"
          ]
        },
        {
          "output_type": "stream",
          "name": "stderr",
          "text": [
            "Epoch 413: 100%|██████████| 1400/1400 [00:19<00:00, 71.41batch/s, train_loss=tensor(0.0051, device='cuda:0', grad_fn=<MseLossBackward0>)]\n"
          ]
        },
        {
          "output_type": "stream",
          "name": "stdout",
          "text": [
            "0.05144554479047656 0.9449008214786616 0.9078998333391144 0.9562937062937062 0.8294162244124337 0.8294162244124337 0.8558214202580936 0.9536075928981651 0.8883475436459601\n",
            "Epoch: 413 / 500, ############## the best accuracy in val  94.5903 at Epoch: 202  ##############\n",
            "Performance in Val: Loss: (0.0514); Accuracy (94.49)\n"
          ]
        },
        {
          "output_type": "stream",
          "name": "stderr",
          "text": [
            "Epoch 414: 100%|██████████| 1400/1400 [00:19<00:00, 70.21batch/s, train_loss=tensor(0.0086, device='cuda:0', grad_fn=<MseLossBackward0>)]\n"
          ]
        },
        {
          "output_type": "stream",
          "name": "stdout",
          "text": [
            "0.05148460231721401 0.9455019034261671 0.908794149030179 0.9572052401746725 0.8309325246398787 0.8309325246398787 0.8574346257649601 0.9539538395595792 0.8896103896103895\n",
            "Epoch: 414 / 500, ############## the best accuracy in val  94.5903 at Epoch: 202  ##############\n",
            "Performance in Val: Loss: (0.0515); Accuracy (94.55)\n"
          ]
        },
        {
          "output_type": "stream",
          "name": "stderr",
          "text": [
            "Epoch 415: 100%|██████████| 1400/1400 [00:19<00:00, 70.80batch/s, train_loss=tensor(0.0055, device='cuda:0', grad_fn=<MseLossBackward0>)]\n"
          ]
        },
        {
          "output_type": "stream",
          "name": "stdout",
          "text": [
            "0.051431591250002386 0.9436986575836506 0.9070828398750621 0.951304347826087 0.8294162244124337 0.8294162244124337 0.8525413483504619 0.9547510121056257 0.886188740380721\n",
            "Epoch: 415 / 500, ############## the best accuracy in val  94.5903 at Epoch: 202  ##############\n",
            "Performance in Val: Loss: (0.0514); Accuracy (94.37)\n"
          ]
        },
        {
          "output_type": "stream",
          "name": "stderr",
          "text": [
            "Epoch 416: 100%|██████████| 1400/1400 [00:20<00:00, 68.85batch/s, train_loss=tensor(0.0076, device='cuda:0', grad_fn=<MseLossBackward0>)]\n"
          ]
        },
        {
          "output_type": "stream",
          "name": "stdout",
          "text": [
            "0.05119323534891009 0.9440993788819876 0.9071122615502271 0.9537521815008726 0.8286580742987112 0.8286580742987112 0.8536452569446237 0.9539689117159794 0.8868154158215011\n",
            "Epoch: 416 / 500, ############## the best accuracy in val  94.5903 at Epoch: 202  ##############\n",
            "Performance in Val: Loss: (0.0512); Accuracy (94.41)\n"
          ]
        },
        {
          "output_type": "stream",
          "name": "stderr",
          "text": [
            "Epoch 417: 100%|██████████| 1400/1400 [00:19<00:00, 70.39batch/s, train_loss=tensor(0.0068, device='cuda:0', grad_fn=<MseLossBackward0>)]\n"
          ]
        },
        {
          "output_type": "stream",
          "name": "stdout",
          "text": [
            "0.051309485267847774 0.9445001001803246 0.9071416832253919 0.9562171628721541 0.8278999241849886 0.8278999241849886 0.854756259713348 0.9536360854677984 0.8874441284030882\n",
            "Epoch: 417 / 500, ############## the best accuracy in val  94.5903 at Epoch: 202  ##############\n",
            "Performance in Val: Loss: (0.0513); Accuracy (94.45)\n"
          ]
        },
        {
          "output_type": "stream",
          "name": "stderr",
          "text": [
            "Epoch 418: 100%|██████████| 1400/1400 [00:19<00:00, 70.94batch/s, train_loss=tensor(0.0099, device='cuda:0', grad_fn=<MseLossBackward0>)]\n"
          ]
        },
        {
          "output_type": "stream",
          "name": "stdout",
          "text": [
            "0.05092868329957127 0.9440993788819876 0.9068693520707078 0.9545454545454546 0.8278999241849886 0.8278999241849886 0.8536593503806491 0.9559809413614659 0.8867235079171742\n",
            "Epoch: 418 / 500, ############## the best accuracy in val  94.5903 at Epoch: 202  ##############\n",
            "Performance in Val: Loss: (0.0509); Accuracy (94.41)\n"
          ]
        },
        {
          "output_type": "stream",
          "name": "stderr",
          "text": [
            "Epoch 419: 100%|██████████| 1400/1400 [00:20<00:00, 69.81batch/s, train_loss=tensor(0.0072, device='cuda:0', grad_fn=<MseLossBackward0>)]\n"
          ]
        },
        {
          "output_type": "stream",
          "name": "stdout",
          "text": [
            "0.051111264433711764 0.9438990182328191 0.9067331864933658 0.9537117903930131 0.8278999241849886 0.8278999241849886 0.853111812814578 0.9545065541168873 0.8863636363636364\n",
            "Epoch: 419 / 500, ############## the best accuracy in val  94.5903 at Epoch: 202  ##############\n",
            "Performance in Val: Loss: (0.0511); Accuracy (94.39)\n"
          ]
        },
        {
          "output_type": "stream",
          "name": "stderr",
          "text": [
            "Epoch 420: 100%|██████████| 1400/1400 [00:19<00:00, 70.82batch/s, train_loss=tensor(0.0050, device='cuda:0', grad_fn=<MseLossBackward0>)]\n"
          ]
        },
        {
          "output_type": "stream",
          "name": "stdout",
          "text": [
            "0.051330663822591306 0.9438990182328191 0.9064902770138465 0.9545056867891514 0.8271417740712661 0.8271417740712661 0.8531261317068483 0.9525424250232484 0.8862713241267263\n",
            "Epoch: 420 / 500, ############## the best accuracy in val  94.5903 at Epoch: 202  ##############\n",
            "Performance in Val: Loss: (0.0513); Accuracy (94.39)\n"
          ]
        },
        {
          "output_type": "stream",
          "name": "stderr",
          "text": [
            "Epoch 421: 100%|██████████| 1400/1400 [00:19<00:00, 70.48batch/s, train_loss=tensor(0.0056, device='cuda:0', grad_fn=<MseLossBackward0>)]\n"
          ]
        },
        {
          "output_type": "stream",
          "name": "stdout",
          "text": [
            "0.051233106013387444 0.9447004608294931 0.9077636677617724 0.9554585152838428 0.8294162244124337 0.8294162244124337 0.8552732192897691 0.9538311976294184 0.887987012987013\n",
            "Epoch: 421 / 500, ############## the best accuracy in val  94.5903 at Epoch: 202  ##############\n",
            "Performance in Val: Loss: (0.0512); Accuracy (94.47)\n"
          ]
        },
        {
          "output_type": "stream",
          "name": "stderr",
          "text": [
            "Epoch 422: 100%|██████████| 1400/1400 [00:19<00:00, 70.62batch/s, train_loss=tensor(0.0081, device='cuda:0', grad_fn=<MseLossBackward0>)]\n"
          ]
        },
        {
          "output_type": "stream",
          "name": "stdout",
          "text": [
            "0.051606071460992095 0.9440993788819876 0.9073551710297463 0.9529616724738676 0.8294162244124337 0.8294162244124337 0.8536322752871546 0.9538010533166176 0.8869071747061208\n",
            "Epoch: 422 / 500, ############## the best accuracy in val  94.5903 at Epoch: 202  ##############\n",
            "Performance in Val: Loss: (0.0516); Accuracy (94.41)\n"
          ]
        },
        {
          "output_type": "stream",
          "name": "stderr",
          "text": [
            "Epoch 423: 100%|██████████| 1400/1400 [00:20<00:00, 69.69batch/s, train_loss=tensor(0.0130, device='cuda:0', grad_fn=<MseLossBackward0>)]\n"
          ]
        },
        {
          "output_type": "stream",
          "name": "stdout",
          "text": [
            "0.05144548118114471 0.9434982969344821 0.9057321269001241 0.9544259421560035 0.8256254738438211 0.8256254738438211 0.8520595341097107 0.954175999015561 0.8853658536585366\n",
            "Epoch: 423 / 500, ############## the best accuracy in val  94.5903 at Epoch: 202  ##############\n",
            "Performance in Val: Loss: (0.0514); Accuracy (94.35)\n"
          ]
        },
        {
          "output_type": "stream",
          "name": "stderr",
          "text": [
            "Epoch 424: 100%|██████████| 1400/1400 [00:19<00:00, 70.50batch/s, train_loss=tensor(0.0052, device='cuda:0', grad_fn=<MseLossBackward0>)]\n"
          ]
        },
        {
          "output_type": "stream",
          "name": "stdout",
          "text": [
            "0.05152773875743151 0.9438990182328191 0.906976095972885 0.952920662598082 0.8286580742987112 0.8286580742987112 0.8530986066574788 0.9547049697648414 0.886455798864558\n",
            "Epoch: 424 / 500, ############## the best accuracy in val  94.5903 at Epoch: 202  ##############\n",
            "Performance in Val: Loss: (0.0515); Accuracy (94.39)\n"
          ]
        },
        {
          "output_type": "stream",
          "name": "stderr",
          "text": [
            "Epoch 425: 100%|██████████| 1400/1400 [00:20<00:00, 69.74batch/s, train_loss=tensor(0.0086, device='cuda:0', grad_fn=<MseLossBackward0>)]\n"
          ]
        },
        {
          "output_type": "stream",
          "name": "stdout",
          "text": [
            "0.051293791737407446 0.9438990182328191 0.9062473675343274 0.9553023663453112 0.8263836239575436 0.8263836239575436 0.853141567465284 0.9544381100093984 0.8861788617886179\n",
            "Epoch: 425 / 500, ############## the best accuracy in val  94.5903 at Epoch: 202  ##############\n",
            "Performance in Val: Loss: (0.0513); Accuracy (94.39)\n"
          ]
        },
        {
          "output_type": "stream",
          "name": "stderr",
          "text": [
            "Epoch 426: 100%|██████████| 1400/1400 [00:20<00:00, 69.23batch/s, train_loss=tensor(0.0090, device='cuda:0', grad_fn=<MseLossBackward0>)]\n"
          ]
        },
        {
          "output_type": "stream",
          "name": "stdout",
          "text": [
            "0.05135523620992899 0.9432979362853136 0.9063246897613396 0.9512195121951219 0.8278999241849886 0.8278999241849886 0.8514728524238899 0.9540636804801947 0.8852857721929469\n",
            "Epoch: 426 / 500, ############## the best accuracy in val  94.5903 at Epoch: 202  ##############\n",
            "Performance in Val: Loss: (0.0514); Accuracy (94.33)\n"
          ]
        },
        {
          "output_type": "stream",
          "name": "stderr",
          "text": [
            "Epoch 427: 100%|██████████| 1400/1400 [00:20<00:00, 69.15batch/s, train_loss=tensor(0.0054, device='cuda:0', grad_fn=<MseLossBackward0>)]\n"
          ]
        },
        {
          "output_type": "stream",
          "name": "stdout",
          "text": [
            "0.05152451768517494 0.9436986575836506 0.9070828398750621 0.951304347826087 0.8294162244124337 0.8294162244124337 0.8525413483504619 0.9532227367402188 0.886188740380721\n",
            "Epoch: 427 / 500, ############## the best accuracy in val  94.5903 at Epoch: 202  ##############\n",
            "Performance in Val: Loss: (0.0515); Accuracy (94.37)\n"
          ]
        },
        {
          "output_type": "stream",
          "name": "stderr",
          "text": [
            "Epoch 428: 100%|██████████| 1400/1400 [00:19<00:00, 70.75batch/s, train_loss=tensor(0.0084, device='cuda:0', grad_fn=<MseLossBackward0>)]\n"
          ]
        },
        {
          "output_type": "stream",
          "name": "stdout",
          "text": [
            "0.0512811541557312 0.9445001001803246 0.9078704116639496 0.9538327526132404 0.8301743745261562 0.8301743745261562 0.8547119867187869 0.9545513576502962 0.8877178759627077\n",
            "Epoch: 428 / 500, ############## the best accuracy in val  94.5903 at Epoch: 202  ##############\n",
            "Performance in Val: Loss: (0.0513); Accuracy (94.45)\n"
          ]
        },
        {
          "output_type": "stream",
          "name": "stderr",
          "text": [
            "Epoch 429: 100%|██████████| 1400/1400 [00:19<00:00, 70.11batch/s, train_loss=tensor(0.0088, device='cuda:0', grad_fn=<MseLossBackward0>)]\n"
          ]
        },
        {
          "output_type": "stream",
          "name": "stdout",
          "text": [
            "0.05149809345602989 0.9457022640753356 0.9096590430460787 0.9556521739130435 0.8332069749810462 0.8332069749810462 0.8579366131710504 0.9534232170671318 0.8902389631429729\n",
            "Epoch: 429 / 500, ############## the best accuracy in val  94.5903 at Epoch: 202  ##############\n",
            "Performance in Val: Loss: (0.0515); Accuracy (94.57)\n"
          ]
        },
        {
          "output_type": "stream",
          "name": "stderr",
          "text": [
            "Epoch 430: 100%|██████████| 1400/1400 [00:20<00:00, 69.49batch/s, train_loss=tensor(0.0066, device='cuda:0', grad_fn=<MseLossBackward0>)]\n"
          ]
        },
        {
          "output_type": "stream",
          "name": "stdout",
          "text": [
            "0.05124659668654204 0.9440993788819876 0.9068693520707078 0.9545454545454546 0.8278999241849886 0.8278999241849886 0.8536593503806491 0.9566319346372193 0.8867235079171742\n",
            "Epoch: 430 / 500, ############## the best accuracy in val  94.5903 at Epoch: 202  ##############\n",
            "Performance in Val: Loss: (0.0512); Accuracy (94.41)\n"
          ]
        },
        {
          "output_type": "stream",
          "name": "stderr",
          "text": [
            "Epoch 431: 100%|██████████| 1400/1400 [00:19<00:00, 71.01batch/s, train_loss=tensor(0.0064, device='cuda:0', grad_fn=<MseLossBackward0>)]\n"
          ]
        },
        {
          "output_type": "stream",
          "name": "stdout",
          "text": [
            "0.05122114475816488 0.9440993788819876 0.9068693520707078 0.9545454545454546 0.8278999241849886 0.8278999241849886 0.8536593503806491 0.9559491453054982 0.8867235079171742\n",
            "Epoch: 431 / 500, ############## the best accuracy in val  94.5903 at Epoch: 202  ##############\n",
            "Performance in Val: Loss: (0.0512); Accuracy (94.41)\n"
          ]
        },
        {
          "output_type": "stream",
          "name": "stderr",
          "text": [
            "Epoch 432: 100%|██████████| 1400/1400 [00:20<00:00, 68.03batch/s, train_loss=tensor(0.0062, device='cuda:0', grad_fn=<MseLossBackward0>)]\n"
          ]
        },
        {
          "output_type": "stream",
          "name": "stdout",
          "text": [
            "0.051721660606563094 0.9440993788819876 0.9071122615502271 0.9537521815008726 0.8286580742987112 0.8286580742987112 0.8536452569446237 0.9523318277694365 0.8868154158215011\n",
            "Epoch: 432 / 500, ############## the best accuracy in val  94.5903 at Epoch: 202  ##############\n",
            "Performance in Val: Loss: (0.0517); Accuracy (94.41)\n"
          ]
        },
        {
          "output_type": "stream",
          "name": "stderr",
          "text": [
            "Epoch 433: 100%|██████████| 1400/1400 [00:20<00:00, 68.72batch/s, train_loss=tensor(0.0081, device='cuda:0', grad_fn=<MseLossBackward0>)]\n"
          ]
        },
        {
          "output_type": "stream",
          "name": "stdout",
          "text": [
            "0.05123479189351201 0.9453015427769986 0.9084150739733177 0.9571678321678322 0.8301743745261562 0.8301743745261562 0.8569024551968157 0.9555312542842089 0.8891595615103532\n",
            "Epoch: 433 / 500, ############## the best accuracy in val  94.5903 at Epoch: 202  ##############\n",
            "Performance in Val: Loss: (0.0512); Accuracy (94.53)\n"
          ]
        },
        {
          "output_type": "stream",
          "name": "stderr",
          "text": [
            "Epoch 434: 100%|██████████| 1400/1400 [00:20<00:00, 68.64batch/s, train_loss=tensor(0.0087, device='cuda:0', grad_fn=<MseLossBackward0>)]\n"
          ]
        },
        {
          "output_type": "stream",
          "name": "stdout",
          "text": [
            "0.05136615000665188 0.9438990182328191 0.9072190054524042 0.9521322889469104 0.8294162244124337 0.8294162244124337 0.8530865091325329 0.9543461285617778 0.8865478119935171\n",
            "Epoch: 434 / 500, ############## the best accuracy in val  94.5903 at Epoch: 202  ##############\n",
            "Performance in Val: Loss: (0.0514); Accuracy (94.39)\n"
          ]
        },
        {
          "output_type": "stream",
          "name": "stderr",
          "text": [
            "Epoch 435: 100%|██████████| 1400/1400 [00:20<00:00, 68.90batch/s, train_loss=tensor(0.0078, device='cuda:0', grad_fn=<MseLossBackward0>)]\n"
          ]
        },
        {
          "output_type": "stream",
          "name": "stdout",
          "text": [
            "0.05119812712073326 0.9449008214786616 0.9086285617776722 0.9539130434782609 0.8316906747536013 0.8316906747536013 0.855778507242815 0.9548406191724437 0.8886188740380722\n",
            "Epoch: 435 / 500, ############## the best accuracy in val  94.5903 at Epoch: 202  ##############\n",
            "Performance in Val: Loss: (0.0512); Accuracy (94.49)\n"
          ]
        },
        {
          "output_type": "stream",
          "name": "stderr",
          "text": [
            "Epoch 436: 100%|██████████| 1400/1400 [00:21<00:00, 64.80batch/s, train_loss=tensor(0.0065, device='cuda:0', grad_fn=<MseLossBackward0>)]\n"
          ]
        },
        {
          "output_type": "stream",
          "name": "stdout",
          "text": [
            "0.05155333150178194 0.9442997395311561 0.9065196986890114 0.9569798068481123 0.8263836239575436 0.8263836239575436 0.8542408259886597 0.9533792394053064 0.8868999186330349\n",
            "Epoch: 436 / 500, ############## the best accuracy in val  94.5903 at Epoch: 202  ##############\n",
            "Performance in Val: Loss: (0.0516); Accuracy (94.43)\n"
          ]
        },
        {
          "output_type": "stream",
          "name": "stderr",
          "text": [
            "Epoch 437: 100%|██████████| 1400/1400 [00:20<00:00, 69.43batch/s, train_loss=tensor(0.0069, device='cuda:0', grad_fn=<MseLossBackward0>)]\n"
          ]
        },
        {
          "output_type": "stream",
          "name": "stdout",
          "text": [
            "0.05250725923106074 0.9428972149869765 0.9050807206885787 0.9527145359019265 0.8248673237300985 0.8248673237300985 0.8504294597271118 0.9518932899585577 0.8841934173100365\n",
            "Epoch: 437 / 500, ############## the best accuracy in val  94.5903 at Epoch: 202  ##############\n",
            "Performance in Val: Loss: (0.0525); Accuracy (94.29)\n"
          ]
        },
        {
          "output_type": "stream",
          "name": "stderr",
          "text": [
            "Epoch 438: 100%|██████████| 1400/1400 [00:20<00:00, 69.73batch/s, train_loss=tensor(0.0058, device='cuda:0', grad_fn=<MseLossBackward0>)]\n"
          ]
        },
        {
          "output_type": "stream",
          "name": "stdout",
          "text": [
            "0.051719802990555765 0.9440993788819876 0.9068693520707078 0.9545454545454546 0.8278999241849886 0.8278999241849886 0.8536593503806491 0.9545443377418359 0.8867235079171742\n",
            "Epoch: 438 / 500, ############## the best accuracy in val  94.5903 at Epoch: 202  ##############\n",
            "Performance in Val: Loss: (0.0517); Accuracy (94.41)\n"
          ]
        },
        {
          "output_type": "stream",
          "name": "stderr",
          "text": [
            "Epoch 439: 100%|██████████| 1400/1400 [00:20<00:00, 69.25batch/s, train_loss=tensor(0.0066, device='cuda:0', grad_fn=<MseLossBackward0>)]\n"
          ]
        },
        {
          "output_type": "stream",
          "name": "stdout",
          "text": [
            "0.0518909677863121 0.9442997395311561 0.9070055176480498 0.9553805774278216 0.8278999241849886 0.8278999241849886 0.8542074988981749 0.9530579753592954 0.8870836718115354\n",
            "Epoch: 439 / 500, ############## the best accuracy in val  94.5903 at Epoch: 202  ##############\n",
            "Performance in Val: Loss: (0.0519); Accuracy (94.43)\n"
          ]
        },
        {
          "output_type": "stream",
          "name": "stderr",
          "text": [
            "Epoch 440: 100%|██████████| 1400/1400 [00:20<00:00, 69.96batch/s, train_loss=tensor(0.0076, device='cuda:0', grad_fn=<MseLossBackward0>)]\n"
          ]
        },
        {
          "output_type": "stream",
          "name": "stdout",
          "text": [
            "0.05193237317726016 0.9440993788819876 0.9071122615502271 0.9537521815008726 0.8286580742987112 0.8286580742987112 0.8536452569446237 0.9518602550952147 0.8868154158215011\n",
            "Epoch: 440 / 500, ############## the best accuracy in val  94.5903 at Epoch: 202  ##############\n",
            "Performance in Val: Loss: (0.0519); Accuracy (94.41)\n"
          ]
        },
        {
          "output_type": "stream",
          "name": "stderr",
          "text": [
            "Epoch 441: 100%|██████████| 1400/1400 [00:20<00:00, 66.79batch/s, train_loss=tensor(0.0064, device='cuda:0', grad_fn=<MseLossBackward0>)]\n"
          ]
        },
        {
          "output_type": "stream",
          "name": "stdout",
          "text": [
            "0.05144798243418336 0.9440993788819876 0.9063835331116694 0.956140350877193 0.8263836239575436 0.8263836239575436 0.8536908891027178 0.9555374483210857 0.8865392435949573\n",
            "Epoch: 441 / 500, ############## the best accuracy in val  94.5903 at Epoch: 202  ##############\n",
            "Performance in Val: Loss: (0.0514); Accuracy (94.41)\n"
          ]
        },
        {
          "output_type": "stream",
          "name": "stderr",
          "text": [
            "Epoch 442: 100%|██████████| 1400/1400 [00:21<00:00, 64.49batch/s, train_loss=tensor(0.0082, device='cuda:0', grad_fn=<MseLossBackward0>)]\n"
          ]
        },
        {
          "output_type": "stream",
          "name": "stdout",
          "text": [
            "0.051350193563848734 0.9440993788819876 0.9063835331116694 0.956140350877193 0.8263836239575436 0.8263836239575436 0.8536908891027178 0.9542144020441974 0.8865392435949573\n",
            "Epoch: 442 / 500, ############## the best accuracy in val  94.5903 at Epoch: 202  ##############\n",
            "Performance in Val: Loss: (0.0514); Accuracy (94.41)\n"
          ]
        },
        {
          "output_type": "stream",
          "name": "stderr",
          "text": [
            "Epoch 443: 100%|██████████| 1400/1400 [00:20<00:00, 68.18batch/s, train_loss=tensor(0.0072, device='cuda:0', grad_fn=<MseLossBackward0>)]\n"
          ]
        },
        {
          "output_type": "stream",
          "name": "stdout",
          "text": [
            "0.051593408547341825 0.9447004608294931 0.9075207582822532 0.9562554680664916 0.8286580742987112 0.8286580742987112 0.8552888660895016 0.9539695311196671 0.8878960194963443\n",
            "Epoch: 443 / 500, ############## the best accuracy in val  94.5903 at Epoch: 202  ##############\n",
            "Performance in Val: Loss: (0.0516); Accuracy (94.47)\n"
          ]
        },
        {
          "output_type": "stream",
          "name": "stderr",
          "text": [
            "Epoch 444: 100%|██████████| 1400/1400 [00:21<00:00, 65.82batch/s, train_loss=tensor(0.0081, device='cuda:0', grad_fn=<MseLossBackward0>)]\n"
          ]
        },
        {
          "output_type": "stream",
          "name": "stdout",
          "text": [
            "0.0515764195472002 0.9436986575836506 0.9070828398750621 0.951304347826087 0.8294162244124337 0.8294162244124337 0.8525413483504619 0.953282612430028 0.886188740380721\n",
            "Epoch: 444 / 500, ############## the best accuracy in val  94.5903 at Epoch: 202  ##############\n",
            "Performance in Val: Loss: (0.0516); Accuracy (94.37)\n"
          ]
        },
        {
          "output_type": "stream",
          "name": "stderr",
          "text": [
            "Epoch 445: 100%|██████████| 1400/1400 [00:21<00:00, 64.94batch/s, train_loss=tensor(0.0077, device='cuda:0', grad_fn=<MseLossBackward0>)]\n"
          ]
        },
        {
          "output_type": "stream",
          "name": "stdout",
          "text": [
            "0.051305555086582896 0.9453015427769986 0.9096296213709139 0.9532062391681109 0.8339651250947687 0.8339651250947687 0.8568331878554007 0.9545589969624444 0.8896077638495753\n",
            "Epoch: 445 / 500, ############## the best accuracy in val  94.5903 at Epoch: 202  ##############\n",
            "Performance in Val: Loss: (0.0513); Accuracy (94.53)\n"
          ]
        },
        {
          "output_type": "stream",
          "name": "stderr",
          "text": [
            "Epoch 446: 100%|██████████| 1400/1400 [00:20<00:00, 67.41batch/s, train_loss=tensor(0.0065, device='cuda:0', grad_fn=<MseLossBackward0>)]\n"
          ]
        },
        {
          "output_type": "stream",
          "name": "stdout",
          "text": [
            "0.05139430155977607 0.9449008214786616 0.9081427428186337 0.9554973821989529 0.8301743745261562 0.8301743745261562 0.8558060011182232 0.955244676844708 0.8884381338742393\n",
            "Epoch: 446 / 500, ############## the best accuracy in val  94.5903 at Epoch: 202  ##############\n",
            "Performance in Val: Loss: (0.0514); Accuracy (94.49)\n"
          ]
        },
        {
          "output_type": "stream",
          "name": "stderr",
          "text": [
            "Epoch 447: 100%|██████████| 1400/1400 [00:20<00:00, 67.94batch/s, train_loss=tensor(0.0057, device='cuda:0', grad_fn=<MseLossBackward0>)]\n"
          ]
        },
        {
          "output_type": "stream",
          "name": "stdout",
          "text": [
            "0.05122414641082287 0.9445001001803246 0.9078704116639496 0.9538327526132404 0.8301743745261562 0.8301743745261562 0.8547119867187869 0.9542920339730535 0.8877178759627077\n",
            "Epoch: 447 / 500, ############## the best accuracy in val  94.5903 at Epoch: 202  ##############\n",
            "Performance in Val: Loss: (0.0512); Accuracy (94.45)\n"
          ]
        },
        {
          "output_type": "stream",
          "name": "stderr",
          "text": [
            "Epoch 448: 100%|██████████| 1400/1400 [00:20<00:00, 67.89batch/s, train_loss=tensor(0.0056, device='cuda:0', grad_fn=<MseLossBackward0>)]\n"
          ]
        },
        {
          "output_type": "stream",
          "name": "stdout",
          "text": [
            "0.051524893194437024 0.9442997395311561 0.9072484271275691 0.9545851528384279 0.8286580742987112 0.8286580742987112 0.8541925160521735 0.9528676119592813 0.8871753246753248\n",
            "Epoch: 448 / 500, ############## the best accuracy in val  94.5903 at Epoch: 202  ##############\n",
            "Performance in Val: Loss: (0.0515); Accuracy (94.43)\n"
          ]
        },
        {
          "output_type": "stream",
          "name": "stderr",
          "text": [
            "Epoch 449: 100%|██████████| 1400/1400 [00:20<00:00, 67.88batch/s, train_loss=tensor(0.0075, device='cuda:0', grad_fn=<MseLossBackward0>)]\n"
          ]
        },
        {
          "output_type": "stream",
          "name": "stdout",
          "text": [
            "0.05126940878108144 0.9447004608294931 0.9087353056798493 0.9522983521248916 0.8324488248673237 0.8324488248673237 0.8552217623954532 0.9546130915511685 0.8883495145631067\n",
            "Epoch: 449 / 500, ############## the best accuracy in val  94.5903 at Epoch: 202  ##############\n",
            "Performance in Val: Loss: (0.0513); Accuracy (94.47)\n"
          ]
        },
        {
          "output_type": "stream",
          "name": "stderr",
          "text": [
            "Epoch 450: 100%|██████████| 1400/1400 [00:20<00:00, 69.32batch/s, train_loss=tensor(0.0065, device='cuda:0', grad_fn=<MseLossBackward0>)]\n"
          ]
        },
        {
          "output_type": "stream",
          "name": "stdout",
          "text": [
            "0.05199730396270752 0.9447004608294931 0.9075207582822532 0.9562554680664916 0.8286580742987112 0.8286580742987112 0.8552888660895016 0.9526768356234752 0.8878960194963443\n",
            "Epoch: 450 / 500, ############## the best accuracy in val  94.5903 at Epoch: 202  ##############\n",
            "Performance in Val: Loss: (0.0520); Accuracy (94.47)\n"
          ]
        },
        {
          "output_type": "stream",
          "name": "stderr",
          "text": [
            "Epoch 451: 100%|██████████| 1400/1400 [00:20<00:00, 67.60batch/s, train_loss=tensor(0.0064, device='cuda:0', grad_fn=<MseLossBackward0>)]\n"
          ]
        },
        {
          "output_type": "stream",
          "name": "stdout",
          "text": [
            "0.051460317056626084 0.9449008214786616 0.9083856522981528 0.9547038327526133 0.8309325246398787 0.8309325246398787 0.8557916981504193 0.953545239593605 0.8885285772192948\n",
            "Epoch: 451 / 500, ############## the best accuracy in val  94.5903 at Epoch: 202  ##############\n",
            "Performance in Val: Loss: (0.0515); Accuracy (94.49)\n"
          ]
        },
        {
          "output_type": "stream",
          "name": "stderr",
          "text": [
            "Epoch 452: 100%|██████████| 1400/1400 [00:20<00:00, 67.37batch/s, train_loss=tensor(0.0072, device='cuda:0', grad_fn=<MseLossBackward0>)]\n"
          ]
        },
        {
          "output_type": "stream",
          "name": "stdout",
          "text": [
            "0.051895995251834394 0.9453015427769986 0.9084150739733177 0.9571678321678322 0.8301743745261562 0.8301743745261562 0.8569024551968157 0.9525835121345312 0.8891595615103532\n",
            "Epoch: 452 / 500, ############## the best accuracy in val  94.5903 at Epoch: 202  ##############\n",
            "Performance in Val: Loss: (0.0519); Accuracy (94.53)\n"
          ]
        },
        {
          "output_type": "stream",
          "name": "stderr",
          "text": [
            "Epoch 453: 100%|██████████| 1400/1400 [00:20<00:00, 68.18batch/s, train_loss=tensor(0.0058, device='cuda:0', grad_fn=<MseLossBackward0>)]\n"
          ]
        },
        {
          "output_type": "stream",
          "name": "stdout",
          "text": [
            "0.05190217820927501 0.9453015427769986 0.9084150739733177 0.9571678321678322 0.8301743745261562 0.8301743745261562 0.8569024551968157 0.9524191636893996 0.8891595615103532\n",
            "Epoch: 453 / 500, ############## the best accuracy in val  94.5903 at Epoch: 202  ##############\n",
            "Performance in Val: Loss: (0.0519); Accuracy (94.53)\n"
          ]
        },
        {
          "output_type": "stream",
          "name": "stderr",
          "text": [
            "Epoch 454: 100%|██████████| 1400/1400 [00:20<00:00, 69.50batch/s, train_loss=tensor(0.0061, device='cuda:0', grad_fn=<MseLossBackward0>)]\n"
          ]
        },
        {
          "output_type": "stream",
          "name": "stdout",
          "text": [
            "0.051418228261172774 0.9445001001803246 0.9073845927049111 0.9554195804195804 0.8286580742987112 0.8286580742987112 0.8547403853193714 0.9533777941300352 0.8875355257815672\n",
            "Epoch: 454 / 500, ############## the best accuracy in val  94.5903 at Epoch: 202  ##############\n",
            "Performance in Val: Loss: (0.0514); Accuracy (94.45)\n"
          ]
        },
        {
          "output_type": "stream",
          "name": "stderr",
          "text": [
            "Epoch 455: 100%|██████████| 1400/1400 [00:20<00:00, 67.74batch/s, train_loss=tensor(0.0083, device='cuda:0', grad_fn=<MseLossBackward0>)]\n"
          ]
        },
        {
          "output_type": "stream",
          "name": "stdout",
          "text": [
            "0.0516266530379653 0.9438990182328191 0.906976095972885 0.952920662598082 0.8286580742987112 0.8286580742987112 0.8530986066574788 0.9535949983565157 0.886455798864558\n",
            "Epoch: 455 / 500, ############## the best accuracy in val  94.5903 at Epoch: 202  ##############\n",
            "Performance in Val: Loss: (0.0516); Accuracy (94.39)\n"
          ]
        },
        {
          "output_type": "stream",
          "name": "stderr",
          "text": [
            "Epoch 456: 100%|██████████| 1400/1400 [00:22<00:00, 63.56batch/s, train_loss=tensor(0.0078, device='cuda:0', grad_fn=<MseLossBackward0>)]\n"
          ]
        },
        {
          "output_type": "stream",
          "name": "stdout",
          "text": [
            "0.05159969478845596 0.9449008214786616 0.9081427428186337 0.9554973821989529 0.8301743745261562 0.8301743745261562 0.8558060011182232 0.953816125473018 0.8884381338742393\n",
            "Epoch: 456 / 500, ############## the best accuracy in val  94.5903 at Epoch: 202  ##############\n",
            "Performance in Val: Loss: (0.0516); Accuracy (94.49)\n"
          ]
        },
        {
          "output_type": "stream",
          "name": "stderr",
          "text": [
            "Epoch 457: 100%|██████████| 1400/1400 [00:22<00:00, 62.69batch/s, train_loss=tensor(0.0065, device='cuda:0', grad_fn=<MseLossBackward0>)]\n"
          ]
        },
        {
          "output_type": "stream",
          "name": "stdout",
          "text": [
            "0.05170755293220282 0.9438990182328191 0.906976095972885 0.952920662598082 0.8286580742987112 0.8286580742987112 0.8530986066574788 0.9518903994080152 0.886455798864558\n",
            "Epoch: 457 / 500, ############## the best accuracy in val  94.5903 at Epoch: 202  ##############\n",
            "Performance in Val: Loss: (0.0517); Accuracy (94.39)\n"
          ]
        },
        {
          "output_type": "stream",
          "name": "stderr",
          "text": [
            "Epoch 458: 100%|██████████| 1400/1400 [00:21<00:00, 65.42batch/s, train_loss=tensor(0.0063, device='cuda:0', grad_fn=<MseLossBackward0>)]\n"
          ]
        },
        {
          "output_type": "stream",
          "name": "stdout",
          "text": [
            "0.05154764521867037 0.9440993788819876 0.9068693520707078 0.9545454545454546 0.8278999241849886 0.8278999241849886 0.8536593503806491 0.9534614136278723 0.8867235079171742\n",
            "Epoch: 458 / 500, ############## the best accuracy in val  94.5903 at Epoch: 202  ##############\n",
            "Performance in Val: Loss: (0.0515); Accuracy (94.41)\n"
          ]
        },
        {
          "output_type": "stream",
          "name": "stderr",
          "text": [
            "Epoch 459: 100%|██████████| 1400/1400 [00:21<00:00, 63.74batch/s, train_loss=tensor(0.0075, device='cuda:0', grad_fn=<MseLossBackward0>)]\n"
          ]
        },
        {
          "output_type": "stream",
          "name": "stdout",
          "text": [
            "0.05154246212914586 0.9438990182328191 0.906976095972885 0.952920662598082 0.8286580742987112 0.8286580742987112 0.8530986066574788 0.9545981226287161 0.886455798864558\n",
            "Epoch: 459 / 500, ############## the best accuracy in val  94.5903 at Epoch: 202  ##############\n",
            "Performance in Val: Loss: (0.0515); Accuracy (94.39)\n"
          ]
        },
        {
          "output_type": "stream",
          "name": "stderr",
          "text": [
            "Epoch 460: 100%|██████████| 1400/1400 [00:22<00:00, 63.48batch/s, train_loss=tensor(0.0094, device='cuda:0', grad_fn=<MseLossBackward0>)]\n"
          ]
        },
        {
          "output_type": "stream",
          "name": "stdout",
          "text": [
            "0.05197808407247066 0.9453015427769986 0.9089008929323562 0.955574912891986 0.8316906747536013 0.8316906747536013 0.8568714095820517 0.9516852735534447 0.8893392784758816\n",
            "Epoch: 460 / 500, ############## the best accuracy in val  94.5903 at Epoch: 202  ##############\n",
            "Performance in Val: Loss: (0.0520); Accuracy (94.53)\n"
          ]
        },
        {
          "output_type": "stream",
          "name": "stderr",
          "text": [
            "Epoch 461: 100%|██████████| 1400/1400 [00:21<00:00, 66.41batch/s, train_loss=tensor(0.0064, device='cuda:0', grad_fn=<MseLossBackward0>)]\n"
          ]
        },
        {
          "output_type": "stream",
          "name": "stdout",
          "text": [
            "0.0515220308676362 0.9453015427769986 0.9089008929323562 0.955574912891986 0.8316906747536013 0.8316906747536013 0.8568714095820517 0.953200851143254 0.8893392784758816\n",
            "Epoch: 461 / 500, ############## the best accuracy in val  94.5903 at Epoch: 202  ##############\n",
            "Performance in Val: Loss: (0.0515); Accuracy (94.53)\n"
          ]
        },
        {
          "output_type": "stream",
          "name": "stderr",
          "text": [
            "Epoch 462: 100%|██████████| 1400/1400 [00:21<00:00, 63.86batch/s, train_loss=tensor(0.0095, device='cuda:0', grad_fn=<MseLossBackward0>)]\n"
          ]
        },
        {
          "output_type": "stream",
          "name": "stdout",
          "text": [
            "0.05123778590932489 0.9449008214786616 0.907414014380076 0.9578947368421052 0.8278999241849886 0.8278999241849886 0.855855623641772 0.9558741974592886 0.8881659211061407\n",
            "Epoch: 462 / 500, ############## the best accuracy in val  94.5903 at Epoch: 202  ##############\n",
            "Performance in Val: Loss: (0.0512); Accuracy (94.49)\n"
          ]
        },
        {
          "output_type": "stream",
          "name": "stderr",
          "text": [
            "Epoch 463: 100%|██████████| 1400/1400 [00:20<00:00, 68.23batch/s, train_loss=tensor(0.0079, device='cuda:0', grad_fn=<MseLossBackward0>)]\n"
          ]
        },
        {
          "output_type": "stream",
          "name": "stdout",
          "text": [
            "0.05162193449214101 0.9440993788819876 0.9068693520707078 0.9545454545454546 0.8278999241849886 0.8278999241849886 0.8536593503806491 0.9541885935572105 0.8867235079171742\n",
            "Epoch: 463 / 500, ############## the best accuracy in val  94.5903 at Epoch: 202  ##############\n",
            "Performance in Val: Loss: (0.0516); Accuracy (94.41)\n"
          ]
        },
        {
          "output_type": "stream",
          "name": "stderr",
          "text": [
            "Epoch 464: 100%|██████████| 1400/1400 [00:21<00:00, 63.83batch/s, train_loss=tensor(0.0077, device='cuda:0', grad_fn=<MseLossBackward0>)]\n"
          ]
        },
        {
          "output_type": "stream",
          "name": "stdout",
          "text": [
            "0.05150383878499269 0.9445001001803246 0.9078704116639496 0.9538327526132404 0.8301743745261562 0.8301743745261562 0.8547119867187869 0.9539294763478637 0.8877178759627077\n",
            "Epoch: 464 / 500, ############## the best accuracy in val  94.5903 at Epoch: 202  ##############\n",
            "Performance in Val: Loss: (0.0515); Accuracy (94.45)\n"
          ]
        },
        {
          "output_type": "stream",
          "name": "stderr",
          "text": [
            "Epoch 465: 100%|██████████| 1400/1400 [00:21<00:00, 66.13batch/s, train_loss=tensor(0.0062, device='cuda:0', grad_fn=<MseLossBackward0>)]\n"
          ]
        },
        {
          "output_type": "stream",
          "name": "stdout",
          "text": [
            "0.05130627527832985 0.9453015427769986 0.908657983452837 0.956369982547993 0.8309325246398787 0.8309325246398787 0.856886373205023 0.9538260359320209 0.8892494929006084\n",
            "Epoch: 465 / 500, ############## the best accuracy in val  94.5903 at Epoch: 202  ##############\n",
            "Performance in Val: Loss: (0.0513); Accuracy (94.53)\n"
          ]
        },
        {
          "output_type": "stream",
          "name": "stderr",
          "text": [
            "Epoch 466: 100%|██████████| 1400/1400 [00:21<00:00, 64.53batch/s, train_loss=tensor(0.0074, device='cuda:0', grad_fn=<MseLossBackward0>)]\n"
          ]
        },
        {
          "output_type": "stream",
          "name": "stdout",
          "text": [
            "0.051359671726822854 0.9457022640753356 0.9101448620051171 0.9540727902946274 0.8347232752084913 0.8347232752084913 0.8579109304113213 0.9540316779563313 0.8904164981803477\n",
            "Epoch: 466 / 500, ############## the best accuracy in val  94.5903 at Epoch: 202  ##############\n",
            "Performance in Val: Loss: (0.0514); Accuracy (94.57)\n"
          ]
        },
        {
          "output_type": "stream",
          "name": "stderr",
          "text": [
            "Epoch 467: 100%|██████████| 1400/1400 [00:21<00:00, 65.45batch/s, train_loss=tensor(0.0086, device='cuda:0', grad_fn=<MseLossBackward0>)]\n"
          ]
        },
        {
          "output_type": "stream",
          "name": "stdout",
          "text": [
            "0.051570501457899806 0.9447004608294931 0.9082494867208109 0.9538729329852045 0.8309325246398787 0.8309325246398787 0.8552452729825031 0.9541555586938676 0.8881685575364667\n",
            "Epoch: 467 / 500, ############## the best accuracy in val  94.5903 at Epoch: 202  ##############\n",
            "Performance in Val: Loss: (0.0516); Accuracy (94.47)\n"
          ]
        },
        {
          "output_type": "stream",
          "name": "stderr",
          "text": [
            "Epoch 468: 100%|██████████| 1400/1400 [00:20<00:00, 68.91batch/s, train_loss=tensor(0.0049, device='cuda:0', grad_fn=<MseLossBackward0>)]\n"
          ]
        },
        {
          "output_type": "stream",
          "name": "stdout",
          "text": [
            "0.05123077901080251 0.9442997395311561 0.9074913366070883 0.953792502179599 0.8294162244124337 0.8294162244124337 0.8541786481426707 0.954960577019958 0.8872668288726683\n",
            "Epoch: 468 / 500, ############## the best accuracy in val  94.5903 at Epoch: 202  ##############\n",
            "Performance in Val: Loss: (0.0512); Accuracy (94.43)\n"
          ]
        },
        {
          "output_type": "stream",
          "name": "stderr",
          "text": [
            "Epoch 469: 100%|██████████| 1400/1400 [00:21<00:00, 64.73batch/s, train_loss=tensor(0.0111, device='cuda:0', grad_fn=<MseLossBackward0>)]\n"
          ]
        },
        {
          "output_type": "stream",
          "name": "stdout",
          "text": [
            "0.05125005757436156 0.9445001001803246 0.9076275021844303 0.9546247818499127 0.8294162244124337 0.8294162244124337 0.8547256290314235 0.9552364181288724 0.8876267748478702\n",
            "Epoch: 469 / 500, ############## the best accuracy in val  94.5903 at Epoch: 202  ##############\n",
            "Performance in Val: Loss: (0.0513); Accuracy (94.45)\n"
          ]
        },
        {
          "output_type": "stream",
          "name": "stderr",
          "text": [
            "Epoch 470: 100%|██████████| 1400/1400 [00:21<00:00, 65.53batch/s, train_loss=tensor(0.0098, device='cuda:0', grad_fn=<MseLossBackward0>)]\n"
          ]
        },
        {
          "output_type": "stream",
          "name": "stdout",
          "text": [
            "0.05183747010305524 0.9438990182328191 0.9072190054524042 0.9521322889469104 0.8294162244124337 0.8294162244124337 0.8530865091325329 0.9523258402004555 0.8865478119935171\n",
            "Epoch: 470 / 500, ############## the best accuracy in val  94.5903 at Epoch: 202  ##############\n",
            "Performance in Val: Loss: (0.0518); Accuracy (94.39)\n"
          ]
        },
        {
          "output_type": "stream",
          "name": "stderr",
          "text": [
            "Epoch 471: 100%|██████████| 1400/1400 [00:20<00:00, 68.14batch/s, train_loss=tensor(0.0056, device='cuda:0', grad_fn=<MseLossBackward0>)]\n"
          ]
        },
        {
          "output_type": "stream",
          "name": "stdout",
          "text": [
            "0.05131386527791619 0.9455019034261671 0.908794149030179 0.9572052401746725 0.8309325246398787 0.8309325246398787 0.8574346257649601 0.9544293351238229 0.8896103896103895\n",
            "Epoch: 471 / 500, ############## the best accuracy in val  94.5903 at Epoch: 202  ##############\n",
            "Performance in Val: Loss: (0.0513); Accuracy (94.55)\n"
          ]
        },
        {
          "output_type": "stream",
          "name": "stderr",
          "text": [
            "Epoch 472: 100%|██████████| 1400/1400 [00:19<00:00, 70.26batch/s, train_loss=tensor(0.0074, device='cuda:0', grad_fn=<MseLossBackward0>)]\n"
          ]
        },
        {
          "output_type": "stream",
          "name": "stdout",
          "text": [
            "0.051468624733388424 0.9438990182328191 0.9057615485752889 0.9569041336851363 0.8248673237300985 0.8248673237300985 0.8531758062458441 0.9527204003495089 0.8859934853420195\n",
            "Epoch: 472 / 500, ############## the best accuracy in val  94.5903 at Epoch: 202  ##############\n",
            "Performance in Val: Loss: (0.0515); Accuracy (94.39)\n"
          ]
        },
        {
          "output_type": "stream",
          "name": "stderr",
          "text": [
            "Epoch 473: 100%|██████████| 1400/1400 [00:21<00:00, 65.15batch/s, train_loss=tensor(0.0075, device='cuda:0', grad_fn=<MseLossBackward0>)]\n"
          ]
        },
        {
          "output_type": "stream",
          "name": "stdout",
          "text": [
            "0.051816282141953704 0.9449008214786616 0.9083856522981528 0.9547038327526133 0.8309325246398787 0.8309325246398787 0.8557916981504193 0.9510742318155465 0.8885285772192948\n",
            "Epoch: 473 / 500, ############## the best accuracy in val  94.5903 at Epoch: 202  ##############\n",
            "Performance in Val: Loss: (0.0518); Accuracy (94.49)\n"
          ]
        },
        {
          "output_type": "stream",
          "name": "stderr",
          "text": [
            "Epoch 474: 100%|██████████| 1400/1400 [00:20<00:00, 69.57batch/s, train_loss=tensor(0.0065, device='cuda:0', grad_fn=<MseLossBackward0>)]\n"
          ]
        },
        {
          "output_type": "stream",
          "name": "stdout",
          "text": [
            "0.051460601203143594 0.9453015427769986 0.9091438024118754 0.9547826086956521 0.8324488248673237 0.8324488248673237 0.8568575602069327 0.953486809179067 0.8894289185905224\n",
            "Epoch: 474 / 500, ############## the best accuracy in val  94.5903 at Epoch: 202  ##############\n",
            "Performance in Val: Loss: (0.0515); Accuracy (94.53)\n"
          ]
        },
        {
          "output_type": "stream",
          "name": "stderr",
          "text": [
            "Epoch 475: 100%|██████████| 1400/1400 [00:20<00:00, 66.74batch/s, train_loss=tensor(0.0068, device='cuda:0', grad_fn=<MseLossBackward0>)]\n"
          ]
        },
        {
          "output_type": "stream",
          "name": "stdout",
          "text": [
            "0.051247003674507144 0.9440993788819876 0.9068693520707078 0.9545454545454546 0.8278999241849886 0.8278999241849886 0.8536593503806491 0.9541493646569907 0.8867235079171742\n",
            "Epoch: 475 / 500, ############## the best accuracy in val  94.5903 at Epoch: 202  ##############\n",
            "Performance in Val: Loss: (0.0512); Accuracy (94.41)\n"
          ]
        },
        {
          "output_type": "stream",
          "name": "stderr",
          "text": [
            "Epoch 476: 100%|██████████| 1400/1400 [00:21<00:00, 66.24batch/s, train_loss=tensor(0.0065, device='cuda:0', grad_fn=<MseLossBackward0>)]\n"
          ]
        },
        {
          "output_type": "stream",
          "name": "stdout",
          "text": [
            "0.05130419479683042 0.9432979362853136 0.9060817802818204 0.9520069808027923 0.8271417740712661 0.8271417740712661 0.8514845127710242 0.9548218305939172 0.8851926977687626\n",
            "Epoch: 476 / 500, ############## the best accuracy in val  94.5903 at Epoch: 202  ##############\n",
            "Performance in Val: Loss: (0.0513); Accuracy (94.33)\n"
          ]
        },
        {
          "output_type": "stream",
          "name": "stderr",
          "text": [
            "Epoch 477: 100%|██████████| 1400/1400 [00:20<00:00, 69.21batch/s, train_loss=tensor(0.0063, device='cuda:0', grad_fn=<MseLossBackward0>)]\n"
          ]
        },
        {
          "output_type": "stream",
          "name": "stdout",
          "text": [
            "0.05185460299253464 0.9438990182328191 0.906976095972885 0.952920662598082 0.8286580742987112 0.8286580742987112 0.8530986066574788 0.9526415296132773 0.886455798864558\n",
            "Epoch: 477 / 500, ############## the best accuracy in val  94.5903 at Epoch: 202  ##############\n",
            "Performance in Val: Loss: (0.0519); Accuracy (94.39)\n"
          ]
        },
        {
          "output_type": "stream",
          "name": "stderr",
          "text": [
            "Epoch 478: 100%|██████████| 1400/1400 [00:20<00:00, 66.70batch/s, train_loss=tensor(0.0060, device='cuda:0', grad_fn=<MseLossBackward0>)]\n"
          ]
        },
        {
          "output_type": "stream",
          "name": "stdout",
          "text": [
            "0.051827915199100974 0.9436986575836506 0.9061112019569852 0.9544658493870403 0.8263836239575436 0.8263836239575436 0.8525928597202299 0.9533844011027037 0.8858187728565624\n",
            "Epoch: 478 / 500, ############## the best accuracy in val  94.5903 at Epoch: 202  ##############\n",
            "Performance in Val: Loss: (0.0518); Accuracy (94.37)\n"
          ]
        },
        {
          "output_type": "stream",
          "name": "stderr",
          "text": [
            "Epoch 479: 100%|██████████| 1400/1400 [00:20<00:00, 68.52batch/s, train_loss=tensor(0.0074, device='cuda:0', grad_fn=<MseLossBackward0>)]\n"
          ]
        },
        {
          "output_type": "stream",
          "name": "stdout",
          "text": [
            "0.05115668019279838 0.9447004608294931 0.9080065772412915 0.9546643417611159 0.8301743745261562 0.8301743745261562 0.8552586896278627 0.9543572778281559 0.8880778588807786\n",
            "Epoch: 479 / 500, ############## the best accuracy in val  94.5903 at Epoch: 202  ##############\n",
            "Performance in Val: Loss: (0.0512); Accuracy (94.47)\n"
          ]
        },
        {
          "output_type": "stream",
          "name": "stderr",
          "text": [
            "Epoch 480: 100%|██████████| 1400/1400 [00:20<00:00, 68.97batch/s, train_loss=tensor(0.0073, device='cuda:0', grad_fn=<MseLossBackward0>)]\n"
          ]
        },
        {
          "output_type": "stream",
          "name": "stdout",
          "text": [
            "0.05091199772432446 0.9440993788819876 0.9063835331116694 0.956140350877193 0.8263836239575436 0.8263836239575436 0.8536908891027178 0.9544623699871659 0.8865392435949573\n",
            "Epoch: 480 / 500, ############## the best accuracy in val  94.5903 at Epoch: 202  ##############\n",
            "Performance in Val: Loss: (0.0509); Accuracy (94.41)\n"
          ]
        },
        {
          "output_type": "stream",
          "name": "stderr",
          "text": [
            "Epoch 481: 100%|██████████| 1400/1400 [00:21<00:00, 66.50batch/s, train_loss=tensor(0.0067, device='cuda:0', grad_fn=<MseLossBackward0>)]\n"
          ]
        },
        {
          "output_type": "stream",
          "name": "stdout",
          "text": [
            "0.05133779244497418 0.9445001001803246 0.9068987737458727 0.9570175438596491 0.8271417740712661 0.8271417740712661 0.8547732563722449 0.9536292720272339 0.887352582350549\n",
            "Epoch: 481 / 500, ############## the best accuracy in val  94.5903 at Epoch: 202  ##############\n",
            "Performance in Val: Loss: (0.0513); Accuracy (94.45)\n"
          ]
        },
        {
          "output_type": "stream",
          "name": "stderr",
          "text": [
            "Epoch 482: 100%|██████████| 1400/1400 [00:20<00:00, 68.31batch/s, train_loss=tensor(0.0096, device='cuda:0', grad_fn=<MseLossBackward0>)]\n"
          ]
        },
        {
          "output_type": "stream",
          "name": "stdout",
          "text": [
            "0.051617250125855205 0.9442997395311561 0.9070055176480498 0.9553805774278216 0.8278999241849886 0.8278999241849886 0.8542074988981749 0.9520512378989165 0.8870836718115354\n",
            "Epoch: 482 / 500, ############## the best accuracy in val  94.5903 at Epoch: 202  ##############\n",
            "Performance in Val: Loss: (0.0516); Accuracy (94.43)\n"
          ]
        },
        {
          "output_type": "stream",
          "name": "stderr",
          "text": [
            "Epoch 483: 100%|██████████| 1400/1400 [00:21<00:00, 66.50batch/s, train_loss=tensor(0.0066, device='cuda:0', grad_fn=<MseLossBackward0>)]\n"
          ]
        },
        {
          "output_type": "stream",
          "name": "stdout",
          "text": [
            "0.05146458353847265 0.9447004608294931 0.9080065772412915 0.9546643417611159 0.8301743745261562 0.8301743745261562 0.8552586896278627 0.9531273485723157 0.8880778588807786\n",
            "Epoch: 483 / 500, ############## the best accuracy in val  94.5903 at Epoch: 202  ##############\n",
            "Performance in Val: Loss: (0.0515); Accuracy (94.47)\n"
          ]
        },
        {
          "output_type": "stream",
          "name": "stderr",
          "text": [
            "Epoch 484: 100%|██████████| 1400/1400 [00:21<00:00, 66.41batch/s, train_loss=tensor(0.0096, device='cuda:0', grad_fn=<MseLossBackward0>)]\n"
          ]
        },
        {
          "output_type": "stream",
          "name": "stdout",
          "text": [
            "0.051287506520748136 0.9442997395311561 0.9072484271275691 0.9545851528384279 0.8286580742987112 0.8286580742987112 0.8541925160521735 0.9537779289122776 0.8871753246753248\n",
            "Epoch: 484 / 500, ############## the best accuracy in val  94.5903 at Epoch: 202  ##############\n",
            "Performance in Val: Loss: (0.0513); Accuracy (94.43)\n"
          ]
        },
        {
          "output_type": "stream",
          "name": "stderr",
          "text": [
            "Epoch 485: 100%|██████████| 1400/1400 [00:20<00:00, 68.97batch/s, train_loss=tensor(0.0085, device='cuda:0', grad_fn=<MseLossBackward0>)]\n"
          ]
        },
        {
          "output_type": "stream",
          "name": "stdout",
          "text": [
            "0.051753634307533505 0.9449008214786616 0.9088714712571913 0.953125 0.8324488248673237 0.8324488248673237 0.8557664243113353 0.9526886042935413 0.8887090246863619\n",
            "Epoch: 485 / 500, ############## the best accuracy in val  94.5903 at Epoch: 202  ##############\n",
            "Performance in Val: Loss: (0.0518); Accuracy (94.49)\n"
          ]
        },
        {
          "output_type": "stream",
          "name": "stderr",
          "text": [
            "Epoch 486: 100%|██████████| 1400/1400 [00:20<00:00, 67.07batch/s, train_loss=tensor(0.0066, device='cuda:0', grad_fn=<MseLossBackward0>)]\n"
          ]
        },
        {
          "output_type": "stream",
          "name": "stdout",
          "text": [
            "0.051499085407704114 0.9445001001803246 0.9076275021844303 0.9546247818499127 0.8294162244124337 0.8294162244124337 0.8547256290314235 0.9525031961230284 0.8876267748478702\n",
            "Epoch: 486 / 500, ############## the best accuracy in val  94.5903 at Epoch: 202  ##############\n",
            "Performance in Val: Loss: (0.0515); Accuracy (94.45)\n"
          ]
        },
        {
          "output_type": "stream",
          "name": "stderr",
          "text": [
            "Epoch 487: 100%|██████████| 1400/1400 [00:20<00:00, 66.68batch/s, train_loss=tensor(0.0074, device='cuda:0', grad_fn=<MseLossBackward0>)]\n"
          ]
        },
        {
          "output_type": "stream",
          "name": "stdout",
          "text": [
            "0.05135690541937947 0.9442997395311561 0.9074913366070883 0.953792502179599 0.8294162244124337 0.8294162244124337 0.8541786481426707 0.9542848075966971 0.8872668288726683\n",
            "Epoch: 487 / 500, ############## the best accuracy in val  94.5903 at Epoch: 202  ##############\n",
            "Performance in Val: Loss: (0.0514); Accuracy (94.43)\n"
          ]
        },
        {
          "output_type": "stream",
          "name": "stderr",
          "text": [
            "Epoch 488: 100%|██████████| 1400/1400 [00:21<00:00, 66.34batch/s, train_loss=tensor(0.0073, device='cuda:0', grad_fn=<MseLossBackward0>)]\n"
          ]
        },
        {
          "output_type": "stream",
          "name": "stdout",
          "text": [
            "0.05140044577419758 0.9449008214786616 0.9078998333391144 0.9562937062937062 0.8294162244124337 0.8294162244124337 0.8558214202580936 0.9525568777759608 0.8883475436459601\n",
            "Epoch: 488 / 500, ############## the best accuracy in val  94.5903 at Epoch: 202  ##############\n",
            "Performance in Val: Loss: (0.0514); Accuracy (94.49)\n"
          ]
        },
        {
          "output_type": "stream",
          "name": "stderr",
          "text": [
            "Epoch 489: 100%|██████████| 1400/1400 [00:21<00:00, 65.79batch/s, train_loss=tensor(0.0073, device='cuda:0', grad_fn=<MseLossBackward0>)]\n"
          ]
        },
        {
          "output_type": "stream",
          "name": "stdout",
          "text": [
            "0.05099641717970371 0.9445001001803246 0.9078704116639496 0.9538327526132404 0.8301743745261562 0.8301743745261562 0.8547119867187869 0.9538811628602245 0.8877178759627077\n",
            "Epoch: 489 / 500, ############## the best accuracy in val  94.5903 at Epoch: 202  ##############\n",
            "Performance in Val: Loss: (0.0510); Accuracy (94.45)\n"
          ]
        },
        {
          "output_type": "stream",
          "name": "stderr",
          "text": [
            "Epoch 490: 100%|██████████| 1400/1400 [00:21<00:00, 65.58batch/s, train_loss=tensor(0.0056, device='cuda:0', grad_fn=<MseLossBackward0>)]\n"
          ]
        },
        {
          "output_type": "stream",
          "name": "stdout",
          "text": [
            "0.05199989154934883 0.9445001001803246 0.9076275021844303 0.9546247818499127 0.8294162244124337 0.8294162244124337 0.8547256290314235 0.951754543532517 0.8876267748478702\n",
            "Epoch: 490 / 500, ############## the best accuracy in val  94.5903 at Epoch: 202  ##############\n",
            "Performance in Val: Loss: (0.0520); Accuracy (94.45)\n"
          ]
        },
        {
          "output_type": "stream",
          "name": "stderr",
          "text": [
            "Epoch 491: 100%|██████████| 1400/1400 [00:20<00:00, 67.37batch/s, train_loss=tensor(0.0051, device='cuda:0', grad_fn=<MseLossBackward0>)]\n"
          ]
        },
        {
          "output_type": "stream",
          "name": "stdout",
          "text": [
            "0.05166786629706621 0.9440993788819876 0.9073551710297463 0.9529616724738676 0.8294162244124337 0.8294162244124337 0.8536322752871546 0.9533239060092068 0.8869071747061208\n",
            "Epoch: 491 / 500, ############## the best accuracy in val  94.5903 at Epoch: 202  ##############\n",
            "Performance in Val: Loss: (0.0517); Accuracy (94.41)\n"
          ]
        },
        {
          "output_type": "stream",
          "name": "stderr",
          "text": [
            "Epoch 492: 100%|██████████| 1400/1400 [00:21<00:00, 65.47batch/s, train_loss=tensor(0.0062, device='cuda:0', grad_fn=<MseLossBackward0>)]\n"
          ]
        },
        {
          "output_type": "stream",
          "name": "stdout",
          "text": [
            "0.05129708843305707 0.9451011821278301 0.9085218178754949 0.955536181342633 0.8309325246398787 0.8309325246398787 0.8563387311130546 0.9535499883552107 0.8888888888888887\n",
            "Epoch: 492 / 500, ############## the best accuracy in val  94.5903 at Epoch: 202  ##############\n",
            "Performance in Val: Loss: (0.0513); Accuracy (94.51)\n"
          ]
        },
        {
          "output_type": "stream",
          "name": "stderr",
          "text": [
            "Epoch 493: 100%|██████████| 1400/1400 [00:21<00:00, 65.45batch/s, train_loss=tensor(0.0095, device='cuda:0', grad_fn=<MseLossBackward0>)]\n"
          ]
        },
        {
          "output_type": "stream",
          "name": "stdout",
          "text": [
            "0.05182644566521048 0.9449008214786616 0.9078998333391144 0.9562937062937062 0.8294162244124337 0.8294162244124337 0.8558214202580936 0.9521140041392684 0.8883475436459601\n",
            "Epoch: 493 / 500, ############## the best accuracy in val  94.5903 at Epoch: 202  ##############\n",
            "Performance in Val: Loss: (0.0518); Accuracy (94.49)\n"
          ]
        },
        {
          "output_type": "stream",
          "name": "stderr",
          "text": [
            "Epoch 494: 100%|██████████| 1400/1400 [00:20<00:00, 67.13batch/s, train_loss=tensor(0.0073, device='cuda:0', grad_fn=<MseLossBackward0>)]\n"
          ]
        },
        {
          "output_type": "stream",
          "name": "stdout",
          "text": [
            "0.05141079416498542 0.9451011821278301 0.9077930894369373 0.957931638913234 0.8286580742987112 0.8286580742987112 0.8563876675320041 0.9541923099793367 0.8886178861788617\n",
            "Epoch: 494 / 500, ############## the best accuracy in val  94.5903 at Epoch: 202  ##############\n",
            "Performance in Val: Loss: (0.0514); Accuracy (94.51)\n"
          ]
        },
        {
          "output_type": "stream",
          "name": "stderr",
          "text": [
            "Epoch 495: 100%|██████████| 1400/1400 [00:20<00:00, 68.26batch/s, train_loss=tensor(0.0091, device='cuda:0', grad_fn=<MseLossBackward0>)]\n"
          ]
        },
        {
          "output_type": "stream",
          "name": "stdout",
          "text": [
            "0.05191806508228183 0.9455019034261671 0.9090370585096983 0.95640802092415 0.8316906747536013 0.8316906747536013 0.8574187725982465 0.9524773876360417 0.8896999188969993\n",
            "Epoch: 495 / 500, ############## the best accuracy in val  94.5903 at Epoch: 202  ##############\n",
            "Performance in Val: Loss: (0.0519); Accuracy (94.55)\n"
          ]
        },
        {
          "output_type": "stream",
          "name": "stderr",
          "text": [
            "Epoch 496: 100%|██████████| 1400/1400 [00:20<00:00, 68.18batch/s, train_loss=tensor(0.0088, device='cuda:0', grad_fn=<MseLossBackward0>)]\n"
          ]
        },
        {
          "output_type": "stream",
          "name": "stdout",
          "text": [
            "0.05113823898136616 0.9438990182328191 0.906976095972885 0.952920662598082 0.8286580742987112 0.8286580742987112 0.8530986066574788 0.9540314714884353 0.886455798864558\n",
            "Epoch: 496 / 500, ############## the best accuracy in val  94.5903 at Epoch: 202  ##############\n",
            "Performance in Val: Loss: (0.0511); Accuracy (94.39)\n"
          ]
        },
        {
          "output_type": "stream",
          "name": "stderr",
          "text": [
            "Epoch 497: 100%|██████████| 1400/1400 [00:20<00:00, 69.89batch/s, train_loss=tensor(0.0087, device='cuda:0', grad_fn=<MseLossBackward0>)]\n"
          ]
        },
        {
          "output_type": "stream",
          "name": "stdout",
          "text": [
            "0.05130784148350358 0.9457022640753356 0.9099019525255978 0.9548611111111112 0.8339651250947687 0.8339651250947687 0.8579232176617557 0.9539757251565439 0.8903278025091056\n",
            "Epoch: 497 / 500, ############## the best accuracy in val  94.5903 at Epoch: 202  ##############\n",
            "Performance in Val: Loss: (0.0513); Accuracy (94.57)\n"
          ]
        },
        {
          "output_type": "stream",
          "name": "stderr",
          "text": [
            "Epoch 498: 100%|██████████| 1400/1400 [00:20<00:00, 69.46batch/s, train_loss=tensor(0.0083, device='cuda:0', grad_fn=<MseLossBackward0>)]\n"
          ]
        },
        {
          "output_type": "stream",
          "name": "stdout",
          "text": [
            "0.051290884613990784 0.9451011821278301 0.9087647273550141 0.9547432550043516 0.8316906747536013 0.8316906747536013 0.8563246549074882 0.9537066974881941 0.8889789303079416\n",
            "Epoch: 498 / 500, ############## the best accuracy in val  94.5903 at Epoch: 202  ##############\n",
            "Performance in Val: Loss: (0.0513); Accuracy (94.51)\n"
          ]
        },
        {
          "output_type": "stream",
          "name": "stderr",
          "text": [
            "Epoch 499: 100%|██████████| 1400/1400 [00:20<00:00, 69.41batch/s, train_loss=tensor(0.0076, device='cuda:0', grad_fn=<MseLossBackward0>)]\n"
          ]
        },
        {
          "output_type": "stream",
          "name": "stdout",
          "text": [
            "0.050829399935901166 0.9451011821278301 0.9085218178754949 0.955536181342633 0.8309325246398787 0.8309325246398787 0.8563387311130546 0.9555042069898467 0.8888888888888887\n",
            "Epoch: 499 / 500, ############## the best accuracy in val  94.5903 at Epoch: 202  ##############\n",
            "Performance in Val: Loss: (0.0508); Accuracy (94.51)\n"
          ]
        }
      ],
      "source": [
        "initial_epoch = 0\n",
        "best_epoch = -1\n",
        "best_accuracy = 0.5\n",
        "for epoch in range(initial_epoch, 500):\n",
        "    torch.cuda.empty_cache()\n",
        "    model.train()\n",
        "    with tqdm(train_loader, desc='Processing', unit=\"batch\") as tepoch:\n",
        "        for ESP_train_df_enzy,ESP_train_df_smiles, y_train in tepoch:\n",
        "            model.train()\n",
        "            tepoch.set_description(f\"Epoch {epoch}\")\n",
        "            ESP_train_df_enzy = ESP_train_df_enzy.to(device)\n",
        "            ESP_train_df_smiles = ESP_train_df_smiles.to(device)\n",
        "            y_train = y_train.squeeze(1).to(device)\n",
        "            refined_enzy_embed, refined_smiles_embed = model(ESP_train_df_enzy,ESP_train_df_smiles)\n",
        "            cosine_sim = torch.nn.functional.cosine_similarity(refined_enzy_embed, refined_smiles_embed, dim=1)\n",
        "            loss = loss_fn(cosine_sim, y_train)\n",
        "            loss.backward()\n",
        "            optimizer.step()\n",
        "            optimizer.zero_grad(set_to_none=True) #\n",
        "            tepoch.set_postfix(train_loss=loss)\n",
        "            # tepoch.set_postfix(val_loss=loss_sum_val, val_accuracy=100. * acc_val, balanced_val_accuracy=100. * bacc_val)\n",
        "        loss_sum_val,acc_val, bacc_val = run_validation(model,val_loader,loss_fn, device)\n",
        "        print('Epoch: %d / %d, ############## the best accuracy in val  %.4f at Epoch: %d  ##############'  % (epoch, 500,100 * best_accuracy,best_epoch))\n",
        "        # print('Performance in Train: Loss: (%.4f); Accuracy (%.2f)' % (loss_sum, 100 * acc))\n",
        "        print('Performance in Val: Loss: (%.4f); Accuracy (%.2f)' % (loss_sum_val, 100 * acc_val))\n",
        "        # checkpoint(model, f\"epoch-{epoch}.pth\")\n",
        "        if acc_val > best_accuracy: # compare the performance updates at the val set\n",
        "            best_accuracy = acc_val\n",
        "            best_epoch = epoch\n",
        "            torch.save(model, \"best_model.pt\")\n",
        "\n"
      ]
    },
    {
      "cell_type": "code",
      "execution_count": null,
      "metadata": {
        "colab": {
          "base_uri": "https://localhost:8080/"
        },
        "outputId": "19d42eba-44fa-4058-877b-f112435b67cc",
        "id": "HCjpF1lsZ0zg"
      },
      "outputs": [
        {
          "output_type": "stream",
          "name": "stdout",
          "text": [
            "0.050947474874556066 0.9459026247245041 0.9105239370619784 0.9541125541125541 0.8354814253222138 0.8354814253222138 0.8584439092709639 0.9538031179955766 0.8908649959579629\n"
          ]
        },
        {
          "output_type": "execute_result",
          "data": {
            "text/plain": [
              "(0.050947474874556066, 0.9459026247245041, 0.9105239370619784)"
            ]
          },
          "metadata": {},
          "execution_count": 25
        }
      ],
      "source": [
        "import torch\n",
        "# Specify the file path where the entire model is saved\n",
        "load_path = 'best_model.pt'\n",
        "\n",
        "# Load the entire model\n",
        "model_test = torch.load(load_path)\n",
        "# model_test.to('cuda')\n",
        "# rename the baseline model\n",
        "torch.save(model_test, 'best_model_esm1b_ChemBERTa_pretrain_phylo.pt')\n",
        "run_validation(model_test,val_loader,loss_fn, device)"
      ]
    },
    {
      "cell_type": "code",
      "execution_count": null,
      "metadata": {
        "colab": {
          "base_uri": "https://localhost:8080/"
        },
        "outputId": "7ee6d873-50bd-4100-a6d8-e39b2b4c6910",
        "id": "2l3kDkw7Z0zg"
      },
      "outputs": [
        {
          "output_type": "stream",
          "name": "stdout",
          "text": [
            "0.050947474874556066 0.9459026247245041 0.9105239370619784 0.9541125541125541 0.8354814253222138 0.8354814253222138 0.8584439092709639 0.9538031179955766 0.8908649959579629\n",
            "0.05448395363986492 0.9387573004542504 0.8984486284751774 0.9473495702005731 0.8130956040577928 0.8130956040577928 0.8391253710594602 0.9517323699505181 0.8751033912324235\n"
          ]
        },
        {
          "output_type": "execute_result",
          "data": {
            "text/plain": [
              "(0.05448395363986492, 0.9387573004542504, 0.8984486284751774)"
            ]
          },
          "metadata": {},
          "execution_count": 26
        }
      ],
      "source": [
        "run_validation(model_test,val_loader,loss_fn, device)\n",
        "run_validation(model_test,test_loader,loss_fn, device)"
      ]
    },
    {
      "cell_type": "markdown",
      "metadata": {
        "id": "0rnWuZ2tZ0zg"
      },
      "source": [
        "### fine tuning\n"
      ]
    },
    {
      "cell_type": "code",
      "execution_count": null,
      "metadata": {
        "id": "4q_py_8_Z0zg"
      },
      "outputs": [],
      "source": [
        "def get_ds():\n",
        "    # Load the saved embeddings_results\n",
        "    ESP_train_df_enzy = torch.load('ESP_train_df_enzy_esm1b_MolFormer.pt')\n",
        "    ESP_val_df_enzy = torch.load('ESP_val_df_enzy_esm1b_MolFormer.pt')\n",
        "    ESP_test_df_enzy = torch.load('ESP_test_df_enzy_esm1b_MolFormer.pt')\n",
        "    print(ESP_train_df_enzy.shape, ESP_val_df_enzy.shape, ESP_test_df_enzy.shape)\n",
        "    # Load the saved embeddings_results\n",
        "    ESP_train_df_smiles = torch.load('ESP_train_df_smiles_esm1b_ChemBERT_v2.pt').detach()\n",
        "    ESP_val_df_smiles = torch.load('ESP_val_df_smiles_esm1b_ChemBERT_v2.pt').detach()\n",
        "    ESP_test_df_smiles = torch.load('ESP_test_df_smiles_esm1b_ChemBERT_v2.pt').detach()\n",
        "    print(ESP_train_df_smiles.shape, ESP_val_df_smiles.shape, ESP_test_df_smiles.shape)\n",
        "\n",
        "    y_train = torch.load( 'ESP_train_df_label_esm1b_MolFormer.pt')\n",
        "    y_val = torch.load('ESP_val_df_label_esm1b_MolFormer.pt')\n",
        "    y_test = torch.load('ESP_test_df_label_esm1b_MolFormer.pt')\n",
        "    print(y_train.shape,y_val.shape, y_test.shape)\n",
        "\n",
        "\n",
        "    train_tensor_dataset = TensorDataset(ESP_train_df_enzy,ESP_train_df_smiles, y_train)\n",
        "    val_tensor_dataset = TensorDataset(ESP_val_df_enzy,ESP_val_df_smiles, y_val)\n",
        "    test_tensor_dataset = TensorDataset(ESP_test_df_enzy, ESP_test_df_smiles, y_test)\n",
        "\n",
        "    # Create TensorDataset and DataLoaders\n",
        "    batch_size = 16\n",
        "    train_loader = DataLoader(train_tensor_dataset, batch_size=batch_size, shuffle=True)\n",
        "    val_loader = DataLoader(val_tensor_dataset, batch_size=batch_size, shuffle=False)\n",
        "    test_loader = DataLoader(test_tensor_dataset, batch_size=batch_size, shuffle=False)\n",
        "    print(len(train_loader))\n",
        "    return train_loader,  val_loader, test_loader"
      ]
    },
    {
      "cell_type": "code",
      "execution_count": null,
      "metadata": {
        "colab": {
          "base_uri": "https://localhost:8080/"
        },
        "outputId": "82de422e-d411-477b-c21f-fc3f71aa366f",
        "id": "L0f8j_USZ0zh"
      },
      "outputs": [
        {
          "output_type": "stream",
          "name": "stdout",
          "text": [
            "torch.Size([45911, 1280]) torch.Size([4991, 1280]) torch.Size([12328, 1280])\n",
            "torch.Size([45911, 600]) torch.Size([4991, 600]) torch.Size([12328, 600])\n",
            "torch.Size([45911, 1]) torch.Size([4991, 1]) torch.Size([12328, 1])\n",
            "2870\n"
          ]
        }
      ],
      "source": [
        "# laod the smaller training dataset\n",
        "train_loader,  val_loader, test_loader = get_ds()"
      ]
    },
    {
      "cell_type": "code",
      "execution_count": null,
      "metadata": {
        "colab": {
          "base_uri": "https://localhost:8080/"
        },
        "outputId": "6343ef1f-752d-4e7a-951c-35465a84dca6",
        "id": "1e11LufjZ0zh"
      },
      "outputs": [
        {
          "output_type": "stream",
          "name": "stderr",
          "text": [
            "Epoch 0: 100%|██████████| 2870/2870 [00:21<00:00, 135.45batch/s, train_loss=tensor(0.0729, device='cuda:0', grad_fn=<MseLossBackward0>)]\n"
          ]
        },
        {
          "output_type": "stream",
          "name": "stdout",
          "text": [
            "0.05154511659165086 0.9457022640753356 0.9103877714846363 0.9532871972318339 0.8354814253222138 0.8354814253222138 0.85789974737274 0.9657976639396387 0.8905050505050506\n",
            "Epoch: 0 / 30, ############## the best accuracy in val  50.0000 at Epoch: -1  ##############\n",
            "Performance in Val: Loss: (0.0515); Accuracy (94.57)\n"
          ]
        },
        {
          "output_type": "stream",
          "name": "stderr",
          "text": [
            "Epoch 1: 100%|██████████| 2870/2870 [00:21<00:00, 133.78batch/s, train_loss=tensor(0.0922, device='cuda:0', grad_fn=<MseLossBackward0>)]\n"
          ]
        },
        {
          "output_type": "stream",
          "name": "stdout",
          "text": [
            "0.051929799804034144 0.9483069525145261 0.9155586567033518 0.9530315969257045 0.846095526914329 0.846095526914329 0.8648204177922014 0.9619773884619133 0.8963855421686746\n",
            "Epoch: 1 / 30, ############## the best accuracy in val  94.5702 at Epoch: 0  ##############\n",
            "Performance in Val: Loss: (0.0519); Accuracy (94.83)\n"
          ]
        },
        {
          "output_type": "stream",
          "name": "stderr",
          "text": [
            "Epoch 2: 100%|██████████| 2870/2870 [00:21<00:00, 132.89batch/s, train_loss=tensor(0.1350, device='cuda:0', grad_fn=<MseLossBackward0>)]\n"
          ]
        },
        {
          "output_type": "stream",
          "name": "stdout",
          "text": [
            "0.05120697501861753 0.9463033460228412 0.9134682724913739 0.9472340425531914 0.8438210765731615 0.8438210765731615 0.8594543280283357 0.9646395855115697 0.8925421010425021\n",
            "Epoch: 2 / 30, ############## the best accuracy in val  94.8307 at Epoch: 1  ##############\n",
            "Performance in Val: Loss: (0.0512); Accuracy (94.63)\n"
          ]
        },
        {
          "output_type": "stream",
          "name": "stderr",
          "text": [
            "Epoch 3: 100%|██████████| 2870/2870 [00:21<00:00, 134.97batch/s, train_loss=tensor(0.0968, device='cuda:0', grad_fn=<MseLossBackward0>)]\n"
          ]
        },
        {
          "output_type": "stream",
          "name": "stdout",
          "text": [
            "0.05151715722660391 0.9489080344620316 0.9162100629148973 0.9547008547008548 0.8468536770280516 0.8468536770280516 0.8664327429361277 0.9622974137005488 0.8975492165528326\n",
            "Epoch: 3 / 30, ############## the best accuracy in val  94.8307 at Epoch: 1  ##############\n",
            "Performance in Val: Loss: (0.0515); Accuracy (94.89)\n"
          ]
        },
        {
          "output_type": "stream",
          "name": "stderr",
          "text": [
            "Epoch 4: 100%|██████████| 2870/2870 [00:21<00:00, 134.25batch/s, train_loss=tensor(0.0638, device='cuda:0', grad_fn=<MseLossBackward0>)]\n"
          ]
        },
        {
          "output_type": "stream",
          "name": "stdout",
          "text": [
            "0.051118116261652455 0.9489080344620316 0.9159671534353779 0.9554794520547946 0.846095526914329 0.846095526914329 0.8664414041794476 0.9655048924632611 0.8974668275030158\n",
            "Epoch: 4 / 30, ############## the best accuracy in val  94.8908 at Epoch: 3  ##############\n",
            "Performance in Val: Loss: (0.0511); Accuracy (94.89)\n"
          ]
        },
        {
          "output_type": "stream",
          "name": "stderr",
          "text": [
            "Epoch 5: 100%|██████████| 2870/2870 [00:21<00:00, 135.03batch/s, train_loss=tensor(0.0551, device='cuda:0', grad_fn=<MseLossBackward0>)]\n"
          ]
        },
        {
          "output_type": "stream",
          "name": "stdout",
          "text": [
            "0.050682987744669214 0.9471047886195151 0.9135271158417035 0.9520137103684662 0.8423047763457164 0.8423047763457164 0.8616152008536149 0.966832687501755 0.8938053097345133\n",
            "Epoch: 5 / 30, ############## the best accuracy in val  94.8908 at Epoch: 3  ##############\n",
            "Performance in Val: Loss: (0.0507); Accuracy (94.71)\n"
          ]
        },
        {
          "output_type": "stream",
          "name": "stderr",
          "text": [
            "Epoch 6: 100%|██████████| 2870/2870 [00:21<00:00, 133.39batch/s, train_loss=tensor(0.1989, device='cuda:0', grad_fn=<MseLossBackward0>)]\n"
          ]
        },
        {
          "output_type": "stream",
          "name": "stdout",
          "text": [
            "0.05150249845405014 0.9473051492686836 0.9141491003780841 0.9512820512820512 0.8438210765731615 0.8438210765731615 0.8621423963468267 0.96530833502637 0.8943350743270391\n",
            "Epoch: 6 / 30, ############## the best accuracy in val  94.8908 at Epoch: 3  ##############\n",
            "Performance in Val: Loss: (0.0515); Accuracy (94.73)\n"
          ]
        },
        {
          "output_type": "stream",
          "name": "stderr",
          "text": [
            "Epoch 7: 100%|██████████| 2870/2870 [00:22<00:00, 129.16batch/s, train_loss=tensor(0.0675, device='cuda:0', grad_fn=<MseLossBackward0>)]\n"
          ]
        },
        {
          "output_type": "stream",
          "name": "stdout",
          "text": [
            "0.05114199211619472 0.9495091164095372 0.9180760165240387 0.9525021204410518 0.8514025777103866 0.8514025777103866 0.8680118128454698 0.9664011695993366 0.8991192954363492\n",
            "Epoch: 7 / 30, ############## the best accuracy in val  94.8908 at Epoch: 3  ##############\n",
            "Performance in Val: Loss: (0.0511); Accuracy (94.95)\n"
          ]
        },
        {
          "output_type": "stream",
          "name": "stderr",
          "text": [
            "Epoch 8: 100%|██████████| 2870/2870 [00:21<00:00, 131.30batch/s, train_loss=tensor(0.0460, device='cuda:0', grad_fn=<MseLossBackward0>)]\n"
          ]
        },
        {
          "output_type": "stream",
          "name": "stdout",
          "text": [
            "0.05009314163367097 0.9487076738128631 0.9180171731737089 0.9477674810446504 0.8529188779378317 0.8529188779378317 0.865869097468872 0.9688853913227325 0.8978451715881883\n",
            "Epoch: 8 / 30, ############## the best accuracy in val  94.9509 at Epoch: 7  ##############\n",
            "Performance in Val: Loss: (0.0501); Accuracy (94.87)\n"
          ]
        },
        {
          "output_type": "stream",
          "name": "stderr",
          "text": [
            "Epoch 9: 100%|██████████| 2870/2870 [00:21<00:00, 131.99batch/s, train_loss=tensor(0.1702, device='cuda:0', grad_fn=<MseLossBackward0>)]\n"
          ]
        },
        {
          "output_type": "stream",
          "name": "stdout",
          "text": [
            "0.05078221965754309 0.9487076738128631 0.919231720571305 0.9440267335004177 0.8567096285064443 0.8567096285064443 0.8658888089680561 0.9661172762424824 0.8982511923688394\n",
            "Epoch: 9 / 30, ############## the best accuracy in val  94.9509 at Epoch: 7  ##############\n",
            "Performance in Val: Loss: (0.0508); Accuracy (94.87)\n"
          ]
        },
        {
          "output_type": "stream",
          "name": "stderr",
          "text": [
            "Epoch 10: 100%|██████████| 2870/2870 [00:21<00:00, 132.06batch/s, train_loss=tensor(0.0892, device='cuda:0', grad_fn=<MseLossBackward0>)]\n"
          ]
        },
        {
          "output_type": "stream",
          "name": "stdout",
          "text": [
            "0.049887026010158785 0.9477058705670206 0.9163647073689218 0.9467905405405406 0.8498862774829417 0.8498862774829417 0.8631978502217501 0.969219249910393 0.895725129844187\n",
            "Epoch: 10 / 30, ############## the best accuracy in val  94.9509 at Epoch: 7  ##############\n",
            "Performance in Val: Loss: (0.0499); Accuracy (94.77)\n"
          ]
        },
        {
          "output_type": "stream",
          "name": "stderr",
          "text": [
            "Epoch 11: 100%|██████████| 2870/2870 [00:21<00:00, 130.81batch/s, train_loss=tensor(0.0106, device='cuda:0', grad_fn=<MseLossBackward0>)]\n"
          ]
        },
        {
          "output_type": "stream",
          "name": "stdout",
          "text": [
            "0.05032913002091496 0.9475055099178521 0.916471451271099 0.945240101095198 0.8506444275966641 0.8506444275966641 0.8626673322911659 0.9701116041564465 0.8954509177972866\n",
            "Epoch: 11 / 30, ############## the best accuracy in val  94.9509 at Epoch: 7  ##############\n",
            "Performance in Val: Loss: (0.0503); Accuracy (94.75)\n"
          ]
        },
        {
          "output_type": "stream",
          "name": "stderr",
          "text": [
            "Epoch 12: 100%|██████████| 2870/2870 [00:21<00:00, 132.40batch/s, train_loss=tensor(0.0198, device='cuda:0', grad_fn=<MseLossBackward0>)]\n"
          ]
        },
        {
          "output_type": "stream",
          "name": "stdout",
          "text": [
            "0.0502876937908019 0.9481065918653576 0.9180944954007211 0.9438860971524288 0.8544351781652767 0.8544351781652767 0.8642824959119254 0.9676451386720977 0.8969359331476322\n",
            "Epoch: 12 / 30, ############## the best accuracy in val  94.9509 at Epoch: 7  ##############\n",
            "Performance in Val: Loss: (0.0503); Accuracy (94.81)\n"
          ]
        },
        {
          "output_type": "stream",
          "name": "stderr",
          "text": [
            "Epoch 13: 100%|██████████| 2870/2870 [00:21<00:00, 130.91batch/s, train_loss=tensor(0.1033, device='cuda:0', grad_fn=<MseLossBackward0>)]\n"
          ]
        },
        {
          "output_type": "stream",
          "name": "stdout",
          "text": [
            "0.050468268375903465 0.9507112803045482 0.9210791953037638 0.9504617968094039 0.8582259287338894 0.8582259287338894 0.8712039482761151 0.9679641315712537 0.90199203187251\n",
            "Epoch: 13 / 30, ############## the best accuracy in val  94.9509 at Epoch: 7  ##############\n",
            "Performance in Val: Loss: (0.0505); Accuracy (95.07)\n"
          ]
        },
        {
          "output_type": "stream",
          "name": "stderr",
          "text": [
            "Epoch 14: 100%|██████████| 2870/2870 [00:21<00:00, 132.58batch/s, train_loss=tensor(0.0509, device='cuda:0', grad_fn=<MseLossBackward0>)]\n"
          ]
        },
        {
          "output_type": "stream",
          "name": "stdout",
          "text": [
            "0.05032166185153004 0.9489080344620316 0.9179104292715317 0.9493243243243243 0.8521607278241091 0.8521607278241091 0.8664024057466527 0.9660685498190515 0.8981222532960447\n",
            "Epoch: 14 / 30, ############## the best accuracy in val  95.0711 at Epoch: 13  ##############\n",
            "Performance in Val: Loss: (0.0503); Accuracy (94.89)\n"
          ]
        },
        {
          "output_type": "stream",
          "name": "stderr",
          "text": [
            "Epoch 15: 100%|██████████| 2870/2870 [00:21<00:00, 130.67batch/s, train_loss=tensor(0.0809, device='cuda:0', grad_fn=<MseLossBackward0>)]\n"
          ]
        },
        {
          "output_type": "stream",
          "name": "stdout",
          "text": [
            "0.05090582962834443 0.9469044279703466 0.9160629545390728 0.9428571428571428 0.8506444275966641 0.8506444275966641 0.8610737759238507 0.9649620883649559 0.8943802311677961\n",
            "Epoch: 15 / 30, ############## the best accuracy in val  95.0711 at Epoch: 13  ##############\n",
            "Performance in Val: Loss: (0.0509); Accuracy (94.69)\n"
          ]
        },
        {
          "output_type": "stream",
          "name": "stderr",
          "text": [
            "Epoch 16: 100%|██████████| 2870/2870 [00:21<00:00, 132.49batch/s, train_loss=tensor(0.0500, device='cuda:0', grad_fn=<MseLossBackward0>)]\n"
          ]
        },
        {
          "output_type": "stream",
          "name": "stdout",
          "text": [
            "0.05002001907604818 0.9485073131636946 0.9190955549939629 0.9432387312186978 0.8567096285064443 0.8567096285064443 0.8653602735268242 0.9699503527297534 0.8978943186332936\n",
            "Epoch: 16 / 30, ############## the best accuracy in val  95.0711 at Epoch: 13  ##############\n",
            "Performance in Val: Loss: (0.0500); Accuracy (94.85)\n"
          ]
        },
        {
          "output_type": "stream",
          "name": "stderr",
          "text": [
            "Epoch 17: 100%|██████████| 2870/2870 [00:21<00:00, 133.00batch/s, train_loss=tensor(0.0429, device='cuda:0', grad_fn=<MseLossBackward0>)]\n"
          ]
        },
        {
          "output_type": "stream",
          "name": "stdout",
          "text": [
            "0.050337099685865 0.9499098377078742 0.9188341666377612 0.9525825571549534 0.8529188779378317 0.8529188779378317 0.869077277751122 0.9654580242508932 0.9\n",
            "Epoch: 17 / 30, ############## the best accuracy in val  95.0711 at Epoch: 13  ##############\n",
            "Performance in Val: Loss: (0.0503); Accuracy (94.99)\n"
          ]
        },
        {
          "output_type": "stream",
          "name": "stderr",
          "text": [
            "Epoch 18: 100%|██████████| 2870/2870 [00:21<00:00, 133.25batch/s, train_loss=tensor(0.0842, device='cuda:0', grad_fn=<MseLossBackward0>)]\n"
          ]
        },
        {
          "output_type": "stream",
          "name": "stdout",
          "text": [
            "0.05087750401491156 0.9499098377078742 0.9198058045558379 0.9495374264087468 0.8559514783927218 0.8559514783927218 0.8690708541095579 0.9673123124239166 0.9003189792663476\n",
            "Epoch: 18 / 30, ############## the best accuracy in val  95.0711 at Epoch: 13  ##############\n",
            "Performance in Val: Loss: (0.0509); Accuracy (94.99)\n"
          ]
        },
        {
          "output_type": "stream",
          "name": "stderr",
          "text": [
            "Epoch 19: 100%|██████████| 2870/2870 [00:21<00:00, 133.32batch/s, train_loss=tensor(0.0596, device='cuda:0', grad_fn=<MseLossBackward0>)]\n"
          ]
        },
        {
          "output_type": "stream",
          "name": "stdout",
          "text": [
            "0.04956499419775075 0.9509116409537167 0.9236444556762979 0.943801652892562 0.8658074298711145 0.8658074298711145 0.871784680223668 0.968491244109471 0.9031237643337289\n",
            "Epoch: 19 / 30, ############## the best accuracy in val  95.0711 at Epoch: 13  ##############\n",
            "Performance in Val: Loss: (0.0496); Accuracy (95.09)\n"
          ]
        },
        {
          "output_type": "stream",
          "name": "stderr",
          "text": [
            "Epoch 20: 100%|██████████| 2870/2870 [00:21<00:00, 131.53batch/s, train_loss=tensor(0.0904, device='cuda:0', grad_fn=<MseLossBackward0>)]\n"
          ]
        },
        {
          "output_type": "stream",
          "name": "stdout",
          "text": [
            "0.05013682945065785 0.9487076738128631 0.9199604490098625 0.941812136325852 0.8589840788476119 0.8589840788476119 0.8659131245577224 0.9685129232385398 0.8984932593180015\n",
            "Epoch: 20 / 30, ############## the best accuracy in val  95.0912 at Epoch: 19  ##############\n",
            "Performance in Val: Loss: (0.0501); Accuracy (94.87)\n"
          ]
        },
        {
          "output_type": "stream",
          "name": "stderr",
          "text": [
            "Epoch 21: 100%|██████████| 2870/2870 [00:21<00:00, 131.72batch/s, train_loss=tensor(0.0611, device='cuda:0', grad_fn=<MseLossBackward0>)]\n"
          ]
        },
        {
          "output_type": "stream",
          "name": "stdout",
          "text": [
            "0.05045531981270939 0.9497094770587057 0.9194267294989766 0.9494949494949495 0.8551933282789992 0.8551933282789992 0.8685372527876551 0.9669309662202005 0.8998803350618269\n",
            "Epoch: 21 / 30, ############## the best accuracy in val  95.0912 at Epoch: 19  ##############\n",
            "Performance in Val: Loss: (0.0505); Accuracy (94.97)\n"
          ]
        },
        {
          "output_type": "stream",
          "name": "stderr",
          "text": [
            "Epoch 22: 100%|██████████| 2870/2870 [00:21<00:00, 131.27batch/s, train_loss=tensor(0.0427, device='cuda:0', grad_fn=<MseLossBackward0>)]\n"
          ]
        },
        {
          "output_type": "stream",
          "name": "stdout",
          "text": [
            "0.05093268021823277 0.9469044279703466 0.9163058640185919 0.9421140939597316 0.8514025777103866 0.8514025777103866 0.86107996314418 0.9664164482236328 0.8944643568299482\n",
            "Epoch: 22 / 30, ############## the best accuracy in val  95.0912 at Epoch: 19  ##############\n",
            "Performance in Val: Loss: (0.0509); Accuracy (94.69)\n"
          ]
        },
        {
          "output_type": "stream",
          "name": "stderr",
          "text": [
            "Epoch 23: 100%|██████████| 2870/2870 [00:21<00:00, 133.28batch/s, train_loss=tensor(0.1085, device='cuda:0', grad_fn=<MseLossBackward0>)]\n"
          ]
        },
        {
          "output_type": "stream",
          "name": "stdout",
          "text": [
            "0.05005441209934174 0.9519134441995593 0.9231107361654122 0.9514644351464435 0.8620166793025019 0.8620166793025019 0.8744011509644837 0.9653095738337454 0.9045346062052507\n",
            "Epoch: 23 / 30, ############## the best accuracy in val  95.0912 at Epoch: 19  ##############\n",
            "Performance in Val: Loss: (0.0501); Accuracy (95.19)\n"
          ]
        },
        {
          "output_type": "stream",
          "name": "stderr",
          "text": [
            "Epoch 24: 100%|██████████| 2870/2870 [00:21<00:00, 131.88batch/s, train_loss=tensor(0.1120, device='cuda:0', grad_fn=<MseLossBackward0>)]\n"
          ]
        },
        {
          "output_type": "stream",
          "name": "stdout",
          "text": [
            "0.050054494969887085 0.9493087557603687 0.9189114888647734 0.9486531986531986 0.8544351781652767 0.8544351781652767 0.8674703067551739 0.968424967914889 0.8990825688073394\n",
            "Epoch: 24 / 30, ############## the best accuracy in val  95.1913 at Epoch: 23  ##############\n",
            "Performance in Val: Loss: (0.0501); Accuracy (94.93)\n"
          ]
        },
        {
          "output_type": "stream",
          "name": "stderr",
          "text": [
            "Epoch 25: 100%|██████████| 2870/2870 [00:21<00:00, 133.22batch/s, train_loss=tensor(0.0846, device='cuda:0', grad_fn=<MseLossBackward0>)]\n"
          ]
        },
        {
          "output_type": "stream",
          "name": "stdout",
          "text": [
            "0.05030712384308199 0.9513123622520537 0.92148769203579 0.9528619528619529 0.8582259287338894 0.8582259287338894 0.87280503691758 0.9665452841906705 0.9030714000797766\n",
            "Epoch: 25 / 30, ############## the best accuracy in val  95.1913 at Epoch: 23  ##############\n",
            "Performance in Val: Loss: (0.0503); Accuracy (95.13)\n"
          ]
        },
        {
          "output_type": "stream",
          "name": "stderr",
          "text": [
            "Epoch 26: 100%|██████████| 2870/2870 [00:21<00:00, 130.57batch/s, train_loss=tensor(0.0772, device='cuda:0', grad_fn=<MseLossBackward0>)]\n"
          ]
        },
        {
          "output_type": "stream",
          "name": "stdout",
          "text": [
            "0.050800266998031966 0.9475055099178521 0.9176859986686949 0.9415204678362573 0.8544351781652767 0.8544351781652767 0.8626962468799039 0.9656843130647929 0.895866454689984\n",
            "Epoch: 26 / 30, ############## the best accuracy in val  95.1913 at Epoch: 23  ##############\n",
            "Performance in Val: Loss: (0.0508); Accuracy (94.75)\n"
          ]
        },
        {
          "output_type": "stream",
          "name": "stderr",
          "text": [
            "Epoch 27: 100%|██████████| 2870/2870 [00:21<00:00, 132.57batch/s, train_loss=tensor(0.0170, device='cuda:0', grad_fn=<MseLossBackward0>)]\n"
          ]
        },
        {
          "output_type": "stream",
          "name": "stdout",
          "text": [
            "0.0495713131236605 0.9509116409537167 0.9212153608811059 0.9512605042016806 0.8582259287338894 0.8582259287338894 0.8717370708306117 0.9674884295391142 0.9023515344758868\n",
            "Epoch: 27 / 30, ############## the best accuracy in val  95.1913 at Epoch: 23  ##############\n",
            "Performance in Val: Loss: (0.0496); Accuracy (95.09)\n"
          ]
        },
        {
          "output_type": "stream",
          "name": "stderr",
          "text": [
            "Epoch 28: 100%|██████████| 2870/2870 [00:21<00:00, 132.77batch/s, train_loss=tensor(0.0422, device='cuda:0', grad_fn=<MseLossBackward0>)]\n"
          ]
        },
        {
          "output_type": "stream",
          "name": "stdout",
          "text": [
            "0.049515249906854034 0.9503105590062112 0.9208068641490798 0.9488683989941324 0.8582259287338894 0.8582259287338894 0.8701394180878292 0.9667061226815721 0.9012738853503185\n",
            "Epoch: 28 / 30, ############## the best accuracy in val  95.1913 at Epoch: 23  ##############\n",
            "Performance in Val: Loss: (0.0495); Accuracy (95.03)\n"
          ]
        },
        {
          "output_type": "stream",
          "name": "stderr",
          "text": [
            "Epoch 29: 100%|██████████| 2870/2870 [00:21<00:00, 133.59batch/s, train_loss=tensor(0.0451, device='cuda:0', grad_fn=<MseLossBackward0>)]\n"
          ]
        },
        {
          "output_type": "stream",
          "name": "stdout",
          "text": [
            "0.05076349085384908 0.9499098377078742 0.9200487140353573 0.9487825356842989 0.8567096285064443 0.8567096285064443 0.8690719043288648 0.9657028951754234 0.900398406374502\n",
            "Epoch: 29 / 30, ############## the best accuracy in val  95.1913 at Epoch: 23  ##############\n",
            "Performance in Val: Loss: (0.0508); Accuracy (94.99)\n"
          ]
        }
      ],
      "source": [
        "initial_epoch = 0\n",
        "best_epoch = -1\n",
        "best_accuracy = 0.5\n",
        "for epoch in range(initial_epoch, 30):\n",
        "    torch.cuda.empty_cache()\n",
        "    model.train()\n",
        "    with tqdm(train_loader, desc='Processing', unit=\"batch\") as tepoch:\n",
        "        for ESP_train_df_enzy,ESP_train_df_smiles, y_train in tepoch:\n",
        "            model.train()\n",
        "            tepoch.set_description(f\"Epoch {epoch}\")\n",
        "            ESP_train_df_enzy = ESP_train_df_enzy.to(device)\n",
        "            ESP_train_df_smiles = ESP_train_df_smiles.to(device)\n",
        "            y_train = y_train.squeeze(1).to(device)\n",
        "            refined_enzy_embed, refined_smiles_embed = model(ESP_train_df_enzy,ESP_train_df_smiles)\n",
        "            cosine_sim = torch.nn.functional.cosine_similarity(refined_enzy_embed, refined_smiles_embed, dim=1)\n",
        "            loss = loss_fn(cosine_sim, y_train)\n",
        "            loss.backward()\n",
        "            optimizer.step()\n",
        "            optimizer.zero_grad(set_to_none=True) #\n",
        "            tepoch.set_postfix(train_loss=loss)\n",
        "            # tepoch.set_postfix(val_loss=loss_sum_val, val_accuracy=100. * acc_val, balanced_val_accuracy=100. * bacc_val)\n",
        "        loss_sum_val,acc_val, bacc_val = run_validation(model,val_loader,loss_fn, device)\n",
        "        print('Epoch: %d / %d, ############## the best accuracy in val  %.4f at Epoch: %d  ##############'  % (epoch, 30,100 * best_accuracy,best_epoch))\n",
        "        # print('Performance in Train: Loss: (%.4f); Accuracy (%.2f)' % (loss_sum, 100 * acc))\n",
        "        print('Performance in Val: Loss: (%.4f); Accuracy (%.2f)' % (loss_sum_val, 100 * acc_val))\n",
        "        # checkpoint(model, f\"epoch-{epoch}.pth\")\n",
        "        if acc_val > best_accuracy: # compare the performance updates at the val set\n",
        "            best_accuracy = acc_val\n",
        "            best_epoch = epoch\n",
        "            torch.save(model, \"best_model.pt\")\n",
        "\n"
      ]
    },
    {
      "cell_type": "code",
      "execution_count": null,
      "metadata": {
        "colab": {
          "base_uri": "https://localhost:8080/"
        },
        "outputId": "f4e2ee3c-bb5e-4489-86bf-5bbc9f27fed6",
        "id": "BYrnmoAlZ0zh"
      },
      "outputs": [
        {
          "output_type": "stream",
          "name": "stdout",
          "text": [
            "0.05005441209934174 0.9519134441995593 0.9231107361654122 0.9514644351464435 0.8620166793025019 0.8620166793025019 0.8744011509644837 0.9653095738337454 0.9045346062052507\n"
          ]
        },
        {
          "output_type": "execute_result",
          "data": {
            "text/plain": [
              "(0.05005441209934174, 0.9519134441995593, 0.9231107361654122)"
            ]
          },
          "metadata": {},
          "execution_count": 30
        }
      ],
      "source": [
        "import torch\n",
        "# Specify the file path where the entire model is saved\n",
        "load_path = 'best_model.pt'\n",
        "\n",
        "# Load the entire model\n",
        "model_test = torch.load(load_path)\n",
        "# model_test.to('cuda')\n",
        "# rename the baseline model\n",
        "torch.save(model_test, 'best_model_esm1b_ChemBERTa_fine_tuned.pt')\n",
        "run_validation(model_test,val_loader,loss_fn, device)"
      ]
    },
    {
      "cell_type": "code",
      "execution_count": null,
      "metadata": {
        "colab": {
          "base_uri": "https://localhost:8080/"
        },
        "outputId": "f4b89b02-a6f0-4749-89a5-fbca608730b2",
        "id": "Hu7kmMAaZ0zh"
      },
      "outputs": [
        {
          "output_type": "stream",
          "name": "stdout",
          "text": [
            "0.05005441209934174 0.9519134441995593 0.9231107361654122 0.9514644351464435 0.8620166793025019 0.8620166793025019 0.8744011509644837 0.9653095738337454 0.9045346062052507\n",
            "0.05429921413747045 0.9435431537962362 0.9104754162083061 0.9391961525249055 0.8404549646480172 0.8404549646480172 0.8519323467046971 0.9618630990338225 0.8870863075924723\n"
          ]
        },
        {
          "output_type": "execute_result",
          "data": {
            "text/plain": [
              "(0.05429921413747045, 0.9435431537962362, 0.9104754162083061)"
            ]
          },
          "metadata": {},
          "execution_count": 31
        }
      ],
      "source": [
        "run_validation(model_test,val_loader,loss_fn, device)\n",
        "run_validation(model_test,test_loader,loss_fn, device)"
      ]
    },
    {
      "cell_type": "code",
      "source": [],
      "metadata": {
        "id": "4rCfqNp6fguC"
      },
      "execution_count": null,
      "outputs": []
    }
  ],
  "metadata": {
    "accelerator": "GPU",
    "colab": {
      "collapsed_sections": [
        "v8nCDCK9tS_5",
        "c4bBsyrrtS_6",
        "W3wzb85TDrSx",
        "Kb_LgmlRDpwy",
        "N1hUdIn1DmEw"
      ],
      "gpuType": "T4",
      "machine_shape": "hm",
      "provenance": []
    },
    "kernelspec": {
      "display_name": "Python 3",
      "name": "python3"
    },
    "language_info": {
      "name": "python"
    }
  },
  "nbformat": 4,
  "nbformat_minor": 0
}